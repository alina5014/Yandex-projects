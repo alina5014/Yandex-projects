{
 "cells": [
  {
   "cell_type": "markdown",
   "id": "b7e227e7",
   "metadata": {},
   "source": [
    "# Customer churn of a telecom company"
   ]
  },
  {
   "cell_type": "markdown",
   "id": "50964553",
   "metadata": {},
   "source": [
    "We have the data of the telecom operator \"Niedinogorazryva.com\"  at our disposal. It contains personal data about some customers, information about their tariffs and contracts. If the user plans to leave, he or she will be offered promotional codes and special conditions.\n",
    "\n",
    "The purpose of our research: using machine learning, affects the outflow of customers must be predicted and determined. In the future  it will allow us to develop a system of promotional codes and special conditions and reduce the outflow of customers. The study must be completed within 2 weeks, the AUC-ROC must be greater than 0.87."
   ]
  },
  {
   "cell_type": "markdown",
   "id": "c9b9a14b",
   "metadata": {},
   "source": [
    "### Description of services\n",
    "\n",
    "The operator provides two main types of services:\n",
    "\n",
    "1. Fixed telephone connection. It is possible to connect a telephone set to several lines at the same time.\n",
    "2. Internet. The connection can be of two types: via a telephone line (DSL *, * from the English * digital subscriber line *, \"digital subscriber line\") or fiber optic cable (* Fiber optic *).\n",
    "\n",
    "The following services are also available:\n",
    "\n",
    "- Internet security: antivirus (*DeviceProtection*) and blocking of unsafe sites (*OnlineSecurity*);\n",
    "- Dedicated technical support line (*TechSupport*);\n",
    "- Cloud file storage for data backup (*OnlineBackup*);\n",
    "- Streaming TV (*StreamingTV*) and movie catalog (*StreamingMovies*).\n",
    "\n",
    "Clients can pay for services every month or sign a contract for 1-2 years. Various payment methods and the possibility of receiving an electronic check are available.\n",
    "\n",
    "### Description of data\n",
    "\n",
    "The data consists of files obtained from various sources:\n",
    "\n",
    "- `contract.csv` - information about the contract;\n",
    "- `personal.csv` - personal data of the client;\n",
    "- `internet.csv` - information about Internet services;\n",
    "- `phone.csv` - information about telephony services.\n",
    "\n",
    "In all files, the `customerID` column contains the customer ID.\n",
    "\n",
    "Information about contracts is current as of February 1, 2020.\n"
   ]
  },
  {
   "cell_type": "markdown",
   "id": "3c3829fc",
   "metadata": {},
   "source": [
    "### Work plan\n",
    "\n",
    "1. **Data preparation**\n",
    "\n",
    "\n",
    "      1. Download data\n",
    "      2. Examine the data, look for duplicates, gaps and data format, and make changes if necessary.\n",
    "     \n",
    "     \n",
    "2. **Exploratory data analysis**\n",
    "\n",
    "\n",
    "     1. Study the distribution of the target feature\n",
    "     2. Study quantitative signs\n",
    "     3. Check data for outliers\n",
    "     4. Look at feature correlation\n",
    "    \n",
    "    \n",
    "3. **Model training**\n",
    "\n",
    "\n",
    "     1. Prepare data for training\n",
    "     2. Choose learning models\n",
    "     3. Study the quality of the models\n",
    "     4. Choose the best model\n",
    "    \n",
    "    \n",
    "4. **General conclusions**\n",
    "\n",
    "\n",
    "5. **Report**"
   ]
  },
  {
   "cell_type": "markdown",
   "id": "3df90c24",
   "metadata": {},
   "source": [
    "## Data preparation"
   ]
  },
  {
   "cell_type": "code",
   "execution_count": 1,
   "id": "a19d894c",
   "metadata": {},
   "outputs": [],
   "source": [
    "import pandas as pd\n",
    "import seaborn as sns\n",
    "import numpy as np\n",
    "import time\n",
    "import matplotlib.pyplot as plt\n",
    "\n",
    "from sklearn.preprocessing import OrdinalEncoder, StandardScaler\n",
    "from sklearn.model_selection import GridSearchCV\n",
    "from sklearn.model_selection import train_test_split\n",
    "from sklearn.metrics import roc_auc_score, roc_curve, confusion_matrix, accuracy_score\n",
    "\n",
    "from lightgbm import LGBMClassifier\n",
    "from catboost import CatBoostClassifier, Pool\n",
    "from sklearn.ensemble import RandomForestClassifier"
   ]
  },
  {
   "cell_type": "markdown",
   "id": "99363aa4",
   "metadata": {},
   "source": [
    "Loading the data"
   ]
  },
  {
   "cell_type": "code",
   "execution_count": 2,
   "id": "d8ec6d97",
   "metadata": {},
   "outputs": [],
   "source": [
    "try: \n",
    "    contract = pd.read_csv('/datasets/final_provider/contract.csv')\n",
    "    personal = pd.read_csv('/datasets/final_provider/personal.csv')\n",
    "    internet = pd.read_csv('/datasets/final_provider/internet.csv')\n",
    "    phone = pd.read_csv('/datasets/final_provider/phone.csv')\n",
    "except:    \n",
    "    contract = pd.read_csv('contract.csv')\n",
    "    personal = pd.read_csv('personal.csv')\n",
    "    internet = pd.read_csv('internet.csv')\n",
    "    phone = pd.read_csv('phone.csv')"
   ]
  },
  {
   "cell_type": "code",
   "execution_count": 3,
   "id": "bb866453",
   "metadata": {},
   "outputs": [],
   "source": [
    "tables = [contract, personal, internet, phone]\n",
    "tables_name = ['contract', 'personal', 'internet', 'phone']"
   ]
  },
  {
   "cell_type": "code",
   "execution_count": 4,
   "id": "cd4d9e18",
   "metadata": {},
   "outputs": [
    {
     "name": "stdout",
     "output_type": "stream",
     "text": [
      "<class 'pandas.core.frame.DataFrame'>\n",
      "RangeIndex: 7043 entries, 0 to 7042\n",
      "Data columns (total 8 columns):\n",
      " #   Column            Non-Null Count  Dtype  \n",
      "---  ------            --------------  -----  \n",
      " 0   customerID        7043 non-null   object \n",
      " 1   BeginDate         7043 non-null   object \n",
      " 2   EndDate           7043 non-null   object \n",
      " 3   Type              7043 non-null   object \n",
      " 4   PaperlessBilling  7043 non-null   object \n",
      " 5   PaymentMethod     7043 non-null   object \n",
      " 6   MonthlyCharges    7043 non-null   float64\n",
      " 7   TotalCharges      7043 non-null   object \n",
      "dtypes: float64(1), object(7)\n",
      "memory usage: 440.3+ KB\n"
     ]
    },
    {
     "data": {
      "text/plain": [
       "None"
      ]
     },
     "metadata": {},
     "output_type": "display_data"
    },
    {
     "name": "stdout",
     "output_type": "stream",
     "text": [
      "====================================================================================================\n"
     ]
    },
    {
     "data": {
      "text/html": [
       "<div>\n",
       "<style scoped>\n",
       "    .dataframe tbody tr th:only-of-type {\n",
       "        vertical-align: middle;\n",
       "    }\n",
       "\n",
       "    .dataframe tbody tr th {\n",
       "        vertical-align: top;\n",
       "    }\n",
       "\n",
       "    .dataframe thead th {\n",
       "        text-align: right;\n",
       "    }\n",
       "</style>\n",
       "<table border=\"1\" class=\"dataframe\">\n",
       "  <thead>\n",
       "    <tr style=\"text-align: right;\">\n",
       "      <th></th>\n",
       "      <th>MonthlyCharges</th>\n",
       "    </tr>\n",
       "  </thead>\n",
       "  <tbody>\n",
       "    <tr>\n",
       "      <th>count</th>\n",
       "      <td>7043.000000</td>\n",
       "    </tr>\n",
       "    <tr>\n",
       "      <th>mean</th>\n",
       "      <td>64.761692</td>\n",
       "    </tr>\n",
       "    <tr>\n",
       "      <th>std</th>\n",
       "      <td>30.090047</td>\n",
       "    </tr>\n",
       "    <tr>\n",
       "      <th>min</th>\n",
       "      <td>18.250000</td>\n",
       "    </tr>\n",
       "    <tr>\n",
       "      <th>25%</th>\n",
       "      <td>35.500000</td>\n",
       "    </tr>\n",
       "    <tr>\n",
       "      <th>50%</th>\n",
       "      <td>70.350000</td>\n",
       "    </tr>\n",
       "    <tr>\n",
       "      <th>75%</th>\n",
       "      <td>89.850000</td>\n",
       "    </tr>\n",
       "    <tr>\n",
       "      <th>max</th>\n",
       "      <td>118.750000</td>\n",
       "    </tr>\n",
       "  </tbody>\n",
       "</table>\n",
       "</div>"
      ],
      "text/plain": [
       "       MonthlyCharges\n",
       "count     7043.000000\n",
       "mean        64.761692\n",
       "std         30.090047\n",
       "min         18.250000\n",
       "25%         35.500000\n",
       "50%         70.350000\n",
       "75%         89.850000\n",
       "max        118.750000"
      ]
     },
     "metadata": {},
     "output_type": "display_data"
    },
    {
     "name": "stdout",
     "output_type": "stream",
     "text": [
      "====================================================================================================\n"
     ]
    },
    {
     "data": {
      "text/html": [
       "<div>\n",
       "<style scoped>\n",
       "    .dataframe tbody tr th:only-of-type {\n",
       "        vertical-align: middle;\n",
       "    }\n",
       "\n",
       "    .dataframe tbody tr th {\n",
       "        vertical-align: top;\n",
       "    }\n",
       "\n",
       "    .dataframe thead th {\n",
       "        text-align: right;\n",
       "    }\n",
       "</style>\n",
       "<table border=\"1\" class=\"dataframe\">\n",
       "  <thead>\n",
       "    <tr style=\"text-align: right;\">\n",
       "      <th></th>\n",
       "      <th>customerID</th>\n",
       "      <th>BeginDate</th>\n",
       "      <th>EndDate</th>\n",
       "      <th>Type</th>\n",
       "      <th>PaperlessBilling</th>\n",
       "      <th>PaymentMethod</th>\n",
       "      <th>MonthlyCharges</th>\n",
       "      <th>TotalCharges</th>\n",
       "    </tr>\n",
       "  </thead>\n",
       "  <tbody>\n",
       "    <tr>\n",
       "      <th>0</th>\n",
       "      <td>7590-VHVEG</td>\n",
       "      <td>2020-01-01</td>\n",
       "      <td>No</td>\n",
       "      <td>Month-to-month</td>\n",
       "      <td>Yes</td>\n",
       "      <td>Electronic check</td>\n",
       "      <td>29.85</td>\n",
       "      <td>29.85</td>\n",
       "    </tr>\n",
       "    <tr>\n",
       "      <th>1</th>\n",
       "      <td>5575-GNVDE</td>\n",
       "      <td>2017-04-01</td>\n",
       "      <td>No</td>\n",
       "      <td>One year</td>\n",
       "      <td>No</td>\n",
       "      <td>Mailed check</td>\n",
       "      <td>56.95</td>\n",
       "      <td>1889.5</td>\n",
       "    </tr>\n",
       "    <tr>\n",
       "      <th>2</th>\n",
       "      <td>3668-QPYBK</td>\n",
       "      <td>2019-10-01</td>\n",
       "      <td>2019-12-01 00:00:00</td>\n",
       "      <td>Month-to-month</td>\n",
       "      <td>Yes</td>\n",
       "      <td>Mailed check</td>\n",
       "      <td>53.85</td>\n",
       "      <td>108.15</td>\n",
       "    </tr>\n",
       "    <tr>\n",
       "      <th>3</th>\n",
       "      <td>7795-CFOCW</td>\n",
       "      <td>2016-05-01</td>\n",
       "      <td>No</td>\n",
       "      <td>One year</td>\n",
       "      <td>No</td>\n",
       "      <td>Bank transfer (automatic)</td>\n",
       "      <td>42.30</td>\n",
       "      <td>1840.75</td>\n",
       "    </tr>\n",
       "    <tr>\n",
       "      <th>4</th>\n",
       "      <td>9237-HQITU</td>\n",
       "      <td>2019-09-01</td>\n",
       "      <td>2019-11-01 00:00:00</td>\n",
       "      <td>Month-to-month</td>\n",
       "      <td>Yes</td>\n",
       "      <td>Electronic check</td>\n",
       "      <td>70.70</td>\n",
       "      <td>151.65</td>\n",
       "    </tr>\n",
       "  </tbody>\n",
       "</table>\n",
       "</div>"
      ],
      "text/plain": [
       "   customerID   BeginDate              EndDate            Type  \\\n",
       "0  7590-VHVEG  2020-01-01                   No  Month-to-month   \n",
       "1  5575-GNVDE  2017-04-01                   No        One year   \n",
       "2  3668-QPYBK  2019-10-01  2019-12-01 00:00:00  Month-to-month   \n",
       "3  7795-CFOCW  2016-05-01                   No        One year   \n",
       "4  9237-HQITU  2019-09-01  2019-11-01 00:00:00  Month-to-month   \n",
       "\n",
       "  PaperlessBilling              PaymentMethod  MonthlyCharges TotalCharges  \n",
       "0              Yes           Electronic check           29.85        29.85  \n",
       "1               No               Mailed check           56.95       1889.5  \n",
       "2              Yes               Mailed check           53.85       108.15  \n",
       "3               No  Bank transfer (automatic)           42.30      1840.75  \n",
       "4              Yes           Electronic check           70.70       151.65  "
      ]
     },
     "metadata": {},
     "output_type": "display_data"
    },
    {
     "name": "stdout",
     "output_type": "stream",
     "text": [
      "====================================================================================================\n"
     ]
    },
    {
     "data": {
      "text/plain": [
       "(7043, 8)"
      ]
     },
     "metadata": {},
     "output_type": "display_data"
    },
    {
     "name": "stdout",
     "output_type": "stream",
     "text": [
      "<class 'pandas.core.frame.DataFrame'>\n",
      "RangeIndex: 7043 entries, 0 to 7042\n",
      "Data columns (total 5 columns):\n",
      " #   Column         Non-Null Count  Dtype \n",
      "---  ------         --------------  ----- \n",
      " 0   customerID     7043 non-null   object\n",
      " 1   gender         7043 non-null   object\n",
      " 2   SeniorCitizen  7043 non-null   int64 \n",
      " 3   Partner        7043 non-null   object\n",
      " 4   Dependents     7043 non-null   object\n",
      "dtypes: int64(1), object(4)\n",
      "memory usage: 275.2+ KB\n"
     ]
    },
    {
     "data": {
      "text/plain": [
       "None"
      ]
     },
     "metadata": {},
     "output_type": "display_data"
    },
    {
     "name": "stdout",
     "output_type": "stream",
     "text": [
      "====================================================================================================\n"
     ]
    },
    {
     "data": {
      "text/html": [
       "<div>\n",
       "<style scoped>\n",
       "    .dataframe tbody tr th:only-of-type {\n",
       "        vertical-align: middle;\n",
       "    }\n",
       "\n",
       "    .dataframe tbody tr th {\n",
       "        vertical-align: top;\n",
       "    }\n",
       "\n",
       "    .dataframe thead th {\n",
       "        text-align: right;\n",
       "    }\n",
       "</style>\n",
       "<table border=\"1\" class=\"dataframe\">\n",
       "  <thead>\n",
       "    <tr style=\"text-align: right;\">\n",
       "      <th></th>\n",
       "      <th>SeniorCitizen</th>\n",
       "    </tr>\n",
       "  </thead>\n",
       "  <tbody>\n",
       "    <tr>\n",
       "      <th>count</th>\n",
       "      <td>7043.000000</td>\n",
       "    </tr>\n",
       "    <tr>\n",
       "      <th>mean</th>\n",
       "      <td>0.162147</td>\n",
       "    </tr>\n",
       "    <tr>\n",
       "      <th>std</th>\n",
       "      <td>0.368612</td>\n",
       "    </tr>\n",
       "    <tr>\n",
       "      <th>min</th>\n",
       "      <td>0.000000</td>\n",
       "    </tr>\n",
       "    <tr>\n",
       "      <th>25%</th>\n",
       "      <td>0.000000</td>\n",
       "    </tr>\n",
       "    <tr>\n",
       "      <th>50%</th>\n",
       "      <td>0.000000</td>\n",
       "    </tr>\n",
       "    <tr>\n",
       "      <th>75%</th>\n",
       "      <td>0.000000</td>\n",
       "    </tr>\n",
       "    <tr>\n",
       "      <th>max</th>\n",
       "      <td>1.000000</td>\n",
       "    </tr>\n",
       "  </tbody>\n",
       "</table>\n",
       "</div>"
      ],
      "text/plain": [
       "       SeniorCitizen\n",
       "count    7043.000000\n",
       "mean        0.162147\n",
       "std         0.368612\n",
       "min         0.000000\n",
       "25%         0.000000\n",
       "50%         0.000000\n",
       "75%         0.000000\n",
       "max         1.000000"
      ]
     },
     "metadata": {},
     "output_type": "display_data"
    },
    {
     "name": "stdout",
     "output_type": "stream",
     "text": [
      "====================================================================================================\n"
     ]
    },
    {
     "data": {
      "text/html": [
       "<div>\n",
       "<style scoped>\n",
       "    .dataframe tbody tr th:only-of-type {\n",
       "        vertical-align: middle;\n",
       "    }\n",
       "\n",
       "    .dataframe tbody tr th {\n",
       "        vertical-align: top;\n",
       "    }\n",
       "\n",
       "    .dataframe thead th {\n",
       "        text-align: right;\n",
       "    }\n",
       "</style>\n",
       "<table border=\"1\" class=\"dataframe\">\n",
       "  <thead>\n",
       "    <tr style=\"text-align: right;\">\n",
       "      <th></th>\n",
       "      <th>customerID</th>\n",
       "      <th>gender</th>\n",
       "      <th>SeniorCitizen</th>\n",
       "      <th>Partner</th>\n",
       "      <th>Dependents</th>\n",
       "    </tr>\n",
       "  </thead>\n",
       "  <tbody>\n",
       "    <tr>\n",
       "      <th>0</th>\n",
       "      <td>7590-VHVEG</td>\n",
       "      <td>Female</td>\n",
       "      <td>0</td>\n",
       "      <td>Yes</td>\n",
       "      <td>No</td>\n",
       "    </tr>\n",
       "    <tr>\n",
       "      <th>1</th>\n",
       "      <td>5575-GNVDE</td>\n",
       "      <td>Male</td>\n",
       "      <td>0</td>\n",
       "      <td>No</td>\n",
       "      <td>No</td>\n",
       "    </tr>\n",
       "    <tr>\n",
       "      <th>2</th>\n",
       "      <td>3668-QPYBK</td>\n",
       "      <td>Male</td>\n",
       "      <td>0</td>\n",
       "      <td>No</td>\n",
       "      <td>No</td>\n",
       "    </tr>\n",
       "    <tr>\n",
       "      <th>3</th>\n",
       "      <td>7795-CFOCW</td>\n",
       "      <td>Male</td>\n",
       "      <td>0</td>\n",
       "      <td>No</td>\n",
       "      <td>No</td>\n",
       "    </tr>\n",
       "    <tr>\n",
       "      <th>4</th>\n",
       "      <td>9237-HQITU</td>\n",
       "      <td>Female</td>\n",
       "      <td>0</td>\n",
       "      <td>No</td>\n",
       "      <td>No</td>\n",
       "    </tr>\n",
       "  </tbody>\n",
       "</table>\n",
       "</div>"
      ],
      "text/plain": [
       "   customerID  gender  SeniorCitizen Partner Dependents\n",
       "0  7590-VHVEG  Female              0     Yes         No\n",
       "1  5575-GNVDE    Male              0      No         No\n",
       "2  3668-QPYBK    Male              0      No         No\n",
       "3  7795-CFOCW    Male              0      No         No\n",
       "4  9237-HQITU  Female              0      No         No"
      ]
     },
     "metadata": {},
     "output_type": "display_data"
    },
    {
     "name": "stdout",
     "output_type": "stream",
     "text": [
      "====================================================================================================\n"
     ]
    },
    {
     "data": {
      "text/plain": [
       "(7043, 5)"
      ]
     },
     "metadata": {},
     "output_type": "display_data"
    },
    {
     "name": "stdout",
     "output_type": "stream",
     "text": [
      "<class 'pandas.core.frame.DataFrame'>\n",
      "RangeIndex: 5517 entries, 0 to 5516\n",
      "Data columns (total 8 columns):\n",
      " #   Column            Non-Null Count  Dtype \n",
      "---  ------            --------------  ----- \n",
      " 0   customerID        5517 non-null   object\n",
      " 1   InternetService   5517 non-null   object\n",
      " 2   OnlineSecurity    5517 non-null   object\n",
      " 3   OnlineBackup      5517 non-null   object\n",
      " 4   DeviceProtection  5517 non-null   object\n",
      " 5   TechSupport       5517 non-null   object\n",
      " 6   StreamingTV       5517 non-null   object\n",
      " 7   StreamingMovies   5517 non-null   object\n",
      "dtypes: object(8)\n",
      "memory usage: 344.9+ KB\n"
     ]
    },
    {
     "data": {
      "text/plain": [
       "None"
      ]
     },
     "metadata": {},
     "output_type": "display_data"
    },
    {
     "name": "stdout",
     "output_type": "stream",
     "text": [
      "====================================================================================================\n"
     ]
    },
    {
     "data": {
      "text/html": [
       "<div>\n",
       "<style scoped>\n",
       "    .dataframe tbody tr th:only-of-type {\n",
       "        vertical-align: middle;\n",
       "    }\n",
       "\n",
       "    .dataframe tbody tr th {\n",
       "        vertical-align: top;\n",
       "    }\n",
       "\n",
       "    .dataframe thead th {\n",
       "        text-align: right;\n",
       "    }\n",
       "</style>\n",
       "<table border=\"1\" class=\"dataframe\">\n",
       "  <thead>\n",
       "    <tr style=\"text-align: right;\">\n",
       "      <th></th>\n",
       "      <th>customerID</th>\n",
       "      <th>InternetService</th>\n",
       "      <th>OnlineSecurity</th>\n",
       "      <th>OnlineBackup</th>\n",
       "      <th>DeviceProtection</th>\n",
       "      <th>TechSupport</th>\n",
       "      <th>StreamingTV</th>\n",
       "      <th>StreamingMovies</th>\n",
       "    </tr>\n",
       "  </thead>\n",
       "  <tbody>\n",
       "    <tr>\n",
       "      <th>count</th>\n",
       "      <td>5517</td>\n",
       "      <td>5517</td>\n",
       "      <td>5517</td>\n",
       "      <td>5517</td>\n",
       "      <td>5517</td>\n",
       "      <td>5517</td>\n",
       "      <td>5517</td>\n",
       "      <td>5517</td>\n",
       "    </tr>\n",
       "    <tr>\n",
       "      <th>unique</th>\n",
       "      <td>5517</td>\n",
       "      <td>2</td>\n",
       "      <td>2</td>\n",
       "      <td>2</td>\n",
       "      <td>2</td>\n",
       "      <td>2</td>\n",
       "      <td>2</td>\n",
       "      <td>2</td>\n",
       "    </tr>\n",
       "    <tr>\n",
       "      <th>top</th>\n",
       "      <td>7590-VHVEG</td>\n",
       "      <td>Fiber optic</td>\n",
       "      <td>No</td>\n",
       "      <td>No</td>\n",
       "      <td>No</td>\n",
       "      <td>No</td>\n",
       "      <td>No</td>\n",
       "      <td>No</td>\n",
       "    </tr>\n",
       "    <tr>\n",
       "      <th>freq</th>\n",
       "      <td>1</td>\n",
       "      <td>3096</td>\n",
       "      <td>3498</td>\n",
       "      <td>3088</td>\n",
       "      <td>3095</td>\n",
       "      <td>3473</td>\n",
       "      <td>2810</td>\n",
       "      <td>2785</td>\n",
       "    </tr>\n",
       "  </tbody>\n",
       "</table>\n",
       "</div>"
      ],
      "text/plain": [
       "        customerID InternetService OnlineSecurity OnlineBackup  \\\n",
       "count         5517            5517           5517         5517   \n",
       "unique        5517               2              2            2   \n",
       "top     7590-VHVEG     Fiber optic             No           No   \n",
       "freq             1            3096           3498         3088   \n",
       "\n",
       "       DeviceProtection TechSupport StreamingTV StreamingMovies  \n",
       "count              5517        5517        5517            5517  \n",
       "unique                2           2           2               2  \n",
       "top                  No          No          No              No  \n",
       "freq               3095        3473        2810            2785  "
      ]
     },
     "metadata": {},
     "output_type": "display_data"
    },
    {
     "name": "stdout",
     "output_type": "stream",
     "text": [
      "====================================================================================================\n"
     ]
    },
    {
     "data": {
      "text/html": [
       "<div>\n",
       "<style scoped>\n",
       "    .dataframe tbody tr th:only-of-type {\n",
       "        vertical-align: middle;\n",
       "    }\n",
       "\n",
       "    .dataframe tbody tr th {\n",
       "        vertical-align: top;\n",
       "    }\n",
       "\n",
       "    .dataframe thead th {\n",
       "        text-align: right;\n",
       "    }\n",
       "</style>\n",
       "<table border=\"1\" class=\"dataframe\">\n",
       "  <thead>\n",
       "    <tr style=\"text-align: right;\">\n",
       "      <th></th>\n",
       "      <th>customerID</th>\n",
       "      <th>InternetService</th>\n",
       "      <th>OnlineSecurity</th>\n",
       "      <th>OnlineBackup</th>\n",
       "      <th>DeviceProtection</th>\n",
       "      <th>TechSupport</th>\n",
       "      <th>StreamingTV</th>\n",
       "      <th>StreamingMovies</th>\n",
       "    </tr>\n",
       "  </thead>\n",
       "  <tbody>\n",
       "    <tr>\n",
       "      <th>0</th>\n",
       "      <td>7590-VHVEG</td>\n",
       "      <td>DSL</td>\n",
       "      <td>No</td>\n",
       "      <td>Yes</td>\n",
       "      <td>No</td>\n",
       "      <td>No</td>\n",
       "      <td>No</td>\n",
       "      <td>No</td>\n",
       "    </tr>\n",
       "    <tr>\n",
       "      <th>1</th>\n",
       "      <td>5575-GNVDE</td>\n",
       "      <td>DSL</td>\n",
       "      <td>Yes</td>\n",
       "      <td>No</td>\n",
       "      <td>Yes</td>\n",
       "      <td>No</td>\n",
       "      <td>No</td>\n",
       "      <td>No</td>\n",
       "    </tr>\n",
       "    <tr>\n",
       "      <th>2</th>\n",
       "      <td>3668-QPYBK</td>\n",
       "      <td>DSL</td>\n",
       "      <td>Yes</td>\n",
       "      <td>Yes</td>\n",
       "      <td>No</td>\n",
       "      <td>No</td>\n",
       "      <td>No</td>\n",
       "      <td>No</td>\n",
       "    </tr>\n",
       "    <tr>\n",
       "      <th>3</th>\n",
       "      <td>7795-CFOCW</td>\n",
       "      <td>DSL</td>\n",
       "      <td>Yes</td>\n",
       "      <td>No</td>\n",
       "      <td>Yes</td>\n",
       "      <td>Yes</td>\n",
       "      <td>No</td>\n",
       "      <td>No</td>\n",
       "    </tr>\n",
       "    <tr>\n",
       "      <th>4</th>\n",
       "      <td>9237-HQITU</td>\n",
       "      <td>Fiber optic</td>\n",
       "      <td>No</td>\n",
       "      <td>No</td>\n",
       "      <td>No</td>\n",
       "      <td>No</td>\n",
       "      <td>No</td>\n",
       "      <td>No</td>\n",
       "    </tr>\n",
       "  </tbody>\n",
       "</table>\n",
       "</div>"
      ],
      "text/plain": [
       "   customerID InternetService OnlineSecurity OnlineBackup DeviceProtection  \\\n",
       "0  7590-VHVEG             DSL             No          Yes               No   \n",
       "1  5575-GNVDE             DSL            Yes           No              Yes   \n",
       "2  3668-QPYBK             DSL            Yes          Yes               No   \n",
       "3  7795-CFOCW             DSL            Yes           No              Yes   \n",
       "4  9237-HQITU     Fiber optic             No           No               No   \n",
       "\n",
       "  TechSupport StreamingTV StreamingMovies  \n",
       "0          No          No              No  \n",
       "1          No          No              No  \n",
       "2          No          No              No  \n",
       "3         Yes          No              No  \n",
       "4          No          No              No  "
      ]
     },
     "metadata": {},
     "output_type": "display_data"
    },
    {
     "name": "stdout",
     "output_type": "stream",
     "text": [
      "====================================================================================================\n"
     ]
    },
    {
     "data": {
      "text/plain": [
       "(5517, 8)"
      ]
     },
     "metadata": {},
     "output_type": "display_data"
    },
    {
     "name": "stdout",
     "output_type": "stream",
     "text": [
      "<class 'pandas.core.frame.DataFrame'>\n",
      "RangeIndex: 6361 entries, 0 to 6360\n",
      "Data columns (total 2 columns):\n",
      " #   Column         Non-Null Count  Dtype \n",
      "---  ------         --------------  ----- \n",
      " 0   customerID     6361 non-null   object\n",
      " 1   MultipleLines  6361 non-null   object\n",
      "dtypes: object(2)\n",
      "memory usage: 99.5+ KB\n"
     ]
    },
    {
     "data": {
      "text/plain": [
       "None"
      ]
     },
     "metadata": {},
     "output_type": "display_data"
    },
    {
     "name": "stdout",
     "output_type": "stream",
     "text": [
      "====================================================================================================\n"
     ]
    },
    {
     "data": {
      "text/html": [
       "<div>\n",
       "<style scoped>\n",
       "    .dataframe tbody tr th:only-of-type {\n",
       "        vertical-align: middle;\n",
       "    }\n",
       "\n",
       "    .dataframe tbody tr th {\n",
       "        vertical-align: top;\n",
       "    }\n",
       "\n",
       "    .dataframe thead th {\n",
       "        text-align: right;\n",
       "    }\n",
       "</style>\n",
       "<table border=\"1\" class=\"dataframe\">\n",
       "  <thead>\n",
       "    <tr style=\"text-align: right;\">\n",
       "      <th></th>\n",
       "      <th>customerID</th>\n",
       "      <th>MultipleLines</th>\n",
       "    </tr>\n",
       "  </thead>\n",
       "  <tbody>\n",
       "    <tr>\n",
       "      <th>count</th>\n",
       "      <td>6361</td>\n",
       "      <td>6361</td>\n",
       "    </tr>\n",
       "    <tr>\n",
       "      <th>unique</th>\n",
       "      <td>6361</td>\n",
       "      <td>2</td>\n",
       "    </tr>\n",
       "    <tr>\n",
       "      <th>top</th>\n",
       "      <td>5575-GNVDE</td>\n",
       "      <td>No</td>\n",
       "    </tr>\n",
       "    <tr>\n",
       "      <th>freq</th>\n",
       "      <td>1</td>\n",
       "      <td>3390</td>\n",
       "    </tr>\n",
       "  </tbody>\n",
       "</table>\n",
       "</div>"
      ],
      "text/plain": [
       "        customerID MultipleLines\n",
       "count         6361          6361\n",
       "unique        6361             2\n",
       "top     5575-GNVDE            No\n",
       "freq             1          3390"
      ]
     },
     "metadata": {},
     "output_type": "display_data"
    },
    {
     "name": "stdout",
     "output_type": "stream",
     "text": [
      "====================================================================================================\n"
     ]
    },
    {
     "data": {
      "text/html": [
       "<div>\n",
       "<style scoped>\n",
       "    .dataframe tbody tr th:only-of-type {\n",
       "        vertical-align: middle;\n",
       "    }\n",
       "\n",
       "    .dataframe tbody tr th {\n",
       "        vertical-align: top;\n",
       "    }\n",
       "\n",
       "    .dataframe thead th {\n",
       "        text-align: right;\n",
       "    }\n",
       "</style>\n",
       "<table border=\"1\" class=\"dataframe\">\n",
       "  <thead>\n",
       "    <tr style=\"text-align: right;\">\n",
       "      <th></th>\n",
       "      <th>customerID</th>\n",
       "      <th>MultipleLines</th>\n",
       "    </tr>\n",
       "  </thead>\n",
       "  <tbody>\n",
       "    <tr>\n",
       "      <th>0</th>\n",
       "      <td>5575-GNVDE</td>\n",
       "      <td>No</td>\n",
       "    </tr>\n",
       "    <tr>\n",
       "      <th>1</th>\n",
       "      <td>3668-QPYBK</td>\n",
       "      <td>No</td>\n",
       "    </tr>\n",
       "    <tr>\n",
       "      <th>2</th>\n",
       "      <td>9237-HQITU</td>\n",
       "      <td>No</td>\n",
       "    </tr>\n",
       "    <tr>\n",
       "      <th>3</th>\n",
       "      <td>9305-CDSKC</td>\n",
       "      <td>Yes</td>\n",
       "    </tr>\n",
       "    <tr>\n",
       "      <th>4</th>\n",
       "      <td>1452-KIOVK</td>\n",
       "      <td>Yes</td>\n",
       "    </tr>\n",
       "  </tbody>\n",
       "</table>\n",
       "</div>"
      ],
      "text/plain": [
       "   customerID MultipleLines\n",
       "0  5575-GNVDE            No\n",
       "1  3668-QPYBK            No\n",
       "2  9237-HQITU            No\n",
       "3  9305-CDSKC           Yes\n",
       "4  1452-KIOVK           Yes"
      ]
     },
     "metadata": {},
     "output_type": "display_data"
    },
    {
     "name": "stdout",
     "output_type": "stream",
     "text": [
      "====================================================================================================\n"
     ]
    },
    {
     "data": {
      "text/plain": [
       "(6361, 2)"
      ]
     },
     "metadata": {},
     "output_type": "display_data"
    }
   ],
   "source": [
    "for table in tables:\n",
    "        display(table.info())\n",
    "        print(100*'=')\n",
    "        display(table.describe())\n",
    "        print(100*'=')\n",
    "        display(table.head())\n",
    "        print(100*'=')\n",
    "        display(table.shape)"
   ]
  },
  {
   "cell_type": "markdown",
   "id": "2f5bb696",
   "metadata": {},
   "source": [
    "In the **contract** table, the filetype in `TotalCharges` needs to be changed from `object` to `float64`.\n",
    "In the `Begindate`, `Enddate` columns cast the file type to `datetime`."
   ]
  },
  {
   "cell_type": "code",
   "execution_count": 5,
   "id": "4f3f86c9",
   "metadata": {},
   "outputs": [
    {
     "name": "stdout",
     "output_type": "stream",
     "text": [
      "Number of duplicates in contract:  0\n",
      "Number of null values in contract : customerID          0.0\n",
      "BeginDate           0.0\n",
      "EndDate             0.0\n",
      "Type                0.0\n",
      "PaperlessBilling    0.0\n",
      "PaymentMethod       0.0\n",
      "MonthlyCharges      0.0\n",
      "TotalCharges        0.0\n",
      "dtype: float64\n",
      "Number of duplicates in personal:  0\n",
      "Number of null values in personal : customerID       0.0\n",
      "gender           0.0\n",
      "SeniorCitizen    0.0\n",
      "Partner          0.0\n",
      "Dependents       0.0\n",
      "dtype: float64\n",
      "Number of duplicates in internet:  0\n",
      "Number of null values in internet : customerID          0.0\n",
      "InternetService     0.0\n",
      "OnlineSecurity      0.0\n",
      "OnlineBackup        0.0\n",
      "DeviceProtection    0.0\n",
      "TechSupport         0.0\n",
      "StreamingTV         0.0\n",
      "StreamingMovies     0.0\n",
      "dtype: float64\n",
      "Number of duplicates in phone:  0\n",
      "Number of null values in phone : customerID       0.0\n",
      "MultipleLines    0.0\n",
      "dtype: float64\n"
     ]
    }
   ],
   "source": [
    "for table, table_name in zip(tables, tables_name):\n",
    "    print(f'Number of duplicates in {table_name}:  {table.duplicated().sum()}')\n",
    "    print(f'Number of null values in {table_name} : {table.isna().mean()}')"
   ]
  },
  {
   "cell_type": "markdown",
   "id": "a84df513",
   "metadata": {},
   "source": [
    "No duplicates or gaps were found in the table. Let's check the data for hidden gaps. "
   ]
  },
  {
   "cell_type": "code",
   "execution_count": 6,
   "id": "be9afc23",
   "metadata": {},
   "outputs": [
    {
     "data": {
      "text/plain": [
       "customerID          7043\n",
       "BeginDate             77\n",
       "EndDate                5\n",
       "Type                   3\n",
       "PaperlessBilling       2\n",
       "PaymentMethod          4\n",
       "MonthlyCharges      1585\n",
       "TotalCharges        6531\n",
       "dtype: int64"
      ]
     },
     "execution_count": 6,
     "metadata": {},
     "output_type": "execute_result"
    }
   ],
   "source": [
    "contract.nunique()"
   ]
  },
  {
   "cell_type": "code",
   "execution_count": 7,
   "id": "68823a66",
   "metadata": {},
   "outputs": [
    {
     "data": {
      "text/plain": [
       "array([' ', '100.2', '100.25', ..., '999.45', '999.8', '999.9'],\n",
       "      dtype=object)"
      ]
     },
     "execution_count": 7,
     "metadata": {},
     "output_type": "execute_result"
    }
   ],
   "source": [
    "contract['TotalCharges'].sort_values().unique()"
   ]
  },
  {
   "cell_type": "markdown",
   "id": "fccc15a9",
   "metadata": {},
   "source": [
    "There is a value ' ' in the `TotalCharges` column. Let's study it."
   ]
  },
  {
   "cell_type": "code",
   "execution_count": 8,
   "id": "e7b711b8",
   "metadata": {},
   "outputs": [
    {
     "data": {
      "text/plain": [
       "          11\n",
       "20.2      11\n",
       "19.75      9\n",
       "20.05      8\n",
       "19.9       8\n",
       "          ..\n",
       "6849.4     1\n",
       "692.35     1\n",
       "130.15     1\n",
       "3211.9     1\n",
       "6844.5     1\n",
       "Name: TotalCharges, Length: 6531, dtype: int64"
      ]
     },
     "execution_count": 8,
     "metadata": {},
     "output_type": "execute_result"
    }
   ],
   "source": [
    "contract['TotalCharges'].value_counts()"
   ]
  },
  {
   "cell_type": "code",
   "execution_count": 9,
   "id": "b38523e1",
   "metadata": {},
   "outputs": [
    {
     "data": {
      "text/html": [
       "<div>\n",
       "<style scoped>\n",
       "    .dataframe tbody tr th:only-of-type {\n",
       "        vertical-align: middle;\n",
       "    }\n",
       "\n",
       "    .dataframe tbody tr th {\n",
       "        vertical-align: top;\n",
       "    }\n",
       "\n",
       "    .dataframe thead th {\n",
       "        text-align: right;\n",
       "    }\n",
       "</style>\n",
       "<table border=\"1\" class=\"dataframe\">\n",
       "  <thead>\n",
       "    <tr style=\"text-align: right;\">\n",
       "      <th></th>\n",
       "      <th>customerID</th>\n",
       "      <th>BeginDate</th>\n",
       "      <th>EndDate</th>\n",
       "      <th>Type</th>\n",
       "      <th>PaperlessBilling</th>\n",
       "      <th>PaymentMethod</th>\n",
       "      <th>MonthlyCharges</th>\n",
       "      <th>TotalCharges</th>\n",
       "    </tr>\n",
       "  </thead>\n",
       "  <tbody>\n",
       "    <tr>\n",
       "      <th>488</th>\n",
       "      <td>4472-LVYGI</td>\n",
       "      <td>2020-02-01</td>\n",
       "      <td>No</td>\n",
       "      <td>Two year</td>\n",
       "      <td>Yes</td>\n",
       "      <td>Bank transfer (automatic)</td>\n",
       "      <td>52.55</td>\n",
       "      <td></td>\n",
       "    </tr>\n",
       "    <tr>\n",
       "      <th>753</th>\n",
       "      <td>3115-CZMZD</td>\n",
       "      <td>2020-02-01</td>\n",
       "      <td>No</td>\n",
       "      <td>Two year</td>\n",
       "      <td>No</td>\n",
       "      <td>Mailed check</td>\n",
       "      <td>20.25</td>\n",
       "      <td></td>\n",
       "    </tr>\n",
       "    <tr>\n",
       "      <th>936</th>\n",
       "      <td>5709-LVOEQ</td>\n",
       "      <td>2020-02-01</td>\n",
       "      <td>No</td>\n",
       "      <td>Two year</td>\n",
       "      <td>No</td>\n",
       "      <td>Mailed check</td>\n",
       "      <td>80.85</td>\n",
       "      <td></td>\n",
       "    </tr>\n",
       "    <tr>\n",
       "      <th>1082</th>\n",
       "      <td>4367-NUYAO</td>\n",
       "      <td>2020-02-01</td>\n",
       "      <td>No</td>\n",
       "      <td>Two year</td>\n",
       "      <td>No</td>\n",
       "      <td>Mailed check</td>\n",
       "      <td>25.75</td>\n",
       "      <td></td>\n",
       "    </tr>\n",
       "    <tr>\n",
       "      <th>1340</th>\n",
       "      <td>1371-DWPAZ</td>\n",
       "      <td>2020-02-01</td>\n",
       "      <td>No</td>\n",
       "      <td>Two year</td>\n",
       "      <td>No</td>\n",
       "      <td>Credit card (automatic)</td>\n",
       "      <td>56.05</td>\n",
       "      <td></td>\n",
       "    </tr>\n",
       "    <tr>\n",
       "      <th>3331</th>\n",
       "      <td>7644-OMVMY</td>\n",
       "      <td>2020-02-01</td>\n",
       "      <td>No</td>\n",
       "      <td>Two year</td>\n",
       "      <td>No</td>\n",
       "      <td>Mailed check</td>\n",
       "      <td>19.85</td>\n",
       "      <td></td>\n",
       "    </tr>\n",
       "    <tr>\n",
       "      <th>3826</th>\n",
       "      <td>3213-VVOLG</td>\n",
       "      <td>2020-02-01</td>\n",
       "      <td>No</td>\n",
       "      <td>Two year</td>\n",
       "      <td>No</td>\n",
       "      <td>Mailed check</td>\n",
       "      <td>25.35</td>\n",
       "      <td></td>\n",
       "    </tr>\n",
       "    <tr>\n",
       "      <th>4380</th>\n",
       "      <td>2520-SGTTA</td>\n",
       "      <td>2020-02-01</td>\n",
       "      <td>No</td>\n",
       "      <td>Two year</td>\n",
       "      <td>No</td>\n",
       "      <td>Mailed check</td>\n",
       "      <td>20.00</td>\n",
       "      <td></td>\n",
       "    </tr>\n",
       "    <tr>\n",
       "      <th>5218</th>\n",
       "      <td>2923-ARZLG</td>\n",
       "      <td>2020-02-01</td>\n",
       "      <td>No</td>\n",
       "      <td>One year</td>\n",
       "      <td>Yes</td>\n",
       "      <td>Mailed check</td>\n",
       "      <td>19.70</td>\n",
       "      <td></td>\n",
       "    </tr>\n",
       "    <tr>\n",
       "      <th>6670</th>\n",
       "      <td>4075-WKNIU</td>\n",
       "      <td>2020-02-01</td>\n",
       "      <td>No</td>\n",
       "      <td>Two year</td>\n",
       "      <td>No</td>\n",
       "      <td>Mailed check</td>\n",
       "      <td>73.35</td>\n",
       "      <td></td>\n",
       "    </tr>\n",
       "    <tr>\n",
       "      <th>6754</th>\n",
       "      <td>2775-SEFEE</td>\n",
       "      <td>2020-02-01</td>\n",
       "      <td>No</td>\n",
       "      <td>Two year</td>\n",
       "      <td>Yes</td>\n",
       "      <td>Bank transfer (automatic)</td>\n",
       "      <td>61.90</td>\n",
       "      <td></td>\n",
       "    </tr>\n",
       "  </tbody>\n",
       "</table>\n",
       "</div>"
      ],
      "text/plain": [
       "      customerID   BeginDate EndDate      Type PaperlessBilling  \\\n",
       "488   4472-LVYGI  2020-02-01      No  Two year              Yes   \n",
       "753   3115-CZMZD  2020-02-01      No  Two year               No   \n",
       "936   5709-LVOEQ  2020-02-01      No  Two year               No   \n",
       "1082  4367-NUYAO  2020-02-01      No  Two year               No   \n",
       "1340  1371-DWPAZ  2020-02-01      No  Two year               No   \n",
       "3331  7644-OMVMY  2020-02-01      No  Two year               No   \n",
       "3826  3213-VVOLG  2020-02-01      No  Two year               No   \n",
       "4380  2520-SGTTA  2020-02-01      No  Two year               No   \n",
       "5218  2923-ARZLG  2020-02-01      No  One year              Yes   \n",
       "6670  4075-WKNIU  2020-02-01      No  Two year               No   \n",
       "6754  2775-SEFEE  2020-02-01      No  Two year              Yes   \n",
       "\n",
       "                  PaymentMethod  MonthlyCharges TotalCharges  \n",
       "488   Bank transfer (automatic)           52.55               \n",
       "753                Mailed check           20.25               \n",
       "936                Mailed check           80.85               \n",
       "1082               Mailed check           25.75               \n",
       "1340    Credit card (automatic)           56.05               \n",
       "3331               Mailed check           19.85               \n",
       "3826               Mailed check           25.35               \n",
       "4380               Mailed check           20.00               \n",
       "5218               Mailed check           19.70               \n",
       "6670               Mailed check           73.35               \n",
       "6754  Bank transfer (automatic)           61.90               "
      ]
     },
     "execution_count": 9,
     "metadata": {},
     "output_type": "execute_result"
    }
   ],
   "source": [
    "contract.loc[contract.loc[:, 'TotalCharges'] == ' ']"
   ]
  },
  {
   "cell_type": "markdown",
   "id": "82f1f290",
   "metadata": {},
   "source": [
    "Customers who connected on February 1, 2020 have a '' in the `TotalCharges` column, this is due to the fact that they have not yet paid the subscription fee. Missing information can be replaced with 0."
   ]
  },
  {
   "cell_type": "code",
   "execution_count": 10,
   "id": "c39ef347",
   "metadata": {},
   "outputs": [],
   "source": [
    "contract['TotalCharges'] = contract['TotalCharges'].replace(' ', 0)"
   ]
  },
  {
   "cell_type": "code",
   "execution_count": 11,
   "id": "3478223f",
   "metadata": {},
   "outputs": [
    {
     "data": {
      "text/plain": [
       "customerID       7043\n",
       "gender              2\n",
       "SeniorCitizen       2\n",
       "Partner             2\n",
       "Dependents          2\n",
       "dtype: int64"
      ]
     },
     "execution_count": 11,
     "metadata": {},
     "output_type": "execute_result"
    }
   ],
   "source": [
    "personal.nunique()"
   ]
  },
  {
   "cell_type": "code",
   "execution_count": 12,
   "id": "12668afe",
   "metadata": {},
   "outputs": [
    {
     "data": {
      "text/plain": [
       "customerID          5517\n",
       "InternetService        2\n",
       "OnlineSecurity         2\n",
       "OnlineBackup           2\n",
       "DeviceProtection       2\n",
       "TechSupport            2\n",
       "StreamingTV            2\n",
       "StreamingMovies        2\n",
       "dtype: int64"
      ]
     },
     "execution_count": 12,
     "metadata": {},
     "output_type": "execute_result"
    }
   ],
   "source": [
    "internet.nunique()"
   ]
  },
  {
   "cell_type": "code",
   "execution_count": 13,
   "id": "4d71763c",
   "metadata": {},
   "outputs": [
    {
     "data": {
      "text/plain": [
       "customerID       6361\n",
       "MultipleLines       2\n",
       "dtype: int64"
      ]
     },
     "execution_count": 13,
     "metadata": {},
     "output_type": "execute_result"
    }
   ],
   "source": [
    "phone.nunique()"
   ]
  },
  {
   "cell_type": "markdown",
   "id": "b3fb5d77",
   "metadata": {},
   "source": [
    "Changing data type"
   ]
  },
  {
   "cell_type": "code",
   "execution_count": 14,
   "id": "0a1531b0",
   "metadata": {},
   "outputs": [],
   "source": [
    "contract['EndDate'] = pd.to_datetime(contract['EndDate'], errors='coerce')\n",
    "contract['BeginDate'] = pd.to_datetime(contract['BeginDate'], errors='coerce')"
   ]
  },
  {
   "cell_type": "code",
   "execution_count": 15,
   "id": "d10f4968",
   "metadata": {},
   "outputs": [],
   "source": [
    "contract['TotalCharges'] = contract['TotalCharges'].astype('float64')"
   ]
  },
  {
   "cell_type": "code",
   "execution_count": 16,
   "id": "a0a5f724",
   "metadata": {},
   "outputs": [
    {
     "data": {
      "text/html": [
       "<div>\n",
       "<style scoped>\n",
       "    .dataframe tbody tr th:only-of-type {\n",
       "        vertical-align: middle;\n",
       "    }\n",
       "\n",
       "    .dataframe tbody tr th {\n",
       "        vertical-align: top;\n",
       "    }\n",
       "\n",
       "    .dataframe thead th {\n",
       "        text-align: right;\n",
       "    }\n",
       "</style>\n",
       "<table border=\"1\" class=\"dataframe\">\n",
       "  <thead>\n",
       "    <tr style=\"text-align: right;\">\n",
       "      <th></th>\n",
       "      <th>customerID</th>\n",
       "      <th>BeginDate</th>\n",
       "      <th>EndDate</th>\n",
       "      <th>Type</th>\n",
       "      <th>PaperlessBilling</th>\n",
       "      <th>PaymentMethod</th>\n",
       "      <th>MonthlyCharges</th>\n",
       "      <th>TotalCharges</th>\n",
       "    </tr>\n",
       "  </thead>\n",
       "  <tbody>\n",
       "    <tr>\n",
       "      <th>0</th>\n",
       "      <td>7590-VHVEG</td>\n",
       "      <td>2020-01-01</td>\n",
       "      <td>NaT</td>\n",
       "      <td>Month-to-month</td>\n",
       "      <td>Yes</td>\n",
       "      <td>Electronic check</td>\n",
       "      <td>29.85</td>\n",
       "      <td>29.85</td>\n",
       "    </tr>\n",
       "    <tr>\n",
       "      <th>1</th>\n",
       "      <td>5575-GNVDE</td>\n",
       "      <td>2017-04-01</td>\n",
       "      <td>NaT</td>\n",
       "      <td>One year</td>\n",
       "      <td>No</td>\n",
       "      <td>Mailed check</td>\n",
       "      <td>56.95</td>\n",
       "      <td>1889.50</td>\n",
       "    </tr>\n",
       "    <tr>\n",
       "      <th>2</th>\n",
       "      <td>3668-QPYBK</td>\n",
       "      <td>2019-10-01</td>\n",
       "      <td>2019-12-01</td>\n",
       "      <td>Month-to-month</td>\n",
       "      <td>Yes</td>\n",
       "      <td>Mailed check</td>\n",
       "      <td>53.85</td>\n",
       "      <td>108.15</td>\n",
       "    </tr>\n",
       "    <tr>\n",
       "      <th>3</th>\n",
       "      <td>7795-CFOCW</td>\n",
       "      <td>2016-05-01</td>\n",
       "      <td>NaT</td>\n",
       "      <td>One year</td>\n",
       "      <td>No</td>\n",
       "      <td>Bank transfer (automatic)</td>\n",
       "      <td>42.30</td>\n",
       "      <td>1840.75</td>\n",
       "    </tr>\n",
       "    <tr>\n",
       "      <th>4</th>\n",
       "      <td>9237-HQITU</td>\n",
       "      <td>2019-09-01</td>\n",
       "      <td>2019-11-01</td>\n",
       "      <td>Month-to-month</td>\n",
       "      <td>Yes</td>\n",
       "      <td>Electronic check</td>\n",
       "      <td>70.70</td>\n",
       "      <td>151.65</td>\n",
       "    </tr>\n",
       "  </tbody>\n",
       "</table>\n",
       "</div>"
      ],
      "text/plain": [
       "   customerID  BeginDate    EndDate            Type PaperlessBilling  \\\n",
       "0  7590-VHVEG 2020-01-01        NaT  Month-to-month              Yes   \n",
       "1  5575-GNVDE 2017-04-01        NaT        One year               No   \n",
       "2  3668-QPYBK 2019-10-01 2019-12-01  Month-to-month              Yes   \n",
       "3  7795-CFOCW 2016-05-01        NaT        One year               No   \n",
       "4  9237-HQITU 2019-09-01 2019-11-01  Month-to-month              Yes   \n",
       "\n",
       "               PaymentMethod  MonthlyCharges  TotalCharges  \n",
       "0           Electronic check           29.85         29.85  \n",
       "1               Mailed check           56.95       1889.50  \n",
       "2               Mailed check           53.85        108.15  \n",
       "3  Bank transfer (automatic)           42.30       1840.75  \n",
       "4           Electronic check           70.70        151.65  "
      ]
     },
     "execution_count": 16,
     "metadata": {},
     "output_type": "execute_result"
    }
   ],
   "source": [
    "contract.head()"
   ]
  },
  {
   "cell_type": "markdown",
   "id": "fae8d84b",
   "metadata": {},
   "source": [
    "The `EndDate` column has Nan values. This means that the clients stayed with the company on `2020-02-01`. Therefore, we will replace the values with `2020-02-01`."
   ]
  },
  {
   "cell_type": "code",
   "execution_count": 17,
   "id": "35ece0e9",
   "metadata": {},
   "outputs": [],
   "source": [
    "contract['EndDate'] = contract['EndDate'].fillna('2020-02-01')"
   ]
  },
  {
   "cell_type": "markdown",
   "id": "f291bdd4",
   "metadata": {},
   "source": [
    "Let's add a new column to the table, which will contain information whether the client left."
   ]
  },
  {
   "cell_type": "code",
   "execution_count": 18,
   "id": "bb201ddd",
   "metadata": {},
   "outputs": [],
   "source": [
    "contract['churn'] = contract['EndDate'] != '2020-02-01'"
   ]
  },
  {
   "cell_type": "code",
   "execution_count": 19,
   "id": "ad4624da",
   "metadata": {},
   "outputs": [
    {
     "data": {
      "text/html": [
       "<div>\n",
       "<style scoped>\n",
       "    .dataframe tbody tr th:only-of-type {\n",
       "        vertical-align: middle;\n",
       "    }\n",
       "\n",
       "    .dataframe tbody tr th {\n",
       "        vertical-align: top;\n",
       "    }\n",
       "\n",
       "    .dataframe thead th {\n",
       "        text-align: right;\n",
       "    }\n",
       "</style>\n",
       "<table border=\"1\" class=\"dataframe\">\n",
       "  <thead>\n",
       "    <tr style=\"text-align: right;\">\n",
       "      <th></th>\n",
       "      <th>customerID</th>\n",
       "      <th>BeginDate</th>\n",
       "      <th>EndDate</th>\n",
       "      <th>Type</th>\n",
       "      <th>PaperlessBilling</th>\n",
       "      <th>PaymentMethod</th>\n",
       "      <th>MonthlyCharges</th>\n",
       "      <th>TotalCharges</th>\n",
       "      <th>churn</th>\n",
       "    </tr>\n",
       "  </thead>\n",
       "  <tbody>\n",
       "    <tr>\n",
       "      <th>0</th>\n",
       "      <td>7590-VHVEG</td>\n",
       "      <td>2020-01-01</td>\n",
       "      <td>2020-02-01</td>\n",
       "      <td>Month-to-month</td>\n",
       "      <td>Yes</td>\n",
       "      <td>Electronic check</td>\n",
       "      <td>29.85</td>\n",
       "      <td>29.85</td>\n",
       "      <td>False</td>\n",
       "    </tr>\n",
       "    <tr>\n",
       "      <th>1</th>\n",
       "      <td>5575-GNVDE</td>\n",
       "      <td>2017-04-01</td>\n",
       "      <td>2020-02-01</td>\n",
       "      <td>One year</td>\n",
       "      <td>No</td>\n",
       "      <td>Mailed check</td>\n",
       "      <td>56.95</td>\n",
       "      <td>1889.50</td>\n",
       "      <td>False</td>\n",
       "    </tr>\n",
       "    <tr>\n",
       "      <th>2</th>\n",
       "      <td>3668-QPYBK</td>\n",
       "      <td>2019-10-01</td>\n",
       "      <td>2019-12-01</td>\n",
       "      <td>Month-to-month</td>\n",
       "      <td>Yes</td>\n",
       "      <td>Mailed check</td>\n",
       "      <td>53.85</td>\n",
       "      <td>108.15</td>\n",
       "      <td>True</td>\n",
       "    </tr>\n",
       "    <tr>\n",
       "      <th>3</th>\n",
       "      <td>7795-CFOCW</td>\n",
       "      <td>2016-05-01</td>\n",
       "      <td>2020-02-01</td>\n",
       "      <td>One year</td>\n",
       "      <td>No</td>\n",
       "      <td>Bank transfer (automatic)</td>\n",
       "      <td>42.30</td>\n",
       "      <td>1840.75</td>\n",
       "      <td>False</td>\n",
       "    </tr>\n",
       "    <tr>\n",
       "      <th>4</th>\n",
       "      <td>9237-HQITU</td>\n",
       "      <td>2019-09-01</td>\n",
       "      <td>2019-11-01</td>\n",
       "      <td>Month-to-month</td>\n",
       "      <td>Yes</td>\n",
       "      <td>Electronic check</td>\n",
       "      <td>70.70</td>\n",
       "      <td>151.65</td>\n",
       "      <td>True</td>\n",
       "    </tr>\n",
       "  </tbody>\n",
       "</table>\n",
       "</div>"
      ],
      "text/plain": [
       "   customerID  BeginDate    EndDate            Type PaperlessBilling  \\\n",
       "0  7590-VHVEG 2020-01-01 2020-02-01  Month-to-month              Yes   \n",
       "1  5575-GNVDE 2017-04-01 2020-02-01        One year               No   \n",
       "2  3668-QPYBK 2019-10-01 2019-12-01  Month-to-month              Yes   \n",
       "3  7795-CFOCW 2016-05-01 2020-02-01        One year               No   \n",
       "4  9237-HQITU 2019-09-01 2019-11-01  Month-to-month              Yes   \n",
       "\n",
       "               PaymentMethod  MonthlyCharges  TotalCharges  churn  \n",
       "0           Electronic check           29.85         29.85  False  \n",
       "1               Mailed check           56.95       1889.50  False  \n",
       "2               Mailed check           53.85        108.15   True  \n",
       "3  Bank transfer (automatic)           42.30       1840.75  False  \n",
       "4           Electronic check           70.70        151.65   True  "
      ]
     },
     "execution_count": 19,
     "metadata": {},
     "output_type": "execute_result"
    }
   ],
   "source": [
    "contract.head()"
   ]
  },
  {
   "cell_type": "markdown",
   "id": "ecdd968c",
   "metadata": {},
   "source": [
    "### Conclusion\n",
    "\n",
    "During the initial review of the data\n",
    "\n",
    "- The objectives of the study were set and a work plan was drawn up.\n",
    "- Data loaded.\n",
    "- The data has been cast to the correct type.\n",
    "- Omissions and duplicates have been studied and processed accordingly.\n"
   ]
  },
  {
   "cell_type": "markdown",
   "id": "b6db675f",
   "metadata": {},
   "source": [
    "## Exploratory data analysis"
   ]
  },
  {
   "cell_type": "markdown",
   "id": "d7e4ee73",
   "metadata": {},
   "source": [
    "Let's merge the tables"
   ]
  },
  {
   "cell_type": "code",
   "execution_count": 20,
   "id": "7506fe46",
   "metadata": {},
   "outputs": [],
   "source": [
    "df = (contract.merge(personal, on =['customerID'], how='inner')\n",
    "                .merge(internet, on =['customerID'], how='left')\n",
    "                .merge(phone, on =['customerID'], how='left'))"
   ]
  },
  {
   "cell_type": "code",
   "execution_count": 21,
   "id": "71df5344",
   "metadata": {},
   "outputs": [
    {
     "data": {
      "text/html": [
       "<div>\n",
       "<style scoped>\n",
       "    .dataframe tbody tr th:only-of-type {\n",
       "        vertical-align: middle;\n",
       "    }\n",
       "\n",
       "    .dataframe tbody tr th {\n",
       "        vertical-align: top;\n",
       "    }\n",
       "\n",
       "    .dataframe thead th {\n",
       "        text-align: right;\n",
       "    }\n",
       "</style>\n",
       "<table border=\"1\" class=\"dataframe\">\n",
       "  <thead>\n",
       "    <tr style=\"text-align: right;\">\n",
       "      <th></th>\n",
       "      <th>customerID</th>\n",
       "      <th>BeginDate</th>\n",
       "      <th>EndDate</th>\n",
       "      <th>Type</th>\n",
       "      <th>PaperlessBilling</th>\n",
       "      <th>PaymentMethod</th>\n",
       "      <th>MonthlyCharges</th>\n",
       "      <th>TotalCharges</th>\n",
       "      <th>churn</th>\n",
       "      <th>gender</th>\n",
       "      <th>...</th>\n",
       "      <th>Partner</th>\n",
       "      <th>Dependents</th>\n",
       "      <th>InternetService</th>\n",
       "      <th>OnlineSecurity</th>\n",
       "      <th>OnlineBackup</th>\n",
       "      <th>DeviceProtection</th>\n",
       "      <th>TechSupport</th>\n",
       "      <th>StreamingTV</th>\n",
       "      <th>StreamingMovies</th>\n",
       "      <th>MultipleLines</th>\n",
       "    </tr>\n",
       "  </thead>\n",
       "  <tbody>\n",
       "    <tr>\n",
       "      <th>0</th>\n",
       "      <td>7590-VHVEG</td>\n",
       "      <td>2020-01-01</td>\n",
       "      <td>2020-02-01</td>\n",
       "      <td>Month-to-month</td>\n",
       "      <td>Yes</td>\n",
       "      <td>Electronic check</td>\n",
       "      <td>29.85</td>\n",
       "      <td>29.85</td>\n",
       "      <td>False</td>\n",
       "      <td>Female</td>\n",
       "      <td>...</td>\n",
       "      <td>Yes</td>\n",
       "      <td>No</td>\n",
       "      <td>DSL</td>\n",
       "      <td>No</td>\n",
       "      <td>Yes</td>\n",
       "      <td>No</td>\n",
       "      <td>No</td>\n",
       "      <td>No</td>\n",
       "      <td>No</td>\n",
       "      <td>NaN</td>\n",
       "    </tr>\n",
       "    <tr>\n",
       "      <th>1</th>\n",
       "      <td>5575-GNVDE</td>\n",
       "      <td>2017-04-01</td>\n",
       "      <td>2020-02-01</td>\n",
       "      <td>One year</td>\n",
       "      <td>No</td>\n",
       "      <td>Mailed check</td>\n",
       "      <td>56.95</td>\n",
       "      <td>1889.50</td>\n",
       "      <td>False</td>\n",
       "      <td>Male</td>\n",
       "      <td>...</td>\n",
       "      <td>No</td>\n",
       "      <td>No</td>\n",
       "      <td>DSL</td>\n",
       "      <td>Yes</td>\n",
       "      <td>No</td>\n",
       "      <td>Yes</td>\n",
       "      <td>No</td>\n",
       "      <td>No</td>\n",
       "      <td>No</td>\n",
       "      <td>No</td>\n",
       "    </tr>\n",
       "    <tr>\n",
       "      <th>2</th>\n",
       "      <td>3668-QPYBK</td>\n",
       "      <td>2019-10-01</td>\n",
       "      <td>2019-12-01</td>\n",
       "      <td>Month-to-month</td>\n",
       "      <td>Yes</td>\n",
       "      <td>Mailed check</td>\n",
       "      <td>53.85</td>\n",
       "      <td>108.15</td>\n",
       "      <td>True</td>\n",
       "      <td>Male</td>\n",
       "      <td>...</td>\n",
       "      <td>No</td>\n",
       "      <td>No</td>\n",
       "      <td>DSL</td>\n",
       "      <td>Yes</td>\n",
       "      <td>Yes</td>\n",
       "      <td>No</td>\n",
       "      <td>No</td>\n",
       "      <td>No</td>\n",
       "      <td>No</td>\n",
       "      <td>No</td>\n",
       "    </tr>\n",
       "    <tr>\n",
       "      <th>3</th>\n",
       "      <td>7795-CFOCW</td>\n",
       "      <td>2016-05-01</td>\n",
       "      <td>2020-02-01</td>\n",
       "      <td>One year</td>\n",
       "      <td>No</td>\n",
       "      <td>Bank transfer (automatic)</td>\n",
       "      <td>42.30</td>\n",
       "      <td>1840.75</td>\n",
       "      <td>False</td>\n",
       "      <td>Male</td>\n",
       "      <td>...</td>\n",
       "      <td>No</td>\n",
       "      <td>No</td>\n",
       "      <td>DSL</td>\n",
       "      <td>Yes</td>\n",
       "      <td>No</td>\n",
       "      <td>Yes</td>\n",
       "      <td>Yes</td>\n",
       "      <td>No</td>\n",
       "      <td>No</td>\n",
       "      <td>NaN</td>\n",
       "    </tr>\n",
       "    <tr>\n",
       "      <th>4</th>\n",
       "      <td>9237-HQITU</td>\n",
       "      <td>2019-09-01</td>\n",
       "      <td>2019-11-01</td>\n",
       "      <td>Month-to-month</td>\n",
       "      <td>Yes</td>\n",
       "      <td>Electronic check</td>\n",
       "      <td>70.70</td>\n",
       "      <td>151.65</td>\n",
       "      <td>True</td>\n",
       "      <td>Female</td>\n",
       "      <td>...</td>\n",
       "      <td>No</td>\n",
       "      <td>No</td>\n",
       "      <td>Fiber optic</td>\n",
       "      <td>No</td>\n",
       "      <td>No</td>\n",
       "      <td>No</td>\n",
       "      <td>No</td>\n",
       "      <td>No</td>\n",
       "      <td>No</td>\n",
       "      <td>No</td>\n",
       "    </tr>\n",
       "  </tbody>\n",
       "</table>\n",
       "<p>5 rows × 21 columns</p>\n",
       "</div>"
      ],
      "text/plain": [
       "   customerID  BeginDate    EndDate            Type PaperlessBilling  \\\n",
       "0  7590-VHVEG 2020-01-01 2020-02-01  Month-to-month              Yes   \n",
       "1  5575-GNVDE 2017-04-01 2020-02-01        One year               No   \n",
       "2  3668-QPYBK 2019-10-01 2019-12-01  Month-to-month              Yes   \n",
       "3  7795-CFOCW 2016-05-01 2020-02-01        One year               No   \n",
       "4  9237-HQITU 2019-09-01 2019-11-01  Month-to-month              Yes   \n",
       "\n",
       "               PaymentMethod  MonthlyCharges  TotalCharges  churn  gender  \\\n",
       "0           Electronic check           29.85         29.85  False  Female   \n",
       "1               Mailed check           56.95       1889.50  False    Male   \n",
       "2               Mailed check           53.85        108.15   True    Male   \n",
       "3  Bank transfer (automatic)           42.30       1840.75  False    Male   \n",
       "4           Electronic check           70.70        151.65   True  Female   \n",
       "\n",
       "   ...  Partner Dependents InternetService OnlineSecurity OnlineBackup  \\\n",
       "0  ...      Yes         No             DSL             No          Yes   \n",
       "1  ...       No         No             DSL            Yes           No   \n",
       "2  ...       No         No             DSL            Yes          Yes   \n",
       "3  ...       No         No             DSL            Yes           No   \n",
       "4  ...       No         No     Fiber optic             No           No   \n",
       "\n",
       "  DeviceProtection TechSupport StreamingTV StreamingMovies MultipleLines  \n",
       "0               No          No          No              No           NaN  \n",
       "1              Yes          No          No              No            No  \n",
       "2               No          No          No              No            No  \n",
       "3              Yes         Yes          No              No           NaN  \n",
       "4               No          No          No              No            No  \n",
       "\n",
       "[5 rows x 21 columns]"
      ]
     },
     "execution_count": 21,
     "metadata": {},
     "output_type": "execute_result"
    }
   ],
   "source": [
    "df.head()"
   ]
  },
  {
   "cell_type": "code",
   "execution_count": 22,
   "id": "22e801b1",
   "metadata": {},
   "outputs": [
    {
     "name": "stdout",
     "output_type": "stream",
     "text": [
      "<class 'pandas.core.frame.DataFrame'>\n",
      "Int64Index: 7043 entries, 0 to 7042\n",
      "Data columns (total 21 columns):\n",
      " #   Column            Non-Null Count  Dtype         \n",
      "---  ------            --------------  -----         \n",
      " 0   customerID        7043 non-null   object        \n",
      " 1   BeginDate         7043 non-null   datetime64[ns]\n",
      " 2   EndDate           7043 non-null   datetime64[ns]\n",
      " 3   Type              7043 non-null   object        \n",
      " 4   PaperlessBilling  7043 non-null   object        \n",
      " 5   PaymentMethod     7043 non-null   object        \n",
      " 6   MonthlyCharges    7043 non-null   float64       \n",
      " 7   TotalCharges      7043 non-null   float64       \n",
      " 8   churn             7043 non-null   bool          \n",
      " 9   gender            7043 non-null   object        \n",
      " 10  SeniorCitizen     7043 non-null   int64         \n",
      " 11  Partner           7043 non-null   object        \n",
      " 12  Dependents        7043 non-null   object        \n",
      " 13  InternetService   5517 non-null   object        \n",
      " 14  OnlineSecurity    5517 non-null   object        \n",
      " 15  OnlineBackup      5517 non-null   object        \n",
      " 16  DeviceProtection  5517 non-null   object        \n",
      " 17  TechSupport       5517 non-null   object        \n",
      " 18  StreamingTV       5517 non-null   object        \n",
      " 19  StreamingMovies   5517 non-null   object        \n",
      " 20  MultipleLines     6361 non-null   object        \n",
      "dtypes: bool(1), datetime64[ns](2), float64(2), int64(1), object(15)\n",
      "memory usage: 1.1+ MB\n"
     ]
    }
   ],
   "source": [
    "df.info()"
   ]
  },
  {
   "cell_type": "markdown",
   "id": "8f2ffec6",
   "metadata": {},
   "source": [
    "The number of entries is different, this is due to the fact that some customers do not use certain services. Therefore, missing data, except for the data in the `customerID` column, can be replaced with `No`."
   ]
  },
  {
   "cell_type": "code",
   "execution_count": 23,
   "id": "8b3816b3",
   "metadata": {},
   "outputs": [],
   "source": [
    "for col in internet.columns:\n",
    "     if col != 'customerID':\n",
    "        df[col].fillna(\"No\", inplace=True)"
   ]
  },
  {
   "cell_type": "code",
   "execution_count": 24,
   "id": "c88c9597",
   "metadata": {},
   "outputs": [],
   "source": [
    "for col in phone.columns:\n",
    "     if col != 'customerID':\n",
    "        df[col].fillna(\"No\", inplace=True)"
   ]
  },
  {
   "cell_type": "code",
   "execution_count": 25,
   "id": "0ff7eb16",
   "metadata": {},
   "outputs": [
    {
     "name": "stdout",
     "output_type": "stream",
     "text": [
      "<class 'pandas.core.frame.DataFrame'>\n",
      "Int64Index: 7043 entries, 0 to 7042\n",
      "Data columns (total 21 columns):\n",
      " #   Column            Non-Null Count  Dtype         \n",
      "---  ------            --------------  -----         \n",
      " 0   customerID        7043 non-null   object        \n",
      " 1   BeginDate         7043 non-null   datetime64[ns]\n",
      " 2   EndDate           7043 non-null   datetime64[ns]\n",
      " 3   Type              7043 non-null   object        \n",
      " 4   PaperlessBilling  7043 non-null   object        \n",
      " 5   PaymentMethod     7043 non-null   object        \n",
      " 6   MonthlyCharges    7043 non-null   float64       \n",
      " 7   TotalCharges      7043 non-null   float64       \n",
      " 8   churn             7043 non-null   bool          \n",
      " 9   gender            7043 non-null   object        \n",
      " 10  SeniorCitizen     7043 non-null   int64         \n",
      " 11  Partner           7043 non-null   object        \n",
      " 12  Dependents        7043 non-null   object        \n",
      " 13  InternetService   7043 non-null   object        \n",
      " 14  OnlineSecurity    7043 non-null   object        \n",
      " 15  OnlineBackup      7043 non-null   object        \n",
      " 16  DeviceProtection  7043 non-null   object        \n",
      " 17  TechSupport       7043 non-null   object        \n",
      " 18  StreamingTV       7043 non-null   object        \n",
      " 19  StreamingMovies   7043 non-null   object        \n",
      " 20  MultipleLines     7043 non-null   object        \n",
      "dtypes: bool(1), datetime64[ns](2), float64(2), int64(1), object(15)\n",
      "memory usage: 1.1+ MB\n"
     ]
    }
   ],
   "source": [
    "df.info()"
   ]
  },
  {
   "cell_type": "markdown",
   "id": "f38286f8",
   "metadata": {},
   "source": [
    "The amount of data is the same. Let's move on to the analysis."
   ]
  },
  {
   "cell_type": "code",
   "execution_count": 26,
   "id": "c1f99b83",
   "metadata": {},
   "outputs": [
    {
     "data": {
      "image/png": "[encoded data removed]",
      "text/plain": [
       "<Figure size 432x288 with 1 Axes>"
      ]
     },
     "metadata": {
      "needs_background": "light"
     },
     "output_type": "display_data"
    }
   ],
   "source": [
    "sns.countplot(x ='churn', data = df).set(title='The ratio of left to remaining customers');"
   ]
  },
  {
   "cell_type": "code",
   "execution_count": 27,
   "id": "07d104f9",
   "metadata": {},
   "outputs": [
    {
     "data": {
      "image/png": "[encoded data removed]",
      "text/plain": [
       "<Figure size 432x288 with 1 Axes>"
      ]
     },
     "metadata": {
      "needs_background": "light"
     },
     "output_type": "display_data"
    }
   ],
   "source": [
    "sns.countplot(data=df, x=\"Type\", hue=\"churn\").set(title='The ratio of left and remaining customers depending on the type of contract');"
   ]
  },
  {
   "cell_type": "markdown",
   "id": "439c7865",
   "metadata": {},
   "source": [
    "Most of the customers who terminated the contract used the tariff with a monthly payment."
   ]
  },
  {
   "cell_type": "code",
   "execution_count": 28,
   "id": "e37c29f6",
   "metadata": {},
   "outputs": [
    {
     "data": {
      "image/png": "[encoded data removed]",
      "text/plain": [
       "<Figure size 432x288 with 1 Axes>"
      ]
     },
     "metadata": {
      "needs_background": "light"
     },
     "output_type": "display_data"
    }
   ],
   "source": [
    "sns.countplot(data=df, x=\"PaperlessBilling\", hue=\"churn\").set(title='The ratio of left and remaining customers depending on the payment');"
   ]
  },
  {
   "cell_type": "code",
   "execution_count": 29,
   "id": "7e37642d",
   "metadata": {},
   "outputs": [
    {
     "data": {
      "image/png": "[encoded data removed]",
      "text/plain": [
       "<Figure size 432x288 with 1 Axes>"
      ]
     },
     "metadata": {
      "needs_background": "light"
     },
     "output_type": "display_data"
    }
   ],
   "source": [
    "sns.countplot(data=df, y=\"PaymentMethod\", hue=\"churn\").set(title='The ratio of left and remaining customers depending on the type of payment');"
   ]
  },
  {
   "cell_type": "markdown",
   "id": "7035bb26",
   "metadata": {},
   "source": [
    "Two-thirds of customers who left received an electronic check."
   ]
  },
  {
   "cell_type": "code",
   "execution_count": 30,
   "id": "28c3f8f7",
   "metadata": {},
   "outputs": [
    {
     "data": {
      "image/png": "[encoded data removed]",
      "text/plain": [
       "<Figure size 432x288 with 1 Axes>"
      ]
     },
     "metadata": {
      "needs_background": "light"
     },
     "output_type": "display_data"
    }
   ],
   "source": [
    "sns.countplot(data=df, x=\"gender\", hue=\"churn\").set(title='Ratio of left and retained customers by gender');"
   ]
  },
  {
   "cell_type": "markdown",
   "id": "900febb1",
   "metadata": {},
   "source": [
    "Нет зависимости между полом и фактом, ушел ли клиент"
   ]
  },
  {
   "cell_type": "code",
   "execution_count": 31,
   "id": "b9fc3a0a",
   "metadata": {},
   "outputs": [
    {
     "data": {
      "image/png": "[encoded data removed]",
      "text/plain": [
       "<Figure size 432x288 with 1 Axes>"
      ]
     },
     "metadata": {
      "needs_background": "light"
     },
     "output_type": "display_data"
    }
   ],
   "source": [
    "sns.countplot(data=df, x=\"SeniorCitizen\", hue=\"churn\").set(title='The ratio of left and remaining customers depending on age');"
   ]
  },
  {
   "cell_type": "markdown",
   "id": "533fc66b",
   "metadata": {},
   "source": [
    "The clients who terminated the contract were not senior citizens."
   ]
  },
  {
   "cell_type": "code",
   "execution_count": 32,
   "id": "4b3f0f1b",
   "metadata": {},
   "outputs": [
    {
     "data": {
      "image/png": "[encoded data removed]",
      "text/plain": [
       "<Figure size 432x288 with 1 Axes>"
      ]
     },
     "metadata": {
      "needs_background": "light"
     },
     "output_type": "display_data"
    }
   ],
   "source": [
    "sns.countplot(data=df, x=\"Partner\", hue=\"churn\").set(title='Ratio of left to remaining clients by partner');"
   ]
  },
  {
   "cell_type": "code",
   "execution_count": 33,
   "id": "8a9a1ef4",
   "metadata": {},
   "outputs": [
    {
     "data": {
      "image/png": "[encoded data removed]",
      "text/plain": [
       "<Figure size 432x288 with 1 Axes>"
      ]
     },
     "metadata": {
      "needs_background": "light"
     },
     "output_type": "display_data"
    }
   ],
   "source": [
    "sns.countplot(data=df, x=\"Dependents\", hue=\"churn\").set(title='Ratio of left to remaining clients by dependent');"
   ]
  },
  {
   "cell_type": "markdown",
   "id": "e29a6ca4",
   "metadata": {},
   "source": [
    "Most of these clients did not have partners or dependents."
   ]
  },
  {
   "cell_type": "code",
   "execution_count": 34,
   "id": "1e293664",
   "metadata": {},
   "outputs": [
    {
     "data": {
      "image/png": "[encoded data removed]",
      "text/plain": [
       "<Figure size 432x288 with 1 Axes>"
      ]
     },
     "metadata": {
      "needs_background": "light"
     },
     "output_type": "display_data"
    }
   ],
   "source": [
    "sns.countplot(data=df, x=\"InternetService\", hue=\"churn\").set(title='The ratio of left and remaining customers depending on the type of Internet');"
   ]
  },
  {
   "cell_type": "markdown",
   "id": "c929c677",
   "metadata": {},
   "source": [
    "Most of the customers used fiber optics."
   ]
  },
  {
   "cell_type": "code",
   "execution_count": 35,
   "id": "49f5dcf5",
   "metadata": {},
   "outputs": [
    {
     "data": {
      "image/png": "[encoded data removed]",
      "text/plain": [
       "<Figure size 432x288 with 1 Axes>"
      ]
     },
     "metadata": {
      "needs_background": "light"
     },
     "output_type": "display_data"
    }
   ],
   "source": [
    "sns.violinplot(x='churn', y='MonthlyCharges', data=df).set(title='The ratio of left and remaining customers depending on monthly charges');"
   ]
  },
  {
   "cell_type": "markdown",
   "id": "2e6dd77f",
   "metadata": {},
   "source": [
    "Clients who stayed in the company spend an average of about 20, and those who left about 80-100."
   ]
  },
  {
   "cell_type": "code",
   "execution_count": 36,
   "id": "2d26f89e",
   "metadata": {},
   "outputs": [
    {
     "data": {
      "image/png": "[encoded data removed]",
      "text/plain": [
       "<Figure size 432x288 with 1 Axes>"
      ]
     },
     "metadata": {
      "needs_background": "light"
     },
     "output_type": "display_data"
    }
   ],
   "source": [
    "sns.violinplot(x='churn', y='TotalCharges', data=df).set(title='The ratio of left and remaining customers depending on total charges');"
   ]
  },
  {
   "cell_type": "markdown",
   "id": "aba383b3",
   "metadata": {},
   "source": [
    "The total service fee for the entire time is about the same."
   ]
  },
  {
   "cell_type": "code",
   "execution_count": 37,
   "id": "05efe28b",
   "metadata": {},
   "outputs": [],
   "source": [
    "df['days'] = (pd.to_datetime(df['EndDate']) - pd.to_datetime(df['BeginDate'])).dt.days"
   ]
  },
  {
   "cell_type": "code",
   "execution_count": 38,
   "id": "4e616f5a",
   "metadata": {},
   "outputs": [
    {
     "data": {
      "image/png": "[encoded data removed]",
      "text/plain": [
       "<Figure size 432x288 with 1 Axes>"
      ]
     },
     "metadata": {
      "needs_background": "light"
     },
     "output_type": "display_data"
    }
   ],
   "source": [
    "sns.violinplot(x='churn', y='days', data=df).set(title='Соотношение ушедших и оставшихся клиентов в зависимости от количества дней');"
   ]
  },
  {
   "cell_type": "markdown",
   "id": "db9cffe0",
   "metadata": {},
   "source": [
    "Most clients leave within 250 days."
   ]
  },
  {
   "cell_type": "code",
   "execution_count": 39,
   "id": "0293ee44",
   "metadata": {},
   "outputs": [
    {
     "data": {
      "text/plain": [
       "Index(['customerID', 'BeginDate', 'EndDate', 'Type', 'PaperlessBilling',\n",
       "       'PaymentMethod', 'MonthlyCharges', 'TotalCharges', 'churn', 'gender',\n",
       "       'SeniorCitizen', 'Partner', 'Dependents', 'InternetService',\n",
       "       'OnlineSecurity', 'OnlineBackup', 'DeviceProtection', 'TechSupport',\n",
       "       'StreamingTV', 'StreamingMovies', 'MultipleLines', 'days'],\n",
       "      dtype='object')"
      ]
     },
     "execution_count": 39,
     "metadata": {},
     "output_type": "execute_result"
    }
   ],
   "source": [
    "df.columns"
   ]
  },
  {
   "cell_type": "code",
   "execution_count": 40,
   "id": "2793a5f3",
   "metadata": {},
   "outputs": [
    {
     "data": {
      "image/png": "[encoded data removed]",
      "text/plain": [
       "<Figure size 432x288 with 2 Axes>"
      ]
     },
     "metadata": {
      "needs_background": "light"
     },
     "output_type": "display_data"
    }
   ],
   "source": [
    "sns.heatmap(df[['MonthlyCharges', 'TotalCharges', 'days']].corr(),  cmap='magma', annot=True)\n",
    "plt.title('Correlation of quantitative traits');"
   ]
  },
  {
   "cell_type": "markdown",
   "id": "9821afa0",
   "metadata": {},
   "source": [
    "We can see a correlation between monthly payments and the fact that a customer has left.\n",
    "\n",
    "We can also replace the correlation between the monthly payments and the total. This correlation is redundant for us, so we can remove the `TotalCharges` column.\n",
    "In addition, we will remove the columns `customerID`, `BeginDate`, `EndDate`. They are not required for training."
   ]
  },
  {
   "cell_type": "code",
   "execution_count": 41,
   "id": "d0019727",
   "metadata": {},
   "outputs": [],
   "source": [
    "df = df.drop(['customerID', 'TotalCharges', 'BeginDate', 'EndDate'], axis=1)"
   ]
  },
  {
   "cell_type": "markdown",
   "id": "6a170498",
   "metadata": {},
   "source": [
    "**Conclusions**\n",
    "\n",
    "During exploratory data analysis:\n",
    "\n",
    "- The data has been merged into one table.\n",
    "- The target attribute has been studied, the number of lost customers is less than twice.\n",
    "- We can observe the dependence of signs, such as the type of contract and the method of payment on the departure of customers. Customers leave more often if they pay for mobile communications monthly.\n",
    "- There is a dependence of quantitative signs on the departure of clients, namely the number of days and the monthly fee. The fewer days he or she is a client of the company, the more likely he is to leave. Also, the higher the cost of the monthly fee, the higher the likelihood of care.\n",
    "- There are no outliers in the data."
   ]
  },
  {
   "cell_type": "markdown",
   "id": "daf1c1be",
   "metadata": {},
   "source": [
    "## Model training"
   ]
  },
  {
   "cell_type": "markdown",
   "id": "3a21166a",
   "metadata": {},
   "source": [
    "Preparing data for training. The characteristics with OHE must be prepared. "
   ]
  },
  {
   "cell_type": "code",
   "execution_count": 42,
   "id": "1c808b37",
   "metadata": {},
   "outputs": [],
   "source": [
    "df_oe = df.copy()"
   ]
  },
  {
   "cell_type": "code",
   "execution_count": 43,
   "id": "3907a62f",
   "metadata": {},
   "outputs": [],
   "source": [
    "df_oe['churn'] = df_oe['churn'].astype('int64')"
   ]
  },
  {
   "cell_type": "code",
   "execution_count": 44,
   "id": "ad4f27c8",
   "metadata": {},
   "outputs": [
    {
     "data": {
      "text/plain": [
       "Index(['Type', 'PaperlessBilling', 'PaymentMethod', 'MonthlyCharges', 'churn',\n",
       "       'gender', 'SeniorCitizen', 'Partner', 'Dependents', 'InternetService',\n",
       "       'OnlineSecurity', 'OnlineBackup', 'DeviceProtection', 'TechSupport',\n",
       "       'StreamingTV', 'StreamingMovies', 'MultipleLines', 'days'],\n",
       "      dtype='object')"
      ]
     },
     "execution_count": 44,
     "metadata": {},
     "output_type": "execute_result"
    }
   ],
   "source": [
    "df_oe.columns"
   ]
  },
  {
   "cell_type": "code",
   "execution_count": 45,
   "id": "36faf7d7",
   "metadata": {},
   "outputs": [],
   "source": [
    "target = df_oe['churn']\n",
    "features = df_oe.drop(columns='churn')"
   ]
  },
  {
   "cell_type": "code",
   "execution_count": 46,
   "id": "9917d4ab",
   "metadata": {},
   "outputs": [],
   "source": [
    "features_train, features_test, target_train, target_test = train_test_split(features, target,\n",
    "                                                                              test_size = 0.25,\n",
    "                                                                              random_state = 291122,\n",
    "                                                                              stratify = target,\n",
    "                                                                              shuffle = True)"
   ]
  },
  {
   "cell_type": "code",
   "execution_count": 47,
   "id": "9040276f",
   "metadata": {},
   "outputs": [],
   "source": [
    "columns_oe = df_oe.columns[(df_oe.dtypes == 'object')]\n",
    "encoder = OrdinalEncoder()\n",
    "encoder.fit_transform(features_train[columns_oe])\n",
    "features_train[columns_oe] = encoder.fit_transform(features_train[columns_oe])\n",
    "features_test[columns_oe] = encoder.transform(features_test[columns_oe])"
   ]
  },
  {
   "cell_type": "code",
   "execution_count": 48,
   "id": "bdacb6ed",
   "metadata": {},
   "outputs": [
    {
     "name": "stdout",
     "output_type": "stream",
     "text": [
      "<class 'pandas.core.frame.DataFrame'>\n",
      "Int64Index: 7043 entries, 0 to 7042\n",
      "Data columns (total 18 columns):\n",
      " #   Column            Non-Null Count  Dtype  \n",
      "---  ------            --------------  -----  \n",
      " 0   Type              7043 non-null   object \n",
      " 1   PaperlessBilling  7043 non-null   object \n",
      " 2   PaymentMethod     7043 non-null   object \n",
      " 3   MonthlyCharges    7043 non-null   float64\n",
      " 4   churn             7043 non-null   int64  \n",
      " 5   gender            7043 non-null   object \n",
      " 6   SeniorCitizen     7043 non-null   int64  \n",
      " 7   Partner           7043 non-null   object \n",
      " 8   Dependents        7043 non-null   object \n",
      " 9   InternetService   7043 non-null   object \n",
      " 10  OnlineSecurity    7043 non-null   object \n",
      " 11  OnlineBackup      7043 non-null   object \n",
      " 12  DeviceProtection  7043 non-null   object \n",
      " 13  TechSupport       7043 non-null   object \n",
      " 14  StreamingTV       7043 non-null   object \n",
      " 15  StreamingMovies   7043 non-null   object \n",
      " 16  MultipleLines     7043 non-null   object \n",
      " 17  days              7043 non-null   int64  \n",
      "dtypes: float64(1), int64(3), object(14)\n",
      "memory usage: 1.0+ MB\n"
     ]
    }
   ],
   "source": [
    "df_oe.info()"
   ]
  },
  {
   "cell_type": "code",
   "execution_count": 49,
   "id": "6b4af11e",
   "metadata": {},
   "outputs": [
    {
     "data": {
      "text/html": [
       "<div>\n",
       "<style scoped>\n",
       "    .dataframe tbody tr th:only-of-type {\n",
       "        vertical-align: middle;\n",
       "    }\n",
       "\n",
       "    .dataframe tbody tr th {\n",
       "        vertical-align: top;\n",
       "    }\n",
       "\n",
       "    .dataframe thead th {\n",
       "        text-align: right;\n",
       "    }\n",
       "</style>\n",
       "<table border=\"1\" class=\"dataframe\">\n",
       "  <thead>\n",
       "    <tr style=\"text-align: right;\">\n",
       "      <th></th>\n",
       "      <th>Type</th>\n",
       "      <th>PaperlessBilling</th>\n",
       "      <th>PaymentMethod</th>\n",
       "      <th>MonthlyCharges</th>\n",
       "      <th>churn</th>\n",
       "      <th>gender</th>\n",
       "      <th>SeniorCitizen</th>\n",
       "      <th>Partner</th>\n",
       "      <th>Dependents</th>\n",
       "      <th>InternetService</th>\n",
       "      <th>OnlineSecurity</th>\n",
       "      <th>OnlineBackup</th>\n",
       "      <th>DeviceProtection</th>\n",
       "      <th>TechSupport</th>\n",
       "      <th>StreamingTV</th>\n",
       "      <th>StreamingMovies</th>\n",
       "      <th>MultipleLines</th>\n",
       "      <th>days</th>\n",
       "    </tr>\n",
       "  </thead>\n",
       "  <tbody>\n",
       "    <tr>\n",
       "      <th>0</th>\n",
       "      <td>Month-to-month</td>\n",
       "      <td>Yes</td>\n",
       "      <td>Electronic check</td>\n",
       "      <td>29.85</td>\n",
       "      <td>0</td>\n",
       "      <td>Female</td>\n",
       "      <td>0</td>\n",
       "      <td>Yes</td>\n",
       "      <td>No</td>\n",
       "      <td>DSL</td>\n",
       "      <td>No</td>\n",
       "      <td>Yes</td>\n",
       "      <td>No</td>\n",
       "      <td>No</td>\n",
       "      <td>No</td>\n",
       "      <td>No</td>\n",
       "      <td>No</td>\n",
       "      <td>31</td>\n",
       "    </tr>\n",
       "    <tr>\n",
       "      <th>1</th>\n",
       "      <td>One year</td>\n",
       "      <td>No</td>\n",
       "      <td>Mailed check</td>\n",
       "      <td>56.95</td>\n",
       "      <td>0</td>\n",
       "      <td>Male</td>\n",
       "      <td>0</td>\n",
       "      <td>No</td>\n",
       "      <td>No</td>\n",
       "      <td>DSL</td>\n",
       "      <td>Yes</td>\n",
       "      <td>No</td>\n",
       "      <td>Yes</td>\n",
       "      <td>No</td>\n",
       "      <td>No</td>\n",
       "      <td>No</td>\n",
       "      <td>No</td>\n",
       "      <td>1036</td>\n",
       "    </tr>\n",
       "    <tr>\n",
       "      <th>2</th>\n",
       "      <td>Month-to-month</td>\n",
       "      <td>Yes</td>\n",
       "      <td>Mailed check</td>\n",
       "      <td>53.85</td>\n",
       "      <td>1</td>\n",
       "      <td>Male</td>\n",
       "      <td>0</td>\n",
       "      <td>No</td>\n",
       "      <td>No</td>\n",
       "      <td>DSL</td>\n",
       "      <td>Yes</td>\n",
       "      <td>Yes</td>\n",
       "      <td>No</td>\n",
       "      <td>No</td>\n",
       "      <td>No</td>\n",
       "      <td>No</td>\n",
       "      <td>No</td>\n",
       "      <td>61</td>\n",
       "    </tr>\n",
       "    <tr>\n",
       "      <th>3</th>\n",
       "      <td>One year</td>\n",
       "      <td>No</td>\n",
       "      <td>Bank transfer (automatic)</td>\n",
       "      <td>42.30</td>\n",
       "      <td>0</td>\n",
       "      <td>Male</td>\n",
       "      <td>0</td>\n",
       "      <td>No</td>\n",
       "      <td>No</td>\n",
       "      <td>DSL</td>\n",
       "      <td>Yes</td>\n",
       "      <td>No</td>\n",
       "      <td>Yes</td>\n",
       "      <td>Yes</td>\n",
       "      <td>No</td>\n",
       "      <td>No</td>\n",
       "      <td>No</td>\n",
       "      <td>1371</td>\n",
       "    </tr>\n",
       "    <tr>\n",
       "      <th>4</th>\n",
       "      <td>Month-to-month</td>\n",
       "      <td>Yes</td>\n",
       "      <td>Electronic check</td>\n",
       "      <td>70.70</td>\n",
       "      <td>1</td>\n",
       "      <td>Female</td>\n",
       "      <td>0</td>\n",
       "      <td>No</td>\n",
       "      <td>No</td>\n",
       "      <td>Fiber optic</td>\n",
       "      <td>No</td>\n",
       "      <td>No</td>\n",
       "      <td>No</td>\n",
       "      <td>No</td>\n",
       "      <td>No</td>\n",
       "      <td>No</td>\n",
       "      <td>No</td>\n",
       "      <td>61</td>\n",
       "    </tr>\n",
       "  </tbody>\n",
       "</table>\n",
       "</div>"
      ],
      "text/plain": [
       "             Type PaperlessBilling              PaymentMethod  MonthlyCharges  \\\n",
       "0  Month-to-month              Yes           Electronic check           29.85   \n",
       "1        One year               No               Mailed check           56.95   \n",
       "2  Month-to-month              Yes               Mailed check           53.85   \n",
       "3        One year               No  Bank transfer (automatic)           42.30   \n",
       "4  Month-to-month              Yes           Electronic check           70.70   \n",
       "\n",
       "   churn  gender  SeniorCitizen Partner Dependents InternetService  \\\n",
       "0      0  Female              0     Yes         No             DSL   \n",
       "1      0    Male              0      No         No             DSL   \n",
       "2      1    Male              0      No         No             DSL   \n",
       "3      0    Male              0      No         No             DSL   \n",
       "4      1  Female              0      No         No     Fiber optic   \n",
       "\n",
       "  OnlineSecurity OnlineBackup DeviceProtection TechSupport StreamingTV  \\\n",
       "0             No          Yes               No          No          No   \n",
       "1            Yes           No              Yes          No          No   \n",
       "2            Yes          Yes               No          No          No   \n",
       "3            Yes           No              Yes         Yes          No   \n",
       "4             No           No               No          No          No   \n",
       "\n",
       "  StreamingMovies MultipleLines  days  \n",
       "0              No            No    31  \n",
       "1              No            No  1036  \n",
       "2              No            No    61  \n",
       "3              No            No  1371  \n",
       "4              No            No    61  "
      ]
     },
     "execution_count": 49,
     "metadata": {},
     "output_type": "execute_result"
    }
   ],
   "source": [
    "df_oe.head()"
   ]
  },
  {
   "cell_type": "markdown",
   "id": "ac9b92e8",
   "metadata": {},
   "source": [
    "Let's single out the target and features."
   ]
  },
  {
   "cell_type": "markdown",
   "id": "cf814022",
   "metadata": {},
   "source": [
    "We divide the data into training and test sets."
   ]
  },
  {
   "cell_type": "markdown",
   "id": "c31ebdf3",
   "metadata": {},
   "source": [
    "Let's use Scaler. "
   ]
  },
  {
   "cell_type": "code",
   "execution_count": 50,
   "id": "a1b83c01",
   "metadata": {},
   "outputs": [],
   "source": [
    "numeric = ['MonthlyCharges','days']"
   ]
  },
  {
   "cell_type": "code",
   "execution_count": 51,
   "id": "77382c4f",
   "metadata": {},
   "outputs": [],
   "source": [
    "scaler = StandardScaler()\n",
    "scaler.fit(features_train[numeric])\n",
    "features_train[numeric] = scaler.transform(features_train[numeric])\n",
    "features_test[numeric] = scaler.transform(features_test[numeric])\n",
    "pd.options.mode.chained_assignment = None"
   ]
  },
  {
   "cell_type": "code",
   "execution_count": 52,
   "id": "8d86292e",
   "metadata": {},
   "outputs": [
    {
     "name": "stdout",
     "output_type": "stream",
     "text": [
      "Shape of train features:  (5282, 17)\n",
      "Shape of test features:  (1761, 17)\n"
     ]
    }
   ],
   "source": [
    "print(f'Shape of train features:  {features_train.shape}')\n",
    "print(f'Shape of test features:  {features_test.shape}')"
   ]
  },
  {
   "cell_type": "markdown",
   "id": "9cc35786",
   "metadata": {},
   "source": [
    "Let's move on to model traing. Three models were chosen: `RandomForestClassifier`, `LGBMClassifier`, `CatBoostClassifier`. "
   ]
  },
  {
   "cell_type": "markdown",
   "id": "53fbfb9b",
   "metadata": {},
   "source": [
    "### RandomForestClassifier"
   ]
  },
  {
   "cell_type": "code",
   "execution_count": 53,
   "id": "ec74b83c",
   "metadata": {},
   "outputs": [
    {
     "name": "stdout",
     "output_type": "stream",
     "text": [
      "Fitting 3 folds for each of 27 candidates, totalling 81 fits\n"
     ]
    }
   ],
   "source": [
    "start = time.time()\n",
    "param_grid = {'n_estimators': [300],\n",
    "              'max_depth': [5, 7, 9],\n",
    "              'min_samples_split': [2, 4, 6],\n",
    "              'min_samples_leaf': [2, 4, 6],\n",
    "             }\n",
    "\n",
    "model_rf = RandomForestClassifier(random_state=291122)\n",
    "best_rf = GridSearchCV(estimator = model_rf,\n",
    "                           param_grid = param_grid,\n",
    "                           cv = 3,\n",
    "                           n_jobs = -1,\n",
    "                           verbose = 3,\n",
    "                           scoring = 'roc_auc')\n",
    "best_rf.fit(features_train, target_train)\n",
    "end = time.time()\n",
    "rf_time = end - start"
   ]
  },
  {
   "cell_type": "code",
   "execution_count": 54,
   "id": "28b1c8f7",
   "metadata": {},
   "outputs": [
    {
     "name": "stdout",
     "output_type": "stream",
     "text": [
      "model params:  {'max_depth': 9, 'min_samples_leaf': 4, 'min_samples_split': 2, 'n_estimators': 300}\n",
      "roc_auc: 0.858886303580814\n"
     ]
    }
   ],
   "source": [
    "print('model params: ', best_rf.best_params_)\n",
    "roc_rf = best_rf.best_score_\n",
    "print(f'roc_auc: {roc_rf}')"
   ]
  },
  {
   "cell_type": "markdown",
   "id": "0ebcdab2",
   "metadata": {},
   "source": [
    "### LGBMClassifier"
   ]
  },
  {
   "cell_type": "code",
   "execution_count": 55,
   "id": "19e771c6",
   "metadata": {},
   "outputs": [
    {
     "name": "stdout",
     "output_type": "stream",
     "text": [
      "Fitting 3 folds for each of 6 candidates, totalling 18 fits\n"
     ]
    }
   ],
   "source": [
    "start = time.time()\n",
    "model_lgbm = LGBMClassifier(objective='binary', metric='auc', random_state=291122)\n",
    "lgbm_params = {\n",
    " 'max_depth': [3,20,100],\n",
    " 'n_estimators': [100,300],\n",
    " 'learning_rate': [0.01]\n",
    "}\n",
    "\n",
    "\n",
    "best_lgbm = GridSearchCV(estimator = model_lgbm,\n",
    "                                param_grid = lgbm_params, \n",
    "                                verbose=3,\n",
    "                                cv=3,\n",
    "                                n_jobs=-1,\n",
    "                                scoring='roc_auc')\n",
    "\n",
    "\n",
    "\n",
    "best_lgbm.fit(features_train, target_train)\n",
    "end = time.time()\n",
    "lgbm_time = end - start"
   ]
  },
  {
   "cell_type": "code",
   "execution_count": 56,
   "id": "f13b2376",
   "metadata": {},
   "outputs": [
    {
     "name": "stdout",
     "output_type": "stream",
     "text": [
      "model params:  {'learning_rate': 0.01, 'max_depth': 100, 'n_estimators': 300}\n",
      "roc_auc: 0.8703722997254074\n"
     ]
    }
   ],
   "source": [
    "print('model params: ', best_lgbm.best_params_)\n",
    "roc_lgbm = best_lgbm.best_score_\n",
    "print(f'roc_auc: {roc_lgbm}')"
   ]
  },
  {
   "cell_type": "markdown",
   "id": "ddc9d4a7",
   "metadata": {},
   "source": [
    "### CatBoostClassifier"
   ]
  },
  {
   "cell_type": "code",
   "execution_count": 57,
   "id": "18e62e60",
   "metadata": {},
   "outputs": [
    {
     "name": "stdout",
     "output_type": "stream",
     "text": [
      "Fitting 3 folds for each of 1 candidates, totalling 3 fits\n"
     ]
    }
   ],
   "source": [
    "start = time.time()\n",
    "catboost = CatBoostClassifier(loss_function='Logloss', random_seed=291122,silent=True)\n",
    "\n",
    "catboost_params = {\n",
    " 'iterations': [100],\n",
    " 'learning_rate': [0.1]\n",
    "}\n",
    "\n",
    "\n",
    "\n",
    "best_cat = GridSearchCV(catboost,\n",
    "                                   catboost_params, \n",
    "                                   verbose=3,\n",
    "                                   cv=3,\n",
    "                                   n_jobs=-1,\n",
    "                                   scoring='roc_auc')\n",
    "\n",
    "\n",
    "best_cat.fit(features_train, target_train)\n",
    "end = time.time()\n",
    "cat_time = end - start "
   ]
  },
  {
   "cell_type": "code",
   "execution_count": 58,
   "id": "2abd45be",
   "metadata": {},
   "outputs": [
    {
     "name": "stdout",
     "output_type": "stream",
     "text": [
      "model params:  {'iterations': 100, 'learning_rate': 0.1}\n",
      "roc_auc: 0.8671158111085774\n"
     ]
    }
   ],
   "source": [
    "print('model params: ', best_cat.best_params_)\n",
    "roc_catboost = best_cat.best_score_\n",
    "print(f'roc_auc: {roc_catboost}')"
   ]
  },
  {
   "cell_type": "markdown",
   "id": "2ca3ef19",
   "metadata": {},
   "source": [
    "### Analysing the models"
   ]
  },
  {
   "cell_type": "code",
   "execution_count": 59,
   "id": "6c3f8644",
   "metadata": {},
   "outputs": [],
   "source": [
    "table = pd.DataFrame({\n",
    "    'model': ['RandomForest', 'LightGBM', 'Catboost'],\n",
    "    'time' : [ rf_time, lgbm_time, cat_time ] , \n",
    "    'ROC-AUC': [roc_rf, roc_lgbm, roc_catboost]\n",
    "})\n"
   ]
  },
  {
   "cell_type": "code",
   "execution_count": 60,
   "id": "e3bba2a5",
   "metadata": {},
   "outputs": [
    {
     "data": {
      "text/html": [
       "<div>\n",
       "<style scoped>\n",
       "    .dataframe tbody tr th:only-of-type {\n",
       "        vertical-align: middle;\n",
       "    }\n",
       "\n",
       "    .dataframe tbody tr th {\n",
       "        vertical-align: top;\n",
       "    }\n",
       "\n",
       "    .dataframe thead th {\n",
       "        text-align: right;\n",
       "    }\n",
       "</style>\n",
       "<table border=\"1\" class=\"dataframe\">\n",
       "  <thead>\n",
       "    <tr style=\"text-align: right;\">\n",
       "      <th></th>\n",
       "      <th>model</th>\n",
       "      <th>time</th>\n",
       "      <th>ROC-AUC</th>\n",
       "    </tr>\n",
       "  </thead>\n",
       "  <tbody>\n",
       "    <tr>\n",
       "      <th>0</th>\n",
       "      <td>RandomForest</td>\n",
       "      <td>67.868285</td>\n",
       "      <td>0.858886</td>\n",
       "    </tr>\n",
       "    <tr>\n",
       "      <th>1</th>\n",
       "      <td>LightGBM</td>\n",
       "      <td>6.666476</td>\n",
       "      <td>0.870372</td>\n",
       "    </tr>\n",
       "    <tr>\n",
       "      <th>2</th>\n",
       "      <td>Catboost</td>\n",
       "      <td>3.568595</td>\n",
       "      <td>0.867116</td>\n",
       "    </tr>\n",
       "  </tbody>\n",
       "</table>\n",
       "</div>"
      ],
      "text/plain": [
       "          model       time   ROC-AUC\n",
       "0  RandomForest  67.868285  0.858886\n",
       "1      LightGBM   6.666476  0.870372\n",
       "2      Catboost   3.568595  0.867116"
      ]
     },
     "execution_count": 60,
     "metadata": {},
     "output_type": "execute_result"
    }
   ],
   "source": [
    "table"
   ]
  },
  {
   "cell_type": "markdown",
   "id": "00cb60cb",
   "metadata": {},
   "source": [
    "The best model is `LightGBM`.  ROC-AUC is 0.870372, the best parameters of this models are `learning_rate`: 0.01, `max_depth`: 100, `n_estimators`: 300."
   ]
  },
  {
   "cell_type": "markdown",
   "id": "29390f29",
   "metadata": {},
   "source": [
    "Let's make a ROC curve for the best model."
   ]
  },
  {
   "cell_type": "code",
   "execution_count": 61,
   "id": "b812dc30",
   "metadata": {},
   "outputs": [
    {
     "data": {
      "image/png": "[encoded data removed]",
      "text/plain": [
       "<Figure size 432x288 with 1 Axes>"
      ]
     },
     "metadata": {
      "needs_background": "light"
     },
     "output_type": "display_data"
    }
   ],
   "source": [
    "def make_roc_curve(features_test, predict_proba):\n",
    "    fpr, tpr, thresholds = roc_curve(target_test, predict_proba)\n",
    "\n",
    "    plt.figure()\n",
    "    plt.plot(fpr, tpr)\n",
    "    plt.plot([0, 1], [0, 1], linestyle='--')\n",
    "    plt.xlim([0.0, 1.0])\n",
    "    plt.ylim([0.0, 1.0])\n",
    "    plt.xlabel('False Positive Rate')\n",
    "    plt.ylabel('True Positive Rate')\n",
    "    plt.title('ROC-curve')\n",
    "    plt.show()\n",
    "    \n",
    "make_roc_curve(target_test, best_lgbm.predict_proba(features_test)[:, 1])"
   ]
  },
  {
   "cell_type": "code",
   "execution_count": 62,
   "id": "6d03f3d7",
   "metadata": {},
   "outputs": [],
   "source": [
    "predict_test = best_lgbm.predict(features_test)"
   ]
  },
  {
   "cell_type": "code",
   "execution_count": 63,
   "id": "d44e21c8",
   "metadata": {},
   "outputs": [
    {
     "data": {
      "image/png": "[encoded data removed]",
      "text/plain": [
       "<Figure size 432x288 with 2 Axes>"
      ]
     },
     "metadata": {
      "needs_background": "light"
     },
     "output_type": "display_data"
    }
   ],
   "source": [
    "sns.heatmap(confusion_matrix(target_test, predict_test), cmap='magma',  annot=True)\n",
    "plt.title('Confusion Matrix');"
   ]
  },
  {
   "cell_type": "markdown",
   "id": "1ed8494a",
   "metadata": {},
   "source": [
    "The model is rarely wrong. More likely to predict false negatives. It can be concluded that the prediction accuracy is high."
   ]
  },
  {
   "cell_type": "markdown",
   "id": "789661f0",
   "metadata": {},
   "source": [
    "### Testing the model"
   ]
  },
  {
   "cell_type": "markdown",
   "id": "e2317472",
   "metadata": {},
   "source": [
    "Let's check the best model on the test set."
   ]
  },
  {
   "cell_type": "code",
   "execution_count": 64,
   "id": "9e8c5e7e",
   "metadata": {},
   "outputs": [],
   "source": [
    "predict_test = best_lgbm.predict_proba(features_test)[:, 1]"
   ]
  },
  {
   "cell_type": "code",
   "execution_count": 65,
   "id": "784bffbd",
   "metadata": {},
   "outputs": [
    {
     "data": {
      "text/plain": [
       "0.8862796170101506"
      ]
     },
     "execution_count": 65,
     "metadata": {},
     "output_type": "execute_result"
    }
   ],
   "source": [
    "roc_auc_score(target_test, predict_test)"
   ]
  },
  {
   "cell_type": "markdown",
   "id": "4193d85d",
   "metadata": {},
   "source": [
    "ROC-AUC on test set is 0.88627."
   ]
  },
  {
   "cell_type": "code",
   "execution_count": 66,
   "id": "7e4b399d",
   "metadata": {},
   "outputs": [],
   "source": [
    "importance = pd.DataFrame(data = {'feature': features_train.columns, 'percent': best_lgbm.best_estimator_.feature_importances_})"
   ]
  },
  {
   "cell_type": "code",
   "execution_count": 67,
   "id": "ba872e9b",
   "metadata": {},
   "outputs": [
    {
     "data": {
      "text/html": [
       "<div>\n",
       "<style scoped>\n",
       "    .dataframe tbody tr th:only-of-type {\n",
       "        vertical-align: middle;\n",
       "    }\n",
       "\n",
       "    .dataframe tbody tr th {\n",
       "        vertical-align: top;\n",
       "    }\n",
       "\n",
       "    .dataframe thead th {\n",
       "        text-align: right;\n",
       "    }\n",
       "</style>\n",
       "<table border=\"1\" class=\"dataframe\">\n",
       "  <thead>\n",
       "    <tr style=\"text-align: right;\">\n",
       "      <th></th>\n",
       "      <th>feature</th>\n",
       "      <th>percent</th>\n",
       "    </tr>\n",
       "  </thead>\n",
       "  <tbody>\n",
       "    <tr>\n",
       "      <th>16</th>\n",
       "      <td>days</td>\n",
       "      <td>3826</td>\n",
       "    </tr>\n",
       "    <tr>\n",
       "      <th>3</th>\n",
       "      <td>MonthlyCharges</td>\n",
       "      <td>2115</td>\n",
       "    </tr>\n",
       "    <tr>\n",
       "      <th>0</th>\n",
       "      <td>Type</td>\n",
       "      <td>528</td>\n",
       "    </tr>\n",
       "    <tr>\n",
       "      <th>2</th>\n",
       "      <td>PaymentMethod</td>\n",
       "      <td>436</td>\n",
       "    </tr>\n",
       "    <tr>\n",
       "      <th>8</th>\n",
       "      <td>InternetService</td>\n",
       "      <td>281</td>\n",
       "    </tr>\n",
       "  </tbody>\n",
       "</table>\n",
       "</div>"
      ],
      "text/plain": [
       "            feature  percent\n",
       "16             days     3826\n",
       "3    MonthlyCharges     2115\n",
       "0              Type      528\n",
       "2     PaymentMethod      436\n",
       "8   InternetService      281"
      ]
     },
     "execution_count": 67,
     "metadata": {},
     "output_type": "execute_result"
    }
   ],
   "source": [
    "importance.sort_values('percent',ascending=False).head()"
   ]
  },
  {
   "cell_type": "markdown",
   "id": "f788ab13",
   "metadata": {},
   "source": [
    "Most of all, the client's departure is influenced by the number of days the contract exists and its type, and the monthly payment."
   ]
  },
  {
   "cell_type": "markdown",
   "id": "6d2ad107",
   "metadata": {},
   "source": [
    "**Conclusion**\n",
    "\n",
    "During training:\n",
    "\n",
    "- The data was prepared and divided into training and test sets.\n",
    "- Three models were chosen: `RandomForestClassifier`, `LGBMClassifier`, `CatBoostClassifier`.\n",
    "- `RandomForestClassifier` showed an AUC-ROC result of 0.858886 with `max_depth = 9`, `max_features = 7`, `min_samples_leaf' = 2`, `min_samples_split' = 2`, `n_estimators = 300`.\n",
    "- `LGBMClassifier` showed an AUC-ROC result of 0.870372 with `max_depth = 100`, `learning_rate = 0.01`, `n_estimators' = 300`.\n",
    "- `CatBoostClassifier` showed AUC-ROC 0.867116 with `iterations = 100`, `learning_rate = 0.1`.\n",
    "- The best model `LightLGBM`. The ROC-AUC indicator on the test sample is 0.88627.\n",
    "- Client departure is affected by the number of days, monthly payment and type of contract."
   ]
  },
  {
   "cell_type": "markdown",
   "id": "c57aa3ec",
   "metadata": {},
   "source": [
    "## Report\n",
    "\n",
    "The purpose of this study was to analyze the data and predict the outflow of customers, which in the future would allow us to develop a system of special conditions that will help retain customers.\n",
    "\n",
    "The project was carried out in accordance with the plan, all items were completed.\n",
    "\n",
    "The project consisted of the following sections:\n",
    "\n",
    "1. Data preparation\n",
    "\n",
    "In this section, the data has been loaded and a preliminary analysis has been performed. It was found that some features needed to be brought to the correct type.\n",
    "In addition, gaps were found in the end date of the contract and the total charges, this was due to the fact that customers continue to use the company's services, and new customers have not yet had time to pay the fee. It was decided to put the end date of the contract on 2020-02-01 , and in the total charges column, replace the gaps with 0. No duplicates were found in the data.\n",
    "\n",
    "2. Exploratory data analysis\n",
    "\n",
    "In this section, we combined the tables and examined the data in order to identify factors affecting the target. In the target there is an imbalance in the ratio of 1:3. It was decided to leave the imbalance, since the ROC-AUC metric is not sensitive to imbalance.\n",
    "\n",
    "The dependence of signs can also be observed, such as the type of contract and the method of payment for customer care, the type of Internet. Gender does not affect the target attribute, but the presence of a partner and dependents does, if there is one, then customers are less likely to leave the company.\n",
    "\n",
    "Thus, it is possible to make a portrait of the departing client. This is a client who has been using the services of the company for less than 2 months, he or she pays every month, his or her average monthly payments range from 60 to 100, which is more than the rest of the clients pay, he or she uses online payment. More often they use fiber optics.\n",
    "There are no outliers in the data.\n",
    "\n",
    "3. Train the model\n",
    "\n",
    "The data were prepared and divided into training and test sets. We performed scaling, coding, and removed unnecessary features. The following models were chosen for training: RandomForestClassifier, LGBMClassifier, CatBoostClassifier. The best model turned out to be LightLGBM, as it showed the highest ROC AUC during training and a good learning rate. The ROC-AUC indicator on the test sample was 0.88627, the best parameters of the model were learning_rate: 0.01, max_depth: 100, n_estimators: 300. In addition, it was important to study how often the model made mistakes. The accuracy of the model was high.\n",
    "Based on the data of the confusion matrix, we can conclude that the Accuracy of the LGBM model is high 89%, the model practically did not make errors in the prediction.\n",
    "\n",
    "Signs influencing the predictions were the following number of days and type of contract, monthly fee and type of payment.\n",
    "\n",
    "\n",
    "\n",
    "Difficulties arose with the OE data encoding, initially the encoding was used before splitting the dataset, but this could lead to data leakage, so it was transferred after, which was used when training on the training set, and was converted on both the training and test sets.\n",
    "\n",
    "In addition, there was a difficulty, it was to achieve ROC AUC greater than 0.87. The problem was solved by selecting hyperparameters.\n",
    "\n",
    "The key steps are the analysis of the target feature. It was decided to create a new sign that would allow, using information about the number of days, to determine whether the client left or not and see what could affect this. We have been able to compile a rough profile of an exiting client, and this information can be used to create special conditions and promotions that will increase the duration of use of the company's services."
   ]
  }
 ],
 "metadata": {
  "ExecuteTimeLog": [
   {
    "duration": 58,
    "start_time": "2022-12-06T10:50:56.459Z"
   },
   {
    "duration": 55,
    "start_time": "2022-12-06T10:54:41.766Z"
   },
   {
    "duration": 65,
    "start_time": "2022-12-06T10:54:57.167Z"
   },
   {
    "duration": 1801,
    "start_time": "2022-12-06T10:55:56.691Z"
   },
   {
    "duration": 326,
    "start_time": "2022-12-06T10:55:58.495Z"
   },
   {
    "duration": 3,
    "start_time": "2022-12-06T10:55:58.823Z"
   },
   {
    "duration": 200,
    "start_time": "2022-12-06T10:55:58.829Z"
   },
   {
    "duration": 33,
    "start_time": "2022-12-06T10:55:59.031Z"
   },
   {
    "duration": 16,
    "start_time": "2022-12-06T10:55:59.065Z"
   },
   {
    "duration": 40,
    "start_time": "2022-12-06T10:55:59.083Z"
   },
   {
    "duration": 21,
    "start_time": "2022-12-06T10:55:59.125Z"
   },
   {
    "duration": 27,
    "start_time": "2022-12-06T10:55:59.148Z"
   },
   {
    "duration": 22,
    "start_time": "2022-12-06T10:55:59.178Z"
   },
   {
    "duration": 32,
    "start_time": "2022-12-06T10:55:59.202Z"
   },
   {
    "duration": 21,
    "start_time": "2022-12-06T10:55:59.236Z"
   },
   {
    "duration": 19,
    "start_time": "2022-12-06T10:55:59.259Z"
   },
   {
    "duration": 46,
    "start_time": "2022-12-06T10:55:59.280Z"
   },
   {
    "duration": 30,
    "start_time": "2022-12-06T10:55:59.328Z"
   },
   {
    "duration": 25,
    "start_time": "2022-12-06T10:55:59.360Z"
   },
   {
    "duration": 30,
    "start_time": "2022-12-06T10:55:59.387Z"
   },
   {
    "duration": 15,
    "start_time": "2022-12-06T10:55:59.419Z"
   },
   {
    "duration": 28,
    "start_time": "2022-12-06T10:55:59.436Z"
   },
   {
    "duration": 44,
    "start_time": "2022-12-06T10:55:59.466Z"
   },
   {
    "duration": 23,
    "start_time": "2022-12-06T10:55:59.512Z"
   },
   {
    "duration": 31,
    "start_time": "2022-12-06T10:55:59.536Z"
   },
   {
    "duration": 9,
    "start_time": "2022-12-06T10:55:59.569Z"
   },
   {
    "duration": 43,
    "start_time": "2022-12-06T10:55:59.580Z"
   },
   {
    "duration": 40,
    "start_time": "2022-12-06T10:55:59.625Z"
   },
   {
    "duration": 114,
    "start_time": "2022-12-06T10:55:59.667Z"
   },
   {
    "duration": 142,
    "start_time": "2022-12-06T10:55:59.783Z"
   },
   {
    "duration": 142,
    "start_time": "2022-12-06T10:55:59.929Z"
   },
   {
    "duration": 252,
    "start_time": "2022-12-06T10:56:00.073Z"
   },
   {
    "duration": 138,
    "start_time": "2022-12-06T10:56:00.326Z"
   },
   {
    "duration": 131,
    "start_time": "2022-12-06T10:56:00.465Z"
   },
   {
    "duration": 154,
    "start_time": "2022-12-06T10:56:00.598Z"
   },
   {
    "duration": 154,
    "start_time": "2022-12-06T10:56:00.754Z"
   },
   {
    "duration": 169,
    "start_time": "2022-12-06T10:56:00.910Z"
   },
   {
    "duration": 156,
    "start_time": "2022-12-06T10:56:01.081Z"
   },
   {
    "duration": 158,
    "start_time": "2022-12-06T10:56:01.239Z"
   },
   {
    "duration": 133,
    "start_time": "2022-12-06T10:56:01.399Z"
   },
   {
    "duration": 14,
    "start_time": "2022-12-06T10:56:16.832Z"
   },
   {
    "duration": 48,
    "start_time": "2022-12-06T10:56:31.627Z"
   },
   {
    "duration": 24,
    "start_time": "2022-12-06T10:57:02.807Z"
   },
   {
    "duration": 51,
    "start_time": "2022-12-06T10:57:39.299Z"
   },
   {
    "duration": 56,
    "start_time": "2022-12-06T11:01:52.757Z"
   },
   {
    "duration": 61,
    "start_time": "2022-12-06T11:02:15.412Z"
   },
   {
    "duration": 70,
    "start_time": "2022-12-06T11:06:14.111Z"
   },
   {
    "duration": 52,
    "start_time": "2022-12-06T11:07:53.024Z"
   },
   {
    "duration": 55,
    "start_time": "2022-12-06T11:09:05.637Z"
   },
   {
    "duration": 1615,
    "start_time": "2022-12-06T13:43:17.418Z"
   },
   {
    "duration": 341,
    "start_time": "2022-12-06T13:43:19.035Z"
   },
   {
    "duration": 3,
    "start_time": "2022-12-06T13:43:19.377Z"
   },
   {
    "duration": 190,
    "start_time": "2022-12-06T13:43:19.382Z"
   },
   {
    "duration": 57,
    "start_time": "2022-12-06T13:43:19.574Z"
   },
   {
    "duration": 13,
    "start_time": "2022-12-06T13:43:20.614Z"
   },
   {
    "duration": 9,
    "start_time": "2022-12-06T13:43:20.821Z"
   },
   {
    "duration": 8,
    "start_time": "2022-12-06T13:43:21.385Z"
   },
   {
    "duration": 14,
    "start_time": "2022-12-06T13:43:21.678Z"
   },
   {
    "duration": 5,
    "start_time": "2022-12-06T13:43:22.202Z"
   },
   {
    "duration": 10,
    "start_time": "2022-12-06T13:43:22.709Z"
   },
   {
    "duration": 11,
    "start_time": "2022-12-06T13:43:22.921Z"
   },
   {
    "duration": 7,
    "start_time": "2022-12-06T13:43:23.116Z"
   },
   {
    "duration": 8,
    "start_time": "2022-12-06T13:43:23.494Z"
   },
   {
    "duration": 5,
    "start_time": "2022-12-06T13:43:23.690Z"
   },
   {
    "duration": 10,
    "start_time": "2022-12-06T13:43:24.077Z"
   },
   {
    "duration": 14,
    "start_time": "2022-12-06T13:43:25.003Z"
   },
   {
    "duration": 3,
    "start_time": "2022-12-06T13:43:25.652Z"
   },
   {
    "duration": 11,
    "start_time": "2022-12-06T13:43:26.740Z"
   },
   {
    "duration": 25,
    "start_time": "2022-12-06T13:43:34.810Z"
   },
   {
    "duration": 19,
    "start_time": "2022-12-06T13:43:48.295Z"
   },
   {
    "duration": 16,
    "start_time": "2022-12-06T13:43:49.001Z"
   },
   {
    "duration": 6,
    "start_time": "2022-12-06T13:43:49.838Z"
   },
   {
    "duration": 3,
    "start_time": "2022-12-06T13:43:50.316Z"
   },
   {
    "duration": 15,
    "start_time": "2022-12-06T13:44:04.870Z"
   },
   {
    "duration": 102,
    "start_time": "2022-12-06T13:44:06.412Z"
   },
   {
    "duration": 113,
    "start_time": "2022-12-06T13:44:26.672Z"
   },
   {
    "duration": 110,
    "start_time": "2022-12-06T13:44:27.821Z"
   },
   {
    "duration": 204,
    "start_time": "2022-12-06T13:44:28.488Z"
   },
   {
    "duration": 118,
    "start_time": "2022-12-06T13:44:29.453Z"
   },
   {
    "duration": 102,
    "start_time": "2022-12-06T13:44:30.754Z"
   },
   {
    "duration": 116,
    "start_time": "2022-12-06T13:44:31.715Z"
   },
   {
    "duration": 127,
    "start_time": "2022-12-06T13:44:32.161Z"
   },
   {
    "duration": 131,
    "start_time": "2022-12-06T13:44:33.221Z"
   },
   {
    "duration": 114,
    "start_time": "2022-12-06T13:44:34.208Z"
   },
   {
    "duration": 117,
    "start_time": "2022-12-06T13:44:35.454Z"
   },
   {
    "duration": 122,
    "start_time": "2022-12-06T13:44:37.287Z"
   },
   {
    "duration": 12,
    "start_time": "2022-12-06T13:46:01.594Z"
   },
   {
    "duration": 16,
    "start_time": "2022-12-06T13:47:03.343Z"
   },
   {
    "duration": 13,
    "start_time": "2022-12-06T13:49:35.102Z"
   },
   {
    "duration": 154,
    "start_time": "2022-12-06T13:49:37.292Z"
   },
   {
    "duration": 30,
    "start_time": "2022-12-06T13:49:44.737Z"
   },
   {
    "duration": 50,
    "start_time": "2022-12-07T15:22:35.671Z"
   },
   {
    "duration": 6,
    "start_time": "2022-12-07T15:22:44.036Z"
   },
   {
    "duration": 1716,
    "start_time": "2022-12-07T15:23:54.112Z"
   },
   {
    "duration": 528,
    "start_time": "2022-12-07T15:23:55.830Z"
   },
   {
    "duration": 3,
    "start_time": "2022-12-07T15:23:56.359Z"
   },
   {
    "duration": 168,
    "start_time": "2022-12-07T15:23:56.365Z"
   },
   {
    "duration": 32,
    "start_time": "2022-12-07T15:23:56.534Z"
   },
   {
    "duration": 44,
    "start_time": "2022-12-07T15:23:56.567Z"
   },
   {
    "duration": 10,
    "start_time": "2022-12-07T15:23:56.612Z"
   },
   {
    "duration": 10,
    "start_time": "2022-12-07T15:23:56.623Z"
   },
   {
    "duration": 18,
    "start_time": "2022-12-07T15:23:56.635Z"
   },
   {
    "duration": 4,
    "start_time": "2022-12-07T15:23:56.656Z"
   },
   {
    "duration": 15,
    "start_time": "2022-12-07T15:23:56.662Z"
   },
   {
    "duration": 13,
    "start_time": "2022-12-07T15:23:56.705Z"
   },
   {
    "duration": 8,
    "start_time": "2022-12-07T15:23:56.719Z"
   },
   {
    "duration": 9,
    "start_time": "2022-12-07T15:23:56.729Z"
   },
   {
    "duration": 7,
    "start_time": "2022-12-07T15:23:56.740Z"
   },
   {
    "duration": 15,
    "start_time": "2022-12-07T15:23:56.749Z"
   },
   {
    "duration": 45,
    "start_time": "2022-12-07T15:23:56.766Z"
   },
   {
    "duration": 7,
    "start_time": "2022-12-07T15:23:56.812Z"
   },
   {
    "duration": 14,
    "start_time": "2022-12-07T15:23:56.821Z"
   },
   {
    "duration": 30,
    "start_time": "2022-12-07T15:23:56.836Z"
   },
   {
    "duration": 21,
    "start_time": "2022-12-07T15:23:56.867Z"
   },
   {
    "duration": 16,
    "start_time": "2022-12-07T15:23:56.905Z"
   },
   {
    "duration": 7,
    "start_time": "2022-12-07T15:23:56.923Z"
   },
   {
    "duration": 6,
    "start_time": "2022-12-07T15:23:56.931Z"
   },
   {
    "duration": 18,
    "start_time": "2022-12-07T15:23:56.938Z"
   },
   {
    "duration": 128,
    "start_time": "2022-12-07T15:23:56.958Z"
   },
   {
    "duration": 150,
    "start_time": "2022-12-07T15:23:57.087Z"
   },
   {
    "duration": 171,
    "start_time": "2022-12-07T15:23:57.241Z"
   },
   {
    "duration": 303,
    "start_time": "2022-12-07T15:23:57.414Z"
   },
   {
    "duration": 140,
    "start_time": "2022-12-07T15:23:57.718Z"
   },
   {
    "duration": 128,
    "start_time": "2022-12-07T15:23:57.860Z"
   },
   {
    "duration": 136,
    "start_time": "2022-12-07T15:23:57.990Z"
   },
   {
    "duration": 171,
    "start_time": "2022-12-07T15:23:58.127Z"
   },
   {
    "duration": 172,
    "start_time": "2022-12-07T15:23:58.300Z"
   },
   {
    "duration": 154,
    "start_time": "2022-12-07T15:23:58.474Z"
   },
   {
    "duration": 146,
    "start_time": "2022-12-07T15:23:58.630Z"
   },
   {
    "duration": 13,
    "start_time": "2022-12-07T15:23:58.778Z"
   },
   {
    "duration": 152,
    "start_time": "2022-12-07T15:23:58.793Z"
   },
   {
    "duration": 4,
    "start_time": "2022-12-07T15:23:58.947Z"
   },
   {
    "duration": 365,
    "start_time": "2022-12-07T15:23:58.952Z"
   },
   {
    "duration": 4,
    "start_time": "2022-12-07T15:23:59.319Z"
   },
   {
    "duration": 4,
    "start_time": "2022-12-07T15:23:59.325Z"
   },
   {
    "duration": 52,
    "start_time": "2022-12-07T15:23:59.331Z"
   },
   {
    "duration": 21,
    "start_time": "2022-12-07T15:23:59.385Z"
   },
   {
    "duration": 9,
    "start_time": "2022-12-07T15:23:59.408Z"
   },
   {
    "duration": 13,
    "start_time": "2022-12-07T15:23:59.419Z"
   },
   {
    "duration": 2,
    "start_time": "2022-12-07T15:23:59.434Z"
   },
   {
    "duration": 22,
    "start_time": "2022-12-07T15:23:59.438Z"
   },
   {
    "duration": 4,
    "start_time": "2022-12-07T15:23:59.461Z"
   },
   {
    "duration": 51,
    "start_time": "2022-12-07T15:23:59.466Z"
   },
   {
    "duration": 4,
    "start_time": "2022-12-07T15:23:59.518Z"
   },
   {
    "duration": 62789,
    "start_time": "2022-12-07T15:23:59.523Z"
   },
   {
    "duration": 5,
    "start_time": "2022-12-07T15:25:02.313Z"
   },
   {
    "duration": 44390,
    "start_time": "2022-12-07T15:25:02.319Z"
   },
   {
    "duration": 3,
    "start_time": "2022-12-07T15:25:46.710Z"
   },
   {
    "duration": 4185,
    "start_time": "2022-12-07T15:25:46.715Z"
   },
   {
    "duration": 4,
    "start_time": "2022-12-07T15:25:50.901Z"
   },
   {
    "duration": 24,
    "start_time": "2022-12-07T15:25:50.906Z"
   },
   {
    "duration": 14,
    "start_time": "2022-12-07T15:25:50.932Z"
   },
   {
    "duration": 123,
    "start_time": "2022-12-07T15:25:50.948Z"
   },
   {
    "duration": 4,
    "start_time": "2022-12-07T15:25:51.073Z"
   },
   {
    "duration": 353,
    "start_time": "2022-12-07T15:25:51.078Z"
   },
   {
    "duration": 0,
    "start_time": "2022-12-07T15:25:51.432Z"
   },
   {
    "duration": 0,
    "start_time": "2022-12-07T15:25:51.433Z"
   },
   {
    "duration": 0,
    "start_time": "2022-12-07T15:25:51.434Z"
   },
   {
    "duration": 0,
    "start_time": "2022-12-07T15:25:51.436Z"
   },
   {
    "duration": 8,
    "start_time": "2022-12-07T15:31:55.896Z"
   },
   {
    "duration": 4,
    "start_time": "2022-12-07T15:32:14.785Z"
   },
   {
    "duration": 4,
    "start_time": "2022-12-07T15:32:25.529Z"
   },
   {
    "duration": 6,
    "start_time": "2022-12-07T15:32:58.775Z"
   },
   {
    "duration": 5,
    "start_time": "2022-12-07T15:33:11.743Z"
   },
   {
    "duration": 5,
    "start_time": "2022-12-07T15:33:13.780Z"
   },
   {
    "duration": 4,
    "start_time": "2022-12-07T15:33:14.239Z"
   },
   {
    "duration": 4,
    "start_time": "2022-12-07T15:33:26.925Z"
   },
   {
    "duration": 6,
    "start_time": "2022-12-07T15:33:36.763Z"
   },
   {
    "duration": 6,
    "start_time": "2022-12-07T15:37:43.388Z"
   },
   {
    "duration": 4,
    "start_time": "2022-12-07T15:37:46.381Z"
   },
   {
    "duration": 358,
    "start_time": "2022-12-07T15:37:46.589Z"
   },
   {
    "duration": 240,
    "start_time": "2022-12-07T15:38:12.472Z"
   },
   {
    "duration": 4,
    "start_time": "2022-12-07T15:38:19.440Z"
   },
   {
    "duration": 8,
    "start_time": "2022-12-07T15:38:20.169Z"
   },
   {
    "duration": 3,
    "start_time": "2022-12-07T15:38:24.458Z"
   },
   {
    "duration": 300,
    "start_time": "2022-12-07T15:38:29.988Z"
   },
   {
    "duration": 2190,
    "start_time": "2022-12-07T15:40:05.327Z"
   },
   {
    "duration": 111,
    "start_time": "2022-12-07T15:40:07.519Z"
   },
   {
    "duration": 4,
    "start_time": "2022-12-07T15:40:07.631Z"
   },
   {
    "duration": 169,
    "start_time": "2022-12-07T15:40:07.637Z"
   },
   {
    "duration": 28,
    "start_time": "2022-12-07T15:40:07.807Z"
   },
   {
    "duration": 13,
    "start_time": "2022-12-07T15:40:07.837Z"
   },
   {
    "duration": 9,
    "start_time": "2022-12-07T15:40:07.852Z"
   },
   {
    "duration": 9,
    "start_time": "2022-12-07T15:40:07.863Z"
   },
   {
    "duration": 12,
    "start_time": "2022-12-07T15:40:07.905Z"
   },
   {
    "duration": 5,
    "start_time": "2022-12-07T15:40:07.920Z"
   },
   {
    "duration": 11,
    "start_time": "2022-12-07T15:40:07.926Z"
   },
   {
    "duration": 11,
    "start_time": "2022-12-07T15:40:07.938Z"
   },
   {
    "duration": 8,
    "start_time": "2022-12-07T15:40:07.950Z"
   },
   {
    "duration": 15,
    "start_time": "2022-12-07T15:40:07.959Z"
   },
   {
    "duration": 30,
    "start_time": "2022-12-07T15:40:07.976Z"
   },
   {
    "duration": 22,
    "start_time": "2022-12-07T15:40:08.008Z"
   },
   {
    "duration": 18,
    "start_time": "2022-12-07T15:40:08.031Z"
   },
   {
    "duration": 7,
    "start_time": "2022-12-07T15:40:08.050Z"
   },
   {
    "duration": 20,
    "start_time": "2022-12-07T15:40:08.058Z"
   },
   {
    "duration": 36,
    "start_time": "2022-12-07T15:40:08.079Z"
   },
   {
    "duration": 22,
    "start_time": "2022-12-07T15:40:08.116Z"
   },
   {
    "duration": 18,
    "start_time": "2022-12-07T15:40:08.139Z"
   },
   {
    "duration": 9,
    "start_time": "2022-12-07T15:40:08.159Z"
   },
   {
    "duration": 11,
    "start_time": "2022-12-07T15:40:08.170Z"
   },
   {
    "duration": 35,
    "start_time": "2022-12-07T15:40:08.184Z"
   },
   {
    "duration": 114,
    "start_time": "2022-12-07T15:40:08.221Z"
   },
   {
    "duration": 149,
    "start_time": "2022-12-07T15:40:08.337Z"
   },
   {
    "duration": 147,
    "start_time": "2022-12-07T15:40:08.491Z"
   },
   {
    "duration": 245,
    "start_time": "2022-12-07T15:40:08.640Z"
   },
   {
    "duration": 142,
    "start_time": "2022-12-07T15:40:08.886Z"
   },
   {
    "duration": 130,
    "start_time": "2022-12-07T15:40:09.030Z"
   },
   {
    "duration": 139,
    "start_time": "2022-12-07T15:40:09.162Z"
   },
   {
    "duration": 149,
    "start_time": "2022-12-07T15:40:09.305Z"
   },
   {
    "duration": 166,
    "start_time": "2022-12-07T15:40:09.456Z"
   },
   {
    "duration": 154,
    "start_time": "2022-12-07T15:40:09.624Z"
   },
   {
    "duration": 156,
    "start_time": "2022-12-07T15:40:09.780Z"
   },
   {
    "duration": 14,
    "start_time": "2022-12-07T15:40:09.938Z"
   },
   {
    "duration": 160,
    "start_time": "2022-12-07T15:40:09.953Z"
   },
   {
    "duration": 4,
    "start_time": "2022-12-07T15:40:10.115Z"
   },
   {
    "duration": 294,
    "start_time": "2022-12-07T15:40:10.120Z"
   },
   {
    "duration": 5,
    "start_time": "2022-12-07T15:40:10.415Z"
   },
   {
    "duration": 12,
    "start_time": "2022-12-07T15:40:10.422Z"
   },
   {
    "duration": 75,
    "start_time": "2022-12-07T15:40:10.436Z"
   },
   {
    "duration": 5,
    "start_time": "2022-12-07T15:40:10.513Z"
   },
   {
    "duration": 22,
    "start_time": "2022-12-07T15:40:10.519Z"
   },
   {
    "duration": 27,
    "start_time": "2022-12-07T15:40:10.542Z"
   },
   {
    "duration": 14,
    "start_time": "2022-12-07T15:40:10.571Z"
   },
   {
    "duration": 42,
    "start_time": "2022-12-07T15:40:10.586Z"
   },
   {
    "duration": 33,
    "start_time": "2022-12-07T15:40:10.630Z"
   },
   {
    "duration": 34,
    "start_time": "2022-12-07T15:40:10.665Z"
   },
   {
    "duration": 30,
    "start_time": "2022-12-07T15:40:10.701Z"
   },
   {
    "duration": 61006,
    "start_time": "2022-12-07T15:40:10.733Z"
   },
   {
    "duration": 4,
    "start_time": "2022-12-07T15:41:11.741Z"
   },
   {
    "duration": 42973,
    "start_time": "2022-12-07T15:41:11.746Z"
   },
   {
    "duration": 3,
    "start_time": "2022-12-07T15:41:54.720Z"
   },
   {
    "duration": 4553,
    "start_time": "2022-12-07T15:41:54.725Z"
   },
   {
    "duration": 3,
    "start_time": "2022-12-07T15:41:59.280Z"
   },
   {
    "duration": 15,
    "start_time": "2022-12-07T15:41:59.285Z"
   },
   {
    "duration": 44,
    "start_time": "2022-12-07T15:41:59.301Z"
   },
   {
    "duration": 159,
    "start_time": "2022-12-07T15:41:59.347Z"
   },
   {
    "duration": 5,
    "start_time": "2022-12-07T15:44:20.405Z"
   },
   {
    "duration": 5,
    "start_time": "2022-12-07T15:44:21.554Z"
   },
   {
    "duration": 4,
    "start_time": "2022-12-07T15:44:22.367Z"
   },
   {
    "duration": 4,
    "start_time": "2022-12-07T15:44:29.955Z"
   },
   {
    "duration": 4,
    "start_time": "2022-12-07T15:44:36.676Z"
   },
   {
    "duration": 4,
    "start_time": "2022-12-07T15:44:46.168Z"
   },
   {
    "duration": 4,
    "start_time": "2022-12-07T15:45:30.370Z"
   },
   {
    "duration": 106,
    "start_time": "2022-12-07T15:46:46.009Z"
   },
   {
    "duration": 110,
    "start_time": "2022-12-07T15:46:51.837Z"
   },
   {
    "duration": 125,
    "start_time": "2022-12-07T15:46:57.573Z"
   },
   {
    "duration": 13,
    "start_time": "2022-12-07T15:47:08.424Z"
   },
   {
    "duration": 12,
    "start_time": "2022-12-07T15:47:20.597Z"
   },
   {
    "duration": 9,
    "start_time": "2022-12-07T15:47:25.826Z"
   },
   {
    "duration": 9,
    "start_time": "2022-12-07T15:52:35.958Z"
   },
   {
    "duration": 9,
    "start_time": "2022-12-07T15:52:46.292Z"
   },
   {
    "duration": 13,
    "start_time": "2022-12-07T15:52:48.414Z"
   },
   {
    "duration": 10,
    "start_time": "2022-12-07T15:54:01.174Z"
   },
   {
    "duration": 9,
    "start_time": "2022-12-07T15:54:12.115Z"
   },
   {
    "duration": 8,
    "start_time": "2022-12-07T15:54:18.382Z"
   },
   {
    "duration": 9,
    "start_time": "2022-12-07T15:54:21.165Z"
   },
   {
    "duration": 4,
    "start_time": "2022-12-07T15:55:52.548Z"
   },
   {
    "duration": 5,
    "start_time": "2022-12-07T15:55:53.880Z"
   },
   {
    "duration": 4,
    "start_time": "2022-12-07T15:56:12.932Z"
   },
   {
    "duration": 8,
    "start_time": "2022-12-07T15:56:13.397Z"
   },
   {
    "duration": 3,
    "start_time": "2022-12-07T16:02:14.599Z"
   },
   {
    "duration": 4,
    "start_time": "2022-12-07T16:02:22.806Z"
   },
   {
    "duration": 12,
    "start_time": "2022-12-07T16:02:23.183Z"
   },
   {
    "duration": 15,
    "start_time": "2022-12-07T16:02:28.102Z"
   },
   {
    "duration": 9,
    "start_time": "2022-12-07T16:02:33.055Z"
   },
   {
    "duration": 10,
    "start_time": "2022-12-07T16:02:38.842Z"
   },
   {
    "duration": 10,
    "start_time": "2022-12-07T16:02:57.937Z"
   },
   {
    "duration": 1495,
    "start_time": "2022-12-07T16:08:06.840Z"
   },
   {
    "duration": 103,
    "start_time": "2022-12-07T16:08:08.337Z"
   },
   {
    "duration": 3,
    "start_time": "2022-12-07T16:08:08.442Z"
   },
   {
    "duration": 160,
    "start_time": "2022-12-07T16:08:08.447Z"
   },
   {
    "duration": 32,
    "start_time": "2022-12-07T16:08:09.654Z"
   },
   {
    "duration": 16,
    "start_time": "2022-12-07T16:08:09.999Z"
   },
   {
    "duration": 10,
    "start_time": "2022-12-07T16:08:10.186Z"
   },
   {
    "duration": 9,
    "start_time": "2022-12-07T16:08:10.526Z"
   },
   {
    "duration": 14,
    "start_time": "2022-12-07T16:08:10.698Z"
   },
   {
    "duration": 5,
    "start_time": "2022-12-07T16:08:11.038Z"
   },
   {
    "duration": 14,
    "start_time": "2022-12-07T16:08:11.375Z"
   },
   {
    "duration": 11,
    "start_time": "2022-12-07T16:08:11.552Z"
   },
   {
    "duration": 7,
    "start_time": "2022-12-07T16:08:11.742Z"
   },
   {
    "duration": 9,
    "start_time": "2022-12-07T16:08:12.106Z"
   },
   {
    "duration": 6,
    "start_time": "2022-12-07T16:08:12.288Z"
   },
   {
    "duration": 16,
    "start_time": "2022-12-07T16:08:12.657Z"
   },
   {
    "duration": 22,
    "start_time": "2022-12-07T16:08:13.039Z"
   },
   {
    "duration": 5,
    "start_time": "2022-12-07T16:08:13.431Z"
   },
   {
    "duration": 16,
    "start_time": "2022-12-07T16:08:13.839Z"
   },
   {
    "duration": 39,
    "start_time": "2022-12-07T16:08:15.074Z"
   },
   {
    "duration": 22,
    "start_time": "2022-12-07T16:08:15.473Z"
   },
   {
    "duration": 26,
    "start_time": "2022-12-07T16:08:15.708Z"
   },
   {
    "duration": 8,
    "start_time": "2022-12-07T16:08:16.477Z"
   },
   {
    "duration": 3,
    "start_time": "2022-12-07T16:08:16.696Z"
   },
   {
    "duration": 17,
    "start_time": "2022-12-07T16:08:17.234Z"
   },
   {
    "duration": 112,
    "start_time": "2022-12-07T16:08:17.676Z"
   },
   {
    "duration": 140,
    "start_time": "2022-12-07T16:08:18.269Z"
   },
   {
    "duration": 147,
    "start_time": "2022-12-07T16:08:18.931Z"
   },
   {
    "duration": 229,
    "start_time": "2022-12-07T16:08:19.165Z"
   },
   {
    "duration": 130,
    "start_time": "2022-12-07T16:08:19.574Z"
   },
   {
    "duration": 131,
    "start_time": "2022-12-07T16:08:20.005Z"
   },
   {
    "duration": 136,
    "start_time": "2022-12-07T16:08:20.464Z"
   },
   {
    "duration": 144,
    "start_time": "2022-12-07T16:08:20.662Z"
   },
   {
    "duration": 163,
    "start_time": "2022-12-07T16:08:21.104Z"
   },
   {
    "duration": 149,
    "start_time": "2022-12-07T16:08:21.614Z"
   },
   {
    "duration": 151,
    "start_time": "2022-12-07T16:08:22.123Z"
   },
   {
    "duration": 13,
    "start_time": "2022-12-07T16:08:22.811Z"
   },
   {
    "duration": 154,
    "start_time": "2022-12-07T16:08:23.703Z"
   },
   {
    "duration": 4,
    "start_time": "2022-12-07T16:08:25.093Z"
   },
   {
    "duration": 273,
    "start_time": "2022-12-07T16:08:25.433Z"
   },
   {
    "duration": 5,
    "start_time": "2022-12-07T16:08:26.590Z"
   },
   {
    "duration": 5,
    "start_time": "2022-12-07T16:08:29.003Z"
   },
   {
    "duration": 4,
    "start_time": "2022-12-07T16:08:30.050Z"
   },
   {
    "duration": 55,
    "start_time": "2022-12-07T16:08:30.867Z"
   },
   {
    "duration": 6,
    "start_time": "2022-12-07T16:08:31.111Z"
   },
   {
    "duration": 8,
    "start_time": "2022-12-07T16:08:31.277Z"
   },
   {
    "duration": 12,
    "start_time": "2022-12-07T16:08:31.655Z"
   },
   {
    "duration": 22,
    "start_time": "2022-12-07T16:08:32.678Z"
   },
   {
    "duration": 3,
    "start_time": "2022-12-07T16:08:34.319Z"
   },
   {
    "duration": 16,
    "start_time": "2022-12-07T16:08:34.529Z"
   },
   {
    "duration": 15,
    "start_time": "2022-12-07T16:08:38.055Z"
   },
   {
    "duration": 4,
    "start_time": "2022-12-07T16:08:39.652Z"
   },
   {
    "duration": 3702,
    "start_time": "2022-12-07T16:08:44.786Z"
   },
   {
    "duration": 4,
    "start_time": "2022-12-07T16:08:48.780Z"
   },
   {
    "duration": 4,
    "start_time": "2022-12-07T16:08:55.532Z"
   },
   {
    "duration": 6,
    "start_time": "2022-12-07T16:08:57.514Z"
   },
   {
    "duration": 115,
    "start_time": "2022-12-07T16:09:01.145Z"
   },
   {
    "duration": 4,
    "start_time": "2022-12-07T16:09:05.581Z"
   },
   {
    "duration": 12,
    "start_time": "2022-12-07T16:09:08.651Z"
   },
   {
    "duration": 235,
    "start_time": "2022-12-07T16:09:09.021Z"
   },
   {
    "duration": 1538,
    "start_time": "2022-12-07T16:10:57.268Z"
   },
   {
    "duration": 101,
    "start_time": "2022-12-07T16:10:58.808Z"
   },
   {
    "duration": 3,
    "start_time": "2022-12-07T16:10:58.911Z"
   },
   {
    "duration": 162,
    "start_time": "2022-12-07T16:10:58.916Z"
   },
   {
    "duration": 32,
    "start_time": "2022-12-07T16:10:59.107Z"
   },
   {
    "duration": 15,
    "start_time": "2022-12-07T16:10:59.479Z"
   },
   {
    "duration": 10,
    "start_time": "2022-12-07T16:10:59.665Z"
   },
   {
    "duration": 11,
    "start_time": "2022-12-07T16:11:00.022Z"
   },
   {
    "duration": 14,
    "start_time": "2022-12-07T16:11:00.198Z"
   },
   {
    "duration": 5,
    "start_time": "2022-12-07T16:11:00.532Z"
   },
   {
    "duration": 10,
    "start_time": "2022-12-07T16:11:00.873Z"
   },
   {
    "duration": 13,
    "start_time": "2022-12-07T16:11:01.044Z"
   },
   {
    "duration": 8,
    "start_time": "2022-12-07T16:11:01.208Z"
   },
   {
    "duration": 10,
    "start_time": "2022-12-07T16:11:01.555Z"
   },
   {
    "duration": 5,
    "start_time": "2022-12-07T16:11:01.738Z"
   },
   {
    "duration": 11,
    "start_time": "2022-12-07T16:11:02.099Z"
   },
   {
    "duration": 14,
    "start_time": "2022-12-07T16:11:02.453Z"
   },
   {
    "duration": 4,
    "start_time": "2022-12-07T16:11:02.834Z"
   },
   {
    "duration": 13,
    "start_time": "2022-12-07T16:11:03.236Z"
   },
   {
    "duration": 26,
    "start_time": "2022-12-07T16:11:04.450Z"
   },
   {
    "duration": 23,
    "start_time": "2022-12-07T16:11:04.841Z"
   },
   {
    "duration": 17,
    "start_time": "2022-12-07T16:11:05.033Z"
   },
   {
    "duration": 7,
    "start_time": "2022-12-07T16:11:05.428Z"
   },
   {
    "duration": 4,
    "start_time": "2022-12-07T16:11:05.667Z"
   },
   {
    "duration": 21,
    "start_time": "2022-12-07T16:11:06.123Z"
   },
   {
    "duration": 107,
    "start_time": "2022-12-07T16:11:06.577Z"
   },
   {
    "duration": 152,
    "start_time": "2022-12-07T16:11:07.137Z"
   },
   {
    "duration": 133,
    "start_time": "2022-12-07T16:11:07.764Z"
   },
   {
    "duration": 265,
    "start_time": "2022-12-07T16:11:08.092Z"
   },
   {
    "duration": 131,
    "start_time": "2022-12-07T16:11:08.776Z"
   },
   {
    "duration": 122,
    "start_time": "2022-12-07T16:11:09.422Z"
   },
   {
    "duration": 151,
    "start_time": "2022-12-07T16:11:10.011Z"
   },
   {
    "duration": 151,
    "start_time": "2022-12-07T16:11:10.245Z"
   },
   {
    "duration": 171,
    "start_time": "2022-12-07T16:11:10.651Z"
   },
   {
    "duration": 155,
    "start_time": "2022-12-07T16:11:11.208Z"
   },
   {
    "duration": 141,
    "start_time": "2022-12-07T16:11:11.648Z"
   },
   {
    "duration": 14,
    "start_time": "2022-12-07T16:11:12.041Z"
   },
   {
    "duration": 146,
    "start_time": "2022-12-07T16:11:12.907Z"
   },
   {
    "duration": 4,
    "start_time": "2022-12-07T16:11:13.870Z"
   },
   {
    "duration": 322,
    "start_time": "2022-12-07T16:11:14.191Z"
   },
   {
    "duration": 5,
    "start_time": "2022-12-07T16:11:15.602Z"
   },
   {
    "duration": 3,
    "start_time": "2022-12-07T16:11:17.811Z"
   },
   {
    "duration": 5,
    "start_time": "2022-12-07T16:11:18.252Z"
   },
   {
    "duration": 53,
    "start_time": "2022-12-07T16:11:19.070Z"
   },
   {
    "duration": 6,
    "start_time": "2022-12-07T16:11:19.645Z"
   },
   {
    "duration": 10,
    "start_time": "2022-12-07T16:11:20.219Z"
   },
   {
    "duration": 14,
    "start_time": "2022-12-07T16:11:21.165Z"
   },
   {
    "duration": 23,
    "start_time": "2022-12-07T16:11:22.171Z"
   },
   {
    "duration": 2,
    "start_time": "2022-12-07T16:11:23.871Z"
   },
   {
    "duration": 16,
    "start_time": "2022-12-07T16:11:24.405Z"
   },
   {
    "duration": 15,
    "start_time": "2022-12-07T16:11:27.093Z"
   },
   {
    "duration": 3,
    "start_time": "2022-12-07T16:11:28.650Z"
   },
   {
    "duration": 61639,
    "start_time": "2022-12-07T16:11:29.838Z"
   },
   {
    "duration": 4,
    "start_time": "2022-12-07T16:12:31.479Z"
   },
   {
    "duration": 227123,
    "start_time": "2022-12-07T16:12:31.484Z"
   },
   {
    "duration": 4,
    "start_time": "2022-12-07T16:16:18.609Z"
   },
   {
    "duration": 3934,
    "start_time": "2022-12-07T16:16:18.614Z"
   },
   {
    "duration": 4,
    "start_time": "2022-12-07T16:16:22.549Z"
   },
   {
    "duration": 49,
    "start_time": "2022-12-07T16:16:22.554Z"
   },
   {
    "duration": 48,
    "start_time": "2022-12-07T16:16:22.604Z"
   },
   {
    "duration": 101,
    "start_time": "2022-12-07T16:17:25.458Z"
   },
   {
    "duration": 111,
    "start_time": "2022-12-07T16:17:49.635Z"
   },
   {
    "duration": 4,
    "start_time": "2022-12-07T16:17:51.417Z"
   },
   {
    "duration": 5,
    "start_time": "2022-12-07T16:17:52.309Z"
   },
   {
    "duration": 3,
    "start_time": "2022-12-07T16:17:56.468Z"
   },
   {
    "duration": 5,
    "start_time": "2022-12-07T16:17:56.687Z"
   },
   {
    "duration": 305,
    "start_time": "2022-12-07T16:17:57.364Z"
   },
   {
    "duration": 5,
    "start_time": "2022-12-07T16:18:18.541Z"
   },
   {
    "duration": 8,
    "start_time": "2022-12-07T16:18:19.041Z"
   },
   {
    "duration": 4,
    "start_time": "2022-12-07T16:18:21.270Z"
   },
   {
    "duration": 12,
    "start_time": "2022-12-07T16:18:22.623Z"
   },
   {
    "duration": 113,
    "start_time": "2022-12-07T16:21:21.374Z"
   },
   {
    "duration": 17,
    "start_time": "2022-12-07T16:22:07.434Z"
   },
   {
    "duration": 12,
    "start_time": "2022-12-07T16:22:30.643Z"
   },
   {
    "duration": 12,
    "start_time": "2022-12-07T16:22:55.548Z"
   },
   {
    "duration": 4,
    "start_time": "2022-12-07T16:22:58.004Z"
   },
   {
    "duration": 272,
    "start_time": "2022-12-07T16:22:58.282Z"
   },
   {
    "duration": 107,
    "start_time": "2022-12-07T16:23:37.991Z"
   },
   {
    "duration": 13,
    "start_time": "2022-12-07T16:23:40.895Z"
   },
   {
    "duration": 120,
    "start_time": "2022-12-07T16:31:39.147Z"
   },
   {
    "duration": 277,
    "start_time": "2022-12-07T16:31:42.592Z"
   },
   {
    "duration": 230,
    "start_time": "2022-12-07T16:31:53.926Z"
   },
   {
    "duration": 1489,
    "start_time": "2022-12-07T16:32:51.463Z"
   },
   {
    "duration": 102,
    "start_time": "2022-12-07T16:32:52.955Z"
   },
   {
    "duration": 2,
    "start_time": "2022-12-07T16:32:53.059Z"
   },
   {
    "duration": 168,
    "start_time": "2022-12-07T16:32:53.063Z"
   },
   {
    "duration": 30,
    "start_time": "2022-12-07T16:32:54.400Z"
   },
   {
    "duration": 14,
    "start_time": "2022-12-07T16:32:55.183Z"
   },
   {
    "duration": 10,
    "start_time": "2022-12-07T16:32:55.418Z"
   },
   {
    "duration": 10,
    "start_time": "2022-12-07T16:32:55.768Z"
   },
   {
    "duration": 12,
    "start_time": "2022-12-07T16:32:55.918Z"
   },
   {
    "duration": 6,
    "start_time": "2022-12-07T16:32:56.294Z"
   },
   {
    "duration": 15,
    "start_time": "2022-12-07T16:32:56.640Z"
   },
   {
    "duration": 19,
    "start_time": "2022-12-07T16:32:56.828Z"
   },
   {
    "duration": 12,
    "start_time": "2022-12-07T16:32:57.055Z"
   },
   {
    "duration": 13,
    "start_time": "2022-12-07T16:32:57.437Z"
   },
   {
    "duration": 5,
    "start_time": "2022-12-07T16:32:57.604Z"
   },
   {
    "duration": 12,
    "start_time": "2022-12-07T16:32:57.933Z"
   },
   {
    "duration": 14,
    "start_time": "2022-12-07T16:32:58.275Z"
   },
   {
    "duration": 4,
    "start_time": "2022-12-07T16:32:58.605Z"
   },
   {
    "duration": 12,
    "start_time": "2022-12-07T16:32:58.945Z"
   },
   {
    "duration": 29,
    "start_time": "2022-12-07T16:32:59.997Z"
   },
   {
    "duration": 22,
    "start_time": "2022-12-07T16:33:00.338Z"
   },
   {
    "duration": 17,
    "start_time": "2022-12-07T16:33:00.529Z"
   },
   {
    "duration": 7,
    "start_time": "2022-12-07T16:33:00.858Z"
   },
   {
    "duration": 4,
    "start_time": "2022-12-07T16:33:01.038Z"
   },
   {
    "duration": 16,
    "start_time": "2022-12-07T16:33:01.458Z"
   },
   {
    "duration": 108,
    "start_time": "2022-12-07T16:33:01.876Z"
   },
   {
    "duration": 147,
    "start_time": "2022-12-07T16:33:02.263Z"
   },
   {
    "duration": 137,
    "start_time": "2022-12-07T16:33:02.581Z"
   },
   {
    "duration": 252,
    "start_time": "2022-12-07T16:33:02.770Z"
   },
   {
    "duration": 138,
    "start_time": "2022-12-07T16:33:03.111Z"
   },
   {
    "duration": 124,
    "start_time": "2022-12-07T16:33:03.450Z"
   },
   {
    "duration": 139,
    "start_time": "2022-12-07T16:33:03.797Z"
   },
   {
    "duration": 145,
    "start_time": "2022-12-07T16:33:03.981Z"
   },
   {
    "duration": 158,
    "start_time": "2022-12-07T16:33:04.339Z"
   },
   {
    "duration": 143,
    "start_time": "2022-12-07T16:33:04.723Z"
   },
   {
    "duration": 140,
    "start_time": "2022-12-07T16:33:05.097Z"
   },
   {
    "duration": 13,
    "start_time": "2022-12-07T16:33:05.470Z"
   },
   {
    "duration": 139,
    "start_time": "2022-12-07T16:33:07.194Z"
   },
   {
    "duration": 4,
    "start_time": "2022-12-07T16:33:08.952Z"
   },
   {
    "duration": 332,
    "start_time": "2022-12-07T16:33:09.418Z"
   },
   {
    "duration": 5,
    "start_time": "2022-12-07T16:33:12.236Z"
   },
   {
    "duration": 3,
    "start_time": "2022-12-07T16:33:14.486Z"
   },
   {
    "duration": 4,
    "start_time": "2022-12-07T16:33:14.867Z"
   },
   {
    "duration": 51,
    "start_time": "2022-12-07T16:33:15.289Z"
   },
   {
    "duration": 6,
    "start_time": "2022-12-07T16:33:15.779Z"
   },
   {
    "duration": 8,
    "start_time": "2022-12-07T16:33:16.438Z"
   },
   {
    "duration": 13,
    "start_time": "2022-12-07T16:33:18.105Z"
   },
   {
    "duration": 23,
    "start_time": "2022-12-07T16:33:19.315Z"
   },
   {
    "duration": 3,
    "start_time": "2022-12-07T16:33:20.626Z"
   },
   {
    "duration": 19,
    "start_time": "2022-12-07T16:33:21.131Z"
   },
   {
    "duration": 3,
    "start_time": "2022-12-07T16:33:21.501Z"
   },
   {
    "duration": 14,
    "start_time": "2022-12-07T16:33:24.814Z"
   },
   {
    "duration": 3,
    "start_time": "2022-12-07T16:33:26.052Z"
   },
   {
    "duration": 61507,
    "start_time": "2022-12-07T16:33:28.491Z"
   },
   {
    "duration": 9,
    "start_time": "2022-12-07T16:34:30.000Z"
   },
   {
    "duration": 36599,
    "start_time": "2022-12-07T16:34:30.011Z"
   },
   {
    "duration": 4,
    "start_time": "2022-12-07T16:35:06.612Z"
   },
   {
    "duration": 7157,
    "start_time": "2022-12-07T16:35:06.618Z"
   },
   {
    "duration": 3,
    "start_time": "2022-12-07T16:35:13.777Z"
   },
   {
    "duration": 15,
    "start_time": "2022-12-07T16:35:13.781Z"
   },
   {
    "duration": 35,
    "start_time": "2022-12-07T16:35:13.797Z"
   },
   {
    "duration": 121,
    "start_time": "2022-12-07T16:35:13.834Z"
   },
   {
    "duration": 4,
    "start_time": "2022-12-07T16:35:13.957Z"
   },
   {
    "duration": 290,
    "start_time": "2022-12-07T16:35:13.962Z"
   },
   {
    "duration": 3,
    "start_time": "2022-12-07T16:35:14.254Z"
   },
   {
    "duration": 20,
    "start_time": "2022-12-07T16:35:14.259Z"
   },
   {
    "duration": 26,
    "start_time": "2022-12-07T16:35:14.281Z"
   },
   {
    "duration": 37,
    "start_time": "2022-12-07T16:35:14.309Z"
   },
   {
    "duration": 1868,
    "start_time": "2022-12-08T12:07:04.357Z"
   },
   {
    "duration": 356,
    "start_time": "2022-12-08T12:07:06.227Z"
   },
   {
    "duration": 3,
    "start_time": "2022-12-08T12:07:06.585Z"
   },
   {
    "duration": 176,
    "start_time": "2022-12-08T12:07:06.591Z"
   },
   {
    "duration": 33,
    "start_time": "2022-12-08T12:07:06.768Z"
   },
   {
    "duration": 47,
    "start_time": "2022-12-08T12:07:06.804Z"
   },
   {
    "duration": 11,
    "start_time": "2022-12-08T12:07:06.853Z"
   },
   {
    "duration": 12,
    "start_time": "2022-12-08T12:07:06.866Z"
   },
   {
    "duration": 15,
    "start_time": "2022-12-08T12:07:06.881Z"
   },
   {
    "duration": 5,
    "start_time": "2022-12-08T12:07:06.899Z"
   },
   {
    "duration": 40,
    "start_time": "2022-12-08T12:07:06.906Z"
   },
   {
    "duration": 14,
    "start_time": "2022-12-08T12:07:06.948Z"
   },
   {
    "duration": 16,
    "start_time": "2022-12-08T12:07:06.964Z"
   },
   {
    "duration": 11,
    "start_time": "2022-12-08T12:07:06.982Z"
   },
   {
    "duration": 6,
    "start_time": "2022-12-08T12:07:06.995Z"
   },
   {
    "duration": 40,
    "start_time": "2022-12-08T12:07:07.003Z"
   },
   {
    "duration": 20,
    "start_time": "2022-12-08T12:07:07.045Z"
   },
   {
    "duration": 13,
    "start_time": "2022-12-08T12:07:07.067Z"
   },
   {
    "duration": 15,
    "start_time": "2022-12-08T12:07:07.082Z"
   },
   {
    "duration": 28,
    "start_time": "2022-12-08T12:07:07.099Z"
   },
   {
    "duration": 25,
    "start_time": "2022-12-08T12:07:07.138Z"
   },
   {
    "duration": 17,
    "start_time": "2022-12-08T12:07:07.165Z"
   },
   {
    "duration": 8,
    "start_time": "2022-12-08T12:07:07.184Z"
   },
   {
    "duration": 8,
    "start_time": "2022-12-08T12:07:07.193Z"
   },
   {
    "duration": 43,
    "start_time": "2022-12-08T12:07:07.203Z"
   },
   {
    "duration": 125,
    "start_time": "2022-12-08T12:07:07.248Z"
   },
   {
    "duration": 162,
    "start_time": "2022-12-08T12:07:07.375Z"
   },
   {
    "duration": 159,
    "start_time": "2022-12-08T12:07:07.540Z"
   },
   {
    "duration": 272,
    "start_time": "2022-12-08T12:07:07.701Z"
   },
   {
    "duration": 156,
    "start_time": "2022-12-08T12:07:07.975Z"
   },
   {
    "duration": 138,
    "start_time": "2022-12-08T12:07:08.137Z"
   },
   {
    "duration": 161,
    "start_time": "2022-12-08T12:07:08.276Z"
   },
   {
    "duration": 158,
    "start_time": "2022-12-08T12:07:08.439Z"
   },
   {
    "duration": 183,
    "start_time": "2022-12-08T12:07:08.599Z"
   },
   {
    "duration": 201,
    "start_time": "2022-12-08T12:07:08.784Z"
   },
   {
    "duration": 165,
    "start_time": "2022-12-08T12:07:08.987Z"
   },
   {
    "duration": 16,
    "start_time": "2022-12-08T12:07:09.154Z"
   },
   {
    "duration": 14,
    "start_time": "2022-12-08T12:07:14.497Z"
   },
   {
    "duration": 145,
    "start_time": "2022-12-08T12:07:16.743Z"
   },
   {
    "duration": 4,
    "start_time": "2022-12-08T12:07:27.038Z"
   },
   {
    "duration": 355,
    "start_time": "2022-12-08T12:07:27.750Z"
   },
   {
    "duration": 5,
    "start_time": "2022-12-08T12:07:37.904Z"
   },
   {
    "duration": 4,
    "start_time": "2022-12-08T12:09:17.939Z"
   },
   {
    "duration": 115,
    "start_time": "2022-12-08T12:09:17.945Z"
   },
   {
    "duration": 3,
    "start_time": "2022-12-08T12:09:18.063Z"
   },
   {
    "duration": 184,
    "start_time": "2022-12-08T12:09:18.068Z"
   },
   {
    "duration": 29,
    "start_time": "2022-12-08T12:09:18.255Z"
   },
   {
    "duration": 13,
    "start_time": "2022-12-08T12:09:18.286Z"
   },
   {
    "duration": 40,
    "start_time": "2022-12-08T12:09:18.301Z"
   },
   {
    "duration": 10,
    "start_time": "2022-12-08T12:09:18.343Z"
   },
   {
    "duration": 17,
    "start_time": "2022-12-08T12:09:18.354Z"
   },
   {
    "duration": 7,
    "start_time": "2022-12-08T12:09:18.373Z"
   },
   {
    "duration": 11,
    "start_time": "2022-12-08T12:09:18.383Z"
   },
   {
    "duration": 12,
    "start_time": "2022-12-08T12:09:18.396Z"
   },
   {
    "duration": 34,
    "start_time": "2022-12-08T12:09:18.409Z"
   },
   {
    "duration": 11,
    "start_time": "2022-12-08T12:09:18.446Z"
   },
   {
    "duration": 6,
    "start_time": "2022-12-08T12:09:18.459Z"
   },
   {
    "duration": 17,
    "start_time": "2022-12-08T12:09:18.467Z"
   },
   {
    "duration": 55,
    "start_time": "2022-12-08T12:09:18.486Z"
   },
   {
    "duration": 6,
    "start_time": "2022-12-08T12:09:18.542Z"
   },
   {
    "duration": 21,
    "start_time": "2022-12-08T12:09:18.550Z"
   },
   {
    "duration": 41,
    "start_time": "2022-12-08T12:09:18.573Z"
   },
   {
    "duration": 44,
    "start_time": "2022-12-08T12:09:18.616Z"
   },
   {
    "duration": 18,
    "start_time": "2022-12-08T12:09:18.662Z"
   },
   {
    "duration": 8,
    "start_time": "2022-12-08T12:09:18.681Z"
   },
   {
    "duration": 11,
    "start_time": "2022-12-08T12:09:18.691Z"
   },
   {
    "duration": 43,
    "start_time": "2022-12-08T12:09:18.703Z"
   },
   {
    "duration": 123,
    "start_time": "2022-12-08T12:09:18.748Z"
   },
   {
    "duration": 177,
    "start_time": "2022-12-08T12:09:18.873Z"
   },
   {
    "duration": 256,
    "start_time": "2022-12-08T12:09:19.052Z"
   },
   {
    "duration": 180,
    "start_time": "2022-12-08T12:09:19.311Z"
   },
   {
    "duration": 146,
    "start_time": "2022-12-08T12:09:19.493Z"
   },
   {
    "duration": 138,
    "start_time": "2022-12-08T12:09:19.640Z"
   },
   {
    "duration": 152,
    "start_time": "2022-12-08T12:09:19.780Z"
   },
   {
    "duration": 157,
    "start_time": "2022-12-08T12:09:19.937Z"
   },
   {
    "duration": 177,
    "start_time": "2022-12-08T12:09:20.096Z"
   },
   {
    "duration": 164,
    "start_time": "2022-12-08T12:09:20.275Z"
   },
   {
    "duration": 158,
    "start_time": "2022-12-08T12:09:20.442Z"
   },
   {
    "duration": 14,
    "start_time": "2022-12-08T12:09:20.603Z"
   },
   {
    "duration": 175,
    "start_time": "2022-12-08T12:09:20.618Z"
   },
   {
    "duration": 5,
    "start_time": "2022-12-08T12:09:20.795Z"
   },
   {
    "duration": 360,
    "start_time": "2022-12-08T12:09:20.802Z"
   },
   {
    "duration": 5,
    "start_time": "2022-12-08T12:09:21.164Z"
   },
   {
    "duration": 21,
    "start_time": "2022-12-08T12:09:21.171Z"
   },
   {
    "duration": 6,
    "start_time": "2022-12-08T12:09:21.194Z"
   },
   {
    "duration": 19,
    "start_time": "2022-12-08T12:09:52.513Z"
   },
   {
    "duration": 26,
    "start_time": "2022-12-08T12:10:01.850Z"
   },
   {
    "duration": 4,
    "start_time": "2022-12-08T12:10:27.548Z"
   },
   {
    "duration": 4,
    "start_time": "2022-12-08T12:10:37.695Z"
   },
   {
    "duration": 18,
    "start_time": "2022-12-08T12:10:45.068Z"
   },
   {
    "duration": 4,
    "start_time": "2022-12-08T12:10:45.500Z"
   },
   {
    "duration": 20,
    "start_time": "2022-12-08T12:11:11.795Z"
   },
   {
    "duration": 4,
    "start_time": "2022-12-08T12:11:35.787Z"
   },
   {
    "duration": 20,
    "start_time": "2022-12-08T12:11:39.924Z"
   },
   {
    "duration": 76,
    "start_time": "2022-12-08T12:12:12.802Z"
   },
   {
    "duration": 7,
    "start_time": "2022-12-08T12:13:16.850Z"
   },
   {
    "duration": 10,
    "start_time": "2022-12-08T12:13:17.223Z"
   },
   {
    "duration": 17,
    "start_time": "2022-12-08T12:13:18.827Z"
   },
   {
    "duration": 32,
    "start_time": "2022-12-08T12:13:27.515Z"
   },
   {
    "duration": 1870,
    "start_time": "2022-12-08T12:24:33.490Z"
   },
   {
    "duration": 330,
    "start_time": "2022-12-08T12:24:35.363Z"
   },
   {
    "duration": 3,
    "start_time": "2022-12-08T12:24:37.224Z"
   },
   {
    "duration": 169,
    "start_time": "2022-12-08T12:24:37.453Z"
   },
   {
    "duration": 32,
    "start_time": "2022-12-08T12:24:38.152Z"
   },
   {
    "duration": 15,
    "start_time": "2022-12-08T12:24:38.482Z"
   },
   {
    "duration": 10,
    "start_time": "2022-12-08T12:24:38.650Z"
   },
   {
    "duration": 11,
    "start_time": "2022-12-08T12:24:38.997Z"
   },
   {
    "duration": 15,
    "start_time": "2022-12-08T12:24:39.169Z"
   },
   {
    "duration": 4,
    "start_time": "2022-12-08T12:24:39.499Z"
   },
   {
    "duration": 11,
    "start_time": "2022-12-08T12:24:39.818Z"
   },
   {
    "duration": 13,
    "start_time": "2022-12-08T12:24:39.983Z"
   },
   {
    "duration": 9,
    "start_time": "2022-12-08T12:24:40.168Z"
   },
   {
    "duration": 13,
    "start_time": "2022-12-08T12:24:40.468Z"
   },
   {
    "duration": 5,
    "start_time": "2022-12-08T12:24:40.639Z"
   },
   {
    "duration": 13,
    "start_time": "2022-12-08T12:24:40.977Z"
   },
   {
    "duration": 17,
    "start_time": "2022-12-08T12:24:41.318Z"
   },
   {
    "duration": 4,
    "start_time": "2022-12-08T12:24:41.657Z"
   },
   {
    "duration": 13,
    "start_time": "2022-12-08T12:24:41.991Z"
   },
   {
    "duration": 27,
    "start_time": "2022-12-08T12:24:43.003Z"
   },
   {
    "duration": 25,
    "start_time": "2022-12-08T12:24:43.373Z"
   },
   {
    "duration": 17,
    "start_time": "2022-12-08T12:24:43.574Z"
   },
   {
    "duration": 7,
    "start_time": "2022-12-08T12:24:43.959Z"
   },
   {
    "duration": 3,
    "start_time": "2022-12-08T12:24:44.165Z"
   },
   {
    "duration": 19,
    "start_time": "2022-12-08T12:24:44.577Z"
   },
   {
    "duration": 108,
    "start_time": "2022-12-08T12:24:44.990Z"
   },
   {
    "duration": 151,
    "start_time": "2022-12-08T12:24:45.389Z"
   },
   {
    "duration": 146,
    "start_time": "2022-12-08T12:24:45.793Z"
   },
   {
    "duration": 255,
    "start_time": "2022-12-08T12:24:46.018Z"
   },
   {
    "duration": 139,
    "start_time": "2022-12-08T12:24:46.478Z"
   },
   {
    "duration": 146,
    "start_time": "2022-12-08T12:24:46.922Z"
   },
   {
    "duration": 150,
    "start_time": "2022-12-08T12:24:47.416Z"
   },
   {
    "duration": 164,
    "start_time": "2022-12-08T12:24:47.658Z"
   },
   {
    "duration": 161,
    "start_time": "2022-12-08T12:24:48.261Z"
   },
   {
    "duration": 185,
    "start_time": "2022-12-08T12:24:48.763Z"
   },
   {
    "duration": 157,
    "start_time": "2022-12-08T12:24:49.327Z"
   },
   {
    "duration": 14,
    "start_time": "2022-12-08T12:24:49.882Z"
   },
   {
    "duration": 153,
    "start_time": "2022-12-08T12:24:51.098Z"
   },
   {
    "duration": 4,
    "start_time": "2022-12-08T12:24:51.970Z"
   },
   {
    "duration": 369,
    "start_time": "2022-12-08T12:24:52.194Z"
   },
   {
    "duration": 5,
    "start_time": "2022-12-08T12:24:53.559Z"
   },
   {
    "duration": 4,
    "start_time": "2022-12-08T12:24:55.398Z"
   },
   {
    "duration": 5,
    "start_time": "2022-12-08T12:24:55.666Z"
   },
   {
    "duration": 6,
    "start_time": "2022-12-08T12:24:55.902Z"
   },
   {
    "duration": 6,
    "start_time": "2022-12-08T12:24:56.505Z"
   },
   {
    "duration": 12,
    "start_time": "2022-12-08T12:24:56.844Z"
   },
   {
    "duration": 45,
    "start_time": "2022-12-08T12:24:57.993Z"
   },
   {
    "duration": 20,
    "start_time": "2022-12-08T12:24:59.775Z"
   },
   {
    "duration": 27,
    "start_time": "2022-12-08T12:25:01.412Z"
   },
   {
    "duration": 2,
    "start_time": "2022-12-08T12:25:05.820Z"
   },
   {
    "duration": 17,
    "start_time": "2022-12-08T12:25:06.113Z"
   },
   {
    "duration": 3,
    "start_time": "2022-12-08T12:25:07.375Z"
   },
   {
    "duration": 14,
    "start_time": "2022-12-08T12:25:11.021Z"
   },
   {
    "duration": 3,
    "start_time": "2022-12-08T12:25:11.834Z"
   },
   {
    "duration": 512,
    "start_time": "2022-12-08T12:25:12.690Z"
   },
   {
    "duration": 0,
    "start_time": "2022-12-08T12:25:13.204Z"
   },
   {
    "duration": 112,
    "start_time": "2022-12-08T12:25:14.403Z"
   },
   {
    "duration": 4,
    "start_time": "2022-12-08T12:25:15.058Z"
   },
   {
    "duration": 5300,
    "start_time": "2022-12-08T12:25:16.209Z"
   },
   {
    "duration": 0,
    "start_time": "2022-12-08T12:25:21.511Z"
   },
   {
    "duration": 5,
    "start_time": "2022-12-08T12:25:30.012Z"
   },
   {
    "duration": 107,
    "start_time": "2022-12-08T12:25:31.848Z"
   },
   {
    "duration": 4,
    "start_time": "2022-12-08T12:25:32.775Z"
   },
   {
    "duration": 5340,
    "start_time": "2022-12-08T12:25:33.720Z"
   },
   {
    "duration": 0,
    "start_time": "2022-12-08T12:25:39.062Z"
   },
   {
    "duration": 0,
    "start_time": "2022-12-08T12:25:39.063Z"
   },
   {
    "duration": 0,
    "start_time": "2022-12-08T12:25:39.064Z"
   },
   {
    "duration": 5301,
    "start_time": "2022-12-08T12:25:59.311Z"
   },
   {
    "duration": 0,
    "start_time": "2022-12-08T12:26:04.614Z"
   },
   {
    "duration": 105,
    "start_time": "2022-12-08T12:27:52.056Z"
   },
   {
    "duration": 15,
    "start_time": "2022-12-08T12:28:01.185Z"
   },
   {
    "duration": 15,
    "start_time": "2022-12-08T12:28:02.348Z"
   },
   {
    "duration": 22,
    "start_time": "2022-12-08T12:28:03.519Z"
   },
   {
    "duration": 3,
    "start_time": "2022-12-08T12:28:12.917Z"
   },
   {
    "duration": 14,
    "start_time": "2022-12-08T12:28:13.159Z"
   },
   {
    "duration": 4,
    "start_time": "2022-12-08T12:28:14.332Z"
   },
   {
    "duration": 381,
    "start_time": "2022-12-08T12:28:15.408Z"
   },
   {
    "duration": 4,
    "start_time": "2022-12-08T12:28:17.216Z"
   },
   {
    "duration": 12,
    "start_time": "2022-12-08T12:29:23.595Z"
   },
   {
    "duration": 29,
    "start_time": "2022-12-08T12:29:43.807Z"
   },
   {
    "duration": 14,
    "start_time": "2022-12-08T12:29:44.478Z"
   },
   {
    "duration": 14,
    "start_time": "2022-12-08T12:30:01.887Z"
   },
   {
    "duration": 12,
    "start_time": "2022-12-08T12:30:02.604Z"
   },
   {
    "duration": 2,
    "start_time": "2022-12-08T12:30:53.101Z"
   },
   {
    "duration": 16,
    "start_time": "2022-12-08T12:30:53.318Z"
   },
   {
    "duration": 3,
    "start_time": "2022-12-08T12:30:54.509Z"
   },
   {
    "duration": 373,
    "start_time": "2022-12-08T12:30:55.713Z"
   },
   {
    "duration": 4,
    "start_time": "2022-12-08T12:30:56.638Z"
   },
   {
    "duration": 113,
    "start_time": "2022-12-08T12:30:58.564Z"
   },
   {
    "duration": 3,
    "start_time": "2022-12-08T12:30:59.322Z"
   },
   {
    "duration": 5399,
    "start_time": "2022-12-08T12:31:01.049Z"
   },
   {
    "duration": 0,
    "start_time": "2022-12-08T12:31:06.450Z"
   },
   {
    "duration": 1582,
    "start_time": "2022-12-08T12:35:47.767Z"
   },
   {
    "duration": 104,
    "start_time": "2022-12-08T12:35:49.351Z"
   },
   {
    "duration": 3,
    "start_time": "2022-12-08T12:35:49.457Z"
   },
   {
    "duration": 170,
    "start_time": "2022-12-08T12:35:49.461Z"
   },
   {
    "duration": 31,
    "start_time": "2022-12-08T12:35:50.538Z"
   },
   {
    "duration": 15,
    "start_time": "2022-12-08T12:35:51.146Z"
   },
   {
    "duration": 10,
    "start_time": "2022-12-08T12:35:51.389Z"
   },
   {
    "duration": 11,
    "start_time": "2022-12-08T12:35:51.897Z"
   },
   {
    "duration": 14,
    "start_time": "2022-12-08T12:35:52.500Z"
   },
   {
    "duration": 4,
    "start_time": "2022-12-08T12:35:53.855Z"
   },
   {
    "duration": 12,
    "start_time": "2022-12-08T12:35:54.744Z"
   },
   {
    "duration": 12,
    "start_time": "2022-12-08T12:35:55.006Z"
   },
   {
    "duration": 8,
    "start_time": "2022-12-08T12:35:55.225Z"
   },
   {
    "duration": 11,
    "start_time": "2022-12-08T12:35:55.760Z"
   },
   {
    "duration": 4,
    "start_time": "2022-12-08T12:35:56.151Z"
   },
   {
    "duration": 13,
    "start_time": "2022-12-08T12:35:56.606Z"
   },
   {
    "duration": 16,
    "start_time": "2022-12-08T12:35:57.172Z"
   },
   {
    "duration": 4,
    "start_time": "2022-12-08T12:35:57.587Z"
   },
   {
    "duration": 13,
    "start_time": "2022-12-08T12:35:58.150Z"
   },
   {
    "duration": 28,
    "start_time": "2022-12-08T12:36:00.199Z"
   },
   {
    "duration": 25,
    "start_time": "2022-12-08T12:36:01.261Z"
   },
   {
    "duration": 17,
    "start_time": "2022-12-08T12:36:01.592Z"
   },
   {
    "duration": 8,
    "start_time": "2022-12-08T12:36:02.018Z"
   },
   {
    "duration": 5,
    "start_time": "2022-12-08T12:36:02.198Z"
   },
   {
    "duration": 19,
    "start_time": "2022-12-08T12:36:02.943Z"
   },
   {
    "duration": 110,
    "start_time": "2022-12-08T12:36:04.279Z"
   },
   {
    "duration": 148,
    "start_time": "2022-12-08T12:36:05.717Z"
   },
   {
    "duration": 142,
    "start_time": "2022-12-08T12:36:06.476Z"
   },
   {
    "duration": 263,
    "start_time": "2022-12-08T12:36:06.797Z"
   },
   {
    "duration": 137,
    "start_time": "2022-12-08T12:36:07.270Z"
   },
   {
    "duration": 128,
    "start_time": "2022-12-08T12:36:07.660Z"
   },
   {
    "duration": 144,
    "start_time": "2022-12-08T12:36:08.022Z"
   },
   {
    "duration": 155,
    "start_time": "2022-12-08T12:36:08.189Z"
   },
   {
    "duration": 168,
    "start_time": "2022-12-08T12:36:08.609Z"
   },
   {
    "duration": 149,
    "start_time": "2022-12-08T12:36:08.983Z"
   },
   {
    "duration": 148,
    "start_time": "2022-12-08T12:36:09.366Z"
   },
   {
    "duration": 14,
    "start_time": "2022-12-08T12:36:10.022Z"
   },
   {
    "duration": 155,
    "start_time": "2022-12-08T12:36:13.376Z"
   },
   {
    "duration": 4,
    "start_time": "2022-12-08T12:36:15.647Z"
   },
   {
    "duration": 291,
    "start_time": "2022-12-08T12:36:16.528Z"
   },
   {
    "duration": 5,
    "start_time": "2022-12-08T12:36:20.836Z"
   },
   {
    "duration": 4,
    "start_time": "2022-12-08T12:36:25.052Z"
   },
   {
    "duration": 3,
    "start_time": "2022-12-08T12:36:27.208Z"
   },
   {
    "duration": 5,
    "start_time": "2022-12-08T12:36:28.748Z"
   },
   {
    "duration": 6,
    "start_time": "2022-12-08T12:36:33.019Z"
   },
   {
    "duration": 10,
    "start_time": "2022-12-08T12:36:38.128Z"
   },
   {
    "duration": 14,
    "start_time": "2022-12-08T12:36:43.113Z"
   },
   {
    "duration": 44,
    "start_time": "2022-12-08T12:36:48.147Z"
   },
   {
    "duration": 15,
    "start_time": "2022-12-08T12:36:49.537Z"
   },
   {
    "duration": 22,
    "start_time": "2022-12-08T12:37:01.489Z"
   },
   {
    "duration": 31,
    "start_time": "2022-12-08T12:38:39.838Z"
   },
   {
    "duration": 14,
    "start_time": "2022-12-08T12:38:40.986Z"
   },
   {
    "duration": 24,
    "start_time": "2022-12-08T12:38:45.678Z"
   },
   {
    "duration": 3,
    "start_time": "2022-12-08T12:39:10.412Z"
   },
   {
    "duration": 18,
    "start_time": "2022-12-08T12:39:10.627Z"
   },
   {
    "duration": 18,
    "start_time": "2022-12-08T12:39:16.936Z"
   },
   {
    "duration": 3,
    "start_time": "2022-12-08T12:39:17.823Z"
   },
   {
    "duration": 530,
    "start_time": "2022-12-08T12:39:18.835Z"
   },
   {
    "duration": 0,
    "start_time": "2022-12-08T12:39:19.367Z"
   },
   {
    "duration": 4,
    "start_time": "2022-12-08T12:39:30.087Z"
   },
   {
    "duration": 23,
    "start_time": "2022-12-08T12:49:05.552Z"
   },
   {
    "duration": 21,
    "start_time": "2022-12-08T12:50:25.924Z"
   },
   {
    "duration": 12,
    "start_time": "2022-12-08T12:50:27.441Z"
   },
   {
    "duration": 24,
    "start_time": "2022-12-08T12:50:29.125Z"
   },
   {
    "duration": 3,
    "start_time": "2022-12-08T12:50:32.210Z"
   },
   {
    "duration": 15,
    "start_time": "2022-12-08T12:50:32.649Z"
   },
   {
    "duration": 4,
    "start_time": "2022-12-08T12:50:33.646Z"
   },
   {
    "duration": 394,
    "start_time": "2022-12-08T12:50:34.895Z"
   },
   {
    "duration": 3,
    "start_time": "2022-12-08T12:50:36.001Z"
   },
   {
    "duration": 1578,
    "start_time": "2022-12-08T12:55:40.929Z"
   },
   {
    "duration": 102,
    "start_time": "2022-12-08T12:55:42.510Z"
   },
   {
    "duration": 3,
    "start_time": "2022-12-08T12:55:42.613Z"
   },
   {
    "duration": 196,
    "start_time": "2022-12-08T12:55:42.618Z"
   },
   {
    "duration": 32,
    "start_time": "2022-12-08T12:55:43.114Z"
   },
   {
    "duration": 14,
    "start_time": "2022-12-08T12:55:43.479Z"
   },
   {
    "duration": 10,
    "start_time": "2022-12-08T12:55:43.666Z"
   },
   {
    "duration": 9,
    "start_time": "2022-12-08T12:55:44.030Z"
   },
   {
    "duration": 14,
    "start_time": "2022-12-08T12:55:44.231Z"
   },
   {
    "duration": 4,
    "start_time": "2022-12-08T12:55:44.606Z"
   },
   {
    "duration": 10,
    "start_time": "2022-12-08T12:55:44.974Z"
   },
   {
    "duration": 12,
    "start_time": "2022-12-08T12:55:45.122Z"
   },
   {
    "duration": 9,
    "start_time": "2022-12-08T12:55:45.313Z"
   },
   {
    "duration": 11,
    "start_time": "2022-12-08T12:55:45.664Z"
   },
   {
    "duration": 5,
    "start_time": "2022-12-08T12:55:45.852Z"
   },
   {
    "duration": 13,
    "start_time": "2022-12-08T12:55:46.224Z"
   },
   {
    "duration": 15,
    "start_time": "2022-12-08T12:55:46.576Z"
   },
   {
    "duration": 5,
    "start_time": "2022-12-08T12:55:46.944Z"
   },
   {
    "duration": 13,
    "start_time": "2022-12-08T12:55:47.338Z"
   },
   {
    "duration": 27,
    "start_time": "2022-12-08T12:55:48.571Z"
   },
   {
    "duration": 24,
    "start_time": "2022-12-08T12:55:48.981Z"
   },
   {
    "duration": 19,
    "start_time": "2022-12-08T12:55:49.175Z"
   },
   {
    "duration": 7,
    "start_time": "2022-12-08T12:55:49.626Z"
   },
   {
    "duration": 4,
    "start_time": "2022-12-08T12:55:49.900Z"
   },
   {
    "duration": 16,
    "start_time": "2022-12-08T12:55:50.457Z"
   },
   {
    "duration": 111,
    "start_time": "2022-12-08T12:55:51.181Z"
   },
   {
    "duration": 146,
    "start_time": "2022-12-08T12:55:52.051Z"
   },
   {
    "duration": 148,
    "start_time": "2022-12-08T12:55:52.442Z"
   },
   {
    "duration": 248,
    "start_time": "2022-12-08T12:55:52.631Z"
   },
   {
    "duration": 134,
    "start_time": "2022-12-08T12:55:53.025Z"
   },
   {
    "duration": 135,
    "start_time": "2022-12-08T12:55:53.696Z"
   },
   {
    "duration": 143,
    "start_time": "2022-12-08T12:55:54.225Z"
   },
   {
    "duration": 171,
    "start_time": "2022-12-08T12:55:54.577Z"
   },
   {
    "duration": 162,
    "start_time": "2022-12-08T12:55:55.848Z"
   },
   {
    "duration": 151,
    "start_time": "2022-12-08T12:55:57.196Z"
   },
   {
    "duration": 148,
    "start_time": "2022-12-08T12:55:58.321Z"
   },
   {
    "duration": 14,
    "start_time": "2022-12-08T12:55:59.557Z"
   },
   {
    "duration": 157,
    "start_time": "2022-12-08T12:56:00.773Z"
   },
   {
    "duration": 4,
    "start_time": "2022-12-08T12:56:01.795Z"
   },
   {
    "duration": 283,
    "start_time": "2022-12-08T12:56:02.134Z"
   },
   {
    "duration": 5,
    "start_time": "2022-12-08T12:56:04.409Z"
   },
   {
    "duration": 4,
    "start_time": "2022-12-08T12:56:07.499Z"
   },
   {
    "duration": 4,
    "start_time": "2022-12-08T12:56:08.850Z"
   },
   {
    "duration": 4,
    "start_time": "2022-12-08T12:56:09.394Z"
   },
   {
    "duration": 6,
    "start_time": "2022-12-08T12:56:13.245Z"
   },
   {
    "duration": 9,
    "start_time": "2022-12-08T12:56:13.495Z"
   },
   {
    "duration": 14,
    "start_time": "2022-12-08T12:56:19.571Z"
   },
   {
    "duration": 16,
    "start_time": "2022-12-08T12:56:26.277Z"
   },
   {
    "duration": 19,
    "start_time": "2022-12-08T12:57:09.253Z"
   },
   {
    "duration": 15,
    "start_time": "2022-12-08T12:57:13.351Z"
   },
   {
    "duration": 14,
    "start_time": "2022-12-08T12:57:17.019Z"
   },
   {
    "duration": 54,
    "start_time": "2022-12-08T12:57:48.960Z"
   },
   {
    "duration": 12,
    "start_time": "2022-12-08T12:57:53.563Z"
   },
   {
    "duration": 22,
    "start_time": "2022-12-08T12:57:56.023Z"
   },
   {
    "duration": 2,
    "start_time": "2022-12-08T12:58:21.927Z"
   },
   {
    "duration": 16,
    "start_time": "2022-12-08T12:58:22.659Z"
   },
   {
    "duration": 14,
    "start_time": "2022-12-08T12:58:52.507Z"
   },
   {
    "duration": 11,
    "start_time": "2022-12-08T12:58:53.309Z"
   },
   {
    "duration": 23,
    "start_time": "2022-12-08T12:58:55.362Z"
   },
   {
    "duration": 3,
    "start_time": "2022-12-08T12:58:57.824Z"
   },
   {
    "duration": 15,
    "start_time": "2022-12-08T12:58:58.489Z"
   },
   {
    "duration": 4,
    "start_time": "2022-12-08T12:58:59.783Z"
   },
   {
    "duration": 527,
    "start_time": "2022-12-08T12:59:00.976Z"
   },
   {
    "duration": 1673,
    "start_time": "2022-12-08T13:08:47.172Z"
   },
   {
    "duration": 104,
    "start_time": "2022-12-08T13:08:48.848Z"
   },
   {
    "duration": 4,
    "start_time": "2022-12-08T13:08:48.954Z"
   },
   {
    "duration": 254,
    "start_time": "2022-12-08T13:08:48.961Z"
   },
   {
    "duration": 47,
    "start_time": "2022-12-08T13:08:49.217Z"
   },
   {
    "duration": 47,
    "start_time": "2022-12-08T13:08:49.266Z"
   },
   {
    "duration": 12,
    "start_time": "2022-12-08T13:08:49.315Z"
   },
   {
    "duration": 42,
    "start_time": "2022-12-08T13:08:49.329Z"
   },
   {
    "duration": 72,
    "start_time": "2022-12-08T13:08:49.374Z"
   },
   {
    "duration": 64,
    "start_time": "2022-12-08T13:08:49.450Z"
   },
   {
    "duration": 36,
    "start_time": "2022-12-08T13:08:49.516Z"
   },
   {
    "duration": 30,
    "start_time": "2022-12-08T13:08:49.555Z"
   },
   {
    "duration": 44,
    "start_time": "2022-12-08T13:08:49.587Z"
   },
   {
    "duration": 30,
    "start_time": "2022-12-08T13:08:49.634Z"
   },
   {
    "duration": 30,
    "start_time": "2022-12-08T13:08:49.666Z"
   },
   {
    "duration": 32,
    "start_time": "2022-12-08T13:08:49.698Z"
   },
   {
    "duration": 47,
    "start_time": "2022-12-08T13:08:49.732Z"
   },
   {
    "duration": 17,
    "start_time": "2022-12-08T13:08:49.782Z"
   },
   {
    "duration": 30,
    "start_time": "2022-12-08T13:08:49.801Z"
   },
   {
    "duration": 46,
    "start_time": "2022-12-08T13:08:49.833Z"
   },
   {
    "duration": 31,
    "start_time": "2022-12-08T13:08:49.882Z"
   },
   {
    "duration": 21,
    "start_time": "2022-12-08T13:08:49.916Z"
   },
   {
    "duration": 9,
    "start_time": "2022-12-08T13:08:49.940Z"
   },
   {
    "duration": 35,
    "start_time": "2022-12-08T13:08:49.951Z"
   },
   {
    "duration": 26,
    "start_time": "2022-12-08T13:08:49.988Z"
   },
   {
    "duration": 161,
    "start_time": "2022-12-08T13:08:50.016Z"
   },
   {
    "duration": 212,
    "start_time": "2022-12-08T13:08:50.179Z"
   },
   {
    "duration": 212,
    "start_time": "2022-12-08T13:08:50.395Z"
   },
   {
    "duration": 273,
    "start_time": "2022-12-08T13:08:50.613Z"
   },
   {
    "duration": 173,
    "start_time": "2022-12-08T13:08:50.888Z"
   },
   {
    "duration": 203,
    "start_time": "2022-12-08T13:08:51.063Z"
   },
   {
    "duration": 195,
    "start_time": "2022-12-08T13:08:51.269Z"
   },
   {
    "duration": 176,
    "start_time": "2022-12-08T13:08:51.466Z"
   },
   {
    "duration": 182,
    "start_time": "2022-12-08T13:08:51.644Z"
   },
   {
    "duration": 189,
    "start_time": "2022-12-08T13:08:51.828Z"
   },
   {
    "duration": 205,
    "start_time": "2022-12-08T13:08:52.019Z"
   },
   {
    "duration": 16,
    "start_time": "2022-12-08T13:08:52.226Z"
   },
   {
    "duration": 171,
    "start_time": "2022-12-08T13:08:52.244Z"
   },
   {
    "duration": 5,
    "start_time": "2022-12-08T13:08:52.416Z"
   },
   {
    "duration": 311,
    "start_time": "2022-12-08T13:08:52.423Z"
   },
   {
    "duration": 7,
    "start_time": "2022-12-08T13:08:52.736Z"
   },
   {
    "duration": 5,
    "start_time": "2022-12-08T13:08:54.255Z"
   },
   {
    "duration": 6,
    "start_time": "2022-12-08T13:08:58.126Z"
   },
   {
    "duration": 6,
    "start_time": "2022-12-08T13:09:02.980Z"
   },
   {
    "duration": 12,
    "start_time": "2022-12-08T13:09:04.354Z"
   },
   {
    "duration": 15,
    "start_time": "2022-12-08T13:09:07.350Z"
   },
   {
    "duration": 54,
    "start_time": "2022-12-08T13:09:13.103Z"
   },
   {
    "duration": 21,
    "start_time": "2022-12-08T13:09:15.931Z"
   },
   {
    "duration": 15,
    "start_time": "2022-12-08T13:09:20.098Z"
   },
   {
    "duration": 5,
    "start_time": "2022-12-08T13:09:34.739Z"
   },
   {
    "duration": 24,
    "start_time": "2022-12-08T13:09:35.133Z"
   },
   {
    "duration": 4,
    "start_time": "2022-12-08T13:09:37.203Z"
   },
   {
    "duration": 608,
    "start_time": "2022-12-08T13:09:38.975Z"
   },
   {
    "duration": 6,
    "start_time": "2022-12-08T13:09:39.921Z"
   },
   {
    "duration": 1544,
    "start_time": "2022-12-08T15:17:52.397Z"
   },
   {
    "duration": 582,
    "start_time": "2022-12-08T15:17:54.900Z"
   },
   {
    "duration": 3,
    "start_time": "2022-12-08T15:17:56.065Z"
   },
   {
    "duration": 162,
    "start_time": "2022-12-08T15:17:56.316Z"
   },
   {
    "duration": 29,
    "start_time": "2022-12-08T15:17:57.196Z"
   },
   {
    "duration": 14,
    "start_time": "2022-12-08T15:17:57.597Z"
   },
   {
    "duration": 11,
    "start_time": "2022-12-08T15:17:57.784Z"
   },
   {
    "duration": 10,
    "start_time": "2022-12-08T15:17:58.179Z"
   },
   {
    "duration": 13,
    "start_time": "2022-12-08T15:17:58.357Z"
   },
   {
    "duration": 4,
    "start_time": "2022-12-08T15:17:58.742Z"
   },
   {
    "duration": 9,
    "start_time": "2022-12-08T15:17:59.155Z"
   },
   {
    "duration": 12,
    "start_time": "2022-12-08T15:17:59.319Z"
   },
   {
    "duration": 7,
    "start_time": "2022-12-08T15:17:59.514Z"
   },
   {
    "duration": 13,
    "start_time": "2022-12-08T15:17:59.949Z"
   },
   {
    "duration": 4,
    "start_time": "2022-12-08T15:18:00.155Z"
   },
   {
    "duration": 11,
    "start_time": "2022-12-08T15:18:00.646Z"
   },
   {
    "duration": 13,
    "start_time": "2022-12-08T15:18:01.086Z"
   },
   {
    "duration": 4,
    "start_time": "2022-12-08T15:18:01.487Z"
   },
   {
    "duration": 12,
    "start_time": "2022-12-08T15:18:01.882Z"
   },
   {
    "duration": 25,
    "start_time": "2022-12-08T15:18:03.137Z"
   },
   {
    "duration": 22,
    "start_time": "2022-12-08T15:18:03.558Z"
   },
   {
    "duration": 16,
    "start_time": "2022-12-08T15:18:03.812Z"
   },
   {
    "duration": 8,
    "start_time": "2022-12-08T15:18:04.411Z"
   },
   {
    "duration": 4,
    "start_time": "2022-12-08T15:18:04.684Z"
   },
   {
    "duration": 14,
    "start_time": "2022-12-08T15:18:05.206Z"
   },
   {
    "duration": 113,
    "start_time": "2022-12-08T15:18:05.722Z"
   },
   {
    "duration": 145,
    "start_time": "2022-12-08T15:18:06.240Z"
   },
   {
    "duration": 137,
    "start_time": "2022-12-08T15:18:06.675Z"
   },
   {
    "duration": 234,
    "start_time": "2022-12-08T15:18:07.071Z"
   },
   {
    "duration": 122,
    "start_time": "2022-12-08T15:18:07.564Z"
   },
   {
    "duration": 121,
    "start_time": "2022-12-08T15:18:08.075Z"
   },
   {
    "duration": 127,
    "start_time": "2022-12-08T15:18:08.655Z"
   },
   {
    "duration": 145,
    "start_time": "2022-12-08T15:18:08.916Z"
   },
   {
    "duration": 169,
    "start_time": "2022-12-08T15:18:09.401Z"
   },
   {
    "duration": 135,
    "start_time": "2022-12-08T15:18:09.888Z"
   },
   {
    "duration": 137,
    "start_time": "2022-12-08T15:18:10.741Z"
   },
   {
    "duration": 13,
    "start_time": "2022-12-08T15:18:11.738Z"
   },
   {
    "duration": 135,
    "start_time": "2022-12-08T15:18:13.711Z"
   },
   {
    "duration": 5,
    "start_time": "2022-12-08T15:18:14.690Z"
   },
   {
    "duration": 327,
    "start_time": "2022-12-08T15:18:14.999Z"
   },
   {
    "duration": 4,
    "start_time": "2022-12-08T15:18:16.851Z"
   },
   {
    "duration": 3,
    "start_time": "2022-12-08T15:18:21.121Z"
   },
   {
    "duration": 3,
    "start_time": "2022-12-08T15:18:27.874Z"
   },
   {
    "duration": 4,
    "start_time": "2022-12-08T15:18:28.945Z"
   },
   {
    "duration": 6,
    "start_time": "2022-12-08T15:18:31.607Z"
   },
   {
    "duration": 10,
    "start_time": "2022-12-08T15:18:32.093Z"
   },
   {
    "duration": 42,
    "start_time": "2022-12-08T15:18:48.479Z"
   },
   {
    "duration": 14,
    "start_time": "2022-12-08T15:18:49.939Z"
   },
   {
    "duration": 20,
    "start_time": "2022-12-08T15:23:31.776Z"
   },
   {
    "duration": 13,
    "start_time": "2022-12-08T15:23:33.370Z"
   },
   {
    "duration": 27,
    "start_time": "2022-12-08T15:23:35.987Z"
   },
   {
    "duration": 3,
    "start_time": "2022-12-08T15:23:37.787Z"
   },
   {
    "duration": 20,
    "start_time": "2022-12-08T15:23:38.517Z"
   },
   {
    "duration": 4,
    "start_time": "2022-12-08T15:23:39.706Z"
   },
   {
    "duration": 460,
    "start_time": "2022-12-08T15:23:41.166Z"
   },
   {
    "duration": 4,
    "start_time": "2022-12-08T15:23:42.099Z"
   },
   {
    "duration": 1506,
    "start_time": "2022-12-08T15:28:22.433Z"
   },
   {
    "duration": 140,
    "start_time": "2022-12-08T15:28:23.941Z"
   },
   {
    "duration": 3,
    "start_time": "2022-12-08T15:28:24.084Z"
   },
   {
    "duration": 212,
    "start_time": "2022-12-08T15:28:24.092Z"
   },
   {
    "duration": 28,
    "start_time": "2022-12-08T15:28:24.307Z"
   },
   {
    "duration": 49,
    "start_time": "2022-12-08T15:28:24.337Z"
   },
   {
    "duration": 18,
    "start_time": "2022-12-08T15:28:24.388Z"
   },
   {
    "duration": 9,
    "start_time": "2022-12-08T15:28:24.407Z"
   },
   {
    "duration": 20,
    "start_time": "2022-12-08T15:28:24.417Z"
   },
   {
    "duration": 12,
    "start_time": "2022-12-08T15:28:24.439Z"
   },
   {
    "duration": 13,
    "start_time": "2022-12-08T15:28:24.453Z"
   },
   {
    "duration": 14,
    "start_time": "2022-12-08T15:28:24.477Z"
   },
   {
    "duration": 11,
    "start_time": "2022-12-08T15:28:24.494Z"
   },
   {
    "duration": 10,
    "start_time": "2022-12-08T15:28:24.508Z"
   },
   {
    "duration": 10,
    "start_time": "2022-12-08T15:28:24.519Z"
   },
   {
    "duration": 14,
    "start_time": "2022-12-08T15:28:24.530Z"
   },
   {
    "duration": 51,
    "start_time": "2022-12-08T15:28:24.545Z"
   },
   {
    "duration": 5,
    "start_time": "2022-12-08T15:28:24.598Z"
   },
   {
    "duration": 16,
    "start_time": "2022-12-08T15:28:24.605Z"
   },
   {
    "duration": 25,
    "start_time": "2022-12-08T15:28:24.623Z"
   },
   {
    "duration": 32,
    "start_time": "2022-12-08T15:28:24.650Z"
   },
   {
    "duration": 25,
    "start_time": "2022-12-08T15:28:24.683Z"
   },
   {
    "duration": 6,
    "start_time": "2022-12-08T15:28:24.710Z"
   },
   {
    "duration": 6,
    "start_time": "2022-12-08T15:28:24.718Z"
   },
   {
    "duration": 18,
    "start_time": "2022-12-08T15:28:24.725Z"
   },
   {
    "duration": 120,
    "start_time": "2022-12-08T15:28:24.744Z"
   },
   {
    "duration": 177,
    "start_time": "2022-12-08T15:28:24.866Z"
   },
   {
    "duration": 166,
    "start_time": "2022-12-08T15:28:25.045Z"
   },
   {
    "duration": 233,
    "start_time": "2022-12-08T15:28:25.213Z"
   },
   {
    "duration": 133,
    "start_time": "2022-12-08T15:28:25.447Z"
   },
   {
    "duration": 140,
    "start_time": "2022-12-08T15:28:25.581Z"
   },
   {
    "duration": 137,
    "start_time": "2022-12-08T15:28:25.722Z"
   },
   {
    "duration": 140,
    "start_time": "2022-12-08T15:28:25.861Z"
   },
   {
    "duration": 178,
    "start_time": "2022-12-08T15:28:26.003Z"
   },
   {
    "duration": 158,
    "start_time": "2022-12-08T15:28:26.183Z"
   },
   {
    "duration": 164,
    "start_time": "2022-12-08T15:28:26.343Z"
   },
   {
    "duration": 12,
    "start_time": "2022-12-08T15:28:26.509Z"
   },
   {
    "duration": 165,
    "start_time": "2022-12-08T15:28:26.522Z"
   },
   {
    "duration": 7,
    "start_time": "2022-12-08T15:28:26.690Z"
   },
   {
    "duration": 322,
    "start_time": "2022-12-08T15:28:26.700Z"
   },
   {
    "duration": 4,
    "start_time": "2022-12-08T15:28:27.026Z"
   },
   {
    "duration": 26,
    "start_time": "2022-12-08T15:28:27.033Z"
   },
   {
    "duration": 23,
    "start_time": "2022-12-08T15:28:27.061Z"
   },
   {
    "duration": 43,
    "start_time": "2022-12-08T15:28:27.085Z"
   },
   {
    "duration": 32,
    "start_time": "2022-12-08T15:28:27.130Z"
   },
   {
    "duration": 42,
    "start_time": "2022-12-08T15:28:27.164Z"
   },
   {
    "duration": 13,
    "start_time": "2022-12-08T15:28:56.810Z"
   },
   {
    "duration": 115,
    "start_time": "2022-12-08T15:29:13.085Z"
   },
   {
    "duration": 6,
    "start_time": "2022-12-08T15:29:16.886Z"
   },
   {
    "duration": 19,
    "start_time": "2022-12-08T15:29:17.301Z"
   },
   {
    "duration": 17,
    "start_time": "2022-12-08T15:29:19.890Z"
   },
   {
    "duration": 22,
    "start_time": "2022-12-08T15:29:25.681Z"
   },
   {
    "duration": 51,
    "start_time": "2022-12-08T15:36:29.590Z"
   },
   {
    "duration": 13,
    "start_time": "2022-12-08T15:36:30.918Z"
   },
   {
    "duration": 20,
    "start_time": "2022-12-08T15:36:34.226Z"
   },
   {
    "duration": 3,
    "start_time": "2022-12-08T15:36:37.151Z"
   },
   {
    "duration": 14,
    "start_time": "2022-12-08T15:36:37.707Z"
   },
   {
    "duration": 3,
    "start_time": "2022-12-08T15:36:39.098Z"
   },
   {
    "duration": 363,
    "start_time": "2022-12-08T15:36:40.654Z"
   },
   {
    "duration": 3,
    "start_time": "2022-12-08T15:36:42.011Z"
   },
   {
    "duration": 107,
    "start_time": "2022-12-08T15:36:54.371Z"
   },
   {
    "duration": 4,
    "start_time": "2022-12-08T15:36:54.565Z"
   },
   {
    "duration": 3518,
    "start_time": "2022-12-08T15:36:55.754Z"
   },
   {
    "duration": 0,
    "start_time": "2022-12-08T15:36:59.274Z"
   },
   {
    "duration": 0,
    "start_time": "2022-12-08T15:36:59.275Z"
   },
   {
    "duration": 0,
    "start_time": "2022-12-08T15:36:59.275Z"
   },
   {
    "duration": 13,
    "start_time": "2022-12-08T15:37:58.798Z"
   },
   {
    "duration": 11,
    "start_time": "2022-12-08T15:37:59.962Z"
   },
   {
    "duration": 1468,
    "start_time": "2022-12-08T15:38:08.149Z"
   },
   {
    "duration": 104,
    "start_time": "2022-12-08T15:38:09.619Z"
   },
   {
    "duration": 4,
    "start_time": "2022-12-08T15:38:09.724Z"
   },
   {
    "duration": 173,
    "start_time": "2022-12-08T15:38:09.730Z"
   },
   {
    "duration": 28,
    "start_time": "2022-12-08T15:38:09.905Z"
   },
   {
    "duration": 44,
    "start_time": "2022-12-08T15:38:09.934Z"
   },
   {
    "duration": 9,
    "start_time": "2022-12-08T15:38:09.980Z"
   },
   {
    "duration": 17,
    "start_time": "2022-12-08T15:38:09.990Z"
   },
   {
    "duration": 35,
    "start_time": "2022-12-08T15:38:10.008Z"
   },
   {
    "duration": 15,
    "start_time": "2022-12-08T15:38:10.046Z"
   },
   {
    "duration": 27,
    "start_time": "2022-12-08T15:38:10.063Z"
   },
   {
    "duration": 15,
    "start_time": "2022-12-08T15:38:10.092Z"
   },
   {
    "duration": 9,
    "start_time": "2022-12-08T15:38:10.109Z"
   },
   {
    "duration": 16,
    "start_time": "2022-12-08T15:38:10.119Z"
   },
   {
    "duration": 10,
    "start_time": "2022-12-08T15:38:10.136Z"
   },
   {
    "duration": 15,
    "start_time": "2022-12-08T15:38:10.147Z"
   },
   {
    "duration": 36,
    "start_time": "2022-12-08T15:38:10.164Z"
   },
   {
    "duration": 21,
    "start_time": "2022-12-08T15:38:10.202Z"
   },
   {
    "duration": 41,
    "start_time": "2022-12-08T15:38:10.224Z"
   },
   {
    "duration": 39,
    "start_time": "2022-12-08T15:38:10.271Z"
   },
   {
    "duration": 25,
    "start_time": "2022-12-08T15:38:10.311Z"
   },
   {
    "duration": 21,
    "start_time": "2022-12-08T15:38:10.338Z"
   },
   {
    "duration": 6,
    "start_time": "2022-12-08T15:38:10.361Z"
   },
   {
    "duration": 9,
    "start_time": "2022-12-08T15:38:10.369Z"
   },
   {
    "duration": 20,
    "start_time": "2022-12-08T15:38:10.380Z"
   },
   {
    "duration": 98,
    "start_time": "2022-12-08T15:38:10.401Z"
   },
   {
    "duration": 146,
    "start_time": "2022-12-08T15:38:10.501Z"
   },
   {
    "duration": 142,
    "start_time": "2022-12-08T15:38:10.651Z"
   },
   {
    "duration": 237,
    "start_time": "2022-12-08T15:38:10.794Z"
   },
   {
    "duration": 135,
    "start_time": "2022-12-08T15:38:11.033Z"
   },
   {
    "duration": 126,
    "start_time": "2022-12-08T15:38:11.169Z"
   },
   {
    "duration": 142,
    "start_time": "2022-12-08T15:38:11.297Z"
   },
   {
    "duration": 145,
    "start_time": "2022-12-08T15:38:11.441Z"
   },
   {
    "duration": 177,
    "start_time": "2022-12-08T15:38:11.587Z"
   },
   {
    "duration": 142,
    "start_time": "2022-12-08T15:38:11.766Z"
   },
   {
    "duration": 148,
    "start_time": "2022-12-08T15:38:11.910Z"
   },
   {
    "duration": 21,
    "start_time": "2022-12-08T15:38:12.059Z"
   },
   {
    "duration": 154,
    "start_time": "2022-12-08T15:38:12.081Z"
   },
   {
    "duration": 4,
    "start_time": "2022-12-08T15:38:12.237Z"
   },
   {
    "duration": 321,
    "start_time": "2022-12-08T15:38:12.243Z"
   },
   {
    "duration": 13,
    "start_time": "2022-12-08T15:38:12.565Z"
   },
   {
    "duration": 7,
    "start_time": "2022-12-08T15:38:12.580Z"
   },
   {
    "duration": 6,
    "start_time": "2022-12-08T15:38:12.589Z"
   },
   {
    "duration": 8,
    "start_time": "2022-12-08T15:38:12.597Z"
   },
   {
    "duration": 10,
    "start_time": "2022-12-08T15:38:12.606Z"
   },
   {
    "duration": 12,
    "start_time": "2022-12-08T15:38:12.617Z"
   },
   {
    "duration": 53,
    "start_time": "2022-12-08T15:38:12.630Z"
   },
   {
    "duration": 13,
    "start_time": "2022-12-08T15:38:12.685Z"
   },
   {
    "duration": 19,
    "start_time": "2022-12-08T15:38:12.700Z"
   },
   {
    "duration": 5,
    "start_time": "2022-12-08T15:38:12.720Z"
   },
   {
    "duration": 19,
    "start_time": "2022-12-08T15:38:12.726Z"
   },
   {
    "duration": 3,
    "start_time": "2022-12-08T15:38:12.746Z"
   },
   {
    "duration": 548,
    "start_time": "2022-12-08T15:38:12.750Z"
   },
   {
    "duration": 0,
    "start_time": "2022-12-08T15:38:13.300Z"
   },
   {
    "duration": 0,
    "start_time": "2022-12-08T15:38:13.300Z"
   },
   {
    "duration": 0,
    "start_time": "2022-12-08T15:38:13.302Z"
   },
   {
    "duration": 0,
    "start_time": "2022-12-08T15:38:13.303Z"
   },
   {
    "duration": 0,
    "start_time": "2022-12-08T15:38:13.303Z"
   },
   {
    "duration": 0,
    "start_time": "2022-12-08T15:38:13.304Z"
   },
   {
    "duration": 0,
    "start_time": "2022-12-08T15:38:13.306Z"
   },
   {
    "duration": 0,
    "start_time": "2022-12-08T15:38:13.307Z"
   },
   {
    "duration": 0,
    "start_time": "2022-12-08T15:38:13.308Z"
   },
   {
    "duration": 0,
    "start_time": "2022-12-08T15:38:13.309Z"
   },
   {
    "duration": 0,
    "start_time": "2022-12-08T15:38:13.310Z"
   },
   {
    "duration": 0,
    "start_time": "2022-12-08T15:38:13.311Z"
   },
   {
    "duration": 0,
    "start_time": "2022-12-08T15:38:13.312Z"
   },
   {
    "duration": 0,
    "start_time": "2022-12-08T15:38:13.313Z"
   },
   {
    "duration": 20,
    "start_time": "2022-12-08T15:52:34.650Z"
   },
   {
    "duration": 11,
    "start_time": "2022-12-08T15:52:35.765Z"
   },
   {
    "duration": 28,
    "start_time": "2022-12-08T15:52:37.841Z"
   },
   {
    "duration": 3,
    "start_time": "2022-12-08T15:52:39.089Z"
   },
   {
    "duration": 14,
    "start_time": "2022-12-08T15:52:39.658Z"
   },
   {
    "duration": 3,
    "start_time": "2022-12-08T15:52:40.231Z"
   },
   {
    "duration": 353,
    "start_time": "2022-12-08T15:52:41.121Z"
   },
   {
    "duration": 0,
    "start_time": "2022-12-08T15:52:41.478Z"
   },
   {
    "duration": 4,
    "start_time": "2022-12-08T15:52:48.343Z"
   },
   {
    "duration": 1470,
    "start_time": "2022-12-08T15:53:08.557Z"
   },
   {
    "duration": 103,
    "start_time": "2022-12-08T15:53:10.030Z"
   },
   {
    "duration": 3,
    "start_time": "2022-12-08T15:53:10.135Z"
   },
   {
    "duration": 164,
    "start_time": "2022-12-08T15:53:10.140Z"
   },
   {
    "duration": 28,
    "start_time": "2022-12-08T15:53:10.305Z"
   },
   {
    "duration": 13,
    "start_time": "2022-12-08T15:53:10.335Z"
   },
   {
    "duration": 36,
    "start_time": "2022-12-08T15:53:10.349Z"
   },
   {
    "duration": 10,
    "start_time": "2022-12-08T15:53:10.387Z"
   },
   {
    "duration": 16,
    "start_time": "2022-12-08T15:53:10.398Z"
   },
   {
    "duration": 7,
    "start_time": "2022-12-08T15:53:10.416Z"
   },
   {
    "duration": 14,
    "start_time": "2022-12-08T15:53:10.425Z"
   },
   {
    "duration": 9,
    "start_time": "2022-12-08T15:53:10.441Z"
   },
   {
    "duration": 29,
    "start_time": "2022-12-08T15:53:10.452Z"
   },
   {
    "duration": 9,
    "start_time": "2022-12-08T15:53:10.482Z"
   },
   {
    "duration": 6,
    "start_time": "2022-12-08T15:53:10.493Z"
   },
   {
    "duration": 20,
    "start_time": "2022-12-08T15:53:10.501Z"
   },
   {
    "duration": 17,
    "start_time": "2022-12-08T15:53:10.522Z"
   },
   {
    "duration": 4,
    "start_time": "2022-12-08T15:53:10.540Z"
   },
   {
    "duration": 18,
    "start_time": "2022-12-08T15:53:10.545Z"
   },
   {
    "duration": 33,
    "start_time": "2022-12-08T15:53:10.564Z"
   },
   {
    "duration": 21,
    "start_time": "2022-12-08T15:53:10.599Z"
   },
   {
    "duration": 20,
    "start_time": "2022-12-08T15:53:10.621Z"
   },
   {
    "duration": 7,
    "start_time": "2022-12-08T15:53:10.642Z"
   },
   {
    "duration": 29,
    "start_time": "2022-12-08T15:53:10.650Z"
   },
   {
    "duration": 19,
    "start_time": "2022-12-08T15:53:10.681Z"
   },
   {
    "duration": 109,
    "start_time": "2022-12-08T15:53:10.702Z"
   },
   {
    "duration": 150,
    "start_time": "2022-12-08T15:53:10.812Z"
   },
   {
    "duration": 149,
    "start_time": "2022-12-08T15:53:10.965Z"
   },
   {
    "duration": 240,
    "start_time": "2022-12-08T15:53:11.116Z"
   },
   {
    "duration": 136,
    "start_time": "2022-12-08T15:53:11.357Z"
   },
   {
    "duration": 123,
    "start_time": "2022-12-08T15:53:11.495Z"
   },
   {
    "duration": 134,
    "start_time": "2022-12-08T15:53:11.620Z"
   },
   {
    "duration": 139,
    "start_time": "2022-12-08T15:53:11.756Z"
   },
   {
    "duration": 155,
    "start_time": "2022-12-08T15:53:11.896Z"
   },
   {
    "duration": 150,
    "start_time": "2022-12-08T15:53:12.052Z"
   },
   {
    "duration": 151,
    "start_time": "2022-12-08T15:53:12.203Z"
   },
   {
    "duration": 13,
    "start_time": "2022-12-08T15:53:12.355Z"
   },
   {
    "duration": 139,
    "start_time": "2022-12-08T15:53:12.377Z"
   },
   {
    "duration": 4,
    "start_time": "2022-12-08T15:53:12.518Z"
   },
   {
    "duration": 294,
    "start_time": "2022-12-08T15:53:12.523Z"
   },
   {
    "duration": 5,
    "start_time": "2022-12-08T15:53:12.819Z"
   },
   {
    "duration": 17,
    "start_time": "2022-12-08T15:53:12.826Z"
   },
   {
    "duration": 12,
    "start_time": "2022-12-08T15:53:12.845Z"
   },
   {
    "duration": 14,
    "start_time": "2022-12-08T15:53:12.860Z"
   },
   {
    "duration": 9,
    "start_time": "2022-12-08T15:53:12.875Z"
   },
   {
    "duration": 10,
    "start_time": "2022-12-08T15:53:12.886Z"
   },
   {
    "duration": 8,
    "start_time": "2022-12-08T15:53:14.379Z"
   },
   {
    "duration": 20,
    "start_time": "2022-12-08T15:53:14.677Z"
   },
   {
    "duration": 12,
    "start_time": "2022-12-08T15:53:15.818Z"
   },
   {
    "duration": 15,
    "start_time": "2022-12-08T15:53:17.787Z"
   },
   {
    "duration": 2,
    "start_time": "2022-12-08T15:53:20.554Z"
   },
   {
    "duration": 16,
    "start_time": "2022-12-08T15:53:20.875Z"
   },
   {
    "duration": 3,
    "start_time": "2022-12-08T15:53:21.725Z"
   },
   {
    "duration": 467,
    "start_time": "2022-12-08T15:53:22.937Z"
   },
   {
    "duration": 4,
    "start_time": "2022-12-08T15:53:23.771Z"
   },
   {
    "duration": 1387,
    "start_time": "2022-12-08T15:54:01.731Z"
   },
   {
    "duration": 104,
    "start_time": "2022-12-08T15:54:03.121Z"
   },
   {
    "duration": 3,
    "start_time": "2022-12-08T15:54:03.226Z"
   },
   {
    "duration": 156,
    "start_time": "2022-12-08T15:54:03.231Z"
   },
   {
    "duration": 29,
    "start_time": "2022-12-08T15:54:03.389Z"
   },
   {
    "duration": 14,
    "start_time": "2022-12-08T15:54:03.419Z"
   },
   {
    "duration": 44,
    "start_time": "2022-12-08T15:54:03.435Z"
   },
   {
    "duration": 10,
    "start_time": "2022-12-08T15:54:03.480Z"
   },
   {
    "duration": 14,
    "start_time": "2022-12-08T15:54:03.491Z"
   },
   {
    "duration": 8,
    "start_time": "2022-12-08T15:54:03.507Z"
   },
   {
    "duration": 14,
    "start_time": "2022-12-08T15:54:03.517Z"
   },
   {
    "duration": 11,
    "start_time": "2022-12-08T15:54:03.532Z"
   },
   {
    "duration": 7,
    "start_time": "2022-12-08T15:54:03.544Z"
   },
   {
    "duration": 9,
    "start_time": "2022-12-08T15:54:03.577Z"
   },
   {
    "duration": 5,
    "start_time": "2022-12-08T15:54:03.588Z"
   },
   {
    "duration": 12,
    "start_time": "2022-12-08T15:54:03.595Z"
   },
   {
    "duration": 14,
    "start_time": "2022-12-08T15:54:03.609Z"
   },
   {
    "duration": 7,
    "start_time": "2022-12-08T15:54:03.624Z"
   },
   {
    "duration": 19,
    "start_time": "2022-12-08T15:54:03.632Z"
   },
   {
    "duration": 41,
    "start_time": "2022-12-08T15:54:03.652Z"
   },
   {
    "duration": 22,
    "start_time": "2022-12-08T15:54:03.694Z"
   },
   {
    "duration": 15,
    "start_time": "2022-12-08T15:54:03.718Z"
   },
   {
    "duration": 6,
    "start_time": "2022-12-08T15:54:03.735Z"
   },
   {
    "duration": 7,
    "start_time": "2022-12-08T15:54:03.742Z"
   },
   {
    "duration": 39,
    "start_time": "2022-12-08T15:54:03.750Z"
   },
   {
    "duration": 112,
    "start_time": "2022-12-08T15:54:03.790Z"
   },
   {
    "duration": 177,
    "start_time": "2022-12-08T15:54:03.903Z"
   },
   {
    "duration": 159,
    "start_time": "2022-12-08T15:54:04.083Z"
   },
   {
    "duration": 221,
    "start_time": "2022-12-08T15:54:04.243Z"
   },
   {
    "duration": 130,
    "start_time": "2022-12-08T15:54:04.466Z"
   },
   {
    "duration": 123,
    "start_time": "2022-12-08T15:54:04.598Z"
   },
   {
    "duration": 139,
    "start_time": "2022-12-08T15:54:04.723Z"
   },
   {
    "duration": 142,
    "start_time": "2022-12-08T15:54:04.864Z"
   },
   {
    "duration": 180,
    "start_time": "2022-12-08T15:54:05.007Z"
   },
   {
    "duration": 143,
    "start_time": "2022-12-08T15:54:05.188Z"
   },
   {
    "duration": 139,
    "start_time": "2022-12-08T15:54:05.333Z"
   },
   {
    "duration": 13,
    "start_time": "2022-12-08T15:54:05.474Z"
   },
   {
    "duration": 152,
    "start_time": "2022-12-08T15:54:05.488Z"
   },
   {
    "duration": 6,
    "start_time": "2022-12-08T15:54:05.641Z"
   },
   {
    "duration": 301,
    "start_time": "2022-12-08T15:54:05.648Z"
   },
   {
    "duration": 5,
    "start_time": "2022-12-08T15:54:05.950Z"
   },
   {
    "duration": 12,
    "start_time": "2022-12-08T15:54:05.957Z"
   },
   {
    "duration": 15,
    "start_time": "2022-12-08T15:54:05.971Z"
   },
   {
    "duration": 30,
    "start_time": "2022-12-08T15:54:05.987Z"
   },
   {
    "duration": 22,
    "start_time": "2022-12-08T15:54:09.598Z"
   },
   {
    "duration": 4,
    "start_time": "2022-12-08T15:54:10.228Z"
   },
   {
    "duration": 8,
    "start_time": "2022-12-08T15:54:10.751Z"
   },
   {
    "duration": 10,
    "start_time": "2022-12-08T15:54:11.492Z"
   },
   {
    "duration": 15,
    "start_time": "2022-12-08T15:54:13.677Z"
   },
   {
    "duration": 3,
    "start_time": "2022-12-08T15:54:15.517Z"
   },
   {
    "duration": 16,
    "start_time": "2022-12-08T15:54:15.688Z"
   },
   {
    "duration": 3,
    "start_time": "2022-12-08T15:54:16.637Z"
   },
   {
    "duration": 1360,
    "start_time": "2022-12-08T15:55:04.021Z"
   },
   {
    "duration": 104,
    "start_time": "2022-12-08T15:55:05.383Z"
   },
   {
    "duration": 3,
    "start_time": "2022-12-08T15:55:05.488Z"
   },
   {
    "duration": 143,
    "start_time": "2022-12-08T15:55:05.493Z"
   },
   {
    "duration": 55,
    "start_time": "2022-12-08T15:55:05.638Z"
   },
   {
    "duration": 13,
    "start_time": "2022-12-08T15:55:05.695Z"
   },
   {
    "duration": 9,
    "start_time": "2022-12-08T15:55:05.709Z"
   },
   {
    "duration": 14,
    "start_time": "2022-12-08T15:55:05.719Z"
   },
   {
    "duration": 16,
    "start_time": "2022-12-08T15:55:05.734Z"
   },
   {
    "duration": 26,
    "start_time": "2022-12-08T15:55:05.753Z"
   },
   {
    "duration": 11,
    "start_time": "2022-12-08T15:55:05.780Z"
   },
   {
    "duration": 10,
    "start_time": "2022-12-08T15:55:05.792Z"
   },
   {
    "duration": 7,
    "start_time": "2022-12-08T15:55:05.804Z"
   },
   {
    "duration": 9,
    "start_time": "2022-12-08T15:55:05.812Z"
   },
   {
    "duration": 4,
    "start_time": "2022-12-08T15:55:05.822Z"
   },
   {
    "duration": 16,
    "start_time": "2022-12-08T15:55:05.827Z"
   },
   {
    "duration": 43,
    "start_time": "2022-12-08T15:55:05.845Z"
   },
   {
    "duration": 4,
    "start_time": "2022-12-08T15:55:05.889Z"
   },
   {
    "duration": 13,
    "start_time": "2022-12-08T15:55:05.894Z"
   },
   {
    "duration": 24,
    "start_time": "2022-12-08T15:55:05.909Z"
   },
   {
    "duration": 21,
    "start_time": "2022-12-08T15:55:05.935Z"
   },
   {
    "duration": 14,
    "start_time": "2022-12-08T15:55:05.978Z"
   },
   {
    "duration": 7,
    "start_time": "2022-12-08T15:55:05.993Z"
   },
   {
    "duration": 5,
    "start_time": "2022-12-08T15:55:06.001Z"
   },
   {
    "duration": 18,
    "start_time": "2022-12-08T15:55:06.007Z"
   },
   {
    "duration": 126,
    "start_time": "2022-12-08T15:55:06.027Z"
   },
   {
    "duration": 141,
    "start_time": "2022-12-08T15:55:06.154Z"
   },
   {
    "duration": 136,
    "start_time": "2022-12-08T15:55:06.297Z"
   },
   {
    "duration": 238,
    "start_time": "2022-12-08T15:55:06.435Z"
   },
   {
    "duration": 133,
    "start_time": "2022-12-08T15:55:06.675Z"
   },
   {
    "duration": 123,
    "start_time": "2022-12-08T15:55:06.809Z"
   },
   {
    "duration": 145,
    "start_time": "2022-12-08T15:55:06.934Z"
   },
   {
    "duration": 144,
    "start_time": "2022-12-08T15:55:07.081Z"
   },
   {
    "duration": 158,
    "start_time": "2022-12-08T15:55:07.227Z"
   },
   {
    "duration": 140,
    "start_time": "2022-12-08T15:55:07.387Z"
   },
   {
    "duration": 144,
    "start_time": "2022-12-08T15:55:07.529Z"
   },
   {
    "duration": 12,
    "start_time": "2022-12-08T15:55:07.675Z"
   },
   {
    "duration": 167,
    "start_time": "2022-12-08T15:55:07.688Z"
   },
   {
    "duration": 3,
    "start_time": "2022-12-08T15:55:07.857Z"
   },
   {
    "duration": 304,
    "start_time": "2022-12-08T15:55:07.862Z"
   },
   {
    "duration": 12,
    "start_time": "2022-12-08T15:55:08.167Z"
   },
   {
    "duration": 10,
    "start_time": "2022-12-08T15:55:08.180Z"
   },
   {
    "duration": 6,
    "start_time": "2022-12-08T15:55:08.191Z"
   },
   {
    "duration": 7,
    "start_time": "2022-12-08T15:55:08.199Z"
   },
   {
    "duration": 43,
    "start_time": "2022-12-08T15:55:10.620Z"
   },
   {
    "duration": 6,
    "start_time": "2022-12-08T15:55:11.731Z"
   },
   {
    "duration": 8,
    "start_time": "2022-12-08T15:55:12.325Z"
   },
   {
    "duration": 11,
    "start_time": "2022-12-08T15:55:13.096Z"
   },
   {
    "duration": 18,
    "start_time": "2022-12-08T15:55:18.014Z"
   },
   {
    "duration": 2,
    "start_time": "2022-12-08T15:55:19.081Z"
   },
   {
    "duration": 16,
    "start_time": "2022-12-08T15:55:19.509Z"
   },
   {
    "duration": 3,
    "start_time": "2022-12-08T15:55:20.411Z"
   },
   {
    "duration": 492,
    "start_time": "2022-12-08T15:55:21.351Z"
   },
   {
    "duration": 3,
    "start_time": "2022-12-08T15:55:21.982Z"
   },
   {
    "duration": 71,
    "start_time": "2022-12-08T16:00:22.459Z"
   },
   {
    "duration": 18,
    "start_time": "2022-12-08T16:00:30.044Z"
   },
   {
    "duration": 5,
    "start_time": "2022-12-08T16:00:31.490Z"
   },
   {
    "duration": 7,
    "start_time": "2022-12-08T16:00:32.039Z"
   },
   {
    "duration": 1427,
    "start_time": "2022-12-08T16:00:47.564Z"
   },
   {
    "duration": 114,
    "start_time": "2022-12-08T16:00:48.993Z"
   },
   {
    "duration": 3,
    "start_time": "2022-12-08T16:00:49.108Z"
   },
   {
    "duration": 179,
    "start_time": "2022-12-08T16:00:49.113Z"
   },
   {
    "duration": 30,
    "start_time": "2022-12-08T16:00:49.294Z"
   },
   {
    "duration": 14,
    "start_time": "2022-12-08T16:00:49.326Z"
   },
   {
    "duration": 41,
    "start_time": "2022-12-08T16:00:49.342Z"
   },
   {
    "duration": 16,
    "start_time": "2022-12-08T16:00:49.385Z"
   },
   {
    "duration": 13,
    "start_time": "2022-12-08T16:00:49.403Z"
   },
   {
    "duration": 7,
    "start_time": "2022-12-08T16:00:49.419Z"
   },
   {
    "duration": 14,
    "start_time": "2022-12-08T16:00:49.427Z"
   },
   {
    "duration": 11,
    "start_time": "2022-12-08T16:00:49.442Z"
   },
   {
    "duration": 24,
    "start_time": "2022-12-08T16:00:49.455Z"
   },
   {
    "duration": 10,
    "start_time": "2022-12-08T16:00:49.480Z"
   },
   {
    "duration": 5,
    "start_time": "2022-12-08T16:00:49.492Z"
   },
   {
    "duration": 13,
    "start_time": "2022-12-08T16:00:49.498Z"
   },
   {
    "duration": 14,
    "start_time": "2022-12-08T16:00:49.512Z"
   },
   {
    "duration": 7,
    "start_time": "2022-12-08T16:00:49.528Z"
   },
   {
    "duration": 21,
    "start_time": "2022-12-08T16:00:49.537Z"
   },
   {
    "duration": 39,
    "start_time": "2022-12-08T16:00:49.560Z"
   },
   {
    "duration": 22,
    "start_time": "2022-12-08T16:00:49.601Z"
   },
   {
    "duration": 28,
    "start_time": "2022-12-08T16:00:49.625Z"
   },
   {
    "duration": 32,
    "start_time": "2022-12-08T16:00:49.655Z"
   },
   {
    "duration": 9,
    "start_time": "2022-12-08T16:00:49.689Z"
   },
   {
    "duration": 18,
    "start_time": "2022-12-08T16:00:49.699Z"
   },
   {
    "duration": 131,
    "start_time": "2022-12-08T16:00:49.719Z"
   },
   {
    "duration": 158,
    "start_time": "2022-12-08T16:00:49.851Z"
   },
   {
    "duration": 156,
    "start_time": "2022-12-08T16:00:50.013Z"
   },
   {
    "duration": 249,
    "start_time": "2022-12-08T16:00:50.171Z"
   },
   {
    "duration": 140,
    "start_time": "2022-12-08T16:00:50.422Z"
   },
   {
    "duration": 131,
    "start_time": "2022-12-08T16:00:50.564Z"
   },
   {
    "duration": 144,
    "start_time": "2022-12-08T16:00:50.696Z"
   },
   {
    "duration": 154,
    "start_time": "2022-12-08T16:00:50.842Z"
   },
   {
    "duration": 175,
    "start_time": "2022-12-08T16:00:50.998Z"
   },
   {
    "duration": 150,
    "start_time": "2022-12-08T16:00:51.177Z"
   },
   {
    "duration": 154,
    "start_time": "2022-12-08T16:00:51.328Z"
   },
   {
    "duration": 14,
    "start_time": "2022-12-08T16:00:51.483Z"
   },
   {
    "duration": 142,
    "start_time": "2022-12-08T16:00:51.499Z"
   },
   {
    "duration": 5,
    "start_time": "2022-12-08T16:00:51.642Z"
   },
   {
    "duration": 306,
    "start_time": "2022-12-08T16:00:51.648Z"
   },
   {
    "duration": 4,
    "start_time": "2022-12-08T16:00:51.956Z"
   },
   {
    "duration": 16,
    "start_time": "2022-12-08T16:00:51.962Z"
   },
   {
    "duration": 9,
    "start_time": "2022-12-08T16:00:51.979Z"
   },
   {
    "duration": 7,
    "start_time": "2022-12-08T16:00:51.989Z"
   },
   {
    "duration": 12,
    "start_time": "2022-12-08T16:00:51.997Z"
   },
   {
    "duration": 11,
    "start_time": "2022-12-08T16:00:52.011Z"
   },
   {
    "duration": 8,
    "start_time": "2022-12-08T16:00:52.820Z"
   },
   {
    "duration": 40,
    "start_time": "2022-12-08T16:00:53.116Z"
   },
   {
    "duration": 11,
    "start_time": "2022-12-08T16:00:54.260Z"
   },
   {
    "duration": 18,
    "start_time": "2022-12-08T16:01:02.531Z"
   },
   {
    "duration": 2,
    "start_time": "2022-12-08T16:01:04.187Z"
   },
   {
    "duration": 16,
    "start_time": "2022-12-08T16:01:04.730Z"
   },
   {
    "duration": 3,
    "start_time": "2022-12-08T16:01:06.056Z"
   },
   {
    "duration": 435,
    "start_time": "2022-12-08T16:01:07.497Z"
   },
   {
    "duration": 4,
    "start_time": "2022-12-08T16:01:08.487Z"
   },
   {
    "duration": 1349,
    "start_time": "2022-12-08T16:01:52.336Z"
   },
   {
    "duration": 105,
    "start_time": "2022-12-08T16:01:53.687Z"
   },
   {
    "duration": 4,
    "start_time": "2022-12-08T16:01:53.793Z"
   },
   {
    "duration": 181,
    "start_time": "2022-12-08T16:01:53.798Z"
   },
   {
    "duration": 39,
    "start_time": "2022-12-08T16:01:53.981Z"
   },
   {
    "duration": 16,
    "start_time": "2022-12-08T16:01:54.022Z"
   },
   {
    "duration": 39,
    "start_time": "2022-12-08T16:01:54.040Z"
   },
   {
    "duration": 15,
    "start_time": "2022-12-08T16:01:54.081Z"
   },
   {
    "duration": 24,
    "start_time": "2022-12-08T16:01:54.098Z"
   },
   {
    "duration": 15,
    "start_time": "2022-12-08T16:01:54.125Z"
   },
   {
    "duration": 19,
    "start_time": "2022-12-08T16:01:54.142Z"
   },
   {
    "duration": 27,
    "start_time": "2022-12-08T16:01:54.163Z"
   },
   {
    "duration": 8,
    "start_time": "2022-12-08T16:01:54.193Z"
   },
   {
    "duration": 17,
    "start_time": "2022-12-08T16:01:54.203Z"
   },
   {
    "duration": 7,
    "start_time": "2022-12-08T16:01:54.222Z"
   },
   {
    "duration": 16,
    "start_time": "2022-12-08T16:01:54.231Z"
   },
   {
    "duration": 34,
    "start_time": "2022-12-08T16:01:54.249Z"
   },
   {
    "duration": 3,
    "start_time": "2022-12-08T16:01:54.285Z"
   },
   {
    "duration": 20,
    "start_time": "2022-12-08T16:01:54.290Z"
   },
   {
    "duration": 26,
    "start_time": "2022-12-08T16:01:54.312Z"
   },
   {
    "duration": 21,
    "start_time": "2022-12-08T16:01:54.340Z"
   },
   {
    "duration": 33,
    "start_time": "2022-12-08T16:01:54.362Z"
   },
   {
    "duration": 7,
    "start_time": "2022-12-08T16:01:54.397Z"
   },
   {
    "duration": 7,
    "start_time": "2022-12-08T16:01:54.406Z"
   },
   {
    "duration": 23,
    "start_time": "2022-12-08T16:01:54.415Z"
   },
   {
    "duration": 122,
    "start_time": "2022-12-08T16:01:54.439Z"
   },
   {
    "duration": 142,
    "start_time": "2022-12-08T16:01:54.562Z"
   },
   {
    "duration": 142,
    "start_time": "2022-12-08T16:01:54.708Z"
   },
   {
    "duration": 260,
    "start_time": "2022-12-08T16:01:54.852Z"
   },
   {
    "duration": 135,
    "start_time": "2022-12-08T16:01:55.114Z"
   },
   {
    "duration": 137,
    "start_time": "2022-12-08T16:01:55.250Z"
   },
   {
    "duration": 144,
    "start_time": "2022-12-08T16:01:55.389Z"
   },
   {
    "duration": 158,
    "start_time": "2022-12-08T16:01:55.535Z"
   },
   {
    "duration": 161,
    "start_time": "2022-12-08T16:01:55.694Z"
   },
   {
    "duration": 141,
    "start_time": "2022-12-08T16:01:55.856Z"
   },
   {
    "duration": 147,
    "start_time": "2022-12-08T16:01:55.999Z"
   },
   {
    "duration": 14,
    "start_time": "2022-12-08T16:01:56.148Z"
   },
   {
    "duration": 143,
    "start_time": "2022-12-08T16:01:56.164Z"
   },
   {
    "duration": 4,
    "start_time": "2022-12-08T16:01:56.308Z"
   },
   {
    "duration": 288,
    "start_time": "2022-12-08T16:01:56.314Z"
   },
   {
    "duration": 5,
    "start_time": "2022-12-08T16:01:56.603Z"
   },
   {
    "duration": 10,
    "start_time": "2022-12-08T16:01:56.610Z"
   },
   {
    "duration": 9,
    "start_time": "2022-12-08T16:01:56.622Z"
   },
   {
    "duration": 7,
    "start_time": "2022-12-08T16:01:56.633Z"
   },
   {
    "duration": 10,
    "start_time": "2022-12-08T16:01:56.641Z"
   },
   {
    "duration": 8,
    "start_time": "2022-12-08T16:01:56.653Z"
   },
   {
    "duration": 39,
    "start_time": "2022-12-08T16:01:57.699Z"
   },
   {
    "duration": 12,
    "start_time": "2022-12-08T16:01:58.777Z"
   },
   {
    "duration": 18,
    "start_time": "2022-12-08T16:02:02.190Z"
   },
   {
    "duration": 3,
    "start_time": "2022-12-08T16:02:03.276Z"
   },
   {
    "duration": 17,
    "start_time": "2022-12-08T16:02:03.462Z"
   },
   {
    "duration": 3,
    "start_time": "2022-12-08T16:02:04.315Z"
   },
   {
    "duration": 480,
    "start_time": "2022-12-08T16:02:05.270Z"
   },
   {
    "duration": 4,
    "start_time": "2022-12-08T16:02:06.080Z"
   },
   {
    "duration": 99,
    "start_time": "2022-12-08T16:02:33.733Z"
   },
   {
    "duration": 3,
    "start_time": "2022-12-08T16:02:33.918Z"
   },
   {
    "duration": 3455,
    "start_time": "2022-12-08T16:02:34.330Z"
   },
   {
    "duration": 0,
    "start_time": "2022-12-08T16:02:37.788Z"
   },
   {
    "duration": 0,
    "start_time": "2022-12-08T16:02:37.789Z"
   },
   {
    "duration": 0,
    "start_time": "2022-12-08T16:02:37.791Z"
   },
   {
    "duration": 0,
    "start_time": "2022-12-08T16:02:37.793Z"
   },
   {
    "duration": 0,
    "start_time": "2022-12-08T16:02:37.794Z"
   },
   {
    "duration": 0,
    "start_time": "2022-12-08T16:02:37.796Z"
   },
   {
    "duration": 0,
    "start_time": "2022-12-08T16:02:37.797Z"
   },
   {
    "duration": 8,
    "start_time": "2022-12-08T16:02:38.157Z"
   },
   {
    "duration": 3,
    "start_time": "2022-12-08T16:02:38.813Z"
   },
   {
    "duration": 8,
    "start_time": "2022-12-08T16:02:39.151Z"
   },
   {
    "duration": 1395,
    "start_time": "2022-12-08T16:06:55.410Z"
   },
   {
    "duration": 104,
    "start_time": "2022-12-08T16:06:56.806Z"
   },
   {
    "duration": 2,
    "start_time": "2022-12-08T16:06:56.912Z"
   },
   {
    "duration": 132,
    "start_time": "2022-12-08T16:06:56.916Z"
   },
   {
    "duration": 31,
    "start_time": "2022-12-08T16:06:57.078Z"
   },
   {
    "duration": 15,
    "start_time": "2022-12-08T16:06:57.110Z"
   },
   {
    "duration": 9,
    "start_time": "2022-12-08T16:06:57.126Z"
   },
   {
    "duration": 11,
    "start_time": "2022-12-08T16:06:57.136Z"
   },
   {
    "duration": 39,
    "start_time": "2022-12-08T16:06:57.148Z"
   },
   {
    "duration": 5,
    "start_time": "2022-12-08T16:06:57.190Z"
   },
   {
    "duration": 13,
    "start_time": "2022-12-08T16:06:57.196Z"
   },
   {
    "duration": 10,
    "start_time": "2022-12-08T16:06:57.210Z"
   },
   {
    "duration": 6,
    "start_time": "2022-12-08T16:06:57.222Z"
   },
   {
    "duration": 10,
    "start_time": "2022-12-08T16:06:57.229Z"
   },
   {
    "duration": 6,
    "start_time": "2022-12-08T16:06:57.241Z"
   },
   {
    "duration": 36,
    "start_time": "2022-12-08T16:06:57.248Z"
   },
   {
    "duration": 19,
    "start_time": "2022-12-08T16:06:57.285Z"
   },
   {
    "duration": 7,
    "start_time": "2022-12-08T16:06:57.305Z"
   },
   {
    "duration": 21,
    "start_time": "2022-12-08T16:06:57.313Z"
   },
   {
    "duration": 30,
    "start_time": "2022-12-08T16:06:57.336Z"
   },
   {
    "duration": 24,
    "start_time": "2022-12-08T16:06:57.368Z"
   },
   {
    "duration": 17,
    "start_time": "2022-12-08T16:06:57.393Z"
   },
   {
    "duration": 10,
    "start_time": "2022-12-08T16:06:57.412Z"
   },
   {
    "duration": 9,
    "start_time": "2022-12-08T16:06:57.424Z"
   },
   {
    "duration": 23,
    "start_time": "2022-12-08T16:06:57.434Z"
   },
   {
    "duration": 110,
    "start_time": "2022-12-08T16:06:57.458Z"
   },
   {
    "duration": 149,
    "start_time": "2022-12-08T16:06:57.570Z"
   },
   {
    "duration": 135,
    "start_time": "2022-12-08T16:06:57.722Z"
   },
   {
    "duration": 232,
    "start_time": "2022-12-08T16:06:57.858Z"
   },
   {
    "duration": 135,
    "start_time": "2022-12-08T16:06:58.092Z"
   },
   {
    "duration": 132,
    "start_time": "2022-12-08T16:06:58.229Z"
   },
   {
    "duration": 138,
    "start_time": "2022-12-08T16:06:58.363Z"
   },
   {
    "duration": 147,
    "start_time": "2022-12-08T16:06:58.503Z"
   },
   {
    "duration": 159,
    "start_time": "2022-12-08T16:06:58.652Z"
   },
   {
    "duration": 136,
    "start_time": "2022-12-08T16:06:58.813Z"
   },
   {
    "duration": 147,
    "start_time": "2022-12-08T16:06:58.950Z"
   },
   {
    "duration": 13,
    "start_time": "2022-12-08T16:06:59.099Z"
   },
   {
    "duration": 144,
    "start_time": "2022-12-08T16:06:59.113Z"
   },
   {
    "duration": 4,
    "start_time": "2022-12-08T16:06:59.259Z"
   },
   {
    "duration": 316,
    "start_time": "2022-12-08T16:06:59.264Z"
   },
   {
    "duration": 5,
    "start_time": "2022-12-08T16:06:59.582Z"
   },
   {
    "duration": 9,
    "start_time": "2022-12-08T16:06:59.588Z"
   },
   {
    "duration": 9,
    "start_time": "2022-12-08T16:06:59.598Z"
   },
   {
    "duration": 5,
    "start_time": "2022-12-08T16:06:59.608Z"
   },
   {
    "duration": 6,
    "start_time": "2022-12-08T16:06:59.615Z"
   },
   {
    "duration": 11,
    "start_time": "2022-12-08T16:06:59.622Z"
   },
   {
    "duration": 114,
    "start_time": "2022-12-08T16:07:00.461Z"
   },
   {
    "duration": 63,
    "start_time": "2022-12-08T16:07:17.731Z"
   },
   {
    "duration": 15,
    "start_time": "2022-12-08T16:07:32.452Z"
   },
   {
    "duration": 59,
    "start_time": "2022-12-08T16:09:25.942Z"
   },
   {
    "duration": 51,
    "start_time": "2022-12-08T16:09:38.873Z"
   },
   {
    "duration": 13,
    "start_time": "2022-12-08T16:09:47.514Z"
   },
   {
    "duration": 2,
    "start_time": "2022-12-08T16:10:35.246Z"
   },
   {
    "duration": 15,
    "start_time": "2022-12-08T16:10:35.506Z"
   },
   {
    "duration": 3,
    "start_time": "2022-12-08T16:10:39.285Z"
   },
   {
    "duration": 33097,
    "start_time": "2022-12-08T16:12:38.894Z"
   },
   {
    "duration": 3,
    "start_time": "2022-12-08T16:13:11.993Z"
   },
   {
    "duration": 4,
    "start_time": "2022-12-08T17:06:28.805Z"
   },
   {
    "duration": 104,
    "start_time": "2022-12-08T17:06:41.312Z"
   },
   {
    "duration": 1386,
    "start_time": "2022-12-08T17:06:53.236Z"
   },
   {
    "duration": 111,
    "start_time": "2022-12-08T17:06:56.097Z"
   },
   {
    "duration": 3,
    "start_time": "2022-12-08T17:06:56.811Z"
   },
   {
    "duration": 155,
    "start_time": "2022-12-08T17:06:56.960Z"
   },
   {
    "duration": 29,
    "start_time": "2022-12-08T17:06:57.621Z"
   },
   {
    "duration": 14,
    "start_time": "2022-12-08T17:06:57.944Z"
   },
   {
    "duration": 9,
    "start_time": "2022-12-08T17:06:58.102Z"
   },
   {
    "duration": 9,
    "start_time": "2022-12-08T17:06:58.446Z"
   },
   {
    "duration": 13,
    "start_time": "2022-12-08T17:06:58.601Z"
   },
   {
    "duration": 4,
    "start_time": "2022-12-08T17:06:58.947Z"
   },
   {
    "duration": 11,
    "start_time": "2022-12-08T17:06:59.286Z"
   },
   {
    "duration": 11,
    "start_time": "2022-12-08T17:06:59.441Z"
   },
   {
    "duration": 8,
    "start_time": "2022-12-08T17:06:59.601Z"
   },
   {
    "duration": 10,
    "start_time": "2022-12-08T17:06:59.953Z"
   },
   {
    "duration": 4,
    "start_time": "2022-12-08T17:07:00.112Z"
   },
   {
    "duration": 12,
    "start_time": "2022-12-08T17:07:00.441Z"
   },
   {
    "duration": 14,
    "start_time": "2022-12-08T17:07:00.776Z"
   },
   {
    "duration": 5,
    "start_time": "2022-12-08T17:07:01.115Z"
   },
   {
    "duration": 12,
    "start_time": "2022-12-08T17:07:01.605Z"
   },
   {
    "duration": 32,
    "start_time": "2022-12-08T17:07:02.757Z"
   },
   {
    "duration": 23,
    "start_time": "2022-12-08T17:07:03.140Z"
   },
   {
    "duration": 16,
    "start_time": "2022-12-08T17:07:03.345Z"
   },
   {
    "duration": 8,
    "start_time": "2022-12-08T17:07:04.025Z"
   },
   {
    "duration": 4,
    "start_time": "2022-12-08T17:07:04.240Z"
   },
   {
    "duration": 15,
    "start_time": "2022-12-08T17:07:04.736Z"
   },
   {
    "duration": 97,
    "start_time": "2022-12-08T17:07:05.369Z"
   },
   {
    "duration": 133,
    "start_time": "2022-12-08T17:07:05.790Z"
   },
   {
    "duration": 126,
    "start_time": "2022-12-08T17:07:06.343Z"
   },
   {
    "duration": 216,
    "start_time": "2022-12-08T17:07:06.523Z"
   },
   {
    "duration": 128,
    "start_time": "2022-12-08T17:07:06.877Z"
   },
   {
    "duration": 118,
    "start_time": "2022-12-08T17:07:07.379Z"
   },
   {
    "duration": 126,
    "start_time": "2022-12-08T17:07:07.809Z"
   },
   {
    "duration": 141,
    "start_time": "2022-12-08T17:07:08.021Z"
   },
   {
    "duration": 148,
    "start_time": "2022-12-08T17:07:08.640Z"
   },
   {
    "duration": 159,
    "start_time": "2022-12-08T17:07:09.253Z"
   },
   {
    "duration": 138,
    "start_time": "2022-12-08T17:07:09.699Z"
   },
   {
    "duration": 13,
    "start_time": "2022-12-08T17:07:10.318Z"
   },
   {
    "duration": 133,
    "start_time": "2022-12-08T17:07:11.392Z"
   },
   {
    "duration": 5,
    "start_time": "2022-12-08T17:07:12.768Z"
   },
   {
    "duration": 307,
    "start_time": "2022-12-08T17:07:12.975Z"
   },
   {
    "duration": 4,
    "start_time": "2022-12-08T17:07:14.453Z"
   },
   {
    "duration": 3,
    "start_time": "2022-12-08T17:07:16.342Z"
   },
   {
    "duration": 4,
    "start_time": "2022-12-08T17:07:16.889Z"
   },
   {
    "duration": 4,
    "start_time": "2022-12-08T17:07:17.491Z"
   },
   {
    "duration": 5,
    "start_time": "2022-12-08T17:07:18.676Z"
   },
   {
    "duration": 10,
    "start_time": "2022-12-08T17:07:20.041Z"
   },
   {
    "duration": 77,
    "start_time": "2022-12-08T17:07:21.606Z"
   },
   {
    "duration": 48,
    "start_time": "2022-12-08T17:07:24.606Z"
   },
   {
    "duration": 15,
    "start_time": "2022-12-08T17:07:27.806Z"
   },
   {
    "duration": 36,
    "start_time": "2022-12-08T17:07:33.724Z"
   },
   {
    "duration": 12,
    "start_time": "2022-12-08T17:07:35.714Z"
   },
   {
    "duration": 19,
    "start_time": "2022-12-08T17:07:37.717Z"
   },
   {
    "duration": 2,
    "start_time": "2022-12-08T17:07:39.340Z"
   },
   {
    "duration": 15,
    "start_time": "2022-12-08T17:07:39.819Z"
   },
   {
    "duration": 3,
    "start_time": "2022-12-08T17:07:41.079Z"
   },
   {
    "duration": 62000,
    "start_time": "2022-12-08T17:07:42.435Z"
   },
   {
    "duration": 3,
    "start_time": "2022-12-08T17:08:44.437Z"
   },
   {
    "duration": 34289,
    "start_time": "2022-12-08T17:08:48.290Z"
   },
   {
    "duration": 3,
    "start_time": "2022-12-08T17:09:22.581Z"
   },
   {
    "duration": 2605,
    "start_time": "2022-12-08T17:09:25.288Z"
   },
   {
    "duration": 4,
    "start_time": "2022-12-08T17:09:27.894Z"
   },
   {
    "duration": 4,
    "start_time": "2022-12-08T17:09:29.786Z"
   },
   {
    "duration": 8,
    "start_time": "2022-12-08T17:09:30.271Z"
   },
   {
    "duration": 119,
    "start_time": "2022-12-08T17:09:32.803Z"
   },
   {
    "duration": 6,
    "start_time": "2022-12-08T17:09:34.091Z"
   },
   {
    "duration": 202,
    "start_time": "2022-12-08T17:09:34.518Z"
   },
   {
    "duration": 4,
    "start_time": "2022-12-08T17:09:36.338Z"
   },
   {
    "duration": 6,
    "start_time": "2022-12-08T17:09:36.840Z"
   },
   {
    "duration": 4,
    "start_time": "2022-12-08T17:09:40.150Z"
   },
   {
    "duration": 8,
    "start_time": "2022-12-08T17:09:40.611Z"
   },
   {
    "duration": 14,
    "start_time": "2022-12-08T17:09:53.358Z"
   },
   {
    "duration": 1414,
    "start_time": "2022-12-08T17:10:10.345Z"
   },
   {
    "duration": 102,
    "start_time": "2022-12-08T17:10:11.761Z"
   },
   {
    "duration": 3,
    "start_time": "2022-12-08T17:10:12.968Z"
   },
   {
    "duration": 143,
    "start_time": "2022-12-08T17:10:13.197Z"
   },
   {
    "duration": 33,
    "start_time": "2022-12-08T17:10:15.064Z"
   },
   {
    "duration": 14,
    "start_time": "2022-12-08T17:10:16.214Z"
   },
   {
    "duration": 9,
    "start_time": "2022-12-08T17:10:16.694Z"
   },
   {
    "duration": 8,
    "start_time": "2022-12-08T17:10:17.148Z"
   },
   {
    "duration": 12,
    "start_time": "2022-12-08T17:10:17.359Z"
   },
   {
    "duration": 4,
    "start_time": "2022-12-08T17:10:17.810Z"
   },
   {
    "duration": 9,
    "start_time": "2022-12-08T17:10:18.240Z"
   },
   {
    "duration": 10,
    "start_time": "2022-12-08T17:10:18.417Z"
   },
   {
    "duration": 8,
    "start_time": "2022-12-08T17:10:18.580Z"
   },
   {
    "duration": 10,
    "start_time": "2022-12-08T17:10:18.966Z"
   },
   {
    "duration": 4,
    "start_time": "2022-12-08T17:10:19.465Z"
   },
   {
    "duration": 12,
    "start_time": "2022-12-08T17:10:20.112Z"
   },
   {
    "duration": 14,
    "start_time": "2022-12-08T17:10:20.463Z"
   },
   {
    "duration": 4,
    "start_time": "2022-12-08T17:10:20.824Z"
   },
   {
    "duration": 11,
    "start_time": "2022-12-08T17:10:21.202Z"
   },
   {
    "duration": 25,
    "start_time": "2022-12-08T17:10:22.561Z"
   },
   {
    "duration": 23,
    "start_time": "2022-12-08T17:10:23.400Z"
   },
   {
    "duration": 16,
    "start_time": "2022-12-08T17:10:24.222Z"
   },
   {
    "duration": 7,
    "start_time": "2022-12-08T17:10:24.868Z"
   },
   {
    "duration": 4,
    "start_time": "2022-12-08T17:10:25.236Z"
   },
   {
    "duration": 21,
    "start_time": "2022-12-08T17:10:25.940Z"
   },
   {
    "duration": 100,
    "start_time": "2022-12-08T17:10:26.902Z"
   },
   {
    "duration": 132,
    "start_time": "2022-12-08T17:10:27.746Z"
   },
   {
    "duration": 139,
    "start_time": "2022-12-08T17:10:28.270Z"
   },
   {
    "duration": 222,
    "start_time": "2022-12-08T17:10:28.507Z"
   },
   {
    "duration": 123,
    "start_time": "2022-12-08T17:10:29.149Z"
   },
   {
    "duration": 115,
    "start_time": "2022-12-08T17:10:29.774Z"
   },
   {
    "duration": 140,
    "start_time": "2022-12-08T17:10:30.497Z"
   },
   {
    "duration": 140,
    "start_time": "2022-12-08T17:10:30.836Z"
   },
   {
    "duration": 150,
    "start_time": "2022-12-08T17:10:31.577Z"
   },
   {
    "duration": 134,
    "start_time": "2022-12-08T17:10:32.288Z"
   },
   {
    "duration": 149,
    "start_time": "2022-12-08T17:10:32.968Z"
   },
   {
    "duration": 13,
    "start_time": "2022-12-08T17:10:33.858Z"
   },
   {
    "duration": 141,
    "start_time": "2022-12-08T17:10:35.611Z"
   },
   {
    "duration": 4,
    "start_time": "2022-12-08T17:10:37.416Z"
   },
   {
    "duration": 338,
    "start_time": "2022-12-08T17:10:38.063Z"
   },
   {
    "duration": 5,
    "start_time": "2022-12-08T17:10:40.936Z"
   },
   {
    "duration": 4,
    "start_time": "2022-12-08T17:10:45.692Z"
   },
   {
    "duration": 4,
    "start_time": "2022-12-08T17:10:46.065Z"
   },
   {
    "duration": 5,
    "start_time": "2022-12-08T17:10:47.040Z"
   },
   {
    "duration": 6,
    "start_time": "2022-12-08T17:10:50.486Z"
   },
   {
    "duration": 8,
    "start_time": "2022-12-08T17:10:50.918Z"
   },
   {
    "duration": 35,
    "start_time": "2022-12-08T17:10:55.040Z"
   },
   {
    "duration": 12,
    "start_time": "2022-12-08T17:10:56.668Z"
   },
   {
    "duration": 18,
    "start_time": "2022-12-08T17:10:58.507Z"
   },
   {
    "duration": 3,
    "start_time": "2022-12-08T17:11:00.158Z"
   },
   {
    "duration": 17,
    "start_time": "2022-12-08T17:11:00.752Z"
   },
   {
    "duration": 19,
    "start_time": "2022-12-08T17:11:02.777Z"
   },
   {
    "duration": 4,
    "start_time": "2022-12-08T17:11:04.507Z"
   },
   {
    "duration": 439,
    "start_time": "2022-12-08T17:11:06.059Z"
   },
   {
    "duration": 4,
    "start_time": "2022-12-08T17:11:07.584Z"
   },
   {
    "duration": 6,
    "start_time": "2022-12-08T17:11:16.944Z"
   },
   {
    "duration": 5,
    "start_time": "2022-12-08T17:11:17.471Z"
   },
   {
    "duration": 10,
    "start_time": "2022-12-08T17:11:18.311Z"
   },
   {
    "duration": 19,
    "start_time": "2022-12-08T17:11:19.648Z"
   },
   {
    "duration": 1352,
    "start_time": "2022-12-08T17:11:45.414Z"
   },
   {
    "duration": 102,
    "start_time": "2022-12-08T17:11:46.768Z"
   },
   {
    "duration": 2,
    "start_time": "2022-12-08T17:11:46.872Z"
   },
   {
    "duration": 141,
    "start_time": "2022-12-08T17:11:46.876Z"
   },
   {
    "duration": 31,
    "start_time": "2022-12-08T17:11:47.236Z"
   },
   {
    "duration": 14,
    "start_time": "2022-12-08T17:11:47.572Z"
   },
   {
    "duration": 9,
    "start_time": "2022-12-08T17:11:47.740Z"
   },
   {
    "duration": 9,
    "start_time": "2022-12-08T17:11:48.050Z"
   },
   {
    "duration": 13,
    "start_time": "2022-12-08T17:11:48.241Z"
   },
   {
    "duration": 4,
    "start_time": "2022-12-08T17:11:48.577Z"
   },
   {
    "duration": 9,
    "start_time": "2022-12-08T17:11:48.903Z"
   },
   {
    "duration": 12,
    "start_time": "2022-12-08T17:11:49.075Z"
   },
   {
    "duration": 8,
    "start_time": "2022-12-08T17:11:49.270Z"
   },
   {
    "duration": 10,
    "start_time": "2022-12-08T17:11:49.663Z"
   },
   {
    "duration": 5,
    "start_time": "2022-12-08T17:11:49.824Z"
   },
   {
    "duration": 12,
    "start_time": "2022-12-08T17:11:50.209Z"
   },
   {
    "duration": 14,
    "start_time": "2022-12-08T17:11:50.561Z"
   },
   {
    "duration": 4,
    "start_time": "2022-12-08T17:11:50.899Z"
   },
   {
    "duration": 12,
    "start_time": "2022-12-08T17:11:51.265Z"
   },
   {
    "duration": 28,
    "start_time": "2022-12-08T17:11:52.298Z"
   },
   {
    "duration": 23,
    "start_time": "2022-12-08T17:11:52.661Z"
   },
   {
    "duration": 21,
    "start_time": "2022-12-08T17:11:52.824Z"
   },
   {
    "duration": 7,
    "start_time": "2022-12-08T17:11:53.188Z"
   },
   {
    "duration": 4,
    "start_time": "2022-12-08T17:11:53.347Z"
   },
   {
    "duration": 18,
    "start_time": "2022-12-08T17:11:53.697Z"
   },
   {
    "duration": 132,
    "start_time": "2022-12-08T17:11:54.042Z"
   },
   {
    "duration": 140,
    "start_time": "2022-12-08T17:11:54.366Z"
   },
   {
    "duration": 141,
    "start_time": "2022-12-08T17:11:55.045Z"
   },
   {
    "duration": 224,
    "start_time": "2022-12-08T17:11:55.192Z"
   },
   {
    "duration": 133,
    "start_time": "2022-12-08T17:11:55.544Z"
   },
   {
    "duration": 114,
    "start_time": "2022-12-08T17:11:55.868Z"
   },
   {
    "duration": 130,
    "start_time": "2022-12-08T17:11:56.245Z"
   },
   {
    "duration": 136,
    "start_time": "2022-12-08T17:11:56.457Z"
   },
   {
    "duration": 159,
    "start_time": "2022-12-08T17:11:56.937Z"
   },
   {
    "duration": 137,
    "start_time": "2022-12-08T17:11:57.414Z"
   },
   {
    "duration": 131,
    "start_time": "2022-12-08T17:11:58.121Z"
   },
   {
    "duration": 13,
    "start_time": "2022-12-08T17:11:58.729Z"
   },
   {
    "duration": 151,
    "start_time": "2022-12-08T17:12:00.083Z"
   },
   {
    "duration": 4,
    "start_time": "2022-12-08T17:12:01.640Z"
   },
   {
    "duration": 326,
    "start_time": "2022-12-08T17:12:02.140Z"
   },
   {
    "duration": 4,
    "start_time": "2022-12-08T17:12:04.291Z"
   },
   {
    "duration": 3,
    "start_time": "2022-12-08T17:12:06.902Z"
   },
   {
    "duration": 4,
    "start_time": "2022-12-08T17:12:07.118Z"
   },
   {
    "duration": 4,
    "start_time": "2022-12-08T17:12:07.574Z"
   },
   {
    "duration": 5,
    "start_time": "2022-12-08T17:12:08.667Z"
   },
   {
    "duration": 9,
    "start_time": "2022-12-08T17:12:09.386Z"
   },
   {
    "duration": 88,
    "start_time": "2022-12-08T17:12:12.796Z"
   },
   {
    "duration": 48,
    "start_time": "2022-12-08T17:12:17.483Z"
   },
   {
    "duration": 14,
    "start_time": "2022-12-08T17:12:19.261Z"
   },
   {
    "duration": 44,
    "start_time": "2022-12-08T17:12:22.769Z"
   },
   {
    "duration": 163,
    "start_time": "2022-12-08T17:12:26.439Z"
   },
   {
    "duration": 3,
    "start_time": "2022-12-08T17:12:29.011Z"
   },
   {
    "duration": 16,
    "start_time": "2022-12-08T17:12:29.389Z"
   },
   {
    "duration": 13,
    "start_time": "2022-12-08T17:12:31.448Z"
   },
   {
    "duration": 3,
    "start_time": "2022-12-08T17:12:33.522Z"
   },
   {
    "duration": 61415,
    "start_time": "2022-12-08T17:12:35.995Z"
   },
   {
    "duration": 3,
    "start_time": "2022-12-08T17:13:37.412Z"
   },
   {
    "duration": 12,
    "start_time": "2022-12-08T17:18:06.504Z"
   },
   {
    "duration": 34739,
    "start_time": "2022-12-08T17:18:16.255Z"
   },
   {
    "duration": 83,
    "start_time": "2022-12-08T17:18:50.996Z"
   },
   {
    "duration": 2768,
    "start_time": "2022-12-08T17:18:52.315Z"
   },
   {
    "duration": 4,
    "start_time": "2022-12-08T17:18:55.085Z"
   },
   {
    "duration": 4,
    "start_time": "2022-12-08T17:18:56.541Z"
   },
   {
    "duration": 7,
    "start_time": "2022-12-08T17:18:56.965Z"
   },
   {
    "duration": 122,
    "start_time": "2022-12-08T17:19:00.458Z"
   },
   {
    "duration": 3,
    "start_time": "2022-12-08T17:19:01.758Z"
   },
   {
    "duration": 201,
    "start_time": "2022-12-08T17:19:02.216Z"
   },
   {
    "duration": 4,
    "start_time": "2022-12-08T17:19:08.398Z"
   },
   {
    "duration": 6,
    "start_time": "2022-12-08T17:19:09.253Z"
   },
   {
    "duration": 3,
    "start_time": "2022-12-08T17:19:11.955Z"
   },
   {
    "duration": 8,
    "start_time": "2022-12-08T17:19:12.398Z"
   },
   {
    "duration": 1918,
    "start_time": "2022-12-09T05:58:06.269Z"
   },
   {
    "duration": 343,
    "start_time": "2022-12-09T05:58:08.189Z"
   },
   {
    "duration": 2,
    "start_time": "2022-12-09T05:58:08.533Z"
   },
   {
    "duration": 158,
    "start_time": "2022-12-09T05:58:08.537Z"
   },
   {
    "duration": 29,
    "start_time": "2022-12-09T05:58:08.697Z"
   },
   {
    "duration": 12,
    "start_time": "2022-12-09T05:58:08.728Z"
   },
   {
    "duration": 37,
    "start_time": "2022-12-09T05:58:08.742Z"
   },
   {
    "duration": 10,
    "start_time": "2022-12-09T05:58:08.780Z"
   },
   {
    "duration": 17,
    "start_time": "2022-12-09T05:58:08.791Z"
   },
   {
    "duration": 7,
    "start_time": "2022-12-09T05:58:08.810Z"
   },
   {
    "duration": 14,
    "start_time": "2022-12-09T05:58:08.818Z"
   },
   {
    "duration": 12,
    "start_time": "2022-12-09T05:58:08.833Z"
   },
   {
    "duration": 7,
    "start_time": "2022-12-09T05:58:08.847Z"
   },
   {
    "duration": 17,
    "start_time": "2022-12-09T05:58:08.877Z"
   },
   {
    "duration": 4,
    "start_time": "2022-12-09T05:58:08.896Z"
   },
   {
    "duration": 19,
    "start_time": "2022-12-09T05:58:08.901Z"
   },
   {
    "duration": 25,
    "start_time": "2022-12-09T05:58:08.921Z"
   },
   {
    "duration": 12,
    "start_time": "2022-12-09T05:58:08.948Z"
   },
   {
    "duration": 16,
    "start_time": "2022-12-09T05:58:08.962Z"
   },
   {
    "duration": 25,
    "start_time": "2022-12-09T05:58:08.980Z"
   },
   {
    "duration": 21,
    "start_time": "2022-12-09T05:58:09.007Z"
   },
   {
    "duration": 15,
    "start_time": "2022-12-09T05:58:09.030Z"
   },
   {
    "duration": 6,
    "start_time": "2022-12-09T05:58:09.047Z"
   },
   {
    "duration": 8,
    "start_time": "2022-12-09T05:58:09.079Z"
   },
   {
    "duration": 27,
    "start_time": "2022-12-09T05:58:09.089Z"
   },
   {
    "duration": 99,
    "start_time": "2022-12-09T05:58:09.117Z"
   },
   {
    "duration": 213,
    "start_time": "2022-12-09T05:58:09.217Z"
   },
   {
    "duration": 129,
    "start_time": "2022-12-09T05:58:09.433Z"
   },
   {
    "duration": 173,
    "start_time": "2022-12-09T05:58:09.564Z"
   },
   {
    "duration": 140,
    "start_time": "2022-12-09T05:58:09.740Z"
   },
   {
    "duration": 125,
    "start_time": "2022-12-09T05:58:09.881Z"
   },
   {
    "duration": 138,
    "start_time": "2022-12-09T05:58:10.007Z"
   },
   {
    "duration": 142,
    "start_time": "2022-12-09T05:58:10.147Z"
   },
   {
    "duration": 163,
    "start_time": "2022-12-09T05:58:10.290Z"
   },
   {
    "duration": 147,
    "start_time": "2022-12-09T05:58:10.454Z"
   },
   {
    "duration": 149,
    "start_time": "2022-12-09T05:58:10.602Z"
   },
   {
    "duration": 14,
    "start_time": "2022-12-09T05:58:10.752Z"
   },
   {
    "duration": 161,
    "start_time": "2022-12-09T05:58:10.767Z"
   },
   {
    "duration": 5,
    "start_time": "2022-12-09T05:58:10.929Z"
   },
   {
    "duration": 367,
    "start_time": "2022-12-09T05:58:10.935Z"
   },
   {
    "duration": 5,
    "start_time": "2022-12-09T05:58:11.304Z"
   },
   {
    "duration": 8,
    "start_time": "2022-12-09T05:58:11.310Z"
   },
   {
    "duration": 10,
    "start_time": "2022-12-09T05:58:11.319Z"
   },
   {
    "duration": 12,
    "start_time": "2022-12-09T05:58:11.331Z"
   },
   {
    "duration": 9,
    "start_time": "2022-12-09T05:58:11.345Z"
   },
   {
    "duration": 10,
    "start_time": "2022-12-09T05:58:11.356Z"
   },
   {
    "duration": 76,
    "start_time": "2022-12-09T05:58:11.368Z"
   },
   {
    "duration": 46,
    "start_time": "2022-12-09T05:58:11.445Z"
   },
   {
    "duration": 5,
    "start_time": "2022-12-09T05:58:25.547Z"
   },
   {
    "duration": 36,
    "start_time": "2022-12-09T05:58:50.044Z"
   },
   {
    "duration": 19,
    "start_time": "2022-12-09T05:58:57.314Z"
   },
   {
    "duration": 10,
    "start_time": "2022-12-09T05:59:03.299Z"
   },
   {
    "duration": 8,
    "start_time": "2022-12-09T05:59:11.016Z"
   },
   {
    "duration": 4,
    "start_time": "2022-12-09T05:59:16.378Z"
   },
   {
    "duration": 4,
    "start_time": "2022-12-09T05:59:21.802Z"
   },
   {
    "duration": 6,
    "start_time": "2022-12-09T06:03:10.870Z"
   },
   {
    "duration": 1554,
    "start_time": "2022-12-09T07:13:27.390Z"
   },
   {
    "duration": 312,
    "start_time": "2022-12-09T07:13:28.946Z"
   },
   {
    "duration": 3,
    "start_time": "2022-12-09T07:13:30.256Z"
   },
   {
    "duration": 134,
    "start_time": "2022-12-09T07:13:30.421Z"
   },
   {
    "duration": 30,
    "start_time": "2022-12-09T07:13:31.104Z"
   },
   {
    "duration": 14,
    "start_time": "2022-12-09T07:13:31.380Z"
   },
   {
    "duration": 8,
    "start_time": "2022-12-09T07:13:31.542Z"
   },
   {
    "duration": 9,
    "start_time": "2022-12-09T07:13:31.875Z"
   },
   {
    "duration": 12,
    "start_time": "2022-12-09T07:13:32.042Z"
   },
   {
    "duration": 4,
    "start_time": "2022-12-09T07:13:32.394Z"
   },
   {
    "duration": 11,
    "start_time": "2022-12-09T07:13:32.740Z"
   },
   {
    "duration": 11,
    "start_time": "2022-12-09T07:13:32.906Z"
   },
   {
    "duration": 8,
    "start_time": "2022-12-09T07:13:33.081Z"
   },
   {
    "duration": 9,
    "start_time": "2022-12-09T07:13:33.423Z"
   },
   {
    "duration": 5,
    "start_time": "2022-12-09T07:13:33.585Z"
   },
   {
    "duration": 12,
    "start_time": "2022-12-09T07:13:33.923Z"
   },
   {
    "duration": 14,
    "start_time": "2022-12-09T07:13:34.267Z"
   },
   {
    "duration": 4,
    "start_time": "2022-12-09T07:13:34.587Z"
   },
   {
    "duration": 13,
    "start_time": "2022-12-09T07:13:34.929Z"
   },
   {
    "duration": 30,
    "start_time": "2022-12-09T07:13:36.010Z"
   },
   {
    "duration": 21,
    "start_time": "2022-12-09T07:13:36.359Z"
   },
   {
    "duration": 16,
    "start_time": "2022-12-09T07:13:36.523Z"
   },
   {
    "duration": 7,
    "start_time": "2022-12-09T07:13:36.885Z"
   },
   {
    "duration": 3,
    "start_time": "2022-12-09T07:13:37.051Z"
   },
   {
    "duration": 14,
    "start_time": "2022-12-09T07:13:37.543Z"
   },
   {
    "duration": 96,
    "start_time": "2022-12-09T07:13:37.949Z"
   },
   {
    "duration": 131,
    "start_time": "2022-12-09T07:13:38.340Z"
   },
   {
    "duration": 121,
    "start_time": "2022-12-09T07:13:38.663Z"
   },
   {
    "duration": 232,
    "start_time": "2022-12-09T07:13:38.830Z"
   },
   {
    "duration": 125,
    "start_time": "2022-12-09T07:13:39.186Z"
   },
   {
    "duration": 118,
    "start_time": "2022-12-09T07:13:39.567Z"
   },
   {
    "duration": 130,
    "start_time": "2022-12-09T07:13:39.902Z"
   },
   {
    "duration": 149,
    "start_time": "2022-12-09T07:13:40.097Z"
   },
   {
    "duration": 141,
    "start_time": "2022-12-09T07:13:40.643Z"
   },
   {
    "duration": 141,
    "start_time": "2022-12-09T07:13:41.258Z"
   },
   {
    "duration": 136,
    "start_time": "2022-12-09T07:13:41.943Z"
   },
   {
    "duration": 13,
    "start_time": "2022-12-09T07:13:43.321Z"
   },
   {
    "duration": 131,
    "start_time": "2022-12-09T07:13:44.370Z"
   },
   {
    "duration": 5,
    "start_time": "2022-12-09T07:13:45.732Z"
   },
   {
    "duration": 308,
    "start_time": "2022-12-09T07:13:46.112Z"
   },
   {
    "duration": 4,
    "start_time": "2022-12-09T07:13:47.995Z"
   },
   {
    "duration": 3,
    "start_time": "2022-12-09T07:13:50.728Z"
   },
   {
    "duration": 4,
    "start_time": "2022-12-09T07:13:51.149Z"
   },
   {
    "duration": 4,
    "start_time": "2022-12-09T07:13:51.829Z"
   },
   {
    "duration": 5,
    "start_time": "2022-12-09T07:13:52.981Z"
   },
   {
    "duration": 10,
    "start_time": "2022-12-09T07:13:53.903Z"
   },
   {
    "duration": 111,
    "start_time": "2022-12-09T07:13:54.462Z"
   },
   {
    "duration": 75,
    "start_time": "2022-12-09T07:15:52.245Z"
   },
   {
    "duration": 13,
    "start_time": "2022-12-09T07:15:57.362Z"
   },
   {
    "duration": 15,
    "start_time": "2022-12-09T07:16:02.675Z"
   },
   {
    "duration": 3,
    "start_time": "2022-12-09T07:16:03.538Z"
   },
   {
    "duration": 16,
    "start_time": "2022-12-09T07:16:03.662Z"
   },
   {
    "duration": 3,
    "start_time": "2022-12-09T07:16:04.051Z"
   },
   {
    "duration": 62761,
    "start_time": "2022-12-09T07:16:05.186Z"
   },
   {
    "duration": 4,
    "start_time": "2022-12-09T07:17:07.949Z"
   },
   {
    "duration": 2246,
    "start_time": "2022-12-09T07:17:21.507Z"
   },
   {
    "duration": 4,
    "start_time": "2022-12-09T07:17:24.829Z"
   },
   {
    "duration": 1409,
    "start_time": "2022-12-09T07:18:29.498Z"
   },
   {
    "duration": 102,
    "start_time": "2022-12-09T07:18:30.909Z"
   },
   {
    "duration": 3,
    "start_time": "2022-12-09T07:18:31.012Z"
   },
   {
    "duration": 180,
    "start_time": "2022-12-09T07:18:31.016Z"
   },
   {
    "duration": 30,
    "start_time": "2022-12-09T07:18:31.199Z"
   },
   {
    "duration": 14,
    "start_time": "2022-12-09T07:18:31.231Z"
   },
   {
    "duration": 10,
    "start_time": "2022-12-09T07:18:31.247Z"
   },
   {
    "duration": 39,
    "start_time": "2022-12-09T07:18:31.258Z"
   },
   {
    "duration": 14,
    "start_time": "2022-12-09T07:18:31.299Z"
   },
   {
    "duration": 13,
    "start_time": "2022-12-09T07:18:31.314Z"
   },
   {
    "duration": 51,
    "start_time": "2022-12-09T07:18:31.328Z"
   },
   {
    "duration": 36,
    "start_time": "2022-12-09T07:18:31.380Z"
   },
   {
    "duration": 14,
    "start_time": "2022-12-09T07:18:31.418Z"
   },
   {
    "duration": 23,
    "start_time": "2022-12-09T07:18:31.435Z"
   },
   {
    "duration": 20,
    "start_time": "2022-12-09T07:18:31.459Z"
   },
   {
    "duration": 23,
    "start_time": "2022-12-09T07:18:31.481Z"
   },
   {
    "duration": 35,
    "start_time": "2022-12-09T07:18:31.506Z"
   },
   {
    "duration": 22,
    "start_time": "2022-12-09T07:18:31.543Z"
   },
   {
    "duration": 19,
    "start_time": "2022-12-09T07:18:31.567Z"
   },
   {
    "duration": 56,
    "start_time": "2022-12-09T07:18:31.588Z"
   },
   {
    "duration": 21,
    "start_time": "2022-12-09T07:18:31.645Z"
   },
   {
    "duration": 26,
    "start_time": "2022-12-09T07:18:31.668Z"
   },
   {
    "duration": 12,
    "start_time": "2022-12-09T07:18:31.696Z"
   },
   {
    "duration": 30,
    "start_time": "2022-12-09T07:18:31.709Z"
   },
   {
    "duration": 27,
    "start_time": "2022-12-09T07:18:31.740Z"
   },
   {
    "duration": 106,
    "start_time": "2022-12-09T07:18:31.769Z"
   },
   {
    "duration": 153,
    "start_time": "2022-12-09T07:18:31.877Z"
   },
   {
    "duration": 136,
    "start_time": "2022-12-09T07:18:32.031Z"
   },
   {
    "duration": 242,
    "start_time": "2022-12-09T07:18:32.168Z"
   },
   {
    "duration": 145,
    "start_time": "2022-12-09T07:18:32.412Z"
   },
   {
    "duration": 126,
    "start_time": "2022-12-09T07:18:32.559Z"
   },
   {
    "duration": 146,
    "start_time": "2022-12-09T07:18:32.686Z"
   },
   {
    "duration": 154,
    "start_time": "2022-12-09T07:18:32.834Z"
   },
   {
    "duration": 160,
    "start_time": "2022-12-09T07:18:32.990Z"
   },
   {
    "duration": 150,
    "start_time": "2022-12-09T07:18:33.152Z"
   },
   {
    "duration": 148,
    "start_time": "2022-12-09T07:18:33.304Z"
   },
   {
    "duration": 13,
    "start_time": "2022-12-09T07:18:33.454Z"
   },
   {
    "duration": 149,
    "start_time": "2022-12-09T07:18:33.469Z"
   },
   {
    "duration": 4,
    "start_time": "2022-12-09T07:18:33.619Z"
   },
   {
    "duration": 285,
    "start_time": "2022-12-09T07:18:33.624Z"
   },
   {
    "duration": 6,
    "start_time": "2022-12-09T07:18:33.913Z"
   },
   {
    "duration": 6,
    "start_time": "2022-12-09T07:18:33.921Z"
   },
   {
    "duration": 6,
    "start_time": "2022-12-09T07:18:33.929Z"
   },
   {
    "duration": 7,
    "start_time": "2022-12-09T07:18:33.937Z"
   },
   {
    "duration": 7,
    "start_time": "2022-12-09T07:18:33.945Z"
   },
   {
    "duration": 8,
    "start_time": "2022-12-09T07:18:33.954Z"
   },
   {
    "duration": 93,
    "start_time": "2022-12-09T07:18:33.964Z"
   },
   {
    "duration": 14,
    "start_time": "2022-12-09T07:18:34.059Z"
   },
   {
    "duration": 29,
    "start_time": "2022-12-09T07:18:34.074Z"
   },
   {
    "duration": 4,
    "start_time": "2022-12-09T07:18:34.105Z"
   },
   {
    "duration": 19,
    "start_time": "2022-12-09T07:18:34.111Z"
   },
   {
    "duration": 3,
    "start_time": "2022-12-09T07:18:34.132Z"
   },
   {
    "duration": 63781,
    "start_time": "2022-12-09T07:18:34.137Z"
   },
   {
    "duration": 4,
    "start_time": "2022-12-09T07:19:37.920Z"
   },
   {
    "duration": 39187,
    "start_time": "2022-12-09T07:19:37.925Z"
   },
   {
    "duration": 83,
    "start_time": "2022-12-09T07:20:17.114Z"
   },
   {
    "duration": 2311,
    "start_time": "2022-12-09T07:20:17.199Z"
   },
   {
    "duration": 4,
    "start_time": "2022-12-09T07:20:19.512Z"
   },
   {
    "duration": 14,
    "start_time": "2022-12-09T07:20:19.517Z"
   },
   {
    "duration": 15,
    "start_time": "2022-12-09T07:20:19.533Z"
   },
   {
    "duration": 115,
    "start_time": "2022-12-09T07:20:19.550Z"
   },
   {
    "duration": 4,
    "start_time": "2022-12-09T07:20:19.666Z"
   },
   {
    "duration": 280,
    "start_time": "2022-12-09T07:20:19.672Z"
   },
   {
    "duration": 4,
    "start_time": "2022-12-09T07:20:19.953Z"
   },
   {
    "duration": 18,
    "start_time": "2022-12-09T07:20:19.958Z"
   },
   {
    "duration": 5,
    "start_time": "2022-12-09T07:20:19.978Z"
   },
   {
    "duration": 21,
    "start_time": "2022-12-09T07:20:19.985Z"
   },
   {
    "duration": 207,
    "start_time": "2022-12-09T07:23:27.432Z"
   },
   {
    "duration": 18,
    "start_time": "2022-12-09T07:23:44.086Z"
   },
   {
    "duration": 281,
    "start_time": "2022-12-09T07:23:44.774Z"
   },
   {
    "duration": 18,
    "start_time": "2022-12-09T07:23:54.405Z"
   },
   {
    "duration": 7,
    "start_time": "2022-12-09T07:23:55.116Z"
   },
   {
    "duration": 4,
    "start_time": "2022-12-09T07:24:17.234Z"
   },
   {
    "duration": 8,
    "start_time": "2022-12-09T07:24:18.312Z"
   },
   {
    "duration": 66,
    "start_time": "2022-12-09T07:30:04.265Z"
   },
   {
    "duration": 1606,
    "start_time": "2022-12-10T11:58:17.128Z"
   },
   {
    "duration": 349,
    "start_time": "2022-12-10T11:58:18.736Z"
   },
   {
    "duration": 3,
    "start_time": "2022-12-10T11:58:19.087Z"
   },
   {
    "duration": 231,
    "start_time": "2022-12-10T11:58:19.092Z"
   },
   {
    "duration": 36,
    "start_time": "2022-12-10T11:58:19.325Z"
   },
   {
    "duration": 14,
    "start_time": "2022-12-10T11:58:19.363Z"
   },
   {
    "duration": 9,
    "start_time": "2022-12-10T11:58:19.378Z"
   },
   {
    "duration": 10,
    "start_time": "2022-12-10T11:58:19.604Z"
   },
   {
    "duration": 14,
    "start_time": "2022-12-10T11:58:19.768Z"
   },
   {
    "duration": 4,
    "start_time": "2022-12-10T11:58:20.105Z"
   },
   {
    "duration": 10,
    "start_time": "2022-12-10T11:58:20.434Z"
   },
   {
    "duration": 11,
    "start_time": "2022-12-10T11:58:20.598Z"
   },
   {
    "duration": 7,
    "start_time": "2022-12-10T11:58:20.772Z"
   },
   {
    "duration": 9,
    "start_time": "2022-12-10T11:58:21.087Z"
   },
   {
    "duration": 4,
    "start_time": "2022-12-10T11:58:21.227Z"
   },
   {
    "duration": 13,
    "start_time": "2022-12-10T11:58:21.568Z"
   },
   {
    "duration": 15,
    "start_time": "2022-12-10T11:58:21.921Z"
   },
   {
    "duration": 5,
    "start_time": "2022-12-10T11:58:22.240Z"
   },
   {
    "duration": 13,
    "start_time": "2022-12-10T11:58:23.095Z"
   },
   {
    "duration": 27,
    "start_time": "2022-12-10T11:58:23.672Z"
   },
   {
    "duration": 33,
    "start_time": "2022-12-10T11:58:24.066Z"
   },
   {
    "duration": 21,
    "start_time": "2022-12-10T11:58:24.256Z"
   },
   {
    "duration": 7,
    "start_time": "2022-12-10T11:58:24.648Z"
   },
   {
    "duration": 4,
    "start_time": "2022-12-10T11:58:24.811Z"
   },
   {
    "duration": 15,
    "start_time": "2022-12-10T11:58:25.166Z"
   },
   {
    "duration": 104,
    "start_time": "2022-12-10T11:58:25.576Z"
   },
   {
    "duration": 138,
    "start_time": "2022-12-10T11:58:25.926Z"
   },
   {
    "duration": 137,
    "start_time": "2022-12-10T11:58:26.307Z"
   },
   {
    "duration": 248,
    "start_time": "2022-12-10T11:58:26.476Z"
   },
   {
    "duration": 135,
    "start_time": "2022-12-10T11:58:26.829Z"
   },
   {
    "duration": 128,
    "start_time": "2022-12-10T11:58:27.181Z"
   },
   {
    "duration": 140,
    "start_time": "2022-12-10T11:58:27.518Z"
   },
   {
    "duration": 150,
    "start_time": "2022-12-10T11:58:27.677Z"
   },
   {
    "duration": 164,
    "start_time": "2022-12-10T11:58:27.995Z"
   },
   {
    "duration": 147,
    "start_time": "2022-12-10T11:58:28.328Z"
   },
   {
    "duration": 152,
    "start_time": "2022-12-10T11:58:28.723Z"
   },
   {
    "duration": 14,
    "start_time": "2022-12-10T11:58:29.065Z"
   },
   {
    "duration": 155,
    "start_time": "2022-12-10T11:58:29.803Z"
   },
   {
    "duration": 4,
    "start_time": "2022-12-10T11:58:30.523Z"
   },
   {
    "duration": 376,
    "start_time": "2022-12-10T11:58:30.703Z"
   },
   {
    "duration": 5,
    "start_time": "2022-12-10T11:58:31.461Z"
   },
   {
    "duration": 3,
    "start_time": "2022-12-10T11:58:32.626Z"
   },
   {
    "duration": 4,
    "start_time": "2022-12-10T11:58:32.802Z"
   },
   {
    "duration": 4,
    "start_time": "2022-12-10T11:58:33.015Z"
   },
   {
    "duration": 5,
    "start_time": "2022-12-10T11:58:33.496Z"
   },
   {
    "duration": 9,
    "start_time": "2022-12-10T11:58:33.850Z"
   },
   {
    "duration": 100,
    "start_time": "2022-12-10T11:58:34.071Z"
   },
   {
    "duration": 14,
    "start_time": "2022-12-10T11:58:35.585Z"
   },
   {
    "duration": 16,
    "start_time": "2022-12-10T11:58:36.089Z"
   },
   {
    "duration": 3,
    "start_time": "2022-12-10T11:58:36.952Z"
   },
   {
    "duration": 18,
    "start_time": "2022-12-10T11:58:37.134Z"
   },
   {
    "duration": 4,
    "start_time": "2022-12-10T11:58:37.499Z"
   },
   {
    "duration": 66749,
    "start_time": "2022-12-10T11:58:38.073Z"
   },
   {
    "duration": 4,
    "start_time": "2022-12-10T11:59:44.823Z"
   },
   {
    "duration": 84934,
    "start_time": "2022-12-10T11:59:44.829Z"
   },
   {
    "duration": 0,
    "start_time": "2022-12-10T12:01:09.765Z"
   },
   {
    "duration": 0,
    "start_time": "2022-12-10T12:01:09.766Z"
   },
   {
    "duration": 0,
    "start_time": "2022-12-10T12:01:09.767Z"
   },
   {
    "duration": 0,
    "start_time": "2022-12-10T12:01:09.768Z"
   },
   {
    "duration": 0,
    "start_time": "2022-12-10T12:01:09.769Z"
   },
   {
    "duration": 0,
    "start_time": "2022-12-10T12:01:09.771Z"
   },
   {
    "duration": 0,
    "start_time": "2022-12-10T12:01:09.772Z"
   },
   {
    "duration": 0,
    "start_time": "2022-12-10T12:01:09.773Z"
   },
   {
    "duration": 0,
    "start_time": "2022-12-10T12:01:09.774Z"
   },
   {
    "duration": 0,
    "start_time": "2022-12-10T12:01:09.775Z"
   },
   {
    "duration": 46064,
    "start_time": "2022-12-10T12:01:11.964Z"
   },
   {
    "duration": 4,
    "start_time": "2022-12-10T12:02:00.822Z"
   },
   {
    "duration": 2690,
    "start_time": "2022-12-10T12:02:01.814Z"
   },
   {
    "duration": 3,
    "start_time": "2022-12-10T12:02:04.506Z"
   },
   {
    "duration": 5,
    "start_time": "2022-12-10T12:02:05.865Z"
   },
   {
    "duration": 7,
    "start_time": "2022-12-10T12:02:06.680Z"
   },
   {
    "duration": 164,
    "start_time": "2022-12-10T12:02:08.728Z"
   },
   {
    "duration": 16,
    "start_time": "2022-12-10T12:02:09.871Z"
   },
   {
    "duration": 245,
    "start_time": "2022-12-10T12:02:10.533Z"
   },
   {
    "duration": 12,
    "start_time": "2022-12-10T12:02:12.971Z"
   },
   {
    "duration": 8,
    "start_time": "2022-12-10T12:02:14.072Z"
   },
   {
    "duration": 12,
    "start_time": "2022-12-10T12:02:15.132Z"
   },
   {
    "duration": 12,
    "start_time": "2022-12-10T12:02:30.943Z"
   }
  ],
  "kernelspec": {
   "display_name": "Python 3 (ipykernel)",
   "language": "python",
   "name": "python3"
  },
  "language_info": {
   "codemirror_mode": {
    "name": "ipython",
    "version": 3
   },
   "file_extension": ".py",
   "mimetype": "text/x-python",
   "name": "python",
   "nbconvert_exporter": "python",
   "pygments_lexer": "ipython3",
   "version": "3.9.12"
  },
  "toc": {
   "base_numbering": 1,
   "nav_menu": {},
   "number_sections": true,
   "sideBar": true,
   "skip_h1_title": true,
   "title_cell": "Table of Contents",
   "title_sidebar": "Contents",
   "toc_cell": false,
   "toc_position": {
    "height": "calc(100% - 180px)",
    "left": "10px",
    "top": "150px",
    "width": "291.594px"
   },
   "toc_section_display": true,
   "toc_window_display": true
  }
 },
 "nbformat": 4,
 "nbformat_minor": 5
}

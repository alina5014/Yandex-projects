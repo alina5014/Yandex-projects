{
 "cells": [
  {
   "cell_type": "markdown",
   "metadata": {},
   "source": [
    "# Recovering Gold from Ore"
   ]
  },
  {
   "cell_type": "markdown",
   "metadata": {},
   "source": [
    " Our task is to prepare a prototype machine learning model for 'Zifra'. The company develops solutions for the efficient operation of industrial enterprises.\n",
    "\n",
    "The model should predict the recovery rate of gold from gold ore. Data with mining and cleaning parameters must be used.\n",
    "\n",
    "The model will help optimize production so as not to launch an enterprise with unprofitable characteristics.\n",
    "\n",
    "Work wil be done in four stages:\n",
    "\n",
    "1. Data preparation;\n",
    "2. Exploratory data analysis;\n",
    "3. Building and training the model.\n"
   ]
  },
  {
   "cell_type": "markdown",
   "metadata": {},
   "source": [
    "## Data preparation"
   ]
  },
  {
   "cell_type": "code",
   "execution_count": 1,
   "metadata": {},
   "outputs": [],
   "source": [
    "import pandas as pd\n",
    "import numpy as np\n",
    "from matplotlib import pyplot as plt\n",
    "\n",
    "from sklearn.dummy import DummyRegressor\n",
    "from sklearn.tree import DecisionTreeRegressor\n",
    "from sklearn.linear_model import LinearRegression\n",
    "from sklearn.ensemble import RandomForestRegressor\n",
    "\n",
    "from sklearn.preprocessing import StandardScaler\n",
    "from sklearn.metrics import mean_absolute_error, make_scorer\n",
    "from sklearn.model_selection import cross_val_score, GridSearchCV\n"
   ]
  },
  {
   "cell_type": "markdown",
   "metadata": {},
   "source": [
    "The data is in three files: initial data, training and test samples."
   ]
  },
  {
   "cell_type": "code",
   "execution_count": 2,
   "metadata": {},
   "outputs": [],
   "source": [
    "try:\n",
    "    df_train = pd.read_csv('/datasets/gold_recovery_train_new.csv')\n",
    "    df_test = pd.read_csv('/datasets/gold_recovery_test_new.csv')\n",
    "    df_full = pd.read_csv('/datasets/gold_recovery_full_new.csv')\n",
    "except: \n",
    "    df_train = pd.read_csv('gold_recovery_train_new.csv')\n",
    "    df_test = pd.read_csv('gold_recovery_test_new.csv')\n",
    "    df_full = pd.read_csv('gold_recovery_full_new.csv')"
   ]
  },
  {
   "cell_type": "markdown",
   "metadata": {},
   "source": [
    "Let's look at the data types. "
   ]
  },
  {
   "cell_type": "code",
   "execution_count": 3,
   "metadata": {
    "scrolled": false
   },
   "outputs": [
    {
     "name": "stdout",
     "output_type": "stream",
     "text": [
      "<class 'pandas.core.frame.DataFrame'>\n",
      "RangeIndex: 14149 entries, 0 to 14148\n",
      "Data columns (total 87 columns):\n",
      " #   Column                                              Non-Null Count  Dtype  \n",
      "---  ------                                              --------------  -----  \n",
      " 0   date                                                14149 non-null  object \n",
      " 1   final.output.concentrate_ag                         14148 non-null  float64\n",
      " 2   final.output.concentrate_pb                         14148 non-null  float64\n",
      " 3   final.output.concentrate_sol                        13938 non-null  float64\n",
      " 4   final.output.concentrate_au                         14149 non-null  float64\n",
      " 5   final.output.recovery                               14149 non-null  float64\n",
      " 6   final.output.tail_ag                                14149 non-null  float64\n",
      " 7   final.output.tail_pb                                14049 non-null  float64\n",
      " 8   final.output.tail_sol                               14144 non-null  float64\n",
      " 9   final.output.tail_au                                14149 non-null  float64\n",
      " 10  primary_cleaner.input.sulfate                       14129 non-null  float64\n",
      " 11  primary_cleaner.input.depressant                    14117 non-null  float64\n",
      " 12  primary_cleaner.input.feed_size                     14149 non-null  float64\n",
      " 13  primary_cleaner.input.xanthate                      14049 non-null  float64\n",
      " 14  primary_cleaner.output.concentrate_ag               14149 non-null  float64\n",
      " 15  primary_cleaner.output.concentrate_pb               14063 non-null  float64\n",
      " 16  primary_cleaner.output.concentrate_sol              13863 non-null  float64\n",
      " 17  primary_cleaner.output.concentrate_au               14149 non-null  float64\n",
      " 18  primary_cleaner.output.tail_ag                      14148 non-null  float64\n",
      " 19  primary_cleaner.output.tail_pb                      14134 non-null  float64\n",
      " 20  primary_cleaner.output.tail_sol                     14103 non-null  float64\n",
      " 21  primary_cleaner.output.tail_au                      14149 non-null  float64\n",
      " 22  primary_cleaner.state.floatbank8_a_air              14145 non-null  float64\n",
      " 23  primary_cleaner.state.floatbank8_a_level            14148 non-null  float64\n",
      " 24  primary_cleaner.state.floatbank8_b_air              14145 non-null  float64\n",
      " 25  primary_cleaner.state.floatbank8_b_level            14148 non-null  float64\n",
      " 26  primary_cleaner.state.floatbank8_c_air              14147 non-null  float64\n",
      " 27  primary_cleaner.state.floatbank8_c_level            14148 non-null  float64\n",
      " 28  primary_cleaner.state.floatbank8_d_air              14146 non-null  float64\n",
      " 29  primary_cleaner.state.floatbank8_d_level            14148 non-null  float64\n",
      " 30  rougher.calculation.sulfate_to_au_concentrate       14148 non-null  float64\n",
      " 31  rougher.calculation.floatbank10_sulfate_to_au_feed  14148 non-null  float64\n",
      " 32  rougher.calculation.floatbank11_sulfate_to_au_feed  14148 non-null  float64\n",
      " 33  rougher.calculation.au_pb_ratio                     14149 non-null  float64\n",
      " 34  rougher.input.feed_ag                               14149 non-null  float64\n",
      " 35  rougher.input.feed_pb                               14049 non-null  float64\n",
      " 36  rougher.input.feed_rate                             14141 non-null  float64\n",
      " 37  rougher.input.feed_size                             14005 non-null  float64\n",
      " 38  rougher.input.feed_sol                              14071 non-null  float64\n",
      " 39  rougher.input.feed_au                               14149 non-null  float64\n",
      " 40  rougher.input.floatbank10_sulfate                   14120 non-null  float64\n",
      " 41  rougher.input.floatbank10_xanthate                  14141 non-null  float64\n",
      " 42  rougher.input.floatbank11_sulfate                   14113 non-null  float64\n",
      " 43  rougher.input.floatbank11_xanthate                  13721 non-null  float64\n",
      " 44  rougher.output.concentrate_ag                       14149 non-null  float64\n",
      " 45  rougher.output.concentrate_pb                       14149 non-null  float64\n",
      " 46  rougher.output.concentrate_sol                      14127 non-null  float64\n",
      " 47  rougher.output.concentrate_au                       14149 non-null  float64\n",
      " 48  rougher.output.recovery                             14149 non-null  float64\n",
      " 49  rougher.output.tail_ag                              14148 non-null  float64\n",
      " 50  rougher.output.tail_pb                              14149 non-null  float64\n",
      " 51  rougher.output.tail_sol                             14149 non-null  float64\n",
      " 52  rougher.output.tail_au                              14149 non-null  float64\n",
      " 53  rougher.state.floatbank10_a_air                     14148 non-null  float64\n",
      " 54  rougher.state.floatbank10_a_level                   14148 non-null  float64\n",
      " 55  rougher.state.floatbank10_b_air                     14148 non-null  float64\n",
      " 56  rougher.state.floatbank10_b_level                   14148 non-null  float64\n",
      " 57  rougher.state.floatbank10_c_air                     14148 non-null  float64\n",
      " 58  rougher.state.floatbank10_c_level                   14148 non-null  float64\n",
      " 59  rougher.state.floatbank10_d_air                     14149 non-null  float64\n",
      " 60  rougher.state.floatbank10_d_level                   14149 non-null  float64\n",
      " 61  rougher.state.floatbank10_e_air                     13713 non-null  float64\n",
      " 62  rougher.state.floatbank10_e_level                   14149 non-null  float64\n",
      " 63  rougher.state.floatbank10_f_air                     14149 non-null  float64\n",
      " 64  rougher.state.floatbank10_f_level                   14149 non-null  float64\n",
      " 65  secondary_cleaner.output.tail_ag                    14147 non-null  float64\n",
      " 66  secondary_cleaner.output.tail_pb                    14139 non-null  float64\n",
      " 67  secondary_cleaner.output.tail_sol                   12544 non-null  float64\n",
      " 68  secondary_cleaner.output.tail_au                    14149 non-null  float64\n",
      " 69  secondary_cleaner.state.floatbank2_a_air            13932 non-null  float64\n",
      " 70  secondary_cleaner.state.floatbank2_a_level          14148 non-null  float64\n",
      " 71  secondary_cleaner.state.floatbank2_b_air            14128 non-null  float64\n",
      " 72  secondary_cleaner.state.floatbank2_b_level          14148 non-null  float64\n",
      " 73  secondary_cleaner.state.floatbank3_a_air            14145 non-null  float64\n",
      " 74  secondary_cleaner.state.floatbank3_a_level          14148 non-null  float64\n",
      " 75  secondary_cleaner.state.floatbank3_b_air            14148 non-null  float64\n",
      " 76  secondary_cleaner.state.floatbank3_b_level          14148 non-null  float64\n",
      " 77  secondary_cleaner.state.floatbank4_a_air            14143 non-null  float64\n",
      " 78  secondary_cleaner.state.floatbank4_a_level          14148 non-null  float64\n",
      " 79  secondary_cleaner.state.floatbank4_b_air            14148 non-null  float64\n",
      " 80  secondary_cleaner.state.floatbank4_b_level          14148 non-null  float64\n",
      " 81  secondary_cleaner.state.floatbank5_a_air            14148 non-null  float64\n",
      " 82  secondary_cleaner.state.floatbank5_a_level          14148 non-null  float64\n",
      " 83  secondary_cleaner.state.floatbank5_b_air            14148 non-null  float64\n",
      " 84  secondary_cleaner.state.floatbank5_b_level          14148 non-null  float64\n",
      " 85  secondary_cleaner.state.floatbank6_a_air            14147 non-null  float64\n",
      " 86  secondary_cleaner.state.floatbank6_a_level          14148 non-null  float64\n",
      "dtypes: float64(86), object(1)\n",
      "memory usage: 9.4+ MB\n"
     ]
    },
    {
     "data": {
      "text/plain": [
       "None"
      ]
     },
     "metadata": {},
     "output_type": "display_data"
    },
    {
     "name": "stdout",
     "output_type": "stream",
     "text": [
      "<class 'pandas.core.frame.DataFrame'>\n",
      "RangeIndex: 5290 entries, 0 to 5289\n",
      "Data columns (total 53 columns):\n",
      " #   Column                                      Non-Null Count  Dtype  \n",
      "---  ------                                      --------------  -----  \n",
      " 0   date                                        5290 non-null   object \n",
      " 1   primary_cleaner.input.sulfate               5286 non-null   float64\n",
      " 2   primary_cleaner.input.depressant            5285 non-null   float64\n",
      " 3   primary_cleaner.input.feed_size             5290 non-null   float64\n",
      " 4   primary_cleaner.input.xanthate              5286 non-null   float64\n",
      " 5   primary_cleaner.state.floatbank8_a_air      5290 non-null   float64\n",
      " 6   primary_cleaner.state.floatbank8_a_level    5290 non-null   float64\n",
      " 7   primary_cleaner.state.floatbank8_b_air      5290 non-null   float64\n",
      " 8   primary_cleaner.state.floatbank8_b_level    5290 non-null   float64\n",
      " 9   primary_cleaner.state.floatbank8_c_air      5290 non-null   float64\n",
      " 10  primary_cleaner.state.floatbank8_c_level    5290 non-null   float64\n",
      " 11  primary_cleaner.state.floatbank8_d_air      5290 non-null   float64\n",
      " 12  primary_cleaner.state.floatbank8_d_level    5290 non-null   float64\n",
      " 13  rougher.input.feed_ag                       5290 non-null   float64\n",
      " 14  rougher.input.feed_pb                       5290 non-null   float64\n",
      " 15  rougher.input.feed_rate                     5287 non-null   float64\n",
      " 16  rougher.input.feed_size                     5289 non-null   float64\n",
      " 17  rougher.input.feed_sol                      5269 non-null   float64\n",
      " 18  rougher.input.feed_au                       5290 non-null   float64\n",
      " 19  rougher.input.floatbank10_sulfate           5285 non-null   float64\n",
      " 20  rougher.input.floatbank10_xanthate          5290 non-null   float64\n",
      " 21  rougher.input.floatbank11_sulfate           5282 non-null   float64\n",
      " 22  rougher.input.floatbank11_xanthate          5265 non-null   float64\n",
      " 23  rougher.state.floatbank10_a_air             5290 non-null   float64\n",
      " 24  rougher.state.floatbank10_a_level           5290 non-null   float64\n",
      " 25  rougher.state.floatbank10_b_air             5290 non-null   float64\n",
      " 26  rougher.state.floatbank10_b_level           5290 non-null   float64\n",
      " 27  rougher.state.floatbank10_c_air             5290 non-null   float64\n",
      " 28  rougher.state.floatbank10_c_level           5290 non-null   float64\n",
      " 29  rougher.state.floatbank10_d_air             5290 non-null   float64\n",
      " 30  rougher.state.floatbank10_d_level           5290 non-null   float64\n",
      " 31  rougher.state.floatbank10_e_air             5290 non-null   float64\n",
      " 32  rougher.state.floatbank10_e_level           5290 non-null   float64\n",
      " 33  rougher.state.floatbank10_f_air             5290 non-null   float64\n",
      " 34  rougher.state.floatbank10_f_level           5290 non-null   float64\n",
      " 35  secondary_cleaner.state.floatbank2_a_air    5287 non-null   float64\n",
      " 36  secondary_cleaner.state.floatbank2_a_level  5290 non-null   float64\n",
      " 37  secondary_cleaner.state.floatbank2_b_air    5288 non-null   float64\n",
      " 38  secondary_cleaner.state.floatbank2_b_level  5290 non-null   float64\n",
      " 39  secondary_cleaner.state.floatbank3_a_air    5281 non-null   float64\n",
      " 40  secondary_cleaner.state.floatbank3_a_level  5290 non-null   float64\n",
      " 41  secondary_cleaner.state.floatbank3_b_air    5290 non-null   float64\n",
      " 42  secondary_cleaner.state.floatbank3_b_level  5290 non-null   float64\n",
      " 43  secondary_cleaner.state.floatbank4_a_air    5290 non-null   float64\n",
      " 44  secondary_cleaner.state.floatbank4_a_level  5290 non-null   float64\n",
      " 45  secondary_cleaner.state.floatbank4_b_air    5290 non-null   float64\n",
      " 46  secondary_cleaner.state.floatbank4_b_level  5290 non-null   float64\n",
      " 47  secondary_cleaner.state.floatbank5_a_air    5290 non-null   float64\n",
      " 48  secondary_cleaner.state.floatbank5_a_level  5290 non-null   float64\n",
      " 49  secondary_cleaner.state.floatbank5_b_air    5290 non-null   float64\n",
      " 50  secondary_cleaner.state.floatbank5_b_level  5290 non-null   float64\n",
      " 51  secondary_cleaner.state.floatbank6_a_air    5290 non-null   float64\n",
      " 52  secondary_cleaner.state.floatbank6_a_level  5290 non-null   float64\n",
      "dtypes: float64(52), object(1)\n",
      "memory usage: 2.1+ MB\n"
     ]
    },
    {
     "data": {
      "text/plain": [
       "None"
      ]
     },
     "metadata": {},
     "output_type": "display_data"
    },
    {
     "name": "stdout",
     "output_type": "stream",
     "text": [
      "<class 'pandas.core.frame.DataFrame'>\n",
      "RangeIndex: 19439 entries, 0 to 19438\n",
      "Data columns (total 87 columns):\n",
      " #   Column                                              Non-Null Count  Dtype  \n",
      "---  ------                                              --------------  -----  \n",
      " 0   date                                                19439 non-null  object \n",
      " 1   final.output.concentrate_ag                         19438 non-null  float64\n",
      " 2   final.output.concentrate_pb                         19438 non-null  float64\n",
      " 3   final.output.concentrate_sol                        19228 non-null  float64\n",
      " 4   final.output.concentrate_au                         19439 non-null  float64\n",
      " 5   final.output.recovery                               19439 non-null  float64\n",
      " 6   final.output.tail_ag                                19438 non-null  float64\n",
      " 7   final.output.tail_pb                                19338 non-null  float64\n",
      " 8   final.output.tail_sol                               19433 non-null  float64\n",
      " 9   final.output.tail_au                                19439 non-null  float64\n",
      " 10  primary_cleaner.input.sulfate                       19415 non-null  float64\n",
      " 11  primary_cleaner.input.depressant                    19402 non-null  float64\n",
      " 12  primary_cleaner.input.feed_size                     19439 non-null  float64\n",
      " 13  primary_cleaner.input.xanthate                      19335 non-null  float64\n",
      " 14  primary_cleaner.output.concentrate_ag               19439 non-null  float64\n",
      " 15  primary_cleaner.output.concentrate_pb               19323 non-null  float64\n",
      " 16  primary_cleaner.output.concentrate_sol              19069 non-null  float64\n",
      " 17  primary_cleaner.output.concentrate_au               19439 non-null  float64\n",
      " 18  primary_cleaner.output.tail_ag                      19435 non-null  float64\n",
      " 19  primary_cleaner.output.tail_pb                      19418 non-null  float64\n",
      " 20  primary_cleaner.output.tail_sol                     19377 non-null  float64\n",
      " 21  primary_cleaner.output.tail_au                      19439 non-null  float64\n",
      " 22  primary_cleaner.state.floatbank8_a_air              19435 non-null  float64\n",
      " 23  primary_cleaner.state.floatbank8_a_level            19438 non-null  float64\n",
      " 24  primary_cleaner.state.floatbank8_b_air              19435 non-null  float64\n",
      " 25  primary_cleaner.state.floatbank8_b_level            19438 non-null  float64\n",
      " 26  primary_cleaner.state.floatbank8_c_air              19437 non-null  float64\n",
      " 27  primary_cleaner.state.floatbank8_c_level            19438 non-null  float64\n",
      " 28  primary_cleaner.state.floatbank8_d_air              19436 non-null  float64\n",
      " 29  primary_cleaner.state.floatbank8_d_level            19438 non-null  float64\n",
      " 30  rougher.calculation.sulfate_to_au_concentrate       19437 non-null  float64\n",
      " 31  rougher.calculation.floatbank10_sulfate_to_au_feed  19437 non-null  float64\n",
      " 32  rougher.calculation.floatbank11_sulfate_to_au_feed  19437 non-null  float64\n",
      " 33  rougher.calculation.au_pb_ratio                     19439 non-null  float64\n",
      " 34  rougher.input.feed_ag                               19439 non-null  float64\n",
      " 35  rougher.input.feed_pb                               19339 non-null  float64\n",
      " 36  rougher.input.feed_rate                             19428 non-null  float64\n",
      " 37  rougher.input.feed_size                             19294 non-null  float64\n",
      " 38  rougher.input.feed_sol                              19340 non-null  float64\n",
      " 39  rougher.input.feed_au                               19439 non-null  float64\n",
      " 40  rougher.input.floatbank10_sulfate                   19405 non-null  float64\n",
      " 41  rougher.input.floatbank10_xanthate                  19431 non-null  float64\n",
      " 42  rougher.input.floatbank11_sulfate                   19395 non-null  float64\n",
      " 43  rougher.input.floatbank11_xanthate                  18986 non-null  float64\n",
      " 44  rougher.output.concentrate_ag                       19439 non-null  float64\n",
      " 45  rougher.output.concentrate_pb                       19439 non-null  float64\n",
      " 46  rougher.output.concentrate_sol                      19416 non-null  float64\n",
      " 47  rougher.output.concentrate_au                       19439 non-null  float64\n",
      " 48  rougher.output.recovery                             19439 non-null  float64\n",
      " 49  rougher.output.tail_ag                              19438 non-null  float64\n",
      " 50  rougher.output.tail_pb                              19439 non-null  float64\n",
      " 51  rougher.output.tail_sol                             19439 non-null  float64\n",
      " 52  rougher.output.tail_au                              19439 non-null  float64\n",
      " 53  rougher.state.floatbank10_a_air                     19438 non-null  float64\n",
      " 54  rougher.state.floatbank10_a_level                   19438 non-null  float64\n",
      " 55  rougher.state.floatbank10_b_air                     19438 non-null  float64\n",
      " 56  rougher.state.floatbank10_b_level                   19438 non-null  float64\n",
      " 57  rougher.state.floatbank10_c_air                     19438 non-null  float64\n",
      " 58  rougher.state.floatbank10_c_level                   19438 non-null  float64\n",
      " 59  rougher.state.floatbank10_d_air                     19439 non-null  float64\n",
      " 60  rougher.state.floatbank10_d_level                   19439 non-null  float64\n",
      " 61  rougher.state.floatbank10_e_air                     19003 non-null  float64\n",
      " 62  rougher.state.floatbank10_e_level                   19439 non-null  float64\n",
      " 63  rougher.state.floatbank10_f_air                     19439 non-null  float64\n",
      " 64  rougher.state.floatbank10_f_level                   19439 non-null  float64\n",
      " 65  secondary_cleaner.output.tail_ag                    19437 non-null  float64\n",
      " 66  secondary_cleaner.output.tail_pb                    19427 non-null  float64\n",
      " 67  secondary_cleaner.output.tail_sol                   17691 non-null  float64\n",
      " 68  secondary_cleaner.output.tail_au                    19439 non-null  float64\n",
      " 69  secondary_cleaner.state.floatbank2_a_air            19219 non-null  float64\n",
      " 70  secondary_cleaner.state.floatbank2_a_level          19438 non-null  float64\n",
      " 71  secondary_cleaner.state.floatbank2_b_air            19416 non-null  float64\n",
      " 72  secondary_cleaner.state.floatbank2_b_level          19438 non-null  float64\n",
      " 73  secondary_cleaner.state.floatbank3_a_air            19426 non-null  float64\n",
      " 74  secondary_cleaner.state.floatbank3_a_level          19438 non-null  float64\n",
      " 75  secondary_cleaner.state.floatbank3_b_air            19438 non-null  float64\n",
      " 76  secondary_cleaner.state.floatbank3_b_level          19438 non-null  float64\n",
      " 77  secondary_cleaner.state.floatbank4_a_air            19433 non-null  float64\n",
      " 78  secondary_cleaner.state.floatbank4_a_level          19438 non-null  float64\n",
      " 79  secondary_cleaner.state.floatbank4_b_air            19438 non-null  float64\n",
      " 80  secondary_cleaner.state.floatbank4_b_level          19438 non-null  float64\n",
      " 81  secondary_cleaner.state.floatbank5_a_air            19438 non-null  float64\n",
      " 82  secondary_cleaner.state.floatbank5_a_level          19438 non-null  float64\n",
      " 83  secondary_cleaner.state.floatbank5_b_air            19438 non-null  float64\n",
      " 84  secondary_cleaner.state.floatbank5_b_level          19438 non-null  float64\n",
      " 85  secondary_cleaner.state.floatbank6_a_air            19437 non-null  float64\n",
      " 86  secondary_cleaner.state.floatbank6_a_level          19438 non-null  float64\n",
      "dtypes: float64(86), object(1)\n",
      "memory usage: 12.9+ MB\n"
     ]
    },
    {
     "data": {
      "text/plain": [
       "None"
      ]
     },
     "metadata": {},
     "output_type": "display_data"
    }
   ],
   "source": [
    "for table in (df_train,df_test, df_full):\n",
    "    def info(table):\n",
    "        display(table.info())\n",
    "    info(table) "
   ]
  },
  {
   "cell_type": "markdown",
   "metadata": {},
   "source": [
    "We have data of type `float`, except for the values in the `date` column. Let's look at the values in the tables."
   ]
  },
  {
   "cell_type": "code",
   "execution_count": 4,
   "metadata": {},
   "outputs": [
    {
     "data": {
      "text/html": [
       "<div>\n",
       "<style scoped>\n",
       "    .dataframe tbody tr th:only-of-type {\n",
       "        vertical-align: middle;\n",
       "    }\n",
       "\n",
       "    .dataframe tbody tr th {\n",
       "        vertical-align: top;\n",
       "    }\n",
       "\n",
       "    .dataframe thead th {\n",
       "        text-align: right;\n",
       "    }\n",
       "</style>\n",
       "<table border=\"1\" class=\"dataframe\">\n",
       "  <thead>\n",
       "    <tr style=\"text-align: right;\">\n",
       "      <th></th>\n",
       "      <th>final.output.concentrate_ag</th>\n",
       "      <th>final.output.concentrate_pb</th>\n",
       "      <th>final.output.concentrate_sol</th>\n",
       "      <th>final.output.concentrate_au</th>\n",
       "      <th>final.output.recovery</th>\n",
       "      <th>final.output.tail_ag</th>\n",
       "      <th>final.output.tail_pb</th>\n",
       "      <th>final.output.tail_sol</th>\n",
       "      <th>final.output.tail_au</th>\n",
       "      <th>primary_cleaner.input.sulfate</th>\n",
       "      <th>...</th>\n",
       "      <th>secondary_cleaner.state.floatbank4_a_air</th>\n",
       "      <th>secondary_cleaner.state.floatbank4_a_level</th>\n",
       "      <th>secondary_cleaner.state.floatbank4_b_air</th>\n",
       "      <th>secondary_cleaner.state.floatbank4_b_level</th>\n",
       "      <th>secondary_cleaner.state.floatbank5_a_air</th>\n",
       "      <th>secondary_cleaner.state.floatbank5_a_level</th>\n",
       "      <th>secondary_cleaner.state.floatbank5_b_air</th>\n",
       "      <th>secondary_cleaner.state.floatbank5_b_level</th>\n",
       "      <th>secondary_cleaner.state.floatbank6_a_air</th>\n",
       "      <th>secondary_cleaner.state.floatbank6_a_level</th>\n",
       "    </tr>\n",
       "  </thead>\n",
       "  <tbody>\n",
       "    <tr>\n",
       "      <th>count</th>\n",
       "      <td>14148.000000</td>\n",
       "      <td>14148.000000</td>\n",
       "      <td>13938.000000</td>\n",
       "      <td>14149.000000</td>\n",
       "      <td>14149.000000</td>\n",
       "      <td>14149.000000</td>\n",
       "      <td>14049.000000</td>\n",
       "      <td>14144.000000</td>\n",
       "      <td>14149.000000</td>\n",
       "      <td>14129.000000</td>\n",
       "      <td>...</td>\n",
       "      <td>14143.000000</td>\n",
       "      <td>14148.000000</td>\n",
       "      <td>14148.000000</td>\n",
       "      <td>14148.000000</td>\n",
       "      <td>14148.000000</td>\n",
       "      <td>14148.000000</td>\n",
       "      <td>14148.000000</td>\n",
       "      <td>14148.000000</td>\n",
       "      <td>14147.000000</td>\n",
       "      <td>14148.000000</td>\n",
       "    </tr>\n",
       "    <tr>\n",
       "      <th>mean</th>\n",
       "      <td>5.142034</td>\n",
       "      <td>10.132960</td>\n",
       "      <td>9.202849</td>\n",
       "      <td>44.003792</td>\n",
       "      <td>66.518832</td>\n",
       "      <td>9.607035</td>\n",
       "      <td>2.597298</td>\n",
       "      <td>10.512122</td>\n",
       "      <td>2.918421</td>\n",
       "      <td>133.320659</td>\n",
       "      <td>...</td>\n",
       "      <td>19.985454</td>\n",
       "      <td>-478.696836</td>\n",
       "      <td>15.487065</td>\n",
       "      <td>-460.229416</td>\n",
       "      <td>16.775136</td>\n",
       "      <td>-483.956022</td>\n",
       "      <td>13.064590</td>\n",
       "      <td>-483.966564</td>\n",
       "      <td>19.577539</td>\n",
       "      <td>-506.798480</td>\n",
       "    </tr>\n",
       "    <tr>\n",
       "      <th>std</th>\n",
       "      <td>1.369586</td>\n",
       "      <td>1.654930</td>\n",
       "      <td>2.790516</td>\n",
       "      <td>4.905261</td>\n",
       "      <td>10.295402</td>\n",
       "      <td>2.319069</td>\n",
       "      <td>0.971843</td>\n",
       "      <td>3.003617</td>\n",
       "      <td>0.903712</td>\n",
       "      <td>39.431659</td>\n",
       "      <td>...</td>\n",
       "      <td>5.657723</td>\n",
       "      <td>50.736021</td>\n",
       "      <td>5.255655</td>\n",
       "      <td>58.843586</td>\n",
       "      <td>5.831906</td>\n",
       "      <td>37.892788</td>\n",
       "      <td>5.765617</td>\n",
       "      <td>39.207913</td>\n",
       "      <td>5.764417</td>\n",
       "      <td>37.079249</td>\n",
       "    </tr>\n",
       "    <tr>\n",
       "      <th>min</th>\n",
       "      <td>0.000000</td>\n",
       "      <td>0.000000</td>\n",
       "      <td>0.000000</td>\n",
       "      <td>0.000000</td>\n",
       "      <td>0.000000</td>\n",
       "      <td>0.000000</td>\n",
       "      <td>0.000000</td>\n",
       "      <td>0.000000</td>\n",
       "      <td>0.000000</td>\n",
       "      <td>0.003112</td>\n",
       "      <td>...</td>\n",
       "      <td>0.000000</td>\n",
       "      <td>-799.709069</td>\n",
       "      <td>0.000000</td>\n",
       "      <td>-799.889113</td>\n",
       "      <td>-0.372054</td>\n",
       "      <td>-797.142475</td>\n",
       "      <td>0.646208</td>\n",
       "      <td>-800.006180</td>\n",
       "      <td>0.195324</td>\n",
       "      <td>-809.398668</td>\n",
       "    </tr>\n",
       "    <tr>\n",
       "      <th>25%</th>\n",
       "      <td>4.211620</td>\n",
       "      <td>9.297355</td>\n",
       "      <td>7.484645</td>\n",
       "      <td>43.276111</td>\n",
       "      <td>62.545817</td>\n",
       "      <td>7.997429</td>\n",
       "      <td>1.905973</td>\n",
       "      <td>8.811324</td>\n",
       "      <td>2.368607</td>\n",
       "      <td>107.006651</td>\n",
       "      <td>...</td>\n",
       "      <td>14.990775</td>\n",
       "      <td>-500.628656</td>\n",
       "      <td>11.894558</td>\n",
       "      <td>-500.149000</td>\n",
       "      <td>11.083980</td>\n",
       "      <td>-500.363177</td>\n",
       "      <td>8.994405</td>\n",
       "      <td>-500.105994</td>\n",
       "      <td>14.989304</td>\n",
       "      <td>-500.745104</td>\n",
       "    </tr>\n",
       "    <tr>\n",
       "      <th>50%</th>\n",
       "      <td>4.994652</td>\n",
       "      <td>10.297144</td>\n",
       "      <td>8.845462</td>\n",
       "      <td>44.872436</td>\n",
       "      <td>67.432775</td>\n",
       "      <td>9.480270</td>\n",
       "      <td>2.592022</td>\n",
       "      <td>10.514621</td>\n",
       "      <td>2.851025</td>\n",
       "      <td>133.018328</td>\n",
       "      <td>...</td>\n",
       "      <td>20.001789</td>\n",
       "      <td>-499.681450</td>\n",
       "      <td>14.975536</td>\n",
       "      <td>-499.388738</td>\n",
       "      <td>17.932223</td>\n",
       "      <td>-499.702452</td>\n",
       "      <td>11.997547</td>\n",
       "      <td>-499.914556</td>\n",
       "      <td>19.984175</td>\n",
       "      <td>-500.061431</td>\n",
       "    </tr>\n",
       "    <tr>\n",
       "      <th>75%</th>\n",
       "      <td>5.859540</td>\n",
       "      <td>11.170603</td>\n",
       "      <td>10.487508</td>\n",
       "      <td>46.166425</td>\n",
       "      <td>72.346428</td>\n",
       "      <td>11.003707</td>\n",
       "      <td>3.241723</td>\n",
       "      <td>11.933009</td>\n",
       "      <td>3.434764</td>\n",
       "      <td>159.825396</td>\n",
       "      <td>...</td>\n",
       "      <td>24.990826</td>\n",
       "      <td>-477.472413</td>\n",
       "      <td>20.059375</td>\n",
       "      <td>-400.039008</td>\n",
       "      <td>21.346550</td>\n",
       "      <td>-487.712108</td>\n",
       "      <td>17.982903</td>\n",
       "      <td>-453.186936</td>\n",
       "      <td>24.991623</td>\n",
       "      <td>-499.536466</td>\n",
       "    </tr>\n",
       "    <tr>\n",
       "      <th>max</th>\n",
       "      <td>16.001945</td>\n",
       "      <td>17.031899</td>\n",
       "      <td>18.124851</td>\n",
       "      <td>52.756638</td>\n",
       "      <td>100.000000</td>\n",
       "      <td>19.552149</td>\n",
       "      <td>5.639565</td>\n",
       "      <td>22.317730</td>\n",
       "      <td>8.197408</td>\n",
       "      <td>250.127834</td>\n",
       "      <td>...</td>\n",
       "      <td>30.115735</td>\n",
       "      <td>-245.239184</td>\n",
       "      <td>24.007913</td>\n",
       "      <td>-145.071088</td>\n",
       "      <td>43.709931</td>\n",
       "      <td>-275.073125</td>\n",
       "      <td>27.926001</td>\n",
       "      <td>-157.396071</td>\n",
       "      <td>32.188906</td>\n",
       "      <td>-104.427459</td>\n",
       "    </tr>\n",
       "  </tbody>\n",
       "</table>\n",
       "<p>8 rows × 86 columns</p>\n",
       "</div>"
      ],
      "text/plain": [
       "       final.output.concentrate_ag  final.output.concentrate_pb  \\\n",
       "count                 14148.000000                 14148.000000   \n",
       "mean                      5.142034                    10.132960   \n",
       "std                       1.369586                     1.654930   \n",
       "min                       0.000000                     0.000000   \n",
       "25%                       4.211620                     9.297355   \n",
       "50%                       4.994652                    10.297144   \n",
       "75%                       5.859540                    11.170603   \n",
       "max                      16.001945                    17.031899   \n",
       "\n",
       "       final.output.concentrate_sol  final.output.concentrate_au  \\\n",
       "count                  13938.000000                 14149.000000   \n",
       "mean                       9.202849                    44.003792   \n",
       "std                        2.790516                     4.905261   \n",
       "min                        0.000000                     0.000000   \n",
       "25%                        7.484645                    43.276111   \n",
       "50%                        8.845462                    44.872436   \n",
       "75%                       10.487508                    46.166425   \n",
       "max                       18.124851                    52.756638   \n",
       "\n",
       "       final.output.recovery  final.output.tail_ag  final.output.tail_pb  \\\n",
       "count           14149.000000          14149.000000          14049.000000   \n",
       "mean               66.518832              9.607035              2.597298   \n",
       "std                10.295402              2.319069              0.971843   \n",
       "min                 0.000000              0.000000              0.000000   \n",
       "25%                62.545817              7.997429              1.905973   \n",
       "50%                67.432775              9.480270              2.592022   \n",
       "75%                72.346428             11.003707              3.241723   \n",
       "max               100.000000             19.552149              5.639565   \n",
       "\n",
       "       final.output.tail_sol  final.output.tail_au  \\\n",
       "count           14144.000000          14149.000000   \n",
       "mean               10.512122              2.918421   \n",
       "std                 3.003617              0.903712   \n",
       "min                 0.000000              0.000000   \n",
       "25%                 8.811324              2.368607   \n",
       "50%                10.514621              2.851025   \n",
       "75%                11.933009              3.434764   \n",
       "max                22.317730              8.197408   \n",
       "\n",
       "       primary_cleaner.input.sulfate  ...  \\\n",
       "count                   14129.000000  ...   \n",
       "mean                      133.320659  ...   \n",
       "std                        39.431659  ...   \n",
       "min                         0.003112  ...   \n",
       "25%                       107.006651  ...   \n",
       "50%                       133.018328  ...   \n",
       "75%                       159.825396  ...   \n",
       "max                       250.127834  ...   \n",
       "\n",
       "       secondary_cleaner.state.floatbank4_a_air  \\\n",
       "count                              14143.000000   \n",
       "mean                                  19.985454   \n",
       "std                                    5.657723   \n",
       "min                                    0.000000   \n",
       "25%                                   14.990775   \n",
       "50%                                   20.001789   \n",
       "75%                                   24.990826   \n",
       "max                                   30.115735   \n",
       "\n",
       "       secondary_cleaner.state.floatbank4_a_level  \\\n",
       "count                                14148.000000   \n",
       "mean                                  -478.696836   \n",
       "std                                     50.736021   \n",
       "min                                   -799.709069   \n",
       "25%                                   -500.628656   \n",
       "50%                                   -499.681450   \n",
       "75%                                   -477.472413   \n",
       "max                                   -245.239184   \n",
       "\n",
       "       secondary_cleaner.state.floatbank4_b_air  \\\n",
       "count                              14148.000000   \n",
       "mean                                  15.487065   \n",
       "std                                    5.255655   \n",
       "min                                    0.000000   \n",
       "25%                                   11.894558   \n",
       "50%                                   14.975536   \n",
       "75%                                   20.059375   \n",
       "max                                   24.007913   \n",
       "\n",
       "       secondary_cleaner.state.floatbank4_b_level  \\\n",
       "count                                14148.000000   \n",
       "mean                                  -460.229416   \n",
       "std                                     58.843586   \n",
       "min                                   -799.889113   \n",
       "25%                                   -500.149000   \n",
       "50%                                   -499.388738   \n",
       "75%                                   -400.039008   \n",
       "max                                   -145.071088   \n",
       "\n",
       "       secondary_cleaner.state.floatbank5_a_air  \\\n",
       "count                              14148.000000   \n",
       "mean                                  16.775136   \n",
       "std                                    5.831906   \n",
       "min                                   -0.372054   \n",
       "25%                                   11.083980   \n",
       "50%                                   17.932223   \n",
       "75%                                   21.346550   \n",
       "max                                   43.709931   \n",
       "\n",
       "       secondary_cleaner.state.floatbank5_a_level  \\\n",
       "count                                14148.000000   \n",
       "mean                                  -483.956022   \n",
       "std                                     37.892788   \n",
       "min                                   -797.142475   \n",
       "25%                                   -500.363177   \n",
       "50%                                   -499.702452   \n",
       "75%                                   -487.712108   \n",
       "max                                   -275.073125   \n",
       "\n",
       "       secondary_cleaner.state.floatbank5_b_air  \\\n",
       "count                              14148.000000   \n",
       "mean                                  13.064590   \n",
       "std                                    5.765617   \n",
       "min                                    0.646208   \n",
       "25%                                    8.994405   \n",
       "50%                                   11.997547   \n",
       "75%                                   17.982903   \n",
       "max                                   27.926001   \n",
       "\n",
       "       secondary_cleaner.state.floatbank5_b_level  \\\n",
       "count                                14148.000000   \n",
       "mean                                  -483.966564   \n",
       "std                                     39.207913   \n",
       "min                                   -800.006180   \n",
       "25%                                   -500.105994   \n",
       "50%                                   -499.914556   \n",
       "75%                                   -453.186936   \n",
       "max                                   -157.396071   \n",
       "\n",
       "       secondary_cleaner.state.floatbank6_a_air  \\\n",
       "count                              14147.000000   \n",
       "mean                                  19.577539   \n",
       "std                                    5.764417   \n",
       "min                                    0.195324   \n",
       "25%                                   14.989304   \n",
       "50%                                   19.984175   \n",
       "75%                                   24.991623   \n",
       "max                                   32.188906   \n",
       "\n",
       "       secondary_cleaner.state.floatbank6_a_level  \n",
       "count                                14148.000000  \n",
       "mean                                  -506.798480  \n",
       "std                                     37.079249  \n",
       "min                                   -809.398668  \n",
       "25%                                   -500.745104  \n",
       "50%                                   -500.061431  \n",
       "75%                                   -499.536466  \n",
       "max                                   -104.427459  \n",
       "\n",
       "[8 rows x 86 columns]"
      ]
     },
     "metadata": {},
     "output_type": "display_data"
    },
    {
     "data": {
      "text/html": [
       "<div>\n",
       "<style scoped>\n",
       "    .dataframe tbody tr th:only-of-type {\n",
       "        vertical-align: middle;\n",
       "    }\n",
       "\n",
       "    .dataframe tbody tr th {\n",
       "        vertical-align: top;\n",
       "    }\n",
       "\n",
       "    .dataframe thead th {\n",
       "        text-align: right;\n",
       "    }\n",
       "</style>\n",
       "<table border=\"1\" class=\"dataframe\">\n",
       "  <thead>\n",
       "    <tr style=\"text-align: right;\">\n",
       "      <th></th>\n",
       "      <th>primary_cleaner.input.sulfate</th>\n",
       "      <th>primary_cleaner.input.depressant</th>\n",
       "      <th>primary_cleaner.input.feed_size</th>\n",
       "      <th>primary_cleaner.input.xanthate</th>\n",
       "      <th>primary_cleaner.state.floatbank8_a_air</th>\n",
       "      <th>primary_cleaner.state.floatbank8_a_level</th>\n",
       "      <th>primary_cleaner.state.floatbank8_b_air</th>\n",
       "      <th>primary_cleaner.state.floatbank8_b_level</th>\n",
       "      <th>primary_cleaner.state.floatbank8_c_air</th>\n",
       "      <th>primary_cleaner.state.floatbank8_c_level</th>\n",
       "      <th>...</th>\n",
       "      <th>secondary_cleaner.state.floatbank4_a_air</th>\n",
       "      <th>secondary_cleaner.state.floatbank4_a_level</th>\n",
       "      <th>secondary_cleaner.state.floatbank4_b_air</th>\n",
       "      <th>secondary_cleaner.state.floatbank4_b_level</th>\n",
       "      <th>secondary_cleaner.state.floatbank5_a_air</th>\n",
       "      <th>secondary_cleaner.state.floatbank5_a_level</th>\n",
       "      <th>secondary_cleaner.state.floatbank5_b_air</th>\n",
       "      <th>secondary_cleaner.state.floatbank5_b_level</th>\n",
       "      <th>secondary_cleaner.state.floatbank6_a_air</th>\n",
       "      <th>secondary_cleaner.state.floatbank6_a_level</th>\n",
       "    </tr>\n",
       "  </thead>\n",
       "  <tbody>\n",
       "    <tr>\n",
       "      <th>count</th>\n",
       "      <td>5286.000000</td>\n",
       "      <td>5285.000000</td>\n",
       "      <td>5290.000000</td>\n",
       "      <td>5286.000000</td>\n",
       "      <td>5.290000e+03</td>\n",
       "      <td>5290.000000</td>\n",
       "      <td>5.290000e+03</td>\n",
       "      <td>5290.000000</td>\n",
       "      <td>5.290000e+03</td>\n",
       "      <td>5290.000000</td>\n",
       "      <td>...</td>\n",
       "      <td>5.290000e+03</td>\n",
       "      <td>5290.000000</td>\n",
       "      <td>5.290000e+03</td>\n",
       "      <td>5290.000000</td>\n",
       "      <td>5290.000000</td>\n",
       "      <td>5290.000000</td>\n",
       "      <td>5290.000000</td>\n",
       "      <td>5290.000000</td>\n",
       "      <td>5290.000000</td>\n",
       "      <td>5290.000000</td>\n",
       "    </tr>\n",
       "    <tr>\n",
       "      <th>mean</th>\n",
       "      <td>174.839652</td>\n",
       "      <td>8.683596</td>\n",
       "      <td>7.266339</td>\n",
       "      <td>1.383803</td>\n",
       "      <td>1.539494e+03</td>\n",
       "      <td>-497.665883</td>\n",
       "      <td>1.545174e+03</td>\n",
       "      <td>-500.273098</td>\n",
       "      <td>1.527272e+03</td>\n",
       "      <td>-498.330680</td>\n",
       "      <td>...</td>\n",
       "      <td>1.632007e+01</td>\n",
       "      <td>-505.144570</td>\n",
       "      <td>1.373544e+01</td>\n",
       "      <td>-463.349858</td>\n",
       "      <td>12.804186</td>\n",
       "      <td>-501.329122</td>\n",
       "      <td>9.881145</td>\n",
       "      <td>-495.663398</td>\n",
       "      <td>17.304935</td>\n",
       "      <td>-501.793193</td>\n",
       "    </tr>\n",
       "    <tr>\n",
       "      <th>std</th>\n",
       "      <td>43.027080</td>\n",
       "      <td>3.072050</td>\n",
       "      <td>0.610219</td>\n",
       "      <td>0.643474</td>\n",
       "      <td>1.167979e+02</td>\n",
       "      <td>19.952431</td>\n",
       "      <td>1.222246e+02</td>\n",
       "      <td>32.968307</td>\n",
       "      <td>1.225380e+02</td>\n",
       "      <td>21.964876</td>\n",
       "      <td>...</td>\n",
       "      <td>3.493583e+00</td>\n",
       "      <td>31.427337</td>\n",
       "      <td>3.430484e+00</td>\n",
       "      <td>86.189107</td>\n",
       "      <td>3.026591</td>\n",
       "      <td>17.951495</td>\n",
       "      <td>2.868205</td>\n",
       "      <td>34.535007</td>\n",
       "      <td>4.536544</td>\n",
       "      <td>39.044215</td>\n",
       "    </tr>\n",
       "    <tr>\n",
       "      <th>min</th>\n",
       "      <td>2.566156</td>\n",
       "      <td>0.003839</td>\n",
       "      <td>5.650000</td>\n",
       "      <td>0.004984</td>\n",
       "      <td>5.445860e-32</td>\n",
       "      <td>-795.316337</td>\n",
       "      <td>6.647490e-32</td>\n",
       "      <td>-799.997015</td>\n",
       "      <td>4.033736e-32</td>\n",
       "      <td>-799.960571</td>\n",
       "      <td>...</td>\n",
       "      <td>1.079872e-16</td>\n",
       "      <td>-799.798523</td>\n",
       "      <td>2.489718e-17</td>\n",
       "      <td>-800.836914</td>\n",
       "      <td>0.069227</td>\n",
       "      <td>-797.323986</td>\n",
       "      <td>0.528083</td>\n",
       "      <td>-800.220337</td>\n",
       "      <td>-0.079426</td>\n",
       "      <td>-809.741464</td>\n",
       "    </tr>\n",
       "    <tr>\n",
       "      <th>25%</th>\n",
       "      <td>147.121401</td>\n",
       "      <td>6.489555</td>\n",
       "      <td>6.890000</td>\n",
       "      <td>0.907623</td>\n",
       "      <td>1.498936e+03</td>\n",
       "      <td>-500.357298</td>\n",
       "      <td>1.498971e+03</td>\n",
       "      <td>-500.703002</td>\n",
       "      <td>1.473230e+03</td>\n",
       "      <td>-501.018117</td>\n",
       "      <td>...</td>\n",
       "      <td>1.403618e+01</td>\n",
       "      <td>-500.868258</td>\n",
       "      <td>1.202862e+01</td>\n",
       "      <td>-500.323028</td>\n",
       "      <td>10.914838</td>\n",
       "      <td>-500.726841</td>\n",
       "      <td>8.036719</td>\n",
       "      <td>-500.194668</td>\n",
       "      <td>13.997317</td>\n",
       "      <td>-500.690984</td>\n",
       "    </tr>\n",
       "    <tr>\n",
       "      <th>50%</th>\n",
       "      <td>177.828489</td>\n",
       "      <td>8.052207</td>\n",
       "      <td>7.250000</td>\n",
       "      <td>1.197610</td>\n",
       "      <td>1.585129e+03</td>\n",
       "      <td>-499.969164</td>\n",
       "      <td>1.595622e+03</td>\n",
       "      <td>-500.028514</td>\n",
       "      <td>1.549595e+03</td>\n",
       "      <td>-500.017711</td>\n",
       "      <td>...</td>\n",
       "      <td>1.700847e+01</td>\n",
       "      <td>-500.115727</td>\n",
       "      <td>1.496486e+01</td>\n",
       "      <td>-499.576513</td>\n",
       "      <td>12.954182</td>\n",
       "      <td>-499.990332</td>\n",
       "      <td>10.004301</td>\n",
       "      <td>-499.990535</td>\n",
       "      <td>16.014935</td>\n",
       "      <td>-500.007126</td>\n",
       "    </tr>\n",
       "    <tr>\n",
       "      <th>75%</th>\n",
       "      <td>208.125438</td>\n",
       "      <td>10.027764</td>\n",
       "      <td>7.600000</td>\n",
       "      <td>1.797819</td>\n",
       "      <td>1.602077e+03</td>\n",
       "      <td>-499.568951</td>\n",
       "      <td>1.602324e+03</td>\n",
       "      <td>-499.293257</td>\n",
       "      <td>1.601144e+03</td>\n",
       "      <td>-498.994130</td>\n",
       "      <td>...</td>\n",
       "      <td>1.803862e+01</td>\n",
       "      <td>-499.404224</td>\n",
       "      <td>1.596213e+01</td>\n",
       "      <td>-400.933805</td>\n",
       "      <td>15.097528</td>\n",
       "      <td>-499.283191</td>\n",
       "      <td>11.997467</td>\n",
       "      <td>-499.719913</td>\n",
       "      <td>21.020013</td>\n",
       "      <td>-499.373018</td>\n",
       "    </tr>\n",
       "    <tr>\n",
       "      <th>max</th>\n",
       "      <td>265.983123</td>\n",
       "      <td>40.000000</td>\n",
       "      <td>15.500000</td>\n",
       "      <td>4.102454</td>\n",
       "      <td>2.103104e+03</td>\n",
       "      <td>-57.195404</td>\n",
       "      <td>1.813084e+03</td>\n",
       "      <td>-142.527229</td>\n",
       "      <td>1.715054e+03</td>\n",
       "      <td>-150.937035</td>\n",
       "      <td>...</td>\n",
       "      <td>3.005180e+01</td>\n",
       "      <td>-401.565212</td>\n",
       "      <td>3.126971e+01</td>\n",
       "      <td>-6.506986</td>\n",
       "      <td>25.258848</td>\n",
       "      <td>-244.483566</td>\n",
       "      <td>14.086866</td>\n",
       "      <td>-137.740004</td>\n",
       "      <td>26.705889</td>\n",
       "      <td>-123.307487</td>\n",
       "    </tr>\n",
       "  </tbody>\n",
       "</table>\n",
       "<p>8 rows × 52 columns</p>\n",
       "</div>"
      ],
      "text/plain": [
       "       primary_cleaner.input.sulfate  primary_cleaner.input.depressant  \\\n",
       "count                    5286.000000                       5285.000000   \n",
       "mean                      174.839652                          8.683596   \n",
       "std                        43.027080                          3.072050   \n",
       "min                         2.566156                          0.003839   \n",
       "25%                       147.121401                          6.489555   \n",
       "50%                       177.828489                          8.052207   \n",
       "75%                       208.125438                         10.027764   \n",
       "max                       265.983123                         40.000000   \n",
       "\n",
       "       primary_cleaner.input.feed_size  primary_cleaner.input.xanthate  \\\n",
       "count                      5290.000000                     5286.000000   \n",
       "mean                          7.266339                        1.383803   \n",
       "std                           0.610219                        0.643474   \n",
       "min                           5.650000                        0.004984   \n",
       "25%                           6.890000                        0.907623   \n",
       "50%                           7.250000                        1.197610   \n",
       "75%                           7.600000                        1.797819   \n",
       "max                          15.500000                        4.102454   \n",
       "\n",
       "       primary_cleaner.state.floatbank8_a_air  \\\n",
       "count                            5.290000e+03   \n",
       "mean                             1.539494e+03   \n",
       "std                              1.167979e+02   \n",
       "min                              5.445860e-32   \n",
       "25%                              1.498936e+03   \n",
       "50%                              1.585129e+03   \n",
       "75%                              1.602077e+03   \n",
       "max                              2.103104e+03   \n",
       "\n",
       "       primary_cleaner.state.floatbank8_a_level  \\\n",
       "count                               5290.000000   \n",
       "mean                                -497.665883   \n",
       "std                                   19.952431   \n",
       "min                                 -795.316337   \n",
       "25%                                 -500.357298   \n",
       "50%                                 -499.969164   \n",
       "75%                                 -499.568951   \n",
       "max                                  -57.195404   \n",
       "\n",
       "       primary_cleaner.state.floatbank8_b_air  \\\n",
       "count                            5.290000e+03   \n",
       "mean                             1.545174e+03   \n",
       "std                              1.222246e+02   \n",
       "min                              6.647490e-32   \n",
       "25%                              1.498971e+03   \n",
       "50%                              1.595622e+03   \n",
       "75%                              1.602324e+03   \n",
       "max                              1.813084e+03   \n",
       "\n",
       "       primary_cleaner.state.floatbank8_b_level  \\\n",
       "count                               5290.000000   \n",
       "mean                                -500.273098   \n",
       "std                                   32.968307   \n",
       "min                                 -799.997015   \n",
       "25%                                 -500.703002   \n",
       "50%                                 -500.028514   \n",
       "75%                                 -499.293257   \n",
       "max                                 -142.527229   \n",
       "\n",
       "       primary_cleaner.state.floatbank8_c_air  \\\n",
       "count                            5.290000e+03   \n",
       "mean                             1.527272e+03   \n",
       "std                              1.225380e+02   \n",
       "min                              4.033736e-32   \n",
       "25%                              1.473230e+03   \n",
       "50%                              1.549595e+03   \n",
       "75%                              1.601144e+03   \n",
       "max                              1.715054e+03   \n",
       "\n",
       "       primary_cleaner.state.floatbank8_c_level  ...  \\\n",
       "count                               5290.000000  ...   \n",
       "mean                                -498.330680  ...   \n",
       "std                                   21.964876  ...   \n",
       "min                                 -799.960571  ...   \n",
       "25%                                 -501.018117  ...   \n",
       "50%                                 -500.017711  ...   \n",
       "75%                                 -498.994130  ...   \n",
       "max                                 -150.937035  ...   \n",
       "\n",
       "       secondary_cleaner.state.floatbank4_a_air  \\\n",
       "count                              5.290000e+03   \n",
       "mean                               1.632007e+01   \n",
       "std                                3.493583e+00   \n",
       "min                                1.079872e-16   \n",
       "25%                                1.403618e+01   \n",
       "50%                                1.700847e+01   \n",
       "75%                                1.803862e+01   \n",
       "max                                3.005180e+01   \n",
       "\n",
       "       secondary_cleaner.state.floatbank4_a_level  \\\n",
       "count                                 5290.000000   \n",
       "mean                                  -505.144570   \n",
       "std                                     31.427337   \n",
       "min                                   -799.798523   \n",
       "25%                                   -500.868258   \n",
       "50%                                   -500.115727   \n",
       "75%                                   -499.404224   \n",
       "max                                   -401.565212   \n",
       "\n",
       "       secondary_cleaner.state.floatbank4_b_air  \\\n",
       "count                              5.290000e+03   \n",
       "mean                               1.373544e+01   \n",
       "std                                3.430484e+00   \n",
       "min                                2.489718e-17   \n",
       "25%                                1.202862e+01   \n",
       "50%                                1.496486e+01   \n",
       "75%                                1.596213e+01   \n",
       "max                                3.126971e+01   \n",
       "\n",
       "       secondary_cleaner.state.floatbank4_b_level  \\\n",
       "count                                 5290.000000   \n",
       "mean                                  -463.349858   \n",
       "std                                     86.189107   \n",
       "min                                   -800.836914   \n",
       "25%                                   -500.323028   \n",
       "50%                                   -499.576513   \n",
       "75%                                   -400.933805   \n",
       "max                                     -6.506986   \n",
       "\n",
       "       secondary_cleaner.state.floatbank5_a_air  \\\n",
       "count                               5290.000000   \n",
       "mean                                  12.804186   \n",
       "std                                    3.026591   \n",
       "min                                    0.069227   \n",
       "25%                                   10.914838   \n",
       "50%                                   12.954182   \n",
       "75%                                   15.097528   \n",
       "max                                   25.258848   \n",
       "\n",
       "       secondary_cleaner.state.floatbank5_a_level  \\\n",
       "count                                 5290.000000   \n",
       "mean                                  -501.329122   \n",
       "std                                     17.951495   \n",
       "min                                   -797.323986   \n",
       "25%                                   -500.726841   \n",
       "50%                                   -499.990332   \n",
       "75%                                   -499.283191   \n",
       "max                                   -244.483566   \n",
       "\n",
       "       secondary_cleaner.state.floatbank5_b_air  \\\n",
       "count                               5290.000000   \n",
       "mean                                   9.881145   \n",
       "std                                    2.868205   \n",
       "min                                    0.528083   \n",
       "25%                                    8.036719   \n",
       "50%                                   10.004301   \n",
       "75%                                   11.997467   \n",
       "max                                   14.086866   \n",
       "\n",
       "       secondary_cleaner.state.floatbank5_b_level  \\\n",
       "count                                 5290.000000   \n",
       "mean                                  -495.663398   \n",
       "std                                     34.535007   \n",
       "min                                   -800.220337   \n",
       "25%                                   -500.194668   \n",
       "50%                                   -499.990535   \n",
       "75%                                   -499.719913   \n",
       "max                                   -137.740004   \n",
       "\n",
       "       secondary_cleaner.state.floatbank6_a_air  \\\n",
       "count                               5290.000000   \n",
       "mean                                  17.304935   \n",
       "std                                    4.536544   \n",
       "min                                   -0.079426   \n",
       "25%                                   13.997317   \n",
       "50%                                   16.014935   \n",
       "75%                                   21.020013   \n",
       "max                                   26.705889   \n",
       "\n",
       "       secondary_cleaner.state.floatbank6_a_level  \n",
       "count                                 5290.000000  \n",
       "mean                                  -501.793193  \n",
       "std                                     39.044215  \n",
       "min                                   -809.741464  \n",
       "25%                                   -500.690984  \n",
       "50%                                   -500.007126  \n",
       "75%                                   -499.373018  \n",
       "max                                   -123.307487  \n",
       "\n",
       "[8 rows x 52 columns]"
      ]
     },
     "metadata": {},
     "output_type": "display_data"
    },
    {
     "data": {
      "text/html": [
       "<div>\n",
       "<style scoped>\n",
       "    .dataframe tbody tr th:only-of-type {\n",
       "        vertical-align: middle;\n",
       "    }\n",
       "\n",
       "    .dataframe tbody tr th {\n",
       "        vertical-align: top;\n",
       "    }\n",
       "\n",
       "    .dataframe thead th {\n",
       "        text-align: right;\n",
       "    }\n",
       "</style>\n",
       "<table border=\"1\" class=\"dataframe\">\n",
       "  <thead>\n",
       "    <tr style=\"text-align: right;\">\n",
       "      <th></th>\n",
       "      <th>final.output.concentrate_ag</th>\n",
       "      <th>final.output.concentrate_pb</th>\n",
       "      <th>final.output.concentrate_sol</th>\n",
       "      <th>final.output.concentrate_au</th>\n",
       "      <th>final.output.recovery</th>\n",
       "      <th>final.output.tail_ag</th>\n",
       "      <th>final.output.tail_pb</th>\n",
       "      <th>final.output.tail_sol</th>\n",
       "      <th>final.output.tail_au</th>\n",
       "      <th>primary_cleaner.input.sulfate</th>\n",
       "      <th>...</th>\n",
       "      <th>secondary_cleaner.state.floatbank4_a_air</th>\n",
       "      <th>secondary_cleaner.state.floatbank4_a_level</th>\n",
       "      <th>secondary_cleaner.state.floatbank4_b_air</th>\n",
       "      <th>secondary_cleaner.state.floatbank4_b_level</th>\n",
       "      <th>secondary_cleaner.state.floatbank5_a_air</th>\n",
       "      <th>secondary_cleaner.state.floatbank5_a_level</th>\n",
       "      <th>secondary_cleaner.state.floatbank5_b_air</th>\n",
       "      <th>secondary_cleaner.state.floatbank5_b_level</th>\n",
       "      <th>secondary_cleaner.state.floatbank6_a_air</th>\n",
       "      <th>secondary_cleaner.state.floatbank6_a_level</th>\n",
       "    </tr>\n",
       "  </thead>\n",
       "  <tbody>\n",
       "    <tr>\n",
       "      <th>count</th>\n",
       "      <td>19438.000000</td>\n",
       "      <td>19438.000000</td>\n",
       "      <td>19228.000000</td>\n",
       "      <td>19439.000000</td>\n",
       "      <td>19439.000000</td>\n",
       "      <td>19438.000000</td>\n",
       "      <td>19338.000000</td>\n",
       "      <td>19433.000000</td>\n",
       "      <td>19439.000000</td>\n",
       "      <td>19415.000000</td>\n",
       "      <td>...</td>\n",
       "      <td>19433.000000</td>\n",
       "      <td>19438.000000</td>\n",
       "      <td>19438.000000</td>\n",
       "      <td>19438.000000</td>\n",
       "      <td>19438.000000</td>\n",
       "      <td>19438.000000</td>\n",
       "      <td>19438.000000</td>\n",
       "      <td>19438.000000</td>\n",
       "      <td>19437.000000</td>\n",
       "      <td>19438.000000</td>\n",
       "    </tr>\n",
       "    <tr>\n",
       "      <th>mean</th>\n",
       "      <td>5.168470</td>\n",
       "      <td>9.978895</td>\n",
       "      <td>9.501224</td>\n",
       "      <td>44.076513</td>\n",
       "      <td>67.050208</td>\n",
       "      <td>9.688589</td>\n",
       "      <td>2.705795</td>\n",
       "      <td>10.583728</td>\n",
       "      <td>3.042467</td>\n",
       "      <td>144.624774</td>\n",
       "      <td>...</td>\n",
       "      <td>18.987674</td>\n",
       "      <td>-485.894516</td>\n",
       "      <td>15.010366</td>\n",
       "      <td>-461.078636</td>\n",
       "      <td>15.694452</td>\n",
       "      <td>-488.684065</td>\n",
       "      <td>12.198224</td>\n",
       "      <td>-487.149827</td>\n",
       "      <td>18.959024</td>\n",
       "      <td>-505.436305</td>\n",
       "    </tr>\n",
       "    <tr>\n",
       "      <th>std</th>\n",
       "      <td>1.372348</td>\n",
       "      <td>1.669240</td>\n",
       "      <td>2.787537</td>\n",
       "      <td>5.129784</td>\n",
       "      <td>10.125840</td>\n",
       "      <td>2.328642</td>\n",
       "      <td>0.949077</td>\n",
       "      <td>2.868782</td>\n",
       "      <td>0.922808</td>\n",
       "      <td>44.464071</td>\n",
       "      <td>...</td>\n",
       "      <td>5.411058</td>\n",
       "      <td>47.758570</td>\n",
       "      <td>4.890228</td>\n",
       "      <td>67.405524</td>\n",
       "      <td>5.510974</td>\n",
       "      <td>34.533396</td>\n",
       "      <td>5.333024</td>\n",
       "      <td>38.347312</td>\n",
       "      <td>5.550498</td>\n",
       "      <td>37.689057</td>\n",
       "    </tr>\n",
       "    <tr>\n",
       "      <th>min</th>\n",
       "      <td>0.000000</td>\n",
       "      <td>0.000000</td>\n",
       "      <td>0.000000</td>\n",
       "      <td>0.000000</td>\n",
       "      <td>0.000000</td>\n",
       "      <td>0.000000</td>\n",
       "      <td>0.000000</td>\n",
       "      <td>0.000000</td>\n",
       "      <td>0.000000</td>\n",
       "      <td>0.003112</td>\n",
       "      <td>...</td>\n",
       "      <td>0.000000</td>\n",
       "      <td>-799.798523</td>\n",
       "      <td>0.000000</td>\n",
       "      <td>-800.836914</td>\n",
       "      <td>-0.372054</td>\n",
       "      <td>-797.323986</td>\n",
       "      <td>0.528083</td>\n",
       "      <td>-800.220337</td>\n",
       "      <td>-0.079426</td>\n",
       "      <td>-809.741464</td>\n",
       "    </tr>\n",
       "    <tr>\n",
       "      <th>25%</th>\n",
       "      <td>4.251240</td>\n",
       "      <td>9.137262</td>\n",
       "      <td>7.722820</td>\n",
       "      <td>43.402215</td>\n",
       "      <td>63.299712</td>\n",
       "      <td>8.062878</td>\n",
       "      <td>2.040119</td>\n",
       "      <td>8.938947</td>\n",
       "      <td>2.461138</td>\n",
       "      <td>114.107029</td>\n",
       "      <td>...</td>\n",
       "      <td>14.975734</td>\n",
       "      <td>-500.704892</td>\n",
       "      <td>11.940294</td>\n",
       "      <td>-500.187742</td>\n",
       "      <td>10.988606</td>\n",
       "      <td>-500.458467</td>\n",
       "      <td>8.971105</td>\n",
       "      <td>-500.129462</td>\n",
       "      <td>14.983037</td>\n",
       "      <td>-500.728067</td>\n",
       "    </tr>\n",
       "    <tr>\n",
       "      <th>50%</th>\n",
       "      <td>5.066094</td>\n",
       "      <td>10.102433</td>\n",
       "      <td>9.218961</td>\n",
       "      <td>45.011244</td>\n",
       "      <td>68.172738</td>\n",
       "      <td>9.743623</td>\n",
       "      <td>2.748730</td>\n",
       "      <td>10.622456</td>\n",
       "      <td>2.984909</td>\n",
       "      <td>143.232103</td>\n",
       "      <td>...</td>\n",
       "      <td>18.017481</td>\n",
       "      <td>-499.837793</td>\n",
       "      <td>14.971014</td>\n",
       "      <td>-499.459786</td>\n",
       "      <td>15.000036</td>\n",
       "      <td>-499.802605</td>\n",
       "      <td>11.019433</td>\n",
       "      <td>-499.935317</td>\n",
       "      <td>19.960541</td>\n",
       "      <td>-500.048400</td>\n",
       "    </tr>\n",
       "    <tr>\n",
       "      <th>75%</th>\n",
       "      <td>5.895527</td>\n",
       "      <td>11.035769</td>\n",
       "      <td>10.947813</td>\n",
       "      <td>46.275313</td>\n",
       "      <td>72.686642</td>\n",
       "      <td>11.134294</td>\n",
       "      <td>3.333216</td>\n",
       "      <td>12.104271</td>\n",
       "      <td>3.571351</td>\n",
       "      <td>175.075656</td>\n",
       "      <td>...</td>\n",
       "      <td>23.012470</td>\n",
       "      <td>-498.249730</td>\n",
       "      <td>19.034162</td>\n",
       "      <td>-400.118106</td>\n",
       "      <td>18.026190</td>\n",
       "      <td>-498.384187</td>\n",
       "      <td>14.019088</td>\n",
       "      <td>-499.436708</td>\n",
       "      <td>24.003170</td>\n",
       "      <td>-499.495378</td>\n",
       "    </tr>\n",
       "    <tr>\n",
       "      <th>max</th>\n",
       "      <td>16.001945</td>\n",
       "      <td>17.031899</td>\n",
       "      <td>19.615720</td>\n",
       "      <td>52.756638</td>\n",
       "      <td>100.000000</td>\n",
       "      <td>19.552149</td>\n",
       "      <td>5.804178</td>\n",
       "      <td>22.317730</td>\n",
       "      <td>8.245022</td>\n",
       "      <td>265.983123</td>\n",
       "      <td>...</td>\n",
       "      <td>30.115735</td>\n",
       "      <td>-245.239184</td>\n",
       "      <td>31.269706</td>\n",
       "      <td>-6.506986</td>\n",
       "      <td>43.709931</td>\n",
       "      <td>-244.483566</td>\n",
       "      <td>27.926001</td>\n",
       "      <td>-137.740004</td>\n",
       "      <td>32.188906</td>\n",
       "      <td>-104.427459</td>\n",
       "    </tr>\n",
       "  </tbody>\n",
       "</table>\n",
       "<p>8 rows × 86 columns</p>\n",
       "</div>"
      ],
      "text/plain": [
       "       final.output.concentrate_ag  final.output.concentrate_pb  \\\n",
       "count                 19438.000000                 19438.000000   \n",
       "mean                      5.168470                     9.978895   \n",
       "std                       1.372348                     1.669240   \n",
       "min                       0.000000                     0.000000   \n",
       "25%                       4.251240                     9.137262   \n",
       "50%                       5.066094                    10.102433   \n",
       "75%                       5.895527                    11.035769   \n",
       "max                      16.001945                    17.031899   \n",
       "\n",
       "       final.output.concentrate_sol  final.output.concentrate_au  \\\n",
       "count                  19228.000000                 19439.000000   \n",
       "mean                       9.501224                    44.076513   \n",
       "std                        2.787537                     5.129784   \n",
       "min                        0.000000                     0.000000   \n",
       "25%                        7.722820                    43.402215   \n",
       "50%                        9.218961                    45.011244   \n",
       "75%                       10.947813                    46.275313   \n",
       "max                       19.615720                    52.756638   \n",
       "\n",
       "       final.output.recovery  final.output.tail_ag  final.output.tail_pb  \\\n",
       "count           19439.000000          19438.000000          19338.000000   \n",
       "mean               67.050208              9.688589              2.705795   \n",
       "std                10.125840              2.328642              0.949077   \n",
       "min                 0.000000              0.000000              0.000000   \n",
       "25%                63.299712              8.062878              2.040119   \n",
       "50%                68.172738              9.743623              2.748730   \n",
       "75%                72.686642             11.134294              3.333216   \n",
       "max               100.000000             19.552149              5.804178   \n",
       "\n",
       "       final.output.tail_sol  final.output.tail_au  \\\n",
       "count           19433.000000          19439.000000   \n",
       "mean               10.583728              3.042467   \n",
       "std                 2.868782              0.922808   \n",
       "min                 0.000000              0.000000   \n",
       "25%                 8.938947              2.461138   \n",
       "50%                10.622456              2.984909   \n",
       "75%                12.104271              3.571351   \n",
       "max                22.317730              8.245022   \n",
       "\n",
       "       primary_cleaner.input.sulfate  ...  \\\n",
       "count                   19415.000000  ...   \n",
       "mean                      144.624774  ...   \n",
       "std                        44.464071  ...   \n",
       "min                         0.003112  ...   \n",
       "25%                       114.107029  ...   \n",
       "50%                       143.232103  ...   \n",
       "75%                       175.075656  ...   \n",
       "max                       265.983123  ...   \n",
       "\n",
       "       secondary_cleaner.state.floatbank4_a_air  \\\n",
       "count                              19433.000000   \n",
       "mean                                  18.987674   \n",
       "std                                    5.411058   \n",
       "min                                    0.000000   \n",
       "25%                                   14.975734   \n",
       "50%                                   18.017481   \n",
       "75%                                   23.012470   \n",
       "max                                   30.115735   \n",
       "\n",
       "       secondary_cleaner.state.floatbank4_a_level  \\\n",
       "count                                19438.000000   \n",
       "mean                                  -485.894516   \n",
       "std                                     47.758570   \n",
       "min                                   -799.798523   \n",
       "25%                                   -500.704892   \n",
       "50%                                   -499.837793   \n",
       "75%                                   -498.249730   \n",
       "max                                   -245.239184   \n",
       "\n",
       "       secondary_cleaner.state.floatbank4_b_air  \\\n",
       "count                              19438.000000   \n",
       "mean                                  15.010366   \n",
       "std                                    4.890228   \n",
       "min                                    0.000000   \n",
       "25%                                   11.940294   \n",
       "50%                                   14.971014   \n",
       "75%                                   19.034162   \n",
       "max                                   31.269706   \n",
       "\n",
       "       secondary_cleaner.state.floatbank4_b_level  \\\n",
       "count                                19438.000000   \n",
       "mean                                  -461.078636   \n",
       "std                                     67.405524   \n",
       "min                                   -800.836914   \n",
       "25%                                   -500.187742   \n",
       "50%                                   -499.459786   \n",
       "75%                                   -400.118106   \n",
       "max                                     -6.506986   \n",
       "\n",
       "       secondary_cleaner.state.floatbank5_a_air  \\\n",
       "count                              19438.000000   \n",
       "mean                                  15.694452   \n",
       "std                                    5.510974   \n",
       "min                                   -0.372054   \n",
       "25%                                   10.988606   \n",
       "50%                                   15.000036   \n",
       "75%                                   18.026190   \n",
       "max                                   43.709931   \n",
       "\n",
       "       secondary_cleaner.state.floatbank5_a_level  \\\n",
       "count                                19438.000000   \n",
       "mean                                  -488.684065   \n",
       "std                                     34.533396   \n",
       "min                                   -797.323986   \n",
       "25%                                   -500.458467   \n",
       "50%                                   -499.802605   \n",
       "75%                                   -498.384187   \n",
       "max                                   -244.483566   \n",
       "\n",
       "       secondary_cleaner.state.floatbank5_b_air  \\\n",
       "count                              19438.000000   \n",
       "mean                                  12.198224   \n",
       "std                                    5.333024   \n",
       "min                                    0.528083   \n",
       "25%                                    8.971105   \n",
       "50%                                   11.019433   \n",
       "75%                                   14.019088   \n",
       "max                                   27.926001   \n",
       "\n",
       "       secondary_cleaner.state.floatbank5_b_level  \\\n",
       "count                                19438.000000   \n",
       "mean                                  -487.149827   \n",
       "std                                     38.347312   \n",
       "min                                   -800.220337   \n",
       "25%                                   -500.129462   \n",
       "50%                                   -499.935317   \n",
       "75%                                   -499.436708   \n",
       "max                                   -137.740004   \n",
       "\n",
       "       secondary_cleaner.state.floatbank6_a_air  \\\n",
       "count                              19437.000000   \n",
       "mean                                  18.959024   \n",
       "std                                    5.550498   \n",
       "min                                   -0.079426   \n",
       "25%                                   14.983037   \n",
       "50%                                   19.960541   \n",
       "75%                                   24.003170   \n",
       "max                                   32.188906   \n",
       "\n",
       "       secondary_cleaner.state.floatbank6_a_level  \n",
       "count                                19438.000000  \n",
       "mean                                  -505.436305  \n",
       "std                                     37.689057  \n",
       "min                                   -809.741464  \n",
       "25%                                   -500.728067  \n",
       "50%                                   -500.048400  \n",
       "75%                                   -499.495378  \n",
       "max                                   -104.427459  \n",
       "\n",
       "[8 rows x 86 columns]"
      ]
     },
     "metadata": {},
     "output_type": "display_data"
    }
   ],
   "source": [
    "for table in (df_train,df_test, df_full):\n",
    "    def info(table):\n",
    "        display(table.describe())\n",
    "    info(table) "
   ]
  },
  {
   "cell_type": "markdown",
   "metadata": {},
   "source": [
    "There are zero values in the tables, let's study them in more detail."
   ]
  },
  {
   "cell_type": "code",
   "execution_count": 5,
   "metadata": {},
   "outputs": [
    {
     "name": "stdout",
     "output_type": "stream",
     "text": [
      "Number of null values: date                                          0.000000\n",
      "final.output.concentrate_ag                   0.000071\n",
      "final.output.concentrate_pb                   0.000071\n",
      "final.output.concentrate_sol                  0.014913\n",
      "final.output.concentrate_au                   0.000000\n",
      "                                                ...   \n",
      "secondary_cleaner.state.floatbank5_a_level    0.000071\n",
      "secondary_cleaner.state.floatbank5_b_air      0.000071\n",
      "secondary_cleaner.state.floatbank5_b_level    0.000071\n",
      "secondary_cleaner.state.floatbank6_a_air      0.000141\n",
      "secondary_cleaner.state.floatbank6_a_level    0.000071\n",
      "Length: 87, dtype: float64\n",
      "====================================================================================================\n",
      "Number of duplicates: 0\n",
      "Number of null values: date                                          0.000000\n",
      "primary_cleaner.input.sulfate                 0.000756\n",
      "primary_cleaner.input.depressant              0.000945\n",
      "primary_cleaner.input.feed_size               0.000000\n",
      "primary_cleaner.input.xanthate                0.000756\n",
      "primary_cleaner.state.floatbank8_a_air        0.000000\n",
      "primary_cleaner.state.floatbank8_a_level      0.000000\n",
      "primary_cleaner.state.floatbank8_b_air        0.000000\n",
      "primary_cleaner.state.floatbank8_b_level      0.000000\n",
      "primary_cleaner.state.floatbank8_c_air        0.000000\n",
      "primary_cleaner.state.floatbank8_c_level      0.000000\n",
      "primary_cleaner.state.floatbank8_d_air        0.000000\n",
      "primary_cleaner.state.floatbank8_d_level      0.000000\n",
      "rougher.input.feed_ag                         0.000000\n",
      "rougher.input.feed_pb                         0.000000\n",
      "rougher.input.feed_rate                       0.000567\n",
      "rougher.input.feed_size                       0.000189\n",
      "rougher.input.feed_sol                        0.003970\n",
      "rougher.input.feed_au                         0.000000\n",
      "rougher.input.floatbank10_sulfate             0.000945\n",
      "rougher.input.floatbank10_xanthate            0.000000\n",
      "rougher.input.floatbank11_sulfate             0.001512\n",
      "rougher.input.floatbank11_xanthate            0.004726\n",
      "rougher.state.floatbank10_a_air               0.000000\n",
      "rougher.state.floatbank10_a_level             0.000000\n",
      "rougher.state.floatbank10_b_air               0.000000\n",
      "rougher.state.floatbank10_b_level             0.000000\n",
      "rougher.state.floatbank10_c_air               0.000000\n",
      "rougher.state.floatbank10_c_level             0.000000\n",
      "rougher.state.floatbank10_d_air               0.000000\n",
      "rougher.state.floatbank10_d_level             0.000000\n",
      "rougher.state.floatbank10_e_air               0.000000\n",
      "rougher.state.floatbank10_e_level             0.000000\n",
      "rougher.state.floatbank10_f_air               0.000000\n",
      "rougher.state.floatbank10_f_level             0.000000\n",
      "secondary_cleaner.state.floatbank2_a_air      0.000567\n",
      "secondary_cleaner.state.floatbank2_a_level    0.000000\n",
      "secondary_cleaner.state.floatbank2_b_air      0.000378\n",
      "secondary_cleaner.state.floatbank2_b_level    0.000000\n",
      "secondary_cleaner.state.floatbank3_a_air      0.001701\n",
      "secondary_cleaner.state.floatbank3_a_level    0.000000\n",
      "secondary_cleaner.state.floatbank3_b_air      0.000000\n",
      "secondary_cleaner.state.floatbank3_b_level    0.000000\n",
      "secondary_cleaner.state.floatbank4_a_air      0.000000\n",
      "secondary_cleaner.state.floatbank4_a_level    0.000000\n",
      "secondary_cleaner.state.floatbank4_b_air      0.000000\n",
      "secondary_cleaner.state.floatbank4_b_level    0.000000\n",
      "secondary_cleaner.state.floatbank5_a_air      0.000000\n",
      "secondary_cleaner.state.floatbank5_a_level    0.000000\n",
      "secondary_cleaner.state.floatbank5_b_air      0.000000\n",
      "secondary_cleaner.state.floatbank5_b_level    0.000000\n",
      "secondary_cleaner.state.floatbank6_a_air      0.000000\n",
      "secondary_cleaner.state.floatbank6_a_level    0.000000\n",
      "dtype: float64\n",
      "====================================================================================================\n",
      "Number of duplicates: 0\n",
      "Number of null values: date                                          0.000000\n",
      "final.output.concentrate_ag                   0.000051\n",
      "final.output.concentrate_pb                   0.000051\n",
      "final.output.concentrate_sol                  0.010854\n",
      "final.output.concentrate_au                   0.000000\n",
      "                                                ...   \n",
      "secondary_cleaner.state.floatbank5_a_level    0.000051\n",
      "secondary_cleaner.state.floatbank5_b_air      0.000051\n",
      "secondary_cleaner.state.floatbank5_b_level    0.000051\n",
      "secondary_cleaner.state.floatbank6_a_air      0.000103\n",
      "secondary_cleaner.state.floatbank6_a_level    0.000051\n",
      "Length: 87, dtype: float64\n",
      "====================================================================================================\n",
      "Number of duplicates: 0\n"
     ]
    }
   ],
   "source": [
    "for table in (df_train,df_test, df_full):\n",
    "    def info(table):\n",
    "        print(f'Number of null values: {table.isna().mean()}')\n",
    "        print(100*'=')\n",
    "        print(f'Number of duplicates: {table.duplicated().sum()}')\n",
    "    info(table) "
   ]
  },
  {
   "cell_type": "markdown",
   "metadata": {},
   "source": [
    "There are no duplicates in the tables, but Nan values are present. In data analysis, it will be necessary to study them."
   ]
  },
  {
   "cell_type": "code",
   "execution_count": 6,
   "metadata": {},
   "outputs": [
    {
     "data": {
      "text/html": [
       "<div>\n",
       "<style scoped>\n",
       "    .dataframe tbody tr th:only-of-type {\n",
       "        vertical-align: middle;\n",
       "    }\n",
       "\n",
       "    .dataframe tbody tr th {\n",
       "        vertical-align: top;\n",
       "    }\n",
       "\n",
       "    .dataframe thead th {\n",
       "        text-align: right;\n",
       "    }\n",
       "</style>\n",
       "<table border=\"1\" class=\"dataframe\">\n",
       "  <thead>\n",
       "    <tr style=\"text-align: right;\">\n",
       "      <th></th>\n",
       "      <th>date</th>\n",
       "      <th>final.output.concentrate_ag</th>\n",
       "      <th>final.output.concentrate_pb</th>\n",
       "      <th>final.output.concentrate_sol</th>\n",
       "      <th>final.output.concentrate_au</th>\n",
       "      <th>final.output.recovery</th>\n",
       "      <th>final.output.tail_ag</th>\n",
       "      <th>final.output.tail_pb</th>\n",
       "      <th>final.output.tail_sol</th>\n",
       "      <th>final.output.tail_au</th>\n",
       "      <th>...</th>\n",
       "      <th>secondary_cleaner.state.floatbank4_a_air</th>\n",
       "      <th>secondary_cleaner.state.floatbank4_a_level</th>\n",
       "      <th>secondary_cleaner.state.floatbank4_b_air</th>\n",
       "      <th>secondary_cleaner.state.floatbank4_b_level</th>\n",
       "      <th>secondary_cleaner.state.floatbank5_a_air</th>\n",
       "      <th>secondary_cleaner.state.floatbank5_a_level</th>\n",
       "      <th>secondary_cleaner.state.floatbank5_b_air</th>\n",
       "      <th>secondary_cleaner.state.floatbank5_b_level</th>\n",
       "      <th>secondary_cleaner.state.floatbank6_a_air</th>\n",
       "      <th>secondary_cleaner.state.floatbank6_a_level</th>\n",
       "    </tr>\n",
       "  </thead>\n",
       "  <tbody>\n",
       "    <tr>\n",
       "      <th>0</th>\n",
       "      <td>2016-01-15 00:00:00</td>\n",
       "      <td>6.055403</td>\n",
       "      <td>9.889648</td>\n",
       "      <td>5.507324</td>\n",
       "      <td>42.192020</td>\n",
       "      <td>70.541216</td>\n",
       "      <td>10.411962</td>\n",
       "      <td>0.895447</td>\n",
       "      <td>16.904297</td>\n",
       "      <td>2.143149</td>\n",
       "      <td>...</td>\n",
       "      <td>14.016835</td>\n",
       "      <td>-502.488007</td>\n",
       "      <td>12.099931</td>\n",
       "      <td>-504.715942</td>\n",
       "      <td>9.925633</td>\n",
       "      <td>-498.310211</td>\n",
       "      <td>8.079666</td>\n",
       "      <td>-500.470978</td>\n",
       "      <td>14.151341</td>\n",
       "      <td>-605.841980</td>\n",
       "    </tr>\n",
       "    <tr>\n",
       "      <th>1</th>\n",
       "      <td>2016-01-15 01:00:00</td>\n",
       "      <td>6.029369</td>\n",
       "      <td>9.968944</td>\n",
       "      <td>5.257781</td>\n",
       "      <td>42.701629</td>\n",
       "      <td>69.266198</td>\n",
       "      <td>10.462676</td>\n",
       "      <td>0.927452</td>\n",
       "      <td>16.634514</td>\n",
       "      <td>2.224930</td>\n",
       "      <td>...</td>\n",
       "      <td>13.992281</td>\n",
       "      <td>-505.503262</td>\n",
       "      <td>11.950531</td>\n",
       "      <td>-501.331529</td>\n",
       "      <td>10.039245</td>\n",
       "      <td>-500.169983</td>\n",
       "      <td>7.984757</td>\n",
       "      <td>-500.582168</td>\n",
       "      <td>13.998353</td>\n",
       "      <td>-599.787184</td>\n",
       "    </tr>\n",
       "    <tr>\n",
       "      <th>2</th>\n",
       "      <td>2016-01-15 02:00:00</td>\n",
       "      <td>6.055926</td>\n",
       "      <td>10.213995</td>\n",
       "      <td>5.383759</td>\n",
       "      <td>42.657501</td>\n",
       "      <td>68.116445</td>\n",
       "      <td>10.507046</td>\n",
       "      <td>0.953716</td>\n",
       "      <td>16.208849</td>\n",
       "      <td>2.257889</td>\n",
       "      <td>...</td>\n",
       "      <td>14.015015</td>\n",
       "      <td>-502.520901</td>\n",
       "      <td>11.912783</td>\n",
       "      <td>-501.133383</td>\n",
       "      <td>10.070913</td>\n",
       "      <td>-500.129135</td>\n",
       "      <td>8.013877</td>\n",
       "      <td>-500.517572</td>\n",
       "      <td>14.028663</td>\n",
       "      <td>-601.427363</td>\n",
       "    </tr>\n",
       "    <tr>\n",
       "      <th>3</th>\n",
       "      <td>2016-01-15 03:00:00</td>\n",
       "      <td>6.047977</td>\n",
       "      <td>9.977019</td>\n",
       "      <td>4.858634</td>\n",
       "      <td>42.689819</td>\n",
       "      <td>68.347543</td>\n",
       "      <td>10.422762</td>\n",
       "      <td>0.883763</td>\n",
       "      <td>16.532835</td>\n",
       "      <td>2.146849</td>\n",
       "      <td>...</td>\n",
       "      <td>14.036510</td>\n",
       "      <td>-500.857308</td>\n",
       "      <td>11.999550</td>\n",
       "      <td>-501.193686</td>\n",
       "      <td>9.970366</td>\n",
       "      <td>-499.201640</td>\n",
       "      <td>7.977324</td>\n",
       "      <td>-500.255908</td>\n",
       "      <td>14.005551</td>\n",
       "      <td>-599.996129</td>\n",
       "    </tr>\n",
       "    <tr>\n",
       "      <th>4</th>\n",
       "      <td>2016-01-15 04:00:00</td>\n",
       "      <td>6.148599</td>\n",
       "      <td>10.142511</td>\n",
       "      <td>4.939416</td>\n",
       "      <td>42.774141</td>\n",
       "      <td>66.927016</td>\n",
       "      <td>10.360302</td>\n",
       "      <td>0.792826</td>\n",
       "      <td>16.525686</td>\n",
       "      <td>2.055292</td>\n",
       "      <td>...</td>\n",
       "      <td>14.027298</td>\n",
       "      <td>-499.838632</td>\n",
       "      <td>11.953070</td>\n",
       "      <td>-501.053894</td>\n",
       "      <td>9.925709</td>\n",
       "      <td>-501.686727</td>\n",
       "      <td>7.894242</td>\n",
       "      <td>-500.356035</td>\n",
       "      <td>13.996647</td>\n",
       "      <td>-601.496691</td>\n",
       "    </tr>\n",
       "  </tbody>\n",
       "</table>\n",
       "<p>5 rows × 87 columns</p>\n",
       "</div>"
      ],
      "text/plain": [
       "                  date  final.output.concentrate_ag  \\\n",
       "0  2016-01-15 00:00:00                     6.055403   \n",
       "1  2016-01-15 01:00:00                     6.029369   \n",
       "2  2016-01-15 02:00:00                     6.055926   \n",
       "3  2016-01-15 03:00:00                     6.047977   \n",
       "4  2016-01-15 04:00:00                     6.148599   \n",
       "\n",
       "   final.output.concentrate_pb  final.output.concentrate_sol  \\\n",
       "0                     9.889648                      5.507324   \n",
       "1                     9.968944                      5.257781   \n",
       "2                    10.213995                      5.383759   \n",
       "3                     9.977019                      4.858634   \n",
       "4                    10.142511                      4.939416   \n",
       "\n",
       "   final.output.concentrate_au  final.output.recovery  final.output.tail_ag  \\\n",
       "0                    42.192020              70.541216             10.411962   \n",
       "1                    42.701629              69.266198             10.462676   \n",
       "2                    42.657501              68.116445             10.507046   \n",
       "3                    42.689819              68.347543             10.422762   \n",
       "4                    42.774141              66.927016             10.360302   \n",
       "\n",
       "   final.output.tail_pb  final.output.tail_sol  final.output.tail_au  ...  \\\n",
       "0              0.895447              16.904297              2.143149  ...   \n",
       "1              0.927452              16.634514              2.224930  ...   \n",
       "2              0.953716              16.208849              2.257889  ...   \n",
       "3              0.883763              16.532835              2.146849  ...   \n",
       "4              0.792826              16.525686              2.055292  ...   \n",
       "\n",
       "   secondary_cleaner.state.floatbank4_a_air  \\\n",
       "0                                 14.016835   \n",
       "1                                 13.992281   \n",
       "2                                 14.015015   \n",
       "3                                 14.036510   \n",
       "4                                 14.027298   \n",
       "\n",
       "   secondary_cleaner.state.floatbank4_a_level  \\\n",
       "0                                 -502.488007   \n",
       "1                                 -505.503262   \n",
       "2                                 -502.520901   \n",
       "3                                 -500.857308   \n",
       "4                                 -499.838632   \n",
       "\n",
       "   secondary_cleaner.state.floatbank4_b_air  \\\n",
       "0                                 12.099931   \n",
       "1                                 11.950531   \n",
       "2                                 11.912783   \n",
       "3                                 11.999550   \n",
       "4                                 11.953070   \n",
       "\n",
       "   secondary_cleaner.state.floatbank4_b_level  \\\n",
       "0                                 -504.715942   \n",
       "1                                 -501.331529   \n",
       "2                                 -501.133383   \n",
       "3                                 -501.193686   \n",
       "4                                 -501.053894   \n",
       "\n",
       "   secondary_cleaner.state.floatbank5_a_air  \\\n",
       "0                                  9.925633   \n",
       "1                                 10.039245   \n",
       "2                                 10.070913   \n",
       "3                                  9.970366   \n",
       "4                                  9.925709   \n",
       "\n",
       "   secondary_cleaner.state.floatbank5_a_level  \\\n",
       "0                                 -498.310211   \n",
       "1                                 -500.169983   \n",
       "2                                 -500.129135   \n",
       "3                                 -499.201640   \n",
       "4                                 -501.686727   \n",
       "\n",
       "   secondary_cleaner.state.floatbank5_b_air  \\\n",
       "0                                  8.079666   \n",
       "1                                  7.984757   \n",
       "2                                  8.013877   \n",
       "3                                  7.977324   \n",
       "4                                  7.894242   \n",
       "\n",
       "   secondary_cleaner.state.floatbank5_b_level  \\\n",
       "0                                 -500.470978   \n",
       "1                                 -500.582168   \n",
       "2                                 -500.517572   \n",
       "3                                 -500.255908   \n",
       "4                                 -500.356035   \n",
       "\n",
       "   secondary_cleaner.state.floatbank6_a_air  \\\n",
       "0                                 14.151341   \n",
       "1                                 13.998353   \n",
       "2                                 14.028663   \n",
       "3                                 14.005551   \n",
       "4                                 13.996647   \n",
       "\n",
       "   secondary_cleaner.state.floatbank6_a_level  \n",
       "0                                 -605.841980  \n",
       "1                                 -599.787184  \n",
       "2                                 -601.427363  \n",
       "3                                 -599.996129  \n",
       "4                                 -601.496691  \n",
       "\n",
       "[5 rows x 87 columns]"
      ]
     },
     "metadata": {},
     "output_type": "display_data"
    },
    {
     "data": {
      "text/html": [
       "<div>\n",
       "<style scoped>\n",
       "    .dataframe tbody tr th:only-of-type {\n",
       "        vertical-align: middle;\n",
       "    }\n",
       "\n",
       "    .dataframe tbody tr th {\n",
       "        vertical-align: top;\n",
       "    }\n",
       "\n",
       "    .dataframe thead th {\n",
       "        text-align: right;\n",
       "    }\n",
       "</style>\n",
       "<table border=\"1\" class=\"dataframe\">\n",
       "  <thead>\n",
       "    <tr style=\"text-align: right;\">\n",
       "      <th></th>\n",
       "      <th>date</th>\n",
       "      <th>primary_cleaner.input.sulfate</th>\n",
       "      <th>primary_cleaner.input.depressant</th>\n",
       "      <th>primary_cleaner.input.feed_size</th>\n",
       "      <th>primary_cleaner.input.xanthate</th>\n",
       "      <th>primary_cleaner.state.floatbank8_a_air</th>\n",
       "      <th>primary_cleaner.state.floatbank8_a_level</th>\n",
       "      <th>primary_cleaner.state.floatbank8_b_air</th>\n",
       "      <th>primary_cleaner.state.floatbank8_b_level</th>\n",
       "      <th>primary_cleaner.state.floatbank8_c_air</th>\n",
       "      <th>...</th>\n",
       "      <th>secondary_cleaner.state.floatbank4_a_air</th>\n",
       "      <th>secondary_cleaner.state.floatbank4_a_level</th>\n",
       "      <th>secondary_cleaner.state.floatbank4_b_air</th>\n",
       "      <th>secondary_cleaner.state.floatbank4_b_level</th>\n",
       "      <th>secondary_cleaner.state.floatbank5_a_air</th>\n",
       "      <th>secondary_cleaner.state.floatbank5_a_level</th>\n",
       "      <th>secondary_cleaner.state.floatbank5_b_air</th>\n",
       "      <th>secondary_cleaner.state.floatbank5_b_level</th>\n",
       "      <th>secondary_cleaner.state.floatbank6_a_air</th>\n",
       "      <th>secondary_cleaner.state.floatbank6_a_level</th>\n",
       "    </tr>\n",
       "  </thead>\n",
       "  <tbody>\n",
       "    <tr>\n",
       "      <th>0</th>\n",
       "      <td>2016-09-01 00:59:59</td>\n",
       "      <td>210.800909</td>\n",
       "      <td>14.993118</td>\n",
       "      <td>8.080000</td>\n",
       "      <td>1.005021</td>\n",
       "      <td>1398.981301</td>\n",
       "      <td>-500.225577</td>\n",
       "      <td>1399.144926</td>\n",
       "      <td>-499.919735</td>\n",
       "      <td>1400.102998</td>\n",
       "      <td>...</td>\n",
       "      <td>12.023554</td>\n",
       "      <td>-497.795834</td>\n",
       "      <td>8.016656</td>\n",
       "      <td>-501.289139</td>\n",
       "      <td>7.946562</td>\n",
       "      <td>-432.317850</td>\n",
       "      <td>4.872511</td>\n",
       "      <td>-500.037437</td>\n",
       "      <td>26.705889</td>\n",
       "      <td>-499.709414</td>\n",
       "    </tr>\n",
       "    <tr>\n",
       "      <th>1</th>\n",
       "      <td>2016-09-01 01:59:59</td>\n",
       "      <td>215.392455</td>\n",
       "      <td>14.987471</td>\n",
       "      <td>8.080000</td>\n",
       "      <td>0.990469</td>\n",
       "      <td>1398.777912</td>\n",
       "      <td>-500.057435</td>\n",
       "      <td>1398.055362</td>\n",
       "      <td>-499.778182</td>\n",
       "      <td>1396.151033</td>\n",
       "      <td>...</td>\n",
       "      <td>12.058140</td>\n",
       "      <td>-498.695773</td>\n",
       "      <td>8.130979</td>\n",
       "      <td>-499.634209</td>\n",
       "      <td>7.958270</td>\n",
       "      <td>-525.839648</td>\n",
       "      <td>4.878850</td>\n",
       "      <td>-500.162375</td>\n",
       "      <td>25.019940</td>\n",
       "      <td>-499.819438</td>\n",
       "    </tr>\n",
       "    <tr>\n",
       "      <th>2</th>\n",
       "      <td>2016-09-01 02:59:59</td>\n",
       "      <td>215.259946</td>\n",
       "      <td>12.884934</td>\n",
       "      <td>7.786667</td>\n",
       "      <td>0.996043</td>\n",
       "      <td>1398.493666</td>\n",
       "      <td>-500.868360</td>\n",
       "      <td>1398.860436</td>\n",
       "      <td>-499.764529</td>\n",
       "      <td>1398.075709</td>\n",
       "      <td>...</td>\n",
       "      <td>11.962366</td>\n",
       "      <td>-498.767484</td>\n",
       "      <td>8.096893</td>\n",
       "      <td>-500.827423</td>\n",
       "      <td>8.071056</td>\n",
       "      <td>-500.801673</td>\n",
       "      <td>4.905125</td>\n",
       "      <td>-499.828510</td>\n",
       "      <td>24.994862</td>\n",
       "      <td>-500.622559</td>\n",
       "    </tr>\n",
       "    <tr>\n",
       "      <th>3</th>\n",
       "      <td>2016-09-01 03:59:59</td>\n",
       "      <td>215.336236</td>\n",
       "      <td>12.006805</td>\n",
       "      <td>7.640000</td>\n",
       "      <td>0.863514</td>\n",
       "      <td>1399.618111</td>\n",
       "      <td>-498.863574</td>\n",
       "      <td>1397.440120</td>\n",
       "      <td>-499.211024</td>\n",
       "      <td>1400.129303</td>\n",
       "      <td>...</td>\n",
       "      <td>12.033091</td>\n",
       "      <td>-498.350935</td>\n",
       "      <td>8.074946</td>\n",
       "      <td>-499.474407</td>\n",
       "      <td>7.897085</td>\n",
       "      <td>-500.868509</td>\n",
       "      <td>4.931400</td>\n",
       "      <td>-499.963623</td>\n",
       "      <td>24.948919</td>\n",
       "      <td>-498.709987</td>\n",
       "    </tr>\n",
       "    <tr>\n",
       "      <th>4</th>\n",
       "      <td>2016-09-01 04:59:59</td>\n",
       "      <td>199.099327</td>\n",
       "      <td>10.682530</td>\n",
       "      <td>7.530000</td>\n",
       "      <td>0.805575</td>\n",
       "      <td>1401.268123</td>\n",
       "      <td>-500.808305</td>\n",
       "      <td>1398.128818</td>\n",
       "      <td>-499.504543</td>\n",
       "      <td>1402.172226</td>\n",
       "      <td>...</td>\n",
       "      <td>12.025367</td>\n",
       "      <td>-500.786497</td>\n",
       "      <td>8.054678</td>\n",
       "      <td>-500.397500</td>\n",
       "      <td>8.107890</td>\n",
       "      <td>-509.526725</td>\n",
       "      <td>4.957674</td>\n",
       "      <td>-500.360026</td>\n",
       "      <td>25.003331</td>\n",
       "      <td>-500.856333</td>\n",
       "    </tr>\n",
       "  </tbody>\n",
       "</table>\n",
       "<p>5 rows × 53 columns</p>\n",
       "</div>"
      ],
      "text/plain": [
       "                  date  primary_cleaner.input.sulfate  \\\n",
       "0  2016-09-01 00:59:59                     210.800909   \n",
       "1  2016-09-01 01:59:59                     215.392455   \n",
       "2  2016-09-01 02:59:59                     215.259946   \n",
       "3  2016-09-01 03:59:59                     215.336236   \n",
       "4  2016-09-01 04:59:59                     199.099327   \n",
       "\n",
       "   primary_cleaner.input.depressant  primary_cleaner.input.feed_size  \\\n",
       "0                         14.993118                         8.080000   \n",
       "1                         14.987471                         8.080000   \n",
       "2                         12.884934                         7.786667   \n",
       "3                         12.006805                         7.640000   \n",
       "4                         10.682530                         7.530000   \n",
       "\n",
       "   primary_cleaner.input.xanthate  primary_cleaner.state.floatbank8_a_air  \\\n",
       "0                        1.005021                             1398.981301   \n",
       "1                        0.990469                             1398.777912   \n",
       "2                        0.996043                             1398.493666   \n",
       "3                        0.863514                             1399.618111   \n",
       "4                        0.805575                             1401.268123   \n",
       "\n",
       "   primary_cleaner.state.floatbank8_a_level  \\\n",
       "0                               -500.225577   \n",
       "1                               -500.057435   \n",
       "2                               -500.868360   \n",
       "3                               -498.863574   \n",
       "4                               -500.808305   \n",
       "\n",
       "   primary_cleaner.state.floatbank8_b_air  \\\n",
       "0                             1399.144926   \n",
       "1                             1398.055362   \n",
       "2                             1398.860436   \n",
       "3                             1397.440120   \n",
       "4                             1398.128818   \n",
       "\n",
       "   primary_cleaner.state.floatbank8_b_level  \\\n",
       "0                               -499.919735   \n",
       "1                               -499.778182   \n",
       "2                               -499.764529   \n",
       "3                               -499.211024   \n",
       "4                               -499.504543   \n",
       "\n",
       "   primary_cleaner.state.floatbank8_c_air  ...  \\\n",
       "0                             1400.102998  ...   \n",
       "1                             1396.151033  ...   \n",
       "2                             1398.075709  ...   \n",
       "3                             1400.129303  ...   \n",
       "4                             1402.172226  ...   \n",
       "\n",
       "   secondary_cleaner.state.floatbank4_a_air  \\\n",
       "0                                 12.023554   \n",
       "1                                 12.058140   \n",
       "2                                 11.962366   \n",
       "3                                 12.033091   \n",
       "4                                 12.025367   \n",
       "\n",
       "   secondary_cleaner.state.floatbank4_a_level  \\\n",
       "0                                 -497.795834   \n",
       "1                                 -498.695773   \n",
       "2                                 -498.767484   \n",
       "3                                 -498.350935   \n",
       "4                                 -500.786497   \n",
       "\n",
       "   secondary_cleaner.state.floatbank4_b_air  \\\n",
       "0                                  8.016656   \n",
       "1                                  8.130979   \n",
       "2                                  8.096893   \n",
       "3                                  8.074946   \n",
       "4                                  8.054678   \n",
       "\n",
       "   secondary_cleaner.state.floatbank4_b_level  \\\n",
       "0                                 -501.289139   \n",
       "1                                 -499.634209   \n",
       "2                                 -500.827423   \n",
       "3                                 -499.474407   \n",
       "4                                 -500.397500   \n",
       "\n",
       "   secondary_cleaner.state.floatbank5_a_air  \\\n",
       "0                                  7.946562   \n",
       "1                                  7.958270   \n",
       "2                                  8.071056   \n",
       "3                                  7.897085   \n",
       "4                                  8.107890   \n",
       "\n",
       "   secondary_cleaner.state.floatbank5_a_level  \\\n",
       "0                                 -432.317850   \n",
       "1                                 -525.839648   \n",
       "2                                 -500.801673   \n",
       "3                                 -500.868509   \n",
       "4                                 -509.526725   \n",
       "\n",
       "   secondary_cleaner.state.floatbank5_b_air  \\\n",
       "0                                  4.872511   \n",
       "1                                  4.878850   \n",
       "2                                  4.905125   \n",
       "3                                  4.931400   \n",
       "4                                  4.957674   \n",
       "\n",
       "   secondary_cleaner.state.floatbank5_b_level  \\\n",
       "0                                 -500.037437   \n",
       "1                                 -500.162375   \n",
       "2                                 -499.828510   \n",
       "3                                 -499.963623   \n",
       "4                                 -500.360026   \n",
       "\n",
       "   secondary_cleaner.state.floatbank6_a_air  \\\n",
       "0                                 26.705889   \n",
       "1                                 25.019940   \n",
       "2                                 24.994862   \n",
       "3                                 24.948919   \n",
       "4                                 25.003331   \n",
       "\n",
       "   secondary_cleaner.state.floatbank6_a_level  \n",
       "0                                 -499.709414  \n",
       "1                                 -499.819438  \n",
       "2                                 -500.622559  \n",
       "3                                 -498.709987  \n",
       "4                                 -500.856333  \n",
       "\n",
       "[5 rows x 53 columns]"
      ]
     },
     "metadata": {},
     "output_type": "display_data"
    },
    {
     "data": {
      "text/html": [
       "<div>\n",
       "<style scoped>\n",
       "    .dataframe tbody tr th:only-of-type {\n",
       "        vertical-align: middle;\n",
       "    }\n",
       "\n",
       "    .dataframe tbody tr th {\n",
       "        vertical-align: top;\n",
       "    }\n",
       "\n",
       "    .dataframe thead th {\n",
       "        text-align: right;\n",
       "    }\n",
       "</style>\n",
       "<table border=\"1\" class=\"dataframe\">\n",
       "  <thead>\n",
       "    <tr style=\"text-align: right;\">\n",
       "      <th></th>\n",
       "      <th>date</th>\n",
       "      <th>final.output.concentrate_ag</th>\n",
       "      <th>final.output.concentrate_pb</th>\n",
       "      <th>final.output.concentrate_sol</th>\n",
       "      <th>final.output.concentrate_au</th>\n",
       "      <th>final.output.recovery</th>\n",
       "      <th>final.output.tail_ag</th>\n",
       "      <th>final.output.tail_pb</th>\n",
       "      <th>final.output.tail_sol</th>\n",
       "      <th>final.output.tail_au</th>\n",
       "      <th>...</th>\n",
       "      <th>secondary_cleaner.state.floatbank4_a_air</th>\n",
       "      <th>secondary_cleaner.state.floatbank4_a_level</th>\n",
       "      <th>secondary_cleaner.state.floatbank4_b_air</th>\n",
       "      <th>secondary_cleaner.state.floatbank4_b_level</th>\n",
       "      <th>secondary_cleaner.state.floatbank5_a_air</th>\n",
       "      <th>secondary_cleaner.state.floatbank5_a_level</th>\n",
       "      <th>secondary_cleaner.state.floatbank5_b_air</th>\n",
       "      <th>secondary_cleaner.state.floatbank5_b_level</th>\n",
       "      <th>secondary_cleaner.state.floatbank6_a_air</th>\n",
       "      <th>secondary_cleaner.state.floatbank6_a_level</th>\n",
       "    </tr>\n",
       "  </thead>\n",
       "  <tbody>\n",
       "    <tr>\n",
       "      <th>0</th>\n",
       "      <td>2016-01-15 00:00:00</td>\n",
       "      <td>6.055403</td>\n",
       "      <td>9.889648</td>\n",
       "      <td>5.507324</td>\n",
       "      <td>42.192020</td>\n",
       "      <td>70.541216</td>\n",
       "      <td>10.411962</td>\n",
       "      <td>0.895447</td>\n",
       "      <td>16.904297</td>\n",
       "      <td>2.143149</td>\n",
       "      <td>...</td>\n",
       "      <td>14.016835</td>\n",
       "      <td>-502.488007</td>\n",
       "      <td>12.099931</td>\n",
       "      <td>-504.715942</td>\n",
       "      <td>9.925633</td>\n",
       "      <td>-498.310211</td>\n",
       "      <td>8.079666</td>\n",
       "      <td>-500.470978</td>\n",
       "      <td>14.151341</td>\n",
       "      <td>-605.841980</td>\n",
       "    </tr>\n",
       "    <tr>\n",
       "      <th>1</th>\n",
       "      <td>2016-01-15 01:00:00</td>\n",
       "      <td>6.029369</td>\n",
       "      <td>9.968944</td>\n",
       "      <td>5.257781</td>\n",
       "      <td>42.701629</td>\n",
       "      <td>69.266198</td>\n",
       "      <td>10.462676</td>\n",
       "      <td>0.927452</td>\n",
       "      <td>16.634514</td>\n",
       "      <td>2.224930</td>\n",
       "      <td>...</td>\n",
       "      <td>13.992281</td>\n",
       "      <td>-505.503262</td>\n",
       "      <td>11.950531</td>\n",
       "      <td>-501.331529</td>\n",
       "      <td>10.039245</td>\n",
       "      <td>-500.169983</td>\n",
       "      <td>7.984757</td>\n",
       "      <td>-500.582168</td>\n",
       "      <td>13.998353</td>\n",
       "      <td>-599.787184</td>\n",
       "    </tr>\n",
       "    <tr>\n",
       "      <th>2</th>\n",
       "      <td>2016-01-15 02:00:00</td>\n",
       "      <td>6.055926</td>\n",
       "      <td>10.213995</td>\n",
       "      <td>5.383759</td>\n",
       "      <td>42.657501</td>\n",
       "      <td>68.116445</td>\n",
       "      <td>10.507046</td>\n",
       "      <td>0.953716</td>\n",
       "      <td>16.208849</td>\n",
       "      <td>2.257889</td>\n",
       "      <td>...</td>\n",
       "      <td>14.015015</td>\n",
       "      <td>-502.520901</td>\n",
       "      <td>11.912783</td>\n",
       "      <td>-501.133383</td>\n",
       "      <td>10.070913</td>\n",
       "      <td>-500.129135</td>\n",
       "      <td>8.013877</td>\n",
       "      <td>-500.517572</td>\n",
       "      <td>14.028663</td>\n",
       "      <td>-601.427363</td>\n",
       "    </tr>\n",
       "    <tr>\n",
       "      <th>3</th>\n",
       "      <td>2016-01-15 03:00:00</td>\n",
       "      <td>6.047977</td>\n",
       "      <td>9.977019</td>\n",
       "      <td>4.858634</td>\n",
       "      <td>42.689819</td>\n",
       "      <td>68.347543</td>\n",
       "      <td>10.422762</td>\n",
       "      <td>0.883763</td>\n",
       "      <td>16.532835</td>\n",
       "      <td>2.146849</td>\n",
       "      <td>...</td>\n",
       "      <td>14.036510</td>\n",
       "      <td>-500.857308</td>\n",
       "      <td>11.999550</td>\n",
       "      <td>-501.193686</td>\n",
       "      <td>9.970366</td>\n",
       "      <td>-499.201640</td>\n",
       "      <td>7.977324</td>\n",
       "      <td>-500.255908</td>\n",
       "      <td>14.005551</td>\n",
       "      <td>-599.996129</td>\n",
       "    </tr>\n",
       "    <tr>\n",
       "      <th>4</th>\n",
       "      <td>2016-01-15 04:00:00</td>\n",
       "      <td>6.148599</td>\n",
       "      <td>10.142511</td>\n",
       "      <td>4.939416</td>\n",
       "      <td>42.774141</td>\n",
       "      <td>66.927016</td>\n",
       "      <td>10.360302</td>\n",
       "      <td>0.792826</td>\n",
       "      <td>16.525686</td>\n",
       "      <td>2.055292</td>\n",
       "      <td>...</td>\n",
       "      <td>14.027298</td>\n",
       "      <td>-499.838632</td>\n",
       "      <td>11.953070</td>\n",
       "      <td>-501.053894</td>\n",
       "      <td>9.925709</td>\n",
       "      <td>-501.686727</td>\n",
       "      <td>7.894242</td>\n",
       "      <td>-500.356035</td>\n",
       "      <td>13.996647</td>\n",
       "      <td>-601.496691</td>\n",
       "    </tr>\n",
       "  </tbody>\n",
       "</table>\n",
       "<p>5 rows × 87 columns</p>\n",
       "</div>"
      ],
      "text/plain": [
       "                  date  final.output.concentrate_ag  \\\n",
       "0  2016-01-15 00:00:00                     6.055403   \n",
       "1  2016-01-15 01:00:00                     6.029369   \n",
       "2  2016-01-15 02:00:00                     6.055926   \n",
       "3  2016-01-15 03:00:00                     6.047977   \n",
       "4  2016-01-15 04:00:00                     6.148599   \n",
       "\n",
       "   final.output.concentrate_pb  final.output.concentrate_sol  \\\n",
       "0                     9.889648                      5.507324   \n",
       "1                     9.968944                      5.257781   \n",
       "2                    10.213995                      5.383759   \n",
       "3                     9.977019                      4.858634   \n",
       "4                    10.142511                      4.939416   \n",
       "\n",
       "   final.output.concentrate_au  final.output.recovery  final.output.tail_ag  \\\n",
       "0                    42.192020              70.541216             10.411962   \n",
       "1                    42.701629              69.266198             10.462676   \n",
       "2                    42.657501              68.116445             10.507046   \n",
       "3                    42.689819              68.347543             10.422762   \n",
       "4                    42.774141              66.927016             10.360302   \n",
       "\n",
       "   final.output.tail_pb  final.output.tail_sol  final.output.tail_au  ...  \\\n",
       "0              0.895447              16.904297              2.143149  ...   \n",
       "1              0.927452              16.634514              2.224930  ...   \n",
       "2              0.953716              16.208849              2.257889  ...   \n",
       "3              0.883763              16.532835              2.146849  ...   \n",
       "4              0.792826              16.525686              2.055292  ...   \n",
       "\n",
       "   secondary_cleaner.state.floatbank4_a_air  \\\n",
       "0                                 14.016835   \n",
       "1                                 13.992281   \n",
       "2                                 14.015015   \n",
       "3                                 14.036510   \n",
       "4                                 14.027298   \n",
       "\n",
       "   secondary_cleaner.state.floatbank4_a_level  \\\n",
       "0                                 -502.488007   \n",
       "1                                 -505.503262   \n",
       "2                                 -502.520901   \n",
       "3                                 -500.857308   \n",
       "4                                 -499.838632   \n",
       "\n",
       "   secondary_cleaner.state.floatbank4_b_air  \\\n",
       "0                                 12.099931   \n",
       "1                                 11.950531   \n",
       "2                                 11.912783   \n",
       "3                                 11.999550   \n",
       "4                                 11.953070   \n",
       "\n",
       "   secondary_cleaner.state.floatbank4_b_level  \\\n",
       "0                                 -504.715942   \n",
       "1                                 -501.331529   \n",
       "2                                 -501.133383   \n",
       "3                                 -501.193686   \n",
       "4                                 -501.053894   \n",
       "\n",
       "   secondary_cleaner.state.floatbank5_a_air  \\\n",
       "0                                  9.925633   \n",
       "1                                 10.039245   \n",
       "2                                 10.070913   \n",
       "3                                  9.970366   \n",
       "4                                  9.925709   \n",
       "\n",
       "   secondary_cleaner.state.floatbank5_a_level  \\\n",
       "0                                 -498.310211   \n",
       "1                                 -500.169983   \n",
       "2                                 -500.129135   \n",
       "3                                 -499.201640   \n",
       "4                                 -501.686727   \n",
       "\n",
       "   secondary_cleaner.state.floatbank5_b_air  \\\n",
       "0                                  8.079666   \n",
       "1                                  7.984757   \n",
       "2                                  8.013877   \n",
       "3                                  7.977324   \n",
       "4                                  7.894242   \n",
       "\n",
       "   secondary_cleaner.state.floatbank5_b_level  \\\n",
       "0                                 -500.470978   \n",
       "1                                 -500.582168   \n",
       "2                                 -500.517572   \n",
       "3                                 -500.255908   \n",
       "4                                 -500.356035   \n",
       "\n",
       "   secondary_cleaner.state.floatbank6_a_air  \\\n",
       "0                                 14.151341   \n",
       "1                                 13.998353   \n",
       "2                                 14.028663   \n",
       "3                                 14.005551   \n",
       "4                                 13.996647   \n",
       "\n",
       "   secondary_cleaner.state.floatbank6_a_level  \n",
       "0                                 -605.841980  \n",
       "1                                 -599.787184  \n",
       "2                                 -601.427363  \n",
       "3                                 -599.996129  \n",
       "4                                 -601.496691  \n",
       "\n",
       "[5 rows x 87 columns]"
      ]
     },
     "metadata": {},
     "output_type": "display_data"
    }
   ],
   "source": [
    "for table in (df_train,df_test, df_full):\n",
    "    def info(table):\n",
    "        display(table.head())\n",
    "    info(table) "
   ]
  },
  {
   "cell_type": "code",
   "execution_count": 7,
   "metadata": {},
   "outputs": [
    {
     "data": {
      "text/plain": [
       "(14149, 87)"
      ]
     },
     "metadata": {},
     "output_type": "display_data"
    },
    {
     "data": {
      "text/plain": [
       "(5290, 53)"
      ]
     },
     "metadata": {},
     "output_type": "display_data"
    },
    {
     "data": {
      "text/plain": [
       "(19439, 87)"
      ]
     },
     "metadata": {},
     "output_type": "display_data"
    }
   ],
   "source": [
    "for table in (df_train,df_test, df_full):\n",
    "    def info(table):\n",
    "        display(table.shape)\n",
    "    info(table) "
   ]
  },
  {
   "cell_type": "markdown",
   "metadata": {},
   "source": [
    "Each object in the dataset is information about a customer. Known:\n",
    "\n",
    "**Technological process**\n",
    "- `Rougher feed` - feedstock\n",
    "- `Rougher additions (or reagent additions)` - flotation reagents: Xanthate, Sulphate, Depressant\n",
    " - `Xanthate` - xanthate (promoter, or flotation activator);\n",
    " - `Sulphate` - sulfate (in this production, sodium sulfide);\n",
    " - `Depressant` - depressant (sodium silicate).\n",
    "- `Rougher process (English \"rough process\")` - flotation\n",
    "- `Rougher tails` - dump tails\n",
    "- `Float banks` - flotation unit\n",
    "- `Cleaner process` - cleaning\n",
    "- `Rougher Au` - rough gold concentrate\n",
    "- `Final Au` - final gold concentrate\n",
    "\n",
    "**Stage Options**\n",
    "- `air amount` — air volume\n",
    "- `fluid levels` - fluid level\n",
    "- `feed size` — size of feed granules\n",
    "- `feed rate` — feed rate\n",
    "\n",
    "**Feature name**\n",
    "The name of the features should be:\n",
    "- `[stage].[parameter_type].[parameter_name]` Example: `rougher.input.feed_ag`\n",
    "\n",
    "**Possible values for the `[stage]` block**:\n",
    "- rougher - flotation\n",
    "- primary_cleaner - primary cleaning\n",
    "- secondary_cleaner - secondary cleaning\n",
    "- final - final characteristics\n",
    "\n",
    "**Possible values for the block `[parameter_type]`**:\n",
    "- input — raw material parameters\n",
    "- output — product parameters\n",
    "- state — parameters characterizing the current state of the stage\n",
    "- calculation - calculated characteristics"
   ]
  },
  {
   "cell_type": "markdown",
   "metadata": {},
   "source": [
    "# Efficiency calculation\n",
    "\n",
    "We need to simulate the process of recovering gold from gold ore.\n",
    "\n",
    "Enrichment efficiency is calculated by the formula:\n",
    "\n",
    "$$ Recovery = C * (F-T) / F * (C- T) $$\n",
    "\n",
    "- C is the proportion of gold in the concentrate after flotation/refining;\n",
    "- F is the proportion of gold in the raw material/concentrate before flotation/refining;\n",
    "- T is the proportion of gold in tailings after flotation/cleaning."
   ]
  },
  {
   "cell_type": "code",
   "execution_count": 8,
   "metadata": {},
   "outputs": [],
   "source": [
    "df_train.dropna(subset = ['rougher.output.recovery'], inplace = True)\n",
    "\n",
    "C = df_train['rougher.output.concentrate_au']\n",
    "F = df_train['rougher.input.feed_au']\n",
    "T = df_train['rougher.output.tail_au']"
   ]
  },
  {
   "cell_type": "code",
   "execution_count": 9,
   "metadata": {},
   "outputs": [
    {
     "data": {
      "text/plain": [
       "0    87.107763\n",
       "1    86.843261\n",
       "2    86.842308\n",
       "3    87.226430\n",
       "4    86.688794\n",
       "dtype: float64"
      ]
     },
     "execution_count": 9,
     "metadata": {},
     "output_type": "execute_result"
    }
   ],
   "source": [
    "recovery = ((C * (F - T)) / (F * (C - T))) * 100\n",
    "recovery.head()"
   ]
  },
  {
   "cell_type": "markdown",
   "metadata": {},
   "source": [
    "We got the efficiency of enrichment, let's see how high the average absolute error is."
   ]
  },
  {
   "cell_type": "code",
   "execution_count": 10,
   "metadata": {
    "scrolled": true
   },
   "outputs": [
    {
     "name": "stdout",
     "output_type": "stream",
     "text": [
      "MAE: 9.73512347450521e-15\n"
     ]
    }
   ],
   "source": [
    "old_recovery = df_train['rougher.output.recovery']\n",
    "\n",
    "print(f'MAE: {mean_absolute_error(old_recovery, recovery)}')"
   ]
  },
  {
   "cell_type": "markdown",
   "metadata": {},
   "source": [
    "The MAE is small, which means there are no differences between the data in the dataset. Let's move on to data preprocessing."
   ]
  },
  {
   "cell_type": "markdown",
   "metadata": {},
   "source": [
    "As we have seen, there are missing values in the data. It is necessary to remove the missing values in the test and training samples."
   ]
  },
  {
   "cell_type": "code",
   "execution_count": 11,
   "metadata": {},
   "outputs": [
    {
     "name": "stdout",
     "output_type": "stream",
     "text": [
      "Training sample size: (14149, 87)\n",
      "Testing sample size (5290, 53)\n"
     ]
    }
   ],
   "source": [
    "print(f'Training sample size: {df_train.shape}')\n",
    "print(f'Testing sample size {df_test.shape}')"
   ]
  },
  {
   "cell_type": "code",
   "execution_count": 12,
   "metadata": {},
   "outputs": [
    {
     "data": {
      "text/plain": [
       "['final.output.tail_au',\n",
       " 'secondary_cleaner.output.tail_au',\n",
       " 'primary_cleaner.output.concentrate_ag',\n",
       " 'primary_cleaner.output.tail_sol',\n",
       " 'final.output.concentrate_sol',\n",
       " 'final.output.tail_sol',\n",
       " 'rougher.output.concentrate_pb',\n",
       " 'final.output.concentrate_pb',\n",
       " 'final.output.recovery',\n",
       " 'rougher.output.concentrate_sol',\n",
       " 'rougher.output.tail_ag',\n",
       " 'primary_cleaner.output.concentrate_sol',\n",
       " 'secondary_cleaner.output.tail_pb',\n",
       " 'rougher.output.recovery',\n",
       " 'rougher.calculation.au_pb_ratio',\n",
       " 'rougher.output.tail_sol',\n",
       " 'rougher.output.tail_pb',\n",
       " 'final.output.concentrate_au',\n",
       " 'rougher.output.concentrate_ag',\n",
       " 'rougher.output.concentrate_au',\n",
       " 'primary_cleaner.output.tail_pb',\n",
       " 'secondary_cleaner.output.tail_sol',\n",
       " 'rougher.calculation.floatbank11_sulfate_to_au_feed',\n",
       " 'final.output.tail_ag',\n",
       " 'primary_cleaner.output.tail_ag',\n",
       " 'rougher.calculation.floatbank10_sulfate_to_au_feed',\n",
       " 'secondary_cleaner.output.tail_ag',\n",
       " 'primary_cleaner.output.concentrate_pb',\n",
       " 'primary_cleaner.output.concentrate_au',\n",
       " 'rougher.output.tail_au',\n",
       " 'final.output.concentrate_ag',\n",
       " 'primary_cleaner.output.tail_au',\n",
       " 'rougher.calculation.sulfate_to_au_concentrate',\n",
       " 'final.output.tail_pb']"
      ]
     },
     "execution_count": 12,
     "metadata": {},
     "output_type": "execute_result"
    }
   ],
   "source": [
    "list(set(df_train.columns) - set(df_test.columns))\n"
   ]
  },
  {
   "cell_type": "code",
   "execution_count": 13,
   "metadata": {},
   "outputs": [],
   "source": [
    "columns = df_train.columns.drop(df_test.columns)"
   ]
  },
  {
   "cell_type": "markdown",
   "metadata": {},
   "source": [
    "It can be seen that in the general sample there are features that are absent in the target one. All of them are target ones. We have two target features `rougher.output.recovery`, `final.output.recovery` and 51 features present in the target sample, the remaining features can be removed."
   ]
  },
  {
   "cell_type": "code",
   "execution_count": 14,
   "metadata": {},
   "outputs": [],
   "source": [
    "columns_drop = columns.drop(['final.output.recovery', 'rougher.output.recovery'])\n",
    "good_columns = df_train.columns.drop(columns_drop)\n",
    "df_train = df_train[good_columns]"
   ]
  },
  {
   "cell_type": "code",
   "execution_count": 15,
   "metadata": {},
   "outputs": [],
   "source": [
    "df_test = df_test.join(df_full[['date', 'final.output.recovery', 'rougher.output.recovery']].copy().set_index('date'), on='date')"
   ]
  },
  {
   "cell_type": "code",
   "execution_count": 16,
   "metadata": {},
   "outputs": [
    {
     "name": "stdout",
     "output_type": "stream",
     "text": [
      "Training sample size: (14149, 55)\n",
      "Testing sample size (5290, 55)\n"
     ]
    }
   ],
   "source": [
    "print(f'Training sample size: {df_train.shape}')\n",
    "print(f'Testing sample size {df_test.shape}')"
   ]
  },
  {
   "cell_type": "markdown",
   "metadata": {},
   "source": [
    "The training sample is ready, now let's see if there are missing values in the target features."
   ]
  },
  {
   "cell_type": "code",
   "execution_count": 17,
   "metadata": {},
   "outputs": [
    {
     "name": "stdout",
     "output_type": "stream",
     "text": [
      "Number of null values in the training table: date                                          0.000000\n",
      "final.output.recovery                         0.000000\n",
      "primary_cleaner.input.sulfate                 0.001414\n",
      "primary_cleaner.input.depressant              0.002262\n",
      "primary_cleaner.input.feed_size               0.000000\n",
      "primary_cleaner.input.xanthate                0.007068\n",
      "primary_cleaner.state.floatbank8_a_air        0.000283\n",
      "primary_cleaner.state.floatbank8_a_level      0.000071\n",
      "primary_cleaner.state.floatbank8_b_air        0.000283\n",
      "primary_cleaner.state.floatbank8_b_level      0.000071\n",
      "primary_cleaner.state.floatbank8_c_air        0.000141\n",
      "primary_cleaner.state.floatbank8_c_level      0.000071\n",
      "primary_cleaner.state.floatbank8_d_air        0.000212\n",
      "primary_cleaner.state.floatbank8_d_level      0.000071\n",
      "rougher.input.feed_ag                         0.000000\n",
      "rougher.input.feed_pb                         0.007068\n",
      "rougher.input.feed_rate                       0.000565\n",
      "rougher.input.feed_size                       0.010177\n",
      "rougher.input.feed_sol                        0.005513\n",
      "rougher.input.feed_au                         0.000000\n",
      "rougher.input.floatbank10_sulfate             0.002050\n",
      "rougher.input.floatbank10_xanthate            0.000565\n",
      "rougher.input.floatbank11_sulfate             0.002544\n",
      "rougher.input.floatbank11_xanthate            0.030249\n",
      "rougher.output.recovery                       0.000000\n",
      "rougher.state.floatbank10_a_air               0.000071\n",
      "rougher.state.floatbank10_a_level             0.000071\n",
      "rougher.state.floatbank10_b_air               0.000071\n",
      "rougher.state.floatbank10_b_level             0.000071\n",
      "rougher.state.floatbank10_c_air               0.000071\n",
      "rougher.state.floatbank10_c_level             0.000071\n",
      "rougher.state.floatbank10_d_air               0.000000\n",
      "rougher.state.floatbank10_d_level             0.000000\n",
      "rougher.state.floatbank10_e_air               0.030815\n",
      "rougher.state.floatbank10_e_level             0.000000\n",
      "rougher.state.floatbank10_f_air               0.000000\n",
      "rougher.state.floatbank10_f_level             0.000000\n",
      "secondary_cleaner.state.floatbank2_a_air      0.015337\n",
      "secondary_cleaner.state.floatbank2_a_level    0.000071\n",
      "secondary_cleaner.state.floatbank2_b_air      0.001484\n",
      "secondary_cleaner.state.floatbank2_b_level    0.000071\n",
      "secondary_cleaner.state.floatbank3_a_air      0.000283\n",
      "secondary_cleaner.state.floatbank3_a_level    0.000071\n",
      "secondary_cleaner.state.floatbank3_b_air      0.000071\n",
      "secondary_cleaner.state.floatbank3_b_level    0.000071\n",
      "secondary_cleaner.state.floatbank4_a_air      0.000424\n",
      "secondary_cleaner.state.floatbank4_a_level    0.000071\n",
      "secondary_cleaner.state.floatbank4_b_air      0.000071\n",
      "secondary_cleaner.state.floatbank4_b_level    0.000071\n",
      "secondary_cleaner.state.floatbank5_a_air      0.000071\n",
      "secondary_cleaner.state.floatbank5_a_level    0.000071\n",
      "secondary_cleaner.state.floatbank5_b_air      0.000071\n",
      "secondary_cleaner.state.floatbank5_b_level    0.000071\n",
      "secondary_cleaner.state.floatbank6_a_air      0.000141\n",
      "secondary_cleaner.state.floatbank6_a_level    0.000071\n",
      "dtype: float64\n",
      "Number of null values in the testing table: date                                          0.000000\n",
      "primary_cleaner.input.sulfate                 0.000756\n",
      "primary_cleaner.input.depressant              0.000945\n",
      "primary_cleaner.input.feed_size               0.000000\n",
      "primary_cleaner.input.xanthate                0.000756\n",
      "primary_cleaner.state.floatbank8_a_air        0.000000\n",
      "primary_cleaner.state.floatbank8_a_level      0.000000\n",
      "primary_cleaner.state.floatbank8_b_air        0.000000\n",
      "primary_cleaner.state.floatbank8_b_level      0.000000\n",
      "primary_cleaner.state.floatbank8_c_air        0.000000\n",
      "primary_cleaner.state.floatbank8_c_level      0.000000\n",
      "primary_cleaner.state.floatbank8_d_air        0.000000\n",
      "primary_cleaner.state.floatbank8_d_level      0.000000\n",
      "rougher.input.feed_ag                         0.000000\n",
      "rougher.input.feed_pb                         0.000000\n",
      "rougher.input.feed_rate                       0.000567\n",
      "rougher.input.feed_size                       0.000189\n",
      "rougher.input.feed_sol                        0.003970\n",
      "rougher.input.feed_au                         0.000000\n",
      "rougher.input.floatbank10_sulfate             0.000945\n",
      "rougher.input.floatbank10_xanthate            0.000000\n",
      "rougher.input.floatbank11_sulfate             0.001512\n",
      "rougher.input.floatbank11_xanthate            0.004726\n",
      "rougher.state.floatbank10_a_air               0.000000\n",
      "rougher.state.floatbank10_a_level             0.000000\n",
      "rougher.state.floatbank10_b_air               0.000000\n",
      "rougher.state.floatbank10_b_level             0.000000\n",
      "rougher.state.floatbank10_c_air               0.000000\n",
      "rougher.state.floatbank10_c_level             0.000000\n",
      "rougher.state.floatbank10_d_air               0.000000\n",
      "rougher.state.floatbank10_d_level             0.000000\n",
      "rougher.state.floatbank10_e_air               0.000000\n",
      "rougher.state.floatbank10_e_level             0.000000\n",
      "rougher.state.floatbank10_f_air               0.000000\n",
      "rougher.state.floatbank10_f_level             0.000000\n",
      "secondary_cleaner.state.floatbank2_a_air      0.000567\n",
      "secondary_cleaner.state.floatbank2_a_level    0.000000\n",
      "secondary_cleaner.state.floatbank2_b_air      0.000378\n",
      "secondary_cleaner.state.floatbank2_b_level    0.000000\n",
      "secondary_cleaner.state.floatbank3_a_air      0.001701\n",
      "secondary_cleaner.state.floatbank3_a_level    0.000000\n",
      "secondary_cleaner.state.floatbank3_b_air      0.000000\n",
      "secondary_cleaner.state.floatbank3_b_level    0.000000\n",
      "secondary_cleaner.state.floatbank4_a_air      0.000000\n",
      "secondary_cleaner.state.floatbank4_a_level    0.000000\n",
      "secondary_cleaner.state.floatbank4_b_air      0.000000\n",
      "secondary_cleaner.state.floatbank4_b_level    0.000000\n",
      "secondary_cleaner.state.floatbank5_a_air      0.000000\n",
      "secondary_cleaner.state.floatbank5_a_level    0.000000\n",
      "secondary_cleaner.state.floatbank5_b_air      0.000000\n",
      "secondary_cleaner.state.floatbank5_b_level    0.000000\n",
      "secondary_cleaner.state.floatbank6_a_air      0.000000\n",
      "secondary_cleaner.state.floatbank6_a_level    0.000000\n",
      "final.output.recovery                         0.000000\n",
      "rougher.output.recovery                       0.000000\n",
      "dtype: float64\n"
     ]
    }
   ],
   "source": [
    "print(f'Number of null values in the training table: {df_train.isna().mean()}')\n",
    "print(f'Number of null values in the testing table: {df_test.isna().mean()}')"
   ]
  },
  {
   "cell_type": "markdown",
   "metadata": {},
   "source": [
    "There are no such values, so you can proceed to data analysis."
   ]
  },
  {
   "cell_type": "markdown",
   "metadata": {},
   "source": [
    "## Exploratory data analysis"
   ]
  },
  {
   "cell_type": "code",
   "execution_count": 18,
   "metadata": {},
   "outputs": [
    {
     "data": {
      "image/png": "[encoded data removed]",
      "text/plain": [
       "<Figure size 864x648 with 1 Axes>"
      ]
     },
     "metadata": {
      "needs_background": "light"
     },
     "output_type": "display_data"
    }
   ],
   "source": [
    "plt.figure(figsize=[12,9])\n",
    "\n",
    "plt.hist(df_full['rougher.input.feed_au'], bins=100, label = 'Rougher input', alpha=.5)\n",
    "plt.hist(df_full['rougher.output.concentrate_au'], bins=100, label = 'Rougher output', alpha=.5)\n",
    "plt.hist(df_full['primary_cleaner.output.concentrate_au'], bins=100, label = 'Primary cleaner', alpha=.5)\n",
    "plt.hist(df_full['final.output.concentrate_au'], bins=100, label = 'Final output', alpha=.5)\n",
    "\n",
    "plt.xlim([0, 55])\n",
    "plt.ylim([0, 2500])\n",
    "\n",
    "plt.xlabel(\"Gold Concentration\")\n",
    "plt.ylabel(\"Quantity\")\n",
    "\n",
    "plt.legend(loc='upper right', fontsize = 'large')\n",
    "\n",
    "plt.title(\"Histogram of distribution of gold concentration\")\n",
    "plt.show()"
   ]
  },
  {
   "cell_type": "code",
   "execution_count": 19,
   "metadata": {},
   "outputs": [
    {
     "data": {
      "image/png": "[encoded data removed]",
      "text/plain": [
       "<Figure size 864x648 with 1 Axes>"
      ]
     },
     "metadata": {
      "needs_background": "light"
     },
     "output_type": "display_data"
    }
   ],
   "source": [
    "plt.figure(figsize=[12,9])\n",
    "\n",
    "plt.hist(df_full['rougher.input.feed_ag'], bins=100, label = 'Rougher input', alpha=.5)\n",
    "plt.hist(df_full['rougher.output.concentrate_ag'], bins=100, label = 'Rougher output', alpha=.5)\n",
    "plt.hist(df_full['primary_cleaner.output.concentrate_ag'], bins=100, label = 'Primary cleaner', alpha=.5)\n",
    "plt.hist(df_full['final.output.concentrate_ag'], bins=100, label = 'Final output', alpha=.5)\n",
    "\n",
    "plt.xlim([0, 25])\n",
    "plt.ylim([0, 1500])\n",
    "\n",
    "plt.xlabel(\"Silver Concentration\")\n",
    "plt.ylabel(\"Quantity\")\n",
    "\n",
    "plt.legend(loc='upper right', fontsize = 'large')\n",
    "\n",
    "plt.title(\"Silver Concentration Distribution Histogram\")\n",
    "plt.show()"
   ]
  },
  {
   "cell_type": "code",
   "execution_count": 20,
   "metadata": {},
   "outputs": [
    {
     "data": {
      "image/png": "[encoded data removed]",
      "text/plain": [
       "<Figure size 864x648 with 1 Axes>"
      ]
     },
     "metadata": {
      "needs_background": "light"
     },
     "output_type": "display_data"
    }
   ],
   "source": [
    "plt.figure(figsize=[12,9])\n",
    "\n",
    "plt.hist(df_full['rougher.input.feed_pb'], bins=100, label = 'Rougher input', alpha=.5)\n",
    "plt.hist(df_full['rougher.output.concentrate_pb'], bins=100, label = 'Rougher output', alpha=.5)\n",
    "plt.hist(df_full['primary_cleaner.output.concentrate_pb'], bins=100, label = 'Primary cleaner', alpha=.5)\n",
    "plt.hist(df_full['final.output.concentrate_pb'], bins=100, label = 'Final output', alpha=.5)\n",
    "\n",
    "plt.xlim([0, 20])\n",
    "plt.ylim([0, 1200])\n",
    "\n",
    "plt.xlabel(\"Lead concentration\")\n",
    "plt.ylabel(\"Quantity\")\n",
    "\n",
    "plt.legend(loc='upper right', fontsize = 'large')\n",
    "\n",
    "plt.title(\"Histogram of the distribution of lead concentration\")\n",
    "plt.show()\n",
    "\n",
    "\n"
   ]
  },
  {
   "cell_type": "markdown",
   "metadata": {},
   "source": [
    "The following conclusions can be drawn:\n",
    "\n",
    "- The concentration of gold in the final output becomes higher.\n",
    "- The lowest concentration of gold and lead in the rouher input.\n",
    "- The concentration of silver is higher during the primary cleaner, lower is in the final output.\n",
    "- Lead concentration is higher during flotation and secondary cleaning."
   ]
  },
  {
   "cell_type": "code",
   "execution_count": 21,
   "metadata": {},
   "outputs": [
    {
     "data": {
      "image/png": "[encoded data removed]",
      "text/plain": [
       "<Figure size 864x648 with 1 Axes>"
      ]
     },
     "metadata": {
      "needs_background": "light"
     },
     "output_type": "display_data"
    }
   ],
   "source": [
    "plt.figure(figsize=[12,9])\n",
    "\n",
    "plt.hist(df_train['primary_cleaner.input.feed_size'], bins=100, label = 'The size of raw material granules on the training sample', alpha=.5, density=True)\n",
    "plt.hist(df_test['primary_cleaner.input.feed_size'], bins=100, label = 'The size of raw material granules on the testing sample', alpha=.5, density=True)\n",
    "\n",
    "plt.xlim([0, 12])\n",
    "plt.ylim([0, 1.25])\n",
    "\n",
    "plt.xlabel(\"The size of raw material granules\")\n",
    "plt.ylabel(\"Quantity\")\n",
    "\n",
    "plt.legend(loc='upper right', fontsize = 'large')\n",
    "\n",
    "plt.title(\"Distribution histogram of raw material granules in the training and test samples\")\n",
    "plt.show()"
   ]
  },
  {
   "cell_type": "markdown",
   "metadata": {},
   "source": [
    "The histogram shows that the size of raw material granules averages from 6 to 9. The size of raw material granules in the test and training samples is approximately the same. We investigate the total concentration of all substances at different stages: in raw materials, in rough and final concentrates."
   ]
  },
  {
   "cell_type": "code",
   "execution_count": 25,
   "metadata": {},
   "outputs": [],
   "source": [
    "rougher_output_sum = df_full['rougher.output.concentrate_au'] + df_full['rougher.output.concentrate_ag'] + \\\n",
    "                    df_full['rougher.output.concentrate_pb'] + df_full['rougher.output.concentrate_sol']\n",
    "primary_output_sum = df_full['primary_cleaner.output.concentrate_au'] + \\\n",
    "                    df_full['primary_cleaner.output.concentrate_ag'] + \\\n",
    "                    df_full['primary_cleaner.output.concentrate_pb'] + \\\n",
    "                    df_full['primary_cleaner.output.concentrate_sol']\n",
    "final_output_sum = df_full['final.output.concentrate_au'] + df_full['final.output.concentrate_ag'] + \\\n",
    "                    df_full['final.output.concentrate_pb'] + df_full['final.output.concentrate_sol']"
   ]
  },
  {
   "cell_type": "code",
   "execution_count": 27,
   "metadata": {},
   "outputs": [
    {
     "data": {
      "image/png": "[encoded data removed]",
      "text/plain": [
       "<Figure size 864x648 with 1 Axes>"
      ]
     },
     "metadata": {
      "needs_background": "light"
     },
     "output_type": "display_data"
    }
   ],
   "source": [
    "plt.figure(figsize=[12,9])\n",
    "\n",
    "plt.hist(rougher_output_sum, bins=100, label = 'Rougher input', alpha=.5)\n",
    "plt.hist(primary_output_sum, bins=100, label = 'Primary output', alpha=.5)\n",
    "plt.hist(final_output_sum, bins=100, label = 'Final output', alpha=.5)\n",
    "\n",
    "plt.xlim([0, 90])\n",
    "plt.ylim([0, 3000])\n",
    "\n",
    "plt.xlabel(\"Total Concentration\")\n",
    "plt.ylabel(\"Quantity\")\n",
    "\n",
    "plt.legend(loc='upper right', fontsize='large')\n",
    "\n",
    "plt.title(\"Histogram of distribution of concentrations at different stages of purification\")\n",
    "plt.show();"
   ]
  },
  {
   "cell_type": "markdown",
   "metadata": {},
   "source": [
    "From this histogram, it can be seen that the concentration of metals in the secondary treatment is higher, and there are also zero values in the primary and secondary treatment in the data."
   ]
  },
  {
   "cell_type": "markdown",
   "metadata": {},
   "source": [
    "Let's also remove all gaps in other columns and the `date` column. We do not need them when training the model."
   ]
  },
  {
   "cell_type": "code",
   "execution_count": 28,
   "metadata": {},
   "outputs": [],
   "source": [
    "df_train = df_train.fillna(method = 'ffill', axis = 0)\n",
    "df_test = df_test.fillna(method = 'ffill', axis = 0)"
   ]
  },
  {
   "cell_type": "code",
   "execution_count": 29,
   "metadata": {},
   "outputs": [],
   "source": [
    "df_train = df_train.drop(['date'], axis='columns')\n",
    "df_test = df_test.drop(['date'], axis='columns')"
   ]
  },
  {
   "cell_type": "code",
   "execution_count": 30,
   "metadata": {},
   "outputs": [],
   "source": [
    "df_train = df_train.drop(df_train[df_train['final.output.recovery'] == 0].index)\n",
    "df_train = df_train.drop(df_train[df_train['rougher.output.recovery'] == 0].index)"
   ]
  },
  {
   "cell_type": "code",
   "execution_count": 31,
   "metadata": {},
   "outputs": [
    {
     "data": {
      "text/plain": [
       "(13795, 54)"
      ]
     },
     "execution_count": 31,
     "metadata": {},
     "output_type": "execute_result"
    }
   ],
   "source": [
    "df_train.shape"
   ]
  },
  {
   "cell_type": "code",
   "execution_count": 32,
   "metadata": {},
   "outputs": [
    {
     "data": {
      "text/plain": [
       "final.output.recovery                         0.0\n",
       "primary_cleaner.input.sulfate                 0.0\n",
       "primary_cleaner.input.depressant              0.0\n",
       "primary_cleaner.input.feed_size               0.0\n",
       "primary_cleaner.input.xanthate                0.0\n",
       "primary_cleaner.state.floatbank8_a_air        0.0\n",
       "primary_cleaner.state.floatbank8_a_level      0.0\n",
       "primary_cleaner.state.floatbank8_b_air        0.0\n",
       "primary_cleaner.state.floatbank8_b_level      0.0\n",
       "primary_cleaner.state.floatbank8_c_air        0.0\n",
       "primary_cleaner.state.floatbank8_c_level      0.0\n",
       "primary_cleaner.state.floatbank8_d_air        0.0\n",
       "primary_cleaner.state.floatbank8_d_level      0.0\n",
       "rougher.input.feed_ag                         0.0\n",
       "rougher.input.feed_pb                         0.0\n",
       "rougher.input.feed_rate                       0.0\n",
       "rougher.input.feed_size                       0.0\n",
       "rougher.input.feed_sol                        0.0\n",
       "rougher.input.feed_au                         0.0\n",
       "rougher.input.floatbank10_sulfate             0.0\n",
       "rougher.input.floatbank10_xanthate            0.0\n",
       "rougher.input.floatbank11_sulfate             0.0\n",
       "rougher.input.floatbank11_xanthate            0.0\n",
       "rougher.output.recovery                       0.0\n",
       "rougher.state.floatbank10_a_air               0.0\n",
       "rougher.state.floatbank10_a_level             0.0\n",
       "rougher.state.floatbank10_b_air               0.0\n",
       "rougher.state.floatbank10_b_level             0.0\n",
       "rougher.state.floatbank10_c_air               0.0\n",
       "rougher.state.floatbank10_c_level             0.0\n",
       "rougher.state.floatbank10_d_air               0.0\n",
       "rougher.state.floatbank10_d_level             0.0\n",
       "rougher.state.floatbank10_e_air               0.0\n",
       "rougher.state.floatbank10_e_level             0.0\n",
       "rougher.state.floatbank10_f_air               0.0\n",
       "rougher.state.floatbank10_f_level             0.0\n",
       "secondary_cleaner.state.floatbank2_a_air      0.0\n",
       "secondary_cleaner.state.floatbank2_a_level    0.0\n",
       "secondary_cleaner.state.floatbank2_b_air      0.0\n",
       "secondary_cleaner.state.floatbank2_b_level    0.0\n",
       "secondary_cleaner.state.floatbank3_a_air      0.0\n",
       "secondary_cleaner.state.floatbank3_a_level    0.0\n",
       "secondary_cleaner.state.floatbank3_b_air      0.0\n",
       "secondary_cleaner.state.floatbank3_b_level    0.0\n",
       "secondary_cleaner.state.floatbank4_a_air      0.0\n",
       "secondary_cleaner.state.floatbank4_a_level    0.0\n",
       "secondary_cleaner.state.floatbank4_b_air      0.0\n",
       "secondary_cleaner.state.floatbank4_b_level    0.0\n",
       "secondary_cleaner.state.floatbank5_a_air      0.0\n",
       "secondary_cleaner.state.floatbank5_a_level    0.0\n",
       "secondary_cleaner.state.floatbank5_b_air      0.0\n",
       "secondary_cleaner.state.floatbank5_b_level    0.0\n",
       "secondary_cleaner.state.floatbank6_a_air      0.0\n",
       "secondary_cleaner.state.floatbank6_a_level    0.0\n",
       "dtype: float64"
      ]
     },
     "execution_count": 32,
     "metadata": {},
     "output_type": "execute_result"
    }
   ],
   "source": [
    "df_train.isna().mean()"
   ]
  },
  {
   "cell_type": "code",
   "execution_count": 33,
   "metadata": {},
   "outputs": [
    {
     "data": {
      "text/plain": [
       "primary_cleaner.input.sulfate                 0.0\n",
       "primary_cleaner.input.depressant              0.0\n",
       "primary_cleaner.input.feed_size               0.0\n",
       "primary_cleaner.input.xanthate                0.0\n",
       "primary_cleaner.state.floatbank8_a_air        0.0\n",
       "primary_cleaner.state.floatbank8_a_level      0.0\n",
       "primary_cleaner.state.floatbank8_b_air        0.0\n",
       "primary_cleaner.state.floatbank8_b_level      0.0\n",
       "primary_cleaner.state.floatbank8_c_air        0.0\n",
       "primary_cleaner.state.floatbank8_c_level      0.0\n",
       "primary_cleaner.state.floatbank8_d_air        0.0\n",
       "primary_cleaner.state.floatbank8_d_level      0.0\n",
       "rougher.input.feed_ag                         0.0\n",
       "rougher.input.feed_pb                         0.0\n",
       "rougher.input.feed_rate                       0.0\n",
       "rougher.input.feed_size                       0.0\n",
       "rougher.input.feed_sol                        0.0\n",
       "rougher.input.feed_au                         0.0\n",
       "rougher.input.floatbank10_sulfate             0.0\n",
       "rougher.input.floatbank10_xanthate            0.0\n",
       "rougher.input.floatbank11_sulfate             0.0\n",
       "rougher.input.floatbank11_xanthate            0.0\n",
       "rougher.state.floatbank10_a_air               0.0\n",
       "rougher.state.floatbank10_a_level             0.0\n",
       "rougher.state.floatbank10_b_air               0.0\n",
       "rougher.state.floatbank10_b_level             0.0\n",
       "rougher.state.floatbank10_c_air               0.0\n",
       "rougher.state.floatbank10_c_level             0.0\n",
       "rougher.state.floatbank10_d_air               0.0\n",
       "rougher.state.floatbank10_d_level             0.0\n",
       "rougher.state.floatbank10_e_air               0.0\n",
       "rougher.state.floatbank10_e_level             0.0\n",
       "rougher.state.floatbank10_f_air               0.0\n",
       "rougher.state.floatbank10_f_level             0.0\n",
       "secondary_cleaner.state.floatbank2_a_air      0.0\n",
       "secondary_cleaner.state.floatbank2_a_level    0.0\n",
       "secondary_cleaner.state.floatbank2_b_air      0.0\n",
       "secondary_cleaner.state.floatbank2_b_level    0.0\n",
       "secondary_cleaner.state.floatbank3_a_air      0.0\n",
       "secondary_cleaner.state.floatbank3_a_level    0.0\n",
       "secondary_cleaner.state.floatbank3_b_air      0.0\n",
       "secondary_cleaner.state.floatbank3_b_level    0.0\n",
       "secondary_cleaner.state.floatbank4_a_air      0.0\n",
       "secondary_cleaner.state.floatbank4_a_level    0.0\n",
       "secondary_cleaner.state.floatbank4_b_air      0.0\n",
       "secondary_cleaner.state.floatbank4_b_level    0.0\n",
       "secondary_cleaner.state.floatbank5_a_air      0.0\n",
       "secondary_cleaner.state.floatbank5_a_level    0.0\n",
       "secondary_cleaner.state.floatbank5_b_air      0.0\n",
       "secondary_cleaner.state.floatbank5_b_level    0.0\n",
       "secondary_cleaner.state.floatbank6_a_air      0.0\n",
       "secondary_cleaner.state.floatbank6_a_level    0.0\n",
       "final.output.recovery                         0.0\n",
       "rougher.output.recovery                       0.0\n",
       "dtype: float64"
      ]
     },
     "execution_count": 33,
     "metadata": {},
     "output_type": "execute_result"
    }
   ],
   "source": [
    "df_test.isna().mean()"
   ]
  },
  {
   "cell_type": "markdown",
   "metadata": {},
   "source": [
    "## Model"
   ]
  },
  {
   "cell_type": "markdown",
   "metadata": {},
   "source": [
    "We need to build a function to calculate the final sMAPE.\n",
    "\n",
    "The formulas we will be using are the following:\n",
    "\n",
    "$$ SMAPE = (1/n) * Σ(|forecast – actual| / ((|actual| + |forecast|)/2) * 100 $$\n",
    "\n",
    "\n",
    " \n",
    "$$ final  sMAPE = 25\\% * sMAPE(rougher) + 75\\% * sMAPE (final) $$\n"
   ]
  },
  {
   "cell_type": "code",
   "execution_count": 61,
   "metadata": {},
   "outputs": [],
   "source": [
    "def smape(target_actual, target_predictions):\n",
    "    numerator = np.abs(target_actual - target_predictions)\n",
    "    denominator = (np.abs(target_actual) + np.abs(target_predictions)) / 2 \n",
    "    return 1 / len(target_actual) * np.sum(numerator / denominator) * 100 "
   ]
  },
  {
   "cell_type": "code",
   "execution_count": 62,
   "metadata": {},
   "outputs": [],
   "source": [
    "def final_smape(target_actual, target_predictions):\n",
    "    target_actual_rougher = target_actual['rougher.output.recovery']\n",
    "    target_actual_final = target_actual['final.output.recovery']\n",
    "    \n",
    "    target_predictions_rougher = target_predictions[:, 0]\n",
    "    target_predictions_final = target_predictions[:, 1]\n",
    "    \n",
    "    return 0.25 * smape(target_actual_rougher, target_predictions_rougher) + 0.75 \\\n",
    "                * smape(target_actual_rougher, target_predictions_rougher)"
   ]
  },
  {
   "cell_type": "code",
   "execution_count": 63,
   "metadata": {},
   "outputs": [],
   "source": [
    "smape_score = make_scorer(final_smape, greater_is_better=False)"
   ]
  },
  {
   "cell_type": "markdown",
   "metadata": {},
   "source": [
    "The formulas are written, let's move on to training the models, we will use them to automatically select parameters for machine learning models."
   ]
  },
  {
   "cell_type": "code",
   "execution_count": 55,
   "metadata": {},
   "outputs": [],
   "source": [
    "features_train = df_train.drop(['rougher.output.recovery', 'final.output.recovery'], axis='columns')\n",
    "target_train = df_train[['rougher.output.recovery', 'final.output.recovery']]\n",
    "features_test = df_test.drop(['rougher.output.recovery', 'final.output.recovery'], axis='columns')\n",
    "target_test = df_test[['rougher.output.recovery', 'final.output.recovery']]"
   ]
  },
  {
   "cell_type": "code",
   "execution_count": 56,
   "metadata": {},
   "outputs": [
    {
     "name": "stdout",
     "output_type": "stream",
     "text": [
      "sMAPE of the Decision Tree model: -7.2427865764158925\n",
      "CPU times: total: 25.5 s\n",
      "Wall time: 25.6 s\n"
     ]
    }
   ],
   "source": [
    "%%time\n",
    "\n",
    "param_tree = {'max_depth': range(2, 11)}\n",
    "model_tree = DecisionTreeRegressor(random_state=12)\n",
    "search_tree = GridSearchCV(model_tree, param_tree, cv=5, scoring=smape_score)\n",
    "search_tree.fit(features_train, target_train)\n",
    "print(f'sMAPE of the Decision Tree model: {search_tree.best_score_}')"
   ]
  },
  {
   "cell_type": "code",
   "execution_count": 57,
   "metadata": {},
   "outputs": [
    {
     "name": "stdout",
     "output_type": "stream",
     "text": [
      "sMAPE of Random Forest model: -7.118219679523536\n",
      "CPU times: total: 39.6 s\n",
      "Wall time: 39.7 s\n"
     ]
    }
   ],
   "source": [
    "%%time\n",
    "\n",
    "param_forest = {'n_estimators': range(10, 31, 10)}\n",
    "model_forest = RandomForestRegressor(max_depth=2, random_state=12)\n",
    "search_forest = GridSearchCV(model_forest, param_forest, cv=5, scoring=smape_score)\n",
    "search_forest.fit(features_train, target_train)\n",
    "print(f'sMAPE of Random Forest model: {search_forest.best_score_}')"
   ]
  },
  {
   "cell_type": "code",
   "execution_count": 58,
   "metadata": {},
   "outputs": [
    {
     "name": "stdout",
     "output_type": "stream",
     "text": [
      "sMAPE of Linear Regression model: -7.267806730900402\n",
      "CPU times: total: 1.12 s\n",
      "Wall time: 400 ms\n"
     ]
    }
   ],
   "source": [
    "%%time\n",
    "\n",
    "model_lr = LinearRegression()\n",
    "model_lr.fit(features_train, target_train)\n",
    "smape = cross_val_score(model_lr, features_train, target_train, cv=5, scoring=smape_score).mean()\n",
    "print(f'sMAPE of Linear Regression model: {smape}')"
   ]
  },
  {
   "cell_type": "code",
   "execution_count": 64,
   "metadata": {},
   "outputs": [
    {
     "name": "stdout",
     "output_type": "stream",
     "text": [
      "sMAPE of Decision Tree model on testing sample: 9.256082131842708\n",
      "CPU times: total: 297 ms\n",
      "Wall time: 296 ms\n"
     ]
    }
   ],
   "source": [
    "%%time\n",
    "\n",
    "model_tree_test = DecisionTreeRegressor(random_state=12, max_depth = 2)\n",
    "model_tree_test.fit(features_train, target_train)\n",
    "predictions_test = model_tree_test.predict(features_test)\n",
    "\n",
    "print(f'sMAPE of Decision Tree model on testing sample: {final_smape(target_test, predictions_test)}')"
   ]
  },
  {
   "cell_type": "code",
   "execution_count": 65,
   "metadata": {},
   "outputs": [
    {
     "name": "stdout",
     "output_type": "stream",
     "text": [
      "sMAPE of Random Forest model on testing sample: 8.852889301348014\n",
      "CPU times: total: 3.28 s\n",
      "Wall time: 3.36 s\n"
     ]
    }
   ],
   "source": [
    "%%time\n",
    "\n",
    "model = RandomForestRegressor(max_depth=2, n_estimators=20, random_state=12) \n",
    "model.fit(features_train, target_train)\n",
    "predictions_test = model.predict(features_test)\n",
    "\n",
    "print('sMAPE of Random Forest model on testing sample:', final_smape(target_test, predictions_test))"
   ]
  },
  {
   "cell_type": "code",
   "execution_count": 66,
   "metadata": {},
   "outputs": [
    {
     "name": "stdout",
     "output_type": "stream",
     "text": [
      "sMAPE of Linear Regression on testing sample: 8.554523519934913\n",
      "CPU times: total: 188 ms\n",
      "Wall time: 73.5 ms\n"
     ]
    }
   ],
   "source": [
    "%%time\n",
    "\n",
    "model_lr_test = LinearRegression()\n",
    "model_lr_test.fit(features_train, target_train)\n",
    "predictions_test = model_lr_test.predict(features_test)\n",
    "\n",
    "print(f'sMAPE of Linear Regression on testing sample: {final_smape(target_test, predictions_test)}')"
   ]
  },
  {
   "cell_type": "code",
   "execution_count": 67,
   "metadata": {},
   "outputs": [
    {
     "name": "stdout",
     "output_type": "stream",
     "text": [
      "sMAPE : 9.066630806401538\n",
      "CPU times: total: 31.2 ms\n",
      "Wall time: 8 ms\n"
     ]
    }
   ],
   "source": [
    "%%time\n",
    "\n",
    "dummy = DummyRegressor(strategy = 'mean')\n",
    "dummy.fit(features_train, target_train)\n",
    "predictions_test = dummy.predict(features_test)\n",
    "\n",
    "print(f'sMAPE : {final_smape(target_test, predictions_test)}')"
   ]
  },
  {
   "cell_type": "markdown",
   "metadata": {},
   "source": [
    "The models are trained, the best sMAPE indicator was obtained on Linear Regression model, the model was tested on a test sample, the result is also high. Comparing with the DummyRegressorb indicators, we can conclude that the model is adequate, there is almost no difference in the values."
   ]
  },
  {
   "cell_type": "markdown",
   "metadata": {},
   "source": [
    "# Summary"
   ]
  },
  {
   "cell_type": "markdown",
   "metadata": {},
   "source": [
    "- Preparation of the data and training models was conducted.\n",
    "- Using formula we see that MAE is small, which means there are no differences between the data in the dataset.\n",
    "- The histograms were built to see the concentration of the gold, silver, lead during different stages. \n",
    "- The concentration of gold in the final output becomes higher, whereas the concentration of silver is higher during the primary cleaner, and lead concentration during floatating and final output. \n",
    "- The size of raw material granules averages from 6 to 9. The size of raw material granules in the test and training samples is approximately the same.\n",
    "- sMape and final sMAPE were calculated, the higher result showed Linear Regression which was tested on testing sample and Dummy Regressor. "
   ]
  },
  {
   "cell_type": "code",
   "execution_count": null,
   "metadata": {},
   "outputs": [],
   "source": []
  }
 ],
 "metadata": {
  "ExecuteTimeLog": [
   {
    "duration": 1096,
    "start_time": "2022-08-12T04:35:41.086Z"
   },
   {
    "duration": 3016,
    "start_time": "2022-08-12T04:35:42.183Z"
   },
   {
    "duration": 627,
    "start_time": "2022-08-12T04:36:54.260Z"
   },
   {
    "duration": 894,
    "start_time": "2022-08-12T04:36:54.889Z"
   },
   {
    "duration": 34,
    "start_time": "2022-08-12T04:38:02.519Z"
   },
   {
    "duration": 41,
    "start_time": "2022-08-12T04:42:17.082Z"
   },
   {
    "duration": 578,
    "start_time": "2022-08-12T04:42:37.165Z"
   },
   {
    "duration": 202,
    "start_time": "2022-08-12T04:43:03.124Z"
   },
   {
    "duration": 65,
    "start_time": "2022-08-12T04:43:40.726Z"
   },
   {
    "duration": 44,
    "start_time": "2022-08-12T04:44:56.084Z"
   },
   {
    "duration": 579,
    "start_time": "2022-08-12T04:44:56.548Z"
   },
   {
    "duration": 240,
    "start_time": "2022-08-12T04:44:57.129Z"
   },
   {
    "duration": 67,
    "start_time": "2022-08-12T04:44:57.371Z"
   },
   {
    "duration": 534,
    "start_time": "2022-08-12T04:45:23.026Z"
   },
   {
    "duration": 220,
    "start_time": "2022-08-12T04:45:32.788Z"
   },
   {
    "duration": 48,
    "start_time": "2022-08-12T04:45:52.871Z"
   },
   {
    "duration": 5,
    "start_time": "2022-08-12T04:46:05.219Z"
   },
   {
    "duration": 67,
    "start_time": "2022-08-12T06:00:04.881Z"
   },
   {
    "duration": 337,
    "start_time": "2022-08-12T08:19:54.987Z"
   },
   {
    "duration": 613,
    "start_time": "2022-08-12T08:19:55.690Z"
   },
   {
    "duration": 44,
    "start_time": "2022-08-12T08:19:56.671Z"
   },
   {
    "duration": 651,
    "start_time": "2022-08-12T08:19:57.440Z"
   },
   {
    "duration": 231,
    "start_time": "2022-08-12T08:19:58.093Z"
   },
   {
    "duration": 75,
    "start_time": "2022-08-12T08:19:58.327Z"
   },
   {
    "duration": 7,
    "start_time": "2022-08-12T08:19:58.404Z"
   },
   {
    "duration": 3,
    "start_time": "2022-08-12T08:22:10.390Z"
   },
   {
    "duration": 46,
    "start_time": "2022-08-12T12:18:50.208Z"
   },
   {
    "duration": 1580,
    "start_time": "2022-08-12T12:18:58.060Z"
   },
   {
    "duration": 3102,
    "start_time": "2022-08-12T12:18:59.643Z"
   },
   {
    "duration": 45,
    "start_time": "2022-08-12T12:19:02.747Z"
   },
   {
    "duration": 557,
    "start_time": "2022-08-12T12:19:02.794Z"
   },
   {
    "duration": 224,
    "start_time": "2022-08-12T12:19:03.352Z"
   },
   {
    "duration": 61,
    "start_time": "2022-08-12T12:19:03.578Z"
   },
   {
    "duration": 6,
    "start_time": "2022-08-12T12:19:03.640Z"
   },
   {
    "duration": 91,
    "start_time": "2022-08-12T12:19:03.647Z"
   },
   {
    "duration": 18,
    "start_time": "2022-08-12T12:19:12.051Z"
   },
   {
    "duration": 3,
    "start_time": "2022-08-12T12:20:09.729Z"
   },
   {
    "duration": 10,
    "start_time": "2022-08-12T12:20:20.306Z"
   },
   {
    "duration": 8,
    "start_time": "2022-08-12T12:20:21.650Z"
   },
   {
    "duration": 5,
    "start_time": "2022-08-12T12:20:22.008Z"
   },
   {
    "duration": 50,
    "start_time": "2022-08-15T06:07:53.727Z"
   },
   {
    "duration": 1473,
    "start_time": "2022-08-15T06:08:00.737Z"
   },
   {
    "duration": 3140,
    "start_time": "2022-08-15T06:08:02.211Z"
   },
   {
    "duration": 44,
    "start_time": "2022-08-15T06:08:05.352Z"
   },
   {
    "duration": 588,
    "start_time": "2022-08-15T06:08:05.397Z"
   },
   {
    "duration": 258,
    "start_time": "2022-08-15T06:08:05.987Z"
   },
   {
    "duration": 86,
    "start_time": "2022-08-15T06:08:06.248Z"
   },
   {
    "duration": 11,
    "start_time": "2022-08-15T06:08:06.336Z"
   },
   {
    "duration": 52,
    "start_time": "2022-08-15T06:08:06.349Z"
   },
   {
    "duration": 13,
    "start_time": "2022-08-15T06:08:06.403Z"
   },
   {
    "duration": 53,
    "start_time": "2022-08-15T06:08:06.419Z"
   },
   {
    "duration": 5,
    "start_time": "2022-08-15T06:22:18.931Z"
   },
   {
    "duration": 68,
    "start_time": "2022-08-15T06:22:39.391Z"
   },
   {
    "duration": 10,
    "start_time": "2022-08-15T06:22:49.548Z"
   },
   {
    "duration": 86,
    "start_time": "2022-08-15T06:23:02.760Z"
   },
   {
    "duration": 4,
    "start_time": "2022-08-15T06:24:38.473Z"
   },
   {
    "duration": 4,
    "start_time": "2022-08-15T06:24:54.069Z"
   },
   {
    "duration": 4,
    "start_time": "2022-08-15T06:25:04.355Z"
   },
   {
    "duration": 5,
    "start_time": "2022-08-15T06:25:07.593Z"
   },
   {
    "duration": 9,
    "start_time": "2022-08-15T06:26:10.659Z"
   },
   {
    "duration": 4,
    "start_time": "2022-08-15T06:26:22.084Z"
   },
   {
    "duration": 5,
    "start_time": "2022-08-15T06:26:40.606Z"
   },
   {
    "duration": 10,
    "start_time": "2022-08-15T06:38:35.555Z"
   },
   {
    "duration": 9,
    "start_time": "2022-08-15T06:38:51.062Z"
   },
   {
    "duration": 5,
    "start_time": "2022-08-15T06:39:10.881Z"
   },
   {
    "duration": 8,
    "start_time": "2022-08-15T06:39:14.766Z"
   },
   {
    "duration": 17,
    "start_time": "2022-08-15T06:39:30.425Z"
   },
   {
    "duration": 4,
    "start_time": "2022-08-15T06:39:43.234Z"
   },
   {
    "duration": 3,
    "start_time": "2022-08-15T06:42:41.062Z"
   },
   {
    "duration": 9,
    "start_time": "2022-08-15T06:42:44.507Z"
   },
   {
    "duration": 3,
    "start_time": "2022-08-15T06:42:51.501Z"
   },
   {
    "duration": 10,
    "start_time": "2022-08-15T06:42:52.161Z"
   },
   {
    "duration": 6,
    "start_time": "2022-08-15T06:43:03.171Z"
   },
   {
    "duration": 4,
    "start_time": "2022-08-15T06:43:15.671Z"
   },
   {
    "duration": 74,
    "start_time": "2022-08-15T06:44:11.293Z"
   },
   {
    "duration": 143,
    "start_time": "2022-08-15T06:44:16.261Z"
   },
   {
    "duration": 64,
    "start_time": "2022-08-15T06:44:20.745Z"
   },
   {
    "duration": 4,
    "start_time": "2022-08-15T06:45:13.197Z"
   },
   {
    "duration": 4,
    "start_time": "2022-08-15T06:45:38.872Z"
   },
   {
    "duration": 65,
    "start_time": "2022-08-15T06:46:30.601Z"
   },
   {
    "duration": 108,
    "start_time": "2022-08-15T06:46:34.777Z"
   },
   {
    "duration": 204,
    "start_time": "2022-08-15T06:46:45.605Z"
   },
   {
    "duration": 4,
    "start_time": "2022-08-15T06:47:27.957Z"
   },
   {
    "duration": 8,
    "start_time": "2022-08-15T06:49:19.098Z"
   },
   {
    "duration": 10,
    "start_time": "2022-08-15T06:49:33.217Z"
   },
   {
    "duration": 11,
    "start_time": "2022-08-15T06:52:23.202Z"
   },
   {
    "duration": 3,
    "start_time": "2022-08-15T06:52:34.029Z"
   },
   {
    "duration": 11,
    "start_time": "2022-08-15T06:52:39.499Z"
   },
   {
    "duration": 15,
    "start_time": "2022-08-15T06:55:34.886Z"
   },
   {
    "duration": 104,
    "start_time": "2022-08-15T06:56:05.136Z"
   },
   {
    "duration": 1244,
    "start_time": "2022-08-15T06:59:27.458Z"
   },
   {
    "duration": 9,
    "start_time": "2022-08-15T07:02:52.345Z"
   },
   {
    "duration": 4,
    "start_time": "2022-08-15T07:03:01.017Z"
   },
   {
    "duration": 514,
    "start_time": "2022-08-15T07:05:12.461Z"
   },
   {
    "duration": 679,
    "start_time": "2022-08-15T07:07:38.351Z"
   },
   {
    "duration": 608,
    "start_time": "2022-08-15T07:07:44.994Z"
   },
   {
    "duration": 738,
    "start_time": "2022-08-15T07:07:53.623Z"
   },
   {
    "duration": 631,
    "start_time": "2022-08-15T07:08:18.976Z"
   },
   {
    "duration": 747,
    "start_time": "2022-08-15T07:09:03.489Z"
   },
   {
    "duration": 625,
    "start_time": "2022-08-15T07:09:21.244Z"
   },
   {
    "duration": 695,
    "start_time": "2022-08-15T07:09:32.511Z"
   },
   {
    "duration": 614,
    "start_time": "2022-08-15T07:09:42.618Z"
   },
   {
    "duration": 844,
    "start_time": "2022-08-15T07:10:40.025Z"
   },
   {
    "duration": 709,
    "start_time": "2022-08-15T07:10:46.919Z"
   },
   {
    "duration": 704,
    "start_time": "2022-08-15T07:10:55.301Z"
   },
   {
    "duration": 320,
    "start_time": "2022-08-15T07:28:50.628Z"
   },
   {
    "duration": 150,
    "start_time": "2022-08-15T07:29:00.559Z"
   },
   {
    "duration": 14,
    "start_time": "2022-08-15T07:29:53.999Z"
   },
   {
    "duration": 310,
    "start_time": "2022-08-15T07:30:14.985Z"
   },
   {
    "duration": 304,
    "start_time": "2022-08-15T07:30:25.771Z"
   },
   {
    "duration": 272,
    "start_time": "2022-08-15T07:30:33.609Z"
   },
   {
    "duration": 278,
    "start_time": "2022-08-15T07:30:41.548Z"
   },
   {
    "duration": 396,
    "start_time": "2022-08-15T07:30:49.686Z"
   },
   {
    "duration": 322,
    "start_time": "2022-08-15T07:31:03.520Z"
   },
   {
    "duration": 324,
    "start_time": "2022-08-15T07:31:17.552Z"
   },
   {
    "duration": 437,
    "start_time": "2022-08-15T07:32:08.377Z"
   },
   {
    "duration": 577,
    "start_time": "2022-08-15T07:32:14.224Z"
   },
   {
    "duration": 490,
    "start_time": "2022-08-15T07:32:21.779Z"
   },
   {
    "duration": 449,
    "start_time": "2022-08-15T07:32:29.652Z"
   },
   {
    "duration": 401,
    "start_time": "2022-08-15T07:33:28.340Z"
   },
   {
    "duration": 840,
    "start_time": "2022-08-15T07:33:38.914Z"
   },
   {
    "duration": 688,
    "start_time": "2022-08-15T07:33:48.351Z"
   },
   {
    "duration": 539,
    "start_time": "2022-08-15T07:34:19.017Z"
   },
   {
    "duration": 503,
    "start_time": "2022-08-15T07:34:26.230Z"
   },
   {
    "duration": 466,
    "start_time": "2022-08-15T07:34:36.372Z"
   },
   {
    "duration": 406,
    "start_time": "2022-08-15T07:34:45.527Z"
   },
   {
    "duration": 513,
    "start_time": "2022-08-15T07:34:50.865Z"
   },
   {
    "duration": 458,
    "start_time": "2022-08-15T07:35:18.419Z"
   },
   {
    "duration": 406,
    "start_time": "2022-08-15T07:36:34.375Z"
   },
   {
    "duration": 847,
    "start_time": "2022-08-15T07:37:04.903Z"
   },
   {
    "duration": 828,
    "start_time": "2022-08-15T07:37:05.752Z"
   },
   {
    "duration": 873,
    "start_time": "2022-08-15T07:37:06.582Z"
   },
   {
    "duration": 481,
    "start_time": "2022-08-15T07:37:07.457Z"
   },
   {
    "duration": 13,
    "start_time": "2022-08-15T07:46:03.524Z"
   },
   {
    "duration": 1127,
    "start_time": "2022-08-15T07:46:08.873Z"
   },
   {
    "duration": 0,
    "start_time": "2022-08-15T07:46:10.001Z"
   },
   {
    "duration": 1444,
    "start_time": "2022-08-15T07:48:01.956Z"
   },
   {
    "duration": 1011,
    "start_time": "2022-08-15T07:49:18.999Z"
   },
   {
    "duration": 13,
    "start_time": "2022-08-15T07:50:38.903Z"
   },
   {
    "duration": 6,
    "start_time": "2022-08-15T07:50:47.856Z"
   },
   {
    "duration": 570,
    "start_time": "2022-08-15T07:50:49.867Z"
   },
   {
    "duration": 688,
    "start_time": "2022-08-15T07:50:57.536Z"
   },
   {
    "duration": 570,
    "start_time": "2022-08-15T07:51:02.798Z"
   },
   {
    "duration": 577,
    "start_time": "2022-08-15T07:51:08.365Z"
   },
   {
    "duration": 711,
    "start_time": "2022-08-15T07:51:19.037Z"
   },
   {
    "duration": 9,
    "start_time": "2022-08-15T07:54:46.121Z"
   },
   {
    "duration": 1071,
    "start_time": "2022-08-15T07:54:52.619Z"
   },
   {
    "duration": 10,
    "start_time": "2022-08-15T07:56:57.835Z"
   },
   {
    "duration": 1322,
    "start_time": "2022-08-15T07:58:27.423Z"
   },
   {
    "duration": 670,
    "start_time": "2022-08-15T07:58:28.746Z"
   },
   {
    "duration": 43,
    "start_time": "2022-08-15T07:58:29.427Z"
   },
   {
    "duration": 667,
    "start_time": "2022-08-15T07:58:45.441Z"
   },
   {
    "duration": 240,
    "start_time": "2022-08-15T07:58:47.042Z"
   },
   {
    "duration": 51,
    "start_time": "2022-08-15T07:58:48.425Z"
   },
   {
    "duration": 7,
    "start_time": "2022-08-15T07:58:49.206Z"
   },
   {
    "duration": 10,
    "start_time": "2022-08-15T07:58:51.299Z"
   },
   {
    "duration": 8,
    "start_time": "2022-08-15T07:58:56.426Z"
   },
   {
    "duration": 7,
    "start_time": "2022-08-15T07:58:58.586Z"
   },
   {
    "duration": 4,
    "start_time": "2022-08-15T07:59:00.332Z"
   },
   {
    "duration": 5,
    "start_time": "2022-08-15T07:59:01.522Z"
   },
   {
    "duration": 3,
    "start_time": "2022-08-15T07:59:09.112Z"
   },
   {
    "duration": 7,
    "start_time": "2022-08-15T07:59:13.899Z"
   },
   {
    "duration": 16,
    "start_time": "2022-08-15T07:59:14.899Z"
   },
   {
    "duration": 3,
    "start_time": "2022-08-15T07:59:15.619Z"
   },
   {
    "duration": 11,
    "start_time": "2022-08-15T07:59:17.144Z"
   },
   {
    "duration": 5,
    "start_time": "2022-08-15T08:00:10.750Z"
   },
   {
    "duration": 1224,
    "start_time": "2022-08-15T08:00:24.030Z"
   },
   {
    "duration": 671,
    "start_time": "2022-08-15T08:00:25.256Z"
   },
   {
    "duration": 68,
    "start_time": "2022-08-15T08:00:25.928Z"
   },
   {
    "duration": 702,
    "start_time": "2022-08-15T08:00:26.001Z"
   },
   {
    "duration": 235,
    "start_time": "2022-08-15T08:00:26.705Z"
   },
   {
    "duration": 54,
    "start_time": "2022-08-15T08:00:27.199Z"
   },
   {
    "duration": 7,
    "start_time": "2022-08-15T08:00:27.922Z"
   },
   {
    "duration": 9,
    "start_time": "2022-08-15T08:00:28.960Z"
   },
   {
    "duration": 8,
    "start_time": "2022-08-15T08:00:29.197Z"
   },
   {
    "duration": 4,
    "start_time": "2022-08-15T08:00:30.329Z"
   },
   {
    "duration": 3,
    "start_time": "2022-08-15T08:00:31.678Z"
   },
   {
    "duration": 4,
    "start_time": "2022-08-15T08:00:32.338Z"
   },
   {
    "duration": 3,
    "start_time": "2022-08-15T08:00:35.926Z"
   },
   {
    "duration": 7,
    "start_time": "2022-08-15T08:00:39.070Z"
   },
   {
    "duration": 11,
    "start_time": "2022-08-15T08:00:39.795Z"
   },
   {
    "duration": 4,
    "start_time": "2022-08-15T08:00:40.644Z"
   },
   {
    "duration": 11,
    "start_time": "2022-08-15T08:00:43.298Z"
   },
   {
    "duration": 720,
    "start_time": "2022-08-15T08:02:55.050Z"
   },
   {
    "duration": 759,
    "start_time": "2022-08-15T08:02:55.773Z"
   },
   {
    "duration": 669,
    "start_time": "2022-08-15T08:02:56.534Z"
   },
   {
    "duration": 552,
    "start_time": "2022-08-15T08:02:57.206Z"
   },
   {
    "duration": 7,
    "start_time": "2022-08-15T08:02:57.760Z"
   },
   {
    "duration": 529,
    "start_time": "2022-08-15T08:02:57.769Z"
   },
   {
    "duration": 2028,
    "start_time": "2022-08-15T08:02:58.301Z"
   },
   {
    "duration": 10,
    "start_time": "2022-08-15T08:03:56.549Z"
   },
   {
    "duration": 2553,
    "start_time": "2022-08-15T08:04:02.920Z"
   },
   {
    "duration": 1570,
    "start_time": "2022-08-15T08:04:27.014Z"
   },
   {
    "duration": 9,
    "start_time": "2022-08-15T08:05:04.083Z"
   },
   {
    "duration": 12,
    "start_time": "2022-08-15T08:22:25.913Z"
   },
   {
    "duration": 5,
    "start_time": "2022-08-15T08:37:34.467Z"
   },
   {
    "duration": 3,
    "start_time": "2022-08-15T08:37:47.130Z"
   },
   {
    "duration": 2,
    "start_time": "2022-08-15T08:37:56.931Z"
   },
   {
    "duration": 10,
    "start_time": "2022-08-15T08:40:39.084Z"
   },
   {
    "duration": 16,
    "start_time": "2022-08-15T08:40:53.253Z"
   },
   {
    "duration": 7,
    "start_time": "2022-08-15T08:41:12.274Z"
   },
   {
    "duration": 9,
    "start_time": "2022-08-15T08:41:26.091Z"
   },
   {
    "duration": 8,
    "start_time": "2022-08-15T08:41:52.253Z"
   },
   {
    "duration": 9,
    "start_time": "2022-08-15T08:42:09.501Z"
   },
   {
    "duration": 10,
    "start_time": "2022-08-15T08:42:38.425Z"
   },
   {
    "duration": 92,
    "start_time": "2022-08-15T08:43:32.330Z"
   },
   {
    "duration": 5,
    "start_time": "2022-08-15T08:43:41.052Z"
   },
   {
    "duration": 3,
    "start_time": "2022-08-15T08:43:41.748Z"
   },
   {
    "duration": 7,
    "start_time": "2022-08-15T08:43:42.339Z"
   },
   {
    "duration": 17,
    "start_time": "2022-08-15T08:43:42.810Z"
   },
   {
    "duration": 16,
    "start_time": "2022-08-15T08:43:43.384Z"
   },
   {
    "duration": 22,
    "start_time": "2022-08-15T08:43:50.912Z"
   },
   {
    "duration": 24,
    "start_time": "2022-08-15T08:44:01.673Z"
   },
   {
    "duration": 24,
    "start_time": "2022-08-15T08:44:11.461Z"
   },
   {
    "duration": 10,
    "start_time": "2022-08-15T08:45:44.363Z"
   },
   {
    "duration": 9,
    "start_time": "2022-08-15T08:45:50.653Z"
   },
   {
    "duration": 13,
    "start_time": "2022-08-15T08:46:06.928Z"
   },
   {
    "duration": 945,
    "start_time": "2022-08-15T08:46:46.918Z"
   },
   {
    "duration": 1393,
    "start_time": "2022-08-15T08:47:18.207Z"
   },
   {
    "duration": 703,
    "start_time": "2022-08-15T08:47:19.602Z"
   },
   {
    "duration": 47,
    "start_time": "2022-08-15T08:47:20.306Z"
   },
   {
    "duration": 629,
    "start_time": "2022-08-15T08:47:20.355Z"
   },
   {
    "duration": 241,
    "start_time": "2022-08-15T08:47:20.987Z"
   },
   {
    "duration": 72,
    "start_time": "2022-08-15T08:47:21.229Z"
   },
   {
    "duration": 6,
    "start_time": "2022-08-15T08:47:21.302Z"
   },
   {
    "duration": 15,
    "start_time": "2022-08-15T08:47:21.310Z"
   },
   {
    "duration": 10,
    "start_time": "2022-08-15T08:47:21.326Z"
   },
   {
    "duration": 5,
    "start_time": "2022-08-15T08:47:21.338Z"
   },
   {
    "duration": 4,
    "start_time": "2022-08-15T08:47:21.431Z"
   },
   {
    "duration": 6,
    "start_time": "2022-08-15T08:47:21.599Z"
   },
   {
    "duration": 3,
    "start_time": "2022-08-15T08:47:21.772Z"
   },
   {
    "duration": 8,
    "start_time": "2022-08-15T08:47:22.136Z"
   },
   {
    "duration": 16,
    "start_time": "2022-08-15T08:47:22.305Z"
   },
   {
    "duration": 4,
    "start_time": "2022-08-15T08:47:22.500Z"
   },
   {
    "duration": 15,
    "start_time": "2022-08-15T08:47:22.866Z"
   },
   {
    "duration": 827,
    "start_time": "2022-08-15T08:47:23.395Z"
   },
   {
    "duration": 689,
    "start_time": "2022-08-15T08:47:24.224Z"
   },
   {
    "duration": 849,
    "start_time": "2022-08-15T08:47:24.916Z"
   },
   {
    "duration": 460,
    "start_time": "2022-08-15T08:47:25.767Z"
   },
   {
    "duration": 8,
    "start_time": "2022-08-15T08:47:26.230Z"
   },
   {
    "duration": 688,
    "start_time": "2022-08-15T08:47:26.240Z"
   },
   {
    "duration": 9,
    "start_time": "2022-08-15T08:47:26.930Z"
   },
   {
    "duration": 13,
    "start_time": "2022-08-15T08:47:26.940Z"
   },
   {
    "duration": 4,
    "start_time": "2022-08-15T08:47:27.019Z"
   },
   {
    "duration": 3,
    "start_time": "2022-08-15T08:47:27.921Z"
   },
   {
    "duration": 887,
    "start_time": "2022-08-15T08:47:28.726Z"
   },
   {
    "duration": 7,
    "start_time": "2022-08-15T08:48:07.902Z"
   },
   {
    "duration": 20,
    "start_time": "2022-08-15T08:48:09.673Z"
   },
   {
    "duration": 10,
    "start_time": "2022-08-15T08:48:12.517Z"
   },
   {
    "duration": 17,
    "start_time": "2022-08-15T08:48:28.279Z"
   },
   {
    "duration": 16,
    "start_time": "2022-08-15T08:48:43.104Z"
   },
   {
    "duration": 3,
    "start_time": "2022-08-15T09:04:53.379Z"
   },
   {
    "duration": 1600,
    "start_time": "2022-08-15T09:06:30.258Z"
   },
   {
    "duration": 9,
    "start_time": "2022-08-15T09:06:49.669Z"
   },
   {
    "duration": 2945,
    "start_time": "2022-08-15T09:08:41.461Z"
   },
   {
    "duration": 957,
    "start_time": "2022-08-15T09:08:58.967Z"
   },
   {
    "duration": 1394,
    "start_time": "2022-08-15T09:09:51.737Z"
   },
   {
    "duration": 677,
    "start_time": "2022-08-15T09:09:53.134Z"
   },
   {
    "duration": 51,
    "start_time": "2022-08-15T09:09:53.812Z"
   },
   {
    "duration": 615,
    "start_time": "2022-08-15T09:09:53.865Z"
   },
   {
    "duration": 231,
    "start_time": "2022-08-15T09:09:54.486Z"
   },
   {
    "duration": 69,
    "start_time": "2022-08-15T09:09:54.719Z"
   },
   {
    "duration": 6,
    "start_time": "2022-08-15T09:09:54.790Z"
   },
   {
    "duration": 11,
    "start_time": "2022-08-15T09:09:54.798Z"
   },
   {
    "duration": 8,
    "start_time": "2022-08-15T09:09:54.811Z"
   },
   {
    "duration": 4,
    "start_time": "2022-08-15T09:09:54.822Z"
   },
   {
    "duration": 5,
    "start_time": "2022-08-15T09:09:54.828Z"
   },
   {
    "duration": 7,
    "start_time": "2022-08-15T09:09:54.835Z"
   },
   {
    "duration": 6,
    "start_time": "2022-08-15T09:09:54.843Z"
   },
   {
    "duration": 18,
    "start_time": "2022-08-15T09:09:54.886Z"
   },
   {
    "duration": 15,
    "start_time": "2022-08-15T09:09:54.906Z"
   },
   {
    "duration": 3,
    "start_time": "2022-08-15T09:09:54.923Z"
   },
   {
    "duration": 13,
    "start_time": "2022-08-15T09:09:54.928Z"
   },
   {
    "duration": 712,
    "start_time": "2022-08-15T09:09:54.943Z"
   },
   {
    "duration": 767,
    "start_time": "2022-08-15T09:09:55.657Z"
   },
   {
    "duration": 802,
    "start_time": "2022-08-15T09:09:56.426Z"
   },
   {
    "duration": 419,
    "start_time": "2022-08-15T09:09:57.230Z"
   },
   {
    "duration": 6,
    "start_time": "2022-08-15T09:09:57.650Z"
   },
   {
    "duration": 526,
    "start_time": "2022-08-15T09:09:57.657Z"
   },
   {
    "duration": 9,
    "start_time": "2022-08-15T09:09:58.184Z"
   },
   {
    "duration": 8,
    "start_time": "2022-08-15T09:09:58.195Z"
   },
   {
    "duration": 3,
    "start_time": "2022-08-15T09:09:58.205Z"
   },
   {
    "duration": 5,
    "start_time": "2022-08-15T09:09:58.210Z"
   },
   {
    "duration": 1631,
    "start_time": "2022-08-15T09:09:58.218Z"
   },
   {
    "duration": 11,
    "start_time": "2022-08-15T09:10:25.202Z"
   },
   {
    "duration": 1218,
    "start_time": "2022-08-15T09:10:39.582Z"
   },
   {
    "duration": 3,
    "start_time": "2022-08-15T09:11:02.899Z"
   },
   {
    "duration": 8,
    "start_time": "2022-08-15T09:11:03.115Z"
   },
   {
    "duration": 2,
    "start_time": "2022-08-15T09:11:18.878Z"
   },
   {
    "duration": 8,
    "start_time": "2022-08-15T09:11:29.182Z"
   },
   {
    "duration": 1411,
    "start_time": "2022-08-15T09:12:02.935Z"
   },
   {
    "duration": 726,
    "start_time": "2022-08-15T09:12:04.348Z"
   },
   {
    "duration": 50,
    "start_time": "2022-08-15T09:12:05.076Z"
   },
   {
    "duration": 611,
    "start_time": "2022-08-15T09:12:05.128Z"
   },
   {
    "duration": 246,
    "start_time": "2022-08-15T09:12:05.741Z"
   },
   {
    "duration": 68,
    "start_time": "2022-08-15T09:12:05.988Z"
   },
   {
    "duration": 7,
    "start_time": "2022-08-15T09:12:06.058Z"
   },
   {
    "duration": 11,
    "start_time": "2022-08-15T09:12:06.104Z"
   },
   {
    "duration": 9,
    "start_time": "2022-08-15T09:12:06.357Z"
   },
   {
    "duration": 5,
    "start_time": "2022-08-15T09:12:06.839Z"
   },
   {
    "duration": 4,
    "start_time": "2022-08-15T09:12:07.546Z"
   },
   {
    "duration": 4,
    "start_time": "2022-08-15T09:12:07.788Z"
   },
   {
    "duration": 3,
    "start_time": "2022-08-15T09:12:08.021Z"
   },
   {
    "duration": 6,
    "start_time": "2022-08-15T09:12:08.529Z"
   },
   {
    "duration": 12,
    "start_time": "2022-08-15T09:12:08.783Z"
   },
   {
    "duration": 5,
    "start_time": "2022-08-15T09:12:09.014Z"
   },
   {
    "duration": 11,
    "start_time": "2022-08-15T09:12:09.498Z"
   },
   {
    "duration": 767,
    "start_time": "2022-08-15T09:12:10.222Z"
   },
   {
    "duration": 670,
    "start_time": "2022-08-15T09:12:10.990Z"
   },
   {
    "duration": 800,
    "start_time": "2022-08-15T09:12:11.662Z"
   },
   {
    "duration": 435,
    "start_time": "2022-08-15T09:12:12.465Z"
   },
   {
    "duration": 7,
    "start_time": "2022-08-15T09:12:12.902Z"
   },
   {
    "duration": 540,
    "start_time": "2022-08-15T09:12:12.910Z"
   },
   {
    "duration": 11,
    "start_time": "2022-08-15T09:12:13.453Z"
   },
   {
    "duration": 13,
    "start_time": "2022-08-15T09:12:17.617Z"
   },
   {
    "duration": 5,
    "start_time": "2022-08-15T09:12:21.048Z"
   },
   {
    "duration": 3,
    "start_time": "2022-08-15T09:12:21.345Z"
   },
   {
    "duration": 1624,
    "start_time": "2022-08-15T09:12:58.316Z"
   },
   {
    "duration": 1579,
    "start_time": "2022-08-15T09:13:32.568Z"
   },
   {
    "duration": 9,
    "start_time": "2022-08-15T09:13:47.319Z"
   },
   {
    "duration": 14,
    "start_time": "2022-08-15T09:14:30.409Z"
   },
   {
    "duration": 12,
    "start_time": "2022-08-15T09:22:04.394Z"
   },
   {
    "duration": 3,
    "start_time": "2022-08-15T10:02:10.130Z"
   },
   {
    "duration": 4,
    "start_time": "2022-08-15T10:02:12.679Z"
   },
   {
    "duration": 5,
    "start_time": "2022-08-15T10:02:12.890Z"
   },
   {
    "duration": 8,
    "start_time": "2022-08-15T10:02:14.734Z"
   },
   {
    "duration": 9,
    "start_time": "2022-08-15T10:02:37.658Z"
   },
   {
    "duration": 11,
    "start_time": "2022-08-15T10:02:44.393Z"
   },
   {
    "duration": 4,
    "start_time": "2022-08-15T10:03:25.182Z"
   },
   {
    "duration": 764,
    "start_time": "2022-08-15T10:03:25.525Z"
   },
   {
    "duration": 57,
    "start_time": "2022-08-15T10:03:26.292Z"
   },
   {
    "duration": 14,
    "start_time": "2022-08-15T10:03:31.366Z"
   },
   {
    "duration": 10,
    "start_time": "2022-08-15T10:03:37.807Z"
   },
   {
    "duration": 11,
    "start_time": "2022-08-15T10:03:42.310Z"
   },
   {
    "duration": 11,
    "start_time": "2022-08-15T10:05:20.334Z"
   },
   {
    "duration": 13,
    "start_time": "2022-08-15T10:05:26.017Z"
   },
   {
    "duration": 20,
    "start_time": "2022-08-15T10:05:28.811Z"
   },
   {
    "duration": 11,
    "start_time": "2022-08-15T10:24:01.943Z"
   },
   {
    "duration": 9,
    "start_time": "2022-08-15T10:24:08.962Z"
   },
   {
    "duration": 6,
    "start_time": "2022-08-15T10:24:16.139Z"
   },
   {
    "duration": 27,
    "start_time": "2022-08-15T10:24:45.507Z"
   },
   {
    "duration": 32,
    "start_time": "2022-08-15T10:24:57.576Z"
   },
   {
    "duration": 907,
    "start_time": "2022-08-15T10:25:44.975Z"
   },
   {
    "duration": 1310,
    "start_time": "2022-08-15T10:25:57.837Z"
   },
   {
    "duration": 693,
    "start_time": "2022-08-15T10:25:59.150Z"
   },
   {
    "duration": 62,
    "start_time": "2022-08-15T10:25:59.845Z"
   },
   {
    "duration": 605,
    "start_time": "2022-08-15T10:25:59.909Z"
   },
   {
    "duration": 244,
    "start_time": "2022-08-15T10:26:00.516Z"
   },
   {
    "duration": 63,
    "start_time": "2022-08-15T10:26:00.762Z"
   },
   {
    "duration": 7,
    "start_time": "2022-08-15T10:26:00.827Z"
   },
   {
    "duration": 15,
    "start_time": "2022-08-15T10:26:00.836Z"
   },
   {
    "duration": 21,
    "start_time": "2022-08-15T10:26:00.852Z"
   },
   {
    "duration": 15,
    "start_time": "2022-08-15T10:26:00.875Z"
   },
   {
    "duration": 3,
    "start_time": "2022-08-15T10:26:01.449Z"
   },
   {
    "duration": 5,
    "start_time": "2022-08-15T10:26:01.644Z"
   },
   {
    "duration": 4,
    "start_time": "2022-08-15T10:26:01.837Z"
   },
   {
    "duration": 6,
    "start_time": "2022-08-15T10:26:02.314Z"
   },
   {
    "duration": 12,
    "start_time": "2022-08-15T10:26:02.517Z"
   },
   {
    "duration": 3,
    "start_time": "2022-08-15T10:26:02.715Z"
   },
   {
    "duration": 10,
    "start_time": "2022-08-15T10:26:03.130Z"
   },
   {
    "duration": 762,
    "start_time": "2022-08-15T10:26:03.703Z"
   },
   {
    "duration": 688,
    "start_time": "2022-08-15T10:26:04.467Z"
   },
   {
    "duration": 802,
    "start_time": "2022-08-15T10:26:05.156Z"
   },
   {
    "duration": 536,
    "start_time": "2022-08-15T10:26:05.960Z"
   },
   {
    "duration": 8,
    "start_time": "2022-08-15T10:26:06.501Z"
   },
   {
    "duration": 590,
    "start_time": "2022-08-15T10:26:06.510Z"
   },
   {
    "duration": 1129,
    "start_time": "2022-08-15T10:26:07.102Z"
   },
   {
    "duration": 4,
    "start_time": "2022-08-15T10:27:05.948Z"
   },
   {
    "duration": 3,
    "start_time": "2022-08-15T10:27:24.599Z"
   },
   {
    "duration": 4,
    "start_time": "2022-08-15T10:28:23.826Z"
   },
   {
    "duration": 12,
    "start_time": "2022-08-15T10:28:29.402Z"
   },
   {
    "duration": 10,
    "start_time": "2022-08-15T10:28:33.159Z"
   },
   {
    "duration": 9,
    "start_time": "2022-08-15T10:28:33.537Z"
   },
   {
    "duration": 3,
    "start_time": "2022-08-15T10:28:34.566Z"
   },
   {
    "duration": 3,
    "start_time": "2022-08-15T10:28:36.094Z"
   },
   {
    "duration": 15,
    "start_time": "2022-08-15T10:28:37.017Z"
   },
   {
    "duration": 9,
    "start_time": "2022-08-15T10:28:41.492Z"
   },
   {
    "duration": 9,
    "start_time": "2022-08-15T10:28:41.662Z"
   },
   {
    "duration": 78,
    "start_time": "2022-08-15T10:29:01.455Z"
   },
   {
    "duration": 6,
    "start_time": "2022-08-15T10:29:08.013Z"
   },
   {
    "duration": 19,
    "start_time": "2022-08-15T10:29:10.053Z"
   },
   {
    "duration": 25,
    "start_time": "2022-08-15T10:29:25.648Z"
   },
   {
    "duration": 9,
    "start_time": "2022-08-15T10:31:52.595Z"
   },
   {
    "duration": 10,
    "start_time": "2022-08-15T10:36:38.433Z"
   },
   {
    "duration": 4,
    "start_time": "2022-08-15T10:36:40.271Z"
   },
   {
    "duration": 3,
    "start_time": "2022-08-15T10:36:40.471Z"
   },
   {
    "duration": 8,
    "start_time": "2022-08-15T10:36:40.652Z"
   },
   {
    "duration": 10,
    "start_time": "2022-08-15T10:36:41.419Z"
   },
   {
    "duration": 8,
    "start_time": "2022-08-15T10:36:58.525Z"
   },
   {
    "duration": 6,
    "start_time": "2022-08-15T10:37:24.187Z"
   },
   {
    "duration": 2,
    "start_time": "2022-08-15T10:37:30.622Z"
   },
   {
    "duration": 8,
    "start_time": "2022-08-15T10:37:31.916Z"
   },
   {
    "duration": 10,
    "start_time": "2022-08-15T10:37:51.648Z"
   },
   {
    "duration": 259,
    "start_time": "2022-08-15T10:37:56.968Z"
   },
   {
    "duration": 4,
    "start_time": "2022-08-15T10:40:10.412Z"
   },
   {
    "duration": 1291,
    "start_time": "2022-08-15T10:40:32.419Z"
   },
   {
    "duration": 684,
    "start_time": "2022-08-15T10:40:33.712Z"
   },
   {
    "duration": 45,
    "start_time": "2022-08-15T10:40:34.398Z"
   },
   {
    "duration": 618,
    "start_time": "2022-08-15T10:40:34.446Z"
   },
   {
    "duration": 249,
    "start_time": "2022-08-15T10:40:35.066Z"
   },
   {
    "duration": 71,
    "start_time": "2022-08-15T10:40:35.317Z"
   },
   {
    "duration": 6,
    "start_time": "2022-08-15T10:40:35.389Z"
   },
   {
    "duration": 11,
    "start_time": "2022-08-15T10:40:35.398Z"
   },
   {
    "duration": 8,
    "start_time": "2022-08-15T10:40:35.411Z"
   },
   {
    "duration": 4,
    "start_time": "2022-08-15T10:40:35.420Z"
   },
   {
    "duration": 3,
    "start_time": "2022-08-15T10:40:35.917Z"
   },
   {
    "duration": 6,
    "start_time": "2022-08-15T10:40:36.090Z"
   },
   {
    "duration": 4,
    "start_time": "2022-08-15T10:40:36.288Z"
   },
   {
    "duration": 10,
    "start_time": "2022-08-15T10:40:36.662Z"
   },
   {
    "duration": 15,
    "start_time": "2022-08-15T10:40:36.856Z"
   },
   {
    "duration": 3,
    "start_time": "2022-08-15T10:40:37.054Z"
   },
   {
    "duration": 11,
    "start_time": "2022-08-15T10:40:37.432Z"
   },
   {
    "duration": 686,
    "start_time": "2022-08-15T10:40:37.982Z"
   },
   {
    "duration": 623,
    "start_time": "2022-08-15T10:40:38.670Z"
   },
   {
    "duration": 761,
    "start_time": "2022-08-15T10:40:39.294Z"
   },
   {
    "duration": 454,
    "start_time": "2022-08-15T10:40:40.057Z"
   },
   {
    "duration": 6,
    "start_time": "2022-08-15T10:40:40.513Z"
   },
   {
    "duration": 539,
    "start_time": "2022-08-15T10:40:40.520Z"
   },
   {
    "duration": 12,
    "start_time": "2022-08-15T10:40:41.061Z"
   },
   {
    "duration": 13,
    "start_time": "2022-08-15T10:40:41.074Z"
   },
   {
    "duration": 13,
    "start_time": "2022-08-15T10:41:59.031Z"
   },
   {
    "duration": 781,
    "start_time": "2022-08-15T10:42:01.570Z"
   },
   {
    "duration": 647,
    "start_time": "2022-08-15T10:42:02.353Z"
   },
   {
    "duration": 733,
    "start_time": "2022-08-15T10:42:03.001Z"
   },
   {
    "duration": 406,
    "start_time": "2022-08-15T10:42:03.736Z"
   },
   {
    "duration": 7,
    "start_time": "2022-08-15T10:42:04.143Z"
   },
   {
    "duration": 515,
    "start_time": "2022-08-15T10:42:04.151Z"
   },
   {
    "duration": 10,
    "start_time": "2022-08-15T10:42:04.668Z"
   },
   {
    "duration": 4,
    "start_time": "2022-08-15T10:42:04.686Z"
   },
   {
    "duration": 101,
    "start_time": "2022-08-15T10:43:12.626Z"
   },
   {
    "duration": 3,
    "start_time": "2022-08-15T10:43:20.177Z"
   },
   {
    "duration": 3,
    "start_time": "2022-08-15T10:43:25.944Z"
   },
   {
    "duration": 12,
    "start_time": "2022-08-15T10:52:23.849Z"
   },
   {
    "duration": 4,
    "start_time": "2022-08-15T10:53:33.956Z"
   },
   {
    "duration": 3,
    "start_time": "2022-08-15T10:53:43.528Z"
   },
   {
    "duration": 12,
    "start_time": "2022-08-15T10:55:16.282Z"
   },
   {
    "duration": 3,
    "start_time": "2022-08-15T10:55:33.032Z"
   },
   {
    "duration": 3,
    "start_time": "2022-08-15T10:55:33.219Z"
   },
   {
    "duration": 11,
    "start_time": "2022-08-15T10:55:33.613Z"
   },
   {
    "duration": 1464,
    "start_time": "2022-08-15T10:55:43.659Z"
   },
   {
    "duration": 669,
    "start_time": "2022-08-15T10:55:45.125Z"
   },
   {
    "duration": 44,
    "start_time": "2022-08-15T10:55:45.796Z"
   },
   {
    "duration": 732,
    "start_time": "2022-08-15T10:55:45.842Z"
   },
   {
    "duration": 273,
    "start_time": "2022-08-15T10:55:46.576Z"
   },
   {
    "duration": 67,
    "start_time": "2022-08-15T10:55:46.851Z"
   },
   {
    "duration": 8,
    "start_time": "2022-08-15T10:55:46.920Z"
   },
   {
    "duration": 13,
    "start_time": "2022-08-15T10:55:46.931Z"
   },
   {
    "duration": 9,
    "start_time": "2022-08-15T10:55:46.946Z"
   },
   {
    "duration": 6,
    "start_time": "2022-08-15T10:55:46.989Z"
   },
   {
    "duration": 5,
    "start_time": "2022-08-15T10:55:46.997Z"
   },
   {
    "duration": 8,
    "start_time": "2022-08-15T10:55:47.004Z"
   },
   {
    "duration": 9,
    "start_time": "2022-08-15T10:55:47.013Z"
   },
   {
    "duration": 10,
    "start_time": "2022-08-15T10:55:47.024Z"
   },
   {
    "duration": 18,
    "start_time": "2022-08-15T10:55:47.035Z"
   },
   {
    "duration": 4,
    "start_time": "2022-08-15T10:55:47.054Z"
   },
   {
    "duration": 10,
    "start_time": "2022-08-15T10:55:47.087Z"
   },
   {
    "duration": 812,
    "start_time": "2022-08-15T10:55:47.099Z"
   },
   {
    "duration": 660,
    "start_time": "2022-08-15T10:55:47.913Z"
   },
   {
    "duration": 781,
    "start_time": "2022-08-15T10:55:48.574Z"
   },
   {
    "duration": 424,
    "start_time": "2022-08-15T10:55:49.357Z"
   },
   {
    "duration": 9,
    "start_time": "2022-08-15T10:55:49.782Z"
   },
   {
    "duration": 552,
    "start_time": "2022-08-15T10:55:49.793Z"
   },
   {
    "duration": 11,
    "start_time": "2022-08-15T10:55:50.348Z"
   },
   {
    "duration": 27,
    "start_time": "2022-08-15T10:55:50.361Z"
   },
   {
    "duration": 3,
    "start_time": "2022-08-15T10:55:50.389Z"
   },
   {
    "duration": 6,
    "start_time": "2022-08-15T10:55:50.394Z"
   },
   {
    "duration": 115,
    "start_time": "2022-08-15T10:55:50.403Z"
   },
   {
    "duration": 9,
    "start_time": "2022-08-15T10:56:09.755Z"
   },
   {
    "duration": 9,
    "start_time": "2022-08-15T10:57:57.941Z"
   },
   {
    "duration": 1336,
    "start_time": "2022-08-15T10:58:07.766Z"
   },
   {
    "duration": 679,
    "start_time": "2022-08-15T10:58:09.104Z"
   },
   {
    "duration": 45,
    "start_time": "2022-08-15T10:58:09.785Z"
   },
   {
    "duration": 603,
    "start_time": "2022-08-15T10:58:09.833Z"
   },
   {
    "duration": 230,
    "start_time": "2022-08-15T10:58:10.438Z"
   },
   {
    "duration": 62,
    "start_time": "2022-08-15T10:58:10.670Z"
   },
   {
    "duration": 6,
    "start_time": "2022-08-15T10:58:10.734Z"
   },
   {
    "duration": 10,
    "start_time": "2022-08-15T10:58:10.742Z"
   },
   {
    "duration": 34,
    "start_time": "2022-08-15T10:58:10.754Z"
   },
   {
    "duration": 5,
    "start_time": "2022-08-15T10:58:10.790Z"
   },
   {
    "duration": 7,
    "start_time": "2022-08-15T10:58:10.796Z"
   },
   {
    "duration": 11,
    "start_time": "2022-08-15T10:58:10.805Z"
   },
   {
    "duration": 5,
    "start_time": "2022-08-15T10:58:10.818Z"
   },
   {
    "duration": 8,
    "start_time": "2022-08-15T10:58:10.825Z"
   },
   {
    "duration": 14,
    "start_time": "2022-08-15T10:58:10.835Z"
   },
   {
    "duration": 4,
    "start_time": "2022-08-15T10:58:10.851Z"
   },
   {
    "duration": 36,
    "start_time": "2022-08-15T10:58:10.856Z"
   },
   {
    "duration": 728,
    "start_time": "2022-08-15T10:58:10.893Z"
   },
   {
    "duration": 652,
    "start_time": "2022-08-15T10:58:11.622Z"
   },
   {
    "duration": 766,
    "start_time": "2022-08-15T10:58:12.276Z"
   },
   {
    "duration": 409,
    "start_time": "2022-08-15T10:58:13.044Z"
   },
   {
    "duration": 7,
    "start_time": "2022-08-15T10:58:13.455Z"
   },
   {
    "duration": 541,
    "start_time": "2022-08-15T10:58:13.463Z"
   },
   {
    "duration": 10,
    "start_time": "2022-08-15T10:58:14.006Z"
   },
   {
    "duration": 14,
    "start_time": "2022-08-15T10:58:14.018Z"
   },
   {
    "duration": 4,
    "start_time": "2022-08-15T10:58:14.033Z"
   },
   {
    "duration": 21,
    "start_time": "2022-08-15T10:58:14.039Z"
   },
   {
    "duration": 7,
    "start_time": "2022-08-15T10:58:14.063Z"
   },
   {
    "duration": 20,
    "start_time": "2022-08-15T10:58:14.071Z"
   },
   {
    "duration": 3,
    "start_time": "2022-08-15T10:58:23.883Z"
   },
   {
    "duration": 3,
    "start_time": "2022-08-15T10:58:24.237Z"
   },
   {
    "duration": 9,
    "start_time": "2022-08-15T10:58:24.759Z"
   },
   {
    "duration": 86,
    "start_time": "2022-08-15T11:00:34.401Z"
   },
   {
    "duration": 5,
    "start_time": "2022-08-15T11:00:42.035Z"
   },
   {
    "duration": 105,
    "start_time": "2022-08-15T11:00:42.717Z"
   },
   {
    "duration": 6,
    "start_time": "2022-08-15T11:05:23.642Z"
   },
   {
    "duration": 24,
    "start_time": "2022-08-15T11:05:34.248Z"
   },
   {
    "duration": 5,
    "start_time": "2022-08-15T11:05:42.162Z"
   },
   {
    "duration": 22,
    "start_time": "2022-08-15T11:06:25.857Z"
   },
   {
    "duration": 13,
    "start_time": "2022-08-15T11:06:44.572Z"
   },
   {
    "duration": 1363,
    "start_time": "2022-08-15T11:06:52.262Z"
   },
   {
    "duration": 654,
    "start_time": "2022-08-15T11:06:53.627Z"
   },
   {
    "duration": 47,
    "start_time": "2022-08-15T11:06:54.282Z"
   },
   {
    "duration": 604,
    "start_time": "2022-08-15T11:06:54.331Z"
   },
   {
    "duration": 237,
    "start_time": "2022-08-15T11:06:54.937Z"
   },
   {
    "duration": 58,
    "start_time": "2022-08-15T11:06:55.176Z"
   },
   {
    "duration": 8,
    "start_time": "2022-08-15T11:06:55.236Z"
   },
   {
    "duration": 16,
    "start_time": "2022-08-15T11:06:55.246Z"
   },
   {
    "duration": 24,
    "start_time": "2022-08-15T11:06:55.264Z"
   },
   {
    "duration": 6,
    "start_time": "2022-08-15T11:06:55.290Z"
   },
   {
    "duration": 7,
    "start_time": "2022-08-15T11:06:55.298Z"
   },
   {
    "duration": 9,
    "start_time": "2022-08-15T11:06:55.306Z"
   },
   {
    "duration": 5,
    "start_time": "2022-08-15T11:06:55.317Z"
   },
   {
    "duration": 19,
    "start_time": "2022-08-15T11:06:55.323Z"
   },
   {
    "duration": 13,
    "start_time": "2022-08-15T11:06:55.344Z"
   },
   {
    "duration": 4,
    "start_time": "2022-08-15T11:06:55.359Z"
   },
   {
    "duration": 12,
    "start_time": "2022-08-15T11:06:55.386Z"
   },
   {
    "duration": 766,
    "start_time": "2022-08-15T11:06:55.400Z"
   },
   {
    "duration": 776,
    "start_time": "2022-08-15T11:06:56.168Z"
   },
   {
    "duration": 832,
    "start_time": "2022-08-15T11:06:56.946Z"
   },
   {
    "duration": 430,
    "start_time": "2022-08-15T11:06:57.780Z"
   },
   {
    "duration": 7,
    "start_time": "2022-08-15T11:06:58.212Z"
   },
   {
    "duration": 535,
    "start_time": "2022-08-15T11:06:58.220Z"
   },
   {
    "duration": 11,
    "start_time": "2022-08-15T11:06:58.757Z"
   },
   {
    "duration": 22,
    "start_time": "2022-08-15T11:06:58.770Z"
   },
   {
    "duration": 6,
    "start_time": "2022-08-15T11:06:58.794Z"
   },
   {
    "duration": 7,
    "start_time": "2022-08-15T11:06:58.802Z"
   },
   {
    "duration": 8,
    "start_time": "2022-08-15T11:06:58.812Z"
   },
   {
    "duration": 8,
    "start_time": "2022-08-15T11:06:58.821Z"
   },
   {
    "duration": 126,
    "start_time": "2022-08-15T11:06:58.830Z"
   },
   {
    "duration": 0,
    "start_time": "2022-08-15T11:06:58.958Z"
   },
   {
    "duration": 5,
    "start_time": "2022-08-15T11:07:12.281Z"
   },
   {
    "duration": 289,
    "start_time": "2022-08-15T11:07:14.399Z"
   },
   {
    "duration": 10,
    "start_time": "2022-08-15T11:11:02.631Z"
   },
   {
    "duration": 3,
    "start_time": "2022-08-15T11:11:06.134Z"
   },
   {
    "duration": 3,
    "start_time": "2022-08-15T11:11:09.883Z"
   },
   {
    "duration": 9,
    "start_time": "2022-08-15T11:11:27.607Z"
   },
   {
    "duration": 10,
    "start_time": "2022-08-15T11:11:29.346Z"
   },
   {
    "duration": 13366,
    "start_time": "2022-08-15T11:11:34.149Z"
   },
   {
    "duration": 10,
    "start_time": "2022-08-15T11:12:32.476Z"
   },
   {
    "duration": 22919,
    "start_time": "2022-08-15T11:12:39.108Z"
   },
   {
    "duration": 1494,
    "start_time": "2022-08-15T11:13:04.399Z"
   },
   {
    "duration": 99,
    "start_time": "2022-08-15T11:13:05.895Z"
   },
   {
    "duration": 1704,
    "start_time": "2022-08-15T11:13:14.331Z"
   },
   {
    "duration": 13727,
    "start_time": "2022-08-15T11:13:57.298Z"
   },
   {
    "duration": 13944,
    "start_time": "2022-08-15T11:14:11.343Z"
   },
   {
    "duration": 89,
    "start_time": "2022-08-15T11:14:55.469Z"
   },
   {
    "duration": 22826,
    "start_time": "2022-08-15T11:15:23.248Z"
   },
   {
    "duration": 23212,
    "start_time": "2022-08-15T11:15:56.109Z"
   },
   {
    "duration": 22485,
    "start_time": "2022-08-15T11:16:28.687Z"
   },
   {
    "duration": 47,
    "start_time": "2022-08-15T11:17:47.121Z"
   },
   {
    "duration": 22935,
    "start_time": "2022-08-15T11:18:15.138Z"
   },
   {
    "duration": 13596,
    "start_time": "2022-08-15T11:18:38.075Z"
   },
   {
    "duration": 1514,
    "start_time": "2022-08-15T11:18:51.673Z"
   },
   {
    "duration": 1710,
    "start_time": "2022-08-15T11:19:14.405Z"
   },
   {
    "duration": 1727,
    "start_time": "2022-08-15T11:19:18.667Z"
   },
   {
    "duration": 1322,
    "start_time": "2022-08-15T11:19:35.471Z"
   },
   {
    "duration": 51,
    "start_time": "2022-08-15T11:19:57.943Z"
   },
   {
    "duration": 265,
    "start_time": "2022-08-15T11:20:04.223Z"
   },
   {
    "duration": 8580,
    "start_time": "2022-08-15T11:20:58.131Z"
   },
   {
    "duration": 918,
    "start_time": "2022-08-15T11:21:33.349Z"
   },
   {
    "duration": 2,
    "start_time": "2022-08-15T11:21:52.312Z"
   },
   {
    "duration": 8,
    "start_time": "2022-08-15T11:21:54.102Z"
   },
   {
    "duration": 914,
    "start_time": "2022-08-15T11:21:54.273Z"
   },
   {
    "duration": 1327,
    "start_time": "2022-08-15T11:22:41.540Z"
   },
   {
    "duration": 685,
    "start_time": "2022-08-15T11:22:42.868Z"
   },
   {
    "duration": 46,
    "start_time": "2022-08-15T11:22:43.555Z"
   },
   {
    "duration": 686,
    "start_time": "2022-08-15T11:22:43.603Z"
   },
   {
    "duration": 246,
    "start_time": "2022-08-15T11:22:44.291Z"
   },
   {
    "duration": 61,
    "start_time": "2022-08-15T11:22:44.538Z"
   },
   {
    "duration": 6,
    "start_time": "2022-08-15T11:22:44.601Z"
   },
   {
    "duration": 12,
    "start_time": "2022-08-15T11:22:44.609Z"
   },
   {
    "duration": 7,
    "start_time": "2022-08-15T11:22:44.623Z"
   },
   {
    "duration": 7,
    "start_time": "2022-08-15T11:22:44.632Z"
   },
   {
    "duration": 13,
    "start_time": "2022-08-15T11:22:44.641Z"
   },
   {
    "duration": 8,
    "start_time": "2022-08-15T11:22:44.656Z"
   },
   {
    "duration": 3,
    "start_time": "2022-08-15T11:22:44.687Z"
   },
   {
    "duration": 12,
    "start_time": "2022-08-15T11:22:44.692Z"
   },
   {
    "duration": 21,
    "start_time": "2022-08-15T11:22:44.706Z"
   },
   {
    "duration": 5,
    "start_time": "2022-08-15T11:22:44.729Z"
   },
   {
    "duration": 16,
    "start_time": "2022-08-15T11:22:44.736Z"
   },
   {
    "duration": 762,
    "start_time": "2022-08-15T11:22:44.754Z"
   },
   {
    "duration": 646,
    "start_time": "2022-08-15T11:22:45.518Z"
   },
   {
    "duration": 878,
    "start_time": "2022-08-15T11:22:46.166Z"
   },
   {
    "duration": 428,
    "start_time": "2022-08-15T11:22:47.046Z"
   },
   {
    "duration": 12,
    "start_time": "2022-08-15T11:22:47.475Z"
   },
   {
    "duration": 559,
    "start_time": "2022-08-15T11:22:47.488Z"
   },
   {
    "duration": 13,
    "start_time": "2022-08-15T11:22:48.050Z"
   },
   {
    "duration": 29,
    "start_time": "2022-08-15T11:22:48.065Z"
   },
   {
    "duration": 8,
    "start_time": "2022-08-15T11:22:48.096Z"
   },
   {
    "duration": 14,
    "start_time": "2022-08-15T11:22:48.106Z"
   },
   {
    "duration": 5,
    "start_time": "2022-08-15T11:22:48.123Z"
   },
   {
    "duration": 12,
    "start_time": "2022-08-15T11:22:48.129Z"
   },
   {
    "duration": 9,
    "start_time": "2022-08-15T11:22:48.142Z"
   },
   {
    "duration": 319,
    "start_time": "2022-08-15T11:22:48.152Z"
   },
   {
    "duration": 0,
    "start_time": "2022-08-15T11:22:48.472Z"
   },
   {
    "duration": 0,
    "start_time": "2022-08-15T11:22:48.474Z"
   },
   {
    "duration": 1,
    "start_time": "2022-08-15T11:22:48.474Z"
   },
   {
    "duration": 0,
    "start_time": "2022-08-15T11:22:48.475Z"
   },
   {
    "duration": 0,
    "start_time": "2022-08-15T11:22:48.487Z"
   },
   {
    "duration": 0,
    "start_time": "2022-08-15T11:22:48.488Z"
   },
   {
    "duration": 0,
    "start_time": "2022-08-15T11:22:48.489Z"
   },
   {
    "duration": 9,
    "start_time": "2022-08-15T11:23:27.729Z"
   },
   {
    "duration": 949,
    "start_time": "2022-08-15T11:23:30.119Z"
   },
   {
    "duration": 986,
    "start_time": "2022-08-15T11:23:50.055Z"
   },
   {
    "duration": 10,
    "start_time": "2022-08-15T11:24:23.498Z"
   },
   {
    "duration": 9,
    "start_time": "2022-08-15T11:24:31.913Z"
   },
   {
    "duration": 4,
    "start_time": "2022-08-15T11:24:37.743Z"
   },
   {
    "duration": 2,
    "start_time": "2022-08-15T11:24:40.457Z"
   },
   {
    "duration": 8,
    "start_time": "2022-08-15T11:24:42.760Z"
   },
   {
    "duration": 24,
    "start_time": "2022-08-15T11:24:44.611Z"
   },
   {
    "duration": 14315,
    "start_time": "2022-08-15T11:25:12.760Z"
   },
   {
    "duration": 14162,
    "start_time": "2022-08-15T11:27:11.516Z"
   },
   {
    "duration": 13961,
    "start_time": "2022-08-15T11:27:33.593Z"
   },
   {
    "duration": 14257,
    "start_time": "2022-08-15T11:28:06.307Z"
   },
   {
    "duration": 10,
    "start_time": "2022-08-15T11:29:10.530Z"
   },
   {
    "duration": 23,
    "start_time": "2022-08-15T11:29:16.059Z"
   },
   {
    "duration": 26,
    "start_time": "2022-08-15T11:29:49.300Z"
   },
   {
    "duration": 21411,
    "start_time": "2022-08-15T11:30:12.350Z"
   },
   {
    "duration": 3975,
    "start_time": "2022-08-15T11:30:49.375Z"
   },
   {
    "duration": 0,
    "start_time": "2022-08-15T11:30:53.352Z"
   },
   {
    "duration": 1161,
    "start_time": "2022-08-15T11:31:02.029Z"
   },
   {
    "duration": 1296,
    "start_time": "2022-08-15T11:31:06.996Z"
   },
   {
    "duration": 1975,
    "start_time": "2022-08-15T11:31:39.032Z"
   },
   {
    "duration": 22007,
    "start_time": "2022-08-15T11:31:43.899Z"
   },
   {
    "duration": 10,
    "start_time": "2022-08-15T11:32:11.964Z"
   },
   {
    "duration": 1809,
    "start_time": "2022-08-15T11:32:18.446Z"
   },
   {
    "duration": 3029,
    "start_time": "2022-08-15T11:32:49.966Z"
   },
   {
    "duration": 1366,
    "start_time": "2022-08-15T11:33:23.828Z"
   },
   {
    "duration": 4151,
    "start_time": "2022-08-15T11:33:45.057Z"
   },
   {
    "duration": 2061,
    "start_time": "2022-08-15T11:33:53.454Z"
   },
   {
    "duration": 1846,
    "start_time": "2022-08-15T11:34:13.851Z"
   },
   {
    "duration": 1796,
    "start_time": "2022-08-15T11:34:18.158Z"
   },
   {
    "duration": 1680,
    "start_time": "2022-08-15T11:34:25.243Z"
   },
   {
    "duration": 752,
    "start_time": "2022-08-15T11:34:26.925Z"
   },
   {
    "duration": 52,
    "start_time": "2022-08-15T11:34:27.679Z"
   },
   {
    "duration": 622,
    "start_time": "2022-08-15T11:34:27.734Z"
   },
   {
    "duration": 271,
    "start_time": "2022-08-15T11:34:28.358Z"
   },
   {
    "duration": 65,
    "start_time": "2022-08-15T11:34:28.633Z"
   },
   {
    "duration": 7,
    "start_time": "2022-08-15T11:34:28.700Z"
   },
   {
    "duration": 13,
    "start_time": "2022-08-15T11:34:28.709Z"
   },
   {
    "duration": 7,
    "start_time": "2022-08-15T11:34:28.723Z"
   },
   {
    "duration": 5,
    "start_time": "2022-08-15T11:34:28.732Z"
   },
   {
    "duration": 7,
    "start_time": "2022-08-15T11:34:28.738Z"
   },
   {
    "duration": 9,
    "start_time": "2022-08-15T11:34:28.747Z"
   },
   {
    "duration": 7,
    "start_time": "2022-08-15T11:34:28.758Z"
   },
   {
    "duration": 32,
    "start_time": "2022-08-15T11:34:28.766Z"
   },
   {
    "duration": 14,
    "start_time": "2022-08-15T11:34:28.800Z"
   },
   {
    "duration": 4,
    "start_time": "2022-08-15T11:34:28.815Z"
   },
   {
    "duration": 12,
    "start_time": "2022-08-15T11:34:28.821Z"
   },
   {
    "duration": 811,
    "start_time": "2022-08-15T11:34:28.835Z"
   },
   {
    "duration": 710,
    "start_time": "2022-08-15T11:34:29.648Z"
   },
   {
    "duration": 848,
    "start_time": "2022-08-15T11:34:30.359Z"
   },
   {
    "duration": 436,
    "start_time": "2022-08-15T11:34:31.209Z"
   },
   {
    "duration": 7,
    "start_time": "2022-08-15T11:34:31.647Z"
   },
   {
    "duration": 581,
    "start_time": "2022-08-15T11:34:31.655Z"
   },
   {
    "duration": 12,
    "start_time": "2022-08-15T11:34:32.238Z"
   },
   {
    "duration": 36,
    "start_time": "2022-08-15T11:34:32.252Z"
   },
   {
    "duration": 20,
    "start_time": "2022-08-15T11:34:32.291Z"
   },
   {
    "duration": 18,
    "start_time": "2022-08-15T11:34:32.313Z"
   },
   {
    "duration": 21,
    "start_time": "2022-08-15T11:34:32.334Z"
   },
   {
    "duration": 22,
    "start_time": "2022-08-15T11:34:32.357Z"
   },
   {
    "duration": 35,
    "start_time": "2022-08-15T11:34:32.381Z"
   },
   {
    "duration": 14718,
    "start_time": "2022-08-15T11:34:32.418Z"
   },
   {
    "duration": 22267,
    "start_time": "2022-08-15T11:34:47.138Z"
   },
   {
    "duration": 1992,
    "start_time": "2022-08-15T11:35:09.406Z"
   },
   {
    "duration": 1883,
    "start_time": "2022-08-15T11:35:11.409Z"
   },
   {
    "duration": 1808,
    "start_time": "2022-08-15T11:37:03.120Z"
   },
   {
    "duration": 1436,
    "start_time": "2022-08-15T11:38:54.638Z"
   },
   {
    "duration": 934,
    "start_time": "2022-08-15T11:38:56.077Z"
   },
   {
    "duration": 48,
    "start_time": "2022-08-15T11:38:57.013Z"
   },
   {
    "duration": 705,
    "start_time": "2022-08-15T11:38:57.064Z"
   },
   {
    "duration": 277,
    "start_time": "2022-08-15T11:38:57.771Z"
   },
   {
    "duration": 78,
    "start_time": "2022-08-15T11:38:58.050Z"
   },
   {
    "duration": 10,
    "start_time": "2022-08-15T11:38:58.130Z"
   },
   {
    "duration": 10,
    "start_time": "2022-08-15T11:38:58.142Z"
   },
   {
    "duration": 8,
    "start_time": "2022-08-15T11:38:58.153Z"
   },
   {
    "duration": 38,
    "start_time": "2022-08-15T11:38:58.163Z"
   },
   {
    "duration": 11,
    "start_time": "2022-08-15T11:38:58.206Z"
   },
   {
    "duration": 8,
    "start_time": "2022-08-15T11:38:58.218Z"
   },
   {
    "duration": 5,
    "start_time": "2022-08-15T11:38:58.227Z"
   },
   {
    "duration": 12,
    "start_time": "2022-08-15T11:38:58.234Z"
   },
   {
    "duration": 19,
    "start_time": "2022-08-15T11:38:58.248Z"
   },
   {
    "duration": 4,
    "start_time": "2022-08-15T11:38:58.269Z"
   },
   {
    "duration": 27,
    "start_time": "2022-08-15T11:38:58.274Z"
   },
   {
    "duration": 843,
    "start_time": "2022-08-15T11:38:58.306Z"
   },
   {
    "duration": 759,
    "start_time": "2022-08-15T11:38:59.151Z"
   },
   {
    "duration": 941,
    "start_time": "2022-08-15T11:38:59.911Z"
   },
   {
    "duration": 517,
    "start_time": "2022-08-15T11:39:00.854Z"
   },
   {
    "duration": 23,
    "start_time": "2022-08-15T11:39:01.373Z"
   },
   {
    "duration": 698,
    "start_time": "2022-08-15T11:39:01.398Z"
   },
   {
    "duration": 14,
    "start_time": "2022-08-15T11:39:02.106Z"
   },
   {
    "duration": 32,
    "start_time": "2022-08-15T11:39:02.122Z"
   },
   {
    "duration": 13,
    "start_time": "2022-08-15T11:39:02.155Z"
   },
   {
    "duration": 52,
    "start_time": "2022-08-15T11:39:02.170Z"
   },
   {
    "duration": 24,
    "start_time": "2022-08-15T11:39:02.226Z"
   },
   {
    "duration": 12,
    "start_time": "2022-08-15T11:39:02.252Z"
   },
   {
    "duration": 27,
    "start_time": "2022-08-15T11:39:02.266Z"
   },
   {
    "duration": 15309,
    "start_time": "2022-08-15T11:39:02.294Z"
   },
   {
    "duration": 22131,
    "start_time": "2022-08-15T11:39:17.606Z"
   },
   {
    "duration": 2457,
    "start_time": "2022-08-15T11:39:39.739Z"
   },
   {
    "duration": 1967,
    "start_time": "2022-08-15T11:39:42.202Z"
   },
   {
    "duration": 0,
    "start_time": "2022-08-15T11:39:44.170Z"
   },
   {
    "duration": 1852,
    "start_time": "2022-08-15T11:42:07.996Z"
   },
   {
    "duration": 4,
    "start_time": "2022-08-15T11:42:36.770Z"
   },
   {
    "duration": 1755,
    "start_time": "2022-08-15T11:42:39.902Z"
   },
   {
    "duration": 740,
    "start_time": "2022-08-15T11:43:25.887Z"
   },
   {
    "duration": 150,
    "start_time": "2022-08-15T11:44:54.706Z"
   },
   {
    "duration": 164,
    "start_time": "2022-08-15T11:45:04.282Z"
   },
   {
    "duration": 945,
    "start_time": "2022-08-15T12:43:56.332Z"
   },
   {
    "duration": 9,
    "start_time": "2022-08-15T12:50:07.236Z"
   },
   {
    "duration": 15,
    "start_time": "2022-08-15T12:50:07.401Z"
   },
   {
    "duration": 4,
    "start_time": "2022-08-15T12:50:07.547Z"
   },
   {
    "duration": 111,
    "start_time": "2022-08-15T12:59:01.999Z"
   },
   {
    "duration": 1653,
    "start_time": "2022-08-15T13:00:57.692Z"
   },
   {
    "duration": 259,
    "start_time": "2022-08-15T13:01:18.930Z"
   },
   {
    "duration": 145,
    "start_time": "2022-08-15T13:01:53.651Z"
   },
   {
    "duration": 1427,
    "start_time": "2022-08-15T13:02:01.860Z"
   },
   {
    "duration": 697,
    "start_time": "2022-08-15T13:02:03.289Z"
   },
   {
    "duration": 51,
    "start_time": "2022-08-15T13:02:03.987Z"
   },
   {
    "duration": 600,
    "start_time": "2022-08-15T13:02:04.041Z"
   },
   {
    "duration": 227,
    "start_time": "2022-08-15T13:02:04.643Z"
   },
   {
    "duration": 57,
    "start_time": "2022-08-15T13:02:04.872Z"
   },
   {
    "duration": 7,
    "start_time": "2022-08-15T13:02:04.930Z"
   },
   {
    "duration": 11,
    "start_time": "2022-08-15T13:02:04.938Z"
   },
   {
    "duration": 36,
    "start_time": "2022-08-15T13:02:04.951Z"
   },
   {
    "duration": 5,
    "start_time": "2022-08-15T13:02:04.989Z"
   },
   {
    "duration": 21,
    "start_time": "2022-08-15T13:02:04.996Z"
   },
   {
    "duration": 11,
    "start_time": "2022-08-15T13:02:05.018Z"
   },
   {
    "duration": 7,
    "start_time": "2022-08-15T13:02:05.031Z"
   },
   {
    "duration": 9,
    "start_time": "2022-08-15T13:02:05.039Z"
   },
   {
    "duration": 17,
    "start_time": "2022-08-15T13:02:05.049Z"
   },
   {
    "duration": 4,
    "start_time": "2022-08-15T13:02:05.067Z"
   },
   {
    "duration": 16,
    "start_time": "2022-08-15T13:02:05.072Z"
   },
   {
    "duration": 715,
    "start_time": "2022-08-15T13:02:05.090Z"
   },
   {
    "duration": 766,
    "start_time": "2022-08-15T13:02:05.807Z"
   },
   {
    "duration": 823,
    "start_time": "2022-08-15T13:02:06.575Z"
   },
   {
    "duration": 440,
    "start_time": "2022-08-15T13:02:07.400Z"
   },
   {
    "duration": 8,
    "start_time": "2022-08-15T13:02:07.842Z"
   },
   {
    "duration": 549,
    "start_time": "2022-08-15T13:02:07.851Z"
   },
   {
    "duration": 12,
    "start_time": "2022-08-15T13:02:08.402Z"
   },
   {
    "duration": 21,
    "start_time": "2022-08-15T13:02:08.416Z"
   },
   {
    "duration": 12,
    "start_time": "2022-08-15T13:02:08.439Z"
   },
   {
    "duration": 12,
    "start_time": "2022-08-15T13:02:08.453Z"
   },
   {
    "duration": 17,
    "start_time": "2022-08-15T13:02:08.469Z"
   },
   {
    "duration": 25,
    "start_time": "2022-08-15T13:02:08.487Z"
   },
   {
    "duration": 23,
    "start_time": "2022-08-15T13:02:08.513Z"
   },
   {
    "duration": 13930,
    "start_time": "2022-08-15T13:02:08.537Z"
   },
   {
    "duration": 20821,
    "start_time": "2022-08-15T13:02:22.469Z"
   },
   {
    "duration": 1097,
    "start_time": "2022-08-15T13:02:43.291Z"
   },
   {
    "duration": 2025,
    "start_time": "2022-08-15T13:02:44.390Z"
   },
   {
    "duration": 0,
    "start_time": "2022-08-15T13:02:46.418Z"
   },
   {
    "duration": 0,
    "start_time": "2022-08-15T13:02:46.419Z"
   },
   {
    "duration": 0,
    "start_time": "2022-08-15T13:02:46.421Z"
   },
   {
    "duration": 4,
    "start_time": "2022-08-15T13:03:13.842Z"
   },
   {
    "duration": 1315,
    "start_time": "2022-08-15T13:04:20.978Z"
   },
   {
    "duration": 686,
    "start_time": "2022-08-15T13:04:22.295Z"
   },
   {
    "duration": 43,
    "start_time": "2022-08-15T13:04:22.983Z"
   },
   {
    "duration": 569,
    "start_time": "2022-08-15T13:04:23.028Z"
   },
   {
    "duration": 227,
    "start_time": "2022-08-15T13:04:23.598Z"
   },
   {
    "duration": 63,
    "start_time": "2022-08-15T13:04:23.827Z"
   },
   {
    "duration": 6,
    "start_time": "2022-08-15T13:04:23.892Z"
   },
   {
    "duration": 13,
    "start_time": "2022-08-15T13:04:23.899Z"
   },
   {
    "duration": 7,
    "start_time": "2022-08-15T13:04:23.914Z"
   },
   {
    "duration": 4,
    "start_time": "2022-08-15T13:04:23.923Z"
   },
   {
    "duration": 5,
    "start_time": "2022-08-15T13:04:23.929Z"
   },
   {
    "duration": 6,
    "start_time": "2022-08-15T13:04:23.936Z"
   },
   {
    "duration": 4,
    "start_time": "2022-08-15T13:04:23.944Z"
   },
   {
    "duration": 7,
    "start_time": "2022-08-15T13:04:23.987Z"
   },
   {
    "duration": 18,
    "start_time": "2022-08-15T13:04:23.996Z"
   },
   {
    "duration": 4,
    "start_time": "2022-08-15T13:04:24.015Z"
   },
   {
    "duration": 20,
    "start_time": "2022-08-15T13:04:24.021Z"
   },
   {
    "duration": 758,
    "start_time": "2022-08-15T13:04:24.042Z"
   },
   {
    "duration": 632,
    "start_time": "2022-08-15T13:04:24.802Z"
   },
   {
    "duration": 799,
    "start_time": "2022-08-15T13:04:25.436Z"
   },
   {
    "duration": 475,
    "start_time": "2022-08-15T13:04:26.237Z"
   },
   {
    "duration": 6,
    "start_time": "2022-08-15T13:04:26.713Z"
   },
   {
    "duration": 534,
    "start_time": "2022-08-15T13:04:26.721Z"
   },
   {
    "duration": 12,
    "start_time": "2022-08-15T13:04:27.256Z"
   },
   {
    "duration": 22,
    "start_time": "2022-08-15T13:04:27.269Z"
   },
   {
    "duration": 6,
    "start_time": "2022-08-15T13:04:27.292Z"
   },
   {
    "duration": 9,
    "start_time": "2022-08-15T13:04:27.300Z"
   },
   {
    "duration": 4,
    "start_time": "2022-08-15T13:04:27.311Z"
   },
   {
    "duration": 5,
    "start_time": "2022-08-15T13:04:27.317Z"
   },
   {
    "duration": 12,
    "start_time": "2022-08-15T13:04:27.323Z"
   },
   {
    "duration": 13817,
    "start_time": "2022-08-15T13:04:27.337Z"
   },
   {
    "duration": 21067,
    "start_time": "2022-08-15T13:04:41.155Z"
   },
   {
    "duration": 1164,
    "start_time": "2022-08-15T13:05:02.224Z"
   },
   {
    "duration": 2099,
    "start_time": "2022-08-15T13:05:03.390Z"
   },
   {
    "duration": 204,
    "start_time": "2022-08-15T13:05:05.490Z"
   },
   {
    "duration": 0,
    "start_time": "2022-08-15T13:05:05.695Z"
   },
   {
    "duration": 1887,
    "start_time": "2022-08-15T13:14:43.199Z"
   },
   {
    "duration": 1279,
    "start_time": "2022-08-15T13:19:41.215Z"
   },
   {
    "duration": 692,
    "start_time": "2022-08-15T13:19:42.496Z"
   },
   {
    "duration": 42,
    "start_time": "2022-08-15T13:19:43.190Z"
   },
   {
    "duration": 583,
    "start_time": "2022-08-15T13:19:43.234Z"
   },
   {
    "duration": 249,
    "start_time": "2022-08-15T13:19:43.819Z"
   },
   {
    "duration": 54,
    "start_time": "2022-08-15T13:19:44.070Z"
   },
   {
    "duration": 6,
    "start_time": "2022-08-15T13:19:44.126Z"
   },
   {
    "duration": 10,
    "start_time": "2022-08-15T13:19:44.134Z"
   },
   {
    "duration": 7,
    "start_time": "2022-08-15T13:19:44.145Z"
   },
   {
    "duration": 34,
    "start_time": "2022-08-15T13:19:44.153Z"
   },
   {
    "duration": 3,
    "start_time": "2022-08-15T13:19:44.544Z"
   },
   {
    "duration": 4,
    "start_time": "2022-08-15T13:19:44.724Z"
   },
   {
    "duration": 4,
    "start_time": "2022-08-15T13:19:44.897Z"
   },
   {
    "duration": 6,
    "start_time": "2022-08-15T13:19:45.240Z"
   },
   {
    "duration": 12,
    "start_time": "2022-08-15T13:19:45.421Z"
   },
   {
    "duration": 4,
    "start_time": "2022-08-15T13:19:45.616Z"
   },
   {
    "duration": 12,
    "start_time": "2022-08-15T13:19:46.091Z"
   },
   {
    "duration": 717,
    "start_time": "2022-08-15T13:19:47.492Z"
   },
   {
    "duration": 655,
    "start_time": "2022-08-15T13:19:48.211Z"
   },
   {
    "duration": 778,
    "start_time": "2022-08-15T13:19:48.868Z"
   },
   {
    "duration": 425,
    "start_time": "2022-08-15T13:19:50.337Z"
   },
   {
    "duration": 8,
    "start_time": "2022-08-15T13:19:51.518Z"
   },
   {
    "duration": 508,
    "start_time": "2022-08-15T13:19:52.134Z"
   },
   {
    "duration": 11,
    "start_time": "2022-08-15T13:19:53.696Z"
   },
   {
    "duration": 14,
    "start_time": "2022-08-15T13:19:54.541Z"
   },
   {
    "duration": 7,
    "start_time": "2022-08-15T13:19:54.996Z"
   },
   {
    "duration": 4,
    "start_time": "2022-08-15T13:19:55.362Z"
   },
   {
    "duration": 4,
    "start_time": "2022-08-15T13:19:56.655Z"
   },
   {
    "duration": 3,
    "start_time": "2022-08-15T13:19:57.272Z"
   },
   {
    "duration": 8,
    "start_time": "2022-08-15T13:19:58.279Z"
   },
   {
    "duration": 13929,
    "start_time": "2022-08-15T13:19:58.760Z"
   },
   {
    "duration": 21072,
    "start_time": "2022-08-15T13:20:15.746Z"
   },
   {
    "duration": 1168,
    "start_time": "2022-08-15T13:20:46.821Z"
   },
   {
    "duration": 1811,
    "start_time": "2022-08-15T13:20:54.166Z"
   },
   {
    "duration": 174,
    "start_time": "2022-08-15T13:21:10.615Z"
   },
   {
    "duration": 160,
    "start_time": "2022-08-15T13:21:11.641Z"
   },
   {
    "duration": 1750,
    "start_time": "2022-08-15T13:22:43.302Z"
   },
   {
    "duration": 4,
    "start_time": "2022-08-15T13:24:03.360Z"
   },
   {
    "duration": 1784,
    "start_time": "2022-08-15T13:24:07.532Z"
   },
   {
    "duration": 4,
    "start_time": "2022-08-15T13:24:25.174Z"
   },
   {
    "duration": 4,
    "start_time": "2022-08-15T13:24:27.300Z"
   },
   {
    "duration": 1688,
    "start_time": "2022-08-15T13:24:31.685Z"
   },
   {
    "duration": 153,
    "start_time": "2022-08-15T13:24:58.270Z"
   },
   {
    "duration": 181,
    "start_time": "2022-08-15T13:25:00.132Z"
   },
   {
    "duration": 1510,
    "start_time": "2022-08-15T13:25:08.760Z"
   },
   {
    "duration": 790,
    "start_time": "2022-08-15T13:25:10.273Z"
   },
   {
    "duration": 63,
    "start_time": "2022-08-15T13:25:11.065Z"
   },
   {
    "duration": 637,
    "start_time": "2022-08-15T13:25:11.130Z"
   },
   {
    "duration": 251,
    "start_time": "2022-08-15T13:25:11.769Z"
   },
   {
    "duration": 81,
    "start_time": "2022-08-15T13:25:12.022Z"
   },
   {
    "duration": 8,
    "start_time": "2022-08-15T13:25:12.105Z"
   },
   {
    "duration": 12,
    "start_time": "2022-08-15T13:25:12.114Z"
   },
   {
    "duration": 9,
    "start_time": "2022-08-15T13:25:12.128Z"
   },
   {
    "duration": 5,
    "start_time": "2022-08-15T13:25:12.139Z"
   },
   {
    "duration": 6,
    "start_time": "2022-08-15T13:25:12.145Z"
   },
   {
    "duration": 45,
    "start_time": "2022-08-15T13:25:12.153Z"
   },
   {
    "duration": 11,
    "start_time": "2022-08-15T13:25:12.202Z"
   },
   {
    "duration": 10,
    "start_time": "2022-08-15T13:25:12.214Z"
   },
   {
    "duration": 14,
    "start_time": "2022-08-15T13:25:12.226Z"
   },
   {
    "duration": 3,
    "start_time": "2022-08-15T13:25:12.242Z"
   },
   {
    "duration": 16,
    "start_time": "2022-08-15T13:25:12.247Z"
   },
   {
    "duration": 797,
    "start_time": "2022-08-15T13:25:12.265Z"
   },
   {
    "duration": 712,
    "start_time": "2022-08-15T13:25:13.064Z"
   },
   {
    "duration": 868,
    "start_time": "2022-08-15T13:25:13.778Z"
   },
   {
    "duration": 491,
    "start_time": "2022-08-15T13:25:14.648Z"
   },
   {
    "duration": 7,
    "start_time": "2022-08-15T13:25:15.141Z"
   },
   {
    "duration": 570,
    "start_time": "2022-08-15T13:25:15.150Z"
   },
   {
    "duration": 13,
    "start_time": "2022-08-15T13:25:15.722Z"
   },
   {
    "duration": 15,
    "start_time": "2022-08-15T13:25:15.737Z"
   },
   {
    "duration": 6,
    "start_time": "2022-08-15T13:25:15.754Z"
   },
   {
    "duration": 12,
    "start_time": "2022-08-15T13:25:15.787Z"
   },
   {
    "duration": 7,
    "start_time": "2022-08-15T13:25:15.802Z"
   },
   {
    "duration": 11,
    "start_time": "2022-08-15T13:25:15.810Z"
   },
   {
    "duration": 16,
    "start_time": "2022-08-15T13:25:15.823Z"
   },
   {
    "duration": 14665,
    "start_time": "2022-08-15T13:25:15.841Z"
   },
   {
    "duration": 21806,
    "start_time": "2022-08-15T13:25:30.509Z"
   },
   {
    "duration": 1588,
    "start_time": "2022-08-15T13:25:52.318Z"
   },
   {
    "duration": 2003,
    "start_time": "2022-08-15T13:25:53.908Z"
   },
   {
    "duration": 485,
    "start_time": "2022-08-15T13:25:55.912Z"
   },
   {
    "duration": 250,
    "start_time": "2022-08-15T13:25:56.399Z"
   },
   {
    "duration": 4,
    "start_time": "2022-08-15T13:26:14.981Z"
   },
   {
    "duration": 1771,
    "start_time": "2022-08-15T13:26:20.412Z"
   },
   {
    "duration": 192,
    "start_time": "2022-08-15T13:26:24.702Z"
   },
   {
    "duration": 167,
    "start_time": "2022-08-15T13:26:26.566Z"
   },
   {
    "duration": 1373,
    "start_time": "2022-08-15T13:29:53.173Z"
   },
   {
    "duration": 682,
    "start_time": "2022-08-15T13:29:54.549Z"
   },
   {
    "duration": 54,
    "start_time": "2022-08-15T13:29:55.233Z"
   },
   {
    "duration": 635,
    "start_time": "2022-08-15T13:29:55.289Z"
   },
   {
    "duration": 267,
    "start_time": "2022-08-15T13:29:55.926Z"
   },
   {
    "duration": 95,
    "start_time": "2022-08-15T13:29:56.195Z"
   },
   {
    "duration": 8,
    "start_time": "2022-08-15T13:29:56.293Z"
   },
   {
    "duration": 36,
    "start_time": "2022-08-15T13:29:56.306Z"
   },
   {
    "duration": 9,
    "start_time": "2022-08-15T13:29:56.344Z"
   },
   {
    "duration": 6,
    "start_time": "2022-08-15T13:29:56.357Z"
   },
   {
    "duration": 9,
    "start_time": "2022-08-15T13:29:56.365Z"
   },
   {
    "duration": 23,
    "start_time": "2022-08-15T13:29:56.388Z"
   },
   {
    "duration": 9,
    "start_time": "2022-08-15T13:29:56.413Z"
   },
   {
    "duration": 17,
    "start_time": "2022-08-15T13:29:56.424Z"
   },
   {
    "duration": 24,
    "start_time": "2022-08-15T13:29:56.444Z"
   },
   {
    "duration": 7,
    "start_time": "2022-08-15T13:29:56.470Z"
   },
   {
    "duration": 18,
    "start_time": "2022-08-15T13:29:56.478Z"
   },
   {
    "duration": 751,
    "start_time": "2022-08-15T13:29:56.498Z"
   },
   {
    "duration": 678,
    "start_time": "2022-08-15T13:29:57.250Z"
   },
   {
    "duration": 751,
    "start_time": "2022-08-15T13:29:57.931Z"
   },
   {
    "duration": 397,
    "start_time": "2022-08-15T13:29:58.686Z"
   },
   {
    "duration": 7,
    "start_time": "2022-08-15T13:29:59.084Z"
   },
   {
    "duration": 515,
    "start_time": "2022-08-15T13:29:59.093Z"
   },
   {
    "duration": 12,
    "start_time": "2022-08-15T13:29:59.610Z"
   },
   {
    "duration": 14,
    "start_time": "2022-08-15T13:29:59.624Z"
   },
   {
    "duration": 6,
    "start_time": "2022-08-15T13:29:59.640Z"
   },
   {
    "duration": 10,
    "start_time": "2022-08-15T13:29:59.648Z"
   },
   {
    "duration": 28,
    "start_time": "2022-08-15T13:29:59.661Z"
   },
   {
    "duration": 6,
    "start_time": "2022-08-15T13:29:59.690Z"
   },
   {
    "duration": 12,
    "start_time": "2022-08-15T13:29:59.697Z"
   },
   {
    "duration": 14392,
    "start_time": "2022-08-15T13:29:59.711Z"
   },
   {
    "duration": 21522,
    "start_time": "2022-08-15T13:30:14.105Z"
   },
   {
    "duration": 1459,
    "start_time": "2022-08-15T13:30:35.629Z"
   },
   {
    "duration": 392,
    "start_time": "2022-08-15T13:30:37.090Z"
   },
   {
    "duration": 1790,
    "start_time": "2022-08-15T13:30:37.485Z"
   },
   {
    "duration": 417,
    "start_time": "2022-08-15T13:30:39.277Z"
   },
   {
    "duration": 215,
    "start_time": "2022-08-15T13:30:44.146Z"
   },
   {
    "duration": 5,
    "start_time": "2022-08-15T13:31:06.731Z"
   },
   {
    "duration": 3,
    "start_time": "2022-08-15T13:31:08.533Z"
   },
   {
    "duration": 8,
    "start_time": "2022-08-15T13:31:10.716Z"
   },
   {
    "duration": 13470,
    "start_time": "2022-08-15T13:31:11.497Z"
   },
   {
    "duration": 4,
    "start_time": "2022-08-15T13:31:47.286Z"
   },
   {
    "duration": 8,
    "start_time": "2022-08-15T13:31:47.292Z"
   },
   {
    "duration": 15,
    "start_time": "2022-08-15T13:31:47.302Z"
   },
   {
    "duration": 13792,
    "start_time": "2022-08-15T13:31:47.318Z"
   },
   {
    "duration": 21038,
    "start_time": "2022-08-15T13:32:01.111Z"
   },
   {
    "duration": 1137,
    "start_time": "2022-08-15T13:32:22.152Z"
   },
   {
    "duration": 298,
    "start_time": "2022-08-15T13:32:23.291Z"
   },
   {
    "duration": 1712,
    "start_time": "2022-08-15T13:32:23.591Z"
   },
   {
    "duration": 292,
    "start_time": "2022-08-15T13:32:25.305Z"
   },
   {
    "duration": 221,
    "start_time": "2022-08-15T13:32:57.319Z"
   },
   {
    "duration": 4,
    "start_time": "2022-08-15T13:33:01.342Z"
   },
   {
    "duration": 2,
    "start_time": "2022-08-15T13:33:01.984Z"
   },
   {
    "duration": 153,
    "start_time": "2022-08-15T13:33:04.841Z"
   },
   {
    "duration": 1780,
    "start_time": "2022-08-15T13:33:05.710Z"
   },
   {
    "duration": 300,
    "start_time": "2022-08-15T13:33:07.492Z"
   },
   {
    "duration": 1268,
    "start_time": "2022-08-15T13:33:39.124Z"
   },
   {
    "duration": 709,
    "start_time": "2022-08-15T13:33:40.394Z"
   },
   {
    "duration": 43,
    "start_time": "2022-08-15T13:33:41.105Z"
   },
   {
    "duration": 567,
    "start_time": "2022-08-15T13:33:41.150Z"
   },
   {
    "duration": 222,
    "start_time": "2022-08-15T13:33:41.719Z"
   },
   {
    "duration": 69,
    "start_time": "2022-08-15T13:33:41.943Z"
   },
   {
    "duration": 6,
    "start_time": "2022-08-15T13:33:42.014Z"
   },
   {
    "duration": 13,
    "start_time": "2022-08-15T13:33:42.022Z"
   },
   {
    "duration": 8,
    "start_time": "2022-08-15T13:33:42.037Z"
   },
   {
    "duration": 7,
    "start_time": "2022-08-15T13:33:42.048Z"
   },
   {
    "duration": 31,
    "start_time": "2022-08-15T13:33:42.057Z"
   },
   {
    "duration": 7,
    "start_time": "2022-08-15T13:33:42.089Z"
   },
   {
    "duration": 12,
    "start_time": "2022-08-15T13:33:42.097Z"
   },
   {
    "duration": 12,
    "start_time": "2022-08-15T13:33:42.110Z"
   },
   {
    "duration": 15,
    "start_time": "2022-08-15T13:33:42.123Z"
   },
   {
    "duration": 4,
    "start_time": "2022-08-15T13:33:42.139Z"
   },
   {
    "duration": 13,
    "start_time": "2022-08-15T13:33:42.145Z"
   },
   {
    "duration": 706,
    "start_time": "2022-08-15T13:33:42.159Z"
   },
   {
    "duration": 617,
    "start_time": "2022-08-15T13:33:42.867Z"
   },
   {
    "duration": 768,
    "start_time": "2022-08-15T13:33:43.486Z"
   },
   {
    "duration": 408,
    "start_time": "2022-08-15T13:33:44.256Z"
   },
   {
    "duration": 6,
    "start_time": "2022-08-15T13:33:44.666Z"
   },
   {
    "duration": 531,
    "start_time": "2022-08-15T13:33:44.673Z"
   },
   {
    "duration": 12,
    "start_time": "2022-08-15T13:33:45.205Z"
   },
   {
    "duration": 27,
    "start_time": "2022-08-15T13:33:45.218Z"
   },
   {
    "duration": 15,
    "start_time": "2022-08-15T13:33:45.247Z"
   },
   {
    "duration": 11,
    "start_time": "2022-08-15T13:33:45.264Z"
   },
   {
    "duration": 18,
    "start_time": "2022-08-15T13:33:45.279Z"
   },
   {
    "duration": 20,
    "start_time": "2022-08-15T13:33:45.298Z"
   },
   {
    "duration": 13,
    "start_time": "2022-08-15T13:33:45.319Z"
   },
   {
    "duration": 28,
    "start_time": "2022-08-15T13:33:45.334Z"
   },
   {
    "duration": 13745,
    "start_time": "2022-08-15T13:33:45.363Z"
   },
   {
    "duration": 21105,
    "start_time": "2022-08-15T13:33:59.109Z"
   },
   {
    "duration": 1172,
    "start_time": "2022-08-15T13:34:20.216Z"
   },
   {
    "duration": 382,
    "start_time": "2022-08-15T13:34:21.390Z"
   },
   {
    "duration": 1748,
    "start_time": "2022-08-15T13:34:21.774Z"
   },
   {
    "duration": 271,
    "start_time": "2022-08-15T13:34:23.523Z"
   },
   {
    "duration": 1076,
    "start_time": "2022-08-15T13:34:36.512Z"
   },
   {
    "duration": 309,
    "start_time": "2022-08-15T13:34:37.590Z"
   },
   {
    "duration": 1751,
    "start_time": "2022-08-15T13:34:37.901Z"
   },
   {
    "duration": 240,
    "start_time": "2022-08-15T13:34:39.654Z"
   },
   {
    "duration": 3,
    "start_time": "2022-08-15T13:34:51.986Z"
   },
   {
    "duration": 3,
    "start_time": "2022-08-15T13:34:54.316Z"
   },
   {
    "duration": 1136,
    "start_time": "2022-08-15T13:34:56.554Z"
   },
   {
    "duration": 206,
    "start_time": "2022-08-15T13:35:01.470Z"
   },
   {
    "duration": 1761,
    "start_time": "2022-08-15T13:35:04.361Z"
   },
   {
    "duration": 272,
    "start_time": "2022-08-15T13:35:06.124Z"
   },
   {
    "duration": 4,
    "start_time": "2022-08-15T13:35:16.833Z"
   },
   {
    "duration": 3,
    "start_time": "2022-08-15T13:35:17.037Z"
   },
   {
    "duration": 2,
    "start_time": "2022-08-15T13:35:18.810Z"
   },
   {
    "duration": 1140,
    "start_time": "2022-08-15T13:35:21.752Z"
   },
   {
    "duration": 203,
    "start_time": "2022-08-15T13:35:24.383Z"
   },
   {
    "duration": 235,
    "start_time": "2022-08-15T13:35:26.559Z"
   },
   {
    "duration": 3,
    "start_time": "2022-08-15T13:35:30.278Z"
   },
   {
    "duration": 2,
    "start_time": "2022-08-15T13:35:32.397Z"
   },
   {
    "duration": 231,
    "start_time": "2022-08-15T13:35:35.232Z"
   },
   {
    "duration": 1776,
    "start_time": "2022-08-15T13:35:37.522Z"
   },
   {
    "duration": 2093,
    "start_time": "2022-08-15T13:35:39.301Z"
   },
   {
    "duration": 4,
    "start_time": "2022-08-15T13:35:49.076Z"
   },
   {
    "duration": 4,
    "start_time": "2022-08-15T13:35:54.421Z"
   },
   {
    "duration": 3,
    "start_time": "2022-08-15T13:35:54.640Z"
   },
   {
    "duration": 3,
    "start_time": "2022-08-15T13:35:55.466Z"
   },
   {
    "duration": 155,
    "start_time": "2022-08-15T13:35:58.286Z"
   },
   {
    "duration": 1689,
    "start_time": "2022-08-15T13:35:59.611Z"
   },
   {
    "duration": 104,
    "start_time": "2022-08-15T13:36:01.390Z"
   },
   {
    "duration": 1626,
    "start_time": "2022-08-15T17:53:04.693Z"
   },
   {
    "duration": 3119,
    "start_time": "2022-08-15T17:53:06.321Z"
   },
   {
    "duration": 43,
    "start_time": "2022-08-15T17:53:09.442Z"
   },
   {
    "duration": 573,
    "start_time": "2022-08-15T17:53:09.486Z"
   },
   {
    "duration": 248,
    "start_time": "2022-08-15T17:53:10.062Z"
   },
   {
    "duration": 55,
    "start_time": "2022-08-15T17:53:10.312Z"
   },
   {
    "duration": 32,
    "start_time": "2022-08-15T17:53:10.368Z"
   },
   {
    "duration": 11,
    "start_time": "2022-08-15T17:53:10.401Z"
   },
   {
    "duration": 6,
    "start_time": "2022-08-15T17:53:10.413Z"
   },
   {
    "duration": 5,
    "start_time": "2022-08-15T17:53:10.421Z"
   },
   {
    "duration": 4,
    "start_time": "2022-08-15T17:53:10.427Z"
   },
   {
    "duration": 8,
    "start_time": "2022-08-15T17:53:10.432Z"
   },
   {
    "duration": 5,
    "start_time": "2022-08-15T17:53:10.441Z"
   },
   {
    "duration": 9,
    "start_time": "2022-08-15T17:53:10.447Z"
   },
   {
    "duration": 13,
    "start_time": "2022-08-15T17:53:10.458Z"
   },
   {
    "duration": 3,
    "start_time": "2022-08-15T17:53:10.633Z"
   },
   {
    "duration": 11,
    "start_time": "2022-08-15T17:53:10.986Z"
   },
   {
    "duration": 747,
    "start_time": "2022-08-15T17:53:11.546Z"
   },
   {
    "duration": 657,
    "start_time": "2022-08-15T17:53:12.296Z"
   },
   {
    "duration": 679,
    "start_time": "2022-08-15T17:53:12.954Z"
   },
   {
    "duration": 550,
    "start_time": "2022-08-15T17:53:14.420Z"
   },
   {
    "duration": 1390,
    "start_time": "2022-08-16T05:38:44.553Z"
   },
   {
    "duration": 3166,
    "start_time": "2022-08-16T05:38:59.391Z"
   },
   {
    "duration": 44,
    "start_time": "2022-08-16T05:39:02.559Z"
   },
   {
    "duration": 608,
    "start_time": "2022-08-16T05:39:02.605Z"
   },
   {
    "duration": 230,
    "start_time": "2022-08-16T05:39:03.214Z"
   },
   {
    "duration": 63,
    "start_time": "2022-08-16T05:39:03.447Z"
   },
   {
    "duration": 6,
    "start_time": "2022-08-16T05:39:04.489Z"
   },
   {
    "duration": 10,
    "start_time": "2022-08-16T05:39:07.796Z"
   },
   {
    "duration": 7,
    "start_time": "2022-08-16T05:39:08.097Z"
   },
   {
    "duration": 4,
    "start_time": "2022-08-16T05:39:10.422Z"
   },
   {
    "duration": 3,
    "start_time": "2022-08-16T05:39:12.508Z"
   },
   {
    "duration": 4,
    "start_time": "2022-08-16T05:39:13.089Z"
   },
   {
    "duration": 3,
    "start_time": "2022-08-16T05:39:17.401Z"
   },
   {
    "duration": 7,
    "start_time": "2022-08-16T05:39:18.615Z"
   },
   {
    "duration": 13,
    "start_time": "2022-08-16T05:39:19.188Z"
   },
   {
    "duration": 3,
    "start_time": "2022-08-16T05:39:19.954Z"
   },
   {
    "duration": 10,
    "start_time": "2022-08-16T05:39:23.870Z"
   },
   {
    "duration": 705,
    "start_time": "2022-08-16T05:39:29.535Z"
   },
   {
    "duration": 657,
    "start_time": "2022-08-16T05:39:32.044Z"
   },
   {
    "duration": 658,
    "start_time": "2022-08-16T05:39:32.703Z"
   },
   {
    "duration": 554,
    "start_time": "2022-08-16T05:39:38.217Z"
   },
   {
    "duration": 414,
    "start_time": "2022-08-16T05:40:15.717Z"
   },
   {
    "duration": 411,
    "start_time": "2022-08-16T05:40:26.925Z"
   },
   {
    "duration": 492,
    "start_time": "2022-08-16T05:40:42.761Z"
   },
   {
    "duration": 94,
    "start_time": "2022-08-16T05:40:53.039Z"
   },
   {
    "duration": 388,
    "start_time": "2022-08-16T05:40:58.672Z"
   },
   {
    "duration": 57,
    "start_time": "2022-08-16T05:42:09.302Z"
   },
   {
    "duration": 52,
    "start_time": "2022-08-16T05:42:14.132Z"
   },
   {
    "duration": 57,
    "start_time": "2022-08-16T05:42:35.702Z"
   },
   {
    "duration": 6,
    "start_time": "2022-08-16T05:43:28.217Z"
   },
   {
    "duration": 6,
    "start_time": "2022-08-16T05:43:55.118Z"
   },
   {
    "duration": 554,
    "start_time": "2022-08-16T05:44:39.916Z"
   },
   {
    "duration": 17,
    "start_time": "2022-08-16T05:45:09.295Z"
   },
   {
    "duration": 7,
    "start_time": "2022-08-16T05:45:10.121Z"
   },
   {
    "duration": 4,
    "start_time": "2022-08-16T05:45:10.733Z"
   },
   {
    "duration": 3,
    "start_time": "2022-08-16T05:45:14.012Z"
   },
   {
    "duration": 3,
    "start_time": "2022-08-16T05:45:14.432Z"
   },
   {
    "duration": 3,
    "start_time": "2022-08-16T05:45:18.899Z"
   },
   {
    "duration": 166,
    "start_time": "2022-08-16T05:45:55.900Z"
   },
   {
    "duration": 77,
    "start_time": "2022-08-16T05:45:56.194Z"
   },
   {
    "duration": 10,
    "start_time": "2022-08-16T05:46:02.291Z"
   },
   {
    "duration": 16,
    "start_time": "2022-08-16T05:46:02.682Z"
   },
   {
    "duration": 4,
    "start_time": "2022-08-16T05:46:02.859Z"
   },
   {
    "duration": 3,
    "start_time": "2022-08-16T05:46:04.151Z"
   },
   {
    "duration": 5,
    "start_time": "2022-08-16T05:46:04.592Z"
   },
   {
    "duration": 2,
    "start_time": "2022-08-16T05:46:05.544Z"
   },
   {
    "duration": 9,
    "start_time": "2022-08-16T05:46:06.217Z"
   },
   {
    "duration": 56,
    "start_time": "2022-08-16T05:46:06.805Z"
   },
   {
    "duration": 126,
    "start_time": "2022-08-16T05:50:17.447Z"
   },
   {
    "duration": 61,
    "start_time": "2022-08-16T05:50:29.538Z"
   },
   {
    "duration": 59,
    "start_time": "2022-08-16T05:52:12.489Z"
   },
   {
    "duration": 3,
    "start_time": "2022-08-16T05:52:17.070Z"
   },
   {
    "duration": 3,
    "start_time": "2022-08-16T05:56:11.561Z"
   },
   {
    "duration": 10,
    "start_time": "2022-08-16T05:56:13.132Z"
   },
   {
    "duration": 14202,
    "start_time": "2022-08-16T05:56:14.013Z"
   },
   {
    "duration": 23115,
    "start_time": "2022-08-16T05:56:28.217Z"
   },
   {
    "duration": 1560,
    "start_time": "2022-08-16T05:56:51.334Z"
   },
   {
    "duration": 322,
    "start_time": "2022-08-16T05:56:52.896Z"
   },
   {
    "duration": 1788,
    "start_time": "2022-08-16T05:56:53.219Z"
   },
   {
    "duration": 286,
    "start_time": "2022-08-16T05:56:55.008Z"
   },
   {
    "duration": 218,
    "start_time": "2022-08-16T05:57:18.631Z"
   },
   {
    "duration": 4,
    "start_time": "2022-08-16T05:58:16.295Z"
   },
   {
    "duration": 10,
    "start_time": "2022-08-16T05:58:32.313Z"
   },
   {
    "duration": 11,
    "start_time": "2022-08-16T05:58:44.632Z"
   },
   {
    "duration": 6,
    "start_time": "2022-08-16T05:58:52.995Z"
   },
   {
    "duration": 9,
    "start_time": "2022-08-16T06:04:58.558Z"
   },
   {
    "duration": 11,
    "start_time": "2022-08-16T06:09:54.821Z"
   },
   {
    "duration": 60,
    "start_time": "2022-08-16T06:11:25.188Z"
   },
   {
    "duration": 57,
    "start_time": "2022-08-16T06:11:28.542Z"
   },
   {
    "duration": 3,
    "start_time": "2022-08-16T06:11:34.833Z"
   },
   {
    "duration": 212,
    "start_time": "2022-08-16T06:11:39.569Z"
   },
   {
    "duration": 4,
    "start_time": "2022-08-16T06:11:43.885Z"
   },
   {
    "duration": 4,
    "start_time": "2022-08-16T06:11:44.041Z"
   },
   {
    "duration": 2,
    "start_time": "2022-08-16T06:11:45.894Z"
   },
   {
    "duration": 159,
    "start_time": "2022-08-16T06:11:49.457Z"
   },
   {
    "duration": 1744,
    "start_time": "2022-08-16T06:11:51.412Z"
   },
   {
    "duration": 39,
    "start_time": "2022-08-16T06:11:53.654Z"
   },
   {
    "duration": 8,
    "start_time": "2022-08-16T06:11:57.674Z"
   },
   {
    "duration": 1322,
    "start_time": "2022-08-16T06:27:04.623Z"
   },
   {
    "duration": 752,
    "start_time": "2022-08-16T06:27:05.947Z"
   },
   {
    "duration": 47,
    "start_time": "2022-08-16T06:27:06.701Z"
   },
   {
    "duration": 641,
    "start_time": "2022-08-16T06:27:06.750Z"
   },
   {
    "duration": 250,
    "start_time": "2022-08-16T06:27:07.393Z"
   },
   {
    "duration": 67,
    "start_time": "2022-08-16T06:27:07.645Z"
   },
   {
    "duration": 5,
    "start_time": "2022-08-16T06:27:07.714Z"
   },
   {
    "duration": 10,
    "start_time": "2022-08-16T06:27:07.902Z"
   },
   {
    "duration": 7,
    "start_time": "2022-08-16T06:27:08.073Z"
   },
   {
    "duration": 4,
    "start_time": "2022-08-16T06:27:10.775Z"
   },
   {
    "duration": 3,
    "start_time": "2022-08-16T06:27:11.768Z"
   },
   {
    "duration": 4,
    "start_time": "2022-08-16T06:27:12.119Z"
   },
   {
    "duration": 4,
    "start_time": "2022-08-16T06:27:14.613Z"
   },
   {
    "duration": 8,
    "start_time": "2022-08-16T06:27:16.108Z"
   },
   {
    "duration": 12,
    "start_time": "2022-08-16T06:27:18.254Z"
   },
   {
    "duration": 3,
    "start_time": "2022-08-16T06:27:18.598Z"
   },
   {
    "duration": 11,
    "start_time": "2022-08-16T06:27:19.153Z"
   },
   {
    "duration": 731,
    "start_time": "2022-08-16T06:27:20.251Z"
   },
   {
    "duration": 704,
    "start_time": "2022-08-16T06:27:20.984Z"
   },
   {
    "duration": 702,
    "start_time": "2022-08-16T06:27:21.690Z"
   },
   {
    "duration": 522,
    "start_time": "2022-08-16T06:27:23.315Z"
   },
   {
    "duration": 7,
    "start_time": "2022-08-16T06:27:30.074Z"
   },
   {
    "duration": 526,
    "start_time": "2022-08-16T06:27:32.608Z"
   },
   {
    "duration": 42,
    "start_time": "2022-08-16T06:29:06.203Z"
   },
   {
    "duration": 23,
    "start_time": "2022-08-16T06:29:29.450Z"
   },
   {
    "duration": 9,
    "start_time": "2022-08-16T06:30:24.185Z"
   },
   {
    "duration": 40,
    "start_time": "2022-08-16T06:30:44.450Z"
   },
   {
    "duration": 9,
    "start_time": "2022-08-16T06:30:47.317Z"
   },
   {
    "duration": 8,
    "start_time": "2022-08-16T06:34:02.332Z"
   },
   {
    "duration": 9,
    "start_time": "2022-08-16T06:34:03.095Z"
   },
   {
    "duration": 9,
    "start_time": "2022-08-16T06:34:31.830Z"
   },
   {
    "duration": 1302,
    "start_time": "2022-08-16T06:35:08.003Z"
   },
   {
    "duration": 683,
    "start_time": "2022-08-16T06:35:09.307Z"
   },
   {
    "duration": 46,
    "start_time": "2022-08-16T06:35:09.991Z"
   },
   {
    "duration": 633,
    "start_time": "2022-08-16T06:35:10.040Z"
   },
   {
    "duration": 237,
    "start_time": "2022-08-16T06:35:10.675Z"
   },
   {
    "duration": 54,
    "start_time": "2022-08-16T06:35:10.913Z"
   },
   {
    "duration": 6,
    "start_time": "2022-08-16T06:35:10.987Z"
   },
   {
    "duration": 12,
    "start_time": "2022-08-16T06:35:10.995Z"
   },
   {
    "duration": 6,
    "start_time": "2022-08-16T06:35:11.009Z"
   },
   {
    "duration": 6,
    "start_time": "2022-08-16T06:35:11.017Z"
   },
   {
    "duration": 6,
    "start_time": "2022-08-16T06:35:11.024Z"
   },
   {
    "duration": 15,
    "start_time": "2022-08-16T06:35:11.032Z"
   },
   {
    "duration": 6,
    "start_time": "2022-08-16T06:35:11.049Z"
   },
   {
    "duration": 11,
    "start_time": "2022-08-16T06:35:11.056Z"
   },
   {
    "duration": 27,
    "start_time": "2022-08-16T06:35:11.069Z"
   },
   {
    "duration": 3,
    "start_time": "2022-08-16T06:35:11.098Z"
   },
   {
    "duration": 13,
    "start_time": "2022-08-16T06:35:11.103Z"
   },
   {
    "duration": 736,
    "start_time": "2022-08-16T06:35:11.118Z"
   },
   {
    "duration": 681,
    "start_time": "2022-08-16T06:35:11.856Z"
   },
   {
    "duration": 780,
    "start_time": "2022-08-16T06:35:12.539Z"
   },
   {
    "duration": 430,
    "start_time": "2022-08-16T06:35:13.321Z"
   },
   {
    "duration": 7,
    "start_time": "2022-08-16T06:35:13.753Z"
   },
   {
    "duration": 542,
    "start_time": "2022-08-16T06:35:13.761Z"
   },
   {
    "duration": 12,
    "start_time": "2022-08-16T06:35:14.304Z"
   },
   {
    "duration": 8,
    "start_time": "2022-08-16T06:35:14.318Z"
   },
   {
    "duration": 9,
    "start_time": "2022-08-16T06:35:14.328Z"
   },
   {
    "duration": 10,
    "start_time": "2022-08-16T06:35:14.338Z"
   },
   {
    "duration": 10,
    "start_time": "2022-08-16T06:35:14.351Z"
   },
   {
    "duration": 24,
    "start_time": "2022-08-16T06:35:14.362Z"
   },
   {
    "duration": 3,
    "start_time": "2022-08-16T06:35:14.388Z"
   },
   {
    "duration": 11,
    "start_time": "2022-08-16T06:35:14.392Z"
   },
   {
    "duration": 15074,
    "start_time": "2022-08-16T06:35:14.405Z"
   },
   {
    "duration": 23167,
    "start_time": "2022-08-16T06:35:29.481Z"
   },
   {
    "duration": 1341,
    "start_time": "2022-08-16T06:35:52.650Z"
   },
   {
    "duration": 434,
    "start_time": "2022-08-16T06:35:53.992Z"
   },
   {
    "duration": 1998,
    "start_time": "2022-08-16T06:35:54.428Z"
   },
   {
    "duration": 304,
    "start_time": "2022-08-16T06:35:56.428Z"
   },
   {
    "duration": 60,
    "start_time": "2022-08-16T06:35:56.734Z"
   },
   {
    "duration": 54,
    "start_time": "2022-08-16T06:36:59.865Z"
   },
   {
    "duration": 3,
    "start_time": "2022-08-16T06:37:20.836Z"
   },
   {
    "duration": 8,
    "start_time": "2022-08-16T06:37:21.686Z"
   },
   {
    "duration": 15075,
    "start_time": "2022-08-16T06:37:22.794Z"
   },
   {
    "duration": 229,
    "start_time": "2022-08-16T06:37:37.871Z"
   },
   {
    "duration": 1920,
    "start_time": "2022-08-16T06:37:38.102Z"
   },
   {
    "duration": 299,
    "start_time": "2022-08-16T06:37:40.024Z"
   },
   {
    "duration": 71,
    "start_time": "2022-08-16T06:37:40.387Z"
   },
   {
    "duration": 11,
    "start_time": "2022-08-16T06:38:36.260Z"
   },
   {
    "duration": 9,
    "start_time": "2022-08-16T06:39:09.353Z"
   },
   {
    "duration": 9,
    "start_time": "2022-08-16T06:39:27.498Z"
   },
   {
    "duration": 8,
    "start_time": "2022-08-16T06:39:30.997Z"
   },
   {
    "duration": 21,
    "start_time": "2022-08-16T06:39:51.219Z"
   },
   {
    "duration": 9,
    "start_time": "2022-08-16T06:40:09.405Z"
   },
   {
    "duration": 15172,
    "start_time": "2022-08-16T06:40:09.607Z"
   },
   {
    "duration": 1512,
    "start_time": "2022-08-16T07:48:50.215Z"
   },
   {
    "duration": 679,
    "start_time": "2022-08-16T07:48:51.728Z"
   },
   {
    "duration": 44,
    "start_time": "2022-08-16T07:48:52.409Z"
   },
   {
    "duration": 577,
    "start_time": "2022-08-16T07:48:52.455Z"
   },
   {
    "duration": 233,
    "start_time": "2022-08-16T07:48:53.033Z"
   },
   {
    "duration": 55,
    "start_time": "2022-08-16T07:48:53.268Z"
   },
   {
    "duration": 6,
    "start_time": "2022-08-16T07:48:53.324Z"
   },
   {
    "duration": 11,
    "start_time": "2022-08-16T07:48:53.747Z"
   },
   {
    "duration": 6,
    "start_time": "2022-08-16T07:48:54.047Z"
   },
   {
    "duration": 5,
    "start_time": "2022-08-16T07:48:55.355Z"
   },
   {
    "duration": 4,
    "start_time": "2022-08-16T07:48:56.898Z"
   },
   {
    "duration": 4,
    "start_time": "2022-08-16T07:48:57.502Z"
   },
   {
    "duration": 4,
    "start_time": "2022-08-16T07:48:58.046Z"
   },
   {
    "duration": 8,
    "start_time": "2022-08-16T07:48:59.787Z"
   },
   {
    "duration": 13,
    "start_time": "2022-08-16T07:49:02.038Z"
   },
   {
    "duration": 3,
    "start_time": "2022-08-16T07:49:02.573Z"
   },
   {
    "duration": 10,
    "start_time": "2022-08-16T07:49:03.648Z"
   },
   {
    "duration": 744,
    "start_time": "2022-08-16T07:49:06.697Z"
   },
   {
    "duration": 639,
    "start_time": "2022-08-16T07:49:07.526Z"
   },
   {
    "duration": 628,
    "start_time": "2022-08-16T07:49:08.202Z"
   },
   {
    "duration": 540,
    "start_time": "2022-08-16T07:49:11.877Z"
   },
   {
    "duration": 7,
    "start_time": "2022-08-16T07:49:18.534Z"
   },
   {
    "duration": 553,
    "start_time": "2022-08-16T07:49:27.509Z"
   },
   {
    "duration": 163,
    "start_time": "2022-08-16T07:49:57.147Z"
   },
   {
    "duration": 143,
    "start_time": "2022-08-16T07:50:06.186Z"
   },
   {
    "duration": 8,
    "start_time": "2022-08-16T07:51:09.173Z"
   },
   {
    "duration": 9,
    "start_time": "2022-08-16T07:51:33.126Z"
   },
   {
    "duration": 9,
    "start_time": "2022-08-16T07:51:59.006Z"
   },
   {
    "duration": 11,
    "start_time": "2022-08-16T07:54:15.770Z"
   },
   {
    "duration": 51,
    "start_time": "2022-08-16T07:54:23.168Z"
   },
   {
    "duration": 18,
    "start_time": "2022-08-16T07:54:26.314Z"
   },
   {
    "duration": 14,
    "start_time": "2022-08-16T07:55:39.043Z"
   },
   {
    "duration": 13,
    "start_time": "2022-08-16T07:56:07.864Z"
   },
   {
    "duration": 26,
    "start_time": "2022-08-16T07:56:15.813Z"
   },
   {
    "duration": 19,
    "start_time": "2022-08-16T07:56:29.502Z"
   },
   {
    "duration": 8,
    "start_time": "2022-08-16T07:56:39.616Z"
   },
   {
    "duration": 10,
    "start_time": "2022-08-16T07:56:41.531Z"
   },
   {
    "duration": 8,
    "start_time": "2022-08-16T07:58:05.093Z"
   },
   {
    "duration": 7,
    "start_time": "2022-08-16T07:58:36.635Z"
   },
   {
    "duration": 8,
    "start_time": "2022-08-16T07:58:49.387Z"
   },
   {
    "duration": 8,
    "start_time": "2022-08-16T07:59:29.781Z"
   },
   {
    "duration": 293,
    "start_time": "2022-08-16T07:59:37.382Z"
   },
   {
    "duration": 14,
    "start_time": "2022-08-16T07:59:47.800Z"
   },
   {
    "duration": 34,
    "start_time": "2022-08-16T08:00:37.878Z"
   },
   {
    "duration": 9,
    "start_time": "2022-08-16T08:00:48.637Z"
   },
   {
    "duration": 35,
    "start_time": "2022-08-16T08:00:51.787Z"
   },
   {
    "duration": 11,
    "start_time": "2022-08-16T08:00:57.785Z"
   },
   {
    "duration": 1264,
    "start_time": "2022-08-16T08:02:38.619Z"
   },
   {
    "duration": 750,
    "start_time": "2022-08-16T08:02:39.885Z"
   },
   {
    "duration": 88,
    "start_time": "2022-08-16T08:02:40.637Z"
   },
   {
    "duration": 616,
    "start_time": "2022-08-16T08:02:40.726Z"
   },
   {
    "duration": 221,
    "start_time": "2022-08-16T08:02:41.343Z"
   },
   {
    "duration": 56,
    "start_time": "2022-08-16T08:02:41.565Z"
   },
   {
    "duration": 5,
    "start_time": "2022-08-16T08:02:41.623Z"
   },
   {
    "duration": 9,
    "start_time": "2022-08-16T08:02:41.644Z"
   },
   {
    "duration": 7,
    "start_time": "2022-08-16T08:02:42.122Z"
   },
   {
    "duration": 4,
    "start_time": "2022-08-16T08:02:43.502Z"
   },
   {
    "duration": 3,
    "start_time": "2022-08-16T08:02:45.573Z"
   },
   {
    "duration": 5,
    "start_time": "2022-08-16T08:02:46.055Z"
   },
   {
    "duration": 4,
    "start_time": "2022-08-16T08:02:46.602Z"
   },
   {
    "duration": 9,
    "start_time": "2022-08-16T08:02:48.029Z"
   },
   {
    "duration": 12,
    "start_time": "2022-08-16T08:02:48.566Z"
   },
   {
    "duration": 4,
    "start_time": "2022-08-16T08:02:51.590Z"
   },
   {
    "duration": 11,
    "start_time": "2022-08-16T08:02:51.844Z"
   },
   {
    "duration": 681,
    "start_time": "2022-08-16T08:02:53.093Z"
   },
   {
    "duration": 652,
    "start_time": "2022-08-16T08:02:53.776Z"
   },
   {
    "duration": 630,
    "start_time": "2022-08-16T08:02:54.429Z"
   },
   {
    "duration": 512,
    "start_time": "2022-08-16T08:02:55.060Z"
   },
   {
    "duration": 6,
    "start_time": "2022-08-16T08:02:59.180Z"
   },
   {
    "duration": 528,
    "start_time": "2022-08-16T08:03:02.729Z"
   },
   {
    "duration": 101,
    "start_time": "2022-08-16T08:05:50.089Z"
   },
   {
    "duration": 6,
    "start_time": "2022-08-16T08:05:53.585Z"
   },
   {
    "duration": 1055,
    "start_time": "2022-08-16T08:06:00.611Z"
   },
   {
    "duration": 34,
    "start_time": "2022-08-16T08:07:07.560Z"
   },
   {
    "duration": 9,
    "start_time": "2022-08-16T08:07:13.538Z"
   },
   {
    "duration": 8,
    "start_time": "2022-08-16T08:07:25.105Z"
   },
   {
    "duration": 11,
    "start_time": "2022-08-16T08:07:31.234Z"
   },
   {
    "duration": 399,
    "start_time": "2022-08-16T08:07:33.933Z"
   },
   {
    "duration": 28,
    "start_time": "2022-08-16T08:08:40.079Z"
   },
   {
    "duration": 22,
    "start_time": "2022-08-16T08:08:53.248Z"
   },
   {
    "duration": 28,
    "start_time": "2022-08-16T08:09:12.047Z"
   },
   {
    "duration": 25,
    "start_time": "2022-08-16T08:09:34.443Z"
   },
   {
    "duration": 31,
    "start_time": "2022-08-16T08:09:46.977Z"
   },
   {
    "duration": 25,
    "start_time": "2022-08-16T08:10:08.710Z"
   },
   {
    "duration": 28,
    "start_time": "2022-08-16T08:11:07.009Z"
   },
   {
    "duration": 30,
    "start_time": "2022-08-16T08:11:25.903Z"
   },
   {
    "duration": 20,
    "start_time": "2022-08-16T08:11:52.695Z"
   },
   {
    "duration": 10,
    "start_time": "2022-08-16T08:12:02.411Z"
   },
   {
    "duration": 19,
    "start_time": "2022-08-16T08:12:23.629Z"
   },
   {
    "duration": 1383,
    "start_time": "2022-08-16T08:12:38.200Z"
   },
   {
    "duration": 692,
    "start_time": "2022-08-16T08:12:39.584Z"
   },
   {
    "duration": 48,
    "start_time": "2022-08-16T08:12:40.278Z"
   },
   {
    "duration": 657,
    "start_time": "2022-08-16T08:12:40.328Z"
   },
   {
    "duration": 235,
    "start_time": "2022-08-16T08:12:40.987Z"
   },
   {
    "duration": 65,
    "start_time": "2022-08-16T08:12:41.224Z"
   },
   {
    "duration": 7,
    "start_time": "2022-08-16T08:12:41.290Z"
   },
   {
    "duration": 11,
    "start_time": "2022-08-16T08:12:41.965Z"
   },
   {
    "duration": 8,
    "start_time": "2022-08-16T08:12:42.155Z"
   },
   {
    "duration": 4,
    "start_time": "2022-08-16T08:12:42.796Z"
   },
   {
    "duration": 3,
    "start_time": "2022-08-16T08:12:43.956Z"
   },
   {
    "duration": 4,
    "start_time": "2022-08-16T08:12:44.157Z"
   },
   {
    "duration": 4,
    "start_time": "2022-08-16T08:12:44.750Z"
   },
   {
    "duration": 8,
    "start_time": "2022-08-16T08:12:45.834Z"
   },
   {
    "duration": 15,
    "start_time": "2022-08-16T08:12:46.262Z"
   },
   {
    "duration": 3,
    "start_time": "2022-08-16T08:12:49.107Z"
   },
   {
    "duration": 10,
    "start_time": "2022-08-16T08:12:49.681Z"
   },
   {
    "duration": 708,
    "start_time": "2022-08-16T08:12:52.257Z"
   },
   {
    "duration": 620,
    "start_time": "2022-08-16T08:12:52.967Z"
   },
   {
    "duration": 670,
    "start_time": "2022-08-16T08:12:53.589Z"
   },
   {
    "duration": 529,
    "start_time": "2022-08-16T08:12:54.261Z"
   },
   {
    "duration": 7,
    "start_time": "2022-08-16T08:12:56.835Z"
   },
   {
    "duration": 529,
    "start_time": "2022-08-16T08:13:00.316Z"
   },
   {
    "duration": 21,
    "start_time": "2022-08-16T08:13:06.541Z"
   },
   {
    "duration": 25,
    "start_time": "2022-08-16T08:13:14.534Z"
   },
   {
    "duration": 14,
    "start_time": "2022-08-16T08:13:25.936Z"
   },
   {
    "duration": 21,
    "start_time": "2022-08-16T08:13:36.594Z"
   },
   {
    "duration": 12,
    "start_time": "2022-08-16T08:14:11.871Z"
   },
   {
    "duration": 9,
    "start_time": "2022-08-16T08:14:12.278Z"
   },
   {
    "duration": 9,
    "start_time": "2022-08-16T08:14:21.895Z"
   },
   {
    "duration": 124,
    "start_time": "2022-08-16T08:14:22.215Z"
   },
   {
    "duration": 4,
    "start_time": "2022-08-16T08:14:22.624Z"
   },
   {
    "duration": 1247,
    "start_time": "2022-08-16T08:14:41.003Z"
   },
   {
    "duration": 701,
    "start_time": "2022-08-16T08:14:42.252Z"
   },
   {
    "duration": 70,
    "start_time": "2022-08-16T08:14:42.955Z"
   },
   {
    "duration": 580,
    "start_time": "2022-08-16T08:14:43.027Z"
   },
   {
    "duration": 237,
    "start_time": "2022-08-16T08:14:43.609Z"
   },
   {
    "duration": 67,
    "start_time": "2022-08-16T08:14:43.848Z"
   },
   {
    "duration": 7,
    "start_time": "2022-08-16T08:14:43.917Z"
   },
   {
    "duration": 9,
    "start_time": "2022-08-16T08:14:43.926Z"
   },
   {
    "duration": 6,
    "start_time": "2022-08-16T08:14:43.937Z"
   },
   {
    "duration": 4,
    "start_time": "2022-08-16T08:14:44.397Z"
   },
   {
    "duration": 4,
    "start_time": "2022-08-16T08:14:45.617Z"
   },
   {
    "duration": 5,
    "start_time": "2022-08-16T08:14:45.959Z"
   },
   {
    "duration": 4,
    "start_time": "2022-08-16T08:14:46.220Z"
   },
   {
    "duration": 10,
    "start_time": "2022-08-16T08:14:47.076Z"
   },
   {
    "duration": 18,
    "start_time": "2022-08-16T08:14:47.266Z"
   },
   {
    "duration": 4,
    "start_time": "2022-08-16T08:14:48.927Z"
   },
   {
    "duration": 12,
    "start_time": "2022-08-16T08:14:49.639Z"
   },
   {
    "duration": 779,
    "start_time": "2022-08-16T08:14:50.395Z"
   },
   {
    "duration": 685,
    "start_time": "2022-08-16T08:14:51.176Z"
   },
   {
    "duration": 725,
    "start_time": "2022-08-16T08:14:51.863Z"
   },
   {
    "duration": 560,
    "start_time": "2022-08-16T08:14:52.591Z"
   },
   {
    "duration": 7,
    "start_time": "2022-08-16T08:14:54.825Z"
   },
   {
    "duration": 591,
    "start_time": "2022-08-16T08:14:56.388Z"
   },
   {
    "duration": 11,
    "start_time": "2022-08-16T08:14:58.439Z"
   },
   {
    "duration": 9,
    "start_time": "2022-08-16T08:15:00.243Z"
   },
   {
    "duration": 4,
    "start_time": "2022-08-16T08:15:00.876Z"
   },
   {
    "duration": 9,
    "start_time": "2022-08-16T08:15:03.437Z"
   },
   {
    "duration": 8,
    "start_time": "2022-08-16T08:15:04.718Z"
   },
   {
    "duration": 3,
    "start_time": "2022-08-16T08:15:18.598Z"
   },
   {
    "duration": 4,
    "start_time": "2022-08-16T08:15:19.300Z"
   },
   {
    "duration": 3,
    "start_time": "2022-08-16T08:15:20.061Z"
   },
   {
    "duration": 11,
    "start_time": "2022-08-16T08:15:20.872Z"
   },
   {
    "duration": 16548,
    "start_time": "2022-08-16T08:15:21.215Z"
   },
   {
    "duration": 26491,
    "start_time": "2022-08-16T08:15:37.764Z"
   },
   {
    "duration": 1635,
    "start_time": "2022-08-16T08:16:04.257Z"
   },
   {
    "duration": 491,
    "start_time": "2022-08-16T08:16:05.894Z"
   },
   {
    "duration": 2182,
    "start_time": "2022-08-16T08:16:06.387Z"
   },
   {
    "duration": 269,
    "start_time": "2022-08-16T08:16:08.571Z"
   },
   {
    "duration": 84,
    "start_time": "2022-08-16T08:16:08.842Z"
   },
   {
    "duration": 220,
    "start_time": "2022-08-16T08:16:22.927Z"
   },
   {
    "duration": 283,
    "start_time": "2022-08-16T08:16:25.332Z"
   },
   {
    "duration": 4,
    "start_time": "2022-08-16T08:16:31.432Z"
   },
   {
    "duration": 4,
    "start_time": "2022-08-16T08:16:31.609Z"
   },
   {
    "duration": 3,
    "start_time": "2022-08-16T08:16:34.636Z"
   },
   {
    "duration": 166,
    "start_time": "2022-08-16T08:16:37.831Z"
   },
   {
    "duration": 2085,
    "start_time": "2022-08-16T08:16:39.682Z"
   },
   {
    "duration": 123,
    "start_time": "2022-08-16T08:16:41.769Z"
   },
   {
    "duration": 8,
    "start_time": "2022-08-16T08:16:43.659Z"
   },
   {
    "duration": 69,
    "start_time": "2022-08-16T08:16:45.524Z"
   },
   {
    "duration": 4,
    "start_time": "2022-08-16T08:21:09.525Z"
   },
   {
    "duration": 1326,
    "start_time": "2022-08-16T08:21:26.759Z"
   },
   {
    "duration": 680,
    "start_time": "2022-08-16T08:21:28.087Z"
   },
   {
    "duration": 44,
    "start_time": "2022-08-16T08:21:28.768Z"
   },
   {
    "duration": 563,
    "start_time": "2022-08-16T08:21:28.814Z"
   },
   {
    "duration": 232,
    "start_time": "2022-08-16T08:21:29.379Z"
   },
   {
    "duration": 53,
    "start_time": "2022-08-16T08:21:29.613Z"
   },
   {
    "duration": 22,
    "start_time": "2022-08-16T08:21:29.668Z"
   },
   {
    "duration": 10,
    "start_time": "2022-08-16T08:21:29.692Z"
   },
   {
    "duration": 8,
    "start_time": "2022-08-16T08:21:29.703Z"
   },
   {
    "duration": 9,
    "start_time": "2022-08-16T08:21:29.713Z"
   },
   {
    "duration": 6,
    "start_time": "2022-08-16T08:21:29.723Z"
   },
   {
    "duration": 6,
    "start_time": "2022-08-16T08:21:29.730Z"
   },
   {
    "duration": 6,
    "start_time": "2022-08-16T08:21:29.737Z"
   },
   {
    "duration": 16,
    "start_time": "2022-08-16T08:21:29.744Z"
   },
   {
    "duration": 36,
    "start_time": "2022-08-16T08:21:29.761Z"
   },
   {
    "duration": 6,
    "start_time": "2022-08-16T08:21:29.799Z"
   },
   {
    "duration": 14,
    "start_time": "2022-08-16T08:21:29.806Z"
   },
   {
    "duration": 721,
    "start_time": "2022-08-16T08:21:29.821Z"
   },
   {
    "duration": 660,
    "start_time": "2022-08-16T08:21:30.544Z"
   },
   {
    "duration": 774,
    "start_time": "2022-08-16T08:21:31.206Z"
   },
   {
    "duration": 409,
    "start_time": "2022-08-16T08:21:31.982Z"
   },
   {
    "duration": 8,
    "start_time": "2022-08-16T08:21:32.393Z"
   },
   {
    "duration": 541,
    "start_time": "2022-08-16T08:21:32.403Z"
   },
   {
    "duration": 12,
    "start_time": "2022-08-16T08:21:32.946Z"
   },
   {
    "duration": 8,
    "start_time": "2022-08-16T08:21:32.960Z"
   },
   {
    "duration": 4,
    "start_time": "2022-08-16T08:21:32.986Z"
   },
   {
    "duration": 10,
    "start_time": "2022-08-16T08:21:32.991Z"
   },
   {
    "duration": 9,
    "start_time": "2022-08-16T08:21:33.004Z"
   },
   {
    "duration": 2,
    "start_time": "2022-08-16T08:21:33.015Z"
   },
   {
    "duration": 8,
    "start_time": "2022-08-16T08:21:33.019Z"
   },
   {
    "duration": 7,
    "start_time": "2022-08-16T08:21:33.028Z"
   },
   {
    "duration": 10,
    "start_time": "2022-08-16T08:21:33.037Z"
   },
   {
    "duration": 15797,
    "start_time": "2022-08-16T08:21:33.049Z"
   },
   {
    "duration": 26168,
    "start_time": "2022-08-16T08:21:48.848Z"
   },
   {
    "duration": 1675,
    "start_time": "2022-08-16T08:22:15.018Z"
   },
   {
    "duration": 492,
    "start_time": "2022-08-16T08:22:16.696Z"
   },
   {
    "duration": 2066,
    "start_time": "2022-08-16T08:22:17.190Z"
   },
   {
    "duration": 308,
    "start_time": "2022-08-16T08:22:19.258Z"
   },
   {
    "duration": 245,
    "start_time": "2022-08-16T08:22:19.568Z"
   },
   {
    "duration": 2,
    "start_time": "2022-08-16T08:22:34.344Z"
   },
   {
    "duration": 4,
    "start_time": "2022-08-16T08:22:34.487Z"
   },
   {
    "duration": 2,
    "start_time": "2022-08-16T08:22:35.332Z"
   },
   {
    "duration": 168,
    "start_time": "2022-08-16T08:22:38.794Z"
   },
   {
    "duration": 2111,
    "start_time": "2022-08-16T08:22:40.235Z"
   },
   {
    "duration": 248,
    "start_time": "2022-08-16T08:22:42.347Z"
   },
   {
    "duration": 13,
    "start_time": "2022-08-16T08:22:42.687Z"
   }
  ],
  "kernelspec": {
   "display_name": "Python 3 (ipykernel)",
   "language": "python",
   "name": "python3"
  },
  "language_info": {
   "codemirror_mode": {
    "name": "ipython",
    "version": 3
   },
   "file_extension": ".py",
   "mimetype": "text/x-python",
   "name": "python",
   "nbconvert_exporter": "python",
   "pygments_lexer": "ipython3",
   "version": "3.9.12"
  },
  "toc": {
   "base_numbering": 1,
   "nav_menu": {},
   "number_sections": true,
   "sideBar": true,
   "skip_h1_title": true,
   "title_cell": "Содержание",
   "title_sidebar": "Contents",
   "toc_cell": true,
   "toc_position": {
    "height": "calc(100% - 180px)",
    "left": "10px",
    "top": "150px",
    "width": "165px"
   },
   "toc_section_display": true,
   "toc_window_display": false
  }
 },
 "nbformat": 4,
 "nbformat_minor": 2
}

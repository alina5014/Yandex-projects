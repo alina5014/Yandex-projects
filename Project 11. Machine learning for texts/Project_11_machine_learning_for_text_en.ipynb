{
 "cells": [
  {
   "cell_type": "markdown",
   "metadata": {},
   "source": [
    "# Machine learning for texts"
   ]
  },
  {
   "cell_type": "markdown",
   "metadata": {},
   "source": [
    "Online store launches a new service. Now users can edit and supplement product descriptions, just like in wiki communities. That is, clients propose their edits and comment on the changes of others. The store needs a tool that will look for toxic comments and submit them for moderation.  At our disposal is a dataset with markup on the toxicity of edits.\n",
    "\n",
    "\n",
    "**Project objectives**\n",
    "\n",
    "1. Download and prepare data.\n",
    "2. Train different models to classify comments into positive and negative.\n",
    "3. Build a model with a quality metric *F1* of at least 0.75.\n",
    "4. Draw conclusions.\n",
    "\n",
    "\n",
    "**Data Description**\n",
    "\n",
    "The data is in the `toxic_comments.csv` file. The *text* column contains the text of the comment, and *toxic* is the target attribute."
   ]
  },
  {
   "cell_type": "markdown",
   "metadata": {},
   "source": [
    "## Data preparation"
   ]
  },
  {
   "cell_type": "code",
   "execution_count": 1,
   "metadata": {},
   "outputs": [],
   "source": [
    "import numpy as np\n",
    "import pandas as pd\n",
    "import matplotlib.pyplot as plt\n",
    "import time\n",
    "\n",
    "\n",
    "import re\n",
    "import nltk \n",
    "from nltk.stem import WordNetLemmatizer \n",
    "from nltk.corpus import stopwords as nltk_stopwords\n",
    "from sklearn.feature_extraction.text import TfidfVectorizer\n",
    "\n",
    "\n",
    "from sklearn.model_selection import train_test_split, GridSearchCV\n",
    "from lightgbm import LGBMClassifier\n",
    "from sklearn.linear_model import LogisticRegression\n",
    "from sklearn.metrics import f1_score\n",
    "\n",
    "import warnings\n",
    "warnings.filterwarnings(\"ignore\")"
   ]
  },
  {
   "cell_type": "markdown",
   "metadata": {},
   "source": [
    "Examining the data."
   ]
  },
  {
   "cell_type": "code",
   "execution_count": 2,
   "metadata": {},
   "outputs": [],
   "source": [
    "try:\n",
    "    df = pd.read_csv('toxic_comments.csv')\n",
    "except:\n",
    "    df = pd.read_csv('/datasets/toxic_comments.csv')"
   ]
  },
  {
   "cell_type": "code",
   "execution_count": 3,
   "metadata": {},
   "outputs": [
    {
     "data": {
      "text/html": [
       "<div>\n",
       "<style scoped>\n",
       "    .dataframe tbody tr th:only-of-type {\n",
       "        vertical-align: middle;\n",
       "    }\n",
       "\n",
       "    .dataframe tbody tr th {\n",
       "        vertical-align: top;\n",
       "    }\n",
       "\n",
       "    .dataframe thead th {\n",
       "        text-align: right;\n",
       "    }\n",
       "</style>\n",
       "<table border=\"1\" class=\"dataframe\">\n",
       "  <thead>\n",
       "    <tr style=\"text-align: right;\">\n",
       "      <th></th>\n",
       "      <th>Unnamed: 0</th>\n",
       "      <th>text</th>\n",
       "      <th>toxic</th>\n",
       "    </tr>\n",
       "  </thead>\n",
       "  <tbody>\n",
       "    <tr>\n",
       "      <th>0</th>\n",
       "      <td>0</td>\n",
       "      <td>Explanation\\nWhy the edits made under my usern...</td>\n",
       "      <td>0</td>\n",
       "    </tr>\n",
       "    <tr>\n",
       "      <th>1</th>\n",
       "      <td>1</td>\n",
       "      <td>D'aww! He matches this background colour I'm s...</td>\n",
       "      <td>0</td>\n",
       "    </tr>\n",
       "    <tr>\n",
       "      <th>2</th>\n",
       "      <td>2</td>\n",
       "      <td>Hey man, I'm really not trying to edit war. It...</td>\n",
       "      <td>0</td>\n",
       "    </tr>\n",
       "    <tr>\n",
       "      <th>3</th>\n",
       "      <td>3</td>\n",
       "      <td>\"\\nMore\\nI can't make any real suggestions on ...</td>\n",
       "      <td>0</td>\n",
       "    </tr>\n",
       "    <tr>\n",
       "      <th>4</th>\n",
       "      <td>4</td>\n",
       "      <td>You, sir, are my hero. Any chance you remember...</td>\n",
       "      <td>0</td>\n",
       "    </tr>\n",
       "  </tbody>\n",
       "</table>\n",
       "</div>"
      ],
      "text/plain": [
       "   Unnamed: 0                                               text  toxic\n",
       "0           0  Explanation\\nWhy the edits made under my usern...      0\n",
       "1           1  D'aww! He matches this background colour I'm s...      0\n",
       "2           2  Hey man, I'm really not trying to edit war. It...      0\n",
       "3           3  \"\\nMore\\nI can't make any real suggestions on ...      0\n",
       "4           4  You, sir, are my hero. Any chance you remember...      0"
      ]
     },
     "execution_count": 3,
     "metadata": {},
     "output_type": "execute_result"
    }
   ],
   "source": [
    "df.head()"
   ]
  },
  {
   "cell_type": "code",
   "execution_count": 4,
   "metadata": {},
   "outputs": [
    {
     "name": "stdout",
     "output_type": "stream",
     "text": [
      "<class 'pandas.core.frame.DataFrame'>\n",
      "RangeIndex: 159292 entries, 0 to 159291\n",
      "Data columns (total 3 columns):\n",
      " #   Column      Non-Null Count   Dtype \n",
      "---  ------      --------------   ----- \n",
      " 0   Unnamed: 0  159292 non-null  int64 \n",
      " 1   text        159292 non-null  object\n",
      " 2   toxic       159292 non-null  int64 \n",
      "dtypes: int64(2), object(1)\n",
      "memory usage: 3.6+ MB\n"
     ]
    }
   ],
   "source": [
    "df.info()"
   ]
  },
  {
   "cell_type": "code",
   "execution_count": 5,
   "metadata": {},
   "outputs": [
    {
     "data": {
      "text/plain": [
       "0"
      ]
     },
     "execution_count": 5,
     "metadata": {},
     "output_type": "execute_result"
    }
   ],
   "source": [
    "df.duplicated().sum()"
   ]
  },
  {
   "cell_type": "code",
   "execution_count": 6,
   "metadata": {},
   "outputs": [
    {
     "data": {
      "image/png": "[encoded data removed]",
      "text/plain": [
       "<Figure size 360x360 with 1 Axes>"
      ]
     },
     "metadata": {
      "needs_background": "light"
     },
     "output_type": "display_data"
    }
   ],
   "source": [
    "df['toxic'].value_counts().plot(kind='bar', figsize = (5,5))\n",
    "plt.title('Toxicity ratio of comments')\n",
    "plt.ylabel('quantity')\n",
    "plt.xlabel('class');"
   ]
  },
  {
   "cell_type": "markdown",
   "metadata": {},
   "source": [
    "The ratio of classes is uneven. It is necessary to keep the imbalance in training."
   ]
  },
  {
   "cell_type": "markdown",
   "metadata": {},
   "source": [
    "Data of about 159 thousand unique values is at our disposal, located in three columns `Unnamed:0`, `text`, and `toxic`.\n",
    "\n",
    "The language of the text is English, the texts contain punctuation marks, capital letters, symbols. It is necessary to lemmatize the text."
   ]
  },
  {
   "cell_type": "code",
   "execution_count": 7,
   "metadata": {},
   "outputs": [],
   "source": [
    "lemmatizer = WordNetLemmatizer()\n",
    "def lemmatization(text):\n",
    "    word_list = nltk.word_tokenize(text)\n",
    "    return ' '.join([lemmatizer.lemmatize(w) for w in word_list])"
   ]
  },
  {
   "cell_type": "code",
   "execution_count": 8,
   "metadata": {},
   "outputs": [],
   "source": [
    "def clear_text(text):\n",
    "    return ' '.join(re.sub(r'[^a-z]', ' ',text.lower()) .split())"
   ]
  },
  {
   "cell_type": "code",
   "execution_count": 9,
   "metadata": {},
   "outputs": [],
   "source": [
    "df['text'] = df['text'].apply(lemmatization)\n",
    "df['text'] = df['text'].apply(clear_text)"
   ]
  },
  {
   "cell_type": "code",
   "execution_count": 10,
   "metadata": {},
   "outputs": [
    {
     "data": {
      "text/html": [
       "<div>\n",
       "<style scoped>\n",
       "    .dataframe tbody tr th:only-of-type {\n",
       "        vertical-align: middle;\n",
       "    }\n",
       "\n",
       "    .dataframe tbody tr th {\n",
       "        vertical-align: top;\n",
       "    }\n",
       "\n",
       "    .dataframe thead th {\n",
       "        text-align: right;\n",
       "    }\n",
       "</style>\n",
       "<table border=\"1\" class=\"dataframe\">\n",
       "  <thead>\n",
       "    <tr style=\"text-align: right;\">\n",
       "      <th></th>\n",
       "      <th>Unnamed: 0</th>\n",
       "      <th>text</th>\n",
       "      <th>toxic</th>\n",
       "    </tr>\n",
       "  </thead>\n",
       "  <tbody>\n",
       "    <tr>\n",
       "      <th>0</th>\n",
       "      <td>0</td>\n",
       "      <td>explanation why the edits made under my userna...</td>\n",
       "      <td>0</td>\n",
       "    </tr>\n",
       "    <tr>\n",
       "      <th>1</th>\n",
       "      <td>1</td>\n",
       "      <td>d aww he match this background colour i m seem...</td>\n",
       "      <td>0</td>\n",
       "    </tr>\n",
       "    <tr>\n",
       "      <th>2</th>\n",
       "      <td>2</td>\n",
       "      <td>hey man i m really not trying to edit war it s...</td>\n",
       "      <td>0</td>\n",
       "    </tr>\n",
       "    <tr>\n",
       "      <th>3</th>\n",
       "      <td>3</td>\n",
       "      <td>more i ca n t make any real suggestion on impr...</td>\n",
       "      <td>0</td>\n",
       "    </tr>\n",
       "    <tr>\n",
       "      <th>4</th>\n",
       "      <td>4</td>\n",
       "      <td>you sir are my hero any chance you remember wh...</td>\n",
       "      <td>0</td>\n",
       "    </tr>\n",
       "  </tbody>\n",
       "</table>\n",
       "</div>"
      ],
      "text/plain": [
       "   Unnamed: 0                                               text  toxic\n",
       "0           0  explanation why the edits made under my userna...      0\n",
       "1           1  d aww he match this background colour i m seem...      0\n",
       "2           2  hey man i m really not trying to edit war it s...      0\n",
       "3           3  more i ca n t make any real suggestion on impr...      0\n",
       "4           4  you sir are my hero any chance you remember wh...      0"
      ]
     },
     "execution_count": 10,
     "metadata": {},
     "output_type": "execute_result"
    }
   ],
   "source": [
    "df.head()"
   ]
  },
  {
   "cell_type": "markdown",
   "metadata": {},
   "source": [
    "- The data has been studied, it is possible to keep an imbalance in the target features.\n",
    "- Lemmatization has been performed.\n",
    "- Data is ready for training. \n"
   ]
  },
  {
   "cell_type": "markdown",
   "metadata": {},
   "source": [
    "## Model training"
   ]
  },
  {
   "cell_type": "markdown",
   "metadata": {},
   "source": [
    "Dividing the dataset into training and test samples in the ratio of 75:25. "
   ]
  },
  {
   "cell_type": "code",
   "execution_count": 11,
   "metadata": {},
   "outputs": [],
   "source": [
    "features = df.drop(['toxic'], axis=1)\n",
    "target = df['toxic']"
   ]
  },
  {
   "cell_type": "code",
   "execution_count": 12,
   "metadata": {},
   "outputs": [],
   "source": [
    "train, test = train_test_split(df, test_size=0.25, random_state=12345, stratify=target)"
   ]
  },
  {
   "cell_type": "code",
   "execution_count": 13,
   "metadata": {},
   "outputs": [],
   "source": [
    "features_train = train.drop(['toxic'], axis=1)\n",
    "target_train = train['toxic']\n",
    "features_test = test.drop(['toxic'], axis=1)\n",
    "target_test = test['toxic']"
   ]
  },
  {
   "cell_type": "code",
   "execution_count": 14,
   "metadata": {},
   "outputs": [],
   "source": [
    "corpus_train = features_train['text'].values\n",
    "corpus_test = features_test['text'].values"
   ]
  },
  {
   "cell_type": "markdown",
   "metadata": {},
   "source": [
    "Creating a counter."
   ]
  },
  {
   "cell_type": "code",
   "execution_count": 15,
   "metadata": {},
   "outputs": [],
   "source": [
    "stopwords = set(nltk_stopwords.words('english'))\n",
    "count_tf_idf = TfidfVectorizer(stop_words=stopwords, min_df=3, max_df=0.9)"
   ]
  },
  {
   "cell_type": "markdown",
   "metadata": {},
   "source": [
    "Calculating TF-IDF. "
   ]
  },
  {
   "cell_type": "code",
   "execution_count": 16,
   "metadata": {},
   "outputs": [],
   "source": [
    "features_train = count_tf_idf.fit_transform(corpus_train)\n",
    "features_test = count_tf_idf.transform(corpus_test)"
   ]
  },
  {
   "cell_type": "markdown",
   "metadata": {},
   "source": [
    "Moving on to model training, LogisticRegression и LGBMClassifier are chosen."
   ]
  },
  {
   "cell_type": "code",
   "execution_count": 17,
   "metadata": {},
   "outputs": [],
   "source": [
    "def best_model(model, params, features_train, target_train, features_test, target_test):\n",
    "    grid = GridSearchCV(model, param_grid = params, cv=2, verbose=True,\n",
    "                                            scoring = 'f1', n_jobs=-1)\n",
    "    grid.fit(features_train,target_train)\n",
    "    predict = grid.predict(features_test)\n",
    "    return f1_score(target_test, predict), grid.best_params_"
   ]
  },
  {
   "cell_type": "code",
   "execution_count": 18,
   "metadata": {},
   "outputs": [
    {
     "name": "stdout",
     "output_type": "stream",
     "text": [
      "Fitting 2 folds for each of 2 candidates, totalling 4 fits\n",
      "F1 and the best parameters: (0.7555058692006708, {'C': 8})\n"
     ]
    }
   ],
   "source": [
    "start = time.time()\n",
    "model_lr = LogisticRegression(random_state=12345, class_weight='balanced')\n",
    "lr_params = {'C': [8,15]}\n",
    "lr = best_model(model_lr, lr_params, features_train, target_train, features_test, target_test)\n",
    "end = time.time()\n",
    "lr_time = end - start \n",
    "print(f\"F1 and the best parameters: {lr}\")"
   ]
  },
  {
   "cell_type": "code",
   "execution_count": 19,
   "metadata": {},
   "outputs": [
    {
     "name": "stdout",
     "output_type": "stream",
     "text": [
      "Fitting 2 folds for each of 4 candidates, totalling 8 fits\n",
      "F1 and the best parameters: (0.59660441426146, {'learning_rate': 0.1, 'max_depth': 10, 'n_estimators': 30})\n"
     ]
    }
   ],
   "source": [
    "start = time.time()\n",
    "model_lgbm = LGBMClassifier(metric = 'f1_score')\n",
    "lgbm_params = {'max_depth': [1,10],\n",
    "               'n_estimators': [10, 30], \n",
    "                'learning_rate': [0.1]\n",
    "              }\n",
    "lgbm = best_model(model_lgbm, lgbm_params, features_train, target_train, features_test, target_test)\n",
    "end = time.time()\n",
    "lgbm_time = end - start\n",
    "print(f\"F1 and the best parameters: {lgbm}\")"
   ]
  },
  {
   "cell_type": "markdown",
   "metadata": {},
   "source": [
    "## Summary"
   ]
  },
  {
   "cell_type": "markdown",
   "metadata": {},
   "source": [
    "Comparing F1 и training and prediction time. "
   ]
  },
  {
   "cell_type": "code",
   "execution_count": 20,
   "metadata": {},
   "outputs": [],
   "source": [
    "table = pd.DataFrame({\n",
    "    'model': ['LogisticRegression','LightGBM'],\n",
    "    'time' : [ lr_time, lgbm_time ] , \n",
    "    'F1': [lr, lgbm]\n",
    "})\n"
   ]
  },
  {
   "cell_type": "code",
   "execution_count": 21,
   "metadata": {},
   "outputs": [
    {
     "data": {
      "text/html": [
       "<div>\n",
       "<style scoped>\n",
       "    .dataframe tbody tr th:only-of-type {\n",
       "        vertical-align: middle;\n",
       "    }\n",
       "\n",
       "    .dataframe tbody tr th {\n",
       "        vertical-align: top;\n",
       "    }\n",
       "\n",
       "    .dataframe thead th {\n",
       "        text-align: right;\n",
       "    }\n",
       "</style>\n",
       "<table border=\"1\" class=\"dataframe\">\n",
       "  <thead>\n",
       "    <tr style=\"text-align: right;\">\n",
       "      <th></th>\n",
       "      <th>model</th>\n",
       "      <th>time</th>\n",
       "      <th>F1</th>\n",
       "    </tr>\n",
       "  </thead>\n",
       "  <tbody>\n",
       "    <tr>\n",
       "      <th>0</th>\n",
       "      <td>LogisticRegression</td>\n",
       "      <td>26.133034</td>\n",
       "      <td>(0.7555058692006708, {'C': 8})</td>\n",
       "    </tr>\n",
       "    <tr>\n",
       "      <th>1</th>\n",
       "      <td>LightGBM</td>\n",
       "      <td>93.051486</td>\n",
       "      <td>(0.59660441426146, {'learning_rate': 0.1, 'max...</td>\n",
       "    </tr>\n",
       "  </tbody>\n",
       "</table>\n",
       "</div>"
      ],
      "text/plain": [
       "                model       time  \\\n",
       "0  LogisticRegression  26.133034   \n",
       "1            LightGBM  93.051486   \n",
       "\n",
       "                                                  F1  \n",
       "0                     (0.7555058692006708, {'C': 8})  \n",
       "1  (0.59660441426146, {'learning_rate': 0.1, 'max...  "
      ]
     },
     "execution_count": 21,
     "metadata": {},
     "output_type": "execute_result"
    }
   ],
   "source": [
    "table"
   ]
  },
  {
   "cell_type": "markdown",
   "metadata": {},
   "source": [
    "F1 of Logistic Regression is higher. It equals 0.75. The goal is achieved."
   ]
  },
  {
   "cell_type": "markdown",
   "metadata": {},
   "source": [
    "During the work, the following was done:\n",
    "    \n",
    "- The data has been studied, there is an imbalance in the toxicity of comments.\n",
    "- Lemmatization of texts has been completed, symbols, capital letters and sing marks have been removed.\n",
    "- Texts were trained using `LogisticRegression` and `LightGBM`.\n",
    "- `LogisticRegression` showed a good result F1, more than 0.75 when C = 8."
   ]
  }
 ],
 "metadata": {
  "ExecuteTimeLog": [
   {
    "duration": 2048,
    "start_time": "2022-10-13T07:00:07.479Z"
   },
   {
    "duration": 272,
    "start_time": "2022-10-13T07:00:09.530Z"
   },
   {
    "duration": 0,
    "start_time": "2022-10-13T07:00:09.805Z"
   },
   {
    "duration": 0,
    "start_time": "2022-10-13T07:00:09.805Z"
   },
   {
    "duration": 0,
    "start_time": "2022-10-13T07:00:09.808Z"
   },
   {
    "duration": 0,
    "start_time": "2022-10-13T07:00:09.810Z"
   },
   {
    "duration": 0,
    "start_time": "2022-10-13T07:00:09.812Z"
   },
   {
    "duration": 0,
    "start_time": "2022-10-13T07:00:09.814Z"
   },
   {
    "duration": 0,
    "start_time": "2022-10-13T07:00:09.815Z"
   },
   {
    "duration": 0,
    "start_time": "2022-10-13T07:00:09.816Z"
   },
   {
    "duration": 0,
    "start_time": "2022-10-13T07:00:09.818Z"
   },
   {
    "duration": 0,
    "start_time": "2022-10-13T07:00:09.819Z"
   },
   {
    "duration": 11,
    "start_time": "2022-10-13T07:00:09.892Z"
   },
   {
    "duration": 0,
    "start_time": "2022-10-13T07:00:09.905Z"
   },
   {
    "duration": 10,
    "start_time": "2022-10-13T07:00:09.940Z"
   },
   {
    "duration": 4,
    "start_time": "2022-10-13T07:00:10.134Z"
   },
   {
    "duration": 14,
    "start_time": "2022-10-13T07:00:10.310Z"
   },
   {
    "duration": 95,
    "start_time": "2022-10-13T07:00:19.428Z"
   },
   {
    "duration": 2423,
    "start_time": "2022-10-13T07:00:47.312Z"
   },
   {
    "duration": 11,
    "start_time": "2022-10-13T07:00:53.640Z"
   },
   {
    "duration": 29,
    "start_time": "2022-10-13T07:00:54.792Z"
   },
   {
    "duration": 269,
    "start_time": "2022-10-13T07:00:55.038Z"
   },
   {
    "duration": 221,
    "start_time": "2022-10-13T07:00:55.310Z"
   },
   {
    "duration": 4,
    "start_time": "2022-10-13T07:00:55.532Z"
   },
   {
    "duration": 3,
    "start_time": "2022-10-13T07:00:55.583Z"
   },
   {
    "duration": 25,
    "start_time": "2022-10-13T07:00:55.748Z"
   },
   {
    "duration": 143775,
    "start_time": "2022-10-13T07:00:55.939Z"
   },
   {
    "duration": 4,
    "start_time": "2022-10-13T07:03:19.716Z"
   },
   {
    "duration": 65,
    "start_time": "2022-10-13T07:03:19.721Z"
   },
   {
    "duration": 8,
    "start_time": "2022-10-13T07:03:19.789Z"
   },
   {
    "duration": 18,
    "start_time": "2022-10-13T07:03:19.799Z"
   },
   {
    "duration": 10288,
    "start_time": "2022-10-13T07:03:19.819Z"
   },
   {
    "duration": 3,
    "start_time": "2022-10-13T07:03:30.109Z"
   },
   {
    "duration": 642798,
    "start_time": "2022-10-13T07:03:30.113Z"
   },
   {
    "duration": 29,
    "start_time": "2022-10-13T08:16:32.232Z"
   },
   {
    "duration": 49,
    "start_time": "2022-10-13T08:34:07.825Z"
   },
   {
    "duration": 581308,
    "start_time": "2022-10-13T08:37:53.402Z"
   },
   {
    "duration": 9,
    "start_time": "2022-10-13T08:47:34.711Z"
   },
   {
    "duration": 0,
    "start_time": "2022-10-13T08:47:34.722Z"
   },
   {
    "duration": 0,
    "start_time": "2022-10-13T08:47:34.723Z"
   },
   {
    "duration": 64,
    "start_time": "2022-10-13T08:53:16.520Z"
   },
   {
    "duration": 5,
    "start_time": "2022-10-13T08:53:21.705Z"
   },
   {
    "duration": 47,
    "start_time": "2022-10-13T08:57:05.750Z"
   },
   {
    "duration": 12,
    "start_time": "2022-10-13T08:57:15.622Z"
   },
   {
    "duration": 4,
    "start_time": "2022-10-13T10:07:34.259Z"
   },
   {
    "duration": 68,
    "start_time": "2022-10-13T10:08:58.065Z"
   },
   {
    "duration": 26,
    "start_time": "2022-10-13T10:09:01.842Z"
   },
   {
    "duration": 2231,
    "start_time": "2022-10-13T10:14:07.492Z"
   },
   {
    "duration": 2702,
    "start_time": "2022-10-13T10:14:09.725Z"
   },
   {
    "duration": 14,
    "start_time": "2022-10-13T10:14:12.429Z"
   },
   {
    "duration": 34,
    "start_time": "2022-10-13T10:14:12.446Z"
   },
   {
    "duration": 290,
    "start_time": "2022-10-13T10:14:12.482Z"
   },
   {
    "duration": 239,
    "start_time": "2022-10-13T10:14:12.775Z"
   },
   {
    "duration": 3,
    "start_time": "2022-10-13T10:14:13.016Z"
   },
   {
    "duration": 6,
    "start_time": "2022-10-13T10:14:13.021Z"
   },
   {
    "duration": 5,
    "start_time": "2022-10-13T10:14:13.028Z"
   },
   {
    "duration": 30,
    "start_time": "2022-10-13T10:14:13.035Z"
   },
   {
    "duration": 135066,
    "start_time": "2022-10-13T10:14:13.067Z"
   },
   {
    "duration": 5,
    "start_time": "2022-10-13T10:16:28.135Z"
   },
   {
    "duration": 58,
    "start_time": "2022-10-13T10:16:28.142Z"
   },
   {
    "duration": 9,
    "start_time": "2022-10-13T10:16:28.202Z"
   },
   {
    "duration": 12,
    "start_time": "2022-10-13T10:16:28.213Z"
   },
   {
    "duration": 1963,
    "start_time": "2022-10-13T10:16:47.697Z"
   },
   {
    "duration": 140,
    "start_time": "2022-10-13T10:16:55.149Z"
   },
   {
    "duration": 5,
    "start_time": "2022-10-13T10:16:55.314Z"
   },
   {
    "duration": 11,
    "start_time": "2022-10-13T10:16:55.486Z"
   },
   {
    "duration": 3,
    "start_time": "2022-10-13T10:16:55.672Z"
   },
   {
    "duration": 12,
    "start_time": "2022-10-13T10:16:56.915Z"
   },
   {
    "duration": 13,
    "start_time": "2022-10-13T10:16:57.083Z"
   },
   {
    "duration": 4,
    "start_time": "2022-10-13T10:19:06.552Z"
   },
   {
    "duration": 2375,
    "start_time": "2022-10-13T10:19:07.563Z"
   },
   {
    "duration": 12,
    "start_time": "2022-10-13T10:19:09.940Z"
   },
   {
    "duration": 26,
    "start_time": "2022-10-13T10:19:11.199Z"
   },
   {
    "duration": 256,
    "start_time": "2022-10-13T10:19:11.443Z"
   },
   {
    "duration": 208,
    "start_time": "2022-10-13T10:19:11.701Z"
   },
   {
    "duration": 3,
    "start_time": "2022-10-13T10:19:11.910Z"
   },
   {
    "duration": 3,
    "start_time": "2022-10-13T10:19:12.045Z"
   },
   {
    "duration": 4,
    "start_time": "2022-10-13T10:19:13.401Z"
   },
   {
    "duration": 28,
    "start_time": "2022-10-13T10:19:14.222Z"
   },
   {
    "duration": 135447,
    "start_time": "2022-10-13T10:19:14.851Z"
   },
   {
    "duration": 4,
    "start_time": "2022-10-13T10:21:30.300Z"
   },
   {
    "duration": 51,
    "start_time": "2022-10-13T10:22:05.084Z"
   },
   {
    "duration": 8,
    "start_time": "2022-10-13T10:22:05.335Z"
   },
   {
    "duration": 12,
    "start_time": "2022-10-13T10:22:06.011Z"
   },
   {
    "duration": 51,
    "start_time": "2022-10-13T10:49:13.050Z"
   },
   {
    "duration": 1838,
    "start_time": "2022-10-13T10:49:24.480Z"
   },
   {
    "duration": 2343,
    "start_time": "2022-10-13T10:49:26.320Z"
   },
   {
    "duration": 10,
    "start_time": "2022-10-13T10:49:28.669Z"
   },
   {
    "duration": 31,
    "start_time": "2022-10-13T10:49:32.563Z"
   },
   {
    "duration": 245,
    "start_time": "2022-10-13T10:49:42.212Z"
   },
   {
    "duration": 182,
    "start_time": "2022-10-13T10:49:42.869Z"
   },
   {
    "duration": 3,
    "start_time": "2022-10-13T10:49:44.190Z"
   },
   {
    "duration": 4,
    "start_time": "2022-10-13T10:49:45.940Z"
   },
   {
    "duration": 3,
    "start_time": "2022-10-13T10:49:51.270Z"
   },
   {
    "duration": 25,
    "start_time": "2022-10-13T10:49:52.234Z"
   },
   {
    "duration": 136667,
    "start_time": "2022-10-13T10:49:53.266Z"
   },
   {
    "duration": 4,
    "start_time": "2022-10-13T10:52:09.935Z"
   },
   {
    "duration": 3,
    "start_time": "2022-10-13T10:55:09.686Z"
   },
   {
    "duration": 25,
    "start_time": "2022-10-13T10:55:10.391Z"
   },
   {
    "duration": 85949,
    "start_time": "2022-10-13T10:55:11.070Z"
   },
   {
    "duration": 5,
    "start_time": "2022-10-13T10:56:37.022Z"
   },
   {
    "duration": 3,
    "start_time": "2022-10-13T10:57:40.385Z"
   },
   {
    "duration": 34,
    "start_time": "2022-10-13T10:57:41.933Z"
   },
   {
    "duration": 694,
    "start_time": "2022-10-13T10:57:42.893Z"
   },
   {
    "duration": 4,
    "start_time": "2022-10-13T10:57:44.323Z"
   },
   {
    "duration": 3,
    "start_time": "2022-10-13T11:02:06.880Z"
   },
   {
    "duration": 34,
    "start_time": "2022-10-13T11:02:07.461Z"
   },
   {
    "duration": 628,
    "start_time": "2022-10-13T11:02:08.161Z"
   },
   {
    "duration": 1544,
    "start_time": "2022-10-13T11:02:25.321Z"
   },
   {
    "duration": 920,
    "start_time": "2022-10-13T11:02:26.866Z"
   },
   {
    "duration": 11,
    "start_time": "2022-10-13T11:02:27.788Z"
   },
   {
    "duration": 27,
    "start_time": "2022-10-13T11:02:27.987Z"
   },
   {
    "duration": 255,
    "start_time": "2022-10-13T11:02:28.479Z"
   },
   {
    "duration": 200,
    "start_time": "2022-10-13T11:02:28.948Z"
   },
   {
    "duration": 4,
    "start_time": "2022-10-13T11:02:29.933Z"
   },
   {
    "duration": 3,
    "start_time": "2022-10-13T11:02:30.432Z"
   },
   {
    "duration": 3,
    "start_time": "2022-10-13T11:02:31.379Z"
   },
   {
    "duration": 37,
    "start_time": "2022-10-13T11:02:32.548Z"
   },
   {
    "duration": 136351,
    "start_time": "2022-10-13T11:02:33.074Z"
   },
   {
    "duration": 4,
    "start_time": "2022-10-13T11:04:49.427Z"
   },
   {
    "duration": 46,
    "start_time": "2022-10-13T11:04:56.169Z"
   },
   {
    "duration": 8,
    "start_time": "2022-10-13T11:04:56.322Z"
   },
   {
    "duration": 12,
    "start_time": "2022-10-13T11:04:56.711Z"
   },
   {
    "duration": 1841,
    "start_time": "2022-10-13T11:04:56.918Z"
   },
   {
    "duration": 4,
    "start_time": "2022-10-13T11:04:58.760Z"
   },
   {
    "duration": 8567,
    "start_time": "2022-10-13T11:04:58.765Z"
   },
   {
    "duration": 4,
    "start_time": "2022-10-13T11:05:07.335Z"
   },
   {
    "duration": 561371,
    "start_time": "2022-10-13T11:05:07.341Z"
   },
   {
    "duration": 58,
    "start_time": "2022-10-13T11:35:29.112Z"
   },
   {
    "duration": 1943,
    "start_time": "2022-10-13T11:35:35.471Z"
   },
   {
    "duration": 2392,
    "start_time": "2022-10-13T11:35:37.416Z"
   },
   {
    "duration": 12,
    "start_time": "2022-10-13T11:35:39.810Z"
   },
   {
    "duration": 28,
    "start_time": "2022-10-13T11:35:39.824Z"
   },
   {
    "duration": 265,
    "start_time": "2022-10-13T11:35:39.854Z"
   },
   {
    "duration": 196,
    "start_time": "2022-10-13T11:35:40.121Z"
   },
   {
    "duration": 4,
    "start_time": "2022-10-13T11:35:40.319Z"
   },
   {
    "duration": 5,
    "start_time": "2022-10-13T11:35:40.325Z"
   },
   {
    "duration": 9,
    "start_time": "2022-10-13T11:35:40.332Z"
   },
   {
    "duration": 27,
    "start_time": "2022-10-13T11:35:40.344Z"
   },
   {
    "duration": 137045,
    "start_time": "2022-10-13T11:35:40.372Z"
   },
   {
    "duration": 4,
    "start_time": "2022-10-13T11:37:57.419Z"
   },
   {
    "duration": 48,
    "start_time": "2022-10-13T11:38:00.092Z"
   },
   {
    "duration": 11,
    "start_time": "2022-10-13T11:38:00.863Z"
   },
   {
    "duration": 12,
    "start_time": "2022-10-13T11:38:01.687Z"
   },
   {
    "duration": 1770,
    "start_time": "2022-10-13T11:38:02.752Z"
   },
   {
    "duration": 4,
    "start_time": "2022-10-13T11:38:04.524Z"
   },
   {
    "duration": 8053,
    "start_time": "2022-10-13T11:38:05.415Z"
   },
   {
    "duration": 3,
    "start_time": "2022-10-13T11:38:17.279Z"
   },
   {
    "duration": 609448,
    "start_time": "2022-10-13T11:38:19.374Z"
   },
   {
    "duration": 51,
    "start_time": "2022-10-13T12:27:50.086Z"
   },
   {
    "duration": 104,
    "start_time": "2022-10-13T13:38:19.610Z"
   },
   {
    "duration": 1903,
    "start_time": "2022-10-13T13:38:59.111Z"
   },
   {
    "duration": 2468,
    "start_time": "2022-10-13T13:39:02.994Z"
   },
   {
    "duration": 12,
    "start_time": "2022-10-13T13:39:05.464Z"
   },
   {
    "duration": 29,
    "start_time": "2022-10-13T13:39:06.790Z"
   },
   {
    "duration": 241,
    "start_time": "2022-10-13T13:39:07.515Z"
   },
   {
    "duration": 203,
    "start_time": "2022-10-13T13:39:08.734Z"
   },
   {
    "duration": 4,
    "start_time": "2022-10-13T13:39:10.680Z"
   },
   {
    "duration": 4,
    "start_time": "2022-10-13T13:39:12.012Z"
   },
   {
    "duration": 138641,
    "start_time": "2022-10-13T13:39:12.917Z"
   },
   {
    "duration": 1564,
    "start_time": "2022-10-13T13:51:33.293Z"
   },
   {
    "duration": 896,
    "start_time": "2022-10-13T13:51:34.859Z"
   },
   {
    "duration": 11,
    "start_time": "2022-10-13T13:51:35.757Z"
   },
   {
    "duration": 26,
    "start_time": "2022-10-13T13:51:35.770Z"
   },
   {
    "duration": 253,
    "start_time": "2022-10-13T13:51:35.810Z"
   },
   {
    "duration": 192,
    "start_time": "2022-10-13T13:51:36.065Z"
   },
   {
    "duration": 4,
    "start_time": "2022-10-13T13:51:36.258Z"
   },
   {
    "duration": 7,
    "start_time": "2022-10-13T13:51:36.264Z"
   },
   {
    "duration": 138866,
    "start_time": "2022-10-13T13:51:36.273Z"
   },
   {
    "duration": 7,
    "start_time": "2022-10-13T13:53:55.141Z"
   },
   {
    "duration": 59,
    "start_time": "2022-10-13T13:53:55.150Z"
   },
   {
    "duration": 9,
    "start_time": "2022-10-13T13:53:55.210Z"
   },
   {
    "duration": 13,
    "start_time": "2022-10-13T13:53:55.221Z"
   },
   {
    "duration": 1765,
    "start_time": "2022-10-13T13:53:55.235Z"
   },
   {
    "duration": 8,
    "start_time": "2022-10-13T13:53:57.002Z"
   },
   {
    "duration": 8710,
    "start_time": "2022-10-13T13:53:57.012Z"
   },
   {
    "duration": 4,
    "start_time": "2022-10-13T13:54:05.724Z"
   },
   {
    "duration": 311398,
    "start_time": "2022-10-13T13:54:05.730Z"
   },
   {
    "duration": 51,
    "start_time": "2022-10-13T14:58:51.720Z"
   },
   {
    "duration": 1795,
    "start_time": "2022-10-13T14:58:59.053Z"
   },
   {
    "duration": 2489,
    "start_time": "2022-10-13T14:59:00.851Z"
   },
   {
    "duration": 11,
    "start_time": "2022-10-13T14:59:03.341Z"
   },
   {
    "duration": 66,
    "start_time": "2022-10-13T14:59:03.355Z"
   },
   {
    "duration": 255,
    "start_time": "2022-10-13T14:59:03.423Z"
   },
   {
    "duration": 208,
    "start_time": "2022-10-13T14:59:03.680Z"
   },
   {
    "duration": 4,
    "start_time": "2022-10-13T14:59:03.889Z"
   },
   {
    "duration": 10,
    "start_time": "2022-10-13T14:59:03.894Z"
   },
   {
    "duration": 135724,
    "start_time": "2022-10-13T14:59:03.909Z"
   },
   {
    "duration": 7,
    "start_time": "2022-10-13T15:01:19.635Z"
   },
   {
    "duration": 49,
    "start_time": "2022-10-13T15:01:19.644Z"
   },
   {
    "duration": 19,
    "start_time": "2022-10-13T15:01:19.695Z"
   },
   {
    "duration": 16,
    "start_time": "2022-10-13T15:01:19.716Z"
   },
   {
    "duration": 1736,
    "start_time": "2022-10-13T15:01:19.733Z"
   },
   {
    "duration": 5,
    "start_time": "2022-10-13T15:01:21.470Z"
   },
   {
    "duration": 8139,
    "start_time": "2022-10-13T15:01:21.477Z"
   },
   {
    "duration": 3,
    "start_time": "2022-10-13T15:01:29.618Z"
   },
   {
    "duration": 268688,
    "start_time": "2022-10-13T15:01:29.623Z"
   },
   {
    "duration": 55,
    "start_time": "2022-10-13T15:25:56.850Z"
   },
   {
    "duration": 1696,
    "start_time": "2022-10-13T15:26:13.083Z"
   },
   {
    "duration": 2365,
    "start_time": "2022-10-13T15:26:14.780Z"
   },
   {
    "duration": 11,
    "start_time": "2022-10-13T15:26:17.147Z"
   },
   {
    "duration": 33,
    "start_time": "2022-10-13T15:26:17.160Z"
   },
   {
    "duration": 266,
    "start_time": "2022-10-13T15:26:17.195Z"
   },
   {
    "duration": 194,
    "start_time": "2022-10-13T15:26:17.463Z"
   },
   {
    "duration": 3,
    "start_time": "2022-10-13T15:26:17.658Z"
   },
   {
    "duration": 12,
    "start_time": "2022-10-13T15:26:17.663Z"
   },
   {
    "duration": 136339,
    "start_time": "2022-10-13T15:26:17.677Z"
   },
   {
    "duration": 7,
    "start_time": "2022-10-13T15:28:34.018Z"
   },
   {
    "duration": 52,
    "start_time": "2022-10-13T15:28:34.026Z"
   },
   {
    "duration": 12,
    "start_time": "2022-10-13T15:28:34.080Z"
   },
   {
    "duration": 24,
    "start_time": "2022-10-13T15:28:34.095Z"
   },
   {
    "duration": 1757,
    "start_time": "2022-10-13T15:28:34.121Z"
   },
   {
    "duration": 9,
    "start_time": "2022-10-13T15:28:35.880Z"
   },
   {
    "duration": 8442,
    "start_time": "2022-10-13T15:28:35.891Z"
   },
   {
    "duration": 4,
    "start_time": "2022-10-13T15:28:44.335Z"
   },
   {
    "duration": 271878,
    "start_time": "2022-10-13T15:28:44.340Z"
   },
   {
    "duration": 138,
    "start_time": "2022-10-13T15:33:48.568Z"
   },
   {
    "duration": 5,
    "start_time": "2022-10-13T15:34:27.062Z"
   },
   {
    "duration": 15,
    "start_time": "2022-10-13T15:34:32.994Z"
   },
   {
    "duration": 12,
    "start_time": "2022-10-13T15:34:44.045Z"
   },
   {
    "duration": 120810,
    "start_time": "2022-10-13T15:36:59.906Z"
   },
   {
    "duration": 14778,
    "start_time": "2022-10-13T15:47:12.175Z"
   },
   {
    "duration": 1731,
    "start_time": "2022-10-13T15:49:46.898Z"
   },
   {
    "duration": 2420,
    "start_time": "2022-10-13T15:49:48.631Z"
   },
   {
    "duration": 11,
    "start_time": "2022-10-13T15:49:51.052Z"
   },
   {
    "duration": 28,
    "start_time": "2022-10-13T15:49:51.064Z"
   },
   {
    "duration": 267,
    "start_time": "2022-10-13T15:49:51.094Z"
   },
   {
    "duration": 194,
    "start_time": "2022-10-13T15:49:51.363Z"
   },
   {
    "duration": 3,
    "start_time": "2022-10-13T15:49:51.559Z"
   },
   {
    "duration": 35,
    "start_time": "2022-10-13T15:49:51.563Z"
   },
   {
    "duration": 135632,
    "start_time": "2022-10-13T15:49:51.600Z"
   },
   {
    "duration": 8,
    "start_time": "2022-10-13T15:52:07.233Z"
   },
   {
    "duration": 25,
    "start_time": "2022-10-13T15:52:07.242Z"
   },
   {
    "duration": 9,
    "start_time": "2022-10-13T15:52:07.268Z"
   },
   {
    "duration": 0,
    "start_time": "2022-10-13T15:52:07.279Z"
   },
   {
    "duration": 0,
    "start_time": "2022-10-13T15:52:07.280Z"
   },
   {
    "duration": 0,
    "start_time": "2022-10-13T15:52:07.281Z"
   },
   {
    "duration": 0,
    "start_time": "2022-10-13T15:52:07.282Z"
   },
   {
    "duration": 0,
    "start_time": "2022-10-13T15:52:07.283Z"
   },
   {
    "duration": 0,
    "start_time": "2022-10-13T15:52:07.284Z"
   },
   {
    "duration": 4,
    "start_time": "2022-10-13T15:52:56.371Z"
   },
   {
    "duration": 806,
    "start_time": "2022-10-13T15:52:56.379Z"
   },
   {
    "duration": 7,
    "start_time": "2022-10-13T15:52:57.187Z"
   },
   {
    "duration": 31,
    "start_time": "2022-10-13T15:52:57.195Z"
   },
   {
    "duration": 248,
    "start_time": "2022-10-13T15:52:57.228Z"
   },
   {
    "duration": 121,
    "start_time": "2022-10-13T15:52:57.477Z"
   },
   {
    "duration": 4,
    "start_time": "2022-10-13T15:52:57.600Z"
   },
   {
    "duration": 6,
    "start_time": "2022-10-13T15:52:57.605Z"
   },
   {
    "duration": 5,
    "start_time": "2022-10-14T12:36:12.225Z"
   },
   {
    "duration": 1030,
    "start_time": "2022-10-14T12:36:13.153Z"
   },
   {
    "duration": 13,
    "start_time": "2022-10-14T12:36:14.185Z"
   },
   {
    "duration": 33,
    "start_time": "2022-10-14T12:36:14.989Z"
   },
   {
    "duration": 272,
    "start_time": "2022-10-14T12:36:15.205Z"
   },
   {
    "duration": 155,
    "start_time": "2022-10-14T12:36:15.478Z"
   },
   {
    "duration": 3,
    "start_time": "2022-10-14T12:36:16.411Z"
   },
   {
    "duration": 3,
    "start_time": "2022-10-14T12:36:16.621Z"
   },
   {
    "duration": 151065,
    "start_time": "2022-10-14T12:36:17.128Z"
   },
   {
    "duration": 7,
    "start_time": "2022-10-14T12:38:48.195Z"
   },
   {
    "duration": 14,
    "start_time": "2022-10-14T12:39:20.200Z"
   },
   {
    "duration": 53,
    "start_time": "2022-10-14T12:39:20.750Z"
   },
   {
    "duration": 16,
    "start_time": "2022-10-14T12:39:21.117Z"
   },
   {
    "duration": 3,
    "start_time": "2022-10-14T12:39:22.085Z"
   },
   {
    "duration": 7,
    "start_time": "2022-10-14T12:39:23.583Z"
   },
   {
    "duration": 7304,
    "start_time": "2022-10-14T12:39:24.625Z"
   },
   {
    "duration": 5,
    "start_time": "2022-10-14T12:39:31.931Z"
   },
   {
    "duration": 162820,
    "start_time": "2022-10-14T12:39:31.938Z"
   },
   {
    "duration": 1134315,
    "start_time": "2022-10-14T12:46:19.650Z"
   },
   {
    "duration": 5,
    "start_time": "2022-10-14T13:05:18.775Z"
   },
   {
    "duration": 9,
    "start_time": "2022-10-14T13:05:19.266Z"
   }
  ],
  "kernelspec": {
   "display_name": "Python 3 (ipykernel)",
   "language": "python",
   "name": "python3"
  },
  "language_info": {
   "codemirror_mode": {
    "name": "ipython",
    "version": 3
   },
   "file_extension": ".py",
   "mimetype": "text/x-python",
   "name": "python",
   "nbconvert_exporter": "python",
   "pygments_lexer": "ipython3",
   "version": "3.9.12"
  },
  "toc": {
   "base_numbering": 1,
   "nav_menu": {},
   "number_sections": true,
   "sideBar": true,
   "skip_h1_title": true,
   "title_cell": "Содержание",
   "title_sidebar": "Contents",
   "toc_cell": true,
   "toc_position": {
    "height": "calc(100% - 180px)",
    "left": "10px",
    "top": "150px",
    "width": "302.391px"
   },
   "toc_section_display": true,
   "toc_window_display": false
  }
 },
 "nbformat": 4,
 "nbformat_minor": 2
}

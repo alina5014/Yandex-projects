{
 "cells": [
  {
   "cell_type": "markdown",
   "metadata": {},
   "source": [
    "# Protection of personal data of clients"
   ]
  },
  {
   "cell_type": "markdown",
   "metadata": {},
   "source": [
    "The task is to protect the data of customers of the insurance company. Data transformation method must be dexeloped that makes it difficult to recover personal information from it. The choice is justified. \n",
    "\n",
    "The quality of the machine learning models must not be deteriorated during the transformation."
   ]
  },
  {
   "cell_type": "markdown",
   "metadata": {},
   "source": [
    "## Data overview"
   ]
  },
  {
   "cell_type": "code",
   "execution_count": 1,
   "metadata": {},
   "outputs": [],
   "source": [
    "import pandas as pd\n",
    "import numpy as np\n",
    "from sklearn.linear_model import LinearRegression\n",
    "from sklearn.metrics import r2_score"
   ]
  },
  {
   "cell_type": "code",
   "execution_count": 2,
   "metadata": {},
   "outputs": [],
   "source": [
    "try:\n",
    "    df = pd.read_csv('insurance.csv')\n",
    "except:\n",
    "    df = pd.read_csv('/datasets/insurance.csv')"
   ]
  },
  {
   "cell_type": "code",
   "execution_count": 3,
   "metadata": {},
   "outputs": [
    {
     "name": "stdout",
     "output_type": "stream",
     "text": [
      "<class 'pandas.core.frame.DataFrame'>\n",
      "RangeIndex: 5000 entries, 0 to 4999\n",
      "Data columns (total 5 columns):\n",
      " #   Column             Non-Null Count  Dtype  \n",
      "---  ------             --------------  -----  \n",
      " 0   Пол                5000 non-null   int64  \n",
      " 1   Возраст            5000 non-null   float64\n",
      " 2   Зарплата           5000 non-null   float64\n",
      " 3   Члены семьи        5000 non-null   int64  \n",
      " 4   Страховые выплаты  5000 non-null   int64  \n",
      "dtypes: float64(2), int64(3)\n",
      "memory usage: 195.4 KB\n",
      "====================================================================================================\n"
     ]
    },
    {
     "data": {
      "text/html": [
       "<div>\n",
       "<style scoped>\n",
       "    .dataframe tbody tr th:only-of-type {\n",
       "        vertical-align: middle;\n",
       "    }\n",
       "\n",
       "    .dataframe tbody tr th {\n",
       "        vertical-align: top;\n",
       "    }\n",
       "\n",
       "    .dataframe thead th {\n",
       "        text-align: right;\n",
       "    }\n",
       "</style>\n",
       "<table border=\"1\" class=\"dataframe\">\n",
       "  <thead>\n",
       "    <tr style=\"text-align: right;\">\n",
       "      <th></th>\n",
       "      <th>Пол</th>\n",
       "      <th>Возраст</th>\n",
       "      <th>Зарплата</th>\n",
       "      <th>Члены семьи</th>\n",
       "      <th>Страховые выплаты</th>\n",
       "    </tr>\n",
       "  </thead>\n",
       "  <tbody>\n",
       "    <tr>\n",
       "      <th>count</th>\n",
       "      <td>5000.000000</td>\n",
       "      <td>5000.000000</td>\n",
       "      <td>5000.000000</td>\n",
       "      <td>5000.000000</td>\n",
       "      <td>5000.000000</td>\n",
       "    </tr>\n",
       "    <tr>\n",
       "      <th>mean</th>\n",
       "      <td>0.499000</td>\n",
       "      <td>30.952800</td>\n",
       "      <td>39916.360000</td>\n",
       "      <td>1.194200</td>\n",
       "      <td>0.148000</td>\n",
       "    </tr>\n",
       "    <tr>\n",
       "      <th>std</th>\n",
       "      <td>0.500049</td>\n",
       "      <td>8.440807</td>\n",
       "      <td>9900.083569</td>\n",
       "      <td>1.091387</td>\n",
       "      <td>0.463183</td>\n",
       "    </tr>\n",
       "    <tr>\n",
       "      <th>min</th>\n",
       "      <td>0.000000</td>\n",
       "      <td>18.000000</td>\n",
       "      <td>5300.000000</td>\n",
       "      <td>0.000000</td>\n",
       "      <td>0.000000</td>\n",
       "    </tr>\n",
       "    <tr>\n",
       "      <th>25%</th>\n",
       "      <td>0.000000</td>\n",
       "      <td>24.000000</td>\n",
       "      <td>33300.000000</td>\n",
       "      <td>0.000000</td>\n",
       "      <td>0.000000</td>\n",
       "    </tr>\n",
       "    <tr>\n",
       "      <th>50%</th>\n",
       "      <td>0.000000</td>\n",
       "      <td>30.000000</td>\n",
       "      <td>40200.000000</td>\n",
       "      <td>1.000000</td>\n",
       "      <td>0.000000</td>\n",
       "    </tr>\n",
       "    <tr>\n",
       "      <th>75%</th>\n",
       "      <td>1.000000</td>\n",
       "      <td>37.000000</td>\n",
       "      <td>46600.000000</td>\n",
       "      <td>2.000000</td>\n",
       "      <td>0.000000</td>\n",
       "    </tr>\n",
       "    <tr>\n",
       "      <th>max</th>\n",
       "      <td>1.000000</td>\n",
       "      <td>65.000000</td>\n",
       "      <td>79000.000000</td>\n",
       "      <td>6.000000</td>\n",
       "      <td>5.000000</td>\n",
       "    </tr>\n",
       "  </tbody>\n",
       "</table>\n",
       "</div>"
      ],
      "text/plain": [
       "               Пол      Возраст      Зарплата  Члены семьи  Страховые выплаты\n",
       "count  5000.000000  5000.000000   5000.000000  5000.000000        5000.000000\n",
       "mean      0.499000    30.952800  39916.360000     1.194200           0.148000\n",
       "std       0.500049     8.440807   9900.083569     1.091387           0.463183\n",
       "min       0.000000    18.000000   5300.000000     0.000000           0.000000\n",
       "25%       0.000000    24.000000  33300.000000     0.000000           0.000000\n",
       "50%       0.000000    30.000000  40200.000000     1.000000           0.000000\n",
       "75%       1.000000    37.000000  46600.000000     2.000000           0.000000\n",
       "max       1.000000    65.000000  79000.000000     6.000000           5.000000"
      ]
     },
     "metadata": {},
     "output_type": "display_data"
    },
    {
     "name": "stdout",
     "output_type": "stream",
     "text": [
      "====================================================================================================\n"
     ]
    },
    {
     "data": {
      "text/html": [
       "<div>\n",
       "<style scoped>\n",
       "    .dataframe tbody tr th:only-of-type {\n",
       "        vertical-align: middle;\n",
       "    }\n",
       "\n",
       "    .dataframe tbody tr th {\n",
       "        vertical-align: top;\n",
       "    }\n",
       "\n",
       "    .dataframe thead th {\n",
       "        text-align: right;\n",
       "    }\n",
       "</style>\n",
       "<table border=\"1\" class=\"dataframe\">\n",
       "  <thead>\n",
       "    <tr style=\"text-align: right;\">\n",
       "      <th></th>\n",
       "      <th>Пол</th>\n",
       "      <th>Возраст</th>\n",
       "      <th>Зарплата</th>\n",
       "      <th>Члены семьи</th>\n",
       "      <th>Страховые выплаты</th>\n",
       "    </tr>\n",
       "  </thead>\n",
       "  <tbody>\n",
       "    <tr>\n",
       "      <th>0</th>\n",
       "      <td>1</td>\n",
       "      <td>41.0</td>\n",
       "      <td>49600.0</td>\n",
       "      <td>1</td>\n",
       "      <td>0</td>\n",
       "    </tr>\n",
       "    <tr>\n",
       "      <th>1</th>\n",
       "      <td>0</td>\n",
       "      <td>46.0</td>\n",
       "      <td>38000.0</td>\n",
       "      <td>1</td>\n",
       "      <td>1</td>\n",
       "    </tr>\n",
       "    <tr>\n",
       "      <th>2</th>\n",
       "      <td>0</td>\n",
       "      <td>29.0</td>\n",
       "      <td>21000.0</td>\n",
       "      <td>0</td>\n",
       "      <td>0</td>\n",
       "    </tr>\n",
       "    <tr>\n",
       "      <th>3</th>\n",
       "      <td>0</td>\n",
       "      <td>21.0</td>\n",
       "      <td>41700.0</td>\n",
       "      <td>2</td>\n",
       "      <td>0</td>\n",
       "    </tr>\n",
       "    <tr>\n",
       "      <th>4</th>\n",
       "      <td>1</td>\n",
       "      <td>28.0</td>\n",
       "      <td>26100.0</td>\n",
       "      <td>0</td>\n",
       "      <td>0</td>\n",
       "    </tr>\n",
       "  </tbody>\n",
       "</table>\n",
       "</div>"
      ],
      "text/plain": [
       "   Пол  Возраст  Зарплата  Члены семьи  Страховые выплаты\n",
       "0    1     41.0   49600.0            1                  0\n",
       "1    0     46.0   38000.0            1                  1\n",
       "2    0     29.0   21000.0            0                  0\n",
       "3    0     21.0   41700.0            2                  0\n",
       "4    1     28.0   26100.0            0                  0"
      ]
     },
     "metadata": {},
     "output_type": "display_data"
    },
    {
     "name": "stdout",
     "output_type": "stream",
     "text": [
      "====================================================================================================\n"
     ]
    },
    {
     "data": {
      "text/plain": [
       "'Shape: (5000, 5)'"
      ]
     },
     "metadata": {},
     "output_type": "display_data"
    }
   ],
   "source": [
    "def info(df):\n",
    "    df.info()\n",
    "    print(100*'=')\n",
    "    display(df.describe())\n",
    "    print(100*'=')\n",
    "    display(df.head())\n",
    "    print(100*'=')\n",
    "    display(f'Shape: {df.shape}')\n",
    "    \n",
    "info(df) "
   ]
  },
  {
   "cell_type": "markdown",
   "metadata": {},
   "source": [
    "There are data types `int64` and `float64`.\n",
    "\n",
    "We have at our disposal the data of 5,000 clients - their gender, their age, salary, number of family members and insurance payments."
   ]
  },
  {
   "cell_type": "markdown",
   "metadata": {},
   "source": [
    "## Matrix multiplication"
   ]
  },
  {
   "cell_type": "markdown",
   "metadata": {},
   "source": [
    "\n",
    "\n",
    "Designations:\n",
    "\n",
    "- $X$ - feature matrix (zero column consists of ones)\n",
    "\n",
    "- $y$ — target feature vector\n",
    "\n",
    "- $P$ —  matrix by which features are multiplied\n",
    "\n",
    "- $w$ — vector of linear regression weights (zero element equals shift)"
   ]
  },
  {
   "cell_type": "markdown",
   "metadata": {},
   "source": [
    "Prediction:\n",
    "\n",
    "$$\n",
    "a = Xw\n",
    "$$\n",
    "\n",
    "Learning task:\n",
    "\n",
    "$$\n",
    "w = \\arg\\min_w MSE(Xw, y)\n",
    "$$\n",
    "\n",
    "Learning formula:\n",
    "\n",
    "$$\n",
    "w = (X^T X)^{-1} X^T y\n",
    "$$"
   ]
  },
  {
   "cell_type": "markdown",
   "metadata": {},
   "source": [
    "$$\n",
    "a = Xw = XEw = XPP^{-1}w = (XP)P^{-1}w = (XP)w'\n",
    "$$\n",
    "\n",
    "$$\n",
    "w' = ((XP)^T XP)^{-1} (XP)^T y\n",
    "$$\n",
    "$$\n",
    "w' = (P^T (X^T X) P)^{-1} (XP)^T y\n",
    "$$\n",
    "$$\n",
    "w' = P^{-1}  (X^T X)^{-1} (P^{-1})^T P^T X^T y\n",
    "$$\n",
    "$$\n",
    "w' = P^{-1}  (X^T X)^{-1} (P^T)^{-1} P^T X^T y\n",
    "$$\n",
    "$$\n",
    "w' = P^{-1} (X^T X)^{-1} E X^T y\n",
    "$$\n",
    "$$\n",
    "w' = P^{-1}w\n",
    "$$"
   ]
  },
  {
   "cell_type": "markdown",
   "metadata": {},
   "source": [
    "## Transformation algorithm"
   ]
  },
  {
   "cell_type": "markdown",
   "metadata": {},
   "source": [
    "**Algorithm**\n",
    "\n",
    "It is necessary: \n",
    "\n",
    "- Create an invertible matrix, size 4*4.\n",
    "- Multiply features by an invertible matrix.\n",
    "- Train models with initial data and reversible matrix data.\n",
    "- Compare the results of the R2 metric.\n"
   ]
  },
  {
   "cell_type": "markdown",
   "metadata": {},
   "source": [
    "**Justification**\n",
    "\n",
    "It is already proved that if we multiply a matrix by an invertible one, we get the same matrix. Therefore, the results of the R2 metric must match."
   ]
  },
  {
   "cell_type": "markdown",
   "metadata": {},
   "source": [
    "## Algorithm testing"
   ]
  },
  {
   "cell_type": "code",
   "execution_count": 4,
   "metadata": {},
   "outputs": [],
   "source": [
    "features = df.drop('Страховые выплаты', axis=1)\n",
    "target = df['Страховые выплаты']"
   ]
  },
  {
   "cell_type": "markdown",
   "metadata": {},
   "source": [
    "Let's transform the data into a matrix."
   ]
  },
  {
   "cell_type": "code",
   "execution_count": 5,
   "metadata": {},
   "outputs": [],
   "source": [
    "df_matrix = np.random.normal(size = (4,4)) "
   ]
  },
  {
   "cell_type": "markdown",
   "metadata": {},
   "source": [
    "Let's create an inverse matrix."
   ]
  },
  {
   "cell_type": "code",
   "execution_count": 6,
   "metadata": {},
   "outputs": [
    {
     "data": {
      "text/plain": [
       "array([[ 0.34485232, -0.97114931,  1.4610764 , -0.57791344],\n",
       "       [-0.60319162, -0.25182567, -1.5462653 ,  0.29951298],\n",
       "       [-0.62044378,  0.30063757, -0.21405901,  0.43207225],\n",
       "       [-0.26517208,  0.61987907,  0.54817347, -0.54529364]])"
      ]
     },
     "execution_count": 6,
     "metadata": {},
     "output_type": "execute_result"
    }
   ],
   "source": [
    "df_inv = np.linalg.inv(df_matrix)\n",
    "df_inv"
   ]
  },
  {
   "cell_type": "markdown",
   "metadata": {},
   "source": [
    "Multiplying features by an invertible matrix."
   ]
  },
  {
   "cell_type": "code",
   "execution_count": 7,
   "metadata": {},
   "outputs": [
    {
     "data": {
      "text/plain": [
       "array([[ 350567.04289896, -213084.06879331,  689366.61403979,\n",
       "        -890874.02329922],\n",
       "       [ 268469.59821054, -163199.43001596,  527925.3539854 ,\n",
       "        -682235.48694315],\n",
       "       [ 148337.90257192,  -90176.22969761,  291694.8679473 ,\n",
       "        -376954.043353  ],\n",
       "       ...,\n",
       "       [ 239663.06097261, -145665.84328365,  471282.1220344 ,\n",
       "        -609046.20374746],\n",
       "       [ 231155.34466911, -140499.52854978,  454552.63026253,\n",
       "        -587424.93140322],\n",
       "       [ 286998.02739098, -174439.12708417,  564363.19173292,\n",
       "        -729333.76425658]])"
      ]
     },
     "execution_count": 7,
     "metadata": {},
     "output_type": "execute_result"
    }
   ],
   "source": [
    "x = features.values\n",
    "new_x = x@df_inv\n",
    "new_x"
   ]
  },
  {
   "cell_type": "markdown",
   "metadata": {},
   "source": [
    "Models training. "
   ]
  },
  {
   "cell_type": "code",
   "execution_count": 8,
   "metadata": {},
   "outputs": [],
   "source": [
    "class LinearRegression:\n",
    "    def fit(self, train_features, train_target):\n",
    "        X = np.concatenate((np.ones((train_features.shape[0], 1)), train_features), axis=1)\n",
    "        y = train_target\n",
    "        w =  np.linalg.inv(X.T.dot(X)).dot(X.T).dot(y)\n",
    "        self.w = w[1:]\n",
    "        self.w0 = w[0]\n",
    "\n",
    "    def predict(self, test_features):\n",
    "        return test_features.dot(self.w) + self.w0"
   ]
  },
  {
   "cell_type": "code",
   "execution_count": 9,
   "metadata": {},
   "outputs": [
    {
     "name": "stdout",
     "output_type": "stream",
     "text": [
      "R2 score: 0.42494550286668\n"
     ]
    }
   ],
   "source": [
    "model = LinearRegression()\n",
    "model.fit(features, target)\n",
    "predictions = model.predict(features)\n",
    "print(f'R2 score: {r2_score(target, predictions)}')"
   ]
  },
  {
   "cell_type": "code",
   "execution_count": 10,
   "metadata": {},
   "outputs": [
    {
     "name": "stdout",
     "output_type": "stream",
     "text": [
      " R2 score inverted: 0.4249455002483188\n"
     ]
    }
   ],
   "source": [
    "model_inv = LinearRegression()\n",
    "model_inv.fit(new_x, target)\n",
    "predictions = model_inv.predict(new_x)\n",
    "print(f' R2 score inverted: {r2_score(target, predictions)}')"
   ]
  },
  {
   "cell_type": "markdown",
   "metadata": {},
   "source": [
    "Metrics R2 match. "
   ]
  },
  {
   "cell_type": "markdown",
   "metadata": {},
   "source": [
    "If customer data needs to be protected, a good way is to multiply the data by the inverse matrix, since the quality of the linear regression does not change."
   ]
  },
  {
   "cell_type": "code",
   "execution_count": null,
   "metadata": {},
   "outputs": [],
   "source": []
  }
 ],
 "metadata": {
  "ExecuteTimeLog": [
   {
    "duration": 426,
    "start_time": "2022-08-27T05:16:34.192Z"
   },
   {
    "duration": 83,
    "start_time": "2022-08-27T05:16:34.663Z"
   },
   {
    "duration": 60,
    "start_time": "2022-08-27T05:18:16.895Z"
   },
   {
    "duration": 128,
    "start_time": "2022-08-27T05:18:36.228Z"
   },
   {
    "duration": 54,
    "start_time": "2022-08-27T05:19:11.446Z"
   },
   {
    "duration": 45,
    "start_time": "2022-08-27T05:20:45.920Z"
   },
   {
    "duration": 48,
    "start_time": "2022-08-27T05:20:56.794Z"
   },
   {
    "duration": 1115,
    "start_time": "2022-08-31T07:09:03.819Z"
   },
   {
    "duration": 126,
    "start_time": "2022-08-31T07:09:04.936Z"
   },
   {
    "duration": 58,
    "start_time": "2022-08-31T07:09:05.063Z"
   },
   {
    "duration": 5,
    "start_time": "2022-08-31T07:09:05.123Z"
   },
   {
    "duration": 252,
    "start_time": "2022-08-31T07:09:05.129Z"
   },
   {
    "duration": 3,
    "start_time": "2022-08-31T07:09:23.769Z"
   },
   {
    "duration": 12,
    "start_time": "2022-08-31T07:09:26.791Z"
   },
   {
    "duration": 4,
    "start_time": "2022-08-31T07:24:05.380Z"
   },
   {
    "duration": 87,
    "start_time": "2022-08-31T07:24:12.508Z"
   },
   {
    "duration": 5,
    "start_time": "2022-08-31T07:24:15.863Z"
   },
   {
    "duration": 7,
    "start_time": "2022-08-31T07:24:17.337Z"
   },
   {
    "duration": 4,
    "start_time": "2022-08-31T07:25:06.469Z"
   },
   {
    "duration": 7,
    "start_time": "2022-08-31T07:25:22.831Z"
   },
   {
    "duration": 3,
    "start_time": "2022-08-31T07:25:25.470Z"
   },
   {
    "duration": 7,
    "start_time": "2022-08-31T07:25:25.633Z"
   },
   {
    "duration": 48,
    "start_time": "2022-09-01T09:24:40.071Z"
   },
   {
    "duration": 7,
    "start_time": "2022-09-01T09:24:40.217Z"
   },
   {
    "duration": 7,
    "start_time": "2022-09-01T09:24:40.377Z"
   },
   {
    "duration": 4,
    "start_time": "2022-09-01T09:24:40.552Z"
   },
   {
    "duration": 1012,
    "start_time": "2022-09-01T09:24:43.838Z"
   },
   {
    "duration": 124,
    "start_time": "2022-09-01T09:24:44.852Z"
   },
   {
    "duration": 43,
    "start_time": "2022-09-01T09:24:44.978Z"
   },
   {
    "duration": 3,
    "start_time": "2022-09-01T09:24:45.022Z"
   },
   {
    "duration": 19,
    "start_time": "2022-09-01T09:24:45.027Z"
   },
   {
    "duration": 61,
    "start_time": "2022-09-01T09:24:45.047Z"
   },
   {
    "duration": 8,
    "start_time": "2022-09-01T09:24:45.312Z"
   },
   {
    "duration": 5,
    "start_time": "2022-09-01T09:25:12.052Z"
   },
   {
    "duration": 149,
    "start_time": "2022-09-01T09:27:50.381Z"
   },
   {
    "duration": 3,
    "start_time": "2022-09-01T09:27:57.852Z"
   },
   {
    "duration": 91,
    "start_time": "2022-09-01T09:27:58.298Z"
   },
   {
    "duration": 7,
    "start_time": "2022-09-01T09:43:37.297Z"
   },
   {
    "duration": 4,
    "start_time": "2022-09-01T09:43:43.475Z"
   },
   {
    "duration": 3,
    "start_time": "2022-09-01T09:44:14.386Z"
   },
   {
    "duration": 3,
    "start_time": "2022-09-01T09:44:20.474Z"
   },
   {
    "duration": 4,
    "start_time": "2022-09-01T09:44:34.474Z"
   },
   {
    "duration": 3,
    "start_time": "2022-09-01T09:45:42.723Z"
   },
   {
    "duration": 5,
    "start_time": "2022-09-01T09:45:48.784Z"
   },
   {
    "duration": 7,
    "start_time": "2022-09-01T09:46:26.339Z"
   },
   {
    "duration": 9,
    "start_time": "2022-09-01T09:46:46.972Z"
   },
   {
    "duration": 352,
    "start_time": "2022-09-01T09:47:12.452Z"
   },
   {
    "duration": 303,
    "start_time": "2022-09-01T09:47:26.256Z"
   },
   {
    "duration": 8,
    "start_time": "2022-09-01T09:47:35.588Z"
   },
   {
    "duration": 1066,
    "start_time": "2022-09-01T09:47:49.497Z"
   },
   {
    "duration": 62,
    "start_time": "2022-09-01T09:47:50.565Z"
   },
   {
    "duration": 46,
    "start_time": "2022-09-01T09:47:50.628Z"
   },
   {
    "duration": 4,
    "start_time": "2022-09-01T09:47:50.676Z"
   },
   {
    "duration": 28,
    "start_time": "2022-09-01T09:47:50.681Z"
   },
   {
    "duration": 95,
    "start_time": "2022-09-01T09:47:50.713Z"
   },
   {
    "duration": 97,
    "start_time": "2022-09-01T09:47:50.810Z"
   },
   {
    "duration": 100,
    "start_time": "2022-09-01T09:47:50.912Z"
   },
   {
    "duration": 5,
    "start_time": "2022-09-01T09:47:51.132Z"
   },
   {
    "duration": 81,
    "start_time": "2022-09-01T09:47:51.377Z"
   },
   {
    "duration": 8,
    "start_time": "2022-09-01T09:56:35.416Z"
   },
   {
    "duration": 10,
    "start_time": "2022-09-01T09:56:56.072Z"
   },
   {
    "duration": 7,
    "start_time": "2022-09-01T09:57:54.485Z"
   },
   {
    "duration": 3,
    "start_time": "2022-09-01T10:05:18.037Z"
   },
   {
    "duration": 5,
    "start_time": "2022-09-01T10:05:18.920Z"
   },
   {
    "duration": 6,
    "start_time": "2022-09-01T10:05:43.877Z"
   },
   {
    "duration": 8,
    "start_time": "2022-09-01T10:05:47.136Z"
   },
   {
    "duration": 3,
    "start_time": "2022-09-01T10:24:50.304Z"
   },
   {
    "duration": 163,
    "start_time": "2022-09-01T10:24:50.572Z"
   },
   {
    "duration": 7,
    "start_time": "2022-09-01T10:24:51.429Z"
   },
   {
    "duration": 994,
    "start_time": "2022-09-01T10:25:26.445Z"
   },
   {
    "duration": 71,
    "start_time": "2022-09-01T10:25:27.441Z"
   },
   {
    "duration": 44,
    "start_time": "2022-09-01T10:25:27.514Z"
   },
   {
    "duration": 3,
    "start_time": "2022-09-01T10:25:27.560Z"
   },
   {
    "duration": 13,
    "start_time": "2022-09-01T10:25:28.183Z"
   },
   {
    "duration": 3,
    "start_time": "2022-09-01T10:25:28.943Z"
   },
   {
    "duration": 7,
    "start_time": "2022-09-01T10:25:29.659Z"
   },
   {
    "duration": 3,
    "start_time": "2022-09-01T10:25:30.555Z"
   },
   {
    "duration": 165,
    "start_time": "2022-09-01T10:25:31.914Z"
   },
   {
    "duration": 4,
    "start_time": "2022-09-01T10:25:59.876Z"
   },
   {
    "duration": 5,
    "start_time": "2022-09-01T10:29:38.592Z"
   },
   {
    "duration": 11,
    "start_time": "2022-09-01T10:33:32.311Z"
   },
   {
    "duration": 4,
    "start_time": "2022-09-01T10:33:41.707Z"
   },
   {
    "duration": 109,
    "start_time": "2022-09-01T10:39:45.879Z"
   },
   {
    "duration": 3,
    "start_time": "2022-09-01T10:40:11.477Z"
   },
   {
    "duration": 103,
    "start_time": "2022-09-01T10:44:04.118Z"
   },
   {
    "duration": 989,
    "start_time": "2022-09-01T10:44:17.655Z"
   },
   {
    "duration": 70,
    "start_time": "2022-09-01T10:44:18.646Z"
   },
   {
    "duration": 45,
    "start_time": "2022-09-01T10:44:18.717Z"
   },
   {
    "duration": 4,
    "start_time": "2022-09-01T10:44:18.763Z"
   },
   {
    "duration": 39,
    "start_time": "2022-09-01T10:44:18.768Z"
   },
   {
    "duration": 100,
    "start_time": "2022-09-01T10:44:18.808Z"
   },
   {
    "duration": 10,
    "start_time": "2022-09-01T10:44:18.909Z"
   },
   {
    "duration": 346,
    "start_time": "2022-09-01T10:44:18.920Z"
   },
   {
    "duration": 4,
    "start_time": "2022-09-01T11:10:17.832Z"
   },
   {
    "duration": 5,
    "start_time": "2022-09-01T11:10:18.736Z"
   },
   {
    "duration": 3,
    "start_time": "2022-09-01T11:11:16.051Z"
   },
   {
    "duration": 3,
    "start_time": "2022-09-01T11:11:26.191Z"
   },
   {
    "duration": 8,
    "start_time": "2022-09-01T11:11:45.744Z"
   },
   {
    "duration": 8,
    "start_time": "2022-09-01T11:12:33.658Z"
   },
   {
    "duration": 10,
    "start_time": "2022-09-01T11:12:39.987Z"
   },
   {
    "duration": 8,
    "start_time": "2022-09-01T11:12:46.385Z"
   },
   {
    "duration": 3,
    "start_time": "2022-09-01T11:13:04.542Z"
   },
   {
    "duration": 4,
    "start_time": "2022-09-01T11:13:21.477Z"
   },
   {
    "duration": 2,
    "start_time": "2022-09-01T11:13:39.818Z"
   },
   {
    "duration": 104,
    "start_time": "2022-09-01T11:13:40.096Z"
   },
   {
    "duration": 2,
    "start_time": "2022-09-01T11:13:49.091Z"
   },
   {
    "duration": 92,
    "start_time": "2022-09-01T11:13:49.555Z"
   },
   {
    "duration": 75,
    "start_time": "2022-09-01T11:14:06.198Z"
   },
   {
    "duration": 3,
    "start_time": "2022-09-01T11:14:10.289Z"
   },
   {
    "duration": 5,
    "start_time": "2022-09-01T11:14:10.526Z"
   },
   {
    "duration": 3,
    "start_time": "2022-09-01T11:14:12.063Z"
   },
   {
    "duration": 4,
    "start_time": "2022-09-01T11:14:13.713Z"
   },
   {
    "duration": 6,
    "start_time": "2022-09-01T11:18:16.275Z"
   },
   {
    "duration": 4,
    "start_time": "2022-09-01T11:18:26.001Z"
   },
   {
    "duration": 3,
    "start_time": "2022-09-01T11:18:46.254Z"
   },
   {
    "duration": 4,
    "start_time": "2022-09-01T11:18:51.171Z"
   },
   {
    "duration": 6,
    "start_time": "2022-09-01T11:19:29.327Z"
   },
   {
    "duration": 6,
    "start_time": "2022-09-01T11:22:03.877Z"
   },
   {
    "duration": 74,
    "start_time": "2022-09-01T11:22:43.458Z"
   },
   {
    "duration": 81,
    "start_time": "2022-09-01T11:23:06.904Z"
   },
   {
    "duration": 5,
    "start_time": "2022-09-01T11:25:01.185Z"
   },
   {
    "duration": 8,
    "start_time": "2022-09-01T11:25:07.231Z"
   },
   {
    "duration": 5,
    "start_time": "2022-09-01T11:30:45.729Z"
   },
   {
    "duration": 5,
    "start_time": "2022-09-01T11:31:29.829Z"
   },
   {
    "duration": 3,
    "start_time": "2022-09-01T11:33:14.857Z"
   },
   {
    "duration": 6,
    "start_time": "2022-09-01T11:33:15.368Z"
   },
   {
    "duration": 5,
    "start_time": "2022-09-01T11:33:15.904Z"
   },
   {
    "duration": 5,
    "start_time": "2022-09-01T11:34:24.699Z"
   },
   {
    "duration": 12,
    "start_time": "2022-09-01T11:34:25.274Z"
   },
   {
    "duration": 6,
    "start_time": "2022-09-01T11:34:25.668Z"
   },
   {
    "duration": 186,
    "start_time": "2022-09-01T11:35:57.182Z"
   },
   {
    "duration": 32,
    "start_time": "2022-09-01T11:41:52.342Z"
   },
   {
    "duration": 1062,
    "start_time": "2022-09-02T13:43:36.321Z"
   },
   {
    "duration": 151,
    "start_time": "2022-09-02T13:43:37.385Z"
   },
   {
    "duration": 43,
    "start_time": "2022-09-02T13:43:37.545Z"
   },
   {
    "duration": 4,
    "start_time": "2022-09-02T13:43:42.245Z"
   },
   {
    "duration": 3,
    "start_time": "2022-09-02T13:43:42.980Z"
   },
   {
    "duration": 5,
    "start_time": "2022-09-02T13:43:44.862Z"
   },
   {
    "duration": 5,
    "start_time": "2022-09-02T13:43:46.884Z"
   },
   {
    "duration": 4,
    "start_time": "2022-09-02T13:43:47.966Z"
   },
   {
    "duration": 13,
    "start_time": "2022-09-02T13:43:48.286Z"
   },
   {
    "duration": 7,
    "start_time": "2022-09-02T13:43:49.326Z"
   },
   {
    "duration": 1632,
    "start_time": "2022-09-02T16:09:49.539Z"
   },
   {
    "duration": 66,
    "start_time": "2022-09-02T16:09:51.173Z"
   },
   {
    "duration": 49,
    "start_time": "2022-09-02T16:10:11.709Z"
   },
   {
    "duration": 5,
    "start_time": "2022-09-02T16:12:44.443Z"
   },
   {
    "duration": 3,
    "start_time": "2022-09-02T16:12:45.845Z"
   },
   {
    "duration": 5,
    "start_time": "2022-09-02T16:12:46.757Z"
   },
   {
    "duration": 81,
    "start_time": "2022-09-04T11:39:35.974Z"
   },
   {
    "duration": 54,
    "start_time": "2022-09-04T13:38:56.610Z"
   },
   {
    "duration": 54,
    "start_time": "2022-09-04T16:44:05.276Z"
   },
   {
    "duration": 55,
    "start_time": "2022-09-05T09:00:57.200Z"
   }
  ],
  "kernelspec": {
   "display_name": "Python 3 (ipykernel)",
   "language": "python",
   "name": "python3"
  },
  "language_info": {
   "codemirror_mode": {
    "name": "ipython",
    "version": 3
   },
   "file_extension": ".py",
   "mimetype": "text/x-python",
   "name": "python",
   "nbconvert_exporter": "python",
   "pygments_lexer": "ipython3",
   "version": "3.9.12"
  },
  "toc": {
   "base_numbering": 1,
   "nav_menu": {},
   "number_sections": true,
   "sideBar": true,
   "skip_h1_title": true,
   "title_cell": "Содержание",
   "title_sidebar": "Contents",
   "toc_cell": true,
   "toc_position": {},
   "toc_section_display": true,
   "toc_window_display": true
  }
 },
 "nbformat": 4,
 "nbformat_minor": 2
}

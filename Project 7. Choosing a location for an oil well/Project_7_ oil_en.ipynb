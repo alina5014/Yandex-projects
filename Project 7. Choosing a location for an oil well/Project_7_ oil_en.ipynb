{
 "cells": [
  {
   "cell_type": "markdown",
   "metadata": {},
   "source": [
    "# Choosing a location for an oil well"
   ]
  },
  {
   "cell_type": "markdown",
   "metadata": {},
   "source": [
    "The data of the mining company GlavRosGosNeft is at our disposal. We need to decide where to drill a new well.\n",
    "\n",
    "We have been provided with oil samples in three regions: in each there are 10,000 deposits, where the quality of oil and the volume of its reserves have been measured. The task is to build a machine learning model to help determine the region where mining will bring the most profit. Possible profits and risks should be analyzed using the *Bootstrap.* technique\n",
    "\n",
    "Steps to choose a location:\n",
    "\n",
    "- In the selected region, they are looking for deposits, for each, the values of the signs are determined;\n",
    "- Build a model and estimate the volume of reserves;\n",
    "- Select the deposits with the highest value estimates. The number of fields depends on the company's budget and the cost of developing one well;\n",
    "- The profit is equal to the total profit of the selected fields."
   ]
  },
  {
   "cell_type": "markdown",
   "metadata": {},
   "source": [
    "## Data overview"
   ]
  },
  {
   "cell_type": "code",
   "execution_count": 42,
   "metadata": {},
   "outputs": [],
   "source": [
    "import pandas as pd\n",
    "import numpy as np\n",
    "from sklearn.model_selection import train_test_split\n",
    "from sklearn.linear_model import LinearRegression\n",
    "from sklearn.metrics import mean_squared_error"
   ]
  },
  {
   "cell_type": "code",
   "execution_count": 43,
   "metadata": {},
   "outputs": [],
   "source": [
    "try:\n",
    "    region_1 = pd.read_csv('/datasets/geo_data_0.csv')\n",
    "    region_2 = pd.read_csv('/datasets/geo_data_1.csv')\n",
    "    region_3 = pd.read_csv('/datasets/geo_data_2.csv')\n",
    "except: \n",
    "    region_1 = pd.read_csv('geo_data_0.csv')\n",
    "    region_2 = pd.read_csv('geo_data_1.csv')\n",
    "    region_3 = pd.read_csv('geo_data_2.csv')"
   ]
  },
  {
   "cell_type": "code",
   "execution_count": 44,
   "metadata": {},
   "outputs": [
    {
     "name": "stdout",
     "output_type": "stream",
     "text": [
      "<class 'pandas.core.frame.DataFrame'>\n",
      "RangeIndex: 100000 entries, 0 to 99999\n",
      "Data columns (total 5 columns):\n",
      " #   Column   Non-Null Count   Dtype  \n",
      "---  ------   --------------   -----  \n",
      " 0   id       100000 non-null  object \n",
      " 1   f0       100000 non-null  float64\n",
      " 2   f1       100000 non-null  float64\n",
      " 3   f2       100000 non-null  float64\n",
      " 4   product  100000 non-null  float64\n",
      "dtypes: float64(4), object(1)\n",
      "memory usage: 3.8+ MB\n"
     ]
    },
    {
     "data": {
      "text/plain": [
       "None"
      ]
     },
     "metadata": {},
     "output_type": "display_data"
    },
    {
     "name": "stdout",
     "output_type": "stream",
     "text": [
      "====================================================================================================\n"
     ]
    },
    {
     "data": {
      "text/html": [
       "<div>\n",
       "<style scoped>\n",
       "    .dataframe tbody tr th:only-of-type {\n",
       "        vertical-align: middle;\n",
       "    }\n",
       "\n",
       "    .dataframe tbody tr th {\n",
       "        vertical-align: top;\n",
       "    }\n",
       "\n",
       "    .dataframe thead th {\n",
       "        text-align: right;\n",
       "    }\n",
       "</style>\n",
       "<table border=\"1\" class=\"dataframe\">\n",
       "  <thead>\n",
       "    <tr style=\"text-align: right;\">\n",
       "      <th></th>\n",
       "      <th>f0</th>\n",
       "      <th>f1</th>\n",
       "      <th>f2</th>\n",
       "      <th>product</th>\n",
       "    </tr>\n",
       "  </thead>\n",
       "  <tbody>\n",
       "    <tr>\n",
       "      <th>count</th>\n",
       "      <td>100000.000000</td>\n",
       "      <td>100000.000000</td>\n",
       "      <td>100000.000000</td>\n",
       "      <td>100000.000000</td>\n",
       "    </tr>\n",
       "    <tr>\n",
       "      <th>mean</th>\n",
       "      <td>0.500419</td>\n",
       "      <td>0.250143</td>\n",
       "      <td>2.502647</td>\n",
       "      <td>92.500000</td>\n",
       "    </tr>\n",
       "    <tr>\n",
       "      <th>std</th>\n",
       "      <td>0.871832</td>\n",
       "      <td>0.504433</td>\n",
       "      <td>3.248248</td>\n",
       "      <td>44.288691</td>\n",
       "    </tr>\n",
       "    <tr>\n",
       "      <th>min</th>\n",
       "      <td>-1.408605</td>\n",
       "      <td>-0.848218</td>\n",
       "      <td>-12.088328</td>\n",
       "      <td>0.000000</td>\n",
       "    </tr>\n",
       "    <tr>\n",
       "      <th>25%</th>\n",
       "      <td>-0.072580</td>\n",
       "      <td>-0.200881</td>\n",
       "      <td>0.287748</td>\n",
       "      <td>56.497507</td>\n",
       "    </tr>\n",
       "    <tr>\n",
       "      <th>50%</th>\n",
       "      <td>0.502360</td>\n",
       "      <td>0.250252</td>\n",
       "      <td>2.515969</td>\n",
       "      <td>91.849972</td>\n",
       "    </tr>\n",
       "    <tr>\n",
       "      <th>75%</th>\n",
       "      <td>1.073581</td>\n",
       "      <td>0.700646</td>\n",
       "      <td>4.715088</td>\n",
       "      <td>128.564089</td>\n",
       "    </tr>\n",
       "    <tr>\n",
       "      <th>max</th>\n",
       "      <td>2.362331</td>\n",
       "      <td>1.343769</td>\n",
       "      <td>16.003790</td>\n",
       "      <td>185.364347</td>\n",
       "    </tr>\n",
       "  </tbody>\n",
       "</table>\n",
       "</div>"
      ],
      "text/plain": [
       "                  f0             f1             f2        product\n",
       "count  100000.000000  100000.000000  100000.000000  100000.000000\n",
       "mean        0.500419       0.250143       2.502647      92.500000\n",
       "std         0.871832       0.504433       3.248248      44.288691\n",
       "min        -1.408605      -0.848218     -12.088328       0.000000\n",
       "25%        -0.072580      -0.200881       0.287748      56.497507\n",
       "50%         0.502360       0.250252       2.515969      91.849972\n",
       "75%         1.073581       0.700646       4.715088     128.564089\n",
       "max         2.362331       1.343769      16.003790     185.364347"
      ]
     },
     "metadata": {},
     "output_type": "display_data"
    },
    {
     "name": "stdout",
     "output_type": "stream",
     "text": [
      "====================================================================================================\n",
      "Number of null values: id         0.0\n",
      "f0         0.0\n",
      "f1         0.0\n",
      "f2         0.0\n",
      "product    0.0\n",
      "dtype: float64\n",
      "====================================================================================================\n",
      "Number of duplicates: 0\n",
      "====================================================================================================\n"
     ]
    },
    {
     "data": {
      "text/html": [
       "<div>\n",
       "<style scoped>\n",
       "    .dataframe tbody tr th:only-of-type {\n",
       "        vertical-align: middle;\n",
       "    }\n",
       "\n",
       "    .dataframe tbody tr th {\n",
       "        vertical-align: top;\n",
       "    }\n",
       "\n",
       "    .dataframe thead th {\n",
       "        text-align: right;\n",
       "    }\n",
       "</style>\n",
       "<table border=\"1\" class=\"dataframe\">\n",
       "  <thead>\n",
       "    <tr style=\"text-align: right;\">\n",
       "      <th></th>\n",
       "      <th>id</th>\n",
       "      <th>f0</th>\n",
       "      <th>f1</th>\n",
       "      <th>f2</th>\n",
       "      <th>product</th>\n",
       "    </tr>\n",
       "  </thead>\n",
       "  <tbody>\n",
       "    <tr>\n",
       "      <th>0</th>\n",
       "      <td>txEyH</td>\n",
       "      <td>0.705745</td>\n",
       "      <td>-0.497823</td>\n",
       "      <td>1.221170</td>\n",
       "      <td>105.280062</td>\n",
       "    </tr>\n",
       "    <tr>\n",
       "      <th>1</th>\n",
       "      <td>2acmU</td>\n",
       "      <td>1.334711</td>\n",
       "      <td>-0.340164</td>\n",
       "      <td>4.365080</td>\n",
       "      <td>73.037750</td>\n",
       "    </tr>\n",
       "    <tr>\n",
       "      <th>2</th>\n",
       "      <td>409Wp</td>\n",
       "      <td>1.022732</td>\n",
       "      <td>0.151990</td>\n",
       "      <td>1.419926</td>\n",
       "      <td>85.265647</td>\n",
       "    </tr>\n",
       "    <tr>\n",
       "      <th>3</th>\n",
       "      <td>iJLyR</td>\n",
       "      <td>-0.032172</td>\n",
       "      <td>0.139033</td>\n",
       "      <td>2.978566</td>\n",
       "      <td>168.620776</td>\n",
       "    </tr>\n",
       "    <tr>\n",
       "      <th>4</th>\n",
       "      <td>Xdl7t</td>\n",
       "      <td>1.988431</td>\n",
       "      <td>0.155413</td>\n",
       "      <td>4.751769</td>\n",
       "      <td>154.036647</td>\n",
       "    </tr>\n",
       "  </tbody>\n",
       "</table>\n",
       "</div>"
      ],
      "text/plain": [
       "      id        f0        f1        f2     product\n",
       "0  txEyH  0.705745 -0.497823  1.221170  105.280062\n",
       "1  2acmU  1.334711 -0.340164  4.365080   73.037750\n",
       "2  409Wp  1.022732  0.151990  1.419926   85.265647\n",
       "3  iJLyR -0.032172  0.139033  2.978566  168.620776\n",
       "4  Xdl7t  1.988431  0.155413  4.751769  154.036647"
      ]
     },
     "metadata": {},
     "output_type": "display_data"
    },
    {
     "name": "stdout",
     "output_type": "stream",
     "text": [
      "====================================================================================================\n"
     ]
    },
    {
     "data": {
      "text/plain": [
       "(100000, 5)"
      ]
     },
     "metadata": {},
     "output_type": "display_data"
    },
    {
     "name": "stdout",
     "output_type": "stream",
     "text": [
      "<class 'pandas.core.frame.DataFrame'>\n",
      "RangeIndex: 100000 entries, 0 to 99999\n",
      "Data columns (total 5 columns):\n",
      " #   Column   Non-Null Count   Dtype  \n",
      "---  ------   --------------   -----  \n",
      " 0   id       100000 non-null  object \n",
      " 1   f0       100000 non-null  float64\n",
      " 2   f1       100000 non-null  float64\n",
      " 3   f2       100000 non-null  float64\n",
      " 4   product  100000 non-null  float64\n",
      "dtypes: float64(4), object(1)\n",
      "memory usage: 3.8+ MB\n"
     ]
    },
    {
     "data": {
      "text/plain": [
       "None"
      ]
     },
     "metadata": {},
     "output_type": "display_data"
    },
    {
     "name": "stdout",
     "output_type": "stream",
     "text": [
      "====================================================================================================\n"
     ]
    },
    {
     "data": {
      "text/html": [
       "<div>\n",
       "<style scoped>\n",
       "    .dataframe tbody tr th:only-of-type {\n",
       "        vertical-align: middle;\n",
       "    }\n",
       "\n",
       "    .dataframe tbody tr th {\n",
       "        vertical-align: top;\n",
       "    }\n",
       "\n",
       "    .dataframe thead th {\n",
       "        text-align: right;\n",
       "    }\n",
       "</style>\n",
       "<table border=\"1\" class=\"dataframe\">\n",
       "  <thead>\n",
       "    <tr style=\"text-align: right;\">\n",
       "      <th></th>\n",
       "      <th>f0</th>\n",
       "      <th>f1</th>\n",
       "      <th>f2</th>\n",
       "      <th>product</th>\n",
       "    </tr>\n",
       "  </thead>\n",
       "  <tbody>\n",
       "    <tr>\n",
       "      <th>count</th>\n",
       "      <td>100000.000000</td>\n",
       "      <td>100000.000000</td>\n",
       "      <td>100000.000000</td>\n",
       "      <td>100000.000000</td>\n",
       "    </tr>\n",
       "    <tr>\n",
       "      <th>mean</th>\n",
       "      <td>1.141296</td>\n",
       "      <td>-4.796579</td>\n",
       "      <td>2.494541</td>\n",
       "      <td>68.825000</td>\n",
       "    </tr>\n",
       "    <tr>\n",
       "      <th>std</th>\n",
       "      <td>8.965932</td>\n",
       "      <td>5.119872</td>\n",
       "      <td>1.703572</td>\n",
       "      <td>45.944423</td>\n",
       "    </tr>\n",
       "    <tr>\n",
       "      <th>min</th>\n",
       "      <td>-31.609576</td>\n",
       "      <td>-26.358598</td>\n",
       "      <td>-0.018144</td>\n",
       "      <td>0.000000</td>\n",
       "    </tr>\n",
       "    <tr>\n",
       "      <th>25%</th>\n",
       "      <td>-6.298551</td>\n",
       "      <td>-8.267985</td>\n",
       "      <td>1.000021</td>\n",
       "      <td>26.953261</td>\n",
       "    </tr>\n",
       "    <tr>\n",
       "      <th>50%</th>\n",
       "      <td>1.153055</td>\n",
       "      <td>-4.813172</td>\n",
       "      <td>2.011479</td>\n",
       "      <td>57.085625</td>\n",
       "    </tr>\n",
       "    <tr>\n",
       "      <th>75%</th>\n",
       "      <td>8.621015</td>\n",
       "      <td>-1.332816</td>\n",
       "      <td>3.999904</td>\n",
       "      <td>107.813044</td>\n",
       "    </tr>\n",
       "    <tr>\n",
       "      <th>max</th>\n",
       "      <td>29.421755</td>\n",
       "      <td>18.734063</td>\n",
       "      <td>5.019721</td>\n",
       "      <td>137.945408</td>\n",
       "    </tr>\n",
       "  </tbody>\n",
       "</table>\n",
       "</div>"
      ],
      "text/plain": [
       "                  f0             f1             f2        product\n",
       "count  100000.000000  100000.000000  100000.000000  100000.000000\n",
       "mean        1.141296      -4.796579       2.494541      68.825000\n",
       "std         8.965932       5.119872       1.703572      45.944423\n",
       "min       -31.609576     -26.358598      -0.018144       0.000000\n",
       "25%        -6.298551      -8.267985       1.000021      26.953261\n",
       "50%         1.153055      -4.813172       2.011479      57.085625\n",
       "75%         8.621015      -1.332816       3.999904     107.813044\n",
       "max        29.421755      18.734063       5.019721     137.945408"
      ]
     },
     "metadata": {},
     "output_type": "display_data"
    },
    {
     "name": "stdout",
     "output_type": "stream",
     "text": [
      "====================================================================================================\n",
      "Number of null values: id         0.0\n",
      "f0         0.0\n",
      "f1         0.0\n",
      "f2         0.0\n",
      "product    0.0\n",
      "dtype: float64\n",
      "====================================================================================================\n",
      "Number of duplicates: 0\n",
      "====================================================================================================\n"
     ]
    },
    {
     "data": {
      "text/html": [
       "<div>\n",
       "<style scoped>\n",
       "    .dataframe tbody tr th:only-of-type {\n",
       "        vertical-align: middle;\n",
       "    }\n",
       "\n",
       "    .dataframe tbody tr th {\n",
       "        vertical-align: top;\n",
       "    }\n",
       "\n",
       "    .dataframe thead th {\n",
       "        text-align: right;\n",
       "    }\n",
       "</style>\n",
       "<table border=\"1\" class=\"dataframe\">\n",
       "  <thead>\n",
       "    <tr style=\"text-align: right;\">\n",
       "      <th></th>\n",
       "      <th>id</th>\n",
       "      <th>f0</th>\n",
       "      <th>f1</th>\n",
       "      <th>f2</th>\n",
       "      <th>product</th>\n",
       "    </tr>\n",
       "  </thead>\n",
       "  <tbody>\n",
       "    <tr>\n",
       "      <th>0</th>\n",
       "      <td>kBEdx</td>\n",
       "      <td>-15.001348</td>\n",
       "      <td>-8.276000</td>\n",
       "      <td>-0.005876</td>\n",
       "      <td>3.179103</td>\n",
       "    </tr>\n",
       "    <tr>\n",
       "      <th>1</th>\n",
       "      <td>62mP7</td>\n",
       "      <td>14.272088</td>\n",
       "      <td>-3.475083</td>\n",
       "      <td>0.999183</td>\n",
       "      <td>26.953261</td>\n",
       "    </tr>\n",
       "    <tr>\n",
       "      <th>2</th>\n",
       "      <td>vyE1P</td>\n",
       "      <td>6.263187</td>\n",
       "      <td>-5.948386</td>\n",
       "      <td>5.001160</td>\n",
       "      <td>134.766305</td>\n",
       "    </tr>\n",
       "    <tr>\n",
       "      <th>3</th>\n",
       "      <td>KcrkZ</td>\n",
       "      <td>-13.081196</td>\n",
       "      <td>-11.506057</td>\n",
       "      <td>4.999415</td>\n",
       "      <td>137.945408</td>\n",
       "    </tr>\n",
       "    <tr>\n",
       "      <th>4</th>\n",
       "      <td>AHL4O</td>\n",
       "      <td>12.702195</td>\n",
       "      <td>-8.147433</td>\n",
       "      <td>5.004363</td>\n",
       "      <td>134.766305</td>\n",
       "    </tr>\n",
       "  </tbody>\n",
       "</table>\n",
       "</div>"
      ],
      "text/plain": [
       "      id         f0         f1        f2     product\n",
       "0  kBEdx -15.001348  -8.276000 -0.005876    3.179103\n",
       "1  62mP7  14.272088  -3.475083  0.999183   26.953261\n",
       "2  vyE1P   6.263187  -5.948386  5.001160  134.766305\n",
       "3  KcrkZ -13.081196 -11.506057  4.999415  137.945408\n",
       "4  AHL4O  12.702195  -8.147433  5.004363  134.766305"
      ]
     },
     "metadata": {},
     "output_type": "display_data"
    },
    {
     "name": "stdout",
     "output_type": "stream",
     "text": [
      "====================================================================================================\n"
     ]
    },
    {
     "data": {
      "text/plain": [
       "(100000, 5)"
      ]
     },
     "metadata": {},
     "output_type": "display_data"
    },
    {
     "name": "stdout",
     "output_type": "stream",
     "text": [
      "<class 'pandas.core.frame.DataFrame'>\n",
      "RangeIndex: 100000 entries, 0 to 99999\n",
      "Data columns (total 5 columns):\n",
      " #   Column   Non-Null Count   Dtype  \n",
      "---  ------   --------------   -----  \n",
      " 0   id       100000 non-null  object \n",
      " 1   f0       100000 non-null  float64\n",
      " 2   f1       100000 non-null  float64\n",
      " 3   f2       100000 non-null  float64\n",
      " 4   product  100000 non-null  float64\n",
      "dtypes: float64(4), object(1)\n",
      "memory usage: 3.8+ MB\n"
     ]
    },
    {
     "data": {
      "text/plain": [
       "None"
      ]
     },
     "metadata": {},
     "output_type": "display_data"
    },
    {
     "name": "stdout",
     "output_type": "stream",
     "text": [
      "====================================================================================================\n"
     ]
    },
    {
     "data": {
      "text/html": [
       "<div>\n",
       "<style scoped>\n",
       "    .dataframe tbody tr th:only-of-type {\n",
       "        vertical-align: middle;\n",
       "    }\n",
       "\n",
       "    .dataframe tbody tr th {\n",
       "        vertical-align: top;\n",
       "    }\n",
       "\n",
       "    .dataframe thead th {\n",
       "        text-align: right;\n",
       "    }\n",
       "</style>\n",
       "<table border=\"1\" class=\"dataframe\">\n",
       "  <thead>\n",
       "    <tr style=\"text-align: right;\">\n",
       "      <th></th>\n",
       "      <th>f0</th>\n",
       "      <th>f1</th>\n",
       "      <th>f2</th>\n",
       "      <th>product</th>\n",
       "    </tr>\n",
       "  </thead>\n",
       "  <tbody>\n",
       "    <tr>\n",
       "      <th>count</th>\n",
       "      <td>100000.000000</td>\n",
       "      <td>100000.000000</td>\n",
       "      <td>100000.000000</td>\n",
       "      <td>100000.000000</td>\n",
       "    </tr>\n",
       "    <tr>\n",
       "      <th>mean</th>\n",
       "      <td>0.002023</td>\n",
       "      <td>-0.002081</td>\n",
       "      <td>2.495128</td>\n",
       "      <td>95.000000</td>\n",
       "    </tr>\n",
       "    <tr>\n",
       "      <th>std</th>\n",
       "      <td>1.732045</td>\n",
       "      <td>1.730417</td>\n",
       "      <td>3.473445</td>\n",
       "      <td>44.749921</td>\n",
       "    </tr>\n",
       "    <tr>\n",
       "      <th>min</th>\n",
       "      <td>-8.760004</td>\n",
       "      <td>-7.084020</td>\n",
       "      <td>-11.970335</td>\n",
       "      <td>0.000000</td>\n",
       "    </tr>\n",
       "    <tr>\n",
       "      <th>25%</th>\n",
       "      <td>-1.162288</td>\n",
       "      <td>-1.174820</td>\n",
       "      <td>0.130359</td>\n",
       "      <td>59.450441</td>\n",
       "    </tr>\n",
       "    <tr>\n",
       "      <th>50%</th>\n",
       "      <td>0.009424</td>\n",
       "      <td>-0.009482</td>\n",
       "      <td>2.484236</td>\n",
       "      <td>94.925613</td>\n",
       "    </tr>\n",
       "    <tr>\n",
       "      <th>75%</th>\n",
       "      <td>1.158535</td>\n",
       "      <td>1.163678</td>\n",
       "      <td>4.858794</td>\n",
       "      <td>130.595027</td>\n",
       "    </tr>\n",
       "    <tr>\n",
       "      <th>max</th>\n",
       "      <td>7.238262</td>\n",
       "      <td>7.844801</td>\n",
       "      <td>16.739402</td>\n",
       "      <td>190.029838</td>\n",
       "    </tr>\n",
       "  </tbody>\n",
       "</table>\n",
       "</div>"
      ],
      "text/plain": [
       "                  f0             f1             f2        product\n",
       "count  100000.000000  100000.000000  100000.000000  100000.000000\n",
       "mean        0.002023      -0.002081       2.495128      95.000000\n",
       "std         1.732045       1.730417       3.473445      44.749921\n",
       "min        -8.760004      -7.084020     -11.970335       0.000000\n",
       "25%        -1.162288      -1.174820       0.130359      59.450441\n",
       "50%         0.009424      -0.009482       2.484236      94.925613\n",
       "75%         1.158535       1.163678       4.858794     130.595027\n",
       "max         7.238262       7.844801      16.739402     190.029838"
      ]
     },
     "metadata": {},
     "output_type": "display_data"
    },
    {
     "name": "stdout",
     "output_type": "stream",
     "text": [
      "====================================================================================================\n",
      "Number of null values: id         0.0\n",
      "f0         0.0\n",
      "f1         0.0\n",
      "f2         0.0\n",
      "product    0.0\n",
      "dtype: float64\n",
      "====================================================================================================\n",
      "Number of duplicates: 0\n",
      "====================================================================================================\n"
     ]
    },
    {
     "data": {
      "text/html": [
       "<div>\n",
       "<style scoped>\n",
       "    .dataframe tbody tr th:only-of-type {\n",
       "        vertical-align: middle;\n",
       "    }\n",
       "\n",
       "    .dataframe tbody tr th {\n",
       "        vertical-align: top;\n",
       "    }\n",
       "\n",
       "    .dataframe thead th {\n",
       "        text-align: right;\n",
       "    }\n",
       "</style>\n",
       "<table border=\"1\" class=\"dataframe\">\n",
       "  <thead>\n",
       "    <tr style=\"text-align: right;\">\n",
       "      <th></th>\n",
       "      <th>id</th>\n",
       "      <th>f0</th>\n",
       "      <th>f1</th>\n",
       "      <th>f2</th>\n",
       "      <th>product</th>\n",
       "    </tr>\n",
       "  </thead>\n",
       "  <tbody>\n",
       "    <tr>\n",
       "      <th>0</th>\n",
       "      <td>fwXo0</td>\n",
       "      <td>-1.146987</td>\n",
       "      <td>0.963328</td>\n",
       "      <td>-0.828965</td>\n",
       "      <td>27.758673</td>\n",
       "    </tr>\n",
       "    <tr>\n",
       "      <th>1</th>\n",
       "      <td>WJtFt</td>\n",
       "      <td>0.262778</td>\n",
       "      <td>0.269839</td>\n",
       "      <td>-2.530187</td>\n",
       "      <td>56.069697</td>\n",
       "    </tr>\n",
       "    <tr>\n",
       "      <th>2</th>\n",
       "      <td>ovLUW</td>\n",
       "      <td>0.194587</td>\n",
       "      <td>0.289035</td>\n",
       "      <td>-5.586433</td>\n",
       "      <td>62.871910</td>\n",
       "    </tr>\n",
       "    <tr>\n",
       "      <th>3</th>\n",
       "      <td>q6cA6</td>\n",
       "      <td>2.236060</td>\n",
       "      <td>-0.553760</td>\n",
       "      <td>0.930038</td>\n",
       "      <td>114.572842</td>\n",
       "    </tr>\n",
       "    <tr>\n",
       "      <th>4</th>\n",
       "      <td>WPMUX</td>\n",
       "      <td>-0.515993</td>\n",
       "      <td>1.716266</td>\n",
       "      <td>5.899011</td>\n",
       "      <td>149.600746</td>\n",
       "    </tr>\n",
       "  </tbody>\n",
       "</table>\n",
       "</div>"
      ],
      "text/plain": [
       "      id        f0        f1        f2     product\n",
       "0  fwXo0 -1.146987  0.963328 -0.828965   27.758673\n",
       "1  WJtFt  0.262778  0.269839 -2.530187   56.069697\n",
       "2  ovLUW  0.194587  0.289035 -5.586433   62.871910\n",
       "3  q6cA6  2.236060 -0.553760  0.930038  114.572842\n",
       "4  WPMUX -0.515993  1.716266  5.899011  149.600746"
      ]
     },
     "metadata": {},
     "output_type": "display_data"
    },
    {
     "name": "stdout",
     "output_type": "stream",
     "text": [
      "====================================================================================================\n"
     ]
    },
    {
     "data": {
      "text/plain": [
       "(100000, 5)"
      ]
     },
     "metadata": {},
     "output_type": "display_data"
    }
   ],
   "source": [
    "for table in (region_1,region_2, region_3):\n",
    "    def info(table):\n",
    "        display(table.info())\n",
    "        print(100*'=')\n",
    "        display(table.describe())\n",
    "        print(100*'=')\n",
    "        print(f'Number of null values: {table.isna().mean()}')\n",
    "        print(100*'=')\n",
    "        print(f'Number of duplicates: {table.duplicated().sum()}')\n",
    "        print(100*'=')\n",
    "        display(table.head())\n",
    "        print(100*'=')\n",
    "        display(table.shape)\n",
    "    info(table) "
   ]
  },
  {
   "cell_type": "markdown",
   "metadata": {},
   "source": [
    "The geological exploration data of the three regions are in the files. Known:\n",
    "\n",
    "`id` - unique identifier of the well;\n",
    "`f0, f1, f2 ` - three signs of points (it doesn't matter what they mean, but the signs themselves are significant);\n",
    "`product` - the volume of reserves in the well (thousand barrels).\n",
    "\n",
    "\n",
    "- We have 100000 unique id in the table for each region.\n",
    "- Columns `f0, f1, f2, product` contain information in `float` format\n",
    "\n",
    "\n",
    "Now we can move on to  machine learning."
   ]
  },
  {
   "cell_type": "markdown",
   "metadata": {},
   "source": [
    "## Model training and validation"
   ]
  },
  {
   "cell_type": "code",
   "execution_count": 45,
   "metadata": {},
   "outputs": [],
   "source": [
    "state = np.random.RandomState(12345)"
   ]
  },
  {
   "cell_type": "code",
   "execution_count": 46,
   "metadata": {},
   "outputs": [],
   "source": [
    "def region_predict(regions):\n",
    "    \n",
    "    \n",
    "    feature = regions.drop(['id', 'product'], axis=1)\n",
    "    target = regions['product']\n",
    "    \n",
    "    feature_train, feature_valid, target_train, target_valid = train_test_split(feature, target, test_size=0.25, random_state=12345)\n",
    "    \n",
    "    model = LinearRegression()\n",
    "    model.fit(feature_train, target_train)\n",
    "    predictions = model.predict(feature_valid)\n",
    "    rmse = (mean_squared_error(predictions, target_valid))**(0.5)\n",
    "    average_product = sum(predictions) / len(predictions)\n",
    "\n",
    "    \n",
    "    return predictions, rmse, target_valid, average_product"
   ]
  },
  {
   "cell_type": "markdown",
   "metadata": {},
   "source": [
    "After training the model, let's take a look at the data."
   ]
  },
  {
   "cell_type": "code",
   "execution_count": 47,
   "metadata": {},
   "outputs": [
    {
     "name": "stdout",
     "output_type": "stream",
     "text": [
      "Region 1\n",
      "RMSE of the region  = 37.58\n",
      "Average stock of predicted raw materials in the region = 92.59 ths. barrels\n"
     ]
    }
   ],
   "source": [
    "predictions_0, rmse_0, target_valid_0, average_product_0 = region_predict(region_1)\n",
    "print('Region 1')\n",
    "print(f'RMSE of the region  = {rmse_0 :.2f}')\n",
    "print(f'Average stock of predicted raw materials in the region = {average_product_0:.2f} ths. barrels')"
   ]
  },
  {
   "cell_type": "code",
   "execution_count": 48,
   "metadata": {},
   "outputs": [
    {
     "name": "stdout",
     "output_type": "stream",
     "text": [
      "Region 2\n",
      "RMSE of the region  = 0.89\n",
      "Average stock of predicted raw materials in the region = 68.73 ths. barrels\n"
     ]
    }
   ],
   "source": [
    "predictions_1, rmse_1, target_valid_1, average_product_1 = region_predict(region_2)\n",
    "print('Region 2')\n",
    "print(f'RMSE of the region  = {rmse_1 :.2f}')\n",
    "print(f'Average stock of predicted raw materials in the region = {average_product_1:.2f} ths. barrels')"
   ]
  },
  {
   "cell_type": "code",
   "execution_count": 49,
   "metadata": {},
   "outputs": [
    {
     "name": "stdout",
     "output_type": "stream",
     "text": [
      "Region 3\n",
      "RMSE of the region  = 40.03\n",
      "Average stock of predicted raw materials in the region = 94.97 ths. barrels\n"
     ]
    }
   ],
   "source": [
    "predictions_2, rmse_2, target_valid_2, average_product_2 = region_predict(region_3)\n",
    "print('Region 3')\n",
    "print(f'RMSE of the region  = {rmse_2 :.2f}')\n",
    "print(f'Average stock of predicted raw materials in the region = {average_product_2:.2f} ths. barrels')"
   ]
  },
  {
   "cell_type": "markdown",
   "metadata": {},
   "source": [
    "After training and testing the model, we can draw the following conclusions:\n",
    "\n",
    "- The highest standard deviation can be seen in the third region, the lowest - in the second.\n",
    "- The largest average stock of predicted raw materials is in the third region, the least - in the second."
   ]
  },
  {
   "cell_type": "markdown",
   "metadata": {},
   "source": [
    "## Preparation for profit calculation"
   ]
  },
  {
   "cell_type": "markdown",
   "metadata": {},
   "source": [
    "Let's save all key values for calculations. "
   ]
  },
  {
   "cell_type": "code",
   "execution_count": 50,
   "metadata": {},
   "outputs": [],
   "source": [
    "BUDGET = 10**10\n",
    "TOTAL_OIL_WELLS = 500\n",
    "OIL_WELLS = 200\n",
    "REVENUE = 450000\n",
    "ONE_BARREL_PROFIT = 450\n",
    "MAX_RISK = 0.025"
   ]
  },
  {
   "cell_type": "code",
   "execution_count": 51,
   "metadata": {},
   "outputs": [
    {
     "name": "stdout",
     "output_type": "stream",
     "text": [
      "Average profit for the best well  : 50000000.00\n"
     ]
    }
   ],
   "source": [
    "revenue_one_well = BUDGET / OIL_WELLS\n",
    "print(f'Average profit for the best well  : {revenue_one_well:.2f}')"
   ]
  },
  {
   "cell_type": "code",
   "execution_count": 52,
   "metadata": {},
   "outputs": [
    {
     "name": "stdout",
     "output_type": "stream",
     "text": [
      "The volume of raw materials for break-even development of a new well: 111.11\n"
     ]
    }
   ],
   "source": [
    "value_well = revenue_one_well / REVENUE\n",
    "print(f'The volume of raw materials for break-even development of a new well: {value_well:.2f}')"
   ]
  },
  {
   "cell_type": "code",
   "execution_count": 53,
   "metadata": {},
   "outputs": [
    {
     "name": "stdout",
     "output_type": "stream",
     "text": [
      "Average real raw material stock in region 1:  92.08\n",
      "Average real raw material stock in region 2:  68.72\n",
      "Average real raw material stock in region 3:  94.88\n"
     ]
    }
   ],
   "source": [
    "print(f'Average real raw material stock in region 1:  {target_valid_0.mean():.2f}')\n",
    "print(f'Average real raw material stock in region 2:  {target_valid_1.mean():.2f}')\n",
    "print(f'Average real raw material stock in region 3:  {target_valid_2.mean():.2f}')"
   ]
  },
  {
   "cell_type": "markdown",
   "metadata": {},
   "source": [
    "It can be concluded that the largest oil reserves per well are in regions 3 and 1, and the least in the second."
   ]
  },
  {
   "cell_type": "code",
   "execution_count": 54,
   "metadata": {},
   "outputs": [],
   "source": [
    "def revenue_region(target, probab):\n",
    "    \n",
    "    probab = pd.Series(probab, index=target.index)                               \n",
    "    sample_probs = probab.sample(n=TOTAL_OIL_WELLS, replace=True)                    \n",
    "    probs_sorted = sample_probs.sort_values(ascending=False).head(OIL_WELLS)    \n",
    "    target_sorted = target[probs_sorted.index]                                    \n",
    "    target_revenue = target_sorted.sum() * REVENUE \n",
    "    net_revenue = target_revenue - BUDGET\n",
    "    \n",
    "    return np.around(net_revenue, decimals=3)"
   ]
  },
  {
   "cell_type": "code",
   "execution_count": 55,
   "metadata": {},
   "outputs": [
    {
     "name": "stdout",
     "output_type": "stream",
     "text": [
      "Revenue from oil production in the region 1 = 503023183.10\n",
      "Revenue from oil production in the region 2 = 306512352.91\n",
      "Revenue from oil production in the region 3 = 679275073.28\n"
     ]
    }
   ],
   "source": [
    "revenue_region_0 = revenue_region(target_valid_0, predictions_0)\n",
    "revenue_region_1 = revenue_region(target_valid_1, predictions_1)\n",
    "revenue_region_2 = revenue_region(target_valid_2, predictions_2)\n",
    "print(f'Revenue from oil production in the region 1 = {revenue_region_0:.2f}')\n",
    "print(f'Revenue from oil production in the region 2 = {revenue_region_1:.2f}')\n",
    "print(f'Revenue from oil production in the region 3 = {revenue_region_2:.2f}')"
   ]
  },
  {
   "cell_type": "markdown",
   "metadata": {},
   "source": [
    "Profit from oil production is highest in the first and second regions, least of all in the third."
   ]
  },
  {
   "cell_type": "markdown",
   "metadata": {},
   "source": [
    "## Profit and Risk Calculation"
   ]
  },
  {
   "cell_type": "code",
   "execution_count": 56,
   "metadata": {},
   "outputs": [],
   "source": [
    "state = np.random.RandomState(12345)"
   ]
  },
  {
   "cell_type": "code",
   "execution_count": 57,
   "metadata": {},
   "outputs": [],
   "source": [
    "def bootstrap_region(target, predictions):\n",
    "    values = []\n",
    "    for i in range(1000):\n",
    "        target_subsample = target.reset_index(drop=True).sample(n=500, replace=True, random_state=state)\n",
    "        probabilities_subsample = predictions[target_subsample.index]\n",
    "        revenues = revenue_region(target_subsample, probabilities_subsample)\n",
    "        values.append(revenues)\n",
    "\n",
    "    values = pd.Series(values)\n",
    "    lower = values.quantile(MAX_RISK)\n",
    "    upper = values.quantile(0.95)\n",
    "    mean = values.mean()\n",
    "\n",
    "    print(f'Average revenue : {mean:.2f} ')\n",
    "    print(f'2.5% quantile : {lower:.2f} ')\n",
    "    print(f'Confidence interval from {upper:.2f}  to {lower:.2f}')\n",
    "    print(f'Loss risk: {(values < 0).mean():.2f} ')"
   ]
  },
  {
   "cell_type": "code",
   "execution_count": 58,
   "metadata": {},
   "outputs": [
    {
     "name": "stdout",
     "output_type": "stream",
     "text": [
      "Average revenue : 596450455.30 \n",
      "2.5% quantile : -203518869.07 \n",
      "Confidence interval from 1363212272.00  to -203518869.07\n",
      "Loss risk: 0.08 \n"
     ]
    }
   ],
   "source": [
    "bootstrap_region(target_valid_0, predictions_0)"
   ]
  },
  {
   "cell_type": "code",
   "execution_count": 59,
   "metadata": {},
   "outputs": [
    {
     "name": "stdout",
     "output_type": "stream",
     "text": [
      "Average revenue : 670158266.03 \n",
      "2.5% quantile : 28877177.66 \n",
      "Confidence interval from 1289005367.38  to 28877177.66\n",
      "Loss risk: 0.02 \n"
     ]
    }
   ],
   "source": [
    "bootstrap_region(target_valid_1, predictions_1)"
   ]
  },
  {
   "cell_type": "code",
   "execution_count": 60,
   "metadata": {},
   "outputs": [
    {
     "name": "stdout",
     "output_type": "stream",
     "text": [
      "Average revenue : 602304117.58 \n",
      "2.5% quantile : -219213987.44 \n",
      "Confidence interval from 1381132426.07  to -219213987.44\n",
      "Loss risk: 0.08 \n"
     ]
    }
   ],
   "source": [
    "bootstrap_region(target_valid_2, predictions_2)"
   ]
  },
  {
   "cell_type": "markdown",
   "metadata": {},
   "source": [
    "Based on the data obtained, the following conclusions can be drawn:\n",
    "\n",
    "- The average revenue is the highest in the second region, the lowest in the third.\n",
    "- 2.5% quantile is lower in the third region, higher is in the second.\n",
    "- The confidence interval is higher in the first and third regions, lower is in the second.\n",
    "- The risk of losses is lower in the second region, higher in the first and third."
   ]
  },
  {
   "cell_type": "markdown",
   "metadata": {},
   "source": [
    "## Summary"
   ]
  },
  {
   "cell_type": "markdown",
   "metadata": {},
   "source": [
    "- Data was studied and prepared\n",
    "- The model was trained for each region. The average stock of predicted raw materials averages 94.97 thousand barrels.\n",
    "- The highest standard deviation can be seen in the 3rd region, the lowest - in the 2nd.\n",
    "- Most of the oil reserves per well are in regions 3 and 1.\n",
    "- Profit from oil production is highest in regions 1 and 2.\n",
    "- The average revenue is highest in the second region.\n",
    "- The risk of losses is lower in the second region.\n",
    "\n",
    "It can be concluded that the second region is best suited for well development, as it can be observed the lowest risk of losses, the highest revenue, as well as a high 95% confidence interval.\n"
   ]
  },
  {
   "cell_type": "code",
   "execution_count": null,
   "metadata": {},
   "outputs": [],
   "source": []
  },
  {
   "cell_type": "code",
   "execution_count": null,
   "metadata": {},
   "outputs": [],
   "source": []
  }
 ],
 "metadata": {
  "ExecuteTimeLog": [
   {
    "duration": 1438,
    "start_time": "2022-08-01T08:50:23.164Z"
   },
   {
    "duration": 1473,
    "start_time": "2022-08-01T08:55:12.955Z"
   },
   {
    "duration": 92,
    "start_time": "2022-08-01T08:56:05.500Z"
   },
   {
    "duration": 272,
    "start_time": "2022-08-01T08:56:23.058Z"
   },
   {
    "duration": 1480,
    "start_time": "2022-08-04T06:05:51.753Z"
   },
   {
    "duration": 766,
    "start_time": "2022-08-04T06:05:53.235Z"
   },
   {
    "duration": 351,
    "start_time": "2022-08-04T06:05:54.003Z"
   },
   {
    "duration": 5,
    "start_time": "2022-08-04T06:05:54.357Z"
   },
   {
    "duration": 6,
    "start_time": "2022-08-04T06:07:00.258Z"
   },
   {
    "duration": 93,
    "start_time": "2022-08-04T06:07:36.194Z"
   },
   {
    "duration": 10,
    "start_time": "2022-08-04T06:07:59.188Z"
   },
   {
    "duration": 10,
    "start_time": "2022-08-04T06:08:15.945Z"
   },
   {
    "duration": 15,
    "start_time": "2022-08-04T06:08:37.375Z"
   },
   {
    "duration": 5,
    "start_time": "2022-08-04T06:09:40.070Z"
   },
   {
    "duration": 23,
    "start_time": "2022-08-04T06:09:42.021Z"
   },
   {
    "duration": 6,
    "start_time": "2022-08-04T06:18:24.933Z"
   },
   {
    "duration": 9,
    "start_time": "2022-08-04T06:18:50.521Z"
   },
   {
    "duration": 26,
    "start_time": "2022-08-04T06:19:09.119Z"
   },
   {
    "duration": 5,
    "start_time": "2022-08-04T06:19:37.226Z"
   },
   {
    "duration": 26,
    "start_time": "2022-08-04T06:19:37.852Z"
   },
   {
    "duration": 3,
    "start_time": "2022-08-04T06:21:03.670Z"
   },
   {
    "duration": 9,
    "start_time": "2022-08-04T06:21:48.048Z"
   },
   {
    "duration": 22,
    "start_time": "2022-08-04T06:22:00.638Z"
   },
   {
    "duration": 324,
    "start_time": "2022-08-04T06:26:23.990Z"
   },
   {
    "duration": 11,
    "start_time": "2022-08-04T06:46:58.448Z"
   },
   {
    "duration": 12,
    "start_time": "2022-08-04T06:47:09.270Z"
   },
   {
    "duration": 16,
    "start_time": "2022-08-04T06:47:32.342Z"
   },
   {
    "duration": 12,
    "start_time": "2022-08-04T06:47:32.537Z"
   },
   {
    "duration": 51,
    "start_time": "2022-08-05T12:02:33.851Z"
   },
   {
    "duration": 1530,
    "start_time": "2022-08-05T12:02:37.590Z"
   },
   {
    "duration": 785,
    "start_time": "2022-08-05T12:02:39.122Z"
   },
   {
    "duration": 351,
    "start_time": "2022-08-05T12:02:39.909Z"
   },
   {
    "duration": 5,
    "start_time": "2022-08-05T12:02:40.262Z"
   },
   {
    "duration": 277,
    "start_time": "2022-08-05T12:03:55.982Z"
   },
   {
    "duration": 1555,
    "start_time": "2022-08-08T05:59:05.290Z"
   },
   {
    "duration": 1491,
    "start_time": "2022-08-08T05:59:06.847Z"
   },
   {
    "duration": 346,
    "start_time": "2022-08-08T05:59:08.340Z"
   },
   {
    "duration": 3,
    "start_time": "2022-08-08T05:59:08.688Z"
   },
   {
    "duration": 279,
    "start_time": "2022-08-08T05:59:08.693Z"
   },
   {
    "duration": 1577,
    "start_time": "2022-08-08T12:30:03.816Z"
   },
   {
    "duration": 822,
    "start_time": "2022-08-08T12:30:05.395Z"
   },
   {
    "duration": 392,
    "start_time": "2022-08-08T12:30:06.219Z"
   },
   {
    "duration": 4,
    "start_time": "2022-08-08T12:30:07.844Z"
   },
   {
    "duration": 400,
    "start_time": "2022-08-08T12:30:09.303Z"
   },
   {
    "duration": 4,
    "start_time": "2022-08-08T12:31:51.825Z"
   },
   {
    "duration": 5,
    "start_time": "2022-08-08T12:32:12.446Z"
   },
   {
    "duration": 105,
    "start_time": "2022-08-08T12:32:53.274Z"
   },
   {
    "duration": 8,
    "start_time": "2022-08-08T12:33:26.182Z"
   },
   {
    "duration": 9,
    "start_time": "2022-08-08T12:33:30.980Z"
   },
   {
    "duration": 8,
    "start_time": "2022-08-08T12:34:26.017Z"
   },
   {
    "duration": 9,
    "start_time": "2022-08-08T12:34:36.178Z"
   },
   {
    "duration": 9,
    "start_time": "2022-08-08T12:34:43.917Z"
   },
   {
    "duration": 4,
    "start_time": "2022-08-08T12:38:48.259Z"
   },
   {
    "duration": 4,
    "start_time": "2022-08-08T12:39:17.619Z"
   },
   {
    "duration": 5,
    "start_time": "2022-08-08T12:42:08.372Z"
   },
   {
    "duration": 13,
    "start_time": "2022-08-08T12:43:08.248Z"
   },
   {
    "duration": 6,
    "start_time": "2022-08-08T12:43:51.895Z"
   },
   {
    "duration": 14,
    "start_time": "2022-08-08T12:43:52.684Z"
   },
   {
    "duration": 9,
    "start_time": "2022-08-08T12:43:57.461Z"
   },
   {
    "duration": 9,
    "start_time": "2022-08-08T12:44:35.483Z"
   },
   {
    "duration": 10,
    "start_time": "2022-08-08T12:45:50.053Z"
   },
   {
    "duration": 5,
    "start_time": "2022-08-08T12:47:29.306Z"
   },
   {
    "duration": 2,
    "start_time": "2022-08-08T12:47:32.291Z"
   },
   {
    "duration": 5,
    "start_time": "2022-08-08T12:47:32.771Z"
   },
   {
    "duration": 10,
    "start_time": "2022-08-08T12:47:32.989Z"
   },
   {
    "duration": 13,
    "start_time": "2022-08-08T12:47:45.950Z"
   },
   {
    "duration": 12,
    "start_time": "2022-08-08T12:47:52.803Z"
   },
   {
    "duration": 5,
    "start_time": "2022-08-08T12:48:17.275Z"
   },
   {
    "duration": 12,
    "start_time": "2022-08-08T12:48:17.868Z"
   },
   {
    "duration": 353,
    "start_time": "2022-08-08T13:13:00.079Z"
   },
   {
    "duration": 353,
    "start_time": "2022-08-08T13:13:14.310Z"
   },
   {
    "duration": 3,
    "start_time": "2022-08-08T13:15:50.432Z"
   },
   {
    "duration": 5,
    "start_time": "2022-08-08T13:27:46.407Z"
   },
   {
    "duration": 9,
    "start_time": "2022-08-08T13:28:41.746Z"
   },
   {
    "duration": 14,
    "start_time": "2022-08-08T13:28:51.082Z"
   },
   {
    "duration": 3,
    "start_time": "2022-08-08T13:29:13.191Z"
   },
   {
    "duration": 388,
    "start_time": "2022-08-08T13:29:13.433Z"
   },
   {
    "duration": 355,
    "start_time": "2022-08-08T13:29:13.823Z"
   },
   {
    "duration": 4,
    "start_time": "2022-08-08T13:29:14.180Z"
   },
   {
    "duration": 15,
    "start_time": "2022-08-08T13:29:14.383Z"
   },
   {
    "duration": 5,
    "start_time": "2022-08-08T13:29:27.344Z"
   },
   {
    "duration": 14,
    "start_time": "2022-08-08T13:29:27.931Z"
   },
   {
    "duration": 4,
    "start_time": "2022-08-08T13:29:44.743Z"
   },
   {
    "duration": 39,
    "start_time": "2022-08-08T13:29:45.264Z"
   },
   {
    "duration": 4,
    "start_time": "2022-08-08T13:30:07.835Z"
   },
   {
    "duration": 394,
    "start_time": "2022-08-08T13:30:08.078Z"
   },
   {
    "duration": 350,
    "start_time": "2022-08-08T13:30:08.474Z"
   },
   {
    "duration": 5,
    "start_time": "2022-08-08T13:30:09.015Z"
   },
   {
    "duration": 33,
    "start_time": "2022-08-08T13:30:09.681Z"
   },
   {
    "duration": 4,
    "start_time": "2022-08-08T13:30:42.648Z"
   },
   {
    "duration": 374,
    "start_time": "2022-08-08T13:30:42.867Z"
   },
   {
    "duration": 366,
    "start_time": "2022-08-08T13:30:43.340Z"
   },
   {
    "duration": 4,
    "start_time": "2022-08-08T13:30:43.826Z"
   },
   {
    "duration": 23,
    "start_time": "2022-08-08T13:30:44.101Z"
   },
   {
    "duration": 12,
    "start_time": "2022-08-09T06:49:19.695Z"
   },
   {
    "duration": 48,
    "start_time": "2022-08-09T06:49:19.935Z"
   },
   {
    "duration": 1671,
    "start_time": "2022-08-09T06:49:26.580Z"
   },
   {
    "duration": 1667,
    "start_time": "2022-08-09T06:49:28.254Z"
   },
   {
    "duration": 419,
    "start_time": "2022-08-09T06:49:29.922Z"
   },
   {
    "duration": 6,
    "start_time": "2022-08-09T06:49:30.344Z"
   },
   {
    "duration": 308,
    "start_time": "2022-08-09T06:49:30.369Z"
   },
   {
    "duration": 4,
    "start_time": "2022-08-09T06:50:23.795Z"
   },
   {
    "duration": 414,
    "start_time": "2022-08-09T06:50:24.360Z"
   },
   {
    "duration": 414,
    "start_time": "2022-08-09T06:50:24.776Z"
   },
   {
    "duration": 5,
    "start_time": "2022-08-09T06:50:25.192Z"
   },
   {
    "duration": 66,
    "start_time": "2022-08-09T06:50:25.305Z"
   },
   {
    "duration": 5,
    "start_time": "2022-08-09T06:50:40.373Z"
   },
   {
    "duration": 53,
    "start_time": "2022-08-09T06:50:40.717Z"
   },
   {
    "duration": 5,
    "start_time": "2022-08-09T06:50:51.866Z"
   },
   {
    "duration": 63,
    "start_time": "2022-08-09T06:50:52.313Z"
   },
   {
    "duration": 5,
    "start_time": "2022-08-09T06:51:01.637Z"
   },
   {
    "duration": 82,
    "start_time": "2022-08-09T06:51:02.193Z"
   },
   {
    "duration": 46,
    "start_time": "2022-08-09T06:51:29.723Z"
   },
   {
    "duration": 5,
    "start_time": "2022-08-09T06:51:33.072Z"
   },
   {
    "duration": 38,
    "start_time": "2022-08-09T06:51:33.243Z"
   },
   {
    "duration": 5,
    "start_time": "2022-08-09T06:53:13.002Z"
   },
   {
    "duration": 37,
    "start_time": "2022-08-09T06:53:13.238Z"
   },
   {
    "duration": 5,
    "start_time": "2022-08-09T06:56:43.165Z"
   },
   {
    "duration": 64,
    "start_time": "2022-08-09T06:56:44.005Z"
   },
   {
    "duration": 53,
    "start_time": "2022-08-09T06:58:30.717Z"
   },
   {
    "duration": 41,
    "start_time": "2022-08-09T06:58:45.336Z"
   },
   {
    "duration": 116,
    "start_time": "2022-08-09T06:58:56.955Z"
   },
   {
    "duration": 162,
    "start_time": "2022-08-09T07:03:04.907Z"
   },
   {
    "duration": 146,
    "start_time": "2022-08-09T07:03:18.323Z"
   },
   {
    "duration": 68,
    "start_time": "2022-08-09T07:03:35.301Z"
   },
   {
    "duration": 4,
    "start_time": "2022-08-09T07:03:38.314Z"
   },
   {
    "duration": 121,
    "start_time": "2022-08-09T07:03:38.648Z"
   },
   {
    "duration": 4,
    "start_time": "2022-08-09T07:04:08.994Z"
   },
   {
    "duration": 27,
    "start_time": "2022-08-09T07:04:09.483Z"
   },
   {
    "duration": 31,
    "start_time": "2022-08-09T07:05:48.504Z"
   },
   {
    "duration": 31,
    "start_time": "2022-08-09T07:06:10.853Z"
   },
   {
    "duration": 80,
    "start_time": "2022-08-09T07:06:11.089Z"
   },
   {
    "duration": 31,
    "start_time": "2022-08-09T07:06:24.740Z"
   },
   {
    "duration": 99,
    "start_time": "2022-08-09T07:06:24.968Z"
   },
   {
    "duration": 33,
    "start_time": "2022-08-09T07:06:52.344Z"
   },
   {
    "duration": 33,
    "start_time": "2022-08-09T07:07:37.641Z"
   },
   {
    "duration": 30,
    "start_time": "2022-08-09T07:07:58.304Z"
   },
   {
    "duration": 32,
    "start_time": "2022-08-09T07:08:19.221Z"
   },
   {
    "duration": 30,
    "start_time": "2022-08-09T07:08:38.320Z"
   },
   {
    "duration": 3,
    "start_time": "2022-08-09T07:12:33.314Z"
   },
   {
    "duration": 3,
    "start_time": "2022-08-09T07:18:34.779Z"
   },
   {
    "duration": 4,
    "start_time": "2022-08-09T07:18:58.565Z"
   },
   {
    "duration": 3,
    "start_time": "2022-08-09T07:19:20.781Z"
   },
   {
    "duration": 4,
    "start_time": "2022-08-09T07:19:21.372Z"
   },
   {
    "duration": 4,
    "start_time": "2022-08-09T07:40:09.651Z"
   },
   {
    "duration": 3,
    "start_time": "2022-08-09T07:41:19.009Z"
   },
   {
    "duration": 4,
    "start_time": "2022-08-09T07:41:29.570Z"
   },
   {
    "duration": 11,
    "start_time": "2022-08-09T07:42:48.358Z"
   },
   {
    "duration": 6,
    "start_time": "2022-08-09T07:43:13.117Z"
   },
   {
    "duration": 8,
    "start_time": "2022-08-09T07:43:26.089Z"
   },
   {
    "duration": 13,
    "start_time": "2022-08-09T07:44:28.893Z"
   },
   {
    "duration": 13,
    "start_time": "2022-08-09T07:45:01.255Z"
   },
   {
    "duration": 15,
    "start_time": "2022-08-09T07:45:12.457Z"
   },
   {
    "duration": 7,
    "start_time": "2022-08-09T07:45:17.659Z"
   },
   {
    "duration": 4,
    "start_time": "2022-08-09T07:47:44.610Z"
   },
   {
    "duration": 6,
    "start_time": "2022-08-09T07:48:56.071Z"
   },
   {
    "duration": 12,
    "start_time": "2022-08-09T07:49:16.837Z"
   },
   {
    "duration": 10,
    "start_time": "2022-08-09T07:49:24.078Z"
   },
   {
    "duration": 3,
    "start_time": "2022-08-09T07:50:29.950Z"
   },
   {
    "duration": 10,
    "start_time": "2022-08-09T07:50:44.731Z"
   },
   {
    "duration": 5,
    "start_time": "2022-08-09T07:52:14.056Z"
   },
   {
    "duration": 22,
    "start_time": "2022-08-09T07:52:25.406Z"
   },
   {
    "duration": 6,
    "start_time": "2022-08-09T07:54:11.542Z"
   },
   {
    "duration": 11,
    "start_time": "2022-08-09T07:55:10.142Z"
   },
   {
    "duration": 8,
    "start_time": "2022-08-09T07:55:21.831Z"
   },
   {
    "duration": 4,
    "start_time": "2022-08-09T07:55:50.024Z"
   },
   {
    "duration": 7,
    "start_time": "2022-08-09T07:55:50.224Z"
   },
   {
    "duration": 7,
    "start_time": "2022-08-09T07:56:34.878Z"
   },
   {
    "duration": 6,
    "start_time": "2022-08-09T07:58:56.726Z"
   },
   {
    "duration": 6,
    "start_time": "2022-08-09T07:58:57.144Z"
   },
   {
    "duration": 5,
    "start_time": "2022-08-09T07:58:57.621Z"
   },
   {
    "duration": 4,
    "start_time": "2022-08-09T08:00:09.924Z"
   },
   {
    "duration": 15,
    "start_time": "2022-08-09T08:00:10.370Z"
   },
   {
    "duration": 19,
    "start_time": "2022-08-09T08:00:41.368Z"
   },
   {
    "duration": 18,
    "start_time": "2022-08-09T08:00:41.766Z"
   },
   {
    "duration": 3,
    "start_time": "2022-08-09T08:04:51.963Z"
   },
   {
    "duration": 10,
    "start_time": "2022-08-09T08:05:02.637Z"
   },
   {
    "duration": 11,
    "start_time": "2022-08-09T08:05:49.078Z"
   },
   {
    "duration": 10,
    "start_time": "2022-08-09T08:06:04.415Z"
   },
   {
    "duration": 10,
    "start_time": "2022-08-09T08:06:14.154Z"
   },
   {
    "duration": 1796,
    "start_time": "2022-08-09T08:06:24.793Z"
   },
   {
    "duration": 1542,
    "start_time": "2022-08-09T10:31:14.524Z"
   },
   {
    "duration": 929,
    "start_time": "2022-08-09T10:31:16.068Z"
   },
   {
    "duration": 357,
    "start_time": "2022-08-09T10:31:16.999Z"
   },
   {
    "duration": 4,
    "start_time": "2022-08-09T10:31:17.359Z"
   },
   {
    "duration": 147,
    "start_time": "2022-08-09T10:31:17.365Z"
   },
   {
    "duration": 115,
    "start_time": "2022-08-09T10:31:17.514Z"
   },
   {
    "duration": 195,
    "start_time": "2022-08-09T10:31:17.631Z"
   },
   {
    "duration": 182,
    "start_time": "2022-08-09T10:31:17.828Z"
   },
   {
    "duration": 13,
    "start_time": "2022-08-09T10:31:18.012Z"
   },
   {
    "duration": 3,
    "start_time": "2022-08-09T10:31:18.425Z"
   },
   {
    "duration": 5,
    "start_time": "2022-08-09T10:31:19.110Z"
   },
   {
    "duration": 7,
    "start_time": "2022-08-09T10:31:19.850Z"
   },
   {
    "duration": 3,
    "start_time": "2022-08-09T10:31:20.664Z"
   },
   {
    "duration": 4,
    "start_time": "2022-08-09T10:31:55.740Z"
   },
   {
    "duration": 98,
    "start_time": "2022-08-09T10:32:48.019Z"
   },
   {
    "duration": 9,
    "start_time": "2022-08-09T10:33:16.161Z"
   },
   {
    "duration": 3,
    "start_time": "2022-08-09T10:34:33.354Z"
   },
   {
    "duration": 4,
    "start_time": "2022-08-09T10:36:13.786Z"
   },
   {
    "duration": 9,
    "start_time": "2022-08-09T10:36:27.483Z"
   },
   {
    "duration": 9,
    "start_time": "2022-08-09T10:36:40.019Z"
   },
   {
    "duration": 19,
    "start_time": "2022-08-09T10:37:38.340Z"
   },
   {
    "duration": 3,
    "start_time": "2022-08-09T10:37:49.027Z"
   },
   {
    "duration": 17,
    "start_time": "2022-08-09T10:37:49.315Z"
   },
   {
    "duration": 4,
    "start_time": "2022-08-09T10:38:02.407Z"
   },
   {
    "duration": 19,
    "start_time": "2022-08-09T10:38:03.488Z"
   },
   {
    "duration": 4,
    "start_time": "2022-08-09T10:39:53.276Z"
   },
   {
    "duration": 9,
    "start_time": "2022-08-09T10:40:17.821Z"
   },
   {
    "duration": 15,
    "start_time": "2022-08-09T10:40:21.935Z"
   },
   {
    "duration": 4,
    "start_time": "2022-08-09T10:43:06.418Z"
   },
   {
    "duration": 13,
    "start_time": "2022-08-09T10:43:31.792Z"
   },
   {
    "duration": 5,
    "start_time": "2022-08-09T10:43:53.807Z"
   },
   {
    "duration": 14,
    "start_time": "2022-08-09T10:43:54.060Z"
   },
   {
    "duration": 4,
    "start_time": "2022-08-09T10:44:06.129Z"
   },
   {
    "duration": 4,
    "start_time": "2022-08-09T10:44:06.804Z"
   },
   {
    "duration": 5,
    "start_time": "2022-08-09T10:44:27.224Z"
   },
   {
    "duration": 4,
    "start_time": "2022-08-09T10:45:16.289Z"
   },
   {
    "duration": 5,
    "start_time": "2022-08-09T10:45:16.870Z"
   },
   {
    "duration": 4,
    "start_time": "2022-08-09T10:45:21.311Z"
   },
   {
    "duration": 6,
    "start_time": "2022-08-09T10:45:21.546Z"
   },
   {
    "duration": 6,
    "start_time": "2022-08-09T10:46:01.325Z"
   },
   {
    "duration": 5,
    "start_time": "2022-08-09T10:46:20.486Z"
   },
   {
    "duration": 5,
    "start_time": "2022-08-09T10:46:20.948Z"
   },
   {
    "duration": 3,
    "start_time": "2022-08-09T10:46:26.706Z"
   },
   {
    "duration": 5,
    "start_time": "2022-08-09T10:46:26.942Z"
   },
   {
    "duration": 4,
    "start_time": "2022-08-09T10:47:02.550Z"
   },
   {
    "duration": 6,
    "start_time": "2022-08-09T10:47:02.781Z"
   },
   {
    "duration": 4,
    "start_time": "2022-08-09T10:47:41.492Z"
   },
   {
    "duration": 6,
    "start_time": "2022-08-09T10:47:41.707Z"
   },
   {
    "duration": 6,
    "start_time": "2022-08-09T10:47:53.531Z"
   },
   {
    "duration": 7,
    "start_time": "2022-08-09T10:48:06.009Z"
   },
   {
    "duration": 5,
    "start_time": "2022-08-09T10:48:10.928Z"
   },
   {
    "duration": 6,
    "start_time": "2022-08-09T10:48:19.512Z"
   },
   {
    "duration": 6,
    "start_time": "2022-08-09T10:48:21.360Z"
   },
   {
    "duration": 4,
    "start_time": "2022-08-09T10:48:26.691Z"
   },
   {
    "duration": 7,
    "start_time": "2022-08-09T10:48:27.224Z"
   },
   {
    "duration": 4,
    "start_time": "2022-08-09T10:48:31.268Z"
   },
   {
    "duration": 5,
    "start_time": "2022-08-09T10:48:31.509Z"
   },
   {
    "duration": 3,
    "start_time": "2022-08-09T10:49:32.280Z"
   },
   {
    "duration": 5,
    "start_time": "2022-08-09T10:49:32.593Z"
   },
   {
    "duration": 9,
    "start_time": "2022-08-09T10:50:59.264Z"
   },
   {
    "duration": 10,
    "start_time": "2022-08-09T10:59:40.638Z"
   },
   {
    "duration": 4,
    "start_time": "2022-08-09T11:00:11.245Z"
   },
   {
    "duration": 9,
    "start_time": "2022-08-09T11:00:11.452Z"
   },
   {
    "duration": 4,
    "start_time": "2022-08-09T11:00:16.966Z"
   },
   {
    "duration": 8,
    "start_time": "2022-08-09T11:00:17.167Z"
   },
   {
    "duration": 4,
    "start_time": "2022-08-09T11:02:09.854Z"
   },
   {
    "duration": 14,
    "start_time": "2022-08-09T11:02:10.163Z"
   },
   {
    "duration": 3,
    "start_time": "2022-08-09T11:02:38.557Z"
   },
   {
    "duration": 13,
    "start_time": "2022-08-09T11:02:38.895Z"
   },
   {
    "duration": 6,
    "start_time": "2022-08-09T11:03:09.667Z"
   },
   {
    "duration": 15,
    "start_time": "2022-08-09T11:03:10.058Z"
   },
   {
    "duration": 5,
    "start_time": "2022-08-09T11:04:35.407Z"
   },
   {
    "duration": 14,
    "start_time": "2022-08-09T11:04:35.617Z"
   },
   {
    "duration": 4,
    "start_time": "2022-08-09T11:05:09.621Z"
   },
   {
    "duration": 13,
    "start_time": "2022-08-09T11:05:09.790Z"
   },
   {
    "duration": 4,
    "start_time": "2022-08-09T11:07:05.368Z"
   },
   {
    "duration": 17,
    "start_time": "2022-08-09T11:07:05.680Z"
   },
   {
    "duration": 1299,
    "start_time": "2022-08-09T11:07:17.529Z"
   },
   {
    "duration": 379,
    "start_time": "2022-08-09T11:07:18.830Z"
   },
   {
    "duration": 330,
    "start_time": "2022-08-09T11:07:19.210Z"
   },
   {
    "duration": 4,
    "start_time": "2022-08-09T11:07:19.542Z"
   },
   {
    "duration": 64,
    "start_time": "2022-08-09T11:07:19.548Z"
   },
   {
    "duration": 118,
    "start_time": "2022-08-09T11:07:19.614Z"
   },
   {
    "duration": 197,
    "start_time": "2022-08-09T11:07:19.811Z"
   },
   {
    "duration": 2,
    "start_time": "2022-08-09T11:07:21.007Z"
   },
   {
    "duration": 4,
    "start_time": "2022-08-09T11:07:21.353Z"
   },
   {
    "duration": 3,
    "start_time": "2022-08-09T11:07:21.902Z"
   },
   {
    "duration": 7,
    "start_time": "2022-08-09T11:07:22.378Z"
   },
   {
    "duration": 5,
    "start_time": "2022-08-09T11:07:22.866Z"
   },
   {
    "duration": 4,
    "start_time": "2022-08-09T11:07:23.660Z"
   },
   {
    "duration": 101,
    "start_time": "2022-08-09T11:07:24.435Z"
   },
   {
    "duration": 4,
    "start_time": "2022-08-09T11:07:43.670Z"
   },
   {
    "duration": 9,
    "start_time": "2022-08-09T11:07:44.002Z"
   },
   {
    "duration": 4,
    "start_time": "2022-08-09T11:08:03.226Z"
   },
   {
    "duration": 14,
    "start_time": "2022-08-09T11:08:03.553Z"
   },
   {
    "duration": 4,
    "start_time": "2022-08-09T11:08:19.917Z"
   },
   {
    "duration": 10,
    "start_time": "2022-08-09T11:08:20.464Z"
   },
   {
    "duration": 9,
    "start_time": "2022-08-09T11:08:25.177Z"
   },
   {
    "duration": 6,
    "start_time": "2022-08-09T11:08:31.180Z"
   },
   {
    "duration": 4,
    "start_time": "2022-08-09T11:08:31.412Z"
   },
   {
    "duration": 7,
    "start_time": "2022-08-09T11:08:32.171Z"
   },
   {
    "duration": 5,
    "start_time": "2022-08-09T11:08:52.325Z"
   },
   {
    "duration": 14,
    "start_time": "2022-08-09T11:08:52.980Z"
   },
   {
    "duration": 4,
    "start_time": "2022-08-09T11:09:14.500Z"
   },
   {
    "duration": 9,
    "start_time": "2022-08-09T11:09:14.779Z"
   },
   {
    "duration": 8,
    "start_time": "2022-08-09T11:09:34.360Z"
   },
   {
    "duration": 4,
    "start_time": "2022-08-09T11:09:44.321Z"
   },
   {
    "duration": 8,
    "start_time": "2022-08-09T11:09:44.845Z"
   },
   {
    "duration": 3,
    "start_time": "2022-08-09T11:09:51.225Z"
   },
   {
    "duration": 8,
    "start_time": "2022-08-09T11:09:51.450Z"
   },
   {
    "duration": 4,
    "start_time": "2022-08-09T11:10:01.606Z"
   },
   {
    "duration": 9,
    "start_time": "2022-08-09T11:10:01.958Z"
   },
   {
    "duration": 6,
    "start_time": "2022-08-09T11:14:56.042Z"
   },
   {
    "duration": 9,
    "start_time": "2022-08-09T11:14:56.520Z"
   },
   {
    "duration": 4,
    "start_time": "2022-08-09T11:14:59.932Z"
   },
   {
    "duration": 5,
    "start_time": "2022-08-09T11:15:00.145Z"
   },
   {
    "duration": 9,
    "start_time": "2022-08-09T11:15:02.378Z"
   },
   {
    "duration": 13,
    "start_time": "2022-08-09T11:15:29.953Z"
   },
   {
    "duration": 4,
    "start_time": "2022-08-09T11:16:46.693Z"
   },
   {
    "duration": 5,
    "start_time": "2022-08-09T11:16:46.964Z"
   },
   {
    "duration": 14,
    "start_time": "2022-08-09T11:16:48.994Z"
   },
   {
    "duration": 5,
    "start_time": "2022-08-09T11:21:19.488Z"
   },
   {
    "duration": 15,
    "start_time": "2022-08-09T11:21:19.707Z"
   },
   {
    "duration": 4,
    "start_time": "2022-08-09T11:21:26.575Z"
   },
   {
    "duration": 12,
    "start_time": "2022-08-09T11:21:26.779Z"
   },
   {
    "duration": 5,
    "start_time": "2022-08-09T11:21:36.914Z"
   },
   {
    "duration": 14,
    "start_time": "2022-08-09T11:21:37.152Z"
   },
   {
    "duration": 4,
    "start_time": "2022-08-09T11:26:28.673Z"
   },
   {
    "duration": 13,
    "start_time": "2022-08-09T11:26:28.902Z"
   },
   {
    "duration": 4,
    "start_time": "2022-08-09T11:28:01.173Z"
   },
   {
    "duration": 12,
    "start_time": "2022-08-09T11:28:02.047Z"
   },
   {
    "duration": 4,
    "start_time": "2022-08-09T11:28:43.613Z"
   },
   {
    "duration": 8,
    "start_time": "2022-08-09T11:28:44.005Z"
   },
   {
    "duration": 3,
    "start_time": "2022-08-09T11:28:45.006Z"
   },
   {
    "duration": 5,
    "start_time": "2022-08-09T11:28:45.705Z"
   },
   {
    "duration": 13,
    "start_time": "2022-08-09T11:28:46.791Z"
   },
   {
    "duration": 5,
    "start_time": "2022-08-09T11:33:08.060Z"
   },
   {
    "duration": 15,
    "start_time": "2022-08-09T11:33:08.392Z"
   },
   {
    "duration": 5,
    "start_time": "2022-08-09T11:33:33.842Z"
   },
   {
    "duration": 12,
    "start_time": "2022-08-09T11:33:34.074Z"
   },
   {
    "duration": 5,
    "start_time": "2022-08-09T11:33:40.113Z"
   },
   {
    "duration": 13,
    "start_time": "2022-08-09T11:33:40.307Z"
   },
   {
    "duration": 5,
    "start_time": "2022-08-09T11:41:11.141Z"
   },
   {
    "duration": 13,
    "start_time": "2022-08-09T11:41:11.360Z"
   },
   {
    "duration": 5,
    "start_time": "2022-08-09T11:41:18.027Z"
   },
   {
    "duration": 12,
    "start_time": "2022-08-09T11:41:18.273Z"
   },
   {
    "duration": 4,
    "start_time": "2022-08-09T12:07:37.684Z"
   },
   {
    "duration": 5,
    "start_time": "2022-08-09T12:07:58.213Z"
   },
   {
    "duration": 13,
    "start_time": "2022-08-09T12:07:58.465Z"
   },
   {
    "duration": 4,
    "start_time": "2022-08-09T12:10:09.132Z"
   },
   {
    "duration": 12,
    "start_time": "2022-08-09T12:10:09.350Z"
   },
   {
    "duration": 49,
    "start_time": "2022-08-09T12:12:03.774Z"
   },
   {
    "duration": 12,
    "start_time": "2022-08-09T12:12:04.476Z"
   },
   {
    "duration": 64,
    "start_time": "2022-08-09T12:12:28.871Z"
   },
   {
    "duration": 53,
    "start_time": "2022-08-09T12:15:44.078Z"
   },
   {
    "duration": 13,
    "start_time": "2022-08-09T12:15:44.340Z"
   },
   {
    "duration": 223,
    "start_time": "2022-08-09T12:17:11.520Z"
   },
   {
    "duration": 14,
    "start_time": "2022-08-09T12:17:12.566Z"
   },
   {
    "duration": 5,
    "start_time": "2022-08-09T12:17:28.235Z"
   },
   {
    "duration": 14,
    "start_time": "2022-08-09T12:17:28.665Z"
   },
   {
    "duration": 5,
    "start_time": "2022-08-09T12:18:08.099Z"
   },
   {
    "duration": 12,
    "start_time": "2022-08-09T12:18:08.670Z"
   },
   {
    "duration": 4,
    "start_time": "2022-08-09T12:18:18.283Z"
   },
   {
    "duration": 6,
    "start_time": "2022-08-09T12:18:18.496Z"
   },
   {
    "duration": 13,
    "start_time": "2022-08-09T12:18:20.376Z"
   },
   {
    "duration": 5,
    "start_time": "2022-08-09T12:18:33.666Z"
   },
   {
    "duration": 13,
    "start_time": "2022-08-09T12:18:33.873Z"
   },
   {
    "duration": 3,
    "start_time": "2022-08-09T12:19:26.837Z"
   },
   {
    "duration": 4,
    "start_time": "2022-08-09T12:19:27.076Z"
   },
   {
    "duration": 32,
    "start_time": "2022-08-09T12:19:27.258Z"
   },
   {
    "duration": 83,
    "start_time": "2022-08-09T12:19:27.427Z"
   },
   {
    "duration": 30,
    "start_time": "2022-08-09T12:19:27.610Z"
   },
   {
    "duration": 3,
    "start_time": "2022-08-09T12:19:27.923Z"
   },
   {
    "duration": 4,
    "start_time": "2022-08-09T12:19:28.091Z"
   },
   {
    "duration": 4,
    "start_time": "2022-08-09T12:19:28.266Z"
   },
   {
    "duration": 6,
    "start_time": "2022-08-09T12:19:28.438Z"
   },
   {
    "duration": 6,
    "start_time": "2022-08-09T12:19:28.611Z"
   },
   {
    "duration": 4,
    "start_time": "2022-08-09T12:19:28.781Z"
   },
   {
    "duration": 10,
    "start_time": "2022-08-09T12:19:28.965Z"
   },
   {
    "duration": 3,
    "start_time": "2022-08-09T12:19:29.957Z"
   },
   {
    "duration": 5,
    "start_time": "2022-08-09T12:19:30.337Z"
   },
   {
    "duration": 13,
    "start_time": "2022-08-09T12:19:30.699Z"
   },
   {
    "duration": 11,
    "start_time": "2022-08-09T12:20:43.372Z"
   },
   {
    "duration": 14,
    "start_time": "2022-08-09T12:20:43.668Z"
   },
   {
    "duration": 5,
    "start_time": "2022-08-09T12:20:57.187Z"
   },
   {
    "duration": 13,
    "start_time": "2022-08-09T12:20:58.858Z"
   },
   {
    "duration": 5,
    "start_time": "2022-08-09T12:24:23.052Z"
   },
   {
    "duration": 13,
    "start_time": "2022-08-09T12:24:24.313Z"
   },
   {
    "duration": 5,
    "start_time": "2022-08-09T12:25:06.738Z"
   },
   {
    "duration": 17,
    "start_time": "2022-08-09T12:25:07.277Z"
   },
   {
    "duration": 6,
    "start_time": "2022-08-09T12:34:10.189Z"
   },
   {
    "duration": 14,
    "start_time": "2022-08-09T12:34:10.442Z"
   },
   {
    "duration": 5,
    "start_time": "2022-08-09T12:35:59.000Z"
   },
   {
    "duration": 13,
    "start_time": "2022-08-09T12:35:59.576Z"
   },
   {
    "duration": 6,
    "start_time": "2022-08-09T12:36:23.250Z"
   },
   {
    "duration": 12,
    "start_time": "2022-08-09T12:36:24.623Z"
   },
   {
    "duration": 5,
    "start_time": "2022-08-09T12:36:38.795Z"
   },
   {
    "duration": 13,
    "start_time": "2022-08-09T12:36:39.203Z"
   },
   {
    "duration": 6,
    "start_time": "2022-08-09T12:38:17.320Z"
   },
   {
    "duration": 14,
    "start_time": "2022-08-09T12:38:17.806Z"
   },
   {
    "duration": 5,
    "start_time": "2022-08-09T12:38:29.998Z"
   },
   {
    "duration": 13,
    "start_time": "2022-08-09T12:38:31.278Z"
   },
   {
    "duration": 5,
    "start_time": "2022-08-09T12:41:30.080Z"
   },
   {
    "duration": 14,
    "start_time": "2022-08-09T12:41:30.336Z"
   },
   {
    "duration": 5,
    "start_time": "2022-08-09T12:41:42.729Z"
   },
   {
    "duration": 13,
    "start_time": "2022-08-09T12:41:43.154Z"
   },
   {
    "duration": 52,
    "start_time": "2022-08-09T12:43:13.052Z"
   },
   {
    "duration": 12,
    "start_time": "2022-08-09T12:43:13.537Z"
   },
   {
    "duration": 6,
    "start_time": "2022-08-09T12:43:32.227Z"
   },
   {
    "duration": 13,
    "start_time": "2022-08-09T12:43:32.729Z"
   },
   {
    "duration": 5,
    "start_time": "2022-08-09T12:44:54.523Z"
   },
   {
    "duration": 15,
    "start_time": "2022-08-09T12:44:54.760Z"
   },
   {
    "duration": 6,
    "start_time": "2022-08-09T12:45:03.083Z"
   },
   {
    "duration": 14,
    "start_time": "2022-08-09T12:45:03.269Z"
   },
   {
    "duration": 5,
    "start_time": "2022-08-09T12:47:41.901Z"
   },
   {
    "duration": 13,
    "start_time": "2022-08-09T12:47:42.533Z"
   },
   {
    "duration": 6,
    "start_time": "2022-08-09T12:48:22.835Z"
   },
   {
    "duration": 18,
    "start_time": "2022-08-09T12:48:23.299Z"
   },
   {
    "duration": 5,
    "start_time": "2022-08-09T12:48:41.472Z"
   },
   {
    "duration": 14,
    "start_time": "2022-08-09T12:48:41.721Z"
   },
   {
    "duration": 5,
    "start_time": "2022-08-09T12:49:45.669Z"
   },
   {
    "duration": 5,
    "start_time": "2022-08-09T12:49:52.641Z"
   },
   {
    "duration": 7,
    "start_time": "2022-08-09T12:49:57.320Z"
   },
   {
    "duration": 15,
    "start_time": "2022-08-09T12:49:57.719Z"
   },
   {
    "duration": 5,
    "start_time": "2022-08-09T13:00:13.387Z"
   },
   {
    "duration": 13,
    "start_time": "2022-08-09T13:00:13.604Z"
   },
   {
    "duration": 5,
    "start_time": "2022-08-09T13:03:13.495Z"
   },
   {
    "duration": 14,
    "start_time": "2022-08-09T13:03:14.036Z"
   },
   {
    "duration": 5,
    "start_time": "2022-08-09T13:03:31.138Z"
   },
   {
    "duration": 14,
    "start_time": "2022-08-09T13:03:31.334Z"
   },
   {
    "duration": 5,
    "start_time": "2022-08-09T13:04:10.161Z"
   },
   {
    "duration": 12,
    "start_time": "2022-08-09T13:04:10.427Z"
   },
   {
    "duration": 5,
    "start_time": "2022-08-09T13:04:45.488Z"
   },
   {
    "duration": 13,
    "start_time": "2022-08-09T13:04:46.043Z"
   },
   {
    "duration": 5,
    "start_time": "2022-08-09T13:04:57.085Z"
   },
   {
    "duration": 16,
    "start_time": "2022-08-09T13:04:57.284Z"
   },
   {
    "duration": 5,
    "start_time": "2022-08-09T13:21:15.128Z"
   },
   {
    "duration": 14,
    "start_time": "2022-08-09T13:21:15.382Z"
   },
   {
    "duration": 6,
    "start_time": "2022-08-09T13:21:44.722Z"
   },
   {
    "duration": 13,
    "start_time": "2022-08-09T13:21:46.301Z"
   },
   {
    "duration": 5,
    "start_time": "2022-08-09T13:21:58.788Z"
   },
   {
    "duration": 12,
    "start_time": "2022-08-09T13:21:59.123Z"
   },
   {
    "duration": 6,
    "start_time": "2022-08-09T13:23:03.137Z"
   },
   {
    "duration": 12,
    "start_time": "2022-08-09T13:23:03.530Z"
   },
   {
    "duration": 5,
    "start_time": "2022-08-09T13:25:53.650Z"
   },
   {
    "duration": 13,
    "start_time": "2022-08-09T13:25:54.190Z"
   },
   {
    "duration": 5,
    "start_time": "2022-08-09T13:29:49.136Z"
   },
   {
    "duration": 13,
    "start_time": "2022-08-09T13:29:49.344Z"
   },
   {
    "duration": 5,
    "start_time": "2022-08-09T13:30:44.353Z"
   },
   {
    "duration": 13,
    "start_time": "2022-08-09T13:30:44.748Z"
   },
   {
    "duration": 5,
    "start_time": "2022-08-09T13:31:56.180Z"
   },
   {
    "duration": 13,
    "start_time": "2022-08-09T13:31:56.649Z"
   },
   {
    "duration": 6,
    "start_time": "2022-08-09T13:32:11.593Z"
   },
   {
    "duration": 13,
    "start_time": "2022-08-09T13:32:11.926Z"
   },
   {
    "duration": 5,
    "start_time": "2022-08-09T13:32:38.651Z"
   },
   {
    "duration": 12,
    "start_time": "2022-08-09T13:32:39.070Z"
   },
   {
    "duration": 57,
    "start_time": "2022-08-09T13:33:14.714Z"
   },
   {
    "duration": 13,
    "start_time": "2022-08-09T13:33:14.961Z"
   },
   {
    "duration": 6,
    "start_time": "2022-08-09T13:33:23.010Z"
   },
   {
    "duration": 12,
    "start_time": "2022-08-09T13:33:23.242Z"
   },
   {
    "duration": 5,
    "start_time": "2022-08-09T13:34:22.370Z"
   },
   {
    "duration": 12,
    "start_time": "2022-08-09T13:34:22.610Z"
   },
   {
    "duration": 5,
    "start_time": "2022-08-09T13:34:30.429Z"
   },
   {
    "duration": 13,
    "start_time": "2022-08-09T13:34:30.827Z"
   },
   {
    "duration": 10,
    "start_time": "2022-08-09T13:35:21.673Z"
   },
   {
    "duration": 9,
    "start_time": "2022-08-09T13:35:45.436Z"
   },
   {
    "duration": 14,
    "start_time": "2022-08-09T13:36:28.384Z"
   },
   {
    "duration": 4,
    "start_time": "2022-08-09T13:36:50.884Z"
   },
   {
    "duration": 18,
    "start_time": "2022-08-09T13:36:51.127Z"
   },
   {
    "duration": 48,
    "start_time": "2022-08-09T13:37:31.172Z"
   },
   {
    "duration": 18,
    "start_time": "2022-08-09T13:37:31.554Z"
   },
   {
    "duration": 101,
    "start_time": "2022-08-09T13:37:53.898Z"
   },
   {
    "duration": 17,
    "start_time": "2022-08-09T13:37:54.134Z"
   },
   {
    "duration": 3,
    "start_time": "2022-08-09T13:39:55.267Z"
   },
   {
    "duration": 4,
    "start_time": "2022-08-09T13:39:55.497Z"
   },
   {
    "duration": 11,
    "start_time": "2022-08-09T13:40:45.698Z"
   },
   {
    "duration": 12,
    "start_time": "2022-08-09T13:41:38.535Z"
   },
   {
    "duration": 52,
    "start_time": "2022-08-09T17:01:37.191Z"
   },
   {
    "duration": 1391,
    "start_time": "2022-08-09T17:01:45.864Z"
   },
   {
    "duration": 763,
    "start_time": "2022-08-09T17:01:47.256Z"
   },
   {
    "duration": 356,
    "start_time": "2022-08-09T17:01:48.021Z"
   },
   {
    "duration": 3,
    "start_time": "2022-08-09T17:01:48.379Z"
   },
   {
    "duration": 28,
    "start_time": "2022-08-09T17:01:48.383Z"
   },
   {
    "duration": 100,
    "start_time": "2022-08-09T17:01:48.413Z"
   },
   {
    "duration": 116,
    "start_time": "2022-08-09T17:01:48.516Z"
   },
   {
    "duration": 112,
    "start_time": "2022-08-09T17:01:48.710Z"
   },
   {
    "duration": 89,
    "start_time": "2022-08-09T17:01:48.824Z"
   },
   {
    "duration": 97,
    "start_time": "2022-08-09T17:01:48.916Z"
   },
   {
    "duration": 6,
    "start_time": "2022-08-09T17:01:49.015Z"
   },
   {
    "duration": 7,
    "start_time": "2022-08-09T17:01:49.022Z"
   },
   {
    "duration": 6,
    "start_time": "2022-08-09T17:01:49.030Z"
   },
   {
    "duration": 7,
    "start_time": "2022-08-09T17:01:49.037Z"
   },
   {
    "duration": 11,
    "start_time": "2022-08-09T17:01:49.046Z"
   },
   {
    "duration": 85,
    "start_time": "2022-08-09T17:01:49.355Z"
   },
   {
    "duration": 3,
    "start_time": "2022-08-09T17:01:49.531Z"
   },
   {
    "duration": 5,
    "start_time": "2022-08-09T17:01:50.267Z"
   },
   {
    "duration": 13,
    "start_time": "2022-08-09T17:01:50.878Z"
   },
   {
    "duration": 12,
    "start_time": "2022-08-09T17:01:51.616Z"
   },
   {
    "duration": 4,
    "start_time": "2022-08-09T17:23:00.073Z"
   },
   {
    "duration": 8,
    "start_time": "2022-08-09T17:23:15.790Z"
   },
   {
    "duration": 8,
    "start_time": "2022-08-09T17:23:24.827Z"
   },
   {
    "duration": 17,
    "start_time": "2022-08-09T17:23:37.774Z"
   },
   {
    "duration": 4,
    "start_time": "2022-08-09T17:28:59.002Z"
   },
   {
    "duration": 384,
    "start_time": "2022-08-09T17:28:59.181Z"
   },
   {
    "duration": 323,
    "start_time": "2022-08-09T17:28:59.567Z"
   },
   {
    "duration": 3,
    "start_time": "2022-08-09T17:29:00.024Z"
   },
   {
    "duration": 6,
    "start_time": "2022-08-09T17:29:00.224Z"
   },
   {
    "duration": 38,
    "start_time": "2022-08-09T17:29:00.392Z"
   },
   {
    "duration": 57,
    "start_time": "2022-08-09T17:29:00.576Z"
   },
   {
    "duration": 27,
    "start_time": "2022-08-09T17:29:00.814Z"
   },
   {
    "duration": 3,
    "start_time": "2022-08-09T17:29:01.139Z"
   },
   {
    "duration": 4,
    "start_time": "2022-08-09T17:29:01.328Z"
   },
   {
    "duration": 4,
    "start_time": "2022-08-09T17:29:01.528Z"
   },
   {
    "duration": 16,
    "start_time": "2022-08-09T17:29:01.709Z"
   },
   {
    "duration": 6,
    "start_time": "2022-08-09T17:29:01.901Z"
   },
   {
    "duration": 4,
    "start_time": "2022-08-09T17:29:02.102Z"
   },
   {
    "duration": 9,
    "start_time": "2022-08-09T17:29:02.277Z"
   },
   {
    "duration": 11,
    "start_time": "2022-08-09T17:29:03.736Z"
   },
   {
    "duration": 4,
    "start_time": "2022-08-09T17:29:05.440Z"
   },
   {
    "duration": 5,
    "start_time": "2022-08-09T17:29:06.030Z"
   },
   {
    "duration": 11,
    "start_time": "2022-08-09T17:29:06.691Z"
   },
   {
    "duration": 10,
    "start_time": "2022-08-09T17:29:07.085Z"
   },
   {
    "duration": 10,
    "start_time": "2022-08-09T17:29:07.323Z"
   },
   {
    "duration": 5,
    "start_time": "2022-08-09T17:38:34.211Z"
   },
   {
    "duration": 1038,
    "start_time": "2022-08-09T17:38:34.831Z"
   },
   {
    "duration": 4,
    "start_time": "2022-08-09T17:38:44.185Z"
   },
   {
    "duration": 990,
    "start_time": "2022-08-09T17:38:44.618Z"
   },
   {
    "duration": 5,
    "start_time": "2022-08-09T17:40:14.147Z"
   },
   {
    "duration": 960,
    "start_time": "2022-08-09T17:40:14.399Z"
   },
   {
    "duration": 4,
    "start_time": "2022-08-09T17:40:24.178Z"
   },
   {
    "duration": 977,
    "start_time": "2022-08-09T17:40:24.434Z"
   },
   {
    "duration": 4,
    "start_time": "2022-08-09T17:42:07.626Z"
   },
   {
    "duration": 959,
    "start_time": "2022-08-09T17:42:08.655Z"
   },
   {
    "duration": 6,
    "start_time": "2022-08-09T17:42:20.873Z"
   },
   {
    "duration": 1004,
    "start_time": "2022-08-09T17:42:21.087Z"
   },
   {
    "duration": 5,
    "start_time": "2022-08-09T17:45:01.095Z"
   },
   {
    "duration": 987,
    "start_time": "2022-08-09T17:45:01.282Z"
   },
   {
    "duration": 4,
    "start_time": "2022-08-09T17:45:13.858Z"
   },
   {
    "duration": 978,
    "start_time": "2022-08-09T17:45:14.229Z"
   },
   {
    "duration": 5,
    "start_time": "2022-08-09T17:52:38.630Z"
   },
   {
    "duration": 943,
    "start_time": "2022-08-09T17:52:38.836Z"
   },
   {
    "duration": 9,
    "start_time": "2022-08-09T17:53:59.671Z"
   },
   {
    "duration": 6,
    "start_time": "2022-08-09T17:54:01.905Z"
   },
   {
    "duration": 16,
    "start_time": "2022-08-09T17:54:02.110Z"
   },
   {
    "duration": 5,
    "start_time": "2022-08-09T17:54:22.952Z"
   },
   {
    "duration": 12,
    "start_time": "2022-08-09T17:54:23.140Z"
   },
   {
    "duration": 4,
    "start_time": "2022-08-09T17:54:39.940Z"
   },
   {
    "duration": 5,
    "start_time": "2022-08-09T17:54:45.500Z"
   },
   {
    "duration": 1083,
    "start_time": "2022-08-09T17:54:45.841Z"
   },
   {
    "duration": 1228,
    "start_time": "2022-08-09T17:54:55.851Z"
   },
   {
    "duration": 984,
    "start_time": "2022-08-09T17:55:16.436Z"
   },
   {
    "duration": 1129,
    "start_time": "2022-08-09T17:55:17.423Z"
   },
   {
    "duration": 990,
    "start_time": "2022-08-09T17:55:18.553Z"
   },
   {
    "duration": 3,
    "start_time": "2022-08-09T18:00:09.474Z"
   },
   {
    "duration": 336,
    "start_time": "2022-08-09T18:00:11.758Z"
   },
   {
    "duration": 409,
    "start_time": "2022-08-09T18:00:13.415Z"
   },
   {
    "duration": 66,
    "start_time": "2022-08-09T18:08:06.753Z"
   },
   {
    "duration": 48,
    "start_time": "2022-08-09T18:08:12.564Z"
   },
   {
    "duration": 112,
    "start_time": "2022-08-09T18:08:19.598Z"
   },
   {
    "duration": 40,
    "start_time": "2022-08-09T18:08:27.871Z"
   },
   {
    "duration": 39,
    "start_time": "2022-08-09T18:08:28.081Z"
   },
   {
    "duration": 23,
    "start_time": "2022-08-09T18:12:26.094Z"
   },
   {
    "duration": 21,
    "start_time": "2022-08-09T18:12:26.312Z"
   },
   {
    "duration": 22,
    "start_time": "2022-08-09T18:12:27.473Z"
   },
   {
    "duration": 3,
    "start_time": "2022-08-09T18:14:38.467Z"
   },
   {
    "duration": 3,
    "start_time": "2022-08-09T18:16:54.155Z"
   },
   {
    "duration": 3,
    "start_time": "2022-08-09T18:17:24.576Z"
   },
   {
    "duration": 3,
    "start_time": "2022-08-09T18:19:12.947Z"
   },
   {
    "duration": 3,
    "start_time": "2022-08-09T18:19:14.067Z"
   },
   {
    "duration": 52,
    "start_time": "2022-08-09T18:21:09.806Z"
   },
   {
    "duration": 5,
    "start_time": "2022-08-09T18:21:23.878Z"
   },
   {
    "duration": 5,
    "start_time": "2022-08-09T18:21:35.102Z"
   },
   {
    "duration": 3,
    "start_time": "2022-08-09T18:22:33.356Z"
   },
   {
    "duration": 5,
    "start_time": "2022-08-09T18:22:54.875Z"
   },
   {
    "duration": 4,
    "start_time": "2022-08-09T18:24:39.864Z"
   },
   {
    "duration": 9,
    "start_time": "2022-08-09T18:27:53.138Z"
   },
   {
    "duration": 5,
    "start_time": "2022-08-09T18:28:54.495Z"
   },
   {
    "duration": 979,
    "start_time": "2022-08-09T18:28:56.902Z"
   },
   {
    "duration": 46,
    "start_time": "2022-08-09T18:29:18.230Z"
   },
   {
    "duration": 4,
    "start_time": "2022-08-09T18:29:22.173Z"
   },
   {
    "duration": 960,
    "start_time": "2022-08-09T18:29:24.167Z"
   },
   {
    "duration": 4,
    "start_time": "2022-08-09T18:31:13.403Z"
   },
   {
    "duration": 975,
    "start_time": "2022-08-09T18:31:14.112Z"
   },
   {
    "duration": 952,
    "start_time": "2022-08-09T18:31:16.295Z"
   },
   {
    "duration": 935,
    "start_time": "2022-08-09T18:31:17.249Z"
   },
   {
    "duration": 955,
    "start_time": "2022-08-09T18:31:36.559Z"
   },
   {
    "duration": 984,
    "start_time": "2022-08-09T18:31:37.516Z"
   },
   {
    "duration": 1011,
    "start_time": "2022-08-09T18:31:38.501Z"
   },
   {
    "duration": 50,
    "start_time": "2022-08-09T18:34:28.631Z"
   },
   {
    "duration": 1046,
    "start_time": "2022-08-09T18:50:45.111Z"
   },
   {
    "duration": 342,
    "start_time": "2022-08-09T18:50:46.159Z"
   },
   {
    "duration": 325,
    "start_time": "2022-08-09T18:50:46.503Z"
   },
   {
    "duration": 3,
    "start_time": "2022-08-09T18:50:46.831Z"
   },
   {
    "duration": 6,
    "start_time": "2022-08-09T18:50:46.836Z"
   },
   {
    "duration": 68,
    "start_time": "2022-08-09T18:50:46.844Z"
   },
   {
    "duration": 30,
    "start_time": "2022-08-09T18:50:47.012Z"
   },
   {
    "duration": 182,
    "start_time": "2022-08-09T18:50:47.044Z"
   },
   {
    "duration": 3,
    "start_time": "2022-08-09T18:50:47.227Z"
   },
   {
    "duration": 107,
    "start_time": "2022-08-09T18:50:47.312Z"
   },
   {
    "duration": 12,
    "start_time": "2022-08-09T18:50:47.421Z"
   },
   {
    "duration": 22,
    "start_time": "2022-08-09T18:50:47.435Z"
   },
   {
    "duration": 19,
    "start_time": "2022-08-09T18:50:47.459Z"
   },
   {
    "duration": 29,
    "start_time": "2022-08-09T18:50:47.481Z"
   },
   {
    "duration": 16,
    "start_time": "2022-08-09T18:50:47.512Z"
   },
   {
    "duration": 13,
    "start_time": "2022-08-09T18:50:47.529Z"
   },
   {
    "duration": 992,
    "start_time": "2022-08-09T18:50:47.544Z"
   },
   {
    "duration": 932,
    "start_time": "2022-08-09T18:50:48.538Z"
   },
   {
    "duration": 988,
    "start_time": "2022-08-09T18:50:49.472Z"
   },
   {
    "duration": 10,
    "start_time": "2022-08-10T16:38:10.790Z"
   },
   {
    "duration": 1126,
    "start_time": "2022-08-10T16:38:17.500Z"
   },
   {
    "duration": 874,
    "start_time": "2022-08-10T16:38:18.628Z"
   },
   {
    "duration": 315,
    "start_time": "2022-08-10T16:38:19.504Z"
   },
   {
    "duration": 4,
    "start_time": "2022-08-10T16:38:19.848Z"
   },
   {
    "duration": 10,
    "start_time": "2022-08-10T16:38:19.854Z"
   },
   {
    "duration": 75,
    "start_time": "2022-08-10T16:38:19.866Z"
   },
   {
    "duration": 118,
    "start_time": "2022-08-10T16:38:19.943Z"
   },
   {
    "duration": 199,
    "start_time": "2022-08-10T16:38:20.063Z"
   },
   {
    "duration": 2,
    "start_time": "2022-08-10T16:38:20.502Z"
   },
   {
    "duration": 3,
    "start_time": "2022-08-10T16:38:20.707Z"
   },
   {
    "duration": 3,
    "start_time": "2022-08-10T16:38:20.953Z"
   },
   {
    "duration": 5,
    "start_time": "2022-08-10T16:38:21.103Z"
   },
   {
    "duration": 4,
    "start_time": "2022-08-10T16:38:21.684Z"
   },
   {
    "duration": 9,
    "start_time": "2022-08-10T16:38:22.691Z"
   },
   {
    "duration": 3,
    "start_time": "2022-08-10T16:38:25.079Z"
   },
   {
    "duration": 7,
    "start_time": "2022-08-10T16:38:25.560Z"
   },
   {
    "duration": 1249,
    "start_time": "2022-08-10T16:38:28.132Z"
   },
   {
    "duration": 1134,
    "start_time": "2022-08-10T16:38:29.383Z"
   },
   {
    "duration": 1141,
    "start_time": "2022-08-10T16:38:30.519Z"
   },
   {
    "duration": 1044,
    "start_time": "2022-08-11T04:40:03.765Z"
   },
   {
    "duration": 750,
    "start_time": "2022-08-11T04:40:04.811Z"
   },
   {
    "duration": 309,
    "start_time": "2022-08-11T04:40:05.565Z"
   },
   {
    "duration": 4,
    "start_time": "2022-08-11T04:40:05.875Z"
   },
   {
    "duration": 4,
    "start_time": "2022-08-11T04:40:05.898Z"
   },
   {
    "duration": 33,
    "start_time": "2022-08-11T04:40:06.082Z"
   },
   {
    "duration": 23,
    "start_time": "2022-08-11T04:40:06.827Z"
   },
   {
    "duration": 24,
    "start_time": "2022-08-11T04:40:07.448Z"
   },
   {
    "duration": 3,
    "start_time": "2022-08-11T04:40:09.995Z"
   },
   {
    "duration": 3,
    "start_time": "2022-08-11T04:40:10.419Z"
   },
   {
    "duration": 3,
    "start_time": "2022-08-11T04:40:11.276Z"
   },
   {
    "duration": 5,
    "start_time": "2022-08-11T04:40:12.047Z"
   },
   {
    "duration": 4,
    "start_time": "2022-08-11T04:40:15.741Z"
   },
   {
    "duration": 9,
    "start_time": "2022-08-11T04:40:20.036Z"
   },
   {
    "duration": 4,
    "start_time": "2022-08-11T04:40:27.189Z"
   },
   {
    "duration": 7,
    "start_time": "2022-08-11T04:40:28.252Z"
   },
   {
    "duration": 5,
    "start_time": "2022-08-11T04:46:04.443Z"
   },
   {
    "duration": 105,
    "start_time": "2022-08-11T04:46:05.640Z"
   },
   {
    "duration": 11,
    "start_time": "2022-08-11T04:46:30.823Z"
   },
   {
    "duration": 8,
    "start_time": "2022-08-11T04:46:48.077Z"
   },
   {
    "duration": 5,
    "start_time": "2022-08-11T04:50:25.950Z"
   },
   {
    "duration": 11,
    "start_time": "2022-08-11T04:50:26.887Z"
   },
   {
    "duration": 4,
    "start_time": "2022-08-11T04:50:44.193Z"
   },
   {
    "duration": 9,
    "start_time": "2022-08-11T04:50:44.901Z"
   },
   {
    "duration": 4,
    "start_time": "2022-08-11T04:54:35.892Z"
   },
   {
    "duration": 4,
    "start_time": "2022-08-11T04:54:47.824Z"
   },
   {
    "duration": 4,
    "start_time": "2022-08-11T04:54:48.201Z"
   },
   {
    "duration": 10,
    "start_time": "2022-08-11T04:54:49.373Z"
   },
   {
    "duration": 4,
    "start_time": "2022-08-11T04:57:12.805Z"
   },
   {
    "duration": 1080,
    "start_time": "2022-08-11T04:57:13.819Z"
   },
   {
    "duration": 4,
    "start_time": "2022-08-11T04:58:24.558Z"
   },
   {
    "duration": 1009,
    "start_time": "2022-08-11T04:58:25.269Z"
   },
   {
    "duration": 5,
    "start_time": "2022-08-11T04:59:09.983Z"
   },
   {
    "duration": 995,
    "start_time": "2022-08-11T04:59:10.447Z"
   },
   {
    "duration": 4,
    "start_time": "2022-08-11T05:00:31.286Z"
   },
   {
    "duration": 1001,
    "start_time": "2022-08-11T05:00:31.974Z"
   },
   {
    "duration": 1079,
    "start_time": "2022-08-11T05:00:34.272Z"
   },
   {
    "duration": 1005,
    "start_time": "2022-08-11T05:00:35.353Z"
   },
   {
    "duration": 75,
    "start_time": "2022-08-11T05:09:33.224Z"
   },
   {
    "duration": 46,
    "start_time": "2022-08-11T05:13:21.153Z"
   },
   {
    "duration": 67,
    "start_time": "2022-08-11T05:14:15.360Z"
   },
   {
    "duration": 100,
    "start_time": "2022-08-11T05:16:34.209Z"
   },
   {
    "duration": 1080,
    "start_time": "2022-08-11T05:16:56.063Z"
   },
   {
    "duration": 358,
    "start_time": "2022-08-11T05:16:57.145Z"
   },
   {
    "duration": 340,
    "start_time": "2022-08-11T05:16:57.505Z"
   },
   {
    "duration": 3,
    "start_time": "2022-08-11T05:16:57.847Z"
   },
   {
    "duration": 6,
    "start_time": "2022-08-11T05:16:57.851Z"
   },
   {
    "duration": 46,
    "start_time": "2022-08-11T05:16:57.859Z"
   },
   {
    "duration": 202,
    "start_time": "2022-08-11T05:16:57.906Z"
   },
   {
    "duration": 204,
    "start_time": "2022-08-11T05:16:58.110Z"
   },
   {
    "duration": 82,
    "start_time": "2022-08-11T05:16:58.315Z"
   },
   {
    "duration": 10,
    "start_time": "2022-08-11T05:16:58.400Z"
   },
   {
    "duration": 93,
    "start_time": "2022-08-11T05:16:58.412Z"
   },
   {
    "duration": 4,
    "start_time": "2022-08-11T05:16:58.507Z"
   },
   {
    "duration": 4,
    "start_time": "2022-08-11T05:16:58.513Z"
   },
   {
    "duration": 12,
    "start_time": "2022-08-11T05:16:58.518Z"
   },
   {
    "duration": 4,
    "start_time": "2022-08-11T05:16:58.532Z"
   },
   {
    "duration": 4,
    "start_time": "2022-08-11T05:16:58.538Z"
   },
   {
    "duration": 1062,
    "start_time": "2022-08-11T05:16:58.543Z"
   },
   {
    "duration": 1028,
    "start_time": "2022-08-11T05:16:59.606Z"
   },
   {
    "duration": 990,
    "start_time": "2022-08-11T05:17:00.636Z"
   }
  ],
  "kernelspec": {
   "display_name": "Python 3 (ipykernel)",
   "language": "python",
   "name": "python3"
  },
  "language_info": {
   "codemirror_mode": {
    "name": "ipython",
    "version": 3
   },
   "file_extension": ".py",
   "mimetype": "text/x-python",
   "name": "python",
   "nbconvert_exporter": "python",
   "pygments_lexer": "ipython3",
   "version": "3.9.12"
  },
  "toc": {
   "base_numbering": 1,
   "nav_menu": {},
   "number_sections": true,
   "sideBar": true,
   "skip_h1_title": true,
   "title_cell": "Table of Contents",
   "title_sidebar": "Contents",
   "toc_cell": false,
   "toc_position": {},
   "toc_section_display": true,
   "toc_window_display": false
  }
 },
 "nbformat": 4,
 "nbformat_minor": 2
}

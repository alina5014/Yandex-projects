{
 "cells": [
  {
   "cell_type": "markdown",
   "metadata": {},
   "source": [
    "# The research of the potentially popular product "
   ]
  },
  {
   "cell_type": "markdown",
   "metadata": {},
   "source": [
    "`Strimchik` is an online store, which sells computer games around the world. We are provided with the data of game sales date, user and expert ratings, genres and platforms (such as Xbox or PlayStation).\n",
    "\n",
    "It is necessary to identify patterns that determine the success of the game. This will allow us to bid on a potentially popular product and plan advertising campaigns.\n",
    "\n",
    "We have data up to 2016. Let's say it's December 2016 and we're planning a campaign for 2017. It is necessary to work out the principle of working with data.\n",
    "\n",
    "The abbreviation ESRB (Entertainment Software Rating Board) comes across in the data set - this is an association that determines the age rating of computer games. The ESRB evaluates game content and assigns it to an appropriate age rating, such as Mature, Toddler, or Teen.\n",
    "\n",
    "The aim of the research is to test two hypotheses.\n",
    "\n",
    "- The average user ratings of the Xbox One and PC platforms are the same;\n",
    "- The average user ratings of the genres Action and Sports are different.\n",
    "\n",
    "The research will take place in four stages:\n",
    "\n",
    "- Data overview\n",
    "- Data preprocessing\n",
    "- Exploratory data analysis\n",
    "- Statistical data analysis. Hypothesis examination.\n"
   ]
  },
  {
   "cell_type": "markdown",
   "metadata": {},
   "source": [
    "## Data overview"
   ]
  },
  {
   "cell_type": "code",
   "execution_count": 6,
   "metadata": {},
   "outputs": [],
   "source": [
    "import pandas as pd\n",
    "import numpy as np\n",
    "from scipy import stats as st\n",
    "import matplotlib.pyplot as plt\n",
    "import seaborn as sns\n",
    "import math"
   ]
  },
  {
   "cell_type": "code",
   "execution_count": 7,
   "metadata": {},
   "outputs": [],
   "source": [
    "try:\n",
    "    df = pd.read_csv('/datasets/games.csv')\n",
    "except:\n",
    "    df = pd.read_csv('games.csv')"
   ]
  },
  {
   "cell_type": "code",
   "execution_count": 8,
   "metadata": {},
   "outputs": [
    {
     "name": "stdout",
     "output_type": "stream",
     "text": [
      "<class 'pandas.core.frame.DataFrame'>\n",
      "RangeIndex: 16715 entries, 0 to 16714\n",
      "Data columns (total 11 columns):\n",
      " #   Column           Non-Null Count  Dtype  \n",
      "---  ------           --------------  -----  \n",
      " 0   Name             16713 non-null  object \n",
      " 1   Platform         16715 non-null  object \n",
      " 2   Year_of_Release  16446 non-null  float64\n",
      " 3   Genre            16713 non-null  object \n",
      " 4   NA_sales         16715 non-null  float64\n",
      " 5   EU_sales         16715 non-null  float64\n",
      " 6   JP_sales         16715 non-null  float64\n",
      " 7   Other_sales      16715 non-null  float64\n",
      " 8   Critic_Score     8137 non-null   float64\n",
      " 9   User_Score       10014 non-null  object \n",
      " 10  Rating           9949 non-null   object \n",
      "dtypes: float64(6), object(5)\n",
      "memory usage: 1.4+ MB\n"
     ]
    },
    {
     "data": {
      "text/plain": [
       "None"
      ]
     },
     "metadata": {},
     "output_type": "display_data"
    },
    {
     "name": "stdout",
     "output_type": "stream",
     "text": [
      "====================================================================================================\n"
     ]
    },
    {
     "data": {
      "text/html": [
       "<div>\n",
       "<style scoped>\n",
       "    .dataframe tbody tr th:only-of-type {\n",
       "        vertical-align: middle;\n",
       "    }\n",
       "\n",
       "    .dataframe tbody tr th {\n",
       "        vertical-align: top;\n",
       "    }\n",
       "\n",
       "    .dataframe thead th {\n",
       "        text-align: right;\n",
       "    }\n",
       "</style>\n",
       "<table border=\"1\" class=\"dataframe\">\n",
       "  <thead>\n",
       "    <tr style=\"text-align: right;\">\n",
       "      <th></th>\n",
       "      <th>Year_of_Release</th>\n",
       "      <th>NA_sales</th>\n",
       "      <th>EU_sales</th>\n",
       "      <th>JP_sales</th>\n",
       "      <th>Other_sales</th>\n",
       "      <th>Critic_Score</th>\n",
       "    </tr>\n",
       "  </thead>\n",
       "  <tbody>\n",
       "    <tr>\n",
       "      <th>count</th>\n",
       "      <td>16446.000000</td>\n",
       "      <td>16715.000000</td>\n",
       "      <td>16715.000000</td>\n",
       "      <td>16715.000000</td>\n",
       "      <td>16715.000000</td>\n",
       "      <td>8137.000000</td>\n",
       "    </tr>\n",
       "    <tr>\n",
       "      <th>mean</th>\n",
       "      <td>2006.484616</td>\n",
       "      <td>0.263377</td>\n",
       "      <td>0.145060</td>\n",
       "      <td>0.077617</td>\n",
       "      <td>0.047342</td>\n",
       "      <td>68.967679</td>\n",
       "    </tr>\n",
       "    <tr>\n",
       "      <th>std</th>\n",
       "      <td>5.877050</td>\n",
       "      <td>0.813604</td>\n",
       "      <td>0.503339</td>\n",
       "      <td>0.308853</td>\n",
       "      <td>0.186731</td>\n",
       "      <td>13.938165</td>\n",
       "    </tr>\n",
       "    <tr>\n",
       "      <th>min</th>\n",
       "      <td>1980.000000</td>\n",
       "      <td>0.000000</td>\n",
       "      <td>0.000000</td>\n",
       "      <td>0.000000</td>\n",
       "      <td>0.000000</td>\n",
       "      <td>13.000000</td>\n",
       "    </tr>\n",
       "    <tr>\n",
       "      <th>25%</th>\n",
       "      <td>2003.000000</td>\n",
       "      <td>0.000000</td>\n",
       "      <td>0.000000</td>\n",
       "      <td>0.000000</td>\n",
       "      <td>0.000000</td>\n",
       "      <td>60.000000</td>\n",
       "    </tr>\n",
       "    <tr>\n",
       "      <th>50%</th>\n",
       "      <td>2007.000000</td>\n",
       "      <td>0.080000</td>\n",
       "      <td>0.020000</td>\n",
       "      <td>0.000000</td>\n",
       "      <td>0.010000</td>\n",
       "      <td>71.000000</td>\n",
       "    </tr>\n",
       "    <tr>\n",
       "      <th>75%</th>\n",
       "      <td>2010.000000</td>\n",
       "      <td>0.240000</td>\n",
       "      <td>0.110000</td>\n",
       "      <td>0.040000</td>\n",
       "      <td>0.030000</td>\n",
       "      <td>79.000000</td>\n",
       "    </tr>\n",
       "    <tr>\n",
       "      <th>max</th>\n",
       "      <td>2016.000000</td>\n",
       "      <td>41.360000</td>\n",
       "      <td>28.960000</td>\n",
       "      <td>10.220000</td>\n",
       "      <td>10.570000</td>\n",
       "      <td>98.000000</td>\n",
       "    </tr>\n",
       "  </tbody>\n",
       "</table>\n",
       "</div>"
      ],
      "text/plain": [
       "       Year_of_Release      NA_sales      EU_sales      JP_sales  \\\n",
       "count     16446.000000  16715.000000  16715.000000  16715.000000   \n",
       "mean       2006.484616      0.263377      0.145060      0.077617   \n",
       "std           5.877050      0.813604      0.503339      0.308853   \n",
       "min        1980.000000      0.000000      0.000000      0.000000   \n",
       "25%        2003.000000      0.000000      0.000000      0.000000   \n",
       "50%        2007.000000      0.080000      0.020000      0.000000   \n",
       "75%        2010.000000      0.240000      0.110000      0.040000   \n",
       "max        2016.000000     41.360000     28.960000     10.220000   \n",
       "\n",
       "        Other_sales  Critic_Score  \n",
       "count  16715.000000   8137.000000  \n",
       "mean       0.047342     68.967679  \n",
       "std        0.186731     13.938165  \n",
       "min        0.000000     13.000000  \n",
       "25%        0.000000     60.000000  \n",
       "50%        0.010000     71.000000  \n",
       "75%        0.030000     79.000000  \n",
       "max       10.570000     98.000000  "
      ]
     },
     "metadata": {},
     "output_type": "display_data"
    },
    {
     "name": "stdout",
     "output_type": "stream",
     "text": [
      "====================================================================================================\n",
      "Number of null values: Name               0.000120\n",
      "Platform           0.000000\n",
      "Year_of_Release    0.016093\n",
      "Genre              0.000120\n",
      "NA_sales           0.000000\n",
      "EU_sales           0.000000\n",
      "JP_sales           0.000000\n",
      "Other_sales        0.000000\n",
      "Critic_Score       0.513192\n",
      "User_Score         0.400897\n",
      "Rating             0.404786\n",
      "dtype: float64\n",
      "====================================================================================================\n",
      "Number of duplicates: 0\n",
      "====================================================================================================\n"
     ]
    },
    {
     "data": {
      "text/html": [
       "<div>\n",
       "<style scoped>\n",
       "    .dataframe tbody tr th:only-of-type {\n",
       "        vertical-align: middle;\n",
       "    }\n",
       "\n",
       "    .dataframe tbody tr th {\n",
       "        vertical-align: top;\n",
       "    }\n",
       "\n",
       "    .dataframe thead th {\n",
       "        text-align: right;\n",
       "    }\n",
       "</style>\n",
       "<table border=\"1\" class=\"dataframe\">\n",
       "  <thead>\n",
       "    <tr style=\"text-align: right;\">\n",
       "      <th></th>\n",
       "      <th>Name</th>\n",
       "      <th>Platform</th>\n",
       "      <th>Year_of_Release</th>\n",
       "      <th>Genre</th>\n",
       "      <th>NA_sales</th>\n",
       "      <th>EU_sales</th>\n",
       "      <th>JP_sales</th>\n",
       "      <th>Other_sales</th>\n",
       "      <th>Critic_Score</th>\n",
       "      <th>User_Score</th>\n",
       "      <th>Rating</th>\n",
       "    </tr>\n",
       "  </thead>\n",
       "  <tbody>\n",
       "    <tr>\n",
       "      <th>0</th>\n",
       "      <td>Wii Sports</td>\n",
       "      <td>Wii</td>\n",
       "      <td>2006.0</td>\n",
       "      <td>Sports</td>\n",
       "      <td>41.36</td>\n",
       "      <td>28.96</td>\n",
       "      <td>3.77</td>\n",
       "      <td>8.45</td>\n",
       "      <td>76.0</td>\n",
       "      <td>8</td>\n",
       "      <td>E</td>\n",
       "    </tr>\n",
       "    <tr>\n",
       "      <th>1</th>\n",
       "      <td>Super Mario Bros.</td>\n",
       "      <td>NES</td>\n",
       "      <td>1985.0</td>\n",
       "      <td>Platform</td>\n",
       "      <td>29.08</td>\n",
       "      <td>3.58</td>\n",
       "      <td>6.81</td>\n",
       "      <td>0.77</td>\n",
       "      <td>NaN</td>\n",
       "      <td>NaN</td>\n",
       "      <td>NaN</td>\n",
       "    </tr>\n",
       "    <tr>\n",
       "      <th>2</th>\n",
       "      <td>Mario Kart Wii</td>\n",
       "      <td>Wii</td>\n",
       "      <td>2008.0</td>\n",
       "      <td>Racing</td>\n",
       "      <td>15.68</td>\n",
       "      <td>12.76</td>\n",
       "      <td>3.79</td>\n",
       "      <td>3.29</td>\n",
       "      <td>82.0</td>\n",
       "      <td>8.3</td>\n",
       "      <td>E</td>\n",
       "    </tr>\n",
       "    <tr>\n",
       "      <th>3</th>\n",
       "      <td>Wii Sports Resort</td>\n",
       "      <td>Wii</td>\n",
       "      <td>2009.0</td>\n",
       "      <td>Sports</td>\n",
       "      <td>15.61</td>\n",
       "      <td>10.93</td>\n",
       "      <td>3.28</td>\n",
       "      <td>2.95</td>\n",
       "      <td>80.0</td>\n",
       "      <td>8</td>\n",
       "      <td>E</td>\n",
       "    </tr>\n",
       "    <tr>\n",
       "      <th>4</th>\n",
       "      <td>Pokemon Red/Pokemon Blue</td>\n",
       "      <td>GB</td>\n",
       "      <td>1996.0</td>\n",
       "      <td>Role-Playing</td>\n",
       "      <td>11.27</td>\n",
       "      <td>8.89</td>\n",
       "      <td>10.22</td>\n",
       "      <td>1.00</td>\n",
       "      <td>NaN</td>\n",
       "      <td>NaN</td>\n",
       "      <td>NaN</td>\n",
       "    </tr>\n",
       "  </tbody>\n",
       "</table>\n",
       "</div>"
      ],
      "text/plain": [
       "                       Name Platform  Year_of_Release         Genre  NA_sales  \\\n",
       "0                Wii Sports      Wii           2006.0        Sports     41.36   \n",
       "1         Super Mario Bros.      NES           1985.0      Platform     29.08   \n",
       "2            Mario Kart Wii      Wii           2008.0        Racing     15.68   \n",
       "3         Wii Sports Resort      Wii           2009.0        Sports     15.61   \n",
       "4  Pokemon Red/Pokemon Blue       GB           1996.0  Role-Playing     11.27   \n",
       "\n",
       "   EU_sales  JP_sales  Other_sales  Critic_Score User_Score Rating  \n",
       "0     28.96      3.77         8.45          76.0          8      E  \n",
       "1      3.58      6.81         0.77           NaN        NaN    NaN  \n",
       "2     12.76      3.79         3.29          82.0        8.3      E  \n",
       "3     10.93      3.28         2.95          80.0          8      E  \n",
       "4      8.89     10.22         1.00           NaN        NaN    NaN  "
      ]
     },
     "metadata": {},
     "output_type": "display_data"
    },
    {
     "data": {
      "text/plain": [
       "None"
      ]
     },
     "metadata": {},
     "output_type": "display_data"
    }
   ],
   "source": [
    "def info(df):\n",
    "    display(df.info())\n",
    "    print(100*'=')\n",
    "    display(df.describe())\n",
    "    print(100*'=')\n",
    "    print(f'Number of null values: {df.isna().mean()}')\n",
    "    print(100*'=')\n",
    "    print(f'Number of duplicates: {df.duplicated().sum()}')\n",
    "    print(100*'=')\n",
    "    display(df.head())\n",
    "display(info(df))     "
   ]
  },
  {
   "cell_type": "markdown",
   "metadata": {},
   "source": [
    "**Conclusion**\n",
    "\n",
    "Based on the data in the table, we can conclude that before analysis, it is necessary to perform preprocessing.\n",
    "\n",
    "The data types in the columns are `int`, `object`, `float`.\n",
    "\n",
    "According to the data documentation:\n",
    "\n",
    "`Name` is the name of the game\n",
    "\n",
    "`Platform` — platform\n",
    "\n",
    "`Year_of_Release` is the year of release\n",
    "\n",
    "`Genre` — game genre\n",
    "\n",
    "`NA_sales` - sales in North America (millions of copies sold)\n",
    "\n",
    "`EU_sales` - sales in Europe (millions of copies sold)\n",
    "\n",
    "`JP_sales` - sales in Japan (millions of copies sold)\n",
    "\n",
    "`Other_sales` - sales in other countries (millions of copies sold)\n",
    "\n",
    "`Critic_Score` - critical score (maximum 100)\n",
    "\n",
    "`User_Score` - user score (maximum 10)\n",
    "\n",
    "`Rating` - rating from the ESRB organization (Eng. Entertainment Software Rating Board). This association determines the rating of computer games and assigns them an appropriate age category.\n",
    "\n",
    "Data for 2016 may not be complete.\n",
    "\n",
    "- It is necessary to change the data type in the following columns `Year_of_Release`, `User_Score`.\n",
    "- There are missing values in the data, it should be examined and replaced if necessary.\n",
    "- It is necessary to replace column names (bring to lower case)"
   ]
  },
  {
   "cell_type": "markdown",
   "metadata": {},
   "source": [
    "## Data preprocessing"
   ]
  },
  {
   "cell_type": "code",
   "execution_count": 9,
   "metadata": {
    "scrolled": true
   },
   "outputs": [
    {
     "data": {
      "text/plain": [
       "Index(['Name', 'Platform', 'Year_of_Release', 'Genre', 'NA_sales', 'EU_sales',\n",
       "       'JP_sales', 'Other_sales', 'Critic_Score', 'User_Score', 'Rating'],\n",
       "      dtype='object')"
      ]
     },
     "execution_count": 9,
     "metadata": {},
     "output_type": "execute_result"
    }
   ],
   "source": [
    "df.columns"
   ]
  },
  {
   "cell_type": "code",
   "execution_count": 10,
   "metadata": {},
   "outputs": [],
   "source": [
    "df.columns = [c.lower() for c in df.columns]"
   ]
  },
  {
   "cell_type": "code",
   "execution_count": 13,
   "metadata": {},
   "outputs": [
    {
     "data": {
      "text/html": [
       "<div>\n",
       "<style scoped>\n",
       "    .dataframe tbody tr th:only-of-type {\n",
       "        vertical-align: middle;\n",
       "    }\n",
       "\n",
       "    .dataframe tbody tr th {\n",
       "        vertical-align: top;\n",
       "    }\n",
       "\n",
       "    .dataframe thead th {\n",
       "        text-align: right;\n",
       "    }\n",
       "</style>\n",
       "<table border=\"1\" class=\"dataframe\">\n",
       "  <thead>\n",
       "    <tr style=\"text-align: right;\">\n",
       "      <th></th>\n",
       "      <th>name</th>\n",
       "      <th>platform</th>\n",
       "      <th>year_of_release</th>\n",
       "      <th>genre</th>\n",
       "      <th>na_sales</th>\n",
       "      <th>eu_sales</th>\n",
       "      <th>jp_sales</th>\n",
       "      <th>other_sales</th>\n",
       "      <th>critic_score</th>\n",
       "      <th>user_score</th>\n",
       "      <th>rating</th>\n",
       "    </tr>\n",
       "  </thead>\n",
       "  <tbody>\n",
       "    <tr>\n",
       "      <th>0</th>\n",
       "      <td>Wii Sports</td>\n",
       "      <td>Wii</td>\n",
       "      <td>2006.0</td>\n",
       "      <td>Sports</td>\n",
       "      <td>41.36</td>\n",
       "      <td>28.96</td>\n",
       "      <td>3.77</td>\n",
       "      <td>8.45</td>\n",
       "      <td>76.0</td>\n",
       "      <td>8</td>\n",
       "      <td>E</td>\n",
       "    </tr>\n",
       "    <tr>\n",
       "      <th>1</th>\n",
       "      <td>Super Mario Bros.</td>\n",
       "      <td>NES</td>\n",
       "      <td>1985.0</td>\n",
       "      <td>Platform</td>\n",
       "      <td>29.08</td>\n",
       "      <td>3.58</td>\n",
       "      <td>6.81</td>\n",
       "      <td>0.77</td>\n",
       "      <td>NaN</td>\n",
       "      <td>NaN</td>\n",
       "      <td>NaN</td>\n",
       "    </tr>\n",
       "    <tr>\n",
       "      <th>2</th>\n",
       "      <td>Mario Kart Wii</td>\n",
       "      <td>Wii</td>\n",
       "      <td>2008.0</td>\n",
       "      <td>Racing</td>\n",
       "      <td>15.68</td>\n",
       "      <td>12.76</td>\n",
       "      <td>3.79</td>\n",
       "      <td>3.29</td>\n",
       "      <td>82.0</td>\n",
       "      <td>8.3</td>\n",
       "      <td>E</td>\n",
       "    </tr>\n",
       "    <tr>\n",
       "      <th>3</th>\n",
       "      <td>Wii Sports Resort</td>\n",
       "      <td>Wii</td>\n",
       "      <td>2009.0</td>\n",
       "      <td>Sports</td>\n",
       "      <td>15.61</td>\n",
       "      <td>10.93</td>\n",
       "      <td>3.28</td>\n",
       "      <td>2.95</td>\n",
       "      <td>80.0</td>\n",
       "      <td>8</td>\n",
       "      <td>E</td>\n",
       "    </tr>\n",
       "    <tr>\n",
       "      <th>4</th>\n",
       "      <td>Pokemon Red/Pokemon Blue</td>\n",
       "      <td>GB</td>\n",
       "      <td>1996.0</td>\n",
       "      <td>Role-Playing</td>\n",
       "      <td>11.27</td>\n",
       "      <td>8.89</td>\n",
       "      <td>10.22</td>\n",
       "      <td>1.00</td>\n",
       "      <td>NaN</td>\n",
       "      <td>NaN</td>\n",
       "      <td>NaN</td>\n",
       "    </tr>\n",
       "  </tbody>\n",
       "</table>\n",
       "</div>"
      ],
      "text/plain": [
       "                       name platform  year_of_release         genre  na_sales  \\\n",
       "0                Wii Sports      Wii           2006.0        Sports     41.36   \n",
       "1         Super Mario Bros.      NES           1985.0      Platform     29.08   \n",
       "2            Mario Kart Wii      Wii           2008.0        Racing     15.68   \n",
       "3         Wii Sports Resort      Wii           2009.0        Sports     15.61   \n",
       "4  Pokemon Red/Pokemon Blue       GB           1996.0  Role-Playing     11.27   \n",
       "\n",
       "   eu_sales  jp_sales  other_sales  critic_score user_score rating  \n",
       "0     28.96      3.77         8.45          76.0          8      E  \n",
       "1      3.58      6.81         0.77           NaN        NaN    NaN  \n",
       "2     12.76      3.79         3.29          82.0        8.3      E  \n",
       "3     10.93      3.28         2.95          80.0          8      E  \n",
       "4      8.89     10.22         1.00           NaN        NaN    NaN  "
      ]
     },
     "execution_count": 13,
     "metadata": {},
     "output_type": "execute_result"
    }
   ],
   "source": [
    "df.head()"
   ]
  },
  {
   "cell_type": "code",
   "execution_count": 14,
   "metadata": {},
   "outputs": [
    {
     "data": {
      "text/plain": [
       "array(['2600', '3DO', '3DS', 'DC', 'DS', 'GB', 'GBA', 'GC', 'GEN', 'GG',\n",
       "       'N64', 'NES', 'NG', 'PC', 'PCFX', 'PS', 'PS2', 'PS3', 'PS4', 'PSP',\n",
       "       'PSV', 'SAT', 'SCD', 'SNES', 'TG16', 'WS', 'Wii', 'WiiU', 'X360',\n",
       "       'XB', 'XOne'], dtype=object)"
      ]
     },
     "execution_count": 14,
     "metadata": {},
     "output_type": "execute_result"
    }
   ],
   "source": [
    "df['platform'].sort_values().unique()"
   ]
  },
  {
   "cell_type": "code",
   "execution_count": 15,
   "metadata": {},
   "outputs": [
    {
     "data": {
      "text/plain": [
       "array([1980., 1981., 1982., 1983., 1984., 1985., 1986., 1987., 1988.,\n",
       "       1989., 1990., 1991., 1992., 1993., 1994., 1995., 1996., 1997.,\n",
       "       1998., 1999., 2000., 2001., 2002., 2003., 2004., 2005., 2006.,\n",
       "       2007., 2008., 2009., 2010., 2011., 2012., 2013., 2014., 2015.,\n",
       "       2016.,   nan])"
      ]
     },
     "execution_count": 15,
     "metadata": {},
     "output_type": "execute_result"
    }
   ],
   "source": [
    "df['year_of_release'].sort_values().unique()"
   ]
  },
  {
   "cell_type": "code",
   "execution_count": 16,
   "metadata": {},
   "outputs": [],
   "source": [
    "df.dropna(subset=['year_of_release', 'name', 'genre'], inplace=True)"
   ]
  },
  {
   "cell_type": "markdown",
   "metadata": {},
   "source": [
    "Nan values should be dropped in the columns `year_of_release`, `name`, `genre`, because missing values are less than 10%."
   ]
  },
  {
   "cell_type": "code",
   "execution_count": 17,
   "metadata": {},
   "outputs": [
    {
     "data": {
      "text/plain": [
       "array(['Action', 'Adventure', 'Fighting', 'Misc', 'Platform', 'Puzzle',\n",
       "       'Racing', 'Role-Playing', 'Shooter', 'Simulation', 'Sports',\n",
       "       'Strategy'], dtype=object)"
      ]
     },
     "execution_count": 17,
     "metadata": {},
     "output_type": "execute_result"
    }
   ],
   "source": [
    "df['genre'].sort_values().unique()"
   ]
  },
  {
   "cell_type": "code",
   "execution_count": 18,
   "metadata": {},
   "outputs": [
    {
     "data": {
      "text/plain": [
       "array(['AO', 'E', 'E10+', 'EC', 'K-A', 'M', 'RP', 'T', nan], dtype=object)"
      ]
     },
     "execution_count": 18,
     "metadata": {},
     "output_type": "execute_result"
    }
   ],
   "source": [
    "df['rating'].sort_values().unique()"
   ]
  },
  {
   "cell_type": "code",
   "execution_count": 19,
   "metadata": {},
   "outputs": [
    {
     "data": {
      "text/plain": [
       "array(['2600', '3DO', '3DS', 'DC', 'DS', 'GB', 'GBA', 'GC', 'GEN', 'GG',\n",
       "       'N64', 'NES', 'NG', 'PC', 'PCFX', 'PS', 'PS2', 'PS3', 'PS4', 'PSP',\n",
       "       'PSV', 'SAT', 'SCD', 'SNES', 'TG16', 'WS', 'Wii', 'WiiU', 'X360',\n",
       "       'XB', 'XOne'], dtype=object)"
      ]
     },
     "execution_count": 19,
     "metadata": {},
     "output_type": "execute_result"
    }
   ],
   "source": [
    "df['platform'].sort_values().unique()"
   ]
  },
  {
   "cell_type": "code",
   "execution_count": 20,
   "metadata": {},
   "outputs": [],
   "source": [
    "df.loc[df['user_score'] =='tbd','user_score'] = np.nan"
   ]
  },
  {
   "cell_type": "markdown",
   "metadata": {},
   "source": [
    "The value `tbd` means `to be discussed`, thus we can replace it with Nan."
   ]
  },
  {
   "cell_type": "code",
   "execution_count": 21,
   "metadata": {},
   "outputs": [],
   "source": [
    "df['user_score'] = df['user_score'].astype(float)"
   ]
  },
  {
   "cell_type": "code",
   "execution_count": 22,
   "metadata": {},
   "outputs": [],
   "source": [
    "df['year_of_release'] = df['year_of_release'].astype(int)"
   ]
  },
  {
   "cell_type": "code",
   "execution_count": 23,
   "metadata": {},
   "outputs": [
    {
     "data": {
      "text/plain": [
       "7.8    322\n",
       "8.0    285\n",
       "8.2    276\n",
       "8.3    252\n",
       "7.5    249\n",
       "      ... \n",
       "1.5      2\n",
       "0.3      2\n",
       "1.1      2\n",
       "0.0      1\n",
       "9.7      1\n",
       "Name: user_score, Length: 95, dtype: int64"
      ]
     },
     "execution_count": 23,
     "metadata": {},
     "output_type": "execute_result"
    }
   ],
   "source": [
    "df['user_score'].value_counts()"
   ]
  },
  {
   "cell_type": "code",
   "execution_count": 24,
   "metadata": {},
   "outputs": [
    {
     "data": {
      "text/plain": [
       "name               0.000000\n",
       "platform           0.000000\n",
       "year_of_release    0.000000\n",
       "genre              0.000000\n",
       "na_sales           0.000000\n",
       "eu_sales           0.000000\n",
       "jp_sales           0.000000\n",
       "other_sales        0.000000\n",
       "critic_score       0.514534\n",
       "user_score         0.546157\n",
       "rating             0.405984\n",
       "dtype: float64"
      ]
     },
     "execution_count": 24,
     "metadata": {},
     "output_type": "execute_result"
    }
   ],
   "source": [
    "df.isna().mean()"
   ]
  },
  {
   "cell_type": "code",
   "execution_count": 25,
   "metadata": {},
   "outputs": [
    {
     "data": {
      "text/html": [
       "<div>\n",
       "<style scoped>\n",
       "    .dataframe tbody tr th:only-of-type {\n",
       "        vertical-align: middle;\n",
       "    }\n",
       "\n",
       "    .dataframe tbody tr th {\n",
       "        vertical-align: top;\n",
       "    }\n",
       "\n",
       "    .dataframe thead th {\n",
       "        text-align: right;\n",
       "    }\n",
       "</style>\n",
       "<table border=\"1\" class=\"dataframe\">\n",
       "  <thead>\n",
       "    <tr style=\"text-align: right;\">\n",
       "      <th></th>\n",
       "      <th>name</th>\n",
       "      <th>platform</th>\n",
       "      <th>year_of_release</th>\n",
       "      <th>genre</th>\n",
       "      <th>na_sales</th>\n",
       "      <th>eu_sales</th>\n",
       "      <th>jp_sales</th>\n",
       "      <th>other_sales</th>\n",
       "      <th>critic_score</th>\n",
       "      <th>user_score</th>\n",
       "      <th>rating</th>\n",
       "    </tr>\n",
       "  </thead>\n",
       "  <tbody>\n",
       "    <tr>\n",
       "      <th>0</th>\n",
       "      <td>Wii Sports</td>\n",
       "      <td>Wii</td>\n",
       "      <td>2006</td>\n",
       "      <td>Sports</td>\n",
       "      <td>41.36</td>\n",
       "      <td>28.96</td>\n",
       "      <td>3.77</td>\n",
       "      <td>8.45</td>\n",
       "      <td>76.0</td>\n",
       "      <td>8.0</td>\n",
       "      <td>E</td>\n",
       "    </tr>\n",
       "    <tr>\n",
       "      <th>1</th>\n",
       "      <td>Super Mario Bros.</td>\n",
       "      <td>NES</td>\n",
       "      <td>1985</td>\n",
       "      <td>Platform</td>\n",
       "      <td>29.08</td>\n",
       "      <td>3.58</td>\n",
       "      <td>6.81</td>\n",
       "      <td>0.77</td>\n",
       "      <td>NaN</td>\n",
       "      <td>NaN</td>\n",
       "      <td>NaN</td>\n",
       "    </tr>\n",
       "    <tr>\n",
       "      <th>2</th>\n",
       "      <td>Mario Kart Wii</td>\n",
       "      <td>Wii</td>\n",
       "      <td>2008</td>\n",
       "      <td>Racing</td>\n",
       "      <td>15.68</td>\n",
       "      <td>12.76</td>\n",
       "      <td>3.79</td>\n",
       "      <td>3.29</td>\n",
       "      <td>82.0</td>\n",
       "      <td>8.3</td>\n",
       "      <td>E</td>\n",
       "    </tr>\n",
       "    <tr>\n",
       "      <th>3</th>\n",
       "      <td>Wii Sports Resort</td>\n",
       "      <td>Wii</td>\n",
       "      <td>2009</td>\n",
       "      <td>Sports</td>\n",
       "      <td>15.61</td>\n",
       "      <td>10.93</td>\n",
       "      <td>3.28</td>\n",
       "      <td>2.95</td>\n",
       "      <td>80.0</td>\n",
       "      <td>8.0</td>\n",
       "      <td>E</td>\n",
       "    </tr>\n",
       "    <tr>\n",
       "      <th>4</th>\n",
       "      <td>Pokemon Red/Pokemon Blue</td>\n",
       "      <td>GB</td>\n",
       "      <td>1996</td>\n",
       "      <td>Role-Playing</td>\n",
       "      <td>11.27</td>\n",
       "      <td>8.89</td>\n",
       "      <td>10.22</td>\n",
       "      <td>1.00</td>\n",
       "      <td>NaN</td>\n",
       "      <td>NaN</td>\n",
       "      <td>NaN</td>\n",
       "    </tr>\n",
       "  </tbody>\n",
       "</table>\n",
       "</div>"
      ],
      "text/plain": [
       "                       name platform  year_of_release         genre  na_sales  \\\n",
       "0                Wii Sports      Wii             2006        Sports     41.36   \n",
       "1         Super Mario Bros.      NES             1985      Platform     29.08   \n",
       "2            Mario Kart Wii      Wii             2008        Racing     15.68   \n",
       "3         Wii Sports Resort      Wii             2009        Sports     15.61   \n",
       "4  Pokemon Red/Pokemon Blue       GB             1996  Role-Playing     11.27   \n",
       "\n",
       "   eu_sales  jp_sales  other_sales  critic_score  user_score rating  \n",
       "0     28.96      3.77         8.45          76.0         8.0      E  \n",
       "1      3.58      6.81         0.77           NaN         NaN    NaN  \n",
       "2     12.76      3.79         3.29          82.0         8.3      E  \n",
       "3     10.93      3.28         2.95          80.0         8.0      E  \n",
       "4      8.89     10.22         1.00           NaN         NaN    NaN  "
      ]
     },
     "execution_count": 25,
     "metadata": {},
     "output_type": "execute_result"
    }
   ],
   "source": [
    "df.head()"
   ]
  },
  {
   "cell_type": "markdown",
   "metadata": {},
   "source": [
    "**Conclusion**\n",
    "\n",
    "During preprocessing, the following operations were performed.\n",
    "\n",
    "- The names of the columns were brought to the lower register.\n",
    "- The data type in years was changed to `int`, and `user_score` to ``float`.\n",
    "- Rows with missing values in columns `year_of_release`, `name`, `genre` were dropped off, since the percentage of missing values is small.\n",
    "- The `tbd` values in `user_score` were changed to Nan, since `tbd` indicates that the score information was not originally stated."
   ]
  },
  {
   "cell_type": "markdown",
   "metadata": {},
   "source": [
    "## Exploratory data analysis"
   ]
  },
  {
   "cell_type": "markdown",
   "metadata": {},
   "source": [
    "### Total sales in all regions"
   ]
  },
  {
   "cell_type": "code",
   "execution_count": 26,
   "metadata": {},
   "outputs": [],
   "source": [
    "df['total_sales'] = df[['na_sales', 'eu_sales', 'jp_sales', 'other_sales']].sum(axis = 1)"
   ]
  },
  {
   "cell_type": "code",
   "execution_count": 27,
   "metadata": {},
   "outputs": [
    {
     "data": {
      "text/html": [
       "<div>\n",
       "<style scoped>\n",
       "    .dataframe tbody tr th:only-of-type {\n",
       "        vertical-align: middle;\n",
       "    }\n",
       "\n",
       "    .dataframe tbody tr th {\n",
       "        vertical-align: top;\n",
       "    }\n",
       "\n",
       "    .dataframe thead th {\n",
       "        text-align: right;\n",
       "    }\n",
       "</style>\n",
       "<table border=\"1\" class=\"dataframe\">\n",
       "  <thead>\n",
       "    <tr style=\"text-align: right;\">\n",
       "      <th></th>\n",
       "      <th>name</th>\n",
       "      <th>platform</th>\n",
       "      <th>year_of_release</th>\n",
       "      <th>genre</th>\n",
       "      <th>na_sales</th>\n",
       "      <th>eu_sales</th>\n",
       "      <th>jp_sales</th>\n",
       "      <th>other_sales</th>\n",
       "      <th>critic_score</th>\n",
       "      <th>user_score</th>\n",
       "      <th>rating</th>\n",
       "      <th>total_sales</th>\n",
       "    </tr>\n",
       "  </thead>\n",
       "  <tbody>\n",
       "    <tr>\n",
       "      <th>0</th>\n",
       "      <td>Wii Sports</td>\n",
       "      <td>Wii</td>\n",
       "      <td>2006</td>\n",
       "      <td>Sports</td>\n",
       "      <td>41.36</td>\n",
       "      <td>28.96</td>\n",
       "      <td>3.77</td>\n",
       "      <td>8.45</td>\n",
       "      <td>76.0</td>\n",
       "      <td>8.0</td>\n",
       "      <td>E</td>\n",
       "      <td>82.54</td>\n",
       "    </tr>\n",
       "    <tr>\n",
       "      <th>1</th>\n",
       "      <td>Super Mario Bros.</td>\n",
       "      <td>NES</td>\n",
       "      <td>1985</td>\n",
       "      <td>Platform</td>\n",
       "      <td>29.08</td>\n",
       "      <td>3.58</td>\n",
       "      <td>6.81</td>\n",
       "      <td>0.77</td>\n",
       "      <td>NaN</td>\n",
       "      <td>NaN</td>\n",
       "      <td>NaN</td>\n",
       "      <td>40.24</td>\n",
       "    </tr>\n",
       "    <tr>\n",
       "      <th>2</th>\n",
       "      <td>Mario Kart Wii</td>\n",
       "      <td>Wii</td>\n",
       "      <td>2008</td>\n",
       "      <td>Racing</td>\n",
       "      <td>15.68</td>\n",
       "      <td>12.76</td>\n",
       "      <td>3.79</td>\n",
       "      <td>3.29</td>\n",
       "      <td>82.0</td>\n",
       "      <td>8.3</td>\n",
       "      <td>E</td>\n",
       "      <td>35.52</td>\n",
       "    </tr>\n",
       "    <tr>\n",
       "      <th>3</th>\n",
       "      <td>Wii Sports Resort</td>\n",
       "      <td>Wii</td>\n",
       "      <td>2009</td>\n",
       "      <td>Sports</td>\n",
       "      <td>15.61</td>\n",
       "      <td>10.93</td>\n",
       "      <td>3.28</td>\n",
       "      <td>2.95</td>\n",
       "      <td>80.0</td>\n",
       "      <td>8.0</td>\n",
       "      <td>E</td>\n",
       "      <td>32.77</td>\n",
       "    </tr>\n",
       "    <tr>\n",
       "      <th>4</th>\n",
       "      <td>Pokemon Red/Pokemon Blue</td>\n",
       "      <td>GB</td>\n",
       "      <td>1996</td>\n",
       "      <td>Role-Playing</td>\n",
       "      <td>11.27</td>\n",
       "      <td>8.89</td>\n",
       "      <td>10.22</td>\n",
       "      <td>1.00</td>\n",
       "      <td>NaN</td>\n",
       "      <td>NaN</td>\n",
       "      <td>NaN</td>\n",
       "      <td>31.38</td>\n",
       "    </tr>\n",
       "  </tbody>\n",
       "</table>\n",
       "</div>"
      ],
      "text/plain": [
       "                       name platform  year_of_release         genre  na_sales  \\\n",
       "0                Wii Sports      Wii             2006        Sports     41.36   \n",
       "1         Super Mario Bros.      NES             1985      Platform     29.08   \n",
       "2            Mario Kart Wii      Wii             2008        Racing     15.68   \n",
       "3         Wii Sports Resort      Wii             2009        Sports     15.61   \n",
       "4  Pokemon Red/Pokemon Blue       GB             1996  Role-Playing     11.27   \n",
       "\n",
       "   eu_sales  jp_sales  other_sales  critic_score  user_score rating  \\\n",
       "0     28.96      3.77         8.45          76.0         8.0      E   \n",
       "1      3.58      6.81         0.77           NaN         NaN    NaN   \n",
       "2     12.76      3.79         3.29          82.0         8.3      E   \n",
       "3     10.93      3.28         2.95          80.0         8.0      E   \n",
       "4      8.89     10.22         1.00           NaN         NaN    NaN   \n",
       "\n",
       "   total_sales  \n",
       "0        82.54  \n",
       "1        40.24  \n",
       "2        35.52  \n",
       "3        32.77  \n",
       "4        31.38  "
      ]
     },
     "execution_count": 27,
     "metadata": {},
     "output_type": "execute_result"
    }
   ],
   "source": [
    "df.head()"
   ]
  },
  {
   "cell_type": "markdown",
   "metadata": {},
   "source": [
    "### Studying the release of games and sales in different years"
   ]
  },
  {
   "cell_type": "code",
   "execution_count": 28,
   "metadata": {},
   "outputs": [
    {
     "data": {
      "text/plain": [
       "year_of_release\n",
       "1980       9\n",
       "1981      46\n",
       "1982      36\n",
       "1983      17\n",
       "1984      14\n",
       "1985      14\n",
       "1986      21\n",
       "1987      16\n",
       "1988      15\n",
       "1989      17\n",
       "1990      16\n",
       "1991      41\n",
       "1992      43\n",
       "1993      60\n",
       "1994     121\n",
       "1995     219\n",
       "1996     263\n",
       "1997     289\n",
       "1998     379\n",
       "1999     338\n",
       "2000     350\n",
       "2001     482\n",
       "2002     829\n",
       "2003     775\n",
       "2004     762\n",
       "2005     939\n",
       "2006    1006\n",
       "2007    1197\n",
       "2008    1427\n",
       "2009    1426\n",
       "2010    1255\n",
       "2011    1136\n",
       "2012     653\n",
       "2013     544\n",
       "2014     581\n",
       "2015     606\n",
       "2016     502\n",
       "Name: name, dtype: int64"
      ]
     },
     "execution_count": 28,
     "metadata": {},
     "output_type": "execute_result"
    }
   ],
   "source": [
    "df.groupby('year_of_release')['name'].count()"
   ]
  },
  {
   "cell_type": "code",
   "execution_count": 30,
   "metadata": {},
   "outputs": [
    {
     "data": {
      "image/png": "[encoded data removed]",
      "text/plain": [
       "<Figure size 576x576 with 1 Axes>"
      ]
     },
     "metadata": {
      "needs_background": "light"
     },
     "output_type": "display_data"
    }
   ],
   "source": [
    "plt.figure(figsize=(8,8))\n",
    "df.groupby('year_of_release')['name'].count().plot(colormap='cividis', grid=True)\n",
    "plt.title('Number of games by year')\n",
    "plt.xlabel('year of release')\n",
    "plt.ylabel('number of games')\n",
    "plt.show();"
   ]
  },
  {
   "cell_type": "code",
   "execution_count": 31,
   "metadata": {},
   "outputs": [
    {
     "data": {
      "text/html": [
       "<div>\n",
       "<style scoped>\n",
       "    .dataframe tbody tr th:only-of-type {\n",
       "        vertical-align: middle;\n",
       "    }\n",
       "\n",
       "    .dataframe tbody tr th {\n",
       "        vertical-align: top;\n",
       "    }\n",
       "\n",
       "    .dataframe thead th {\n",
       "        text-align: right;\n",
       "    }\n",
       "</style>\n",
       "<table border=\"1\" class=\"dataframe\">\n",
       "  <thead>\n",
       "    <tr style=\"text-align: right;\">\n",
       "      <th></th>\n",
       "      <th>count</th>\n",
       "      <th>mean</th>\n",
       "    </tr>\n",
       "    <tr>\n",
       "      <th>platform</th>\n",
       "      <th></th>\n",
       "      <th></th>\n",
       "    </tr>\n",
       "  </thead>\n",
       "  <tbody>\n",
       "    <tr>\n",
       "      <th>PS2</th>\n",
       "      <td>2127</td>\n",
       "      <td>0.579953</td>\n",
       "    </tr>\n",
       "    <tr>\n",
       "      <th>DS</th>\n",
       "      <td>2121</td>\n",
       "      <td>0.378491</td>\n",
       "    </tr>\n",
       "    <tr>\n",
       "      <th>PS3</th>\n",
       "      <td>1306</td>\n",
       "      <td>0.713124</td>\n",
       "    </tr>\n",
       "    <tr>\n",
       "      <th>Wii</th>\n",
       "      <td>1286</td>\n",
       "      <td>0.692986</td>\n",
       "    </tr>\n",
       "    <tr>\n",
       "      <th>X360</th>\n",
       "      <td>1232</td>\n",
       "      <td>0.780227</td>\n",
       "    </tr>\n",
       "    <tr>\n",
       "      <th>PSP</th>\n",
       "      <td>1193</td>\n",
       "      <td>0.242691</td>\n",
       "    </tr>\n",
       "    <tr>\n",
       "      <th>PS</th>\n",
       "      <td>1190</td>\n",
       "      <td>0.611412</td>\n",
       "    </tr>\n",
       "    <tr>\n",
       "      <th>PC</th>\n",
       "      <td>957</td>\n",
       "      <td>0.267252</td>\n",
       "    </tr>\n",
       "    <tr>\n",
       "      <th>GBA</th>\n",
       "      <td>811</td>\n",
       "      <td>0.385795</td>\n",
       "    </tr>\n",
       "    <tr>\n",
       "      <th>XB</th>\n",
       "      <td>803</td>\n",
       "      <td>0.313288</td>\n",
       "    </tr>\n",
       "    <tr>\n",
       "      <th>GC</th>\n",
       "      <td>542</td>\n",
       "      <td>0.362970</td>\n",
       "    </tr>\n",
       "    <tr>\n",
       "      <th>3DS</th>\n",
       "      <td>512</td>\n",
       "      <td>0.503535</td>\n",
       "    </tr>\n",
       "    <tr>\n",
       "      <th>PSV</th>\n",
       "      <td>429</td>\n",
       "      <td>0.125431</td>\n",
       "    </tr>\n",
       "    <tr>\n",
       "      <th>PS4</th>\n",
       "      <td>392</td>\n",
       "      <td>0.801378</td>\n",
       "    </tr>\n",
       "    <tr>\n",
       "      <th>N64</th>\n",
       "      <td>316</td>\n",
       "      <td>0.689905</td>\n",
       "    </tr>\n",
       "    <tr>\n",
       "      <th>XOne</th>\n",
       "      <td>247</td>\n",
       "      <td>0.645020</td>\n",
       "    </tr>\n",
       "    <tr>\n",
       "      <th>SNES</th>\n",
       "      <td>239</td>\n",
       "      <td>0.836987</td>\n",
       "    </tr>\n",
       "    <tr>\n",
       "      <th>SAT</th>\n",
       "      <td>173</td>\n",
       "      <td>0.194162</td>\n",
       "    </tr>\n",
       "    <tr>\n",
       "      <th>WiiU</th>\n",
       "      <td>147</td>\n",
       "      <td>0.559116</td>\n",
       "    </tr>\n",
       "    <tr>\n",
       "      <th>2600</th>\n",
       "      <td>116</td>\n",
       "      <td>0.745517</td>\n",
       "    </tr>\n",
       "    <tr>\n",
       "      <th>NES</th>\n",
       "      <td>98</td>\n",
       "      <td>2.561735</td>\n",
       "    </tr>\n",
       "    <tr>\n",
       "      <th>GB</th>\n",
       "      <td>97</td>\n",
       "      <td>2.622990</td>\n",
       "    </tr>\n",
       "    <tr>\n",
       "      <th>DC</th>\n",
       "      <td>52</td>\n",
       "      <td>0.306731</td>\n",
       "    </tr>\n",
       "    <tr>\n",
       "      <th>GEN</th>\n",
       "      <td>27</td>\n",
       "      <td>1.050000</td>\n",
       "    </tr>\n",
       "    <tr>\n",
       "      <th>NG</th>\n",
       "      <td>12</td>\n",
       "      <td>0.120000</td>\n",
       "    </tr>\n",
       "    <tr>\n",
       "      <th>SCD</th>\n",
       "      <td>6</td>\n",
       "      <td>0.310000</td>\n",
       "    </tr>\n",
       "    <tr>\n",
       "      <th>WS</th>\n",
       "      <td>6</td>\n",
       "      <td>0.236667</td>\n",
       "    </tr>\n",
       "    <tr>\n",
       "      <th>3DO</th>\n",
       "      <td>3</td>\n",
       "      <td>0.033333</td>\n",
       "    </tr>\n",
       "    <tr>\n",
       "      <th>TG16</th>\n",
       "      <td>2</td>\n",
       "      <td>0.080000</td>\n",
       "    </tr>\n",
       "    <tr>\n",
       "      <th>PCFX</th>\n",
       "      <td>1</td>\n",
       "      <td>0.030000</td>\n",
       "    </tr>\n",
       "    <tr>\n",
       "      <th>GG</th>\n",
       "      <td>1</td>\n",
       "      <td>0.040000</td>\n",
       "    </tr>\n",
       "  </tbody>\n",
       "</table>\n",
       "</div>"
      ],
      "text/plain": [
       "          count      mean\n",
       "platform                 \n",
       "PS2        2127  0.579953\n",
       "DS         2121  0.378491\n",
       "PS3        1306  0.713124\n",
       "Wii        1286  0.692986\n",
       "X360       1232  0.780227\n",
       "PSP        1193  0.242691\n",
       "PS         1190  0.611412\n",
       "PC          957  0.267252\n",
       "GBA         811  0.385795\n",
       "XB          803  0.313288\n",
       "GC          542  0.362970\n",
       "3DS         512  0.503535\n",
       "PSV         429  0.125431\n",
       "PS4         392  0.801378\n",
       "N64         316  0.689905\n",
       "XOne        247  0.645020\n",
       "SNES        239  0.836987\n",
       "SAT         173  0.194162\n",
       "WiiU        147  0.559116\n",
       "2600        116  0.745517\n",
       "NES          98  2.561735\n",
       "GB           97  2.622990\n",
       "DC           52  0.306731\n",
       "GEN          27  1.050000\n",
       "NG           12  0.120000\n",
       "SCD           6  0.310000\n",
       "WS            6  0.236667\n",
       "3DO           3  0.033333\n",
       "TG16          2  0.080000\n",
       "PCFX          1  0.030000\n",
       "GG            1  0.040000"
      ]
     },
     "execution_count": 31,
     "metadata": {},
     "output_type": "execute_result"
    }
   ],
   "source": [
    "df.groupby('platform')['total_sales'].agg(['count','mean']).sort_values(['count'], ascending=False)"
   ]
  },
  {
   "cell_type": "code",
   "execution_count": 40,
   "metadata": {},
   "outputs": [
    {
     "data": {
      "image/png": "[encoded data removed]",
      "text/plain": [
       "<Figure size 1008x720 with 1 Axes>"
      ]
     },
     "metadata": {},
     "output_type": "display_data"
    }
   ],
   "source": [
    "plt.figure(figsize=(14, 10))\n",
    "\n",
    "sns.barplot(\n",
    "    y=df['total_sales'], \n",
    "    x=df['platform'], \n",
    "    data=df, \n",
    "    estimator=sum, \n",
    "    ci=None, \n",
    "    color='#69b3a2').set(title='Total sales of platforms');"
   ]
  },
  {
   "cell_type": "markdown",
   "metadata": {},
   "source": [
    "As we can see, the most profitable platforms are `PS2`, `DS`, `PS3`, `Wii`, `X360`, `PS2`, `PS`. Let's take a closer look at these platforms."
   ]
  },
  {
   "cell_type": "code",
   "execution_count": 33,
   "metadata": {},
   "outputs": [],
   "source": [
    "platforms = ['PS2','DS','PS3','Wii','X360','PS2','PS']\n",
    "df_new = df.query('platform in @platforms')"
   ]
  },
  {
   "cell_type": "code",
   "execution_count": 62,
   "metadata": {},
   "outputs": [
    {
     "data": {
      "image/png": "[encoded data removed]",
      "text/plain": [
       "<Figure size 1440x864 with 1 Axes>"
      ]
     },
     "metadata": {},
     "output_type": "display_data"
    }
   ],
   "source": [
    "import seaborn as sns\n",
    "\n",
    "plt.figure(figsize=(20,12))\n",
    "sns.set(style=\"ticks\")\n",
    "sns.lineplot(data = df_new.groupby(['year_of_release', 'platform']).agg({'total_sales': 'sum'}).reset_index(),\n",
    "             x = 'year_of_release', y = 'total_sales', hue = 'platform', palette=\"bright\")\n",
    "plt.title('Life cycle of platforms')\n",
    "plt.xlabel('year of release')\n",
    "plt.ylabel('total sales')\n",
    "plt.grid()\n",
    "plt.xticks(np.arange(1980, 2017, 1)) \n",
    "plt.yticks(np.arange(0, 225, 25))\n",
    "plt.ylim(0, 225)\n",
    "plt.xlim(1985,);"
   ]
  },
  {
   "cell_type": "markdown",
   "metadata": {},
   "source": [
    "The graph shows that the average life cycle of the platform is 9-11 years, so we need to consider the period from 2012, as we can see the rise and fall in game sales on various platforms, and this will help us make a more accurate forecast for the next year ."
   ]
  },
  {
   "cell_type": "markdown",
   "metadata": {},
   "source": [
    "### Examining data for the current period"
   ]
  },
  {
   "cell_type": "code",
   "execution_count": 35,
   "metadata": {},
   "outputs": [],
   "source": [
    "df = df.query('year_of_release >= 2012')"
   ]
  },
  {
   "cell_type": "code",
   "execution_count": 41,
   "metadata": {},
   "outputs": [
    {
     "data": {
      "image/png": "[encoded data removed]",
      "text/plain": [
       "<Figure size 720x720 with 1 Axes>"
      ]
     },
     "metadata": {},
     "output_type": "display_data"
    }
   ],
   "source": [
    "pd.pivot_table(df, values = 'total_sales', index = 'platform', aggfunc = 'sum').sort_values('total_sales', ascending=False).plot(\n",
    "                kind='bar', title='platform sales', figsize=(10,10), colormap='Reds_r'\n",
    "                )\n",
    "plt.grid()\n",
    "\n",
    "plt.title('Total sales of platforms since 2012')\n",
    "plt.xlabel('platform')\n",
    "plt.ylabel('total sales')\n",
    "plt.show();"
   ]
  },
  {
   "cell_type": "markdown",
   "metadata": {},
   "source": [
    "Priority platforms are `PS4`, `PS3`, `X360`, `XDS`, `XONE`. Let's look at how sales have changed since 2012."
   ]
  },
  {
   "cell_type": "code",
   "execution_count": 42,
   "metadata": {},
   "outputs": [
    {
     "data": {
      "image/png": "[encoded data removed]",
      "text/plain": [
       "<Figure size 1008x864 with 1 Axes>"
      ]
     },
     "metadata": {},
     "output_type": "display_data"
    }
   ],
   "source": [
    "plt.figure(figsize=(14,12))\n",
    "sns.lineplot(data = df.groupby(['year_of_release', 'platform']).agg({'total_sales': 'sum'}).reset_index(),\n",
    "             x = 'year_of_release', y = 'total_sales', hue = 'platform')\n",
    "plt.title('Total sales of the platforms by year')\n",
    "plt.xlabel('year of release')\n",
    "plt.ylabel('total sales')\n",
    "plt.grid()\n",
    "\n",
    "plt.yticks(np.arange(0, 120, 5))\n",
    "plt.show()"
   ]
  },
  {
   "cell_type": "markdown",
   "metadata": {},
   "source": [
    "It can be noted that from 2012 to 2015 there was an increase in total sales (especially, the `PS4`, `XOne` platforms), but starting from 2015, sales on all platforms fell."
   ]
  },
  {
   "cell_type": "code",
   "execution_count": 43,
   "metadata": {
    "scrolled": false
   },
   "outputs": [
    {
     "data": {
      "image/png": "[encoded data removed]",
      "text/plain": [
       "<Figure size 1440x1440 with 1 Axes>"
      ]
     },
     "metadata": {},
     "output_type": "display_data"
    }
   ],
   "source": [
    "plt.figure(figsize=(20,20))\n",
    "plt.ylim(0,2)\n",
    "plt.title('The distribution of the total sales')\n",
    "sns.boxplot(x='platform',y='total_sales',data=df);"
   ]
  },
  {
   "cell_type": "markdown",
   "metadata": {},
   "source": [
    "Here we see that the most popular platforms are `X360`, `PS3`, `XOne`, `WiiU`, `Wii`."
   ]
  },
  {
   "cell_type": "code",
   "execution_count": 48,
   "metadata": {
    "scrolled": false
   },
   "outputs": [
    {
     "name": "stderr",
     "output_type": "stream",
     "text": [
      "*c* argument looks like a single numeric RGB or RGBA sequence, which should be avoided as value-mapping will have precedence in case its length matches with *x* & *y*.  Please use the *color* keyword-argument or provide a 2D array with a single row if you intend to specify the same RGB or RGBA value for all points.\n"
     ]
    },
    {
     "data": {
      "image/png": "[encoded data removed]",
      "text/plain": [
       "<Figure size 720x288 with 1 Axes>"
      ]
     },
     "metadata": {},
     "output_type": "display_data"
    }
   ],
   "source": [
    "df.query('platform==\"X360\"').sort_values(by='user_score',ascending=True).plot(kind='scatter',x='user_score',y='total_sales',figsize=(10,4))\n",
    "plt.title('User scores of X360 platform and its total sales')\n",
    "plt.show;"
   ]
  },
  {
   "cell_type": "markdown",
   "metadata": {},
   "source": [
    "User rating depends on total sales, the higher this number, the higher the rating of users."
   ]
  },
  {
   "cell_type": "code",
   "execution_count": 49,
   "metadata": {},
   "outputs": [
    {
     "name": "stderr",
     "output_type": "stream",
     "text": [
      "*c* argument looks like a single numeric RGB or RGBA sequence, which should be avoided as value-mapping will have precedence in case its length matches with *x* & *y*.  Please use the *color* keyword-argument or provide a 2D array with a single row if you intend to specify the same RGB or RGBA value for all points.\n"
     ]
    },
    {
     "data": {
      "image/png": "[encoded data removed]",
      "text/plain": [
       "<Figure size 720x288 with 1 Axes>"
      ]
     },
     "metadata": {},
     "output_type": "display_data"
    }
   ],
   "source": [
    "df.query('platform==\"X360\"').sort_values(by='critic_score',ascending=True).plot(kind='scatter',x='critic_score',y='total_sales',figsize=(10,4))\n",
    "plt.title('Critic scores of X360 platform and its total sales')\n",
    "plt.show;"
   ]
  },
  {
   "cell_type": "markdown",
   "metadata": {},
   "source": [
    "The same can be said about the score of critics. When high critical score occurs, sales increase."
   ]
  },
  {
   "cell_type": "code",
   "execution_count": 50,
   "metadata": {},
   "outputs": [],
   "source": [
    "X360_data = df.query('platform==\"X360\"')"
   ]
  },
  {
   "cell_type": "code",
   "execution_count": 51,
   "metadata": {},
   "outputs": [
    {
     "data": {
      "text/html": [
       "<div>\n",
       "<style scoped>\n",
       "    .dataframe tbody tr th:only-of-type {\n",
       "        vertical-align: middle;\n",
       "    }\n",
       "\n",
       "    .dataframe tbody tr th {\n",
       "        vertical-align: top;\n",
       "    }\n",
       "\n",
       "    .dataframe thead th {\n",
       "        text-align: right;\n",
       "    }\n",
       "</style>\n",
       "<table border=\"1\" class=\"dataframe\">\n",
       "  <thead>\n",
       "    <tr style=\"text-align: right;\">\n",
       "      <th></th>\n",
       "      <th>total_sales</th>\n",
       "      <th>critic_score</th>\n",
       "      <th>user_score</th>\n",
       "    </tr>\n",
       "  </thead>\n",
       "  <tbody>\n",
       "    <tr>\n",
       "      <th>total_sales</th>\n",
       "      <td>1.000000</td>\n",
       "      <td>0.360573</td>\n",
       "      <td>0.006164</td>\n",
       "    </tr>\n",
       "    <tr>\n",
       "      <th>critic_score</th>\n",
       "      <td>0.360573</td>\n",
       "      <td>1.000000</td>\n",
       "      <td>0.557352</td>\n",
       "    </tr>\n",
       "    <tr>\n",
       "      <th>user_score</th>\n",
       "      <td>0.006164</td>\n",
       "      <td>0.557352</td>\n",
       "      <td>1.000000</td>\n",
       "    </tr>\n",
       "  </tbody>\n",
       "</table>\n",
       "</div>"
      ],
      "text/plain": [
       "              total_sales  critic_score  user_score\n",
       "total_sales      1.000000      0.360573    0.006164\n",
       "critic_score     0.360573      1.000000    0.557352\n",
       "user_score       0.006164      0.557352    1.000000"
      ]
     },
     "execution_count": 51,
     "metadata": {},
     "output_type": "execute_result"
    }
   ],
   "source": [
    "X360_data[['total_sales','critic_score', 'user_score']].corr()"
   ]
  },
  {
   "cell_type": "markdown",
   "metadata": {},
   "source": [
    "The correlation is positive, which indicates a direct link between sales and the ratings of users and critics. The higher the scores, the higher the total sales and vice versa."
   ]
  },
  {
   "cell_type": "markdown",
   "metadata": {},
   "source": [
    "###  Studying game genres"
   ]
  },
  {
   "cell_type": "code",
   "execution_count": 52,
   "metadata": {},
   "outputs": [
    {
     "data": {
      "image/png": "[encoded data removed]",
      "text/plain": [
       "<Figure size 1440x1440 with 1 Axes>"
      ]
     },
     "metadata": {},
     "output_type": "display_data"
    }
   ],
   "source": [
    "plt.figure(figsize=(20,20))\n",
    "plt.ylim(0,2)\n",
    "plt.title('The distribution of the total sales by genre')\n",
    "sns.boxplot(x='genre',y='total_sales',data=df)\n",
    "plt.show;"
   ]
  },
  {
   "cell_type": "markdown",
   "metadata": {},
   "source": [
    "The most popular genres are `Platform`, `Shooter`, `Fighting`, `Sports`, `Action`, less popular `Adventure`, `Strategy`, `Puuzle`."
   ]
  },
  {
   "cell_type": "markdown",
   "metadata": {},
   "source": [
    "### Conclusion"
   ]
  },
  {
   "cell_type": "markdown",
   "metadata": {},
   "source": [
    "During the analysis of the data, we found:\n",
    "\n",
    "- Most of the games were released between 2006 and 2011, after which there is a noticeable decline in the production of games.\n",
    "- The largest total sales of platforms such as PS4, PS3, X360 can be observed.\n",
    "- We can see that the platform is relevant for an average of 9-11 years, then a new one takes its place.\n",
    "- The actual period for the forecast for 2017 is the period from 2012 to 2016, since in this period of time one can observe both a decline and an increase in sales, and in addition, the emergence of new platforms.\n",
    "- From profitable platforms it is possible to allocate X360, PS3, XOne, WiiU, Wii, they are in the lead on sales. In particular, there was a noticeable increase in sales in 2015, but in 2016 we can see a decline in sales across all platforms.\n",
    "- On the examples of the X360 platform, we see that sales are growing with high ratings from users and critics.\n",
    "- The most profitable genres are `Platform`, `Shooter`, `Fighting`, `Sports`, `Action`, less popular `Adventure`, `Strategy`, `Puuzle`."
   ]
  },
  {
   "cell_type": "markdown",
   "metadata": {},
   "source": [
    "## Compilation of a user profile of each region"
   ]
  },
  {
   "cell_type": "markdown",
   "metadata": {},
   "source": [
    "### The most popular platforms (The Top - 5)"
   ]
  },
  {
   "cell_type": "code",
   "execution_count": 53,
   "metadata": {},
   "outputs": [],
   "source": [
    "rating_pivot_table = df.pivot_table(index = 'platform', values = ['na_sales','jp_sales','eu_sales'], aggfunc = ['sum'])\n",
    "rating_pivot_table.columns = ['na_sales','jp_sales','eu_sales']"
   ]
  },
  {
   "cell_type": "code",
   "execution_count": 54,
   "metadata": {},
   "outputs": [
    {
     "data": {
      "text/html": [
       "<div>\n",
       "<style scoped>\n",
       "    .dataframe tbody tr th:only-of-type {\n",
       "        vertical-align: middle;\n",
       "    }\n",
       "\n",
       "    .dataframe tbody tr th {\n",
       "        vertical-align: top;\n",
       "    }\n",
       "\n",
       "    .dataframe thead th {\n",
       "        text-align: right;\n",
       "    }\n",
       "</style>\n",
       "<table border=\"1\" class=\"dataframe\">\n",
       "  <thead>\n",
       "    <tr style=\"text-align: right;\">\n",
       "      <th></th>\n",
       "      <th>na_sales</th>\n",
       "      <th>jp_sales</th>\n",
       "      <th>eu_sales</th>\n",
       "    </tr>\n",
       "    <tr>\n",
       "      <th>platform</th>\n",
       "      <th></th>\n",
       "      <th></th>\n",
       "      <th></th>\n",
       "    </tr>\n",
       "  </thead>\n",
       "  <tbody>\n",
       "    <tr>\n",
       "      <th>3DS</th>\n",
       "      <td>42.64</td>\n",
       "      <td>87.79</td>\n",
       "      <td>55.31</td>\n",
       "    </tr>\n",
       "    <tr>\n",
       "      <th>DS</th>\n",
       "      <td>3.53</td>\n",
       "      <td>3.72</td>\n",
       "      <td>4.59</td>\n",
       "    </tr>\n",
       "    <tr>\n",
       "      <th>PC</th>\n",
       "      <td>37.76</td>\n",
       "      <td>0.00</td>\n",
       "      <td>19.12</td>\n",
       "    </tr>\n",
       "    <tr>\n",
       "      <th>PS3</th>\n",
       "      <td>106.86</td>\n",
       "      <td>35.29</td>\n",
       "      <td>103.38</td>\n",
       "    </tr>\n",
       "    <tr>\n",
       "      <th>PS4</th>\n",
       "      <td>141.09</td>\n",
       "      <td>15.96</td>\n",
       "      <td>108.74</td>\n",
       "    </tr>\n",
       "    <tr>\n",
       "      <th>PSP</th>\n",
       "      <td>0.42</td>\n",
       "      <td>10.47</td>\n",
       "      <td>0.13</td>\n",
       "    </tr>\n",
       "    <tr>\n",
       "      <th>PSV</th>\n",
       "      <td>11.36</td>\n",
       "      <td>21.04</td>\n",
       "      <td>10.98</td>\n",
       "    </tr>\n",
       "    <tr>\n",
       "      <th>Wii</th>\n",
       "      <td>11.92</td>\n",
       "      <td>3.39</td>\n",
       "      <td>17.45</td>\n",
       "    </tr>\n",
       "    <tr>\n",
       "      <th>WiiU</th>\n",
       "      <td>25.13</td>\n",
       "      <td>13.01</td>\n",
       "      <td>38.10</td>\n",
       "    </tr>\n",
       "    <tr>\n",
       "      <th>X360</th>\n",
       "      <td>74.52</td>\n",
       "      <td>1.57</td>\n",
       "      <td>140.05</td>\n",
       "    </tr>\n",
       "    <tr>\n",
       "      <th>XOne</th>\n",
       "      <td>51.59</td>\n",
       "      <td>0.34</td>\n",
       "      <td>93.12</td>\n",
       "    </tr>\n",
       "  </tbody>\n",
       "</table>\n",
       "</div>"
      ],
      "text/plain": [
       "          na_sales  jp_sales  eu_sales\n",
       "platform                              \n",
       "3DS          42.64     87.79     55.31\n",
       "DS            3.53      3.72      4.59\n",
       "PC           37.76      0.00     19.12\n",
       "PS3         106.86     35.29    103.38\n",
       "PS4         141.09     15.96    108.74\n",
       "PSP           0.42     10.47      0.13\n",
       "PSV          11.36     21.04     10.98\n",
       "Wii          11.92      3.39     17.45\n",
       "WiiU         25.13     13.01     38.10\n",
       "X360         74.52      1.57    140.05\n",
       "XOne         51.59      0.34     93.12"
      ]
     },
     "execution_count": 54,
     "metadata": {},
     "output_type": "execute_result"
    }
   ],
   "source": [
    "rating_pivot_table"
   ]
  },
  {
   "cell_type": "code",
   "execution_count": 55,
   "metadata": {},
   "outputs": [
    {
     "data": {
      "image/png": "[encoded data removed]",
      "text/plain": [
       "<Figure size 432x288 with 1 Axes>"
      ]
     },
     "metadata": {},
     "output_type": "display_data"
    },
    {
     "data": {
      "image/png": "[encoded data removed]",
      "text/plain": [
       "<Figure size 432x288 with 1 Axes>"
      ]
     },
     "metadata": {},
     "output_type": "display_data"
    },
    {
     "data": {
      "image/png": "[encoded data removed]",
      "text/plain": [
       "<Figure size 432x288 with 1 Axes>"
      ]
     },
     "metadata": {},
     "output_type": "display_data"
    }
   ],
   "source": [
    "for top in ['jp_sales', 'eu_sales', 'na_sales']:\n",
    "  (\n",
    "      df\n",
    "      .pivot_table(index='platform', values=top, aggfunc='mean')\n",
    "      .sort_values(by=top, ascending=False)\n",
    "      .head(5)\n",
    "      .plot(kind='bar', grid=True)\n",
    "  )\n",
    "  plt.legend([top])\n",
    "  plt.xlabel('platform')\n",
    "  plt.ylabel('total_sales')\n",
    "  plt.show()"
   ]
  },
  {
   "cell_type": "markdown",
   "metadata": {},
   "source": [
    "In Japan, the most popular platforms are `3DS`, `WiiU`, `PS3`, `PSV`, `PS4`.\n",
    "\n",
    "In Europe, the most popular platforms are `PS4`, `Wii`, `XOne`, `WiiU`, `X360`.\n",
    "\n",
    "In North America, the most popular platforms are `XOne`, `WiiU`, `PS4`, `X360`, `Wii`."
   ]
  },
  {
   "cell_type": "markdown",
   "metadata": {},
   "source": [
    "### The most popular genres (The Top - 5)"
   ]
  },
  {
   "cell_type": "code",
   "execution_count": 56,
   "metadata": {
    "scrolled": false
   },
   "outputs": [
    {
     "data": {
      "image/png": "[encoded data removed]",
      "text/plain": [
       "<Figure size 432x288 with 1 Axes>"
      ]
     },
     "metadata": {},
     "output_type": "display_data"
    },
    {
     "data": {
      "image/png": "[encoded data removed]",
      "text/plain": [
       "<Figure size 432x288 with 1 Axes>"
      ]
     },
     "metadata": {},
     "output_type": "display_data"
    },
    {
     "data": {
      "image/png": "[encoded data removed]",
      "text/plain": [
       "<Figure size 432x288 with 1 Axes>"
      ]
     },
     "metadata": {},
     "output_type": "display_data"
    }
   ],
   "source": [
    "for genre in ['jp_sales', 'eu_sales', 'na_sales']:\n",
    "    df.pivot_table(index='genre', values=genre, aggfunc='mean').sort_values(by=genre, ascending=False).head().plot(kind='bar', grid=True)\n",
    "    plt.legend([genre])\n",
    "    plt.xlabel('genre')\n",
    "    plt.ylabel('total_sales')\n",
    "    plt.show()"
   ]
  },
  {
   "cell_type": "markdown",
   "metadata": {},
   "source": [
    "In Japan, the most popular genres are `Role-Playing`, `Simulation`, `Platform`, `Fighting`, `Puzzle`.\n",
    "\n",
    "In Europe, the most popular genres are `Shooter`, `Sports`, `Platform`, `Racing`, `Simulation`.\n",
    "\n",
    "In North America, the most popular genres are `Shooter`, `Sports`, `Platform`, `Misc`, `Fighting`."
   ]
  },
  {
   "cell_type": "markdown",
   "metadata": {},
   "source": [
    "### The impact of the ESRB rating on sales in a particular region."
   ]
  },
  {
   "cell_type": "code",
   "execution_count": 57,
   "metadata": {},
   "outputs": [],
   "source": [
    "esrb = df.fillna('No rating')"
   ]
  },
  {
   "cell_type": "code",
   "execution_count": 58,
   "metadata": {
    "scrolled": true
   },
   "outputs": [],
   "source": [
    "esrb = esrb.pivot_table(index = ['rating'], values = ['na_sales','jp_sales','eu_sales'], aggfunc = ['sum'])\n"
   ]
  },
  {
   "cell_type": "code",
   "execution_count": 59,
   "metadata": {
    "scrolled": true
   },
   "outputs": [
    {
     "data": {
      "text/html": [
       "<div>\n",
       "<style scoped>\n",
       "    .dataframe tbody tr th:only-of-type {\n",
       "        vertical-align: middle;\n",
       "    }\n",
       "\n",
       "    .dataframe tbody tr th {\n",
       "        vertical-align: top;\n",
       "    }\n",
       "\n",
       "    .dataframe thead tr th {\n",
       "        text-align: left;\n",
       "    }\n",
       "\n",
       "    .dataframe thead tr:last-of-type th {\n",
       "        text-align: right;\n",
       "    }\n",
       "</style>\n",
       "<table border=\"1\" class=\"dataframe\">\n",
       "  <thead>\n",
       "    <tr>\n",
       "      <th></th>\n",
       "      <th colspan=\"3\" halign=\"left\">sum</th>\n",
       "    </tr>\n",
       "    <tr>\n",
       "      <th></th>\n",
       "      <th>eu_sales</th>\n",
       "      <th>jp_sales</th>\n",
       "      <th>na_sales</th>\n",
       "    </tr>\n",
       "    <tr>\n",
       "      <th>rating</th>\n",
       "      <th></th>\n",
       "      <th></th>\n",
       "      <th></th>\n",
       "    </tr>\n",
       "  </thead>\n",
       "  <tbody>\n",
       "    <tr>\n",
       "      <th>E</th>\n",
       "      <td>113.03</td>\n",
       "      <td>28.33</td>\n",
       "      <td>114.37</td>\n",
       "    </tr>\n",
       "    <tr>\n",
       "      <th>E10+</th>\n",
       "      <td>55.37</td>\n",
       "      <td>8.19</td>\n",
       "      <td>75.70</td>\n",
       "    </tr>\n",
       "    <tr>\n",
       "      <th>M</th>\n",
       "      <td>193.96</td>\n",
       "      <td>21.20</td>\n",
       "      <td>231.57</td>\n",
       "    </tr>\n",
       "    <tr>\n",
       "      <th>No rating</th>\n",
       "      <td>91.50</td>\n",
       "      <td>108.84</td>\n",
       "      <td>103.31</td>\n",
       "    </tr>\n",
       "    <tr>\n",
       "      <th>T</th>\n",
       "      <td>52.96</td>\n",
       "      <td>26.02</td>\n",
       "      <td>66.02</td>\n",
       "    </tr>\n",
       "  </tbody>\n",
       "</table>\n",
       "</div>"
      ],
      "text/plain": [
       "               sum                  \n",
       "          eu_sales jp_sales na_sales\n",
       "rating                              \n",
       "E           113.03    28.33   114.37\n",
       "E10+         55.37     8.19    75.70\n",
       "M           193.96    21.20   231.57\n",
       "No rating    91.50   108.84   103.31\n",
       "T            52.96    26.02    66.02"
      ]
     },
     "execution_count": 59,
     "metadata": {},
     "output_type": "execute_result"
    }
   ],
   "source": [
    "esrb"
   ]
  },
  {
   "cell_type": "markdown",
   "metadata": {},
   "source": [
    "Europe and North America are dominated by 17+ rated games while Japan is dominated by unrated games."
   ]
  },
  {
   "cell_type": "markdown",
   "metadata": {},
   "source": [
    "### Conclusion"
   ]
  },
  {
   "cell_type": "markdown",
   "metadata": {},
   "source": [
    "Based on the data, we can draw the following conclusions:\n",
    "\n",
    "- The most popular platforms in Japan are 3DS, WiiU, PS3, PSV, PS4,\n",
    "- The most popular platforms in Europe are PS4. Wii, XOne, WiiU, X360\n",
    "- The most popular platforms in North America are XOne, WiiU, PS4, X360, Wii\n",
    "- The most popular genre in Europe and North America is `Shooter`, and in Japan `Role-playing`, maybe this is due to the cultural characteristics of nations. As we are aware that cosplay is very popular in Japan.\n",
    "- M (17+) rated games are the most popular in Europe and North America, while non-rated games are in Japan. It can be concluded that in Europe and North America the market is designed for an adult audience."
   ]
  },
  {
   "cell_type": "markdown",
   "metadata": {},
   "source": [
    "## Statistical data analysis"
   ]
  },
  {
   "cell_type": "markdown",
   "metadata": {},
   "source": [
    "### Examining the first hypothesis"
   ]
  },
  {
   "cell_type": "markdown",
   "metadata": {},
   "source": [
    "The following hypotheses need to be tested.\n",
    "\n",
    "Null Hypothesis: The average user ratings of the Xbox One and PC platforms are the same.\n",
    "\n",
    "Alternative hypothesis: The average user ratings of the Xbox One and PC platforms are different.\n",
    "\n",
    "\n",
    "We need to apply the scipy.stats.ttest_ind() method in order to test the hypothesis that the mean of two populations is equal based on the samples taken from them."
   ]
  },
  {
   "cell_type": "code",
   "execution_count": 60,
   "metadata": {},
   "outputs": [
    {
     "name": "stdout",
     "output_type": "stream",
     "text": [
      "p-значение: 0.5489537965134912\n",
      "Failed to reject the null hypothesis\n"
     ]
    }
   ],
   "source": [
    "pc = df.query('platform == \"XOne\"')['user_score'].dropna()\n",
    "xbox_one =  df.query('platform == \"PC\"')['user_score'].dropna()\n",
    "alpha = .05\n",
    "\n",
    "results = st.ttest_ind(pc, xbox_one, equal_var=False)\n",
    "\n",
    "print('p-значение:', results.pvalue)\n",
    "\n",
    "if (results.pvalue < alpha):\n",
    "    print(\"Rejecting the null hypothesis\")\n",
    "else:\n",
    "    print(\"Failed to reject the null hypothesis\")"
   ]
  },
  {
   "cell_type": "markdown",
   "metadata": {},
   "source": [
    "### Examining the second hypothesis"
   ]
  },
  {
   "cell_type": "markdown",
   "metadata": {},
   "source": [
    "Null hypothesis: The average user ratings of the genres Action and Sports are different.\n",
    "\n",
    "Alternative hypothesis: The average user ratings of the genres Action and Sports are the same.\n",
    "\n",
    "We need to apply the st.ttest_1samp() method."
   ]
  },
  {
   "cell_type": "code",
   "execution_count": 61,
   "metadata": {},
   "outputs": [
    {
     "name": "stdout",
     "output_type": "stream",
     "text": [
      "p-значение: 4.24307776572644e-20\n",
      "Rejecting the null hypothesis\n"
     ]
    }
   ],
   "source": [
    "action = df.query('genre == \"Action\"')['user_score'].dropna()\n",
    "sports =  df.query('genre == \"Sports\"')['user_score'].dropna()\n",
    "alpha = .05\n",
    "\n",
    "results = st.ttest_ind(action, sports, equal_var=False)\n",
    "\n",
    "print('p-значение:', results.pvalue)\n",
    "\n",
    "if (results.pvalue < alpha):\n",
    "    print(\"Rejecting the null hypothesis\")\n",
    "else:\n",
    "    print(\"Failed to reject the null hypothesis\")"
   ]
  },
  {
   "cell_type": "markdown",
   "metadata": {},
   "source": [
    "### Выводы"
   ]
  },
  {
   "cell_type": "markdown",
   "metadata": {},
   "source": [
    "Hypothesis testing showed that the average user ratings of the Xbox One and PC platforms are the same, and the average user ratings of the Action and Sports genres are the same."
   ]
  },
  {
   "cell_type": "markdown",
   "metadata": {},
   "source": [
    "## Summary"
   ]
  },
  {
   "cell_type": "markdown",
   "metadata": {},
   "source": [
    "In the course of this research, the data of the Strimchik online store was analyzed.\n",
    "\n",
    "- The time of the relevance of games and platforms was studied, the platform is relevant on average for 9-11 years.\n",
    "- The most popular platforms are `X360`, `PS3`, `XOne`, `WiiU`, `Wii`.\n",
    "- The rating given by users and critics is related to the popularity of platforms, the higher the rating is , the higher the total sales are.\n",
    "- The most profitable genres are `Platform`, `Shooter`, `Fighting`, `Sports`, `Action`, less profitable  are `Adventure`, `Strategy`, `Puuzle`.\n",
    "- The most popular genre in Europe and North America is Shooter, while in Japan it is Role-playing.\n",
    "- One of the most popular platforms in Europe, North America and Japan are WiiU and Wii.\n",
    "- The average user ratings of the Xbox One and PC platforms are the same\n",
    "- The average user ratings of the genres Action and Sports are the same.\n",
    "- In 2017, the PS4, XOne and 3DS platforms will most likely be the leaders, and among the Shooter genres in North America and Europe, Role-playing in Japan."
   ]
  }
 ],
 "metadata": {
  "ExecuteTimeLog": [
   {
    "duration": 1256,
    "start_time": "2022-06-17T04:30:12.083Z"
   },
   {
    "duration": 96,
    "start_time": "2022-06-17T04:30:41.569Z"
   },
   {
    "duration": 4,
    "start_time": "2022-06-17T04:31:27.856Z"
   },
   {
    "duration": 4,
    "start_time": "2022-06-17T04:31:36.272Z"
   },
   {
    "duration": 5,
    "start_time": "2022-06-17T04:31:41.248Z"
   },
   {
    "duration": 18,
    "start_time": "2022-06-17T04:31:50.936Z"
   },
   {
    "duration": 70,
    "start_time": "2022-06-17T04:32:33.863Z"
   },
   {
    "duration": 26,
    "start_time": "2022-06-17T04:38:14.893Z"
   },
   {
    "duration": 4,
    "start_time": "2022-06-17T05:50:05.315Z"
   },
   {
    "duration": 28,
    "start_time": "2022-06-17T05:52:06.821Z"
   },
   {
    "duration": 33,
    "start_time": "2022-06-17T05:52:09.942Z"
   },
   {
    "duration": 4,
    "start_time": "2022-06-17T05:52:17.116Z"
   },
   {
    "duration": 42,
    "start_time": "2022-06-17T10:53:43.002Z"
   },
   {
    "duration": 1190,
    "start_time": "2022-06-17T10:53:54.780Z"
   },
   {
    "duration": 175,
    "start_time": "2022-06-17T10:53:55.972Z"
   },
   {
    "duration": 64,
    "start_time": "2022-06-17T10:53:56.148Z"
   },
   {
    "duration": 3,
    "start_time": "2022-06-17T10:53:56.214Z"
   },
   {
    "duration": 5,
    "start_time": "2022-06-17T10:53:56.218Z"
   },
   {
    "duration": 68,
    "start_time": "2022-06-17T10:53:56.296Z"
   },
   {
    "duration": 490,
    "start_time": "2022-06-17T10:55:40.846Z"
   },
   {
    "duration": 17,
    "start_time": "2022-06-17T10:55:59.581Z"
   },
   {
    "duration": 26,
    "start_time": "2022-06-17T10:56:17.389Z"
   },
   {
    "duration": 3,
    "start_time": "2022-06-17T10:56:36.130Z"
   },
   {
    "duration": 17,
    "start_time": "2022-06-17T10:56:37.683Z"
   },
   {
    "duration": 16,
    "start_time": "2022-06-17T10:56:52.043Z"
   },
   {
    "duration": 133,
    "start_time": "2022-06-17T10:57:08.202Z"
   },
   {
    "duration": 14,
    "start_time": "2022-06-17T10:57:17.018Z"
   },
   {
    "duration": 16,
    "start_time": "2022-06-17T10:57:23.998Z"
   },
   {
    "duration": 18,
    "start_time": "2022-06-17T10:57:43.607Z"
   },
   {
    "duration": 11,
    "start_time": "2022-06-17T10:57:44.211Z"
   },
   {
    "duration": 2,
    "start_time": "2022-06-17T11:02:14.249Z"
   },
   {
    "duration": 25,
    "start_time": "2022-06-17T11:03:43.747Z"
   },
   {
    "duration": 3,
    "start_time": "2022-06-17T11:03:48.998Z"
   },
   {
    "duration": 2,
    "start_time": "2022-06-17T11:04:01.277Z"
   },
   {
    "duration": 35,
    "start_time": "2022-06-17T11:04:12.279Z"
   },
   {
    "duration": 47,
    "start_time": "2022-06-17T11:04:15.829Z"
   },
   {
    "duration": 30,
    "start_time": "2022-06-17T11:04:31.392Z"
   },
   {
    "duration": 3,
    "start_time": "2022-06-17T11:05:15.870Z"
   },
   {
    "duration": 10,
    "start_time": "2022-06-17T11:05:21.338Z"
   },
   {
    "duration": 12,
    "start_time": "2022-06-17T11:05:28.721Z"
   },
   {
    "duration": 10,
    "start_time": "2022-06-17T11:06:52.982Z"
   },
   {
    "duration": 396,
    "start_time": "2022-06-17T11:12:57.217Z"
   },
   {
    "duration": 7,
    "start_time": "2022-06-17T11:13:07.291Z"
   },
   {
    "duration": 11,
    "start_time": "2022-06-17T11:13:24.243Z"
   },
   {
    "duration": 7,
    "start_time": "2022-06-17T11:14:18.917Z"
   },
   {
    "duration": 9,
    "start_time": "2022-06-17T11:14:19.665Z"
   },
   {
    "duration": 9,
    "start_time": "2022-06-17T11:14:20.222Z"
   },
   {
    "duration": 13,
    "start_time": "2022-06-17T11:20:46.083Z"
   },
   {
    "duration": 11,
    "start_time": "2022-06-17T11:22:11.765Z"
   },
   {
    "duration": 40,
    "start_time": "2022-06-17T15:55:49.603Z"
   },
   {
    "duration": 1175,
    "start_time": "2022-06-17T15:56:00.104Z"
   },
   {
    "duration": 449,
    "start_time": "2022-06-17T15:56:01.281Z"
   },
   {
    "duration": 70,
    "start_time": "2022-06-17T15:56:01.731Z"
   },
   {
    "duration": 4,
    "start_time": "2022-06-17T15:56:01.802Z"
   },
   {
    "duration": 11,
    "start_time": "2022-06-17T15:56:01.808Z"
   },
   {
    "duration": 25,
    "start_time": "2022-06-17T15:56:01.820Z"
   },
   {
    "duration": 25,
    "start_time": "2022-06-17T15:56:01.846Z"
   },
   {
    "duration": 12,
    "start_time": "2022-06-17T15:56:01.873Z"
   },
   {
    "duration": 8,
    "start_time": "2022-06-17T15:56:01.886Z"
   },
   {
    "duration": 19,
    "start_time": "2022-06-17T15:56:01.896Z"
   },
   {
    "duration": 7,
    "start_time": "2022-06-17T15:56:01.971Z"
   },
   {
    "duration": 9,
    "start_time": "2022-06-17T15:56:02.148Z"
   },
   {
    "duration": 8,
    "start_time": "2022-06-17T15:56:02.348Z"
   },
   {
    "duration": 53,
    "start_time": "2022-06-17T15:56:02.518Z"
   },
   {
    "duration": 13,
    "start_time": "2022-06-17T15:56:02.706Z"
   },
   {
    "duration": 10,
    "start_time": "2022-06-17T16:08:31.923Z"
   },
   {
    "duration": 10,
    "start_time": "2022-06-17T16:08:47.188Z"
   },
   {
    "duration": 7,
    "start_time": "2022-06-17T16:08:55.387Z"
   },
   {
    "duration": 7,
    "start_time": "2022-06-17T16:09:02.379Z"
   },
   {
    "duration": 5,
    "start_time": "2022-06-17T16:15:23.888Z"
   },
   {
    "duration": 14,
    "start_time": "2022-06-17T16:15:24.632Z"
   },
   {
    "duration": 6,
    "start_time": "2022-06-17T16:15:57.375Z"
   },
   {
    "duration": 3,
    "start_time": "2022-06-17T16:16:13.306Z"
   },
   {
    "duration": 15,
    "start_time": "2022-06-17T16:16:26.206Z"
   },
   {
    "duration": 8,
    "start_time": "2022-06-17T16:17:00.583Z"
   },
   {
    "duration": 12,
    "start_time": "2022-06-17T16:17:04.911Z"
   },
   {
    "duration": 21,
    "start_time": "2022-06-17T16:22:01.994Z"
   },
   {
    "duration": 6,
    "start_time": "2022-06-17T16:22:08.954Z"
   },
   {
    "duration": 3,
    "start_time": "2022-06-17T16:22:15.084Z"
   },
   {
    "duration": 17,
    "start_time": "2022-06-17T16:22:32.202Z"
   },
   {
    "duration": 1289,
    "start_time": "2022-06-18T01:56:19.476Z"
   },
   {
    "duration": 90,
    "start_time": "2022-06-18T01:56:20.767Z"
   },
   {
    "duration": 72,
    "start_time": "2022-06-18T01:56:20.858Z"
   },
   {
    "duration": 4,
    "start_time": "2022-06-18T01:56:20.931Z"
   },
   {
    "duration": 6,
    "start_time": "2022-06-18T01:56:20.936Z"
   },
   {
    "duration": 21,
    "start_time": "2022-06-18T01:56:20.943Z"
   },
   {
    "duration": 33,
    "start_time": "2022-06-18T01:56:20.966Z"
   },
   {
    "duration": 13,
    "start_time": "2022-06-18T01:56:21.094Z"
   },
   {
    "duration": 6,
    "start_time": "2022-06-18T01:56:21.294Z"
   },
   {
    "duration": 7,
    "start_time": "2022-06-18T01:56:21.490Z"
   },
   {
    "duration": 6,
    "start_time": "2022-06-18T01:56:21.683Z"
   },
   {
    "duration": 13,
    "start_time": "2022-06-18T01:56:21.866Z"
   },
   {
    "duration": 8,
    "start_time": "2022-06-18T01:56:22.047Z"
   },
   {
    "duration": 11,
    "start_time": "2022-06-18T01:56:22.250Z"
   },
   {
    "duration": 11,
    "start_time": "2022-06-18T01:56:22.440Z"
   },
   {
    "duration": 5,
    "start_time": "2022-06-18T01:56:22.625Z"
   },
   {
    "duration": 11,
    "start_time": "2022-06-18T01:56:22.827Z"
   },
   {
    "duration": 6,
    "start_time": "2022-06-18T01:56:23.007Z"
   },
   {
    "duration": 4,
    "start_time": "2022-06-18T01:56:23.204Z"
   },
   {
    "duration": 21,
    "start_time": "2022-06-18T01:56:23.420Z"
   },
   {
    "duration": 5,
    "start_time": "2022-06-18T02:16:08.013Z"
   },
   {
    "duration": 21,
    "start_time": "2022-06-18T02:16:14.725Z"
   },
   {
    "duration": 7,
    "start_time": "2022-06-18T02:20:31.195Z"
   },
   {
    "duration": 20,
    "start_time": "2022-06-18T02:20:32.835Z"
   },
   {
    "duration": 121,
    "start_time": "2022-06-18T02:22:58.802Z"
   },
   {
    "duration": 10,
    "start_time": "2022-06-18T02:23:03.657Z"
   },
   {
    "duration": 18,
    "start_time": "2022-06-18T02:23:17.202Z"
   },
   {
    "duration": 15,
    "start_time": "2022-06-18T02:24:15.209Z"
   },
   {
    "duration": 20,
    "start_time": "2022-06-18T02:24:52.760Z"
   },
   {
    "duration": 18,
    "start_time": "2022-06-18T02:26:57.279Z"
   },
   {
    "duration": 17,
    "start_time": "2022-06-18T02:27:02.230Z"
   },
   {
    "duration": 8,
    "start_time": "2022-06-18T02:33:36.411Z"
   },
   {
    "duration": 702,
    "start_time": "2022-06-18T02:34:13.603Z"
   },
   {
    "duration": 13,
    "start_time": "2022-06-18T02:38:29.935Z"
   },
   {
    "duration": 238,
    "start_time": "2022-06-18T02:39:38.814Z"
   },
   {
    "duration": 4,
    "start_time": "2022-06-18T02:40:27.519Z"
   },
   {
    "duration": 119,
    "start_time": "2022-06-18T02:40:31.070Z"
   },
   {
    "duration": 52,
    "start_time": "2022-06-20T16:09:40.594Z"
   },
   {
    "duration": 1376,
    "start_time": "2022-06-20T16:09:49.179Z"
   },
   {
    "duration": 102,
    "start_time": "2022-06-20T16:09:50.557Z"
   },
   {
    "duration": 74,
    "start_time": "2022-06-20T16:09:50.661Z"
   },
   {
    "duration": 4,
    "start_time": "2022-06-20T16:09:50.737Z"
   },
   {
    "duration": 12,
    "start_time": "2022-06-20T16:09:50.742Z"
   },
   {
    "duration": 25,
    "start_time": "2022-06-20T16:09:50.755Z"
   },
   {
    "duration": 16,
    "start_time": "2022-06-20T16:09:50.781Z"
   },
   {
    "duration": 26,
    "start_time": "2022-06-20T16:09:50.798Z"
   },
   {
    "duration": 10,
    "start_time": "2022-06-20T16:09:50.826Z"
   },
   {
    "duration": 20,
    "start_time": "2022-06-20T16:09:50.995Z"
   },
   {
    "duration": 15,
    "start_time": "2022-06-20T16:09:51.218Z"
   },
   {
    "duration": 6,
    "start_time": "2022-06-20T16:09:51.449Z"
   },
   {
    "duration": 7,
    "start_time": "2022-06-20T16:09:51.673Z"
   },
   {
    "duration": 4,
    "start_time": "2022-06-20T16:09:51.897Z"
   },
   {
    "duration": 29,
    "start_time": "2022-06-20T16:09:52.281Z"
   },
   {
    "duration": 8,
    "start_time": "2022-06-20T16:09:52.721Z"
   },
   {
    "duration": 21,
    "start_time": "2022-06-20T16:09:52.994Z"
   },
   {
    "duration": 20,
    "start_time": "2022-06-20T16:09:53.922Z"
   },
   {
    "duration": 10,
    "start_time": "2022-06-20T16:12:59.170Z"
   },
   {
    "duration": 15,
    "start_time": "2022-06-20T16:13:35.945Z"
   },
   {
    "duration": 18,
    "start_time": "2022-06-20T16:13:37.674Z"
   },
   {
    "duration": 11,
    "start_time": "2022-06-20T16:13:37.903Z"
   },
   {
    "duration": 5,
    "start_time": "2022-06-20T16:13:38.080Z"
   },
   {
    "duration": 4,
    "start_time": "2022-06-20T16:13:38.248Z"
   },
   {
    "duration": 4,
    "start_time": "2022-06-20T16:13:38.399Z"
   },
   {
    "duration": 22,
    "start_time": "2022-06-20T16:13:38.571Z"
   },
   {
    "duration": 5,
    "start_time": "2022-06-20T16:13:38.744Z"
   },
   {
    "duration": 26,
    "start_time": "2022-06-20T16:13:38.911Z"
   },
   {
    "duration": 12,
    "start_time": "2022-06-20T16:13:39.087Z"
   },
   {
    "duration": 8,
    "start_time": "2022-06-20T16:15:12.868Z"
   },
   {
    "duration": 14,
    "start_time": "2022-06-20T16:15:13.344Z"
   },
   {
    "duration": 11,
    "start_time": "2022-06-20T16:15:13.517Z"
   },
   {
    "duration": 5,
    "start_time": "2022-06-20T16:15:13.685Z"
   },
   {
    "duration": 4,
    "start_time": "2022-06-20T16:15:13.868Z"
   },
   {
    "duration": 4,
    "start_time": "2022-06-20T16:15:14.022Z"
   },
   {
    "duration": 22,
    "start_time": "2022-06-20T16:15:14.207Z"
   },
   {
    "duration": 6,
    "start_time": "2022-06-20T16:15:14.364Z"
   },
   {
    "duration": 30,
    "start_time": "2022-06-20T16:15:14.519Z"
   },
   {
    "duration": 13,
    "start_time": "2022-06-20T16:15:14.679Z"
   },
   {
    "duration": 29,
    "start_time": "2022-06-20T16:15:15.052Z"
   },
   {
    "duration": 136,
    "start_time": "2022-06-20T16:15:15.251Z"
   },
   {
    "duration": 63,
    "start_time": "2022-06-20T16:15:37.381Z"
   },
   {
    "duration": 7,
    "start_time": "2022-06-20T16:15:41.503Z"
   },
   {
    "duration": 50,
    "start_time": "2022-06-20T16:16:43.219Z"
   },
   {
    "duration": 11,
    "start_time": "2022-06-20T16:16:46.518Z"
   },
   {
    "duration": 48,
    "start_time": "2022-06-20T16:17:49.757Z"
   },
   {
    "duration": 51,
    "start_time": "2022-06-20T16:18:20.509Z"
   },
   {
    "duration": 48,
    "start_time": "2022-06-20T16:18:30.117Z"
   },
   {
    "duration": 947,
    "start_time": "2022-06-20T16:18:41.120Z"
   },
   {
    "duration": 18,
    "start_time": "2022-06-20T16:19:36.421Z"
   },
   {
    "duration": 202,
    "start_time": "2022-06-20T16:19:42.179Z"
   },
   {
    "duration": 173,
    "start_time": "2022-06-20T16:19:57.760Z"
   },
   {
    "duration": 170,
    "start_time": "2022-06-20T16:20:16.472Z"
   },
   {
    "duration": 190,
    "start_time": "2022-06-20T16:20:25.787Z"
   },
   {
    "duration": 238,
    "start_time": "2022-06-20T16:20:42.704Z"
   },
   {
    "duration": 159,
    "start_time": "2022-06-20T16:20:58.587Z"
   },
   {
    "duration": 14,
    "start_time": "2022-06-20T16:33:08.084Z"
   },
   {
    "duration": 15,
    "start_time": "2022-06-20T16:33:08.291Z"
   },
   {
    "duration": 71,
    "start_time": "2022-06-20T16:33:08.897Z"
   },
   {
    "duration": 409,
    "start_time": "2022-06-20T16:33:28.653Z"
   },
   {
    "duration": 14,
    "start_time": "2022-06-20T16:33:48.115Z"
   },
   {
    "duration": 1137,
    "start_time": "2022-06-20T16:34:01.571Z"
   },
   {
    "duration": 6,
    "start_time": "2022-06-20T16:34:53.851Z"
   },
   {
    "duration": 222,
    "start_time": "2022-06-20T16:35:20.578Z"
   },
   {
    "duration": 14,
    "start_time": "2022-06-20T16:35:41.585Z"
   },
   {
    "duration": 538,
    "start_time": "2022-06-20T16:35:48.665Z"
   },
   {
    "duration": 562,
    "start_time": "2022-06-20T16:36:24.087Z"
   },
   {
    "duration": 205,
    "start_time": "2022-06-20T16:37:46.096Z"
   },
   {
    "duration": 152,
    "start_time": "2022-06-20T16:37:53.648Z"
   },
   {
    "duration": 290,
    "start_time": "2022-06-20T16:38:08.344Z"
   },
   {
    "duration": 277,
    "start_time": "2022-06-20T16:38:28.642Z"
   },
   {
    "duration": 10,
    "start_time": "2022-06-20T16:41:14.982Z"
   },
   {
    "duration": 46,
    "start_time": "2022-06-20T16:41:26.253Z"
   },
   {
    "duration": 1122,
    "start_time": "2022-06-20T16:41:37.159Z"
   },
   {
    "duration": 171,
    "start_time": "2022-06-20T16:41:50.284Z"
   },
   {
    "duration": 16,
    "start_time": "2022-06-20T16:42:20.981Z"
   },
   {
    "duration": 223,
    "start_time": "2022-06-20T16:42:26.308Z"
   },
   {
    "duration": 171,
    "start_time": "2022-06-20T16:42:38.080Z"
   },
   {
    "duration": 179,
    "start_time": "2022-06-20T16:42:38.259Z"
   },
   {
    "duration": 7,
    "start_time": "2022-06-20T16:45:05.403Z"
   },
   {
    "duration": 11,
    "start_time": "2022-06-20T16:46:21.602Z"
   },
   {
    "duration": 10,
    "start_time": "2022-06-20T16:46:32.506Z"
   },
   {
    "duration": 5,
    "start_time": "2022-06-20T16:47:11.154Z"
   },
   {
    "duration": 10,
    "start_time": "2022-06-20T16:48:11.879Z"
   },
   {
    "duration": 6,
    "start_time": "2022-06-20T16:49:20.304Z"
   },
   {
    "duration": 11,
    "start_time": "2022-06-20T16:49:20.843Z"
   },
   {
    "duration": 12,
    "start_time": "2022-06-20T16:52:25.855Z"
   },
   {
    "duration": 11,
    "start_time": "2022-06-20T16:52:36.344Z"
   },
   {
    "duration": 10,
    "start_time": "2022-06-20T16:52:54.502Z"
   },
   {
    "duration": 17,
    "start_time": "2022-06-20T16:54:44.588Z"
   },
   {
    "duration": 17,
    "start_time": "2022-06-20T16:54:52.042Z"
   },
   {
    "duration": 13,
    "start_time": "2022-06-20T16:54:58.292Z"
   },
   {
    "duration": 17,
    "start_time": "2022-06-20T16:55:04.247Z"
   },
   {
    "duration": 15,
    "start_time": "2022-06-20T16:55:41.588Z"
   },
   {
    "duration": 16,
    "start_time": "2022-06-20T16:55:58.969Z"
   },
   {
    "duration": 16,
    "start_time": "2022-06-20T16:56:01.876Z"
   },
   {
    "duration": 13,
    "start_time": "2022-06-20T16:57:23.282Z"
   },
   {
    "duration": 12,
    "start_time": "2022-06-20T16:57:23.565Z"
   },
   {
    "duration": 24,
    "start_time": "2022-06-20T16:57:26.147Z"
   },
   {
    "duration": 16,
    "start_time": "2022-06-20T16:58:20.386Z"
   },
   {
    "duration": 21,
    "start_time": "2022-06-20T17:00:32.431Z"
   },
   {
    "duration": 167,
    "start_time": "2022-06-20T17:00:40.209Z"
   },
   {
    "duration": 474,
    "start_time": "2022-06-20T17:00:48.513Z"
   },
   {
    "duration": 451,
    "start_time": "2022-06-20T17:01:01.043Z"
   },
   {
    "duration": 577,
    "start_time": "2022-06-20T17:01:09.187Z"
   },
   {
    "duration": 510,
    "start_time": "2022-06-20T17:01:40.842Z"
   },
   {
    "duration": 17,
    "start_time": "2022-06-20T17:03:00.167Z"
   },
   {
    "duration": 27,
    "start_time": "2022-06-20T17:03:06.784Z"
   },
   {
    "duration": 483,
    "start_time": "2022-06-20T17:03:22.112Z"
   },
   {
    "duration": 13,
    "start_time": "2022-06-20T17:21:29.452Z"
   },
   {
    "duration": 16,
    "start_time": "2022-06-20T17:21:34.259Z"
   },
   {
    "duration": 22,
    "start_time": "2022-06-20T17:21:39.772Z"
   },
   {
    "duration": 10,
    "start_time": "2022-06-20T17:27:33.807Z"
   },
   {
    "duration": 10,
    "start_time": "2022-06-20T17:34:06.712Z"
   },
   {
    "duration": 1247,
    "start_time": "2022-06-21T13:58:11.837Z"
   },
   {
    "duration": 111,
    "start_time": "2022-06-21T13:58:13.086Z"
   },
   {
    "duration": 72,
    "start_time": "2022-06-21T13:58:13.198Z"
   },
   {
    "duration": 9,
    "start_time": "2022-06-21T13:58:56.746Z"
   },
   {
    "duration": 2,
    "start_time": "2022-06-21T13:58:57.210Z"
   },
   {
    "duration": 28,
    "start_time": "2022-06-21T13:58:57.946Z"
   },
   {
    "duration": 11,
    "start_time": "2022-06-21T13:59:00.699Z"
   },
   {
    "duration": 6,
    "start_time": "2022-06-21T13:59:01.395Z"
   },
   {
    "duration": 8,
    "start_time": "2022-06-21T13:59:03.241Z"
   },
   {
    "duration": 12,
    "start_time": "2022-06-21T13:59:03.686Z"
   },
   {
    "duration": 9,
    "start_time": "2022-06-21T13:59:05.009Z"
   },
   {
    "duration": 4,
    "start_time": "2022-06-21T13:59:06.010Z"
   },
   {
    "duration": 5,
    "start_time": "2022-06-21T13:59:06.441Z"
   },
   {
    "duration": 4,
    "start_time": "2022-06-21T13:59:06.817Z"
   },
   {
    "duration": 18,
    "start_time": "2022-06-21T13:59:07.586Z"
   },
   {
    "duration": 6,
    "start_time": "2022-06-21T13:59:10.490Z"
   },
   {
    "duration": 20,
    "start_time": "2022-06-21T13:59:11.197Z"
   },
   {
    "duration": 90,
    "start_time": "2022-06-21T13:59:50.034Z"
   },
   {
    "duration": 13,
    "start_time": "2022-06-21T13:59:55.506Z"
   },
   {
    "duration": 9,
    "start_time": "2022-06-21T14:00:01.513Z"
   },
   {
    "duration": 19,
    "start_time": "2022-06-21T14:00:02.362Z"
   },
   {
    "duration": 6,
    "start_time": "2022-06-21T14:00:09.594Z"
   },
   {
    "duration": 8,
    "start_time": "2022-06-21T14:00:09.794Z"
   },
   {
    "duration": 12,
    "start_time": "2022-06-21T14:00:10.301Z"
   },
   {
    "duration": 7,
    "start_time": "2022-06-21T14:07:57.386Z"
   },
   {
    "duration": 13,
    "start_time": "2022-06-21T14:08:03.202Z"
   },
   {
    "duration": 7,
    "start_time": "2022-06-21T14:08:05.376Z"
   },
   {
    "duration": 191,
    "start_time": "2022-06-21T14:08:12.346Z"
   },
   {
    "duration": 172,
    "start_time": "2022-06-21T14:09:08.826Z"
   },
   {
    "duration": 15,
    "start_time": "2022-06-21T14:09:32.452Z"
   },
   {
    "duration": 325,
    "start_time": "2022-06-21T14:09:32.469Z"
   },
   {
    "duration": 916,
    "start_time": "2022-06-21T14:10:28.121Z"
   },
   {
    "duration": 991,
    "start_time": "2022-06-21T14:10:34.545Z"
   },
   {
    "duration": 899,
    "start_time": "2022-06-21T14:10:45.080Z"
   },
   {
    "duration": 929,
    "start_time": "2022-06-21T14:11:13.877Z"
   },
   {
    "duration": 6,
    "start_time": "2022-06-21T14:11:31.400Z"
   },
   {
    "duration": 378,
    "start_time": "2022-06-21T14:11:44.744Z"
   },
   {
    "duration": 183,
    "start_time": "2022-06-21T14:12:54.031Z"
   },
   {
    "duration": 510,
    "start_time": "2022-06-21T14:13:13.534Z"
   },
   {
    "duration": 3,
    "start_time": "2022-06-21T14:14:49.671Z"
   },
   {
    "duration": 4,
    "start_time": "2022-06-21T14:15:00.108Z"
   },
   {
    "duration": 4,
    "start_time": "2022-06-21T14:15:06.474Z"
   },
   {
    "duration": 415,
    "start_time": "2022-06-21T14:15:28.150Z"
   },
   {
    "duration": 1035,
    "start_time": "2022-06-21T15:19:52.979Z"
   },
   {
    "duration": 72,
    "start_time": "2022-06-21T15:19:54.016Z"
   },
   {
    "duration": 67,
    "start_time": "2022-06-21T15:19:54.090Z"
   },
   {
    "duration": 4,
    "start_time": "2022-06-21T15:19:54.158Z"
   },
   {
    "duration": 8,
    "start_time": "2022-06-21T15:19:54.164Z"
   },
   {
    "duration": 22,
    "start_time": "2022-06-21T15:19:54.174Z"
   },
   {
    "duration": 14,
    "start_time": "2022-06-21T15:19:54.198Z"
   },
   {
    "duration": 7,
    "start_time": "2022-06-21T15:19:54.214Z"
   },
   {
    "duration": 35,
    "start_time": "2022-06-21T15:19:54.222Z"
   },
   {
    "duration": 11,
    "start_time": "2022-06-21T15:19:54.258Z"
   },
   {
    "duration": 10,
    "start_time": "2022-06-21T15:19:54.270Z"
   },
   {
    "duration": 5,
    "start_time": "2022-06-21T15:19:54.281Z"
   },
   {
    "duration": 7,
    "start_time": "2022-06-21T15:19:54.287Z"
   },
   {
    "duration": 8,
    "start_time": "2022-06-21T15:19:54.297Z"
   },
   {
    "duration": 6,
    "start_time": "2022-06-21T15:19:54.306Z"
   },
   {
    "duration": 43,
    "start_time": "2022-06-21T15:19:54.314Z"
   },
   {
    "duration": 12,
    "start_time": "2022-06-21T15:19:54.358Z"
   },
   {
    "duration": 7,
    "start_time": "2022-06-21T15:19:54.372Z"
   },
   {
    "duration": 20,
    "start_time": "2022-06-21T15:19:54.381Z"
   },
   {
    "duration": 24,
    "start_time": "2022-06-21T15:19:54.402Z"
   },
   {
    "duration": 250,
    "start_time": "2022-06-21T15:19:54.428Z"
   },
   {
    "duration": 13,
    "start_time": "2022-06-21T15:19:54.679Z"
   },
   {
    "duration": 295,
    "start_time": "2022-06-21T15:19:54.693Z"
   },
   {
    "duration": 921,
    "start_time": "2022-06-21T15:19:54.989Z"
   },
   {
    "duration": 7,
    "start_time": "2022-06-21T15:19:55.911Z"
   },
   {
    "duration": 188,
    "start_time": "2022-06-21T15:19:55.919Z"
   },
   {
    "duration": 410,
    "start_time": "2022-06-21T15:19:56.108Z"
   },
   {
    "duration": 324,
    "start_time": "2022-06-21T15:19:56.519Z"
   },
   {
    "duration": 163,
    "start_time": "2022-06-21T15:19:56.844Z"
   },
   {
    "duration": 153,
    "start_time": "2022-06-21T15:19:57.009Z"
   },
   {
    "duration": 5,
    "start_time": "2022-06-21T15:19:57.164Z"
   },
   {
    "duration": 13,
    "start_time": "2022-06-21T15:19:57.171Z"
   },
   {
    "duration": 11,
    "start_time": "2022-06-21T15:19:57.186Z"
   },
   {
    "duration": 8,
    "start_time": "2022-06-21T15:19:57.198Z"
   },
   {
    "duration": 432,
    "start_time": "2022-06-21T15:19:57.207Z"
   },
   {
    "duration": 382,
    "start_time": "2022-06-21T15:19:57.640Z"
   },
   {
    "duration": 16,
    "start_time": "2022-06-21T15:19:58.024Z"
   },
   {
    "duration": 10,
    "start_time": "2022-06-21T15:19:58.051Z"
   },
   {
    "duration": 458,
    "start_time": "2022-06-21T15:22:14.732Z"
   },
   {
    "duration": 1027,
    "start_time": "2022-06-21T15:22:22.895Z"
   },
   {
    "duration": 48,
    "start_time": "2022-06-21T15:22:23.924Z"
   },
   {
    "duration": 88,
    "start_time": "2022-06-21T15:22:23.973Z"
   },
   {
    "duration": 5,
    "start_time": "2022-06-21T15:22:24.063Z"
   },
   {
    "duration": 6,
    "start_time": "2022-06-21T15:22:24.070Z"
   },
   {
    "duration": 19,
    "start_time": "2022-06-21T15:22:24.077Z"
   },
   {
    "duration": 12,
    "start_time": "2022-06-21T15:22:24.098Z"
   },
   {
    "duration": 42,
    "start_time": "2022-06-21T15:22:24.111Z"
   },
   {
    "duration": 10,
    "start_time": "2022-06-21T15:22:24.154Z"
   },
   {
    "duration": 11,
    "start_time": "2022-06-21T15:22:24.166Z"
   },
   {
    "duration": 9,
    "start_time": "2022-06-21T15:22:24.179Z"
   },
   {
    "duration": 5,
    "start_time": "2022-06-21T15:22:24.190Z"
   },
   {
    "duration": 6,
    "start_time": "2022-06-21T15:22:24.197Z"
   },
   {
    "duration": 5,
    "start_time": "2022-06-21T15:22:24.253Z"
   },
   {
    "duration": 7,
    "start_time": "2022-06-21T15:22:24.259Z"
   },
   {
    "duration": 9,
    "start_time": "2022-06-21T15:22:24.268Z"
   },
   {
    "duration": 12,
    "start_time": "2022-06-21T15:22:24.279Z"
   },
   {
    "duration": 10,
    "start_time": "2022-06-21T15:22:24.293Z"
   },
   {
    "duration": 52,
    "start_time": "2022-06-21T15:22:24.305Z"
   },
   {
    "duration": 7,
    "start_time": "2022-06-21T15:22:24.359Z"
   },
   {
    "duration": 236,
    "start_time": "2022-06-21T15:22:24.368Z"
   },
   {
    "duration": 12,
    "start_time": "2022-06-21T15:22:24.606Z"
   },
   {
    "duration": 338,
    "start_time": "2022-06-21T15:22:24.620Z"
   },
   {
    "duration": 981,
    "start_time": "2022-06-21T15:22:24.960Z"
   },
   {
    "duration": 14,
    "start_time": "2022-06-21T15:22:25.943Z"
   },
   {
    "duration": 210,
    "start_time": "2022-06-21T15:22:25.959Z"
   },
   {
    "duration": 418,
    "start_time": "2022-06-21T15:22:26.171Z"
   },
   {
    "duration": 319,
    "start_time": "2022-06-21T15:22:26.591Z"
   },
   {
    "duration": 148,
    "start_time": "2022-06-21T15:22:26.912Z"
   },
   {
    "duration": 151,
    "start_time": "2022-06-21T15:22:27.062Z"
   },
   {
    "duration": 5,
    "start_time": "2022-06-21T15:22:27.214Z"
   },
   {
    "duration": 11,
    "start_time": "2022-06-21T15:22:27.222Z"
   },
   {
    "duration": 24,
    "start_time": "2022-06-21T15:22:27.234Z"
   },
   {
    "duration": 9,
    "start_time": "2022-06-21T15:22:27.260Z"
   },
   {
    "duration": 393,
    "start_time": "2022-06-21T15:22:27.271Z"
   },
   {
    "duration": 379,
    "start_time": "2022-06-21T15:22:27.665Z"
   },
   {
    "duration": 17,
    "start_time": "2022-06-21T15:22:28.045Z"
   },
   {
    "duration": 10,
    "start_time": "2022-06-21T15:22:28.063Z"
   },
   {
    "duration": 3,
    "start_time": "2022-06-21T15:22:53.934Z"
   },
   {
    "duration": 49,
    "start_time": "2022-06-21T15:22:53.938Z"
   },
   {
    "duration": 71,
    "start_time": "2022-06-21T15:22:53.989Z"
   },
   {
    "duration": 4,
    "start_time": "2022-06-21T15:22:54.061Z"
   },
   {
    "duration": 3,
    "start_time": "2022-06-21T15:22:54.067Z"
   },
   {
    "duration": 22,
    "start_time": "2022-06-21T15:22:54.072Z"
   },
   {
    "duration": 13,
    "start_time": "2022-06-21T15:22:54.095Z"
   },
   {
    "duration": 43,
    "start_time": "2022-06-21T15:22:54.110Z"
   },
   {
    "duration": 10,
    "start_time": "2022-06-21T15:22:54.154Z"
   },
   {
    "duration": 14,
    "start_time": "2022-06-21T15:22:54.165Z"
   },
   {
    "duration": 14,
    "start_time": "2022-06-21T15:22:54.180Z"
   },
   {
    "duration": 6,
    "start_time": "2022-06-21T15:22:54.195Z"
   },
   {
    "duration": 13,
    "start_time": "2022-06-21T15:22:54.203Z"
   },
   {
    "duration": 34,
    "start_time": "2022-06-21T15:22:54.218Z"
   },
   {
    "duration": 8,
    "start_time": "2022-06-21T15:22:54.254Z"
   },
   {
    "duration": 17,
    "start_time": "2022-06-21T15:22:54.263Z"
   },
   {
    "duration": 13,
    "start_time": "2022-06-21T15:22:54.282Z"
   },
   {
    "duration": 8,
    "start_time": "2022-06-21T15:22:54.297Z"
   },
   {
    "duration": 46,
    "start_time": "2022-06-21T15:22:54.307Z"
   },
   {
    "duration": 11,
    "start_time": "2022-06-21T15:22:54.354Z"
   },
   {
    "duration": 216,
    "start_time": "2022-06-21T15:22:54.366Z"
   },
   {
    "duration": 14,
    "start_time": "2022-06-21T15:22:54.584Z"
   },
   {
    "duration": 392,
    "start_time": "2022-06-21T15:22:54.600Z"
   },
   {
    "duration": 906,
    "start_time": "2022-06-21T15:22:56.946Z"
   },
   {
    "duration": 1010,
    "start_time": "2022-06-21T15:23:15.332Z"
   },
   {
    "duration": 1113,
    "start_time": "2022-06-21T15:23:21.842Z"
   },
   {
    "duration": 1036,
    "start_time": "2022-06-21T15:23:47.332Z"
   },
   {
    "duration": 87,
    "start_time": "2022-06-21T15:25:04.242Z"
   },
   {
    "duration": 16,
    "start_time": "2022-06-21T15:25:09.618Z"
   },
   {
    "duration": 13,
    "start_time": "2022-06-21T15:25:19.386Z"
   },
   {
    "duration": 37,
    "start_time": "2022-06-21T15:25:30.447Z"
   },
   {
    "duration": 8,
    "start_time": "2022-06-21T15:25:42.497Z"
   },
   {
    "duration": 3,
    "start_time": "2022-06-21T15:26:14.992Z"
   },
   {
    "duration": 52,
    "start_time": "2022-06-21T15:26:14.997Z"
   },
   {
    "duration": 68,
    "start_time": "2022-06-21T15:26:15.051Z"
   },
   {
    "duration": 4,
    "start_time": "2022-06-21T15:26:15.150Z"
   },
   {
    "duration": 8,
    "start_time": "2022-06-21T15:26:15.156Z"
   },
   {
    "duration": 21,
    "start_time": "2022-06-21T15:26:15.166Z"
   },
   {
    "duration": 13,
    "start_time": "2022-06-21T15:26:15.189Z"
   },
   {
    "duration": 6,
    "start_time": "2022-06-21T15:26:15.204Z"
   },
   {
    "duration": 39,
    "start_time": "2022-06-21T15:26:15.212Z"
   },
   {
    "duration": 16,
    "start_time": "2022-06-21T15:26:15.253Z"
   },
   {
    "duration": 9,
    "start_time": "2022-06-21T15:26:15.271Z"
   },
   {
    "duration": 5,
    "start_time": "2022-06-21T15:26:15.282Z"
   },
   {
    "duration": 11,
    "start_time": "2022-06-21T15:26:15.289Z"
   },
   {
    "duration": 7,
    "start_time": "2022-06-21T15:26:15.303Z"
   },
   {
    "duration": 41,
    "start_time": "2022-06-21T15:26:15.311Z"
   },
   {
    "duration": 10,
    "start_time": "2022-06-21T15:26:15.353Z"
   },
   {
    "duration": 14,
    "start_time": "2022-06-21T15:26:15.364Z"
   },
   {
    "duration": 8,
    "start_time": "2022-06-21T15:26:15.379Z"
   },
   {
    "duration": 8,
    "start_time": "2022-06-21T15:26:17.528Z"
   },
   {
    "duration": 8,
    "start_time": "2022-06-21T15:26:18.000Z"
   },
   {
    "duration": 8,
    "start_time": "2022-06-21T15:26:20.089Z"
   },
   {
    "duration": 8,
    "start_time": "2022-06-21T15:26:51.608Z"
   },
   {
    "duration": 7,
    "start_time": "2022-06-21T15:27:09.416Z"
   },
   {
    "duration": 6,
    "start_time": "2022-06-21T15:27:23.969Z"
   },
   {
    "duration": 8,
    "start_time": "2022-06-21T15:27:36.744Z"
   },
   {
    "duration": 151,
    "start_time": "2022-06-21T15:27:40.479Z"
   },
   {
    "duration": 18,
    "start_time": "2022-06-21T15:27:44.474Z"
   },
   {
    "duration": 317,
    "start_time": "2022-06-21T15:27:47.473Z"
   },
   {
    "duration": 889,
    "start_time": "2022-06-21T15:28:15.703Z"
   },
   {
    "duration": 981,
    "start_time": "2022-06-21T15:28:47.983Z"
   },
   {
    "duration": 897,
    "start_time": "2022-06-21T15:28:56.184Z"
   },
   {
    "duration": 923,
    "start_time": "2022-06-21T15:29:09.734Z"
   },
   {
    "duration": 7,
    "start_time": "2022-06-21T15:29:16.903Z"
   },
   {
    "duration": 186,
    "start_time": "2022-06-21T15:29:31.894Z"
   },
   {
    "duration": 184,
    "start_time": "2022-06-21T15:29:38.023Z"
   },
   {
    "duration": 176,
    "start_time": "2022-06-21T15:30:03.178Z"
   },
   {
    "duration": 180,
    "start_time": "2022-06-21T15:30:10.542Z"
   },
   {
    "duration": 276,
    "start_time": "2022-06-21T15:30:13.682Z"
   },
   {
    "duration": 171,
    "start_time": "2022-06-21T15:30:23.693Z"
   },
   {
    "duration": 412,
    "start_time": "2022-06-21T15:30:29.741Z"
   },
   {
    "duration": 372,
    "start_time": "2022-06-21T15:31:19.384Z"
   },
   {
    "duration": 244,
    "start_time": "2022-06-21T15:32:00.120Z"
   },
   {
    "duration": 215,
    "start_time": "2022-06-21T15:32:06.828Z"
   },
   {
    "duration": 305,
    "start_time": "2022-06-21T15:32:10.812Z"
   },
   {
    "duration": 252,
    "start_time": "2022-06-21T15:32:14.700Z"
   },
   {
    "duration": 231,
    "start_time": "2022-06-21T15:32:19.229Z"
   },
   {
    "duration": 234,
    "start_time": "2022-06-21T15:32:23.428Z"
   },
   {
    "duration": 248,
    "start_time": "2022-06-21T15:32:27.644Z"
   },
   {
    "duration": 247,
    "start_time": "2022-06-21T15:32:31.148Z"
   },
   {
    "duration": 397,
    "start_time": "2022-06-21T15:32:44.188Z"
   },
   {
    "duration": 313,
    "start_time": "2022-06-21T15:32:52.803Z"
   },
   {
    "duration": 141,
    "start_time": "2022-06-21T15:32:59.545Z"
   },
   {
    "duration": 120,
    "start_time": "2022-06-21T15:33:03.795Z"
   },
   {
    "duration": 161,
    "start_time": "2022-06-21T15:33:10.836Z"
   },
   {
    "duration": 123,
    "start_time": "2022-06-21T15:33:26.212Z"
   },
   {
    "duration": 120,
    "start_time": "2022-06-21T15:33:38.574Z"
   },
   {
    "duration": 109,
    "start_time": "2022-06-21T15:33:44.086Z"
   },
   {
    "duration": 126,
    "start_time": "2022-06-21T15:34:12.594Z"
   },
   {
    "duration": 200,
    "start_time": "2022-06-21T15:34:16.900Z"
   },
   {
    "duration": 129,
    "start_time": "2022-06-21T15:34:33.724Z"
   },
   {
    "duration": 5,
    "start_time": "2022-06-21T15:34:38.531Z"
   },
   {
    "duration": 10,
    "start_time": "2022-06-21T15:34:39.675Z"
   },
   {
    "duration": 14,
    "start_time": "2022-06-21T15:36:05.642Z"
   },
   {
    "duration": 5,
    "start_time": "2022-06-21T15:39:31.201Z"
   },
   {
    "duration": 177,
    "start_time": "2022-06-21T15:39:31.928Z"
   },
   {
    "duration": 418,
    "start_time": "2022-06-21T15:39:45.202Z"
   },
   {
    "duration": 344,
    "start_time": "2022-06-21T15:40:00.217Z"
   },
   {
    "duration": 183,
    "start_time": "2022-06-21T15:40:04.344Z"
   },
   {
    "duration": 161,
    "start_time": "2022-06-21T15:40:04.595Z"
   },
   {
    "duration": 5,
    "start_time": "2022-06-21T15:40:11.992Z"
   },
   {
    "duration": 9,
    "start_time": "2022-06-21T15:40:12.536Z"
   },
   {
    "duration": 7,
    "start_time": "2022-06-21T15:40:30.475Z"
   },
   {
    "duration": 184,
    "start_time": "2022-06-21T15:40:30.736Z"
   },
   {
    "duration": 499,
    "start_time": "2022-06-21T15:40:31.008Z"
   },
   {
    "duration": 346,
    "start_time": "2022-06-21T15:40:31.509Z"
   },
   {
    "duration": 111,
    "start_time": "2022-06-21T15:40:36.333Z"
   },
   {
    "duration": 124,
    "start_time": "2022-06-21T15:40:36.712Z"
   },
   {
    "duration": 5,
    "start_time": "2022-06-21T15:40:37.087Z"
   },
   {
    "duration": 9,
    "start_time": "2022-06-21T15:40:37.632Z"
   },
   {
    "duration": 3,
    "start_time": "2022-06-21T15:42:04.030Z"
   },
   {
    "duration": 5,
    "start_time": "2022-06-21T15:42:46.909Z"
   },
   {
    "duration": 174,
    "start_time": "2022-06-21T15:42:47.172Z"
   },
   {
    "duration": 394,
    "start_time": "2022-06-21T15:42:47.354Z"
   },
   {
    "duration": 356,
    "start_time": "2022-06-21T15:42:47.751Z"
   },
   {
    "duration": 3,
    "start_time": "2022-06-21T15:43:01.623Z"
   },
   {
    "duration": 77,
    "start_time": "2022-06-21T15:43:01.629Z"
   },
   {
    "duration": 67,
    "start_time": "2022-06-21T15:43:01.708Z"
   },
   {
    "duration": 5,
    "start_time": "2022-06-21T15:43:01.777Z"
   },
   {
    "duration": 9,
    "start_time": "2022-06-21T15:43:01.784Z"
   },
   {
    "duration": 29,
    "start_time": "2022-06-21T15:43:01.795Z"
   },
   {
    "duration": 18,
    "start_time": "2022-06-21T15:43:01.850Z"
   },
   {
    "duration": 11,
    "start_time": "2022-06-21T15:43:01.869Z"
   },
   {
    "duration": 10,
    "start_time": "2022-06-21T15:43:01.882Z"
   },
   {
    "duration": 15,
    "start_time": "2022-06-21T15:43:01.894Z"
   },
   {
    "duration": 47,
    "start_time": "2022-06-21T15:43:01.911Z"
   },
   {
    "duration": 21,
    "start_time": "2022-06-21T15:43:01.959Z"
   },
   {
    "duration": 19,
    "start_time": "2022-06-21T15:43:01.982Z"
   },
   {
    "duration": 23,
    "start_time": "2022-06-21T15:43:02.004Z"
   },
   {
    "duration": 9,
    "start_time": "2022-06-21T15:43:02.029Z"
   },
   {
    "duration": 23,
    "start_time": "2022-06-21T15:43:02.040Z"
   },
   {
    "duration": 17,
    "start_time": "2022-06-21T15:43:02.066Z"
   },
   {
    "duration": 8,
    "start_time": "2022-06-21T15:43:02.085Z"
   },
   {
    "duration": 18,
    "start_time": "2022-06-21T15:43:02.095Z"
   },
   {
    "duration": 39,
    "start_time": "2022-06-21T15:43:02.115Z"
   },
   {
    "duration": 195,
    "start_time": "2022-06-21T15:43:02.156Z"
   },
   {
    "duration": 15,
    "start_time": "2022-06-21T15:43:02.353Z"
   },
   {
    "duration": 328,
    "start_time": "2022-06-21T15:43:02.370Z"
   },
   {
    "duration": 1033,
    "start_time": "2022-06-21T15:43:02.699Z"
   },
   {
    "duration": 18,
    "start_time": "2022-06-21T15:43:03.733Z"
   },
   {
    "duration": 207,
    "start_time": "2022-06-21T15:43:03.753Z"
   },
   {
    "duration": 428,
    "start_time": "2022-06-21T15:43:07.038Z"
   },
   {
    "duration": 402,
    "start_time": "2022-06-21T15:43:44.571Z"
   },
   {
    "duration": 147,
    "start_time": "2022-06-21T15:43:49.686Z"
   },
   {
    "duration": 171,
    "start_time": "2022-06-21T15:43:51.134Z"
   },
   {
    "duration": 7,
    "start_time": "2022-06-21T15:43:54.094Z"
   },
   {
    "duration": 10,
    "start_time": "2022-06-21T15:43:54.317Z"
   },
   {
    "duration": 7,
    "start_time": "2022-06-21T15:59:34.390Z"
   },
   {
    "duration": 12,
    "start_time": "2022-06-21T15:59:35.181Z"
   },
   {
    "duration": 163,
    "start_time": "2022-06-21T15:59:45.879Z"
   },
   {
    "duration": 272,
    "start_time": "2022-06-21T15:59:56.212Z"
   },
   {
    "duration": 131,
    "start_time": "2022-06-21T15:59:56.487Z"
   },
   {
    "duration": 8,
    "start_time": "2022-06-21T16:00:04.981Z"
   },
   {
    "duration": 12,
    "start_time": "2022-06-21T16:00:05.412Z"
   },
   {
    "duration": 444,
    "start_time": "2022-06-21T16:06:09.793Z"
   },
   {
    "duration": 431,
    "start_time": "2022-06-21T16:06:47.840Z"
   },
   {
    "duration": 582,
    "start_time": "2022-06-21T16:07:02.015Z"
   },
   {
    "duration": 459,
    "start_time": "2022-06-21T16:07:12.087Z"
   },
   {
    "duration": 527,
    "start_time": "2022-06-21T16:07:23.087Z"
   },
   {
    "duration": 13,
    "start_time": "2022-06-21T16:31:48.523Z"
   },
   {
    "duration": 5,
    "start_time": "2022-06-21T16:32:56.035Z"
   },
   {
    "duration": 13,
    "start_time": "2022-06-21T16:33:03.535Z"
   },
   {
    "duration": 10,
    "start_time": "2022-06-21T16:33:06.219Z"
   },
   {
    "duration": 1046,
    "start_time": "2022-06-22T11:55:17.945Z"
   },
   {
    "duration": 58,
    "start_time": "2022-06-22T11:55:27.803Z"
   },
   {
    "duration": 72,
    "start_time": "2022-06-22T11:55:29.675Z"
   },
   {
    "duration": 3,
    "start_time": "2022-06-22T11:55:46.557Z"
   },
   {
    "duration": 106,
    "start_time": "2022-06-22T11:58:15.007Z"
   },
   {
    "duration": 5,
    "start_time": "2022-06-22T11:58:17.943Z"
   },
   {
    "duration": 4,
    "start_time": "2022-06-22T11:58:19.353Z"
   },
   {
    "duration": 13,
    "start_time": "2022-06-22T11:58:24.271Z"
   },
   {
    "duration": 10,
    "start_time": "2022-06-22T11:58:28.265Z"
   },
   {
    "duration": 5,
    "start_time": "2022-06-22T11:58:31.664Z"
   },
   {
    "duration": 6,
    "start_time": "2022-06-22T12:01:28.567Z"
   },
   {
    "duration": 7,
    "start_time": "2022-06-22T12:01:32.880Z"
   },
   {
    "duration": 193,
    "start_time": "2022-06-22T12:01:37.314Z"
   },
   {
    "duration": 12,
    "start_time": "2022-06-22T12:01:40.589Z"
   },
   {
    "duration": 309,
    "start_time": "2022-06-22T12:01:44.177Z"
   },
   {
    "duration": 1010,
    "start_time": "2022-06-22T12:01:49.667Z"
   },
   {
    "duration": 7,
    "start_time": "2022-06-22T12:04:49.382Z"
   },
   {
    "duration": 13,
    "start_time": "2022-06-22T12:12:24.917Z"
   },
   {
    "duration": 49,
    "start_time": "2022-06-22T15:47:43.571Z"
   },
   {
    "duration": 1531,
    "start_time": "2022-06-22T15:47:49.017Z"
   },
   {
    "duration": 107,
    "start_time": "2022-06-22T15:47:50.550Z"
   },
   {
    "duration": 96,
    "start_time": "2022-06-22T15:47:50.659Z"
   },
   {
    "duration": 5,
    "start_time": "2022-06-22T15:47:50.757Z"
   },
   {
    "duration": 11,
    "start_time": "2022-06-22T15:47:50.763Z"
   },
   {
    "duration": 25,
    "start_time": "2022-06-22T15:47:50.776Z"
   },
   {
    "duration": 41,
    "start_time": "2022-06-22T15:47:50.803Z"
   },
   {
    "duration": 13,
    "start_time": "2022-06-22T15:47:50.846Z"
   },
   {
    "duration": 14,
    "start_time": "2022-06-22T15:47:50.861Z"
   },
   {
    "duration": 14,
    "start_time": "2022-06-22T15:47:51.202Z"
   },
   {
    "duration": 11,
    "start_time": "2022-06-22T15:47:51.377Z"
   },
   {
    "duration": 6,
    "start_time": "2022-06-22T15:47:51.553Z"
   },
   {
    "duration": 5,
    "start_time": "2022-06-22T15:47:52.042Z"
   },
   {
    "duration": 4,
    "start_time": "2022-06-22T15:47:52.217Z"
   },
   {
    "duration": 7,
    "start_time": "2022-06-22T15:47:52.385Z"
   },
   {
    "duration": 9,
    "start_time": "2022-06-22T15:47:52.572Z"
   },
   {
    "duration": 13,
    "start_time": "2022-06-22T15:47:52.769Z"
   },
   {
    "duration": 6,
    "start_time": "2022-06-22T15:47:54.795Z"
   },
   {
    "duration": 14,
    "start_time": "2022-06-22T15:47:55.600Z"
   },
   {
    "duration": 7,
    "start_time": "2022-06-22T15:47:58.977Z"
   },
   {
    "duration": 193,
    "start_time": "2022-06-22T15:47:59.184Z"
   },
   {
    "duration": 13,
    "start_time": "2022-06-22T15:47:59.379Z"
   },
   {
    "duration": 346,
    "start_time": "2022-06-22T15:48:03.198Z"
   },
   {
    "duration": 545,
    "start_time": "2022-06-22T15:48:04.488Z"
   },
   {
    "duration": 16,
    "start_time": "2022-06-22T15:48:15.602Z"
   },
   {
    "duration": 1089,
    "start_time": "2022-06-22T15:48:17.016Z"
   },
   {
    "duration": 23,
    "start_time": "2022-06-22T15:48:28.921Z"
   },
   {
    "duration": 18,
    "start_time": "2022-06-22T15:48:52.880Z"
   },
   {
    "duration": 890,
    "start_time": "2022-06-22T15:55:36.020Z"
   },
   {
    "duration": 13,
    "start_time": "2022-06-22T15:55:42.272Z"
   },
   {
    "duration": 14,
    "start_time": "2022-06-22T15:56:59.499Z"
   },
   {
    "duration": 13,
    "start_time": "2022-06-22T15:58:08.771Z"
   },
   {
    "duration": 18,
    "start_time": "2022-06-22T15:58:16.977Z"
   },
   {
    "duration": 3,
    "start_time": "2022-06-22T16:00:10.577Z"
   },
   {
    "duration": 11,
    "start_time": "2022-06-22T16:00:59.612Z"
   },
   {
    "duration": 328,
    "start_time": "2022-06-22T16:01:01.934Z"
   },
   {
    "duration": 290,
    "start_time": "2022-06-22T16:01:16.598Z"
   },
   {
    "duration": 339,
    "start_time": "2022-06-22T16:01:29.121Z"
   },
   {
    "duration": 729,
    "start_time": "2022-06-22T16:01:50.046Z"
   },
   {
    "duration": 723,
    "start_time": "2022-06-22T16:02:00.778Z"
   },
   {
    "duration": 9,
    "start_time": "2022-06-22T16:04:03.967Z"
   },
   {
    "duration": 530,
    "start_time": "2022-06-22T16:04:04.467Z"
   },
   {
    "duration": 159,
    "start_time": "2022-06-22T16:07:40.237Z"
   },
   {
    "duration": 159,
    "start_time": "2022-06-22T16:07:41.647Z"
   },
   {
    "duration": 389,
    "start_time": "2022-06-22T16:09:29.217Z"
   },
   {
    "duration": 1507,
    "start_time": "2022-06-22T16:13:23.975Z"
   },
   {
    "duration": 4242,
    "start_time": "2022-06-22T16:13:35.977Z"
   },
   {
    "duration": 825,
    "start_time": "2022-06-22T16:13:48.719Z"
   },
   {
    "duration": 666,
    "start_time": "2022-06-22T16:14:00.727Z"
   },
   {
    "duration": 21,
    "start_time": "2022-06-22T16:18:10.411Z"
   },
   {
    "duration": 46,
    "start_time": "2022-06-22T16:18:35.667Z"
   },
   {
    "duration": 19,
    "start_time": "2022-06-22T16:18:41.081Z"
   },
   {
    "duration": 1296,
    "start_time": "2022-06-22T16:20:30.358Z"
   },
   {
    "duration": 18,
    "start_time": "2022-06-22T16:20:46.074Z"
   },
   {
    "duration": 7,
    "start_time": "2022-06-22T16:21:42.988Z"
   },
   {
    "duration": 10,
    "start_time": "2022-06-22T16:21:43.273Z"
   },
   {
    "duration": 116,
    "start_time": "2022-06-22T16:21:57.742Z"
   },
   {
    "duration": 139,
    "start_time": "2022-06-22T16:22:01.739Z"
   },
   {
    "duration": 6,
    "start_time": "2022-06-22T16:22:04.315Z"
   },
   {
    "duration": 10,
    "start_time": "2022-06-22T16:22:05.053Z"
   },
   {
    "duration": 127,
    "start_time": "2022-06-22T17:12:22.561Z"
   },
   {
    "duration": 1127,
    "start_time": "2022-06-22T17:22:52.759Z"
   },
   {
    "duration": 53,
    "start_time": "2022-06-22T17:22:53.888Z"
   },
   {
    "duration": 90,
    "start_time": "2022-06-22T17:22:53.943Z"
   },
   {
    "duration": 4,
    "start_time": "2022-06-22T17:22:54.034Z"
   },
   {
    "duration": 7,
    "start_time": "2022-06-22T17:22:54.040Z"
   },
   {
    "duration": 24,
    "start_time": "2022-06-22T17:22:54.049Z"
   },
   {
    "duration": 15,
    "start_time": "2022-06-22T17:22:54.075Z"
   },
   {
    "duration": 6,
    "start_time": "2022-06-22T17:22:54.092Z"
   },
   {
    "duration": 34,
    "start_time": "2022-06-22T17:22:54.100Z"
   },
   {
    "duration": 12,
    "start_time": "2022-06-22T17:22:54.136Z"
   },
   {
    "duration": 11,
    "start_time": "2022-06-22T17:22:54.149Z"
   },
   {
    "duration": 15,
    "start_time": "2022-06-22T17:22:54.161Z"
   },
   {
    "duration": 9,
    "start_time": "2022-06-22T17:22:54.178Z"
   },
   {
    "duration": 8,
    "start_time": "2022-06-22T17:22:54.190Z"
   },
   {
    "duration": 27,
    "start_time": "2022-06-22T17:22:54.199Z"
   },
   {
    "duration": 7,
    "start_time": "2022-06-22T17:22:54.227Z"
   },
   {
    "duration": 10,
    "start_time": "2022-06-22T17:22:54.235Z"
   },
   {
    "duration": 14,
    "start_time": "2022-06-22T17:22:54.247Z"
   },
   {
    "duration": 9,
    "start_time": "2022-06-22T17:22:54.263Z"
   },
   {
    "duration": 20,
    "start_time": "2022-06-22T17:22:54.274Z"
   },
   {
    "duration": 33,
    "start_time": "2022-06-22T17:22:54.296Z"
   },
   {
    "duration": 230,
    "start_time": "2022-06-22T17:22:54.332Z"
   },
   {
    "duration": 16,
    "start_time": "2022-06-22T17:22:54.564Z"
   },
   {
    "duration": 322,
    "start_time": "2022-06-22T17:22:54.581Z"
   },
   {
    "duration": 9,
    "start_time": "2022-06-22T17:22:54.905Z"
   },
   {
    "duration": 486,
    "start_time": "2022-06-22T17:22:54.927Z"
   },
   {
    "duration": 9,
    "start_time": "2022-06-22T17:22:55.415Z"
   },
   {
    "duration": 203,
    "start_time": "2022-06-22T17:22:55.425Z"
   },
   {
    "duration": 448,
    "start_time": "2022-06-22T17:22:55.630Z"
   },
   {
    "duration": 467,
    "start_time": "2022-06-22T17:22:56.080Z"
   },
   {
    "duration": 141,
    "start_time": "2022-06-22T17:22:56.549Z"
   },
   {
    "duration": 169,
    "start_time": "2022-06-22T17:22:56.693Z"
   },
   {
    "duration": 5,
    "start_time": "2022-06-22T17:22:56.865Z"
   },
   {
    "duration": 17,
    "start_time": "2022-06-22T17:22:56.872Z"
   },
   {
    "duration": 378,
    "start_time": "2022-06-22T17:22:56.891Z"
   },
   {
    "duration": 11,
    "start_time": "2022-06-22T17:22:57.271Z"
   },
   {
    "duration": 23,
    "start_time": "2022-06-22T17:22:57.284Z"
   },
   {
    "duration": 396,
    "start_time": "2022-06-22T17:22:57.309Z"
   },
   {
    "duration": 407,
    "start_time": "2022-06-22T17:22:57.706Z"
   },
   {
    "duration": 24,
    "start_time": "2022-06-22T17:22:58.115Z"
   },
   {
    "duration": 10,
    "start_time": "2022-06-22T17:22:58.142Z"
   },
   {
    "duration": 30,
    "start_time": "2022-06-22T17:22:58.154Z"
   },
   {
    "duration": 18,
    "start_time": "2022-06-22T17:25:49.957Z"
   },
   {
    "duration": 19,
    "start_time": "2022-06-22T17:26:00.650Z"
   },
   {
    "duration": 20,
    "start_time": "2022-06-22T17:26:20.361Z"
   },
   {
    "duration": 22,
    "start_time": "2022-06-22T17:26:24.561Z"
   },
   {
    "duration": 18,
    "start_time": "2022-06-22T17:26:31.825Z"
   },
   {
    "duration": 1173,
    "start_time": "2022-06-22T17:28:06.324Z"
   },
   {
    "duration": 56,
    "start_time": "2022-06-22T17:28:07.500Z"
   },
   {
    "duration": 92,
    "start_time": "2022-06-22T17:28:07.559Z"
   },
   {
    "duration": 5,
    "start_time": "2022-06-22T17:28:07.652Z"
   },
   {
    "duration": 7,
    "start_time": "2022-06-22T17:28:07.660Z"
   },
   {
    "duration": 23,
    "start_time": "2022-06-22T17:28:07.669Z"
   },
   {
    "duration": 34,
    "start_time": "2022-06-22T17:28:07.693Z"
   },
   {
    "duration": 6,
    "start_time": "2022-06-22T17:28:07.729Z"
   },
   {
    "duration": 10,
    "start_time": "2022-06-22T17:28:07.737Z"
   },
   {
    "duration": 12,
    "start_time": "2022-06-22T17:28:07.749Z"
   },
   {
    "duration": 10,
    "start_time": "2022-06-22T17:28:07.763Z"
   },
   {
    "duration": 13,
    "start_time": "2022-06-22T17:28:07.774Z"
   },
   {
    "duration": 39,
    "start_time": "2022-06-22T17:28:07.788Z"
   },
   {
    "duration": 5,
    "start_time": "2022-06-22T17:28:07.831Z"
   },
   {
    "duration": 10,
    "start_time": "2022-06-22T17:28:07.837Z"
   },
   {
    "duration": 8,
    "start_time": "2022-06-22T17:28:07.848Z"
   },
   {
    "duration": 9,
    "start_time": "2022-06-22T17:28:07.857Z"
   },
   {
    "duration": 15,
    "start_time": "2022-06-22T17:28:07.868Z"
   },
   {
    "duration": 11,
    "start_time": "2022-06-22T17:28:07.884Z"
   },
   {
    "duration": 35,
    "start_time": "2022-06-22T17:28:07.897Z"
   },
   {
    "duration": 6,
    "start_time": "2022-06-22T17:28:07.934Z"
   },
   {
    "duration": 192,
    "start_time": "2022-06-22T17:28:07.942Z"
   },
   {
    "duration": 13,
    "start_time": "2022-06-22T17:28:08.136Z"
   },
   {
    "duration": 332,
    "start_time": "2022-06-22T17:28:08.151Z"
   },
   {
    "duration": 9,
    "start_time": "2022-06-22T17:28:08.484Z"
   },
   {
    "duration": 494,
    "start_time": "2022-06-22T17:28:08.495Z"
   },
   {
    "duration": 8,
    "start_time": "2022-06-22T17:28:08.992Z"
   },
   {
    "duration": 207,
    "start_time": "2022-06-22T17:28:09.002Z"
   },
   {
    "duration": 469,
    "start_time": "2022-06-22T17:28:09.211Z"
   },
   {
    "duration": 488,
    "start_time": "2022-06-22T17:28:09.682Z"
   },
   {
    "duration": 150,
    "start_time": "2022-06-22T17:28:10.172Z"
   },
   {
    "duration": 169,
    "start_time": "2022-06-22T17:28:10.326Z"
   },
   {
    "duration": 5,
    "start_time": "2022-06-22T17:28:10.497Z"
   },
   {
    "duration": 24,
    "start_time": "2022-06-22T17:28:10.504Z"
   },
   {
    "duration": 385,
    "start_time": "2022-06-22T17:28:10.529Z"
   },
   {
    "duration": 17,
    "start_time": "2022-06-22T17:28:10.915Z"
   },
   {
    "duration": 21,
    "start_time": "2022-06-22T17:28:10.934Z"
   },
   {
    "duration": 410,
    "start_time": "2022-06-22T17:28:10.956Z"
   },
   {
    "duration": 442,
    "start_time": "2022-06-22T17:28:11.368Z"
   },
   {
    "duration": 21,
    "start_time": "2022-06-22T17:28:15.249Z"
   },
   {
    "duration": 17,
    "start_time": "2022-06-22T17:28:54.009Z"
   },
   {
    "duration": 18,
    "start_time": "2022-06-22T17:28:58.850Z"
   },
   {
    "duration": 10,
    "start_time": "2022-06-22T17:29:07.441Z"
   },
   {
    "duration": 109,
    "start_time": "2022-06-22T17:30:31.793Z"
   },
   {
    "duration": 11,
    "start_time": "2022-06-22T17:30:47.571Z"
   },
   {
    "duration": 10,
    "start_time": "2022-06-22T17:30:48.520Z"
   },
   {
    "duration": 10,
    "start_time": "2022-06-22T17:30:53.920Z"
   },
   {
    "duration": 23,
    "start_time": "2022-06-22T17:30:58.650Z"
   },
   {
    "duration": 10,
    "start_time": "2022-06-22T17:31:11.785Z"
   },
   {
    "duration": 9,
    "start_time": "2022-06-22T17:31:32.584Z"
   },
   {
    "duration": 10,
    "start_time": "2022-06-22T17:31:46.679Z"
   },
   {
    "duration": 1101,
    "start_time": "2022-06-22T17:43:02.737Z"
   },
   {
    "duration": 57,
    "start_time": "2022-06-22T17:43:03.840Z"
   },
   {
    "duration": 73,
    "start_time": "2022-06-22T17:43:03.899Z"
   },
   {
    "duration": 4,
    "start_time": "2022-06-22T17:43:03.974Z"
   },
   {
    "duration": 9,
    "start_time": "2022-06-22T17:43:03.980Z"
   },
   {
    "duration": 23,
    "start_time": "2022-06-22T17:43:03.990Z"
   },
   {
    "duration": 14,
    "start_time": "2022-06-22T17:43:04.026Z"
   },
   {
    "duration": 6,
    "start_time": "2022-06-22T17:43:04.041Z"
   },
   {
    "duration": 10,
    "start_time": "2022-06-22T17:43:04.049Z"
   },
   {
    "duration": 12,
    "start_time": "2022-06-22T17:43:04.061Z"
   },
   {
    "duration": 10,
    "start_time": "2022-06-22T17:43:04.074Z"
   },
   {
    "duration": 44,
    "start_time": "2022-06-22T17:43:04.086Z"
   },
   {
    "duration": 5,
    "start_time": "2022-06-22T17:43:04.132Z"
   },
   {
    "duration": 8,
    "start_time": "2022-06-22T17:43:04.138Z"
   },
   {
    "duration": 6,
    "start_time": "2022-06-22T17:43:04.147Z"
   },
   {
    "duration": 16,
    "start_time": "2022-06-22T17:43:04.155Z"
   },
   {
    "duration": 9,
    "start_time": "2022-06-22T17:43:04.172Z"
   },
   {
    "duration": 13,
    "start_time": "2022-06-22T17:43:04.182Z"
   },
   {
    "duration": 29,
    "start_time": "2022-06-22T17:43:04.197Z"
   },
   {
    "duration": 14,
    "start_time": "2022-06-22T17:43:04.227Z"
   },
   {
    "duration": 10,
    "start_time": "2022-06-22T17:43:04.243Z"
   },
   {
    "duration": 229,
    "start_time": "2022-06-22T17:43:04.254Z"
   },
   {
    "duration": 16,
    "start_time": "2022-06-22T17:43:04.485Z"
   },
   {
    "duration": 354,
    "start_time": "2022-06-22T17:43:04.503Z"
   },
   {
    "duration": 9,
    "start_time": "2022-06-22T17:43:04.858Z"
   },
   {
    "duration": 530,
    "start_time": "2022-06-22T17:43:04.868Z"
   },
   {
    "duration": 7,
    "start_time": "2022-06-22T17:43:05.401Z"
   },
   {
    "duration": 211,
    "start_time": "2022-06-22T17:43:05.412Z"
   },
   {
    "duration": 487,
    "start_time": "2022-06-22T17:43:05.625Z"
   },
   {
    "duration": 480,
    "start_time": "2022-06-22T17:43:06.114Z"
   },
   {
    "duration": 147,
    "start_time": "2022-06-22T17:43:06.596Z"
   },
   {
    "duration": 165,
    "start_time": "2022-06-22T17:43:06.745Z"
   },
   {
    "duration": 14,
    "start_time": "2022-06-22T17:43:06.912Z"
   },
   {
    "duration": 14,
    "start_time": "2022-06-22T17:43:06.927Z"
   },
   {
    "duration": 420,
    "start_time": "2022-06-22T17:43:06.943Z"
   },
   {
    "duration": 12,
    "start_time": "2022-06-22T17:43:07.365Z"
   },
   {
    "duration": 25,
    "start_time": "2022-06-22T17:43:07.379Z"
   },
   {
    "duration": 396,
    "start_time": "2022-06-22T17:43:07.406Z"
   },
   {
    "duration": 423,
    "start_time": "2022-06-22T17:43:07.804Z"
   },
   {
    "duration": 10,
    "start_time": "2022-06-22T17:43:08.229Z"
   },
   {
    "duration": 13,
    "start_time": "2022-06-22T17:43:08.240Z"
   },
   {
    "duration": 14,
    "start_time": "2022-06-22T17:43:08.255Z"
   },
   {
    "duration": 15,
    "start_time": "2022-06-22T17:43:08.271Z"
   },
   {
    "duration": 1133,
    "start_time": "2022-06-23T11:29:52.689Z"
   },
   {
    "duration": 97,
    "start_time": "2022-06-23T11:29:54.521Z"
   },
   {
    "duration": 58,
    "start_time": "2022-06-23T11:29:56.324Z"
   },
   {
    "duration": 78,
    "start_time": "2022-06-23T11:29:58.707Z"
   },
   {
    "duration": 4,
    "start_time": "2022-06-23T11:30:04.324Z"
   },
   {
    "duration": 14,
    "start_time": "2022-06-23T11:30:09.717Z"
   },
   {
    "duration": 5,
    "start_time": "2022-06-23T11:30:14.188Z"
   },
   {
    "duration": 9,
    "start_time": "2022-06-23T11:30:16.426Z"
   },
   {
    "duration": 5,
    "start_time": "2022-06-23T11:30:17.889Z"
   },
   {
    "duration": 9,
    "start_time": "2022-06-23T11:30:26.061Z"
   },
   {
    "duration": 11,
    "start_time": "2022-06-23T11:30:37.315Z"
   },
   {
    "duration": 6,
    "start_time": "2022-06-23T11:30:42.897Z"
   },
   {
    "duration": 10,
    "start_time": "2022-06-23T11:30:59.227Z"
   },
   {
    "duration": 10,
    "start_time": "2022-06-23T11:31:01.396Z"
   },
   {
    "duration": 1345,
    "start_time": "2022-06-23T14:23:39.447Z"
   },
   {
    "duration": 117,
    "start_time": "2022-06-23T14:23:40.794Z"
   },
   {
    "duration": 90,
    "start_time": "2022-06-23T14:23:40.912Z"
   },
   {
    "duration": 5,
    "start_time": "2022-06-23T14:23:41.005Z"
   },
   {
    "duration": 12,
    "start_time": "2022-06-23T14:23:41.011Z"
   },
   {
    "duration": 43,
    "start_time": "2022-06-23T14:23:41.025Z"
   },
   {
    "duration": 18,
    "start_time": "2022-06-23T14:23:41.070Z"
   },
   {
    "duration": 8,
    "start_time": "2022-06-23T14:23:41.175Z"
   },
   {
    "duration": 13,
    "start_time": "2022-06-23T14:23:41.363Z"
   },
   {
    "duration": 11,
    "start_time": "2022-06-23T14:23:41.915Z"
   },
   {
    "duration": 9,
    "start_time": "2022-06-23T14:23:42.101Z"
   },
   {
    "duration": 12,
    "start_time": "2022-06-23T14:23:42.284Z"
   },
   {
    "duration": 7,
    "start_time": "2022-06-23T14:23:42.476Z"
   },
   {
    "duration": 5,
    "start_time": "2022-06-23T14:23:43.044Z"
   },
   {
    "duration": 5,
    "start_time": "2022-06-23T14:23:43.220Z"
   },
   {
    "duration": 6,
    "start_time": "2022-06-23T14:23:43.401Z"
   },
   {
    "duration": 8,
    "start_time": "2022-06-23T14:23:43.613Z"
   },
   {
    "duration": 12,
    "start_time": "2022-06-23T14:23:43.812Z"
   },
   {
    "duration": 8,
    "start_time": "2022-06-23T14:23:44.691Z"
   },
   {
    "duration": 15,
    "start_time": "2022-06-23T14:23:44.875Z"
   },
   {
    "duration": 6,
    "start_time": "2022-06-23T14:23:45.236Z"
   },
   {
    "duration": 199,
    "start_time": "2022-06-23T14:23:45.412Z"
   },
   {
    "duration": 12,
    "start_time": "2022-06-23T14:23:45.613Z"
   },
   {
    "duration": 303,
    "start_time": "2022-06-23T14:23:45.774Z"
   },
   {
    "duration": 17,
    "start_time": "2022-06-23T14:23:46.140Z"
   },
   {
    "duration": 526,
    "start_time": "2022-06-23T14:23:46.324Z"
   },
   {
    "duration": 7,
    "start_time": "2022-06-23T14:23:47.115Z"
   },
   {
    "duration": 204,
    "start_time": "2022-06-23T14:23:47.340Z"
   },
   {
    "duration": 459,
    "start_time": "2022-06-23T14:23:47.780Z"
   },
   {
    "duration": 448,
    "start_time": "2022-06-23T14:23:48.245Z"
   },
   {
    "duration": 135,
    "start_time": "2022-06-23T14:23:49.203Z"
   },
   {
    "duration": 173,
    "start_time": "2022-06-23T14:23:49.924Z"
   },
   {
    "duration": 11,
    "start_time": "2022-06-23T14:23:52.747Z"
   },
   {
    "duration": 11,
    "start_time": "2022-06-23T14:23:53.276Z"
   },
   {
    "duration": 375,
    "start_time": "2022-06-23T14:23:56.828Z"
   },
   {
    "duration": 10,
    "start_time": "2022-06-23T14:24:02.028Z"
   },
   {
    "duration": 9,
    "start_time": "2022-06-23T14:24:02.228Z"
   },
   {
    "duration": 386,
    "start_time": "2022-06-23T14:24:02.484Z"
   },
   {
    "duration": 406,
    "start_time": "2022-06-23T14:24:05.516Z"
   },
   {
    "duration": 12,
    "start_time": "2022-06-23T14:24:51.396Z"
   },
   {
    "duration": 11,
    "start_time": "2022-06-23T14:24:51.836Z"
   },
   {
    "duration": 10,
    "start_time": "2022-06-23T14:24:52.924Z"
   },
   {
    "duration": 11,
    "start_time": "2022-06-23T14:27:03.080Z"
   },
   {
    "duration": 12,
    "start_time": "2022-06-23T14:27:04.089Z"
   },
   {
    "duration": 1090,
    "start_time": "2022-06-23T14:31:08.296Z"
   },
   {
    "duration": 51,
    "start_time": "2022-06-23T14:31:09.389Z"
   },
   {
    "duration": 89,
    "start_time": "2022-06-23T14:31:09.442Z"
   },
   {
    "duration": 27,
    "start_time": "2022-06-23T14:31:09.533Z"
   },
   {
    "duration": 5,
    "start_time": "2022-06-23T14:31:09.565Z"
   },
   {
    "duration": 24,
    "start_time": "2022-06-23T14:31:09.572Z"
   },
   {
    "duration": 16,
    "start_time": "2022-06-23T14:31:09.597Z"
   },
   {
    "duration": 7,
    "start_time": "2022-06-23T14:31:09.615Z"
   },
   {
    "duration": 28,
    "start_time": "2022-06-23T14:31:09.624Z"
   },
   {
    "duration": 20,
    "start_time": "2022-06-23T14:31:09.657Z"
   },
   {
    "duration": 17,
    "start_time": "2022-06-23T14:31:09.679Z"
   },
   {
    "duration": 12,
    "start_time": "2022-06-23T14:31:09.698Z"
   },
   {
    "duration": 8,
    "start_time": "2022-06-23T14:31:09.712Z"
   },
   {
    "duration": 14,
    "start_time": "2022-06-23T14:31:09.721Z"
   },
   {
    "duration": 14,
    "start_time": "2022-06-23T14:31:09.751Z"
   },
   {
    "duration": 9,
    "start_time": "2022-06-23T14:31:09.768Z"
   },
   {
    "duration": 12,
    "start_time": "2022-06-23T14:31:09.779Z"
   },
   {
    "duration": 19,
    "start_time": "2022-06-23T14:31:09.793Z"
   },
   {
    "duration": 10,
    "start_time": "2022-06-23T14:31:09.815Z"
   },
   {
    "duration": 38,
    "start_time": "2022-06-23T14:31:09.826Z"
   },
   {
    "duration": 8,
    "start_time": "2022-06-23T14:31:09.866Z"
   },
   {
    "duration": 197,
    "start_time": "2022-06-23T14:31:09.876Z"
   },
   {
    "duration": 14,
    "start_time": "2022-06-23T14:31:10.076Z"
   },
   {
    "duration": 403,
    "start_time": "2022-06-23T14:31:10.092Z"
   },
   {
    "duration": 9,
    "start_time": "2022-06-23T14:31:10.497Z"
   },
   {
    "duration": 606,
    "start_time": "2022-06-23T14:31:10.508Z"
   },
   {
    "duration": 6,
    "start_time": "2022-06-23T14:31:11.115Z"
   },
   {
    "duration": 254,
    "start_time": "2022-06-23T14:31:11.125Z"
   },
   {
    "duration": 502,
    "start_time": "2022-06-23T14:31:11.381Z"
   },
   {
    "duration": 484,
    "start_time": "2022-06-23T14:31:11.885Z"
   },
   {
    "duration": 154,
    "start_time": "2022-06-23T14:31:12.371Z"
   },
   {
    "duration": 184,
    "start_time": "2022-06-23T14:31:12.527Z"
   },
   {
    "duration": 6,
    "start_time": "2022-06-23T14:31:12.713Z"
   },
   {
    "duration": 20,
    "start_time": "2022-06-23T14:31:12.720Z"
   },
   {
    "duration": 416,
    "start_time": "2022-06-23T14:31:12.742Z"
   },
   {
    "duration": 11,
    "start_time": "2022-06-23T14:31:13.167Z"
   },
   {
    "duration": 9,
    "start_time": "2022-06-23T14:31:13.180Z"
   },
   {
    "duration": 448,
    "start_time": "2022-06-23T14:31:13.191Z"
   },
   {
    "duration": 476,
    "start_time": "2022-06-23T14:31:13.641Z"
   },
   {
    "duration": 12,
    "start_time": "2022-06-23T14:31:14.118Z"
   },
   {
    "duration": 36,
    "start_time": "2022-06-23T14:31:14.131Z"
   },
   {
    "duration": 16,
    "start_time": "2022-06-23T14:31:14.169Z"
   },
   {
    "duration": 12,
    "start_time": "2022-06-23T14:31:14.187Z"
   },
   {
    "duration": 16,
    "start_time": "2022-06-23T14:31:14.201Z"
   }
  ],
  "kernelspec": {
   "display_name": "Python 3 (ipykernel)",
   "language": "python",
   "name": "python3"
  },
  "language_info": {
   "codemirror_mode": {
    "name": "ipython",
    "version": 3
   },
   "file_extension": ".py",
   "mimetype": "text/x-python",
   "name": "python",
   "nbconvert_exporter": "python",
   "pygments_lexer": "ipython3",
   "version": "3.9.12"
  },
  "toc": {
   "base_numbering": 1,
   "nav_menu": {},
   "number_sections": true,
   "sideBar": true,
   "skip_h1_title": true,
   "title_cell": "Table of Contents",
   "title_sidebar": "Contents",
   "toc_cell": false,
   "toc_position": {},
   "toc_section_display": true,
   "toc_window_display": true
  }
 },
 "nbformat": 4,
 "nbformat_minor": 2
}

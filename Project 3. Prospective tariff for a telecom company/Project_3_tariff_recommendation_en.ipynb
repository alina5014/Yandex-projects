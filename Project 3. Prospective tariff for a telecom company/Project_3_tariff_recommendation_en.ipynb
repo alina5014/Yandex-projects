{
 "cells": [
  {
   "cell_type": "markdown",
   "metadata": {},
   "source": [
    "# Tariff recomendation"
   ]
  },
  {
   "cell_type": "markdown",
   "metadata": {},
   "source": [
    "Data on the behavior of customers who have already switched to these tariffs is at our disposal. Model for the classification problem that will select the appropriate rate must be built. Data preprocessing is not required - it's already done.\n",
    "\n",
    "The percentage of accuracy must be at least 0.75."
   ]
  },
  {
   "cell_type": "markdown",
   "metadata": {},
   "source": [
    "## Opening and examining the data"
   ]
  },
  {
   "cell_type": "code",
   "execution_count": 1,
   "metadata": {},
   "outputs": [],
   "source": [
    "import pandas as pd\n",
    "from sklearn.dummy import DummyClassifier \n",
    "from sklearn.metrics import accuracy_score\n",
    "from sklearn.tree import DecisionTreeClassifier\n",
    "from sklearn.linear_model import LinearRegression\n",
    "from sklearn.ensemble import RandomForestClassifier \n",
    "from sklearn.model_selection import train_test_split \n",
    "\n",
    "import numpy as np\n",
    "import matplotlib.pyplot as plt\n",
    "import seaborn as sns\n",
    "import matplotlib.pyplot as plt\n",
    "from sklearn.linear_model import LogisticRegression"
   ]
  },
  {
   "cell_type": "code",
   "execution_count": 2,
   "metadata": {},
   "outputs": [],
   "source": [
    "try: \n",
    "    df = pd.read_csv('/datasets/users_behavior.csv')\n",
    "except:\n",
    "    df = pd.read_csv('users_behavior.csv')"
   ]
  },
  {
   "cell_type": "code",
   "execution_count": 3,
   "metadata": {},
   "outputs": [
    {
     "name": "stdout",
     "output_type": "stream",
     "text": [
      "<class 'pandas.core.frame.DataFrame'>\n",
      "RangeIndex: 3214 entries, 0 to 3213\n",
      "Data columns (total 5 columns):\n",
      " #   Column    Non-Null Count  Dtype  \n",
      "---  ------    --------------  -----  \n",
      " 0   calls     3214 non-null   float64\n",
      " 1   minutes   3214 non-null   float64\n",
      " 2   messages  3214 non-null   float64\n",
      " 3   mb_used   3214 non-null   float64\n",
      " 4   is_ultra  3214 non-null   int64  \n",
      "dtypes: float64(4), int64(1)\n",
      "memory usage: 125.7 KB\n",
      "====================================================================================================\n"
     ]
    },
    {
     "data": {
      "text/html": [
       "<div>\n",
       "<style scoped>\n",
       "    .dataframe tbody tr th:only-of-type {\n",
       "        vertical-align: middle;\n",
       "    }\n",
       "\n",
       "    .dataframe tbody tr th {\n",
       "        vertical-align: top;\n",
       "    }\n",
       "\n",
       "    .dataframe thead th {\n",
       "        text-align: right;\n",
       "    }\n",
       "</style>\n",
       "<table border=\"1\" class=\"dataframe\">\n",
       "  <thead>\n",
       "    <tr style=\"text-align: right;\">\n",
       "      <th></th>\n",
       "      <th>calls</th>\n",
       "      <th>minutes</th>\n",
       "      <th>messages</th>\n",
       "      <th>mb_used</th>\n",
       "      <th>is_ultra</th>\n",
       "    </tr>\n",
       "  </thead>\n",
       "  <tbody>\n",
       "    <tr>\n",
       "      <th>count</th>\n",
       "      <td>3214.000000</td>\n",
       "      <td>3214.000000</td>\n",
       "      <td>3214.000000</td>\n",
       "      <td>3214.000000</td>\n",
       "      <td>3214.000000</td>\n",
       "    </tr>\n",
       "    <tr>\n",
       "      <th>mean</th>\n",
       "      <td>63.038892</td>\n",
       "      <td>438.208787</td>\n",
       "      <td>38.281269</td>\n",
       "      <td>17207.673836</td>\n",
       "      <td>0.306472</td>\n",
       "    </tr>\n",
       "    <tr>\n",
       "      <th>std</th>\n",
       "      <td>33.236368</td>\n",
       "      <td>234.569872</td>\n",
       "      <td>36.148326</td>\n",
       "      <td>7570.968246</td>\n",
       "      <td>0.461100</td>\n",
       "    </tr>\n",
       "    <tr>\n",
       "      <th>min</th>\n",
       "      <td>0.000000</td>\n",
       "      <td>0.000000</td>\n",
       "      <td>0.000000</td>\n",
       "      <td>0.000000</td>\n",
       "      <td>0.000000</td>\n",
       "    </tr>\n",
       "    <tr>\n",
       "      <th>25%</th>\n",
       "      <td>40.000000</td>\n",
       "      <td>274.575000</td>\n",
       "      <td>9.000000</td>\n",
       "      <td>12491.902500</td>\n",
       "      <td>0.000000</td>\n",
       "    </tr>\n",
       "    <tr>\n",
       "      <th>50%</th>\n",
       "      <td>62.000000</td>\n",
       "      <td>430.600000</td>\n",
       "      <td>30.000000</td>\n",
       "      <td>16943.235000</td>\n",
       "      <td>0.000000</td>\n",
       "    </tr>\n",
       "    <tr>\n",
       "      <th>75%</th>\n",
       "      <td>82.000000</td>\n",
       "      <td>571.927500</td>\n",
       "      <td>57.000000</td>\n",
       "      <td>21424.700000</td>\n",
       "      <td>1.000000</td>\n",
       "    </tr>\n",
       "    <tr>\n",
       "      <th>max</th>\n",
       "      <td>244.000000</td>\n",
       "      <td>1632.060000</td>\n",
       "      <td>224.000000</td>\n",
       "      <td>49745.730000</td>\n",
       "      <td>1.000000</td>\n",
       "    </tr>\n",
       "  </tbody>\n",
       "</table>\n",
       "</div>"
      ],
      "text/plain": [
       "             calls      minutes     messages       mb_used     is_ultra\n",
       "count  3214.000000  3214.000000  3214.000000   3214.000000  3214.000000\n",
       "mean     63.038892   438.208787    38.281269  17207.673836     0.306472\n",
       "std      33.236368   234.569872    36.148326   7570.968246     0.461100\n",
       "min       0.000000     0.000000     0.000000      0.000000     0.000000\n",
       "25%      40.000000   274.575000     9.000000  12491.902500     0.000000\n",
       "50%      62.000000   430.600000    30.000000  16943.235000     0.000000\n",
       "75%      82.000000   571.927500    57.000000  21424.700000     1.000000\n",
       "max     244.000000  1632.060000   224.000000  49745.730000     1.000000"
      ]
     },
     "metadata": {},
     "output_type": "display_data"
    },
    {
     "data": {
      "text/html": [
       "<div>\n",
       "<style scoped>\n",
       "    .dataframe tbody tr th:only-of-type {\n",
       "        vertical-align: middle;\n",
       "    }\n",
       "\n",
       "    .dataframe tbody tr th {\n",
       "        vertical-align: top;\n",
       "    }\n",
       "\n",
       "    .dataframe thead th {\n",
       "        text-align: right;\n",
       "    }\n",
       "</style>\n",
       "<table border=\"1\" class=\"dataframe\">\n",
       "  <thead>\n",
       "    <tr style=\"text-align: right;\">\n",
       "      <th></th>\n",
       "      <th>calls</th>\n",
       "      <th>minutes</th>\n",
       "      <th>messages</th>\n",
       "      <th>mb_used</th>\n",
       "      <th>is_ultra</th>\n",
       "    </tr>\n",
       "  </thead>\n",
       "  <tbody>\n",
       "    <tr>\n",
       "      <th>0</th>\n",
       "      <td>40.0</td>\n",
       "      <td>311.90</td>\n",
       "      <td>83.0</td>\n",
       "      <td>19915.42</td>\n",
       "      <td>0</td>\n",
       "    </tr>\n",
       "    <tr>\n",
       "      <th>1</th>\n",
       "      <td>85.0</td>\n",
       "      <td>516.75</td>\n",
       "      <td>56.0</td>\n",
       "      <td>22696.96</td>\n",
       "      <td>0</td>\n",
       "    </tr>\n",
       "    <tr>\n",
       "      <th>2</th>\n",
       "      <td>77.0</td>\n",
       "      <td>467.66</td>\n",
       "      <td>86.0</td>\n",
       "      <td>21060.45</td>\n",
       "      <td>0</td>\n",
       "    </tr>\n",
       "    <tr>\n",
       "      <th>3</th>\n",
       "      <td>106.0</td>\n",
       "      <td>745.53</td>\n",
       "      <td>81.0</td>\n",
       "      <td>8437.39</td>\n",
       "      <td>1</td>\n",
       "    </tr>\n",
       "    <tr>\n",
       "      <th>4</th>\n",
       "      <td>66.0</td>\n",
       "      <td>418.74</td>\n",
       "      <td>1.0</td>\n",
       "      <td>14502.75</td>\n",
       "      <td>0</td>\n",
       "    </tr>\n",
       "  </tbody>\n",
       "</table>\n",
       "</div>"
      ],
      "text/plain": [
       "   calls  minutes  messages   mb_used  is_ultra\n",
       "0   40.0   311.90      83.0  19915.42         0\n",
       "1   85.0   516.75      56.0  22696.96         0\n",
       "2   77.0   467.66      86.0  21060.45         0\n",
       "3  106.0   745.53      81.0   8437.39         1\n",
       "4   66.0   418.74       1.0  14502.75         0"
      ]
     },
     "metadata": {},
     "output_type": "display_data"
    },
    {
     "data": {
      "text/plain": [
       "(3214, 5)"
      ]
     },
     "metadata": {},
     "output_type": "display_data"
    }
   ],
   "source": [
    "def info(df):\n",
    "    df.info()\n",
    "    print(100*'=')\n",
    "    display(df.describe())\n",
    "    display(df.head())\n",
    "    display(df.shape)\n",
    "info(df) "
   ]
  },
  {
   "cell_type": "markdown",
   "metadata": {},
   "source": [
    "Each object in the data set is information about the behavior of one user per month. Known:\n",
    "\n",
    "- `calls` - number of calls,\n",
    "- `minutes` — total duration of calls in minutes,\n",
    "- `messages` - number of sms messages,\n",
    "- `mb_used` - used Internet traffic in Mb,\n",
    "- `is_ultra` - which tariff was used during the month (\"Ultra\" - 1, \"Smart\" - 0).\n",
    "\n",
    "The data is already preprocessed, so we can move on to data analysis and machine learning."
   ]
  },
  {
   "cell_type": "markdown",
   "metadata": {},
   "source": [
    "## Dividing the Data"
   ]
  },
  {
   "cell_type": "code",
   "execution_count": 4,
   "metadata": {},
   "outputs": [],
   "source": [
    "features = df.drop('is_ultra', axis=1)\n",
    "target = df['is_ultra']"
   ]
  },
  {
   "cell_type": "code",
   "execution_count": 5,
   "metadata": {},
   "outputs": [],
   "source": [
    "\n",
    "features_train, features_test, target_train, target_test = train_test_split(features, \n",
    "                                                                            target, \n",
    "                                                                            test_size=0.4, \n",
    "                                                                            random_state=12345,\n",
    "                                                                            stratify=target\n",
    "                                                                           ) "
   ]
  },
  {
   "cell_type": "code",
   "execution_count": 6,
   "metadata": {},
   "outputs": [],
   "source": [
    "features_valid, features_test, target_valid, target_test = train_test_split(features_test, \n",
    "                                                                            target_test, \n",
    "                                                                            test_size=0.5, \n",
    "                                                                            random_state=12345,\n",
    "                                                                            stratify=target_test\n",
    "                                                                           ) "
   ]
  },
  {
   "cell_type": "markdown",
   "metadata": {},
   "source": [
    "Let's divide the data into three parts: training, validation and test in the ratio 3:1:1."
   ]
  },
  {
   "cell_type": "code",
   "execution_count": 7,
   "metadata": {},
   "outputs": [
    {
     "name": "stdout",
     "output_type": "stream",
     "text": [
      "Training sample size (1928, 4)\n",
      "Validation sample size (643, 4)\n"
     ]
    }
   ],
   "source": [
    "print('Training sample size', features_train.shape)\n",
    "print('Validation sample size', features_valid.shape)"
   ]
  },
  {
   "cell_type": "markdown",
   "metadata": {},
   "source": [
    "The data separation was performed, we can proceed to the analysis of models."
   ]
  },
  {
   "cell_type": "markdown",
   "metadata": {},
   "source": [
    "## Analysing the models"
   ]
  },
  {
   "cell_type": "code",
   "execution_count": 8,
   "metadata": {},
   "outputs": [
    {
     "name": "stdout",
     "output_type": "stream",
     "text": [
      "Accuracy of the best result of Decision Tree: 0.7853810264385692\n"
     ]
    }
   ],
   "source": [
    "best_model_tree = None\n",
    "best_result_tree = 0\n",
    "for depth in range(1, 6):\n",
    "    model_tree = DecisionTreeClassifier(random_state=12345, max_depth= depth) \n",
    "    model_tree.fit(features_train, target_train)\n",
    "    predictions = model_tree.predict(features_valid) \n",
    "    result_tree = accuracy_score(target_valid, predictions) \n",
    "    if result_tree > best_result_tree:\n",
    "        best_model_tree = model_tree\n",
    "        best_result_tree = result_tree\n",
    "\n",
    "        \n",
    "print('Accuracy of the best result of Decision Tree:', best_result_tree)\n"
   ]
  },
  {
   "cell_type": "code",
   "execution_count": null,
   "metadata": {},
   "outputs": [],
   "source": []
  },
  {
   "cell_type": "code",
   "execution_count": 9,
   "metadata": {},
   "outputs": [
    {
     "name": "stdout",
     "output_type": "stream",
     "text": [
      "Accuracy of the best Random Forest model on the validation set: 0.8211508553654744 Number of trees: 40\n",
      "Wall time: 5.5 s\n"
     ]
    }
   ],
   "source": [
    "%%time\n",
    "best_model = None\n",
    "best_result = 0\n",
    "best_est = 0\n",
    "best_depth = 0\n",
    "for est in range(10, 51, 10):\n",
    "    for depth in range (1, 11):\n",
    "        model_forest = RandomForestClassifier(random_state=12345, n_estimators=est, max_depth=depth)\n",
    "        model_forest.fit(features_train, target_train) \n",
    "        predictions_valid = model_forest.predict(features_valid) \n",
    "        result = accuracy_score(target_valid, predictions_valid)\n",
    "        if result > best_result:\n",
    "            best_model_forest = model_forest\n",
    "            best_result = result\n",
    "            best_est = est\n",
    "            best_depth = depth\n",
    "\n",
    "print(\"Accuracy of the best Random Forest model on the validation set:\", best_result, \"Number of trees:\", best_est)"
   ]
  },
  {
   "cell_type": "code",
   "execution_count": 10,
   "metadata": {},
   "outputs": [
    {
     "name": "stdout",
     "output_type": "stream",
     "text": [
      "Accuracy of Logistic Regression Models on the Validation Set: 0.7387247278382582\n"
     ]
    }
   ],
   "source": [
    "model_lr = LogisticRegression(random_state=12345)\n",
    "model_lr.fit(features_train, target_train) \n",
    "predictions = model_lr.predict(features_valid) \n",
    "result = accuracy_score(target_valid, predictions) \n",
    "\n",
    "print(\"Accuracy of Logistic Regression Models on the Validation Set:\", result)"
   ]
  },
  {
   "cell_type": "markdown",
   "metadata": {},
   "source": [
    "During the analysis of models, it was found that `accuracy` is best for a random forest. Let's check the results on the test set."
   ]
  },
  {
   "cell_type": "markdown",
   "metadata": {},
   "source": [
    "## Checking the results on the test set."
   ]
  },
  {
   "cell_type": "code",
   "execution_count": 11,
   "metadata": {},
   "outputs": [
    {
     "name": "stdout",
     "output_type": "stream",
     "text": [
      "Accuracy of Random Forest Models on a Test Set: 0.8087091757387247\n"
     ]
    }
   ],
   "source": [
    "predictions_test_forest = best_model_forest.predict(features_test)\n",
    "result_test_forest = accuracy_score(predictions_test_forest, target_test)\n",
    "print('Accuracy of Random Forest Models on a Test Set:', result_test_forest)"
   ]
  },
  {
   "cell_type": "markdown",
   "metadata": {},
   "source": [
    "When testing the Random Forest model on the test set, `accuracy` is 0.8258164852255054, which is a good result."
   ]
  },
  {
   "cell_type": "markdown",
   "metadata": {},
   "source": [
    "## Checking models for adequacy"
   ]
  },
  {
   "cell_type": "code",
   "execution_count": 12,
   "metadata": {},
   "outputs": [
    {
     "data": {
      "text/plain": [
       "0.6936236391912908"
      ]
     },
     "execution_count": 12,
     "metadata": {},
     "output_type": "execute_result"
    }
   ],
   "source": [
    "dummy_cl = DummyClassifier(strategy=\"most_frequent\", random_state=0)\n",
    "dummy_cl.fit(features_train,target_train)\n",
    "dummy_cl.score(features_test,target_test)"
   ]
  },
  {
   "cell_type": "markdown",
   "metadata": {},
   "source": [
    "It can be concluded that the model is adequate."
   ]
  },
  {
   "cell_type": "markdown",
   "metadata": {},
   "source": [
    "## Summary"
   ]
  },
  {
   "cell_type": "markdown",
   "metadata": {},
   "source": [
    "- Random Forest, Decision tree and Logical Regression models have been explored.\n",
    "- The highest `accuracy`, which was 0.8211508553654744, was shown by the Random Forest model.\n",
    "- The Random Forest model on the test sample showed `accuracy` 0.8258164852255054.\n",
    "- The Random Forest model passed the adequacy test."
   ]
  }
 ],
 "metadata": {
  "ExecuteTimeLog": [
   {
    "duration": 1328,
    "start_time": "2022-07-02T11:38:08.806Z"
   },
   {
    "duration": 106,
    "start_time": "2022-07-02T11:38:10.137Z"
   },
   {
    "duration": 44,
    "start_time": "2022-07-02T11:38:40.837Z"
   },
   {
    "duration": 47,
    "start_time": "2022-07-02T11:38:41.077Z"
   },
   {
    "duration": 256,
    "start_time": "2022-07-02T11:41:05.133Z"
   },
   {
    "duration": 19,
    "start_time": "2022-07-02T11:41:05.442Z"
   },
   {
    "duration": 43,
    "start_time": "2022-07-02T11:41:05.628Z"
   },
   {
    "duration": 1705,
    "start_time": "2022-07-04T05:11:34.125Z"
   },
   {
    "duration": 42,
    "start_time": "2022-07-04T05:11:35.832Z"
   },
   {
    "duration": 51,
    "start_time": "2022-07-04T05:11:35.876Z"
   },
   {
    "duration": 4,
    "start_time": "2022-07-04T05:12:00.109Z"
   },
   {
    "duration": 24,
    "start_time": "2022-07-04T05:12:30.949Z"
   },
   {
    "duration": 106,
    "start_time": "2022-07-04T05:12:54.684Z"
   },
   {
    "duration": 5,
    "start_time": "2022-07-04T05:13:03.170Z"
   },
   {
    "duration": 19,
    "start_time": "2022-07-04T05:14:27.907Z"
   },
   {
    "duration": 19,
    "start_time": "2022-07-04T05:14:57.787Z"
   },
   {
    "duration": 27,
    "start_time": "2022-07-04T05:15:15.987Z"
   },
   {
    "duration": 20,
    "start_time": "2022-07-04T05:15:49.107Z"
   },
   {
    "duration": 25,
    "start_time": "2022-07-04T05:16:32.443Z"
   },
   {
    "duration": 13,
    "start_time": "2022-07-04T05:17:12.434Z"
   },
   {
    "duration": 8,
    "start_time": "2022-07-04T05:17:30.842Z"
   },
   {
    "duration": 18,
    "start_time": "2022-07-04T05:17:32.835Z"
   },
   {
    "duration": 73,
    "start_time": "2022-07-04T05:18:39.946Z"
   },
   {
    "duration": 4,
    "start_time": "2022-07-04T05:19:13.666Z"
   },
   {
    "duration": 6,
    "start_time": "2022-07-04T05:19:41.658Z"
   },
   {
    "duration": 17,
    "start_time": "2022-07-04T05:20:01.554Z"
   },
   {
    "duration": 5,
    "start_time": "2022-07-04T05:20:32.698Z"
   },
   {
    "duration": 4,
    "start_time": "2022-07-04T05:20:42.121Z"
   },
   {
    "duration": 5,
    "start_time": "2022-07-04T05:21:04.633Z"
   },
   {
    "duration": 4,
    "start_time": "2022-07-04T05:21:06.921Z"
   },
   {
    "duration": 847,
    "start_time": "2022-07-04T05:21:40.768Z"
   },
   {
    "duration": 1076,
    "start_time": "2022-07-04T05:21:55.209Z"
   },
   {
    "duration": 11,
    "start_time": "2022-07-04T05:23:03.529Z"
   },
   {
    "duration": 17,
    "start_time": "2022-07-04T05:23:11.057Z"
   },
   {
    "duration": 319,
    "start_time": "2022-07-04T05:23:16.617Z"
   },
   {
    "duration": 959,
    "start_time": "2022-07-04T05:23:19.440Z"
   },
   {
    "duration": 3,
    "start_time": "2022-07-04T05:23:38.361Z"
   },
   {
    "duration": 514,
    "start_time": "2022-07-04T05:23:54.712Z"
   },
   {
    "duration": 3,
    "start_time": "2022-07-04T05:24:59.072Z"
   },
   {
    "duration": 6,
    "start_time": "2022-07-04T05:25:13.823Z"
   },
   {
    "duration": 6,
    "start_time": "2022-07-04T05:25:55.551Z"
   },
   {
    "duration": 6,
    "start_time": "2022-07-04T05:26:00.999Z"
   },
   {
    "duration": 5,
    "start_time": "2022-07-04T05:26:01.583Z"
   },
   {
    "duration": 11,
    "start_time": "2022-07-04T05:26:15.414Z"
   },
   {
    "duration": 4,
    "start_time": "2022-07-04T05:26:30.559Z"
   },
   {
    "duration": 4,
    "start_time": "2022-07-04T05:26:33.519Z"
   },
   {
    "duration": 32,
    "start_time": "2022-07-04T05:26:38.334Z"
   },
   {
    "duration": 11,
    "start_time": "2022-07-04T05:27:12.350Z"
   },
   {
    "duration": 4,
    "start_time": "2022-07-04T05:27:27.558Z"
   },
   {
    "duration": 4916,
    "start_time": "2022-07-04T05:27:36.893Z"
   },
   {
    "duration": 4,
    "start_time": "2022-07-04T05:27:58.733Z"
   },
   {
    "duration": 5,
    "start_time": "2022-07-04T05:28:04.414Z"
   },
   {
    "duration": 11,
    "start_time": "2022-07-04T05:28:22.774Z"
   },
   {
    "duration": 228,
    "start_time": "2022-07-04T05:28:42.518Z"
   },
   {
    "duration": 5,
    "start_time": "2022-07-04T05:29:35.621Z"
   },
   {
    "duration": 7,
    "start_time": "2022-07-04T05:29:35.886Z"
   },
   {
    "duration": 8,
    "start_time": "2022-07-04T05:29:36.136Z"
   },
   {
    "duration": 5,
    "start_time": "2022-07-04T05:29:36.869Z"
   },
   {
    "duration": 23,
    "start_time": "2022-07-04T05:29:39.964Z"
   },
   {
    "duration": 5,
    "start_time": "2022-07-04T05:29:40.684Z"
   },
   {
    "duration": 35,
    "start_time": "2022-07-04T05:29:43.309Z"
   },
   {
    "duration": 19,
    "start_time": "2022-07-04T05:29:46.085Z"
   },
   {
    "duration": 37,
    "start_time": "2022-07-04T05:29:46.349Z"
   },
   {
    "duration": 11,
    "start_time": "2022-07-04T05:29:46.910Z"
   },
   {
    "duration": 24,
    "start_time": "2022-07-04T05:29:47.100Z"
   },
   {
    "duration": 117,
    "start_time": "2022-07-04T05:29:47.301Z"
   },
   {
    "duration": 869,
    "start_time": "2022-07-04T05:29:47.501Z"
   },
   {
    "duration": 0,
    "start_time": "2022-07-04T05:29:48.372Z"
   },
   {
    "duration": 0,
    "start_time": "2022-07-04T05:29:48.374Z"
   },
   {
    "duration": 0,
    "start_time": "2022-07-04T05:29:48.376Z"
   },
   {
    "duration": 0,
    "start_time": "2022-07-04T05:29:48.377Z"
   },
   {
    "duration": 5533,
    "start_time": "2022-07-04T05:29:48.560Z"
   },
   {
    "duration": 9,
    "start_time": "2022-07-04T05:29:54.095Z"
   },
   {
    "duration": 231,
    "start_time": "2022-07-04T05:29:54.106Z"
   },
   {
    "duration": 1216,
    "start_time": "2022-07-06T04:14:55.726Z"
   },
   {
    "duration": 150,
    "start_time": "2022-07-06T04:14:56.944Z"
   },
   {
    "duration": 59,
    "start_time": "2022-07-06T04:14:57.096Z"
   },
   {
    "duration": 5,
    "start_time": "2022-07-06T04:14:57.157Z"
   },
   {
    "duration": 5,
    "start_time": "2022-07-06T04:14:57.354Z"
   },
   {
    "duration": 103,
    "start_time": "2022-07-06T04:14:57.810Z"
   },
   {
    "duration": 4,
    "start_time": "2022-07-06T04:14:58.187Z"
   },
   {
    "duration": 43,
    "start_time": "2022-07-06T04:20:39.472Z"
   },
   {
    "duration": 5,
    "start_time": "2022-07-06T04:20:43.119Z"
   },
   {
    "duration": 5,
    "start_time": "2022-07-06T04:20:43.663Z"
   },
   {
    "duration": 5,
    "start_time": "2022-07-06T04:21:30.782Z"
   },
   {
    "duration": 4,
    "start_time": "2022-07-06T04:21:49.242Z"
   },
   {
    "duration": 3,
    "start_time": "2022-07-06T04:21:49.670Z"
   },
   {
    "duration": 11,
    "start_time": "2022-07-06T04:33:55.448Z"
   },
   {
    "duration": 11,
    "start_time": "2022-07-06T04:34:10.149Z"
   },
   {
    "duration": 11,
    "start_time": "2022-07-06T04:34:21.367Z"
   },
   {
    "duration": 29,
    "start_time": "2022-07-06T04:34:29.870Z"
   },
   {
    "duration": 3,
    "start_time": "2022-07-06T04:34:57.463Z"
   },
   {
    "duration": 32,
    "start_time": "2022-07-06T04:35:01.351Z"
   },
   {
    "duration": 2543,
    "start_time": "2022-07-06T04:35:32.991Z"
   },
   {
    "duration": 25,
    "start_time": "2022-07-06T04:39:13.795Z"
   },
   {
    "duration": 27,
    "start_time": "2022-07-06T04:39:45.051Z"
   },
   {
    "duration": 29,
    "start_time": "2022-07-06T04:39:56.795Z"
   },
   {
    "duration": 24,
    "start_time": "2022-07-06T04:40:16.475Z"
   },
   {
    "duration": 5,
    "start_time": "2022-07-06T04:47:36.014Z"
   },
   {
    "duration": 5,
    "start_time": "2022-07-06T04:47:54.134Z"
   },
   {
    "duration": 4,
    "start_time": "2022-07-06T04:47:54.662Z"
   },
   {
    "duration": 4,
    "start_time": "2022-07-06T04:47:55.086Z"
   },
   {
    "duration": 1225,
    "start_time": "2022-07-06T04:48:05.898Z"
   },
   {
    "duration": 28,
    "start_time": "2022-07-06T04:48:07.126Z"
   },
   {
    "duration": 52,
    "start_time": "2022-07-06T04:48:07.156Z"
   },
   {
    "duration": 110,
    "start_time": "2022-07-06T04:48:07.212Z"
   },
   {
    "duration": 0,
    "start_time": "2022-07-06T04:48:07.325Z"
   },
   {
    "duration": 0,
    "start_time": "2022-07-06T04:48:07.326Z"
   },
   {
    "duration": 9,
    "start_time": "2022-07-06T04:48:07.482Z"
   },
   {
    "duration": 9,
    "start_time": "2022-07-06T04:48:19.737Z"
   },
   {
    "duration": 9,
    "start_time": "2022-07-06T04:48:19.970Z"
   },
   {
    "duration": 9,
    "start_time": "2022-07-06T04:48:23.657Z"
   },
   {
    "duration": 9,
    "start_time": "2022-07-06T04:48:24.138Z"
   },
   {
    "duration": 10,
    "start_time": "2022-07-06T04:48:55.170Z"
   },
   {
    "duration": 5,
    "start_time": "2022-07-06T04:49:26.273Z"
   },
   {
    "duration": 5,
    "start_time": "2022-07-06T04:49:26.873Z"
   },
   {
    "duration": 5,
    "start_time": "2022-07-06T04:49:27.617Z"
   },
   {
    "duration": 4,
    "start_time": "2022-07-06T04:49:28.010Z"
   },
   {
    "duration": 4,
    "start_time": "2022-07-06T04:50:08.296Z"
   },
   {
    "duration": 5,
    "start_time": "2022-07-06T04:50:08.616Z"
   },
   {
    "duration": 6,
    "start_time": "2022-07-06T04:50:08.992Z"
   },
   {
    "duration": 4,
    "start_time": "2022-07-06T04:50:09.208Z"
   },
   {
    "duration": 1194,
    "start_time": "2022-07-06T04:50:18.461Z"
   },
   {
    "duration": 28,
    "start_time": "2022-07-06T04:50:19.657Z"
   },
   {
    "duration": 60,
    "start_time": "2022-07-06T04:50:19.687Z"
   },
   {
    "duration": 3,
    "start_time": "2022-07-06T04:50:19.749Z"
   },
   {
    "duration": 4,
    "start_time": "2022-07-06T04:50:20.188Z"
   },
   {
    "duration": 5,
    "start_time": "2022-07-06T04:50:20.891Z"
   },
   {
    "duration": 6,
    "start_time": "2022-07-06T04:50:20.996Z"
   },
   {
    "duration": 3,
    "start_time": "2022-07-06T04:51:01.949Z"
   },
   {
    "duration": 5,
    "start_time": "2022-07-06T04:52:02.924Z"
   },
   {
    "duration": 6,
    "start_time": "2022-07-06T04:52:03.932Z"
   },
   {
    "duration": 4,
    "start_time": "2022-07-06T04:52:06.458Z"
   },
   {
    "duration": 5,
    "start_time": "2022-07-06T04:52:29.443Z"
   },
   {
    "duration": 4,
    "start_time": "2022-07-06T04:52:35.108Z"
   },
   {
    "duration": 3288,
    "start_time": "2022-07-06T04:53:32.146Z"
   },
   {
    "duration": 29,
    "start_time": "2022-07-06T04:53:37.003Z"
   },
   {
    "duration": 39,
    "start_time": "2022-07-06T04:54:38.889Z"
   },
   {
    "duration": 112,
    "start_time": "2022-07-06T04:55:01.777Z"
   },
   {
    "duration": 10,
    "start_time": "2022-07-06T04:55:06.049Z"
   },
   {
    "duration": 11,
    "start_time": "2022-07-06T04:58:00.110Z"
   },
   {
    "duration": 28,
    "start_time": "2022-07-06T05:00:42.388Z"
   },
   {
    "duration": 29,
    "start_time": "2022-07-06T05:01:03.086Z"
   },
   {
    "duration": 27,
    "start_time": "2022-07-06T05:01:57.143Z"
   },
   {
    "duration": 4,
    "start_time": "2022-07-06T05:10:23.141Z"
   },
   {
    "duration": 80,
    "start_time": "2022-07-06T05:11:31.819Z"
   },
   {
    "duration": 9,
    "start_time": "2022-07-06T05:22:41.480Z"
   },
   {
    "duration": 4,
    "start_time": "2022-07-06T05:22:51.411Z"
   },
   {
    "duration": 6,
    "start_time": "2022-07-06T05:22:56.063Z"
   },
   {
    "duration": 6,
    "start_time": "2022-07-06T05:24:00.952Z"
   },
   {
    "duration": 6,
    "start_time": "2022-07-06T05:25:24.182Z"
   },
   {
    "duration": 122,
    "start_time": "2022-07-06T05:26:14.934Z"
   },
   {
    "duration": 1432,
    "start_time": "2022-07-06T06:01:08.090Z"
   },
   {
    "duration": 31,
    "start_time": "2022-07-06T06:01:09.524Z"
   },
   {
    "duration": 66,
    "start_time": "2022-07-06T06:01:09.558Z"
   },
   {
    "duration": 4,
    "start_time": "2022-07-06T06:01:09.626Z"
   },
   {
    "duration": 17,
    "start_time": "2022-07-06T06:01:09.631Z"
   },
   {
    "duration": 15,
    "start_time": "2022-07-06T06:01:09.650Z"
   },
   {
    "duration": 6,
    "start_time": "2022-07-06T06:01:09.666Z"
   },
   {
    "duration": 47,
    "start_time": "2022-07-06T06:01:09.674Z"
   },
   {
    "duration": 4202,
    "start_time": "2022-07-06T06:01:09.722Z"
   },
   {
    "duration": 27,
    "start_time": "2022-07-06T06:01:13.926Z"
   },
   {
    "duration": 59,
    "start_time": "2022-07-06T06:01:13.954Z"
   },
   {
    "duration": 7,
    "start_time": "2022-07-06T06:01:14.016Z"
   },
   {
    "duration": 52,
    "start_time": "2022-07-06T06:01:22.859Z"
   },
   {
    "duration": 45,
    "start_time": "2022-07-06T06:01:31.475Z"
   },
   {
    "duration": 32403,
    "start_time": "2022-07-06T06:06:24.882Z"
   },
   {
    "duration": 4237,
    "start_time": "2022-07-06T06:07:58.450Z"
   },
   {
    "duration": 1730,
    "start_time": "2022-07-06T06:20:04.756Z"
   },
   {
    "duration": 35,
    "start_time": "2022-07-06T06:20:06.489Z"
   },
   {
    "duration": 56,
    "start_time": "2022-07-06T06:20:06.526Z"
   },
   {
    "duration": 4,
    "start_time": "2022-07-06T06:20:06.584Z"
   },
   {
    "duration": 11,
    "start_time": "2022-07-06T06:20:06.598Z"
   },
   {
    "duration": 26,
    "start_time": "2022-07-06T06:20:06.611Z"
   },
   {
    "duration": 24,
    "start_time": "2022-07-06T06:20:06.640Z"
   },
   {
    "duration": 64,
    "start_time": "2022-07-06T06:20:06.667Z"
   },
   {
    "duration": 4385,
    "start_time": "2022-07-06T06:20:06.735Z"
   },
   {
    "duration": 28,
    "start_time": "2022-07-06T06:20:11.123Z"
   },
   {
    "duration": 62,
    "start_time": "2022-07-06T06:20:11.153Z"
   },
   {
    "duration": 7,
    "start_time": "2022-07-06T06:20:11.217Z"
   },
   {
    "duration": 5,
    "start_time": "2022-07-06T06:22:24.073Z"
   },
   {
    "duration": 41,
    "start_time": "2022-07-06T06:37:40.115Z"
   },
   {
    "duration": 95,
    "start_time": "2022-07-06T06:39:56.762Z"
   },
   {
    "duration": 14,
    "start_time": "2022-07-06T06:40:06.615Z"
   },
   {
    "duration": 8,
    "start_time": "2022-07-06T06:40:08.825Z"
   },
   {
    "duration": 4,
    "start_time": "2022-07-06T06:40:15.177Z"
   },
   {
    "duration": 46,
    "start_time": "2022-07-06T06:40:15.183Z"
   },
   {
    "duration": 43,
    "start_time": "2022-07-06T06:40:15.231Z"
   },
   {
    "duration": 4,
    "start_time": "2022-07-06T06:40:15.276Z"
   },
   {
    "duration": 12,
    "start_time": "2022-07-06T06:40:15.282Z"
   },
   {
    "duration": 31,
    "start_time": "2022-07-06T06:40:15.296Z"
   },
   {
    "duration": 4,
    "start_time": "2022-07-06T06:40:16.241Z"
   },
   {
    "duration": 33,
    "start_time": "2022-07-06T06:40:17.817Z"
   },
   {
    "duration": 39,
    "start_time": "2022-07-06T06:40:26.377Z"
   },
   {
    "duration": 14,
    "start_time": "2022-07-06T06:40:32.300Z"
   },
   {
    "duration": 8,
    "start_time": "2022-07-06T06:40:49.264Z"
   },
   {
    "duration": 5,
    "start_time": "2022-07-06T06:40:55.664Z"
   },
   {
    "duration": 52,
    "start_time": "2022-07-06T10:00:40.859Z"
   },
   {
    "duration": 128,
    "start_time": "2022-07-09T05:45:10.446Z"
   },
   {
    "duration": 50,
    "start_time": "2022-07-09T06:09:26.317Z"
   },
   {
    "duration": 1220,
    "start_time": "2022-07-09T06:09:33.363Z"
   },
   {
    "duration": 136,
    "start_time": "2022-07-09T06:09:35.028Z"
   },
   {
    "duration": 55,
    "start_time": "2022-07-09T06:10:02.186Z"
   },
   {
    "duration": 52,
    "start_time": "2022-07-09T06:10:03.726Z"
   },
   {
    "duration": 98,
    "start_time": "2022-07-09T06:13:08.483Z"
   },
   {
    "duration": 4,
    "start_time": "2022-07-09T06:13:14.329Z"
   },
   {
    "duration": 9,
    "start_time": "2022-07-09T06:13:14.523Z"
   },
   {
    "duration": 7,
    "start_time": "2022-07-09T06:13:14.688Z"
   },
   {
    "duration": 5,
    "start_time": "2022-07-09T06:13:15.032Z"
   },
   {
    "duration": 35,
    "start_time": "2022-07-09T06:13:16.135Z"
   },
   {
    "duration": 587,
    "start_time": "2022-07-09T06:19:38.876Z"
   },
   {
    "duration": 68,
    "start_time": "2022-07-09T06:21:17.928Z"
   },
   {
    "duration": 4380,
    "start_time": "2022-07-09T06:23:17.354Z"
   },
   {
    "duration": 4451,
    "start_time": "2022-07-09T06:24:16.762Z"
   },
   {
    "duration": 13,
    "start_time": "2022-07-09T06:25:17.520Z"
   },
   {
    "duration": 3,
    "start_time": "2022-07-09T06:26:23.255Z"
   },
   {
    "duration": 53,
    "start_time": "2022-07-09T06:27:00.577Z"
   },
   {
    "duration": 34,
    "start_time": "2022-07-09T06:38:03.058Z"
   },
   {
    "duration": 4,
    "start_time": "2022-07-09T06:38:10.464Z"
   },
   {
    "duration": 34,
    "start_time": "2022-07-09T06:38:10.805Z"
   },
   {
    "duration": 56,
    "start_time": "2022-07-09T06:38:10.970Z"
   },
   {
    "duration": 5,
    "start_time": "2022-07-09T06:38:11.841Z"
   },
   {
    "duration": 7,
    "start_time": "2022-07-09T06:38:12.034Z"
   },
   {
    "duration": 6,
    "start_time": "2022-07-09T06:38:12.214Z"
   },
   {
    "duration": 3,
    "start_time": "2022-07-09T06:38:12.611Z"
   },
   {
    "duration": 33,
    "start_time": "2022-07-09T06:38:13.345Z"
   },
   {
    "duration": 13,
    "start_time": "2022-07-09T06:38:13.537Z"
   },
   {
    "duration": 4303,
    "start_time": "2022-07-09T06:38:14.114Z"
   },
   {
    "duration": 11,
    "start_time": "2022-07-09T06:38:18.419Z"
   },
   {
    "duration": 4,
    "start_time": "2022-07-09T06:38:45.993Z"
   },
   {
    "duration": 43,
    "start_time": "2022-07-09T06:39:01.122Z"
   },
   {
    "duration": 1738,
    "start_time": "2022-07-09T08:00:39.230Z"
   },
   {
    "duration": 42,
    "start_time": "2022-07-09T08:00:40.971Z"
   },
   {
    "duration": 49,
    "start_time": "2022-07-09T08:00:41.016Z"
   },
   {
    "duration": 4,
    "start_time": "2022-07-09T08:00:41.257Z"
   },
   {
    "duration": 9,
    "start_time": "2022-07-09T08:00:41.420Z"
   },
   {
    "duration": 7,
    "start_time": "2022-07-09T08:00:41.581Z"
   },
   {
    "duration": 4,
    "start_time": "2022-07-09T08:00:41.891Z"
   },
   {
    "duration": 33,
    "start_time": "2022-07-09T08:00:42.519Z"
   },
   {
    "duration": 119,
    "start_time": "2022-07-09T08:00:42.682Z"
   },
   {
    "duration": 3795,
    "start_time": "2022-07-09T08:00:43.177Z"
   },
   {
    "duration": 40,
    "start_time": "2022-07-09T08:00:46.974Z"
   },
   {
    "duration": 60,
    "start_time": "2022-07-09T08:00:47.016Z"
   },
   {
    "duration": 0,
    "start_time": "2022-07-09T08:00:47.077Z"
   },
   {
    "duration": 0,
    "start_time": "2022-07-09T08:00:47.078Z"
   },
   {
    "duration": 11,
    "start_time": "2022-07-09T08:06:25.456Z"
   },
   {
    "duration": 28,
    "start_time": "2022-07-09T08:08:00.769Z"
   },
   {
    "duration": 176,
    "start_time": "2022-07-09T08:08:54.693Z"
   },
   {
    "duration": 220,
    "start_time": "2022-07-09T08:09:09.142Z"
   },
   {
    "duration": 208,
    "start_time": "2022-07-09T08:12:42.706Z"
   },
   {
    "duration": 241,
    "start_time": "2022-07-09T08:13:03.213Z"
   },
   {
    "duration": 146,
    "start_time": "2022-07-09T08:13:54.716Z"
   },
   {
    "duration": 155,
    "start_time": "2022-07-09T08:13:59.252Z"
   },
   {
    "duration": 196,
    "start_time": "2022-07-09T08:14:31.252Z"
   },
   {
    "duration": 121,
    "start_time": "2022-07-09T08:15:01.864Z"
   },
   {
    "duration": 139,
    "start_time": "2022-07-09T08:15:20.516Z"
   },
   {
    "duration": 34,
    "start_time": "2022-07-09T08:15:35.494Z"
   },
   {
    "duration": 137,
    "start_time": "2022-07-09T08:16:04.473Z"
   },
   {
    "duration": 123,
    "start_time": "2022-07-09T08:17:25.197Z"
   },
   {
    "duration": 124,
    "start_time": "2022-07-09T08:17:47.043Z"
   },
   {
    "duration": 1597,
    "start_time": "2022-07-11T07:26:44.030Z"
   },
   {
    "duration": 41,
    "start_time": "2022-07-11T07:26:45.629Z"
   },
   {
    "duration": 43,
    "start_time": "2022-07-11T07:26:45.672Z"
   },
   {
    "duration": 3,
    "start_time": "2022-07-11T07:26:45.717Z"
   },
   {
    "duration": 16,
    "start_time": "2022-07-11T07:26:45.721Z"
   },
   {
    "duration": 11,
    "start_time": "2022-07-11T07:26:45.739Z"
   },
   {
    "duration": 4,
    "start_time": "2022-07-11T07:26:46.028Z"
   },
   {
    "duration": 29,
    "start_time": "2022-07-11T07:26:46.719Z"
   },
   {
    "duration": 202,
    "start_time": "2022-07-11T07:26:46.878Z"
   },
   {
    "duration": 3507,
    "start_time": "2022-07-11T07:26:47.423Z"
   },
   {
    "duration": 37,
    "start_time": "2022-07-11T07:26:50.933Z"
   },
   {
    "duration": 31,
    "start_time": "2022-07-11T07:26:50.972Z"
   },
   {
    "duration": 5,
    "start_time": "2022-07-11T07:26:51.005Z"
   },
   {
    "duration": 23,
    "start_time": "2022-07-11T07:39:00.237Z"
   },
   {
    "duration": 8,
    "start_time": "2022-07-11T07:41:14.566Z"
   },
   {
    "duration": 107,
    "start_time": "2022-07-11T07:48:19.329Z"
   },
   {
    "duration": 73,
    "start_time": "2022-07-11T08:13:40.999Z"
   },
   {
    "duration": 1714,
    "start_time": "2022-07-11T18:22:45.071Z"
   },
   {
    "duration": 20,
    "start_time": "2022-07-11T18:22:46.786Z"
   },
   {
    "duration": 56,
    "start_time": "2022-07-11T18:22:46.808Z"
   },
   {
    "duration": 4,
    "start_time": "2022-07-11T18:22:46.867Z"
   },
   {
    "duration": 8,
    "start_time": "2022-07-11T18:22:46.873Z"
   },
   {
    "duration": 7,
    "start_time": "2022-07-11T18:22:46.883Z"
   },
   {
    "duration": 5,
    "start_time": "2022-07-11T18:22:46.892Z"
   },
   {
    "duration": 63,
    "start_time": "2022-07-11T18:22:46.898Z"
   },
   {
    "duration": 4094,
    "start_time": "2022-07-11T18:22:46.964Z"
   },
   {
    "duration": 35,
    "start_time": "2022-07-11T18:22:51.061Z"
   },
   {
    "duration": 37,
    "start_time": "2022-07-11T18:22:51.098Z"
   },
   {
    "duration": 18,
    "start_time": "2022-07-11T18:22:51.136Z"
   },
   {
    "duration": 6,
    "start_time": "2022-07-11T18:25:02.071Z"
   },
   {
    "duration": 4,
    "start_time": "2022-07-11T18:26:42.607Z"
   },
   {
    "duration": 6,
    "start_time": "2022-07-11T18:28:39.766Z"
   },
   {
    "duration": 1719,
    "start_time": "2022-07-11T18:32:48.693Z"
   },
   {
    "duration": 30,
    "start_time": "2022-07-11T18:32:50.414Z"
   },
   {
    "duration": 44,
    "start_time": "2022-07-11T18:32:50.446Z"
   },
   {
    "duration": 3,
    "start_time": "2022-07-11T18:32:50.492Z"
   },
   {
    "duration": 15,
    "start_time": "2022-07-11T18:32:50.497Z"
   },
   {
    "duration": 14,
    "start_time": "2022-07-11T18:32:50.514Z"
   },
   {
    "duration": 20,
    "start_time": "2022-07-11T18:32:50.530Z"
   },
   {
    "duration": 47,
    "start_time": "2022-07-11T18:32:50.551Z"
   },
   {
    "duration": 3881,
    "start_time": "2022-07-11T18:32:50.600Z"
   },
   {
    "duration": 67,
    "start_time": "2022-07-11T18:32:54.483Z"
   },
   {
    "duration": 16,
    "start_time": "2022-07-11T18:32:54.551Z"
   },
   {
    "duration": 8,
    "start_time": "2022-07-11T18:32:54.568Z"
   },
   {
    "duration": 1781,
    "start_time": "2022-07-12T06:23:24.890Z"
   },
   {
    "duration": 133,
    "start_time": "2022-07-12T06:23:26.674Z"
   },
   {
    "duration": 69,
    "start_time": "2022-07-12T06:23:26.809Z"
   },
   {
    "duration": 18,
    "start_time": "2022-07-12T06:23:26.881Z"
   },
   {
    "duration": 18,
    "start_time": "2022-07-12T06:23:26.902Z"
   },
   {
    "duration": 15,
    "start_time": "2022-07-12T06:23:26.923Z"
   },
   {
    "duration": 5,
    "start_time": "2022-07-12T06:23:27.238Z"
   },
   {
    "duration": 35,
    "start_time": "2022-07-12T06:23:28.190Z"
   },
   {
    "duration": 123,
    "start_time": "2022-07-12T06:23:28.382Z"
   },
   {
    "duration": 13,
    "start_time": "2022-07-12T06:23:28.582Z"
   },
   {
    "duration": 9,
    "start_time": "2022-07-12T06:23:28.797Z"
   },
   {
    "duration": 16,
    "start_time": "2022-07-12T06:24:36.862Z"
   },
   {
    "duration": 14,
    "start_time": "2022-07-12T06:24:59.510Z"
   },
   {
    "duration": 4,
    "start_time": "2022-07-12T06:25:46.870Z"
   },
   {
    "duration": 5,
    "start_time": "2022-07-12T06:25:52.573Z"
   },
   {
    "duration": 20,
    "start_time": "2022-07-12T06:26:29.765Z"
   },
   {
    "duration": 17,
    "start_time": "2022-07-12T06:27:15.156Z"
   },
   {
    "duration": 16,
    "start_time": "2022-07-12T06:27:25.764Z"
   },
   {
    "duration": 161,
    "start_time": "2022-07-12T06:27:32.237Z"
   },
   {
    "duration": 36,
    "start_time": "2022-07-12T06:29:17.188Z"
   },
   {
    "duration": 26,
    "start_time": "2022-07-12T06:31:21.017Z"
   },
   {
    "duration": 18,
    "start_time": "2022-07-12T06:32:54.954Z"
   },
   {
    "duration": 1830,
    "start_time": "2022-07-12T11:15:36.632Z"
   },
   {
    "duration": 41,
    "start_time": "2022-07-12T11:15:38.464Z"
   },
   {
    "duration": 42,
    "start_time": "2022-07-12T11:15:38.506Z"
   },
   {
    "duration": 3,
    "start_time": "2022-07-12T11:15:38.550Z"
   },
   {
    "duration": 11,
    "start_time": "2022-07-12T11:15:38.554Z"
   },
   {
    "duration": 4,
    "start_time": "2022-07-12T11:15:38.567Z"
   },
   {
    "duration": 4,
    "start_time": "2022-07-12T11:15:38.573Z"
   },
   {
    "duration": 34,
    "start_time": "2022-07-12T11:15:38.578Z"
   },
   {
    "duration": 3653,
    "start_time": "2022-07-12T11:15:38.614Z"
   },
   {
    "duration": 34,
    "start_time": "2022-07-12T11:15:42.269Z"
   },
   {
    "duration": 11,
    "start_time": "2022-07-12T11:15:42.305Z"
   },
   {
    "duration": 6,
    "start_time": "2022-07-12T11:15:42.318Z"
   },
   {
    "duration": 5,
    "start_time": "2022-07-12T11:16:29.893Z"
   },
   {
    "duration": 3,
    "start_time": "2022-07-12T11:16:42.974Z"
   },
   {
    "duration": 3,
    "start_time": "2022-07-12T11:16:49.582Z"
   }
  ],
  "kernelspec": {
   "display_name": "Python 3 (ipykernel)",
   "language": "python",
   "name": "python3"
  },
  "language_info": {
   "codemirror_mode": {
    "name": "ipython",
    "version": 3
   },
   "file_extension": ".py",
   "mimetype": "text/x-python",
   "name": "python",
   "nbconvert_exporter": "python",
   "pygments_lexer": "ipython3",
   "version": "3.9.12"
  },
  "toc": {
   "base_numbering": 1,
   "nav_menu": {},
   "number_sections": true,
   "sideBar": true,
   "skip_h1_title": true,
   "title_cell": "Table of Contents",
   "title_sidebar": "Contents",
   "toc_cell": false,
   "toc_position": {},
   "toc_section_display": true,
   "toc_window_display": false
  }
 },
 "nbformat": 4,
 "nbformat_minor": 2
}

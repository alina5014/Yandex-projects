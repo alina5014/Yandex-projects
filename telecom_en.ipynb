{
 "cells": [
  {
   "cell_type": "markdown",
   "metadata": {},
   "source": [
    "# Prospective tariff for a telecom company"
   ]
  },
  {
   "cell_type": "markdown",
   "metadata": {},
   "source": [
    "Megaline is a state mobile operator. Clients are offered two tariff plans: \"Smart\" and \"Ultra\". The data of 500 Megaline users is at our disposal: who they are, where they are from, what tariff they use, how many calls and messages sent in 2018. It is necessary to analyze the behavior of customers and draw a conclusion - which tariff is better.\n",
    "\n",
    "Tariff Description\n",
    "\n",
    "**Tariff \"Smart\"**\n",
    "\n",
    "Monthly fee: 550 rubles\n",
    "\n",
    "Included: 500 minutes of calls, 50 messages and 15 GB of internet traffic\n",
    "\n",
    "The cost of services above the tariff package:\n",
    "\n",
    "one minute of call: 3 rubles\n",
    "\n",
    "one message: 3 rubles\n",
    "\n",
    "1 GB of Internet traffic: 200 rubles\n",
    "\n",
    "**Tariff \"Ultra\"**\n",
    "\n",
    "Monthly fee: 1950 rubles\n",
    "\n",
    "Included: 3000 minutes of calls, 1000 messages and 30 GB of internet traffic\n",
    "\n",
    "The cost of services above the tariff package:\n",
    "\n",
    "one minute of call: 1 ruble\n",
    "\n",
    "one message: 1 ruble\n",
    "\n",
    "1 GB of Internet traffic: 150 rubles\n",
    "\n",
    "\n",
    "The aim of the research is to examine two hypotheses.\n",
    "\n",
    "- The average revenue of users of the \"Ultra\" and \"Smart\" tariffs differ.\n",
    "- The average revenue of users from Moscow differs from the revenue of users from other regions.\n",
    "\n",
    "The research will take place in four stages:\n",
    "\n",
    "- Data overview\n",
    "- Data preprocessing\n",
    "- Exploratory data analysis\n",
    "- Statistical data analysis. Hypothesis testing."
   ]
  },
  {
   "cell_type": "markdown",
   "metadata": {},
   "source": [
    "## Data overview"
   ]
  },
  {
   "cell_type": "code",
   "execution_count": 66,
   "metadata": {},
   "outputs": [],
   "source": [
    "import pandas as pd\n",
    "import numpy as np\n",
    "from scipy import stats as st\n",
    "import matplotlib.pyplot as plt\n",
    "import seaborn as sns\n",
    "import math"
   ]
  },
  {
   "cell_type": "code",
   "execution_count": 67,
   "metadata": {},
   "outputs": [],
   "source": [
    "try:\n",
    "    calls = pd.read_csv('/datasets/calls.csv')\n",
    "    internet = pd.read_csv('/datasets/internet.csv')\n",
    "    messages = pd.read_csv('/datasets/messages.csv')\n",
    "    tariffs = pd.read_csv('/datasets/tariffs.csv')\n",
    "    users = pd.read_csv('/datasets/users.csv')\n",
    "except:\n",
    "    calls = pd.read_csv('calls.csv')\n",
    "    internet = pd.read_csv('internet.csv')\n",
    "    messages = pd.read_csv('messages.csv')\n",
    "    tariffs = pd.read_csv('tariffs.csv')\n",
    "    users = pd.read_csv('users.csv')"
   ]
  },
  {
   "cell_type": "code",
   "execution_count": 111,
   "metadata": {
    "scrolled": false
   },
   "outputs": [
    {
     "name": "stdout",
     "output_type": "stream",
     "text": [
      "<class 'pandas.core.frame.DataFrame'>\n",
      "RangeIndex: 202607 entries, 0 to 202606\n",
      "Data columns (total 6 columns):\n",
      " #   Column        Non-Null Count   Dtype         \n",
      "---  ------        --------------   -----         \n",
      " 0   id            202607 non-null  object        \n",
      " 1   call_date     202607 non-null  datetime64[ns]\n",
      " 2   duration      202607 non-null  int32         \n",
      " 3   user_id       202607 non-null  int64         \n",
      " 4   month         202607 non-null  int64         \n",
      " 5   duration_int  202607 non-null  float64       \n",
      "dtypes: datetime64[ns](1), float64(1), int32(1), int64(2), object(1)\n",
      "memory usage: 8.5+ MB\n"
     ]
    },
    {
     "data": {
      "text/plain": [
       "None"
      ]
     },
     "metadata": {},
     "output_type": "display_data"
    },
    {
     "name": "stdout",
     "output_type": "stream",
     "text": [
      "====================================================================================================\n"
     ]
    },
    {
     "data": {
      "text/html": [
       "<div>\n",
       "<style scoped>\n",
       "    .dataframe tbody tr th:only-of-type {\n",
       "        vertical-align: middle;\n",
       "    }\n",
       "\n",
       "    .dataframe tbody tr th {\n",
       "        vertical-align: top;\n",
       "    }\n",
       "\n",
       "    .dataframe thead th {\n",
       "        text-align: right;\n",
       "    }\n",
       "</style>\n",
       "<table border=\"1\" class=\"dataframe\">\n",
       "  <thead>\n",
       "    <tr style=\"text-align: right;\">\n",
       "      <th></th>\n",
       "      <th>duration</th>\n",
       "      <th>user_id</th>\n",
       "      <th>month</th>\n",
       "      <th>duration_int</th>\n",
       "    </tr>\n",
       "  </thead>\n",
       "  <tbody>\n",
       "    <tr>\n",
       "      <th>count</th>\n",
       "      <td>202607.000000</td>\n",
       "      <td>202607.000000</td>\n",
       "      <td>202607.000000</td>\n",
       "      <td>202607.000000</td>\n",
       "    </tr>\n",
       "    <tr>\n",
       "      <th>mean</th>\n",
       "      <td>6.361350</td>\n",
       "      <td>1253.940619</td>\n",
       "      <td>8.574067</td>\n",
       "      <td>6.361350</td>\n",
       "    </tr>\n",
       "    <tr>\n",
       "      <th>std</th>\n",
       "      <td>5.735426</td>\n",
       "      <td>144.722751</td>\n",
       "      <td>2.787093</td>\n",
       "      <td>5.735426</td>\n",
       "    </tr>\n",
       "    <tr>\n",
       "      <th>min</th>\n",
       "      <td>0.000000</td>\n",
       "      <td>1000.000000</td>\n",
       "      <td>1.000000</td>\n",
       "      <td>0.000000</td>\n",
       "    </tr>\n",
       "    <tr>\n",
       "      <th>25%</th>\n",
       "      <td>1.000000</td>\n",
       "      <td>1126.000000</td>\n",
       "      <td>7.000000</td>\n",
       "      <td>1.000000</td>\n",
       "    </tr>\n",
       "    <tr>\n",
       "      <th>50%</th>\n",
       "      <td>6.000000</td>\n",
       "      <td>1260.000000</td>\n",
       "      <td>9.000000</td>\n",
       "      <td>6.000000</td>\n",
       "    </tr>\n",
       "    <tr>\n",
       "      <th>75%</th>\n",
       "      <td>10.000000</td>\n",
       "      <td>1379.000000</td>\n",
       "      <td>11.000000</td>\n",
       "      <td>10.000000</td>\n",
       "    </tr>\n",
       "    <tr>\n",
       "      <th>max</th>\n",
       "      <td>38.000000</td>\n",
       "      <td>1499.000000</td>\n",
       "      <td>12.000000</td>\n",
       "      <td>38.000000</td>\n",
       "    </tr>\n",
       "  </tbody>\n",
       "</table>\n",
       "</div>"
      ],
      "text/plain": [
       "            duration        user_id          month   duration_int\n",
       "count  202607.000000  202607.000000  202607.000000  202607.000000\n",
       "mean        6.361350    1253.940619       8.574067       6.361350\n",
       "std         5.735426     144.722751       2.787093       5.735426\n",
       "min         0.000000    1000.000000       1.000000       0.000000\n",
       "25%         1.000000    1126.000000       7.000000       1.000000\n",
       "50%         6.000000    1260.000000       9.000000       6.000000\n",
       "75%        10.000000    1379.000000      11.000000      10.000000\n",
       "max        38.000000    1499.000000      12.000000      38.000000"
      ]
     },
     "metadata": {},
     "output_type": "display_data"
    },
    {
     "name": "stdout",
     "output_type": "stream",
     "text": [
      "====================================================================================================\n",
      "Number of null values in the table: id              0.0\n",
      "call_date       0.0\n",
      "duration        0.0\n",
      "user_id         0.0\n",
      "month           0.0\n",
      "duration_int    0.0\n",
      "dtype: float64\n",
      "====================================================================================================\n",
      "Number of duplicates in the table: 0\n",
      "====================================================================================================\n"
     ]
    },
    {
     "data": {
      "text/html": [
       "<div>\n",
       "<style scoped>\n",
       "    .dataframe tbody tr th:only-of-type {\n",
       "        vertical-align: middle;\n",
       "    }\n",
       "\n",
       "    .dataframe tbody tr th {\n",
       "        vertical-align: top;\n",
       "    }\n",
       "\n",
       "    .dataframe thead th {\n",
       "        text-align: right;\n",
       "    }\n",
       "</style>\n",
       "<table border=\"1\" class=\"dataframe\">\n",
       "  <thead>\n",
       "    <tr style=\"text-align: right;\">\n",
       "      <th></th>\n",
       "      <th>id</th>\n",
       "      <th>call_date</th>\n",
       "      <th>duration</th>\n",
       "      <th>user_id</th>\n",
       "      <th>month</th>\n",
       "      <th>duration_int</th>\n",
       "    </tr>\n",
       "  </thead>\n",
       "  <tbody>\n",
       "    <tr>\n",
       "      <th>0</th>\n",
       "      <td>1000_0</td>\n",
       "      <td>2018-07-25</td>\n",
       "      <td>0</td>\n",
       "      <td>1000</td>\n",
       "      <td>7</td>\n",
       "      <td>0.0</td>\n",
       "    </tr>\n",
       "    <tr>\n",
       "      <th>1</th>\n",
       "      <td>1000_1</td>\n",
       "      <td>2018-08-17</td>\n",
       "      <td>0</td>\n",
       "      <td>1000</td>\n",
       "      <td>8</td>\n",
       "      <td>0.0</td>\n",
       "    </tr>\n",
       "    <tr>\n",
       "      <th>2</th>\n",
       "      <td>1000_2</td>\n",
       "      <td>2018-06-11</td>\n",
       "      <td>2</td>\n",
       "      <td>1000</td>\n",
       "      <td>6</td>\n",
       "      <td>2.0</td>\n",
       "    </tr>\n",
       "    <tr>\n",
       "      <th>3</th>\n",
       "      <td>1000_3</td>\n",
       "      <td>2018-09-21</td>\n",
       "      <td>13</td>\n",
       "      <td>1000</td>\n",
       "      <td>9</td>\n",
       "      <td>13.0</td>\n",
       "    </tr>\n",
       "    <tr>\n",
       "      <th>4</th>\n",
       "      <td>1000_4</td>\n",
       "      <td>2018-12-15</td>\n",
       "      <td>5</td>\n",
       "      <td>1000</td>\n",
       "      <td>12</td>\n",
       "      <td>5.0</td>\n",
       "    </tr>\n",
       "  </tbody>\n",
       "</table>\n",
       "</div>"
      ],
      "text/plain": [
       "       id  call_date  duration  user_id  month  duration_int\n",
       "0  1000_0 2018-07-25         0     1000      7           0.0\n",
       "1  1000_1 2018-08-17         0     1000      8           0.0\n",
       "2  1000_2 2018-06-11         2     1000      6           2.0\n",
       "3  1000_3 2018-09-21        13     1000      9          13.0\n",
       "4  1000_4 2018-12-15         5     1000     12           5.0"
      ]
     },
     "metadata": {},
     "output_type": "display_data"
    },
    {
     "data": {
      "text/plain": [
       "None"
      ]
     },
     "metadata": {},
     "output_type": "display_data"
    },
    {
     "name": "stdout",
     "output_type": "stream",
     "text": [
      "<class 'pandas.core.frame.DataFrame'>\n",
      "RangeIndex: 149396 entries, 0 to 149395\n",
      "Data columns (total 7 columns):\n",
      " #   Column        Non-Null Count   Dtype         \n",
      "---  ------        --------------   -----         \n",
      " 0   Unnamed: 0    149396 non-null  int64         \n",
      " 1   id            149396 non-null  object        \n",
      " 2   mb_used       149396 non-null  int32         \n",
      " 3   session_date  149396 non-null  datetime64[ns]\n",
      " 4   user_id       149396 non-null  int64         \n",
      " 5   month         149396 non-null  int64         \n",
      " 6   gb_used       149396 non-null  float64       \n",
      "dtypes: datetime64[ns](1), float64(1), int32(1), int64(3), object(1)\n",
      "memory usage: 7.4+ MB\n"
     ]
    },
    {
     "data": {
      "text/plain": [
       "None"
      ]
     },
     "metadata": {},
     "output_type": "display_data"
    },
    {
     "name": "stdout",
     "output_type": "stream",
     "text": [
      "====================================================================================================\n"
     ]
    },
    {
     "data": {
      "text/html": [
       "<div>\n",
       "<style scoped>\n",
       "    .dataframe tbody tr th:only-of-type {\n",
       "        vertical-align: middle;\n",
       "    }\n",
       "\n",
       "    .dataframe tbody tr th {\n",
       "        vertical-align: top;\n",
       "    }\n",
       "\n",
       "    .dataframe thead th {\n",
       "        text-align: right;\n",
       "    }\n",
       "</style>\n",
       "<table border=\"1\" class=\"dataframe\">\n",
       "  <thead>\n",
       "    <tr style=\"text-align: right;\">\n",
       "      <th></th>\n",
       "      <th>Unnamed: 0</th>\n",
       "      <th>mb_used</th>\n",
       "      <th>user_id</th>\n",
       "      <th>month</th>\n",
       "      <th>gb_used</th>\n",
       "    </tr>\n",
       "  </thead>\n",
       "  <tbody>\n",
       "    <tr>\n",
       "      <th>count</th>\n",
       "      <td>149396.000000</td>\n",
       "      <td>149396.000000</td>\n",
       "      <td>149396.000000</td>\n",
       "      <td>149396.000000</td>\n",
       "      <td>149396.000000</td>\n",
       "    </tr>\n",
       "    <tr>\n",
       "      <th>mean</th>\n",
       "      <td>74697.500000</td>\n",
       "      <td>369.762223</td>\n",
       "      <td>1252.099842</td>\n",
       "      <td>8.563315</td>\n",
       "      <td>0.361096</td>\n",
       "    </tr>\n",
       "    <tr>\n",
       "      <th>std</th>\n",
       "      <td>43127.054745</td>\n",
       "      <td>278.214201</td>\n",
       "      <td>144.050823</td>\n",
       "      <td>2.788717</td>\n",
       "      <td>0.271694</td>\n",
       "    </tr>\n",
       "    <tr>\n",
       "      <th>min</th>\n",
       "      <td>0.000000</td>\n",
       "      <td>0.000000</td>\n",
       "      <td>1000.000000</td>\n",
       "      <td>1.000000</td>\n",
       "      <td>0.000000</td>\n",
       "    </tr>\n",
       "    <tr>\n",
       "      <th>25%</th>\n",
       "      <td>37348.750000</td>\n",
       "      <td>138.000000</td>\n",
       "      <td>1130.000000</td>\n",
       "      <td>7.000000</td>\n",
       "      <td>0.134766</td>\n",
       "    </tr>\n",
       "    <tr>\n",
       "      <th>50%</th>\n",
       "      <td>74697.500000</td>\n",
       "      <td>348.000000</td>\n",
       "      <td>1251.000000</td>\n",
       "      <td>9.000000</td>\n",
       "      <td>0.339844</td>\n",
       "    </tr>\n",
       "    <tr>\n",
       "      <th>75%</th>\n",
       "      <td>112046.250000</td>\n",
       "      <td>559.000000</td>\n",
       "      <td>1380.000000</td>\n",
       "      <td>11.000000</td>\n",
       "      <td>0.545898</td>\n",
       "    </tr>\n",
       "    <tr>\n",
       "      <th>max</th>\n",
       "      <td>149395.000000</td>\n",
       "      <td>1724.000000</td>\n",
       "      <td>1499.000000</td>\n",
       "      <td>12.000000</td>\n",
       "      <td>1.683594</td>\n",
       "    </tr>\n",
       "  </tbody>\n",
       "</table>\n",
       "</div>"
      ],
      "text/plain": [
       "          Unnamed: 0        mb_used        user_id          month  \\\n",
       "count  149396.000000  149396.000000  149396.000000  149396.000000   \n",
       "mean    74697.500000     369.762223    1252.099842       8.563315   \n",
       "std     43127.054745     278.214201     144.050823       2.788717   \n",
       "min         0.000000       0.000000    1000.000000       1.000000   \n",
       "25%     37348.750000     138.000000    1130.000000       7.000000   \n",
       "50%     74697.500000     348.000000    1251.000000       9.000000   \n",
       "75%    112046.250000     559.000000    1380.000000      11.000000   \n",
       "max    149395.000000    1724.000000    1499.000000      12.000000   \n",
       "\n",
       "             gb_used  \n",
       "count  149396.000000  \n",
       "mean        0.361096  \n",
       "std         0.271694  \n",
       "min         0.000000  \n",
       "25%         0.134766  \n",
       "50%         0.339844  \n",
       "75%         0.545898  \n",
       "max         1.683594  "
      ]
     },
     "metadata": {},
     "output_type": "display_data"
    },
    {
     "name": "stdout",
     "output_type": "stream",
     "text": [
      "====================================================================================================\n",
      "Number of null values in the table: Unnamed: 0      0.0\n",
      "id              0.0\n",
      "mb_used         0.0\n",
      "session_date    0.0\n",
      "user_id         0.0\n",
      "month           0.0\n",
      "gb_used         0.0\n",
      "dtype: float64\n",
      "====================================================================================================\n",
      "Number of duplicates in the table: 0\n",
      "====================================================================================================\n"
     ]
    },
    {
     "data": {
      "text/html": [
       "<div>\n",
       "<style scoped>\n",
       "    .dataframe tbody tr th:only-of-type {\n",
       "        vertical-align: middle;\n",
       "    }\n",
       "\n",
       "    .dataframe tbody tr th {\n",
       "        vertical-align: top;\n",
       "    }\n",
       "\n",
       "    .dataframe thead th {\n",
       "        text-align: right;\n",
       "    }\n",
       "</style>\n",
       "<table border=\"1\" class=\"dataframe\">\n",
       "  <thead>\n",
       "    <tr style=\"text-align: right;\">\n",
       "      <th></th>\n",
       "      <th>Unnamed: 0</th>\n",
       "      <th>id</th>\n",
       "      <th>mb_used</th>\n",
       "      <th>session_date</th>\n",
       "      <th>user_id</th>\n",
       "      <th>month</th>\n",
       "      <th>gb_used</th>\n",
       "    </tr>\n",
       "  </thead>\n",
       "  <tbody>\n",
       "    <tr>\n",
       "      <th>0</th>\n",
       "      <td>0</td>\n",
       "      <td>1000_0</td>\n",
       "      <td>112</td>\n",
       "      <td>2018-11-25</td>\n",
       "      <td>1000</td>\n",
       "      <td>11</td>\n",
       "      <td>0.109375</td>\n",
       "    </tr>\n",
       "    <tr>\n",
       "      <th>1</th>\n",
       "      <td>1</td>\n",
       "      <td>1000_1</td>\n",
       "      <td>1052</td>\n",
       "      <td>2018-09-07</td>\n",
       "      <td>1000</td>\n",
       "      <td>9</td>\n",
       "      <td>1.027344</td>\n",
       "    </tr>\n",
       "    <tr>\n",
       "      <th>2</th>\n",
       "      <td>2</td>\n",
       "      <td>1000_2</td>\n",
       "      <td>1197</td>\n",
       "      <td>2018-06-25</td>\n",
       "      <td>1000</td>\n",
       "      <td>6</td>\n",
       "      <td>1.168945</td>\n",
       "    </tr>\n",
       "    <tr>\n",
       "      <th>3</th>\n",
       "      <td>3</td>\n",
       "      <td>1000_3</td>\n",
       "      <td>550</td>\n",
       "      <td>2018-08-22</td>\n",
       "      <td>1000</td>\n",
       "      <td>8</td>\n",
       "      <td>0.537109</td>\n",
       "    </tr>\n",
       "    <tr>\n",
       "      <th>4</th>\n",
       "      <td>4</td>\n",
       "      <td>1000_4</td>\n",
       "      <td>302</td>\n",
       "      <td>2018-09-24</td>\n",
       "      <td>1000</td>\n",
       "      <td>9</td>\n",
       "      <td>0.294922</td>\n",
       "    </tr>\n",
       "  </tbody>\n",
       "</table>\n",
       "</div>"
      ],
      "text/plain": [
       "   Unnamed: 0      id  mb_used session_date  user_id  month   gb_used\n",
       "0           0  1000_0      112   2018-11-25     1000     11  0.109375\n",
       "1           1  1000_1     1052   2018-09-07     1000      9  1.027344\n",
       "2           2  1000_2     1197   2018-06-25     1000      6  1.168945\n",
       "3           3  1000_3      550   2018-08-22     1000      8  0.537109\n",
       "4           4  1000_4      302   2018-09-24     1000      9  0.294922"
      ]
     },
     "metadata": {},
     "output_type": "display_data"
    },
    {
     "data": {
      "text/plain": [
       "None"
      ]
     },
     "metadata": {},
     "output_type": "display_data"
    },
    {
     "name": "stdout",
     "output_type": "stream",
     "text": [
      "<class 'pandas.core.frame.DataFrame'>\n",
      "RangeIndex: 123036 entries, 0 to 123035\n",
      "Data columns (total 4 columns):\n",
      " #   Column        Non-Null Count   Dtype         \n",
      "---  ------        --------------   -----         \n",
      " 0   id            123036 non-null  object        \n",
      " 1   message_date  123036 non-null  datetime64[ns]\n",
      " 2   user_id       123036 non-null  int64         \n",
      " 3   month         123036 non-null  int64         \n",
      "dtypes: datetime64[ns](1), int64(2), object(1)\n",
      "memory usage: 3.8+ MB\n"
     ]
    },
    {
     "data": {
      "text/plain": [
       "None"
      ]
     },
     "metadata": {},
     "output_type": "display_data"
    },
    {
     "name": "stdout",
     "output_type": "stream",
     "text": [
      "====================================================================================================\n"
     ]
    },
    {
     "data": {
      "text/html": [
       "<div>\n",
       "<style scoped>\n",
       "    .dataframe tbody tr th:only-of-type {\n",
       "        vertical-align: middle;\n",
       "    }\n",
       "\n",
       "    .dataframe tbody tr th {\n",
       "        vertical-align: top;\n",
       "    }\n",
       "\n",
       "    .dataframe thead th {\n",
       "        text-align: right;\n",
       "    }\n",
       "</style>\n",
       "<table border=\"1\" class=\"dataframe\">\n",
       "  <thead>\n",
       "    <tr style=\"text-align: right;\">\n",
       "      <th></th>\n",
       "      <th>user_id</th>\n",
       "      <th>month</th>\n",
       "    </tr>\n",
       "  </thead>\n",
       "  <tbody>\n",
       "    <tr>\n",
       "      <th>count</th>\n",
       "      <td>123036.000000</td>\n",
       "      <td>123036.000000</td>\n",
       "    </tr>\n",
       "    <tr>\n",
       "      <th>mean</th>\n",
       "      <td>1256.989410</td>\n",
       "      <td>8.632262</td>\n",
       "    </tr>\n",
       "    <tr>\n",
       "      <th>std</th>\n",
       "      <td>143.523967</td>\n",
       "      <td>2.747328</td>\n",
       "    </tr>\n",
       "    <tr>\n",
       "      <th>min</th>\n",
       "      <td>1000.000000</td>\n",
       "      <td>1.000000</td>\n",
       "    </tr>\n",
       "    <tr>\n",
       "      <th>25%</th>\n",
       "      <td>1134.000000</td>\n",
       "      <td>7.000000</td>\n",
       "    </tr>\n",
       "    <tr>\n",
       "      <th>50%</th>\n",
       "      <td>1271.000000</td>\n",
       "      <td>9.000000</td>\n",
       "    </tr>\n",
       "    <tr>\n",
       "      <th>75%</th>\n",
       "      <td>1381.000000</td>\n",
       "      <td>11.000000</td>\n",
       "    </tr>\n",
       "    <tr>\n",
       "      <th>max</th>\n",
       "      <td>1499.000000</td>\n",
       "      <td>12.000000</td>\n",
       "    </tr>\n",
       "  </tbody>\n",
       "</table>\n",
       "</div>"
      ],
      "text/plain": [
       "             user_id          month\n",
       "count  123036.000000  123036.000000\n",
       "mean     1256.989410       8.632262\n",
       "std       143.523967       2.747328\n",
       "min      1000.000000       1.000000\n",
       "25%      1134.000000       7.000000\n",
       "50%      1271.000000       9.000000\n",
       "75%      1381.000000      11.000000\n",
       "max      1499.000000      12.000000"
      ]
     },
     "metadata": {},
     "output_type": "display_data"
    },
    {
     "name": "stdout",
     "output_type": "stream",
     "text": [
      "====================================================================================================\n",
      "Number of null values in the table: id              0.0\n",
      "message_date    0.0\n",
      "user_id         0.0\n",
      "month           0.0\n",
      "dtype: float64\n",
      "====================================================================================================\n",
      "Number of duplicates in the table: 0\n",
      "====================================================================================================\n"
     ]
    },
    {
     "data": {
      "text/html": [
       "<div>\n",
       "<style scoped>\n",
       "    .dataframe tbody tr th:only-of-type {\n",
       "        vertical-align: middle;\n",
       "    }\n",
       "\n",
       "    .dataframe tbody tr th {\n",
       "        vertical-align: top;\n",
       "    }\n",
       "\n",
       "    .dataframe thead th {\n",
       "        text-align: right;\n",
       "    }\n",
       "</style>\n",
       "<table border=\"1\" class=\"dataframe\">\n",
       "  <thead>\n",
       "    <tr style=\"text-align: right;\">\n",
       "      <th></th>\n",
       "      <th>id</th>\n",
       "      <th>message_date</th>\n",
       "      <th>user_id</th>\n",
       "      <th>month</th>\n",
       "    </tr>\n",
       "  </thead>\n",
       "  <tbody>\n",
       "    <tr>\n",
       "      <th>0</th>\n",
       "      <td>1000_0</td>\n",
       "      <td>2018-06-27</td>\n",
       "      <td>1000</td>\n",
       "      <td>6</td>\n",
       "    </tr>\n",
       "    <tr>\n",
       "      <th>1</th>\n",
       "      <td>1000_1</td>\n",
       "      <td>2018-10-08</td>\n",
       "      <td>1000</td>\n",
       "      <td>10</td>\n",
       "    </tr>\n",
       "    <tr>\n",
       "      <th>2</th>\n",
       "      <td>1000_2</td>\n",
       "      <td>2018-08-04</td>\n",
       "      <td>1000</td>\n",
       "      <td>8</td>\n",
       "    </tr>\n",
       "    <tr>\n",
       "      <th>3</th>\n",
       "      <td>1000_3</td>\n",
       "      <td>2018-06-16</td>\n",
       "      <td>1000</td>\n",
       "      <td>6</td>\n",
       "    </tr>\n",
       "    <tr>\n",
       "      <th>4</th>\n",
       "      <td>1000_4</td>\n",
       "      <td>2018-12-05</td>\n",
       "      <td>1000</td>\n",
       "      <td>12</td>\n",
       "    </tr>\n",
       "  </tbody>\n",
       "</table>\n",
       "</div>"
      ],
      "text/plain": [
       "       id message_date  user_id  month\n",
       "0  1000_0   2018-06-27     1000      6\n",
       "1  1000_1   2018-10-08     1000     10\n",
       "2  1000_2   2018-08-04     1000      8\n",
       "3  1000_3   2018-06-16     1000      6\n",
       "4  1000_4   2018-12-05     1000     12"
      ]
     },
     "metadata": {},
     "output_type": "display_data"
    },
    {
     "data": {
      "text/plain": [
       "None"
      ]
     },
     "metadata": {},
     "output_type": "display_data"
    },
    {
     "name": "stdout",
     "output_type": "stream",
     "text": [
      "<class 'pandas.core.frame.DataFrame'>\n",
      "RangeIndex: 2 entries, 0 to 1\n",
      "Data columns (total 9 columns):\n",
      " #   Column                 Non-Null Count  Dtype  \n",
      "---  ------                 --------------  -----  \n",
      " 0   messages_included      2 non-null      int64  \n",
      " 1   mb_per_month_included  2 non-null      int64  \n",
      " 2   minutes_included       2 non-null      int64  \n",
      " 3   rub_monthly_fee        2 non-null      int64  \n",
      " 4   rub_per_gb             2 non-null      int64  \n",
      " 5   rub_per_message        2 non-null      int64  \n",
      " 6   rub_per_minute         2 non-null      int64  \n",
      " 7   tariff                 2 non-null      object \n",
      " 8   gb_per_month_included  2 non-null      float64\n",
      "dtypes: float64(1), int64(7), object(1)\n",
      "memory usage: 272.0+ bytes\n"
     ]
    },
    {
     "data": {
      "text/plain": [
       "None"
      ]
     },
     "metadata": {},
     "output_type": "display_data"
    },
    {
     "name": "stdout",
     "output_type": "stream",
     "text": [
      "====================================================================================================\n"
     ]
    },
    {
     "data": {
      "text/html": [
       "<div>\n",
       "<style scoped>\n",
       "    .dataframe tbody tr th:only-of-type {\n",
       "        vertical-align: middle;\n",
       "    }\n",
       "\n",
       "    .dataframe tbody tr th {\n",
       "        vertical-align: top;\n",
       "    }\n",
       "\n",
       "    .dataframe thead th {\n",
       "        text-align: right;\n",
       "    }\n",
       "</style>\n",
       "<table border=\"1\" class=\"dataframe\">\n",
       "  <thead>\n",
       "    <tr style=\"text-align: right;\">\n",
       "      <th></th>\n",
       "      <th>messages_included</th>\n",
       "      <th>mb_per_month_included</th>\n",
       "      <th>minutes_included</th>\n",
       "      <th>rub_monthly_fee</th>\n",
       "      <th>rub_per_gb</th>\n",
       "      <th>rub_per_message</th>\n",
       "      <th>rub_per_minute</th>\n",
       "      <th>gb_per_month_included</th>\n",
       "    </tr>\n",
       "  </thead>\n",
       "  <tbody>\n",
       "    <tr>\n",
       "      <th>count</th>\n",
       "      <td>2.000000</td>\n",
       "      <td>2.000000</td>\n",
       "      <td>2.000000</td>\n",
       "      <td>2.000000</td>\n",
       "      <td>2.000000</td>\n",
       "      <td>2.000000</td>\n",
       "      <td>2.000000</td>\n",
       "      <td>2.000000</td>\n",
       "    </tr>\n",
       "    <tr>\n",
       "      <th>mean</th>\n",
       "      <td>525.000000</td>\n",
       "      <td>23040.000000</td>\n",
       "      <td>1750.000000</td>\n",
       "      <td>1250.000000</td>\n",
       "      <td>175.000000</td>\n",
       "      <td>2.000000</td>\n",
       "      <td>2.000000</td>\n",
       "      <td>22.500000</td>\n",
       "    </tr>\n",
       "    <tr>\n",
       "      <th>std</th>\n",
       "      <td>671.751442</td>\n",
       "      <td>10861.160159</td>\n",
       "      <td>1767.766953</td>\n",
       "      <td>989.949494</td>\n",
       "      <td>35.355339</td>\n",
       "      <td>1.414214</td>\n",
       "      <td>1.414214</td>\n",
       "      <td>10.606602</td>\n",
       "    </tr>\n",
       "    <tr>\n",
       "      <th>min</th>\n",
       "      <td>50.000000</td>\n",
       "      <td>15360.000000</td>\n",
       "      <td>500.000000</td>\n",
       "      <td>550.000000</td>\n",
       "      <td>150.000000</td>\n",
       "      <td>1.000000</td>\n",
       "      <td>1.000000</td>\n",
       "      <td>15.000000</td>\n",
       "    </tr>\n",
       "    <tr>\n",
       "      <th>25%</th>\n",
       "      <td>287.500000</td>\n",
       "      <td>19200.000000</td>\n",
       "      <td>1125.000000</td>\n",
       "      <td>900.000000</td>\n",
       "      <td>162.500000</td>\n",
       "      <td>1.500000</td>\n",
       "      <td>1.500000</td>\n",
       "      <td>18.750000</td>\n",
       "    </tr>\n",
       "    <tr>\n",
       "      <th>50%</th>\n",
       "      <td>525.000000</td>\n",
       "      <td>23040.000000</td>\n",
       "      <td>1750.000000</td>\n",
       "      <td>1250.000000</td>\n",
       "      <td>175.000000</td>\n",
       "      <td>2.000000</td>\n",
       "      <td>2.000000</td>\n",
       "      <td>22.500000</td>\n",
       "    </tr>\n",
       "    <tr>\n",
       "      <th>75%</th>\n",
       "      <td>762.500000</td>\n",
       "      <td>26880.000000</td>\n",
       "      <td>2375.000000</td>\n",
       "      <td>1600.000000</td>\n",
       "      <td>187.500000</td>\n",
       "      <td>2.500000</td>\n",
       "      <td>2.500000</td>\n",
       "      <td>26.250000</td>\n",
       "    </tr>\n",
       "    <tr>\n",
       "      <th>max</th>\n",
       "      <td>1000.000000</td>\n",
       "      <td>30720.000000</td>\n",
       "      <td>3000.000000</td>\n",
       "      <td>1950.000000</td>\n",
       "      <td>200.000000</td>\n",
       "      <td>3.000000</td>\n",
       "      <td>3.000000</td>\n",
       "      <td>30.000000</td>\n",
       "    </tr>\n",
       "  </tbody>\n",
       "</table>\n",
       "</div>"
      ],
      "text/plain": [
       "       messages_included  mb_per_month_included  minutes_included  \\\n",
       "count           2.000000               2.000000          2.000000   \n",
       "mean          525.000000           23040.000000       1750.000000   \n",
       "std           671.751442           10861.160159       1767.766953   \n",
       "min            50.000000           15360.000000        500.000000   \n",
       "25%           287.500000           19200.000000       1125.000000   \n",
       "50%           525.000000           23040.000000       1750.000000   \n",
       "75%           762.500000           26880.000000       2375.000000   \n",
       "max          1000.000000           30720.000000       3000.000000   \n",
       "\n",
       "       rub_monthly_fee  rub_per_gb  rub_per_message  rub_per_minute  \\\n",
       "count         2.000000    2.000000         2.000000        2.000000   \n",
       "mean       1250.000000  175.000000         2.000000        2.000000   \n",
       "std         989.949494   35.355339         1.414214        1.414214   \n",
       "min         550.000000  150.000000         1.000000        1.000000   \n",
       "25%         900.000000  162.500000         1.500000        1.500000   \n",
       "50%        1250.000000  175.000000         2.000000        2.000000   \n",
       "75%        1600.000000  187.500000         2.500000        2.500000   \n",
       "max        1950.000000  200.000000         3.000000        3.000000   \n",
       "\n",
       "       gb_per_month_included  \n",
       "count               2.000000  \n",
       "mean               22.500000  \n",
       "std                10.606602  \n",
       "min                15.000000  \n",
       "25%                18.750000  \n",
       "50%                22.500000  \n",
       "75%                26.250000  \n",
       "max                30.000000  "
      ]
     },
     "metadata": {},
     "output_type": "display_data"
    },
    {
     "name": "stdout",
     "output_type": "stream",
     "text": [
      "====================================================================================================\n",
      "Number of null values in the table: messages_included        0.0\n",
      "mb_per_month_included    0.0\n",
      "minutes_included         0.0\n",
      "rub_monthly_fee          0.0\n",
      "rub_per_gb               0.0\n",
      "rub_per_message          0.0\n",
      "rub_per_minute           0.0\n",
      "tariff                   0.0\n",
      "gb_per_month_included    0.0\n",
      "dtype: float64\n",
      "====================================================================================================\n",
      "Number of duplicates in the table: 0\n",
      "====================================================================================================\n"
     ]
    },
    {
     "data": {
      "text/html": [
       "<div>\n",
       "<style scoped>\n",
       "    .dataframe tbody tr th:only-of-type {\n",
       "        vertical-align: middle;\n",
       "    }\n",
       "\n",
       "    .dataframe tbody tr th {\n",
       "        vertical-align: top;\n",
       "    }\n",
       "\n",
       "    .dataframe thead th {\n",
       "        text-align: right;\n",
       "    }\n",
       "</style>\n",
       "<table border=\"1\" class=\"dataframe\">\n",
       "  <thead>\n",
       "    <tr style=\"text-align: right;\">\n",
       "      <th></th>\n",
       "      <th>messages_included</th>\n",
       "      <th>mb_per_month_included</th>\n",
       "      <th>minutes_included</th>\n",
       "      <th>rub_monthly_fee</th>\n",
       "      <th>rub_per_gb</th>\n",
       "      <th>rub_per_message</th>\n",
       "      <th>rub_per_minute</th>\n",
       "      <th>tariff</th>\n",
       "      <th>gb_per_month_included</th>\n",
       "    </tr>\n",
       "  </thead>\n",
       "  <tbody>\n",
       "    <tr>\n",
       "      <th>0</th>\n",
       "      <td>50</td>\n",
       "      <td>15360</td>\n",
       "      <td>500</td>\n",
       "      <td>550</td>\n",
       "      <td>200</td>\n",
       "      <td>3</td>\n",
       "      <td>3</td>\n",
       "      <td>smart</td>\n",
       "      <td>15.0</td>\n",
       "    </tr>\n",
       "    <tr>\n",
       "      <th>1</th>\n",
       "      <td>1000</td>\n",
       "      <td>30720</td>\n",
       "      <td>3000</td>\n",
       "      <td>1950</td>\n",
       "      <td>150</td>\n",
       "      <td>1</td>\n",
       "      <td>1</td>\n",
       "      <td>ultra</td>\n",
       "      <td>30.0</td>\n",
       "    </tr>\n",
       "  </tbody>\n",
       "</table>\n",
       "</div>"
      ],
      "text/plain": [
       "   messages_included  mb_per_month_included  minutes_included  \\\n",
       "0                 50                  15360               500   \n",
       "1               1000                  30720              3000   \n",
       "\n",
       "   rub_monthly_fee  rub_per_gb  rub_per_message  rub_per_minute tariff  \\\n",
       "0              550         200                3               3  smart   \n",
       "1             1950         150                1               1  ultra   \n",
       "\n",
       "   gb_per_month_included  \n",
       "0                   15.0  \n",
       "1                   30.0  "
      ]
     },
     "metadata": {},
     "output_type": "display_data"
    },
    {
     "data": {
      "text/plain": [
       "None"
      ]
     },
     "metadata": {},
     "output_type": "display_data"
    },
    {
     "name": "stdout",
     "output_type": "stream",
     "text": [
      "<class 'pandas.core.frame.DataFrame'>\n",
      "RangeIndex: 500 entries, 0 to 499\n",
      "Data columns (total 8 columns):\n",
      " #   Column      Non-Null Count  Dtype         \n",
      "---  ------      --------------  -----         \n",
      " 0   user_id     500 non-null    int64         \n",
      " 1   age         500 non-null    int64         \n",
      " 2   churn_date  38 non-null     datetime64[ns]\n",
      " 3   city        500 non-null    object        \n",
      " 4   first_name  500 non-null    object        \n",
      " 5   last_name   500 non-null    object        \n",
      " 6   reg_date    500 non-null    datetime64[ns]\n",
      " 7   tariff      500 non-null    object        \n",
      "dtypes: datetime64[ns](2), int64(2), object(4)\n",
      "memory usage: 31.4+ KB\n"
     ]
    },
    {
     "data": {
      "text/plain": [
       "None"
      ]
     },
     "metadata": {},
     "output_type": "display_data"
    },
    {
     "name": "stdout",
     "output_type": "stream",
     "text": [
      "====================================================================================================\n"
     ]
    },
    {
     "data": {
      "text/html": [
       "<div>\n",
       "<style scoped>\n",
       "    .dataframe tbody tr th:only-of-type {\n",
       "        vertical-align: middle;\n",
       "    }\n",
       "\n",
       "    .dataframe tbody tr th {\n",
       "        vertical-align: top;\n",
       "    }\n",
       "\n",
       "    .dataframe thead th {\n",
       "        text-align: right;\n",
       "    }\n",
       "</style>\n",
       "<table border=\"1\" class=\"dataframe\">\n",
       "  <thead>\n",
       "    <tr style=\"text-align: right;\">\n",
       "      <th></th>\n",
       "      <th>user_id</th>\n",
       "      <th>age</th>\n",
       "    </tr>\n",
       "  </thead>\n",
       "  <tbody>\n",
       "    <tr>\n",
       "      <th>count</th>\n",
       "      <td>500.000000</td>\n",
       "      <td>500.00000</td>\n",
       "    </tr>\n",
       "    <tr>\n",
       "      <th>mean</th>\n",
       "      <td>1249.500000</td>\n",
       "      <td>46.58800</td>\n",
       "    </tr>\n",
       "    <tr>\n",
       "      <th>std</th>\n",
       "      <td>144.481833</td>\n",
       "      <td>16.66763</td>\n",
       "    </tr>\n",
       "    <tr>\n",
       "      <th>min</th>\n",
       "      <td>1000.000000</td>\n",
       "      <td>18.00000</td>\n",
       "    </tr>\n",
       "    <tr>\n",
       "      <th>25%</th>\n",
       "      <td>1124.750000</td>\n",
       "      <td>32.00000</td>\n",
       "    </tr>\n",
       "    <tr>\n",
       "      <th>50%</th>\n",
       "      <td>1249.500000</td>\n",
       "      <td>46.00000</td>\n",
       "    </tr>\n",
       "    <tr>\n",
       "      <th>75%</th>\n",
       "      <td>1374.250000</td>\n",
       "      <td>62.00000</td>\n",
       "    </tr>\n",
       "    <tr>\n",
       "      <th>max</th>\n",
       "      <td>1499.000000</td>\n",
       "      <td>75.00000</td>\n",
       "    </tr>\n",
       "  </tbody>\n",
       "</table>\n",
       "</div>"
      ],
      "text/plain": [
       "           user_id        age\n",
       "count   500.000000  500.00000\n",
       "mean   1249.500000   46.58800\n",
       "std     144.481833   16.66763\n",
       "min    1000.000000   18.00000\n",
       "25%    1124.750000   32.00000\n",
       "50%    1249.500000   46.00000\n",
       "75%    1374.250000   62.00000\n",
       "max    1499.000000   75.00000"
      ]
     },
     "metadata": {},
     "output_type": "display_data"
    },
    {
     "name": "stdout",
     "output_type": "stream",
     "text": [
      "====================================================================================================\n",
      "Number of null values in the table: user_id       0.000\n",
      "age           0.000\n",
      "churn_date    0.924\n",
      "city          0.000\n",
      "first_name    0.000\n",
      "last_name     0.000\n",
      "reg_date      0.000\n",
      "tariff        0.000\n",
      "dtype: float64\n",
      "====================================================================================================\n",
      "Number of duplicates in the table: 0\n",
      "====================================================================================================\n"
     ]
    },
    {
     "data": {
      "text/html": [
       "<div>\n",
       "<style scoped>\n",
       "    .dataframe tbody tr th:only-of-type {\n",
       "        vertical-align: middle;\n",
       "    }\n",
       "\n",
       "    .dataframe tbody tr th {\n",
       "        vertical-align: top;\n",
       "    }\n",
       "\n",
       "    .dataframe thead th {\n",
       "        text-align: right;\n",
       "    }\n",
       "</style>\n",
       "<table border=\"1\" class=\"dataframe\">\n",
       "  <thead>\n",
       "    <tr style=\"text-align: right;\">\n",
       "      <th></th>\n",
       "      <th>user_id</th>\n",
       "      <th>age</th>\n",
       "      <th>churn_date</th>\n",
       "      <th>city</th>\n",
       "      <th>first_name</th>\n",
       "      <th>last_name</th>\n",
       "      <th>reg_date</th>\n",
       "      <th>tariff</th>\n",
       "    </tr>\n",
       "  </thead>\n",
       "  <tbody>\n",
       "    <tr>\n",
       "      <th>0</th>\n",
       "      <td>1000</td>\n",
       "      <td>52</td>\n",
       "      <td>NaT</td>\n",
       "      <td>Краснодар</td>\n",
       "      <td>Рафаил</td>\n",
       "      <td>Верещагин</td>\n",
       "      <td>2018-05-25</td>\n",
       "      <td>ultra</td>\n",
       "    </tr>\n",
       "    <tr>\n",
       "      <th>1</th>\n",
       "      <td>1001</td>\n",
       "      <td>41</td>\n",
       "      <td>NaT</td>\n",
       "      <td>Москва</td>\n",
       "      <td>Иван</td>\n",
       "      <td>Ежов</td>\n",
       "      <td>2018-11-01</td>\n",
       "      <td>smart</td>\n",
       "    </tr>\n",
       "    <tr>\n",
       "      <th>2</th>\n",
       "      <td>1002</td>\n",
       "      <td>59</td>\n",
       "      <td>NaT</td>\n",
       "      <td>Стерлитамак</td>\n",
       "      <td>Евгений</td>\n",
       "      <td>Абрамович</td>\n",
       "      <td>2018-06-17</td>\n",
       "      <td>smart</td>\n",
       "    </tr>\n",
       "    <tr>\n",
       "      <th>3</th>\n",
       "      <td>1003</td>\n",
       "      <td>23</td>\n",
       "      <td>NaT</td>\n",
       "      <td>Москва</td>\n",
       "      <td>Белла</td>\n",
       "      <td>Белякова</td>\n",
       "      <td>2018-08-17</td>\n",
       "      <td>ultra</td>\n",
       "    </tr>\n",
       "    <tr>\n",
       "      <th>4</th>\n",
       "      <td>1004</td>\n",
       "      <td>68</td>\n",
       "      <td>NaT</td>\n",
       "      <td>Новокузнецк</td>\n",
       "      <td>Татьяна</td>\n",
       "      <td>Авдеенко</td>\n",
       "      <td>2018-05-14</td>\n",
       "      <td>ultra</td>\n",
       "    </tr>\n",
       "  </tbody>\n",
       "</table>\n",
       "</div>"
      ],
      "text/plain": [
       "   user_id  age churn_date         city first_name  last_name   reg_date  \\\n",
       "0     1000   52        NaT    Краснодар     Рафаил  Верещагин 2018-05-25   \n",
       "1     1001   41        NaT       Москва       Иван       Ежов 2018-11-01   \n",
       "2     1002   59        NaT  Стерлитамак    Евгений  Абрамович 2018-06-17   \n",
       "3     1003   23        NaT       Москва      Белла   Белякова 2018-08-17   \n",
       "4     1004   68        NaT  Новокузнецк    Татьяна   Авдеенко 2018-05-14   \n",
       "\n",
       "  tariff  \n",
       "0  ultra  \n",
       "1  smart  \n",
       "2  smart  \n",
       "3  ultra  \n",
       "4  ultra  "
      ]
     },
     "metadata": {},
     "output_type": "display_data"
    },
    {
     "data": {
      "text/plain": [
       "None"
      ]
     },
     "metadata": {},
     "output_type": "display_data"
    }
   ],
   "source": [
    "for table in (calls,internet, messages, tariffs, users):\n",
    "    def info(table):\n",
    "        display(table.info())\n",
    "        print(100*'=')\n",
    "        display(table.describe())\n",
    "        print(100*'=')\n",
    "        print(f'Number of null values in the table: {table.isna().mean()}')\n",
    "        print(100*'=')\n",
    "        print(f'Number of duplicates in the table: {table.duplicated().sum()}')\n",
    "        print(100*'=')\n",
    "        display(table.head())\n",
    "    display(info(table)) "
   ]
  },
  {
   "cell_type": "markdown",
   "metadata": {},
   "source": [
    "**Conclusions**"
   ]
  },
  {
   "cell_type": "markdown",
   "metadata": {},
   "source": [
    "Based on the data in the table, we can conclude that before analysis, it is necessary to perform preprocessing.\n",
    "\n",
    "\n",
    "The data types in the columns are `int`, `object`, `float`.\n",
    "\n",
    "According to the data documentation:\n",
    "\n",
    "**Users table (user information):**\n",
    "\n",
    "`user_id` - unique user ID\n",
    "\n",
    "`first_name` — username\n",
    "\n",
    "`last_name` — user last name\n",
    "\n",
    "`age` - user's age (years)\n",
    "\n",
    "`reg_date` — tariff activation date (day, month, year)\n",
    "\n",
    "`churn_date` — the date when the tariff was discontinued (if the value is omitted, then the tariff was still in effect at the time the data was uploaded)\n",
    "\n",
    "`city` — user's city of residence\n",
    "\n",
    "`tariff` — tariff plan name\n",
    "\n",
    "**Table calls (information about calls):**\n",
    "\n",
    "`id` — unique call number\n",
    "\n",
    "`call_date` — call date\n",
    "\n",
    "`duration` — call duration in minutes\n",
    "\n",
    "`user_id` - identifier of the user who made the call\n",
    "\n",
    "**Messages table (message information):**\n",
    "\n",
    "`id` — unique message number\n",
    "\n",
    "`message_date` — message date\n",
    "\n",
    "`user_id` - ID of the user who sent the message\n",
    "\n",
    "**Internet table (information about Internet sessions):**\n",
    "\n",
    "`id` — unique session number\n",
    "\n",
    "`mb_used` - the amount of Internet traffic spent per session (in megabytes)\n",
    "\n",
    "`session_date` — internet session date\n",
    "\n",
    "`user_id` — user ID\n",
    "\n",
    "**Tariffs table (tariff information):**\n",
    "\n",
    "`tariff_name` — tariff name\n",
    "\n",
    "`rub_monthly_fee` — monthly subscription fee in rubles\n",
    "\n",
    "`minutes_included` - the number of minutes of conversation per month included in the subscription fee\n",
    "\n",
    "`messages_included` - the number of messages per month included in the subscription fee\n",
    "\n",
    "`mb_per_month_included` - the amount of Internet traffic included in the subscription fee (in megabytes)\n",
    "\n",
    "`rub_per_minute` - the cost of a minute of conversation in excess of the tariff package (for example, if the tariff includes 100 minutes of conversation per month, then a fee will be charged from 101 minutes)\n",
    "\n",
    "`rub_per_message` - the cost of sending a message in excess of the tariff package\n",
    "\n",
    "`rub_per_gb` - the cost of an additional gigabyte of Internet traffic in excess of the tariff package (1 gigabyte = 1024 megabytes)\n",
    "\n",
    "- It is necessary to change the data type in the following columns `call_date`, `reg_date`, `churn_date`, `message_date`, `session_date`.\n",
    "- change data type to `int` where necessary\n",
    "- There are missing values in the data, we need to examine and replace them if necessary.\n",
    "- Convert data from mb and gb."
   ]
  },
  {
   "cell_type": "markdown",
   "metadata": {},
   "source": [
    "## Preprocessing of data"
   ]
  },
  {
   "cell_type": "markdown",
   "metadata": {},
   "source": [
    "### Changing the types of data"
   ]
  },
  {
   "cell_type": "code",
   "execution_count": 69,
   "metadata": {},
   "outputs": [],
   "source": [
    "calls['call_date'] = pd.to_datetime(calls['call_date'], format='%Y-%m-%d')\n",
    "users['churn_date'] = pd.to_datetime(users['churn_date'], format='%Y-%m-%d')\n",
    "messages['message_date'] = pd.to_datetime(messages['message_date'], format='%Y-%m-%d')\n",
    "internet['session_date'] = pd.to_datetime(internet['session_date'], format='%Y-%m-%d')\n",
    "users['reg_date'] = pd.to_datetime(users['reg_date'], format='%Y-%m-%d')"
   ]
  },
  {
   "cell_type": "code",
   "execution_count": 70,
   "metadata": {},
   "outputs": [],
   "source": [
    "internet['mb_used'] = internet['mb_used'].astype('int32')\n",
    "calls['duration'] = calls['duration'].astype('int32')"
   ]
  },
  {
   "cell_type": "code",
   "execution_count": 71,
   "metadata": {},
   "outputs": [
    {
     "name": "stdout",
     "output_type": "stream",
     "text": [
      "<class 'pandas.core.frame.DataFrame'>\n",
      "RangeIndex: 202607 entries, 0 to 202606\n",
      "Data columns (total 4 columns):\n",
      " #   Column     Non-Null Count   Dtype         \n",
      "---  ------     --------------   -----         \n",
      " 0   id         202607 non-null  object        \n",
      " 1   call_date  202607 non-null  datetime64[ns]\n",
      " 2   duration   202607 non-null  int32         \n",
      " 3   user_id    202607 non-null  int64         \n",
      "dtypes: datetime64[ns](1), int32(1), int64(1), object(1)\n",
      "memory usage: 5.4+ MB\n"
     ]
    },
    {
     "data": {
      "text/plain": [
       "None"
      ]
     },
     "metadata": {},
     "output_type": "display_data"
    },
    {
     "data": {
      "text/plain": [
       "None"
      ]
     },
     "metadata": {},
     "output_type": "display_data"
    },
    {
     "name": "stdout",
     "output_type": "stream",
     "text": [
      "<class 'pandas.core.frame.DataFrame'>\n",
      "RangeIndex: 149396 entries, 0 to 149395\n",
      "Data columns (total 5 columns):\n",
      " #   Column        Non-Null Count   Dtype         \n",
      "---  ------        --------------   -----         \n",
      " 0   Unnamed: 0    149396 non-null  int64         \n",
      " 1   id            149396 non-null  object        \n",
      " 2   mb_used       149396 non-null  int32         \n",
      " 3   session_date  149396 non-null  datetime64[ns]\n",
      " 4   user_id       149396 non-null  int64         \n",
      "dtypes: datetime64[ns](1), int32(1), int64(2), object(1)\n",
      "memory usage: 5.1+ MB\n"
     ]
    },
    {
     "data": {
      "text/plain": [
       "None"
      ]
     },
     "metadata": {},
     "output_type": "display_data"
    },
    {
     "data": {
      "text/plain": [
       "None"
      ]
     },
     "metadata": {},
     "output_type": "display_data"
    },
    {
     "name": "stdout",
     "output_type": "stream",
     "text": [
      "<class 'pandas.core.frame.DataFrame'>\n",
      "RangeIndex: 123036 entries, 0 to 123035\n",
      "Data columns (total 3 columns):\n",
      " #   Column        Non-Null Count   Dtype         \n",
      "---  ------        --------------   -----         \n",
      " 0   id            123036 non-null  object        \n",
      " 1   message_date  123036 non-null  datetime64[ns]\n",
      " 2   user_id       123036 non-null  int64         \n",
      "dtypes: datetime64[ns](1), int64(1), object(1)\n",
      "memory usage: 2.8+ MB\n"
     ]
    },
    {
     "data": {
      "text/plain": [
       "None"
      ]
     },
     "metadata": {},
     "output_type": "display_data"
    },
    {
     "data": {
      "text/plain": [
       "None"
      ]
     },
     "metadata": {},
     "output_type": "display_data"
    },
    {
     "name": "stdout",
     "output_type": "stream",
     "text": [
      "<class 'pandas.core.frame.DataFrame'>\n",
      "RangeIndex: 2 entries, 0 to 1\n",
      "Data columns (total 8 columns):\n",
      " #   Column                 Non-Null Count  Dtype \n",
      "---  ------                 --------------  ----- \n",
      " 0   messages_included      2 non-null      int64 \n",
      " 1   mb_per_month_included  2 non-null      int64 \n",
      " 2   minutes_included       2 non-null      int64 \n",
      " 3   rub_monthly_fee        2 non-null      int64 \n",
      " 4   rub_per_gb             2 non-null      int64 \n",
      " 5   rub_per_message        2 non-null      int64 \n",
      " 6   rub_per_minute         2 non-null      int64 \n",
      " 7   tariff_name            2 non-null      object\n",
      "dtypes: int64(7), object(1)\n",
      "memory usage: 256.0+ bytes\n"
     ]
    },
    {
     "data": {
      "text/plain": [
       "None"
      ]
     },
     "metadata": {},
     "output_type": "display_data"
    },
    {
     "data": {
      "text/plain": [
       "None"
      ]
     },
     "metadata": {},
     "output_type": "display_data"
    },
    {
     "name": "stdout",
     "output_type": "stream",
     "text": [
      "<class 'pandas.core.frame.DataFrame'>\n",
      "RangeIndex: 500 entries, 0 to 499\n",
      "Data columns (total 8 columns):\n",
      " #   Column      Non-Null Count  Dtype         \n",
      "---  ------      --------------  -----         \n",
      " 0   user_id     500 non-null    int64         \n",
      " 1   age         500 non-null    int64         \n",
      " 2   churn_date  38 non-null     datetime64[ns]\n",
      " 3   city        500 non-null    object        \n",
      " 4   first_name  500 non-null    object        \n",
      " 5   last_name   500 non-null    object        \n",
      " 6   reg_date    500 non-null    datetime64[ns]\n",
      " 7   tariff      500 non-null    object        \n",
      "dtypes: datetime64[ns](2), int64(2), object(4)\n",
      "memory usage: 31.4+ KB\n"
     ]
    },
    {
     "data": {
      "text/plain": [
       "None"
      ]
     },
     "metadata": {},
     "output_type": "display_data"
    },
    {
     "data": {
      "text/plain": [
       "None"
      ]
     },
     "metadata": {},
     "output_type": "display_data"
    }
   ],
   "source": [
    "for table in (calls,internet, messages, tariffs, users):\n",
    "    def info(table):\n",
    "        display(table.info())\n",
    "    display(info(table)) "
   ]
  },
  {
   "cell_type": "code",
   "execution_count": 72,
   "metadata": {},
   "outputs": [],
   "source": [
    "tariffs = tariffs.rename(columns={'tariff_name':'tariff'})"
   ]
  },
  {
   "cell_type": "code",
   "execution_count": 73,
   "metadata": {},
   "outputs": [],
   "source": [
    "calls['month'] = pd.to_datetime(calls['call_date']).dt.month\n",
    "messages['month'] = pd.to_datetime(messages['message_date']).dt.month\n",
    "internet['month'] = pd.to_datetime(internet['session_date']).dt.month"
   ]
  },
  {
   "cell_type": "code",
   "execution_count": 74,
   "metadata": {},
   "outputs": [],
   "source": [
    "internet['gb_used'] = internet['mb_used'] / 1024 \n",
    "tariffs['gb_per_month_included'] = tariffs['mb_per_month_included'] /1024"
   ]
  },
  {
   "cell_type": "markdown",
   "metadata": {},
   "source": [
    "The time data type in the tables was changed, and the real data type in the used mb was replaced with `int`."
   ]
  },
  {
   "cell_type": "markdown",
   "metadata": {},
   "source": [
    "## Calculations and adding results to the table"
   ]
  },
  {
   "cell_type": "markdown",
   "metadata": {},
   "source": [
    "### Studying the number of calls made and spent minutes of conversation by months\n"
   ]
  },
  {
   "cell_type": "code",
   "execution_count": 75,
   "metadata": {},
   "outputs": [],
   "source": [
    "calls['month'] = calls.call_date.dt.month\n",
    "messages['month'] = messages.message_date.dt.month\n",
    "internet['month'] = internet.session_date.dt.month"
   ]
  },
  {
   "cell_type": "code",
   "execution_count": 76,
   "metadata": {},
   "outputs": [],
   "source": [
    "calls['duration_int'] = np.ceil(calls['duration'])"
   ]
  },
  {
   "cell_type": "code",
   "execution_count": 77,
   "metadata": {},
   "outputs": [
    {
     "data": {
      "text/html": [
       "<div>\n",
       "<style scoped>\n",
       "    .dataframe tbody tr th:only-of-type {\n",
       "        vertical-align: middle;\n",
       "    }\n",
       "\n",
       "    .dataframe tbody tr th {\n",
       "        vertical-align: top;\n",
       "    }\n",
       "\n",
       "    .dataframe thead th {\n",
       "        text-align: right;\n",
       "    }\n",
       "</style>\n",
       "<table border=\"1\" class=\"dataframe\">\n",
       "  <thead>\n",
       "    <tr style=\"text-align: right;\">\n",
       "      <th></th>\n",
       "      <th>user_id</th>\n",
       "      <th>month</th>\n",
       "      <th>month_calls_duration</th>\n",
       "      <th>calls_total</th>\n",
       "    </tr>\n",
       "  </thead>\n",
       "  <tbody>\n",
       "    <tr>\n",
       "      <th>0</th>\n",
       "      <td>1000</td>\n",
       "      <td>5</td>\n",
       "      <td>142</td>\n",
       "      <td>22</td>\n",
       "    </tr>\n",
       "    <tr>\n",
       "      <th>1</th>\n",
       "      <td>1000</td>\n",
       "      <td>6</td>\n",
       "      <td>144</td>\n",
       "      <td>43</td>\n",
       "    </tr>\n",
       "    <tr>\n",
       "      <th>2</th>\n",
       "      <td>1000</td>\n",
       "      <td>7</td>\n",
       "      <td>299</td>\n",
       "      <td>47</td>\n",
       "    </tr>\n",
       "    <tr>\n",
       "      <th>3</th>\n",
       "      <td>1000</td>\n",
       "      <td>8</td>\n",
       "      <td>367</td>\n",
       "      <td>52</td>\n",
       "    </tr>\n",
       "    <tr>\n",
       "      <th>4</th>\n",
       "      <td>1000</td>\n",
       "      <td>9</td>\n",
       "      <td>421</td>\n",
       "      <td>58</td>\n",
       "    </tr>\n",
       "  </tbody>\n",
       "</table>\n",
       "</div>"
      ],
      "text/plain": [
       "   user_id  month  month_calls_duration  calls_total\n",
       "0     1000      5                   142           22\n",
       "1     1000      6                   144           43\n",
       "2     1000      7                   299           47\n",
       "3     1000      8                   367           52\n",
       "4     1000      9                   421           58"
      ]
     },
     "execution_count": 77,
     "metadata": {},
     "output_type": "execute_result"
    }
   ],
   "source": [
    "calls_table = calls.groupby(['user_id', 'month'])\\\n",
    "                  .agg({'duration':'sum', 'id':'count'})\\\n",
    "                  .reset_index()\\\n",
    "                  .rename(columns={'duration':'month_calls_duration','id':'calls_total'})\n",
    "calls_table.head()\n"
   ]
  },
  {
   "cell_type": "code",
   "execution_count": 78,
   "metadata": {},
   "outputs": [
    {
     "data": {
      "image/png": "[encoded data removed]",
      "text/plain": [
       "<Figure size 1008x720 with 1 Axes>"
      ]
     },
     "metadata": {
      "needs_background": "light"
     },
     "output_type": "display_data"
    }
   ],
   "source": [
    "plt.figure(figsize=(14, 10))\n",
    "\n",
    "sns.barplot(\n",
    "    y=\"month_calls_duration\", \n",
    "    x=\"month\",\n",
    "    data=calls_table, \n",
    "    estimator=sum, \n",
    "    ci=None, \n",
    "    color='#69b3a2').set(title='Duration of the calls by months');"
   ]
  },
  {
   "cell_type": "markdown",
   "metadata": {},
   "source": [
    "### Studying the number of sent messages by month"
   ]
  },
  {
   "cell_type": "code",
   "execution_count": 79,
   "metadata": {},
   "outputs": [
    {
     "data": {
      "text/html": [
       "<div>\n",
       "<style scoped>\n",
       "    .dataframe tbody tr th:only-of-type {\n",
       "        vertical-align: middle;\n",
       "    }\n",
       "\n",
       "    .dataframe tbody tr th {\n",
       "        vertical-align: top;\n",
       "    }\n",
       "\n",
       "    .dataframe thead th {\n",
       "        text-align: right;\n",
       "    }\n",
       "</style>\n",
       "<table border=\"1\" class=\"dataframe\">\n",
       "  <thead>\n",
       "    <tr style=\"text-align: right;\">\n",
       "      <th></th>\n",
       "      <th>user_id</th>\n",
       "      <th>month</th>\n",
       "      <th>messages_total</th>\n",
       "    </tr>\n",
       "  </thead>\n",
       "  <tbody>\n",
       "    <tr>\n",
       "      <th>0</th>\n",
       "      <td>1000</td>\n",
       "      <td>5</td>\n",
       "      <td>22</td>\n",
       "    </tr>\n",
       "    <tr>\n",
       "      <th>1</th>\n",
       "      <td>1000</td>\n",
       "      <td>6</td>\n",
       "      <td>60</td>\n",
       "    </tr>\n",
       "    <tr>\n",
       "      <th>2</th>\n",
       "      <td>1000</td>\n",
       "      <td>7</td>\n",
       "      <td>75</td>\n",
       "    </tr>\n",
       "    <tr>\n",
       "      <th>3</th>\n",
       "      <td>1000</td>\n",
       "      <td>8</td>\n",
       "      <td>81</td>\n",
       "    </tr>\n",
       "    <tr>\n",
       "      <th>4</th>\n",
       "      <td>1000</td>\n",
       "      <td>9</td>\n",
       "      <td>57</td>\n",
       "    </tr>\n",
       "  </tbody>\n",
       "</table>\n",
       "</div>"
      ],
      "text/plain": [
       "   user_id  month  messages_total\n",
       "0     1000      5              22\n",
       "1     1000      6              60\n",
       "2     1000      7              75\n",
       "3     1000      8              81\n",
       "4     1000      9              57"
      ]
     },
     "execution_count": 79,
     "metadata": {},
     "output_type": "execute_result"
    }
   ],
   "source": [
    "messages_table = messages.groupby(['user_id', 'month'])\\\n",
    "                        .agg({'id':'count'})\\\n",
    "                        .reset_index()\\\n",
    "                        .rename(columns={'id':'messages_total'})\n",
    "messages_table.head()"
   ]
  },
  {
   "cell_type": "code",
   "execution_count": 80,
   "metadata": {},
   "outputs": [
    {
     "data": {
      "image/png": "[encoded data removed]",
      "text/plain": [
       "<Figure size 1008x720 with 1 Axes>"
      ]
     },
     "metadata": {
      "needs_background": "light"
     },
     "output_type": "display_data"
    }
   ],
   "source": [
    "plt.figure(figsize=(14, 10))\n",
    "\n",
    "sns.barplot(\n",
    "    y=\"messages_total\", \n",
    "    x=\"month\", \n",
    "    data=messages_table, \n",
    "    estimator=sum, \n",
    "    ci=None, \n",
    "    color='#69b3a2').set(title='Number of the sent messages by months');"
   ]
  },
  {
   "cell_type": "markdown",
   "metadata": {},
   "source": [
    "### Studying the volume of Internet traffic used by months"
   ]
  },
  {
   "cell_type": "code",
   "execution_count": 81,
   "metadata": {},
   "outputs": [
    {
     "data": {
      "text/html": [
       "<div>\n",
       "<style scoped>\n",
       "    .dataframe tbody tr th:only-of-type {\n",
       "        vertical-align: middle;\n",
       "    }\n",
       "\n",
       "    .dataframe tbody tr th {\n",
       "        vertical-align: top;\n",
       "    }\n",
       "\n",
       "    .dataframe thead th {\n",
       "        text-align: right;\n",
       "    }\n",
       "</style>\n",
       "<table border=\"1\" class=\"dataframe\">\n",
       "  <thead>\n",
       "    <tr style=\"text-align: right;\">\n",
       "      <th></th>\n",
       "      <th>user_id</th>\n",
       "      <th>month</th>\n",
       "      <th>gb_total</th>\n",
       "    </tr>\n",
       "  </thead>\n",
       "  <tbody>\n",
       "    <tr>\n",
       "      <th>0</th>\n",
       "      <td>1000</td>\n",
       "      <td>5</td>\n",
       "      <td>2.199219</td>\n",
       "    </tr>\n",
       "    <tr>\n",
       "      <th>1</th>\n",
       "      <td>1000</td>\n",
       "      <td>6</td>\n",
       "      <td>22.668945</td>\n",
       "    </tr>\n",
       "    <tr>\n",
       "      <th>2</th>\n",
       "      <td>1000</td>\n",
       "      <td>7</td>\n",
       "      <td>13.660156</td>\n",
       "    </tr>\n",
       "    <tr>\n",
       "      <th>3</th>\n",
       "      <td>1000</td>\n",
       "      <td>8</td>\n",
       "      <td>13.713867</td>\n",
       "    </tr>\n",
       "    <tr>\n",
       "      <th>4</th>\n",
       "      <td>1000</td>\n",
       "      <td>9</td>\n",
       "      <td>14.214844</td>\n",
       "    </tr>\n",
       "  </tbody>\n",
       "</table>\n",
       "</div>"
      ],
      "text/plain": [
       "   user_id  month   gb_total\n",
       "0     1000      5   2.199219\n",
       "1     1000      6  22.668945\n",
       "2     1000      7  13.660156\n",
       "3     1000      8  13.713867\n",
       "4     1000      9  14.214844"
      ]
     },
     "execution_count": 81,
     "metadata": {},
     "output_type": "execute_result"
    }
   ],
   "source": [
    "internet_table = internet.groupby(['user_id', 'month'])\\\n",
    "                        .agg({'gb_used':'sum'})\\\n",
    "                        .reset_index()\\\n",
    "                        .rename(columns={'gb_used':'gb_total'})\n",
    "internet_table.head()"
   ]
  },
  {
   "cell_type": "code",
   "execution_count": 82,
   "metadata": {},
   "outputs": [],
   "source": [
    "internet_table['gb_total'] = np.ceil(internet_table['gb_total'])"
   ]
  },
  {
   "cell_type": "code",
   "execution_count": 83,
   "metadata": {},
   "outputs": [
    {
     "data": {
      "image/png": "[encoded data removed]",
      "text/plain": [
       "<Figure size 1008x720 with 1 Axes>"
      ]
     },
     "metadata": {
      "needs_background": "light"
     },
     "output_type": "display_data"
    }
   ],
   "source": [
    "plt.figure(figsize=(14, 10))\n",
    "\n",
    "sns.barplot(\n",
    "    y=\"gb_total\", \n",
    "    x=\"month\", \n",
    "    data=internet_table, \n",
    "    estimator=sum, \n",
    "    ci=None, \n",
    "    color='#69b3a2').set(title='The volume of Internet traffic used by months');"
   ]
  },
  {
   "cell_type": "code",
   "execution_count": 84,
   "metadata": {},
   "outputs": [
    {
     "data": {
      "text/html": [
       "<div>\n",
       "<style scoped>\n",
       "    .dataframe tbody tr th:only-of-type {\n",
       "        vertical-align: middle;\n",
       "    }\n",
       "\n",
       "    .dataframe tbody tr th {\n",
       "        vertical-align: top;\n",
       "    }\n",
       "\n",
       "    .dataframe thead th {\n",
       "        text-align: right;\n",
       "    }\n",
       "</style>\n",
       "<table border=\"1\" class=\"dataframe\">\n",
       "  <thead>\n",
       "    <tr style=\"text-align: right;\">\n",
       "      <th></th>\n",
       "      <th>user_id</th>\n",
       "      <th>month</th>\n",
       "      <th>month_calls_duration</th>\n",
       "      <th>calls_total</th>\n",
       "      <th>messages_total</th>\n",
       "    </tr>\n",
       "  </thead>\n",
       "  <tbody>\n",
       "    <tr>\n",
       "      <th>0</th>\n",
       "      <td>1000</td>\n",
       "      <td>5</td>\n",
       "      <td>142.0</td>\n",
       "      <td>22.0</td>\n",
       "      <td>22.0</td>\n",
       "    </tr>\n",
       "    <tr>\n",
       "      <th>1</th>\n",
       "      <td>1000</td>\n",
       "      <td>6</td>\n",
       "      <td>144.0</td>\n",
       "      <td>43.0</td>\n",
       "      <td>60.0</td>\n",
       "    </tr>\n",
       "    <tr>\n",
       "      <th>2</th>\n",
       "      <td>1000</td>\n",
       "      <td>7</td>\n",
       "      <td>299.0</td>\n",
       "      <td>47.0</td>\n",
       "      <td>75.0</td>\n",
       "    </tr>\n",
       "    <tr>\n",
       "      <th>3</th>\n",
       "      <td>1000</td>\n",
       "      <td>8</td>\n",
       "      <td>367.0</td>\n",
       "      <td>52.0</td>\n",
       "      <td>81.0</td>\n",
       "    </tr>\n",
       "    <tr>\n",
       "      <th>4</th>\n",
       "      <td>1000</td>\n",
       "      <td>9</td>\n",
       "      <td>421.0</td>\n",
       "      <td>58.0</td>\n",
       "      <td>57.0</td>\n",
       "    </tr>\n",
       "  </tbody>\n",
       "</table>\n",
       "</div>"
      ],
      "text/plain": [
       "   user_id  month  month_calls_duration  calls_total  messages_total\n",
       "0     1000      5                 142.0         22.0            22.0\n",
       "1     1000      6                 144.0         43.0            60.0\n",
       "2     1000      7                 299.0         47.0            75.0\n",
       "3     1000      8                 367.0         52.0            81.0\n",
       "4     1000      9                 421.0         58.0            57.0"
      ]
     },
     "execution_count": 84,
     "metadata": {},
     "output_type": "execute_result"
    }
   ],
   "source": [
    "df = calls_table.merge(messages_table, on=['user_id','month'], how='outer')\n",
    "df.head()"
   ]
  },
  {
   "cell_type": "markdown",
   "metadata": {},
   "source": [
    "### Merging tables"
   ]
  },
  {
   "cell_type": "code",
   "execution_count": 85,
   "metadata": {},
   "outputs": [
    {
     "data": {
      "text/html": [
       "<div>\n",
       "<style scoped>\n",
       "    .dataframe tbody tr th:only-of-type {\n",
       "        vertical-align: middle;\n",
       "    }\n",
       "\n",
       "    .dataframe tbody tr th {\n",
       "        vertical-align: top;\n",
       "    }\n",
       "\n",
       "    .dataframe thead th {\n",
       "        text-align: right;\n",
       "    }\n",
       "</style>\n",
       "<table border=\"1\" class=\"dataframe\">\n",
       "  <thead>\n",
       "    <tr style=\"text-align: right;\">\n",
       "      <th></th>\n",
       "      <th>user_id</th>\n",
       "      <th>month</th>\n",
       "      <th>month_calls_duration</th>\n",
       "      <th>calls_total</th>\n",
       "      <th>messages_total</th>\n",
       "      <th>gb_total</th>\n",
       "    </tr>\n",
       "  </thead>\n",
       "  <tbody>\n",
       "    <tr>\n",
       "      <th>0</th>\n",
       "      <td>1000</td>\n",
       "      <td>5</td>\n",
       "      <td>142.0</td>\n",
       "      <td>22.0</td>\n",
       "      <td>22.0</td>\n",
       "      <td>3.0</td>\n",
       "    </tr>\n",
       "    <tr>\n",
       "      <th>1</th>\n",
       "      <td>1000</td>\n",
       "      <td>6</td>\n",
       "      <td>144.0</td>\n",
       "      <td>43.0</td>\n",
       "      <td>60.0</td>\n",
       "      <td>23.0</td>\n",
       "    </tr>\n",
       "    <tr>\n",
       "      <th>2</th>\n",
       "      <td>1000</td>\n",
       "      <td>7</td>\n",
       "      <td>299.0</td>\n",
       "      <td>47.0</td>\n",
       "      <td>75.0</td>\n",
       "      <td>14.0</td>\n",
       "    </tr>\n",
       "    <tr>\n",
       "      <th>3</th>\n",
       "      <td>1000</td>\n",
       "      <td>8</td>\n",
       "      <td>367.0</td>\n",
       "      <td>52.0</td>\n",
       "      <td>81.0</td>\n",
       "      <td>14.0</td>\n",
       "    </tr>\n",
       "    <tr>\n",
       "      <th>4</th>\n",
       "      <td>1000</td>\n",
       "      <td>9</td>\n",
       "      <td>421.0</td>\n",
       "      <td>58.0</td>\n",
       "      <td>57.0</td>\n",
       "      <td>15.0</td>\n",
       "    </tr>\n",
       "  </tbody>\n",
       "</table>\n",
       "</div>"
      ],
      "text/plain": [
       "   user_id  month  month_calls_duration  calls_total  messages_total  gb_total\n",
       "0     1000      5                 142.0         22.0            22.0       3.0\n",
       "1     1000      6                 144.0         43.0            60.0      23.0\n",
       "2     1000      7                 299.0         47.0            75.0      14.0\n",
       "3     1000      8                 367.0         52.0            81.0      14.0\n",
       "4     1000      9                 421.0         58.0            57.0      15.0"
      ]
     },
     "execution_count": 85,
     "metadata": {},
     "output_type": "execute_result"
    }
   ],
   "source": [
    "df = df.merge(internet_table, on=['user_id','month'], how = 'outer')\n",
    "df.head()"
   ]
  },
  {
   "cell_type": "code",
   "execution_count": 86,
   "metadata": {},
   "outputs": [
    {
     "data": {
      "text/html": [
       "<div>\n",
       "<style scoped>\n",
       "    .dataframe tbody tr th:only-of-type {\n",
       "        vertical-align: middle;\n",
       "    }\n",
       "\n",
       "    .dataframe tbody tr th {\n",
       "        vertical-align: top;\n",
       "    }\n",
       "\n",
       "    .dataframe thead th {\n",
       "        text-align: right;\n",
       "    }\n",
       "</style>\n",
       "<table border=\"1\" class=\"dataframe\">\n",
       "  <thead>\n",
       "    <tr style=\"text-align: right;\">\n",
       "      <th></th>\n",
       "      <th>user_id</th>\n",
       "      <th>month</th>\n",
       "      <th>month_calls_duration</th>\n",
       "      <th>calls_total</th>\n",
       "      <th>messages_total</th>\n",
       "      <th>gb_total</th>\n",
       "      <th>age</th>\n",
       "      <th>churn_date</th>\n",
       "      <th>city</th>\n",
       "      <th>first_name</th>\n",
       "      <th>last_name</th>\n",
       "      <th>reg_date</th>\n",
       "      <th>tariff</th>\n",
       "    </tr>\n",
       "  </thead>\n",
       "  <tbody>\n",
       "    <tr>\n",
       "      <th>0</th>\n",
       "      <td>1000</td>\n",
       "      <td>5</td>\n",
       "      <td>142.0</td>\n",
       "      <td>22.0</td>\n",
       "      <td>22.0</td>\n",
       "      <td>3.0</td>\n",
       "      <td>52</td>\n",
       "      <td>NaT</td>\n",
       "      <td>Краснодар</td>\n",
       "      <td>Рафаил</td>\n",
       "      <td>Верещагин</td>\n",
       "      <td>2018-05-25</td>\n",
       "      <td>ultra</td>\n",
       "    </tr>\n",
       "    <tr>\n",
       "      <th>1</th>\n",
       "      <td>1000</td>\n",
       "      <td>6</td>\n",
       "      <td>144.0</td>\n",
       "      <td>43.0</td>\n",
       "      <td>60.0</td>\n",
       "      <td>23.0</td>\n",
       "      <td>52</td>\n",
       "      <td>NaT</td>\n",
       "      <td>Краснодар</td>\n",
       "      <td>Рафаил</td>\n",
       "      <td>Верещагин</td>\n",
       "      <td>2018-05-25</td>\n",
       "      <td>ultra</td>\n",
       "    </tr>\n",
       "    <tr>\n",
       "      <th>2</th>\n",
       "      <td>1000</td>\n",
       "      <td>7</td>\n",
       "      <td>299.0</td>\n",
       "      <td>47.0</td>\n",
       "      <td>75.0</td>\n",
       "      <td>14.0</td>\n",
       "      <td>52</td>\n",
       "      <td>NaT</td>\n",
       "      <td>Краснодар</td>\n",
       "      <td>Рафаил</td>\n",
       "      <td>Верещагин</td>\n",
       "      <td>2018-05-25</td>\n",
       "      <td>ultra</td>\n",
       "    </tr>\n",
       "    <tr>\n",
       "      <th>3</th>\n",
       "      <td>1000</td>\n",
       "      <td>8</td>\n",
       "      <td>367.0</td>\n",
       "      <td>52.0</td>\n",
       "      <td>81.0</td>\n",
       "      <td>14.0</td>\n",
       "      <td>52</td>\n",
       "      <td>NaT</td>\n",
       "      <td>Краснодар</td>\n",
       "      <td>Рафаил</td>\n",
       "      <td>Верещагин</td>\n",
       "      <td>2018-05-25</td>\n",
       "      <td>ultra</td>\n",
       "    </tr>\n",
       "    <tr>\n",
       "      <th>4</th>\n",
       "      <td>1000</td>\n",
       "      <td>9</td>\n",
       "      <td>421.0</td>\n",
       "      <td>58.0</td>\n",
       "      <td>57.0</td>\n",
       "      <td>15.0</td>\n",
       "      <td>52</td>\n",
       "      <td>NaT</td>\n",
       "      <td>Краснодар</td>\n",
       "      <td>Рафаил</td>\n",
       "      <td>Верещагин</td>\n",
       "      <td>2018-05-25</td>\n",
       "      <td>ultra</td>\n",
       "    </tr>\n",
       "  </tbody>\n",
       "</table>\n",
       "</div>"
      ],
      "text/plain": [
       "   user_id  month  month_calls_duration  calls_total  messages_total  \\\n",
       "0     1000      5                 142.0         22.0            22.0   \n",
       "1     1000      6                 144.0         43.0            60.0   \n",
       "2     1000      7                 299.0         47.0            75.0   \n",
       "3     1000      8                 367.0         52.0            81.0   \n",
       "4     1000      9                 421.0         58.0            57.0   \n",
       "\n",
       "   gb_total  age churn_date       city first_name  last_name   reg_date tariff  \n",
       "0       3.0   52        NaT  Краснодар     Рафаил  Верещагин 2018-05-25  ultra  \n",
       "1      23.0   52        NaT  Краснодар     Рафаил  Верещагин 2018-05-25  ultra  \n",
       "2      14.0   52        NaT  Краснодар     Рафаил  Верещагин 2018-05-25  ultra  \n",
       "3      14.0   52        NaT  Краснодар     Рафаил  Верещагин 2018-05-25  ultra  \n",
       "4      15.0   52        NaT  Краснодар     Рафаил  Верещагин 2018-05-25  ultra  "
      ]
     },
     "execution_count": 86,
     "metadata": {},
     "output_type": "execute_result"
    }
   ],
   "source": [
    "df = df.merge(users, on='user_id', how='left')\n",
    "df.head()"
   ]
  },
  {
   "cell_type": "code",
   "execution_count": 87,
   "metadata": {},
   "outputs": [
    {
     "data": {
      "text/html": [
       "<div>\n",
       "<style scoped>\n",
       "    .dataframe tbody tr th:only-of-type {\n",
       "        vertical-align: middle;\n",
       "    }\n",
       "\n",
       "    .dataframe tbody tr th {\n",
       "        vertical-align: top;\n",
       "    }\n",
       "\n",
       "    .dataframe thead th {\n",
       "        text-align: right;\n",
       "    }\n",
       "</style>\n",
       "<table border=\"1\" class=\"dataframe\">\n",
       "  <thead>\n",
       "    <tr style=\"text-align: right;\">\n",
       "      <th></th>\n",
       "      <th>user_id</th>\n",
       "      <th>month</th>\n",
       "      <th>month_calls_duration</th>\n",
       "      <th>calls_total</th>\n",
       "      <th>messages_total</th>\n",
       "      <th>gb_total</th>\n",
       "      <th>age</th>\n",
       "      <th>churn_date</th>\n",
       "      <th>city</th>\n",
       "      <th>first_name</th>\n",
       "      <th>...</th>\n",
       "      <th>reg_date</th>\n",
       "      <th>tariff</th>\n",
       "      <th>messages_included</th>\n",
       "      <th>mb_per_month_included</th>\n",
       "      <th>minutes_included</th>\n",
       "      <th>rub_monthly_fee</th>\n",
       "      <th>rub_per_gb</th>\n",
       "      <th>rub_per_message</th>\n",
       "      <th>rub_per_minute</th>\n",
       "      <th>gb_per_month_included</th>\n",
       "    </tr>\n",
       "  </thead>\n",
       "  <tbody>\n",
       "    <tr>\n",
       "      <th>0</th>\n",
       "      <td>1000</td>\n",
       "      <td>5</td>\n",
       "      <td>142.0</td>\n",
       "      <td>22.0</td>\n",
       "      <td>22.0</td>\n",
       "      <td>3.0</td>\n",
       "      <td>52</td>\n",
       "      <td>NaT</td>\n",
       "      <td>Краснодар</td>\n",
       "      <td>Рафаил</td>\n",
       "      <td>...</td>\n",
       "      <td>2018-05-25</td>\n",
       "      <td>ultra</td>\n",
       "      <td>1000</td>\n",
       "      <td>30720</td>\n",
       "      <td>3000</td>\n",
       "      <td>1950</td>\n",
       "      <td>150</td>\n",
       "      <td>1</td>\n",
       "      <td>1</td>\n",
       "      <td>30.0</td>\n",
       "    </tr>\n",
       "    <tr>\n",
       "      <th>1</th>\n",
       "      <td>1000</td>\n",
       "      <td>6</td>\n",
       "      <td>144.0</td>\n",
       "      <td>43.0</td>\n",
       "      <td>60.0</td>\n",
       "      <td>23.0</td>\n",
       "      <td>52</td>\n",
       "      <td>NaT</td>\n",
       "      <td>Краснодар</td>\n",
       "      <td>Рафаил</td>\n",
       "      <td>...</td>\n",
       "      <td>2018-05-25</td>\n",
       "      <td>ultra</td>\n",
       "      <td>1000</td>\n",
       "      <td>30720</td>\n",
       "      <td>3000</td>\n",
       "      <td>1950</td>\n",
       "      <td>150</td>\n",
       "      <td>1</td>\n",
       "      <td>1</td>\n",
       "      <td>30.0</td>\n",
       "    </tr>\n",
       "    <tr>\n",
       "      <th>2</th>\n",
       "      <td>1000</td>\n",
       "      <td>7</td>\n",
       "      <td>299.0</td>\n",
       "      <td>47.0</td>\n",
       "      <td>75.0</td>\n",
       "      <td>14.0</td>\n",
       "      <td>52</td>\n",
       "      <td>NaT</td>\n",
       "      <td>Краснодар</td>\n",
       "      <td>Рафаил</td>\n",
       "      <td>...</td>\n",
       "      <td>2018-05-25</td>\n",
       "      <td>ultra</td>\n",
       "      <td>1000</td>\n",
       "      <td>30720</td>\n",
       "      <td>3000</td>\n",
       "      <td>1950</td>\n",
       "      <td>150</td>\n",
       "      <td>1</td>\n",
       "      <td>1</td>\n",
       "      <td>30.0</td>\n",
       "    </tr>\n",
       "    <tr>\n",
       "      <th>3</th>\n",
       "      <td>1000</td>\n",
       "      <td>8</td>\n",
       "      <td>367.0</td>\n",
       "      <td>52.0</td>\n",
       "      <td>81.0</td>\n",
       "      <td>14.0</td>\n",
       "      <td>52</td>\n",
       "      <td>NaT</td>\n",
       "      <td>Краснодар</td>\n",
       "      <td>Рафаил</td>\n",
       "      <td>...</td>\n",
       "      <td>2018-05-25</td>\n",
       "      <td>ultra</td>\n",
       "      <td>1000</td>\n",
       "      <td>30720</td>\n",
       "      <td>3000</td>\n",
       "      <td>1950</td>\n",
       "      <td>150</td>\n",
       "      <td>1</td>\n",
       "      <td>1</td>\n",
       "      <td>30.0</td>\n",
       "    </tr>\n",
       "    <tr>\n",
       "      <th>4</th>\n",
       "      <td>1000</td>\n",
       "      <td>9</td>\n",
       "      <td>421.0</td>\n",
       "      <td>58.0</td>\n",
       "      <td>57.0</td>\n",
       "      <td>15.0</td>\n",
       "      <td>52</td>\n",
       "      <td>NaT</td>\n",
       "      <td>Краснодар</td>\n",
       "      <td>Рафаил</td>\n",
       "      <td>...</td>\n",
       "      <td>2018-05-25</td>\n",
       "      <td>ultra</td>\n",
       "      <td>1000</td>\n",
       "      <td>30720</td>\n",
       "      <td>3000</td>\n",
       "      <td>1950</td>\n",
       "      <td>150</td>\n",
       "      <td>1</td>\n",
       "      <td>1</td>\n",
       "      <td>30.0</td>\n",
       "    </tr>\n",
       "  </tbody>\n",
       "</table>\n",
       "<p>5 rows × 21 columns</p>\n",
       "</div>"
      ],
      "text/plain": [
       "   user_id  month  month_calls_duration  calls_total  messages_total  \\\n",
       "0     1000      5                 142.0         22.0            22.0   \n",
       "1     1000      6                 144.0         43.0            60.0   \n",
       "2     1000      7                 299.0         47.0            75.0   \n",
       "3     1000      8                 367.0         52.0            81.0   \n",
       "4     1000      9                 421.0         58.0            57.0   \n",
       "\n",
       "   gb_total  age churn_date       city first_name  ...   reg_date tariff  \\\n",
       "0       3.0   52        NaT  Краснодар     Рафаил  ... 2018-05-25  ultra   \n",
       "1      23.0   52        NaT  Краснодар     Рафаил  ... 2018-05-25  ultra   \n",
       "2      14.0   52        NaT  Краснодар     Рафаил  ... 2018-05-25  ultra   \n",
       "3      14.0   52        NaT  Краснодар     Рафаил  ... 2018-05-25  ultra   \n",
       "4      15.0   52        NaT  Краснодар     Рафаил  ... 2018-05-25  ultra   \n",
       "\n",
       "  messages_included  mb_per_month_included  minutes_included  rub_monthly_fee  \\\n",
       "0              1000                  30720              3000             1950   \n",
       "1              1000                  30720              3000             1950   \n",
       "2              1000                  30720              3000             1950   \n",
       "3              1000                  30720              3000             1950   \n",
       "4              1000                  30720              3000             1950   \n",
       "\n",
       "   rub_per_gb  rub_per_message  rub_per_minute  gb_per_month_included  \n",
       "0         150                1               1                   30.0  \n",
       "1         150                1               1                   30.0  \n",
       "2         150                1               1                   30.0  \n",
       "3         150                1               1                   30.0  \n",
       "4         150                1               1                   30.0  \n",
       "\n",
       "[5 rows x 21 columns]"
      ]
     },
     "execution_count": 87,
     "metadata": {},
     "output_type": "execute_result"
    }
   ],
   "source": [
    "df = df.merge(tariffs, on='tariff', how='left')\n",
    "df.head()"
   ]
  },
  {
   "cell_type": "markdown",
   "metadata": {},
   "source": [
    "### Calculation of monthly revenue from each user"
   ]
  },
  {
   "cell_type": "code",
   "execution_count": 88,
   "metadata": {},
   "outputs": [
    {
     "data": {
      "text/plain": [
       "user_id                     0\n",
       "month                       0\n",
       "month_calls_duration       40\n",
       "calls_total                40\n",
       "messages_total            497\n",
       "gb_total                   11\n",
       "age                         0\n",
       "churn_date               3027\n",
       "city                        0\n",
       "first_name                  0\n",
       "last_name                   0\n",
       "reg_date                    0\n",
       "tariff                      0\n",
       "messages_included           0\n",
       "mb_per_month_included       0\n",
       "minutes_included            0\n",
       "rub_monthly_fee             0\n",
       "rub_per_gb                  0\n",
       "rub_per_message             0\n",
       "rub_per_minute              0\n",
       "gb_per_month_included       0\n",
       "dtype: int64"
      ]
     },
     "execution_count": 88,
     "metadata": {},
     "output_type": "execute_result"
    }
   ],
   "source": [
    "df.isna().sum()"
   ]
  },
  {
   "cell_type": "code",
   "execution_count": 89,
   "metadata": {},
   "outputs": [],
   "source": [
    "df['messages_total'] = df['messages_total'].fillna(0)\n",
    "df['gb_total'] = df['gb_total'].fillna(0)\n",
    "df['month_calls_duration'] = df['month_calls_duration'].fillna(0)\n",
    "df['calls_total'] = df['calls_total'].fillna(0)"
   ]
  },
  {
   "cell_type": "code",
   "execution_count": 90,
   "metadata": {},
   "outputs": [
    {
     "data": {
      "text/plain": [
       "user_id                     0\n",
       "month                       0\n",
       "month_calls_duration        0\n",
       "calls_total                 0\n",
       "messages_total              0\n",
       "gb_total                    0\n",
       "age                         0\n",
       "churn_date               3027\n",
       "city                        0\n",
       "first_name                  0\n",
       "last_name                   0\n",
       "reg_date                    0\n",
       "tariff                      0\n",
       "messages_included           0\n",
       "mb_per_month_included       0\n",
       "minutes_included            0\n",
       "rub_monthly_fee             0\n",
       "rub_per_gb                  0\n",
       "rub_per_message             0\n",
       "rub_per_minute              0\n",
       "gb_per_month_included       0\n",
       "dtype: int64"
      ]
     },
     "execution_count": 90,
     "metadata": {},
     "output_type": "execute_result"
    }
   ],
   "source": [
    "df.isna().sum()"
   ]
  },
  {
   "cell_type": "code",
   "execution_count": 91,
   "metadata": {},
   "outputs": [
    {
     "data": {
      "text/html": [
       "<div>\n",
       "<style scoped>\n",
       "    .dataframe tbody tr th:only-of-type {\n",
       "        vertical-align: middle;\n",
       "    }\n",
       "\n",
       "    .dataframe tbody tr th {\n",
       "        vertical-align: top;\n",
       "    }\n",
       "\n",
       "    .dataframe thead th {\n",
       "        text-align: right;\n",
       "    }\n",
       "</style>\n",
       "<table border=\"1\" class=\"dataframe\">\n",
       "  <thead>\n",
       "    <tr style=\"text-align: right;\">\n",
       "      <th></th>\n",
       "      <th>user_id</th>\n",
       "      <th>month</th>\n",
       "      <th>month_calls_duration</th>\n",
       "      <th>calls_total</th>\n",
       "      <th>messages_total</th>\n",
       "      <th>gb_total</th>\n",
       "      <th>age</th>\n",
       "      <th>churn_date</th>\n",
       "      <th>city</th>\n",
       "      <th>first_name</th>\n",
       "      <th>...</th>\n",
       "      <th>reg_date</th>\n",
       "      <th>tariff</th>\n",
       "      <th>messages_included</th>\n",
       "      <th>mb_per_month_included</th>\n",
       "      <th>minutes_included</th>\n",
       "      <th>rub_monthly_fee</th>\n",
       "      <th>rub_per_gb</th>\n",
       "      <th>rub_per_message</th>\n",
       "      <th>rub_per_minute</th>\n",
       "      <th>gb_per_month_included</th>\n",
       "    </tr>\n",
       "  </thead>\n",
       "  <tbody>\n",
       "    <tr>\n",
       "      <th>0</th>\n",
       "      <td>1000</td>\n",
       "      <td>5</td>\n",
       "      <td>142.0</td>\n",
       "      <td>22.0</td>\n",
       "      <td>22.0</td>\n",
       "      <td>3.0</td>\n",
       "      <td>52</td>\n",
       "      <td>NaT</td>\n",
       "      <td>Краснодар</td>\n",
       "      <td>Рафаил</td>\n",
       "      <td>...</td>\n",
       "      <td>2018-05-25</td>\n",
       "      <td>ultra</td>\n",
       "      <td>1000</td>\n",
       "      <td>30720</td>\n",
       "      <td>3000</td>\n",
       "      <td>1950</td>\n",
       "      <td>150</td>\n",
       "      <td>1</td>\n",
       "      <td>1</td>\n",
       "      <td>30.0</td>\n",
       "    </tr>\n",
       "    <tr>\n",
       "      <th>1</th>\n",
       "      <td>1000</td>\n",
       "      <td>6</td>\n",
       "      <td>144.0</td>\n",
       "      <td>43.0</td>\n",
       "      <td>60.0</td>\n",
       "      <td>23.0</td>\n",
       "      <td>52</td>\n",
       "      <td>NaT</td>\n",
       "      <td>Краснодар</td>\n",
       "      <td>Рафаил</td>\n",
       "      <td>...</td>\n",
       "      <td>2018-05-25</td>\n",
       "      <td>ultra</td>\n",
       "      <td>1000</td>\n",
       "      <td>30720</td>\n",
       "      <td>3000</td>\n",
       "      <td>1950</td>\n",
       "      <td>150</td>\n",
       "      <td>1</td>\n",
       "      <td>1</td>\n",
       "      <td>30.0</td>\n",
       "    </tr>\n",
       "    <tr>\n",
       "      <th>2</th>\n",
       "      <td>1000</td>\n",
       "      <td>7</td>\n",
       "      <td>299.0</td>\n",
       "      <td>47.0</td>\n",
       "      <td>75.0</td>\n",
       "      <td>14.0</td>\n",
       "      <td>52</td>\n",
       "      <td>NaT</td>\n",
       "      <td>Краснодар</td>\n",
       "      <td>Рафаил</td>\n",
       "      <td>...</td>\n",
       "      <td>2018-05-25</td>\n",
       "      <td>ultra</td>\n",
       "      <td>1000</td>\n",
       "      <td>30720</td>\n",
       "      <td>3000</td>\n",
       "      <td>1950</td>\n",
       "      <td>150</td>\n",
       "      <td>1</td>\n",
       "      <td>1</td>\n",
       "      <td>30.0</td>\n",
       "    </tr>\n",
       "    <tr>\n",
       "      <th>3</th>\n",
       "      <td>1000</td>\n",
       "      <td>8</td>\n",
       "      <td>367.0</td>\n",
       "      <td>52.0</td>\n",
       "      <td>81.0</td>\n",
       "      <td>14.0</td>\n",
       "      <td>52</td>\n",
       "      <td>NaT</td>\n",
       "      <td>Краснодар</td>\n",
       "      <td>Рафаил</td>\n",
       "      <td>...</td>\n",
       "      <td>2018-05-25</td>\n",
       "      <td>ultra</td>\n",
       "      <td>1000</td>\n",
       "      <td>30720</td>\n",
       "      <td>3000</td>\n",
       "      <td>1950</td>\n",
       "      <td>150</td>\n",
       "      <td>1</td>\n",
       "      <td>1</td>\n",
       "      <td>30.0</td>\n",
       "    </tr>\n",
       "    <tr>\n",
       "      <th>4</th>\n",
       "      <td>1000</td>\n",
       "      <td>9</td>\n",
       "      <td>421.0</td>\n",
       "      <td>58.0</td>\n",
       "      <td>57.0</td>\n",
       "      <td>15.0</td>\n",
       "      <td>52</td>\n",
       "      <td>NaT</td>\n",
       "      <td>Краснодар</td>\n",
       "      <td>Рафаил</td>\n",
       "      <td>...</td>\n",
       "      <td>2018-05-25</td>\n",
       "      <td>ultra</td>\n",
       "      <td>1000</td>\n",
       "      <td>30720</td>\n",
       "      <td>3000</td>\n",
       "      <td>1950</td>\n",
       "      <td>150</td>\n",
       "      <td>1</td>\n",
       "      <td>1</td>\n",
       "      <td>30.0</td>\n",
       "    </tr>\n",
       "  </tbody>\n",
       "</table>\n",
       "<p>5 rows × 21 columns</p>\n",
       "</div>"
      ],
      "text/plain": [
       "   user_id  month  month_calls_duration  calls_total  messages_total  \\\n",
       "0     1000      5                 142.0         22.0            22.0   \n",
       "1     1000      6                 144.0         43.0            60.0   \n",
       "2     1000      7                 299.0         47.0            75.0   \n",
       "3     1000      8                 367.0         52.0            81.0   \n",
       "4     1000      9                 421.0         58.0            57.0   \n",
       "\n",
       "   gb_total  age churn_date       city first_name  ...   reg_date tariff  \\\n",
       "0       3.0   52        NaT  Краснодар     Рафаил  ... 2018-05-25  ultra   \n",
       "1      23.0   52        NaT  Краснодар     Рафаил  ... 2018-05-25  ultra   \n",
       "2      14.0   52        NaT  Краснодар     Рафаил  ... 2018-05-25  ultra   \n",
       "3      14.0   52        NaT  Краснодар     Рафаил  ... 2018-05-25  ultra   \n",
       "4      15.0   52        NaT  Краснодар     Рафаил  ... 2018-05-25  ultra   \n",
       "\n",
       "  messages_included  mb_per_month_included  minutes_included  rub_monthly_fee  \\\n",
       "0              1000                  30720              3000             1950   \n",
       "1              1000                  30720              3000             1950   \n",
       "2              1000                  30720              3000             1950   \n",
       "3              1000                  30720              3000             1950   \n",
       "4              1000                  30720              3000             1950   \n",
       "\n",
       "   rub_per_gb  rub_per_message  rub_per_minute  gb_per_month_included  \n",
       "0         150                1               1                   30.0  \n",
       "1         150                1               1                   30.0  \n",
       "2         150                1               1                   30.0  \n",
       "3         150                1               1                   30.0  \n",
       "4         150                1               1                   30.0  \n",
       "\n",
       "[5 rows x 21 columns]"
      ]
     },
     "execution_count": 91,
     "metadata": {},
     "output_type": "execute_result"
    }
   ],
   "source": [
    "df.head()"
   ]
  },
  {
   "cell_type": "code",
   "execution_count": 92,
   "metadata": {},
   "outputs": [],
   "source": [
    "df['extra_minutes']  = df['month_calls_duration'] - df['minutes_included']\n",
    "df['extra_messages'] = df['messages_total'] - df['messages_included']\n",
    "df['extra_gb']  = df['gb_total'] - df['gb_per_month_included']"
   ]
  },
  {
   "cell_type": "code",
   "execution_count": 93,
   "metadata": {},
   "outputs": [
    {
     "data": {
      "text/html": [
       "<div>\n",
       "<style scoped>\n",
       "    .dataframe tbody tr th:only-of-type {\n",
       "        vertical-align: middle;\n",
       "    }\n",
       "\n",
       "    .dataframe tbody tr th {\n",
       "        vertical-align: top;\n",
       "    }\n",
       "\n",
       "    .dataframe thead th {\n",
       "        text-align: right;\n",
       "    }\n",
       "</style>\n",
       "<table border=\"1\" class=\"dataframe\">\n",
       "  <thead>\n",
       "    <tr style=\"text-align: right;\">\n",
       "      <th></th>\n",
       "      <th>user_id</th>\n",
       "      <th>month</th>\n",
       "      <th>month_calls_duration</th>\n",
       "      <th>calls_total</th>\n",
       "      <th>messages_total</th>\n",
       "      <th>gb_total</th>\n",
       "      <th>age</th>\n",
       "      <th>churn_date</th>\n",
       "      <th>city</th>\n",
       "      <th>first_name</th>\n",
       "      <th>...</th>\n",
       "      <th>mb_per_month_included</th>\n",
       "      <th>minutes_included</th>\n",
       "      <th>rub_monthly_fee</th>\n",
       "      <th>rub_per_gb</th>\n",
       "      <th>rub_per_message</th>\n",
       "      <th>rub_per_minute</th>\n",
       "      <th>gb_per_month_included</th>\n",
       "      <th>extra_minutes</th>\n",
       "      <th>extra_messages</th>\n",
       "      <th>extra_gb</th>\n",
       "    </tr>\n",
       "  </thead>\n",
       "  <tbody>\n",
       "    <tr>\n",
       "      <th>0</th>\n",
       "      <td>1000</td>\n",
       "      <td>5</td>\n",
       "      <td>142.0</td>\n",
       "      <td>22.0</td>\n",
       "      <td>22.0</td>\n",
       "      <td>3.0</td>\n",
       "      <td>52</td>\n",
       "      <td>NaT</td>\n",
       "      <td>Краснодар</td>\n",
       "      <td>Рафаил</td>\n",
       "      <td>...</td>\n",
       "      <td>30720</td>\n",
       "      <td>3000</td>\n",
       "      <td>1950</td>\n",
       "      <td>150</td>\n",
       "      <td>1</td>\n",
       "      <td>1</td>\n",
       "      <td>30.0</td>\n",
       "      <td>-2858.0</td>\n",
       "      <td>-978.0</td>\n",
       "      <td>-27.0</td>\n",
       "    </tr>\n",
       "    <tr>\n",
       "      <th>1</th>\n",
       "      <td>1000</td>\n",
       "      <td>6</td>\n",
       "      <td>144.0</td>\n",
       "      <td>43.0</td>\n",
       "      <td>60.0</td>\n",
       "      <td>23.0</td>\n",
       "      <td>52</td>\n",
       "      <td>NaT</td>\n",
       "      <td>Краснодар</td>\n",
       "      <td>Рафаил</td>\n",
       "      <td>...</td>\n",
       "      <td>30720</td>\n",
       "      <td>3000</td>\n",
       "      <td>1950</td>\n",
       "      <td>150</td>\n",
       "      <td>1</td>\n",
       "      <td>1</td>\n",
       "      <td>30.0</td>\n",
       "      <td>-2856.0</td>\n",
       "      <td>-940.0</td>\n",
       "      <td>-7.0</td>\n",
       "    </tr>\n",
       "    <tr>\n",
       "      <th>2</th>\n",
       "      <td>1000</td>\n",
       "      <td>7</td>\n",
       "      <td>299.0</td>\n",
       "      <td>47.0</td>\n",
       "      <td>75.0</td>\n",
       "      <td>14.0</td>\n",
       "      <td>52</td>\n",
       "      <td>NaT</td>\n",
       "      <td>Краснодар</td>\n",
       "      <td>Рафаил</td>\n",
       "      <td>...</td>\n",
       "      <td>30720</td>\n",
       "      <td>3000</td>\n",
       "      <td>1950</td>\n",
       "      <td>150</td>\n",
       "      <td>1</td>\n",
       "      <td>1</td>\n",
       "      <td>30.0</td>\n",
       "      <td>-2701.0</td>\n",
       "      <td>-925.0</td>\n",
       "      <td>-16.0</td>\n",
       "    </tr>\n",
       "    <tr>\n",
       "      <th>3</th>\n",
       "      <td>1000</td>\n",
       "      <td>8</td>\n",
       "      <td>367.0</td>\n",
       "      <td>52.0</td>\n",
       "      <td>81.0</td>\n",
       "      <td>14.0</td>\n",
       "      <td>52</td>\n",
       "      <td>NaT</td>\n",
       "      <td>Краснодар</td>\n",
       "      <td>Рафаил</td>\n",
       "      <td>...</td>\n",
       "      <td>30720</td>\n",
       "      <td>3000</td>\n",
       "      <td>1950</td>\n",
       "      <td>150</td>\n",
       "      <td>1</td>\n",
       "      <td>1</td>\n",
       "      <td>30.0</td>\n",
       "      <td>-2633.0</td>\n",
       "      <td>-919.0</td>\n",
       "      <td>-16.0</td>\n",
       "    </tr>\n",
       "    <tr>\n",
       "      <th>4</th>\n",
       "      <td>1000</td>\n",
       "      <td>9</td>\n",
       "      <td>421.0</td>\n",
       "      <td>58.0</td>\n",
       "      <td>57.0</td>\n",
       "      <td>15.0</td>\n",
       "      <td>52</td>\n",
       "      <td>NaT</td>\n",
       "      <td>Краснодар</td>\n",
       "      <td>Рафаил</td>\n",
       "      <td>...</td>\n",
       "      <td>30720</td>\n",
       "      <td>3000</td>\n",
       "      <td>1950</td>\n",
       "      <td>150</td>\n",
       "      <td>1</td>\n",
       "      <td>1</td>\n",
       "      <td>30.0</td>\n",
       "      <td>-2579.0</td>\n",
       "      <td>-943.0</td>\n",
       "      <td>-15.0</td>\n",
       "    </tr>\n",
       "  </tbody>\n",
       "</table>\n",
       "<p>5 rows × 24 columns</p>\n",
       "</div>"
      ],
      "text/plain": [
       "   user_id  month  month_calls_duration  calls_total  messages_total  \\\n",
       "0     1000      5                 142.0         22.0            22.0   \n",
       "1     1000      6                 144.0         43.0            60.0   \n",
       "2     1000      7                 299.0         47.0            75.0   \n",
       "3     1000      8                 367.0         52.0            81.0   \n",
       "4     1000      9                 421.0         58.0            57.0   \n",
       "\n",
       "   gb_total  age churn_date       city first_name  ... mb_per_month_included  \\\n",
       "0       3.0   52        NaT  Краснодар     Рафаил  ...                 30720   \n",
       "1      23.0   52        NaT  Краснодар     Рафаил  ...                 30720   \n",
       "2      14.0   52        NaT  Краснодар     Рафаил  ...                 30720   \n",
       "3      14.0   52        NaT  Краснодар     Рафаил  ...                 30720   \n",
       "4      15.0   52        NaT  Краснодар     Рафаил  ...                 30720   \n",
       "\n",
       "  minutes_included rub_monthly_fee  rub_per_gb  rub_per_message  \\\n",
       "0             3000            1950         150                1   \n",
       "1             3000            1950         150                1   \n",
       "2             3000            1950         150                1   \n",
       "3             3000            1950         150                1   \n",
       "4             3000            1950         150                1   \n",
       "\n",
       "   rub_per_minute  gb_per_month_included  extra_minutes  extra_messages  \\\n",
       "0               1                   30.0        -2858.0          -978.0   \n",
       "1               1                   30.0        -2856.0          -940.0   \n",
       "2               1                   30.0        -2701.0          -925.0   \n",
       "3               1                   30.0        -2633.0          -919.0   \n",
       "4               1                   30.0        -2579.0          -943.0   \n",
       "\n",
       "   extra_gb  \n",
       "0     -27.0  \n",
       "1      -7.0  \n",
       "2     -16.0  \n",
       "3     -16.0  \n",
       "4     -15.0  \n",
       "\n",
       "[5 rows x 24 columns]"
      ]
     },
     "execution_count": 93,
     "metadata": {},
     "output_type": "execute_result"
    }
   ],
   "source": [
    "df.head()"
   ]
  },
  {
   "cell_type": "code",
   "execution_count": 94,
   "metadata": {},
   "outputs": [],
   "source": [
    "def revenue(row):\n",
    "    minutes_price = 0\n",
    "    messages_price = 0\n",
    "    gb_used_price = 0\n",
    "    monthly_fee = row ['rub_monthly_fee']\n",
    "    if row['extra_minutes'] > 0:\n",
    "        minutes_price = row['extra_minutes'] * row['rub_per_minute']\n",
    "    if row['extra_messages'] > 0:\n",
    "        messages_price = row['extra_messages'] * row['rub_per_message']\n",
    "    if row['extra_gb'] > 0:\n",
    "        gb_used_price = (row['extra_gb'] * row['rub_per_gb'])\n",
    "                         \n",
    "    return minutes_price + messages_price + gb_used_price + monthly_fee"
   ]
  },
  {
   "cell_type": "code",
   "execution_count": 95,
   "metadata": {},
   "outputs": [],
   "source": [
    "df['payment_total'] = df.apply(revenue, axis=1)"
   ]
  },
  {
   "cell_type": "code",
   "execution_count": 96,
   "metadata": {},
   "outputs": [
    {
     "name": "stdout",
     "output_type": "stream",
     "text": [
      "<class 'pandas.core.frame.DataFrame'>\n",
      "Int64Index: 3214 entries, 0 to 3213\n",
      "Data columns (total 25 columns):\n",
      " #   Column                 Non-Null Count  Dtype         \n",
      "---  ------                 --------------  -----         \n",
      " 0   user_id                3214 non-null   int64         \n",
      " 1   month                  3214 non-null   int64         \n",
      " 2   month_calls_duration   3214 non-null   float64       \n",
      " 3   calls_total            3214 non-null   float64       \n",
      " 4   messages_total         3214 non-null   float64       \n",
      " 5   gb_total               3214 non-null   float64       \n",
      " 6   age                    3214 non-null   int64         \n",
      " 7   churn_date             187 non-null    datetime64[ns]\n",
      " 8   city                   3214 non-null   object        \n",
      " 9   first_name             3214 non-null   object        \n",
      " 10  last_name              3214 non-null   object        \n",
      " 11  reg_date               3214 non-null   datetime64[ns]\n",
      " 12  tariff                 3214 non-null   object        \n",
      " 13  messages_included      3214 non-null   int64         \n",
      " 14  mb_per_month_included  3214 non-null   int64         \n",
      " 15  minutes_included       3214 non-null   int64         \n",
      " 16  rub_monthly_fee        3214 non-null   int64         \n",
      " 17  rub_per_gb             3214 non-null   int64         \n",
      " 18  rub_per_message        3214 non-null   int64         \n",
      " 19  rub_per_minute         3214 non-null   int64         \n",
      " 20  gb_per_month_included  3214 non-null   float64       \n",
      " 21  extra_minutes          3214 non-null   float64       \n",
      " 22  extra_messages         3214 non-null   float64       \n",
      " 23  extra_gb               3214 non-null   float64       \n",
      " 24  payment_total          3214 non-null   float64       \n",
      "dtypes: datetime64[ns](2), float64(9), int64(10), object(4)\n",
      "memory usage: 652.8+ KB\n"
     ]
    }
   ],
   "source": [
    "df.info()"
   ]
  },
  {
   "cell_type": "code",
   "execution_count": 97,
   "metadata": {},
   "outputs": [
    {
     "data": {
      "text/html": [
       "<div>\n",
       "<style scoped>\n",
       "    .dataframe tbody tr th:only-of-type {\n",
       "        vertical-align: middle;\n",
       "    }\n",
       "\n",
       "    .dataframe tbody tr th {\n",
       "        vertical-align: top;\n",
       "    }\n",
       "\n",
       "    .dataframe thead th {\n",
       "        text-align: right;\n",
       "    }\n",
       "</style>\n",
       "<table border=\"1\" class=\"dataframe\">\n",
       "  <thead>\n",
       "    <tr style=\"text-align: right;\">\n",
       "      <th></th>\n",
       "      <th>user_id</th>\n",
       "      <th>month</th>\n",
       "      <th>month_calls_duration</th>\n",
       "      <th>calls_total</th>\n",
       "      <th>messages_total</th>\n",
       "      <th>gb_total</th>\n",
       "      <th>age</th>\n",
       "      <th>churn_date</th>\n",
       "      <th>city</th>\n",
       "      <th>first_name</th>\n",
       "      <th>...</th>\n",
       "      <th>minutes_included</th>\n",
       "      <th>rub_monthly_fee</th>\n",
       "      <th>rub_per_gb</th>\n",
       "      <th>rub_per_message</th>\n",
       "      <th>rub_per_minute</th>\n",
       "      <th>gb_per_month_included</th>\n",
       "      <th>extra_minutes</th>\n",
       "      <th>extra_messages</th>\n",
       "      <th>extra_gb</th>\n",
       "      <th>payment_total</th>\n",
       "    </tr>\n",
       "  </thead>\n",
       "  <tbody>\n",
       "    <tr>\n",
       "      <th>0</th>\n",
       "      <td>1000</td>\n",
       "      <td>5</td>\n",
       "      <td>142.0</td>\n",
       "      <td>22.0</td>\n",
       "      <td>22.0</td>\n",
       "      <td>3.0</td>\n",
       "      <td>52</td>\n",
       "      <td>NaT</td>\n",
       "      <td>Краснодар</td>\n",
       "      <td>Рафаил</td>\n",
       "      <td>...</td>\n",
       "      <td>3000</td>\n",
       "      <td>1950</td>\n",
       "      <td>150</td>\n",
       "      <td>1</td>\n",
       "      <td>1</td>\n",
       "      <td>30.0</td>\n",
       "      <td>-2858.0</td>\n",
       "      <td>-978.0</td>\n",
       "      <td>-27.0</td>\n",
       "      <td>1950.0</td>\n",
       "    </tr>\n",
       "    <tr>\n",
       "      <th>1</th>\n",
       "      <td>1000</td>\n",
       "      <td>6</td>\n",
       "      <td>144.0</td>\n",
       "      <td>43.0</td>\n",
       "      <td>60.0</td>\n",
       "      <td>23.0</td>\n",
       "      <td>52</td>\n",
       "      <td>NaT</td>\n",
       "      <td>Краснодар</td>\n",
       "      <td>Рафаил</td>\n",
       "      <td>...</td>\n",
       "      <td>3000</td>\n",
       "      <td>1950</td>\n",
       "      <td>150</td>\n",
       "      <td>1</td>\n",
       "      <td>1</td>\n",
       "      <td>30.0</td>\n",
       "      <td>-2856.0</td>\n",
       "      <td>-940.0</td>\n",
       "      <td>-7.0</td>\n",
       "      <td>1950.0</td>\n",
       "    </tr>\n",
       "    <tr>\n",
       "      <th>2</th>\n",
       "      <td>1000</td>\n",
       "      <td>7</td>\n",
       "      <td>299.0</td>\n",
       "      <td>47.0</td>\n",
       "      <td>75.0</td>\n",
       "      <td>14.0</td>\n",
       "      <td>52</td>\n",
       "      <td>NaT</td>\n",
       "      <td>Краснодар</td>\n",
       "      <td>Рафаил</td>\n",
       "      <td>...</td>\n",
       "      <td>3000</td>\n",
       "      <td>1950</td>\n",
       "      <td>150</td>\n",
       "      <td>1</td>\n",
       "      <td>1</td>\n",
       "      <td>30.0</td>\n",
       "      <td>-2701.0</td>\n",
       "      <td>-925.0</td>\n",
       "      <td>-16.0</td>\n",
       "      <td>1950.0</td>\n",
       "    </tr>\n",
       "    <tr>\n",
       "      <th>3</th>\n",
       "      <td>1000</td>\n",
       "      <td>8</td>\n",
       "      <td>367.0</td>\n",
       "      <td>52.0</td>\n",
       "      <td>81.0</td>\n",
       "      <td>14.0</td>\n",
       "      <td>52</td>\n",
       "      <td>NaT</td>\n",
       "      <td>Краснодар</td>\n",
       "      <td>Рафаил</td>\n",
       "      <td>...</td>\n",
       "      <td>3000</td>\n",
       "      <td>1950</td>\n",
       "      <td>150</td>\n",
       "      <td>1</td>\n",
       "      <td>1</td>\n",
       "      <td>30.0</td>\n",
       "      <td>-2633.0</td>\n",
       "      <td>-919.0</td>\n",
       "      <td>-16.0</td>\n",
       "      <td>1950.0</td>\n",
       "    </tr>\n",
       "    <tr>\n",
       "      <th>4</th>\n",
       "      <td>1000</td>\n",
       "      <td>9</td>\n",
       "      <td>421.0</td>\n",
       "      <td>58.0</td>\n",
       "      <td>57.0</td>\n",
       "      <td>15.0</td>\n",
       "      <td>52</td>\n",
       "      <td>NaT</td>\n",
       "      <td>Краснодар</td>\n",
       "      <td>Рафаил</td>\n",
       "      <td>...</td>\n",
       "      <td>3000</td>\n",
       "      <td>1950</td>\n",
       "      <td>150</td>\n",
       "      <td>1</td>\n",
       "      <td>1</td>\n",
       "      <td>30.0</td>\n",
       "      <td>-2579.0</td>\n",
       "      <td>-943.0</td>\n",
       "      <td>-15.0</td>\n",
       "      <td>1950.0</td>\n",
       "    </tr>\n",
       "  </tbody>\n",
       "</table>\n",
       "<p>5 rows × 25 columns</p>\n",
       "</div>"
      ],
      "text/plain": [
       "   user_id  month  month_calls_duration  calls_total  messages_total  \\\n",
       "0     1000      5                 142.0         22.0            22.0   \n",
       "1     1000      6                 144.0         43.0            60.0   \n",
       "2     1000      7                 299.0         47.0            75.0   \n",
       "3     1000      8                 367.0         52.0            81.0   \n",
       "4     1000      9                 421.0         58.0            57.0   \n",
       "\n",
       "   gb_total  age churn_date       city first_name  ... minutes_included  \\\n",
       "0       3.0   52        NaT  Краснодар     Рафаил  ...             3000   \n",
       "1      23.0   52        NaT  Краснодар     Рафаил  ...             3000   \n",
       "2      14.0   52        NaT  Краснодар     Рафаил  ...             3000   \n",
       "3      14.0   52        NaT  Краснодар     Рафаил  ...             3000   \n",
       "4      15.0   52        NaT  Краснодар     Рафаил  ...             3000   \n",
       "\n",
       "  rub_monthly_fee rub_per_gb  rub_per_message  rub_per_minute  \\\n",
       "0            1950        150                1               1   \n",
       "1            1950        150                1               1   \n",
       "2            1950        150                1               1   \n",
       "3            1950        150                1               1   \n",
       "4            1950        150                1               1   \n",
       "\n",
       "   gb_per_month_included  extra_minutes  extra_messages  extra_gb  \\\n",
       "0                   30.0        -2858.0          -978.0     -27.0   \n",
       "1                   30.0        -2856.0          -940.0      -7.0   \n",
       "2                   30.0        -2701.0          -925.0     -16.0   \n",
       "3                   30.0        -2633.0          -919.0     -16.0   \n",
       "4                   30.0        -2579.0          -943.0     -15.0   \n",
       "\n",
       "   payment_total  \n",
       "0         1950.0  \n",
       "1         1950.0  \n",
       "2         1950.0  \n",
       "3         1950.0  \n",
       "4         1950.0  \n",
       "\n",
       "[5 rows x 25 columns]"
      ]
     },
     "execution_count": 97,
     "metadata": {},
     "output_type": "execute_result"
    }
   ],
   "source": [
    "df.head()"
   ]
  },
  {
   "cell_type": "markdown",
   "metadata": {},
   "source": [
    "### Conclusion"
   ]
  },
  {
   "cell_type": "markdown",
   "metadata": {},
   "source": [
    "We prepared data for its further analysis.\n",
    "\n",
    "Data of calls, messages and Internet traffic has been added.\n",
    "\n",
    "The tables have been merged so that we can analyze user behavior depending on their tariff.\n",
    "\n",
    "The total amount that the user was calculated spends and added the data to the table.\n",
    "\n"
   ]
  },
  {
   "cell_type": "markdown",
   "metadata": {},
   "source": [
    "## Exploratory data analysis"
   ]
  },
  {
   "cell_type": "code",
   "execution_count": 98,
   "metadata": {},
   "outputs": [
    {
     "data": {
      "text/html": [
       "<style type=\"text/css\">\n",
       "</style>\n",
       "<table id=\"T_29a71_\">\n",
       "  <thead>\n",
       "    <tr>\n",
       "      <th class=\"blank level0\" >&nbsp;</th>\n",
       "      <th class=\"col_heading level0 col0\" colspan=\"4\">messages_total</th>\n",
       "    </tr>\n",
       "    <tr>\n",
       "      <th class=\"blank level1\" >&nbsp;</th>\n",
       "      <th class=\"col_heading level1 col0\" >median</th>\n",
       "      <th class=\"col_heading level1 col1\" >mean</th>\n",
       "      <th class=\"col_heading level1 col2\" >var</th>\n",
       "      <th class=\"col_heading level1 col3\" >std</th>\n",
       "    </tr>\n",
       "    <tr>\n",
       "      <th class=\"index_name level0\" >tariff</th>\n",
       "      <th class=\"blank col0\" >&nbsp;</th>\n",
       "      <th class=\"blank col1\" >&nbsp;</th>\n",
       "      <th class=\"blank col2\" >&nbsp;</th>\n",
       "      <th class=\"blank col3\" >&nbsp;</th>\n",
       "    </tr>\n",
       "  </thead>\n",
       "  <tbody>\n",
       "    <tr>\n",
       "      <th id=\"T_29a71_level0_row0\" class=\"row_heading level0 row0\" >smart</th>\n",
       "      <td id=\"T_29a71_row0_col0\" class=\"data row0 col0\" >28.00</td>\n",
       "      <td id=\"T_29a71_row0_col1\" class=\"data row0 col1\" >33.38</td>\n",
       "      <td id=\"T_29a71_row0_col2\" class=\"data row0 col2\" >796.81</td>\n",
       "      <td id=\"T_29a71_row0_col3\" class=\"data row0 col3\" >28.23</td>\n",
       "    </tr>\n",
       "    <tr>\n",
       "      <th id=\"T_29a71_level0_row1\" class=\"row_heading level0 row1\" >ultra</th>\n",
       "      <td id=\"T_29a71_row1_col0\" class=\"data row1 col0\" >38.00</td>\n",
       "      <td id=\"T_29a71_row1_col1\" class=\"data row1 col1\" >49.36</td>\n",
       "      <td id=\"T_29a71_row1_col2\" class=\"data row1 col2\" >2285.27</td>\n",
       "      <td id=\"T_29a71_row1_col3\" class=\"data row1 col3\" >47.80</td>\n",
       "    </tr>\n",
       "  </tbody>\n",
       "</table>\n"
      ],
      "text/plain": [
       "<pandas.io.formats.style.Styler at 0x18a313a5a00>"
      ]
     },
     "execution_count": 98,
     "metadata": {},
     "output_type": "execute_result"
    }
   ],
   "source": [
    "df.groupby('tariff')\\\n",
    "  .agg({'messages_total':['median','mean','var','std']})\\\n",
    "  .style.format(\"{:.2f}\")"
   ]
  },
  {
   "cell_type": "code",
   "execution_count": 99,
   "metadata": {},
   "outputs": [
    {
     "name": "stderr",
     "output_type": "stream",
     "text": [
      "C:\\Users\\alina\\Anaconda3\\lib\\site-packages\\seaborn\\distributions.py:2619: FutureWarning: `distplot` is a deprecated function and will be removed in a future version. Please adapt your code to use either `displot` (a figure-level function with similar flexibility) or `histplot` (an axes-level function for histograms).\n",
      "  warnings.warn(msg, FutureWarning)\n"
     ]
    },
    {
     "data": {
      "image/png": "[encoded data removed]",
      "text/plain": [
       "<Figure size 432x288 with 1 Axes>"
      ]
     },
     "metadata": {
      "needs_background": "light"
     },
     "output_type": "display_data"
    }
   ],
   "source": [
    "for tariff in ['ultra', 'smart']:\n",
    "    sns.distplot(df.query('tariff == @tariff')['messages_total'], kde=False, label=tariff)\n",
    "_ = plt.legend(['ultra', 'smart'])"
   ]
  },
  {
   "cell_type": "code",
   "execution_count": 100,
   "metadata": {},
   "outputs": [
    {
     "data": {
      "text/html": [
       "<style type=\"text/css\">\n",
       "</style>\n",
       "<table id=\"T_9ed29_\">\n",
       "  <thead>\n",
       "    <tr>\n",
       "      <th class=\"blank level0\" >&nbsp;</th>\n",
       "      <th class=\"col_heading level0 col0\" colspan=\"4\">month_calls_duration</th>\n",
       "    </tr>\n",
       "    <tr>\n",
       "      <th class=\"blank level1\" >&nbsp;</th>\n",
       "      <th class=\"col_heading level1 col0\" >median</th>\n",
       "      <th class=\"col_heading level1 col1\" >mean</th>\n",
       "      <th class=\"col_heading level1 col2\" >var</th>\n",
       "      <th class=\"col_heading level1 col3\" >std</th>\n",
       "    </tr>\n",
       "    <tr>\n",
       "      <th class=\"index_name level0\" >tariff</th>\n",
       "      <th class=\"blank col0\" >&nbsp;</th>\n",
       "      <th class=\"blank col1\" >&nbsp;</th>\n",
       "      <th class=\"blank col2\" >&nbsp;</th>\n",
       "      <th class=\"blank col3\" >&nbsp;</th>\n",
       "    </tr>\n",
       "  </thead>\n",
       "  <tbody>\n",
       "    <tr>\n",
       "      <th id=\"T_9ed29_level0_row0\" class=\"row_heading level0 row0\" >smart</th>\n",
       "      <td id=\"T_9ed29_row0_col0\" class=\"data row0 col0\" >375.00</td>\n",
       "      <td id=\"T_9ed29_row0_col1\" class=\"data row0 col1\" >371.44</td>\n",
       "      <td id=\"T_9ed29_row0_col2\" class=\"data row0 col2\" >28860.94</td>\n",
       "      <td id=\"T_9ed29_row0_col3\" class=\"data row0 col3\" >169.89</td>\n",
       "    </tr>\n",
       "    <tr>\n",
       "      <th id=\"T_9ed29_level0_row1\" class=\"row_heading level0 row1\" >ultra</th>\n",
       "      <td id=\"T_9ed29_row1_col0\" class=\"data row1 col0\" >458.00</td>\n",
       "      <td id=\"T_9ed29_row1_col1\" class=\"data row1 col1\" >467.92</td>\n",
       "      <td id=\"T_9ed29_row1_col2\" class=\"data row1 col2\" >79896.95</td>\n",
       "      <td id=\"T_9ed29_row1_col3\" class=\"data row1 col3\" >282.66</td>\n",
       "    </tr>\n",
       "  </tbody>\n",
       "</table>\n"
      ],
      "text/plain": [
       "<pandas.io.formats.style.Styler at 0x18a39d0ff70>"
      ]
     },
     "execution_count": 100,
     "metadata": {},
     "output_type": "execute_result"
    }
   ],
   "source": [
    "df.groupby('tariff')\\\n",
    "  .agg({'month_calls_duration':['median','mean','var','std']})\\\n",
    "  .style.format(\"{:.2f}\")"
   ]
  },
  {
   "cell_type": "code",
   "execution_count": 101,
   "metadata": {},
   "outputs": [
    {
     "data": {
      "image/png": "[encoded data removed]",
      "text/plain": [
       "<Figure size 432x288 with 1 Axes>"
      ]
     },
     "metadata": {
      "needs_background": "light"
     },
     "output_type": "display_data"
    }
   ],
   "source": [
    "for tariff in ['ultra', 'smart']:\n",
    "    sns.distplot(df.query('tariff == @tariff')['month_calls_duration'], kde=False, label=tariff)\n",
    "_ = plt.legend(['ultra', 'smart'])"
   ]
  },
  {
   "cell_type": "code",
   "execution_count": 102,
   "metadata": {},
   "outputs": [
    {
     "data": {
      "text/html": [
       "<style type=\"text/css\">\n",
       "</style>\n",
       "<table id=\"T_efb79_\">\n",
       "  <thead>\n",
       "    <tr>\n",
       "      <th class=\"blank level0\" >&nbsp;</th>\n",
       "      <th class=\"col_heading level0 col0\" colspan=\"4\">gb_total</th>\n",
       "    </tr>\n",
       "    <tr>\n",
       "      <th class=\"blank level1\" >&nbsp;</th>\n",
       "      <th class=\"col_heading level1 col0\" >median</th>\n",
       "      <th class=\"col_heading level1 col1\" >mean</th>\n",
       "      <th class=\"col_heading level1 col2\" >var</th>\n",
       "      <th class=\"col_heading level1 col3\" >std</th>\n",
       "    </tr>\n",
       "    <tr>\n",
       "      <th class=\"index_name level0\" >tariff</th>\n",
       "      <th class=\"blank col0\" >&nbsp;</th>\n",
       "      <th class=\"blank col1\" >&nbsp;</th>\n",
       "      <th class=\"blank col2\" >&nbsp;</th>\n",
       "      <th class=\"blank col3\" >&nbsp;</th>\n",
       "    </tr>\n",
       "  </thead>\n",
       "  <tbody>\n",
       "    <tr>\n",
       "      <th id=\"T_efb79_level0_row0\" class=\"row_heading level0 row0\" >smart</th>\n",
       "      <td id=\"T_efb79_row0_col0\" class=\"data row0 col0\" >17.00</td>\n",
       "      <td id=\"T_efb79_row0_col1\" class=\"data row0 col1\" >16.31</td>\n",
       "      <td id=\"T_efb79_row0_col2\" class=\"data row0 col2\" >32.93</td>\n",
       "      <td id=\"T_efb79_row0_col3\" class=\"data row0 col3\" >5.74</td>\n",
       "    </tr>\n",
       "    <tr>\n",
       "      <th id=\"T_efb79_level0_row1\" class=\"row_heading level0 row1\" >ultra</th>\n",
       "      <td id=\"T_efb79_row1_col0\" class=\"data row1 col0\" >19.00</td>\n",
       "      <td id=\"T_efb79_row1_col1\" class=\"data row1 col1\" >19.48</td>\n",
       "      <td id=\"T_efb79_row1_col2\" class=\"data row1 col2\" >96.97</td>\n",
       "      <td id=\"T_efb79_row1_col3\" class=\"data row1 col3\" >9.85</td>\n",
       "    </tr>\n",
       "  </tbody>\n",
       "</table>\n"
      ],
      "text/plain": [
       "<pandas.io.formats.style.Styler at 0x18a3725c2e0>"
      ]
     },
     "execution_count": 102,
     "metadata": {},
     "output_type": "execute_result"
    }
   ],
   "source": [
    "df.groupby('tariff')\\\n",
    "  .agg({'gb_total':['median','mean','var','std']})\\\n",
    "  .style.format(\"{:.2f}\")"
   ]
  },
  {
   "cell_type": "code",
   "execution_count": 103,
   "metadata": {},
   "outputs": [
    {
     "data": {
      "image/png": "[encoded data removed]",
      "text/plain": [
       "<Figure size 432x288 with 1 Axes>"
      ]
     },
     "metadata": {
      "needs_background": "light"
     },
     "output_type": "display_data"
    }
   ],
   "source": [
    "for tariff in ['ultra', 'smart']:\n",
    "    sns.distplot(df.query('tariff == @tariff')['gb_total'], kde=False)\n",
    "_ = plt.legend(['ultra', 'smart'])"
   ]
  },
  {
   "cell_type": "code",
   "execution_count": 104,
   "metadata": {
    "scrolled": true
   },
   "outputs": [
    {
     "data": {
      "text/html": [
       "<style type=\"text/css\">\n",
       "</style>\n",
       "<table id=\"T_36737_\">\n",
       "  <thead>\n",
       "    <tr>\n",
       "      <th class=\"blank level0\" >&nbsp;</th>\n",
       "      <th class=\"col_heading level0 col0\" colspan=\"4\">payment_total</th>\n",
       "    </tr>\n",
       "    <tr>\n",
       "      <th class=\"blank level1\" >&nbsp;</th>\n",
       "      <th class=\"col_heading level1 col0\" >median</th>\n",
       "      <th class=\"col_heading level1 col1\" >mean</th>\n",
       "      <th class=\"col_heading level1 col2\" >var</th>\n",
       "      <th class=\"col_heading level1 col3\" >std</th>\n",
       "    </tr>\n",
       "    <tr>\n",
       "      <th class=\"index_name level0\" >tariff</th>\n",
       "      <th class=\"blank col0\" >&nbsp;</th>\n",
       "      <th class=\"blank col1\" >&nbsp;</th>\n",
       "      <th class=\"blank col2\" >&nbsp;</th>\n",
       "      <th class=\"blank col3\" >&nbsp;</th>\n",
       "    </tr>\n",
       "  </thead>\n",
       "  <tbody>\n",
       "    <tr>\n",
       "      <th id=\"T_36737_level0_row0\" class=\"row_heading level0 row0\" >smart</th>\n",
       "      <td id=\"T_36737_row0_col0\" class=\"data row0 col0\" >950.00</td>\n",
       "      <td id=\"T_36737_row0_col1\" class=\"data row0 col1\" >1227.11</td>\n",
       "      <td id=\"T_36737_row0_col2\" class=\"data row0 col2\" >613951.69</td>\n",
       "      <td id=\"T_36737_row0_col3\" class=\"data row0 col3\" >783.55</td>\n",
       "    </tr>\n",
       "    <tr>\n",
       "      <th id=\"T_36737_level0_row1\" class=\"row_heading level0 row1\" >ultra</th>\n",
       "      <td id=\"T_36737_row1_col0\" class=\"data row1 col0\" >1950.00</td>\n",
       "      <td id=\"T_36737_row1_col1\" class=\"data row1 col1\" >2069.54</td>\n",
       "      <td id=\"T_36737_row1_col2\" class=\"data row1 col2\" >140382.41</td>\n",
       "      <td id=\"T_36737_row1_col3\" class=\"data row1 col3\" >374.68</td>\n",
       "    </tr>\n",
       "  </tbody>\n",
       "</table>\n"
      ],
      "text/plain": [
       "<pandas.io.formats.style.Styler at 0x18a382b2c10>"
      ]
     },
     "execution_count": 104,
     "metadata": {},
     "output_type": "execute_result"
    }
   ],
   "source": [
    "df.groupby('tariff')\\\n",
    "  .agg({'payment_total':['median','mean','var','std']})\\\n",
    "  .style.format(\"{:.2f}\")"
   ]
  },
  {
   "cell_type": "markdown",
   "metadata": {},
   "source": [
    "### Conclusion"
   ]
  },
  {
   "cell_type": "markdown",
   "metadata": {},
   "source": [
    "In the course of the exploratory analysis of the data, we found out that among users of the \"Ultra\" tariff high dispersion can be observed. This means that users of this tariff have more flexibility in using the services.\n",
    "\n",
    "'Smart' users have less flexibility, but tend to go over the threshold and pay for extra services.\n",
    "\n",
    "On average, users of the \"Ultra\" tariff plan spend 1950 rubles on mobile communications, which is equivalent to their monthly fee. When both users of the tariff 'Smart' are almost twice their monthly fee.\n",
    "\n"
   ]
  },
  {
   "cell_type": "markdown",
   "metadata": {},
   "source": [
    "## Statistical data analysis"
   ]
  },
  {
   "cell_type": "markdown",
   "metadata": {},
   "source": [
    "### Examining the first hypothesis"
   ]
  },
  {
   "cell_type": "markdown",
   "metadata": {},
   "source": [
    "The following hypotheses need to be tested.\n",
    "\n",
    "Null hypothesis: The average revenue of users of the Ultra and Smart tariffs is the same.\n",
    "Alternative hypothesis: The average revenue of users of the Ultra and Smart tariffs are different.\n",
    "\n",
    "\n",
    "We need to apply the scipy.stats.ttest_ind() method in order to test the hypothesis that the two populations are equal based on the samples taken from them."
   ]
  },
  {
   "cell_type": "code",
   "execution_count": 105,
   "metadata": {},
   "outputs": [
    {
     "name": "stdout",
     "output_type": "stream",
     "text": [
      "p-value: 4.94910751940952e-298\n",
      "Rejecting the null hypothesis\n"
     ]
    }
   ],
   "source": [
    "smart = df.query('tariff == \"smart\"')['payment_total']\n",
    "ultra =  df.query('tariff == \"ultra\"')['payment_total']\n",
    "alpha = .05\n",
    "\n",
    "results = st.ttest_ind(smart, ultra, equal_var=False)\n",
    "\n",
    "print('p-value:', results.pvalue)\n",
    "\n",
    "if (results.pvalue < alpha):\n",
    "    print(\"Rejecting the null hypothesis\")\n",
    "else:\n",
    "    print(\"Failed to reject the null hypothesis\")"
   ]
  },
  {
   "cell_type": "markdown",
   "metadata": {},
   "source": [
    "### Examining the second hypothesis"
   ]
  },
  {
   "cell_type": "markdown",
   "metadata": {},
   "source": [
    "Null hypothesis: The average revenue of users from Moscow corresponds to the average revenue of users from other regions.\n",
    "\n",
    "Alternative hypothesis: The average revenue of users from Moscow differs from the revenue of users from other regions.\n",
    "\n",
    "We need to apply the st.ttest_1samp() method."
   ]
  },
  {
   "cell_type": "code",
   "execution_count": 106,
   "metadata": {},
   "outputs": [
    {
     "name": "stdout",
     "output_type": "stream",
     "text": [
      "p-value:  0.3699716409242977\n",
      "Failed to reject the null hypothesis\n"
     ]
    }
   ],
   "source": [
    "moscow = df[df['city']=='Москва']['payment_total']\n",
    "\n",
    "other_cities = df[df['city']!='Москва']['payment_total'].mean()\n",
    "\n",
    "alpha = .05\n",
    "\n",
    "results = st.ttest_1samp(moscow, other_cities)\n",
    "\n",
    "print('p-value: ', results.pvalue)\n",
    "\n",
    "if (results.pvalue < alpha):\n",
    "    print(\"Rejecting the null hypothesis\")\n",
    "else:\n",
    "    print(\"Failed to reject the null hypothesis\")"
   ]
  },
  {
   "cell_type": "markdown",
   "metadata": {},
   "source": [
    "The examination of hypothesis  showed that the average revenue of `Smart` and `Ultra` tariffs differ, and the average revenue of users from Moscow does not differ from the revenue of users from other regions. Which suggests that people from different regions spend about the same amount of money on mobile communications."
   ]
  },
  {
   "cell_type": "markdown",
   "metadata": {},
   "source": [
    "## Summary"
   ]
  },
  {
   "cell_type": "markdown",
   "metadata": {},
   "source": [
    "In the course of this research, the data of Megaline users was studied.\n",
    "\n",
    "- The behavior of users of \"Smart\" and \"Ultra\" tariffs was studied.\n",
    "- It was found that they use mobile communications in different ways, and their average revenue is different. The hypothesis that the average revenue is the same has not been confirmed. Users of the \"Ultra\" tariff use  what the tariff offers and rarely pay for services in excess of the tariff plan. Whereas, on average, Smart tariff users tend to pay for services in excess of their tariff plan.\n",
    "- We refjected the hypothesis that the average revenue of users from Moscow does not differ from the revenue of users from other regions.\n",
    "- For the operator, the \"Smart\" tariff is more profitable, since users of this tariff more often use services in excess of their tariff package. "
   ]
  },
  {
   "cell_type": "code",
   "execution_count": null,
   "metadata": {},
   "outputs": [],
   "source": []
  }
 ],
 "metadata": {
  "ExecuteTimeLog": [
   {
    "duration": 408,
    "start_time": "2022-06-08T18:10:23.239Z"
   },
   {
    "duration": 77,
    "start_time": "2022-06-08T18:10:34.444Z"
   },
   {
    "duration": 1098,
    "start_time": "2022-06-08T18:10:57.754Z"
   },
   {
    "duration": 3,
    "start_time": "2022-06-08T18:11:40.058Z"
   },
   {
    "duration": 10,
    "start_time": "2022-06-08T18:11:48.779Z"
   },
   {
    "duration": 12,
    "start_time": "2022-06-08T18:11:58.652Z"
   },
   {
    "duration": 3,
    "start_time": "2022-06-08T18:15:21.162Z"
   },
   {
    "duration": 3,
    "start_time": "2022-06-08T18:15:22.089Z"
   },
   {
    "duration": 3,
    "start_time": "2022-06-08T18:15:32.377Z"
   },
   {
    "duration": 3,
    "start_time": "2022-06-08T18:15:34.225Z"
   },
   {
    "duration": 3,
    "start_time": "2022-06-08T18:15:47.792Z"
   },
   {
    "duration": 22,
    "start_time": "2022-06-08T18:15:52.864Z"
   },
   {
    "duration": 4,
    "start_time": "2022-06-08T18:16:20.159Z"
   },
   {
    "duration": 3,
    "start_time": "2022-06-08T18:16:54.048Z"
   },
   {
    "duration": 6,
    "start_time": "2022-06-08T18:17:11.145Z"
   },
   {
    "duration": 7,
    "start_time": "2022-06-08T18:17:20.190Z"
   },
   {
    "duration": 3,
    "start_time": "2022-06-08T18:19:44.263Z"
   },
   {
    "duration": 4,
    "start_time": "2022-06-08T18:19:56.742Z"
   },
   {
    "duration": 3,
    "start_time": "2022-06-08T18:38:06.030Z"
   },
   {
    "duration": 4,
    "start_time": "2022-06-08T18:38:06.240Z"
   },
   {
    "duration": 8,
    "start_time": "2022-06-08T18:38:20.625Z"
   },
   {
    "duration": 3,
    "start_time": "2022-06-08T18:38:23.376Z"
   },
   {
    "duration": 4,
    "start_time": "2022-06-08T18:38:33.855Z"
   },
   {
    "duration": 44,
    "start_time": "2022-06-09T03:02:04.468Z"
   },
   {
    "duration": 471,
    "start_time": "2022-06-09T03:02:07.361Z"
   },
   {
    "duration": 1168,
    "start_time": "2022-06-09T03:02:07.834Z"
   },
   {
    "duration": 3,
    "start_time": "2022-06-09T03:02:09.004Z"
   },
   {
    "duration": 58,
    "start_time": "2022-06-09T03:02:09.008Z"
   },
   {
    "duration": 3,
    "start_time": "2022-06-09T03:02:56.424Z"
   },
   {
    "duration": 2,
    "start_time": "2022-06-09T03:03:06.217Z"
   },
   {
    "duration": 72,
    "start_time": "2022-06-09T03:03:06.448Z"
   },
   {
    "duration": 3,
    "start_time": "2022-06-09T03:03:12.049Z"
   },
   {
    "duration": 60,
    "start_time": "2022-06-09T03:03:12.265Z"
   },
   {
    "duration": 4,
    "start_time": "2022-06-09T03:06:32.650Z"
   },
   {
    "duration": 234,
    "start_time": "2022-06-09T03:06:34.527Z"
   },
   {
    "duration": 4,
    "start_time": "2022-06-09T03:07:19.206Z"
   },
   {
    "duration": 228,
    "start_time": "2022-06-09T03:07:29.846Z"
   },
   {
    "duration": 190,
    "start_time": "2022-06-09T03:07:30.464Z"
   },
   {
    "duration": 159,
    "start_time": "2022-06-09T03:07:45.070Z"
   },
   {
    "duration": 97,
    "start_time": "2022-06-09T03:09:36.277Z"
   },
   {
    "duration": 58,
    "start_time": "2022-06-09T03:09:36.486Z"
   },
   {
    "duration": 54,
    "start_time": "2022-06-09T03:09:36.653Z"
   },
   {
    "duration": 35,
    "start_time": "2022-06-09T03:13:14.412Z"
   },
   {
    "duration": 2,
    "start_time": "2022-06-09T03:15:54.057Z"
   },
   {
    "duration": 3,
    "start_time": "2022-06-09T03:17:06.127Z"
   },
   {
    "duration": 14,
    "start_time": "2022-06-09T03:27:52.376Z"
   },
   {
    "duration": 87,
    "start_time": "2022-06-09T03:27:59.313Z"
   },
   {
    "duration": 5,
    "start_time": "2022-06-09T03:30:08.705Z"
   },
   {
    "duration": 5,
    "start_time": "2022-06-09T03:37:34.626Z"
   },
   {
    "duration": 24,
    "start_time": "2022-06-09T03:40:07.608Z"
   },
   {
    "duration": 60,
    "start_time": "2022-06-09T03:41:39.048Z"
   },
   {
    "duration": 26,
    "start_time": "2022-06-09T03:41:51.731Z"
   },
   {
    "duration": 23,
    "start_time": "2022-06-09T03:41:54.377Z"
   },
   {
    "duration": 79,
    "start_time": "2022-06-09T03:42:40.568Z"
   },
   {
    "duration": 26,
    "start_time": "2022-06-09T03:42:41.641Z"
   },
   {
    "duration": 581,
    "start_time": "2022-06-09T03:44:16.463Z"
   },
   {
    "duration": 484,
    "start_time": "2022-06-09T03:44:50.256Z"
   },
   {
    "duration": 401,
    "start_time": "2022-06-09T03:44:50.742Z"
   },
   {
    "duration": 195,
    "start_time": "2022-06-09T03:44:51.144Z"
   },
   {
    "duration": 150,
    "start_time": "2022-06-09T03:44:51.352Z"
   },
   {
    "duration": 117,
    "start_time": "2022-06-09T03:44:51.503Z"
   },
   {
    "duration": 51,
    "start_time": "2022-06-09T03:44:51.758Z"
   },
   {
    "duration": 42,
    "start_time": "2022-06-09T03:44:52.071Z"
   },
   {
    "duration": 66,
    "start_time": "2022-06-09T03:44:52.903Z"
   },
   {
    "duration": 4,
    "start_time": "2022-06-09T03:44:53.327Z"
   },
   {
    "duration": 5,
    "start_time": "2022-06-09T03:44:53.527Z"
   },
   {
    "duration": 73,
    "start_time": "2022-06-09T03:44:54.487Z"
   },
   {
    "duration": 236,
    "start_time": "2022-06-09T03:44:54.679Z"
   },
   {
    "duration": 222,
    "start_time": "2022-06-09T03:45:06.957Z"
   },
   {
    "duration": 157,
    "start_time": "2022-06-09T03:45:19.440Z"
   },
   {
    "duration": 128,
    "start_time": "2022-06-09T03:45:23.487Z"
   },
   {
    "duration": 322,
    "start_time": "2022-06-09T03:45:34.262Z"
   },
   {
    "duration": 132,
    "start_time": "2022-06-09T03:45:40.846Z"
   },
   {
    "duration": 117,
    "start_time": "2022-06-09T03:45:45.894Z"
   },
   {
    "duration": 120,
    "start_time": "2022-06-09T03:46:50.950Z"
   },
   {
    "duration": 129,
    "start_time": "2022-06-09T03:46:55.629Z"
   },
   {
    "duration": 129,
    "start_time": "2022-06-09T03:47:00.838Z"
   },
   {
    "duration": 128,
    "start_time": "2022-06-09T03:47:06.142Z"
   },
   {
    "duration": 228,
    "start_time": "2022-06-09T03:47:11.733Z"
   },
   {
    "duration": 173,
    "start_time": "2022-06-09T03:47:19.301Z"
   },
   {
    "duration": 114,
    "start_time": "2022-06-09T03:49:22.596Z"
   },
   {
    "duration": 3,
    "start_time": "2022-06-09T03:49:23.156Z"
   },
   {
    "duration": 3,
    "start_time": "2022-06-09T03:49:23.516Z"
   },
   {
    "duration": 65,
    "start_time": "2022-06-09T03:49:27.211Z"
   },
   {
    "duration": 169,
    "start_time": "2022-06-09T03:49:29.028Z"
   },
   {
    "duration": 4,
    "start_time": "2022-06-09T03:52:57.337Z"
   },
   {
    "duration": 34,
    "start_time": "2022-06-09T03:53:05.793Z"
   },
   {
    "duration": 10,
    "start_time": "2022-06-09T03:53:14.330Z"
   },
   {
    "duration": 1319,
    "start_time": "2022-06-10T09:56:16.704Z"
   },
   {
    "duration": 1156,
    "start_time": "2022-06-10T09:56:18.025Z"
   },
   {
    "duration": 240,
    "start_time": "2022-06-10T09:56:19.183Z"
   },
   {
    "duration": 167,
    "start_time": "2022-06-10T09:56:19.425Z"
   },
   {
    "duration": 144,
    "start_time": "2022-06-10T09:56:19.593Z"
   },
   {
    "duration": 87,
    "start_time": "2022-06-10T09:56:19.739Z"
   },
   {
    "duration": 52,
    "start_time": "2022-06-10T09:56:19.828Z"
   },
   {
    "duration": 111,
    "start_time": "2022-06-10T09:56:19.882Z"
   },
   {
    "duration": 5,
    "start_time": "2022-06-10T09:56:19.995Z"
   },
   {
    "duration": 21,
    "start_time": "2022-06-10T09:56:20.002Z"
   },
   {
    "duration": 71,
    "start_time": "2022-06-10T09:56:20.588Z"
   },
   {
    "duration": 188,
    "start_time": "2022-06-10T09:56:20.741Z"
   },
   {
    "duration": 10,
    "start_time": "2022-06-10T09:56:20.931Z"
   },
   {
    "duration": 97,
    "start_time": "2022-06-10T10:00:25.947Z"
   },
   {
    "duration": 49,
    "start_time": "2022-06-10T10:02:47.248Z"
   },
   {
    "duration": 187,
    "start_time": "2022-06-10T10:03:37.562Z"
   },
   {
    "duration": 175,
    "start_time": "2022-06-10T10:03:38.050Z"
   },
   {
    "duration": 30,
    "start_time": "2022-06-10T10:13:04.313Z"
   },
   {
    "duration": 689,
    "start_time": "2022-06-10T10:13:41.685Z"
   },
   {
    "duration": 1076,
    "start_time": "2022-06-10T10:15:16.138Z"
   },
   {
    "duration": 421,
    "start_time": "2022-06-10T10:15:17.216Z"
   },
   {
    "duration": 695,
    "start_time": "2022-06-10T10:15:17.638Z"
   },
   {
    "duration": 34,
    "start_time": "2022-06-10T10:16:51.168Z"
   },
   {
    "duration": 702,
    "start_time": "2022-06-10T10:17:03.872Z"
   },
   {
    "duration": 510,
    "start_time": "2022-06-10T10:18:42.959Z"
   },
   {
    "duration": 650,
    "start_time": "2022-06-10T10:19:05.704Z"
   },
   {
    "duration": 184,
    "start_time": "2022-06-10T10:19:12.869Z"
   },
   {
    "duration": 34,
    "start_time": "2022-06-10T10:19:54.775Z"
   },
   {
    "duration": 503,
    "start_time": "2022-06-10T11:30:26.849Z"
   },
   {
    "duration": 33,
    "start_time": "2022-06-10T11:30:45.216Z"
   },
   {
    "duration": 23,
    "start_time": "2022-06-10T11:30:51.804Z"
   },
   {
    "duration": 541,
    "start_time": "2022-06-10T11:30:58.084Z"
   },
   {
    "duration": 50,
    "start_time": "2022-06-14T05:38:26.155Z"
   },
   {
    "duration": 10,
    "start_time": "2022-06-14T05:38:38.894Z"
   },
   {
    "duration": 7,
    "start_time": "2022-06-14T05:39:36.242Z"
   },
   {
    "duration": 7,
    "start_time": "2022-06-14T05:39:39.440Z"
   },
   {
    "duration": 7,
    "start_time": "2022-06-14T05:39:39.618Z"
   },
   {
    "duration": 1272,
    "start_time": "2022-06-14T05:39:43.129Z"
   },
   {
    "duration": 1048,
    "start_time": "2022-06-14T05:39:44.404Z"
   },
   {
    "duration": 561,
    "start_time": "2022-06-14T05:39:45.454Z"
   },
   {
    "duration": 17,
    "start_time": "2022-06-14T05:39:46.017Z"
   },
   {
    "duration": 110,
    "start_time": "2022-06-14T05:39:46.036Z"
   },
   {
    "duration": 4,
    "start_time": "2022-06-14T05:39:46.148Z"
   },
   {
    "duration": 20,
    "start_time": "2022-06-14T05:39:46.154Z"
   },
   {
    "duration": 85,
    "start_time": "2022-06-14T05:39:46.176Z"
   },
   {
    "duration": 54,
    "start_time": "2022-06-14T05:39:46.355Z"
   },
   {
    "duration": 214,
    "start_time": "2022-06-14T05:39:46.537Z"
   },
   {
    "duration": 202,
    "start_time": "2022-06-14T05:39:46.753Z"
   },
   {
    "duration": 174,
    "start_time": "2022-06-14T05:39:46.957Z"
   },
   {
    "duration": 10,
    "start_time": "2022-06-14T05:39:47.133Z"
   },
   {
    "duration": 5,
    "start_time": "2022-06-14T05:40:48.315Z"
   },
   {
    "duration": 5,
    "start_time": "2022-06-14T05:52:36.743Z"
   },
   {
    "duration": 4,
    "start_time": "2022-06-14T05:52:41.410Z"
   },
   {
    "duration": 19,
    "start_time": "2022-06-14T05:53:22.376Z"
   },
   {
    "duration": 62,
    "start_time": "2022-06-14T05:54:48.592Z"
   },
   {
    "duration": 28,
    "start_time": "2022-06-14T05:55:07.256Z"
   },
   {
    "duration": 6,
    "start_time": "2022-06-14T05:55:25.457Z"
   },
   {
    "duration": 30,
    "start_time": "2022-06-14T05:55:26.808Z"
   },
   {
    "duration": 11,
    "start_time": "2022-06-14T05:55:27.403Z"
   },
   {
    "duration": 5,
    "start_time": "2022-06-14T05:55:44.591Z"
   },
   {
    "duration": 30,
    "start_time": "2022-06-14T05:55:45.642Z"
   },
   {
    "duration": 17,
    "start_time": "2022-06-14T05:55:46.063Z"
   },
   {
    "duration": 74,
    "start_time": "2022-06-14T05:55:51.247Z"
   },
   {
    "duration": 31,
    "start_time": "2022-06-14T05:55:52.198Z"
   },
   {
    "duration": 10,
    "start_time": "2022-06-14T05:55:52.722Z"
   },
   {
    "duration": 14,
    "start_time": "2022-06-14T06:26:04.783Z"
   },
   {
    "duration": 16,
    "start_time": "2022-06-14T06:26:11.364Z"
   },
   {
    "duration": 3,
    "start_time": "2022-06-14T06:27:13.549Z"
   },
   {
    "duration": 11,
    "start_time": "2022-06-14T06:27:27.585Z"
   },
   {
    "duration": 450,
    "start_time": "2022-06-14T06:27:54.236Z"
   },
   {
    "duration": 15,
    "start_time": "2022-06-14T06:28:03.819Z"
   },
   {
    "duration": 13,
    "start_time": "2022-06-14T06:28:05.062Z"
   },
   {
    "duration": 46,
    "start_time": "2022-06-14T06:29:36.692Z"
   },
   {
    "duration": 23,
    "start_time": "2022-06-14T06:29:41.247Z"
   },
   {
    "duration": 12,
    "start_time": "2022-06-14T06:30:02.867Z"
   },
   {
    "duration": 331,
    "start_time": "2022-06-14T06:30:25.178Z"
   },
   {
    "duration": 340,
    "start_time": "2022-06-14T06:30:49.978Z"
   },
   {
    "duration": 14,
    "start_time": "2022-06-14T06:33:57.101Z"
   },
   {
    "duration": 179,
    "start_time": "2022-06-14T06:33:57.458Z"
   },
   {
    "duration": 14,
    "start_time": "2022-06-14T06:34:16.034Z"
   },
   {
    "duration": 25,
    "start_time": "2022-06-14T06:34:33.409Z"
   },
   {
    "duration": 4,
    "start_time": "2022-06-14T06:34:33.544Z"
   },
   {
    "duration": 5,
    "start_time": "2022-06-14T06:34:33.692Z"
   },
   {
    "duration": 50,
    "start_time": "2022-06-14T06:34:33.846Z"
   },
   {
    "duration": 4,
    "start_time": "2022-06-14T06:34:34.016Z"
   },
   {
    "duration": 5,
    "start_time": "2022-06-14T06:34:34.230Z"
   },
   {
    "duration": 32,
    "start_time": "2022-06-14T06:34:34.997Z"
   },
   {
    "duration": 13,
    "start_time": "2022-06-14T06:34:35.159Z"
   },
   {
    "duration": 161,
    "start_time": "2022-06-14T06:34:35.342Z"
   },
   {
    "duration": 10,
    "start_time": "2022-06-14T06:35:05.299Z"
   },
   {
    "duration": 11,
    "start_time": "2022-06-14T06:35:20.966Z"
   },
   {
    "duration": 18,
    "start_time": "2022-06-14T06:35:20.979Z"
   },
   {
    "duration": 0,
    "start_time": "2022-06-14T06:35:20.998Z"
   },
   {
    "duration": 12,
    "start_time": "2022-06-14T06:35:45.611Z"
   },
   {
    "duration": 13,
    "start_time": "2022-06-14T06:36:53.699Z"
   },
   {
    "duration": 14,
    "start_time": "2022-06-14T06:36:57.899Z"
   },
   {
    "duration": 3,
    "start_time": "2022-06-14T06:43:15.866Z"
   },
   {
    "duration": 465,
    "start_time": "2022-06-14T06:43:16.134Z"
   },
   {
    "duration": 574,
    "start_time": "2022-06-14T06:43:16.601Z"
   },
   {
    "duration": 14,
    "start_time": "2022-06-14T06:43:17.177Z"
   },
   {
    "duration": 73,
    "start_time": "2022-06-14T06:43:17.569Z"
   },
   {
    "duration": 6,
    "start_time": "2022-06-14T06:43:17.763Z"
   },
   {
    "duration": 4,
    "start_time": "2022-06-14T06:43:17.892Z"
   },
   {
    "duration": 166,
    "start_time": "2022-06-14T06:43:18.064Z"
   },
   {
    "duration": 5,
    "start_time": "2022-06-14T06:43:18.237Z"
   },
   {
    "duration": 17,
    "start_time": "2022-06-14T06:43:18.421Z"
   },
   {
    "duration": 36,
    "start_time": "2022-06-14T06:43:19.177Z"
   },
   {
    "duration": 34,
    "start_time": "2022-06-14T06:43:19.353Z"
   },
   {
    "duration": 12,
    "start_time": "2022-06-14T06:43:19.807Z"
   },
   {
    "duration": 205,
    "start_time": "2022-06-14T06:43:19.972Z"
   },
   {
    "duration": 204,
    "start_time": "2022-06-14T06:43:20.179Z"
   },
   {
    "duration": 181,
    "start_time": "2022-06-14T06:43:20.385Z"
   },
   {
    "duration": 9,
    "start_time": "2022-06-14T06:44:10.825Z"
   },
   {
    "duration": 15,
    "start_time": "2022-06-14T06:44:37.976Z"
   },
   {
    "duration": 22,
    "start_time": "2022-06-14T06:45:02.435Z"
   },
   {
    "duration": 11,
    "start_time": "2022-06-14T06:45:16.092Z"
   },
   {
    "duration": 9,
    "start_time": "2022-06-14T06:46:58.015Z"
   },
   {
    "duration": 15,
    "start_time": "2022-06-14T06:47:05.115Z"
   },
   {
    "duration": 22,
    "start_time": "2022-06-14T06:47:15.015Z"
   },
   {
    "duration": 19,
    "start_time": "2022-06-14T06:47:33.078Z"
   },
   {
    "duration": 39,
    "start_time": "2022-06-14T06:49:39.634Z"
   },
   {
    "duration": 30,
    "start_time": "2022-06-14T06:49:56.443Z"
   },
   {
    "duration": 38,
    "start_time": "2022-06-14T06:50:06.695Z"
   },
   {
    "duration": 64,
    "start_time": "2022-06-14T06:55:14.134Z"
   },
   {
    "duration": 62,
    "start_time": "2022-06-14T06:55:53.553Z"
   },
   {
    "duration": 69,
    "start_time": "2022-06-14T06:56:26.534Z"
   },
   {
    "duration": 61,
    "start_time": "2022-06-14T06:56:53.343Z"
   },
   {
    "duration": 61,
    "start_time": "2022-06-14T06:57:27.147Z"
   },
   {
    "duration": 4,
    "start_time": "2022-06-14T06:57:39.349Z"
   },
   {
    "duration": 431,
    "start_time": "2022-06-14T06:57:39.489Z"
   },
   {
    "duration": 545,
    "start_time": "2022-06-14T06:57:39.922Z"
   },
   {
    "duration": 13,
    "start_time": "2022-06-14T06:57:40.469Z"
   },
   {
    "duration": 81,
    "start_time": "2022-06-14T06:57:40.546Z"
   },
   {
    "duration": 6,
    "start_time": "2022-06-14T06:57:40.732Z"
   },
   {
    "duration": 5,
    "start_time": "2022-06-14T06:57:40.911Z"
   },
   {
    "duration": 80,
    "start_time": "2022-06-14T06:57:41.098Z"
   },
   {
    "duration": 4,
    "start_time": "2022-06-14T06:57:41.293Z"
   },
   {
    "duration": 24,
    "start_time": "2022-06-14T06:57:41.499Z"
   },
   {
    "duration": 37,
    "start_time": "2022-06-14T06:57:42.555Z"
   },
   {
    "duration": 72,
    "start_time": "2022-06-14T06:57:42.766Z"
   },
   {
    "duration": 11,
    "start_time": "2022-06-14T06:57:59.711Z"
   },
   {
    "duration": 12,
    "start_time": "2022-06-14T06:58:00.906Z"
   },
   {
    "duration": 29,
    "start_time": "2022-06-14T06:58:01.955Z"
   },
   {
    "duration": 62,
    "start_time": "2022-06-14T06:58:02.129Z"
   },
   {
    "duration": 17,
    "start_time": "2022-06-14T06:59:27.954Z"
   },
   {
    "duration": 18,
    "start_time": "2022-06-14T06:59:34.212Z"
   },
   {
    "duration": 18,
    "start_time": "2022-06-14T06:59:42.263Z"
   },
   {
    "duration": 13,
    "start_time": "2022-06-14T06:59:47.239Z"
   },
   {
    "duration": 28,
    "start_time": "2022-06-14T06:59:48.730Z"
   },
   {
    "duration": 71,
    "start_time": "2022-06-14T06:59:48.934Z"
   },
   {
    "duration": 20,
    "start_time": "2022-06-14T07:01:16.203Z"
   },
   {
    "duration": 8,
    "start_time": "2022-06-14T07:01:39.720Z"
   },
   {
    "duration": 26,
    "start_time": "2022-06-14T07:01:46.857Z"
   },
   {
    "duration": 4,
    "start_time": "2022-06-14T07:02:03.225Z"
   },
   {
    "duration": 449,
    "start_time": "2022-06-14T07:02:03.364Z"
   },
   {
    "duration": 584,
    "start_time": "2022-06-14T07:02:03.815Z"
   },
   {
    "duration": 12,
    "start_time": "2022-06-14T07:02:04.401Z"
   },
   {
    "duration": 84,
    "start_time": "2022-06-14T07:02:04.487Z"
   },
   {
    "duration": 6,
    "start_time": "2022-06-14T07:02:04.669Z"
   },
   {
    "duration": 4,
    "start_time": "2022-06-14T07:02:04.857Z"
   },
   {
    "duration": 159,
    "start_time": "2022-06-14T07:02:05.012Z"
   },
   {
    "duration": 4,
    "start_time": "2022-06-14T07:02:05.187Z"
   },
   {
    "duration": 25,
    "start_time": "2022-06-14T07:02:05.369Z"
   },
   {
    "duration": 38,
    "start_time": "2022-06-14T07:02:06.059Z"
   },
   {
    "duration": 65,
    "start_time": "2022-06-14T07:02:06.240Z"
   },
   {
    "duration": 20,
    "start_time": "2022-06-14T07:02:06.426Z"
   },
   {
    "duration": 22,
    "start_time": "2022-06-14T07:02:06.714Z"
   },
   {
    "duration": 3,
    "start_time": "2022-06-14T17:52:24.388Z"
   },
   {
    "duration": 413,
    "start_time": "2022-06-14T17:52:34.772Z"
   },
   {
    "duration": 329,
    "start_time": "2022-06-14T17:53:11.607Z"
   },
   {
    "duration": 3,
    "start_time": "2022-06-14T17:53:20.976Z"
   },
   {
    "duration": 425,
    "start_time": "2022-06-14T17:53:21.129Z"
   },
   {
    "duration": 545,
    "start_time": "2022-06-14T17:53:21.556Z"
   },
   {
    "duration": 17,
    "start_time": "2022-06-14T17:53:22.103Z"
   },
   {
    "duration": 103,
    "start_time": "2022-06-14T17:53:22.545Z"
   },
   {
    "duration": 75,
    "start_time": "2022-06-14T17:53:44.294Z"
   },
   {
    "duration": 6,
    "start_time": "2022-06-14T17:53:46.195Z"
   },
   {
    "duration": 74,
    "start_time": "2022-06-14T17:53:46.753Z"
   },
   {
    "duration": 3,
    "start_time": "2022-06-14T17:54:01.506Z"
   },
   {
    "duration": 82,
    "start_time": "2022-06-14T17:54:06.686Z"
   },
   {
    "duration": 6,
    "start_time": "2022-06-14T17:54:15.096Z"
   },
   {
    "duration": 5,
    "start_time": "2022-06-14T17:54:25.015Z"
   },
   {
    "duration": 5,
    "start_time": "2022-06-14T17:54:33.500Z"
   },
   {
    "duration": 46,
    "start_time": "2022-06-14T17:54:39.674Z"
   },
   {
    "duration": 30,
    "start_time": "2022-06-14T17:54:52.158Z"
   },
   {
    "duration": 6,
    "start_time": "2022-06-14T17:54:58.325Z"
   },
   {
    "duration": 20,
    "start_time": "2022-06-14T17:55:12.323Z"
   },
   {
    "duration": 20,
    "start_time": "2022-06-14T17:55:19.002Z"
   },
   {
    "duration": 34,
    "start_time": "2022-06-14T17:55:35.800Z"
   },
   {
    "duration": 24,
    "start_time": "2022-06-14T17:55:53.900Z"
   },
   {
    "duration": 14,
    "start_time": "2022-06-14T17:56:05.195Z"
   },
   {
    "duration": 15,
    "start_time": "2022-06-14T17:56:18.203Z"
   },
   {
    "duration": 15,
    "start_time": "2022-06-14T17:56:25.598Z"
   },
   {
    "duration": 19,
    "start_time": "2022-06-14T17:56:34.129Z"
   },
   {
    "duration": 24,
    "start_time": "2022-06-14T17:56:42.878Z"
   },
   {
    "duration": 9,
    "start_time": "2022-06-14T17:56:52.020Z"
   },
   {
    "duration": 411,
    "start_time": "2022-06-14T17:57:04.797Z"
   },
   {
    "duration": 9,
    "start_time": "2022-06-14T17:57:42.270Z"
   },
   {
    "duration": 29,
    "start_time": "2022-06-14T17:57:55.412Z"
   },
   {
    "duration": 397,
    "start_time": "2022-06-14T17:58:06.462Z"
   },
   {
    "duration": 18,
    "start_time": "2022-06-14T17:58:32.996Z"
   },
   {
    "duration": 14,
    "start_time": "2022-06-14T17:58:33.819Z"
   },
   {
    "duration": 17,
    "start_time": "2022-06-14T17:58:34.330Z"
   },
   {
    "duration": 19,
    "start_time": "2022-06-14T17:58:34.792Z"
   },
   {
    "duration": 33,
    "start_time": "2022-06-14T17:58:35.150Z"
   },
   {
    "duration": 452,
    "start_time": "2022-06-14T17:58:35.398Z"
   },
   {
    "duration": 206,
    "start_time": "2022-06-14T17:58:35.852Z"
   },
   {
    "duration": 10,
    "start_time": "2022-06-14T17:58:36.603Z"
   },
   {
    "duration": 20,
    "start_time": "2022-06-14T17:58:37.035Z"
   },
   {
    "duration": 7,
    "start_time": "2022-06-14T17:58:37.343Z"
   },
   {
    "duration": 21,
    "start_time": "2022-06-14T17:58:45.628Z"
   },
   {
    "duration": 3,
    "start_time": "2022-06-14T17:58:54.975Z"
   },
   {
    "duration": 90,
    "start_time": "2022-06-14T17:59:04.191Z"
   },
   {
    "duration": 13,
    "start_time": "2022-06-14T17:59:17.066Z"
   },
   {
    "duration": 8,
    "start_time": "2022-06-14T17:59:31.348Z"
   },
   {
    "duration": 61,
    "start_time": "2022-06-14T17:59:37.787Z"
   },
   {
    "duration": 16,
    "start_time": "2022-06-14T17:59:43.859Z"
   },
   {
    "duration": 14,
    "start_time": "2022-06-14T17:59:50.745Z"
   },
   {
    "duration": 11,
    "start_time": "2022-06-14T17:59:57.362Z"
   },
   {
    "duration": 1069,
    "start_time": "2022-06-14T18:00:04.550Z"
   },
   {
    "duration": 10,
    "start_time": "2022-06-14T18:00:16.746Z"
   },
   {
    "duration": 9,
    "start_time": "2022-06-14T18:00:26.492Z"
   },
   {
    "duration": 10,
    "start_time": "2022-06-14T18:00:30.860Z"
   },
   {
    "duration": 16,
    "start_time": "2022-06-14T18:00:35.373Z"
   },
   {
    "duration": 10,
    "start_time": "2022-06-14T18:00:35.856Z"
   },
   {
    "duration": 993,
    "start_time": "2022-06-14T18:08:30.521Z"
   },
   {
    "duration": 1046,
    "start_time": "2022-06-14T18:08:37.285Z"
   },
   {
    "duration": 986,
    "start_time": "2022-06-14T18:08:44.845Z"
   },
   {
    "duration": 1362,
    "start_time": "2022-06-14T18:08:54.047Z"
   },
   {
    "duration": 918,
    "start_time": "2022-06-14T18:09:00.820Z"
   },
   {
    "duration": 222,
    "start_time": "2022-06-14T18:11:39.655Z"
   },
   {
    "duration": 38,
    "start_time": "2022-06-14T18:17:31.881Z"
   },
   {
    "duration": 1207,
    "start_time": "2022-06-14T18:18:01.697Z"
   },
   {
    "duration": 14,
    "start_time": "2022-06-14T18:18:17.840Z"
   },
   {
    "duration": 48,
    "start_time": "2022-06-14T18:18:33.912Z"
   },
   {
    "duration": 30,
    "start_time": "2022-06-14T18:18:51.654Z"
   },
   {
    "duration": 14,
    "start_time": "2022-06-14T18:19:02.433Z"
   },
   {
    "duration": 18,
    "start_time": "2022-06-14T18:19:13.470Z"
   },
   {
    "duration": 29,
    "start_time": "2022-06-14T18:19:26.206Z"
   },
   {
    "duration": 6,
    "start_time": "2022-06-14T18:19:32.742Z"
   },
   {
    "duration": 19,
    "start_time": "2022-06-14T18:19:39.226Z"
   },
   {
    "duration": 1467,
    "start_time": "2022-06-15T12:42:50.760Z"
   },
   {
    "duration": 1122,
    "start_time": "2022-06-15T12:42:53.609Z"
   },
   {
    "duration": 80,
    "start_time": "2022-06-15T12:44:34.378Z"
   },
   {
    "duration": 17,
    "start_time": "2022-06-15T12:44:35.265Z"
   },
   {
    "duration": 106,
    "start_time": "2022-06-15T12:44:37.321Z"
   },
   {
    "duration": 4,
    "start_time": "2022-06-15T12:44:42.313Z"
   },
   {
    "duration": 49,
    "start_time": "2022-06-15T12:47:37.128Z"
   },
   {
    "duration": 6,
    "start_time": "2022-06-15T12:47:37.312Z"
   },
   {
    "duration": 81,
    "start_time": "2022-06-15T12:47:38.025Z"
   },
   {
    "duration": 7,
    "start_time": "2022-06-15T12:47:40.680Z"
   },
   {
    "duration": 98,
    "start_time": "2022-06-15T12:47:40.904Z"
   },
   {
    "duration": 12,
    "start_time": "2022-06-15T12:47:41.062Z"
   },
   {
    "duration": 7,
    "start_time": "2022-06-15T12:47:41.204Z"
   },
   {
    "duration": 10,
    "start_time": "2022-06-15T12:47:41.671Z"
   },
   {
    "duration": 120,
    "start_time": "2022-06-15T12:51:48.937Z"
   },
   {
    "duration": 6,
    "start_time": "2022-06-15T12:51:49.379Z"
   },
   {
    "duration": 85,
    "start_time": "2022-06-15T12:51:52.221Z"
   },
   {
    "duration": 4,
    "start_time": "2022-06-15T12:51:52.358Z"
   },
   {
    "duration": 91,
    "start_time": "2022-06-15T12:51:52.520Z"
   },
   {
    "duration": 6,
    "start_time": "2022-06-15T12:51:53.404Z"
   },
   {
    "duration": 8,
    "start_time": "2022-06-15T12:51:54.449Z"
   },
   {
    "duration": 55,
    "start_time": "2022-06-15T12:51:59.835Z"
   },
   {
    "duration": 61,
    "start_time": "2022-06-15T12:52:00.380Z"
   },
   {
    "duration": 44,
    "start_time": "2022-06-15T12:59:37.534Z"
   },
   {
    "duration": 41,
    "start_time": "2022-06-15T12:59:39.761Z"
   },
   {
    "duration": 133,
    "start_time": "2022-06-15T12:59:39.952Z"
   },
   {
    "duration": 35,
    "start_time": "2022-06-15T13:00:01.877Z"
   },
   {
    "duration": 28,
    "start_time": "2022-06-15T13:00:22.019Z"
   },
   {
    "duration": 21,
    "start_time": "2022-06-15T13:00:45.686Z"
   },
   {
    "duration": 16,
    "start_time": "2022-06-15T13:00:58.190Z"
   },
   {
    "duration": 21,
    "start_time": "2022-06-15T13:01:08.496Z"
   },
   {
    "duration": 32,
    "start_time": "2022-06-15T13:01:13.344Z"
   },
   {
    "duration": 8,
    "start_time": "2022-06-15T13:01:15.246Z"
   },
   {
    "duration": 7,
    "start_time": "2022-06-15T13:01:17.281Z"
   },
   {
    "duration": 9,
    "start_time": "2022-06-15T13:01:20.722Z"
   },
   {
    "duration": 24,
    "start_time": "2022-06-15T13:01:23.347Z"
   },
   {
    "duration": 9,
    "start_time": "2022-06-15T13:01:28.922Z"
   },
   {
    "duration": 23,
    "start_time": "2022-06-15T13:01:30.986Z"
   },
   {
    "duration": 5,
    "start_time": "2022-06-15T13:06:29.864Z"
   },
   {
    "duration": 172,
    "start_time": "2022-06-15T13:09:47.943Z"
   },
   {
    "duration": 1213,
    "start_time": "2022-06-16T08:33:01.094Z"
   },
   {
    "duration": 1045,
    "start_time": "2022-06-16T08:33:02.309Z"
   },
   {
    "duration": 474,
    "start_time": "2022-06-16T08:33:03.355Z"
   },
   {
    "duration": 17,
    "start_time": "2022-06-16T08:33:03.832Z"
   },
   {
    "duration": 95,
    "start_time": "2022-06-16T08:33:03.851Z"
   },
   {
    "duration": 7,
    "start_time": "2022-06-16T08:33:03.947Z"
   },
   {
    "duration": 77,
    "start_time": "2022-06-16T08:33:03.955Z"
   },
   {
    "duration": 5,
    "start_time": "2022-06-16T08:33:04.034Z"
   },
   {
    "duration": 99,
    "start_time": "2022-06-16T08:33:04.041Z"
   },
   {
    "duration": 5,
    "start_time": "2022-06-16T08:33:04.143Z"
   },
   {
    "duration": 8,
    "start_time": "2022-06-16T08:33:04.149Z"
   },
   {
    "duration": 59,
    "start_time": "2022-06-16T08:33:04.158Z"
   },
   {
    "duration": 29,
    "start_time": "2022-06-16T08:33:04.219Z"
   },
   {
    "duration": 19,
    "start_time": "2022-06-16T08:33:04.249Z"
   },
   {
    "duration": 37,
    "start_time": "2022-06-16T08:33:04.269Z"
   },
   {
    "duration": 14,
    "start_time": "2022-06-16T08:33:04.308Z"
   },
   {
    "duration": 14,
    "start_time": "2022-06-16T08:33:04.323Z"
   },
   {
    "duration": 17,
    "start_time": "2022-06-16T08:33:04.339Z"
   },
   {
    "duration": 49,
    "start_time": "2022-06-16T08:33:04.357Z"
   },
   {
    "duration": 7,
    "start_time": "2022-06-16T08:33:04.408Z"
   },
   {
    "duration": 4,
    "start_time": "2022-06-16T08:33:04.417Z"
   },
   {
    "duration": 9,
    "start_time": "2022-06-16T08:33:04.423Z"
   },
   {
    "duration": 19,
    "start_time": "2022-06-16T08:33:04.433Z"
   },
   {
    "duration": 7,
    "start_time": "2022-06-16T08:33:04.453Z"
   },
   {
    "duration": 49,
    "start_time": "2022-06-16T08:33:04.461Z"
   },
   {
    "duration": 3,
    "start_time": "2022-06-16T08:33:04.511Z"
   },
   {
    "duration": 78,
    "start_time": "2022-06-16T08:33:04.516Z"
   },
   {
    "duration": 11,
    "start_time": "2022-06-16T08:33:04.597Z"
   },
   {
    "duration": 9,
    "start_time": "2022-06-16T08:33:04.609Z"
   },
   {
    "duration": 50,
    "start_time": "2022-06-16T08:33:04.619Z"
   },
   {
    "duration": 8,
    "start_time": "2022-06-16T08:33:04.671Z"
   },
   {
    "duration": 15,
    "start_time": "2022-06-16T08:33:04.681Z"
   },
   {
    "duration": 10,
    "start_time": "2022-06-16T08:33:04.698Z"
   },
   {
    "duration": 1358,
    "start_time": "2022-06-16T08:33:04.710Z"
   },
   {
    "duration": 0,
    "start_time": "2022-06-16T08:33:06.070Z"
   },
   {
    "duration": 0,
    "start_time": "2022-06-16T08:33:06.072Z"
   },
   {
    "duration": 0,
    "start_time": "2022-06-16T08:33:06.073Z"
   },
   {
    "duration": 0,
    "start_time": "2022-06-16T08:33:06.075Z"
   },
   {
    "duration": 3,
    "start_time": "2022-06-16T10:36:39.749Z"
   },
   {
    "duration": 383,
    "start_time": "2022-06-16T10:36:39.753Z"
   },
   {
    "duration": 466,
    "start_time": "2022-06-16T10:36:40.138Z"
   },
   {
    "duration": 10,
    "start_time": "2022-06-16T10:36:40.606Z"
   },
   {
    "duration": 83,
    "start_time": "2022-06-16T10:36:40.617Z"
   },
   {
    "duration": 5,
    "start_time": "2022-06-16T10:36:40.701Z"
   },
   {
    "duration": 57,
    "start_time": "2022-06-16T10:36:40.707Z"
   },
   {
    "duration": 29,
    "start_time": "2022-06-16T10:36:40.766Z"
   },
   {
    "duration": 140,
    "start_time": "2022-06-16T10:36:40.797Z"
   },
   {
    "duration": 5,
    "start_time": "2022-06-16T10:36:40.938Z"
   },
   {
    "duration": 7,
    "start_time": "2022-06-16T10:36:40.944Z"
   },
   {
    "duration": 53,
    "start_time": "2022-06-16T10:36:40.953Z"
   },
   {
    "duration": 27,
    "start_time": "2022-06-16T10:36:41.008Z"
   },
   {
    "duration": 17,
    "start_time": "2022-06-16T10:36:41.037Z"
   },
   {
    "duration": 39,
    "start_time": "2022-06-16T10:36:41.056Z"
   },
   {
    "duration": 13,
    "start_time": "2022-06-16T10:36:41.096Z"
   },
   {
    "duration": 12,
    "start_time": "2022-06-16T10:36:41.110Z"
   },
   {
    "duration": 17,
    "start_time": "2022-06-16T10:36:41.124Z"
   },
   {
    "duration": 23,
    "start_time": "2022-06-16T10:36:41.142Z"
   },
   {
    "duration": 8,
    "start_time": "2022-06-16T10:36:41.197Z"
   },
   {
    "duration": 5,
    "start_time": "2022-06-16T10:36:41.207Z"
   },
   {
    "duration": 8,
    "start_time": "2022-06-16T10:36:41.213Z"
   },
   {
    "duration": 16,
    "start_time": "2022-06-16T10:36:41.222Z"
   },
   {
    "duration": 5,
    "start_time": "2022-06-16T10:36:41.240Z"
   },
   {
    "duration": 19,
    "start_time": "2022-06-16T10:36:41.246Z"
   },
   {
    "duration": 3,
    "start_time": "2022-06-16T10:36:41.295Z"
   },
   {
    "duration": 75,
    "start_time": "2022-06-16T10:36:41.299Z"
   },
   {
    "duration": 21,
    "start_time": "2022-06-16T10:36:41.376Z"
   },
   {
    "duration": 5,
    "start_time": "2022-06-16T10:36:41.399Z"
   },
   {
    "duration": 13,
    "start_time": "2022-06-16T10:36:41.405Z"
   },
   {
    "duration": 9,
    "start_time": "2022-06-16T10:36:41.419Z"
   },
   {
    "duration": 8,
    "start_time": "2022-06-16T10:36:41.429Z"
   },
   {
    "duration": 9,
    "start_time": "2022-06-16T10:36:41.438Z"
   },
   {
    "duration": 1330,
    "start_time": "2022-06-16T10:36:41.448Z"
   },
   {
    "duration": 0,
    "start_time": "2022-06-16T10:36:42.780Z"
   },
   {
    "duration": 0,
    "start_time": "2022-06-16T10:36:42.781Z"
   },
   {
    "duration": 691,
    "start_time": "2022-06-16T10:37:04.769Z"
   },
   {
    "duration": 634,
    "start_time": "2022-06-16T10:38:26.805Z"
   },
   {
    "duration": 554,
    "start_time": "2022-06-16T10:38:32.173Z"
   },
   {
    "duration": 2642,
    "start_time": "2022-06-16T10:40:30.267Z"
   },
   {
    "duration": 13,
    "start_time": "2022-06-16T10:41:00.055Z"
   },
   {
    "duration": 772,
    "start_time": "2022-06-16T10:41:22.677Z"
   },
   {
    "duration": 13,
    "start_time": "2022-06-16T10:41:31.196Z"
   },
   {
    "duration": 18,
    "start_time": "2022-06-16T10:42:11.140Z"
   },
   {
    "duration": 3,
    "start_time": "2022-06-16T10:42:25.272Z"
   },
   {
    "duration": 385,
    "start_time": "2022-06-16T10:42:25.278Z"
   },
   {
    "duration": 451,
    "start_time": "2022-06-16T10:42:25.665Z"
   },
   {
    "duration": 10,
    "start_time": "2022-06-16T10:42:26.118Z"
   },
   {
    "duration": 89,
    "start_time": "2022-06-16T10:42:26.130Z"
   },
   {
    "duration": 6,
    "start_time": "2022-06-16T10:42:26.220Z"
   },
   {
    "duration": 78,
    "start_time": "2022-06-16T10:42:26.228Z"
   },
   {
    "duration": 3,
    "start_time": "2022-06-16T10:42:26.308Z"
   },
   {
    "duration": 90,
    "start_time": "2022-06-16T10:42:26.312Z"
   },
   {
    "duration": 5,
    "start_time": "2022-06-16T10:42:26.404Z"
   },
   {
    "duration": 5,
    "start_time": "2022-06-16T10:42:26.411Z"
   },
   {
    "duration": 45,
    "start_time": "2022-06-16T10:42:26.418Z"
   },
   {
    "duration": 52,
    "start_time": "2022-06-16T10:42:26.465Z"
   },
   {
    "duration": 17,
    "start_time": "2022-06-16T10:42:26.519Z"
   },
   {
    "duration": 20,
    "start_time": "2022-06-16T10:42:26.537Z"
   },
   {
    "duration": 13,
    "start_time": "2022-06-16T10:42:26.558Z"
   },
   {
    "duration": 35,
    "start_time": "2022-06-16T10:42:26.572Z"
   },
   {
    "duration": 18,
    "start_time": "2022-06-16T10:42:26.608Z"
   },
   {
    "duration": 26,
    "start_time": "2022-06-16T10:42:26.627Z"
   },
   {
    "duration": 8,
    "start_time": "2022-06-16T10:42:26.655Z"
   },
   {
    "duration": 6,
    "start_time": "2022-06-16T10:42:26.695Z"
   },
   {
    "duration": 14,
    "start_time": "2022-06-16T10:42:26.702Z"
   },
   {
    "duration": 22,
    "start_time": "2022-06-16T10:42:26.718Z"
   },
   {
    "duration": 5,
    "start_time": "2022-06-16T10:42:26.742Z"
   },
   {
    "duration": 46,
    "start_time": "2022-06-16T10:42:26.749Z"
   },
   {
    "duration": 4,
    "start_time": "2022-06-16T10:42:26.797Z"
   },
   {
    "duration": 76,
    "start_time": "2022-06-16T10:42:26.802Z"
   },
   {
    "duration": 24,
    "start_time": "2022-06-16T10:42:26.880Z"
   },
   {
    "duration": 6,
    "start_time": "2022-06-16T10:42:26.907Z"
   },
   {
    "duration": 27,
    "start_time": "2022-06-16T10:43:07.999Z"
   },
   {
    "duration": 9,
    "start_time": "2022-06-16T10:43:15.417Z"
   },
   {
    "duration": 777,
    "start_time": "2022-06-16T10:43:18.880Z"
   },
   {
    "duration": 831,
    "start_time": "2022-06-16T10:43:39.277Z"
   },
   {
    "duration": 3,
    "start_time": "2022-06-16T10:43:50.901Z"
   },
   {
    "duration": 358,
    "start_time": "2022-06-16T10:43:50.906Z"
   },
   {
    "duration": 459,
    "start_time": "2022-06-16T10:43:51.266Z"
   },
   {
    "duration": 10,
    "start_time": "2022-06-16T10:43:51.727Z"
   },
   {
    "duration": 95,
    "start_time": "2022-06-16T10:43:51.739Z"
   },
   {
    "duration": 5,
    "start_time": "2022-06-16T10:43:51.835Z"
   },
   {
    "duration": 76,
    "start_time": "2022-06-16T10:43:51.842Z"
   },
   {
    "duration": 3,
    "start_time": "2022-06-16T10:43:51.920Z"
   },
   {
    "duration": 163,
    "start_time": "2022-06-16T10:43:51.925Z"
   },
   {
    "duration": 7,
    "start_time": "2022-06-16T10:43:52.089Z"
   },
   {
    "duration": 7,
    "start_time": "2022-06-16T10:43:52.098Z"
   },
   {
    "duration": 49,
    "start_time": "2022-06-16T10:43:52.106Z"
   },
   {
    "duration": 38,
    "start_time": "2022-06-16T10:43:52.156Z"
   },
   {
    "duration": 18,
    "start_time": "2022-06-16T10:43:52.195Z"
   },
   {
    "duration": 16,
    "start_time": "2022-06-16T10:43:52.214Z"
   },
   {
    "duration": 13,
    "start_time": "2022-06-16T10:43:52.232Z"
   },
   {
    "duration": 13,
    "start_time": "2022-06-16T10:43:52.246Z"
   },
   {
    "duration": 44,
    "start_time": "2022-06-16T10:43:52.260Z"
   },
   {
    "duration": 21,
    "start_time": "2022-06-16T10:43:52.305Z"
   },
   {
    "duration": 7,
    "start_time": "2022-06-16T10:43:52.328Z"
   },
   {
    "duration": 6,
    "start_time": "2022-06-16T10:43:52.336Z"
   },
   {
    "duration": 15,
    "start_time": "2022-06-16T10:43:52.353Z"
   },
   {
    "duration": 35,
    "start_time": "2022-06-16T10:43:52.370Z"
   },
   {
    "duration": 5,
    "start_time": "2022-06-16T10:43:52.407Z"
   },
   {
    "duration": 23,
    "start_time": "2022-06-16T10:43:52.413Z"
   },
   {
    "duration": 4,
    "start_time": "2022-06-16T10:43:52.437Z"
   },
   {
    "duration": 90,
    "start_time": "2022-06-16T10:43:52.442Z"
   },
   {
    "duration": 11,
    "start_time": "2022-06-16T10:43:52.534Z"
   },
   {
    "duration": 6,
    "start_time": "2022-06-16T10:43:52.548Z"
   },
   {
    "duration": 10,
    "start_time": "2022-06-16T10:43:52.555Z"
   },
   {
    "duration": 31,
    "start_time": "2022-06-16T10:43:52.567Z"
   },
   {
    "duration": 11,
    "start_time": "2022-06-16T10:43:52.599Z"
   },
   {
    "duration": 10,
    "start_time": "2022-06-16T10:43:52.611Z"
   },
   {
    "duration": 25,
    "start_time": "2022-06-16T10:43:52.623Z"
   },
   {
    "duration": 7,
    "start_time": "2022-06-16T10:43:52.649Z"
   },
   {
    "duration": 7,
    "start_time": "2022-06-16T10:43:57.963Z"
   },
   {
    "duration": 1165,
    "start_time": "2022-06-16T13:55:39.287Z"
   },
   {
    "duration": 983,
    "start_time": "2022-06-16T13:55:40.454Z"
   },
   {
    "duration": 418,
    "start_time": "2022-06-16T13:55:41.438Z"
   },
   {
    "duration": 93,
    "start_time": "2022-06-16T13:55:41.858Z"
   },
   {
    "duration": 5,
    "start_time": "2022-06-16T13:55:41.953Z"
   },
   {
    "duration": 67,
    "start_time": "2022-06-16T13:55:41.959Z"
   },
   {
    "duration": 2,
    "start_time": "2022-06-16T13:55:42.028Z"
   },
   {
    "duration": 106,
    "start_time": "2022-06-16T13:55:42.032Z"
   },
   {
    "duration": 6,
    "start_time": "2022-06-16T13:55:43.155Z"
   },
   {
    "duration": 6,
    "start_time": "2022-06-16T13:55:43.713Z"
   },
   {
    "duration": 5,
    "start_time": "2022-06-16T13:55:48.246Z"
   },
   {
    "duration": 2848,
    "start_time": "2022-06-16T13:58:50.693Z"
   },
   {
    "duration": 10,
    "start_time": "2022-06-16T14:11:16.901Z"
   },
   {
    "duration": 3,
    "start_time": "2022-06-16T14:11:24.286Z"
   },
   {
    "duration": 358,
    "start_time": "2022-06-16T14:11:24.463Z"
   },
   {
    "duration": 399,
    "start_time": "2022-06-16T14:11:24.853Z"
   },
   {
    "duration": 63,
    "start_time": "2022-06-16T14:11:26.042Z"
   },
   {
    "duration": 5,
    "start_time": "2022-06-16T14:11:26.207Z"
   },
   {
    "duration": 52,
    "start_time": "2022-06-16T14:11:26.675Z"
   },
   {
    "duration": 4,
    "start_time": "2022-06-16T14:11:26.947Z"
   },
   {
    "duration": 67,
    "start_time": "2022-06-16T14:11:27.168Z"
   },
   {
    "duration": 6,
    "start_time": "2022-06-16T14:11:27.706Z"
   },
   {
    "duration": 5,
    "start_time": "2022-06-16T14:11:37.808Z"
   },
   {
    "duration": 43,
    "start_time": "2022-06-16T14:12:01.293Z"
   },
   {
    "duration": 31,
    "start_time": "2022-06-16T14:12:01.855Z"
   },
   {
    "duration": 18,
    "start_time": "2022-06-16T14:12:05.004Z"
   },
   {
    "duration": 16,
    "start_time": "2022-06-16T14:12:10.665Z"
   },
   {
    "duration": 8,
    "start_time": "2022-06-16T15:15:03.800Z"
   },
   {
    "duration": 50,
    "start_time": "2022-06-16T15:15:07.581Z"
   },
   {
    "duration": 32,
    "start_time": "2022-06-16T15:15:10.584Z"
   },
   {
    "duration": 8,
    "start_time": "2022-06-16T15:15:36.202Z"
   },
   {
    "duration": 43,
    "start_time": "2022-06-16T15:15:37.930Z"
   },
   {
    "duration": 34,
    "start_time": "2022-06-16T15:15:40.417Z"
   },
   {
    "duration": 17,
    "start_time": "2022-06-16T15:15:43.452Z"
   },
   {
    "duration": 16,
    "start_time": "2022-06-16T15:15:46.140Z"
   },
   {
    "duration": 18,
    "start_time": "2022-06-16T15:15:48.992Z"
   },
   {
    "duration": 13,
    "start_time": "2022-06-16T15:15:51.142Z"
   },
   {
    "duration": 17,
    "start_time": "2022-06-16T15:15:54.145Z"
   },
   {
    "duration": 21,
    "start_time": "2022-06-16T15:15:54.942Z"
   },
   {
    "duration": 7,
    "start_time": "2022-06-16T15:16:36.547Z"
   },
   {
    "duration": 5,
    "start_time": "2022-06-16T15:16:36.738Z"
   },
   {
    "duration": 10,
    "start_time": "2022-06-16T15:16:36.906Z"
   },
   {
    "duration": 24,
    "start_time": "2022-06-16T15:16:37.289Z"
   },
   {
    "duration": 5,
    "start_time": "2022-06-16T15:16:37.783Z"
   },
   {
    "duration": 19,
    "start_time": "2022-06-16T15:16:38.502Z"
   },
   {
    "duration": 3,
    "start_time": "2022-06-16T15:16:38.898Z"
   },
   {
    "duration": 124,
    "start_time": "2022-06-16T15:16:42.841Z"
   },
   {
    "duration": 10,
    "start_time": "2022-06-16T15:16:43.479Z"
   },
   {
    "duration": 20,
    "start_time": "2022-06-16T15:16:44.150Z"
   },
   {
    "duration": 28,
    "start_time": "2022-06-16T15:16:48.177Z"
   },
   {
    "duration": 4,
    "start_time": "2022-06-16T15:17:50.450Z"
   },
   {
    "duration": 16,
    "start_time": "2022-06-16T15:17:51.206Z"
   },
   {
    "duration": 22,
    "start_time": "2022-06-16T15:18:01.881Z"
   },
   {
    "duration": 4,
    "start_time": "2022-06-16T15:18:02.772Z"
   },
   {
    "duration": 3,
    "start_time": "2022-06-16T15:18:08.141Z"
   },
   {
    "duration": 391,
    "start_time": "2022-06-16T15:18:08.145Z"
   },
   {
    "duration": 393,
    "start_time": "2022-06-16T15:18:08.538Z"
   },
   {
    "duration": 96,
    "start_time": "2022-06-16T15:18:08.932Z"
   },
   {
    "duration": 5,
    "start_time": "2022-06-16T15:18:09.030Z"
   },
   {
    "duration": 74,
    "start_time": "2022-06-16T15:18:09.037Z"
   },
   {
    "duration": 3,
    "start_time": "2022-06-16T15:18:09.112Z"
   },
   {
    "duration": 86,
    "start_time": "2022-06-16T15:18:09.117Z"
   },
   {
    "duration": 6,
    "start_time": "2022-06-16T15:18:09.205Z"
   },
   {
    "duration": 43,
    "start_time": "2022-06-16T15:18:09.213Z"
   },
   {
    "duration": 36,
    "start_time": "2022-06-16T15:18:09.258Z"
   },
   {
    "duration": 20,
    "start_time": "2022-06-16T15:18:09.296Z"
   },
   {
    "duration": 15,
    "start_time": "2022-06-16T15:18:09.317Z"
   },
   {
    "duration": 3,
    "start_time": "2022-06-16T15:18:09.333Z"
   },
   {
    "duration": 16,
    "start_time": "2022-06-16T15:18:09.338Z"
   },
   {
    "duration": 43,
    "start_time": "2022-06-16T15:18:09.355Z"
   },
   {
    "duration": 20,
    "start_time": "2022-06-16T15:18:09.399Z"
   },
   {
    "duration": 21,
    "start_time": "2022-06-16T15:18:09.421Z"
   },
   {
    "duration": 6,
    "start_time": "2022-06-16T15:18:09.444Z"
   },
   {
    "duration": 4,
    "start_time": "2022-06-16T15:18:09.451Z"
   },
   {
    "duration": 7,
    "start_time": "2022-06-16T15:18:09.457Z"
   },
   {
    "duration": 51,
    "start_time": "2022-06-16T15:18:09.466Z"
   },
   {
    "duration": 4,
    "start_time": "2022-06-16T15:18:09.519Z"
   },
   {
    "duration": 20,
    "start_time": "2022-06-16T15:18:09.525Z"
   },
   {
    "duration": 3,
    "start_time": "2022-06-16T15:18:09.546Z"
   },
   {
    "duration": 73,
    "start_time": "2022-06-16T15:18:09.551Z"
   },
   {
    "duration": 12,
    "start_time": "2022-06-16T15:18:09.626Z"
   },
   {
    "duration": 15,
    "start_time": "2022-06-16T15:18:09.639Z"
   },
   {
    "duration": 0,
    "start_time": "2022-06-16T15:18:09.655Z"
   },
   {
    "duration": 0,
    "start_time": "2022-06-16T15:18:09.656Z"
   },
   {
    "duration": 0,
    "start_time": "2022-06-16T15:18:09.657Z"
   },
   {
    "duration": 0,
    "start_time": "2022-06-16T15:18:09.658Z"
   },
   {
    "duration": 0,
    "start_time": "2022-06-16T15:18:09.659Z"
   },
   {
    "duration": 0,
    "start_time": "2022-06-16T15:18:09.660Z"
   },
   {
    "duration": 0,
    "start_time": "2022-06-16T15:18:09.660Z"
   },
   {
    "duration": 0,
    "start_time": "2022-06-16T15:18:09.661Z"
   },
   {
    "duration": 0,
    "start_time": "2022-06-16T15:18:09.662Z"
   },
   {
    "duration": 0,
    "start_time": "2022-06-16T15:18:09.663Z"
   },
   {
    "duration": 16,
    "start_time": "2022-06-16T15:19:05.244Z"
   },
   {
    "duration": 25,
    "start_time": "2022-06-16T15:19:44.986Z"
   },
   {
    "duration": 19,
    "start_time": "2022-06-16T15:19:57.682Z"
   },
   {
    "duration": 97,
    "start_time": "2022-06-16T15:20:25.095Z"
   },
   {
    "duration": 9,
    "start_time": "2022-06-16T15:20:26.119Z"
   },
   {
    "duration": 9,
    "start_time": "2022-06-16T15:20:26.342Z"
   },
   {
    "duration": 20,
    "start_time": "2022-06-16T15:20:27.487Z"
   },
   {
    "duration": 26,
    "start_time": "2022-06-16T15:20:36.773Z"
   },
   {
    "duration": 10,
    "start_time": "2022-06-16T15:20:37.670Z"
   },
   {
    "duration": 9,
    "start_time": "2022-06-16T15:20:38.076Z"
   },
   {
    "duration": 10,
    "start_time": "2022-06-16T15:20:38.328Z"
   },
   {
    "duration": 10,
    "start_time": "2022-06-16T15:20:38.847Z"
   },
   {
    "duration": 35,
    "start_time": "2022-06-16T15:20:39.371Z"
   },
   {
    "duration": 7,
    "start_time": "2022-06-16T15:20:39.771Z"
   },
   {
    "duration": 224,
    "start_time": "2022-06-16T15:20:40.501Z"
   },
   {
    "duration": 558,
    "start_time": "2022-06-16T15:21:46.272Z"
   },
   {
    "duration": 481,
    "start_time": "2022-06-16T15:21:58.009Z"
   },
   {
    "duration": 493,
    "start_time": "2022-06-16T15:21:58.669Z"
   },
   {
    "duration": 11,
    "start_time": "2022-06-16T15:23:49.715Z"
   },
   {
    "duration": 14,
    "start_time": "2022-06-16T15:24:06.958Z"
   },
   {
    "duration": 11,
    "start_time": "2022-06-16T15:35:16.726Z"
   },
   {
    "duration": 12,
    "start_time": "2022-06-16T15:35:19.417Z"
   },
   {
    "duration": 1015,
    "start_time": "2022-06-16T15:35:32.702Z"
   },
   {
    "duration": 365,
    "start_time": "2022-06-16T15:35:33.718Z"
   },
   {
    "duration": 446,
    "start_time": "2022-06-16T15:35:34.085Z"
   },
   {
    "duration": 85,
    "start_time": "2022-06-16T15:35:34.532Z"
   },
   {
    "duration": 4,
    "start_time": "2022-06-16T15:35:34.619Z"
   },
   {
    "duration": 79,
    "start_time": "2022-06-16T15:35:34.624Z"
   },
   {
    "duration": 4,
    "start_time": "2022-06-16T15:35:34.705Z"
   },
   {
    "duration": 70,
    "start_time": "2022-06-16T15:35:34.710Z"
   },
   {
    "duration": 21,
    "start_time": "2022-06-16T15:35:34.781Z"
   },
   {
    "duration": 43,
    "start_time": "2022-06-16T15:35:34.804Z"
   },
   {
    "duration": 29,
    "start_time": "2022-06-16T15:35:34.849Z"
   },
   {
    "duration": 31,
    "start_time": "2022-06-16T15:35:34.879Z"
   },
   {
    "duration": 15,
    "start_time": "2022-06-16T15:35:34.911Z"
   },
   {
    "duration": 3,
    "start_time": "2022-06-16T15:35:34.927Z"
   },
   {
    "duration": 15,
    "start_time": "2022-06-16T15:35:34.932Z"
   },
   {
    "duration": 11,
    "start_time": "2022-06-16T15:35:34.948Z"
   },
   {
    "duration": 45,
    "start_time": "2022-06-16T15:35:34.961Z"
   },
   {
    "duration": 21,
    "start_time": "2022-06-16T15:35:35.007Z"
   },
   {
    "duration": 7,
    "start_time": "2022-06-16T15:35:35.029Z"
   },
   {
    "duration": 4,
    "start_time": "2022-06-16T15:35:35.037Z"
   },
   {
    "duration": 8,
    "start_time": "2022-06-16T15:35:35.042Z"
   },
   {
    "duration": 17,
    "start_time": "2022-06-16T15:35:35.052Z"
   },
   {
    "duration": 32,
    "start_time": "2022-06-16T15:35:35.071Z"
   },
   {
    "duration": 20,
    "start_time": "2022-06-16T15:35:35.106Z"
   },
   {
    "duration": 3,
    "start_time": "2022-06-16T15:35:35.127Z"
   },
   {
    "duration": 75,
    "start_time": "2022-06-16T15:35:35.131Z"
   },
   {
    "duration": 10,
    "start_time": "2022-06-16T15:35:35.207Z"
   },
   {
    "duration": 18,
    "start_time": "2022-06-16T15:35:35.219Z"
   },
   {
    "duration": 39,
    "start_time": "2022-06-16T15:35:35.238Z"
   },
   {
    "duration": 31,
    "start_time": "2022-06-16T15:35:35.278Z"
   },
   {
    "duration": 9,
    "start_time": "2022-06-16T15:35:35.311Z"
   },
   {
    "duration": 7,
    "start_time": "2022-06-16T15:35:35.321Z"
   },
   {
    "duration": 92,
    "start_time": "2022-06-16T15:35:35.329Z"
   },
   {
    "duration": 0,
    "start_time": "2022-06-16T15:35:35.422Z"
   },
   {
    "duration": 0,
    "start_time": "2022-06-16T15:35:35.423Z"
   },
   {
    "duration": 0,
    "start_time": "2022-06-16T15:35:35.424Z"
   },
   {
    "duration": 8,
    "start_time": "2022-06-16T15:38:00.442Z"
   },
   {
    "duration": 7,
    "start_time": "2022-06-16T15:38:02.980Z"
   },
   {
    "duration": 7,
    "start_time": "2022-06-16T15:38:09.328Z"
   },
   {
    "duration": 8,
    "start_time": "2022-06-16T15:39:28.822Z"
   },
   {
    "duration": 954,
    "start_time": "2022-06-16T15:39:41.451Z"
   },
   {
    "duration": 542,
    "start_time": "2022-06-16T15:39:50.883Z"
   },
   {
    "duration": 224,
    "start_time": "2022-06-16T15:40:01.382Z"
   },
   {
    "duration": 155,
    "start_time": "2022-06-16T15:40:58.428Z"
   },
   {
    "duration": 203,
    "start_time": "2022-06-16T15:41:02.608Z"
   },
   {
    "duration": 295,
    "start_time": "2022-06-16T15:42:23.550Z"
   },
   {
    "duration": 10,
    "start_time": "2022-06-16T15:45:45.305Z"
   },
   {
    "duration": 14,
    "start_time": "2022-06-16T16:15:23.844Z"
   },
   {
    "duration": 13,
    "start_time": "2022-06-16T16:15:34.975Z"
   },
   {
    "duration": 16,
    "start_time": "2022-06-16T16:17:28.486Z"
   },
   {
    "duration": 16,
    "start_time": "2022-06-16T16:17:41.941Z"
   },
   {
    "duration": 8,
    "start_time": "2022-06-16T16:20:38.204Z"
   },
   {
    "duration": 7,
    "start_time": "2022-06-16T16:21:38.420Z"
   },
   {
    "duration": 21,
    "start_time": "2022-06-16T16:21:45.251Z"
   },
   {
    "duration": 1006,
    "start_time": "2022-06-16T16:29:47.401Z"
   },
   {
    "duration": 363,
    "start_time": "2022-06-16T16:29:48.408Z"
   },
   {
    "duration": 456,
    "start_time": "2022-06-16T16:29:48.773Z"
   },
   {
    "duration": 83,
    "start_time": "2022-06-16T16:29:49.231Z"
   },
   {
    "duration": 4,
    "start_time": "2022-06-16T16:29:49.316Z"
   },
   {
    "duration": 81,
    "start_time": "2022-06-16T16:29:49.321Z"
   },
   {
    "duration": 4,
    "start_time": "2022-06-16T16:29:49.403Z"
   },
   {
    "duration": 89,
    "start_time": "2022-06-16T16:29:49.408Z"
   },
   {
    "duration": 7,
    "start_time": "2022-06-16T16:29:49.498Z"
   },
   {
    "duration": 42,
    "start_time": "2022-06-16T16:29:49.508Z"
   },
   {
    "duration": 4,
    "start_time": "2022-06-16T16:29:49.552Z"
   },
   {
    "duration": 54,
    "start_time": "2022-06-16T16:29:49.557Z"
   },
   {
    "duration": 19,
    "start_time": "2022-06-16T16:29:49.613Z"
   },
   {
    "duration": 16,
    "start_time": "2022-06-16T16:29:49.633Z"
   },
   {
    "duration": 3,
    "start_time": "2022-06-16T16:29:49.651Z"
   },
   {
    "duration": 37,
    "start_time": "2022-06-16T16:29:49.655Z"
   },
   {
    "duration": 13,
    "start_time": "2022-06-16T16:29:49.693Z"
   },
   {
    "duration": 16,
    "start_time": "2022-06-16T16:29:49.708Z"
   },
   {
    "duration": 20,
    "start_time": "2022-06-16T16:29:49.726Z"
   },
   {
    "duration": 6,
    "start_time": "2022-06-16T16:29:49.747Z"
   },
   {
    "duration": 4,
    "start_time": "2022-06-16T16:29:49.754Z"
   },
   {
    "duration": 36,
    "start_time": "2022-06-16T16:29:49.759Z"
   },
   {
    "duration": 16,
    "start_time": "2022-06-16T16:29:49.797Z"
   },
   {
    "duration": 5,
    "start_time": "2022-06-16T16:29:49.814Z"
   },
   {
    "duration": 19,
    "start_time": "2022-06-16T16:29:49.821Z"
   },
   {
    "duration": 3,
    "start_time": "2022-06-16T16:29:49.842Z"
   },
   {
    "duration": 89,
    "start_time": "2022-06-16T16:29:49.846Z"
   },
   {
    "duration": 12,
    "start_time": "2022-06-16T16:29:49.937Z"
   },
   {
    "duration": 20,
    "start_time": "2022-06-16T16:29:49.950Z"
   },
   {
    "duration": 53,
    "start_time": "2022-06-16T16:29:49.971Z"
   },
   {
    "duration": 162,
    "start_time": "2022-06-16T16:29:50.025Z"
   },
   {
    "duration": 9,
    "start_time": "2022-06-16T16:29:50.190Z"
   },
   {
    "duration": 200,
    "start_time": "2022-06-16T16:29:50.200Z"
   },
   {
    "duration": 8,
    "start_time": "2022-06-16T16:29:50.401Z"
   },
   {
    "duration": 190,
    "start_time": "2022-06-16T16:29:50.411Z"
   },
   {
    "duration": 8,
    "start_time": "2022-06-16T16:29:50.603Z"
   },
   {
    "duration": 3,
    "start_time": "2022-06-16T16:29:50.613Z"
   },
   {
    "duration": 0,
    "start_time": "2022-06-16T16:29:50.617Z"
   },
   {
    "duration": 0,
    "start_time": "2022-06-16T16:29:50.618Z"
   },
   {
    "duration": 0,
    "start_time": "2022-06-16T16:29:50.619Z"
   },
   {
    "duration": 9,
    "start_time": "2022-06-16T16:30:22.284Z"
   },
   {
    "duration": 7,
    "start_time": "2022-06-16T16:30:24.462Z"
   },
   {
    "duration": 1010,
    "start_time": "2022-06-16T16:32:19.289Z"
   },
   {
    "duration": 347,
    "start_time": "2022-06-16T16:32:20.301Z"
   },
   {
    "duration": 443,
    "start_time": "2022-06-16T16:32:20.649Z"
   },
   {
    "duration": 62,
    "start_time": "2022-06-16T16:32:21.093Z"
   },
   {
    "duration": 5,
    "start_time": "2022-06-16T16:32:21.157Z"
   },
   {
    "duration": 68,
    "start_time": "2022-06-16T16:32:21.163Z"
   },
   {
    "duration": 3,
    "start_time": "2022-06-16T16:32:21.232Z"
   },
   {
    "duration": 92,
    "start_time": "2022-06-16T16:32:21.236Z"
   },
   {
    "duration": 6,
    "start_time": "2022-06-16T16:32:21.329Z"
   },
   {
    "duration": 48,
    "start_time": "2022-06-16T16:32:21.336Z"
   },
   {
    "duration": 4,
    "start_time": "2022-06-16T16:32:21.390Z"
   },
   {
    "duration": 36,
    "start_time": "2022-06-16T16:32:21.395Z"
   },
   {
    "duration": 16,
    "start_time": "2022-06-16T16:32:21.433Z"
   },
   {
    "duration": 16,
    "start_time": "2022-06-16T16:32:21.453Z"
   },
   {
    "duration": 2,
    "start_time": "2022-06-16T16:32:21.471Z"
   },
   {
    "duration": 14,
    "start_time": "2022-06-16T16:32:21.492Z"
   },
   {
    "duration": 14,
    "start_time": "2022-06-16T16:32:21.507Z"
   },
   {
    "duration": 17,
    "start_time": "2022-06-16T16:32:21.522Z"
   },
   {
    "duration": 19,
    "start_time": "2022-06-16T16:32:21.540Z"
   },
   {
    "duration": 34,
    "start_time": "2022-06-16T16:32:21.561Z"
   },
   {
    "duration": 11,
    "start_time": "2022-06-16T16:32:21.596Z"
   },
   {
    "duration": 11,
    "start_time": "2022-06-16T16:32:21.609Z"
   },
   {
    "duration": 17,
    "start_time": "2022-06-16T16:32:21.621Z"
   },
   {
    "duration": 5,
    "start_time": "2022-06-16T16:32:21.639Z"
   },
   {
    "duration": 22,
    "start_time": "2022-06-16T16:32:21.645Z"
   },
   {
    "duration": 4,
    "start_time": "2022-06-16T16:32:21.669Z"
   },
   {
    "duration": 80,
    "start_time": "2022-06-16T16:32:21.674Z"
   },
   {
    "duration": 14,
    "start_time": "2022-06-16T16:32:21.755Z"
   },
   {
    "duration": 31,
    "start_time": "2022-06-16T16:32:21.771Z"
   },
   {
    "duration": 38,
    "start_time": "2022-06-16T16:32:21.803Z"
   },
   {
    "duration": 174,
    "start_time": "2022-06-16T16:32:21.843Z"
   },
   {
    "duration": 9,
    "start_time": "2022-06-16T16:32:22.018Z"
   },
   {
    "duration": 198,
    "start_time": "2022-06-16T16:32:22.028Z"
   },
   {
    "duration": 8,
    "start_time": "2022-06-16T16:32:22.228Z"
   },
   {
    "duration": 209,
    "start_time": "2022-06-16T16:32:22.237Z"
   },
   {
    "duration": 8,
    "start_time": "2022-06-16T16:32:22.448Z"
   },
   {
    "duration": 26,
    "start_time": "2022-06-16T16:32:22.457Z"
   },
   {
    "duration": 37,
    "start_time": "2022-06-16T16:32:22.484Z"
   },
   {
    "duration": 62,
    "start_time": "2022-06-16T16:32:22.522Z"
   },
   {
    "duration": 4,
    "start_time": "2022-06-16T16:32:56.985Z"
   },
   {
    "duration": 13,
    "start_time": "2022-06-16T16:32:58.632Z"
   },
   {
    "duration": 14,
    "start_time": "2022-06-16T16:32:59.539Z"
   },
   {
    "duration": 18,
    "start_time": "2022-06-16T16:33:00.754Z"
   },
   {
    "duration": 22,
    "start_time": "2022-06-16T16:33:02.488Z"
   },
   {
    "duration": 7,
    "start_time": "2022-06-16T16:33:03.548Z"
   },
   {
    "duration": 5,
    "start_time": "2022-06-16T16:33:03.753Z"
   },
   {
    "duration": 7,
    "start_time": "2022-06-16T16:33:04.057Z"
   },
   {
    "duration": 19,
    "start_time": "2022-06-16T16:33:04.334Z"
   },
   {
    "duration": 5,
    "start_time": "2022-06-16T16:33:04.563Z"
   },
   {
    "duration": 20,
    "start_time": "2022-06-16T16:33:04.833Z"
   },
   {
    "duration": 4,
    "start_time": "2022-06-16T16:33:05.048Z"
   },
   {
    "duration": 19,
    "start_time": "2022-06-16T16:33:11.088Z"
   },
   {
    "duration": 36,
    "start_time": "2022-06-16T16:33:37.027Z"
   },
   {
    "duration": 617,
    "start_time": "2022-06-16T16:33:41.987Z"
   },
   {
    "duration": 4,
    "start_time": "2022-06-16T16:34:25.481Z"
   },
   {
    "duration": 13,
    "start_time": "2022-06-16T16:34:28.245Z"
   },
   {
    "duration": 18,
    "start_time": "2022-06-16T16:34:33.517Z"
   },
   {
    "duration": 17,
    "start_time": "2022-06-16T16:34:36.223Z"
   },
   {
    "duration": 21,
    "start_time": "2022-06-16T16:34:36.492Z"
   },
   {
    "duration": 7,
    "start_time": "2022-06-16T16:34:37.345Z"
   },
   {
    "duration": 5,
    "start_time": "2022-06-16T16:34:37.589Z"
   },
   {
    "duration": 8,
    "start_time": "2022-06-16T16:34:37.792Z"
   },
   {
    "duration": 19,
    "start_time": "2022-06-16T16:34:37.955Z"
   },
   {
    "duration": 5,
    "start_time": "2022-06-16T16:34:38.154Z"
   },
   {
    "duration": 19,
    "start_time": "2022-06-16T16:34:38.342Z"
   },
   {
    "duration": 4,
    "start_time": "2022-06-16T16:34:38.527Z"
   },
   {
    "duration": 65,
    "start_time": "2022-06-16T16:34:38.914Z"
   },
   {
    "duration": 12,
    "start_time": "2022-06-16T16:34:39.100Z"
   },
   {
    "duration": 20,
    "start_time": "2022-06-16T16:34:39.303Z"
   },
   {
    "duration": 9,
    "start_time": "2022-06-16T16:34:40.289Z"
   },
   {
    "duration": 158,
    "start_time": "2022-06-16T16:34:40.490Z"
   },
   {
    "duration": 9,
    "start_time": "2022-06-16T16:34:40.850Z"
   },
   {
    "duration": 190,
    "start_time": "2022-06-16T16:34:41.057Z"
   },
   {
    "duration": 10,
    "start_time": "2022-06-16T16:34:41.290Z"
   },
   {
    "duration": 180,
    "start_time": "2022-06-16T16:34:41.586Z"
   },
   {
    "duration": 9,
    "start_time": "2022-06-16T16:34:42.031Z"
   },
   {
    "duration": 11,
    "start_time": "2022-06-16T16:34:43.915Z"
   },
   {
    "duration": 9,
    "start_time": "2022-06-16T16:34:46.346Z"
   },
   {
    "duration": 151,
    "start_time": "2022-06-16T16:47:04.481Z"
   },
   {
    "duration": 149,
    "start_time": "2022-06-16T16:47:13.422Z"
   },
   {
    "duration": 166,
    "start_time": "2022-06-16T16:47:46.592Z"
   },
   {
    "duration": 146,
    "start_time": "2022-06-16T16:48:19.528Z"
   },
   {
    "duration": 1025,
    "start_time": "2022-06-16T17:33:25.605Z"
   },
   {
    "duration": 375,
    "start_time": "2022-06-16T17:33:26.632Z"
   },
   {
    "duration": 482,
    "start_time": "2022-06-16T17:33:27.009Z"
   },
   {
    "duration": 61,
    "start_time": "2022-06-16T17:33:27.505Z"
   },
   {
    "duration": 4,
    "start_time": "2022-06-16T17:33:27.568Z"
   },
   {
    "duration": 74,
    "start_time": "2022-06-16T17:33:27.573Z"
   },
   {
    "duration": 3,
    "start_time": "2022-06-16T17:33:27.648Z"
   },
   {
    "duration": 95,
    "start_time": "2022-06-16T17:33:27.652Z"
   },
   {
    "duration": 6,
    "start_time": "2022-06-16T17:33:27.748Z"
   },
   {
    "duration": 57,
    "start_time": "2022-06-16T17:33:27.755Z"
   },
   {
    "duration": 4,
    "start_time": "2022-06-16T17:33:27.813Z"
   },
   {
    "duration": 42,
    "start_time": "2022-06-16T17:33:27.818Z"
   },
   {
    "duration": 173,
    "start_time": "2022-06-16T17:33:27.861Z"
   },
   {
    "duration": 17,
    "start_time": "2022-06-16T17:33:28.037Z"
   },
   {
    "duration": 189,
    "start_time": "2022-06-16T17:33:28.055Z"
   },
   {
    "duration": 17,
    "start_time": "2022-06-16T17:33:28.245Z"
   },
   {
    "duration": 3,
    "start_time": "2022-06-16T17:33:28.263Z"
   },
   {
    "duration": 167,
    "start_time": "2022-06-16T17:33:28.267Z"
   },
   {
    "duration": 13,
    "start_time": "2022-06-16T17:33:28.436Z"
   },
   {
    "duration": 13,
    "start_time": "2022-06-16T17:33:28.450Z"
   },
   {
    "duration": 39,
    "start_time": "2022-06-16T17:33:28.464Z"
   },
   {
    "duration": 20,
    "start_time": "2022-06-16T17:33:28.504Z"
   },
   {
    "duration": 6,
    "start_time": "2022-06-16T17:33:28.526Z"
   },
   {
    "duration": 5,
    "start_time": "2022-06-16T17:33:28.533Z"
   },
   {
    "duration": 9,
    "start_time": "2022-06-16T17:33:28.539Z"
   },
   {
    "duration": 55,
    "start_time": "2022-06-16T17:33:28.549Z"
   },
   {
    "duration": 5,
    "start_time": "2022-06-16T17:33:28.605Z"
   },
   {
    "duration": 32,
    "start_time": "2022-06-16T17:33:28.612Z"
   },
   {
    "duration": 3,
    "start_time": "2022-06-16T17:33:28.645Z"
   },
   {
    "duration": 81,
    "start_time": "2022-06-16T17:33:28.649Z"
   },
   {
    "duration": 12,
    "start_time": "2022-06-16T17:33:28.732Z"
   },
   {
    "duration": 19,
    "start_time": "2022-06-16T17:33:28.745Z"
   },
   {
    "duration": 67,
    "start_time": "2022-06-16T17:33:28.765Z"
   },
   {
    "duration": 219,
    "start_time": "2022-06-16T17:33:28.833Z"
   },
   {
    "duration": 9,
    "start_time": "2022-06-16T17:33:29.053Z"
   },
   {
    "duration": 215,
    "start_time": "2022-06-16T17:33:29.063Z"
   },
   {
    "duration": 25,
    "start_time": "2022-06-16T17:33:29.280Z"
   },
   {
    "duration": 181,
    "start_time": "2022-06-16T17:33:29.307Z"
   },
   {
    "duration": 15,
    "start_time": "2022-06-16T17:33:29.491Z"
   },
   {
    "duration": 12,
    "start_time": "2022-06-16T17:33:29.508Z"
   },
   {
    "duration": 6,
    "start_time": "2022-06-16T17:33:29.523Z"
   },
   {
    "duration": 6,
    "start_time": "2022-06-16T17:33:29.531Z"
   },
   {
    "duration": 1038,
    "start_time": "2022-06-16T17:42:48.284Z"
   },
   {
    "duration": 384,
    "start_time": "2022-06-16T17:42:49.324Z"
   },
   {
    "duration": 453,
    "start_time": "2022-06-16T17:42:49.709Z"
   },
   {
    "duration": 91,
    "start_time": "2022-06-16T17:42:50.164Z"
   },
   {
    "duration": 5,
    "start_time": "2022-06-16T17:42:50.256Z"
   },
   {
    "duration": 75,
    "start_time": "2022-06-16T17:42:50.262Z"
   },
   {
    "duration": 3,
    "start_time": "2022-06-16T17:42:50.339Z"
   },
   {
    "duration": 105,
    "start_time": "2022-06-16T17:42:50.343Z"
   },
   {
    "duration": 6,
    "start_time": "2022-06-16T17:42:50.449Z"
   },
   {
    "duration": 58,
    "start_time": "2022-06-16T17:42:50.458Z"
   },
   {
    "duration": 4,
    "start_time": "2022-06-16T17:42:50.517Z"
   },
   {
    "duration": 33,
    "start_time": "2022-06-16T17:42:50.522Z"
   },
   {
    "duration": 189,
    "start_time": "2022-06-16T17:42:50.556Z"
   },
   {
    "duration": 17,
    "start_time": "2022-06-16T17:42:50.747Z"
   },
   {
    "duration": 189,
    "start_time": "2022-06-16T17:42:50.765Z"
   },
   {
    "duration": 18,
    "start_time": "2022-06-16T17:42:50.956Z"
   },
   {
    "duration": 23,
    "start_time": "2022-06-16T17:42:50.976Z"
   },
   {
    "duration": 150,
    "start_time": "2022-06-16T17:42:51.006Z"
   },
   {
    "duration": 13,
    "start_time": "2022-06-16T17:42:51.157Z"
   },
   {
    "duration": 24,
    "start_time": "2022-06-16T17:42:51.172Z"
   },
   {
    "duration": 24,
    "start_time": "2022-06-16T17:42:51.197Z"
   },
   {
    "duration": 20,
    "start_time": "2022-06-16T17:42:51.222Z"
   },
   {
    "duration": 6,
    "start_time": "2022-06-16T17:42:51.244Z"
   },
   {
    "duration": 5,
    "start_time": "2022-06-16T17:42:51.251Z"
   },
   {
    "duration": 8,
    "start_time": "2022-06-16T17:42:51.257Z"
   },
   {
    "duration": 20,
    "start_time": "2022-06-16T17:42:51.291Z"
   },
   {
    "duration": 6,
    "start_time": "2022-06-16T17:42:51.313Z"
   },
   {
    "duration": 30,
    "start_time": "2022-06-16T17:42:51.321Z"
   },
   {
    "duration": 5,
    "start_time": "2022-06-16T17:42:51.352Z"
   },
   {
    "duration": 87,
    "start_time": "2022-06-16T17:42:51.358Z"
   },
   {
    "duration": 11,
    "start_time": "2022-06-16T17:42:51.446Z"
   },
   {
    "duration": 37,
    "start_time": "2022-06-16T17:42:51.458Z"
   },
   {
    "duration": 40,
    "start_time": "2022-06-16T17:42:51.497Z"
   },
   {
    "duration": 230,
    "start_time": "2022-06-16T17:42:51.538Z"
   },
   {
    "duration": 9,
    "start_time": "2022-06-16T17:42:51.769Z"
   },
   {
    "duration": 222,
    "start_time": "2022-06-16T17:42:51.779Z"
   },
   {
    "duration": 10,
    "start_time": "2022-06-16T17:42:52.003Z"
   },
   {
    "duration": 205,
    "start_time": "2022-06-16T17:42:52.015Z"
   },
   {
    "duration": 9,
    "start_time": "2022-06-16T17:42:52.222Z"
   },
   {
    "duration": 9,
    "start_time": "2022-06-16T17:42:52.233Z"
   },
   {
    "duration": 8,
    "start_time": "2022-06-16T17:42:52.243Z"
   },
   {
    "duration": 47,
    "start_time": "2022-06-20T17:23:38.734Z"
   }
  ],
  "kernelspec": {
   "display_name": "Python 3 (ipykernel)",
   "language": "python",
   "name": "python3"
  },
  "language_info": {
   "codemirror_mode": {
    "name": "ipython",
    "version": 3
   },
   "file_extension": ".py",
   "mimetype": "text/x-python",
   "name": "python",
   "nbconvert_exporter": "python",
   "pygments_lexer": "ipython3",
   "version": "3.9.7"
  },
  "toc": {
   "base_numbering": 1,
   "nav_menu": {},
   "number_sections": true,
   "sideBar": true,
   "skip_h1_title": true,
   "title_cell": "Table of Contents",
   "title_sidebar": "Contents",
   "toc_cell": false,
   "toc_position": {},
   "toc_section_display": true,
   "toc_window_display": true
  }
 },
 "nbformat": 4,
 "nbformat_minor": 2
}

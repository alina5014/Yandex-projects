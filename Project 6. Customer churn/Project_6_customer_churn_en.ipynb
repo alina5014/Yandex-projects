{
 "cells": [
  {
   "cell_type": "markdown",
   "metadata": {},
   "source": [
    "# Customer churn"
   ]
  },
  {
   "cell_type": "markdown",
   "metadata": {},
   "source": [
    "Customers began to leave Beta-Bank. Every month. A little, but noticeable. Banking marketers figured out it was cheaper to keep current customers than to attract new ones.\n",
    "\n",
    "It is necessary to predict whether the client will leave the bank in the near future or not. We are provided with historical data on customer behavior and termination of agreements with the bank.\n",
    "\n",
    "It's necessary to build a model with an extremely large *F1*-measure. It's required to bring the metric to 0.59.\n",
    "\n",
    "*AUC-ROC* should be measured and  compared  with *F1*-measure.\n",
    "\n",
    "Data Source: [https://www.kaggle.com/barelydedicated/bank-customer-churn-modeling](https://www.kaggle.com/barelydedicated/bank-customer-churn-modeling)"
   ]
  },
  {
   "cell_type": "markdown",
   "metadata": {},
   "source": [
    "The research will take place in four stages:\n",
    "\n",
    "1. Data preparation\n",
    "2. Problem research\n",
    "3. Dealing with imbalance \n",
    "4. Model testing"
   ]
  },
  {
   "cell_type": "markdown",
   "metadata": {},
   "source": [
    "## Data overview"
   ]
  },
  {
   "cell_type": "code",
   "execution_count": 1,
   "metadata": {},
   "outputs": [],
   "source": [
    "import pandas as pd\n",
    "import matplotlib.pyplot as plt\n",
    "from sklearn.utils import shuffle\n",
    "from sklearn.tree import DecisionTreeClassifier\n",
    "from sklearn.preprocessing import StandardScaler\n",
    "from sklearn.ensemble import RandomForestClassifier\n",
    "from sklearn.model_selection import train_test_split\n",
    "from sklearn.linear_model import LinearRegression,  LogisticRegression\n",
    "from sklearn.metrics import roc_auc_score, roc_curve, f1_score, accuracy_score"
   ]
  },
  {
   "cell_type": "code",
   "execution_count": 2,
   "metadata": {},
   "outputs": [],
   "source": [
    "try:\n",
    "    df = pd.read_csv('/datasets/Churn.csv')\n",
    "except: \n",
    "    df = pd.read_csv('Churn.csv')"
   ]
  },
  {
   "cell_type": "code",
   "execution_count": 4,
   "metadata": {},
   "outputs": [
    {
     "name": "stdout",
     "output_type": "stream",
     "text": [
      "<class 'pandas.core.frame.DataFrame'>\n",
      "RangeIndex: 10000 entries, 0 to 9999\n",
      "Data columns (total 14 columns):\n",
      " #   Column           Non-Null Count  Dtype  \n",
      "---  ------           --------------  -----  \n",
      " 0   RowNumber        10000 non-null  int64  \n",
      " 1   CustomerId       10000 non-null  int64  \n",
      " 2   Surname          10000 non-null  object \n",
      " 3   CreditScore      10000 non-null  int64  \n",
      " 4   Geography        10000 non-null  object \n",
      " 5   Gender           10000 non-null  object \n",
      " 6   Age              10000 non-null  int64  \n",
      " 7   Tenure           9091 non-null   float64\n",
      " 8   Balance          10000 non-null  float64\n",
      " 9   NumOfProducts    10000 non-null  int64  \n",
      " 10  HasCrCard        10000 non-null  int64  \n",
      " 11  IsActiveMember   10000 non-null  int64  \n",
      " 12  EstimatedSalary  10000 non-null  float64\n",
      " 13  Exited           10000 non-null  int64  \n",
      "dtypes: float64(3), int64(8), object(3)\n",
      "memory usage: 1.1+ MB\n",
      "====================================================================================================\n"
     ]
    },
    {
     "data": {
      "text/html": [
       "<div>\n",
       "<style scoped>\n",
       "    .dataframe tbody tr th:only-of-type {\n",
       "        vertical-align: middle;\n",
       "    }\n",
       "\n",
       "    .dataframe tbody tr th {\n",
       "        vertical-align: top;\n",
       "    }\n",
       "\n",
       "    .dataframe thead th {\n",
       "        text-align: right;\n",
       "    }\n",
       "</style>\n",
       "<table border=\"1\" class=\"dataframe\">\n",
       "  <thead>\n",
       "    <tr style=\"text-align: right;\">\n",
       "      <th></th>\n",
       "      <th>RowNumber</th>\n",
       "      <th>CustomerId</th>\n",
       "      <th>CreditScore</th>\n",
       "      <th>Age</th>\n",
       "      <th>Tenure</th>\n",
       "      <th>Balance</th>\n",
       "      <th>NumOfProducts</th>\n",
       "      <th>HasCrCard</th>\n",
       "      <th>IsActiveMember</th>\n",
       "      <th>EstimatedSalary</th>\n",
       "      <th>Exited</th>\n",
       "    </tr>\n",
       "  </thead>\n",
       "  <tbody>\n",
       "    <tr>\n",
       "      <th>count</th>\n",
       "      <td>10000.00000</td>\n",
       "      <td>1.000000e+04</td>\n",
       "      <td>10000.000000</td>\n",
       "      <td>10000.000000</td>\n",
       "      <td>9091.000000</td>\n",
       "      <td>10000.000000</td>\n",
       "      <td>10000.000000</td>\n",
       "      <td>10000.00000</td>\n",
       "      <td>10000.000000</td>\n",
       "      <td>10000.000000</td>\n",
       "      <td>10000.000000</td>\n",
       "    </tr>\n",
       "    <tr>\n",
       "      <th>mean</th>\n",
       "      <td>5000.50000</td>\n",
       "      <td>1.569094e+07</td>\n",
       "      <td>650.528800</td>\n",
       "      <td>38.921800</td>\n",
       "      <td>4.997690</td>\n",
       "      <td>76485.889288</td>\n",
       "      <td>1.530200</td>\n",
       "      <td>0.70550</td>\n",
       "      <td>0.515100</td>\n",
       "      <td>100090.239881</td>\n",
       "      <td>0.203700</td>\n",
       "    </tr>\n",
       "    <tr>\n",
       "      <th>std</th>\n",
       "      <td>2886.89568</td>\n",
       "      <td>7.193619e+04</td>\n",
       "      <td>96.653299</td>\n",
       "      <td>10.487806</td>\n",
       "      <td>2.894723</td>\n",
       "      <td>62397.405202</td>\n",
       "      <td>0.581654</td>\n",
       "      <td>0.45584</td>\n",
       "      <td>0.499797</td>\n",
       "      <td>57510.492818</td>\n",
       "      <td>0.402769</td>\n",
       "    </tr>\n",
       "    <tr>\n",
       "      <th>min</th>\n",
       "      <td>1.00000</td>\n",
       "      <td>1.556570e+07</td>\n",
       "      <td>350.000000</td>\n",
       "      <td>18.000000</td>\n",
       "      <td>0.000000</td>\n",
       "      <td>0.000000</td>\n",
       "      <td>1.000000</td>\n",
       "      <td>0.00000</td>\n",
       "      <td>0.000000</td>\n",
       "      <td>11.580000</td>\n",
       "      <td>0.000000</td>\n",
       "    </tr>\n",
       "    <tr>\n",
       "      <th>25%</th>\n",
       "      <td>2500.75000</td>\n",
       "      <td>1.562853e+07</td>\n",
       "      <td>584.000000</td>\n",
       "      <td>32.000000</td>\n",
       "      <td>2.000000</td>\n",
       "      <td>0.000000</td>\n",
       "      <td>1.000000</td>\n",
       "      <td>0.00000</td>\n",
       "      <td>0.000000</td>\n",
       "      <td>51002.110000</td>\n",
       "      <td>0.000000</td>\n",
       "    </tr>\n",
       "    <tr>\n",
       "      <th>50%</th>\n",
       "      <td>5000.50000</td>\n",
       "      <td>1.569074e+07</td>\n",
       "      <td>652.000000</td>\n",
       "      <td>37.000000</td>\n",
       "      <td>5.000000</td>\n",
       "      <td>97198.540000</td>\n",
       "      <td>1.000000</td>\n",
       "      <td>1.00000</td>\n",
       "      <td>1.000000</td>\n",
       "      <td>100193.915000</td>\n",
       "      <td>0.000000</td>\n",
       "    </tr>\n",
       "    <tr>\n",
       "      <th>75%</th>\n",
       "      <td>7500.25000</td>\n",
       "      <td>1.575323e+07</td>\n",
       "      <td>718.000000</td>\n",
       "      <td>44.000000</td>\n",
       "      <td>7.000000</td>\n",
       "      <td>127644.240000</td>\n",
       "      <td>2.000000</td>\n",
       "      <td>1.00000</td>\n",
       "      <td>1.000000</td>\n",
       "      <td>149388.247500</td>\n",
       "      <td>0.000000</td>\n",
       "    </tr>\n",
       "    <tr>\n",
       "      <th>max</th>\n",
       "      <td>10000.00000</td>\n",
       "      <td>1.581569e+07</td>\n",
       "      <td>850.000000</td>\n",
       "      <td>92.000000</td>\n",
       "      <td>10.000000</td>\n",
       "      <td>250898.090000</td>\n",
       "      <td>4.000000</td>\n",
       "      <td>1.00000</td>\n",
       "      <td>1.000000</td>\n",
       "      <td>199992.480000</td>\n",
       "      <td>1.000000</td>\n",
       "    </tr>\n",
       "  </tbody>\n",
       "</table>\n",
       "</div>"
      ],
      "text/plain": [
       "         RowNumber    CustomerId   CreditScore           Age       Tenure  \\\n",
       "count  10000.00000  1.000000e+04  10000.000000  10000.000000  9091.000000   \n",
       "mean    5000.50000  1.569094e+07    650.528800     38.921800     4.997690   \n",
       "std     2886.89568  7.193619e+04     96.653299     10.487806     2.894723   \n",
       "min        1.00000  1.556570e+07    350.000000     18.000000     0.000000   \n",
       "25%     2500.75000  1.562853e+07    584.000000     32.000000     2.000000   \n",
       "50%     5000.50000  1.569074e+07    652.000000     37.000000     5.000000   \n",
       "75%     7500.25000  1.575323e+07    718.000000     44.000000     7.000000   \n",
       "max    10000.00000  1.581569e+07    850.000000     92.000000    10.000000   \n",
       "\n",
       "             Balance  NumOfProducts    HasCrCard  IsActiveMember  \\\n",
       "count   10000.000000   10000.000000  10000.00000    10000.000000   \n",
       "mean    76485.889288       1.530200      0.70550        0.515100   \n",
       "std     62397.405202       0.581654      0.45584        0.499797   \n",
       "min         0.000000       1.000000      0.00000        0.000000   \n",
       "25%         0.000000       1.000000      0.00000        0.000000   \n",
       "50%     97198.540000       1.000000      1.00000        1.000000   \n",
       "75%    127644.240000       2.000000      1.00000        1.000000   \n",
       "max    250898.090000       4.000000      1.00000        1.000000   \n",
       "\n",
       "       EstimatedSalary        Exited  \n",
       "count     10000.000000  10000.000000  \n",
       "mean     100090.239881      0.203700  \n",
       "std       57510.492818      0.402769  \n",
       "min          11.580000      0.000000  \n",
       "25%       51002.110000      0.000000  \n",
       "50%      100193.915000      0.000000  \n",
       "75%      149388.247500      0.000000  \n",
       "max      199992.480000      1.000000  "
      ]
     },
     "metadata": {},
     "output_type": "display_data"
    },
    {
     "name": "stdout",
     "output_type": "stream",
     "text": [
      "====================================================================================================\n"
     ]
    },
    {
     "data": {
      "text/html": [
       "<div>\n",
       "<style scoped>\n",
       "    .dataframe tbody tr th:only-of-type {\n",
       "        vertical-align: middle;\n",
       "    }\n",
       "\n",
       "    .dataframe tbody tr th {\n",
       "        vertical-align: top;\n",
       "    }\n",
       "\n",
       "    .dataframe thead th {\n",
       "        text-align: right;\n",
       "    }\n",
       "</style>\n",
       "<table border=\"1\" class=\"dataframe\">\n",
       "  <thead>\n",
       "    <tr style=\"text-align: right;\">\n",
       "      <th></th>\n",
       "      <th>RowNumber</th>\n",
       "      <th>CustomerId</th>\n",
       "      <th>Surname</th>\n",
       "      <th>CreditScore</th>\n",
       "      <th>Geography</th>\n",
       "      <th>Gender</th>\n",
       "      <th>Age</th>\n",
       "      <th>Tenure</th>\n",
       "      <th>Balance</th>\n",
       "      <th>NumOfProducts</th>\n",
       "      <th>HasCrCard</th>\n",
       "      <th>IsActiveMember</th>\n",
       "      <th>EstimatedSalary</th>\n",
       "      <th>Exited</th>\n",
       "    </tr>\n",
       "  </thead>\n",
       "  <tbody>\n",
       "    <tr>\n",
       "      <th>0</th>\n",
       "      <td>1</td>\n",
       "      <td>15634602</td>\n",
       "      <td>Hargrave</td>\n",
       "      <td>619</td>\n",
       "      <td>France</td>\n",
       "      <td>Female</td>\n",
       "      <td>42</td>\n",
       "      <td>2.0</td>\n",
       "      <td>0.00</td>\n",
       "      <td>1</td>\n",
       "      <td>1</td>\n",
       "      <td>1</td>\n",
       "      <td>101348.88</td>\n",
       "      <td>1</td>\n",
       "    </tr>\n",
       "    <tr>\n",
       "      <th>1</th>\n",
       "      <td>2</td>\n",
       "      <td>15647311</td>\n",
       "      <td>Hill</td>\n",
       "      <td>608</td>\n",
       "      <td>Spain</td>\n",
       "      <td>Female</td>\n",
       "      <td>41</td>\n",
       "      <td>1.0</td>\n",
       "      <td>83807.86</td>\n",
       "      <td>1</td>\n",
       "      <td>0</td>\n",
       "      <td>1</td>\n",
       "      <td>112542.58</td>\n",
       "      <td>0</td>\n",
       "    </tr>\n",
       "    <tr>\n",
       "      <th>2</th>\n",
       "      <td>3</td>\n",
       "      <td>15619304</td>\n",
       "      <td>Onio</td>\n",
       "      <td>502</td>\n",
       "      <td>France</td>\n",
       "      <td>Female</td>\n",
       "      <td>42</td>\n",
       "      <td>8.0</td>\n",
       "      <td>159660.80</td>\n",
       "      <td>3</td>\n",
       "      <td>1</td>\n",
       "      <td>0</td>\n",
       "      <td>113931.57</td>\n",
       "      <td>1</td>\n",
       "    </tr>\n",
       "    <tr>\n",
       "      <th>3</th>\n",
       "      <td>4</td>\n",
       "      <td>15701354</td>\n",
       "      <td>Boni</td>\n",
       "      <td>699</td>\n",
       "      <td>France</td>\n",
       "      <td>Female</td>\n",
       "      <td>39</td>\n",
       "      <td>1.0</td>\n",
       "      <td>0.00</td>\n",
       "      <td>2</td>\n",
       "      <td>0</td>\n",
       "      <td>0</td>\n",
       "      <td>93826.63</td>\n",
       "      <td>0</td>\n",
       "    </tr>\n",
       "    <tr>\n",
       "      <th>4</th>\n",
       "      <td>5</td>\n",
       "      <td>15737888</td>\n",
       "      <td>Mitchell</td>\n",
       "      <td>850</td>\n",
       "      <td>Spain</td>\n",
       "      <td>Female</td>\n",
       "      <td>43</td>\n",
       "      <td>2.0</td>\n",
       "      <td>125510.82</td>\n",
       "      <td>1</td>\n",
       "      <td>1</td>\n",
       "      <td>1</td>\n",
       "      <td>79084.10</td>\n",
       "      <td>0</td>\n",
       "    </tr>\n",
       "  </tbody>\n",
       "</table>\n",
       "</div>"
      ],
      "text/plain": [
       "   RowNumber  CustomerId   Surname  CreditScore Geography  Gender  Age  \\\n",
       "0          1    15634602  Hargrave          619    France  Female   42   \n",
       "1          2    15647311      Hill          608     Spain  Female   41   \n",
       "2          3    15619304      Onio          502    France  Female   42   \n",
       "3          4    15701354      Boni          699    France  Female   39   \n",
       "4          5    15737888  Mitchell          850     Spain  Female   43   \n",
       "\n",
       "   Tenure    Balance  NumOfProducts  HasCrCard  IsActiveMember  \\\n",
       "0     2.0       0.00              1          1               1   \n",
       "1     1.0   83807.86              1          0               1   \n",
       "2     8.0  159660.80              3          1               0   \n",
       "3     1.0       0.00              2          0               0   \n",
       "4     2.0  125510.82              1          1               1   \n",
       "\n",
       "   EstimatedSalary  Exited  \n",
       "0        101348.88       1  \n",
       "1        112542.58       0  \n",
       "2        113931.57       1  \n",
       "3         93826.63       0  \n",
       "4         79084.10       0  "
      ]
     },
     "metadata": {},
     "output_type": "display_data"
    },
    {
     "name": "stdout",
     "output_type": "stream",
     "text": [
      "====================================================================================================\n"
     ]
    },
    {
     "data": {
      "text/plain": [
       "(10000, 14)"
      ]
     },
     "metadata": {},
     "output_type": "display_data"
    },
    {
     "name": "stdout",
     "output_type": "stream",
     "text": [
      "====================================================================================================\n",
      "Number of null values: RowNumber          0.0000\n",
      "CustomerId         0.0000\n",
      "Surname            0.0000\n",
      "CreditScore        0.0000\n",
      "Geography          0.0000\n",
      "Gender             0.0000\n",
      "Age                0.0000\n",
      "Tenure             0.0909\n",
      "Balance            0.0000\n",
      "NumOfProducts      0.0000\n",
      "HasCrCard          0.0000\n",
      "IsActiveMember     0.0000\n",
      "EstimatedSalary    0.0000\n",
      "Exited             0.0000\n",
      "dtype: float64\n",
      "====================================================================================================\n",
      "Number of duplicates: 0\n"
     ]
    }
   ],
   "source": [
    "def info(df):\n",
    "    df.info()\n",
    "    print(100*'=')\n",
    "    display(df.describe())\n",
    "    print(100*'=')\n",
    "    display(df.head())\n",
    "    print(100*'=')\n",
    "    display(df.shape)\n",
    "    print(100*'=')\n",
    "    print(f'Number of null values: {df.isna().mean()}')\n",
    "    print(100*'=')\n",
    "    print(f'Number of duplicates: {df.duplicated().sum()}')\n",
    "    \n",
    "info(df) "
   ]
  },
  {
   "cell_type": "markdown",
   "metadata": {},
   "source": [
    "These columns are not important for our study, so they can be removed."
   ]
  },
  {
   "cell_type": "code",
   "execution_count": 4,
   "metadata": {},
   "outputs": [],
   "source": [
    "df.drop(['RowNumber','Surname', 'CustomerId'], axis = 'columns', inplace =True)"
   ]
  },
  {
   "cell_type": "markdown",
   "metadata": {},
   "source": [
    "There are missing values in the `Tenure` column, they can be replacedwith 0, and  the data type should be changed to `int`."
   ]
  },
  {
   "cell_type": "code",
   "execution_count": 5,
   "metadata": {},
   "outputs": [],
   "source": [
    "df['Tenure']=df['Tenure'].fillna(0).astype('int64')"
   ]
  },
  {
   "cell_type": "code",
   "execution_count": 6,
   "metadata": {},
   "outputs": [
    {
     "name": "stdout",
     "output_type": "stream",
     "text": [
      "<class 'pandas.core.frame.DataFrame'>\n",
      "RangeIndex: 10000 entries, 0 to 9999\n",
      "Data columns (total 11 columns):\n",
      " #   Column           Non-Null Count  Dtype  \n",
      "---  ------           --------------  -----  \n",
      " 0   CreditScore      10000 non-null  int64  \n",
      " 1   Geography        10000 non-null  object \n",
      " 2   Gender           10000 non-null  object \n",
      " 3   Age              10000 non-null  int64  \n",
      " 4   Tenure           10000 non-null  int64  \n",
      " 5   Balance          10000 non-null  float64\n",
      " 6   NumOfProducts    10000 non-null  int64  \n",
      " 7   HasCrCard        10000 non-null  int64  \n",
      " 8   IsActiveMember   10000 non-null  int64  \n",
      " 9   EstimatedSalary  10000 non-null  float64\n",
      " 10  Exited           10000 non-null  int64  \n",
      "dtypes: float64(2), int64(7), object(2)\n",
      "memory usage: 859.5+ KB\n"
     ]
    },
    {
     "data": {
      "text/plain": [
       "(10000, 11)"
      ]
     },
     "execution_count": 6,
     "metadata": {},
     "output_type": "execute_result"
    }
   ],
   "source": [
    "df.info()\n",
    "df.shape"
   ]
  },
  {
   "cell_type": "markdown",
   "metadata": {},
   "source": [
    "Each object in the dataset is information about a customer. It is known:\n",
    "\n",
    "\n",
    "\n",
    "`RowNumber` - row index in the data\n",
    "\n",
    "`CustomerId` - unique customer ID\n",
    "\n",
    "`Surname` - surname\n",
    "\n",
    "`CreditScore` — credit score\n",
    "\n",
    "`Geography` - country of residence\n",
    "\n",
    "`Gender` - gender\n",
    "\n",
    "`Age` - age\n",
    "\n",
    "`Tenure` - how many years a person has been a client of the bank\n",
    "\n",
    "`Balance` — account balance\n",
    "\n",
    "`NumOfProducts` - the number of bank products used by the client\n",
    "\n",
    "`HasCrCard` - the presence of a credit card\n",
    "\n",
    "`IsActiveMember` - client activity\n",
    "\n",
    "`EstimatedSalary` — estimated salary\n",
    "\n",
    "**Target feature**\n",
    "\n",
    "`Exited` - the fact that the client left\n",
    "\n",
    "- During data preprocessing, missing values in the `Tenure` column were replaced.\n",
    "\n",
    "- The `RowNumber`, `Surname`, `CustomerId` columns do not provide important information for us, so they can be removed.\n",
    "\n",
    "Now we can move on to problem research and machine learning."
   ]
  },
  {
   "cell_type": "markdown",
   "metadata": {},
   "source": [
    "## Problem research"
   ]
  },
  {
   "cell_type": "markdown",
   "metadata": {},
   "source": [
    "### Getting rid of categorical features using the OHE method"
   ]
  },
  {
   "cell_type": "code",
   "execution_count": 7,
   "metadata": {},
   "outputs": [],
   "source": [
    "df_ohe = pd.get_dummies(df, drop_first = True)"
   ]
  },
  {
   "cell_type": "code",
   "execution_count": 8,
   "metadata": {},
   "outputs": [],
   "source": [
    "target = df_ohe['Exited']\n",
    "features = df_ohe.drop('Exited', axis=1)"
   ]
  },
  {
   "cell_type": "code",
   "execution_count": 9,
   "metadata": {},
   "outputs": [],
   "source": [
    "features_train, features_test, target_train, target_test = train_test_split(features, \n",
    "                                                                            target, \n",
    "                                                                            test_size=0.4, \n",
    "                                                                            random_state=12345,\n",
    "                                                                            stratify=target\n",
    "                                                                           ) "
   ]
  },
  {
   "cell_type": "code",
   "execution_count": 10,
   "metadata": {},
   "outputs": [],
   "source": [
    "features_valid, features_test, target_valid, target_test = train_test_split(features_test, \n",
    "                                                                            target_test, \n",
    "                                                                            test_size=0.5, \n",
    "                                                                            random_state=12345,\n",
    "                                                                            stratify=target_test\n",
    "                                                                           ) "
   ]
  },
  {
   "cell_type": "code",
   "execution_count": 11,
   "metadata": {},
   "outputs": [],
   "source": [
    "numeric = ['CreditScore','Age','Tenure','Balance','NumOfProducts','HasCrCard','IsActiveMember']"
   ]
  },
  {
   "cell_type": "code",
   "execution_count": 12,
   "metadata": {},
   "outputs": [
    {
     "name": "stderr",
     "output_type": "stream",
     "text": [
      "/tmp/ipykernel_101/2660509806.py:3: SettingWithCopyWarning: \n",
      "A value is trying to be set on a copy of a slice from a DataFrame.\n",
      "Try using .loc[row_indexer,col_indexer] = value instead\n",
      "\n",
      "See the caveats in the documentation: https://pandas.pydata.org/pandas-docs/stable/user_guide/indexing.html#returning-a-view-versus-a-copy\n",
      "  features_train[numeric] = scaler.transform(features_train[numeric])\n",
      "/opt/conda/lib/python3.9/site-packages/pandas/core/indexing.py:1738: SettingWithCopyWarning: \n",
      "A value is trying to be set on a copy of a slice from a DataFrame.\n",
      "Try using .loc[row_indexer,col_indexer] = value instead\n",
      "\n",
      "See the caveats in the documentation: https://pandas.pydata.org/pandas-docs/stable/user_guide/indexing.html#returning-a-view-versus-a-copy\n",
      "  self._setitem_single_column(loc, value[:, i].tolist(), pi)\n"
     ]
    }
   ],
   "source": [
    "scaler = StandardScaler()\n",
    "scaler.fit(features_train[numeric])\n",
    "features_train[numeric] = scaler.transform(features_train[numeric])\n",
    "features_valid[numeric] = scaler.transform(features_valid[numeric])\n",
    "features_test[numeric] = scaler.transform(features_test[numeric])\n",
    "pd.options.mode.chained_assignment = None"
   ]
  },
  {
   "cell_type": "code",
   "execution_count": 13,
   "metadata": {},
   "outputs": [
    {
     "data": {
      "text/plain": [
       "(6000, 11)"
      ]
     },
     "execution_count": 13,
     "metadata": {},
     "output_type": "execute_result"
    }
   ],
   "source": [
    "features_train.shape"
   ]
  },
  {
   "cell_type": "code",
   "execution_count": 14,
   "metadata": {},
   "outputs": [
    {
     "data": {
      "text/plain": [
       "(2000, 11)"
      ]
     },
     "execution_count": 14,
     "metadata": {},
     "output_type": "execute_result"
    }
   ],
   "source": [
    "features_valid.shape"
   ]
  },
  {
   "cell_type": "code",
   "execution_count": 15,
   "metadata": {},
   "outputs": [
    {
     "data": {
      "text/plain": [
       "(2000, 11)"
      ]
     },
     "execution_count": 15,
     "metadata": {},
     "output_type": "execute_result"
    }
   ],
   "source": [
    "features_test.shape"
   ]
  },
  {
   "cell_type": "markdown",
   "metadata": {},
   "source": [
    "### Learning with a Decision Tree Model"
   ]
  },
  {
   "cell_type": "code",
   "execution_count": 5,
   "metadata": {},
   "outputs": [
    {
     "ename": "NameError",
     "evalue": "name 'features_train' is not defined",
     "output_type": "error",
     "traceback": [
      "\u001b[1;31m---------------------------------------------------------------------------\u001b[0m",
      "\u001b[1;31mNameError\u001b[0m                                 Traceback (most recent call last)",
      "\u001b[1;32m<timed exec>\u001b[0m in \u001b[0;36m<module>\u001b[1;34m\u001b[0m\n",
      "\u001b[1;31mNameError\u001b[0m: name 'features_train' is not defined"
     ]
    }
   ],
   "source": [
    "%%time\n",
    "best_model_tree = None\n",
    "best_result_tree = 0\n",
    "for depth in range(1, 6):\n",
    "    model_tree = DecisionTreeClassifier(random_state=12345, max_depth= depth) \n",
    "    model_tree.fit(features_train, target_train)\n",
    "    predictions = model_tree.predict(features_valid) \n",
    "    result_tree = accuracy_score(target_valid, predictions) \n",
    "    if result_tree > best_result_tree:\n",
    "        best_model_tree = model_tree\n",
    "        best_result_tree = result_tree\n",
    "\n",
    "\n",
    "print('Accuracy of the best decision tree model:', best_result_tree)\n",
    "print(\"F1:\", f1_score(target_valid, predictions))    "
   ]
  },
  {
   "cell_type": "code",
   "execution_count": 17,
   "metadata": {},
   "outputs": [
    {
     "name": "stdout",
     "output_type": "stream",
     "text": [
      "0.5047169811320754\n"
     ]
    }
   ],
   "source": [
    "model = DecisionTreeClassifier(random_state=12345)\n",
    "model.fit(features_train, target_train)\n",
    "predicted_valid = model.predict(features_valid)\n",
    "\n",
    "print(f1_score(target_valid, predicted_valid))"
   ]
  },
  {
   "cell_type": "markdown",
   "metadata": {},
   "source": [
    "### Machine learning with Random Forest"
   ]
  },
  {
   "cell_type": "code",
   "execution_count": 28,
   "metadata": {},
   "outputs": [
    {
     "name": "stdout",
     "output_type": "stream",
     "text": [
      "max_depth: 1 F1: 0.0\n",
      "max_depth: 2 F1: 0.2096069868995633\n",
      "max_depth: 3 F1: 0.2755741127348643\n",
      "max_depth: 4 F1: 0.45255474452554745\n",
      "max_depth: 5 F1: 0.5442622950819672\n",
      "max_depth: 6 F1: 0.573228346456693\n",
      "max_depth: 7 F1: 0.5709728867623605\n",
      "max_depth: 8 F1: 0.5723172628304822\n",
      "max_depth: 9 F1: 0.5696594427244581\n"
     ]
    }
   ],
   "source": [
    "for depth in range(1,10,1):\n",
    "    model_forest = RandomForestClassifier(max_depth=depth,random_state=1234)\n",
    "    model_forest.fit(features_train,target_train)\n",
    "    prediction=model_forest.predict(features_valid)\n",
    "    print('max_depth:',depth,'F1:',f1_score(target_valid,prediction))"
   ]
  },
  {
   "cell_type": "markdown",
   "metadata": {},
   "source": [
    "### Machine learning with Logistic Regression"
   ]
  },
  {
   "cell_type": "code",
   "execution_count": 19,
   "metadata": {},
   "outputs": [
    {
     "name": "stdout",
     "output_type": "stream",
     "text": [
      "max_depth: 1 F1: 0.5235602094240838\n",
      "max_depth: 2 F1: 0.5235602094240838\n",
      "max_depth: 3 F1: 0.5235602094240838\n",
      "max_depth: 4 F1: 0.5235602094240838\n",
      "max_depth: 5 F1: 0.5235602094240838\n",
      "max_depth: 6 F1: 0.5235602094240838\n",
      "max_depth: 7 F1: 0.5235602094240838\n",
      "max_depth: 8 F1: 0.5235602094240838\n",
      "max_depth: 9 F1: 0.5235602094240838\n"
     ]
    }
   ],
   "source": [
    "for depth in range(1,10,1):\n",
    "    model_lr = LogisticRegression(random_state=12345, solver='liblinear', class_weight='balanced')\n",
    "    model_lr.fit(features_train,target_train)\n",
    "    prediction=model_lr.predict(features_valid)\n",
    "    print('max_depth:',depth,'F1:',f1_score(target_valid,prediction))"
   ]
  },
  {
   "cell_type": "markdown",
   "metadata": {},
   "source": [
    "During the study of models, it was found that `accuracy` is best for Random Forest. The F1 index for Random Forest model and Decision Tree is the same, it is 0.5691609977324262."
   ]
  },
  {
   "cell_type": "markdown",
   "metadata": {},
   "source": [
    "## Dealing with imbalance"
   ]
  },
  {
   "cell_type": "markdown",
   "metadata": {},
   "source": [
    "### Upsampling"
   ]
  },
  {
   "cell_type": "code",
   "execution_count": 29,
   "metadata": {},
   "outputs": [
    {
     "name": "stdout",
     "output_type": "stream",
     "text": [
      "F1: 0.6131578947368422\n"
     ]
    }
   ],
   "source": [
    "def upsample(features, target, repeat):\n",
    "    features_zeros = features[target == 0]\n",
    "    features_ones = features[target == 1]\n",
    "    target_zeros = target[target == 0]\n",
    "    target_ones = target[target == 1]\n",
    "\n",
    "    features_upsampled = pd.concat([features_zeros] + [features_ones] * repeat)\n",
    "    target_upsampled = pd.concat([target_zeros] + [target_ones] * repeat)\n",
    "    \n",
    "    features_upsampled, target_upsampled = shuffle(\n",
    "        features_upsampled, target_upsampled, random_state=12345)\n",
    "    \n",
    "    return features_upsampled, target_upsampled\n",
    "\n",
    "features_upsampled, target_upsampled = upsample(features_train, target_train, 3)\n",
    "print(\"F1:\", f1_score(target_valid, predicted_valid))"
   ]
  },
  {
   "cell_type": "code",
   "execution_count": 30,
   "metadata": {},
   "outputs": [
    {
     "name": "stdout",
     "output_type": "stream",
     "text": [
      "max_depth: 1 F1: 0.6131578947368422\n",
      "max_depth: 2 F1: 0.6131578947368422\n",
      "max_depth: 3 F1: 0.6131578947368422\n",
      "max_depth: 4 F1: 0.6131578947368422\n",
      "max_depth: 5 F1: 0.6131578947368422\n",
      "max_depth: 6 F1: 0.6131578947368422\n",
      "max_depth: 7 F1: 0.6131578947368422\n",
      "max_depth: 8 F1: 0.6131578947368422\n",
      "max_depth: 9 F1: 0.6131578947368422\n"
     ]
    }
   ],
   "source": [
    "for depth in range(1,10,1):\n",
    "    model__up_forest = RandomForestClassifier(max_depth=depth,random_state=1234)\n",
    "    model_up_forest.fit(features_upsampled,target_upsampled)\n",
    "    prediction=model_up_forest.predict(features_valid)\n",
    "    print('max_depth:',depth,'F1:',f1_score(target_valid,prediction))"
   ]
  },
  {
   "cell_type": "markdown",
   "metadata": {},
   "source": [
    "### Downsampling"
   ]
  },
  {
   "cell_type": "code",
   "execution_count": 31,
   "metadata": {},
   "outputs": [
    {
     "name": "stdout",
     "output_type": "stream",
     "text": [
      "F1: 0.6131578947368422\n"
     ]
    }
   ],
   "source": [
    "def downsample(features, target, fraction):\n",
    "    features_zeros = features[target == 0]\n",
    "    features_ones = features[target == 1]\n",
    "    target_zeros = target[target == 0]\n",
    "    target_ones = target[target == 1]\n",
    "\n",
    "    features_downsampled = pd.concat(\n",
    "        [features_zeros.sample(frac=fraction, random_state=12345)] + [features_ones])\n",
    "    target_downsampled = pd.concat(\n",
    "        [target_zeros.sample(frac=fraction, random_state=12345)] + [target_ones])\n",
    "    \n",
    "    features_downsampled, target_downsampled = shuffle(\n",
    "        features_downsampled, target_downsampled, random_state=12345)\n",
    "    \n",
    "    return features_downsampled, target_downsampled\n",
    "\n",
    "features_downsampled, target_downsampled = downsample(features_train, target_train, 0.3)\n",
    "print(\"F1:\", f1_score(target_valid, predicted_valid))"
   ]
  },
  {
   "cell_type": "code",
   "execution_count": 32,
   "metadata": {},
   "outputs": [
    {
     "name": "stdout",
     "output_type": "stream",
     "text": [
      "max_depth: 1 F1: 0.6131979695431472\n",
      "max_depth: 2 F1: 0.6131979695431472\n",
      "max_depth: 3 F1: 0.6131979695431472\n",
      "max_depth: 4 F1: 0.6131979695431472\n",
      "max_depth: 5 F1: 0.6131979695431472\n",
      "max_depth: 6 F1: 0.6131979695431472\n",
      "max_depth: 7 F1: 0.6131979695431472\n",
      "max_depth: 8 F1: 0.6131979695431472\n",
      "max_depth: 9 F1: 0.6131979695431472\n"
     ]
    }
   ],
   "source": [
    "for depth in range(1,10,1):\n",
    "    model__down_forest = RandomForestClassifier(max_depth=depth,random_state=1234)\n",
    "    model_down_forest.fit(features_downsampled,target_downsampled)\n",
    "    prediction=model_down_forest.predict(features_valid)\n",
    "    print('max_depth:',depth,'F1:',f1_score(target_valid,prediction))"
   ]
  },
  {
   "cell_type": "markdown",
   "metadata": {},
   "source": [
    "When the imbalance was eliminated, the value of F1 increased."
   ]
  },
  {
   "cell_type": "markdown",
   "metadata": {},
   "source": [
    "## Model testing"
   ]
  },
  {
   "cell_type": "code",
   "execution_count": 6,
   "metadata": {},
   "outputs": [
    {
     "ename": "NameError",
     "evalue": "name 'features_upsampled' is not defined",
     "output_type": "error",
     "traceback": [
      "\u001b[1;31m---------------------------------------------------------------------------\u001b[0m",
      "\u001b[1;31mNameError\u001b[0m                                 Traceback (most recent call last)",
      "\u001b[1;32m~\\AppData\\Local\\Temp/ipykernel_7152/1720797746.py\u001b[0m in \u001b[0;36m<module>\u001b[1;34m\u001b[0m\n\u001b[0;32m      1\u001b[0m \u001b[0mmodel_up_tree\u001b[0m \u001b[1;33m=\u001b[0m \u001b[0mDecisionTreeClassifier\u001b[0m\u001b[1;33m(\u001b[0m\u001b[0mrandom_state\u001b[0m\u001b[1;33m=\u001b[0m\u001b[1;36m20052020\u001b[0m\u001b[1;33m,\u001b[0m \u001b[0mmax_depth\u001b[0m\u001b[1;33m=\u001b[0m\u001b[1;36m7\u001b[0m\u001b[1;33m)\u001b[0m\u001b[1;33m\u001b[0m\u001b[1;33m\u001b[0m\u001b[0m\n\u001b[1;32m----> 2\u001b[1;33m \u001b[0mmodel_up_tree\u001b[0m\u001b[1;33m.\u001b[0m\u001b[0mfit\u001b[0m\u001b[1;33m(\u001b[0m\u001b[0mfeatures_upsampled\u001b[0m\u001b[1;33m,\u001b[0m \u001b[0mtarget_upsampled\u001b[0m\u001b[1;33m)\u001b[0m\u001b[1;33m\u001b[0m\u001b[1;33m\u001b[0m\u001b[0m\n\u001b[0m\u001b[0;32m      3\u001b[0m \u001b[0mpredicted_valid\u001b[0m \u001b[1;33m=\u001b[0m \u001b[0mmodel_up_tree\u001b[0m\u001b[1;33m.\u001b[0m\u001b[0mpredict\u001b[0m\u001b[1;33m(\u001b[0m\u001b[0mfeatures_valid\u001b[0m\u001b[1;33m)\u001b[0m\u001b[1;33m\u001b[0m\u001b[1;33m\u001b[0m\u001b[0m\n\u001b[0;32m      4\u001b[0m \u001b[0mprint\u001b[0m\u001b[1;33m(\u001b[0m\u001b[1;34m'Accuracy of Decision Tree:'\u001b[0m\u001b[1;33m,\u001b[0m \u001b[0maccuracy_score\u001b[0m\u001b[1;33m(\u001b[0m\u001b[0mtarget_valid\u001b[0m\u001b[1;33m,\u001b[0m \u001b[0mpredicted_valid\u001b[0m\u001b[1;33m)\u001b[0m\u001b[1;33m)\u001b[0m\u001b[1;33m\u001b[0m\u001b[1;33m\u001b[0m\u001b[0m\n\u001b[0;32m      5\u001b[0m \u001b[0mprint\u001b[0m\u001b[1;33m(\u001b[0m\u001b[1;34m'F1'\u001b[0m\u001b[1;33m,\u001b[0m \u001b[0mf1_score\u001b[0m\u001b[1;33m(\u001b[0m\u001b[0mtarget_valid\u001b[0m\u001b[1;33m,\u001b[0m \u001b[0mpredicted_valid\u001b[0m\u001b[1;33m)\u001b[0m\u001b[1;33m)\u001b[0m\u001b[1;33m\u001b[0m\u001b[1;33m\u001b[0m\u001b[0m\n",
      "\u001b[1;31mNameError\u001b[0m: name 'features_upsampled' is not defined"
     ]
    }
   ],
   "source": [
    "model_up_tree = DecisionTreeClassifier(random_state=20052020, max_depth=7)\n",
    "model_up_tree.fit(features_upsampled, target_upsampled)\n",
    "predicted_valid = model_up_tree.predict(features_valid)\n",
    "print('Accuracy of upsampled Decision Tree model :', accuracy_score(target_valid, predicted_valid))\n",
    "print('F1', f1_score(target_valid, predicted_valid))"
   ]
  },
  {
   "cell_type": "code",
   "execution_count": 7,
   "metadata": {},
   "outputs": [
    {
     "ename": "NameError",
     "evalue": "name 'features_downsampled' is not defined",
     "output_type": "error",
     "traceback": [
      "\u001b[1;31m---------------------------------------------------------------------------\u001b[0m",
      "\u001b[1;31mNameError\u001b[0m                                 Traceback (most recent call last)",
      "\u001b[1;32m~\\AppData\\Local\\Temp/ipykernel_7152/1998310424.py\u001b[0m in \u001b[0;36m<module>\u001b[1;34m\u001b[0m\n\u001b[0;32m      1\u001b[0m \u001b[0mmodel_down_tree\u001b[0m \u001b[1;33m=\u001b[0m \u001b[0mDecisionTreeClassifier\u001b[0m\u001b[1;33m(\u001b[0m\u001b[0mrandom_state\u001b[0m\u001b[1;33m=\u001b[0m\u001b[1;36m20052020\u001b[0m\u001b[1;33m,\u001b[0m \u001b[0mmax_depth\u001b[0m\u001b[1;33m=\u001b[0m\u001b[1;36m7\u001b[0m\u001b[1;33m)\u001b[0m\u001b[1;33m\u001b[0m\u001b[1;33m\u001b[0m\u001b[0m\n\u001b[1;32m----> 2\u001b[1;33m \u001b[0mmodel_down_tree\u001b[0m\u001b[1;33m.\u001b[0m\u001b[0mfit\u001b[0m\u001b[1;33m(\u001b[0m\u001b[0mfeatures_downsampled\u001b[0m\u001b[1;33m,\u001b[0m \u001b[0mtarget_downsampled\u001b[0m\u001b[1;33m)\u001b[0m\u001b[1;33m\u001b[0m\u001b[1;33m\u001b[0m\u001b[0m\n\u001b[0m\u001b[0;32m      3\u001b[0m \u001b[0mpredicted_valid\u001b[0m \u001b[1;33m=\u001b[0m \u001b[0mmodel_down_tree\u001b[0m\u001b[1;33m.\u001b[0m\u001b[0mpredict\u001b[0m\u001b[1;33m(\u001b[0m\u001b[0mfeatures_valid\u001b[0m\u001b[1;33m)\u001b[0m\u001b[1;33m\u001b[0m\u001b[1;33m\u001b[0m\u001b[0m\n\u001b[0;32m      4\u001b[0m \u001b[0mprint\u001b[0m\u001b[1;33m(\u001b[0m\u001b[1;34m'Accuracy of Decision Tree:'\u001b[0m\u001b[1;33m,\u001b[0m \u001b[0maccuracy_score\u001b[0m\u001b[1;33m(\u001b[0m\u001b[0mtarget_valid\u001b[0m\u001b[1;33m,\u001b[0m \u001b[0mpredicted_valid\u001b[0m\u001b[1;33m)\u001b[0m\u001b[1;33m)\u001b[0m\u001b[1;33m\u001b[0m\u001b[1;33m\u001b[0m\u001b[0m\n\u001b[0;32m      5\u001b[0m \u001b[0mprint\u001b[0m\u001b[1;33m(\u001b[0m\u001b[1;34m'F1'\u001b[0m\u001b[1;33m,\u001b[0m \u001b[0mf1_score\u001b[0m\u001b[1;33m(\u001b[0m\u001b[0mtarget_valid\u001b[0m\u001b[1;33m,\u001b[0m \u001b[0mpredicted_valid\u001b[0m\u001b[1;33m)\u001b[0m\u001b[1;33m)\u001b[0m\u001b[1;33m\u001b[0m\u001b[1;33m\u001b[0m\u001b[0m\n",
      "\u001b[1;31mNameError\u001b[0m: name 'features_downsampled' is not defined"
     ]
    }
   ],
   "source": [
    "model_down_tree = DecisionTreeClassifier(random_state=20052020, max_depth=7)\n",
    "model_down_tree.fit(features_downsampled, target_downsampled)\n",
    "predicted_valid = model_down_tree.predict(features_valid)\n",
    "print('Accuracy of downsampled Decision Tree model:', accuracy_score(target_valid, predicted_valid))\n",
    "print('F1', f1_score(target_valid, predicted_valid))"
   ]
  },
  {
   "cell_type": "code",
   "execution_count": 35,
   "metadata": {},
   "outputs": [
    {
     "name": "stdout",
     "output_type": "stream",
     "text": [
      "Accuracy модели случайного леса 0.853\n",
      "F1 0.6131578947368422\n"
     ]
    }
   ],
   "source": [
    "model_up_forest = RandomForestClassifier(random_state=20052020, n_estimators=53)\n",
    "model_up_forest.fit(features_upsampled, target_upsampled)\n",
    "predicted_valid = model_up_forest.predict(features_valid)\n",
    "print('Accuracy of upsampled Random Forest model', accuracy_score(target_valid, predicted_valid))\n",
    "print('F1', f1_score(target_valid, predicted_valid))"
   ]
  },
  {
   "cell_type": "code",
   "execution_count": 36,
   "metadata": {},
   "outputs": [
    {
     "name": "stdout",
     "output_type": "stream",
     "text": [
      "Accuracy модели случайного леса 0.8095\n",
      "F1 0.6131979695431472\n"
     ]
    }
   ],
   "source": [
    "model_down_forest = RandomForestClassifier(random_state=20052020, n_estimators=53)\n",
    "model_down_forest.fit(features_downsampled, target_downsampled)\n",
    "predicted_valid = model_down_forest.predict(features_valid)\n",
    "print('Accuracy downsampled Random Forest', accuracy_score(target_valid, predicted_valid))\n",
    "print('F1', f1_score(target_valid, predicted_valid))"
   ]
  },
  {
   "cell_type": "code",
   "execution_count": 37,
   "metadata": {},
   "outputs": [
    {
     "name": "stdout",
     "output_type": "stream",
     "text": [
      "auc roc модели решающего дерева: 0.849793544930535\n"
     ]
    }
   ],
   "source": [
    "probabilities_tree=model_tree.predict_proba(features_valid)\n",
    "probabilities_one_valid_tree=probabilities_tree[:,1]\n",
    "fpr_tree,tpr_tree,thresholds=roc_curve(target_valid,probabilities_one_valid_tree)\n",
    "auc_roc_forest=roc_auc_score(target_valid,probabilities_one_valid_tree)\n",
    "print('AUC-ROC of Decision Tree model:',auc_roc_forest)"
   ]
  },
  {
   "cell_type": "code",
   "execution_count": 38,
   "metadata": {},
   "outputs": [
    {
     "name": "stdout",
     "output_type": "stream",
     "text": [
      "auc roc модели случайного леса: 0.874244075771012\n"
     ]
    }
   ],
   "source": [
    "probabilities_forest=model_forest.predict_proba(features_valid)\n",
    "probabilities_one_valid_forest=probabilities_forest[:,1]\n",
    "fpr_forest,tpr_forest,thresholds=roc_curve(target_valid,probabilities_one_valid_tree)\n",
    "auc_roc_forest=roc_auc_score(target_valid,probabilities_one_valid_forest)\n",
    "print('AUC-ROC of Random Forest model:',auc_roc_forest)"
   ]
  },
  {
   "cell_type": "code",
   "execution_count": 39,
   "metadata": {},
   "outputs": [],
   "source": [
    "fpr_forest, tpr_forest, thresholds = roc_curve(target_valid, probabilities_one_valid_forest)\n",
    "fpr_tree, tpr_tree, thresholds = roc_curve(target_valid, probabilities_one_valid_tree)"
   ]
  },
  {
   "cell_type": "code",
   "execution_count": 8,
   "metadata": {},
   "outputs": [
    {
     "ename": "NameError",
     "evalue": "name 'fpr_tree' is not defined",
     "output_type": "error",
     "traceback": [
      "\u001b[1;31m---------------------------------------------------------------------------\u001b[0m",
      "\u001b[1;31mNameError\u001b[0m                                 Traceback (most recent call last)",
      "\u001b[1;32m~\\AppData\\Local\\Temp/ipykernel_7152/7235182.py\u001b[0m in \u001b[0;36m<module>\u001b[1;34m\u001b[0m\n\u001b[0;32m      5\u001b[0m \u001b[0mplt\u001b[0m\u001b[1;33m.\u001b[0m\u001b[0mxlim\u001b[0m\u001b[1;33m(\u001b[0m\u001b[1;33m[\u001b[0m\u001b[1;36m0.0\u001b[0m\u001b[1;33m,\u001b[0m \u001b[1;36m1.0\u001b[0m\u001b[1;33m]\u001b[0m\u001b[1;33m)\u001b[0m\u001b[1;33m\u001b[0m\u001b[1;33m\u001b[0m\u001b[0m\n\u001b[0;32m      6\u001b[0m \u001b[0mplt\u001b[0m\u001b[1;33m.\u001b[0m\u001b[0mylim\u001b[0m\u001b[1;33m(\u001b[0m\u001b[1;33m[\u001b[0m\u001b[1;36m0.0\u001b[0m\u001b[1;33m,\u001b[0m \u001b[1;36m1.0\u001b[0m\u001b[1;33m]\u001b[0m\u001b[1;33m)\u001b[0m\u001b[1;33m\u001b[0m\u001b[1;33m\u001b[0m\u001b[0m\n\u001b[1;32m----> 7\u001b[1;33m \u001b[0mplt\u001b[0m\u001b[1;33m.\u001b[0m\u001b[0mplot\u001b[0m\u001b[1;33m(\u001b[0m\u001b[0mfpr_tree\u001b[0m\u001b[1;33m,\u001b[0m\u001b[0mtpr_tree\u001b[0m\u001b[1;33m)\u001b[0m\u001b[1;33m\u001b[0m\u001b[1;33m\u001b[0m\u001b[0m\n\u001b[0m\u001b[0;32m      8\u001b[0m \u001b[0mplt\u001b[0m\u001b[1;33m.\u001b[0m\u001b[0mplot\u001b[0m\u001b[1;33m(\u001b[0m\u001b[0mfpr_forest\u001b[0m\u001b[1;33m,\u001b[0m\u001b[0mtpr_forest\u001b[0m\u001b[1;33m)\u001b[0m\u001b[1;33m\u001b[0m\u001b[1;33m\u001b[0m\u001b[0m\n\u001b[0;32m      9\u001b[0m \u001b[0mplt\u001b[0m\u001b[1;33m.\u001b[0m\u001b[0mxlabel\u001b[0m\u001b[1;33m(\u001b[0m\u001b[1;34m'False Positive Rate'\u001b[0m\u001b[1;33m)\u001b[0m\u001b[1;33m\u001b[0m\u001b[1;33m\u001b[0m\u001b[0m\n",
      "\u001b[1;31mNameError\u001b[0m: name 'fpr_tree' is not defined"
     ]
    },
    {
     "data": {
      "text/plain": [
       "<Figure size 432x288 with 0 Axes>"
      ]
     },
     "metadata": {},
     "output_type": "display_data"
    },
    {
     "data": {
      "image/png": "[encoded data removed]",
      "text/plain": [
       "<Figure size 720x504 with 1 Axes>"
      ]
     },
     "metadata": {
      "needs_background": "light"
     },
     "output_type": "display_data"
    }
   ],
   "source": [
    "plt.figure()\n",
    "\n",
    "plt.figure(figsize=(10,7))\n",
    "plt.plot([0, 1], [0, 1], linestyle='--')\n",
    "plt.xlim([0.0, 1.0])\n",
    "plt.ylim([0.0, 1.0])\n",
    "plt.plot(fpr_tree,tpr_tree)\n",
    "plt.plot(fpr_forest,tpr_forest)\n",
    "plt.xlabel('False Positive Rate')\n",
    "plt.ylabel('True Positive Rate')\n",
    "plt.title('ROC curve')\n",
    "plt.legend(('Random model','Random Forest','Decision Tree'),\n",
    "           loc= 'upper left') \n",
    "plt.show()"
   ]
  },
  {
   "cell_type": "markdown",
   "metadata": {},
   "source": [
    "It can be concluded that the best value of the metric AUC-ROC =0.847 for the random forest model, accuracy and F1 for the decision tree model.\n"
   ]
  },
  {
   "cell_type": "markdown",
   "metadata": {},
   "source": [
    "## Summary"
   ]
  },
  {
   "cell_type": "markdown",
   "metadata": {},
   "source": [
    "- The data was studied, the data was divided into training, validation and test sets.\n",
    "- Decision tree, random forest and logical regression models were studied.\n",
    "- We changed the balance of the sample and checked the testing of the new model.\n",
    "- We got the `AUC-ROC` of the random forest model: 0.8590747856931717 and F1 0.6173800259403373."
   ]
  },
  {
   "cell_type": "code",
   "execution_count": null,
   "metadata": {},
   "outputs": [],
   "source": []
  }
 ],
 "metadata": {
  "ExecuteTimeLog": [
   {
    "duration": 1078,
    "start_time": "2022-07-22T10:45:36.032Z"
   },
   {
    "duration": 80,
    "start_time": "2022-07-22T10:45:37.112Z"
   },
   {
    "duration": 93,
    "start_time": "2022-07-22T10:45:37.194Z"
   },
   {
    "duration": 8,
    "start_time": "2022-07-22T10:45:42.698Z"
   },
   {
    "duration": 67,
    "start_time": "2022-07-22T10:50:03.172Z"
   },
   {
    "duration": 46,
    "start_time": "2022-07-22T16:57:18.839Z"
   },
   {
    "duration": 1038,
    "start_time": "2022-07-22T16:57:22.463Z"
   },
   {
    "duration": 170,
    "start_time": "2022-07-22T16:57:23.503Z"
   },
   {
    "duration": 69,
    "start_time": "2022-07-22T16:57:23.675Z"
   },
   {
    "duration": 4,
    "start_time": "2022-07-22T16:57:23.746Z"
   },
   {
    "duration": 59,
    "start_time": "2022-07-22T16:59:27.858Z"
   },
   {
    "duration": 74,
    "start_time": "2022-07-22T17:00:00.086Z"
   },
   {
    "duration": 60,
    "start_time": "2022-07-22T17:00:19.170Z"
   },
   {
    "duration": 4,
    "start_time": "2022-07-22T17:00:19.780Z"
   },
   {
    "duration": 17,
    "start_time": "2022-07-22T17:00:28.345Z"
   },
   {
    "duration": 13,
    "start_time": "2022-07-22T17:01:09.259Z"
   },
   {
    "duration": 4,
    "start_time": "2022-07-22T17:01:09.467Z"
   },
   {
    "duration": 1117,
    "start_time": "2022-07-22T17:02:40.038Z"
   },
   {
    "duration": 43,
    "start_time": "2022-07-22T17:02:41.158Z"
   },
   {
    "duration": 74,
    "start_time": "2022-07-22T17:02:41.203Z"
   },
   {
    "duration": 27,
    "start_time": "2022-07-22T17:02:41.278Z"
   },
   {
    "duration": 7,
    "start_time": "2022-07-22T17:02:41.307Z"
   },
   {
    "duration": 7,
    "start_time": "2022-07-22T17:02:41.315Z"
   },
   {
    "duration": 4,
    "start_time": "2022-07-22T17:02:56.891Z"
   },
   {
    "duration": 13,
    "start_time": "2022-07-22T17:03:26.960Z"
   },
   {
    "duration": 19,
    "start_time": "2022-07-22T17:03:36.338Z"
   },
   {
    "duration": 13,
    "start_time": "2022-07-22T17:03:44.295Z"
   },
   {
    "duration": 1044,
    "start_time": "2022-07-22T17:30:31.866Z"
   },
   {
    "duration": 42,
    "start_time": "2022-07-22T17:30:32.913Z"
   },
   {
    "duration": 73,
    "start_time": "2022-07-22T17:30:32.958Z"
   },
   {
    "duration": 4,
    "start_time": "2022-07-22T17:30:33.033Z"
   },
   {
    "duration": 22,
    "start_time": "2022-07-22T17:30:33.039Z"
   },
   {
    "duration": 14,
    "start_time": "2022-07-22T17:30:33.333Z"
   },
   {
    "duration": 96,
    "start_time": "2022-07-22T17:30:34.452Z"
   },
   {
    "duration": 9,
    "start_time": "2022-07-22T17:30:34.894Z"
   },
   {
    "duration": 11,
    "start_time": "2022-07-22T17:30:42.218Z"
   },
   {
    "duration": 5,
    "start_time": "2022-07-22T17:30:54.683Z"
   },
   {
    "duration": 6,
    "start_time": "2022-07-22T17:30:56.120Z"
   },
   {
    "duration": 3,
    "start_time": "2022-07-22T17:35:17.759Z"
   },
   {
    "duration": 3,
    "start_time": "2022-07-22T17:35:36.999Z"
   },
   {
    "duration": 15,
    "start_time": "2022-07-22T17:35:38.185Z"
   },
   {
    "duration": 3,
    "start_time": "2022-07-22T17:38:28.407Z"
   },
   {
    "duration": 30,
    "start_time": "2022-07-22T17:38:29.110Z"
   },
   {
    "duration": 1089,
    "start_time": "2022-07-22T17:38:47.144Z"
   },
   {
    "duration": 44,
    "start_time": "2022-07-22T17:38:48.235Z"
   },
   {
    "duration": 76,
    "start_time": "2022-07-22T17:38:48.280Z"
   },
   {
    "duration": 4,
    "start_time": "2022-07-22T17:38:48.359Z"
   },
   {
    "duration": 9,
    "start_time": "2022-07-22T17:38:48.366Z"
   },
   {
    "duration": 32,
    "start_time": "2022-07-22T17:38:48.377Z"
   },
   {
    "duration": 11,
    "start_time": "2022-07-22T17:38:48.492Z"
   },
   {
    "duration": 6,
    "start_time": "2022-07-22T17:38:48.718Z"
   },
   {
    "duration": 6,
    "start_time": "2022-07-22T17:38:49.228Z"
   },
   {
    "duration": 3,
    "start_time": "2022-07-22T17:38:49.724Z"
   },
   {
    "duration": 29,
    "start_time": "2022-07-22T17:38:50.356Z"
   },
   {
    "duration": 3,
    "start_time": "2022-07-22T17:40:01.268Z"
   },
   {
    "duration": 4,
    "start_time": "2022-07-22T17:40:09.902Z"
   },
   {
    "duration": 5,
    "start_time": "2022-07-22T17:40:15.758Z"
   },
   {
    "duration": 26,
    "start_time": "2022-07-22T17:41:14.416Z"
   },
   {
    "duration": 4,
    "start_time": "2022-07-22T17:41:15.971Z"
   },
   {
    "duration": 4,
    "start_time": "2022-07-22T17:41:16.179Z"
   },
   {
    "duration": 104,
    "start_time": "2022-07-22T17:44:51.990Z"
   },
   {
    "duration": 5,
    "start_time": "2022-07-22T17:44:52.531Z"
   },
   {
    "duration": 3,
    "start_time": "2022-07-22T17:44:52.925Z"
   },
   {
    "duration": 28,
    "start_time": "2022-07-22T17:44:53.613Z"
   },
   {
    "duration": 10,
    "start_time": "2022-07-22T17:45:01.440Z"
   },
   {
    "duration": 5,
    "start_time": "2022-07-22T17:45:01.853Z"
   },
   {
    "duration": 6,
    "start_time": "2022-07-22T17:45:02.407Z"
   },
   {
    "duration": 2,
    "start_time": "2022-07-22T17:45:02.708Z"
   },
   {
    "duration": 32,
    "start_time": "2022-07-22T17:45:02.934Z"
   },
   {
    "duration": 4,
    "start_time": "2022-07-22T17:45:03.131Z"
   },
   {
    "duration": 5,
    "start_time": "2022-07-22T17:45:03.335Z"
   },
   {
    "duration": 9,
    "start_time": "2022-07-22T17:45:03.727Z"
   },
   {
    "duration": 38,
    "start_time": "2022-07-22T17:45:21.062Z"
   },
   {
    "duration": 29,
    "start_time": "2022-07-22T17:45:25.644Z"
   },
   {
    "duration": 22,
    "start_time": "2022-07-22T17:46:07.357Z"
   },
   {
    "duration": 3,
    "start_time": "2022-07-22T17:46:32.521Z"
   },
   {
    "duration": 51,
    "start_time": "2022-07-22T17:46:37.049Z"
   },
   {
    "duration": 110,
    "start_time": "2022-07-22T17:47:14.384Z"
   },
   {
    "duration": 13,
    "start_time": "2022-07-22T17:47:22.774Z"
   },
   {
    "duration": 6160,
    "start_time": "2022-07-22T17:47:27.278Z"
   },
   {
    "duration": 11,
    "start_time": "2022-07-22T17:47:45.388Z"
   },
   {
    "duration": 4,
    "start_time": "2022-07-22T17:48:15.135Z"
   },
   {
    "duration": 88,
    "start_time": "2022-07-22T17:48:19.325Z"
   },
   {
    "duration": 1068,
    "start_time": "2022-07-25T05:48:09.324Z"
   },
   {
    "duration": 79,
    "start_time": "2022-07-25T05:48:10.394Z"
   },
   {
    "duration": 68,
    "start_time": "2022-07-25T05:48:10.475Z"
   },
   {
    "duration": 4,
    "start_time": "2022-07-25T05:48:10.544Z"
   },
   {
    "duration": 15,
    "start_time": "2022-07-25T05:48:10.549Z"
   },
   {
    "duration": 17,
    "start_time": "2022-07-25T05:48:10.566Z"
   },
   {
    "duration": 20,
    "start_time": "2022-07-25T05:48:10.584Z"
   },
   {
    "duration": 4,
    "start_time": "2022-07-25T05:48:10.637Z"
   },
   {
    "duration": 5,
    "start_time": "2022-07-25T05:48:10.826Z"
   },
   {
    "duration": 3,
    "start_time": "2022-07-25T05:48:11.226Z"
   },
   {
    "duration": 27,
    "start_time": "2022-07-25T05:48:11.659Z"
   },
   {
    "duration": 3,
    "start_time": "2022-07-25T05:48:11.908Z"
   },
   {
    "duration": 3,
    "start_time": "2022-07-25T05:48:12.130Z"
   },
   {
    "duration": 51,
    "start_time": "2022-07-25T05:48:12.577Z"
   },
   {
    "duration": 5847,
    "start_time": "2022-07-25T05:48:13.130Z"
   },
   {
    "duration": 190,
    "start_time": "2022-07-25T05:48:18.979Z"
   },
   {
    "duration": 148,
    "start_time": "2022-07-25T05:51:22.766Z"
   },
   {
    "duration": 4,
    "start_time": "2022-07-25T05:51:42.906Z"
   },
   {
    "duration": 52,
    "start_time": "2022-07-25T05:51:48.623Z"
   },
   {
    "duration": 56,
    "start_time": "2022-07-25T05:52:18.652Z"
   },
   {
    "duration": 6032,
    "start_time": "2022-07-25T05:53:04.978Z"
   },
   {
    "duration": 250,
    "start_time": "2022-07-25T05:53:11.012Z"
   },
   {
    "duration": 27,
    "start_time": "2022-07-25T05:57:52.833Z"
   },
   {
    "duration": 50,
    "start_time": "2022-07-25T05:58:41.430Z"
   },
   {
    "duration": 18,
    "start_time": "2022-07-25T06:00:33.748Z"
   },
   {
    "duration": 3,
    "start_time": "2022-07-25T06:00:50.241Z"
   },
   {
    "duration": 10,
    "start_time": "2022-07-25T06:00:54.367Z"
   },
   {
    "duration": 48,
    "start_time": "2022-07-25T06:02:29.494Z"
   },
   {
    "duration": 12,
    "start_time": "2022-07-25T06:07:22.654Z"
   },
   {
    "duration": 56,
    "start_time": "2022-07-25T06:16:43.204Z"
   },
   {
    "duration": 62,
    "start_time": "2022-07-25T06:17:30.574Z"
   },
   {
    "duration": 1072,
    "start_time": "2022-07-25T06:17:50.892Z"
   },
   {
    "duration": 40,
    "start_time": "2022-07-25T06:17:51.966Z"
   },
   {
    "duration": 90,
    "start_time": "2022-07-25T06:17:52.008Z"
   },
   {
    "duration": 5,
    "start_time": "2022-07-25T06:17:52.100Z"
   },
   {
    "duration": 8,
    "start_time": "2022-07-25T06:17:52.107Z"
   },
   {
    "duration": 111,
    "start_time": "2022-07-25T06:17:59.689Z"
   },
   {
    "duration": 4,
    "start_time": "2022-07-25T06:17:59.931Z"
   },
   {
    "duration": 13,
    "start_time": "2022-07-25T06:18:00.120Z"
   },
   {
    "duration": 1120,
    "start_time": "2022-07-25T06:22:50.424Z"
   },
   {
    "duration": 40,
    "start_time": "2022-07-25T06:22:52.130Z"
   },
   {
    "duration": 80,
    "start_time": "2022-07-25T06:22:57.023Z"
   },
   {
    "duration": 5,
    "start_time": "2022-07-25T06:23:29.186Z"
   },
   {
    "duration": 4,
    "start_time": "2022-07-25T06:23:29.457Z"
   },
   {
    "duration": 13,
    "start_time": "2022-07-25T06:23:30.245Z"
   },
   {
    "duration": 3,
    "start_time": "2022-07-25T06:37:05.915Z"
   },
   {
    "duration": 14,
    "start_time": "2022-07-25T06:37:09.333Z"
   },
   {
    "duration": 3,
    "start_time": "2022-07-25T06:37:15.695Z"
   },
   {
    "duration": 12,
    "start_time": "2022-07-25T06:37:31.503Z"
   },
   {
    "duration": 51,
    "start_time": "2022-07-25T06:39:05.712Z"
   },
   {
    "duration": 9,
    "start_time": "2022-07-25T06:45:02.423Z"
   },
   {
    "duration": 5,
    "start_time": "2022-07-25T06:45:02.828Z"
   },
   {
    "duration": 6,
    "start_time": "2022-07-25T06:45:03.696Z"
   },
   {
    "duration": 3,
    "start_time": "2022-07-25T06:45:04.284Z"
   },
   {
    "duration": 26,
    "start_time": "2022-07-25T06:45:04.893Z"
   },
   {
    "duration": 4,
    "start_time": "2022-07-25T06:45:05.566Z"
   },
   {
    "duration": 4,
    "start_time": "2022-07-25T06:45:06.529Z"
   },
   {
    "duration": 54,
    "start_time": "2022-07-25T06:45:52.236Z"
   },
   {
    "duration": 5888,
    "start_time": "2022-07-25T06:47:10.375Z"
   },
   {
    "duration": 121,
    "start_time": "2022-07-25T06:48:18.543Z"
   },
   {
    "duration": 94,
    "start_time": "2022-07-25T06:57:12.254Z"
   },
   {
    "duration": 125,
    "start_time": "2022-07-25T06:57:51.443Z"
   },
   {
    "duration": 3446,
    "start_time": "2022-07-25T06:59:01.294Z"
   },
   {
    "duration": 9615,
    "start_time": "2022-07-25T06:59:26.855Z"
   },
   {
    "duration": 23415,
    "start_time": "2022-07-25T06:59:42.084Z"
   },
   {
    "duration": 17271,
    "start_time": "2022-07-25T07:00:39.691Z"
   },
   {
    "duration": 10,
    "start_time": "2022-07-25T07:02:05.625Z"
   },
   {
    "duration": 10,
    "start_time": "2022-07-25T07:02:14.705Z"
   },
   {
    "duration": 8671,
    "start_time": "2022-07-25T07:02:23.699Z"
   },
   {
    "duration": 46481,
    "start_time": "2022-07-25T07:05:07.707Z"
   },
   {
    "duration": 25066,
    "start_time": "2022-07-25T07:25:15.394Z"
   },
   {
    "duration": 2658,
    "start_time": "2022-07-25T07:28:09.904Z"
   },
   {
    "duration": 1270,
    "start_time": "2022-07-25T07:28:49.499Z"
   },
   {
    "duration": 65,
    "start_time": "2022-07-25T07:34:48.822Z"
   },
   {
    "duration": 68,
    "start_time": "2022-07-25T07:34:59.264Z"
   },
   {
    "duration": 61,
    "start_time": "2022-07-25T07:35:07.679Z"
   },
   {
    "duration": 44,
    "start_time": "2022-07-25T07:35:35.641Z"
   },
   {
    "duration": 1419,
    "start_time": "2022-07-25T07:35:39.651Z"
   },
   {
    "duration": 12,
    "start_time": "2022-07-25T08:57:55.158Z"
   },
   {
    "duration": 12,
    "start_time": "2022-07-25T08:58:00.291Z"
   },
   {
    "duration": 13,
    "start_time": "2022-07-25T09:00:10.483Z"
   },
   {
    "duration": 10,
    "start_time": "2022-07-25T09:00:11.609Z"
   },
   {
    "duration": 9,
    "start_time": "2022-07-25T09:00:27.037Z"
   },
   {
    "duration": 10,
    "start_time": "2022-07-25T09:00:27.793Z"
   },
   {
    "duration": 9,
    "start_time": "2022-07-25T09:04:56.958Z"
   },
   {
    "duration": 12,
    "start_time": "2022-07-25T09:04:57.820Z"
   },
   {
    "duration": 11,
    "start_time": "2022-07-25T09:06:08.233Z"
   },
   {
    "duration": 11,
    "start_time": "2022-07-25T09:09:17.809Z"
   },
   {
    "duration": 8,
    "start_time": "2022-07-25T09:09:39.853Z"
   },
   {
    "duration": 74,
    "start_time": "2022-07-25T09:09:43.688Z"
   },
   {
    "duration": 3,
    "start_time": "2022-07-25T09:10:00.190Z"
   },
   {
    "duration": 23,
    "start_time": "2022-07-25T09:10:04.959Z"
   },
   {
    "duration": 51,
    "start_time": "2022-07-25T09:11:34.311Z"
   },
   {
    "duration": 31,
    "start_time": "2022-07-25T09:11:53.539Z"
   },
   {
    "duration": 31,
    "start_time": "2022-07-25T09:11:58.336Z"
   },
   {
    "duration": 10,
    "start_time": "2022-07-25T09:58:24.823Z"
   },
   {
    "duration": 12,
    "start_time": "2022-07-25T09:58:36.620Z"
   },
   {
    "duration": 16,
    "start_time": "2022-07-25T09:59:33.622Z"
   },
   {
    "duration": 154,
    "start_time": "2022-07-25T10:00:17.989Z"
   },
   {
    "duration": 92,
    "start_time": "2022-07-25T10:00:53.659Z"
   },
   {
    "duration": 51,
    "start_time": "2022-07-25T10:01:38.316Z"
   },
   {
    "duration": 248,
    "start_time": "2022-07-25T10:02:00.080Z"
   },
   {
    "duration": 9,
    "start_time": "2022-07-25T10:03:43.777Z"
   },
   {
    "duration": 21,
    "start_time": "2022-07-25T10:06:06.370Z"
   },
   {
    "duration": 723,
    "start_time": "2022-07-25T10:07:31.932Z"
   },
   {
    "duration": 1242,
    "start_time": "2022-07-25T10:07:52.880Z"
   },
   {
    "duration": 43,
    "start_time": "2022-07-25T10:07:54.124Z"
   },
   {
    "duration": 112,
    "start_time": "2022-07-25T10:07:54.169Z"
   },
   {
    "duration": 4,
    "start_time": "2022-07-25T10:07:54.283Z"
   },
   {
    "duration": 8,
    "start_time": "2022-07-25T10:07:54.289Z"
   },
   {
    "duration": 14,
    "start_time": "2022-07-25T10:07:54.799Z"
   },
   {
    "duration": 11,
    "start_time": "2022-07-25T10:07:55.951Z"
   },
   {
    "duration": 6,
    "start_time": "2022-07-25T10:07:56.224Z"
   },
   {
    "duration": 8,
    "start_time": "2022-07-25T10:07:56.482Z"
   },
   {
    "duration": 4,
    "start_time": "2022-07-25T10:07:56.774Z"
   },
   {
    "duration": 37,
    "start_time": "2022-07-25T10:07:57.046Z"
   },
   {
    "duration": 4,
    "start_time": "2022-07-25T10:07:57.324Z"
   },
   {
    "duration": 4,
    "start_time": "2022-07-25T10:07:57.611Z"
   },
   {
    "duration": 52,
    "start_time": "2022-07-25T10:07:58.180Z"
   },
   {
    "duration": 33,
    "start_time": "2022-07-25T10:07:58.476Z"
   },
   {
    "duration": 18195,
    "start_time": "2022-07-25T10:07:59.078Z"
   },
   {
    "duration": 890,
    "start_time": "2022-07-25T10:08:17.275Z"
   },
   {
    "duration": 99,
    "start_time": "2022-07-25T10:08:18.168Z"
   },
   {
    "duration": 15,
    "start_time": "2022-07-25T10:08:18.270Z"
   },
   {
    "duration": 109,
    "start_time": "2022-07-25T10:08:48.249Z"
   },
   {
    "duration": 8,
    "start_time": "2022-07-25T10:08:58.293Z"
   },
   {
    "duration": 1585,
    "start_time": "2022-07-25T10:12:58.048Z"
   },
   {
    "duration": 41,
    "start_time": "2022-07-25T10:12:59.635Z"
   },
   {
    "duration": 99,
    "start_time": "2022-07-25T10:12:59.678Z"
   },
   {
    "duration": 4,
    "start_time": "2022-07-25T10:12:59.779Z"
   },
   {
    "duration": 8,
    "start_time": "2022-07-25T10:12:59.785Z"
   },
   {
    "duration": 14,
    "start_time": "2022-07-25T10:13:00.529Z"
   },
   {
    "duration": 9,
    "start_time": "2022-07-25T10:13:02.628Z"
   },
   {
    "duration": 4,
    "start_time": "2022-07-25T10:13:03.087Z"
   },
   {
    "duration": 2,
    "start_time": "2022-07-25T10:13:03.639Z"
   },
   {
    "duration": 11,
    "start_time": "2022-07-25T10:13:04.515Z"
   },
   {
    "duration": 7,
    "start_time": "2022-07-25T10:13:05.546Z"
   },
   {
    "duration": 3,
    "start_time": "2022-07-25T10:13:06.516Z"
   },
   {
    "duration": 25,
    "start_time": "2022-07-25T10:13:07.475Z"
   },
   {
    "duration": 4,
    "start_time": "2022-07-25T10:13:08.242Z"
   },
   {
    "duration": 4,
    "start_time": "2022-07-25T10:13:08.998Z"
   },
   {
    "duration": 52,
    "start_time": "2022-07-25T10:13:10.092Z"
   },
   {
    "duration": 27,
    "start_time": "2022-07-25T10:13:10.385Z"
   },
   {
    "duration": 14856,
    "start_time": "2022-07-25T10:13:14.321Z"
   },
   {
    "duration": 988,
    "start_time": "2022-07-25T10:13:29.179Z"
   },
   {
    "duration": 10,
    "start_time": "2022-07-25T10:13:33.085Z"
   },
   {
    "duration": 11,
    "start_time": "2022-07-25T10:13:34.294Z"
   },
   {
    "duration": 29,
    "start_time": "2022-07-25T10:13:35.389Z"
   },
   {
    "duration": 102,
    "start_time": "2022-07-25T10:14:14.535Z"
   },
   {
    "duration": 48,
    "start_time": "2022-07-25T10:14:19.547Z"
   },
   {
    "duration": 11,
    "start_time": "2022-07-25T10:14:23.906Z"
   },
   {
    "duration": 46,
    "start_time": "2022-07-25T10:14:32.356Z"
   },
   {
    "duration": 68,
    "start_time": "2022-07-25T10:14:39.011Z"
   },
   {
    "duration": 10,
    "start_time": "2022-07-25T10:14:49.700Z"
   },
   {
    "duration": 76,
    "start_time": "2022-07-25T10:14:59.489Z"
   },
   {
    "duration": 9,
    "start_time": "2022-07-25T10:16:57.982Z"
   },
   {
    "duration": 10,
    "start_time": "2022-07-25T10:17:28.699Z"
   },
   {
    "duration": 12,
    "start_time": "2022-07-25T10:19:43.539Z"
   },
   {
    "duration": 40,
    "start_time": "2022-07-25T10:25:29.452Z"
   },
   {
    "duration": 25,
    "start_time": "2022-07-25T10:25:43.225Z"
   },
   {
    "duration": 26,
    "start_time": "2022-07-25T10:26:22.777Z"
   },
   {
    "duration": 413,
    "start_time": "2022-07-25T11:49:20.288Z"
   },
   {
    "duration": 17,
    "start_time": "2022-07-25T11:52:40.666Z"
   },
   {
    "duration": 197,
    "start_time": "2022-07-25T11:52:54.740Z"
   },
   {
    "duration": 32,
    "start_time": "2022-07-25T11:55:32.384Z"
   },
   {
    "duration": 24,
    "start_time": "2022-07-25T11:55:41.241Z"
   },
   {
    "duration": 20,
    "start_time": "2022-07-25T11:56:02.220Z"
   },
   {
    "duration": 199,
    "start_time": "2022-07-25T11:56:24.504Z"
   },
   {
    "duration": 403,
    "start_time": "2022-07-25T11:57:02.986Z"
   },
   {
    "duration": 189,
    "start_time": "2022-07-25T11:57:21.653Z"
   },
   {
    "duration": 50,
    "start_time": "2022-07-25T11:59:38.281Z"
   },
   {
    "duration": 9,
    "start_time": "2022-07-25T11:59:42.169Z"
   },
   {
    "duration": 11,
    "start_time": "2022-07-25T11:59:51.393Z"
   },
   {
    "duration": 4,
    "start_time": "2022-07-25T12:00:19.756Z"
   },
   {
    "duration": 10,
    "start_time": "2022-07-25T12:00:24.910Z"
   },
   {
    "duration": 5,
    "start_time": "2022-07-25T12:00:32.648Z"
   },
   {
    "duration": 13,
    "start_time": "2022-07-25T12:01:01.616Z"
   },
   {
    "duration": 12,
    "start_time": "2022-07-25T12:01:09.358Z"
   },
   {
    "duration": 8,
    "start_time": "2022-07-25T12:01:44.306Z"
   },
   {
    "duration": 4,
    "start_time": "2022-07-25T12:01:51.902Z"
   },
   {
    "duration": 9,
    "start_time": "2022-07-25T12:02:45.043Z"
   },
   {
    "duration": 10,
    "start_time": "2022-07-25T12:02:54.679Z"
   },
   {
    "duration": 9,
    "start_time": "2022-07-25T12:04:15.447Z"
   },
   {
    "duration": 61,
    "start_time": "2022-07-25T12:05:21.072Z"
   },
   {
    "duration": 54,
    "start_time": "2022-07-25T12:05:31.824Z"
   },
   {
    "duration": 94,
    "start_time": "2022-07-25T12:11:32.960Z"
   },
   {
    "duration": 13,
    "start_time": "2022-07-25T12:13:56.980Z"
   },
   {
    "duration": 12,
    "start_time": "2022-07-25T12:14:00.848Z"
   },
   {
    "duration": 1322,
    "start_time": "2022-07-25T12:14:19.671Z"
   },
   {
    "duration": 43,
    "start_time": "2022-07-25T12:14:20.995Z"
   },
   {
    "duration": 78,
    "start_time": "2022-07-25T12:14:21.040Z"
   },
   {
    "duration": 4,
    "start_time": "2022-07-25T12:14:21.120Z"
   },
   {
    "duration": 7,
    "start_time": "2022-07-25T12:14:21.125Z"
   },
   {
    "duration": 32,
    "start_time": "2022-07-25T12:14:21.134Z"
   },
   {
    "duration": 9,
    "start_time": "2022-07-25T12:14:22.377Z"
   },
   {
    "duration": 4,
    "start_time": "2022-07-25T12:14:22.623Z"
   },
   {
    "duration": 7,
    "start_time": "2022-07-25T12:14:22.860Z"
   },
   {
    "duration": 6,
    "start_time": "2022-07-25T12:14:23.093Z"
   },
   {
    "duration": 3,
    "start_time": "2022-07-25T12:14:23.666Z"
   },
   {
    "duration": 24,
    "start_time": "2022-07-25T12:14:23.901Z"
   },
   {
    "duration": 4,
    "start_time": "2022-07-25T12:14:24.096Z"
   },
   {
    "duration": 4,
    "start_time": "2022-07-25T12:14:24.288Z"
   },
   {
    "duration": 49,
    "start_time": "2022-07-25T12:14:25.310Z"
   },
   {
    "duration": 27,
    "start_time": "2022-07-25T12:14:25.857Z"
   },
   {
    "duration": 13949,
    "start_time": "2022-07-25T12:14:27.058Z"
   },
   {
    "duration": 1156,
    "start_time": "2022-07-25T12:14:41.009Z"
   },
   {
    "duration": 105,
    "start_time": "2022-07-25T12:14:42.168Z"
   },
   {
    "duration": 93,
    "start_time": "2022-07-25T12:14:42.276Z"
   },
   {
    "duration": 102,
    "start_time": "2022-07-25T12:14:42.370Z"
   },
   {
    "duration": 0,
    "start_time": "2022-07-25T12:14:42.474Z"
   },
   {
    "duration": 0,
    "start_time": "2022-07-25T12:14:42.475Z"
   },
   {
    "duration": 0,
    "start_time": "2022-07-25T12:14:42.476Z"
   },
   {
    "duration": 0,
    "start_time": "2022-07-25T12:14:42.477Z"
   },
   {
    "duration": 0,
    "start_time": "2022-07-25T12:14:42.478Z"
   },
   {
    "duration": 14,
    "start_time": "2022-07-25T12:14:59.155Z"
   },
   {
    "duration": 13,
    "start_time": "2022-07-25T12:15:15.316Z"
   },
   {
    "duration": 12,
    "start_time": "2022-07-25T12:15:18.089Z"
   },
   {
    "duration": 9,
    "start_time": "2022-07-25T12:15:35.959Z"
   },
   {
    "duration": 24,
    "start_time": "2022-07-25T12:15:49.589Z"
   },
   {
    "duration": 15,
    "start_time": "2022-07-25T12:15:51.553Z"
   },
   {
    "duration": 397,
    "start_time": "2022-07-25T12:15:53.351Z"
   },
   {
    "duration": 201,
    "start_time": "2022-07-25T12:15:53.818Z"
   },
   {
    "duration": 11,
    "start_time": "2022-07-25T12:15:55.297Z"
   },
   {
    "duration": 52,
    "start_time": "2022-07-25T12:15:55.528Z"
   },
   {
    "duration": 56,
    "start_time": "2022-07-25T12:17:31.061Z"
   },
   {
    "duration": 54,
    "start_time": "2022-07-26T04:40:57.839Z"
   },
   {
    "duration": 7,
    "start_time": "2022-07-26T05:23:13.043Z"
   },
   {
    "duration": 8,
    "start_time": "2022-07-26T05:23:17.246Z"
   },
   {
    "duration": 1361,
    "start_time": "2022-07-26T05:23:22.887Z"
   },
   {
    "duration": 150,
    "start_time": "2022-07-26T05:23:24.250Z"
   },
   {
    "duration": 125,
    "start_time": "2022-07-26T05:23:24.402Z"
   },
   {
    "duration": 6,
    "start_time": "2022-07-26T05:23:24.529Z"
   },
   {
    "duration": 8,
    "start_time": "2022-07-26T05:23:24.537Z"
   },
   {
    "duration": 15,
    "start_time": "2022-07-26T05:23:24.783Z"
   },
   {
    "duration": 15,
    "start_time": "2022-07-26T05:23:25.676Z"
   },
   {
    "duration": 6,
    "start_time": "2022-07-26T05:23:26.054Z"
   },
   {
    "duration": 9,
    "start_time": "2022-07-26T05:23:40.705Z"
   },
   {
    "duration": 8,
    "start_time": "2022-07-26T05:23:40.971Z"
   },
   {
    "duration": 3,
    "start_time": "2022-07-26T05:23:41.658Z"
   },
   {
    "duration": 38,
    "start_time": "2022-07-26T05:23:42.245Z"
   },
   {
    "duration": 4,
    "start_time": "2022-07-26T05:23:42.685Z"
   },
   {
    "duration": 5,
    "start_time": "2022-07-26T05:23:43.448Z"
   },
   {
    "duration": 4,
    "start_time": "2022-07-26T05:23:43.986Z"
   },
   {
    "duration": 44,
    "start_time": "2022-07-26T05:28:38.275Z"
   },
   {
    "duration": 4,
    "start_time": "2022-07-26T05:28:40.530Z"
   },
   {
    "duration": 4,
    "start_time": "2022-07-26T05:28:40.763Z"
   },
   {
    "duration": 5,
    "start_time": "2022-07-26T05:28:40.968Z"
   },
   {
    "duration": 86,
    "start_time": "2022-07-26T07:57:28.959Z"
   },
   {
    "duration": 9,
    "start_time": "2022-07-26T07:58:49.923Z"
   },
   {
    "duration": 10,
    "start_time": "2022-07-26T07:59:04.493Z"
   },
   {
    "duration": 13,
    "start_time": "2022-07-26T07:59:09.350Z"
   },
   {
    "duration": 7,
    "start_time": "2022-07-26T07:59:15.321Z"
   },
   {
    "duration": 145,
    "start_time": "2022-07-26T07:59:15.660Z"
   },
   {
    "duration": 104,
    "start_time": "2022-07-26T07:59:15.812Z"
   },
   {
    "duration": 5,
    "start_time": "2022-07-26T07:59:16.255Z"
   },
   {
    "duration": 4,
    "start_time": "2022-07-26T07:59:16.698Z"
   },
   {
    "duration": 15,
    "start_time": "2022-07-26T07:59:17.009Z"
   },
   {
    "duration": 12,
    "start_time": "2022-07-26T07:59:17.774Z"
   },
   {
    "duration": 6,
    "start_time": "2022-07-26T07:59:18.082Z"
   },
   {
    "duration": 9,
    "start_time": "2022-07-26T07:59:18.256Z"
   },
   {
    "duration": 10,
    "start_time": "2022-07-26T07:59:18.429Z"
   },
   {
    "duration": 3,
    "start_time": "2022-07-26T07:59:18.757Z"
   },
   {
    "duration": 44,
    "start_time": "2022-07-26T07:59:18.926Z"
   },
   {
    "duration": 5,
    "start_time": "2022-07-26T07:59:19.084Z"
   },
   {
    "duration": 4,
    "start_time": "2022-07-26T07:59:19.262Z"
   },
   {
    "duration": 7,
    "start_time": "2022-07-26T07:59:19.431Z"
   },
   {
    "duration": 70,
    "start_time": "2022-07-26T07:59:19.917Z"
   },
   {
    "duration": 52,
    "start_time": "2022-07-26T07:59:20.090Z"
   },
   {
    "duration": 19275,
    "start_time": "2022-07-26T07:59:20.454Z"
   },
   {
    "duration": 1680,
    "start_time": "2022-07-26T07:59:39.731Z"
   },
   {
    "duration": 110,
    "start_time": "2022-07-26T07:59:41.414Z"
   },
   {
    "duration": 19,
    "start_time": "2022-07-26T07:59:41.527Z"
   },
   {
    "duration": 34,
    "start_time": "2022-07-26T07:59:41.548Z"
   },
   {
    "duration": 21,
    "start_time": "2022-07-26T07:59:41.610Z"
   },
   {
    "duration": 599,
    "start_time": "2022-07-26T07:59:41.633Z"
   },
   {
    "duration": 264,
    "start_time": "2022-07-26T07:59:42.234Z"
   },
   {
    "duration": 11,
    "start_time": "2022-07-26T07:59:42.500Z"
   },
   {
    "duration": 62,
    "start_time": "2022-07-26T07:59:42.514Z"
   },
   {
    "duration": 5,
    "start_time": "2022-07-26T07:59:42.579Z"
   },
   {
    "duration": 15,
    "start_time": "2022-07-26T08:01:52.699Z"
   },
   {
    "duration": 14,
    "start_time": "2022-07-26T08:02:02.760Z"
   },
   {
    "duration": 470,
    "start_time": "2022-07-26T08:02:46.609Z"
   },
   {
    "duration": 200,
    "start_time": "2022-07-26T08:02:53.481Z"
   },
   {
    "duration": 20,
    "start_time": "2022-07-26T08:31:02.938Z"
   },
   {
    "duration": 63,
    "start_time": "2022-07-26T08:31:49.454Z"
   },
   {
    "duration": 17267,
    "start_time": "2022-07-26T08:33:52.085Z"
   },
   {
    "duration": 4821,
    "start_time": "2022-07-26T08:35:45.610Z"
   },
   {
    "duration": 2112,
    "start_time": "2022-07-26T08:36:36.404Z"
   },
   {
    "duration": 1520,
    "start_time": "2022-07-26T08:37:11.231Z"
   },
   {
    "duration": 45,
    "start_time": "2022-07-26T08:37:12.753Z"
   },
   {
    "duration": 96,
    "start_time": "2022-07-26T08:37:12.799Z"
   },
   {
    "duration": 6,
    "start_time": "2022-07-26T08:37:12.912Z"
   },
   {
    "duration": 22,
    "start_time": "2022-07-26T08:37:12.920Z"
   },
   {
    "duration": 16,
    "start_time": "2022-07-26T08:37:13.040Z"
   },
   {
    "duration": 11,
    "start_time": "2022-07-26T08:37:13.863Z"
   },
   {
    "duration": 6,
    "start_time": "2022-07-26T08:37:14.198Z"
   },
   {
    "duration": 10,
    "start_time": "2022-07-26T08:37:14.364Z"
   },
   {
    "duration": 7,
    "start_time": "2022-07-26T08:37:14.527Z"
   },
   {
    "duration": 3,
    "start_time": "2022-07-26T08:37:14.856Z"
   },
   {
    "duration": 47,
    "start_time": "2022-07-26T08:37:15.043Z"
   },
   {
    "duration": 4,
    "start_time": "2022-07-26T08:37:15.201Z"
   },
   {
    "duration": 5,
    "start_time": "2022-07-26T08:37:15.377Z"
   },
   {
    "duration": 4,
    "start_time": "2022-07-26T08:37:15.547Z"
   },
   {
    "duration": 69,
    "start_time": "2022-07-26T08:37:16.057Z"
   },
   {
    "duration": 38,
    "start_time": "2022-07-26T08:37:16.221Z"
   },
   {
    "duration": 19266,
    "start_time": "2022-07-26T08:37:16.557Z"
   },
   {
    "duration": 1597,
    "start_time": "2022-07-26T08:37:35.825Z"
   },
   {
    "duration": 186,
    "start_time": "2022-07-26T08:37:37.425Z"
   },
   {
    "duration": 130,
    "start_time": "2022-07-26T08:37:37.613Z"
   },
   {
    "duration": 0,
    "start_time": "2022-07-26T08:37:37.744Z"
   },
   {
    "duration": 0,
    "start_time": "2022-07-26T08:37:37.746Z"
   },
   {
    "duration": 36,
    "start_time": "2022-07-26T08:37:37.783Z"
   },
   {
    "duration": 12,
    "start_time": "2022-07-26T08:37:37.938Z"
   },
   {
    "duration": 534,
    "start_time": "2022-07-26T08:37:38.097Z"
   },
   {
    "duration": 10,
    "start_time": "2022-07-26T08:37:38.634Z"
   },
   {
    "duration": 0,
    "start_time": "2022-07-26T08:37:38.646Z"
   },
   {
    "duration": 0,
    "start_time": "2022-07-26T08:37:38.647Z"
   },
   {
    "duration": 12,
    "start_time": "2022-07-26T08:37:38.709Z"
   },
   {
    "duration": 162,
    "start_time": "2022-07-26T08:37:38.881Z"
   },
   {
    "duration": 4833,
    "start_time": "2022-07-26T08:38:03.609Z"
   },
   {
    "duration": 13,
    "start_time": "2022-07-26T08:38:08.444Z"
   },
   {
    "duration": 2108,
    "start_time": "2022-07-26T08:38:08.459Z"
   },
   {
    "duration": 33,
    "start_time": "2022-07-26T08:38:12.274Z"
   },
   {
    "duration": 19,
    "start_time": "2022-07-26T08:38:13.213Z"
   },
   {
    "duration": 522,
    "start_time": "2022-07-26T08:38:13.969Z"
   },
   {
    "duration": 239,
    "start_time": "2022-07-26T08:38:14.493Z"
   },
   {
    "duration": 9,
    "start_time": "2022-07-26T08:38:15.149Z"
   },
   {
    "duration": 60,
    "start_time": "2022-07-26T08:38:15.656Z"
   },
   {
    "duration": 5,
    "start_time": "2022-07-26T08:38:16.229Z"
   },
   {
    "duration": 191,
    "start_time": "2022-07-26T08:38:16.851Z"
   },
   {
    "duration": 4,
    "start_time": "2022-07-26T08:41:44.350Z"
   },
   {
    "duration": 118,
    "start_time": "2022-07-26T08:44:31.208Z"
   },
   {
    "duration": 92,
    "start_time": "2022-07-26T08:46:06.886Z"
   },
   {
    "duration": 73,
    "start_time": "2022-07-26T08:49:17.415Z"
   },
   {
    "duration": 75,
    "start_time": "2022-07-26T08:49:52.802Z"
   },
   {
    "duration": 135,
    "start_time": "2022-07-26T08:50:39.966Z"
   },
   {
    "duration": 81,
    "start_time": "2022-07-26T08:51:47.396Z"
   },
   {
    "duration": 1575,
    "start_time": "2022-07-26T08:52:23.822Z"
   },
   {
    "duration": 43,
    "start_time": "2022-07-26T08:52:25.927Z"
   },
   {
    "duration": 93,
    "start_time": "2022-07-26T08:52:26.766Z"
   },
   {
    "duration": 5,
    "start_time": "2022-07-26T08:52:27.769Z"
   },
   {
    "duration": 5,
    "start_time": "2022-07-26T08:52:29.177Z"
   },
   {
    "duration": 19,
    "start_time": "2022-07-26T08:52:30.214Z"
   },
   {
    "duration": 15,
    "start_time": "2022-07-26T08:52:33.002Z"
   },
   {
    "duration": 6,
    "start_time": "2022-07-26T08:52:34.383Z"
   },
   {
    "duration": 9,
    "start_time": "2022-07-26T08:52:35.017Z"
   },
   {
    "duration": 8,
    "start_time": "2022-07-26T08:52:35.578Z"
   },
   {
    "duration": 3,
    "start_time": "2022-07-26T08:52:36.545Z"
   },
   {
    "duration": 49,
    "start_time": "2022-07-26T08:52:36.870Z"
   },
   {
    "duration": 5,
    "start_time": "2022-07-26T08:52:37.160Z"
   },
   {
    "duration": 6,
    "start_time": "2022-07-26T08:52:37.526Z"
   },
   {
    "duration": 4,
    "start_time": "2022-07-26T08:52:37.944Z"
   },
   {
    "duration": 69,
    "start_time": "2022-07-26T08:52:48.562Z"
   },
   {
    "duration": 38,
    "start_time": "2022-07-26T08:52:48.823Z"
   },
   {
    "duration": 19409,
    "start_time": "2022-07-26T08:52:49.832Z"
   },
   {
    "duration": 1671,
    "start_time": "2022-07-26T08:53:09.243Z"
   },
   {
    "duration": 103,
    "start_time": "2022-07-26T08:53:10.917Z"
   },
   {
    "duration": 132,
    "start_time": "2022-07-26T08:53:11.022Z"
   },
   {
    "duration": 0,
    "start_time": "2022-07-26T08:53:11.157Z"
   },
   {
    "duration": 0,
    "start_time": "2022-07-26T08:53:11.158Z"
   },
   {
    "duration": 39,
    "start_time": "2022-07-26T08:53:11.452Z"
   },
   {
    "duration": 12,
    "start_time": "2022-07-26T08:53:11.698Z"
   },
   {
    "duration": 583,
    "start_time": "2022-07-26T08:53:11.974Z"
   },
   {
    "duration": 11,
    "start_time": "2022-07-26T08:53:12.559Z"
   },
   {
    "duration": 0,
    "start_time": "2022-07-26T08:53:12.573Z"
   },
   {
    "duration": 68,
    "start_time": "2022-07-26T08:53:12.804Z"
   },
   {
    "duration": 12,
    "start_time": "2022-07-26T08:53:13.356Z"
   },
   {
    "duration": 3950,
    "start_time": "2022-07-26T08:53:57.936Z"
   },
   {
    "duration": 15,
    "start_time": "2022-07-26T08:54:09.692Z"
   },
   {
    "duration": 4949,
    "start_time": "2022-07-26T08:54:10.526Z"
   },
   {
    "duration": 14,
    "start_time": "2022-07-26T08:54:17.987Z"
   },
   {
    "duration": 2073,
    "start_time": "2022-07-26T08:54:18.513Z"
   },
   {
    "duration": 32,
    "start_time": "2022-07-26T08:54:23.051Z"
   },
   {
    "duration": 20,
    "start_time": "2022-07-26T08:54:23.962Z"
   },
   {
    "duration": 557,
    "start_time": "2022-07-26T08:54:24.760Z"
   },
   {
    "duration": 231,
    "start_time": "2022-07-26T08:54:27.906Z"
   },
   {
    "duration": 11,
    "start_time": "2022-07-26T08:54:28.881Z"
   },
   {
    "duration": 48,
    "start_time": "2022-07-26T08:54:29.368Z"
   },
   {
    "duration": 7,
    "start_time": "2022-07-26T08:54:29.954Z"
   },
   {
    "duration": 212,
    "start_time": "2022-07-26T08:54:30.508Z"
   },
   {
    "duration": 46,
    "start_time": "2022-08-01T08:51:19.289Z"
   }
  ],
  "kernelspec": {
   "display_name": "Python 3 (ipykernel)",
   "language": "python",
   "name": "python3"
  },
  "language_info": {
   "codemirror_mode": {
    "name": "ipython",
    "version": 3
   },
   "file_extension": ".py",
   "mimetype": "text/x-python",
   "name": "python",
   "nbconvert_exporter": "python",
   "pygments_lexer": "ipython3",
   "version": "3.9.12"
  },
  "toc": {
   "base_numbering": 1,
   "nav_menu": {},
   "number_sections": true,
   "sideBar": true,
   "skip_h1_title": true,
   "title_cell": "Содержание",
   "title_sidebar": "Contents",
   "toc_cell": true,
   "toc_position": {
    "height": "calc(100% - 180px)",
    "left": "10px",
    "top": "150px",
    "width": "165px"
   },
   "toc_section_display": true,
   "toc_window_display": true
  }
 },
 "nbformat": 4,
 "nbformat_minor": 2
}

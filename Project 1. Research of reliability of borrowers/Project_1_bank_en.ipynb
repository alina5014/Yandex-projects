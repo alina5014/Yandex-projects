{
 "cells": [
  {
   "cell_type": "markdown",
   "id": "e6ab4e67",
   "metadata": {},
   "source": [
    "# Research of reliability of borrowers.\n",
    "\n",
    "Establishing a relationship between marital status, number of children, income and the fact of loan repayment on time.\n",
    "\n",
    "The purpose of the study is to find out:\n",
    "\n",
    "1. Relationship between marital status and loan repayment on time.\n",
    "2. Relationship between the number of children and loan repayment on time.\n",
    "3. Relationship between income level and loan repayment on time\n",
    "4. Dependence of other factors and loan repayment on time.\n",
    "\n",
    "The study will take place in three stages:\n",
    "\n",
    "- Data review.\n",
    "- Data preprocessing.\n",
    "- Exploratory analysis."
   ]
  },
  {
   "cell_type": "markdown",
   "id": "1c4ad9e0",
   "metadata": {},
   "source": [
    "## Data overview"
   ]
  },
  {
   "cell_type": "code",
   "execution_count": 3,
   "id": "40a14647",
   "metadata": {},
   "outputs": [],
   "source": [
    "import pandas as pd\n",
    "import seaborn as sns"
   ]
  },
  {
   "cell_type": "code",
   "execution_count": 4,
   "id": "a45143cc",
   "metadata": {
    "scrolled": true
   },
   "outputs": [],
   "source": [
    "try:\n",
    "    df = pd.read_csv('/datasets/data.csv') \n",
    "except:\n",
    "    df = pd.read_csv('data.csv') "
   ]
  },
  {
   "cell_type": "code",
   "execution_count": 5,
   "id": "e61848c3",
   "metadata": {},
   "outputs": [
    {
     "name": "stdout",
     "output_type": "stream",
     "text": [
      "<class 'pandas.core.frame.DataFrame'>\n",
      "RangeIndex: 21525 entries, 0 to 21524\n",
      "Data columns (total 12 columns):\n",
      " #   Column            Non-Null Count  Dtype  \n",
      "---  ------            --------------  -----  \n",
      " 0   children          21525 non-null  int64  \n",
      " 1   days_employed     19351 non-null  float64\n",
      " 2   dob_years         21525 non-null  int64  \n",
      " 3   education         21525 non-null  object \n",
      " 4   education_id      21525 non-null  int64  \n",
      " 5   family_status     21525 non-null  object \n",
      " 6   family_status_id  21525 non-null  int64  \n",
      " 7   gender            21525 non-null  object \n",
      " 8   income_type       21525 non-null  object \n",
      " 9   debt              21525 non-null  int64  \n",
      " 10  total_income      19351 non-null  float64\n",
      " 11  purpose           21525 non-null  object \n",
      "dtypes: float64(2), int64(5), object(5)\n",
      "memory usage: 2.0+ MB\n"
     ]
    },
    {
     "data": {
      "text/plain": [
       "None"
      ]
     },
     "metadata": {},
     "output_type": "display_data"
    },
    {
     "name": "stdout",
     "output_type": "stream",
     "text": [
      "====================================================================================================\n"
     ]
    },
    {
     "data": {
      "text/html": [
       "<div>\n",
       "<style scoped>\n",
       "    .dataframe tbody tr th:only-of-type {\n",
       "        vertical-align: middle;\n",
       "    }\n",
       "\n",
       "    .dataframe tbody tr th {\n",
       "        vertical-align: top;\n",
       "    }\n",
       "\n",
       "    .dataframe thead th {\n",
       "        text-align: right;\n",
       "    }\n",
       "</style>\n",
       "<table border=\"1\" class=\"dataframe\">\n",
       "  <thead>\n",
       "    <tr style=\"text-align: right;\">\n",
       "      <th></th>\n",
       "      <th>children</th>\n",
       "      <th>days_employed</th>\n",
       "      <th>dob_years</th>\n",
       "      <th>education_id</th>\n",
       "      <th>family_status_id</th>\n",
       "      <th>debt</th>\n",
       "      <th>total_income</th>\n",
       "    </tr>\n",
       "  </thead>\n",
       "  <tbody>\n",
       "    <tr>\n",
       "      <th>count</th>\n",
       "      <td>21525.000000</td>\n",
       "      <td>19351.000000</td>\n",
       "      <td>21525.000000</td>\n",
       "      <td>21525.000000</td>\n",
       "      <td>21525.000000</td>\n",
       "      <td>21525.000000</td>\n",
       "      <td>1.935100e+04</td>\n",
       "    </tr>\n",
       "    <tr>\n",
       "      <th>mean</th>\n",
       "      <td>0.538908</td>\n",
       "      <td>63046.497661</td>\n",
       "      <td>43.293380</td>\n",
       "      <td>0.817236</td>\n",
       "      <td>0.972544</td>\n",
       "      <td>0.080883</td>\n",
       "      <td>1.674223e+05</td>\n",
       "    </tr>\n",
       "    <tr>\n",
       "      <th>std</th>\n",
       "      <td>1.381587</td>\n",
       "      <td>140827.311974</td>\n",
       "      <td>12.574584</td>\n",
       "      <td>0.548138</td>\n",
       "      <td>1.420324</td>\n",
       "      <td>0.272661</td>\n",
       "      <td>1.029716e+05</td>\n",
       "    </tr>\n",
       "    <tr>\n",
       "      <th>min</th>\n",
       "      <td>-1.000000</td>\n",
       "      <td>-18388.949901</td>\n",
       "      <td>0.000000</td>\n",
       "      <td>0.000000</td>\n",
       "      <td>0.000000</td>\n",
       "      <td>0.000000</td>\n",
       "      <td>2.066726e+04</td>\n",
       "    </tr>\n",
       "    <tr>\n",
       "      <th>25%</th>\n",
       "      <td>0.000000</td>\n",
       "      <td>-2747.423625</td>\n",
       "      <td>33.000000</td>\n",
       "      <td>1.000000</td>\n",
       "      <td>0.000000</td>\n",
       "      <td>0.000000</td>\n",
       "      <td>1.030532e+05</td>\n",
       "    </tr>\n",
       "    <tr>\n",
       "      <th>50%</th>\n",
       "      <td>0.000000</td>\n",
       "      <td>-1203.369529</td>\n",
       "      <td>42.000000</td>\n",
       "      <td>1.000000</td>\n",
       "      <td>0.000000</td>\n",
       "      <td>0.000000</td>\n",
       "      <td>1.450179e+05</td>\n",
       "    </tr>\n",
       "    <tr>\n",
       "      <th>75%</th>\n",
       "      <td>1.000000</td>\n",
       "      <td>-291.095954</td>\n",
       "      <td>53.000000</td>\n",
       "      <td>1.000000</td>\n",
       "      <td>1.000000</td>\n",
       "      <td>0.000000</td>\n",
       "      <td>2.034351e+05</td>\n",
       "    </tr>\n",
       "    <tr>\n",
       "      <th>max</th>\n",
       "      <td>20.000000</td>\n",
       "      <td>401755.400475</td>\n",
       "      <td>75.000000</td>\n",
       "      <td>4.000000</td>\n",
       "      <td>4.000000</td>\n",
       "      <td>1.000000</td>\n",
       "      <td>2.265604e+06</td>\n",
       "    </tr>\n",
       "  </tbody>\n",
       "</table>\n",
       "</div>"
      ],
      "text/plain": [
       "           children  days_employed     dob_years  education_id  \\\n",
       "count  21525.000000   19351.000000  21525.000000  21525.000000   \n",
       "mean       0.538908   63046.497661     43.293380      0.817236   \n",
       "std        1.381587  140827.311974     12.574584      0.548138   \n",
       "min       -1.000000  -18388.949901      0.000000      0.000000   \n",
       "25%        0.000000   -2747.423625     33.000000      1.000000   \n",
       "50%        0.000000   -1203.369529     42.000000      1.000000   \n",
       "75%        1.000000    -291.095954     53.000000      1.000000   \n",
       "max       20.000000  401755.400475     75.000000      4.000000   \n",
       "\n",
       "       family_status_id          debt  total_income  \n",
       "count      21525.000000  21525.000000  1.935100e+04  \n",
       "mean           0.972544      0.080883  1.674223e+05  \n",
       "std            1.420324      0.272661  1.029716e+05  \n",
       "min            0.000000      0.000000  2.066726e+04  \n",
       "25%            0.000000      0.000000  1.030532e+05  \n",
       "50%            0.000000      0.000000  1.450179e+05  \n",
       "75%            1.000000      0.000000  2.034351e+05  \n",
       "max            4.000000      1.000000  2.265604e+06  "
      ]
     },
     "metadata": {},
     "output_type": "display_data"
    },
    {
     "name": "stdout",
     "output_type": "stream",
     "text": [
      "====================================================================================================\n",
      "Number of null values: children            0.000000\n",
      "days_employed       0.100999\n",
      "dob_years           0.000000\n",
      "education           0.000000\n",
      "education_id        0.000000\n",
      "family_status       0.000000\n",
      "family_status_id    0.000000\n",
      "gender              0.000000\n",
      "income_type         0.000000\n",
      "debt                0.000000\n",
      "total_income        0.100999\n",
      "purpose             0.000000\n",
      "dtype: float64\n",
      "====================================================================================================\n",
      "Number of duplicates: 54\n",
      "====================================================================================================\n"
     ]
    },
    {
     "data": {
      "text/html": [
       "<div>\n",
       "<style scoped>\n",
       "    .dataframe tbody tr th:only-of-type {\n",
       "        vertical-align: middle;\n",
       "    }\n",
       "\n",
       "    .dataframe tbody tr th {\n",
       "        vertical-align: top;\n",
       "    }\n",
       "\n",
       "    .dataframe thead th {\n",
       "        text-align: right;\n",
       "    }\n",
       "</style>\n",
       "<table border=\"1\" class=\"dataframe\">\n",
       "  <thead>\n",
       "    <tr style=\"text-align: right;\">\n",
       "      <th></th>\n",
       "      <th>children</th>\n",
       "      <th>days_employed</th>\n",
       "      <th>dob_years</th>\n",
       "      <th>education</th>\n",
       "      <th>education_id</th>\n",
       "      <th>family_status</th>\n",
       "      <th>family_status_id</th>\n",
       "      <th>gender</th>\n",
       "      <th>income_type</th>\n",
       "      <th>debt</th>\n",
       "      <th>total_income</th>\n",
       "      <th>purpose</th>\n",
       "    </tr>\n",
       "  </thead>\n",
       "  <tbody>\n",
       "    <tr>\n",
       "      <th>0</th>\n",
       "      <td>1</td>\n",
       "      <td>-8437.673028</td>\n",
       "      <td>42</td>\n",
       "      <td>высшее</td>\n",
       "      <td>0</td>\n",
       "      <td>женат / замужем</td>\n",
       "      <td>0</td>\n",
       "      <td>F</td>\n",
       "      <td>сотрудник</td>\n",
       "      <td>0</td>\n",
       "      <td>253875.639453</td>\n",
       "      <td>покупка жилья</td>\n",
       "    </tr>\n",
       "    <tr>\n",
       "      <th>1</th>\n",
       "      <td>1</td>\n",
       "      <td>-4024.803754</td>\n",
       "      <td>36</td>\n",
       "      <td>среднее</td>\n",
       "      <td>1</td>\n",
       "      <td>женат / замужем</td>\n",
       "      <td>0</td>\n",
       "      <td>F</td>\n",
       "      <td>сотрудник</td>\n",
       "      <td>0</td>\n",
       "      <td>112080.014102</td>\n",
       "      <td>приобретение автомобиля</td>\n",
       "    </tr>\n",
       "    <tr>\n",
       "      <th>2</th>\n",
       "      <td>0</td>\n",
       "      <td>-5623.422610</td>\n",
       "      <td>33</td>\n",
       "      <td>Среднее</td>\n",
       "      <td>1</td>\n",
       "      <td>женат / замужем</td>\n",
       "      <td>0</td>\n",
       "      <td>M</td>\n",
       "      <td>сотрудник</td>\n",
       "      <td>0</td>\n",
       "      <td>145885.952297</td>\n",
       "      <td>покупка жилья</td>\n",
       "    </tr>\n",
       "    <tr>\n",
       "      <th>3</th>\n",
       "      <td>3</td>\n",
       "      <td>-4124.747207</td>\n",
       "      <td>32</td>\n",
       "      <td>среднее</td>\n",
       "      <td>1</td>\n",
       "      <td>женат / замужем</td>\n",
       "      <td>0</td>\n",
       "      <td>M</td>\n",
       "      <td>сотрудник</td>\n",
       "      <td>0</td>\n",
       "      <td>267628.550329</td>\n",
       "      <td>дополнительное образование</td>\n",
       "    </tr>\n",
       "    <tr>\n",
       "      <th>4</th>\n",
       "      <td>0</td>\n",
       "      <td>340266.072047</td>\n",
       "      <td>53</td>\n",
       "      <td>среднее</td>\n",
       "      <td>1</td>\n",
       "      <td>гражданский брак</td>\n",
       "      <td>1</td>\n",
       "      <td>F</td>\n",
       "      <td>пенсионер</td>\n",
       "      <td>0</td>\n",
       "      <td>158616.077870</td>\n",
       "      <td>сыграть свадьбу</td>\n",
       "    </tr>\n",
       "  </tbody>\n",
       "</table>\n",
       "</div>"
      ],
      "text/plain": [
       "   children  days_employed  dob_years education  education_id  \\\n",
       "0         1   -8437.673028         42    высшее             0   \n",
       "1         1   -4024.803754         36   среднее             1   \n",
       "2         0   -5623.422610         33   Среднее             1   \n",
       "3         3   -4124.747207         32   среднее             1   \n",
       "4         0  340266.072047         53   среднее             1   \n",
       "\n",
       "      family_status  family_status_id gender income_type  debt   total_income  \\\n",
       "0   женат / замужем                 0      F   сотрудник     0  253875.639453   \n",
       "1   женат / замужем                 0      F   сотрудник     0  112080.014102   \n",
       "2   женат / замужем                 0      M   сотрудник     0  145885.952297   \n",
       "3   женат / замужем                 0      M   сотрудник     0  267628.550329   \n",
       "4  гражданский брак                 1      F   пенсионер     0  158616.077870   \n",
       "\n",
       "                      purpose  \n",
       "0               покупка жилья  \n",
       "1     приобретение автомобиля  \n",
       "2               покупка жилья  \n",
       "3  дополнительное образование  \n",
       "4             сыграть свадьбу  "
      ]
     },
     "metadata": {},
     "output_type": "display_data"
    },
    {
     "data": {
      "text/plain": [
       "None"
      ]
     },
     "metadata": {},
     "output_type": "display_data"
    }
   ],
   "source": [
    "def info(df):\n",
    "    display(df.info())\n",
    "    print(100*'=')\n",
    "    display(df.describe())\n",
    "    print(100*'=')\n",
    "    print(f'Number of null values: {df.isna().mean()}')\n",
    "    print(100*'=')\n",
    "    print(f'Number of duplicates: {df.duplicated().sum()}')\n",
    "    print(100*'=')\n",
    "    display(df.head())\n",
    "display(info(df))     "
   ]
  },
  {
   "cell_type": "markdown",
   "id": "2d8badd2",
   "metadata": {},
   "source": [
    "The table has eleven columns. The data types in columns are `int`,`object`,`float`.\n",
    "\n",
    "According to the data documentation:\n",
    "\n",
    "* `children` - the number of children in the family\n",
    "* `days_employed` - total work experience in days\n",
    "* `dob_years` — client's age in years\n",
    "* `education` - the level of education of the client\n",
    "* `education_id` — education level identifier\n",
    "* `family_status` - marital status\n",
    "* `family_status_id` - marital status identifier\n",
    "* `gender` — gender of the client\n",
    "* `income_type` - employment type\n",
    "* `debt` - whether he had a debt to repay loans\n",
    "* `total_income` - monthly income\n",
    "* `purpose` - the purpose of the loan\n",
    "\n",
    "\n",
    "The number of values in the columns varies. This means that there are missing values in the data in the values of total work experience, and total income.\n",
    "\n",
    "Missing values in the table may be due to the fact that the information was not initially specified. As we can see from the calculations, the percentage of missing values is 10%, so it is best to replace these gaps with median values, since they have more objective information about income and seniority than the average value."
   ]
  },
  {
   "cell_type": "markdown",
   "id": "00a20ab7",
   "metadata": {},
   "source": [
    "Each row of the table contains customer data. The data provides the necessary information about the client: income, marital status, number of children, length of service, education, gender, the purpose of obtaining a loan, and whether the client had debts to repay loans.\n",
    "\n",
    "Preliminarily, it can be argued that there is enough data to test hypotheses. But there are gaps in the data.\n",
    "\n",
    "To move forward, you need to fix problems in the data and explore the data."
   ]
  },
  {
   "cell_type": "markdown",
   "id": "d008196f",
   "metadata": {},
   "source": [
    "### Filling in the blanks"
   ]
  },
  {
   "cell_type": "code",
   "execution_count": 6,
   "id": "c65e670b",
   "metadata": {
    "scrolled": true
   },
   "outputs": [
    {
     "data": {
      "text/plain": [
       "children               0\n",
       "days_employed       2174\n",
       "dob_years              0\n",
       "education              0\n",
       "education_id           0\n",
       "family_status          0\n",
       "family_status_id       0\n",
       "gender                 0\n",
       "income_type            0\n",
       "debt                   0\n",
       "total_income        2174\n",
       "purpose                0\n",
       "dtype: int64"
      ]
     },
     "execution_count": 6,
     "metadata": {},
     "output_type": "execute_result"
    }
   ],
   "source": [
    "df.isnull().sum() "
   ]
  },
  {
   "cell_type": "code",
   "execution_count": 7,
   "id": "312fff3b",
   "metadata": {},
   "outputs": [
    {
     "name": "stdout",
     "output_type": "stream",
     "text": [
      "0        253875.639453\n",
      "1        112080.014102\n",
      "2        145885.952297\n",
      "3        267628.550329\n",
      "4        158616.077870\n",
      "             ...      \n",
      "21520    224791.862382\n",
      "21521    155999.806512\n",
      "21522     89672.561153\n",
      "21523    244093.050500\n",
      "21524     82047.418899\n",
      "Name: total_income, Length: 21525, dtype: float64\n"
     ]
    }
   ],
   "source": [
    "print(df['total_income'])"
   ]
  },
  {
   "cell_type": "code",
   "execution_count": 8,
   "id": "8c13c47d",
   "metadata": {},
   "outputs": [
    {
     "data": {
      "text/plain": [
       "145017.93753253992"
      ]
     },
     "execution_count": 8,
     "metadata": {},
     "output_type": "execute_result"
    }
   ],
   "source": [
    "total_income_avg = df['total_income'].median()\n",
    "total_income_avg"
   ]
  },
  {
   "cell_type": "code",
   "execution_count": 9,
   "id": "2956af6f",
   "metadata": {},
   "outputs": [
    {
     "data": {
      "text/plain": [
       "children               0\n",
       "days_employed       2174\n",
       "dob_years              0\n",
       "education              0\n",
       "education_id           0\n",
       "family_status          0\n",
       "family_status_id       0\n",
       "gender                 0\n",
       "income_type            0\n",
       "debt                   0\n",
       "total_income        2174\n",
       "purpose                0\n",
       "dtype: int64"
      ]
     },
     "execution_count": 9,
     "metadata": {},
     "output_type": "execute_result"
    }
   ],
   "source": [
    "df.isnull().sum()"
   ]
  },
  {
   "cell_type": "code",
   "execution_count": 10,
   "id": "e8f5875e",
   "metadata": {},
   "outputs": [],
   "source": [
    "df['total_income'] = df['total_income'].fillna(df.groupby('income_type')['total_income'].transform(\"median\"))"
   ]
  },
  {
   "cell_type": "code",
   "execution_count": 11,
   "id": "05d8ad18",
   "metadata": {},
   "outputs": [
    {
     "data": {
      "text/plain": [
       "children               0\n",
       "days_employed       2174\n",
       "dob_years              0\n",
       "education              0\n",
       "education_id           0\n",
       "family_status          0\n",
       "family_status_id       0\n",
       "gender                 0\n",
       "income_type            0\n",
       "debt                   0\n",
       "total_income           0\n",
       "purpose                0\n",
       "dtype: int64"
      ]
     },
     "execution_count": 11,
     "metadata": {},
     "output_type": "execute_result"
    }
   ],
   "source": [
    "df.isnull().sum() "
   ]
  },
  {
   "cell_type": "code",
   "execution_count": 12,
   "id": "7c601dd2",
   "metadata": {},
   "outputs": [
    {
     "data": {
      "text/plain": [
       "0         -8437.673028\n",
       "1         -4024.803754\n",
       "2         -5623.422610\n",
       "3         -4124.747207\n",
       "4        340266.072047\n",
       "             ...      \n",
       "21520     -4529.316663\n",
       "21521    343937.404131\n",
       "21522     -2113.346888\n",
       "21523     -3112.481705\n",
       "21524     -1984.507589\n",
       "Name: days_employed, Length: 21525, dtype: float64"
      ]
     },
     "execution_count": 12,
     "metadata": {},
     "output_type": "execute_result"
    }
   ],
   "source": [
    "df['days_employed'] "
   ]
  },
  {
   "cell_type": "markdown",
   "id": "bf29c736",
   "metadata": {},
   "source": [
    "Some values are negative, while others significantly exceed the age of the client. Probably the length of service was counted not in days, but in hours.\n",
    "Thus, it is necessary to replace negative values with positive ones, and convert other numbers into days."
   ]
  },
  {
   "cell_type": "code",
   "execution_count": 13,
   "id": "e9e771ab",
   "metadata": {},
   "outputs": [],
   "source": [
    "df['days_employed'] = df['days_employed'].abs() "
   ]
  },
  {
   "cell_type": "code",
   "execution_count": 14,
   "id": "9ad0ebc4",
   "metadata": {},
   "outputs": [],
   "source": [
    "\n",
    "df.loc[df['days_employed'] > 100000 ,'days_employed'] = 24 "
   ]
  },
  {
   "cell_type": "code",
   "execution_count": 15,
   "id": "680b9e9a",
   "metadata": {},
   "outputs": [
    {
     "data": {
      "text/html": [
       "<div>\n",
       "<style scoped>\n",
       "    .dataframe tbody tr th:only-of-type {\n",
       "        vertical-align: middle;\n",
       "    }\n",
       "\n",
       "    .dataframe tbody tr th {\n",
       "        vertical-align: top;\n",
       "    }\n",
       "\n",
       "    .dataframe thead th {\n",
       "        text-align: right;\n",
       "    }\n",
       "</style>\n",
       "<table border=\"1\" class=\"dataframe\">\n",
       "  <thead>\n",
       "    <tr style=\"text-align: right;\">\n",
       "      <th></th>\n",
       "      <th>children</th>\n",
       "      <th>days_employed</th>\n",
       "      <th>dob_years</th>\n",
       "      <th>education</th>\n",
       "      <th>education_id</th>\n",
       "      <th>family_status</th>\n",
       "      <th>family_status_id</th>\n",
       "      <th>gender</th>\n",
       "      <th>income_type</th>\n",
       "      <th>debt</th>\n",
       "      <th>total_income</th>\n",
       "      <th>purpose</th>\n",
       "    </tr>\n",
       "  </thead>\n",
       "  <tbody>\n",
       "    <tr>\n",
       "      <th>0</th>\n",
       "      <td>1</td>\n",
       "      <td>8437.673028</td>\n",
       "      <td>42</td>\n",
       "      <td>высшее</td>\n",
       "      <td>0</td>\n",
       "      <td>женат / замужем</td>\n",
       "      <td>0</td>\n",
       "      <td>F</td>\n",
       "      <td>сотрудник</td>\n",
       "      <td>0</td>\n",
       "      <td>253875.639453</td>\n",
       "      <td>покупка жилья</td>\n",
       "    </tr>\n",
       "    <tr>\n",
       "      <th>1</th>\n",
       "      <td>1</td>\n",
       "      <td>4024.803754</td>\n",
       "      <td>36</td>\n",
       "      <td>среднее</td>\n",
       "      <td>1</td>\n",
       "      <td>женат / замужем</td>\n",
       "      <td>0</td>\n",
       "      <td>F</td>\n",
       "      <td>сотрудник</td>\n",
       "      <td>0</td>\n",
       "      <td>112080.014102</td>\n",
       "      <td>приобретение автомобиля</td>\n",
       "    </tr>\n",
       "    <tr>\n",
       "      <th>2</th>\n",
       "      <td>0</td>\n",
       "      <td>5623.422610</td>\n",
       "      <td>33</td>\n",
       "      <td>Среднее</td>\n",
       "      <td>1</td>\n",
       "      <td>женат / замужем</td>\n",
       "      <td>0</td>\n",
       "      <td>M</td>\n",
       "      <td>сотрудник</td>\n",
       "      <td>0</td>\n",
       "      <td>145885.952297</td>\n",
       "      <td>покупка жилья</td>\n",
       "    </tr>\n",
       "    <tr>\n",
       "      <th>3</th>\n",
       "      <td>3</td>\n",
       "      <td>4124.747207</td>\n",
       "      <td>32</td>\n",
       "      <td>среднее</td>\n",
       "      <td>1</td>\n",
       "      <td>женат / замужем</td>\n",
       "      <td>0</td>\n",
       "      <td>M</td>\n",
       "      <td>сотрудник</td>\n",
       "      <td>0</td>\n",
       "      <td>267628.550329</td>\n",
       "      <td>дополнительное образование</td>\n",
       "    </tr>\n",
       "    <tr>\n",
       "      <th>4</th>\n",
       "      <td>0</td>\n",
       "      <td>24.000000</td>\n",
       "      <td>53</td>\n",
       "      <td>среднее</td>\n",
       "      <td>1</td>\n",
       "      <td>гражданский брак</td>\n",
       "      <td>1</td>\n",
       "      <td>F</td>\n",
       "      <td>пенсионер</td>\n",
       "      <td>0</td>\n",
       "      <td>158616.077870</td>\n",
       "      <td>сыграть свадьбу</td>\n",
       "    </tr>\n",
       "    <tr>\n",
       "      <th>...</th>\n",
       "      <td>...</td>\n",
       "      <td>...</td>\n",
       "      <td>...</td>\n",
       "      <td>...</td>\n",
       "      <td>...</td>\n",
       "      <td>...</td>\n",
       "      <td>...</td>\n",
       "      <td>...</td>\n",
       "      <td>...</td>\n",
       "      <td>...</td>\n",
       "      <td>...</td>\n",
       "      <td>...</td>\n",
       "    </tr>\n",
       "    <tr>\n",
       "      <th>21520</th>\n",
       "      <td>1</td>\n",
       "      <td>4529.316663</td>\n",
       "      <td>43</td>\n",
       "      <td>среднее</td>\n",
       "      <td>1</td>\n",
       "      <td>гражданский брак</td>\n",
       "      <td>1</td>\n",
       "      <td>F</td>\n",
       "      <td>компаньон</td>\n",
       "      <td>0</td>\n",
       "      <td>224791.862382</td>\n",
       "      <td>операции с жильем</td>\n",
       "    </tr>\n",
       "    <tr>\n",
       "      <th>21521</th>\n",
       "      <td>0</td>\n",
       "      <td>24.000000</td>\n",
       "      <td>67</td>\n",
       "      <td>среднее</td>\n",
       "      <td>1</td>\n",
       "      <td>женат / замужем</td>\n",
       "      <td>0</td>\n",
       "      <td>F</td>\n",
       "      <td>пенсионер</td>\n",
       "      <td>0</td>\n",
       "      <td>155999.806512</td>\n",
       "      <td>сделка с автомобилем</td>\n",
       "    </tr>\n",
       "    <tr>\n",
       "      <th>21522</th>\n",
       "      <td>1</td>\n",
       "      <td>2113.346888</td>\n",
       "      <td>38</td>\n",
       "      <td>среднее</td>\n",
       "      <td>1</td>\n",
       "      <td>гражданский брак</td>\n",
       "      <td>1</td>\n",
       "      <td>M</td>\n",
       "      <td>сотрудник</td>\n",
       "      <td>1</td>\n",
       "      <td>89672.561153</td>\n",
       "      <td>недвижимость</td>\n",
       "    </tr>\n",
       "    <tr>\n",
       "      <th>21523</th>\n",
       "      <td>3</td>\n",
       "      <td>3112.481705</td>\n",
       "      <td>38</td>\n",
       "      <td>среднее</td>\n",
       "      <td>1</td>\n",
       "      <td>женат / замужем</td>\n",
       "      <td>0</td>\n",
       "      <td>M</td>\n",
       "      <td>сотрудник</td>\n",
       "      <td>1</td>\n",
       "      <td>244093.050500</td>\n",
       "      <td>на покупку своего автомобиля</td>\n",
       "    </tr>\n",
       "    <tr>\n",
       "      <th>21524</th>\n",
       "      <td>2</td>\n",
       "      <td>1984.507589</td>\n",
       "      <td>40</td>\n",
       "      <td>среднее</td>\n",
       "      <td>1</td>\n",
       "      <td>женат / замужем</td>\n",
       "      <td>0</td>\n",
       "      <td>F</td>\n",
       "      <td>сотрудник</td>\n",
       "      <td>0</td>\n",
       "      <td>82047.418899</td>\n",
       "      <td>на покупку автомобиля</td>\n",
       "    </tr>\n",
       "  </tbody>\n",
       "</table>\n",
       "<p>21525 rows × 12 columns</p>\n",
       "</div>"
      ],
      "text/plain": [
       "       children  days_employed  dob_years education  education_id  \\\n",
       "0             1    8437.673028         42    высшее             0   \n",
       "1             1    4024.803754         36   среднее             1   \n",
       "2             0    5623.422610         33   Среднее             1   \n",
       "3             3    4124.747207         32   среднее             1   \n",
       "4             0      24.000000         53   среднее             1   \n",
       "...         ...            ...        ...       ...           ...   \n",
       "21520         1    4529.316663         43   среднее             1   \n",
       "21521         0      24.000000         67   среднее             1   \n",
       "21522         1    2113.346888         38   среднее             1   \n",
       "21523         3    3112.481705         38   среднее             1   \n",
       "21524         2    1984.507589         40   среднее             1   \n",
       "\n",
       "          family_status  family_status_id gender income_type  debt  \\\n",
       "0       женат / замужем                 0      F   сотрудник     0   \n",
       "1       женат / замужем                 0      F   сотрудник     0   \n",
       "2       женат / замужем                 0      M   сотрудник     0   \n",
       "3       женат / замужем                 0      M   сотрудник     0   \n",
       "4      гражданский брак                 1      F   пенсионер     0   \n",
       "...                 ...               ...    ...         ...   ...   \n",
       "21520  гражданский брак                 1      F   компаньон     0   \n",
       "21521   женат / замужем                 0      F   пенсионер     0   \n",
       "21522  гражданский брак                 1      M   сотрудник     1   \n",
       "21523   женат / замужем                 0      M   сотрудник     1   \n",
       "21524   женат / замужем                 0      F   сотрудник     0   \n",
       "\n",
       "        total_income                       purpose  \n",
       "0      253875.639453                 покупка жилья  \n",
       "1      112080.014102       приобретение автомобиля  \n",
       "2      145885.952297                 покупка жилья  \n",
       "3      267628.550329    дополнительное образование  \n",
       "4      158616.077870               сыграть свадьбу  \n",
       "...              ...                           ...  \n",
       "21520  224791.862382             операции с жильем  \n",
       "21521  155999.806512          сделка с автомобилем  \n",
       "21522   89672.561153                  недвижимость  \n",
       "21523  244093.050500  на покупку своего автомобиля  \n",
       "21524   82047.418899         на покупку автомобиля  \n",
       "\n",
       "[21525 rows x 12 columns]"
      ]
     },
     "metadata": {},
     "output_type": "display_data"
    }
   ],
   "source": [
    "display(df)"
   ]
  },
  {
   "cell_type": "code",
   "execution_count": 16,
   "id": "ce3a0130",
   "metadata": {},
   "outputs": [
    {
     "name": "stdout",
     "output_type": "stream",
     "text": [
      "1203.369528770489\n"
     ]
    }
   ],
   "source": [
    "days_employed_avg = df['days_employed'].median()\n",
    "print(days_employed_avg)"
   ]
  },
  {
   "cell_type": "code",
   "execution_count": 17,
   "id": "7000c6ba",
   "metadata": {},
   "outputs": [
    {
     "data": {
      "text/plain": [
       "children               0\n",
       "days_employed       2174\n",
       "dob_years              0\n",
       "education              0\n",
       "education_id           0\n",
       "family_status          0\n",
       "family_status_id       0\n",
       "gender                 0\n",
       "income_type            0\n",
       "debt                   0\n",
       "total_income           0\n",
       "purpose                0\n",
       "dtype: int64"
      ]
     },
     "execution_count": 17,
     "metadata": {},
     "output_type": "execute_result"
    }
   ],
   "source": [
    "df.isnull().sum()"
   ]
  },
  {
   "cell_type": "code",
   "execution_count": 18,
   "id": "e2387bf0",
   "metadata": {},
   "outputs": [
    {
     "data": {
      "text/plain": [
       "array([-1,  0,  1,  2,  3,  4,  5, 20], dtype=int64)"
      ]
     },
     "execution_count": 18,
     "metadata": {},
     "output_type": "execute_result"
    }
   ],
   "source": [
    "df['children'].sort_values().unique()"
   ]
  },
  {
   "cell_type": "code",
   "execution_count": 19,
   "id": "e0922dab",
   "metadata": {},
   "outputs": [],
   "source": [
    "df['children'] = df['children'].abs()\n",
    "df.loc[df['children'] == 20 ,'children'] = 2 "
   ]
  },
  {
   "cell_type": "code",
   "execution_count": 20,
   "id": "1f06c812",
   "metadata": {},
   "outputs": [
    {
     "data": {
      "text/plain": [
       "array([0, 1, 2, 3, 4, 5], dtype=int64)"
      ]
     },
     "execution_count": 20,
     "metadata": {},
     "output_type": "execute_result"
    }
   ],
   "source": [
    "df['children'].sort_values().unique()"
   ]
  },
  {
   "cell_type": "markdown",
   "id": "fe077f5c",
   "metadata": {},
   "source": [
    "At this stage, values with anomalies were processed."
   ]
  },
  {
   "cell_type": "markdown",
   "id": "3fa4bcd5",
   "metadata": {},
   "source": [
    "### Changing data type"
   ]
  },
  {
   "cell_type": "code",
   "execution_count": 21,
   "id": "dbf6583d",
   "metadata": {},
   "outputs": [
    {
     "name": "stdout",
     "output_type": "stream",
     "text": [
      "<class 'pandas.core.frame.DataFrame'>\n",
      "RangeIndex: 21525 entries, 0 to 21524\n",
      "Data columns (total 12 columns):\n",
      " #   Column            Non-Null Count  Dtype  \n",
      "---  ------            --------------  -----  \n",
      " 0   children          21525 non-null  int64  \n",
      " 1   days_employed     19351 non-null  float64\n",
      " 2   dob_years         21525 non-null  int64  \n",
      " 3   education         21525 non-null  object \n",
      " 4   education_id      21525 non-null  int64  \n",
      " 5   family_status     21525 non-null  object \n",
      " 6   family_status_id  21525 non-null  int64  \n",
      " 7   gender            21525 non-null  object \n",
      " 8   income_type       21525 non-null  object \n",
      " 9   debt              21525 non-null  int64  \n",
      " 10  total_income      21525 non-null  float64\n",
      " 11  purpose           21525 non-null  object \n",
      "dtypes: float64(2), int64(5), object(5)\n",
      "memory usage: 2.0+ MB\n"
     ]
    }
   ],
   "source": [
    "df.info()"
   ]
  },
  {
   "cell_type": "code",
   "execution_count": 22,
   "id": "1a2a988b",
   "metadata": {},
   "outputs": [],
   "source": [
    "df['total_income'] = df['total_income'].astype('int')"
   ]
  },
  {
   "cell_type": "markdown",
   "id": "1d0414ed",
   "metadata": {},
   "source": [
    "As we can see from the table in the total income column, the data type corresponds to `float`. It needs to be changed into type `int`."
   ]
  },
  {
   "cell_type": "markdown",
   "id": "0d3e715b",
   "metadata": {},
   "source": [
    "### Removing duplicates"
   ]
  },
  {
   "cell_type": "code",
   "execution_count": 23,
   "id": "b17d5c0f",
   "metadata": {},
   "outputs": [
    {
     "name": "stdout",
     "output_type": "stream",
     "text": [
      "The number of duplicates: 54\n"
     ]
    }
   ],
   "source": [
    "print (f'The number of duplicates: {df.duplicated().sum()}')"
   ]
  },
  {
   "cell_type": "code",
   "execution_count": 25,
   "id": "1a577e24",
   "metadata": {},
   "outputs": [],
   "source": [
    "df = df.drop_duplicates().reset_index(drop= True)"
   ]
  },
  {
   "cell_type": "code",
   "execution_count": 26,
   "id": "5f8b44f1",
   "metadata": {},
   "outputs": [
    {
     "name": "stdout",
     "output_type": "stream",
     "text": [
      "The number of duplicates: 0\n"
     ]
    }
   ],
   "source": [
    "print (f'The number of duplicates: {df.duplicated().sum()}') "
   ]
  },
  {
   "cell_type": "code",
   "execution_count": 26,
   "id": "3c9eba6f",
   "metadata": {},
   "outputs": [
    {
     "data": {
      "text/plain": [
       "array(['ВЫСШЕЕ', 'Высшее', 'НАЧАЛЬНОЕ', 'НЕОКОНЧЕННОЕ ВЫСШЕЕ',\n",
       "       'Начальное', 'Неоконченное высшее', 'СРЕДНЕЕ', 'Среднее',\n",
       "       'УЧЕНАЯ СТЕПЕНЬ', 'Ученая степень', 'высшее', 'начальное',\n",
       "       'неоконченное высшее', 'среднее', 'ученая степень'], dtype=object)"
      ]
     },
     "execution_count": 26,
     "metadata": {},
     "output_type": "execute_result"
    }
   ],
   "source": [
    "df['education'].sort_values().unique()"
   ]
  },
  {
   "cell_type": "code",
   "execution_count": 27,
   "id": "ecbfdf19",
   "metadata": {},
   "outputs": [
    {
     "data": {
      "text/plain": [
       "array(['высшее', 'начальное', 'неоконченное высшее', 'среднее',\n",
       "       'ученая степень'], dtype=object)"
      ]
     },
     "execution_count": 27,
     "metadata": {},
     "output_type": "execute_result"
    }
   ],
   "source": [
    "df['education'] = df['education'].str.lower()\n",
    "df['education'].sort_values().unique() "
   ]
  },
  {
   "cell_type": "code",
   "execution_count": 28,
   "id": "4d790fa8",
   "metadata": {},
   "outputs": [],
   "source": [
    "df = df.dropna().reset_index(drop=True)"
   ]
  },
  {
   "cell_type": "code",
   "execution_count": 29,
   "id": "0acf7e12",
   "metadata": {},
   "outputs": [
    {
     "data": {
      "text/plain": [
       "array(['безработный', 'в декрете', 'госслужащий', 'компаньон',\n",
       "       'пенсионер', 'предприниматель', 'сотрудник', 'студент'],\n",
       "      dtype=object)"
      ]
     },
     "execution_count": 29,
     "metadata": {},
     "output_type": "execute_result"
    }
   ],
   "source": [
    "df['income_type'].sort_values().unique()\n"
   ]
  },
  {
   "cell_type": "code",
   "execution_count": 23,
   "id": "925b59a2",
   "metadata": {},
   "outputs": [
    {
     "data": {
      "text/plain": [
       "array(['автомобили', 'автомобиль', 'высшее образование',\n",
       "       'дополнительное образование', 'жилье',\n",
       "       'заняться высшим образованием', 'заняться образованием',\n",
       "       'на покупку автомобиля', 'на покупку подержанного автомобиля',\n",
       "       'на покупку своего автомобиля', 'на проведение свадьбы',\n",
       "       'недвижимость', 'образование', 'операции с жильем',\n",
       "       'операции с коммерческой недвижимостью',\n",
       "       'операции с недвижимостью', 'операции со своей недвижимостью',\n",
       "       'покупка жилой недвижимости', 'покупка жилья',\n",
       "       'покупка жилья для сдачи', 'покупка жилья для семьи',\n",
       "       'покупка коммерческой недвижимости', 'покупка недвижимости',\n",
       "       'покупка своего жилья', 'получение высшего образования',\n",
       "       'получение дополнительного образования', 'получение образования',\n",
       "       'приобретение автомобиля', 'профильное образование',\n",
       "       'ремонт жилью', 'свадьба', 'свой автомобиль',\n",
       "       'сделка с автомобилем', 'сделка с подержанным автомобилем',\n",
       "       'строительство жилой недвижимости', 'строительство недвижимости',\n",
       "       'строительство собственной недвижимости', 'сыграть свадьбу'],\n",
       "      dtype=object)"
      ]
     },
     "execution_count": 23,
     "metadata": {},
     "output_type": "execute_result"
    }
   ],
   "source": [
    "df['purpose'].sort_values().unique()"
   ]
  },
  {
   "cell_type": "code",
   "execution_count": 25,
   "id": "50873942",
   "metadata": {},
   "outputs": [],
   "source": [
    "def correct_purpose (purpose):\n",
    "    if  'авто' in purpose:\n",
    "        return 'операции с автомобилем'\n",
    "    elif 'недвиж' in purpose or 'жиль' in purpose:\n",
    "        return 'операции с недвижимостью'\n",
    "    elif 'свадьб' in purpose:\n",
    "        return 'проведение свадьбы'\n",
    "    elif 'образо' in purpose:\n",
    "        return 'получение образования'\n",
    "\n",
    "df['purpose'] = df['purpose'].apply(correct_purpose)"
   ]
  },
  {
   "cell_type": "code",
   "execution_count": 26,
   "id": "60ec0d24",
   "metadata": {},
   "outputs": [
    {
     "data": {
      "text/plain": [
       "array(['операции с автомобилем', 'операции с недвижимостью',\n",
       "       'получение образования', 'проведение свадьбы'], dtype=object)"
      ]
     },
     "execution_count": 26,
     "metadata": {},
     "output_type": "execute_result"
    }
   ],
   "source": [
    "df['purpose'].sort_values().unique()"
   ]
  },
  {
   "cell_type": "markdown",
   "id": "81445699",
   "metadata": {},
   "source": [
    "Preprocessing found three problems in the data:\n",
    "\n",
    "- negative and incorrect values\n",
    "- missing values\n",
    "- duplicates - explicit and implicit\n",
    "\n",
    "Without duplicates, the research will become more accurate.\n",
    "Explicit and implicit duplicates were eliminated by replacing with a different value, as well as values that were written differently: using uppercase and lowercase letters.\n"
   ]
  },
  {
   "cell_type": "markdown",
   "id": "0c870386",
   "metadata": {},
   "source": [
    "### Formation of additional dataframes of dictionaries, decomposition of the original dataframe."
   ]
  },
  {
   "cell_type": "code",
   "execution_count": 34,
   "id": "3e0d87b7",
   "metadata": {},
   "outputs": [
    {
     "name": "stdout",
     "output_type": "stream",
     "text": [
      "среднее                15188\n",
      "высшее                  5251\n",
      "неоконченное высшее      744\n",
      "начальное                282\n",
      "ученая степень             6\n",
      "Name: education, dtype: int64\n"
     ]
    }
   ],
   "source": [
    "df_grouped = df.groupby('education_id').count() \n",
    "print(df['education'].value_counts())\n"
   ]
  },
  {
   "cell_type": "code",
   "execution_count": 35,
   "id": "64bbd932",
   "metadata": {},
   "outputs": [],
   "source": [
    "education_dict = df[['education_id', 'education']]\n",
    "education_dict = education_dict.groupby('education').min().education_id.to_frame().reset_index()\n"
   ]
  },
  {
   "cell_type": "code",
   "execution_count": 36,
   "id": "6e5040ee",
   "metadata": {},
   "outputs": [
    {
     "name": "stdout",
     "output_type": "stream",
     "text": [
      "             education  education_id\n",
      "0               высшее             0\n",
      "1            начальное             3\n",
      "2  неоконченное высшее             2\n",
      "3              среднее             1\n",
      "4       ученая степень             4\n"
     ]
    }
   ],
   "source": [
    "print(education_dict)"
   ]
  },
  {
   "cell_type": "code",
   "execution_count": 37,
   "id": "523fc2a2",
   "metadata": {},
   "outputs": [],
   "source": [
    "df['education'] = df.apply(['education_id'], axis = 1)"
   ]
  },
  {
   "cell_type": "code",
   "execution_count": 38,
   "id": "2667c494",
   "metadata": {
    "scrolled": true
   },
   "outputs": [
    {
     "name": "stdout",
     "output_type": "stream",
     "text": [
      "       children  days_employed  dob_years  education  education_id  \\\n",
      "21461         1     467.685130         28          1             1   \n",
      "21462         0     914.391429         42          0             0   \n",
      "21463         0     404.679034         42          0             0   \n",
      "21464         0      24.000000         59          1             1   \n",
      "21465         1    2351.431934         37          4             4   \n",
      "21466         1    4529.316663         43          1             1   \n",
      "21467         0      24.000000         67          1             1   \n",
      "21468         1    2113.346888         38          1             1   \n",
      "21469         3    3112.481705         38          1             1   \n",
      "21470         2    1984.507589         40          1             1   \n",
      "\n",
      "          family_status  family_status_id gender income_type  debt  \\\n",
      "21461   женат / замужем                 0      F   сотрудник     1   \n",
      "21462   женат / замужем                 0      F   компаньон     0   \n",
      "21463  гражданский брак                 1      F   компаньон     0   \n",
      "21464   женат / замужем                 0      F   пенсионер     0   \n",
      "21465         в разводе                 3      M   сотрудник     0   \n",
      "21466  гражданский брак                 1      F   компаньон     0   \n",
      "21467   женат / замужем                 0      F   пенсионер     0   \n",
      "21468  гражданский брак                 1      M   сотрудник     1   \n",
      "21469   женат / замужем                 0      M   сотрудник     1   \n",
      "21470   женат / замужем                 0      F   сотрудник     0   \n",
      "\n",
      "       total_income                   purpose  \n",
      "21461        109486     получение образования  \n",
      "21462        322807  операции с недвижимостью  \n",
      "21463        178059     на покупку автомобиля  \n",
      "21464        153864     на покупку автомобиля  \n",
      "21465        115949  операции с недвижимостью  \n",
      "21466        224791  операции с недвижимостью  \n",
      "21467        155999     на покупку автомобиля  \n",
      "21468         89672  операции с недвижимостью  \n",
      "21469        244093     на покупку автомобиля  \n",
      "21470         82047     на покупку автомобиля  \n"
     ]
    }
   ],
   "source": [
    "print(df.tail(5))"
   ]
  },
  {
   "cell_type": "code",
   "execution_count": 39,
   "id": "6e3898d5",
   "metadata": {},
   "outputs": [],
   "source": [
    "family_status_dict = df[['family_status_id', 'family_status']]\n",
    "family_status_dict = family_status_dict.groupby('family_status').min().family_status_id.to_frame().reset_index()"
   ]
  },
  {
   "cell_type": "code",
   "execution_count": 40,
   "id": "6f3d9d9a",
   "metadata": {},
   "outputs": [
    {
     "name": "stdout",
     "output_type": "stream",
     "text": [
      "           family_status  family_status_id\n",
      "0  Не женат / не замужем                 4\n",
      "1              в разводе                 3\n",
      "2         вдовец / вдова                 2\n",
      "3       гражданский брак                 1\n",
      "4        женат / замужем                 0\n"
     ]
    }
   ],
   "source": [
    "print(family_status_dict)"
   ]
  },
  {
   "cell_type": "code",
   "execution_count": 41,
   "id": "ff579840",
   "metadata": {},
   "outputs": [
    {
     "name": "stdout",
     "output_type": "stream",
     "text": [
      "       children  days_employed  dob_years  education  education_id  \\\n",
      "21461         1     467.685130         28          1             1   \n",
      "21462         0     914.391429         42          0             0   \n",
      "21463         0     404.679034         42          0             0   \n",
      "21464         0      24.000000         59          1             1   \n",
      "21465         1    2351.431934         37          4             4   \n",
      "21466         1    4529.316663         43          1             1   \n",
      "21467         0      24.000000         67          1             1   \n",
      "21468         1    2113.346888         38          1             1   \n",
      "21469         3    3112.481705         38          1             1   \n",
      "21470         2    1984.507589         40          1             1   \n",
      "\n",
      "          family_status  family_status_id gender income_type  debt  \\\n",
      "21461   женат / замужем                 0      F   сотрудник     1   \n",
      "21462   женат / замужем                 0      F   компаньон     0   \n",
      "21463  гражданский брак                 1      F   компаньон     0   \n",
      "21464   женат / замужем                 0      F   пенсионер     0   \n",
      "21465         в разводе                 3      M   сотрудник     0   \n",
      "21466  гражданский брак                 1      F   компаньон     0   \n",
      "21467   женат / замужем                 0      F   пенсионер     0   \n",
      "21468  гражданский брак                 1      M   сотрудник     1   \n",
      "21469   женат / замужем                 0      M   сотрудник     1   \n",
      "21470   женат / замужем                 0      F   сотрудник     0   \n",
      "\n",
      "       total_income                   purpose  \n",
      "21461        109486     получение образования  \n",
      "21462        322807  операции с недвижимостью  \n",
      "21463        178059     на покупку автомобиля  \n",
      "21464        153864     на покупку автомобиля  \n",
      "21465        115949  операции с недвижимостью  \n",
      "21466        224791  операции с недвижимостью  \n",
      "21467        155999     на покупку автомобиля  \n",
      "21468         89672  операции с недвижимостью  \n",
      "21469        244093     на покупку автомобиля  \n",
      "21470         82047     на покупку автомобиля  \n"
     ]
    }
   ],
   "source": [
    "print(df.tail(5))"
   ]
  },
  {
   "cell_type": "code",
   "execution_count": 42,
   "id": "4deaf5a1",
   "metadata": {},
   "outputs": [],
   "source": [
    "df = df.drop(columns = 'family_status')"
   ]
  },
  {
   "cell_type": "code",
   "execution_count": 43,
   "id": "b94ebd6a",
   "metadata": {},
   "outputs": [],
   "source": [
    "df = df.drop(columns = 'education') "
   ]
  },
  {
   "cell_type": "code",
   "execution_count": 44,
   "id": "706366ab",
   "metadata": {},
   "outputs": [
    {
     "name": "stdout",
     "output_type": "stream",
     "text": [
      "       children  days_employed  dob_years  education_id  family_status_id  \\\n",
      "21461         1     467.685130         28             1                 0   \n",
      "21462         0     914.391429         42             0                 0   \n",
      "21463         0     404.679034         42             0                 1   \n",
      "21464         0      24.000000         59             1                 0   \n",
      "21465         1    2351.431934         37             4                 3   \n",
      "21466         1    4529.316663         43             1                 1   \n",
      "21467         0      24.000000         67             1                 0   \n",
      "21468         1    2113.346888         38             1                 1   \n",
      "21469         3    3112.481705         38             1                 0   \n",
      "21470         2    1984.507589         40             1                 0   \n",
      "\n",
      "      gender income_type  debt  total_income                   purpose  \n",
      "21461      F   сотрудник     1        109486     получение образования  \n",
      "21462      F   компаньон     0        322807  операции с недвижимостью  \n",
      "21463      F   компаньон     0        178059     на покупку автомобиля  \n",
      "21464      F   пенсионер     0        153864     на покупку автомобиля  \n",
      "21465      M   сотрудник     0        115949  операции с недвижимостью  \n",
      "21466      F   компаньон     0        224791  операции с недвижимостью  \n",
      "21467      F   пенсионер     0        155999     на покупку автомобиля  \n",
      "21468      M   сотрудник     1         89672  операции с недвижимостью  \n",
      "21469      M   сотрудник     1        244093     на покупку автомобиля  \n",
      "21470      F   сотрудник     0         82047     на покупку автомобиля  \n"
     ]
    }
   ],
   "source": [
    "print(df.tail(5))"
   ]
  },
  {
   "cell_type": "markdown",
   "id": "f5eed241",
   "metadata": {},
   "source": [
    "Dictionaries have been created, they contain information about marital status and education.\n"
   ]
  },
  {
   "cell_type": "markdown",
   "id": "440bb1e0",
   "metadata": {},
   "source": [
    "### Шаг 2.6. Категоризация дохода."
   ]
  },
  {
   "cell_type": "code",
   "execution_count": 45,
   "id": "9d1eee69",
   "metadata": {},
   "outputs": [],
   "source": [
    "def total_income_category(total_income):\n",
    "    if total_income <= 30000:\n",
    "        return 'E'\n",
    "    \n",
    "    if total_income > 30000 and total_income <= 50000:\n",
    "        return 'D'\n",
    "    \n",
    "    if total_income > 50001 and total_income <= 200000:\n",
    "        return 'C'\n",
    "    \n",
    "    if total_income > 200001 and total_income <= 1000000 :\n",
    "        return 'B'\n",
    "    else:\n",
    "        return 'A'"
   ]
  },
  {
   "cell_type": "code",
   "execution_count": 46,
   "id": "788dfbd0",
   "metadata": {},
   "outputs": [
    {
     "name": "stdout",
     "output_type": "stream",
     "text": [
      "E\n",
      "B\n"
     ]
    }
   ],
   "source": [
    "print(total_income_category(25000))\n",
    "print(total_income_category(235000))"
   ]
  },
  {
   "cell_type": "code",
   "execution_count": 47,
   "id": "dd337099",
   "metadata": {},
   "outputs": [],
   "source": [
    "df['total_income_category'] = df['total_income'].apply(total_income_category)"
   ]
  },
  {
   "cell_type": "code",
   "execution_count": 48,
   "id": "8feaf552",
   "metadata": {},
   "outputs": [
    {
     "name": "stdout",
     "output_type": "stream",
     "text": [
      "   children  days_employed  dob_years  education_id  family_status_id gender  \\\n",
      "0         1    8437.673028         42             0                 0      F   \n",
      "1         1    4024.803754         36             1                 0      F   \n",
      "2         0    5623.422610         33             1                 0      M   \n",
      "3         3    4124.747207         32             1                 0      M   \n",
      "4         0      24.000000         53             1                 1      F   \n",
      "5         0     926.185831         27             0                 1      M   \n",
      "6         0    2879.202052         43             0                 0      F   \n",
      "7         0     152.779569         50             1                 0      M   \n",
      "8         2    6929.865299         35             0                 1      F   \n",
      "9         0    2188.756445         41             1                 0      M   \n",
      "\n",
      "  income_type  debt  total_income                   purpose  \\\n",
      "0   сотрудник     0        253875  операции с недвижимостью   \n",
      "1   сотрудник     0        112080     на покупку автомобиля   \n",
      "2   сотрудник     0        145885  операции с недвижимостью   \n",
      "3   сотрудник     0        267628     получение образования   \n",
      "4   пенсионер     0        158616        проведение свадьбы   \n",
      "5   компаньон     0        255763  операции с недвижимостью   \n",
      "6   компаньон     0        240525  операции с недвижимостью   \n",
      "7   сотрудник     0        135823     получение образования   \n",
      "8   сотрудник     0         95856        проведение свадьбы   \n",
      "9   сотрудник     0        144425  операции с недвижимостью   \n",
      "\n",
      "  total_income_category  \n",
      "0                     B  \n",
      "1                     C  \n",
      "2                     C  \n",
      "3                     B  \n",
      "4                     C  \n",
      "5                     B  \n",
      "6                     B  \n",
      "7                     C  \n",
      "8                     C  \n",
      "9                     C  \n"
     ]
    }
   ],
   "source": [
    "print(df.head(5))"
   ]
  },
  {
   "cell_type": "markdown",
   "id": "5bd3eaff",
   "metadata": {},
   "source": [
    "Based on income ranges, categories A, B, C, D, E were created."
   ]
  },
  {
   "cell_type": "markdown",
   "id": "caf51ee4",
   "metadata": {},
   "source": [
    "### Categorization of loan purposes"
   ]
  },
  {
   "cell_type": "code",
   "execution_count": 49,
   "id": "27ff2b38",
   "metadata": {},
   "outputs": [
    {
     "data": {
      "text/plain": [
       "array(['на покупку автомобиля', 'операции с недвижимостью',\n",
       "       'получение образования', 'проведение свадьбы', 'ремонт жилью'],\n",
       "      dtype=object)"
      ]
     },
     "execution_count": 49,
     "metadata": {},
     "output_type": "execute_result"
    }
   ],
   "source": [
    "df['purpose'].sort_values().unique()"
   ]
  },
  {
   "cell_type": "code",
   "execution_count": 50,
   "id": "03e72be1",
   "metadata": {},
   "outputs": [],
   "source": [
    "def purpose_buy(purpose):   \n",
    "    if purpose['purpose'] == 'на покупку автомобиля':\n",
    "        return 'операции с автомобилем'\n",
    "    if purpose ['purpose'] == 'операции с недвижимостью':\n",
    "        return 'операции с недвижимостью'\n",
    "    if purpose ['purpose'] == 'проведение свадьбы':\n",
    "            return 'проведение свадьбы'\n",
    "    if purpose ['purpose'] == 'получение образования':\n",
    "        return 'получение образования'\n",
    "    if purpose ['purpose'] == 'ремонт жилью':\n",
    "        return 'операции с недвижимостью'    \n",
    "    \n",
    "      \n",
    "df['purpose_category'] = df.apply(purpose_buy, axis = 1)    "
   ]
  },
  {
   "cell_type": "code",
   "execution_count": 51,
   "id": "459e7512",
   "metadata": {},
   "outputs": [
    {
     "name": "stdout",
     "output_type": "stream",
     "text": [
      "операции с недвижимостью    10814\n",
      "операции с автомобилем       4308\n",
      "получение образования        4014\n",
      "проведение свадьбы           2335\n",
      "Name: purpose_category, dtype: int64\n"
     ]
    }
   ],
   "source": [
    "print(df['purpose_category'].value_counts())"
   ]
  },
  {
   "cell_type": "code",
   "execution_count": 52,
   "id": "00d3d7e6",
   "metadata": {},
   "outputs": [
    {
     "data": {
      "text/plain": [
       "0        операции с недвижимостью\n",
       "1           на покупку автомобиля\n",
       "2        операции с недвижимостью\n",
       "3           получение образования\n",
       "4              проведение свадьбы\n",
       "                   ...           \n",
       "21466    операции с недвижимостью\n",
       "21467       на покупку автомобиля\n",
       "21468    операции с недвижимостью\n",
       "21469       на покупку автомобиля\n",
       "21470       на покупку автомобиля\n",
       "Name: purpose, Length: 21471, dtype: object"
      ]
     },
     "metadata": {},
     "output_type": "display_data"
    }
   ],
   "source": [
    "display(df['purpose'])"
   ]
  },
  {
   "cell_type": "markdown",
   "id": "deb8ef0a",
   "metadata": {},
   "source": [
    "After categorizing the reasons for a loan, it can be concluded that the main reason for obtaining a loan is real estate transactions. Least of all people take a loan for a wedding."
   ]
  },
  {
   "cell_type": "markdown",
   "id": "5da38f42",
   "metadata": {},
   "source": [
    "### Exploratory analysis"
   ]
  },
  {
   "cell_type": "code",
   "execution_count": 53,
   "id": "fe73a8bc",
   "metadata": {},
   "outputs": [
    {
     "data": {
      "text/html": [
       "<div>\n",
       "<style scoped>\n",
       "    .dataframe tbody tr th:only-of-type {\n",
       "        vertical-align: middle;\n",
       "    }\n",
       "\n",
       "    .dataframe tbody tr th {\n",
       "        vertical-align: top;\n",
       "    }\n",
       "\n",
       "    .dataframe thead th {\n",
       "        text-align: right;\n",
       "    }\n",
       "</style>\n",
       "<table border=\"1\" class=\"dataframe\">\n",
       "  <thead>\n",
       "    <tr style=\"text-align: right;\">\n",
       "      <th></th>\n",
       "      <th>debt</th>\n",
       "    </tr>\n",
       "    <tr>\n",
       "      <th>children</th>\n",
       "      <th></th>\n",
       "    </tr>\n",
       "  </thead>\n",
       "  <tbody>\n",
       "    <tr>\n",
       "      <th>0</th>\n",
       "      <td>0.075353</td>\n",
       "    </tr>\n",
       "    <tr>\n",
       "      <th>1</th>\n",
       "      <td>0.091639</td>\n",
       "    </tr>\n",
       "    <tr>\n",
       "      <th>2</th>\n",
       "      <td>0.094925</td>\n",
       "    </tr>\n",
       "    <tr>\n",
       "      <th>3</th>\n",
       "      <td>0.081818</td>\n",
       "    </tr>\n",
       "    <tr>\n",
       "      <th>4</th>\n",
       "      <td>0.097561</td>\n",
       "    </tr>\n",
       "    <tr>\n",
       "      <th>5</th>\n",
       "      <td>0.000000</td>\n",
       "    </tr>\n",
       "  </tbody>\n",
       "</table>\n",
       "</div>"
      ],
      "text/plain": [
       "              debt\n",
       "children          \n",
       "0         0.075353\n",
       "1         0.091639\n",
       "2         0.094925\n",
       "3         0.081818\n",
       "4         0.097561\n",
       "5         0.000000"
      ]
     },
     "execution_count": 53,
     "metadata": {},
     "output_type": "execute_result"
    }
   ],
   "source": [
    "children_pivot = df.pivot_table(index=['children'], values = 'debt', aggfunc='mean')\n",
    "children_pivot "
   ]
  },
  {
   "cell_type": "code",
   "execution_count": 54,
   "id": "2c2bf70f",
   "metadata": {},
   "outputs": [
    {
     "data": {
      "text/html": [
       "<div>\n",
       "<style scoped>\n",
       "    .dataframe tbody tr th:only-of-type {\n",
       "        vertical-align: middle;\n",
       "    }\n",
       "\n",
       "    .dataframe tbody tr th {\n",
       "        vertical-align: top;\n",
       "    }\n",
       "\n",
       "    .dataframe thead th {\n",
       "        text-align: right;\n",
       "    }\n",
       "</style>\n",
       "<table border=\"1\" class=\"dataframe\">\n",
       "  <thead>\n",
       "    <tr style=\"text-align: right;\">\n",
       "      <th></th>\n",
       "      <th>debt</th>\n",
       "    </tr>\n",
       "    <tr>\n",
       "      <th>family_status_id</th>\n",
       "      <th></th>\n",
       "    </tr>\n",
       "  </thead>\n",
       "  <tbody>\n",
       "    <tr>\n",
       "      <th>0</th>\n",
       "      <td>0.075421</td>\n",
       "    </tr>\n",
       "    <tr>\n",
       "      <th>1</th>\n",
       "      <td>0.093202</td>\n",
       "    </tr>\n",
       "    <tr>\n",
       "      <th>2</th>\n",
       "      <td>0.065693</td>\n",
       "    </tr>\n",
       "    <tr>\n",
       "      <th>3</th>\n",
       "      <td>0.071130</td>\n",
       "    </tr>\n",
       "    <tr>\n",
       "      <th>4</th>\n",
       "      <td>0.097509</td>\n",
       "    </tr>\n",
       "  </tbody>\n",
       "</table>\n",
       "</div>"
      ],
      "text/plain": [
       "                      debt\n",
       "family_status_id          \n",
       "0                 0.075421\n",
       "1                 0.093202\n",
       "2                 0.065693\n",
       "3                 0.071130\n",
       "4                 0.097509"
      ]
     },
     "execution_count": 54,
     "metadata": {},
     "output_type": "execute_result"
    }
   ],
   "source": [
    "status_id_pivot = df.pivot_table(index=['family_status_id'], values = 'debt', aggfunc='mean') #создаем сводную таблицу\n",
    "status_id_pivot"
   ]
  },
  {
   "cell_type": "markdown",
   "id": "a904c9c7",
   "metadata": {},
   "source": [
    "We can observe the following trend: most often debt occurs in people who have 4 or 2 children.\n",
    "Also, debt can often be traced to unmarried people."
   ]
  },
  {
   "cell_type": "code",
   "execution_count": 55,
   "id": "c7bca48f",
   "metadata": {},
   "outputs": [
    {
     "data": {
      "text/html": [
       "<div>\n",
       "<style scoped>\n",
       "    .dataframe tbody tr th:only-of-type {\n",
       "        vertical-align: middle;\n",
       "    }\n",
       "\n",
       "    .dataframe tbody tr th {\n",
       "        vertical-align: top;\n",
       "    }\n",
       "\n",
       "    .dataframe thead th {\n",
       "        text-align: right;\n",
       "    }\n",
       "</style>\n",
       "<table border=\"1\" class=\"dataframe\">\n",
       "  <thead>\n",
       "    <tr style=\"text-align: right;\">\n",
       "      <th></th>\n",
       "      <th>debt</th>\n",
       "    </tr>\n",
       "    <tr>\n",
       "      <th>purpose_category</th>\n",
       "      <th></th>\n",
       "    </tr>\n",
       "  </thead>\n",
       "  <tbody>\n",
       "    <tr>\n",
       "      <th>операции с автомобилем</th>\n",
       "      <td>0.093547</td>\n",
       "    </tr>\n",
       "    <tr>\n",
       "      <th>операции с недвижимостью</th>\n",
       "      <td>0.072314</td>\n",
       "    </tr>\n",
       "    <tr>\n",
       "      <th>получение образования</th>\n",
       "      <td>0.092177</td>\n",
       "    </tr>\n",
       "    <tr>\n",
       "      <th>проведение свадьбы</th>\n",
       "      <td>0.079657</td>\n",
       "    </tr>\n",
       "  </tbody>\n",
       "</table>\n",
       "</div>"
      ],
      "text/plain": [
       "                              debt\n",
       "purpose_category                  \n",
       "операции с автомобилем    0.093547\n",
       "операции с недвижимостью  0.072314\n",
       "получение образования     0.092177\n",
       "проведение свадьбы        0.079657"
      ]
     },
     "execution_count": 55,
     "metadata": {},
     "output_type": "execute_result"
    }
   ],
   "source": [
    "purpose_pivot = df.pivot_table(index=['purpose_category'], values = 'debt', aggfunc='mean') \n",
    "purpose_pivot"
   ]
  },
  {
   "cell_type": "code",
   "execution_count": 56,
   "id": "2dbfe778",
   "metadata": {},
   "outputs": [
    {
     "data": {
      "text/html": [
       "<div>\n",
       "<style scoped>\n",
       "    .dataframe tbody tr th:only-of-type {\n",
       "        vertical-align: middle;\n",
       "    }\n",
       "\n",
       "    .dataframe tbody tr th {\n",
       "        vertical-align: top;\n",
       "    }\n",
       "\n",
       "    .dataframe thead th {\n",
       "        text-align: right;\n",
       "    }\n",
       "</style>\n",
       "<table border=\"1\" class=\"dataframe\">\n",
       "  <thead>\n",
       "    <tr style=\"text-align: right;\">\n",
       "      <th></th>\n",
       "      <th>debt</th>\n",
       "    </tr>\n",
       "    <tr>\n",
       "      <th>total_income_category</th>\n",
       "      <th></th>\n",
       "    </tr>\n",
       "  </thead>\n",
       "  <tbody>\n",
       "    <tr>\n",
       "      <th>A</th>\n",
       "      <td>0.076923</td>\n",
       "    </tr>\n",
       "    <tr>\n",
       "      <th>B</th>\n",
       "      <td>0.070635</td>\n",
       "    </tr>\n",
       "    <tr>\n",
       "      <th>C</th>\n",
       "      <td>0.084825</td>\n",
       "    </tr>\n",
       "    <tr>\n",
       "      <th>D</th>\n",
       "      <td>0.060000</td>\n",
       "    </tr>\n",
       "    <tr>\n",
       "      <th>E</th>\n",
       "      <td>0.090909</td>\n",
       "    </tr>\n",
       "  </tbody>\n",
       "</table>\n",
       "</div>"
      ],
      "text/plain": [
       "                           debt\n",
       "total_income_category          \n",
       "A                      0.076923\n",
       "B                      0.070635\n",
       "C                      0.084825\n",
       "D                      0.060000\n",
       "E                      0.090909"
      ]
     },
     "execution_count": 56,
     "metadata": {},
     "output_type": "execute_result"
    }
   ],
   "source": [
    "income_pivot = df.pivot_table(index = ['total_income_category'], values = 'debt', aggfunc='mean') #создаем сводную таблицу\n",
    "income_pivot"
   ]
  },
  {
   "cell_type": "markdown",
   "id": "b7f238f4",
   "metadata": {},
   "source": [
    "Most people take a loan for car operations and for education, and most often there is a debt of this type. It is less common to see a debt when obtaining a loan for real estate transactions.\n",
    "\n",
    "The amount of debt also depends on the level of income. Debts are more common among people with an income of up to 30,000. Less often among people with an income of 30,000 to 50,000."
   ]
  },
  {
   "cell_type": "markdown",
   "id": "f1ad4a0a",
   "metadata": {},
   "source": [
    "## Summary"
   ]
  },
  {
   "cell_type": "markdown",
   "id": "be8776ef",
   "metadata": {},
   "source": [
    "Our research shows:\n",
    "Different criteria affect the fact of debt in different ways.\n",
    "More often, loan debt can be observed among people with an income level of up to 30,000 and in people with two children. Car transactions are the most common reason for obtaining a loan, but there is also a greater number of debts."
   ]
  },
  {
   "cell_type": "code",
   "execution_count": null,
   "id": "d29d6155",
   "metadata": {},
   "outputs": [],
   "source": []
  }
 ],
 "metadata": {
  "ExecuteTimeLog": [
   {
    "duration": 510,
    "start_time": "2022-05-06T16:26:55.112Z"
   },
   {
    "duration": 121,
    "start_time": "2022-05-06T16:27:03.732Z"
   },
   {
    "duration": 77,
    "start_time": "2022-05-06T16:29:46.677Z"
   },
   {
    "duration": 104,
    "start_time": "2022-05-06T16:30:00.613Z"
   },
   {
    "duration": 100,
    "start_time": "2022-05-06T16:30:08.168Z"
   },
   {
    "duration": 101,
    "start_time": "2022-05-06T16:30:18.368Z"
   },
   {
    "duration": 24,
    "start_time": "2022-05-06T16:30:27.603Z"
   },
   {
    "duration": 64,
    "start_time": "2022-05-07T09:03:28.668Z"
   },
   {
    "duration": 5,
    "start_time": "2022-05-07T14:22:59.756Z"
   },
   {
    "duration": 427,
    "start_time": "2022-05-07T14:23:03.249Z"
   },
   {
    "duration": 37,
    "start_time": "2022-05-07T14:23:05.529Z"
   },
   {
    "duration": 7,
    "start_time": "2022-05-07T14:23:41.737Z"
   },
   {
    "duration": 45,
    "start_time": "2022-05-07T14:23:53.712Z"
   },
   {
    "duration": 5,
    "start_time": "2022-05-07T14:24:50.431Z"
   },
   {
    "duration": 5,
    "start_time": "2022-05-07T14:25:04.840Z"
   },
   {
    "duration": 8,
    "start_time": "2022-05-07T14:25:38.080Z"
   },
   {
    "duration": 5,
    "start_time": "2022-05-07T14:26:22.407Z"
   },
   {
    "duration": 4,
    "start_time": "2022-05-07T14:26:47.720Z"
   },
   {
    "duration": 3,
    "start_time": "2022-05-07T14:35:41.401Z"
   },
   {
    "duration": 10,
    "start_time": "2022-05-07T14:36:00.415Z"
   },
   {
    "duration": 9,
    "start_time": "2022-05-07T14:36:15.424Z"
   },
   {
    "duration": 32,
    "start_time": "2022-05-07T14:40:47.884Z"
   },
   {
    "duration": 5,
    "start_time": "2022-05-07T14:41:07.811Z"
   },
   {
    "duration": 6,
    "start_time": "2022-05-07T14:41:26.732Z"
   },
   {
    "duration": 23,
    "start_time": "2022-05-07T14:45:56.888Z"
   },
   {
    "duration": 32,
    "start_time": "2022-05-07T14:46:07.009Z"
   },
   {
    "duration": 24,
    "start_time": "2022-05-07T14:46:39.072Z"
   },
   {
    "duration": 23,
    "start_time": "2022-05-07T14:47:02.424Z"
   },
   {
    "duration": 14,
    "start_time": "2022-05-07T14:51:23.086Z"
   },
   {
    "duration": 15,
    "start_time": "2022-05-07T14:51:43.761Z"
   },
   {
    "duration": 4,
    "start_time": "2022-05-07T14:51:57.797Z"
   },
   {
    "duration": 45,
    "start_time": "2022-05-07T14:52:32.118Z"
   },
   {
    "duration": 470,
    "start_time": "2022-05-07T14:52:36.565Z"
   },
   {
    "duration": 10,
    "start_time": "2022-05-07T14:52:39.423Z"
   },
   {
    "duration": 4,
    "start_time": "2022-05-07T14:52:42.358Z"
   },
   {
    "duration": 23,
    "start_time": "2022-05-07T14:52:50.438Z"
   },
   {
    "duration": 9,
    "start_time": "2022-05-07T14:53:04.870Z"
   },
   {
    "duration": 8,
    "start_time": "2022-05-07T14:53:27.477Z"
   },
   {
    "duration": 9,
    "start_time": "2022-05-07T14:53:31.438Z"
   },
   {
    "duration": 465,
    "start_time": "2022-05-07T14:53:44.796Z"
   },
   {
    "duration": 10,
    "start_time": "2022-05-07T14:53:46.873Z"
   },
   {
    "duration": 7,
    "start_time": "2022-05-07T14:53:52.502Z"
   },
   {
    "duration": 9,
    "start_time": "2022-05-07T14:53:56.660Z"
   },
   {
    "duration": 10,
    "start_time": "2022-05-07T14:54:41.447Z"
   },
   {
    "duration": 4,
    "start_time": "2022-05-07T14:55:09.987Z"
   },
   {
    "duration": 9,
    "start_time": "2022-05-07T14:55:12.666Z"
   },
   {
    "duration": 5,
    "start_time": "2022-05-07T14:55:41.481Z"
   },
   {
    "duration": 9,
    "start_time": "2022-05-07T14:55:48.387Z"
   },
   {
    "duration": 10,
    "start_time": "2022-05-07T15:00:15.831Z"
   },
   {
    "duration": 28,
    "start_time": "2022-05-07T15:01:50.015Z"
   },
   {
    "duration": 9,
    "start_time": "2022-05-07T15:02:14.567Z"
   },
   {
    "duration": 4,
    "start_time": "2022-05-07T15:07:44.692Z"
   },
   {
    "duration": 6,
    "start_time": "2022-05-07T15:08:21.650Z"
   },
   {
    "duration": 57,
    "start_time": "2022-05-07T15:09:23.346Z"
   },
   {
    "duration": 3,
    "start_time": "2022-05-07T15:09:30.618Z"
   },
   {
    "duration": 5,
    "start_time": "2022-05-07T15:09:32.851Z"
   },
   {
    "duration": 4,
    "start_time": "2022-05-07T15:10:24.585Z"
   },
   {
    "duration": 4,
    "start_time": "2022-05-07T15:10:33.625Z"
   },
   {
    "duration": 10,
    "start_time": "2022-05-07T15:10:43.369Z"
   },
   {
    "duration": 2344,
    "start_time": "2022-05-07T15:12:01.443Z"
   },
   {
    "duration": 22,
    "start_time": "2022-05-07T15:12:03.789Z"
   },
   {
    "duration": 6,
    "start_time": "2022-05-07T15:12:08.554Z"
   },
   {
    "duration": 4,
    "start_time": "2022-05-07T15:12:55.778Z"
   },
   {
    "duration": 4,
    "start_time": "2022-05-07T15:13:08.449Z"
   },
   {
    "duration": 4,
    "start_time": "2022-05-07T15:13:12.720Z"
   },
   {
    "duration": 10,
    "start_time": "2022-05-07T15:13:15.161Z"
   },
   {
    "duration": 5,
    "start_time": "2022-05-07T15:13:18.448Z"
   },
   {
    "duration": 10,
    "start_time": "2022-05-07T15:13:30.601Z"
   },
   {
    "duration": 4,
    "start_time": "2022-05-07T15:13:32.671Z"
   },
   {
    "duration": 4,
    "start_time": "2022-05-07T15:13:34.417Z"
   },
   {
    "duration": 2769,
    "start_time": "2022-05-07T15:14:26.313Z"
   },
   {
    "duration": 2514,
    "start_time": "2022-05-07T15:14:37.878Z"
   },
   {
    "duration": 0,
    "start_time": "2022-05-07T15:14:57.532Z"
   },
   {
    "duration": 0,
    "start_time": "2022-05-07T15:15:08.366Z"
   },
   {
    "duration": 2534,
    "start_time": "2022-05-07T15:15:12.365Z"
   },
   {
    "duration": 2527,
    "start_time": "2022-05-07T15:15:20.663Z"
   },
   {
    "duration": 2563,
    "start_time": "2022-05-07T15:15:24.575Z"
   },
   {
    "duration": 5,
    "start_time": "2022-05-07T15:15:44.375Z"
   },
   {
    "duration": 5,
    "start_time": "2022-05-07T15:15:49.343Z"
   },
   {
    "duration": 6,
    "start_time": "2022-05-07T15:15:51.047Z"
   },
   {
    "duration": 10,
    "start_time": "2022-05-07T15:15:53.534Z"
   },
   {
    "duration": 23,
    "start_time": "2022-05-07T15:17:05.414Z"
   },
   {
    "duration": 4,
    "start_time": "2022-05-07T15:20:27.892Z"
   },
   {
    "duration": 14,
    "start_time": "2022-05-07T15:20:35.507Z"
   },
   {
    "duration": 6,
    "start_time": "2022-05-07T15:22:21.227Z"
   },
   {
    "duration": 15,
    "start_time": "2022-05-07T15:26:00.945Z"
   },
   {
    "duration": 16,
    "start_time": "2022-05-07T15:27:51.436Z"
   },
   {
    "duration": 16,
    "start_time": "2022-05-07T15:28:10.615Z"
   },
   {
    "duration": 16,
    "start_time": "2022-05-07T15:28:19.927Z"
   },
   {
    "duration": 5,
    "start_time": "2022-05-07T15:28:30.672Z"
   },
   {
    "duration": 36,
    "start_time": "2022-05-07T15:29:39.038Z"
   },
   {
    "duration": 9,
    "start_time": "2022-05-07T15:30:40.686Z"
   },
   {
    "duration": 2022,
    "start_time": "2022-05-07T15:31:10.875Z"
   },
   {
    "duration": 10,
    "start_time": "2022-05-07T15:31:16.811Z"
   },
   {
    "duration": 5,
    "start_time": "2022-05-07T15:31:18.771Z"
   },
   {
    "duration": 5,
    "start_time": "2022-05-07T15:31:19.195Z"
   },
   {
    "duration": 4,
    "start_time": "2022-05-07T15:31:19.515Z"
   },
   {
    "duration": 12,
    "start_time": "2022-05-07T15:31:20.244Z"
   },
   {
    "duration": 4,
    "start_time": "2022-05-07T15:31:20.924Z"
   },
   {
    "duration": 9,
    "start_time": "2022-05-07T15:31:24.291Z"
   },
   {
    "duration": 4,
    "start_time": "2022-05-07T15:31:25.892Z"
   },
   {
    "duration": 9,
    "start_time": "2022-05-07T15:31:26.789Z"
   },
   {
    "duration": 4,
    "start_time": "2022-05-07T15:31:27.428Z"
   },
   {
    "duration": 10,
    "start_time": "2022-05-07T15:31:29.683Z"
   },
   {
    "duration": 4,
    "start_time": "2022-05-07T15:31:31.947Z"
   },
   {
    "duration": 4,
    "start_time": "2022-05-07T15:31:32.971Z"
   },
   {
    "duration": 4,
    "start_time": "2022-05-07T15:31:36.616Z"
   },
   {
    "duration": 4,
    "start_time": "2022-05-07T15:31:37.668Z"
   },
   {
    "duration": 5,
    "start_time": "2022-05-07T15:31:38.203Z"
   },
   {
    "duration": 9,
    "start_time": "2022-05-07T15:31:40.508Z"
   },
   {
    "duration": 14,
    "start_time": "2022-05-07T15:31:42.932Z"
   },
   {
    "duration": 3,
    "start_time": "2022-05-07T15:31:44.820Z"
   },
   {
    "duration": 13,
    "start_time": "2022-05-07T15:31:45.684Z"
   },
   {
    "duration": 16,
    "start_time": "2022-05-07T15:31:47.644Z"
   },
   {
    "duration": 59,
    "start_time": "2022-05-07T15:31:50.028Z"
   },
   {
    "duration": 7,
    "start_time": "2022-05-07T15:32:13.532Z"
   },
   {
    "duration": 23,
    "start_time": "2022-05-08T12:26:16.049Z"
   },
   {
    "duration": 17,
    "start_time": "2022-05-08T12:26:28.657Z"
   },
   {
    "duration": 8,
    "start_time": "2022-05-08T12:27:16.552Z"
   },
   {
    "duration": 6,
    "start_time": "2022-05-08T12:27:46.969Z"
   },
   {
    "duration": 15,
    "start_time": "2022-05-08T12:28:40.703Z"
   },
   {
    "duration": 6,
    "start_time": "2022-05-08T12:29:00.894Z"
   },
   {
    "duration": 14,
    "start_time": "2022-05-08T12:29:12.782Z"
   },
   {
    "duration": 15,
    "start_time": "2022-05-08T12:29:33.846Z"
   },
   {
    "duration": 21,
    "start_time": "2022-05-08T12:29:54.599Z"
   },
   {
    "duration": 8,
    "start_time": "2022-05-08T12:30:15.895Z"
   },
   {
    "duration": 2590,
    "start_time": "2022-05-08T12:30:24.814Z"
   },
   {
    "duration": 7,
    "start_time": "2022-05-08T12:30:27.863Z"
   },
   {
    "duration": 16,
    "start_time": "2022-05-08T12:30:40.318Z"
   },
   {
    "duration": 7,
    "start_time": "2022-05-08T12:42:21.600Z"
   },
   {
    "duration": 9,
    "start_time": "2022-05-08T12:42:31.418Z"
   },
   {
    "duration": 7,
    "start_time": "2022-05-08T12:49:52.378Z"
   },
   {
    "duration": 51,
    "start_time": "2022-05-09T05:00:14.618Z"
   },
   {
    "duration": 7,
    "start_time": "2022-05-09T05:00:28.392Z"
   },
   {
    "duration": 510,
    "start_time": "2022-05-09T05:00:33.489Z"
   },
   {
    "duration": 10,
    "start_time": "2022-05-09T05:00:34.625Z"
   },
   {
    "duration": 5,
    "start_time": "2022-05-09T05:00:34.911Z"
   },
   {
    "duration": 5,
    "start_time": "2022-05-09T05:00:35.160Z"
   },
   {
    "duration": 6,
    "start_time": "2022-05-09T05:00:35.392Z"
   },
   {
    "duration": 10,
    "start_time": "2022-05-09T05:00:35.649Z"
   },
   {
    "duration": 5,
    "start_time": "2022-05-09T05:00:35.881Z"
   },
   {
    "duration": 10,
    "start_time": "2022-05-09T05:00:36.288Z"
   },
   {
    "duration": 4,
    "start_time": "2022-05-09T05:00:36.472Z"
   },
   {
    "duration": 5,
    "start_time": "2022-05-09T05:00:36.664Z"
   },
   {
    "duration": 5,
    "start_time": "2022-05-09T05:00:36.888Z"
   },
   {
    "duration": 4,
    "start_time": "2022-05-09T05:00:37.385Z"
   },
   {
    "duration": 4,
    "start_time": "2022-05-09T05:00:37.609Z"
   },
   {
    "duration": 4,
    "start_time": "2022-05-09T05:00:37.824Z"
   },
   {
    "duration": 7,
    "start_time": "2022-05-09T05:00:38.632Z"
   },
   {
    "duration": 3,
    "start_time": "2022-05-09T05:00:45.048Z"
   },
   {
    "duration": 6,
    "start_time": "2022-05-09T05:00:52.049Z"
   },
   {
    "duration": 14,
    "start_time": "2022-05-09T05:01:41.616Z"
   },
   {
    "duration": 13,
    "start_time": "2022-05-09T05:02:45.936Z"
   },
   {
    "duration": 86,
    "start_time": "2022-05-09T05:23:24.487Z"
   },
   {
    "duration": 12,
    "start_time": "2022-05-09T05:23:28.189Z"
   },
   {
    "duration": 5,
    "start_time": "2022-05-09T05:23:31.274Z"
   },
   {
    "duration": 5,
    "start_time": "2022-05-09T05:23:33.249Z"
   },
   {
    "duration": 5,
    "start_time": "2022-05-09T05:23:34.477Z"
   },
   {
    "duration": 11,
    "start_time": "2022-05-09T05:23:37.073Z"
   },
   {
    "duration": 5,
    "start_time": "2022-05-09T05:23:44.805Z"
   },
   {
    "duration": 11,
    "start_time": "2022-05-09T05:23:45.664Z"
   },
   {
    "duration": 5,
    "start_time": "2022-05-09T05:23:48.494Z"
   },
   {
    "duration": 11,
    "start_time": "2022-05-09T05:23:54.616Z"
   },
   {
    "duration": 4,
    "start_time": "2022-05-09T05:23:57.031Z"
   },
   {
    "duration": 5,
    "start_time": "2022-05-09T05:23:58.461Z"
   },
   {
    "duration": 4,
    "start_time": "2022-05-09T05:24:00.868Z"
   },
   {
    "duration": 6,
    "start_time": "2022-05-09T05:24:03.286Z"
   },
   {
    "duration": 4,
    "start_time": "2022-05-09T05:24:04.502Z"
   },
   {
    "duration": 5,
    "start_time": "2022-05-09T05:24:05.465Z"
   },
   {
    "duration": 5,
    "start_time": "2022-05-09T05:24:05.889Z"
   },
   {
    "duration": 15,
    "start_time": "2022-05-09T05:24:06.701Z"
   },
   {
    "duration": 5,
    "start_time": "2022-05-09T05:24:09.315Z"
   },
   {
    "duration": 13,
    "start_time": "2022-05-09T05:24:10.049Z"
   },
   {
    "duration": 17,
    "start_time": "2022-05-09T05:24:12.411Z"
   },
   {
    "duration": 4,
    "start_time": "2022-05-09T05:24:13.062Z"
   },
   {
    "duration": 16,
    "start_time": "2022-05-09T05:24:14.571Z"
   },
   {
    "duration": 18,
    "start_time": "2022-05-09T05:24:16.414Z"
   },
   {
    "duration": 24,
    "start_time": "2022-05-09T05:24:17.657Z"
   },
   {
    "duration": 7,
    "start_time": "2022-05-09T05:24:20.300Z"
   },
   {
    "duration": 19,
    "start_time": "2022-05-09T05:26:23.484Z"
   },
   {
    "duration": 19,
    "start_time": "2022-05-09T05:26:23.946Z"
   },
   {
    "duration": 16,
    "start_time": "2022-05-09T05:26:53.835Z"
   },
   {
    "duration": 36,
    "start_time": "2022-05-09T05:27:29.665Z"
   },
   {
    "duration": 10,
    "start_time": "2022-05-09T05:27:33.774Z"
   },
   {
    "duration": 21,
    "start_time": "2022-05-09T05:27:39.587Z"
   },
   {
    "duration": 31,
    "start_time": "2022-05-09T05:28:19.752Z"
   },
   {
    "duration": 15,
    "start_time": "2022-05-09T05:29:24.979Z"
   },
   {
    "duration": 15,
    "start_time": "2022-05-09T05:29:40.887Z"
   },
   {
    "duration": 16,
    "start_time": "2022-05-09T05:30:06.396Z"
   },
   {
    "duration": 19,
    "start_time": "2022-05-09T05:30:24.758Z"
   },
   {
    "duration": 39,
    "start_time": "2022-05-09T05:31:18.058Z"
   },
   {
    "duration": 44,
    "start_time": "2022-05-09T05:31:39.950Z"
   },
   {
    "duration": 44,
    "start_time": "2022-05-09T05:31:47.252Z"
   },
   {
    "duration": 182,
    "start_time": "2022-05-09T05:31:59.996Z"
   },
   {
    "duration": 48,
    "start_time": "2022-05-09T05:32:03.578Z"
   },
   {
    "duration": 43,
    "start_time": "2022-05-09T05:32:14.049Z"
   },
   {
    "duration": 7,
    "start_time": "2022-05-09T05:34:03.242Z"
   },
   {
    "duration": 11,
    "start_time": "2022-05-09T05:34:52.699Z"
   },
   {
    "duration": 22,
    "start_time": "2022-05-09T05:38:23.952Z"
   },
   {
    "duration": 18,
    "start_time": "2022-05-09T05:41:22.891Z"
   },
   {
    "duration": 17,
    "start_time": "2022-05-09T05:41:40.340Z"
   },
   {
    "duration": 160,
    "start_time": "2022-05-09T05:55:27.903Z"
   },
   {
    "duration": 9,
    "start_time": "2022-05-09T05:55:54.980Z"
   },
   {
    "duration": 8,
    "start_time": "2022-05-09T05:57:36.019Z"
   },
   {
    "duration": 8,
    "start_time": "2022-05-09T05:57:40.069Z"
   },
   {
    "duration": 8,
    "start_time": "2022-05-09T05:59:33.689Z"
   },
   {
    "duration": 9,
    "start_time": "2022-05-09T06:02:12.419Z"
   },
   {
    "duration": 11,
    "start_time": "2022-05-09T06:03:09.876Z"
   },
   {
    "duration": 8,
    "start_time": "2022-05-09T06:03:45.369Z"
   },
   {
    "duration": 23,
    "start_time": "2022-05-09T06:21:07.762Z"
   },
   {
    "duration": 137,
    "start_time": "2022-05-09T06:22:37.420Z"
   },
   {
    "duration": 144,
    "start_time": "2022-05-09T06:22:51.894Z"
   },
   {
    "duration": 147,
    "start_time": "2022-05-09T06:23:13.345Z"
   },
   {
    "duration": 196,
    "start_time": "2022-05-09T06:24:29.316Z"
   },
   {
    "duration": 3001,
    "start_time": "2022-05-09T06:25:18.073Z"
   },
   {
    "duration": 18,
    "start_time": "2022-05-09T06:25:24.461Z"
   },
   {
    "duration": 8,
    "start_time": "2022-05-09T06:35:08.851Z"
   },
   {
    "duration": 11,
    "start_time": "2022-05-09T06:35:21.066Z"
   },
   {
    "duration": 5,
    "start_time": "2022-05-09T06:37:43.657Z"
   },
   {
    "duration": 1018,
    "start_time": "2022-05-09T07:16:30.344Z"
   },
   {
    "duration": 45,
    "start_time": "2022-05-09T07:18:52.154Z"
   },
   {
    "duration": 16,
    "start_time": "2022-05-09T07:19:06.355Z"
   },
   {
    "duration": 403,
    "start_time": "2022-05-09T07:19:38.671Z"
   },
   {
    "duration": 567,
    "start_time": "2022-05-09T07:20:42.996Z"
   },
   {
    "duration": 258112,
    "start_time": "2022-05-09T07:25:35.990Z"
   },
   {
    "duration": 88,
    "start_time": "2022-05-09T07:29:54.133Z"
   },
   {
    "duration": 14,
    "start_time": "2022-05-09T07:29:54.223Z"
   },
   {
    "duration": 73,
    "start_time": "2022-05-09T07:36:57.358Z"
   },
   {
    "duration": 80,
    "start_time": "2022-05-09T07:37:21.473Z"
   },
   {
    "duration": 77,
    "start_time": "2022-05-09T07:37:43.424Z"
   },
   {
    "duration": 10,
    "start_time": "2022-05-09T08:10:51.711Z"
   },
   {
    "duration": 173,
    "start_time": "2022-05-09T08:11:15.786Z"
   },
   {
    "duration": 196,
    "start_time": "2022-05-09T08:11:21.296Z"
   },
   {
    "duration": 172,
    "start_time": "2022-05-09T08:11:36.737Z"
   },
   {
    "duration": 0,
    "start_time": "2022-05-09T08:11:43.699Z"
   },
   {
    "duration": 6,
    "start_time": "2022-05-09T08:11:48.815Z"
   },
   {
    "duration": 9,
    "start_time": "2022-05-09T08:13:23.784Z"
   },
   {
    "duration": 4,
    "start_time": "2022-05-09T08:13:45.279Z"
   },
   {
    "duration": 4,
    "start_time": "2022-05-09T08:15:21.891Z"
   },
   {
    "duration": 4,
    "start_time": "2022-05-09T08:19:03.254Z"
   },
   {
    "duration": 3,
    "start_time": "2022-05-09T08:19:10.381Z"
   },
   {
    "duration": 169,
    "start_time": "2022-05-09T08:25:38.582Z"
   },
   {
    "duration": 174,
    "start_time": "2022-05-09T08:34:46.874Z"
   },
   {
    "duration": 476,
    "start_time": "2022-05-09T09:23:34.048Z"
   },
   {
    "duration": 17,
    "start_time": "2022-05-09T09:23:37.308Z"
   },
   {
    "duration": 4,
    "start_time": "2022-05-09T09:23:40.957Z"
   },
   {
    "duration": 11,
    "start_time": "2022-05-09T09:23:44.659Z"
   },
   {
    "duration": 5,
    "start_time": "2022-05-09T09:23:51.959Z"
   },
   {
    "duration": 5,
    "start_time": "2022-05-09T09:24:21.124Z"
   },
   {
    "duration": 5,
    "start_time": "2022-05-09T09:24:23.131Z"
   },
   {
    "duration": 10,
    "start_time": "2022-05-09T09:24:25.851Z"
   },
   {
    "duration": 4,
    "start_time": "2022-05-09T09:24:28.084Z"
   },
   {
    "duration": 12,
    "start_time": "2022-05-09T09:25:23.728Z"
   },
   {
    "duration": 11,
    "start_time": "2022-05-09T09:25:50.615Z"
   },
   {
    "duration": 5,
    "start_time": "2022-05-09T09:26:00.032Z"
   },
   {
    "duration": 5,
    "start_time": "2022-05-09T09:48:38.486Z"
   },
   {
    "duration": 2790,
    "start_time": "2022-05-09T09:49:06.564Z"
   },
   {
    "duration": 0,
    "start_time": "2022-05-09T09:49:20.326Z"
   },
   {
    "duration": 7,
    "start_time": "2022-05-09T09:49:25.424Z"
   },
   {
    "duration": 7,
    "start_time": "2022-05-09T09:49:50.826Z"
   },
   {
    "duration": 6,
    "start_time": "2022-05-09T09:49:57.432Z"
   },
   {
    "duration": 9,
    "start_time": "2022-05-09T09:59:37.616Z"
   },
   {
    "duration": 15,
    "start_time": "2022-05-09T09:59:44.701Z"
   },
   {
    "duration": 166,
    "start_time": "2022-05-09T10:03:15.193Z"
   },
   {
    "duration": 171,
    "start_time": "2022-05-09T10:03:20.014Z"
   },
   {
    "duration": 14,
    "start_time": "2022-05-09T10:03:25.731Z"
   },
   {
    "duration": 3,
    "start_time": "2022-05-09T10:05:37.561Z"
   },
   {
    "duration": 3,
    "start_time": "2022-05-09T10:05:48.589Z"
   },
   {
    "duration": 22,
    "start_time": "2022-05-09T10:05:52.076Z"
   },
   {
    "duration": 19,
    "start_time": "2022-05-09T10:08:11.868Z"
   },
   {
    "duration": 21,
    "start_time": "2022-05-09T10:08:17.391Z"
   },
   {
    "duration": 7,
    "start_time": "2022-05-09T10:14:17.041Z"
   },
   {
    "duration": 4,
    "start_time": "2022-05-09T10:21:20.510Z"
   },
   {
    "duration": 3,
    "start_time": "2022-05-09T10:21:30.038Z"
   },
   {
    "duration": 5,
    "start_time": "2022-05-09T10:21:36.103Z"
   },
   {
    "duration": 5,
    "start_time": "2022-05-09T10:21:59.144Z"
   },
   {
    "duration": 3,
    "start_time": "2022-05-09T10:22:01.801Z"
   },
   {
    "duration": 4,
    "start_time": "2022-05-09T10:22:02.486Z"
   },
   {
    "duration": 499,
    "start_time": "2022-05-09T10:22:52.879Z"
   },
   {
    "duration": 16,
    "start_time": "2022-05-09T10:22:54.706Z"
   },
   {
    "duration": 17,
    "start_time": "2022-05-09T10:22:58.229Z"
   },
   {
    "duration": 4,
    "start_time": "2022-05-09T10:22:58.821Z"
   },
   {
    "duration": 11,
    "start_time": "2022-05-09T10:23:01.148Z"
   },
   {
    "duration": 5,
    "start_time": "2022-05-09T10:23:01.283Z"
   },
   {
    "duration": 4,
    "start_time": "2022-05-09T10:23:01.566Z"
   },
   {
    "duration": 5,
    "start_time": "2022-05-09T10:23:01.754Z"
   },
   {
    "duration": 11,
    "start_time": "2022-05-09T10:23:02.094Z"
   },
   {
    "duration": 5,
    "start_time": "2022-05-09T10:23:02.436Z"
   },
   {
    "duration": 13,
    "start_time": "2022-05-09T10:23:02.984Z"
   },
   {
    "duration": 5,
    "start_time": "2022-05-09T10:23:03.455Z"
   },
   {
    "duration": 9,
    "start_time": "2022-05-09T10:23:09.610Z"
   },
   {
    "duration": 4,
    "start_time": "2022-05-09T10:23:10.625Z"
   },
   {
    "duration": 5,
    "start_time": "2022-05-09T10:23:11.434Z"
   },
   {
    "duration": 510,
    "start_time": "2022-05-09T10:23:34.614Z"
   },
   {
    "duration": 16,
    "start_time": "2022-05-09T10:23:35.126Z"
   },
   {
    "duration": 4,
    "start_time": "2022-05-09T10:23:35.144Z"
   },
   {
    "duration": 11,
    "start_time": "2022-05-09T10:23:35.478Z"
   },
   {
    "duration": 5,
    "start_time": "2022-05-09T10:23:35.644Z"
   },
   {
    "duration": 5,
    "start_time": "2022-05-09T10:23:35.819Z"
   },
   {
    "duration": 4,
    "start_time": "2022-05-09T10:23:36.058Z"
   },
   {
    "duration": 10,
    "start_time": "2022-05-09T10:23:36.511Z"
   },
   {
    "duration": 4,
    "start_time": "2022-05-09T10:23:36.972Z"
   },
   {
    "duration": 11,
    "start_time": "2022-05-09T10:23:37.390Z"
   },
   {
    "duration": 4,
    "start_time": "2022-05-09T10:23:37.991Z"
   },
   {
    "duration": 10,
    "start_time": "2022-05-09T10:23:40.400Z"
   },
   {
    "duration": 3,
    "start_time": "2022-05-09T10:23:46.252Z"
   },
   {
    "duration": 5,
    "start_time": "2022-05-09T10:23:47.489Z"
   },
   {
    "duration": 11,
    "start_time": "2022-05-09T10:24:31.015Z"
   },
   {
    "duration": 7,
    "start_time": "2022-05-09T10:24:35.985Z"
   },
   {
    "duration": 100,
    "start_time": "2022-05-09T10:25:04.460Z"
   },
   {
    "duration": 6,
    "start_time": "2022-05-09T10:25:09.550Z"
   },
   {
    "duration": 13,
    "start_time": "2022-05-09T10:25:12.242Z"
   },
   {
    "duration": 516,
    "start_time": "2022-05-09T10:27:19.508Z"
   },
   {
    "duration": 17,
    "start_time": "2022-05-09T10:27:20.214Z"
   },
   {
    "duration": 4,
    "start_time": "2022-05-09T10:27:20.864Z"
   },
   {
    "duration": 12,
    "start_time": "2022-05-09T10:27:22.806Z"
   },
   {
    "duration": 5,
    "start_time": "2022-05-09T10:27:23.265Z"
   },
   {
    "duration": 5,
    "start_time": "2022-05-09T10:27:23.780Z"
   },
   {
    "duration": 5,
    "start_time": "2022-05-09T10:27:24.293Z"
   },
   {
    "duration": 10,
    "start_time": "2022-05-09T10:27:24.950Z"
   },
   {
    "duration": 5,
    "start_time": "2022-05-09T10:27:32.093Z"
   },
   {
    "duration": 10,
    "start_time": "2022-05-09T10:27:34.815Z"
   },
   {
    "duration": 5,
    "start_time": "2022-05-09T10:27:38.444Z"
   },
   {
    "duration": 4,
    "start_time": "2022-05-09T10:28:09.096Z"
   },
   {
    "duration": 13,
    "start_time": "2022-05-09T10:28:13.668Z"
   },
   {
    "duration": 9,
    "start_time": "2022-05-09T10:28:23.723Z"
   },
   {
    "duration": 11,
    "start_time": "2022-05-09T10:28:26.525Z"
   },
   {
    "duration": 77,
    "start_time": "2022-05-09T10:28:45.776Z"
   },
   {
    "duration": 16,
    "start_time": "2022-05-09T10:28:46.585Z"
   },
   {
    "duration": 3,
    "start_time": "2022-05-09T10:28:47.057Z"
   },
   {
    "duration": 10,
    "start_time": "2022-05-09T10:28:47.825Z"
   },
   {
    "duration": 5,
    "start_time": "2022-05-09T10:28:47.973Z"
   },
   {
    "duration": 5,
    "start_time": "2022-05-09T10:28:48.139Z"
   },
   {
    "duration": 4,
    "start_time": "2022-05-09T10:28:48.281Z"
   },
   {
    "duration": 9,
    "start_time": "2022-05-09T10:28:48.453Z"
   },
   {
    "duration": 5,
    "start_time": "2022-05-09T10:28:48.610Z"
   },
   {
    "duration": 10,
    "start_time": "2022-05-09T10:28:48.790Z"
   },
   {
    "duration": 4,
    "start_time": "2022-05-09T10:28:49.156Z"
   },
   {
    "duration": 4,
    "start_time": "2022-05-09T10:29:16.170Z"
   },
   {
    "duration": 75,
    "start_time": "2022-05-09T10:29:20.207Z"
   },
   {
    "duration": 11,
    "start_time": "2022-05-09T10:29:27.149Z"
   },
   {
    "duration": 164,
    "start_time": "2022-05-09T10:32:12.410Z"
   },
   {
    "duration": 12,
    "start_time": "2022-05-09T10:32:15.636Z"
   },
   {
    "duration": 8,
    "start_time": "2022-05-09T10:32:21.315Z"
   },
   {
    "duration": 12,
    "start_time": "2022-05-09T10:32:23.220Z"
   },
   {
    "duration": 6,
    "start_time": "2022-05-09T10:32:36.304Z"
   },
   {
    "duration": 7,
    "start_time": "2022-05-09T10:39:56.862Z"
   },
   {
    "duration": 11,
    "start_time": "2022-05-09T10:39:58.569Z"
   },
   {
    "duration": 24,
    "start_time": "2022-05-09T10:40:07.692Z"
   },
   {
    "duration": 1068,
    "start_time": "2022-05-09T10:40:15.578Z"
   },
   {
    "duration": 19,
    "start_time": "2022-05-09T10:40:19.910Z"
   },
   {
    "duration": 19,
    "start_time": "2022-05-09T10:40:23.390Z"
   },
   {
    "duration": 10,
    "start_time": "2022-05-09T10:40:25.684Z"
   },
   {
    "duration": 6,
    "start_time": "2022-05-09T10:40:40.448Z"
   },
   {
    "duration": 12,
    "start_time": "2022-05-09T10:40:44.805Z"
   },
   {
    "duration": 6,
    "start_time": "2022-05-09T10:40:55.888Z"
   },
   {
    "duration": 12,
    "start_time": "2022-05-09T10:40:57.195Z"
   },
   {
    "duration": 12,
    "start_time": "2022-05-09T10:41:04.691Z"
   },
   {
    "duration": 18,
    "start_time": "2022-05-09T10:41:32.831Z"
   },
   {
    "duration": 8,
    "start_time": "2022-05-09T10:41:43.609Z"
   },
   {
    "duration": 11,
    "start_time": "2022-05-09T10:41:45.291Z"
   },
   {
    "duration": 13,
    "start_time": "2022-05-09T10:42:15.966Z"
   },
   {
    "duration": 14,
    "start_time": "2022-05-09T10:42:19.099Z"
   },
   {
    "duration": 7,
    "start_time": "2022-05-09T10:42:29.642Z"
   },
   {
    "duration": 14,
    "start_time": "2022-05-09T10:42:30.714Z"
   },
   {
    "duration": 13,
    "start_time": "2022-05-09T10:43:04.892Z"
   },
   {
    "duration": 521,
    "start_time": "2022-05-09T10:43:15.620Z"
   },
   {
    "duration": 20,
    "start_time": "2022-05-09T10:43:16.143Z"
   },
   {
    "duration": 4,
    "start_time": "2022-05-09T10:43:16.165Z"
   },
   {
    "duration": 11,
    "start_time": "2022-05-09T10:43:16.553Z"
   },
   {
    "duration": 5,
    "start_time": "2022-05-09T10:43:16.711Z"
   },
   {
    "duration": 5,
    "start_time": "2022-05-09T10:43:16.878Z"
   },
   {
    "duration": 5,
    "start_time": "2022-05-09T10:43:17.213Z"
   },
   {
    "duration": 12,
    "start_time": "2022-05-09T10:43:17.632Z"
   },
   {
    "duration": 5,
    "start_time": "2022-05-09T10:43:18.173Z"
   },
   {
    "duration": 12,
    "start_time": "2022-05-09T10:43:18.651Z"
   },
   {
    "duration": 5,
    "start_time": "2022-05-09T10:43:19.083Z"
   },
   {
    "duration": 4,
    "start_time": "2022-05-09T10:43:24.294Z"
   },
   {
    "duration": 11,
    "start_time": "2022-05-09T10:43:27.019Z"
   },
   {
    "duration": 68,
    "start_time": "2022-05-09T10:46:21.245Z"
   },
   {
    "duration": 12,
    "start_time": "2022-05-09T10:46:22.886Z"
   },
   {
    "duration": 6807,
    "start_time": "2022-05-09T10:46:32.574Z"
   },
   {
    "duration": 29,
    "start_time": "2022-05-09T10:46:39.397Z"
   },
   {
    "duration": 6990,
    "start_time": "2022-05-09T10:46:46.583Z"
   },
   {
    "duration": 12,
    "start_time": "2022-05-09T10:46:53.575Z"
   },
   {
    "duration": 158,
    "start_time": "2022-05-09T10:47:17.689Z"
   },
   {
    "duration": 13,
    "start_time": "2022-05-09T10:47:18.816Z"
   },
   {
    "duration": 171,
    "start_time": "2022-05-09T10:47:28.766Z"
   },
   {
    "duration": 154,
    "start_time": "2022-05-09T10:48:02.649Z"
   },
   {
    "duration": 1787,
    "start_time": "2022-05-09T10:48:07.677Z"
   },
   {
    "duration": 1671,
    "start_time": "2022-05-09T10:48:14.252Z"
   },
   {
    "duration": 18,
    "start_time": "2022-05-09T10:48:15.925Z"
   },
   {
    "duration": 15,
    "start_time": "2022-05-09T10:57:01.803Z"
   },
   {
    "duration": 3,
    "start_time": "2022-05-09T10:57:04.979Z"
   },
   {
    "duration": 14,
    "start_time": "2022-05-09T10:57:06.959Z"
   },
   {
    "duration": 18,
    "start_time": "2022-05-09T10:57:47.337Z"
   },
   {
    "duration": 20,
    "start_time": "2022-05-09T10:57:49.566Z"
   },
   {
    "duration": 17,
    "start_time": "2022-05-09T10:57:50.723Z"
   },
   {
    "duration": 15,
    "start_time": "2022-05-09T10:57:52.794Z"
   },
   {
    "duration": 29,
    "start_time": "2022-05-09T10:57:58.823Z"
   },
   {
    "duration": 13,
    "start_time": "2022-05-09T10:58:06.733Z"
   },
   {
    "duration": 28,
    "start_time": "2022-05-09T10:58:11.428Z"
   },
   {
    "duration": 13,
    "start_time": "2022-05-09T10:58:13.052Z"
   },
   {
    "duration": 16,
    "start_time": "2022-05-09T10:58:14.084Z"
   },
   {
    "duration": 370,
    "start_time": "2022-05-09T11:18:03.215Z"
   },
   {
    "duration": 13,
    "start_time": "2022-05-09T11:18:04.660Z"
   },
   {
    "duration": 211,
    "start_time": "2022-05-09T11:18:18.676Z"
   },
   {
    "duration": 20,
    "start_time": "2022-05-09T11:18:20.317Z"
   },
   {
    "duration": 154,
    "start_time": "2022-05-09T11:18:27.328Z"
   },
   {
    "duration": 12,
    "start_time": "2022-05-09T11:18:28.259Z"
   },
   {
    "duration": 793,
    "start_time": "2022-05-09T11:18:36.766Z"
   },
   {
    "duration": 16,
    "start_time": "2022-05-09T11:18:37.692Z"
   },
   {
    "duration": 23,
    "start_time": "2022-05-09T11:18:45.587Z"
   },
   {
    "duration": 11,
    "start_time": "2022-05-09T11:18:46.249Z"
   },
   {
    "duration": 8,
    "start_time": "2022-05-09T11:19:02.579Z"
   },
   {
    "duration": 17,
    "start_time": "2022-05-09T11:19:03.714Z"
   },
   {
    "duration": 12,
    "start_time": "2022-05-09T11:24:01.544Z"
   },
   {
    "duration": 5,
    "start_time": "2022-05-09T11:24:06.109Z"
   },
   {
    "duration": 4,
    "start_time": "2022-05-09T11:24:08.937Z"
   },
   {
    "duration": 13,
    "start_time": "2022-05-09T11:24:10.534Z"
   },
   {
    "duration": 16,
    "start_time": "2022-05-09T11:26:24.590Z"
   },
   {
    "duration": 7,
    "start_time": "2022-05-09T11:26:46.274Z"
   },
   {
    "duration": 161,
    "start_time": "2022-05-09T11:28:32.591Z"
   },
   {
    "duration": 7,
    "start_time": "2022-05-09T11:28:36.455Z"
   },
   {
    "duration": 7,
    "start_time": "2022-05-09T11:28:45.069Z"
   },
   {
    "duration": 7,
    "start_time": "2022-05-09T11:28:54.824Z"
   },
   {
    "duration": 7,
    "start_time": "2022-05-09T11:29:05.942Z"
   },
   {
    "duration": 173,
    "start_time": "2022-05-09T11:30:03.416Z"
   },
   {
    "duration": 10,
    "start_time": "2022-05-09T11:30:12.609Z"
   },
   {
    "duration": 20,
    "start_time": "2022-05-09T11:34:37.215Z"
   },
   {
    "duration": 16,
    "start_time": "2022-05-09T11:42:38.586Z"
   },
   {
    "duration": 18,
    "start_time": "2022-05-09T11:42:39.078Z"
   },
   {
    "duration": 18,
    "start_time": "2022-05-09T11:42:40.879Z"
   },
   {
    "duration": 21,
    "start_time": "2022-05-09T11:42:41.491Z"
   },
   {
    "duration": 32,
    "start_time": "2022-05-09T11:42:45.970Z"
   },
   {
    "duration": 15,
    "start_time": "2022-05-09T11:43:00.632Z"
   },
   {
    "duration": 16,
    "start_time": "2022-05-09T11:43:01.977Z"
   },
   {
    "duration": 533,
    "start_time": "2022-05-09T11:43:37.599Z"
   },
   {
    "duration": 25,
    "start_time": "2022-05-09T11:43:38.137Z"
   },
   {
    "duration": 4,
    "start_time": "2022-05-09T11:43:38.203Z"
   },
   {
    "duration": 15,
    "start_time": "2022-05-09T11:43:39.428Z"
   },
   {
    "duration": 5,
    "start_time": "2022-05-09T11:43:40.410Z"
   },
   {
    "duration": 6,
    "start_time": "2022-05-09T11:43:41.936Z"
   },
   {
    "duration": 6,
    "start_time": "2022-05-09T11:43:43.048Z"
   },
   {
    "duration": 17,
    "start_time": "2022-05-09T11:43:46.528Z"
   },
   {
    "duration": 4,
    "start_time": "2022-05-09T11:43:47.794Z"
   },
   {
    "duration": 11,
    "start_time": "2022-05-09T11:43:48.781Z"
   },
   {
    "duration": 4,
    "start_time": "2022-05-09T11:43:49.560Z"
   },
   {
    "duration": 4,
    "start_time": "2022-05-09T11:43:51.259Z"
   },
   {
    "duration": 74,
    "start_time": "2022-05-09T11:43:52.367Z"
   },
   {
    "duration": 5,
    "start_time": "2022-05-09T11:44:17.901Z"
   },
   {
    "duration": 5,
    "start_time": "2022-05-09T11:44:19.060Z"
   },
   {
    "duration": 6,
    "start_time": "2022-05-09T11:44:19.269Z"
   },
   {
    "duration": 17,
    "start_time": "2022-05-09T11:44:20.270Z"
   },
   {
    "duration": 6,
    "start_time": "2022-05-09T11:44:21.228Z"
   },
   {
    "duration": 18,
    "start_time": "2022-05-09T11:44:22.650Z"
   },
   {
    "duration": 5,
    "start_time": "2022-05-09T11:44:23.925Z"
   },
   {
    "duration": 4,
    "start_time": "2022-05-09T11:44:29.615Z"
   },
   {
    "duration": 10,
    "start_time": "2022-05-09T11:44:30.411Z"
   },
   {
    "duration": 466,
    "start_time": "2022-05-09T11:44:47.973Z"
   },
   {
    "duration": 18,
    "start_time": "2022-05-09T11:44:52.602Z"
   },
   {
    "duration": 5,
    "start_time": "2022-05-09T11:44:55.370Z"
   },
   {
    "duration": 15,
    "start_time": "2022-05-09T11:44:58.122Z"
   },
   {
    "duration": 5,
    "start_time": "2022-05-09T11:45:00.264Z"
   },
   {
    "duration": 6,
    "start_time": "2022-05-09T11:45:02.602Z"
   },
   {
    "duration": 11,
    "start_time": "2022-05-09T11:45:05.130Z"
   },
   {
    "duration": 17,
    "start_time": "2022-05-09T11:45:06.232Z"
   },
   {
    "duration": 5,
    "start_time": "2022-05-09T11:45:10.104Z"
   },
   {
    "duration": 11,
    "start_time": "2022-05-09T11:45:23.956Z"
   },
   {
    "duration": 4,
    "start_time": "2022-05-09T11:45:26.771Z"
   },
   {
    "duration": 4,
    "start_time": "2022-05-09T11:45:31.347Z"
   },
   {
    "duration": 65,
    "start_time": "2022-05-09T11:45:37.062Z"
   },
   {
    "duration": 23,
    "start_time": "2022-05-09T11:45:46.928Z"
   },
   {
    "duration": 7,
    "start_time": "2022-05-09T11:45:55.627Z"
   },
   {
    "duration": 6,
    "start_time": "2022-05-09T11:46:03.683Z"
   },
   {
    "duration": 7,
    "start_time": "2022-05-09T11:46:11.880Z"
   },
   {
    "duration": 446,
    "start_time": "2022-05-09T11:50:10.225Z"
   },
   {
    "duration": 24,
    "start_time": "2022-05-09T11:50:13.189Z"
   },
   {
    "duration": 23,
    "start_time": "2022-05-09T11:50:16.677Z"
   },
   {
    "duration": 10,
    "start_time": "2022-05-09T11:50:44.192Z"
   },
   {
    "duration": 22,
    "start_time": "2022-05-09T11:50:46.603Z"
   },
   {
    "duration": 401,
    "start_time": "2022-05-09T11:51:03.348Z"
   },
   {
    "duration": 9,
    "start_time": "2022-05-09T11:51:20.351Z"
   },
   {
    "duration": 5,
    "start_time": "2022-05-09T11:51:29.710Z"
   },
   {
    "duration": 21,
    "start_time": "2022-05-09T11:51:31.834Z"
   },
   {
    "duration": 22,
    "start_time": "2022-05-09T11:51:37.933Z"
   },
   {
    "duration": 4,
    "start_time": "2022-05-09T11:51:39.645Z"
   },
   {
    "duration": 20,
    "start_time": "2022-05-09T11:51:42.286Z"
   },
   {
    "duration": 21,
    "start_time": "2022-05-09T11:55:40.828Z"
   },
   {
    "duration": 4,
    "start_time": "2022-05-09T11:55:43.761Z"
   },
   {
    "duration": 20,
    "start_time": "2022-05-09T11:55:46.660Z"
   },
   {
    "duration": 28,
    "start_time": "2022-05-09T11:55:48.817Z"
   },
   {
    "duration": 17,
    "start_time": "2022-05-09T11:55:49.503Z"
   },
   {
    "duration": 18,
    "start_time": "2022-05-09T11:55:51.042Z"
   },
   {
    "duration": 34,
    "start_time": "2022-05-09T11:55:52.665Z"
   },
   {
    "duration": 22,
    "start_time": "2022-05-09T11:55:55.108Z"
   },
   {
    "duration": 52,
    "start_time": "2022-05-09T12:58:09.246Z"
   },
   {
    "duration": 25,
    "start_time": "2022-05-09T12:58:20.402Z"
   },
   {
    "duration": 31,
    "start_time": "2022-05-09T12:58:22.849Z"
   },
   {
    "duration": 8,
    "start_time": "2022-05-09T13:00:47.046Z"
   },
   {
    "duration": 3,
    "start_time": "2022-05-09T13:00:57.075Z"
   },
   {
    "duration": 8,
    "start_time": "2022-05-09T13:00:58.310Z"
   },
   {
    "duration": 25,
    "start_time": "2022-05-09T13:03:08.343Z"
   },
   {
    "duration": 19,
    "start_time": "2022-05-09T13:04:11.685Z"
   },
   {
    "duration": 8,
    "start_time": "2022-05-09T13:12:53.005Z"
   },
   {
    "duration": 13,
    "start_time": "2022-05-09T13:12:58.442Z"
   },
   {
    "duration": 14,
    "start_time": "2022-05-09T13:13:04.647Z"
   },
   {
    "duration": 18,
    "start_time": "2022-05-09T13:13:16.310Z"
   },
   {
    "duration": 5,
    "start_time": "2022-05-09T13:14:59.223Z"
   },
   {
    "duration": 19,
    "start_time": "2022-05-09T13:15:03.030Z"
   },
   {
    "duration": 16,
    "start_time": "2022-05-09T13:16:05.298Z"
   },
   {
    "duration": 4,
    "start_time": "2022-05-09T13:21:07.076Z"
   },
   {
    "duration": 8,
    "start_time": "2022-05-09T13:22:50.255Z"
   },
   {
    "duration": 159,
    "start_time": "2022-05-09T13:24:40.458Z"
   },
   {
    "duration": 159,
    "start_time": "2022-05-09T13:24:45.513Z"
   },
   {
    "duration": 4,
    "start_time": "2022-05-09T13:25:06.294Z"
   },
   {
    "duration": 13,
    "start_time": "2022-05-09T13:25:09.734Z"
   },
   {
    "duration": 16,
    "start_time": "2022-05-09T13:26:17.403Z"
   },
   {
    "duration": 14,
    "start_time": "2022-05-09T13:26:29.524Z"
   },
   {
    "duration": 171,
    "start_time": "2022-05-09T13:28:47.589Z"
   },
   {
    "duration": 8,
    "start_time": "2022-05-09T13:28:50.502Z"
   },
   {
    "duration": 171,
    "start_time": "2022-05-09T13:30:53.840Z"
   },
   {
    "duration": 13,
    "start_time": "2022-05-09T13:30:58.331Z"
   },
   {
    "duration": 15,
    "start_time": "2022-05-09T13:31:02.899Z"
   },
   {
    "duration": 10,
    "start_time": "2022-05-09T13:31:16.094Z"
   },
   {
    "duration": 160,
    "start_time": "2022-05-09T13:31:23.607Z"
   },
   {
    "duration": 9,
    "start_time": "2022-05-09T13:31:26.133Z"
   },
   {
    "duration": 2603,
    "start_time": "2022-05-09T13:32:46.730Z"
   },
   {
    "duration": 2651,
    "start_time": "2022-05-09T13:32:52.494Z"
   },
   {
    "duration": 2649,
    "start_time": "2022-05-09T13:32:59.017Z"
   },
   {
    "duration": 3035,
    "start_time": "2022-05-09T13:33:11.424Z"
   },
   {
    "duration": 8,
    "start_time": "2022-05-09T13:33:28.543Z"
   },
   {
    "duration": 7,
    "start_time": "2022-05-09T13:34:38.174Z"
   },
   {
    "duration": 5,
    "start_time": "2022-05-09T13:37:02.160Z"
   },
   {
    "duration": 12,
    "start_time": "2022-05-09T13:37:11.298Z"
   },
   {
    "duration": 20,
    "start_time": "2022-05-09T13:37:58.299Z"
   },
   {
    "duration": 8,
    "start_time": "2022-05-09T13:37:59.811Z"
   },
   {
    "duration": 10,
    "start_time": "2022-05-09T13:38:02.167Z"
   },
   {
    "duration": 13,
    "start_time": "2022-05-09T13:38:04.397Z"
   },
   {
    "duration": 36,
    "start_time": "2022-05-09T13:44:52.974Z"
   },
   {
    "duration": 5,
    "start_time": "2022-05-09T13:45:00.796Z"
   },
   {
    "duration": 275,
    "start_time": "2022-05-09T13:45:02.006Z"
   },
   {
    "duration": 15,
    "start_time": "2022-05-09T13:45:03.824Z"
   },
   {
    "duration": 359,
    "start_time": "2022-05-09T13:45:20.293Z"
   },
   {
    "duration": 8,
    "start_time": "2022-05-09T13:45:20.654Z"
   },
   {
    "duration": 7,
    "start_time": "2022-05-09T13:45:22.188Z"
   },
   {
    "duration": 9,
    "start_time": "2022-05-09T13:45:24.637Z"
   },
   {
    "duration": 4,
    "start_time": "2022-05-09T13:45:28.008Z"
   },
   {
    "duration": 329,
    "start_time": "2022-05-09T13:45:28.929Z"
   },
   {
    "duration": 8,
    "start_time": "2022-05-09T13:45:30.200Z"
   },
   {
    "duration": 7,
    "start_time": "2022-05-09T13:45:51.254Z"
   },
   {
    "duration": 11,
    "start_time": "2022-05-09T13:46:10.642Z"
   },
   {
    "duration": 451,
    "start_time": "2022-05-09T13:47:20.174Z"
   },
   {
    "duration": 328,
    "start_time": "2022-05-09T13:47:23.848Z"
   },
   {
    "duration": 8,
    "start_time": "2022-05-09T13:47:24.747Z"
   },
   {
    "duration": 77,
    "start_time": "2022-05-09T14:51:42.641Z"
   },
   {
    "duration": 24,
    "start_time": "2022-05-09T14:51:44.528Z"
   },
   {
    "duration": 3,
    "start_time": "2022-05-09T14:51:44.554Z"
   },
   {
    "duration": 16,
    "start_time": "2022-05-09T14:51:46.719Z"
   },
   {
    "duration": 6,
    "start_time": "2022-05-09T14:51:47.136Z"
   },
   {
    "duration": 5,
    "start_time": "2022-05-09T14:51:47.775Z"
   },
   {
    "duration": 5,
    "start_time": "2022-05-09T14:51:48.807Z"
   },
   {
    "duration": 11,
    "start_time": "2022-05-09T14:51:49.759Z"
   },
   {
    "duration": 10,
    "start_time": "2022-05-09T14:51:50.287Z"
   },
   {
    "duration": 6,
    "start_time": "2022-05-09T14:51:51.159Z"
   },
   {
    "duration": 3,
    "start_time": "2022-05-09T14:52:01.064Z"
   },
   {
    "duration": 5,
    "start_time": "2022-05-09T14:52:03.007Z"
   },
   {
    "duration": 4,
    "start_time": "2022-05-09T14:52:39.159Z"
   },
   {
    "duration": 21,
    "start_time": "2022-05-09T14:52:40.391Z"
   },
   {
    "duration": 9,
    "start_time": "2022-05-09T14:56:57.084Z"
   },
   {
    "duration": 18,
    "start_time": "2022-05-09T14:57:03.323Z"
   },
   {
    "duration": 7,
    "start_time": "2022-05-09T14:57:27.633Z"
   },
   {
    "duration": 25,
    "start_time": "2022-05-09T14:57:30.634Z"
   },
   {
    "duration": 4,
    "start_time": "2022-05-09T14:57:40.900Z"
   },
   {
    "duration": 5,
    "start_time": "2022-05-09T14:57:42.276Z"
   },
   {
    "duration": 12,
    "start_time": "2022-05-09T14:57:43.083Z"
   },
   {
    "duration": 5,
    "start_time": "2022-05-09T14:57:44.115Z"
   },
   {
    "duration": 5,
    "start_time": "2022-05-09T14:58:52.761Z"
   },
   {
    "duration": 6,
    "start_time": "2022-05-09T14:58:54.457Z"
   },
   {
    "duration": 5,
    "start_time": "2022-05-09T14:59:13.786Z"
   },
   {
    "duration": 16,
    "start_time": "2022-05-09T14:59:16.994Z"
   },
   {
    "duration": 5,
    "start_time": "2022-05-09T14:59:20.554Z"
   },
   {
    "duration": 18,
    "start_time": "2022-05-09T14:59:23.155Z"
   },
   {
    "duration": 22,
    "start_time": "2022-05-09T14:59:24.098Z"
   },
   {
    "duration": 18,
    "start_time": "2022-05-09T14:59:24.586Z"
   },
   {
    "duration": 16,
    "start_time": "2022-05-09T14:59:25.394Z"
   },
   {
    "duration": 32,
    "start_time": "2022-05-09T14:59:26.090Z"
   },
   {
    "duration": 13,
    "start_time": "2022-05-09T14:59:28.610Z"
   },
   {
    "duration": 16,
    "start_time": "2022-05-09T14:59:29.025Z"
   },
   {
    "duration": 18,
    "start_time": "2022-05-09T14:59:30.090Z"
   },
   {
    "duration": 3,
    "start_time": "2022-05-09T14:59:33.154Z"
   },
   {
    "duration": 8,
    "start_time": "2022-05-09T14:59:33.569Z"
   },
   {
    "duration": 18,
    "start_time": "2022-05-09T14:59:50.131Z"
   },
   {
    "duration": 16,
    "start_time": "2022-05-09T14:59:59.009Z"
   },
   {
    "duration": 9,
    "start_time": "2022-05-09T15:02:40.833Z"
   },
   {
    "duration": 817,
    "start_time": "2022-05-09T15:02:43.919Z"
   },
   {
    "duration": 525,
    "start_time": "2022-05-09T15:04:33.328Z"
   },
   {
    "duration": 18,
    "start_time": "2022-05-09T15:04:33.856Z"
   },
   {
    "duration": 7,
    "start_time": "2022-05-09T15:04:33.875Z"
   },
   {
    "duration": 11,
    "start_time": "2022-05-09T15:04:34.311Z"
   },
   {
    "duration": 5,
    "start_time": "2022-05-09T15:04:34.447Z"
   },
   {
    "duration": 5,
    "start_time": "2022-05-09T15:04:34.599Z"
   },
   {
    "duration": 5,
    "start_time": "2022-05-09T15:04:34.759Z"
   },
   {
    "duration": 11,
    "start_time": "2022-05-09T15:04:34.919Z"
   },
   {
    "duration": 12,
    "start_time": "2022-05-09T15:04:35.086Z"
   },
   {
    "duration": 6,
    "start_time": "2022-05-09T15:04:35.247Z"
   },
   {
    "duration": 4,
    "start_time": "2022-05-09T15:04:35.566Z"
   },
   {
    "duration": 10,
    "start_time": "2022-05-09T15:04:35.735Z"
   },
   {
    "duration": 23,
    "start_time": "2022-05-09T15:04:35.918Z"
   },
   {
    "duration": 6,
    "start_time": "2022-05-09T15:04:36.134Z"
   },
   {
    "duration": 4,
    "start_time": "2022-05-09T15:04:36.391Z"
   },
   {
    "duration": 12,
    "start_time": "2022-05-09T15:04:36.630Z"
   },
   {
    "duration": 7,
    "start_time": "2022-05-09T15:04:36.919Z"
   },
   {
    "duration": 6,
    "start_time": "2022-05-09T15:04:37.174Z"
   },
   {
    "duration": 7,
    "start_time": "2022-05-09T15:04:37.390Z"
   },
   {
    "duration": 19,
    "start_time": "2022-05-09T15:04:38.142Z"
   },
   {
    "duration": 4,
    "start_time": "2022-05-09T15:04:38.334Z"
   },
   {
    "duration": 22,
    "start_time": "2022-05-09T15:04:38.854Z"
   },
   {
    "duration": 29,
    "start_time": "2022-05-09T15:04:39.038Z"
   },
   {
    "duration": 24,
    "start_time": "2022-05-09T15:04:39.223Z"
   },
   {
    "duration": 25,
    "start_time": "2022-05-09T15:04:39.399Z"
   },
   {
    "duration": 47,
    "start_time": "2022-05-09T15:04:39.575Z"
   },
   {
    "duration": 19,
    "start_time": "2022-05-09T15:04:39.759Z"
   },
   {
    "duration": 28,
    "start_time": "2022-05-09T15:04:39.951Z"
   },
   {
    "duration": 29,
    "start_time": "2022-05-09T15:04:40.126Z"
   },
   {
    "duration": 4,
    "start_time": "2022-05-09T15:04:40.303Z"
   },
   {
    "duration": 8,
    "start_time": "2022-05-09T15:04:41.087Z"
   },
   {
    "duration": 19,
    "start_time": "2022-05-09T15:04:41.503Z"
   },
   {
    "duration": 14,
    "start_time": "2022-05-09T15:04:46.119Z"
   },
   {
    "duration": 67,
    "start_time": "2022-05-09T15:06:53.557Z"
   },
   {
    "duration": 5,
    "start_time": "2022-05-09T15:06:59.582Z"
   },
   {
    "duration": 9,
    "start_time": "2022-05-09T15:21:12.933Z"
   },
   {
    "duration": 10,
    "start_time": "2022-05-09T15:21:32.910Z"
   },
   {
    "duration": 12,
    "start_time": "2022-05-09T15:24:22.043Z"
   },
   {
    "duration": 4,
    "start_time": "2022-05-09T15:24:27.226Z"
   },
   {
    "duration": 220,
    "start_time": "2022-05-09T15:24:29.171Z"
   },
   {
    "duration": 8,
    "start_time": "2022-05-09T15:24:30.187Z"
   },
   {
    "duration": 291,
    "start_time": "2022-05-09T15:24:42.754Z"
   },
   {
    "duration": 8,
    "start_time": "2022-05-09T15:24:47.306Z"
   },
   {
    "duration": 297,
    "start_time": "2022-05-09T15:24:52.827Z"
   },
   {
    "duration": 8,
    "start_time": "2022-05-09T15:24:54.186Z"
   },
   {
    "duration": 7,
    "start_time": "2022-05-09T15:25:00.531Z"
   },
   {
    "duration": 10,
    "start_time": "2022-05-09T15:25:06.698Z"
   },
   {
    "duration": 11,
    "start_time": "2022-05-09T15:25:14.522Z"
   },
   {
    "duration": 2654,
    "start_time": "2022-05-09T15:25:58.002Z"
   },
   {
    "duration": 0,
    "start_time": "2022-05-09T15:26:04.477Z"
   },
   {
    "duration": 529,
    "start_time": "2022-05-10T05:56:16.026Z"
   },
   {
    "duration": 17,
    "start_time": "2022-05-10T05:56:18.369Z"
   },
   {
    "duration": 4,
    "start_time": "2022-05-10T05:56:22.257Z"
   },
   {
    "duration": 12,
    "start_time": "2022-05-10T05:56:26.886Z"
   },
   {
    "duration": 5,
    "start_time": "2022-05-10T05:56:29.137Z"
   },
   {
    "duration": 7,
    "start_time": "2022-05-10T05:56:32.435Z"
   },
   {
    "duration": 6,
    "start_time": "2022-05-10T05:56:33.383Z"
   },
   {
    "duration": 16,
    "start_time": "2022-05-10T05:56:34.208Z"
   },
   {
    "duration": 14,
    "start_time": "2022-05-10T05:56:36.436Z"
   },
   {
    "duration": 6,
    "start_time": "2022-05-10T05:56:37.245Z"
   },
   {
    "duration": 3,
    "start_time": "2022-05-10T05:56:40.802Z"
   },
   {
    "duration": 11,
    "start_time": "2022-05-10T05:56:41.481Z"
   },
   {
    "duration": 21,
    "start_time": "2022-05-10T05:56:43.173Z"
   },
   {
    "duration": 4,
    "start_time": "2022-05-10T05:56:46.676Z"
   },
   {
    "duration": 5,
    "start_time": "2022-05-10T05:56:47.584Z"
   },
   {
    "duration": 13,
    "start_time": "2022-05-10T05:56:48.289Z"
   },
   {
    "duration": 6,
    "start_time": "2022-05-10T05:56:49.284Z"
   },
   {
    "duration": 5,
    "start_time": "2022-05-10T05:56:51.666Z"
   },
   {
    "duration": 6,
    "start_time": "2022-05-10T05:56:52.841Z"
   },
   {
    "duration": 16,
    "start_time": "2022-05-10T05:56:59.711Z"
   },
   {
    "duration": 5,
    "start_time": "2022-05-10T05:57:01.186Z"
   },
   {
    "duration": 19,
    "start_time": "2022-05-10T05:57:07.338Z"
   },
   {
    "duration": 21,
    "start_time": "2022-05-10T05:57:08.518Z"
   },
   {
    "duration": 18,
    "start_time": "2022-05-10T05:57:09.581Z"
   },
   {
    "duration": 16,
    "start_time": "2022-05-10T05:57:11.522Z"
   },
   {
    "duration": 33,
    "start_time": "2022-05-10T05:57:12.376Z"
   },
   {
    "duration": 19,
    "start_time": "2022-05-10T05:57:13.497Z"
   },
   {
    "duration": 24,
    "start_time": "2022-05-10T05:57:15.631Z"
   },
   {
    "duration": 28,
    "start_time": "2022-05-10T05:57:16.453Z"
   },
   {
    "duration": 4,
    "start_time": "2022-05-10T05:57:18.547Z"
   },
   {
    "duration": 9,
    "start_time": "2022-05-10T05:57:19.276Z"
   },
   {
    "duration": 20,
    "start_time": "2022-05-10T05:57:19.793Z"
   },
   {
    "duration": 19,
    "start_time": "2022-05-10T05:57:24.767Z"
   },
   {
    "duration": 68,
    "start_time": "2022-05-10T06:01:16.859Z"
   },
   {
    "duration": 6,
    "start_time": "2022-05-10T06:01:22.375Z"
   },
   {
    "duration": 166,
    "start_time": "2022-05-10T06:04:04.393Z"
   },
   {
    "duration": 13,
    "start_time": "2022-05-10T06:04:16.824Z"
   },
   {
    "duration": 13,
    "start_time": "2022-05-10T06:07:52.896Z"
   },
   {
    "duration": 185,
    "start_time": "2022-05-10T06:08:16.201Z"
   },
   {
    "duration": 172,
    "start_time": "2022-05-10T06:10:21.616Z"
   },
   {
    "duration": 183,
    "start_time": "2022-05-10T06:10:29.293Z"
   },
   {
    "duration": 7,
    "start_time": "2022-05-10T06:10:44.484Z"
   },
   {
    "duration": 9,
    "start_time": "2022-05-10T06:10:52.486Z"
   },
   {
    "duration": 5,
    "start_time": "2022-05-10T06:11:07.335Z"
   },
   {
    "duration": 7,
    "start_time": "2022-05-10T06:11:12.393Z"
   },
   {
    "duration": 5,
    "start_time": "2022-05-10T06:11:55.370Z"
   },
   {
    "duration": 6,
    "start_time": "2022-05-10T06:11:58.560Z"
   },
   {
    "duration": 5,
    "start_time": "2022-05-10T06:12:01.581Z"
   },
   {
    "duration": 15,
    "start_time": "2022-05-10T06:12:09.108Z"
   },
   {
    "duration": 6,
    "start_time": "2022-05-10T06:12:19.935Z"
   },
   {
    "duration": 1293,
    "start_time": "2022-05-10T06:12:34.083Z"
   },
   {
    "duration": 16,
    "start_time": "2022-05-10T06:12:35.378Z"
   },
   {
    "duration": 8,
    "start_time": "2022-05-10T06:12:35.395Z"
   },
   {
    "duration": 11,
    "start_time": "2022-05-10T06:12:35.422Z"
   },
   {
    "duration": 11,
    "start_time": "2022-05-10T06:12:35.435Z"
   },
   {
    "duration": 9,
    "start_time": "2022-05-10T06:12:35.447Z"
   },
   {
    "duration": 6,
    "start_time": "2022-05-10T06:12:35.459Z"
   },
   {
    "duration": 12,
    "start_time": "2022-05-10T06:12:35.616Z"
   },
   {
    "duration": 12,
    "start_time": "2022-05-10T06:12:35.741Z"
   },
   {
    "duration": 6,
    "start_time": "2022-05-10T06:12:35.955Z"
   },
   {
    "duration": 5,
    "start_time": "2022-05-10T06:12:36.299Z"
   },
   {
    "duration": 9,
    "start_time": "2022-05-10T06:12:36.470Z"
   },
   {
    "duration": 23,
    "start_time": "2022-05-10T06:12:36.653Z"
   },
   {
    "duration": 7,
    "start_time": "2022-05-10T06:12:36.828Z"
   },
   {
    "duration": 5,
    "start_time": "2022-05-10T06:12:37.031Z"
   },
   {
    "duration": 16,
    "start_time": "2022-05-10T06:12:37.194Z"
   },
   {
    "duration": 8,
    "start_time": "2022-05-10T06:12:37.367Z"
   },
   {
    "duration": 6,
    "start_time": "2022-05-10T06:12:37.556Z"
   },
   {
    "duration": 7,
    "start_time": "2022-05-10T06:12:37.766Z"
   },
   {
    "duration": 22,
    "start_time": "2022-05-10T06:12:38.832Z"
   },
   {
    "duration": 5,
    "start_time": "2022-05-10T06:12:39.063Z"
   },
   {
    "duration": 27,
    "start_time": "2022-05-10T06:12:40.149Z"
   },
   {
    "duration": 23,
    "start_time": "2022-05-10T06:12:40.333Z"
   },
   {
    "duration": 17,
    "start_time": "2022-05-10T06:12:40.526Z"
   },
   {
    "duration": 16,
    "start_time": "2022-05-10T06:12:40.688Z"
   },
   {
    "duration": 30,
    "start_time": "2022-05-10T06:12:42.980Z"
   },
   {
    "duration": 14,
    "start_time": "2022-05-10T06:12:43.138Z"
   },
   {
    "duration": 16,
    "start_time": "2022-05-10T06:12:43.284Z"
   },
   {
    "duration": 20,
    "start_time": "2022-05-10T06:12:43.460Z"
   },
   {
    "duration": 3,
    "start_time": "2022-05-10T06:12:46.283Z"
   },
   {
    "duration": 8,
    "start_time": "2022-05-10T06:12:46.478Z"
   },
   {
    "duration": 18,
    "start_time": "2022-05-10T06:12:46.641Z"
   },
   {
    "duration": 23,
    "start_time": "2022-05-10T06:12:51.569Z"
   },
   {
    "duration": 2873,
    "start_time": "2022-05-10T06:16:24.168Z"
   },
   {
    "duration": 2666,
    "start_time": "2022-05-10T06:16:27.273Z"
   },
   {
    "duration": 8,
    "start_time": "2022-05-10T06:18:07.788Z"
   },
   {
    "duration": 4,
    "start_time": "2022-05-10T06:18:27.535Z"
   },
   {
    "duration": 8,
    "start_time": "2022-05-10T06:18:53.339Z"
   },
   {
    "duration": 13,
    "start_time": "2022-05-10T06:20:12.317Z"
   },
   {
    "duration": 11,
    "start_time": "2022-05-10T06:20:24.994Z"
   },
   {
    "duration": 10,
    "start_time": "2022-05-10T06:20:59.448Z"
   },
   {
    "duration": 5,
    "start_time": "2022-05-10T06:21:45.960Z"
   },
   {
    "duration": 5,
    "start_time": "2022-05-10T06:22:07.701Z"
   },
   {
    "duration": 4,
    "start_time": "2022-05-10T06:22:33.036Z"
   },
   {
    "duration": 12,
    "start_time": "2022-05-10T06:24:17.303Z"
   },
   {
    "duration": 4,
    "start_time": "2022-05-10T06:25:13.345Z"
   },
   {
    "duration": 13,
    "start_time": "2022-05-10T06:25:17.349Z"
   },
   {
    "duration": 3,
    "start_time": "2022-05-10T06:26:40.966Z"
   },
   {
    "duration": 3,
    "start_time": "2022-05-10T06:27:07.637Z"
   },
   {
    "duration": 10,
    "start_time": "2022-05-10T06:28:54.446Z"
   },
   {
    "duration": 19,
    "start_time": "2022-05-10T06:30:12.129Z"
   },
   {
    "duration": 15,
    "start_time": "2022-05-10T06:39:53.633Z"
   },
   {
    "duration": 20,
    "start_time": "2022-05-10T06:39:54.834Z"
   },
   {
    "duration": 16,
    "start_time": "2022-05-10T06:41:02.208Z"
   },
   {
    "duration": 21,
    "start_time": "2022-05-10T06:41:03.607Z"
   },
   {
    "duration": 5,
    "start_time": "2022-05-10T06:42:07.675Z"
   },
   {
    "duration": 18,
    "start_time": "2022-05-10T06:42:13.913Z"
   },
   {
    "duration": 20,
    "start_time": "2022-05-10T06:44:21.094Z"
   },
   {
    "duration": 20,
    "start_time": "2022-05-10T06:44:22.376Z"
   },
   {
    "duration": 31,
    "start_time": "2022-05-10T06:45:08.016Z"
   },
   {
    "duration": 168,
    "start_time": "2022-05-10T06:51:01.526Z"
   },
   {
    "duration": 180,
    "start_time": "2022-05-10T06:51:10.874Z"
   },
   {
    "duration": 171,
    "start_time": "2022-05-10T06:51:20.920Z"
   },
   {
    "duration": 176,
    "start_time": "2022-05-10T06:51:49.840Z"
   },
   {
    "duration": 169,
    "start_time": "2022-05-10T06:52:02.576Z"
   },
   {
    "duration": 170,
    "start_time": "2022-05-10T06:53:07.341Z"
   },
   {
    "duration": 39,
    "start_time": "2022-05-10T06:56:10.256Z"
   },
   {
    "duration": 35,
    "start_time": "2022-05-10T06:56:11.518Z"
   },
   {
    "duration": 21,
    "start_time": "2022-05-10T06:56:20.315Z"
   },
   {
    "duration": 177,
    "start_time": "2022-05-10T06:57:08.314Z"
   },
   {
    "duration": 162,
    "start_time": "2022-05-10T06:57:24.543Z"
   },
   {
    "duration": 196,
    "start_time": "2022-05-10T06:57:27.850Z"
   },
   {
    "duration": 199,
    "start_time": "2022-05-10T06:57:37.141Z"
   },
   {
    "duration": 168,
    "start_time": "2022-05-10T06:57:48.291Z"
   },
   {
    "duration": 173,
    "start_time": "2022-05-10T06:57:54.284Z"
   },
   {
    "duration": 300,
    "start_time": "2022-05-10T06:58:24.495Z"
   },
   {
    "duration": 7,
    "start_time": "2022-05-10T07:00:04.278Z"
   },
   {
    "duration": 2715,
    "start_time": "2022-05-10T07:00:22.405Z"
   },
   {
    "duration": 5,
    "start_time": "2022-05-10T07:00:29.662Z"
   },
   {
    "duration": 164,
    "start_time": "2022-05-10T07:07:15.023Z"
   },
   {
    "duration": 145,
    "start_time": "2022-05-10T07:07:27.867Z"
   },
   {
    "duration": 8,
    "start_time": "2022-05-10T07:07:28.023Z"
   },
   {
    "duration": 9,
    "start_time": "2022-05-10T07:07:32.998Z"
   },
   {
    "duration": 183,
    "start_time": "2022-05-10T07:08:19.755Z"
   },
   {
    "duration": 220,
    "start_time": "2022-05-10T07:08:39.694Z"
   },
   {
    "duration": 9,
    "start_time": "2022-05-10T07:08:43.302Z"
   },
   {
    "duration": 384,
    "start_time": "2022-05-10T07:09:24.347Z"
   },
   {
    "duration": 9,
    "start_time": "2022-05-10T07:09:25.698Z"
   },
   {
    "duration": 26,
    "start_time": "2022-05-10T07:10:17.679Z"
   },
   {
    "duration": 30,
    "start_time": "2022-05-10T07:10:18.815Z"
   },
   {
    "duration": 27,
    "start_time": "2022-05-10T07:10:33.948Z"
   },
   {
    "duration": 21,
    "start_time": "2022-05-10T07:10:35.111Z"
   },
   {
    "duration": 29,
    "start_time": "2022-05-10T07:10:46.221Z"
   },
   {
    "duration": 20,
    "start_time": "2022-05-10T07:10:47.177Z"
   },
   {
    "duration": 30,
    "start_time": "2022-05-10T07:10:56.574Z"
   },
   {
    "duration": 20,
    "start_time": "2022-05-10T07:10:57.553Z"
   },
   {
    "duration": 44,
    "start_time": "2022-05-10T07:11:26.228Z"
   },
   {
    "duration": 22,
    "start_time": "2022-05-10T07:11:26.809Z"
   },
   {
    "duration": 35,
    "start_time": "2022-05-10T07:12:28.767Z"
   },
   {
    "duration": 21,
    "start_time": "2022-05-10T07:12:29.256Z"
   },
   {
    "duration": 35,
    "start_time": "2022-05-10T07:12:41.212Z"
   },
   {
    "duration": 21,
    "start_time": "2022-05-10T07:12:41.655Z"
   },
   {
    "duration": 35,
    "start_time": "2022-05-10T07:12:54.347Z"
   },
   {
    "duration": 22,
    "start_time": "2022-05-10T07:12:54.641Z"
   },
   {
    "duration": 40,
    "start_time": "2022-05-10T07:14:19.620Z"
   },
   {
    "duration": 40,
    "start_time": "2022-05-10T07:16:19.297Z"
   },
   {
    "duration": 25,
    "start_time": "2022-05-10T07:16:19.642Z"
   },
   {
    "duration": 6,
    "start_time": "2022-05-10T07:16:39.753Z"
   },
   {
    "duration": 22,
    "start_time": "2022-05-10T07:16:45.436Z"
   },
   {
    "duration": 31,
    "start_time": "2022-05-10T07:16:55.091Z"
   },
   {
    "duration": 201,
    "start_time": "2022-05-10T07:17:43.990Z"
   },
   {
    "duration": 6,
    "start_time": "2022-05-10T07:17:47.161Z"
   },
   {
    "duration": 20,
    "start_time": "2022-05-10T07:18:12.768Z"
   },
   {
    "duration": 20,
    "start_time": "2022-05-10T07:18:43.629Z"
   },
   {
    "duration": 7,
    "start_time": "2022-05-10T07:24:56.129Z"
   },
   {
    "duration": 291,
    "start_time": "2022-05-10T07:25:15.835Z"
   },
   {
    "duration": 2741,
    "start_time": "2022-05-10T07:25:54.899Z"
   },
   {
    "duration": 12,
    "start_time": "2022-05-10T07:26:14.168Z"
   },
   {
    "duration": 9,
    "start_time": "2022-05-10T07:26:18.315Z"
   },
   {
    "duration": 8,
    "start_time": "2022-05-10T07:28:06.625Z"
   },
   {
    "duration": 9,
    "start_time": "2022-05-10T07:30:29.934Z"
   },
   {
    "duration": 4,
    "start_time": "2022-05-10T07:30:41.197Z"
   },
   {
    "duration": 12,
    "start_time": "2022-05-10T07:31:03.919Z"
   },
   {
    "duration": 4,
    "start_time": "2022-05-10T07:31:14.498Z"
   },
   {
    "duration": 4,
    "start_time": "2022-05-10T07:31:26.239Z"
   },
   {
    "duration": 8,
    "start_time": "2022-05-10T07:31:45.734Z"
   },
   {
    "duration": 9,
    "start_time": "2022-05-10T07:32:01.443Z"
   },
   {
    "duration": 1097,
    "start_time": "2022-05-10T07:32:35.862Z"
   },
   {
    "duration": 314309,
    "start_time": "2022-05-10T07:32:36.962Z"
   },
   {
    "duration": 496,
    "start_time": "2022-05-11T04:34:35.770Z"
   },
   {
    "duration": 15,
    "start_time": "2022-05-11T04:34:36.269Z"
   },
   {
    "duration": 9,
    "start_time": "2022-05-11T04:34:36.285Z"
   },
   {
    "duration": 10,
    "start_time": "2022-05-11T04:34:36.722Z"
   },
   {
    "duration": 5,
    "start_time": "2022-05-11T04:34:36.882Z"
   },
   {
    "duration": 6,
    "start_time": "2022-05-11T04:34:37.050Z"
   },
   {
    "duration": 5,
    "start_time": "2022-05-11T04:34:37.226Z"
   },
   {
    "duration": 10,
    "start_time": "2022-05-11T04:34:37.394Z"
   },
   {
    "duration": 11,
    "start_time": "2022-05-11T04:34:37.569Z"
   },
   {
    "duration": 6,
    "start_time": "2022-05-11T04:34:37.739Z"
   },
   {
    "duration": 4,
    "start_time": "2022-05-11T04:34:38.090Z"
   },
   {
    "duration": 6,
    "start_time": "2022-05-11T04:34:38.266Z"
   },
   {
    "duration": 20,
    "start_time": "2022-05-11T04:34:38.450Z"
   },
   {
    "duration": 4,
    "start_time": "2022-05-11T04:34:38.636Z"
   },
   {
    "duration": 4,
    "start_time": "2022-05-11T04:34:38.818Z"
   },
   {
    "duration": 10,
    "start_time": "2022-05-11T04:34:39.004Z"
   },
   {
    "duration": 5,
    "start_time": "2022-05-11T04:34:39.193Z"
   },
   {
    "duration": 5,
    "start_time": "2022-05-11T04:34:39.394Z"
   },
   {
    "duration": 6,
    "start_time": "2022-05-11T04:34:39.809Z"
   },
   {
    "duration": 15,
    "start_time": "2022-05-11T04:34:41.297Z"
   },
   {
    "duration": 4,
    "start_time": "2022-05-11T04:34:41.667Z"
   },
   {
    "duration": 19,
    "start_time": "2022-05-11T04:34:42.505Z"
   },
   {
    "duration": 19,
    "start_time": "2022-05-11T04:34:42.682Z"
   },
   {
    "duration": 17,
    "start_time": "2022-05-11T04:34:42.897Z"
   },
   {
    "duration": 15,
    "start_time": "2022-05-11T04:34:43.010Z"
   },
   {
    "duration": 28,
    "start_time": "2022-05-11T04:34:43.722Z"
   },
   {
    "duration": 13,
    "start_time": "2022-05-11T04:34:44.042Z"
   },
   {
    "duration": 16,
    "start_time": "2022-05-11T04:34:44.258Z"
   },
   {
    "duration": 17,
    "start_time": "2022-05-11T04:34:44.482Z"
   },
   {
    "duration": 3,
    "start_time": "2022-05-11T04:34:44.729Z"
   },
   {
    "duration": 37,
    "start_time": "2022-05-11T04:34:44.954Z"
   },
   {
    "duration": 17,
    "start_time": "2022-05-11T04:34:45.482Z"
   },
   {
    "duration": 16,
    "start_time": "2022-05-11T04:34:50.177Z"
   },
   {
    "duration": 60,
    "start_time": "2022-05-11T04:34:58.067Z"
   },
   {
    "duration": 4,
    "start_time": "2022-05-11T04:35:07.386Z"
   },
   {
    "duration": 9,
    "start_time": "2022-05-11T04:35:24.418Z"
   },
   {
    "duration": 8,
    "start_time": "2022-05-11T04:35:32.281Z"
   },
   {
    "duration": 12,
    "start_time": "2022-05-11T04:35:53.034Z"
   },
   {
    "duration": 18,
    "start_time": "2022-05-11T04:36:30.922Z"
   },
   {
    "duration": 38,
    "start_time": "2022-05-11T04:46:00.394Z"
   },
   {
    "duration": 13,
    "start_time": "2022-05-11T04:46:40.707Z"
   },
   {
    "duration": 84,
    "start_time": "2022-05-11T04:46:57.643Z"
   },
   {
    "duration": 11,
    "start_time": "2022-05-11T04:47:02.090Z"
   },
   {
    "duration": 11,
    "start_time": "2022-05-11T04:47:10.746Z"
   },
   {
    "duration": 11,
    "start_time": "2022-05-11T04:47:17.178Z"
   },
   {
    "duration": 496,
    "start_time": "2022-05-11T11:42:12.322Z"
   },
   {
    "duration": 16,
    "start_time": "2022-05-11T11:42:12.987Z"
   },
   {
    "duration": 4,
    "start_time": "2022-05-11T11:42:13.871Z"
   },
   {
    "duration": 11,
    "start_time": "2022-05-11T11:42:16.006Z"
   },
   {
    "duration": 4,
    "start_time": "2022-05-11T11:42:16.409Z"
   },
   {
    "duration": 6,
    "start_time": "2022-05-11T11:42:16.850Z"
   },
   {
    "duration": 5,
    "start_time": "2022-05-11T11:42:17.256Z"
   },
   {
    "duration": 11,
    "start_time": "2022-05-11T11:42:18.021Z"
   },
   {
    "duration": 11,
    "start_time": "2022-05-11T11:42:18.689Z"
   },
   {
    "duration": 6,
    "start_time": "2022-05-11T11:42:19.317Z"
   },
   {
    "duration": 4,
    "start_time": "2022-05-11T11:42:20.401Z"
   },
   {
    "duration": 8,
    "start_time": "2022-05-11T11:42:20.899Z"
   },
   {
    "duration": 20,
    "start_time": "2022-05-11T11:42:21.944Z"
   },
   {
    "duration": 4,
    "start_time": "2022-05-11T11:42:22.574Z"
   },
   {
    "duration": 4,
    "start_time": "2022-05-11T11:42:24.276Z"
   },
   {
    "duration": 11,
    "start_time": "2022-05-11T11:42:24.789Z"
   },
   {
    "duration": 7,
    "start_time": "2022-05-11T11:42:25.663Z"
   },
   {
    "duration": 5,
    "start_time": "2022-05-11T11:42:26.374Z"
   },
   {
    "duration": 6,
    "start_time": "2022-05-11T11:42:26.834Z"
   },
   {
    "duration": 16,
    "start_time": "2022-05-11T11:42:28.664Z"
   },
   {
    "duration": 4,
    "start_time": "2022-05-11T11:42:29.631Z"
   },
   {
    "duration": 20,
    "start_time": "2022-05-11T11:42:30.855Z"
   },
   {
    "duration": 20,
    "start_time": "2022-05-11T11:42:31.161Z"
   },
   {
    "duration": 20,
    "start_time": "2022-05-11T11:42:31.441Z"
   },
   {
    "duration": 17,
    "start_time": "2022-05-11T11:42:31.729Z"
   },
   {
    "duration": 34,
    "start_time": "2022-05-11T11:42:32.318Z"
   },
   {
    "duration": 18,
    "start_time": "2022-05-11T11:42:32.910Z"
   },
   {
    "duration": 18,
    "start_time": "2022-05-11T11:42:33.346Z"
   },
   {
    "duration": 19,
    "start_time": "2022-05-11T11:42:33.811Z"
   },
   {
    "duration": 3,
    "start_time": "2022-05-11T11:42:34.189Z"
   },
   {
    "duration": 42,
    "start_time": "2022-05-11T11:42:35.091Z"
   },
   {
    "duration": 21,
    "start_time": "2022-05-11T11:42:35.383Z"
   },
   {
    "duration": 23,
    "start_time": "2022-05-11T11:42:38.633Z"
   },
   {
    "duration": 76,
    "start_time": "2022-05-11T11:42:41.610Z"
   },
   {
    "duration": 22,
    "start_time": "2022-05-11T11:43:19.790Z"
   },
   {
    "duration": 14,
    "start_time": "2022-05-11T11:43:33.655Z"
   },
   {
    "duration": 12,
    "start_time": "2022-05-11T11:47:23.885Z"
   },
   {
    "duration": 13,
    "start_time": "2022-05-11T11:47:25.285Z"
   },
   {
    "duration": 7,
    "start_time": "2022-05-11T11:47:49.960Z"
   },
   {
    "duration": 4,
    "start_time": "2022-05-11T11:47:57.902Z"
   },
   {
    "duration": 11,
    "start_time": "2022-05-11T11:49:34.316Z"
   },
   {
    "duration": 6,
    "start_time": "2022-05-11T11:49:45.089Z"
   },
   {
    "duration": 12,
    "start_time": "2022-05-11T11:49:48.560Z"
   },
   {
    "duration": 8,
    "start_time": "2022-05-11T11:50:06.647Z"
   },
   {
    "duration": 8,
    "start_time": "2022-05-11T11:50:12.126Z"
   },
   {
    "duration": 18,
    "start_time": "2022-05-11T11:53:48.569Z"
   },
   {
    "duration": 6,
    "start_time": "2022-05-11T11:53:52.182Z"
   },
   {
    "duration": 9,
    "start_time": "2022-05-11T11:53:57.140Z"
   },
   {
    "duration": 9,
    "start_time": "2022-05-11T11:54:19.471Z"
   },
   {
    "duration": 7,
    "start_time": "2022-05-11T11:54:53.577Z"
   },
   {
    "duration": 14,
    "start_time": "2022-05-11T11:55:17.224Z"
   },
   {
    "duration": 14,
    "start_time": "2022-05-11T11:55:30.505Z"
   },
   {
    "duration": 15,
    "start_time": "2022-05-11T11:55:45.865Z"
   },
   {
    "duration": 14,
    "start_time": "2022-05-11T11:55:55.916Z"
   },
   {
    "duration": 9,
    "start_time": "2022-05-11T11:56:11.021Z"
   },
   {
    "duration": 6,
    "start_time": "2022-05-11T11:56:15.126Z"
   },
   {
    "duration": 136,
    "start_time": "2022-05-11T11:58:53.488Z"
   },
   {
    "duration": 6,
    "start_time": "2022-05-11T11:59:23.201Z"
   },
   {
    "duration": 18,
    "start_time": "2022-05-11T11:59:37.219Z"
   },
   {
    "duration": 8,
    "start_time": "2022-05-11T12:00:13.172Z"
   },
   {
    "duration": 13,
    "start_time": "2022-05-11T12:00:50.724Z"
   },
   {
    "duration": 16,
    "start_time": "2022-05-11T12:01:03.213Z"
   },
   {
    "duration": 15,
    "start_time": "2022-05-11T12:01:17.846Z"
   },
   {
    "duration": 607,
    "start_time": "2022-05-11T12:01:32.710Z"
   },
   {
    "duration": 3,
    "start_time": "2022-05-11T12:01:51.125Z"
   },
   {
    "duration": 69,
    "start_time": "2022-05-11T12:01:56.727Z"
   },
   {
    "duration": 15,
    "start_time": "2022-05-11T12:01:56.798Z"
   },
   {
    "duration": 4,
    "start_time": "2022-05-11T12:02:01.801Z"
   },
   {
    "duration": 17,
    "start_time": "2022-05-11T12:02:04.658Z"
   },
   {
    "duration": 5,
    "start_time": "2022-05-11T12:02:05.494Z"
   },
   {
    "duration": 5,
    "start_time": "2022-05-11T12:02:06.175Z"
   },
   {
    "duration": 5,
    "start_time": "2022-05-11T12:02:06.629Z"
   },
   {
    "duration": 13,
    "start_time": "2022-05-11T12:02:06.837Z"
   },
   {
    "duration": 12,
    "start_time": "2022-05-11T12:02:07.026Z"
   },
   {
    "duration": 6,
    "start_time": "2022-05-11T12:02:07.182Z"
   },
   {
    "duration": 3,
    "start_time": "2022-05-11T12:02:07.488Z"
   },
   {
    "duration": 9,
    "start_time": "2022-05-11T12:02:07.634Z"
   },
   {
    "duration": 21,
    "start_time": "2022-05-11T12:02:07.789Z"
   },
   {
    "duration": 5,
    "start_time": "2022-05-11T12:02:07.909Z"
   },
   {
    "duration": 5,
    "start_time": "2022-05-11T12:02:08.120Z"
   },
   {
    "duration": 10,
    "start_time": "2022-05-11T12:02:08.262Z"
   },
   {
    "duration": 7,
    "start_time": "2022-05-11T12:02:08.412Z"
   },
   {
    "duration": 5,
    "start_time": "2022-05-11T12:02:08.587Z"
   },
   {
    "duration": 6,
    "start_time": "2022-05-11T12:02:08.751Z"
   },
   {
    "duration": 15,
    "start_time": "2022-05-11T12:02:09.447Z"
   },
   {
    "duration": 5,
    "start_time": "2022-05-11T12:02:09.606Z"
   },
   {
    "duration": 19,
    "start_time": "2022-05-11T12:02:10.337Z"
   },
   {
    "duration": 21,
    "start_time": "2022-05-11T12:02:10.566Z"
   },
   {
    "duration": 18,
    "start_time": "2022-05-11T12:02:10.774Z"
   },
   {
    "duration": 24,
    "start_time": "2022-05-11T12:02:10.956Z"
   },
   {
    "duration": 36,
    "start_time": "2022-05-11T12:02:11.129Z"
   },
   {
    "duration": 16,
    "start_time": "2022-05-11T12:02:11.327Z"
   },
   {
    "duration": 17,
    "start_time": "2022-05-11T12:02:11.742Z"
   },
   {
    "duration": 19,
    "start_time": "2022-05-11T12:02:11.924Z"
   },
   {
    "duration": 3,
    "start_time": "2022-05-11T12:02:12.136Z"
   },
   {
    "duration": 41,
    "start_time": "2022-05-11T12:02:12.376Z"
   },
   {
    "duration": 20,
    "start_time": "2022-05-11T12:02:12.873Z"
   },
   {
    "duration": 19,
    "start_time": "2022-05-11T12:02:14.162Z"
   },
   {
    "duration": 24,
    "start_time": "2022-05-11T12:02:15.338Z"
   },
   {
    "duration": 5,
    "start_time": "2022-05-11T12:02:16.335Z"
   },
   {
    "duration": 68,
    "start_time": "2022-05-11T12:02:17.374Z"
   },
   {
    "duration": 8,
    "start_time": "2022-05-11T12:02:18.741Z"
   },
   {
    "duration": 10,
    "start_time": "2022-05-11T12:02:20.249Z"
   },
   {
    "duration": 8,
    "start_time": "2022-05-11T12:02:20.716Z"
   },
   {
    "duration": 7,
    "start_time": "2022-05-11T12:02:21.254Z"
   },
   {
    "duration": 7,
    "start_time": "2022-05-11T12:02:21.610Z"
   },
   {
    "duration": 5,
    "start_time": "2022-05-11T12:02:22.014Z"
   },
   {
    "duration": 5,
    "start_time": "2022-05-11T12:02:22.375Z"
   },
   {
    "duration": 7,
    "start_time": "2022-05-11T12:02:23.104Z"
   },
   {
    "duration": 3,
    "start_time": "2022-05-11T12:02:57.488Z"
   },
   {
    "duration": 3,
    "start_time": "2022-05-11T12:02:58.166Z"
   },
   {
    "duration": 12,
    "start_time": "2022-05-11T12:02:58.637Z"
   },
   {
    "duration": 21,
    "start_time": "2022-05-11T12:03:10.468Z"
   },
   {
    "duration": 215,
    "start_time": "2022-05-11T12:03:10.628Z"
   },
   {
    "duration": 7,
    "start_time": "2022-05-11T12:03:10.845Z"
   },
   {
    "duration": 6,
    "start_time": "2022-05-11T12:03:10.997Z"
   },
   {
    "duration": 1001,
    "start_time": "2022-05-11T12:03:13.852Z"
   },
   {
    "duration": 325420,
    "start_time": "2022-05-11T12:03:14.856Z"
   },
   {
    "duration": 58,
    "start_time": "2022-05-11T12:17:31.121Z"
   },
   {
    "duration": 3,
    "start_time": "2022-05-11T12:22:39.494Z"
   },
   {
    "duration": 0,
    "start_time": "2022-05-11T12:27:16.594Z"
   },
   {
    "duration": 0,
    "start_time": "2022-05-11T12:27:16.595Z"
   },
   {
    "duration": 0,
    "start_time": "2022-05-11T12:27:16.599Z"
   },
   {
    "duration": 8,
    "start_time": "2022-05-11T12:27:17.577Z"
   },
   {
    "duration": 2052,
    "start_time": "2022-05-11T12:27:20.534Z"
   },
   {
    "duration": 1745,
    "start_time": "2022-05-11T12:27:23.167Z"
   },
   {
    "duration": 184,
    "start_time": "2022-05-11T12:27:36.395Z"
   },
   {
    "duration": 491,
    "start_time": "2022-05-11T12:30:20.580Z"
   },
   {
    "duration": 17,
    "start_time": "2022-05-11T12:30:24.922Z"
   },
   {
    "duration": 3,
    "start_time": "2022-05-11T12:30:27.137Z"
   },
   {
    "duration": 12,
    "start_time": "2022-05-11T12:30:30.009Z"
   },
   {
    "duration": 4,
    "start_time": "2022-05-11T12:30:32.461Z"
   },
   {
    "duration": 7,
    "start_time": "2022-05-11T12:30:34.626Z"
   },
   {
    "duration": 5,
    "start_time": "2022-05-11T12:30:36.249Z"
   },
   {
    "duration": 9,
    "start_time": "2022-05-11T12:30:36.978Z"
   },
   {
    "duration": 10,
    "start_time": "2022-05-11T12:30:39.447Z"
   },
   {
    "duration": 6,
    "start_time": "2022-05-11T12:30:40.305Z"
   },
   {
    "duration": 4,
    "start_time": "2022-05-11T12:30:42.974Z"
   },
   {
    "duration": 8,
    "start_time": "2022-05-11T12:30:43.482Z"
   },
   {
    "duration": 30,
    "start_time": "2022-05-11T12:30:43.898Z"
   },
   {
    "duration": 5,
    "start_time": "2022-05-11T12:30:47.116Z"
   },
   {
    "duration": 5,
    "start_time": "2022-05-11T12:30:48.980Z"
   },
   {
    "duration": 12,
    "start_time": "2022-05-11T12:30:50.523Z"
   },
   {
    "duration": 6,
    "start_time": "2022-05-11T12:30:51.323Z"
   },
   {
    "duration": 4,
    "start_time": "2022-05-11T12:30:53.154Z"
   },
   {
    "duration": 6,
    "start_time": "2022-05-11T12:30:53.602Z"
   },
   {
    "duration": 14,
    "start_time": "2022-05-11T12:30:57.095Z"
   },
   {
    "duration": 4,
    "start_time": "2022-05-11T12:30:57.645Z"
   },
   {
    "duration": 20,
    "start_time": "2022-05-11T12:31:00.187Z"
   },
   {
    "duration": 21,
    "start_time": "2022-05-11T12:31:00.795Z"
   },
   {
    "duration": 18,
    "start_time": "2022-05-11T12:31:01.244Z"
   },
   {
    "duration": 17,
    "start_time": "2022-05-11T12:31:01.687Z"
   },
   {
    "duration": 30,
    "start_time": "2022-05-11T12:31:04.200Z"
   },
   {
    "duration": 14,
    "start_time": "2022-05-11T12:31:04.378Z"
   },
   {
    "duration": 16,
    "start_time": "2022-05-11T12:31:04.908Z"
   },
   {
    "duration": 19,
    "start_time": "2022-05-11T12:31:07.155Z"
   },
   {
    "duration": 3,
    "start_time": "2022-05-11T12:31:07.336Z"
   },
   {
    "duration": 45,
    "start_time": "2022-05-11T12:31:08.215Z"
   },
   {
    "duration": 19,
    "start_time": "2022-05-11T12:31:09.701Z"
   },
   {
    "duration": 15,
    "start_time": "2022-05-11T12:31:12.562Z"
   },
   {
    "duration": 20,
    "start_time": "2022-05-11T12:31:13.484Z"
   },
   {
    "duration": 4,
    "start_time": "2022-05-11T12:31:14.170Z"
   },
   {
    "duration": 63,
    "start_time": "2022-05-11T12:31:14.479Z"
   },
   {
    "duration": 12,
    "start_time": "2022-05-11T12:31:14.742Z"
   },
   {
    "duration": 9,
    "start_time": "2022-05-11T12:31:15.428Z"
   },
   {
    "duration": 7,
    "start_time": "2022-05-11T12:31:16.276Z"
   },
   {
    "duration": 8,
    "start_time": "2022-05-11T12:31:17.264Z"
   },
   {
    "duration": 6,
    "start_time": "2022-05-11T12:31:18.225Z"
   },
   {
    "duration": 5,
    "start_time": "2022-05-11T12:31:19.072Z"
   },
   {
    "duration": 6,
    "start_time": "2022-05-11T12:31:19.497Z"
   },
   {
    "duration": 14,
    "start_time": "2022-05-11T12:31:19.991Z"
   },
   {
    "duration": 4,
    "start_time": "2022-05-11T12:31:23.266Z"
   },
   {
    "duration": 3,
    "start_time": "2022-05-11T12:31:23.526Z"
   },
   {
    "duration": 10,
    "start_time": "2022-05-11T12:31:24.202Z"
   },
   {
    "duration": 18,
    "start_time": "2022-05-11T12:31:29.060Z"
   },
   {
    "duration": 253,
    "start_time": "2022-05-11T12:31:30.122Z"
   },
   {
    "duration": 7,
    "start_time": "2022-05-11T12:31:30.673Z"
   },
   {
    "duration": 5,
    "start_time": "2022-05-11T12:31:30.912Z"
   },
   {
    "duration": 8,
    "start_time": "2022-05-11T12:31:34.549Z"
   },
   {
    "duration": 271471,
    "start_time": "2022-05-11T12:31:34.993Z"
   },
   {
    "duration": 278458,
    "start_time": "2022-05-11T12:52:22.842Z"
   },
   {
    "duration": 100,
    "start_time": "2022-05-11T12:57:01.302Z"
   },
   {
    "duration": 0,
    "start_time": "2022-05-11T12:57:01.406Z"
   },
   {
    "duration": 9,
    "start_time": "2022-05-11T12:57:37.904Z"
   },
   {
    "duration": 14,
    "start_time": "2022-05-11T12:57:58.829Z"
   },
   {
    "duration": 13,
    "start_time": "2022-05-11T12:58:11.610Z"
   },
   {
    "duration": 17,
    "start_time": "2022-05-11T12:58:21.224Z"
   },
   {
    "duration": 8,
    "start_time": "2022-05-11T12:58:39.313Z"
   },
   {
    "duration": 12,
    "start_time": "2022-05-11T12:59:06.239Z"
   },
   {
    "duration": 469,
    "start_time": "2022-05-12T04:25:06.978Z"
   },
   {
    "duration": 14,
    "start_time": "2022-05-12T04:25:07.493Z"
   },
   {
    "duration": 3,
    "start_time": "2022-05-12T04:25:08.031Z"
   },
   {
    "duration": 9,
    "start_time": "2022-05-12T04:25:09.656Z"
   },
   {
    "duration": 5,
    "start_time": "2022-05-12T04:25:10.351Z"
   },
   {
    "duration": 6,
    "start_time": "2022-05-12T04:25:10.648Z"
   },
   {
    "duration": 6,
    "start_time": "2022-05-12T04:25:52.864Z"
   },
   {
    "duration": 20,
    "start_time": "2022-05-12T04:25:55.824Z"
   },
   {
    "duration": 5,
    "start_time": "2022-05-12T04:26:03.119Z"
   },
   {
    "duration": 10,
    "start_time": "2022-05-12T04:26:03.351Z"
   },
   {
    "duration": 5,
    "start_time": "2022-05-12T04:26:03.511Z"
   },
   {
    "duration": 4,
    "start_time": "2022-05-12T04:26:04.759Z"
   },
   {
    "duration": 4,
    "start_time": "2022-05-12T04:26:06.471Z"
   },
   {
    "duration": 19,
    "start_time": "2022-05-12T04:26:09.544Z"
   },
   {
    "duration": 20,
    "start_time": "2022-05-12T04:26:16.144Z"
   },
   {
    "duration": 656,
    "start_time": "2022-05-12T09:55:26.372Z"
   },
   {
    "duration": 17,
    "start_time": "2022-05-12T09:55:28.395Z"
   },
   {
    "duration": 4,
    "start_time": "2022-05-12T09:55:29.227Z"
   },
   {
    "duration": 21,
    "start_time": "2022-05-12T09:55:32.519Z"
   },
   {
    "duration": 5,
    "start_time": "2022-05-12T09:55:33.472Z"
   },
   {
    "duration": 6,
    "start_time": "2022-05-12T09:55:36.096Z"
   },
   {
    "duration": 11,
    "start_time": "2022-05-12T09:55:37.099Z"
   },
   {
    "duration": 5,
    "start_time": "2022-05-12T09:55:38.678Z"
   },
   {
    "duration": 16,
    "start_time": "2022-05-12T09:55:39.653Z"
   },
   {
    "duration": 6,
    "start_time": "2022-05-12T09:55:44.495Z"
   },
   {
    "duration": 5,
    "start_time": "2022-05-12T09:55:47.678Z"
   },
   {
    "duration": 9,
    "start_time": "2022-05-12T09:55:49.228Z"
   },
   {
    "duration": 22,
    "start_time": "2022-05-12T09:55:51.777Z"
   },
   {
    "duration": 4,
    "start_time": "2022-05-12T09:55:53.402Z"
   },
   {
    "duration": 164,
    "start_time": "2022-05-12T09:55:57.617Z"
   },
   {
    "duration": 88,
    "start_time": "2022-05-12T10:08:39.716Z"
   },
   {
    "duration": 11,
    "start_time": "2022-05-12T10:15:13.104Z"
   },
   {
    "duration": 9,
    "start_time": "2022-05-12T10:15:24.496Z"
   },
   {
    "duration": 10,
    "start_time": "2022-05-12T10:15:32.827Z"
   },
   {
    "duration": 20,
    "start_time": "2022-05-12T10:20:51.447Z"
   },
   {
    "duration": 5,
    "start_time": "2022-05-12T10:22:21.204Z"
   },
   {
    "duration": 7,
    "start_time": "2022-05-12T10:22:22.863Z"
   },
   {
    "duration": 20,
    "start_time": "2022-05-12T10:22:24.709Z"
   },
   {
    "duration": 4,
    "start_time": "2022-05-12T10:22:24.864Z"
   },
   {
    "duration": 18,
    "start_time": "2022-05-12T10:22:25.754Z"
   },
   {
    "duration": 29,
    "start_time": "2022-05-12T10:22:25.930Z"
   },
   {
    "duration": 17,
    "start_time": "2022-05-12T10:22:26.234Z"
   },
   {
    "duration": 63,
    "start_time": "2022-05-12T10:22:26.398Z"
   },
   {
    "duration": 31,
    "start_time": "2022-05-12T10:22:26.583Z"
   },
   {
    "duration": 13,
    "start_time": "2022-05-12T10:22:26.738Z"
   },
   {
    "duration": 18,
    "start_time": "2022-05-12T10:22:26.928Z"
   },
   {
    "duration": 17,
    "start_time": "2022-05-12T10:22:27.108Z"
   },
   {
    "duration": 3,
    "start_time": "2022-05-12T10:22:27.299Z"
   },
   {
    "duration": 43,
    "start_time": "2022-05-12T10:22:27.485Z"
   },
   {
    "duration": 15,
    "start_time": "2022-05-12T10:22:27.702Z"
   },
   {
    "duration": 15,
    "start_time": "2022-05-12T10:22:29.044Z"
   },
   {
    "duration": 22,
    "start_time": "2022-05-12T10:22:30.909Z"
   },
   {
    "duration": 6,
    "start_time": "2022-05-12T10:22:32.834Z"
   },
   {
    "duration": 9,
    "start_time": "2022-05-12T10:22:33.518Z"
   },
   {
    "duration": 9,
    "start_time": "2022-05-12T10:22:34.442Z"
   },
   {
    "duration": 10,
    "start_time": "2022-05-12T10:22:35.315Z"
   },
   {
    "duration": 12,
    "start_time": "2022-05-12T10:22:36.427Z"
   },
   {
    "duration": 16,
    "start_time": "2022-05-12T10:22:53.320Z"
   },
   {
    "duration": 5,
    "start_time": "2022-05-12T10:22:54.958Z"
   },
   {
    "duration": 6,
    "start_time": "2022-05-12T10:22:57.911Z"
   },
   {
    "duration": 6,
    "start_time": "2022-05-12T10:22:58.400Z"
   },
   {
    "duration": 4,
    "start_time": "2022-05-12T10:22:58.787Z"
   },
   {
    "duration": 8,
    "start_time": "2022-05-12T10:22:59.025Z"
   },
   {
    "duration": 4,
    "start_time": "2022-05-12T10:23:02.658Z"
   },
   {
    "duration": 7,
    "start_time": "2022-05-12T10:23:03.523Z"
   },
   {
    "duration": 13,
    "start_time": "2022-05-12T10:23:04.147Z"
   },
   {
    "duration": 18,
    "start_time": "2022-05-12T10:23:10.599Z"
   },
   {
    "duration": 231,
    "start_time": "2022-05-12T10:23:10.770Z"
   },
   {
    "duration": 7,
    "start_time": "2022-05-12T10:23:11.213Z"
   },
   {
    "duration": 6,
    "start_time": "2022-05-12T10:23:11.515Z"
   },
   {
    "duration": 530,
    "start_time": "2022-05-12T10:23:12.037Z"
   },
   {
    "duration": 12,
    "start_time": "2022-05-12T10:23:13.716Z"
   },
   {
    "duration": 6,
    "start_time": "2022-05-12T10:23:13.952Z"
   },
   {
    "duration": 1120,
    "start_time": "2022-05-12T10:28:11.969Z"
   },
   {
    "duration": 18,
    "start_time": "2022-05-12T10:28:13.091Z"
   },
   {
    "duration": 10,
    "start_time": "2022-05-12T10:28:13.111Z"
   },
   {
    "duration": 50,
    "start_time": "2022-05-12T10:28:13.122Z"
   },
   {
    "duration": 15,
    "start_time": "2022-05-12T10:28:13.174Z"
   },
   {
    "duration": 7,
    "start_time": "2022-05-12T10:28:13.271Z"
   },
   {
    "duration": 13,
    "start_time": "2022-05-12T10:28:13.407Z"
   },
   {
    "duration": 6,
    "start_time": "2022-05-12T10:28:13.571Z"
   },
   {
    "duration": 12,
    "start_time": "2022-05-12T10:28:13.795Z"
   },
   {
    "duration": 8,
    "start_time": "2022-05-12T10:28:14.043Z"
   },
   {
    "duration": 5,
    "start_time": "2022-05-12T10:28:14.451Z"
   },
   {
    "duration": 10,
    "start_time": "2022-05-12T10:28:14.749Z"
   },
   {
    "duration": 30,
    "start_time": "2022-05-12T10:28:14.929Z"
   },
   {
    "duration": 19,
    "start_time": "2022-05-12T10:28:15.128Z"
   },
   {
    "duration": 5,
    "start_time": "2022-05-12T10:28:15.299Z"
   },
   {
    "duration": 13,
    "start_time": "2022-05-12T10:28:15.486Z"
   },
   {
    "duration": 7,
    "start_time": "2022-05-12T10:28:15.708Z"
   },
   {
    "duration": 9,
    "start_time": "2022-05-12T10:28:15.954Z"
   },
   {
    "duration": 10,
    "start_time": "2022-05-12T10:28:16.224Z"
   },
   {
    "duration": 20,
    "start_time": "2022-05-12T10:28:17.347Z"
   },
   {
    "duration": 4,
    "start_time": "2022-05-12T10:28:17.560Z"
   },
   {
    "duration": 20,
    "start_time": "2022-05-12T10:28:18.561Z"
   },
   {
    "duration": 25,
    "start_time": "2022-05-12T10:28:18.802Z"
   },
   {
    "duration": 21,
    "start_time": "2022-05-12T10:28:19.040Z"
   },
   {
    "duration": 18,
    "start_time": "2022-05-12T10:28:19.289Z"
   },
   {
    "duration": 48,
    "start_time": "2022-05-12T10:28:19.519Z"
   },
   {
    "duration": 20,
    "start_time": "2022-05-12T10:28:19.801Z"
   },
   {
    "duration": 17,
    "start_time": "2022-05-12T10:28:20.179Z"
   },
   {
    "duration": 28,
    "start_time": "2022-05-12T10:28:20.526Z"
   },
   {
    "duration": 3,
    "start_time": "2022-05-12T10:28:20.867Z"
   },
   {
    "duration": 53,
    "start_time": "2022-05-12T10:28:21.319Z"
   },
   {
    "duration": 23,
    "start_time": "2022-05-12T10:28:21.735Z"
   },
   {
    "duration": 16,
    "start_time": "2022-05-12T10:28:23.067Z"
   },
   {
    "duration": 43,
    "start_time": "2022-05-12T10:28:23.536Z"
   },
   {
    "duration": 5,
    "start_time": "2022-05-12T10:28:24.103Z"
   },
   {
    "duration": 72,
    "start_time": "2022-05-12T10:28:25.974Z"
   },
   {
    "duration": 9,
    "start_time": "2022-05-12T10:28:27.911Z"
   },
   {
    "duration": 13,
    "start_time": "2022-05-12T10:28:28.572Z"
   },
   {
    "duration": 5,
    "start_time": "2022-05-12T10:28:29.559Z"
   },
   {
    "duration": 12,
    "start_time": "2022-05-12T10:28:29.987Z"
   },
   {
    "duration": 9,
    "start_time": "2022-05-12T10:28:30.488Z"
   },
   {
    "duration": 7,
    "start_time": "2022-05-12T10:28:30.902Z"
   },
   {
    "duration": 6,
    "start_time": "2022-05-12T10:28:31.499Z"
   },
   {
    "duration": 9,
    "start_time": "2022-05-12T10:28:31.708Z"
   },
   {
    "duration": 3,
    "start_time": "2022-05-12T10:28:32.757Z"
   },
   {
    "duration": 4,
    "start_time": "2022-05-12T10:28:33.077Z"
   },
   {
    "duration": 12,
    "start_time": "2022-05-12T10:28:33.282Z"
   },
   {
    "duration": 8,
    "start_time": "2022-05-12T10:28:34.249Z"
   },
   {
    "duration": 8,
    "start_time": "2022-05-12T10:30:25.488Z"
   },
   {
    "duration": 7,
    "start_time": "2022-05-12T10:30:25.978Z"
   },
   {
    "duration": 13,
    "start_time": "2022-05-12T10:30:26.477Z"
   },
   {
    "duration": 5,
    "start_time": "2022-05-12T10:30:27.190Z"
   },
   {
    "duration": 12,
    "start_time": "2022-05-12T10:34:09.655Z"
   },
   {
    "duration": 5,
    "start_time": "2022-05-12T10:34:10.384Z"
   },
   {
    "duration": 12,
    "start_time": "2022-05-12T10:34:17.714Z"
   },
   {
    "duration": 5,
    "start_time": "2022-05-12T10:34:43.090Z"
   },
   {
    "duration": 12,
    "start_time": "2022-05-12T10:34:43.280Z"
   },
   {
    "duration": 4725,
    "start_time": "2022-05-12T10:34:43.447Z"
   },
   {
    "duration": 0,
    "start_time": "2022-05-12T10:34:48.174Z"
   },
   {
    "duration": 0,
    "start_time": "2022-05-12T10:34:48.176Z"
   },
   {
    "duration": 0,
    "start_time": "2022-05-12T10:34:48.177Z"
   },
   {
    "duration": 0,
    "start_time": "2022-05-12T10:34:48.179Z"
   },
   {
    "duration": 0,
    "start_time": "2022-05-12T10:34:48.180Z"
   },
   {
    "duration": 0,
    "start_time": "2022-05-12T10:34:48.181Z"
   },
   {
    "duration": 8,
    "start_time": "2022-05-12T10:34:48.505Z"
   },
   {
    "duration": 26,
    "start_time": "2022-05-12T10:34:51.580Z"
   },
   {
    "duration": 363,
    "start_time": "2022-05-12T10:34:52.264Z"
   },
   {
    "duration": 14,
    "start_time": "2022-05-12T10:34:52.711Z"
   },
   {
    "duration": 7,
    "start_time": "2022-05-12T10:34:53.652Z"
   },
   {
    "duration": 4879,
    "start_time": "2022-05-12T10:36:01.012Z"
   },
   {
    "duration": 0,
    "start_time": "2022-05-12T10:36:05.893Z"
   },
   {
    "duration": 0,
    "start_time": "2022-05-12T10:36:05.894Z"
   },
   {
    "duration": 11,
    "start_time": "2022-05-12T10:36:21.755Z"
   },
   {
    "duration": 5,
    "start_time": "2022-05-12T10:36:22.612Z"
   },
   {
    "duration": 14,
    "start_time": "2022-05-12T10:36:26.842Z"
   },
   {
    "duration": 29,
    "start_time": "2022-05-12T10:40:07.111Z"
   },
   {
    "duration": 12,
    "start_time": "2022-05-12T10:41:29.563Z"
   },
   {
    "duration": 7,
    "start_time": "2022-05-12T10:41:30.422Z"
   },
   {
    "duration": 8,
    "start_time": "2022-05-12T10:41:31.781Z"
   },
   {
    "duration": 29,
    "start_time": "2022-05-12T11:26:25.330Z"
   },
   {
    "duration": 8,
    "start_time": "2022-05-12T11:29:14.112Z"
   },
   {
    "duration": 8,
    "start_time": "2022-05-12T11:29:48.944Z"
   },
   {
    "duration": 7,
    "start_time": "2022-05-12T11:30:47.274Z"
   },
   {
    "duration": 6,
    "start_time": "2022-05-12T11:31:17.520Z"
   },
   {
    "duration": 7,
    "start_time": "2022-05-12T11:31:52.422Z"
   },
   {
    "duration": 309,
    "start_time": "2022-05-12T11:34:19.673Z"
   },
   {
    "duration": 11,
    "start_time": "2022-05-12T11:34:24.695Z"
   },
   {
    "duration": 14,
    "start_time": "2022-05-12T11:37:36.603Z"
   },
   {
    "duration": 10,
    "start_time": "2022-05-12T11:39:08.477Z"
   },
   {
    "duration": 6,
    "start_time": "2022-05-12T11:39:33.454Z"
   },
   {
    "duration": 21,
    "start_time": "2022-05-12T12:25:03.942Z"
   },
   {
    "duration": 12,
    "start_time": "2022-05-12T12:26:24.680Z"
   },
   {
    "duration": 9,
    "start_time": "2022-05-12T12:26:35.670Z"
   },
   {
    "duration": 27,
    "start_time": "2022-05-12T12:26:53.075Z"
   },
   {
    "duration": 19,
    "start_time": "2022-05-12T12:53:17.156Z"
   },
   {
    "duration": 9,
    "start_time": "2022-05-12T13:44:09.862Z"
   },
   {
    "duration": 8,
    "start_time": "2022-05-12T13:45:40.949Z"
   },
   {
    "duration": 15,
    "start_time": "2022-05-12T13:45:46.480Z"
   },
   {
    "duration": 890,
    "start_time": "2022-05-12T16:59:26.142Z"
   },
   {
    "duration": 34,
    "start_time": "2022-05-12T16:59:27.035Z"
   },
   {
    "duration": 6,
    "start_time": "2022-05-12T16:59:27.073Z"
   },
   {
    "duration": 18,
    "start_time": "2022-05-12T16:59:27.124Z"
   },
   {
    "duration": 5,
    "start_time": "2022-05-12T16:59:27.271Z"
   },
   {
    "duration": 9,
    "start_time": "2022-05-12T16:59:27.447Z"
   },
   {
    "duration": 17,
    "start_time": "2022-05-12T16:59:27.623Z"
   },
   {
    "duration": 6,
    "start_time": "2022-05-12T16:59:27.782Z"
   },
   {
    "duration": 13,
    "start_time": "2022-05-12T16:59:27.951Z"
   },
   {
    "duration": 9,
    "start_time": "2022-05-12T16:59:28.118Z"
   },
   {
    "duration": 4,
    "start_time": "2022-05-12T16:59:28.464Z"
   },
   {
    "duration": 11,
    "start_time": "2022-05-12T16:59:28.647Z"
   },
   {
    "duration": 34,
    "start_time": "2022-05-12T16:59:28.823Z"
   },
   {
    "duration": 6,
    "start_time": "2022-05-12T16:59:29.007Z"
   },
   {
    "duration": 6,
    "start_time": "2022-05-12T16:59:29.183Z"
   },
   {
    "duration": 16,
    "start_time": "2022-05-12T16:59:29.374Z"
   },
   {
    "duration": 8,
    "start_time": "2022-05-12T16:59:29.575Z"
   },
   {
    "duration": 6,
    "start_time": "2022-05-12T16:59:29.766Z"
   },
   {
    "duration": 8,
    "start_time": "2022-05-12T16:59:29.968Z"
   },
   {
    "duration": 22,
    "start_time": "2022-05-12T16:59:30.758Z"
   },
   {
    "duration": 6,
    "start_time": "2022-05-12T16:59:30.966Z"
   },
   {
    "duration": 36,
    "start_time": "2022-05-12T16:59:31.710Z"
   },
   {
    "duration": 39,
    "start_time": "2022-05-12T16:59:31.904Z"
   },
   {
    "duration": 26,
    "start_time": "2022-05-12T16:59:32.095Z"
   },
   {
    "duration": 20,
    "start_time": "2022-05-12T16:59:32.304Z"
   },
   {
    "duration": 49,
    "start_time": "2022-05-12T16:59:32.508Z"
   },
   {
    "duration": 20,
    "start_time": "2022-05-12T16:59:32.711Z"
   },
   {
    "duration": 21,
    "start_time": "2022-05-12T16:59:32.943Z"
   },
   {
    "duration": 23,
    "start_time": "2022-05-12T16:59:33.158Z"
   },
   {
    "duration": 5,
    "start_time": "2022-05-12T16:59:33.358Z"
   },
   {
    "duration": 60,
    "start_time": "2022-05-12T16:59:33.559Z"
   },
   {
    "duration": 33,
    "start_time": "2022-05-12T16:59:33.766Z"
   },
   {
    "duration": 19,
    "start_time": "2022-05-12T16:59:34.399Z"
   },
   {
    "duration": 12,
    "start_time": "2022-05-12T16:59:34.599Z"
   },
   {
    "duration": 7,
    "start_time": "2022-05-12T16:59:34.807Z"
   },
   {
    "duration": 114,
    "start_time": "2022-05-12T16:59:35.040Z"
   },
   {
    "duration": 11,
    "start_time": "2022-05-12T16:59:35.279Z"
   },
   {
    "duration": 12,
    "start_time": "2022-05-12T16:59:35.499Z"
   },
   {
    "duration": 7,
    "start_time": "2022-05-12T16:59:35.738Z"
   },
   {
    "duration": 16,
    "start_time": "2022-05-12T16:59:36.311Z"
   },
   {
    "duration": 7,
    "start_time": "2022-05-12T16:59:36.498Z"
   },
   {
    "duration": 9,
    "start_time": "2022-05-12T16:59:37.144Z"
   },
   {
    "duration": 14,
    "start_time": "2022-05-12T16:59:37.344Z"
   },
   {
    "duration": 5,
    "start_time": "2022-05-12T16:59:38.935Z"
   },
   {
    "duration": 6,
    "start_time": "2022-05-12T16:59:39.434Z"
   },
   {
    "duration": 15,
    "start_time": "2022-05-12T16:59:40.040Z"
   },
   {
    "duration": 10,
    "start_time": "2022-05-12T16:59:40.863Z"
   },
   {
    "duration": 25,
    "start_time": "2022-05-12T16:59:45.590Z"
   },
   {
    "duration": 375,
    "start_time": "2022-05-12T16:59:45.790Z"
   },
   {
    "duration": 8,
    "start_time": "2022-05-12T16:59:46.168Z"
   },
   {
    "duration": 8,
    "start_time": "2022-05-12T16:59:46.205Z"
   },
   {
    "duration": 20,
    "start_time": "2022-05-12T16:59:47.103Z"
   },
   {
    "duration": 11,
    "start_time": "2022-05-12T16:59:47.502Z"
   },
   {
    "duration": 10,
    "start_time": "2022-05-12T17:00:06.574Z"
   },
   {
    "duration": 148,
    "start_time": "2022-05-12T17:00:23.821Z"
   },
   {
    "duration": 129,
    "start_time": "2022-05-12T17:00:30.406Z"
   },
   {
    "duration": 10,
    "start_time": "2022-05-12T17:00:38.845Z"
   },
   {
    "duration": 5,
    "start_time": "2022-05-12T17:00:52.374Z"
   },
   {
    "duration": 6,
    "start_time": "2022-05-12T17:00:55.982Z"
   },
   {
    "duration": 44,
    "start_time": "2022-05-13T04:55:48.538Z"
   },
   {
    "duration": 496,
    "start_time": "2022-05-13T04:55:54.365Z"
   },
   {
    "duration": 14,
    "start_time": "2022-05-13T04:55:54.862Z"
   },
   {
    "duration": 2,
    "start_time": "2022-05-13T04:55:54.878Z"
   },
   {
    "duration": 9,
    "start_time": "2022-05-13T04:55:55.297Z"
   },
   {
    "duration": 5,
    "start_time": "2022-05-13T04:55:55.324Z"
   },
   {
    "duration": 5,
    "start_time": "2022-05-13T04:55:55.361Z"
   },
   {
    "duration": 9,
    "start_time": "2022-05-13T04:55:55.406Z"
   },
   {
    "duration": 4,
    "start_time": "2022-05-13T04:55:55.433Z"
   },
   {
    "duration": 10,
    "start_time": "2022-05-13T04:55:55.465Z"
   },
   {
    "duration": 5,
    "start_time": "2022-05-13T04:55:55.494Z"
   },
   {
    "duration": 4,
    "start_time": "2022-05-13T04:55:55.557Z"
   },
   {
    "duration": 6,
    "start_time": "2022-05-13T04:55:55.591Z"
   },
   {
    "duration": 18,
    "start_time": "2022-05-13T04:55:55.634Z"
   },
   {
    "duration": 4,
    "start_time": "2022-05-13T04:55:55.662Z"
   },
   {
    "duration": 4,
    "start_time": "2022-05-13T04:55:55.710Z"
   },
   {
    "duration": 10,
    "start_time": "2022-05-13T04:55:55.743Z"
   },
   {
    "duration": 5,
    "start_time": "2022-05-13T04:55:55.765Z"
   },
   {
    "duration": 5,
    "start_time": "2022-05-13T04:55:55.794Z"
   },
   {
    "duration": 5,
    "start_time": "2022-05-13T04:55:55.819Z"
   },
   {
    "duration": 15,
    "start_time": "2022-05-13T04:55:55.957Z"
   },
   {
    "duration": 4,
    "start_time": "2022-05-13T04:55:55.987Z"
   },
   {
    "duration": 17,
    "start_time": "2022-05-13T04:55:56.099Z"
   },
   {
    "duration": 19,
    "start_time": "2022-05-13T04:55:56.129Z"
   },
   {
    "duration": 16,
    "start_time": "2022-05-13T04:55:56.162Z"
   },
   {
    "duration": 14,
    "start_time": "2022-05-13T04:55:56.192Z"
   },
   {
    "duration": 26,
    "start_time": "2022-05-13T04:55:56.228Z"
   },
   {
    "duration": 11,
    "start_time": "2022-05-13T04:55:56.261Z"
   },
   {
    "duration": 14,
    "start_time": "2022-05-13T04:55:56.287Z"
   },
   {
    "duration": 16,
    "start_time": "2022-05-13T04:55:56.317Z"
   },
   {
    "duration": 3,
    "start_time": "2022-05-13T04:55:56.346Z"
   },
   {
    "duration": 36,
    "start_time": "2022-05-13T04:55:56.392Z"
   },
   {
    "duration": 16,
    "start_time": "2022-05-13T04:55:56.430Z"
   },
   {
    "duration": 13,
    "start_time": "2022-05-13T04:55:56.516Z"
   },
   {
    "duration": 9,
    "start_time": "2022-05-13T04:55:56.549Z"
   },
   {
    "duration": 4,
    "start_time": "2022-05-13T04:55:56.580Z"
   },
   {
    "duration": 38,
    "start_time": "2022-05-13T04:55:56.613Z"
   },
   {
    "duration": 7,
    "start_time": "2022-05-13T04:55:56.658Z"
   },
   {
    "duration": 8,
    "start_time": "2022-05-13T04:55:56.692Z"
   },
   {
    "duration": 4,
    "start_time": "2022-05-13T04:55:56.720Z"
   },
   {
    "duration": 7,
    "start_time": "2022-05-13T04:55:56.754Z"
   },
   {
    "duration": 4,
    "start_time": "2022-05-13T04:55:56.785Z"
   },
   {
    "duration": 6,
    "start_time": "2022-05-13T04:55:56.817Z"
   },
   {
    "duration": 6,
    "start_time": "2022-05-13T04:55:56.852Z"
   },
   {
    "duration": 3,
    "start_time": "2022-05-13T04:55:56.954Z"
   },
   {
    "duration": 3,
    "start_time": "2022-05-13T04:55:56.989Z"
   },
   {
    "duration": 10,
    "start_time": "2022-05-13T04:55:57.016Z"
   },
   {
    "duration": 7,
    "start_time": "2022-05-13T04:55:57.044Z"
   },
   {
    "duration": 17,
    "start_time": "2022-05-13T04:55:57.152Z"
   },
   {
    "duration": 192,
    "start_time": "2022-05-13T04:55:57.184Z"
   },
   {
    "duration": 6,
    "start_time": "2022-05-13T04:55:57.378Z"
   },
   {
    "duration": 8,
    "start_time": "2022-05-13T04:55:57.385Z"
   },
   {
    "duration": 14,
    "start_time": "2022-05-13T04:55:57.395Z"
   },
   {
    "duration": 9,
    "start_time": "2022-05-13T04:55:57.421Z"
   },
   {
    "duration": 4,
    "start_time": "2022-05-13T04:55:57.829Z"
   },
   {
    "duration": 7,
    "start_time": "2022-05-13T04:55:58.086Z"
   },
   {
    "duration": 8,
    "start_time": "2022-05-13T04:56:23.746Z"
   },
   {
    "duration": 1907,
    "start_time": "2022-05-13T10:24:12.846Z"
   },
   {
    "duration": 21,
    "start_time": "2022-05-13T10:24:14.756Z"
   },
   {
    "duration": 5,
    "start_time": "2022-05-13T10:24:14.779Z"
   },
   {
    "duration": 19,
    "start_time": "2022-05-13T10:24:14.786Z"
   },
   {
    "duration": 5,
    "start_time": "2022-05-13T10:24:14.807Z"
   },
   {
    "duration": 41,
    "start_time": "2022-05-13T10:24:14.815Z"
   },
   {
    "duration": 13,
    "start_time": "2022-05-13T10:24:14.870Z"
   },
   {
    "duration": 5,
    "start_time": "2022-05-13T10:24:15.019Z"
   },
   {
    "duration": 18,
    "start_time": "2022-05-13T10:24:15.154Z"
   },
   {
    "duration": 9,
    "start_time": "2022-05-13T10:24:15.317Z"
   },
   {
    "duration": 5,
    "start_time": "2022-05-13T10:24:15.660Z"
   },
   {
    "duration": 13,
    "start_time": "2022-05-13T10:24:15.807Z"
   },
   {
    "duration": 33,
    "start_time": "2022-05-13T10:24:15.958Z"
   },
   {
    "duration": 5,
    "start_time": "2022-05-13T10:24:16.124Z"
   },
   {
    "duration": 6,
    "start_time": "2022-05-13T10:24:16.280Z"
   },
   {
    "duration": 14,
    "start_time": "2022-05-13T10:24:16.449Z"
   },
   {
    "duration": 8,
    "start_time": "2022-05-13T10:24:16.620Z"
   },
   {
    "duration": 7,
    "start_time": "2022-05-13T10:24:16.789Z"
   },
   {
    "duration": 8,
    "start_time": "2022-05-13T10:24:16.945Z"
   },
   {
    "duration": 20,
    "start_time": "2022-05-13T10:24:17.614Z"
   },
   {
    "duration": 5,
    "start_time": "2022-05-13T10:24:17.791Z"
   },
   {
    "duration": 26,
    "start_time": "2022-05-13T10:24:18.321Z"
   },
   {
    "duration": 31,
    "start_time": "2022-05-13T10:24:18.482Z"
   },
   {
    "duration": 27,
    "start_time": "2022-05-13T10:24:18.651Z"
   },
   {
    "duration": 22,
    "start_time": "2022-05-13T10:24:18.812Z"
   },
   {
    "duration": 40,
    "start_time": "2022-05-13T10:24:18.976Z"
   },
   {
    "duration": 16,
    "start_time": "2022-05-13T10:24:19.137Z"
   },
   {
    "duration": 21,
    "start_time": "2022-05-13T10:24:19.304Z"
   },
   {
    "duration": 23,
    "start_time": "2022-05-13T10:24:19.471Z"
   },
   {
    "duration": 4,
    "start_time": "2022-05-13T10:24:19.652Z"
   },
   {
    "duration": 61,
    "start_time": "2022-05-13T10:24:19.834Z"
   },
   {
    "duration": 23,
    "start_time": "2022-05-13T10:24:19.996Z"
   },
   {
    "duration": 20,
    "start_time": "2022-05-13T10:24:20.540Z"
   },
   {
    "duration": 14,
    "start_time": "2022-05-13T10:24:20.726Z"
   },
   {
    "duration": 6,
    "start_time": "2022-05-13T10:24:20.900Z"
   },
   {
    "duration": 163,
    "start_time": "2022-05-13T10:24:21.067Z"
   },
   {
    "duration": 10,
    "start_time": "2022-05-13T10:24:21.259Z"
   },
   {
    "duration": 13,
    "start_time": "2022-05-13T10:24:21.484Z"
   },
   {
    "duration": 7,
    "start_time": "2022-05-13T10:24:21.706Z"
   },
   {
    "duration": 11,
    "start_time": "2022-05-13T10:24:22.194Z"
   },
   {
    "duration": 6,
    "start_time": "2022-05-13T10:24:22.368Z"
   },
   {
    "duration": 8,
    "start_time": "2022-05-13T10:24:22.539Z"
   },
   {
    "duration": 9,
    "start_time": "2022-05-13T10:24:22.711Z"
   },
   {
    "duration": 5,
    "start_time": "2022-05-13T10:24:23.239Z"
   },
   {
    "duration": 5,
    "start_time": "2022-05-13T10:24:23.418Z"
   },
   {
    "duration": 14,
    "start_time": "2022-05-13T10:24:23.600Z"
   },
   {
    "duration": 10,
    "start_time": "2022-05-13T10:24:23.783Z"
   },
   {
    "duration": 23,
    "start_time": "2022-05-13T10:24:24.313Z"
   },
   {
    "duration": 347,
    "start_time": "2022-05-13T10:24:24.501Z"
   },
   {
    "duration": 9,
    "start_time": "2022-05-13T10:24:24.852Z"
   },
   {
    "duration": 8,
    "start_time": "2022-05-13T10:24:24.867Z"
   },
   {
    "duration": 20,
    "start_time": "2022-05-13T10:24:38.707Z"
   },
   {
    "duration": 8,
    "start_time": "2022-05-13T10:24:38.938Z"
   },
   {
    "duration": 246,
    "start_time": "2022-05-13T10:25:50.480Z"
   },
   {
    "duration": 231,
    "start_time": "2022-05-13T10:33:06.233Z"
   },
   {
    "duration": 15,
    "start_time": "2022-05-13T10:34:06.375Z"
   },
   {
    "duration": 1625,
    "start_time": "2022-05-14T04:20:05.709Z"
   },
   {
    "duration": 16,
    "start_time": "2022-05-14T04:20:07.337Z"
   },
   {
    "duration": 6,
    "start_time": "2022-05-14T04:20:07.354Z"
   },
   {
    "duration": 32,
    "start_time": "2022-05-14T04:20:07.362Z"
   },
   {
    "duration": 15,
    "start_time": "2022-05-14T04:20:07.397Z"
   },
   {
    "duration": 31,
    "start_time": "2022-05-14T04:20:07.413Z"
   },
   {
    "duration": 36,
    "start_time": "2022-05-14T04:20:07.445Z"
   },
   {
    "duration": 15,
    "start_time": "2022-05-14T04:20:07.483Z"
   },
   {
    "duration": 32,
    "start_time": "2022-05-14T04:20:07.500Z"
   },
   {
    "duration": 16,
    "start_time": "2022-05-14T04:20:07.533Z"
   },
   {
    "duration": 18,
    "start_time": "2022-05-14T04:20:07.551Z"
   },
   {
    "duration": 20,
    "start_time": "2022-05-14T04:20:07.571Z"
   },
   {
    "duration": 42,
    "start_time": "2022-05-14T04:20:07.593Z"
   },
   {
    "duration": 10,
    "start_time": "2022-05-14T04:20:07.639Z"
   },
   {
    "duration": 19,
    "start_time": "2022-05-14T04:20:07.651Z"
   },
   {
    "duration": 23,
    "start_time": "2022-05-14T04:20:07.672Z"
   },
   {
    "duration": 21,
    "start_time": "2022-05-14T04:20:07.697Z"
   },
   {
    "duration": 21,
    "start_time": "2022-05-14T04:20:07.720Z"
   },
   {
    "duration": 15,
    "start_time": "2022-05-14T04:20:07.743Z"
   },
   {
    "duration": 37,
    "start_time": "2022-05-14T04:20:07.759Z"
   },
   {
    "duration": 7,
    "start_time": "2022-05-14T04:20:07.798Z"
   },
   {
    "duration": 27,
    "start_time": "2022-05-14T04:20:07.807Z"
   },
   {
    "duration": 20,
    "start_time": "2022-05-14T04:20:07.836Z"
   },
   {
    "duration": 19,
    "start_time": "2022-05-14T04:20:07.858Z"
   },
   {
    "duration": 17,
    "start_time": "2022-05-14T04:20:07.879Z"
   },
   {
    "duration": 53,
    "start_time": "2022-05-14T04:20:07.898Z"
   },
   {
    "duration": 17,
    "start_time": "2022-05-14T04:20:07.953Z"
   },
   {
    "duration": 23,
    "start_time": "2022-05-14T04:20:07.972Z"
   },
   {
    "duration": 27,
    "start_time": "2022-05-14T04:20:07.997Z"
   },
   {
    "duration": 18,
    "start_time": "2022-05-14T04:20:08.025Z"
   },
   {
    "duration": 67,
    "start_time": "2022-05-14T04:20:08.045Z"
   },
   {
    "duration": 19,
    "start_time": "2022-05-14T04:20:08.114Z"
   },
   {
    "duration": 18,
    "start_time": "2022-05-14T04:20:08.134Z"
   },
   {
    "duration": 12,
    "start_time": "2022-05-14T04:20:08.154Z"
   },
   {
    "duration": 10,
    "start_time": "2022-05-14T04:20:08.167Z"
   },
   {
    "duration": 140,
    "start_time": "2022-05-14T04:20:08.179Z"
   },
   {
    "duration": 0,
    "start_time": "2022-05-14T04:20:08.321Z"
   },
   {
    "duration": 0,
    "start_time": "2022-05-14T04:20:08.322Z"
   },
   {
    "duration": 0,
    "start_time": "2022-05-14T04:20:08.323Z"
   },
   {
    "duration": 0,
    "start_time": "2022-05-14T04:20:08.324Z"
   },
   {
    "duration": 0,
    "start_time": "2022-05-14T04:20:08.325Z"
   },
   {
    "duration": 0,
    "start_time": "2022-05-14T04:20:08.326Z"
   },
   {
    "duration": 0,
    "start_time": "2022-05-14T04:20:08.327Z"
   },
   {
    "duration": 0,
    "start_time": "2022-05-14T04:20:08.328Z"
   },
   {
    "duration": 0,
    "start_time": "2022-05-14T04:20:08.329Z"
   },
   {
    "duration": 0,
    "start_time": "2022-05-14T04:20:08.329Z"
   },
   {
    "duration": 0,
    "start_time": "2022-05-14T04:20:08.330Z"
   },
   {
    "duration": 0,
    "start_time": "2022-05-14T04:20:08.331Z"
   },
   {
    "duration": 0,
    "start_time": "2022-05-14T04:20:08.332Z"
   },
   {
    "duration": 0,
    "start_time": "2022-05-14T04:20:08.333Z"
   },
   {
    "duration": 0,
    "start_time": "2022-05-14T04:20:08.334Z"
   },
   {
    "duration": 0,
    "start_time": "2022-05-14T04:20:08.335Z"
   },
   {
    "duration": 0,
    "start_time": "2022-05-14T04:20:08.336Z"
   },
   {
    "duration": 0,
    "start_time": "2022-05-14T04:20:08.336Z"
   },
   {
    "duration": 0,
    "start_time": "2022-05-14T04:20:08.337Z"
   },
   {
    "duration": 10,
    "start_time": "2022-05-14T04:20:29.324Z"
   },
   {
    "duration": 12,
    "start_time": "2022-05-14T04:20:36.428Z"
   },
   {
    "duration": 79,
    "start_time": "2022-05-14T04:21:07.251Z"
   },
   {
    "duration": 16,
    "start_time": "2022-05-14T04:21:07.443Z"
   },
   {
    "duration": 3,
    "start_time": "2022-05-14T04:21:07.620Z"
   },
   {
    "duration": 11,
    "start_time": "2022-05-14T04:21:08.298Z"
   },
   {
    "duration": 5,
    "start_time": "2022-05-14T04:21:08.467Z"
   },
   {
    "duration": 6,
    "start_time": "2022-05-14T04:21:08.634Z"
   },
   {
    "duration": 12,
    "start_time": "2022-05-14T04:21:08.799Z"
   },
   {
    "duration": 5,
    "start_time": "2022-05-14T04:21:08.964Z"
   },
   {
    "duration": 12,
    "start_time": "2022-05-14T04:21:09.131Z"
   },
   {
    "duration": 6,
    "start_time": "2022-05-14T04:21:09.299Z"
   },
   {
    "duration": 4,
    "start_time": "2022-05-14T04:21:09.642Z"
   },
   {
    "duration": 6,
    "start_time": "2022-05-14T04:21:09.819Z"
   },
   {
    "duration": 21,
    "start_time": "2022-05-14T04:21:09.995Z"
   },
   {
    "duration": 5,
    "start_time": "2022-05-14T04:21:10.179Z"
   },
   {
    "duration": 5,
    "start_time": "2022-05-14T04:21:10.347Z"
   },
   {
    "duration": 13,
    "start_time": "2022-05-14T04:21:10.523Z"
   },
   {
    "duration": 7,
    "start_time": "2022-05-14T04:21:10.715Z"
   },
   {
    "duration": 5,
    "start_time": "2022-05-14T04:21:10.892Z"
   },
   {
    "duration": 7,
    "start_time": "2022-05-14T04:21:11.074Z"
   },
   {
    "duration": 17,
    "start_time": "2022-05-14T04:21:11.859Z"
   },
   {
    "duration": 4,
    "start_time": "2022-05-14T04:21:12.051Z"
   },
   {
    "duration": 20,
    "start_time": "2022-05-14T04:21:12.778Z"
   },
   {
    "duration": 24,
    "start_time": "2022-05-14T04:21:12.986Z"
   },
   {
    "duration": 19,
    "start_time": "2022-05-14T04:21:13.562Z"
   },
   {
    "duration": 17,
    "start_time": "2022-05-14T04:21:14.003Z"
   },
   {
    "duration": 31,
    "start_time": "2022-05-14T04:21:14.315Z"
   },
   {
    "duration": 14,
    "start_time": "2022-05-14T04:21:14.851Z"
   },
   {
    "duration": 18,
    "start_time": "2022-05-14T04:21:15.195Z"
   },
   {
    "duration": 21,
    "start_time": "2022-05-14T04:21:15.491Z"
   },
   {
    "duration": 3,
    "start_time": "2022-05-14T04:21:15.747Z"
   },
   {
    "duration": 43,
    "start_time": "2022-05-14T04:21:15.962Z"
   },
   {
    "duration": 20,
    "start_time": "2022-05-14T04:21:16.178Z"
   },
   {
    "duration": 18,
    "start_time": "2022-05-14T04:21:16.779Z"
   },
   {
    "duration": 11,
    "start_time": "2022-05-14T04:21:16.987Z"
   },
   {
    "duration": 5,
    "start_time": "2022-05-14T04:21:17.171Z"
   },
   {
    "duration": 15,
    "start_time": "2022-05-14T04:21:17.387Z"
   },
   {
    "duration": 8,
    "start_time": "2022-05-14T04:21:17.594Z"
   },
   {
    "duration": 10,
    "start_time": "2022-05-14T04:21:18.075Z"
   },
   {
    "duration": 5,
    "start_time": "2022-05-14T04:21:18.307Z"
   },
   {
    "duration": 9,
    "start_time": "2022-05-14T04:21:18.570Z"
   },
   {
    "duration": 5,
    "start_time": "2022-05-14T04:21:18.851Z"
   },
   {
    "duration": 9,
    "start_time": "2022-05-14T04:21:19.186Z"
   },
   {
    "duration": 7,
    "start_time": "2022-05-14T04:21:19.595Z"
   },
   {
    "duration": 3,
    "start_time": "2022-05-14T04:21:20.611Z"
   },
   {
    "duration": 4,
    "start_time": "2022-05-14T04:21:20.955Z"
   },
   {
    "duration": 11,
    "start_time": "2022-05-14T04:21:21.314Z"
   },
   {
    "duration": 7,
    "start_time": "2022-05-14T04:21:21.683Z"
   },
   {
    "duration": 19,
    "start_time": "2022-05-14T04:21:23.027Z"
   },
   {
    "duration": 208,
    "start_time": "2022-05-14T04:21:23.243Z"
   },
   {
    "duration": 5,
    "start_time": "2022-05-14T04:21:23.453Z"
   },
   {
    "duration": 6,
    "start_time": "2022-05-14T04:21:23.627Z"
   },
   {
    "duration": 14,
    "start_time": "2022-05-14T04:21:24.426Z"
   },
   {
    "duration": 6,
    "start_time": "2022-05-14T04:21:24.899Z"
   },
   {
    "duration": 11,
    "start_time": "2022-05-14T04:21:27.042Z"
   },
   {
    "duration": 8,
    "start_time": "2022-05-14T04:21:31.179Z"
   },
   {
    "duration": 13,
    "start_time": "2022-05-14T04:39:43.310Z"
   },
   {
    "duration": 9,
    "start_time": "2022-05-14T04:39:48.711Z"
   },
   {
    "duration": 20,
    "start_time": "2022-05-14T04:39:53.159Z"
   },
   {
    "duration": 21,
    "start_time": "2022-05-14T04:40:47.614Z"
   },
   {
    "duration": 655,
    "start_time": "2022-05-14T04:41:31.656Z"
   },
   {
    "duration": 22,
    "start_time": "2022-05-14T04:41:38.256Z"
   },
   {
    "duration": 18,
    "start_time": "2022-05-14T04:42:12.071Z"
   },
   {
    "duration": 20,
    "start_time": "2022-05-14T04:42:22.463Z"
   },
   {
    "duration": 18,
    "start_time": "2022-05-14T04:47:14.883Z"
   },
   {
    "duration": 20,
    "start_time": "2022-05-14T04:48:29.219Z"
   },
   {
    "duration": 19,
    "start_time": "2022-05-14T04:52:46.198Z"
   },
   {
    "duration": 16,
    "start_time": "2022-05-14T04:52:57.328Z"
   },
   {
    "duration": 24,
    "start_time": "2022-05-14T04:53:12.256Z"
   },
   {
    "duration": 9,
    "start_time": "2022-05-14T04:54:03.551Z"
   },
   {
    "duration": 16,
    "start_time": "2022-05-14T04:54:10.535Z"
   },
   {
    "duration": 12,
    "start_time": "2022-05-14T04:54:16.112Z"
   },
   {
    "duration": 17,
    "start_time": "2022-05-14T04:57:44.221Z"
   },
   {
    "duration": 16,
    "start_time": "2022-05-14T04:57:49.245Z"
   },
   {
    "duration": 18,
    "start_time": "2022-05-14T04:58:08.405Z"
   },
   {
    "duration": 9,
    "start_time": "2022-05-14T05:01:00.657Z"
   },
   {
    "duration": 8,
    "start_time": "2022-05-14T05:01:20.132Z"
   },
   {
    "duration": 161,
    "start_time": "2022-05-14T05:01:50.002Z"
   },
   {
    "duration": 158,
    "start_time": "2022-05-14T05:02:11.802Z"
   },
   {
    "duration": 182,
    "start_time": "2022-05-14T05:02:25.826Z"
   },
   {
    "duration": 167,
    "start_time": "2022-05-14T05:02:51.768Z"
   },
   {
    "duration": 170,
    "start_time": "2022-05-14T05:02:59.545Z"
   },
   {
    "duration": 10,
    "start_time": "2022-05-14T05:03:14.906Z"
   },
   {
    "duration": 6,
    "start_time": "2022-05-14T05:03:25.449Z"
   },
   {
    "duration": 5,
    "start_time": "2022-05-14T05:05:13.062Z"
   },
   {
    "duration": 7,
    "start_time": "2022-05-14T05:05:25.464Z"
   },
   {
    "duration": 18,
    "start_time": "2022-05-14T05:05:47.520Z"
   },
   {
    "duration": 10,
    "start_time": "2022-05-14T05:10:30.125Z"
   },
   {
    "duration": 210,
    "start_time": "2022-05-14T05:11:32.388Z"
   },
   {
    "duration": 12,
    "start_time": "2022-05-14T05:11:37.820Z"
   },
   {
    "duration": 11,
    "start_time": "2022-05-14T05:11:39.716Z"
   },
   {
    "duration": 11,
    "start_time": "2022-05-14T05:11:49.955Z"
   },
   {
    "duration": 15,
    "start_time": "2022-05-14T05:12:12.916Z"
   },
   {
    "duration": 7,
    "start_time": "2022-05-14T05:12:21.335Z"
   },
   {
    "duration": 18,
    "start_time": "2022-05-14T05:12:33.980Z"
   },
   {
    "duration": 22,
    "start_time": "2022-05-14T05:12:35.204Z"
   },
   {
    "duration": 9,
    "start_time": "2022-05-14T05:12:55.636Z"
   },
   {
    "duration": 7,
    "start_time": "2022-05-14T05:12:56.355Z"
   },
   {
    "duration": 18,
    "start_time": "2022-05-14T05:25:02.787Z"
   },
   {
    "duration": 24,
    "start_time": "2022-05-14T05:25:03.499Z"
   },
   {
    "duration": 18,
    "start_time": "2022-05-14T05:25:29.203Z"
   },
   {
    "duration": 9,
    "start_time": "2022-05-14T05:27:59.504Z"
   },
   {
    "duration": 17,
    "start_time": "2022-05-14T05:28:07.873Z"
   },
   {
    "duration": 4,
    "start_time": "2022-05-14T05:28:10.497Z"
   },
   {
    "duration": 19,
    "start_time": "2022-05-14T05:28:58.738Z"
   },
   {
    "duration": 9,
    "start_time": "2022-05-14T05:29:06.105Z"
   },
   {
    "duration": 6,
    "start_time": "2022-05-14T05:29:07.513Z"
   },
   {
    "duration": 4,
    "start_time": "2022-05-14T05:29:26.049Z"
   },
   {
    "duration": 19,
    "start_time": "2022-05-14T05:29:27.201Z"
   },
   {
    "duration": 16,
    "start_time": "2022-05-14T05:29:38.120Z"
   },
   {
    "duration": 7,
    "start_time": "2022-05-14T05:29:45.714Z"
   },
   {
    "duration": 7,
    "start_time": "2022-05-14T05:30:03.193Z"
   },
   {
    "duration": 3,
    "start_time": "2022-05-14T05:30:28.688Z"
   },
   {
    "duration": 6,
    "start_time": "2022-05-14T05:30:30.064Z"
   },
   {
    "duration": 3,
    "start_time": "2022-05-14T05:30:48.168Z"
   },
   {
    "duration": 7,
    "start_time": "2022-05-14T05:30:49.048Z"
   },
   {
    "duration": 3,
    "start_time": "2022-05-14T05:31:47.520Z"
   },
   {
    "duration": 6,
    "start_time": "2022-05-14T05:31:48.151Z"
   },
   {
    "duration": 7,
    "start_time": "2022-05-14T05:31:54.680Z"
   },
   {
    "duration": 10,
    "start_time": "2022-05-14T05:32:06.767Z"
   },
   {
    "duration": 10,
    "start_time": "2022-05-14T05:32:21.982Z"
   },
   {
    "duration": 3,
    "start_time": "2022-05-14T05:32:22.711Z"
   },
   {
    "duration": 6,
    "start_time": "2022-05-14T05:32:32.326Z"
   },
   {
    "duration": 19,
    "start_time": "2022-05-14T05:33:57.582Z"
   },
   {
    "duration": 10,
    "start_time": "2022-05-14T05:34:36.037Z"
   },
   {
    "duration": 10,
    "start_time": "2022-05-14T05:34:52.237Z"
   },
   {
    "duration": 17,
    "start_time": "2022-05-14T05:35:02.820Z"
   },
   {
    "duration": 13,
    "start_time": "2022-05-14T05:35:38.341Z"
   },
   {
    "duration": 16,
    "start_time": "2022-05-14T05:36:43.444Z"
   },
   {
    "duration": 14,
    "start_time": "2022-05-14T05:36:50.884Z"
   },
   {
    "duration": 15,
    "start_time": "2022-05-14T05:37:54.404Z"
   },
   {
    "duration": 10,
    "start_time": "2022-05-14T05:38:10.443Z"
   },
   {
    "duration": 2179,
    "start_time": "2022-05-14T05:50:44.955Z"
   },
   {
    "duration": 16,
    "start_time": "2022-05-14T05:51:06.764Z"
   },
   {
    "duration": 26,
    "start_time": "2022-05-14T05:51:16.907Z"
   },
   {
    "duration": 1965,
    "start_time": "2022-05-14T05:51:41.917Z"
   },
   {
    "duration": 20,
    "start_time": "2022-05-14T05:51:54.963Z"
   },
   {
    "duration": 29,
    "start_time": "2022-05-14T05:53:24.016Z"
   },
   {
    "duration": 1976,
    "start_time": "2022-05-14T05:53:41.857Z"
   },
   {
    "duration": 1979,
    "start_time": "2022-05-14T05:54:05.906Z"
   },
   {
    "duration": 19,
    "start_time": "2022-05-14T05:54:19.993Z"
   },
   {
    "duration": 15,
    "start_time": "2022-05-14T05:55:05.881Z"
   },
   {
    "duration": 9,
    "start_time": "2022-05-14T06:42:28.546Z"
   },
   {
    "duration": 26,
    "start_time": "2022-05-14T06:42:35.428Z"
   },
   {
    "duration": 24,
    "start_time": "2022-05-14T06:42:54.531Z"
   },
   {
    "duration": 15,
    "start_time": "2022-05-14T07:16:05.727Z"
   },
   {
    "duration": 13,
    "start_time": "2022-05-14T10:49:32.702Z"
   },
   {
    "duration": 18,
    "start_time": "2022-05-14T10:49:58.422Z"
   },
   {
    "duration": 16,
    "start_time": "2022-05-14T10:50:13.917Z"
   },
   {
    "duration": 5,
    "start_time": "2022-05-14T11:35:42.745Z"
   },
   {
    "duration": 18,
    "start_time": "2022-05-14T11:35:44.576Z"
   },
   {
    "duration": 14,
    "start_time": "2022-05-14T14:40:34.374Z"
   },
   {
    "duration": 15,
    "start_time": "2022-05-14T14:40:40.890Z"
   },
   {
    "duration": 15,
    "start_time": "2022-05-14T14:40:48.000Z"
   },
   {
    "duration": 14,
    "start_time": "2022-05-14T14:40:58.923Z"
   },
   {
    "duration": 10057,
    "start_time": "2022-05-14T14:41:08.371Z"
   },
   {
    "duration": 14,
    "start_time": "2022-05-14T14:41:18.430Z"
   },
   {
    "duration": 0,
    "start_time": "2022-05-14T14:41:18.446Z"
   },
   {
    "duration": 0,
    "start_time": "2022-05-14T14:41:18.447Z"
   },
   {
    "duration": 0,
    "start_time": "2022-05-14T14:41:18.448Z"
   },
   {
    "duration": 0,
    "start_time": "2022-05-14T14:41:18.449Z"
   },
   {
    "duration": 0,
    "start_time": "2022-05-14T14:41:18.450Z"
   },
   {
    "duration": 6,
    "start_time": "2022-05-14T14:43:06.593Z"
   },
   {
    "duration": 8,
    "start_time": "2022-05-14T14:43:07.993Z"
   },
   {
    "duration": 13,
    "start_time": "2022-05-14T14:43:08.137Z"
   },
   {
    "duration": 5,
    "start_time": "2022-05-14T14:43:08.305Z"
   },
   {
    "duration": 8,
    "start_time": "2022-05-14T14:43:08.465Z"
   },
   {
    "duration": 1297,
    "start_time": "2022-05-14T14:44:27.161Z"
   },
   {
    "duration": 15,
    "start_time": "2022-05-14T14:44:28.460Z"
   },
   {
    "duration": 4,
    "start_time": "2022-05-14T14:44:28.477Z"
   },
   {
    "duration": 16,
    "start_time": "2022-05-14T14:44:28.483Z"
   },
   {
    "duration": 4,
    "start_time": "2022-05-14T14:44:28.501Z"
   },
   {
    "duration": 6,
    "start_time": "2022-05-14T14:44:28.522Z"
   },
   {
    "duration": 10,
    "start_time": "2022-05-14T14:44:28.539Z"
   },
   {
    "duration": 5,
    "start_time": "2022-05-14T14:44:28.691Z"
   },
   {
    "duration": 11,
    "start_time": "2022-05-14T14:44:28.931Z"
   },
   {
    "duration": 6,
    "start_time": "2022-05-14T14:44:29.107Z"
   },
   {
    "duration": 3,
    "start_time": "2022-05-14T14:44:29.419Z"
   },
   {
    "duration": 7,
    "start_time": "2022-05-14T14:44:29.561Z"
   },
   {
    "duration": 22,
    "start_time": "2022-05-14T14:44:29.715Z"
   },
   {
    "duration": 5,
    "start_time": "2022-05-14T14:44:29.867Z"
   },
   {
    "duration": 6,
    "start_time": "2022-05-14T14:44:30.019Z"
   },
   {
    "duration": 11,
    "start_time": "2022-05-14T14:44:30.178Z"
   },
   {
    "duration": 6,
    "start_time": "2022-05-14T14:44:30.346Z"
   },
   {
    "duration": 5,
    "start_time": "2022-05-14T14:44:30.515Z"
   },
   {
    "duration": 6,
    "start_time": "2022-05-14T14:44:30.683Z"
   },
   {
    "duration": 22,
    "start_time": "2022-05-14T14:44:31.315Z"
   },
   {
    "duration": 4,
    "start_time": "2022-05-14T14:44:31.475Z"
   },
   {
    "duration": 27,
    "start_time": "2022-05-14T14:44:31.970Z"
   },
   {
    "duration": 20,
    "start_time": "2022-05-14T14:44:32.123Z"
   },
   {
    "duration": 17,
    "start_time": "2022-05-14T14:44:32.299Z"
   },
   {
    "duration": 15,
    "start_time": "2022-05-14T14:44:32.466Z"
   },
   {
    "duration": 30,
    "start_time": "2022-05-14T14:44:32.635Z"
   },
   {
    "duration": 14,
    "start_time": "2022-05-14T14:44:32.810Z"
   },
   {
    "duration": 27,
    "start_time": "2022-05-14T14:44:32.987Z"
   },
   {
    "duration": 29,
    "start_time": "2022-05-14T14:44:33.140Z"
   },
   {
    "duration": 4,
    "start_time": "2022-05-14T14:44:33.298Z"
   },
   {
    "duration": 64,
    "start_time": "2022-05-14T14:44:33.459Z"
   },
   {
    "duration": 29,
    "start_time": "2022-05-14T14:44:33.635Z"
   },
   {
    "duration": 15,
    "start_time": "2022-05-14T14:44:34.147Z"
   },
   {
    "duration": 11,
    "start_time": "2022-05-14T14:44:34.315Z"
   },
   {
    "duration": 5,
    "start_time": "2022-05-14T14:44:34.682Z"
   },
   {
    "duration": 9764,
    "start_time": "2022-05-14T14:44:34.851Z"
   },
   {
    "duration": 11,
    "start_time": "2022-05-14T14:44:44.617Z"
   },
   {
    "duration": 14,
    "start_time": "2022-05-14T14:44:44.629Z"
   },
   {
    "duration": 4,
    "start_time": "2022-05-14T14:44:44.645Z"
   },
   {
    "duration": 13,
    "start_time": "2022-05-14T14:44:44.651Z"
   },
   {
    "duration": 7,
    "start_time": "2022-05-14T14:44:44.666Z"
   },
   {
    "duration": 6,
    "start_time": "2022-05-14T14:44:44.675Z"
   },
   {
    "duration": 43,
    "start_time": "2022-05-14T14:44:44.684Z"
   },
   {
    "duration": 5,
    "start_time": "2022-05-14T14:44:44.729Z"
   },
   {
    "duration": 5,
    "start_time": "2022-05-14T14:44:44.737Z"
   },
   {
    "duration": 17,
    "start_time": "2022-05-14T14:44:44.744Z"
   },
   {
    "duration": 11,
    "start_time": "2022-05-14T14:44:44.763Z"
   },
   {
    "duration": 23,
    "start_time": "2022-05-14T14:44:44.776Z"
   },
   {
    "duration": 232,
    "start_time": "2022-05-14T14:44:44.823Z"
   },
   {
    "duration": 7,
    "start_time": "2022-05-14T14:44:45.057Z"
   },
   {
    "duration": 11,
    "start_time": "2022-05-14T14:44:45.067Z"
   },
   {
    "duration": 19,
    "start_time": "2022-05-14T14:44:45.079Z"
   },
   {
    "duration": 32,
    "start_time": "2022-05-14T14:44:45.100Z"
   },
   {
    "duration": 15,
    "start_time": "2022-05-14T14:44:45.134Z"
   },
   {
    "duration": 15,
    "start_time": "2022-05-14T14:44:45.151Z"
   },
   {
    "duration": 1542,
    "start_time": "2022-05-15T05:17:42.712Z"
   },
   {
    "duration": 16,
    "start_time": "2022-05-15T05:17:44.256Z"
   },
   {
    "duration": 4,
    "start_time": "2022-05-15T05:17:44.274Z"
   },
   {
    "duration": 23,
    "start_time": "2022-05-15T05:17:44.280Z"
   },
   {
    "duration": 9,
    "start_time": "2022-05-15T05:17:44.305Z"
   },
   {
    "duration": 21,
    "start_time": "2022-05-15T05:17:44.316Z"
   },
   {
    "duration": 18,
    "start_time": "2022-05-15T05:17:44.339Z"
   },
   {
    "duration": 7,
    "start_time": "2022-05-15T05:17:44.359Z"
   },
   {
    "duration": 20,
    "start_time": "2022-05-15T05:17:44.367Z"
   },
   {
    "duration": 8,
    "start_time": "2022-05-15T05:17:44.389Z"
   },
   {
    "duration": 10,
    "start_time": "2022-05-15T05:17:44.399Z"
   },
   {
    "duration": 12,
    "start_time": "2022-05-15T05:17:44.411Z"
   },
   {
    "duration": 33,
    "start_time": "2022-05-15T05:17:44.424Z"
   },
   {
    "duration": 5,
    "start_time": "2022-05-15T05:17:44.460Z"
   },
   {
    "duration": 16,
    "start_time": "2022-05-15T05:17:44.467Z"
   },
   {
    "duration": 21,
    "start_time": "2022-05-15T05:17:44.484Z"
   },
   {
    "duration": 14,
    "start_time": "2022-05-15T05:17:44.507Z"
   },
   {
    "duration": 17,
    "start_time": "2022-05-15T05:17:44.523Z"
   },
   {
    "duration": 16,
    "start_time": "2022-05-15T05:17:44.542Z"
   },
   {
    "duration": 26,
    "start_time": "2022-05-15T05:17:44.560Z"
   },
   {
    "duration": 14,
    "start_time": "2022-05-15T05:17:44.588Z"
   },
   {
    "duration": 31,
    "start_time": "2022-05-15T05:17:44.603Z"
   },
   {
    "duration": 25,
    "start_time": "2022-05-15T05:17:44.635Z"
   },
   {
    "duration": 17,
    "start_time": "2022-05-15T05:17:44.662Z"
   },
   {
    "duration": 18,
    "start_time": "2022-05-15T05:17:44.681Z"
   },
   {
    "duration": 46,
    "start_time": "2022-05-15T05:17:44.701Z"
   },
   {
    "duration": 15,
    "start_time": "2022-05-15T05:17:44.749Z"
   },
   {
    "duration": 17,
    "start_time": "2022-05-15T05:17:44.766Z"
   },
   {
    "duration": 19,
    "start_time": "2022-05-15T05:17:44.785Z"
   },
   {
    "duration": 4,
    "start_time": "2022-05-15T05:17:44.805Z"
   },
   {
    "duration": 42,
    "start_time": "2022-05-15T05:17:44.834Z"
   },
   {
    "duration": 18,
    "start_time": "2022-05-15T05:17:44.878Z"
   },
   {
    "duration": 38,
    "start_time": "2022-05-15T05:17:44.898Z"
   },
   {
    "duration": 10,
    "start_time": "2022-05-15T05:17:44.938Z"
   },
   {
    "duration": 5,
    "start_time": "2022-05-15T05:17:44.950Z"
   },
   {
    "duration": 9232,
    "start_time": "2022-05-15T05:17:44.957Z"
   },
   {
    "duration": 7,
    "start_time": "2022-05-15T05:17:54.191Z"
   },
   {
    "duration": 12,
    "start_time": "2022-05-15T05:17:54.200Z"
   },
   {
    "duration": 20,
    "start_time": "2022-05-15T05:17:54.214Z"
   },
   {
    "duration": 18,
    "start_time": "2022-05-15T05:17:54.236Z"
   },
   {
    "duration": 10,
    "start_time": "2022-05-15T05:17:54.258Z"
   },
   {
    "duration": 20,
    "start_time": "2022-05-15T05:17:54.270Z"
   },
   {
    "duration": 20,
    "start_time": "2022-05-15T05:17:54.292Z"
   },
   {
    "duration": 21,
    "start_time": "2022-05-15T05:17:54.314Z"
   },
   {
    "duration": 25,
    "start_time": "2022-05-15T05:17:54.337Z"
   },
   {
    "duration": 20,
    "start_time": "2022-05-15T05:17:54.364Z"
   },
   {
    "duration": 28,
    "start_time": "2022-05-15T05:17:54.385Z"
   },
   {
    "duration": 25,
    "start_time": "2022-05-15T05:17:54.414Z"
   },
   {
    "duration": 219,
    "start_time": "2022-05-15T05:17:54.441Z"
   },
   {
    "duration": 7,
    "start_time": "2022-05-15T05:17:54.661Z"
   },
   {
    "duration": 19,
    "start_time": "2022-05-15T05:17:54.670Z"
   },
   {
    "duration": 30,
    "start_time": "2022-05-15T05:17:54.691Z"
   },
   {
    "duration": 13,
    "start_time": "2022-05-15T05:17:54.723Z"
   },
   {
    "duration": 17,
    "start_time": "2022-05-15T05:17:54.738Z"
   },
   {
    "duration": 15,
    "start_time": "2022-05-15T05:17:54.756Z"
   },
   {
    "duration": 31,
    "start_time": "2022-05-15T06:19:56.602Z"
   },
   {
    "duration": 11,
    "start_time": "2022-05-15T06:21:58.099Z"
   },
   {
    "duration": 51,
    "start_time": "2022-05-15T07:48:54.655Z"
   },
   {
    "duration": 1442,
    "start_time": "2022-05-15T07:49:00.979Z"
   },
   {
    "duration": 17,
    "start_time": "2022-05-15T07:49:02.423Z"
   },
   {
    "duration": 4,
    "start_time": "2022-05-15T07:49:02.441Z"
   },
   {
    "duration": 13,
    "start_time": "2022-05-15T07:49:02.447Z"
   },
   {
    "duration": 5,
    "start_time": "2022-05-15T07:49:02.507Z"
   },
   {
    "duration": 5,
    "start_time": "2022-05-15T07:49:02.667Z"
   },
   {
    "duration": 10,
    "start_time": "2022-05-15T07:49:02.819Z"
   },
   {
    "duration": 6,
    "start_time": "2022-05-15T07:49:02.979Z"
   },
   {
    "duration": 11,
    "start_time": "2022-05-15T07:49:03.290Z"
   },
   {
    "duration": 6,
    "start_time": "2022-05-15T07:49:03.450Z"
   },
   {
    "duration": 3,
    "start_time": "2022-05-15T07:49:03.763Z"
   },
   {
    "duration": 7,
    "start_time": "2022-05-15T07:49:03.923Z"
   },
   {
    "duration": 23,
    "start_time": "2022-05-15T07:49:04.080Z"
   },
   {
    "duration": 5,
    "start_time": "2022-05-15T07:49:04.378Z"
   },
   {
    "duration": 4,
    "start_time": "2022-05-15T07:49:04.547Z"
   },
   {
    "duration": 10,
    "start_time": "2022-05-15T07:49:04.867Z"
   },
   {
    "duration": 6,
    "start_time": "2022-05-15T07:49:05.020Z"
   },
   {
    "duration": 5,
    "start_time": "2022-05-15T07:49:05.187Z"
   },
   {
    "duration": 6,
    "start_time": "2022-05-15T07:49:05.355Z"
   },
   {
    "duration": 15,
    "start_time": "2022-05-15T07:49:06.163Z"
   },
   {
    "duration": 4,
    "start_time": "2022-05-15T07:49:06.322Z"
   },
   {
    "duration": 18,
    "start_time": "2022-05-15T07:49:07.011Z"
   },
   {
    "duration": 22,
    "start_time": "2022-05-15T07:49:07.171Z"
   },
   {
    "duration": 18,
    "start_time": "2022-05-15T07:49:07.331Z"
   },
   {
    "duration": 16,
    "start_time": "2022-05-15T07:49:07.482Z"
   },
   {
    "duration": 30,
    "start_time": "2022-05-15T07:49:07.643Z"
   },
   {
    "duration": 13,
    "start_time": "2022-05-15T07:49:07.816Z"
   },
   {
    "duration": 17,
    "start_time": "2022-05-15T07:49:07.985Z"
   },
   {
    "duration": 19,
    "start_time": "2022-05-15T07:49:08.163Z"
   },
   {
    "duration": 3,
    "start_time": "2022-05-15T07:49:08.331Z"
   },
   {
    "duration": 43,
    "start_time": "2022-05-15T07:49:08.504Z"
   },
   {
    "duration": 20,
    "start_time": "2022-05-15T07:49:08.850Z"
   },
   {
    "duration": 18,
    "start_time": "2022-05-15T07:49:09.515Z"
   },
   {
    "duration": 10,
    "start_time": "2022-05-15T07:49:09.690Z"
   },
   {
    "duration": 5,
    "start_time": "2022-05-15T07:49:09.851Z"
   },
   {
    "duration": 9726,
    "start_time": "2022-05-15T07:49:10.019Z"
   },
   {
    "duration": 7,
    "start_time": "2022-05-15T07:49:19.747Z"
   },
   {
    "duration": 11,
    "start_time": "2022-05-15T07:49:19.756Z"
   },
   {
    "duration": 4,
    "start_time": "2022-05-15T07:49:19.770Z"
   },
   {
    "duration": 9,
    "start_time": "2022-05-15T07:49:19.776Z"
   },
   {
    "duration": 10,
    "start_time": "2022-05-15T07:49:19.787Z"
   },
   {
    "duration": 5,
    "start_time": "2022-05-15T07:49:19.823Z"
   },
   {
    "duration": 11,
    "start_time": "2022-05-15T07:49:19.830Z"
   },
   {
    "duration": 4,
    "start_time": "2022-05-15T07:49:19.843Z"
   },
   {
    "duration": 10,
    "start_time": "2022-05-15T07:49:19.849Z"
   },
   {
    "duration": 16,
    "start_time": "2022-05-15T07:49:19.861Z"
   },
   {
    "duration": 7,
    "start_time": "2022-05-15T07:49:19.879Z"
   },
   {
    "duration": 47,
    "start_time": "2022-05-15T07:49:19.887Z"
   },
   {
    "duration": 218,
    "start_time": "2022-05-15T07:49:19.936Z"
   },
   {
    "duration": 6,
    "start_time": "2022-05-15T07:49:20.156Z"
   },
   {
    "duration": 16,
    "start_time": "2022-05-15T07:49:20.163Z"
   },
   {
    "duration": 17,
    "start_time": "2022-05-15T07:49:20.181Z"
   },
   {
    "duration": 32,
    "start_time": "2022-05-15T07:49:20.200Z"
   },
   {
    "duration": 15,
    "start_time": "2022-05-15T12:23:05.591Z"
   },
   {
    "duration": 18,
    "start_time": "2022-05-15T12:23:12.430Z"
   },
   {
    "duration": 16,
    "start_time": "2022-05-15T12:23:19.974Z"
   },
   {
    "duration": 3,
    "start_time": "2022-05-15T17:44:12.772Z"
   },
   {
    "duration": 80,
    "start_time": "2022-05-15T17:44:13.063Z"
   },
   {
    "duration": 2,
    "start_time": "2022-05-15T17:55:06.569Z"
   },
   {
    "duration": 99,
    "start_time": "2022-05-15T17:55:06.765Z"
   },
   {
    "duration": 24,
    "start_time": "2022-05-15T17:55:07.120Z"
   },
   {
    "duration": 3,
    "start_time": "2022-05-15T17:55:07.690Z"
   },
   {
    "duration": 12,
    "start_time": "2022-05-15T17:55:09.712Z"
   },
   {
    "duration": 7,
    "start_time": "2022-05-15T17:55:09.940Z"
   },
   {
    "duration": 5,
    "start_time": "2022-05-15T17:55:10.482Z"
   },
   {
    "duration": 22,
    "start_time": "2022-05-15T17:55:10.821Z"
   },
   {
    "duration": 5,
    "start_time": "2022-05-15T17:55:11.270Z"
   },
   {
    "duration": 20,
    "start_time": "2022-05-15T17:55:12.036Z"
   },
   {
    "duration": 5,
    "start_time": "2022-05-15T17:55:12.315Z"
   },
   {
    "duration": 4,
    "start_time": "2022-05-15T17:55:13.490Z"
   },
   {
    "duration": 5,
    "start_time": "2022-05-15T17:55:13.972Z"
   },
   {
    "duration": 23,
    "start_time": "2022-05-15T17:55:14.692Z"
   },
   {
    "duration": 6,
    "start_time": "2022-05-15T17:55:15.971Z"
   },
   {
    "duration": 6,
    "start_time": "2022-05-15T17:55:16.190Z"
   },
   {
    "duration": 20,
    "start_time": "2022-05-15T17:55:17.020Z"
   },
   {
    "duration": 6,
    "start_time": "2022-05-15T17:55:17.475Z"
   },
   {
    "duration": 5,
    "start_time": "2022-05-15T17:55:18.168Z"
   },
   {
    "duration": 8,
    "start_time": "2022-05-15T17:55:18.338Z"
   },
   {
    "duration": 28,
    "start_time": "2022-05-15T17:55:20.418Z"
   },
   {
    "duration": 4,
    "start_time": "2022-05-15T17:55:20.869Z"
   },
   {
    "duration": 17,
    "start_time": "2022-05-15T17:55:22.480Z"
   },
   {
    "duration": 19,
    "start_time": "2022-05-15T17:55:22.874Z"
   },
   {
    "duration": 18,
    "start_time": "2022-05-15T17:55:24.591Z"
   },
   {
    "duration": 20,
    "start_time": "2022-05-15T17:55:24.612Z"
   },
   {
    "duration": 35,
    "start_time": "2022-05-15T17:55:24.634Z"
   },
   {
    "duration": 16,
    "start_time": "2022-05-15T17:55:24.840Z"
   },
   {
    "duration": 17,
    "start_time": "2022-05-15T17:55:25.790Z"
   },
   {
    "duration": 24,
    "start_time": "2022-05-15T17:55:31.342Z"
   },
   {
    "duration": 167,
    "start_time": "2022-05-15T17:55:53.856Z"
   },
   {
    "duration": 4,
    "start_time": "2022-05-15T18:08:18.188Z"
   },
   {
    "duration": 17,
    "start_time": "2022-05-15T18:08:27.489Z"
   },
   {
    "duration": 173,
    "start_time": "2022-05-15T18:14:27.113Z"
   },
   {
    "duration": 1435,
    "start_time": "2022-05-16T15:15:08.252Z"
   },
   {
    "duration": 83,
    "start_time": "2022-05-16T15:15:09.689Z"
   },
   {
    "duration": 16,
    "start_time": "2022-05-16T15:15:09.774Z"
   },
   {
    "duration": 16,
    "start_time": "2022-05-16T15:15:09.792Z"
   },
   {
    "duration": 33,
    "start_time": "2022-05-16T15:15:09.810Z"
   },
   {
    "duration": 22,
    "start_time": "2022-05-16T15:15:09.845Z"
   },
   {
    "duration": 30,
    "start_time": "2022-05-16T15:15:09.869Z"
   },
   {
    "duration": 34,
    "start_time": "2022-05-16T15:15:09.900Z"
   },
   {
    "duration": 28,
    "start_time": "2022-05-16T15:15:09.936Z"
   },
   {
    "duration": 34,
    "start_time": "2022-05-16T15:15:09.966Z"
   },
   {
    "duration": 22,
    "start_time": "2022-05-16T15:15:10.002Z"
   },
   {
    "duration": 27,
    "start_time": "2022-05-16T15:15:10.025Z"
   },
   {
    "duration": 32,
    "start_time": "2022-05-16T15:15:10.054Z"
   },
   {
    "duration": 39,
    "start_time": "2022-05-16T15:15:10.088Z"
   },
   {
    "duration": 9,
    "start_time": "2022-05-16T15:15:10.129Z"
   },
   {
    "duration": 24,
    "start_time": "2022-05-16T15:15:10.139Z"
   },
   {
    "duration": 39,
    "start_time": "2022-05-16T15:15:10.165Z"
   },
   {
    "duration": 25,
    "start_time": "2022-05-16T15:15:10.205Z"
   },
   {
    "duration": 16,
    "start_time": "2022-05-16T15:15:10.231Z"
   },
   {
    "duration": 22,
    "start_time": "2022-05-16T15:15:10.249Z"
   },
   {
    "duration": 27,
    "start_time": "2022-05-16T15:15:10.273Z"
   },
   {
    "duration": 13,
    "start_time": "2022-05-16T15:15:10.302Z"
   },
   {
    "duration": 38,
    "start_time": "2022-05-16T15:15:10.317Z"
   },
   {
    "duration": 29,
    "start_time": "2022-05-16T15:15:10.356Z"
   },
   {
    "duration": 20,
    "start_time": "2022-05-16T15:15:10.387Z"
   },
   {
    "duration": 33,
    "start_time": "2022-05-16T15:15:10.411Z"
   },
   {
    "duration": 29,
    "start_time": "2022-05-16T15:15:10.446Z"
   },
   {
    "duration": 14,
    "start_time": "2022-05-16T15:15:10.477Z"
   },
   {
    "duration": 19,
    "start_time": "2022-05-16T15:15:10.493Z"
   },
   {
    "duration": 18,
    "start_time": "2022-05-16T15:15:10.544Z"
   },
   {
    "duration": 3,
    "start_time": "2022-05-16T15:15:10.564Z"
   },
   {
    "duration": 43,
    "start_time": "2022-05-16T15:15:10.569Z"
   },
   {
    "duration": 33,
    "start_time": "2022-05-16T15:15:10.614Z"
   },
   {
    "duration": 15,
    "start_time": "2022-05-16T15:15:10.649Z"
   },
   {
    "duration": 9,
    "start_time": "2022-05-16T15:15:10.665Z"
   },
   {
    "duration": 5,
    "start_time": "2022-05-16T15:15:10.675Z"
   },
   {
    "duration": 9171,
    "start_time": "2022-05-16T15:15:10.681Z"
   },
   {
    "duration": 7,
    "start_time": "2022-05-16T15:15:19.854Z"
   },
   {
    "duration": 16,
    "start_time": "2022-05-16T15:15:19.862Z"
   },
   {
    "duration": 8,
    "start_time": "2022-05-16T15:15:19.880Z"
   },
   {
    "duration": 9,
    "start_time": "2022-05-16T15:15:19.890Z"
   },
   {
    "duration": 6,
    "start_time": "2022-05-16T15:15:19.900Z"
   },
   {
    "duration": 6,
    "start_time": "2022-05-16T15:15:19.908Z"
   },
   {
    "duration": 31,
    "start_time": "2022-05-16T15:15:19.916Z"
   },
   {
    "duration": 5,
    "start_time": "2022-05-16T15:15:19.949Z"
   },
   {
    "duration": 6,
    "start_time": "2022-05-16T15:15:19.956Z"
   },
   {
    "duration": 11,
    "start_time": "2022-05-16T15:15:19.964Z"
   },
   {
    "duration": 10,
    "start_time": "2022-05-16T15:15:19.977Z"
   },
   {
    "duration": 24,
    "start_time": "2022-05-16T15:15:19.988Z"
   },
   {
    "duration": 208,
    "start_time": "2022-05-16T15:15:20.042Z"
   },
   {
    "duration": 6,
    "start_time": "2022-05-16T15:15:20.252Z"
   },
   {
    "duration": 11,
    "start_time": "2022-05-16T15:15:20.260Z"
   },
   {
    "duration": 22,
    "start_time": "2022-05-16T15:15:20.272Z"
   },
   {
    "duration": 15,
    "start_time": "2022-05-16T15:15:20.295Z"
   },
   {
    "duration": 36,
    "start_time": "2022-05-16T15:15:20.311Z"
   },
   {
    "duration": 14,
    "start_time": "2022-05-16T15:15:20.349Z"
   },
   {
    "duration": 1151,
    "start_time": "2022-05-16T16:53:06.800Z"
   },
   {
    "duration": 76,
    "start_time": "2022-05-16T16:53:07.953Z"
   },
   {
    "duration": 20,
    "start_time": "2022-05-16T16:53:08.031Z"
   },
   {
    "duration": 3,
    "start_time": "2022-05-16T16:53:08.054Z"
   },
   {
    "duration": 13,
    "start_time": "2022-05-16T16:53:08.060Z"
   },
   {
    "duration": 5,
    "start_time": "2022-05-16T16:53:08.075Z"
   },
   {
    "duration": 8,
    "start_time": "2022-05-16T16:53:08.082Z"
   },
   {
    "duration": 12,
    "start_time": "2022-05-16T16:53:08.091Z"
   },
   {
    "duration": 4,
    "start_time": "2022-05-16T16:53:08.105Z"
   },
   {
    "duration": 39,
    "start_time": "2022-05-16T16:53:08.111Z"
   },
   {
    "duration": 5,
    "start_time": "2022-05-16T16:53:08.152Z"
   },
   {
    "duration": 5,
    "start_time": "2022-05-16T16:53:08.159Z"
   },
   {
    "duration": 10,
    "start_time": "2022-05-16T16:53:08.165Z"
   },
   {
    "duration": 19,
    "start_time": "2022-05-16T16:53:08.178Z"
   },
   {
    "duration": 5,
    "start_time": "2022-05-16T16:53:08.198Z"
   },
   {
    "duration": 4,
    "start_time": "2022-05-16T16:53:08.204Z"
   },
   {
    "duration": 42,
    "start_time": "2022-05-16T16:53:08.209Z"
   },
   {
    "duration": 6,
    "start_time": "2022-05-16T16:53:08.253Z"
   },
   {
    "duration": 5,
    "start_time": "2022-05-16T16:53:08.260Z"
   },
   {
    "duration": 6,
    "start_time": "2022-05-16T16:53:08.267Z"
   },
   {
    "duration": 14,
    "start_time": "2022-05-16T16:53:08.274Z"
   },
   {
    "duration": 3,
    "start_time": "2022-05-16T16:53:08.289Z"
   },
   {
    "duration": 49,
    "start_time": "2022-05-16T16:53:08.294Z"
   },
   {
    "duration": 20,
    "start_time": "2022-05-16T16:53:08.345Z"
   },
   {
    "duration": 17,
    "start_time": "2022-05-16T16:53:08.367Z"
   },
   {
    "duration": 15,
    "start_time": "2022-05-16T16:53:08.385Z"
   },
   {
    "duration": 54,
    "start_time": "2022-05-16T16:53:08.402Z"
   },
   {
    "duration": 12,
    "start_time": "2022-05-16T16:53:08.458Z"
   },
   {
    "duration": 15,
    "start_time": "2022-05-16T16:53:08.472Z"
   },
   {
    "duration": 17,
    "start_time": "2022-05-16T16:53:08.489Z"
   },
   {
    "duration": 4,
    "start_time": "2022-05-16T16:53:08.508Z"
   },
   {
    "duration": 40,
    "start_time": "2022-05-16T16:53:08.544Z"
   },
   {
    "duration": 18,
    "start_time": "2022-05-16T16:53:08.585Z"
   },
   {
    "duration": 39,
    "start_time": "2022-05-16T16:53:08.605Z"
   },
   {
    "duration": 11,
    "start_time": "2022-05-16T16:53:08.646Z"
   },
   {
    "duration": 5,
    "start_time": "2022-05-16T16:53:08.659Z"
   },
   {
    "duration": 9036,
    "start_time": "2022-05-16T16:53:08.666Z"
   },
   {
    "duration": 8,
    "start_time": "2022-05-16T16:53:17.704Z"
   },
   {
    "duration": 18,
    "start_time": "2022-05-16T16:53:17.713Z"
   },
   {
    "duration": 5,
    "start_time": "2022-05-16T16:53:17.732Z"
   },
   {
    "duration": 16,
    "start_time": "2022-05-16T16:53:17.747Z"
   },
   {
    "duration": 15,
    "start_time": "2022-05-16T16:53:17.766Z"
   },
   {
    "duration": 18,
    "start_time": "2022-05-16T16:53:17.783Z"
   },
   {
    "duration": 19,
    "start_time": "2022-05-16T16:53:17.802Z"
   },
   {
    "duration": 7,
    "start_time": "2022-05-16T16:53:17.823Z"
   },
   {
    "duration": 9,
    "start_time": "2022-05-16T16:53:17.831Z"
   },
   {
    "duration": 15,
    "start_time": "2022-05-16T16:53:17.842Z"
   },
   {
    "duration": 10,
    "start_time": "2022-05-16T16:53:17.859Z"
   },
   {
    "duration": 30,
    "start_time": "2022-05-16T16:53:17.871Z"
   },
   {
    "duration": 320,
    "start_time": "2022-05-16T16:53:17.903Z"
   },
   {
    "duration": 8,
    "start_time": "2022-05-16T16:53:18.225Z"
   },
   {
    "duration": 6,
    "start_time": "2022-05-16T16:53:18.244Z"
   },
   {
    "duration": 18,
    "start_time": "2022-05-16T16:53:18.253Z"
   },
   {
    "duration": 14,
    "start_time": "2022-05-16T16:53:18.273Z"
   },
   {
    "duration": 18,
    "start_time": "2022-05-16T16:53:18.289Z"
   },
   {
    "duration": 48,
    "start_time": "2022-05-16T16:53:18.309Z"
   }
  ],
  "kernelspec": {
   "display_name": "Python 3 (ipykernel)",
   "language": "python",
   "name": "python3"
  },
  "language_info": {
   "codemirror_mode": {
    "name": "ipython",
    "version": 3
   },
   "file_extension": ".py",
   "mimetype": "text/x-python",
   "name": "python",
   "nbconvert_exporter": "python",
   "pygments_lexer": "ipython3",
   "version": "3.9.7"
  },
  "toc": {
   "base_numbering": 1,
   "nav_menu": {},
   "number_sections": true,
   "sideBar": true,
   "skip_h1_title": true,
   "title_cell": "Table of Contents",
   "title_sidebar": "Contents",
   "toc_cell": false,
   "toc_position": {},
   "toc_section_display": true,
   "toc_window_display": false
  }
 },
 "nbformat": 4,
 "nbformat_minor": 5
}

{
 "cells": [
  {
   "cell_type": "markdown",
   "metadata": {},
   "source": [
    "#  Taxi order forecasting"
   ]
  },
  {
   "cell_type": "markdown",
   "metadata": {},
   "source": [
    "The Taxi company has collected data on taxi orders at airports. To attract more drivers during the peak period, it is needed to predict the number of taxi orders for the next hour. A model for such a prediction must be built.\n",
    "\n",
    "The value of the *RMSE* metric on the test set should not exceed 48.\n",
    "\n",
    "**It is necessary:**\n",
    "\n",
    "1. Load the data and resample it one hour at a time.\n",
    "2. Analyze the data.\n",
    "3. Train different models with different hyperparameters. Make a test sample of 10% of the original data.\n",
    "4. Check the data on the test sample and draw conclusions.\n",
    "\n",
    "\n",
    "The data is in the `taxi.csv` file. The number of orders is in the `num_orders` column.\n"
   ]
  },
  {
   "cell_type": "markdown",
   "metadata": {},
   "source": [
    "## Data overview and preparation"
   ]
  },
  {
   "cell_type": "code",
   "execution_count": 1,
   "id": "3bb83744",
   "metadata": {},
   "outputs": [],
   "source": [
    "import pandas as pd\n",
    "import numpy as np\n",
    "import matplotlib.pyplot as plt\n",
    "\n",
    "from statsmodels.tsa.seasonal import seasonal_decompose\n",
    "from sklearn.model_selection import train_test_split\n",
    "from sklearn.linear_model import LinearRegression\n",
    "from catboost import CatBoostRegressor, CatBoostClassifier, Pool\n",
    "from sklearn.ensemble import RandomForestRegressor\n",
    "from lightgbm import LGBMRegressor\n",
    "from sklearn.model_selection import GridSearchCV, TimeSeriesSplit\n",
    "from sklearn.metrics import mean_squared_error\n",
    "from sklearn.metrics import make_scorer\n",
    "from sklearn.model_selection import cross_val_score\n",
    "\n",
    "import warnings\n",
    "warnings.filterwarnings('ignore')"
   ]
  },
  {
   "cell_type": "markdown",
   "id": "d2ec5509",
   "metadata": {},
   "source": [
    "Let's load the data and pass a new parse_dates argument."
   ]
  },
  {
   "cell_type": "code",
   "execution_count": 2,
   "id": "6d7d2d8b",
   "metadata": {},
   "outputs": [],
   "source": [
    "try:\n",
    "    df = pd.read_csv('/datasets/taxi.csv', index_col=[0], parse_dates=[0])\n",
    "except:\n",
    "    df = pd.read_csv('taxi.csv',  index_col=[0], parse_dates=[0])"
   ]
  },
  {
   "cell_type": "code",
   "execution_count": 3,
   "id": "55472fbe",
   "metadata": {},
   "outputs": [
    {
     "name": "stdout",
     "output_type": "stream",
     "text": [
      "<class 'pandas.core.frame.DataFrame'>\n",
      "DatetimeIndex: 26496 entries, 2018-03-01 00:00:00 to 2018-08-31 23:50:00\n",
      "Data columns (total 1 columns):\n",
      " #   Column      Non-Null Count  Dtype\n",
      "---  ------      --------------  -----\n",
      " 0   num_orders  26496 non-null  int64\n",
      "dtypes: int64(1)\n",
      "memory usage: 414.0 KB\n",
      "====================================================================================================\n"
     ]
    },
    {
     "data": {
      "text/html": [
       "<div>\n",
       "<style scoped>\n",
       "    .dataframe tbody tr th:only-of-type {\n",
       "        vertical-align: middle;\n",
       "    }\n",
       "\n",
       "    .dataframe tbody tr th {\n",
       "        vertical-align: top;\n",
       "    }\n",
       "\n",
       "    .dataframe thead th {\n",
       "        text-align: right;\n",
       "    }\n",
       "</style>\n",
       "<table border=\"1\" class=\"dataframe\">\n",
       "  <thead>\n",
       "    <tr style=\"text-align: right;\">\n",
       "      <th></th>\n",
       "      <th>num_orders</th>\n",
       "    </tr>\n",
       "  </thead>\n",
       "  <tbody>\n",
       "    <tr>\n",
       "      <th>count</th>\n",
       "      <td>26496.000000</td>\n",
       "    </tr>\n",
       "    <tr>\n",
       "      <th>mean</th>\n",
       "      <td>14.070463</td>\n",
       "    </tr>\n",
       "    <tr>\n",
       "      <th>std</th>\n",
       "      <td>9.211330</td>\n",
       "    </tr>\n",
       "    <tr>\n",
       "      <th>min</th>\n",
       "      <td>0.000000</td>\n",
       "    </tr>\n",
       "    <tr>\n",
       "      <th>25%</th>\n",
       "      <td>8.000000</td>\n",
       "    </tr>\n",
       "    <tr>\n",
       "      <th>50%</th>\n",
       "      <td>13.000000</td>\n",
       "    </tr>\n",
       "    <tr>\n",
       "      <th>75%</th>\n",
       "      <td>19.000000</td>\n",
       "    </tr>\n",
       "    <tr>\n",
       "      <th>max</th>\n",
       "      <td>119.000000</td>\n",
       "    </tr>\n",
       "  </tbody>\n",
       "</table>\n",
       "</div>"
      ],
      "text/plain": [
       "         num_orders\n",
       "count  26496.000000\n",
       "mean      14.070463\n",
       "std        9.211330\n",
       "min        0.000000\n",
       "25%        8.000000\n",
       "50%       13.000000\n",
       "75%       19.000000\n",
       "max      119.000000"
      ]
     },
     "metadata": {},
     "output_type": "display_data"
    },
    {
     "name": "stdout",
     "output_type": "stream",
     "text": [
      "====================================================================================================\n"
     ]
    },
    {
     "data": {
      "text/html": [
       "<div>\n",
       "<style scoped>\n",
       "    .dataframe tbody tr th:only-of-type {\n",
       "        vertical-align: middle;\n",
       "    }\n",
       "\n",
       "    .dataframe tbody tr th {\n",
       "        vertical-align: top;\n",
       "    }\n",
       "\n",
       "    .dataframe thead th {\n",
       "        text-align: right;\n",
       "    }\n",
       "</style>\n",
       "<table border=\"1\" class=\"dataframe\">\n",
       "  <thead>\n",
       "    <tr style=\"text-align: right;\">\n",
       "      <th></th>\n",
       "      <th>num_orders</th>\n",
       "    </tr>\n",
       "    <tr>\n",
       "      <th>datetime</th>\n",
       "      <th></th>\n",
       "    </tr>\n",
       "  </thead>\n",
       "  <tbody>\n",
       "    <tr>\n",
       "      <th>2018-03-01 00:00:00</th>\n",
       "      <td>9</td>\n",
       "    </tr>\n",
       "    <tr>\n",
       "      <th>2018-03-01 00:10:00</th>\n",
       "      <td>14</td>\n",
       "    </tr>\n",
       "    <tr>\n",
       "      <th>2018-03-01 00:20:00</th>\n",
       "      <td>28</td>\n",
       "    </tr>\n",
       "    <tr>\n",
       "      <th>2018-03-01 00:30:00</th>\n",
       "      <td>20</td>\n",
       "    </tr>\n",
       "    <tr>\n",
       "      <th>2018-03-01 00:40:00</th>\n",
       "      <td>32</td>\n",
       "    </tr>\n",
       "  </tbody>\n",
       "</table>\n",
       "</div>"
      ],
      "text/plain": [
       "                     num_orders\n",
       "datetime                       \n",
       "2018-03-01 00:00:00           9\n",
       "2018-03-01 00:10:00          14\n",
       "2018-03-01 00:20:00          28\n",
       "2018-03-01 00:30:00          20\n",
       "2018-03-01 00:40:00          32"
      ]
     },
     "metadata": {},
     "output_type": "display_data"
    },
    {
     "name": "stdout",
     "output_type": "stream",
     "text": [
      "====================================================================================================\n"
     ]
    },
    {
     "data": {
      "text/plain": [
       "'Shape: (26496, 1)'"
      ]
     },
     "metadata": {},
     "output_type": "display_data"
    },
    {
     "name": "stdout",
     "output_type": "stream",
     "text": [
      "====================================================================================================\n",
      "Number of null values: num_orders    0.0\n",
      "dtype: float64\n"
     ]
    }
   ],
   "source": [
    "def info(df):\n",
    "    df.info()\n",
    "    print(100*'=')\n",
    "    display(df.describe())\n",
    "    print(100*'=')\n",
    "    display(df.head())\n",
    "    print(100*'=')\n",
    "    display(f'Shape: {df.shape}')\n",
    "    print(100*'=')\n",
    "    print(f'Number of null values: {df.isna().mean()}')\n",
    "\n",
    "    \n",
    "info(df) "
   ]
  },
  {
   "cell_type": "markdown",
   "id": "5a294a21",
   "metadata": {},
   "source": [
    "Установим индекс. "
   ]
  },
  {
   "cell_type": "code",
   "execution_count": 4,
   "id": "6e61f96f",
   "metadata": {},
   "outputs": [],
   "source": [
    "df.sort_index(inplace=True)"
   ]
  },
  {
   "cell_type": "code",
   "execution_count": 5,
   "id": "da557dd8",
   "metadata": {},
   "outputs": [
    {
     "data": {
      "text/html": [
       "<div>\n",
       "<style scoped>\n",
       "    .dataframe tbody tr th:only-of-type {\n",
       "        vertical-align: middle;\n",
       "    }\n",
       "\n",
       "    .dataframe tbody tr th {\n",
       "        vertical-align: top;\n",
       "    }\n",
       "\n",
       "    .dataframe thead th {\n",
       "        text-align: right;\n",
       "    }\n",
       "</style>\n",
       "<table border=\"1\" class=\"dataframe\">\n",
       "  <thead>\n",
       "    <tr style=\"text-align: right;\">\n",
       "      <th></th>\n",
       "      <th>num_orders</th>\n",
       "    </tr>\n",
       "    <tr>\n",
       "      <th>datetime</th>\n",
       "      <th></th>\n",
       "    </tr>\n",
       "  </thead>\n",
       "  <tbody>\n",
       "    <tr>\n",
       "      <th>2018-03-01 00:00:00</th>\n",
       "      <td>9</td>\n",
       "    </tr>\n",
       "    <tr>\n",
       "      <th>2018-03-01 00:10:00</th>\n",
       "      <td>14</td>\n",
       "    </tr>\n",
       "    <tr>\n",
       "      <th>2018-03-01 00:20:00</th>\n",
       "      <td>28</td>\n",
       "    </tr>\n",
       "    <tr>\n",
       "      <th>2018-03-01 00:30:00</th>\n",
       "      <td>20</td>\n",
       "    </tr>\n",
       "    <tr>\n",
       "      <th>2018-03-01 00:40:00</th>\n",
       "      <td>32</td>\n",
       "    </tr>\n",
       "  </tbody>\n",
       "</table>\n",
       "</div>"
      ],
      "text/plain": [
       "                     num_orders\n",
       "datetime                       \n",
       "2018-03-01 00:00:00           9\n",
       "2018-03-01 00:10:00          14\n",
       "2018-03-01 00:20:00          28\n",
       "2018-03-01 00:30:00          20\n",
       "2018-03-01 00:40:00          32"
      ]
     },
     "execution_count": 5,
     "metadata": {},
     "output_type": "execute_result"
    }
   ],
   "source": [
    "df.head()"
   ]
  },
  {
   "cell_type": "code",
   "execution_count": 6,
   "id": "11eeb54d",
   "metadata": {
    "scrolled": false
   },
   "outputs": [
    {
     "name": "stdout",
     "output_type": "stream",
     "text": [
      "The table index attribute is monotonic: True\n"
     ]
    }
   ],
   "source": [
    "print(f'The table index attribute is monotonic: {df.index.is_monotonic}')"
   ]
  },
  {
   "cell_type": "markdown",
   "metadata": {},
   "source": [
    "After the initial study of the data, we have at our disposal data with a volume of more than 26 thousand unique values. The first column shows the date, the second the number of orders.\n",
    "\n",
    "The data in the `datetime` column was immediately converted to the correct format.\n",
    "\n",
    "An index has been set."
   ]
  },
  {
   "cell_type": "markdown",
   "metadata": {},
   "source": [
    "## Analysis"
   ]
  },
  {
   "cell_type": "markdown",
   "id": "a8a9503f",
   "metadata": {},
   "source": [
    "Resampling one hour at a time."
   ]
  },
  {
   "cell_type": "code",
   "execution_count": 7,
   "id": "47fbc0aa",
   "metadata": {},
   "outputs": [],
   "source": [
    "df = df.resample(\"1H\").sum()"
   ]
  },
  {
   "cell_type": "code",
   "execution_count": 8,
   "metadata": {},
   "outputs": [
    {
     "data": {
      "text/html": [
       "<div>\n",
       "<style scoped>\n",
       "    .dataframe tbody tr th:only-of-type {\n",
       "        vertical-align: middle;\n",
       "    }\n",
       "\n",
       "    .dataframe tbody tr th {\n",
       "        vertical-align: top;\n",
       "    }\n",
       "\n",
       "    .dataframe thead th {\n",
       "        text-align: right;\n",
       "    }\n",
       "</style>\n",
       "<table border=\"1\" class=\"dataframe\">\n",
       "  <thead>\n",
       "    <tr style=\"text-align: right;\">\n",
       "      <th></th>\n",
       "      <th>num_orders</th>\n",
       "    </tr>\n",
       "    <tr>\n",
       "      <th>datetime</th>\n",
       "      <th></th>\n",
       "    </tr>\n",
       "  </thead>\n",
       "  <tbody>\n",
       "    <tr>\n",
       "      <th>2018-03-01 00:00:00</th>\n",
       "      <td>124</td>\n",
       "    </tr>\n",
       "    <tr>\n",
       "      <th>2018-03-01 01:00:00</th>\n",
       "      <td>85</td>\n",
       "    </tr>\n",
       "    <tr>\n",
       "      <th>2018-03-01 02:00:00</th>\n",
       "      <td>71</td>\n",
       "    </tr>\n",
       "    <tr>\n",
       "      <th>2018-03-01 03:00:00</th>\n",
       "      <td>66</td>\n",
       "    </tr>\n",
       "    <tr>\n",
       "      <th>2018-03-01 04:00:00</th>\n",
       "      <td>43</td>\n",
       "    </tr>\n",
       "  </tbody>\n",
       "</table>\n",
       "</div>"
      ],
      "text/plain": [
       "                     num_orders\n",
       "datetime                       \n",
       "2018-03-01 00:00:00         124\n",
       "2018-03-01 01:00:00          85\n",
       "2018-03-01 02:00:00          71\n",
       "2018-03-01 03:00:00          66\n",
       "2018-03-01 04:00:00          43"
      ]
     },
     "execution_count": 8,
     "metadata": {},
     "output_type": "execute_result"
    }
   ],
   "source": [
    "df.head()"
   ]
  },
  {
   "cell_type": "markdown",
   "id": "f7c3c981",
   "metadata": {},
   "source": [
    "Plotting a time series."
   ]
  },
  {
   "cell_type": "code",
   "execution_count": 9,
   "id": "60b61511",
   "metadata": {},
   "outputs": [
    {
     "data": {
      "image/png": "[encoded data removed]",
      "text/plain": [
       "<Figure size 432x288 with 1 Axes>"
      ]
     },
     "metadata": {
      "needs_background": "light"
     },
     "output_type": "display_data"
    }
   ],
   "source": [
    "df.plot();"
   ]
  },
  {
   "cell_type": "code",
   "execution_count": 10,
   "metadata": {},
   "outputs": [
    {
     "data": {
      "image/png": "[encoded data removed]",
      "text/plain": [
       "<Figure size 432x288 with 1 Axes>"
      ]
     },
     "metadata": {
      "needs_background": "light"
     },
     "output_type": "display_data"
    }
   ],
   "source": [
    "df['2018-03-01 00:00:00' : '2018-03-01 23:00:00'].plot();"
   ]
  },
  {
   "cell_type": "markdown",
   "metadata": {},
   "source": [
    "It can be concluded that the data is relatively stable, but there is a gradual increase in the number of orders in the summer and at night and in the morning. "
   ]
  },
  {
   "cell_type": "markdown",
   "id": "cd04211a",
   "metadata": {},
   "source": [
    "Adding mean rolling which equals 30."
   ]
  },
  {
   "cell_type": "code",
   "execution_count": 11,
   "metadata": {},
   "outputs": [],
   "source": [
    "new_df = df - df.shift()"
   ]
  },
  {
   "cell_type": "code",
   "execution_count": 12,
   "metadata": {},
   "outputs": [],
   "source": [
    "new_df['rolling_mean'] = new_df.rolling(30).mean()"
   ]
  },
  {
   "cell_type": "code",
   "execution_count": 13,
   "metadata": {},
   "outputs": [],
   "source": [
    "new_df['rolling_std'] = new_df['num_orders'].rolling(30).std()"
   ]
  },
  {
   "cell_type": "markdown",
   "metadata": {},
   "source": [
    "Studying trends and seasonality."
   ]
  },
  {
   "cell_type": "code",
   "execution_count": 14,
   "metadata": {},
   "outputs": [
    {
     "data": {
      "image/png": "[encoded data removed]",
      "text/plain": [
       "<Figure size 432x576 with 3 Axes>"
      ]
     },
     "metadata": {
      "needs_background": "light"
     },
     "output_type": "display_data"
    }
   ],
   "source": [
    "decomposed = seasonal_decompose(new_df['num_orders'].resample('1H').sum()) \n",
    "\n",
    "plt.figure(figsize=(6, 8))\n",
    "plt.subplot(311)\n",
    "decomposed.trend.plot(ax=plt.gca())\n",
    "plt.title('Trend')\n",
    "plt.xlabel('Time')\n",
    "plt.subplot(312)\n",
    "decomposed.seasonal['2018-05-01':'2018-05-07'].plot(ax=plt.gca())\n",
    "plt.title('Seasonality')\n",
    "plt.xlabel('Time')\n",
    "plt.subplot(313)\n",
    "decomposed.resid.plot(ax=plt.gca())\n",
    "plt.title('Residuals')\n",
    "plt.xlabel('Time')\n",
    "plt.tight_layout()"
   ]
  },
  {
   "cell_type": "markdown",
   "metadata": {},
   "source": [
    "A trend of increasing the number of orders in the summer can be observed."
   ]
  },
  {
   "cell_type": "markdown",
   "id": "1008a67d",
   "metadata": {},
   "source": [
    "Calculating the time series differences and building a graph."
   ]
  },
  {
   "cell_type": "raw",
   "metadata": {
    "scrolled": true
   },
   "source": [
    "new_df = df - df.shift()\n",
    "new_df['mean'] = new_df['num_orders'].rolling(25).mean()\n",
    "new_df['std'] = new_df['num_orders'].rolling(25).std()\n",
    "new_df.plot();"
   ]
  },
  {
   "cell_type": "markdown",
   "metadata": {},
   "source": [
    "Time series is stationary."
   ]
  },
  {
   "cell_type": "markdown",
   "metadata": {},
   "source": [
    "## Model training"
   ]
  },
  {
   "cell_type": "markdown",
   "id": "8fe84fed",
   "metadata": {},
   "source": [
    "Creating make_features. "
   ]
  },
  {
   "cell_type": "code",
   "execution_count": 15,
   "id": "b1354dcf",
   "metadata": {},
   "outputs": [],
   "source": [
    "def make_features(df, max_lag, rolling_mean_size):\n",
    "    df['year'] = df.index.year\n",
    "    df['month'] = df.index.month\n",
    "    df['day'] = df.index.day\n",
    "    df['dayofweek'] = df.index.dayofweek\n",
    "    \n",
    "    for lag in range(1, max_lag + 1):\n",
    "        df['lag_{}'.format(lag)] = df['num_orders'].shift(lag)\n",
    "\n",
    "    df['rolling_mean'] = df['num_orders'].shift().rolling(rolling_mean_size).mean()\n",
    "    "
   ]
  },
  {
   "cell_type": "code",
   "execution_count": 16,
   "id": "4ce04b62",
   "metadata": {},
   "outputs": [],
   "source": [
    "make_features(df, 20, 20)"
   ]
  },
  {
   "cell_type": "markdown",
   "id": "c3cf8e0e",
   "metadata": {},
   "source": [
    "Splitting the dataset into training and test sets.`"
   ]
  },
  {
   "cell_type": "code",
   "execution_count": 17,
   "id": "b1f3455f",
   "metadata": {},
   "outputs": [],
   "source": [
    "train, test = train_test_split(df, shuffle=False, test_size=0.1)\n",
    "train = train.dropna()\n",
    "test = test.dropna()"
   ]
  },
  {
   "cell_type": "code",
   "execution_count": 18,
   "id": "3222ceff",
   "metadata": {},
   "outputs": [],
   "source": [
    "features_train = train.drop(['num_orders'], axis=1)\n",
    "target_train = train['num_orders']\n",
    "features_test = test.drop(['num_orders'], axis=1)\n",
    "target_test = test['num_orders']"
   ]
  },
  {
   "cell_type": "code",
   "execution_count": 19,
   "id": "4e1e1e0e",
   "metadata": {},
   "outputs": [],
   "source": [
    "def best_model(model, params, features_train, target_train):\n",
    "    grid = GridSearchCV(model, param_grid = params, cv=splits,\n",
    "                                            scoring = 'neg_root_mean_squared_error', n_jobs=-1)\n",
    "    grid.fit(features_train,target_train)\n",
    "\n",
    "\n",
    "    return grid.best_score_*-1"
   ]
  },
  {
   "cell_type": "code",
   "execution_count": 20,
   "metadata": {},
   "outputs": [],
   "source": [
    "splits = TimeSeriesSplit(n_splits=4)"
   ]
  },
  {
   "cell_type": "markdown",
   "metadata": {},
   "source": [
    "The data is ready, let's move on to training. Random Forest, LightGBM, Catboost and linear regression models are chosen."
   ]
  },
  {
   "cell_type": "markdown",
   "metadata": {},
   "source": [
    "### RandomForest"
   ]
  },
  {
   "cell_type": "code",
   "execution_count": 21,
   "metadata": {},
   "outputs": [
    {
     "name": "stdout",
     "output_type": "stream",
     "text": [
      "CPU times: total: 2.67 s\n",
      "Wall time: 36.7 s\n"
     ]
    }
   ],
   "source": [
    "%%time\n",
    "rf_model = RandomForestRegressor(random_state=12345)\n",
    "forestregressor_params = {'n_estimators':range(10, 31, 10),\n",
    "             'max_depth':range (1,15)}\n",
    "forest = best_model(rf_model, forestregressor_params, features_train, target_train)"
   ]
  },
  {
   "cell_type": "code",
   "execution_count": 22,
   "metadata": {},
   "outputs": [
    {
     "name": "stdout",
     "output_type": "stream",
     "text": [
      "RMSE of Random Forest: 29.82\n"
     ]
    }
   ],
   "source": [
    "print(f'RMSE of Random Forest: {forest:.2f}')"
   ]
  },
  {
   "cell_type": "code",
   "execution_count": 23,
   "metadata": {},
   "outputs": [
    {
     "name": "stdout",
     "output_type": "stream",
     "text": [
      "CPU times: total: 6.22 s\n",
      "Wall time: 6.22 s\n"
     ]
    },
    {
     "data": {
      "text/plain": [
       "RandomForestRegressor(random_state=12345)"
      ]
     },
     "execution_count": 23,
     "metadata": {},
     "output_type": "execute_result"
    }
   ],
   "source": [
    "%%time\n",
    "rf_model.fit(features_train, target_train)"
   ]
  },
  {
   "cell_type": "code",
   "execution_count": 24,
   "metadata": {},
   "outputs": [
    {
     "name": "stdout",
     "output_type": "stream",
     "text": [
      "CPU times: total: 93.8 ms\n",
      "Wall time: 93.7 ms\n"
     ]
    },
    {
     "data": {
      "text/plain": [
       "array([ 62.7 ,  64.56, 100.3 , ..., 129.54, 100.5 , 112.9 ])"
      ]
     },
     "execution_count": 24,
     "metadata": {},
     "output_type": "execute_result"
    }
   ],
   "source": [
    "%%time \n",
    "rf_model.predict(features_train)"
   ]
  },
  {
   "cell_type": "markdown",
   "metadata": {},
   "source": [
    "### LGBM"
   ]
  },
  {
   "cell_type": "code",
   "execution_count": 25,
   "metadata": {},
   "outputs": [
    {
     "name": "stdout",
     "output_type": "stream",
     "text": [
      "CPU times: total: 1.22 s\n",
      "Wall time: 4.43 s\n"
     ]
    }
   ],
   "source": [
    "%%time\n",
    "model_lgbm = LGBMRegressor(random_state=12345)\n",
    "lgbm_params = {\n",
    "    'n_estimators': [10,100],\n",
    "    'max_depth': [1,30],\n",
    "    'num_leaves': [10,31],\n",
    "    'learning_rate': [0.1]\n",
    "}\n",
    "lgbm = best_model(model_lgbm, lgbm_params, features_train, target_train)"
   ]
  },
  {
   "cell_type": "code",
   "execution_count": 26,
   "metadata": {},
   "outputs": [
    {
     "name": "stdout",
     "output_type": "stream",
     "text": [
      "RMSE of LGBMRegressor: 29.29\n"
     ]
    }
   ],
   "source": [
    "print(f'RMSE of LGBMRegressor: {lgbm:.2f}')"
   ]
  },
  {
   "cell_type": "code",
   "execution_count": 27,
   "metadata": {},
   "outputs": [
    {
     "name": "stdout",
     "output_type": "stream",
     "text": [
      "CPU times: total: 953 ms\n",
      "Wall time: 252 ms\n"
     ]
    },
    {
     "data": {
      "text/plain": [
       "LGBMRegressor(random_state=12345)"
      ]
     },
     "execution_count": 27,
     "metadata": {},
     "output_type": "execute_result"
    }
   ],
   "source": [
    "%%time\n",
    "model_lgbm.fit(features_train, target_train)"
   ]
  },
  {
   "cell_type": "code",
   "execution_count": 28,
   "metadata": {},
   "outputs": [
    {
     "name": "stdout",
     "output_type": "stream",
     "text": [
      "CPU times: total: 125 ms\n",
      "Wall time: 29.5 ms\n"
     ]
    },
    {
     "data": {
      "text/plain": [
       "array([ 67.86344884,  68.95954793,  94.22121857, ..., 131.73374828,\n",
       "       108.23247632, 108.75455915])"
      ]
     },
     "execution_count": 28,
     "metadata": {},
     "output_type": "execute_result"
    }
   ],
   "source": [
    "%%time \n",
    "model_lgbm.predict(features_train)"
   ]
  },
  {
   "cell_type": "markdown",
   "metadata": {},
   "source": [
    "### Catboost"
   ]
  },
  {
   "cell_type": "code",
   "execution_count": 29,
   "metadata": {},
   "outputs": [
    {
     "name": "stdout",
     "output_type": "stream",
     "text": [
      "CPU times: total: 703 ms\n",
      "Wall time: 29min 28s\n"
     ]
    }
   ],
   "source": [
    "%%time\n",
    "model_catboost = CatBoostRegressor(random_state=42,silent=True)\n",
    "catboost_params = {\n",
    "    'learning_rate': [0.1],\n",
    "    'iterations': [10,100],\n",
    "    'max_depth': [1,15]\n",
    "}\n",
    "catboost = best_model(model_catboost, catboost_params, features_train, target_train)"
   ]
  },
  {
   "cell_type": "code",
   "execution_count": 30,
   "metadata": {},
   "outputs": [
    {
     "name": "stdout",
     "output_type": "stream",
     "text": [
      "RMSE of CatBoostRegressor: 32.70\n"
     ]
    }
   ],
   "source": [
    "print(f'RMSE of CatBoostRegressor: {catboost:.2f}')"
   ]
  },
  {
   "cell_type": "code",
   "execution_count": 31,
   "metadata": {},
   "outputs": [
    {
     "name": "stdout",
     "output_type": "stream",
     "text": [
      "CPU times: total: 34.7 s\n",
      "Wall time: 17.2 s\n"
     ]
    },
    {
     "data": {
      "text/plain": [
       "<catboost.core.CatBoostRegressor at 0x18e01a8ac70>"
      ]
     },
     "execution_count": 31,
     "metadata": {},
     "output_type": "execute_result"
    }
   ],
   "source": [
    "%%time\n",
    "model_catboost.fit(features_train, target_train)"
   ]
  },
  {
   "cell_type": "code",
   "execution_count": 32,
   "metadata": {},
   "outputs": [
    {
     "name": "stdout",
     "output_type": "stream",
     "text": [
      "CPU times: total: 46.9 ms\n",
      "Wall time: 27.1 ms\n"
     ]
    },
    {
     "data": {
      "text/plain": [
       "array([ 68.71900269,  61.09553623,  96.62116715, ..., 136.20875661,\n",
       "       100.47964725, 109.77206663])"
      ]
     },
     "execution_count": 32,
     "metadata": {},
     "output_type": "execute_result"
    }
   ],
   "source": [
    "%%time\n",
    "model_catboost.predict(features_train)"
   ]
  },
  {
   "cell_type": "markdown",
   "metadata": {},
   "source": [
    "### Linear Regression"
   ]
  },
  {
   "cell_type": "code",
   "execution_count": 33,
   "metadata": {},
   "outputs": [
    {
     "name": "stdout",
     "output_type": "stream",
     "text": [
      "CPU times: total: 62.5 ms\n",
      "Wall time: 109 ms\n"
     ]
    },
    {
     "data": {
      "text/plain": [
       "LinearRegression()"
      ]
     },
     "execution_count": 33,
     "metadata": {},
     "output_type": "execute_result"
    }
   ],
   "source": [
    "%%time\n",
    "\n",
    "lr_model = LinearRegression()\n",
    "lr_model.fit(features_train, target_train)"
   ]
  },
  {
   "cell_type": "code",
   "execution_count": 34,
   "metadata": {},
   "outputs": [
    {
     "name": "stdout",
     "output_type": "stream",
     "text": [
      "CPU times: total: 31.2 ms\n",
      "Wall time: 15.6 ms\n"
     ]
    }
   ],
   "source": [
    "%%time\n",
    "\n",
    "lr_predictions = lr_model.predict(features_train)"
   ]
  },
  {
   "cell_type": "code",
   "execution_count": 35,
   "metadata": {},
   "outputs": [],
   "source": [
    "lr_rmse = np.mean(np.sqrt(-cross_val_score\n",
    "                          (lr_model, features_train, target_train, cv=splits, scoring=\"neg_mean_squared_error\")))"
   ]
  },
  {
   "cell_type": "code",
   "execution_count": 36,
   "metadata": {},
   "outputs": [
    {
     "name": "stdout",
     "output_type": "stream",
     "text": [
      "RMSE of LinearRegression: 31.58\n"
     ]
    }
   ],
   "source": [
    "print(f'RMSE of LinearRegression: {lr_rmse:.2f}') "
   ]
  },
  {
   "cell_type": "markdown",
   "metadata": {},
   "source": [
    "Models are trained, let's analyze them."
   ]
  },
  {
   "cell_type": "code",
   "execution_count": 37,
   "metadata": {},
   "outputs": [],
   "source": [
    "table = pd.DataFrame({\n",
    "    'model': ['RandomForest','LightGBM', 'Catboost', 'LinearRegression'],\n",
    "    'time_train' : ['3.85 s', '884 ms','3.17 s','5.14 ms' ] , \n",
    "    'time_prediction' : ['83.6 ms','89.7 ms', '5.15 s', '11.8 ms'],\n",
    "    'rmse': [forest, lgbm, catboost, lr_rmse]\n",
    "})\n"
   ]
  },
  {
   "cell_type": "code",
   "execution_count": 38,
   "metadata": {
    "scrolled": false
   },
   "outputs": [
    {
     "data": {
      "text/html": [
       "<div>\n",
       "<style scoped>\n",
       "    .dataframe tbody tr th:only-of-type {\n",
       "        vertical-align: middle;\n",
       "    }\n",
       "\n",
       "    .dataframe tbody tr th {\n",
       "        vertical-align: top;\n",
       "    }\n",
       "\n",
       "    .dataframe thead th {\n",
       "        text-align: right;\n",
       "    }\n",
       "</style>\n",
       "<table border=\"1\" class=\"dataframe\">\n",
       "  <thead>\n",
       "    <tr style=\"text-align: right;\">\n",
       "      <th></th>\n",
       "      <th>model</th>\n",
       "      <th>time_train</th>\n",
       "      <th>time_prediction</th>\n",
       "      <th>rmse</th>\n",
       "    </tr>\n",
       "  </thead>\n",
       "  <tbody>\n",
       "    <tr>\n",
       "      <th>0</th>\n",
       "      <td>RandomForest</td>\n",
       "      <td>3.85 s</td>\n",
       "      <td>83.6 ms</td>\n",
       "      <td>29.817495</td>\n",
       "    </tr>\n",
       "    <tr>\n",
       "      <th>1</th>\n",
       "      <td>LightGBM</td>\n",
       "      <td>884 ms</td>\n",
       "      <td>89.7 ms</td>\n",
       "      <td>29.290494</td>\n",
       "    </tr>\n",
       "    <tr>\n",
       "      <th>2</th>\n",
       "      <td>Catboost</td>\n",
       "      <td>3.17 s</td>\n",
       "      <td>5.15 s</td>\n",
       "      <td>32.699377</td>\n",
       "    </tr>\n",
       "    <tr>\n",
       "      <th>3</th>\n",
       "      <td>LinearRegression</td>\n",
       "      <td>5.14 ms</td>\n",
       "      <td>11.8 ms</td>\n",
       "      <td>31.582148</td>\n",
       "    </tr>\n",
       "  </tbody>\n",
       "</table>\n",
       "</div>"
      ],
      "text/plain": [
       "              model time_train time_prediction       rmse\n",
       "0      RandomForest     3.85 s         83.6 ms  29.817495\n",
       "1          LightGBM     884 ms         89.7 ms  29.290494\n",
       "2          Catboost     3.17 s          5.15 s  32.699377\n",
       "3  LinearRegression    5.14 ms         11.8 ms  31.582148"
      ]
     },
     "metadata": {},
     "output_type": "display_data"
    }
   ],
   "source": [
    "display(table)"
   ]
  },
  {
   "cell_type": "markdown",
   "metadata": {},
   "source": [
    "It can be seen that LightGBM is the model. Let's test it on a test sample."
   ]
  },
  {
   "cell_type": "markdown",
   "metadata": {},
   "source": [
    "## Testing"
   ]
  },
  {
   "cell_type": "code",
   "execution_count": 39,
   "metadata": {
    "scrolled": true
   },
   "outputs": [
    {
     "name": "stdout",
     "output_type": "stream",
     "text": [
      "CPU times: total: 31.2 ms\n",
      "Wall time: 15.6 ms\n"
     ]
    }
   ],
   "source": [
    "%%time\n",
    "\n",
    "lgbm_pred = model_lgbm.predict(features_test)"
   ]
  },
  {
   "cell_type": "code",
   "execution_count": 40,
   "metadata": {},
   "outputs": [
    {
     "name": "stdout",
     "output_type": "stream",
     "text": [
      "RMSE on test sample: 48\n"
     ]
    }
   ],
   "source": [
    "print('RMSE on test sample:', round(mean_squared_error(lgbm_pred, target_test) ** 0.5))"
   ]
  },
  {
   "cell_type": "markdown",
   "metadata": {},
   "source": [
    "## Summary."
   ]
  },
  {
   "cell_type": "markdown",
   "metadata": {},
   "source": [
    "In the course of the work, data were analyzed and models were built.\n",
    "\n",
    "- Resamplication was performed by the hour.\n",
    "- A seasonal increase in orders in the summer can be observed.\n",
    "- Our series is stationary, so it can be used for forecasting.\n",
    "- The following models have been selected: `RandomForest`, `LightGBM`, `Catboost` and `LinearRegression`.\n",
    "- The best result was shown by the LightGBM model. It trains fast and has a low RMSE.\n",
    "- After testing on a test sample, it showed a good result."
   ]
  }
 ],
 "metadata": {
  "ExecuteTimeLog": [
   {
    "duration": 1591,
    "start_time": "2022-09-22T11:40:59.415Z"
   },
   {
    "duration": 112,
    "start_time": "2022-09-22T11:41:26.550Z"
   },
   {
    "duration": 30,
    "start_time": "2022-09-22T11:41:27.298Z"
   },
   {
    "duration": 3,
    "start_time": "2022-09-22T11:41:28.951Z"
   },
   {
    "duration": 7,
    "start_time": "2022-09-22T11:41:29.643Z"
   },
   {
    "duration": 3,
    "start_time": "2022-09-22T11:41:30.757Z"
   },
   {
    "duration": 4,
    "start_time": "2022-09-22T11:43:21.819Z"
   },
   {
    "duration": 48,
    "start_time": "2022-09-22T11:43:22.223Z"
   },
   {
    "duration": 25,
    "start_time": "2022-09-22T11:43:22.386Z"
   },
   {
    "duration": 2,
    "start_time": "2022-09-22T11:43:22.832Z"
   },
   {
    "duration": 6,
    "start_time": "2022-09-22T11:43:23.075Z"
   },
   {
    "duration": 3,
    "start_time": "2022-09-22T11:43:23.277Z"
   },
   {
    "duration": 10,
    "start_time": "2022-09-22T11:43:24.155Z"
   },
   {
    "duration": 9,
    "start_time": "2022-09-22T11:43:24.377Z"
   },
   {
    "duration": 9,
    "start_time": "2022-09-22T11:43:24.587Z"
   },
   {
    "duration": 213,
    "start_time": "2022-09-22T11:43:24.986Z"
   },
   {
    "duration": 7,
    "start_time": "2022-09-22T11:43:25.362Z"
   },
   {
    "duration": 263,
    "start_time": "2022-09-22T11:43:25.550Z"
   },
   {
    "duration": 4,
    "start_time": "2022-09-22T11:43:25.910Z"
   },
   {
    "duration": 227,
    "start_time": "2022-09-22T11:43:26.057Z"
   },
   {
    "duration": 935,
    "start_time": "2022-09-22T11:43:26.286Z"
   },
   {
    "duration": 350,
    "start_time": "2022-09-22T11:43:27.223Z"
   },
   {
    "duration": 3,
    "start_time": "2022-09-22T11:47:06.451Z"
   },
   {
    "duration": 4,
    "start_time": "2022-09-22T11:47:43.341Z"
   },
   {
    "duration": 173,
    "start_time": "2022-09-22T11:48:13.732Z"
   },
   {
    "duration": 1446,
    "start_time": "2022-09-22T11:48:31.041Z"
   },
   {
    "duration": 49,
    "start_time": "2022-09-22T11:48:32.489Z"
   },
   {
    "duration": 31,
    "start_time": "2022-09-22T11:48:32.540Z"
   },
   {
    "duration": 4,
    "start_time": "2022-09-22T11:48:32.573Z"
   },
   {
    "duration": 15,
    "start_time": "2022-09-22T11:48:32.578Z"
   },
   {
    "duration": 5,
    "start_time": "2022-09-22T11:48:32.595Z"
   },
   {
    "duration": 8,
    "start_time": "2022-09-22T11:48:33.017Z"
   },
   {
    "duration": 9,
    "start_time": "2022-09-22T11:48:33.412Z"
   },
   {
    "duration": 9,
    "start_time": "2022-09-22T11:48:33.631Z"
   },
   {
    "duration": 220,
    "start_time": "2022-09-22T11:48:34.114Z"
   },
   {
    "duration": 6,
    "start_time": "2022-09-22T11:48:34.775Z"
   },
   {
    "duration": 206,
    "start_time": "2022-09-22T11:48:35.106Z"
   },
   {
    "duration": 5,
    "start_time": "2022-09-22T11:48:35.654Z"
   },
   {
    "duration": 259,
    "start_time": "2022-09-22T11:48:35.825Z"
   },
   {
    "duration": 855,
    "start_time": "2022-09-22T11:48:36.086Z"
   },
   {
    "duration": 350,
    "start_time": "2022-09-22T11:48:36.943Z"
   },
   {
    "duration": 4,
    "start_time": "2022-09-22T11:48:37.295Z"
   },
   {
    "duration": 9,
    "start_time": "2022-09-22T11:48:37.341Z"
   },
   {
    "duration": 7,
    "start_time": "2022-09-22T11:48:38.223Z"
   },
   {
    "duration": 5,
    "start_time": "2022-09-22T11:48:38.805Z"
   },
   {
    "duration": 3,
    "start_time": "2022-09-22T11:48:39.173Z"
   },
   {
    "duration": 183,
    "start_time": "2022-09-22T11:48:40.968Z"
   },
   {
    "duration": 28,
    "start_time": "2022-09-22T11:49:12.050Z"
   },
   {
    "duration": 27593,
    "start_time": "2022-09-22T11:49:19.489Z"
   },
   {
    "duration": 3,
    "start_time": "2022-09-22T11:50:10.535Z"
   },
   {
    "duration": 1968,
    "start_time": "2022-09-22T11:50:24.992Z"
   },
   {
    "duration": 90,
    "start_time": "2022-09-22T11:50:41.849Z"
   },
   {
    "duration": 23697,
    "start_time": "2022-09-22T11:52:03.449Z"
   },
   {
    "duration": 4,
    "start_time": "2022-09-22T11:52:37.545Z"
   },
   {
    "duration": 776,
    "start_time": "2022-09-22T11:52:38.467Z"
   },
   {
    "duration": 96,
    "start_time": "2022-09-22T11:52:39.245Z"
   },
   {
    "duration": 526575,
    "start_time": "2022-09-22T11:53:14.969Z"
   },
   {
    "duration": 3,
    "start_time": "2022-09-22T12:04:06.963Z"
   },
   {
    "duration": 2975,
    "start_time": "2022-09-22T12:04:07.927Z"
   },
   {
    "duration": 12,
    "start_time": "2022-09-22T12:04:11.064Z"
   },
   {
    "duration": 106,
    "start_time": "2022-09-22T12:04:14.854Z"
   },
   {
    "duration": 263,
    "start_time": "2022-09-22T12:04:27.135Z"
   },
   {
    "duration": 82,
    "start_time": "2022-09-22T12:05:06.050Z"
   },
   {
    "duration": 77,
    "start_time": "2022-09-22T12:05:26.694Z"
   },
   {
    "duration": 140,
    "start_time": "2022-09-22T12:09:46.202Z"
   },
   {
    "duration": 10,
    "start_time": "2022-09-22T12:09:50.940Z"
   },
   {
    "duration": 212,
    "start_time": "2022-09-22T12:10:04.693Z"
   },
   {
    "duration": 7,
    "start_time": "2022-09-22T12:10:10.928Z"
   },
   {
    "duration": 11,
    "start_time": "2022-09-22T12:10:45.181Z"
   },
   {
    "duration": 4,
    "start_time": "2022-09-22T12:11:07.032Z"
   },
   {
    "duration": 9,
    "start_time": "2022-09-22T12:11:15.796Z"
   },
   {
    "duration": 4,
    "start_time": "2022-09-22T12:11:45.587Z"
   },
   {
    "duration": 30,
    "start_time": "2022-09-22T12:11:53.107Z"
   },
   {
    "duration": 3,
    "start_time": "2022-09-22T12:12:18.835Z"
   },
   {
    "duration": 4,
    "start_time": "2022-09-22T12:12:37.767Z"
   },
   {
    "duration": 11,
    "start_time": "2022-09-22T12:12:38.784Z"
   },
   {
    "duration": 9,
    "start_time": "2022-09-22T12:13:12.878Z"
   },
   {
    "duration": 5,
    "start_time": "2022-09-22T12:13:26.157Z"
   },
   {
    "duration": 11,
    "start_time": "2022-09-22T12:13:41.005Z"
   },
   {
    "duration": 4,
    "start_time": "2022-09-22T12:13:41.074Z"
   },
   {
    "duration": 1578,
    "start_time": "2022-09-23T06:16:01.737Z"
   },
   {
    "duration": 116,
    "start_time": "2022-09-23T06:16:05.804Z"
   },
   {
    "duration": 29,
    "start_time": "2022-09-23T06:16:07.336Z"
   },
   {
    "duration": 3,
    "start_time": "2022-09-23T06:16:08.333Z"
   },
   {
    "duration": 7,
    "start_time": "2022-09-23T06:16:08.793Z"
   },
   {
    "duration": 3,
    "start_time": "2022-09-23T06:16:10.179Z"
   },
   {
    "duration": 9,
    "start_time": "2022-09-23T06:16:11.756Z"
   },
   {
    "duration": 8,
    "start_time": "2022-09-23T06:16:12.099Z"
   },
   {
    "duration": 8,
    "start_time": "2022-09-23T06:16:12.503Z"
   },
   {
    "duration": 238,
    "start_time": "2022-09-23T06:16:13.695Z"
   },
   {
    "duration": 6,
    "start_time": "2022-09-23T06:16:15.066Z"
   },
   {
    "duration": 285,
    "start_time": "2022-09-23T06:16:15.640Z"
   },
   {
    "duration": 5,
    "start_time": "2022-09-23T06:16:16.500Z"
   },
   {
    "duration": 194,
    "start_time": "2022-09-23T06:16:17.019Z"
   },
   {
    "duration": 117,
    "start_time": "2022-09-23T06:16:18.377Z"
   },
   {
    "duration": 675,
    "start_time": "2022-09-23T06:16:43.004Z"
   },
   {
    "duration": 395,
    "start_time": "2022-09-23T06:16:53.464Z"
   },
   {
    "duration": 4,
    "start_time": "2022-09-23T06:17:01.581Z"
   },
   {
    "duration": 10,
    "start_time": "2022-09-23T06:17:02.065Z"
   },
   {
    "duration": 7,
    "start_time": "2022-09-23T06:17:03.891Z"
   },
   {
    "duration": 5,
    "start_time": "2022-09-23T06:17:04.984Z"
   },
   {
    "duration": 4,
    "start_time": "2022-09-23T06:17:05.589Z"
   },
   {
    "duration": 26457,
    "start_time": "2022-09-23T06:17:19.825Z"
   },
   {
    "duration": 3,
    "start_time": "2022-09-23T06:17:46.284Z"
   },
   {
    "duration": 1864,
    "start_time": "2022-09-23T06:17:46.289Z"
   },
   {
    "duration": 93,
    "start_time": "2022-09-23T06:17:48.156Z"
   },
   {
    "duration": 53,
    "start_time": "2022-09-23T07:33:31.509Z"
   },
   {
    "duration": 1494,
    "start_time": "2022-09-23T08:20:36.238Z"
   },
   {
    "duration": 53,
    "start_time": "2022-09-23T08:20:37.733Z"
   },
   {
    "duration": 31,
    "start_time": "2022-09-23T08:20:37.788Z"
   },
   {
    "duration": 3,
    "start_time": "2022-09-23T08:20:37.821Z"
   },
   {
    "duration": 31,
    "start_time": "2022-09-23T08:20:37.825Z"
   },
   {
    "duration": 41,
    "start_time": "2022-09-23T08:20:37.858Z"
   },
   {
    "duration": 40,
    "start_time": "2022-09-23T08:20:37.901Z"
   },
   {
    "duration": 24,
    "start_time": "2022-09-23T08:20:37.943Z"
   },
   {
    "duration": 41,
    "start_time": "2022-09-23T08:20:37.968Z"
   },
   {
    "duration": 251,
    "start_time": "2022-09-23T08:20:38.011Z"
   },
   {
    "duration": 6,
    "start_time": "2022-09-23T08:20:38.263Z"
   },
   {
    "duration": 244,
    "start_time": "2022-09-23T08:20:38.276Z"
   },
   {
    "duration": 4,
    "start_time": "2022-09-23T08:20:38.522Z"
   },
   {
    "duration": 291,
    "start_time": "2022-09-23T08:20:38.528Z"
   },
   {
    "duration": 43,
    "start_time": "2022-09-23T08:20:38.821Z"
   },
   {
    "duration": 0,
    "start_time": "2022-09-23T08:20:38.866Z"
   },
   {
    "duration": 0,
    "start_time": "2022-09-23T08:20:38.868Z"
   },
   {
    "duration": 0,
    "start_time": "2022-09-23T08:20:38.869Z"
   },
   {
    "duration": 0,
    "start_time": "2022-09-23T08:20:38.870Z"
   },
   {
    "duration": 0,
    "start_time": "2022-09-23T08:20:38.871Z"
   },
   {
    "duration": 0,
    "start_time": "2022-09-23T08:20:38.872Z"
   },
   {
    "duration": 1,
    "start_time": "2022-09-23T08:20:38.872Z"
   },
   {
    "duration": 0,
    "start_time": "2022-09-23T08:20:38.874Z"
   },
   {
    "duration": 0,
    "start_time": "2022-09-23T08:20:38.875Z"
   },
   {
    "duration": 0,
    "start_time": "2022-09-23T08:20:38.876Z"
   },
   {
    "duration": 0,
    "start_time": "2022-09-23T08:20:38.877Z"
   },
   {
    "duration": 0,
    "start_time": "2022-09-23T08:20:38.878Z"
   },
   {
    "duration": 0,
    "start_time": "2022-09-23T08:20:38.879Z"
   },
   {
    "duration": 0,
    "start_time": "2022-09-23T08:20:38.880Z"
   },
   {
    "duration": 0,
    "start_time": "2022-09-23T08:20:38.881Z"
   },
   {
    "duration": 0,
    "start_time": "2022-09-23T08:20:38.882Z"
   },
   {
    "duration": 0,
    "start_time": "2022-09-23T08:20:38.884Z"
   },
   {
    "duration": 0,
    "start_time": "2022-09-23T08:20:38.885Z"
   },
   {
    "duration": 0,
    "start_time": "2022-09-23T08:20:38.887Z"
   },
   {
    "duration": 0,
    "start_time": "2022-09-23T08:20:38.888Z"
   },
   {
    "duration": 0,
    "start_time": "2022-09-23T08:20:38.889Z"
   },
   {
    "duration": 0,
    "start_time": "2022-09-23T08:20:38.890Z"
   },
   {
    "duration": 0,
    "start_time": "2022-09-23T08:20:38.892Z"
   },
   {
    "duration": 0,
    "start_time": "2022-09-23T08:20:38.893Z"
   },
   {
    "duration": 0,
    "start_time": "2022-09-23T08:20:38.894Z"
   },
   {
    "duration": 0,
    "start_time": "2022-09-23T08:20:38.896Z"
   },
   {
    "duration": 0,
    "start_time": "2022-09-23T08:20:38.897Z"
   },
   {
    "duration": 685,
    "start_time": "2022-09-23T08:20:53.379Z"
   },
   {
    "duration": 423,
    "start_time": "2022-09-23T08:23:15.145Z"
   },
   {
    "duration": 367,
    "start_time": "2022-09-23T08:25:50.494Z"
   },
   {
    "duration": 4,
    "start_time": "2022-09-23T08:26:01.314Z"
   },
   {
    "duration": 9,
    "start_time": "2022-09-23T08:26:02.118Z"
   },
   {
    "duration": 7,
    "start_time": "2022-09-23T08:26:03.360Z"
   },
   {
    "duration": 5,
    "start_time": "2022-09-23T08:26:04.298Z"
   },
   {
    "duration": 4,
    "start_time": "2022-09-23T08:26:05.304Z"
   },
   {
    "duration": 26989,
    "start_time": "2022-09-23T08:26:07.169Z"
   },
   {
    "duration": 3,
    "start_time": "2022-09-23T08:26:34.160Z"
   },
   {
    "duration": 2007,
    "start_time": "2022-09-23T08:26:34.164Z"
   },
   {
    "duration": 87,
    "start_time": "2022-09-23T08:26:36.178Z"
   },
   {
    "duration": 8213,
    "start_time": "2022-09-23T08:26:36.267Z"
   },
   {
    "duration": 3,
    "start_time": "2022-09-23T08:26:44.483Z"
   },
   {
    "duration": 993,
    "start_time": "2022-09-23T08:26:44.488Z"
   },
   {
    "duration": 99,
    "start_time": "2022-09-23T08:26:45.482Z"
   },
   {
    "duration": 534978,
    "start_time": "2022-09-23T08:26:45.582Z"
   },
   {
    "duration": 4,
    "start_time": "2022-09-23T08:35:40.563Z"
   },
   {
    "duration": 3150,
    "start_time": "2022-09-23T08:35:40.568Z"
   },
   {
    "duration": 10,
    "start_time": "2022-09-23T08:35:43.719Z"
   },
   {
    "duration": 9,
    "start_time": "2022-09-23T08:35:43.730Z"
   },
   {
    "duration": 44,
    "start_time": "2022-09-23T08:35:43.740Z"
   },
   {
    "duration": 138,
    "start_time": "2022-09-23T08:35:43.786Z"
   },
   {
    "duration": 10,
    "start_time": "2022-09-23T08:35:43.977Z"
   },
   {
    "duration": 9,
    "start_time": "2022-09-23T08:35:43.992Z"
   },
   {
    "duration": 83,
    "start_time": "2022-09-23T08:35:44.002Z"
   },
   {
    "duration": 0,
    "start_time": "2022-09-23T08:35:44.158Z"
   },
   {
    "duration": 176,
    "start_time": "2022-09-23T08:40:27.575Z"
   },
   {
    "duration": 200,
    "start_time": "2022-09-23T08:40:52.926Z"
   },
   {
    "duration": 4,
    "start_time": "2022-09-23T08:40:57.470Z"
   },
   {
    "duration": 188,
    "start_time": "2022-09-23T08:40:57.713Z"
   },
   {
    "duration": 4,
    "start_time": "2022-09-23T08:41:04.015Z"
   },
   {
    "duration": 193,
    "start_time": "2022-09-23T08:41:05.957Z"
   },
   {
    "duration": 4,
    "start_time": "2022-09-23T08:41:13.611Z"
   },
   {
    "duration": 203,
    "start_time": "2022-09-23T08:41:13.890Z"
   },
   {
    "duration": 1414,
    "start_time": "2022-09-23T08:41:42.665Z"
   },
   {
    "duration": 49,
    "start_time": "2022-09-23T08:41:44.081Z"
   },
   {
    "duration": 31,
    "start_time": "2022-09-23T08:41:44.132Z"
   },
   {
    "duration": 3,
    "start_time": "2022-09-23T08:41:44.164Z"
   },
   {
    "duration": 6,
    "start_time": "2022-09-23T08:41:44.176Z"
   },
   {
    "duration": 9,
    "start_time": "2022-09-23T08:41:44.183Z"
   },
   {
    "duration": 12,
    "start_time": "2022-09-23T08:41:44.193Z"
   },
   {
    "duration": 9,
    "start_time": "2022-09-23T08:41:44.206Z"
   },
   {
    "duration": 7,
    "start_time": "2022-09-23T08:41:44.217Z"
   },
   {
    "duration": 258,
    "start_time": "2022-09-23T08:41:44.226Z"
   },
   {
    "duration": 173,
    "start_time": "2022-09-23T08:41:44.486Z"
   },
   {
    "duration": 5,
    "start_time": "2022-09-23T08:41:44.661Z"
   },
   {
    "duration": 292,
    "start_time": "2022-09-23T08:41:44.667Z"
   },
   {
    "duration": 5,
    "start_time": "2022-09-23T08:41:44.960Z"
   },
   {
    "duration": 765,
    "start_time": "2022-09-23T08:41:44.976Z"
   },
   {
    "duration": 413,
    "start_time": "2022-09-23T08:41:45.743Z"
   },
   {
    "duration": 4,
    "start_time": "2022-09-23T08:41:46.158Z"
   },
   {
    "duration": 11,
    "start_time": "2022-09-23T08:41:46.178Z"
   },
   {
    "duration": 9,
    "start_time": "2022-09-23T08:41:46.190Z"
   },
   {
    "duration": 16,
    "start_time": "2022-09-23T08:41:46.200Z"
   },
   {
    "duration": 20,
    "start_time": "2022-09-23T08:41:46.218Z"
   },
   {
    "duration": 28122,
    "start_time": "2022-09-23T08:41:46.240Z"
   },
   {
    "duration": 4,
    "start_time": "2022-09-23T08:42:14.364Z"
   },
   {
    "duration": 2111,
    "start_time": "2022-09-23T08:42:14.377Z"
   },
   {
    "duration": 98,
    "start_time": "2022-09-23T08:42:16.490Z"
   },
   {
    "duration": 68287,
    "start_time": "2022-09-23T08:42:16.590Z"
   },
   {
    "duration": 3,
    "start_time": "2022-09-23T08:43:24.879Z"
   },
   {
    "duration": 999,
    "start_time": "2022-09-23T08:43:24.885Z"
   },
   {
    "duration": 98,
    "start_time": "2022-09-23T08:43:25.886Z"
   },
   {
    "duration": 526643,
    "start_time": "2022-09-23T08:43:25.986Z"
   },
   {
    "duration": 4,
    "start_time": "2022-09-23T08:52:12.630Z"
   },
   {
    "duration": 3177,
    "start_time": "2022-09-23T08:52:12.635Z"
   },
   {
    "duration": 10,
    "start_time": "2022-09-23T08:52:15.813Z"
   },
   {
    "duration": 8,
    "start_time": "2022-09-23T08:52:15.825Z"
   },
   {
    "duration": 145,
    "start_time": "2022-09-23T08:52:15.835Z"
   },
   {
    "duration": 99,
    "start_time": "2022-09-23T08:52:15.993Z"
   },
   {
    "duration": 4,
    "start_time": "2022-09-23T08:52:16.096Z"
   },
   {
    "duration": 78,
    "start_time": "2022-09-23T08:52:16.101Z"
   },
   {
    "duration": 14,
    "start_time": "2022-09-23T08:52:16.181Z"
   },
   {
    "duration": 91,
    "start_time": "2022-09-23T08:52:16.197Z"
   },
   {
    "duration": 13,
    "start_time": "2022-09-23T08:52:16.290Z"
   },
   {
    "duration": 4,
    "start_time": "2022-09-23T09:20:18.252Z"
   },
   {
    "duration": 8,
    "start_time": "2022-09-23T09:20:18.738Z"
   },
   {
    "duration": 1685,
    "start_time": "2022-09-24T06:35:56.634Z"
   },
   {
    "duration": 188,
    "start_time": "2022-09-24T06:35:58.321Z"
   },
   {
    "duration": 33,
    "start_time": "2022-09-24T06:35:58.511Z"
   },
   {
    "duration": 3,
    "start_time": "2022-09-24T06:35:58.546Z"
   },
   {
    "duration": 33,
    "start_time": "2022-09-24T06:35:58.551Z"
   },
   {
    "duration": 20,
    "start_time": "2022-09-24T06:35:58.586Z"
   },
   {
    "duration": 8,
    "start_time": "2022-09-24T06:35:58.968Z"
   },
   {
    "duration": 9,
    "start_time": "2022-09-24T06:35:59.148Z"
   },
   {
    "duration": 9,
    "start_time": "2022-09-24T06:35:59.337Z"
   },
   {
    "duration": 220,
    "start_time": "2022-09-24T06:35:59.758Z"
   },
   {
    "duration": 239,
    "start_time": "2022-09-24T06:36:00.188Z"
   },
   {
    "duration": 6,
    "start_time": "2022-09-24T06:36:00.771Z"
   },
   {
    "duration": 229,
    "start_time": "2022-09-24T06:36:00.940Z"
   },
   {
    "duration": 5,
    "start_time": "2022-09-24T06:36:02.135Z"
   },
   {
    "duration": 767,
    "start_time": "2022-09-24T06:36:02.507Z"
   },
   {
    "duration": 403,
    "start_time": "2022-09-24T06:36:03.276Z"
   },
   {
    "duration": 4,
    "start_time": "2022-09-24T06:36:09.997Z"
   },
   {
    "duration": 11,
    "start_time": "2022-09-24T06:36:10.152Z"
   },
   {
    "duration": 10,
    "start_time": "2022-09-24T06:36:11.765Z"
   },
   {
    "duration": 6,
    "start_time": "2022-09-24T06:36:12.068Z"
   },
   {
    "duration": 4,
    "start_time": "2022-09-24T06:36:12.813Z"
   },
   {
    "duration": 2,
    "start_time": "2022-09-24T06:36:13.149Z"
   },
   {
    "duration": 27778,
    "start_time": "2022-09-24T06:36:14.378Z"
   },
   {
    "duration": 4,
    "start_time": "2022-09-24T06:36:42.158Z"
   },
   {
    "duration": 1980,
    "start_time": "2022-09-24T06:36:42.164Z"
   },
   {
    "duration": 3,
    "start_time": "2022-09-24T06:36:47.110Z"
   },
   {
    "duration": 3,
    "start_time": "2022-09-24T06:36:49.353Z"
   },
   {
    "duration": 19808,
    "start_time": "2022-09-24T06:36:50.586Z"
   },
   {
    "duration": 3,
    "start_time": "2022-09-24T06:37:38.500Z"
   },
   {
    "duration": 1918,
    "start_time": "2022-09-24T06:37:38.676Z"
   },
   {
    "duration": 98,
    "start_time": "2022-09-24T06:37:40.596Z"
   },
   {
    "duration": 8567,
    "start_time": "2022-09-24T06:37:40.696Z"
   },
   {
    "duration": 3,
    "start_time": "2022-09-24T06:37:49.265Z"
   },
   {
    "duration": 902,
    "start_time": "2022-09-24T06:37:49.270Z"
   },
   {
    "duration": 93,
    "start_time": "2022-09-24T06:37:50.174Z"
   },
   {
    "duration": 487957,
    "start_time": "2022-09-24T06:37:50.269Z"
   },
   {
    "duration": 3,
    "start_time": "2022-09-24T06:45:58.228Z"
   },
   {
    "duration": 2994,
    "start_time": "2022-09-24T06:45:58.233Z"
   },
   {
    "duration": 11,
    "start_time": "2022-09-24T06:46:01.229Z"
   },
   {
    "duration": 29,
    "start_time": "2022-09-24T06:46:01.241Z"
   },
   {
    "duration": 205,
    "start_time": "2022-09-24T06:46:01.272Z"
   },
   {
    "duration": 277,
    "start_time": "2022-09-24T06:46:01.480Z"
   },
   {
    "duration": 4,
    "start_time": "2022-09-24T06:46:01.759Z"
   },
   {
    "duration": 90,
    "start_time": "2022-09-24T06:46:01.766Z"
   },
   {
    "duration": 24,
    "start_time": "2022-09-24T06:46:01.858Z"
   },
   {
    "duration": 72,
    "start_time": "2022-09-24T06:46:01.883Z"
   },
   {
    "duration": 5,
    "start_time": "2022-09-24T06:46:01.957Z"
   },
   {
    "duration": 56,
    "start_time": "2022-09-24T06:46:01.964Z"
   },
   {
    "duration": 0,
    "start_time": "2022-09-24T06:46:02.022Z"
   },
   {
    "duration": 4,
    "start_time": "2022-09-24T07:01:19.709Z"
   },
   {
    "duration": 1665,
    "start_time": "2022-09-26T09:52:20.945Z"
   },
   {
    "duration": 127,
    "start_time": "2022-09-26T09:52:22.613Z"
   },
   {
    "duration": 36,
    "start_time": "2022-09-26T09:52:22.743Z"
   },
   {
    "duration": 7,
    "start_time": "2022-09-26T09:52:22.781Z"
   },
   {
    "duration": 30,
    "start_time": "2022-09-26T09:52:22.790Z"
   },
   {
    "duration": 20,
    "start_time": "2022-09-26T09:52:22.822Z"
   },
   {
    "duration": 49,
    "start_time": "2022-09-26T09:52:22.844Z"
   },
   {
    "duration": 26,
    "start_time": "2022-09-26T09:52:22.894Z"
   },
   {
    "duration": 28,
    "start_time": "2022-09-26T09:52:22.922Z"
   },
   {
    "duration": 256,
    "start_time": "2022-09-26T09:52:22.952Z"
   },
   {
    "duration": 176,
    "start_time": "2022-09-26T09:52:23.210Z"
   },
   {
    "duration": 5,
    "start_time": "2022-09-26T09:52:23.387Z"
   },
   {
    "duration": 313,
    "start_time": "2022-09-26T09:52:23.394Z"
   },
   {
    "duration": 5,
    "start_time": "2022-09-26T09:52:23.708Z"
   },
   {
    "duration": 775,
    "start_time": "2022-09-26T09:52:23.720Z"
   },
   {
    "duration": 398,
    "start_time": "2022-09-26T09:52:24.497Z"
   },
   {
    "duration": 4,
    "start_time": "2022-09-26T09:52:24.897Z"
   },
   {
    "duration": 24,
    "start_time": "2022-09-26T09:52:24.903Z"
   },
   {
    "duration": 8,
    "start_time": "2022-09-26T09:52:24.928Z"
   },
   {
    "duration": 5,
    "start_time": "2022-09-26T09:52:24.937Z"
   },
   {
    "duration": 7,
    "start_time": "2022-09-26T09:52:24.944Z"
   },
   {
    "duration": 6,
    "start_time": "2022-09-26T09:52:24.952Z"
   },
   {
    "duration": 21723,
    "start_time": "2022-09-26T09:52:24.960Z"
   },
   {
    "duration": 4,
    "start_time": "2022-09-26T09:52:46.685Z"
   },
   {
    "duration": 2085,
    "start_time": "2022-09-26T09:52:46.690Z"
   },
   {
    "duration": 109,
    "start_time": "2022-09-26T09:52:48.777Z"
   },
   {
    "duration": 494632,
    "start_time": "2022-09-26T09:52:48.889Z"
   },
   {
    "duration": 3,
    "start_time": "2022-09-26T10:01:03.525Z"
   },
   {
    "duration": 991,
    "start_time": "2022-09-26T10:01:03.529Z"
   },
   {
    "duration": 14,
    "start_time": "2022-09-26T10:01:04.523Z"
   },
   {
    "duration": 462891,
    "start_time": "2022-09-26T10:01:04.539Z"
   },
   {
    "duration": 3,
    "start_time": "2022-09-26T10:08:47.432Z"
   },
   {
    "duration": 3659,
    "start_time": "2022-09-26T10:08:47.437Z"
   },
   {
    "duration": 11,
    "start_time": "2022-09-26T10:08:51.097Z"
   },
   {
    "duration": 9,
    "start_time": "2022-09-26T10:08:51.110Z"
   },
   {
    "duration": 104,
    "start_time": "2022-09-26T10:08:51.120Z"
   },
   {
    "duration": 143,
    "start_time": "2022-09-26T10:08:51.227Z"
   },
   {
    "duration": 51,
    "start_time": "2022-09-26T10:08:51.372Z"
   },
   {
    "duration": 196,
    "start_time": "2022-09-26T10:08:51.425Z"
   },
   {
    "duration": 0,
    "start_time": "2022-09-26T10:08:51.623Z"
   },
   {
    "duration": 0,
    "start_time": "2022-09-26T10:08:51.624Z"
   },
   {
    "duration": 0,
    "start_time": "2022-09-26T10:08:51.626Z"
   },
   {
    "duration": 0,
    "start_time": "2022-09-26T10:08:51.628Z"
   },
   {
    "duration": 0,
    "start_time": "2022-09-26T10:08:51.629Z"
   },
   {
    "duration": 4,
    "start_time": "2022-09-26T11:06:08.521Z"
   },
   {
    "duration": 9,
    "start_time": "2022-09-26T11:06:09.304Z"
   },
   {
    "duration": 11,
    "start_time": "2022-09-26T11:06:13.300Z"
   },
   {
    "duration": 5,
    "start_time": "2022-09-26T11:06:14.391Z"
   },
   {
    "duration": 5,
    "start_time": "2022-09-26T11:06:15.071Z"
   },
   {
    "duration": 9,
    "start_time": "2022-09-26T11:06:15.859Z"
   },
   {
    "duration": 9,
    "start_time": "2022-09-26T11:06:33.984Z"
   },
   {
    "duration": 621,
    "start_time": "2022-09-26T11:06:45.002Z"
   },
   {
    "duration": 1762,
    "start_time": "2022-10-10T16:28:05.627Z"
   },
   {
    "duration": 118,
    "start_time": "2022-10-10T16:28:07.391Z"
   },
   {
    "duration": 33,
    "start_time": "2022-10-10T16:28:07.511Z"
   },
   {
    "duration": 3,
    "start_time": "2022-10-10T16:28:07.547Z"
   },
   {
    "duration": 10,
    "start_time": "2022-10-10T16:28:07.552Z"
   },
   {
    "duration": 9,
    "start_time": "2022-10-10T16:28:07.564Z"
   },
   {
    "duration": 9,
    "start_time": "2022-10-10T16:28:08.581Z"
   },
   {
    "duration": 9,
    "start_time": "2022-10-10T16:28:09.147Z"
   },
   {
    "duration": 10,
    "start_time": "2022-10-10T16:28:10.273Z"
   },
   {
    "duration": 231,
    "start_time": "2022-10-10T16:28:11.059Z"
   },
   {
    "duration": 147,
    "start_time": "2022-10-10T16:28:12.484Z"
   },
   {
    "duration": 5,
    "start_time": "2022-10-10T16:28:13.939Z"
   },
   {
    "duration": 286,
    "start_time": "2022-10-10T16:28:14.398Z"
   },
   {
    "duration": 6,
    "start_time": "2022-10-10T16:28:16.266Z"
   },
   {
    "duration": 407,
    "start_time": "2022-10-10T16:28:17.394Z"
   },
   {
    "duration": 303,
    "start_time": "2022-10-10T16:28:27.759Z"
   },
   {
    "duration": 790,
    "start_time": "2022-10-10T16:28:35.904Z"
   },
   {
    "duration": 737,
    "start_time": "2022-10-10T16:54:21.794Z"
   },
   {
    "duration": 4,
    "start_time": "2022-10-10T17:01:45.833Z"
   },
   {
    "duration": 10,
    "start_time": "2022-10-10T17:01:46.325Z"
   },
   {
    "duration": 10,
    "start_time": "2022-10-10T17:01:50.445Z"
   },
   {
    "duration": 9,
    "start_time": "2022-10-10T17:01:59.526Z"
   },
   {
    "duration": 7,
    "start_time": "2022-10-10T17:02:07.295Z"
   },
   {
    "duration": 5,
    "start_time": "2022-10-10T17:02:08.687Z"
   },
   {
    "duration": 4,
    "start_time": "2022-10-10T17:02:09.823Z"
   },
   {
    "duration": 3,
    "start_time": "2022-10-10T17:02:11.329Z"
   },
   {
    "duration": 16030,
    "start_time": "2022-10-10T17:02:14.773Z"
   },
   {
    "duration": 4,
    "start_time": "2022-10-10T17:02:30.805Z"
   },
   {
    "duration": 1557,
    "start_time": "2022-10-10T17:02:30.810Z"
   },
   {
    "duration": 91,
    "start_time": "2022-10-10T17:02:32.369Z"
   },
   {
    "duration": 6978,
    "start_time": "2022-10-10T17:02:32.461Z"
   },
   {
    "duration": 3,
    "start_time": "2022-10-10T17:02:39.520Z"
   },
   {
    "duration": 798,
    "start_time": "2022-10-10T17:02:39.525Z"
   },
   {
    "duration": 98,
    "start_time": "2022-10-10T17:02:40.325Z"
   },
   {
    "duration": 316205,
    "start_time": "2022-10-10T17:02:40.425Z"
   },
   {
    "duration": 3,
    "start_time": "2022-10-10T17:07:56.632Z"
   },
   {
    "duration": 2815,
    "start_time": "2022-10-10T17:07:56.637Z"
   },
   {
    "duration": 10,
    "start_time": "2022-10-10T17:07:59.453Z"
   },
   {
    "duration": 9,
    "start_time": "2022-10-10T17:07:59.464Z"
   },
   {
    "duration": 48,
    "start_time": "2022-10-10T17:07:59.474Z"
   },
   {
    "duration": 140,
    "start_time": "2022-10-10T17:07:59.524Z"
   },
   {
    "duration": 3,
    "start_time": "2022-10-10T17:07:59.666Z"
   },
   {
    "duration": 54,
    "start_time": "2022-10-10T17:07:59.671Z"
   },
   {
    "duration": 12,
    "start_time": "2022-10-10T17:07:59.727Z"
   },
   {
    "duration": 82,
    "start_time": "2022-10-10T17:07:59.741Z"
   },
   {
    "duration": 4,
    "start_time": "2022-10-10T17:07:59.825Z"
   },
   {
    "duration": 18,
    "start_time": "2022-10-10T17:07:59.831Z"
   },
   {
    "duration": 5,
    "start_time": "2022-10-10T17:10:38.673Z"
   },
   {
    "duration": 6,
    "start_time": "2022-10-10T17:10:50.523Z"
   },
   {
    "duration": 442,
    "start_time": "2022-10-11T06:50:58.989Z"
   },
   {
    "duration": 1938,
    "start_time": "2022-10-11T12:13:03.513Z"
   },
   {
    "duration": 136,
    "start_time": "2022-10-11T12:13:05.453Z"
   },
   {
    "duration": 30,
    "start_time": "2022-10-11T12:13:05.591Z"
   },
   {
    "duration": 4,
    "start_time": "2022-10-11T12:13:05.622Z"
   },
   {
    "duration": 11,
    "start_time": "2022-10-11T12:13:05.627Z"
   },
   {
    "duration": 5,
    "start_time": "2022-10-11T12:13:05.640Z"
   },
   {
    "duration": 10,
    "start_time": "2022-10-11T12:13:05.647Z"
   },
   {
    "duration": 37,
    "start_time": "2022-10-11T12:13:05.658Z"
   },
   {
    "duration": 9,
    "start_time": "2022-10-11T12:13:06.122Z"
   },
   {
    "duration": 219,
    "start_time": "2022-10-11T12:13:06.241Z"
   },
   {
    "duration": 204,
    "start_time": "2022-10-11T12:13:06.461Z"
   },
   {
    "duration": 6,
    "start_time": "2022-10-11T12:13:06.667Z"
   },
   {
    "duration": 302,
    "start_time": "2022-10-11T12:13:06.676Z"
   },
   {
    "duration": 4,
    "start_time": "2022-10-11T12:13:06.980Z"
   },
   {
    "duration": 709,
    "start_time": "2022-10-11T12:13:06.986Z"
   },
   {
    "duration": 381,
    "start_time": "2022-10-11T12:13:07.697Z"
   },
   {
    "duration": 5,
    "start_time": "2022-10-11T12:13:08.080Z"
   },
   {
    "duration": 11,
    "start_time": "2022-10-11T12:13:08.096Z"
   },
   {
    "duration": 9,
    "start_time": "2022-10-11T12:13:08.109Z"
   },
   {
    "duration": 5,
    "start_time": "2022-10-11T12:13:08.119Z"
   },
   {
    "duration": 5,
    "start_time": "2022-10-11T12:13:08.126Z"
   },
   {
    "duration": 6,
    "start_time": "2022-10-11T12:13:08.132Z"
   },
   {
    "duration": 14990,
    "start_time": "2022-10-11T12:13:08.665Z"
   },
   {
    "duration": 4,
    "start_time": "2022-10-11T12:13:23.657Z"
   },
   {
    "duration": 1423,
    "start_time": "2022-10-11T12:13:23.662Z"
   },
   {
    "duration": 95,
    "start_time": "2022-10-11T12:13:25.088Z"
   },
   {
    "duration": 1815617,
    "start_time": "2022-10-11T12:13:25.185Z"
   },
   {
    "duration": 3,
    "start_time": "2022-10-11T12:43:40.803Z"
   },
   {
    "duration": 242293,
    "start_time": "2022-10-11T12:43:40.808Z"
   },
   {
    "duration": 94,
    "start_time": "2022-10-11T12:47:43.103Z"
   },
   {
    "duration": 310357,
    "start_time": "2022-10-11T12:47:43.199Z"
   },
   {
    "duration": 4,
    "start_time": "2022-10-11T12:52:53.558Z"
   },
   {
    "duration": 2581,
    "start_time": "2022-10-11T12:52:53.563Z"
   },
   {
    "duration": 10,
    "start_time": "2022-10-11T12:52:56.146Z"
   },
   {
    "duration": 8,
    "start_time": "2022-10-11T12:52:56.157Z"
   },
   {
    "duration": 28,
    "start_time": "2022-10-11T12:52:56.167Z"
   },
   {
    "duration": 129,
    "start_time": "2022-10-11T12:52:56.197Z"
   },
   {
    "duration": 4,
    "start_time": "2022-10-11T12:52:56.394Z"
   },
   {
    "duration": 208,
    "start_time": "2022-10-11T12:52:56.400Z"
   },
   {
    "duration": 49,
    "start_time": "2022-10-11T19:22:41.013Z"
   },
   {
    "duration": 1885,
    "start_time": "2022-10-11T19:22:47.680Z"
   },
   {
    "duration": 286,
    "start_time": "2022-10-11T19:22:49.915Z"
   },
   {
    "duration": 44,
    "start_time": "2022-10-11T19:22:50.205Z"
   },
   {
    "duration": 4,
    "start_time": "2022-10-11T19:22:50.251Z"
   },
   {
    "duration": 10,
    "start_time": "2022-10-11T19:22:50.257Z"
   },
   {
    "duration": 4,
    "start_time": "2022-10-11T19:23:03.238Z"
   },
   {
    "duration": 11,
    "start_time": "2022-10-11T19:23:06.543Z"
   },
   {
    "duration": 12,
    "start_time": "2022-10-11T19:23:08.463Z"
   },
   {
    "duration": 9,
    "start_time": "2022-10-11T19:23:27.329Z"
   },
   {
    "duration": 14,
    "start_time": "2022-10-11T19:23:40.828Z"
   },
   {
    "duration": 13,
    "start_time": "2022-10-11T19:23:50.919Z"
   },
   {
    "duration": 265,
    "start_time": "2022-10-11T19:24:10.073Z"
   },
   {
    "duration": 189,
    "start_time": "2022-10-11T19:24:17.316Z"
   },
   {
    "duration": 259,
    "start_time": "2022-10-11T19:24:25.838Z"
   },
   {
    "duration": 184,
    "start_time": "2022-10-11T19:24:30.478Z"
   },
   {
    "duration": 3,
    "start_time": "2022-10-11T19:24:52.479Z"
   },
   {
    "duration": 5,
    "start_time": "2022-10-11T19:25:11.724Z"
   },
   {
    "duration": 247,
    "start_time": "2022-10-11T19:25:20.548Z"
   },
   {
    "duration": 742,
    "start_time": "2022-10-11T19:29:20.864Z"
   },
   {
    "duration": 6,
    "start_time": "2022-10-11T19:30:51.905Z"
   },
   {
    "duration": 6,
    "start_time": "2022-10-11T19:31:06.724Z"
   },
   {
    "duration": 6,
    "start_time": "2022-10-11T19:31:07.638Z"
   },
   {
    "duration": 710,
    "start_time": "2022-10-11T19:31:09.750Z"
   },
   {
    "duration": 10,
    "start_time": "2022-10-11T19:31:17.121Z"
   },
   {
    "duration": 15,
    "start_time": "2022-10-11T19:31:19.605Z"
   },
   {
    "duration": 19,
    "start_time": "2022-10-11T19:31:22.883Z"
   },
   {
    "duration": 11,
    "start_time": "2022-10-11T19:31:23.584Z"
   },
   {
    "duration": 9,
    "start_time": "2022-10-11T19:31:26.397Z"
   },
   {
    "duration": 3,
    "start_time": "2022-10-11T19:31:28.354Z"
   },
   {
    "duration": 16811,
    "start_time": "2022-10-11T19:31:31.300Z"
   },
   {
    "duration": 4,
    "start_time": "2022-10-11T19:31:48.113Z"
   },
   {
    "duration": 1524,
    "start_time": "2022-10-11T19:33:16.594Z"
   },
   {
    "duration": 107,
    "start_time": "2022-10-11T19:33:18.120Z"
   },
   {
    "duration": 1727,
    "start_time": "2022-10-11T19:53:25.224Z"
   },
   {
    "duration": 68,
    "start_time": "2022-10-11T19:53:26.954Z"
   },
   {
    "duration": 35,
    "start_time": "2022-10-11T19:53:27.028Z"
   },
   {
    "duration": 3,
    "start_time": "2022-10-11T19:53:27.065Z"
   },
   {
    "duration": 24,
    "start_time": "2022-10-11T19:53:27.071Z"
   },
   {
    "duration": 42,
    "start_time": "2022-10-11T19:53:27.100Z"
   },
   {
    "duration": 27,
    "start_time": "2022-10-11T19:53:27.144Z"
   },
   {
    "duration": 17,
    "start_time": "2022-10-11T19:53:27.172Z"
   },
   {
    "duration": 45,
    "start_time": "2022-10-11T19:53:27.195Z"
   },
   {
    "duration": 20,
    "start_time": "2022-10-11T19:53:27.242Z"
   },
   {
    "duration": 321,
    "start_time": "2022-10-11T19:53:27.264Z"
   },
   {
    "duration": 187,
    "start_time": "2022-10-11T19:53:27.588Z"
   },
   {
    "duration": 3,
    "start_time": "2022-10-11T19:53:27.777Z"
   },
   {
    "duration": 14,
    "start_time": "2022-10-11T19:53:27.791Z"
   },
   {
    "duration": 31,
    "start_time": "2022-10-11T19:53:27.814Z"
   },
   {
    "duration": 882,
    "start_time": "2022-10-11T19:53:27.847Z"
   },
   {
    "duration": 6,
    "start_time": "2022-10-11T19:53:28.731Z"
   },
   {
    "duration": 25,
    "start_time": "2022-10-11T19:53:28.738Z"
   },
   {
    "duration": 14,
    "start_time": "2022-10-11T19:53:28.766Z"
   },
   {
    "duration": 24,
    "start_time": "2022-10-11T19:53:28.782Z"
   },
   {
    "duration": 40,
    "start_time": "2022-10-11T19:53:28.807Z"
   },
   {
    "duration": 12,
    "start_time": "2022-10-11T19:53:28.849Z"
   },
   {
    "duration": 18063,
    "start_time": "2022-10-11T19:53:28.863Z"
   },
   {
    "duration": 5,
    "start_time": "2022-10-11T19:53:46.928Z"
   },
   {
    "duration": 1787,
    "start_time": "2022-10-11T19:53:46.935Z"
   },
   {
    "duration": 89,
    "start_time": "2022-10-11T19:53:48.726Z"
   },
   {
    "duration": 1685,
    "start_time": "2022-10-11T20:13:25.542Z"
   },
   {
    "duration": 52,
    "start_time": "2022-10-11T20:13:27.229Z"
   },
   {
    "duration": 33,
    "start_time": "2022-10-11T20:13:27.928Z"
   },
   {
    "duration": 3,
    "start_time": "2022-10-11T20:13:27.963Z"
   },
   {
    "duration": 11,
    "start_time": "2022-10-11T20:13:27.984Z"
   },
   {
    "duration": 34,
    "start_time": "2022-10-11T20:13:27.997Z"
   },
   {
    "duration": 14,
    "start_time": "2022-10-11T20:13:30.184Z"
   },
   {
    "duration": 10,
    "start_time": "2022-10-11T20:13:30.728Z"
   },
   {
    "duration": 22,
    "start_time": "2022-10-11T20:13:31.210Z"
   },
   {
    "duration": 13,
    "start_time": "2022-10-11T20:13:31.616Z"
   },
   {
    "duration": 324,
    "start_time": "2022-10-11T20:13:32.380Z"
   },
   {
    "duration": 237,
    "start_time": "2022-10-11T20:13:33.505Z"
   },
   {
    "duration": 365,
    "start_time": "2022-10-11T20:14:01.165Z"
   },
   {
    "duration": 209,
    "start_time": "2022-10-11T20:14:04.869Z"
   },
   {
    "duration": 5,
    "start_time": "2022-10-11T20:14:11.432Z"
   },
   {
    "duration": 7,
    "start_time": "2022-10-11T20:14:11.932Z"
   },
   {
    "duration": 8,
    "start_time": "2022-10-11T20:14:12.577Z"
   },
   {
    "duration": 764,
    "start_time": "2022-10-11T20:14:13.842Z"
   },
   {
    "duration": 8,
    "start_time": "2022-10-11T20:14:25.706Z"
   },
   {
    "duration": 14,
    "start_time": "2022-10-11T20:14:26.516Z"
   },
   {
    "duration": 19,
    "start_time": "2022-10-11T20:14:29.897Z"
   },
   {
    "duration": 7,
    "start_time": "2022-10-11T20:14:30.468Z"
   },
   {
    "duration": 5,
    "start_time": "2022-10-11T20:14:33.777Z"
   },
   {
    "duration": 3,
    "start_time": "2022-10-11T20:14:35.525Z"
   },
   {
    "duration": 17301,
    "start_time": "2022-10-11T20:14:38.083Z"
   },
   {
    "duration": 3,
    "start_time": "2022-10-11T20:14:57.778Z"
   },
   {
    "duration": 1668,
    "start_time": "2022-10-11T20:14:59.375Z"
   },
   {
    "duration": 88,
    "start_time": "2022-10-11T20:15:03.565Z"
   },
   {
    "duration": 1810,
    "start_time": "2022-10-11T20:39:51.238Z"
   },
   {
    "duration": 68,
    "start_time": "2022-10-11T20:39:53.050Z"
   },
   {
    "duration": 39,
    "start_time": "2022-10-11T20:39:53.124Z"
   },
   {
    "duration": 4,
    "start_time": "2022-10-11T20:39:53.166Z"
   },
   {
    "duration": 18,
    "start_time": "2022-10-11T20:39:53.172Z"
   },
   {
    "duration": 36,
    "start_time": "2022-10-11T20:39:53.192Z"
   },
   {
    "duration": 24,
    "start_time": "2022-10-11T20:39:53.231Z"
   },
   {
    "duration": 9,
    "start_time": "2022-10-11T20:39:53.257Z"
   },
   {
    "duration": 360,
    "start_time": "2022-10-11T20:39:53.268Z"
   },
   {
    "duration": 186,
    "start_time": "2022-10-11T20:39:53.631Z"
   },
   {
    "duration": 10,
    "start_time": "2022-10-11T20:39:53.818Z"
   },
   {
    "duration": 9,
    "start_time": "2022-10-11T20:39:53.833Z"
   },
   {
    "duration": 9,
    "start_time": "2022-10-11T20:39:53.844Z"
   },
   {
    "duration": 917,
    "start_time": "2022-10-11T20:39:53.856Z"
   },
   {
    "duration": 8,
    "start_time": "2022-10-11T20:39:54.776Z"
   },
   {
    "duration": 62,
    "start_time": "2022-10-11T20:39:54.786Z"
   },
   {
    "duration": 9,
    "start_time": "2022-10-11T20:39:54.850Z"
   },
   {
    "duration": 6,
    "start_time": "2022-10-11T20:39:54.861Z"
   },
   {
    "duration": 7,
    "start_time": "2022-10-11T20:39:54.869Z"
   },
   {
    "duration": 23,
    "start_time": "2022-10-11T20:39:54.878Z"
   },
   {
    "duration": 17112,
    "start_time": "2022-10-11T20:39:54.909Z"
   },
   {
    "duration": 12,
    "start_time": "2022-10-11T20:40:12.027Z"
   },
   {
    "duration": 1628,
    "start_time": "2022-10-11T20:40:12.043Z"
   },
   {
    "duration": 86,
    "start_time": "2022-10-11T20:40:13.673Z"
   },
   {
    "duration": 12,
    "start_time": "2022-10-11T20:50:36.164Z"
   },
   {
    "duration": 0,
    "start_time": "2022-10-11T20:50:36.178Z"
   },
   {
    "duration": 0,
    "start_time": "2022-10-11T20:50:36.180Z"
   },
   {
    "duration": 0,
    "start_time": "2022-10-11T20:50:36.181Z"
   },
   {
    "duration": 0,
    "start_time": "2022-10-11T20:50:36.182Z"
   },
   {
    "duration": 0,
    "start_time": "2022-10-11T20:50:36.184Z"
   },
   {
    "duration": 0,
    "start_time": "2022-10-11T20:50:36.185Z"
   },
   {
    "duration": 0,
    "start_time": "2022-10-11T20:50:36.186Z"
   },
   {
    "duration": 0,
    "start_time": "2022-10-11T20:50:36.188Z"
   },
   {
    "duration": 0,
    "start_time": "2022-10-11T20:50:36.195Z"
   },
   {
    "duration": 0,
    "start_time": "2022-10-11T20:50:36.196Z"
   },
   {
    "duration": 0,
    "start_time": "2022-10-11T20:50:36.198Z"
   },
   {
    "duration": 0,
    "start_time": "2022-10-11T20:50:36.198Z"
   },
   {
    "duration": 0,
    "start_time": "2022-10-11T20:50:36.199Z"
   },
   {
    "duration": 0,
    "start_time": "2022-10-11T20:50:36.200Z"
   },
   {
    "duration": 0,
    "start_time": "2022-10-11T20:50:36.207Z"
   },
   {
    "duration": 0,
    "start_time": "2022-10-11T20:50:36.209Z"
   },
   {
    "duration": 169832,
    "start_time": "2022-10-11T20:50:42.356Z"
   },
   {
    "duration": 7331,
    "start_time": "2022-10-11T20:53:42.231Z"
   },
   {
    "duration": 10770,
    "start_time": "2022-10-11T20:53:52.969Z"
   },
   {
    "duration": 9,
    "start_time": "2022-10-11T20:54:10.433Z"
   },
   {
    "duration": 13,
    "start_time": "2022-10-11T20:54:12.721Z"
   },
   {
    "duration": 34,
    "start_time": "2022-10-11T20:54:13.249Z"
   },
   {
    "duration": 3,
    "start_time": "2022-10-11T20:54:13.852Z"
   },
   {
    "duration": 12,
    "start_time": "2022-10-11T20:54:17.375Z"
   },
   {
    "duration": 12,
    "start_time": "2022-10-11T20:54:18.060Z"
   },
   {
    "duration": 9,
    "start_time": "2022-10-11T20:54:24.561Z"
   },
   {
    "duration": 5,
    "start_time": "2022-10-11T20:54:25.433Z"
   },
   {
    "duration": 1718,
    "start_time": "2022-10-11T20:56:03.241Z"
   },
   {
    "duration": 68,
    "start_time": "2022-10-11T20:56:04.961Z"
   },
   {
    "duration": 47,
    "start_time": "2022-10-11T20:56:05.031Z"
   },
   {
    "duration": 3,
    "start_time": "2022-10-11T20:56:05.095Z"
   },
   {
    "duration": 47,
    "start_time": "2022-10-11T20:56:05.105Z"
   },
   {
    "duration": 13,
    "start_time": "2022-10-11T20:56:05.154Z"
   },
   {
    "duration": 12,
    "start_time": "2022-10-11T20:56:05.429Z"
   },
   {
    "duration": 10,
    "start_time": "2022-10-11T20:56:05.661Z"
   },
   {
    "duration": 331,
    "start_time": "2022-10-11T20:56:06.094Z"
   },
   {
    "duration": 200,
    "start_time": "2022-10-11T20:56:06.513Z"
   },
   {
    "duration": 3,
    "start_time": "2022-10-11T20:56:07.152Z"
   },
   {
    "duration": 7,
    "start_time": "2022-10-11T20:56:07.353Z"
   },
   {
    "duration": 11,
    "start_time": "2022-10-11T20:56:07.600Z"
   },
   {
    "duration": 838,
    "start_time": "2022-10-11T20:56:08.135Z"
   },
   {
    "duration": 6,
    "start_time": "2022-10-11T20:56:12.172Z"
   },
   {
    "duration": 10,
    "start_time": "2022-10-11T20:56:12.426Z"
   },
   {
    "duration": 8,
    "start_time": "2022-10-11T20:56:14.444Z"
   },
   {
    "duration": 16,
    "start_time": "2022-10-11T20:56:15.005Z"
   },
   {
    "duration": 5,
    "start_time": "2022-10-11T20:56:16.169Z"
   },
   {
    "duration": 3,
    "start_time": "2022-10-11T20:56:16.345Z"
   },
   {
    "duration": 17176,
    "start_time": "2022-10-11T20:56:17.954Z"
   },
   {
    "duration": 4,
    "start_time": "2022-10-11T20:56:35.133Z"
   },
   {
    "duration": 1602,
    "start_time": "2022-10-11T20:56:35.139Z"
   },
   {
    "duration": 98,
    "start_time": "2022-10-11T20:56:36.743Z"
   },
   {
    "duration": 11,
    "start_time": "2022-10-11T20:56:47.965Z"
   },
   {
    "duration": 10,
    "start_time": "2022-10-11T20:56:48.172Z"
   },
   {
    "duration": 88,
    "start_time": "2022-10-11T20:56:48.335Z"
   },
   {
    "duration": 4,
    "start_time": "2022-10-11T20:56:48.979Z"
   },
   {
    "duration": 13,
    "start_time": "2022-10-11T20:56:53.411Z"
   },
   {
    "duration": 4,
    "start_time": "2022-10-11T20:56:53.544Z"
   },
   {
    "duration": 1794,
    "start_time": "2022-10-11T20:58:10.926Z"
   },
   {
    "duration": 52,
    "start_time": "2022-10-11T20:58:12.725Z"
   },
   {
    "duration": 41,
    "start_time": "2022-10-11T20:58:12.779Z"
   },
   {
    "duration": 31,
    "start_time": "2022-10-11T20:58:12.822Z"
   },
   {
    "duration": 15,
    "start_time": "2022-10-11T20:58:12.855Z"
   },
   {
    "duration": 3,
    "start_time": "2022-10-11T20:58:13.084Z"
   },
   {
    "duration": 10,
    "start_time": "2022-10-11T20:58:14.365Z"
   },
   {
    "duration": 7,
    "start_time": "2022-10-11T20:58:14.572Z"
   },
   {
    "duration": 304,
    "start_time": "2022-10-11T20:58:15.174Z"
   },
   {
    "duration": 215,
    "start_time": "2022-10-11T20:58:15.763Z"
   },
   {
    "duration": 4,
    "start_time": "2022-10-11T20:58:16.570Z"
   },
   {
    "duration": 6,
    "start_time": "2022-10-11T20:58:16.772Z"
   },
   {
    "duration": 10,
    "start_time": "2022-10-11T20:58:17.020Z"
   },
   {
    "duration": 969,
    "start_time": "2022-10-11T20:58:17.434Z"
   },
   {
    "duration": 4,
    "start_time": "2022-10-11T20:58:20.834Z"
   },
   {
    "duration": 35,
    "start_time": "2022-10-11T20:58:21.176Z"
   },
   {
    "duration": 13,
    "start_time": "2022-10-11T20:58:24.132Z"
   },
   {
    "duration": 9,
    "start_time": "2022-10-11T20:58:24.452Z"
   },
   {
    "duration": 3,
    "start_time": "2022-10-11T20:58:25.233Z"
   },
   {
    "duration": 4,
    "start_time": "2022-10-11T20:58:25.483Z"
   },
   {
    "duration": 51663,
    "start_time": "2022-10-11T20:58:27.740Z"
   },
   {
    "duration": 5,
    "start_time": "2022-10-11T20:59:19.405Z"
   },
   {
    "duration": 6553,
    "start_time": "2022-10-11T20:59:19.414Z"
   },
   {
    "duration": 96,
    "start_time": "2022-10-11T20:59:25.969Z"
   },
   {
    "duration": 50,
    "start_time": "2022-10-11T20:59:32.045Z"
   },
   {
    "duration": 11,
    "start_time": "2022-10-11T20:59:32.255Z"
   },
   {
    "duration": 458,
    "start_time": "2022-10-11T20:59:33.059Z"
   },
   {
    "duration": 4,
    "start_time": "2022-10-11T20:59:33.667Z"
   },
   {
    "duration": 18,
    "start_time": "2022-10-11T20:59:37.610Z"
   },
   {
    "duration": 5,
    "start_time": "2022-10-11T20:59:37.923Z"
   },
   {
    "duration": 955,
    "start_time": "2022-10-11T21:03:25.743Z"
   },
   {
    "duration": 6,
    "start_time": "2022-10-11T21:03:27.317Z"
   },
   {
    "duration": 20,
    "start_time": "2022-10-11T21:03:30.078Z"
   },
   {
    "duration": 17,
    "start_time": "2022-10-11T21:03:30.224Z"
   },
   {
    "duration": 1606,
    "start_time": "2022-10-11T21:04:16.829Z"
   },
   {
    "duration": 62,
    "start_time": "2022-10-11T21:04:18.437Z"
   },
   {
    "duration": 47,
    "start_time": "2022-10-11T21:04:18.507Z"
   },
   {
    "duration": 6,
    "start_time": "2022-10-11T21:04:18.557Z"
   },
   {
    "duration": 17,
    "start_time": "2022-10-11T21:04:18.565Z"
   },
   {
    "duration": 23,
    "start_time": "2022-10-11T21:04:18.592Z"
   },
   {
    "duration": 18,
    "start_time": "2022-10-11T21:04:18.617Z"
   },
   {
    "duration": 8,
    "start_time": "2022-10-11T21:04:18.637Z"
   },
   {
    "duration": 284,
    "start_time": "2022-10-11T21:04:18.647Z"
   },
   {
    "duration": 205,
    "start_time": "2022-10-11T21:04:18.933Z"
   },
   {
    "duration": 4,
    "start_time": "2022-10-11T21:04:19.140Z"
   },
   {
    "duration": 7,
    "start_time": "2022-10-11T21:04:19.146Z"
   },
   {
    "duration": 5,
    "start_time": "2022-10-11T21:04:19.155Z"
   },
   {
    "duration": 875,
    "start_time": "2022-10-11T21:04:19.162Z"
   },
   {
    "duration": 7,
    "start_time": "2022-10-11T21:04:20.039Z"
   },
   {
    "duration": 35,
    "start_time": "2022-10-11T21:04:20.048Z"
   },
   {
    "duration": 22,
    "start_time": "2022-10-11T21:04:20.085Z"
   },
   {
    "duration": 8,
    "start_time": "2022-10-11T21:04:20.110Z"
   },
   {
    "duration": 6,
    "start_time": "2022-10-11T21:04:20.120Z"
   },
   {
    "duration": 12,
    "start_time": "2022-10-11T21:04:20.128Z"
   },
   {
    "duration": 49186,
    "start_time": "2022-10-11T21:04:20.142Z"
   },
   {
    "duration": 4,
    "start_time": "2022-10-11T21:05:09.330Z"
   },
   {
    "duration": 5389,
    "start_time": "2022-10-11T21:05:09.336Z"
   },
   {
    "duration": 100,
    "start_time": "2022-10-11T21:05:14.726Z"
   },
   {
    "duration": 1657,
    "start_time": "2022-10-11T21:12:45.205Z"
   },
   {
    "duration": 55,
    "start_time": "2022-10-11T21:12:46.864Z"
   },
   {
    "duration": 34,
    "start_time": "2022-10-11T21:12:46.921Z"
   },
   {
    "duration": 3,
    "start_time": "2022-10-11T21:12:47.722Z"
   },
   {
    "duration": 9,
    "start_time": "2022-10-11T21:12:48.004Z"
   },
   {
    "duration": 3,
    "start_time": "2022-10-11T21:12:48.309Z"
   },
   {
    "duration": 9,
    "start_time": "2022-10-11T21:12:49.781Z"
   },
   {
    "duration": 8,
    "start_time": "2022-10-11T21:12:50.110Z"
   },
   {
    "duration": 330,
    "start_time": "2022-10-11T21:12:50.637Z"
   },
   {
    "duration": 188,
    "start_time": "2022-10-11T21:12:51.127Z"
   },
   {
    "duration": 3,
    "start_time": "2022-10-11T21:12:52.038Z"
   },
   {
    "duration": 5,
    "start_time": "2022-10-11T21:12:52.277Z"
   },
   {
    "duration": 5,
    "start_time": "2022-10-11T21:12:52.537Z"
   },
   {
    "duration": 813,
    "start_time": "2022-10-11T21:12:53.132Z"
   },
   {
    "duration": 4,
    "start_time": "2022-10-11T21:12:57.573Z"
   },
   {
    "duration": 31,
    "start_time": "2022-10-11T21:12:58.316Z"
   },
   {
    "duration": 16,
    "start_time": "2022-10-11T21:13:01.621Z"
   },
   {
    "duration": 5,
    "start_time": "2022-10-11T21:13:02.638Z"
   },
   {
    "duration": 9,
    "start_time": "2022-10-11T21:13:04.189Z"
   },
   {
    "duration": 3,
    "start_time": "2022-10-11T21:13:04.941Z"
   },
   {
    "duration": 49991,
    "start_time": "2022-10-11T21:13:07.222Z"
   },
   {
    "duration": 4,
    "start_time": "2022-10-11T21:13:57.215Z"
   },
   {
    "duration": 5328,
    "start_time": "2022-10-11T21:13:57.221Z"
   },
   {
    "duration": 100,
    "start_time": "2022-10-11T21:14:02.551Z"
   },
   {
    "duration": 30,
    "start_time": "2022-10-11T21:14:08.589Z"
   },
   {
    "duration": 8,
    "start_time": "2022-10-11T21:14:08.810Z"
   },
   {
    "duration": 466,
    "start_time": "2022-10-11T21:14:09.045Z"
   },
   {
    "duration": 3,
    "start_time": "2022-10-11T21:14:09.713Z"
   },
   {
    "duration": 8,
    "start_time": "2022-10-11T21:14:14.242Z"
   },
   {
    "duration": 6,
    "start_time": "2022-10-11T21:14:14.409Z"
   },
   {
    "duration": 24,
    "start_time": "2022-10-11T21:14:23.061Z"
   },
   {
    "duration": 149,
    "start_time": "2022-10-11T21:14:23.338Z"
   },
   {
    "duration": 5,
    "start_time": "2022-10-11T21:16:43.890Z"
   },
   {
    "duration": 17,
    "start_time": "2022-10-11T21:17:02.005Z"
   },
   {
    "duration": 5,
    "start_time": "2022-10-11T21:17:03.470Z"
   },
   {
    "duration": 1800,
    "start_time": "2022-10-11T21:18:23.706Z"
   },
   {
    "duration": 55,
    "start_time": "2022-10-11T21:18:25.511Z"
   },
   {
    "duration": 48,
    "start_time": "2022-10-11T21:18:25.567Z"
   },
   {
    "duration": 3,
    "start_time": "2022-10-11T21:18:25.617Z"
   },
   {
    "duration": 14,
    "start_time": "2022-10-11T21:18:25.622Z"
   },
   {
    "duration": 7,
    "start_time": "2022-10-11T21:18:25.638Z"
   },
   {
    "duration": 22,
    "start_time": "2022-10-11T21:18:26.079Z"
   },
   {
    "duration": 9,
    "start_time": "2022-10-11T21:18:26.346Z"
   },
   {
    "duration": 263,
    "start_time": "2022-10-11T21:18:26.766Z"
   },
   {
    "duration": 177,
    "start_time": "2022-10-11T21:18:27.243Z"
   },
   {
    "duration": 4,
    "start_time": "2022-10-11T21:18:27.934Z"
   },
   {
    "duration": 6,
    "start_time": "2022-10-11T21:18:28.173Z"
   },
   {
    "duration": 6,
    "start_time": "2022-10-11T21:18:28.402Z"
   },
   {
    "duration": 825,
    "start_time": "2022-10-11T21:18:28.924Z"
   },
   {
    "duration": 5,
    "start_time": "2022-10-11T21:18:36.574Z"
   },
   {
    "duration": 21,
    "start_time": "2022-10-11T21:18:37.557Z"
   },
   {
    "duration": 15,
    "start_time": "2022-10-11T21:18:43.973Z"
   },
   {
    "duration": 7,
    "start_time": "2022-10-11T21:18:44.253Z"
   },
   {
    "duration": 4,
    "start_time": "2022-10-11T21:18:45.758Z"
   },
   {
    "duration": 2,
    "start_time": "2022-10-11T21:18:47.044Z"
   },
   {
    "duration": 19,
    "start_time": "2022-10-11T21:18:52.925Z"
   },
   {
    "duration": 23,
    "start_time": "2022-10-11T21:18:53.884Z"
   },
   {
    "duration": 506,
    "start_time": "2022-10-11T21:18:55.206Z"
   },
   {
    "duration": 5,
    "start_time": "2022-10-11T21:18:56.406Z"
   },
   {
    "duration": 12,
    "start_time": "2022-10-11T21:19:00.966Z"
   },
   {
    "duration": 5,
    "start_time": "2022-10-11T21:19:01.725Z"
   },
   {
    "duration": 11,
    "start_time": "2022-10-11T21:19:19.288Z"
   },
   {
    "duration": 1400,
    "start_time": "2022-10-12T09:23:07.460Z"
   },
   {
    "duration": 140,
    "start_time": "2022-10-12T09:23:08.862Z"
   },
   {
    "duration": 26,
    "start_time": "2022-10-12T09:23:09.004Z"
   },
   {
    "duration": 4,
    "start_time": "2022-10-12T09:23:09.032Z"
   },
   {
    "duration": 8,
    "start_time": "2022-10-12T09:23:09.038Z"
   },
   {
    "duration": 4,
    "start_time": "2022-10-12T09:23:09.048Z"
   },
   {
    "duration": 8,
    "start_time": "2022-10-12T09:23:10.417Z"
   },
   {
    "duration": 6,
    "start_time": "2022-10-12T09:23:10.427Z"
   },
   {
    "duration": 194,
    "start_time": "2022-10-12T09:23:10.434Z"
   },
   {
    "duration": 126,
    "start_time": "2022-10-12T09:23:15.315Z"
   },
   {
    "duration": 4,
    "start_time": "2022-10-12T09:23:17.685Z"
   },
   {
    "duration": 4,
    "start_time": "2022-10-12T09:23:18.951Z"
   },
   {
    "duration": 5,
    "start_time": "2022-10-12T09:23:19.141Z"
   },
   {
    "duration": 684,
    "start_time": "2022-10-12T09:23:19.511Z"
   },
   {
    "duration": 4,
    "start_time": "2022-10-12T09:23:22.167Z"
   },
   {
    "duration": 18,
    "start_time": "2022-10-12T09:23:22.324Z"
   },
   {
    "duration": 10,
    "start_time": "2022-10-12T09:23:23.729Z"
   },
   {
    "duration": 5,
    "start_time": "2022-10-12T09:23:23.919Z"
   },
   {
    "duration": 3,
    "start_time": "2022-10-12T09:23:24.247Z"
   },
   {
    "duration": 2,
    "start_time": "2022-10-12T09:23:24.399Z"
   },
   {
    "duration": 35610,
    "start_time": "2022-10-12T09:23:25.464Z"
   },
   {
    "duration": 3,
    "start_time": "2022-10-12T09:24:01.075Z"
   },
   {
    "duration": 3871,
    "start_time": "2022-10-12T09:24:01.079Z"
   },
   {
    "duration": 88,
    "start_time": "2022-10-12T09:24:04.952Z"
   },
   {
    "duration": 10561,
    "start_time": "2022-10-12T09:24:07.853Z"
   },
   {
    "duration": 2,
    "start_time": "2022-10-12T09:24:18.416Z"
   },
   {
    "duration": 893,
    "start_time": "2022-10-12T09:24:18.420Z"
   },
   {
    "duration": 95,
    "start_time": "2022-10-12T09:24:19.315Z"
   },
   {
    "duration": 40614,
    "start_time": "2022-10-12T09:24:21.693Z"
   },
   {
    "duration": 8,
    "start_time": "2022-10-12T09:25:02.308Z"
   },
   {
    "duration": 10,
    "start_time": "2022-10-12T09:25:09.530Z"
   },
   {
    "duration": 15,
    "start_time": "2022-10-12T09:25:10.237Z"
   },
   {
    "duration": 265,
    "start_time": "2022-10-12T09:25:10.750Z"
   },
   {
    "duration": 3,
    "start_time": "2022-10-12T09:25:11.306Z"
   },
   {
    "duration": 9,
    "start_time": "2022-10-12T09:25:14.720Z"
   },
   {
    "duration": 3,
    "start_time": "2022-10-12T09:25:15.163Z"
   },
   {
    "duration": 6948,
    "start_time": "2022-10-12T09:40:29.225Z"
   },
   {
    "duration": 14,
    "start_time": "2022-10-12T09:40:36.176Z"
   },
   {
    "duration": 921775,
    "start_time": "2022-10-12T09:40:36.192Z"
   },
   {
    "duration": 3,
    "start_time": "2022-10-12T09:55:57.969Z"
   },
   {
    "duration": 24,
    "start_time": "2022-10-12T09:55:57.974Z"
   },
   {
    "duration": 16,
    "start_time": "2022-10-12T09:55:58.000Z"
   },
   {
    "duration": 2837,
    "start_time": "2022-10-13T10:52:01.906Z"
   }
  ],
  "kernelspec": {
   "display_name": "Python 3 (ipykernel)",
   "language": "python",
   "name": "python3"
  },
  "language_info": {
   "codemirror_mode": {
    "name": "ipython",
    "version": 3
   },
   "file_extension": ".py",
   "mimetype": "text/x-python",
   "name": "python",
   "nbconvert_exporter": "python",
   "pygments_lexer": "ipython3",
   "version": "3.9.12"
  },
  "toc": {
   "base_numbering": 1,
   "nav_menu": {},
   "number_sections": true,
   "sideBar": true,
   "skip_h1_title": true,
   "title_cell": "Содержание",
   "title_sidebar": "Contents",
   "toc_cell": true,
   "toc_position": {},
   "toc_section_display": true,
   "toc_window_display": false
  }
 },
 "nbformat": 4,
 "nbformat_minor": 2
}
